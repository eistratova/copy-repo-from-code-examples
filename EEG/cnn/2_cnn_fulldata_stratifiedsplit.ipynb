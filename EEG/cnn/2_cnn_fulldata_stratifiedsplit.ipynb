{
 "cells": [
  {
   "cell_type": "code",
   "execution_count": null,
   "metadata": {},
   "outputs": [],
   "source": [
    "## EEG signal classification into wake and drowsy using CNN network\n",
    "\n",
    "## adding upsampling through SMOTE & a different network\n",
    "## *** the random sampling is done across all examples, instead of by ID ***\n",
    "\n",
    "## POSSIBLE PROBLEMS & SOLUTIONS:\n",
    "# 1. overfitting (see the plots - how bad ?) \n",
    "# no. of training examples: 83076 (train set) = Train on 74768 samples, validate on 8308 samples\n",
    "# no. of trainable parameters: 4,793,957\n",
    "# => reduce the no. of epochs\n",
    "#    upsample data, \n",
    "#    reduce parameters/ change network, \n",
    "#    use dropout (in last-but-one layer)\n",
    "##   WHERE IS THE LEARNING RATE BEING SPECIFIED ?\n",
    "\n",
    "# 2. issue with parameter values: softmax vs sigmoid,  dense = 1 or 2,  binary or categorical cross-entropy\n",
    "\n",
    "# 3. conversion of CNN output (float) to category (0,1) - why not done by the model?\n",
    "\n",
    "\n",
    "## how to do train test split keeping class distribution similar\n",
    "## use stratified_sampling (keep class ratios similar in train test sets) instead of random sampling\n",
    "# https://datascience.stackexchange.com/questions/32818/train-test-split-of-unbalanced-dataset-classification\n",
    "## class_weight = balanced (giving more weightage to penalties for the smaller class)\n",
    "# https://stackoverflow.com/questions/30972029/how-does-the-class-weight-parameter-in-scikit-learn-work\n",
    "\n",
    "\n",
    "\n",
    "##  INFERENCE: recall is low (0.65) for sleep state (class 1)  ##\n",
    "\n",
    "#(array([0.92174321, 0.89073806]),\n",
    "# array([0.98116972, 0.64823591]),\n",
    "# array([0.95052854, 0.75038098]),\n",
    "# array([8019, 1899]))\n"
   ]
  },
  {
   "cell_type": "code",
   "execution_count": 1,
   "metadata": {},
   "outputs": [
    {
     "name": "stderr",
     "output_type": "stream",
     "text": [
      "/home/intern_eyecare/anaconda3/lib/python3.6/site-packages/h5py/__init__.py:36: FutureWarning: Conversion of the second argument of issubdtype from `float` to `np.floating` is deprecated. In future, it will be treated as `np.float64 == np.dtype(float).type`.\n",
      "  from ._conv import register_converters as _register_converters\n",
      "Using TensorFlow backend.\n",
      "/home/intern_eyecare/anaconda3/lib/python3.6/importlib/_bootstrap.py:219: RuntimeWarning: compiletime version 3.5 of module 'tensorflow.python.framework.fast_tensor_util' does not match runtime version 3.6\n",
      "  return f(*args, **kwds)\n"
     ]
    }
   ],
   "source": [
    "import pandas as pd\n",
    "import numpy as np\n",
    "import os\n",
    "import pickle\n",
    "from scipy import stats\n",
    "import itertools\n",
    "import matplotlib.pyplot as plt\n",
    "from datetime import datetime\n",
    "\n",
    "from sklearn.preprocessing import MinMaxScaler\n",
    "from sklearn.model_selection import train_test_split\n",
    "#from sklearn.cross_validation import train_test_split\n",
    "\n",
    "\n",
    "import keras\n",
    "from keras.models import Sequential\n",
    "from keras.layers import Dense\n",
    "from keras.layers import Flatten\n",
    "from keras.layers.convolutional import Conv1D\n",
    "from keras.layers.convolutional import MaxPooling1D\n"
   ]
  },
  {
   "cell_type": "code",
   "execution_count": 2,
   "metadata": {},
   "outputs": [],
   "source": [
    "file_location=r'/home/intern_eyecare/Desktop/EEG/raw_data' #C:\\Users\\BOL1KOR\\Desktop\\BCI Project\\Pickle_Files\\Pickle_files_eeg'\n",
    "os.chdir(r'/home/intern_eyecare/Desktop/EEG/raw_data') #C:\\Users\\BOL1KOR\\Desktop\\BCI Project\\Pickle_Files\\Pickle_files_eeg')\n"
   ]
  },
  {
   "cell_type": "code",
   "execution_count": 3,
   "metadata": {},
   "outputs": [],
   "source": [
    "dfull = pickle.load(open('raw_EEG_all_patients.pkl', 'rb'))  #raw_EEG_all_patients.pkl"
   ]
  },
  {
   "cell_type": "code",
   "execution_count": 4,
   "metadata": {},
   "outputs": [
    {
     "data": {
      "text/html": [
       "<div>\n",
       "<style scoped>\n",
       "    .dataframe tbody tr th:only-of-type {\n",
       "        vertical-align: middle;\n",
       "    }\n",
       "\n",
       "    .dataframe tbody tr th {\n",
       "        vertical-align: top;\n",
       "    }\n",
       "\n",
       "    .dataframe thead th {\n",
       "        text-align: right;\n",
       "    }\n",
       "</style>\n",
       "<table border=\"1\" class=\"dataframe\">\n",
       "  <thead>\n",
       "    <tr style=\"text-align: right;\">\n",
       "      <th></th>\n",
       "      <th>0</th>\n",
       "      <th>1</th>\n",
       "      <th>2</th>\n",
       "      <th>3</th>\n",
       "      <th>4</th>\n",
       "      <th>5</th>\n",
       "      <th>6</th>\n",
       "      <th>7</th>\n",
       "      <th>8</th>\n",
       "      <th>9</th>\n",
       "      <th>...</th>\n",
       "      <th>2994</th>\n",
       "      <th>2995</th>\n",
       "      <th>2996</th>\n",
       "      <th>2997</th>\n",
       "      <th>2998</th>\n",
       "      <th>2999</th>\n",
       "      <th>pID</th>\n",
       "      <th>day</th>\n",
       "      <th>epoch</th>\n",
       "      <th>class_label</th>\n",
       "    </tr>\n",
       "  </thead>\n",
       "  <tbody>\n",
       "    <tr>\n",
       "      <th>0</th>\n",
       "      <td>9.041758</td>\n",
       "      <td>-6.624176</td>\n",
       "      <td>2.756044</td>\n",
       "      <td>-1.305495</td>\n",
       "      <td>15.134066</td>\n",
       "      <td>-11.942857</td>\n",
       "      <td>-5.850549</td>\n",
       "      <td>3.626374</td>\n",
       "      <td>-3.819780</td>\n",
       "      <td>-24.320879</td>\n",
       "      <td>...</td>\n",
       "      <td>9.041758</td>\n",
       "      <td>2.369231</td>\n",
       "      <td>1.885714</td>\n",
       "      <td>9.041758</td>\n",
       "      <td>7.301099</td>\n",
       "      <td>16.294505</td>\n",
       "      <td>404</td>\n",
       "      <td>2</td>\n",
       "      <td>s1e1</td>\n",
       "      <td>wake</td>\n",
       "    </tr>\n",
       "    <tr>\n",
       "      <th>1</th>\n",
       "      <td>9.428571</td>\n",
       "      <td>13.296703</td>\n",
       "      <td>11.169231</td>\n",
       "      <td>14.167033</td>\n",
       "      <td>6.334066</td>\n",
       "      <td>10.589011</td>\n",
       "      <td>6.817582</td>\n",
       "      <td>10.202198</td>\n",
       "      <td>12.716484</td>\n",
       "      <td>7.107692</td>\n",
       "      <td>...</td>\n",
       "      <td>-28.382418</td>\n",
       "      <td>-14.747253</td>\n",
       "      <td>-23.547253</td>\n",
       "      <td>-23.257143</td>\n",
       "      <td>-13.683516</td>\n",
       "      <td>-7.494505</td>\n",
       "      <td>404</td>\n",
       "      <td>2</td>\n",
       "      <td>s1e2</td>\n",
       "      <td>wake</td>\n",
       "    </tr>\n",
       "    <tr>\n",
       "      <th>2</th>\n",
       "      <td>-0.048352</td>\n",
       "      <td>-7.687912</td>\n",
       "      <td>-14.360440</td>\n",
       "      <td>-17.745055</td>\n",
       "      <td>-21.903297</td>\n",
       "      <td>-16.874725</td>\n",
       "      <td>-16.874725</td>\n",
       "      <td>-12.523077</td>\n",
       "      <td>-12.909890</td>\n",
       "      <td>-15.520879</td>\n",
       "      <td>...</td>\n",
       "      <td>1.305495</td>\n",
       "      <td>3.723077</td>\n",
       "      <td>-6.720879</td>\n",
       "      <td>-4.303297</td>\n",
       "      <td>-6.527473</td>\n",
       "      <td>-4.109890</td>\n",
       "      <td>404</td>\n",
       "      <td>2</td>\n",
       "      <td>s1e3</td>\n",
       "      <td>wake</td>\n",
       "    </tr>\n",
       "  </tbody>\n",
       "</table>\n",
       "<p>3 rows Ã— 3004 columns</p>\n",
       "</div>"
      ],
      "text/plain": [
       "          0          1          2          3          4          5          6  \\\n",
       "0  9.041758  -6.624176   2.756044  -1.305495  15.134066 -11.942857  -5.850549   \n",
       "1  9.428571  13.296703  11.169231  14.167033   6.334066  10.589011   6.817582   \n",
       "2 -0.048352  -7.687912 -14.360440 -17.745055 -21.903297 -16.874725 -16.874725   \n",
       "\n",
       "           7          8          9     ...            2994       2995  \\\n",
       "0   3.626374  -3.819780 -24.320879     ...        9.041758   2.369231   \n",
       "1  10.202198  12.716484   7.107692     ...      -28.382418 -14.747253   \n",
       "2 -12.523077 -12.909890 -15.520879     ...        1.305495   3.723077   \n",
       "\n",
       "        2996       2997       2998       2999  pID  day  epoch  class_label  \n",
       "0   1.885714   9.041758   7.301099  16.294505  404    2   s1e1         wake  \n",
       "1 -23.547253 -23.257143 -13.683516  -7.494505  404    2   s1e2         wake  \n",
       "2  -6.720879  -4.303297  -6.527473  -4.109890  404    2   s1e3         wake  \n",
       "\n",
       "[3 rows x 3004 columns]"
      ]
     },
     "execution_count": 4,
     "metadata": {},
     "output_type": "execute_result"
    }
   ],
   "source": [
    "dfull.head(3)"
   ]
  },
  {
   "cell_type": "code",
   "execution_count": 5,
   "metadata": {},
   "outputs": [],
   "source": [
    "### Convert from 3-class to 2-class ####\n",
    "dfull['class2'] = dfull['class_label']\n",
    "dfull['class2'] = [0 if x == 'wake' else 1 for x in dfull['class2']]"
   ]
  },
  {
   "cell_type": "code",
   "execution_count": 6,
   "metadata": {},
   "outputs": [],
   "source": [
    "## convert selected columns to categories \n",
    "## DO NOT CONVERT 'class2' from numeric to category - this probably gives error in grid search\n",
    "dfull[['class_label']] = dfull[['class_label']].astype('str')        # ,'class2'\n",
    "#dfull[['class_label']] = dfull[['class_label']].astype('category')   # ,'class2'"
   ]
  },
  {
   "cell_type": "code",
   "execution_count": 7,
   "metadata": {},
   "outputs": [
    {
     "data": {
      "text/plain": [
       "class_label\n",
       "sleep_stage_1     2804\n",
       "sleep_stage_2    17799\n",
       "wake             72391\n",
       "dtype: int64"
      ]
     },
     "execution_count": 7,
     "metadata": {},
     "output_type": "execute_result"
    }
   ],
   "source": [
    "dfull.groupby('class_label').size()"
   ]
  },
  {
   "cell_type": "code",
   "execution_count": 8,
   "metadata": {},
   "outputs": [
    {
     "data": {
      "text/html": [
       "<div>\n",
       "<style scoped>\n",
       "    .dataframe tbody tr th:only-of-type {\n",
       "        vertical-align: middle;\n",
       "    }\n",
       "\n",
       "    .dataframe tbody tr th {\n",
       "        vertical-align: top;\n",
       "    }\n",
       "\n",
       "    .dataframe thead th {\n",
       "        text-align: right;\n",
       "    }\n",
       "</style>\n",
       "<table border=\"1\" class=\"dataframe\">\n",
       "  <thead>\n",
       "    <tr style=\"text-align: right;\">\n",
       "      <th></th>\n",
       "      <th>0</th>\n",
       "      <th>1</th>\n",
       "      <th>2</th>\n",
       "      <th>3</th>\n",
       "      <th>4</th>\n",
       "      <th>5</th>\n",
       "      <th>6</th>\n",
       "      <th>7</th>\n",
       "      <th>8</th>\n",
       "      <th>9</th>\n",
       "      <th>...</th>\n",
       "      <th>2994</th>\n",
       "      <th>2995</th>\n",
       "      <th>2996</th>\n",
       "      <th>2997</th>\n",
       "      <th>2998</th>\n",
       "      <th>pID</th>\n",
       "      <th>day</th>\n",
       "      <th>epoch</th>\n",
       "      <th>class_label</th>\n",
       "      <th>class2</th>\n",
       "    </tr>\n",
       "  </thead>\n",
       "  <tbody>\n",
       "    <tr>\n",
       "      <th>0</th>\n",
       "      <td>9.041758</td>\n",
       "      <td>-6.624176</td>\n",
       "      <td>2.756044</td>\n",
       "      <td>-1.305495</td>\n",
       "      <td>15.134066</td>\n",
       "      <td>-11.942857</td>\n",
       "      <td>-5.850549</td>\n",
       "      <td>3.626374</td>\n",
       "      <td>-3.81978</td>\n",
       "      <td>-24.320879</td>\n",
       "      <td>...</td>\n",
       "      <td>9.041758</td>\n",
       "      <td>2.369231</td>\n",
       "      <td>1.885714</td>\n",
       "      <td>9.041758</td>\n",
       "      <td>7.301099</td>\n",
       "      <td>404</td>\n",
       "      <td>2</td>\n",
       "      <td>s1e1</td>\n",
       "      <td>wake</td>\n",
       "      <td>0</td>\n",
       "    </tr>\n",
       "  </tbody>\n",
       "</table>\n",
       "<p>1 rows Ã— 3004 columns</p>\n",
       "</div>"
      ],
      "text/plain": [
       "          0         1         2         3          4          5         6  \\\n",
       "0  9.041758 -6.624176  2.756044 -1.305495  15.134066 -11.942857 -5.850549   \n",
       "\n",
       "          7        8          9   ...        2994      2995      2996  \\\n",
       "0  3.626374 -3.81978 -24.320879   ...    9.041758  2.369231  1.885714   \n",
       "\n",
       "       2997      2998  pID  day  epoch  class_label  class2  \n",
       "0  9.041758  7.301099  404    2   s1e1         wake       0  \n",
       "\n",
       "[1 rows x 3004 columns]"
      ]
     },
     "execution_count": 8,
     "metadata": {},
     "output_type": "execute_result"
    }
   ],
   "source": [
    "## drop column '2999' with NAN values instead of dropping the rows (which will reduce data)\n",
    "dfull = dfull.drop([2999],1)\n",
    "dfull.head(1)"
   ]
  },
  {
   "cell_type": "code",
   "execution_count": null,
   "metadata": {},
   "outputs": [],
   "source": []
  },
  {
   "cell_type": "code",
   "execution_count": 9,
   "metadata": {},
   "outputs": [],
   "source": [
    "## create stratified sets for training & testing\n",
    "X =  dfull.drop(['pID','day','epoch','class_label','class2'], 1) # dfull[['delta','theta','alpha','beta','gamma']]\n",
    "y =  dfull['class2'] "
   ]
  },
  {
   "cell_type": "code",
   "execution_count": 10,
   "metadata": {},
   "outputs": [
    {
     "data": {
      "text/html": [
       "<div>\n",
       "<style scoped>\n",
       "    .dataframe tbody tr th:only-of-type {\n",
       "        vertical-align: middle;\n",
       "    }\n",
       "\n",
       "    .dataframe tbody tr th {\n",
       "        vertical-align: top;\n",
       "    }\n",
       "\n",
       "    .dataframe thead th {\n",
       "        text-align: right;\n",
       "    }\n",
       "</style>\n",
       "<table border=\"1\" class=\"dataframe\">\n",
       "  <thead>\n",
       "    <tr style=\"text-align: right;\">\n",
       "      <th></th>\n",
       "      <th>0</th>\n",
       "      <th>1</th>\n",
       "      <th>2</th>\n",
       "      <th>3</th>\n",
       "      <th>4</th>\n",
       "      <th>5</th>\n",
       "      <th>6</th>\n",
       "      <th>7</th>\n",
       "      <th>8</th>\n",
       "      <th>9</th>\n",
       "      <th>...</th>\n",
       "      <th>2989</th>\n",
       "      <th>2990</th>\n",
       "      <th>2991</th>\n",
       "      <th>2992</th>\n",
       "      <th>2993</th>\n",
       "      <th>2994</th>\n",
       "      <th>2995</th>\n",
       "      <th>2996</th>\n",
       "      <th>2997</th>\n",
       "      <th>2998</th>\n",
       "    </tr>\n",
       "  </thead>\n",
       "  <tbody>\n",
       "    <tr>\n",
       "      <th>0</th>\n",
       "      <td>9.041758</td>\n",
       "      <td>-6.624176</td>\n",
       "      <td>2.756044</td>\n",
       "      <td>-1.305495</td>\n",
       "      <td>15.134066</td>\n",
       "      <td>-11.942857</td>\n",
       "      <td>-5.850549</td>\n",
       "      <td>3.626374</td>\n",
       "      <td>-3.81978</td>\n",
       "      <td>-24.320879</td>\n",
       "      <td>...</td>\n",
       "      <td>40.18022</td>\n",
       "      <td>40.47033</td>\n",
       "      <td>39.6</td>\n",
       "      <td>57.49011</td>\n",
       "      <td>-0.048352</td>\n",
       "      <td>9.041758</td>\n",
       "      <td>2.369231</td>\n",
       "      <td>1.885714</td>\n",
       "      <td>9.041758</td>\n",
       "      <td>7.301099</td>\n",
       "    </tr>\n",
       "  </tbody>\n",
       "</table>\n",
       "<p>1 rows Ã— 2999 columns</p>\n",
       "</div>"
      ],
      "text/plain": [
       "       0         1         2         3          4          5         6     \\\n",
       "0  9.041758 -6.624176  2.756044 -1.305495  15.134066 -11.942857 -5.850549   \n",
       "\n",
       "       7        8          9       ...         2989      2990  2991      2992  \\\n",
       "0  3.626374 -3.81978 -24.320879    ...     40.18022  40.47033  39.6  57.49011   \n",
       "\n",
       "       2993      2994      2995      2996      2997      2998  \n",
       "0 -0.048352  9.041758  2.369231  1.885714  9.041758  7.301099  \n",
       "\n",
       "[1 rows x 2999 columns]"
      ]
     },
     "execution_count": 10,
     "metadata": {},
     "output_type": "execute_result"
    }
   ],
   "source": [
    "X.head(1)"
   ]
  },
  {
   "cell_type": "code",
   "execution_count": 11,
   "metadata": {},
   "outputs": [
    {
     "data": {
      "text/html": [
       "<div>\n",
       "<style scoped>\n",
       "    .dataframe tbody tr th:only-of-type {\n",
       "        vertical-align: middle;\n",
       "    }\n",
       "\n",
       "    .dataframe tbody tr th {\n",
       "        vertical-align: top;\n",
       "    }\n",
       "\n",
       "    .dataframe thead th {\n",
       "        text-align: right;\n",
       "    }\n",
       "</style>\n",
       "<table border=\"1\" class=\"dataframe\">\n",
       "  <thead>\n",
       "    <tr style=\"text-align: right;\">\n",
       "      <th></th>\n",
       "      <th>class2</th>\n",
       "    </tr>\n",
       "  </thead>\n",
       "  <tbody>\n",
       "    <tr>\n",
       "      <th>0</th>\n",
       "      <td>0</td>\n",
       "    </tr>\n",
       "    <tr>\n",
       "      <th>1</th>\n",
       "      <td>0</td>\n",
       "    </tr>\n",
       "  </tbody>\n",
       "</table>\n",
       "</div>"
      ],
      "text/plain": [
       "   class2\n",
       "0       0\n",
       "1       0"
      ]
     },
     "execution_count": 11,
     "metadata": {},
     "output_type": "execute_result"
    }
   ],
   "source": [
    "y = dfull[['class2']]\n",
    "y.head(2)"
   ]
  },
  {
   "cell_type": "code",
   "execution_count": 12,
   "metadata": {},
   "outputs": [],
   "source": [
    "X_train, X_test, y_train, y_test = train_test_split(X, y, test_size=0.2, random_state=0, stratify=y) #stratify=True\n",
    "# use 'stratify=True' for consistent class distribution between training and test sets\n"
   ]
  },
  {
   "cell_type": "code",
   "execution_count": 13,
   "metadata": {},
   "outputs": [
    {
     "name": "stdout",
     "output_type": "stream",
     "text": [
      "\n",
      "class2\n",
      "0    57913\n",
      "1    16482\n",
      "dtype: int64\n",
      "\n",
      "class2\n",
      "0    14478\n",
      "1     4121\n",
      "dtype: int64\n"
     ]
    }
   ],
   "source": [
    "# to test if split is stratified\n",
    "y_tr = pd.DataFrame(y_train)\n",
    "y_ts = pd.DataFrame(y_test)\n",
    "print('')\n",
    "print(y_tr.groupby('class2').size())\n",
    "print('')\n",
    "print(y_ts.groupby('class2').size())"
   ]
  },
  {
   "cell_type": "code",
   "execution_count": null,
   "metadata": {},
   "outputs": [],
   "source": []
  },
  {
   "cell_type": "code",
   "execution_count": null,
   "metadata": {},
   "outputs": [],
   "source": [
    "#### segregate data into train:test set by pat id, then balance the data\n",
    "'''\n",
    "### all patient data ##\n",
    "#ID = dfull['pID']\n",
    "#ID = pd.DataFrame(dfull['pID'].unique())\n",
    "ID = dfull['pID'].unique()\n",
    "#ID.dtype  ## => dtype('O')\n",
    "\n",
    "#Test = dfull[ (dfull.pID == '402') & (dfull.day == '2') ]\n",
    "#Train = dfull[~( (dfull.pID == '402') & (dfull.day == '2') )]\n",
    "\n",
    "np.random.seed(456)\n",
    "msk = np.random.rand(len(ID)) < 0.8\n",
    "\n",
    "trainIDs = pd.DataFrame()\n",
    "testIDs = pd.DataFrame()\n",
    "#trainIDs['pID'] = ID[msk]\n",
    "#testIDs['pID'] = ID[~msk]\n",
    "#trainIDs.reset_index(inplace=True)\n",
    "#testIDs.reset_index(inplace=True)\n",
    "\n",
    "Train = dfull.loc[dfull['pID'].isin(ID[msk])] #pd.DataFrame(getData(trainIDs['pID'],dfull), columns = dfull.columns)\n",
    "Test = dfull.loc[dfull['pID'].isin(ID[~msk])] #pd.DataFrame(getData(testIDs['pID'],dfull), columns = dfull.columns)\n",
    "'''"
   ]
  },
  {
   "cell_type": "code",
   "execution_count": null,
   "metadata": {},
   "outputs": [],
   "source": [
    "'''\n",
    "print(Train.shape)\n",
    "print(Test.shape)\n",
    "\n",
    "## also, check the distribution of class 0 & 1 in the train & test sets\n",
    "print('Train distribution')\n",
    "print(Train.groupby('class2').size())\n",
    "print('')\n",
    "print('Test distribution')\n",
    "print(Test.groupby('class2').size())\n",
    "'''"
   ]
  },
  {
   "cell_type": "code",
   "execution_count": null,
   "metadata": {},
   "outputs": [],
   "source": [
    "'''\n",
    "X_train1 = Train.drop(['pID','day','epoch','class_label','class2'], 1).reset_index()\n",
    "X_test = Test.drop(['pID','day','epoch','class_label','class2'], 1).reset_index()\n",
    "y_train1 = Train['class2'].reset_index()\n",
    "y_test = Test['class2'].reset_index()\n",
    "\n",
    "X_train1 = X_train1.drop(['index'], 1)\n",
    "X_test = X_test.drop(['index'],1)\n",
    "y_train1 = y_train1.drop(['index'],1)\n",
    "y_test = y_test.drop(['index'],1)\n",
    "\n",
    "print(X_train1.head(1))\n",
    "#print(X_test.head(1))\n",
    "print('')\n",
    "print(y_train1.head(1))\n",
    "#print(y_test.head(1))\n",
    "'''"
   ]
  },
  {
   "cell_type": "code",
   "execution_count": null,
   "metadata": {},
   "outputs": [],
   "source": [
    "'''print(y_train1.groupby('class2').size())'''"
   ]
  },
  {
   "cell_type": "code",
   "execution_count": null,
   "metadata": {},
   "outputs": [],
   "source": []
  },
  {
   "cell_type": "code",
   "execution_count": null,
   "metadata": {},
   "outputs": [],
   "source": [
    "'''\n",
    "## upsample training set\n",
    "from imblearn.over_sampling import SMOTE\n",
    "\n",
    "sm = SMOTE(random_state=42)\n",
    "X_train, y_train = sm.fit_resample(X_train1, y_train1)\n",
    "#print('Resampled dataset shape %s' % Counter(y_train))\n",
    "#print(y_train.groupby('class2').size())\n",
    "'''"
   ]
  },
  {
   "cell_type": "code",
   "execution_count": null,
   "metadata": {},
   "outputs": [],
   "source": [
    "'''check_upsample = pd.DataFrame(y_train)\n",
    "check_upsample.head(2)\n",
    "#print(y_train.groupby('class2').size())'''"
   ]
  },
  {
   "cell_type": "code",
   "execution_count": null,
   "metadata": {},
   "outputs": [],
   "source": [
    "'''check_upsample.columns = ['class2']\n",
    "check_upsample.head(2)'''"
   ]
  },
  {
   "cell_type": "code",
   "execution_count": null,
   "metadata": {},
   "outputs": [],
   "source": [
    "#print(check_upsample.groupby('class2').size())"
   ]
  },
  {
   "cell_type": "code",
   "execution_count": null,
   "metadata": {},
   "outputs": [],
   "source": [
    "'''X_tr = pd.DataFrame(X_train)\n",
    "check_upsample = pd.concat([check_upsample,X_tr], axis=1)\n",
    "check_upsample.head(1)'''"
   ]
  },
  {
   "cell_type": "code",
   "execution_count": null,
   "metadata": {},
   "outputs": [],
   "source": [
    "'''## write to file\n",
    "import pickle\n",
    "pickle.dump(check_upsample, open('/home/intern_eyecare/Desktop/EEG/upsampled_data_SMOTE_new_network.pkl','wb'))'''"
   ]
  },
  {
   "cell_type": "code",
   "execution_count": null,
   "metadata": {},
   "outputs": [],
   "source": []
  },
  {
   "cell_type": "code",
   "execution_count": null,
   "metadata": {},
   "outputs": [],
   "source": []
  },
  {
   "cell_type": "code",
   "execution_count": 14,
   "metadata": {},
   "outputs": [],
   "source": [
    "from sklearn.preprocessing import MinMaxScaler, StandardScaler, RobustScaler\n",
    "# http://benalexkeen.com/feature-scaling-with-scikit-learn/\n",
    "# standardscaler: suitable for normally distributed data\n",
    "# minMaxScaler: (x-min)/(max - min)\n",
    "\n",
    "## normalize the data  : can also use other scalers like StandardScaler()\n",
    "scaler = StandardScaler()  #MinMaxScaler()\n",
    "X_train_scaled = scaler.fit_transform(X_train)\n",
    "X_test_scaled = scaler.transform(X_test)\n",
    "#X_train_scaled.shape"
   ]
  },
  {
   "cell_type": "code",
   "execution_count": 15,
   "metadata": {},
   "outputs": [
    {
     "name": "stdout",
     "output_type": "stream",
     "text": [
      "[[[-0.26825948]\n",
      "  [-0.33471209]\n",
      "  [-0.3489641 ]\n",
      "  ...\n",
      "  [ 0.18141309]\n",
      "  [ 0.75909129]\n",
      "  [ 1.30807718]]\n",
      "\n",
      " [[ 0.00394712]\n",
      "  [ 0.21101012]\n",
      "  [-0.04915876]\n",
      "  ...\n",
      "  [-0.02486119]\n",
      "  [-0.06486611]\n",
      "  [-0.18875461]]\n",
      "\n",
      " [[-0.153419  ]\n",
      "  [ 0.030233  ]\n",
      "  [ 0.10481563]\n",
      "  ...\n",
      "  [ 0.27649097]\n",
      "  [ 0.35605971]\n",
      "  [ 0.26923217]]\n",
      "\n",
      " ...\n",
      "\n",
      " [[ 0.01816369]\n",
      "  [ 0.02994084]\n",
      "  [ 0.02026353]\n",
      "  ...\n",
      "  [-0.47650119]\n",
      "  [-0.52718465]\n",
      "  [-0.44757597]]\n",
      "\n",
      " [[-0.58924914]\n",
      "  [-0.38662829]\n",
      "  [-0.4014636 ]\n",
      "  ...\n",
      "  [-0.77584522]\n",
      "  [-0.26751258]\n",
      "  [ 0.04690737]]\n",
      "\n",
      " [[ 1.36466105]\n",
      "  [ 1.69642986]\n",
      "  [ 1.45513203]\n",
      "  ...\n",
      "  [ 0.15431683]\n",
      "  [ 0.10499511]\n",
      "  [ 0.13908103]]]\n"
     ]
    }
   ],
   "source": [
    "## re-shaping tha data for input to conv net\n",
    "# https://stackoverflow.com/questions/43235531/convolutional-neural-network-conv1d-input-shape\n",
    "nrows, ncols = X_train_scaled.shape\n",
    "X_train_array =  X_train_scaled.reshape(nrows, ncols, 1)\n",
    "print(X_train_array)"
   ]
  },
  {
   "cell_type": "code",
   "execution_count": null,
   "metadata": {},
   "outputs": [],
   "source": [
    "#### model building ####"
   ]
  },
  {
   "cell_type": "code",
   "execution_count": 16,
   "metadata": {},
   "outputs": [
    {
     "data": {
      "text/plain": [
       "'2019-01-21 12:24:49'"
      ]
     },
     "execution_count": 16,
     "metadata": {},
     "output_type": "execute_result"
    }
   ],
   "source": [
    "from datetime import datetime\n",
    "datetime.now().strftime('%Y-%m-%d %H:%M:%S')"
   ]
  },
  {
   "cell_type": "code",
   "execution_count": null,
   "metadata": {},
   "outputs": [],
   "source": [
    "'''# define model: 1 conv layer, 1 fully-connected layer, 1 output layer\n",
    "model = Sequential()  ## to initialize NN\n",
    "\n",
    "model.add(Conv1D(filters=64, kernel_size=3, activation='relu', input_shape=(ncols, 1))) \n",
    "model.add(MaxPooling1D(pool_size=2))\n",
    "\n",
    "model.add(Flatten())\n",
    "model.add(Dense(50, activation='relu'))\n",
    "\n",
    "model.add(Dense(1, activation='sigmoid'))  # this is the output layer for binary classification\n",
    "print(model.summary())\n",
    "\n",
    "# compile the model\n",
    "model.compile(optimizer='adam', loss='binary_crossentropy', metrics=['accuracy'])'''"
   ]
  },
  {
   "cell_type": "code",
   "execution_count": 17,
   "metadata": {},
   "outputs": [
    {
     "name": "stdout",
     "output_type": "stream",
     "text": [
      "_________________________________________________________________\n",
      "Layer (type)                 Output Shape              Param #   \n",
      "=================================================================\n",
      "conv1d_1 (Conv1D)            (None, 2997, 32)          128       \n",
      "_________________________________________________________________\n",
      "max_pooling1d_1 (MaxPooling1 (None, 1498, 32)          0         \n",
      "_________________________________________________________________\n",
      "conv1d_2 (Conv1D)            (None, 1496, 32)          3104      \n",
      "_________________________________________________________________\n",
      "max_pooling1d_2 (MaxPooling1 (None, 748, 32)           0         \n",
      "_________________________________________________________________\n",
      "conv1d_3 (Conv1D)            (None, 746, 32)           3104      \n",
      "_________________________________________________________________\n",
      "max_pooling1d_3 (MaxPooling1 (None, 373, 32)           0         \n",
      "_________________________________________________________________\n",
      "conv1d_4 (Conv1D)            (None, 371, 32)           3104      \n",
      "_________________________________________________________________\n",
      "max_pooling1d_4 (MaxPooling1 (None, 185, 32)           0         \n",
      "_________________________________________________________________\n",
      "conv1d_5 (Conv1D)            (None, 183, 32)           3104      \n",
      "_________________________________________________________________\n",
      "max_pooling1d_5 (MaxPooling1 (None, 91, 32)            0         \n",
      "_________________________________________________________________\n",
      "flatten_1 (Flatten)          (None, 2912)              0         \n",
      "_________________________________________________________________\n",
      "dense_1 (Dense)              (None, 32)                93216     \n",
      "_________________________________________________________________\n",
      "dense_2 (Dense)              (None, 16)                528       \n",
      "_________________________________________________________________\n",
      "dense_3 (Dense)              (None, 1)                 17        \n",
      "=================================================================\n",
      "Total params: 106,305\n",
      "Trainable params: 106,305\n",
      "Non-trainable params: 0\n",
      "_________________________________________________________________\n",
      "None\n"
     ]
    }
   ],
   "source": [
    "# define model: 5 conv layer, 2 fully-connected layer, 1 output layer\n",
    "model = Sequential()  ## to initialize NN\n",
    "\n",
    "model.add(Conv1D(filters=32, kernel_size=3, activation='relu', input_shape=(ncols, 1))) \n",
    "model.add(MaxPooling1D(pool_size=2))\n",
    "\n",
    "model.add(Conv1D(filters=32, kernel_size=3, activation='relu')) \n",
    "model.add(MaxPooling1D(pool_size=2))\n",
    "\n",
    "model.add(Conv1D(filters=32, kernel_size=3, activation='relu')) \n",
    "model.add(MaxPooling1D(pool_size=2))\n",
    "\n",
    "model.add(Conv1D(filters=32, kernel_size=3, activation='relu')) \n",
    "model.add(MaxPooling1D(pool_size=2))\n",
    "\n",
    "model.add(Conv1D(filters=32, kernel_size=3, activation='relu')) \n",
    "model.add(MaxPooling1D(pool_size=2))\n",
    "\n",
    "model.add(Flatten())\n",
    "model.add(Dense(32, activation='relu'))\n",
    "\n",
    "model.add(Dense(16, activation='relu'))\n",
    "\n",
    "model.add(Dense(1, activation='sigmoid'))  # this is the output layer for binary classification\n",
    "print(model.summary())\n",
    "\n",
    "# compile the model\n",
    "model.compile(optimizer='adam', loss='binary_crossentropy', metrics=['accuracy'])"
   ]
  },
  {
   "cell_type": "code",
   "execution_count": 18,
   "metadata": {},
   "outputs": [
    {
     "name": "stdout",
     "output_type": "stream",
     "text": [
      "Train on 66955 samples, validate on 7440 samples\n",
      "Epoch 1/50\n",
      "66955/66955 [==============================] - 50s 754us/step - loss: 0.1049 - acc: 0.9578 - val_loss: 0.0695 - val_acc: 0.9749\n",
      "Epoch 2/50\n",
      "66955/66955 [==============================] - 46s 682us/step - loss: 0.0516 - acc: 0.9809 - val_loss: 0.0423 - val_acc: 0.9824\n",
      "Epoch 3/50\n",
      "66955/66955 [==============================] - 44s 663us/step - loss: 0.0439 - acc: 0.9836 - val_loss: 0.0412 - val_acc: 0.9845\n",
      "Epoch 4/50\n",
      "66955/66955 [==============================] - 44s 660us/step - loss: 0.0396 - acc: 0.9848 - val_loss: 0.0413 - val_acc: 0.9847\n",
      "Epoch 5/50\n",
      "66955/66955 [==============================] - 44s 651us/step - loss: 0.0363 - acc: 0.9860 - val_loss: 0.0423 - val_acc: 0.9839\n",
      "Epoch 6/50\n",
      "66955/66955 [==============================] - 44s 651us/step - loss: 0.0331 - acc: 0.9877 - val_loss: 0.0437 - val_acc: 0.9841\n",
      "Epoch 7/50\n",
      "66955/66955 [==============================] - 43s 648us/step - loss: 0.0297 - acc: 0.9881 - val_loss: 0.0441 - val_acc: 0.9847\n",
      "Epoch 8/50\n",
      "66955/66955 [==============================] - 44s 651us/step - loss: 0.0262 - acc: 0.9898 - val_loss: 0.0575 - val_acc: 0.9796\n",
      "Epoch 9/50\n",
      "66955/66955 [==============================] - 44s 651us/step - loss: 0.0243 - acc: 0.9906 - val_loss: 0.0622 - val_acc: 0.9817\n",
      "Epoch 10/50\n",
      "66955/66955 [==============================] - 44s 650us/step - loss: 0.0207 - acc: 0.9923 - val_loss: 0.0554 - val_acc: 0.9823\n",
      "Epoch 11/50\n",
      "66955/66955 [==============================] - 44s 655us/step - loss: 0.0171 - acc: 0.9934 - val_loss: 0.0604 - val_acc: 0.9832\n",
      "Epoch 12/50\n",
      "66955/66955 [==============================] - 44s 651us/step - loss: 0.0141 - acc: 0.9947 - val_loss: 0.0653 - val_acc: 0.9825\n",
      "Epoch 13/50\n",
      "66955/66955 [==============================] - 43s 641us/step - loss: 0.0122 - acc: 0.9954 - val_loss: 0.0745 - val_acc: 0.9776\n",
      "Epoch 14/50\n",
      "66955/66955 [==============================] - 44s 654us/step - loss: 0.0120 - acc: 0.9957 - val_loss: 0.0867 - val_acc: 0.9808\n",
      "Epoch 15/50\n",
      "66955/66955 [==============================] - 43s 647us/step - loss: 0.0098 - acc: 0.9964 - val_loss: 0.0732 - val_acc: 0.9828\n",
      "Epoch 16/50\n",
      "66955/66955 [==============================] - 44s 658us/step - loss: 0.0088 - acc: 0.9967 - val_loss: 0.0947 - val_acc: 0.9820\n",
      "Epoch 17/50\n",
      "66955/66955 [==============================] - 43s 644us/step - loss: 0.0090 - acc: 0.9970 - val_loss: 0.0935 - val_acc: 0.9808\n",
      "Epoch 18/50\n",
      "66955/66955 [==============================] - 44s 652us/step - loss: 0.0063 - acc: 0.9978 - val_loss: 0.0956 - val_acc: 0.9786\n",
      "Epoch 19/50\n",
      "66955/66955 [==============================] - 43s 649us/step - loss: 0.0064 - acc: 0.9980 - val_loss: 0.1039 - val_acc: 0.9808\n",
      "Epoch 20/50\n",
      "66955/66955 [==============================] - 44s 655us/step - loss: 0.0076 - acc: 0.9974 - val_loss: 0.0828 - val_acc: 0.9821\n",
      "Epoch 21/50\n",
      "66955/66955 [==============================] - 43s 649us/step - loss: 0.0065 - acc: 0.9979 - val_loss: 0.0796 - val_acc: 0.9831\n",
      "Epoch 22/50\n",
      "66955/66955 [==============================] - 44s 652us/step - loss: 0.0063 - acc: 0.9979 - val_loss: 0.1020 - val_acc: 0.9833\n",
      "Epoch 23/50\n",
      "66955/66955 [==============================] - 43s 649us/step - loss: 0.0037 - acc: 0.9989 - val_loss: 0.1011 - val_acc: 0.9823\n",
      "Epoch 24/50\n",
      "66955/66955 [==============================] - 43s 644us/step - loss: 0.0054 - acc: 0.9981 - val_loss: 0.1073 - val_acc: 0.9837\n",
      "Epoch 25/50\n",
      "66955/66955 [==============================] - 43s 647us/step - loss: 0.0066 - acc: 0.9979 - val_loss: 0.0892 - val_acc: 0.9841\n",
      "Epoch 26/50\n",
      "66955/66955 [==============================] - 44s 651us/step - loss: 0.0051 - acc: 0.9984 - val_loss: 0.0928 - val_acc: 0.9828\n",
      "Epoch 27/50\n",
      "66955/66955 [==============================] - 43s 648us/step - loss: 0.0037 - acc: 0.9988 - val_loss: 0.1102 - val_acc: 0.9820\n",
      "Epoch 28/50\n",
      "66955/66955 [==============================] - 43s 648us/step - loss: 0.0038 - acc: 0.9988 - val_loss: 0.1044 - val_acc: 0.9837\n",
      "Epoch 29/50\n",
      "66955/66955 [==============================] - 44s 654us/step - loss: 0.0059 - acc: 0.9984 - val_loss: 0.1056 - val_acc: 0.9832\n",
      "Epoch 30/50\n",
      "66955/66955 [==============================] - 43s 647us/step - loss: 0.0047 - acc: 0.9985 - val_loss: 0.0840 - val_acc: 0.9835\n",
      "Epoch 31/50\n",
      "66955/66955 [==============================] - 43s 642us/step - loss: 0.0051 - acc: 0.9987 - val_loss: 0.0938 - val_acc: 0.9816\n",
      "Epoch 32/50\n",
      "66955/66955 [==============================] - 44s 656us/step - loss: 0.0028 - acc: 0.9992 - val_loss: 0.1206 - val_acc: 0.9825\n",
      "Epoch 33/50\n",
      "66955/66955 [==============================] - 44s 651us/step - loss: 0.0046 - acc: 0.9988 - val_loss: 0.1036 - val_acc: 0.9805\n",
      "Epoch 34/50\n",
      "66955/66955 [==============================] - 44s 654us/step - loss: 0.0033 - acc: 0.9989 - val_loss: 0.1284 - val_acc: 0.9806\n",
      "Epoch 35/50\n",
      "66955/66955 [==============================] - 43s 646us/step - loss: 0.0047 - acc: 0.9985 - val_loss: 0.1106 - val_acc: 0.9833\n",
      "Epoch 36/50\n",
      "66955/66955 [==============================] - 44s 663us/step - loss: 0.0027 - acc: 0.9990 - val_loss: 0.1021 - val_acc: 0.9831\n",
      "Epoch 37/50\n",
      "66955/66955 [==============================] - 44s 655us/step - loss: 0.0041 - acc: 0.9988 - val_loss: 0.1486 - val_acc: 0.9738\n",
      "Epoch 38/50\n",
      "66955/66955 [==============================] - 44s 657us/step - loss: 0.0021 - acc: 0.9994 - val_loss: 0.1033 - val_acc: 0.9835\n",
      "Epoch 39/50\n",
      "66955/66955 [==============================] - 44s 652us/step - loss: 0.0052 - acc: 0.9984 - val_loss: 0.0955 - val_acc: 0.9824\n",
      "Epoch 40/50\n",
      "66955/66955 [==============================] - 43s 643us/step - loss: 7.5091e-04 - acc: 0.9997 - val_loss: 0.1239 - val_acc: 0.9828\n",
      "Epoch 41/50\n",
      "66955/66955 [==============================] - 43s 648us/step - loss: 5.2863e-05 - acc: 1.0000 - val_loss: 0.1313 - val_acc: 0.9833\n",
      "Epoch 42/50\n",
      "66955/66955 [==============================] - 44s 655us/step - loss: 1.7070e-05 - acc: 1.0000 - val_loss: 0.1399 - val_acc: 0.9828\n",
      "Epoch 43/50\n",
      "66955/66955 [==============================] - 44s 656us/step - loss: 8.0037e-06 - acc: 1.0000 - val_loss: 0.1467 - val_acc: 0.9832\n",
      "Epoch 44/50\n",
      "66955/66955 [==============================] - 44s 652us/step - loss: 3.6137e-06 - acc: 1.0000 - val_loss: 0.1518 - val_acc: 0.9832\n",
      "Epoch 45/50\n",
      "66955/66955 [==============================] - 44s 654us/step - loss: 2.0419e-06 - acc: 1.0000 - val_loss: 0.1582 - val_acc: 0.9827\n",
      "Epoch 46/50\n",
      "66955/66955 [==============================] - 43s 648us/step - loss: 1.2018e-06 - acc: 1.0000 - val_loss: 0.1638 - val_acc: 0.9823\n",
      "Epoch 47/50\n",
      "66955/66955 [==============================] - 44s 653us/step - loss: 6.9081e-07 - acc: 1.0000 - val_loss: 0.1667 - val_acc: 0.9825\n",
      "Epoch 48/50\n",
      "66955/66955 [==============================] - 43s 646us/step - loss: 4.2594e-07 - acc: 1.0000 - val_loss: 0.1703 - val_acc: 0.9827\n",
      "Epoch 49/50\n",
      "66955/66955 [==============================] - 43s 647us/step - loss: 2.9581e-07 - acc: 1.0000 - val_loss: 0.1733 - val_acc: 0.9824\n",
      "Epoch 50/50\n",
      "66955/66955 [==============================] - 43s 647us/step - loss: 2.0744e-07 - acc: 1.0000 - val_loss: 0.1772 - val_acc: 0.9825\n"
     ]
    }
   ],
   "source": [
    "history = model.fit(X_train_array, y_train, epochs=50, batch_size=64, validation_split=0.1, verbose=1)\n",
    "\n",
    "## steps to plot train & validation accuracy & loss\n",
    "#https://stackoverflow.com/questions/41908379/keras-plot-training-validation-and-test-set-accuracy\n",
    "#history = model.fit(x_test, y_test, nb_epoch=10, validation_split=0.2, shuffle=True)"
   ]
  },
  {
   "cell_type": "code",
   "execution_count": 19,
   "metadata": {},
   "outputs": [
    {
     "data": {
      "text/plain": [
       "'2019-01-21 13:01:25'"
      ]
     },
     "execution_count": 19,
     "metadata": {},
     "output_type": "execute_result"
    }
   ],
   "source": [
    "datetime.now().strftime('%Y-%m-%d %H:%M:%S')"
   ]
  },
  {
   "cell_type": "code",
   "execution_count": 20,
   "metadata": {},
   "outputs": [
    {
     "name": "stdout",
     "output_type": "stream",
     "text": [
      "dict_keys(['val_loss', 'val_acc', 'loss', 'acc'])\n"
     ]
    },
    {
     "data": {
      "image/png": "[encoded data removed]",
      "text/plain": [
       "<matplotlib.figure.Figure at 0x7f9b104d49e8>"
      ]
     },
     "metadata": {},
     "output_type": "display_data"
    },
    {
     "data": {
      "image/png": "[encoded data removed]",
      "text/plain": [
       "<matplotlib.figure.Figure at 0x7f9b101feda0>"
      ]
     },
     "metadata": {},
     "output_type": "display_data"
    }
   ],
   "source": [
    "#https://stackoverflow.com/questions/41908379/keras-plot-training-validation-and-test-set-accuracy\n",
    "print(history.history.keys())\n",
    "#  \"Accuracy\"\n",
    "plt.plot(history.history['acc'])\n",
    "plt.plot(history.history['val_acc'])\n",
    "plt.title('model accuracy')\n",
    "plt.ylabel('accuracy')\n",
    "plt.xlabel('epoch')\n",
    "plt.legend(['train', 'validation'], loc='upper left')\n",
    "plt.show()\n",
    "# \"Loss\"\n",
    "plt.plot(history.history['loss'])\n",
    "plt.plot(history.history['val_loss'])\n",
    "plt.title('model loss')\n",
    "plt.ylabel('loss')\n",
    "plt.xlabel('epoch')\n",
    "plt.legend(['train', 'validation'], loc='upper left')\n",
    "plt.show()"
   ]
  },
  {
   "cell_type": "code",
   "execution_count": null,
   "metadata": {},
   "outputs": [],
   "source": [
    "#import pickle\n",
    "#pickle.dump(model, open('/home/intern_eyecare/Desktop/EEG/cnn_model.pkl','wb'))\n",
    "#model.save('/home/intern_eyecare/Desktop/EEG/new_cnn_model_smote.pkl')"
   ]
  },
  {
   "cell_type": "code",
   "execution_count": null,
   "metadata": {},
   "outputs": [],
   "source": []
  },
  {
   "cell_type": "code",
   "execution_count": 21,
   "metadata": {},
   "outputs": [],
   "source": [
    "## predict on test data - check metrics\n",
    "#y_pred = model_svc.predict(X_test_scaled)\n",
    "\n",
    "nrows2, ncols2 = X_test_scaled.shape\n",
    "X_test_array =  X_test_scaled.reshape(nrows2, ncols2, 1)\n",
    "y_pred = model.predict(X_test_array)"
   ]
  },
  {
   "cell_type": "code",
   "execution_count": 22,
   "metadata": {},
   "outputs": [
    {
     "name": "stdout",
     "output_type": "stream",
     "text": [
      "       class2\n",
      "45792       0\n",
      "69618       1\n",
      "\n",
      "       class2\n",
      "15440       0\n",
      "70286       0\n",
      "59407       0\n"
     ]
    }
   ],
   "source": [
    "print(y_test.head(2))\n",
    "print('')\n",
    "print(y_test.tail(3))"
   ]
  },
  {
   "cell_type": "code",
   "execution_count": null,
   "metadata": {},
   "outputs": [],
   "source": [
    "#y_test.dtypes()"
   ]
  },
  {
   "cell_type": "code",
   "execution_count": 23,
   "metadata": {},
   "outputs": [
    {
     "data": {
      "text/plain": [
       "array([[0.       ],\n",
       "       [1.       ],\n",
       "       [0.9687109],\n",
       "       ...,\n",
       "       [0.       ],\n",
       "       [0.       ],\n",
       "       [0.       ]], dtype=float32)"
      ]
     },
     "execution_count": 23,
     "metadata": {},
     "output_type": "execute_result"
    }
   ],
   "source": [
    "y_pred"
   ]
  },
  {
   "cell_type": "code",
   "execution_count": 24,
   "metadata": {},
   "outputs": [
    {
     "name": "stdout",
     "output_type": "stream",
     "text": [
      "     0\n",
      "0  0.0\n",
      "1  1.0\n",
      "\n",
      "         0\n",
      "18597  0.0\n",
      "18598  0.0\n"
     ]
    }
   ],
   "source": [
    "# convert array to dataframe\n",
    "\n",
    "y_pred2 = pd.DataFrame(y_pred)\n",
    "print(y_pred2.head(2))\n",
    "print('')\n",
    "print(y_pred2.tail(2))"
   ]
  },
  {
   "cell_type": "code",
   "execution_count": 25,
   "metadata": {},
   "outputs": [
    {
     "name": "stdout",
     "output_type": "stream",
     "text": [
      "     0\n",
      "0  0.0\n",
      "1  1.0\n",
      "\n",
      "         0\n",
      "18597  0.0\n",
      "18598  0.0\n"
     ]
    }
   ],
   "source": [
    "y_pred3 = round(y_pred2)\n",
    "y_pred3\n",
    "print(y_pred3.head(2))\n",
    "print('')\n",
    "print(y_pred3.tail(2))"
   ]
  },
  {
   "cell_type": "code",
   "execution_count": 26,
   "metadata": {},
   "outputs": [
    {
     "data": {
      "text/plain": [
       "array([0., 1.])"
      ]
     },
     "execution_count": 26,
     "metadata": {},
     "output_type": "execute_result"
    }
   ],
   "source": [
    "y_pred3[0].unique()"
   ]
  },
  {
   "cell_type": "code",
   "execution_count": 27,
   "metadata": {},
   "outputs": [],
   "source": [
    "from sklearn.metrics import confusion_matrix\n",
    "import itertools\n",
    "\n",
    "def plot_confusion_matrix(cm, classes,\n",
    "                          normalize=False,\n",
    "                          title='Confusion matrix',\n",
    "                          cmap=plt.cm.Blues):\n",
    "    \"\"\"\n",
    "    This function prints and plots the confusion matrix.\n",
    "    Normalization can be applied by setting `normalize=True`.\n",
    "    \"\"\"\n",
    "    if normalize:\n",
    "        cm = cm.astype('float') / cm.sum(axis=1)[:, np.newaxis]\n",
    "        print(\"Normalized confusion matrix\")\n",
    "    else:\n",
    "        print('Confusion matrix, without normalization')\n",
    "\n",
    "    print(cm)\n",
    "\n",
    "    plt.imshow(cm, interpolation='nearest', cmap=cmap)\n",
    "    plt.title(title)\n",
    "    plt.colorbar()\n",
    "    tick_marks = np.arange(len(classes))\n",
    "    plt.xticks(tick_marks, classes, rotation=45)\n",
    "    plt.yticks(tick_marks, classes)\n",
    "\n",
    "    fmt = '.2f' if normalize else 'd'\n",
    "    thresh = cm.max() / 2.\n",
    "    for i, j in itertools.product(range(cm.shape[0]), range(cm.shape[1])):\n",
    "        plt.text(j, i, format(cm[i, j], fmt),\n",
    "                 horizontalalignment=\"center\",\n",
    "                 color=\"white\" if cm[i, j] > thresh else \"black\")\n",
    "\n",
    "    plt.tight_layout()\n",
    "    plt.ylabel('True label')\n",
    "    plt.xlabel('Predicted label')"
   ]
  },
  {
   "cell_type": "code",
   "execution_count": 28,
   "metadata": {},
   "outputs": [
    {
     "name": "stdout",
     "output_type": "stream",
     "text": [
      "[[14317   161]\n",
      " [  133  3988]]\n"
     ]
    }
   ],
   "source": [
    "## Confusion matrix\n",
    "from sklearn.metrics import classification_report, confusion_matrix, precision_recall_fscore_support\n",
    "\n",
    "class_names = [0,1] #['wake','sleep_stage_1','sleep_stage_2']  # wake, SS1, SS2  ; # '0','1','2'\n",
    "\n",
    "cnf_matrix = confusion_matrix(y_test, y_pred3)\n",
    "np.set_printoptions(precision=2)\n",
    "print(cnf_matrix)  #(confusion_matrix(y_test, y_pred3))"
   ]
  },
  {
   "cell_type": "code",
   "execution_count": 29,
   "metadata": {},
   "outputs": [
    {
     "name": "stdout",
     "output_type": "stream",
     "text": [
      "Normalized confusion matrix\n",
      "[[0.99 0.01]\n",
      " [0.03 0.97]]\n"
     ]
    },
    {
     "data": {
      "image/png": "[encoded data removed]",
      "text/plain": [
       "<matplotlib.figure.Figure at 0x7f9b101d10f0>"
      ]
     },
     "metadata": {},
     "output_type": "display_data"
    }
   ],
   "source": [
    "# Plot normalized confusion matrix : normalisation shows nan for class'0' no signal has class=0 as true label\n",
    "plt.figure()\n",
    "plot_confusion_matrix(cnf_matrix, classes=class_names, normalize=True,\n",
    "                      title='Normalized confusion matrix')\n",
    "plt.show()\n"
   ]
  },
  {
   "cell_type": "code",
   "execution_count": null,
   "metadata": {},
   "outputs": [],
   "source": []
  },
  {
   "cell_type": "code",
   "execution_count": null,
   "metadata": {},
   "outputs": [],
   "source": []
  },
  {
   "cell_type": "code",
   "execution_count": 30,
   "metadata": {},
   "outputs": [
    {
     "data": {
      "text/html": [
       "<div>\n",
       "<style scoped>\n",
       "    .dataframe tbody tr th:only-of-type {\n",
       "        vertical-align: middle;\n",
       "    }\n",
       "\n",
       "    .dataframe tbody tr th {\n",
       "        vertical-align: top;\n",
       "    }\n",
       "\n",
       "    .dataframe thead th {\n",
       "        text-align: right;\n",
       "    }\n",
       "</style>\n",
       "<table border=\"1\" class=\"dataframe\">\n",
       "  <thead>\n",
       "    <tr style=\"text-align: right;\">\n",
       "      <th></th>\n",
       "      <th>pred</th>\n",
       "    </tr>\n",
       "  </thead>\n",
       "  <tbody>\n",
       "    <tr>\n",
       "      <th>0</th>\n",
       "      <td>0.0</td>\n",
       "    </tr>\n",
       "    <tr>\n",
       "      <th>1</th>\n",
       "      <td>1.0</td>\n",
       "    </tr>\n",
       "  </tbody>\n",
       "</table>\n",
       "</div>"
      ],
      "text/plain": [
       "   pred\n",
       "0   0.0\n",
       "1   1.0"
      ]
     },
     "execution_count": 30,
     "metadata": {},
     "output_type": "execute_result"
    }
   ],
   "source": [
    "## join the test set predictions & actual values into a dataframe\n",
    "res = y_pred3\n",
    "res.columns = ['pred']\n",
    "res.head(2)"
   ]
  },
  {
   "cell_type": "code",
   "execution_count": 31,
   "metadata": {},
   "outputs": [
    {
     "data": {
      "text/html": [
       "<div>\n",
       "<style scoped>\n",
       "    .dataframe tbody tr th:only-of-type {\n",
       "        vertical-align: middle;\n",
       "    }\n",
       "\n",
       "    .dataframe tbody tr th {\n",
       "        vertical-align: top;\n",
       "    }\n",
       "\n",
       "    .dataframe thead th {\n",
       "        text-align: right;\n",
       "    }\n",
       "</style>\n",
       "<table border=\"1\" class=\"dataframe\">\n",
       "  <thead>\n",
       "    <tr style=\"text-align: right;\">\n",
       "      <th></th>\n",
       "      <th>pred</th>\n",
       "      <th>class2</th>\n",
       "    </tr>\n",
       "  </thead>\n",
       "  <tbody>\n",
       "    <tr>\n",
       "      <th>0</th>\n",
       "      <td>0.0</td>\n",
       "      <td>NaN</td>\n",
       "    </tr>\n",
       "    <tr>\n",
       "      <th>1</th>\n",
       "      <td>1.0</td>\n",
       "      <td>NaN</td>\n",
       "    </tr>\n",
       "  </tbody>\n",
       "</table>\n",
       "</div>"
      ],
      "text/plain": [
       "   pred  class2\n",
       "0   0.0     NaN\n",
       "1   1.0     NaN"
      ]
     },
     "execution_count": 31,
     "metadata": {},
     "output_type": "execute_result"
    }
   ],
   "source": [
    "res = pd.concat([res,y_test], axis=1)\n",
    "res.head(2)"
   ]
  },
  {
   "cell_type": "code",
   "execution_count": null,
   "metadata": {},
   "outputs": [],
   "source": []
  },
  {
   "cell_type": "code",
   "execution_count": 32,
   "metadata": {},
   "outputs": [
    {
     "data": {
      "text/plain": [
       "(array([0.99, 0.96]),\n",
       " array([0.99, 0.97]),\n",
       " array([0.99, 0.96]),\n",
       " array([14478,  4121]))"
      ]
     },
     "execution_count": 32,
     "metadata": {},
     "output_type": "execute_result"
    }
   ],
   "source": [
    "precision_recall_fscore_support(y_test,y_pred3)\n",
    "\n",
    "# layout of results\n",
    "# precision: class 0, class 1   ==> [0: wake; 1: sleep/drowsy/fatigue]\n",
    "# recall: class 0, class 1\n",
    "# f1 score: class 0, class 1\n",
    "# support: class 0, class 1\n",
    "\n",
    "## INFERENCE: recall is low for sleep state"
   ]
  },
  {
   "cell_type": "code",
   "execution_count": null,
   "metadata": {},
   "outputs": [],
   "source": [
    "#print(classification_report(y_test, y_pred3, target_names=class_names))\n",
    "#print(classification_report(res['class2'], res['pred'], target_names=class_names))"
   ]
  },
  {
   "cell_type": "code",
   "execution_count": null,
   "metadata": {},
   "outputs": [],
   "source": []
  }
 ],
 "metadata": {
  "kernelspec": {
   "display_name": "Python 3",
   "language": "python",
   "name": "python3"
  },
  "language_info": {
   "codemirror_mode": {
    "name": "ipython",
    "version": 3
   },
   "file_extension": ".py",
   "mimetype": "text/x-python",
   "name": "python",
   "nbconvert_exporter": "python",
   "pygments_lexer": "ipython3",
   "version": "3.6.9"
  }
 },
 "nbformat": 4,
 "nbformat_minor": 2
}
