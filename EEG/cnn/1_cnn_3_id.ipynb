{
 "cells": [
  {
   "cell_type": "code",
   "execution_count": null,
   "metadata": {},
   "outputs": [],
   "source": [
    "## EEG signal classification into wake and drowsy using CNN network"
   ]
  },
  {
   "cell_type": "code",
   "execution_count": 1,
   "metadata": {},
   "outputs": [
    {
     "name": "stderr",
     "output_type": "stream",
     "text": [
      "/home/intern_eyecare/anaconda3/lib/python3.6/importlib/_bootstrap.py:219: RuntimeWarning: numpy.dtype size changed, may indicate binary incompatibility. Expected 96, got 88\n",
      "  return f(*args, **kwds)\n",
      "/home/intern_eyecare/anaconda3/lib/python3.6/importlib/_bootstrap.py:219: RuntimeWarning: numpy.dtype size changed, may indicate binary incompatibility. Expected 96, got 88\n",
      "  return f(*args, **kwds)\n",
      "/home/intern_eyecare/anaconda3/lib/python3.6/importlib/_bootstrap.py:219: RuntimeWarning: numpy.dtype size changed, may indicate binary incompatibility. Expected 96, got 88\n",
      "  return f(*args, **kwds)\n",
      "/home/intern_eyecare/anaconda3/lib/python3.6/importlib/_bootstrap.py:219: RuntimeWarning: numpy.dtype size changed, may indicate binary incompatibility. Expected 96, got 88\n",
      "  return f(*args, **kwds)\n",
      "/home/intern_eyecare/anaconda3/lib/python3.6/site-packages/h5py/__init__.py:36: FutureWarning: Conversion of the second argument of issubdtype from `float` to `np.floating` is deprecated. In future, it will be treated as `np.float64 == np.dtype(float).type`.\n",
      "  from ._conv import register_converters as _register_converters\n",
      "Using TensorFlow backend.\n",
      "/home/intern_eyecare/anaconda3/lib/python3.6/importlib/_bootstrap.py:219: RuntimeWarning: compiletime version 3.5 of module 'tensorflow.python.framework.fast_tensor_util' does not match runtime version 3.6\n",
      "  return f(*args, **kwds)\n",
      "/home/intern_eyecare/anaconda3/lib/python3.6/importlib/_bootstrap.py:219: RuntimeWarning: numpy.dtype size changed, may indicate binary incompatibility. Expected 96, got 88\n",
      "  return f(*args, **kwds)\n"
     ]
    }
   ],
   "source": [
    "import pandas as pd\n",
    "import numpy as np\n",
    "import os\n",
    "import pickle\n",
    "from scipy import stats\n",
    "import itertools\n",
    "import matplotlib.pyplot as plt\n",
    "from datetime import datetime\n",
    "\n",
    "from sklearn.preprocessing import MinMaxScaler\n",
    "from sklearn.model_selection import train_test_split\n",
    "#from sklearn.cross_validation import train_test_split\n",
    "\n",
    "\n",
    "import keras\n",
    "from keras.models import Sequential\n",
    "from keras.layers import Dense\n",
    "from keras.layers import Flatten\n",
    "from keras.layers.convolutional import Conv1D\n",
    "from keras.layers.convolutional import MaxPooling1D\n",
    "\n"
   ]
  },
  {
   "cell_type": "code",
   "execution_count": 2,
   "metadata": {},
   "outputs": [],
   "source": [
    "file_location=r'/home/intern_eyecare/Desktop/EEG/raw_EEG_3_pat' #C:\\Users\\BOL1KOR\\Desktop\\BCI Project\\Pickle_Files\\Pickle_files_eeg'\n",
    "os.chdir(r'/home/intern_eyecare/Desktop/EEG/raw_EEG_3_pat') #C:\\Users\\BOL1KOR\\Desktop\\BCI Project\\Pickle_Files\\Pickle_files_eeg')\n"
   ]
  },
  {
   "cell_type": "code",
   "execution_count": 3,
   "metadata": {},
   "outputs": [],
   "source": [
    "dfull = pickle.load(open('raw_EEG_3_patients.pkl', 'rb'))  #raw_EEG_all_patients.pkl"
   ]
  },
  {
   "cell_type": "code",
   "execution_count": 4,
   "metadata": {},
   "outputs": [
    {
     "data": {
      "text/html": [
       "<div>\n",
       "<style scoped>\n",
       "    .dataframe tbody tr th:only-of-type {\n",
       "        vertical-align: middle;\n",
       "    }\n",
       "\n",
       "    .dataframe tbody tr th {\n",
       "        vertical-align: top;\n",
       "    }\n",
       "\n",
       "    .dataframe thead th {\n",
       "        text-align: right;\n",
       "    }\n",
       "</style>\n",
       "<table border=\"1\" class=\"dataframe\">\n",
       "  <thead>\n",
       "    <tr style=\"text-align: right;\">\n",
       "      <th></th>\n",
       "      <th>0</th>\n",
       "      <th>1</th>\n",
       "      <th>2</th>\n",
       "      <th>3</th>\n",
       "      <th>4</th>\n",
       "      <th>5</th>\n",
       "      <th>6</th>\n",
       "      <th>7</th>\n",
       "      <th>8</th>\n",
       "      <th>9</th>\n",
       "      <th>...</th>\n",
       "      <th>2994</th>\n",
       "      <th>2995</th>\n",
       "      <th>2996</th>\n",
       "      <th>2997</th>\n",
       "      <th>2998</th>\n",
       "      <th>2999</th>\n",
       "      <th>pID</th>\n",
       "      <th>day</th>\n",
       "      <th>epoch</th>\n",
       "      <th>class_label</th>\n",
       "    </tr>\n",
       "  </thead>\n",
       "  <tbody>\n",
       "    <tr>\n",
       "      <th>0</th>\n",
       "      <td>5.016850</td>\n",
       "      <td>-2.578755</td>\n",
       "      <td>1.359707</td>\n",
       "      <td>-2.391209</td>\n",
       "      <td>-5.204396</td>\n",
       "      <td>-7.454945</td>\n",
       "      <td>-8.298901</td>\n",
       "      <td>-6.892308</td>\n",
       "      <td>-3.704029</td>\n",
       "      <td>-0.984615</td>\n",
       "      <td>...</td>\n",
       "      <td>26.959707</td>\n",
       "      <td>33.148718</td>\n",
       "      <td>28.741392</td>\n",
       "      <td>41.588278</td>\n",
       "      <td>28.084982</td>\n",
       "      <td>43.276190</td>\n",
       "      <td>400</td>\n",
       "      <td>1</td>\n",
       "      <td>s1e1</td>\n",
       "      <td>wake</td>\n",
       "    </tr>\n",
       "    <tr>\n",
       "      <th>1</th>\n",
       "      <td>11.299634</td>\n",
       "      <td>18.145055</td>\n",
       "      <td>18.801465</td>\n",
       "      <td>17.301099</td>\n",
       "      <td>13.831502</td>\n",
       "      <td>6.610989</td>\n",
       "      <td>7.454945</td>\n",
       "      <td>7.454945</td>\n",
       "      <td>7.267399</td>\n",
       "      <td>8.486447</td>\n",
       "      <td>...</td>\n",
       "      <td>8.486447</td>\n",
       "      <td>13.175092</td>\n",
       "      <td>16.926007</td>\n",
       "      <td>17.394872</td>\n",
       "      <td>9.517949</td>\n",
       "      <td>13.362637</td>\n",
       "      <td>400</td>\n",
       "      <td>1</td>\n",
       "      <td>s1e2</td>\n",
       "      <td>wake</td>\n",
       "    </tr>\n",
       "    <tr>\n",
       "      <th>2</th>\n",
       "      <td>13.362637</td>\n",
       "      <td>10.736996</td>\n",
       "      <td>6.329670</td>\n",
       "      <td>6.892308</td>\n",
       "      <td>4.454212</td>\n",
       "      <td>18.238828</td>\n",
       "      <td>12.143590</td>\n",
       "      <td>13.925275</td>\n",
       "      <td>8.486447</td>\n",
       "      <td>7.548718</td>\n",
       "      <td>...</td>\n",
       "      <td>15.706960</td>\n",
       "      <td>3.610256</td>\n",
       "      <td>15.238095</td>\n",
       "      <td>2.953846</td>\n",
       "      <td>3.891575</td>\n",
       "      <td>-0.046886</td>\n",
       "      <td>400</td>\n",
       "      <td>1</td>\n",
       "      <td>s1e3</td>\n",
       "      <td>wake</td>\n",
       "    </tr>\n",
       "  </tbody>\n",
       "</table>\n",
       "<p>3 rows Ã— 3004 columns</p>\n",
       "</div>"
      ],
      "text/plain": [
       "           0          1          2          3          4          5  \\\n",
       "0   5.016850  -2.578755   1.359707  -2.391209  -5.204396  -7.454945   \n",
       "1  11.299634  18.145055  18.801465  17.301099  13.831502   6.610989   \n",
       "2  13.362637  10.736996   6.329670   6.892308   4.454212  18.238828   \n",
       "\n",
       "           6          7         8         9     ...            2994  \\\n",
       "0  -8.298901  -6.892308 -3.704029 -0.984615     ...       26.959707   \n",
       "1   7.454945   7.454945  7.267399  8.486447     ...        8.486447   \n",
       "2  12.143590  13.925275  8.486447  7.548718     ...       15.706960   \n",
       "\n",
       "        2995       2996       2997       2998       2999  pID  day  epoch  \\\n",
       "0  33.148718  28.741392  41.588278  28.084982  43.276190  400    1   s1e1   \n",
       "1  13.175092  16.926007  17.394872   9.517949  13.362637  400    1   s1e2   \n",
       "2   3.610256  15.238095   2.953846   3.891575  -0.046886  400    1   s1e3   \n",
       "\n",
       "   class_label  \n",
       "0         wake  \n",
       "1         wake  \n",
       "2         wake  \n",
       "\n",
       "[3 rows x 3004 columns]"
      ]
     },
     "execution_count": 4,
     "metadata": {},
     "output_type": "execute_result"
    }
   ],
   "source": [
    "dfull.head(3)"
   ]
  },
  {
   "cell_type": "code",
   "execution_count": 5,
   "metadata": {},
   "outputs": [],
   "source": [
    "### Convert from 3-class to 2-class ####\n",
    "dfull['class2'] = dfull['class_label']\n",
    "dfull['class2'] = [0 if x == 'wake' else 1 for x in dfull['class2']]"
   ]
  },
  {
   "cell_type": "code",
   "execution_count": 6,
   "metadata": {},
   "outputs": [],
   "source": [
    "## convert selected columns to categories \n",
    "## DO NOT CONVERT 'class2' from numeric to category - this probably gives error in grid search\n",
    "dfull[['class_label']] = dfull[['class_label']].astype('str')        # ,'class2'\n",
    "#dfull[['class_label']] = dfull[['class_label']].astype('category')   # ,'class2'"
   ]
  },
  {
   "cell_type": "code",
   "execution_count": 7,
   "metadata": {},
   "outputs": [
    {
     "data": {
      "text/plain": [
       "class_label\n",
       "sleep_stage_1      596\n",
       "sleep_stage_2     2792\n",
       "wake             11340\n",
       "dtype: int64"
      ]
     },
     "execution_count": 7,
     "metadata": {},
     "output_type": "execute_result"
    }
   ],
   "source": [
    "dfull.groupby('class_label').size()"
   ]
  },
  {
   "cell_type": "code",
   "execution_count": 8,
   "metadata": {},
   "outputs": [
    {
     "data": {
      "text/html": [
       "<div>\n",
       "<style scoped>\n",
       "    .dataframe tbody tr th:only-of-type {\n",
       "        vertical-align: middle;\n",
       "    }\n",
       "\n",
       "    .dataframe tbody tr th {\n",
       "        vertical-align: top;\n",
       "    }\n",
       "\n",
       "    .dataframe thead th {\n",
       "        text-align: right;\n",
       "    }\n",
       "</style>\n",
       "<table border=\"1\" class=\"dataframe\">\n",
       "  <thead>\n",
       "    <tr style=\"text-align: right;\">\n",
       "      <th></th>\n",
       "      <th>0</th>\n",
       "      <th>1</th>\n",
       "      <th>2</th>\n",
       "      <th>3</th>\n",
       "      <th>4</th>\n",
       "      <th>5</th>\n",
       "      <th>6</th>\n",
       "      <th>7</th>\n",
       "      <th>8</th>\n",
       "      <th>9</th>\n",
       "      <th>...</th>\n",
       "      <th>2994</th>\n",
       "      <th>2995</th>\n",
       "      <th>2996</th>\n",
       "      <th>2997</th>\n",
       "      <th>2998</th>\n",
       "      <th>pID</th>\n",
       "      <th>day</th>\n",
       "      <th>epoch</th>\n",
       "      <th>class_label</th>\n",
       "      <th>class2</th>\n",
       "    </tr>\n",
       "  </thead>\n",
       "  <tbody>\n",
       "    <tr>\n",
       "      <th>0</th>\n",
       "      <td>5.01685</td>\n",
       "      <td>-2.578755</td>\n",
       "      <td>1.359707</td>\n",
       "      <td>-2.391209</td>\n",
       "      <td>-5.204396</td>\n",
       "      <td>-7.454945</td>\n",
       "      <td>-8.298901</td>\n",
       "      <td>-6.892308</td>\n",
       "      <td>-3.704029</td>\n",
       "      <td>-0.984615</td>\n",
       "      <td>...</td>\n",
       "      <td>26.959707</td>\n",
       "      <td>33.148718</td>\n",
       "      <td>28.741392</td>\n",
       "      <td>41.588278</td>\n",
       "      <td>28.084982</td>\n",
       "      <td>400</td>\n",
       "      <td>1</td>\n",
       "      <td>s1e1</td>\n",
       "      <td>wake</td>\n",
       "      <td>0</td>\n",
       "    </tr>\n",
       "  </tbody>\n",
       "</table>\n",
       "<p>1 rows Ã— 3004 columns</p>\n",
       "</div>"
      ],
      "text/plain": [
       "         0         1         2         3         4         5         6  \\\n",
       "0  5.01685 -2.578755  1.359707 -2.391209 -5.204396 -7.454945 -8.298901   \n",
       "\n",
       "          7         8         9   ...         2994       2995       2996  \\\n",
       "0 -6.892308 -3.704029 -0.984615   ...    26.959707  33.148718  28.741392   \n",
       "\n",
       "        2997       2998  pID  day  epoch  class_label  class2  \n",
       "0  41.588278  28.084982  400    1   s1e1         wake       0  \n",
       "\n",
       "[1 rows x 3004 columns]"
      ]
     },
     "execution_count": 8,
     "metadata": {},
     "output_type": "execute_result"
    }
   ],
   "source": [
    "## drop column '2999' with NAN values instead of dropping the rows (which will reduce data)\n",
    "dfull = dfull.drop([2999],1)\n",
    "dfull.head(1)"
   ]
  },
  {
   "cell_type": "code",
   "execution_count": null,
   "metadata": {},
   "outputs": [],
   "source": []
  },
  {
   "cell_type": "code",
   "execution_count": null,
   "metadata": {},
   "outputs": [],
   "source": [
    "### 3 patient data"
   ]
  },
  {
   "cell_type": "code",
   "execution_count": 9,
   "metadata": {},
   "outputs": [],
   "source": [
    "#### segregate data into train:test set by pat id, then balance the data\n",
    "Test = dfull[ (dfull.pID == '402') & (dfull.day == '2') ]\n",
    "Train = dfull[~( (dfull.pID == '402') & (dfull.day == '2') )]"
   ]
  },
  {
   "cell_type": "code",
   "execution_count": 10,
   "metadata": {},
   "outputs": [
    {
     "name": "stdout",
     "output_type": "stream",
     "text": [
      "(12271, 3004)\n",
      "(2457, 3004)\n"
     ]
    }
   ],
   "source": [
    "print(Train.shape)\n",
    "print(Test.shape)"
   ]
  },
  {
   "cell_type": "code",
   "execution_count": 11,
   "metadata": {},
   "outputs": [
    {
     "name": "stdout",
     "output_type": "stream",
     "text": [
      "      0         1         2         3         4         5         6     \\\n",
      "0  5.01685 -2.578755  1.359707 -2.391209 -5.204396 -7.454945 -8.298901   \n",
      "\n",
      "       7         8         9       ...           2989       2990       2991  \\\n",
      "0 -6.892308 -3.704029 -0.984615    ...      45.057875  47.027106  37.649817   \n",
      "\n",
      "        2992       2993       2994       2995       2996       2997       2998  \n",
      "0  35.211722  33.898901  26.959707  33.148718  28.741392  41.588278  28.084982  \n",
      "\n",
      "[1 rows x 2999 columns]\n",
      "\n",
      "   class2\n",
      "0       0\n"
     ]
    }
   ],
   "source": [
    "X_train = Train.drop(['pID','day','epoch','class_label','class2'], 1).reset_index()\n",
    "X_test = Test.drop(['pID','day','epoch','class_label','class2'], 1).reset_index()\n",
    "y_train = Train['class2'].reset_index()\n",
    "y_test = Test['class2'].reset_index()\n",
    "\n",
    "X_train = X_train.drop(['index'], 1)\n",
    "X_test = X_test.drop(['index'],1)\n",
    "y_train = y_train.drop(['index'],1)\n",
    "y_test = y_test.drop(['index'],1)\n",
    "\n",
    "print(X_train.head(1))\n",
    "#print(X_test.head(1))\n",
    "print('')\n",
    "print(y_train.head(1))\n",
    "#print(y_test.head(1))"
   ]
  },
  {
   "cell_type": "code",
   "execution_count": null,
   "metadata": {},
   "outputs": [],
   "source": []
  },
  {
   "cell_type": "code",
   "execution_count": 12,
   "metadata": {},
   "outputs": [],
   "source": [
    "from sklearn.preprocessing import MinMaxScaler, StandardScaler, RobustScaler\n",
    "# http://benalexkeen.com/feature-scaling-with-scikit-learn/\n",
    "# standardscaler: suitable for normally distributed data\n",
    "# minMaxScaler: (x-min)/(max - min)\n",
    "\n",
    "## normalize the data  : can also use other scalers like StandardScaler()\n",
    "scaler = StandardScaler()  #MinMaxScaler()\n",
    "X_train_scaled = scaler.fit_transform(X_train)\n",
    "X_test_scaled = scaler.transform(X_test)\n",
    "#X_train_scaled.shape"
   ]
  },
  {
   "cell_type": "code",
   "execution_count": 13,
   "metadata": {},
   "outputs": [
    {
     "name": "stdout",
     "output_type": "stream",
     "text": [
      "[[[ 0.17974824]\n",
      "  [-0.10464995]\n",
      "  [ 0.04938876]\n",
      "  ...\n",
      "  [ 1.06197569]\n",
      "  [ 1.55018501]\n",
      "  [ 1.04462293]]\n",
      "\n",
      " [[ 0.41734971]\n",
      "  [ 0.67328311]\n",
      "  [ 0.70750367]\n",
      "  ...\n",
      "  [ 0.61108146]\n",
      "  [ 0.63323868]\n",
      "  [ 0.33625525]]\n",
      "\n",
      " [[ 0.49536811]\n",
      "  [ 0.39519844]\n",
      "  [ 0.23691613]\n",
      "  ...\n",
      "  [ 0.546668  ]\n",
      "  [ 0.08591412]\n",
      "  [ 0.12159838]]\n",
      "\n",
      " ...\n",
      "\n",
      " [[-0.22466741]\n",
      "  [-0.23480963]\n",
      "  [-0.17083979]\n",
      "  ...\n",
      "  [ 0.42133573]\n",
      "  [ 0.40602902]\n",
      "  [ 0.23901681]]\n",
      "\n",
      " [[ 0.65154342]\n",
      "  [ 0.79777769]\n",
      "  [ 0.70338492]\n",
      "  ...\n",
      "  [-0.15637251]\n",
      "  [-0.15723326]\n",
      "  [-0.14837177]]\n",
      "\n",
      " [[-0.04314166]\n",
      "  [-0.08927719]\n",
      "  [-0.05938485]\n",
      "  ...\n",
      "  [-1.46326125]\n",
      "  [-1.53215298]\n",
      "  [-1.53592722]]]\n"
     ]
    }
   ],
   "source": [
    "## re-shaping tha data for input to conv net\n",
    "# https://stackoverflow.com/questions/43235531/convolutional-neural-network-conv1d-input-shape\n",
    "nrows, ncols = X_train_scaled.shape\n",
    "X_train_array =  X_train_scaled.reshape(nrows, ncols, 1)\n",
    "print(X_train_array)"
   ]
  },
  {
   "cell_type": "code",
   "execution_count": null,
   "metadata": {},
   "outputs": [],
   "source": [
    "#### model building ####"
   ]
  },
  {
   "cell_type": "code",
   "execution_count": 14,
   "metadata": {},
   "outputs": [
    {
     "data": {
      "text/plain": [
       "'2019-01-10 09:14:51'"
      ]
     },
     "execution_count": 14,
     "metadata": {},
     "output_type": "execute_result"
    }
   ],
   "source": [
    "from datetime import datetime\n",
    "datetime.now().strftime('%Y-%m-%d %H:%M:%S')"
   ]
  },
  {
   "cell_type": "code",
   "execution_count": 15,
   "metadata": {},
   "outputs": [
    {
     "name": "stdout",
     "output_type": "stream",
     "text": [
      "_________________________________________________________________\n",
      "Layer (type)                 Output Shape              Param #   \n",
      "=================================================================\n",
      "conv1d_1 (Conv1D)            (None, 2997, 64)          256       \n",
      "_________________________________________________________________\n",
      "max_pooling1d_1 (MaxPooling1 (None, 1498, 64)          0         \n",
      "_________________________________________________________________\n",
      "flatten_1 (Flatten)          (None, 95872)             0         \n",
      "_________________________________________________________________\n",
      "dense_1 (Dense)              (None, 50)                4793650   \n",
      "_________________________________________________________________\n",
      "dense_2 (Dense)              (None, 1)                 51        \n",
      "=================================================================\n",
      "Total params: 4,793,957\n",
      "Trainable params: 4,793,957\n",
      "Non-trainable params: 0\n",
      "_________________________________________________________________\n",
      "None\n"
     ]
    }
   ],
   "source": [
    "# define model: 1 conv layer, 1 fully-connected layer, 1 output layer\n",
    "model = Sequential()  ## to initialize NN\n",
    "\n",
    "model.add(Conv1D(filters=64, kernel_size=3, activation='relu', input_shape=(ncols, 1))) \n",
    "model.add(MaxPooling1D(pool_size=2))\n",
    "\n",
    "model.add(Flatten())\n",
    "model.add(Dense(50, activation='relu'))\n",
    "\n",
    "model.add(Dense(1, activation='sigmoid'))  # this is the output layer for binary classification\n",
    "print(model.summary())\n",
    "\n",
    "# compile the model\n",
    "model.compile(optimizer='adam', loss='binary_crossentropy', metrics=['accuracy'])"
   ]
  },
  {
   "cell_type": "code",
   "execution_count": 16,
   "metadata": {},
   "outputs": [
    {
     "name": "stdout",
     "output_type": "stream",
     "text": [
      "Train on 11043 samples, validate on 1228 samples\n",
      "Epoch 1/100\n",
      "11043/11043 [==============================] - 8s 767us/step - loss: 0.3613 - acc: 0.8338 - val_loss: 0.5182 - val_acc: 0.8640\n",
      "Epoch 2/100\n",
      "11043/11043 [==============================] - 7s 599us/step - loss: 0.2083 - acc: 0.9338 - val_loss: 0.4695 - val_acc: 0.7736\n",
      "Epoch 3/100\n",
      "11043/11043 [==============================] - 7s 619us/step - loss: 0.1615 - acc: 0.9659 - val_loss: 0.5177 - val_acc: 0.7476\n",
      "Epoch 4/100\n",
      "11043/11043 [==============================] - 7s 619us/step - loss: 0.1370 - acc: 0.9756 - val_loss: 0.4790 - val_acc: 0.8094\n",
      "Epoch 5/100\n",
      "11043/11043 [==============================] - 7s 624us/step - loss: 0.1173 - acc: 0.9812 - val_loss: 0.4801 - val_acc: 0.8111\n",
      "Epoch 6/100\n",
      "11043/11043 [==============================] - 7s 604us/step - loss: 0.1049 - acc: 0.9841 - val_loss: 0.3737 - val_acc: 0.8974\n",
      "Epoch 7/100\n",
      "11043/11043 [==============================] - 7s 602us/step - loss: 0.0939 - acc: 0.9857 - val_loss: 0.3685 - val_acc: 0.8966\n",
      "Epoch 8/100\n",
      "11043/11043 [==============================] - 7s 603us/step - loss: 0.0837 - acc: 0.9869 - val_loss: 0.4392 - val_acc: 0.8681\n",
      "Epoch 9/100\n",
      "11043/11043 [==============================] - 7s 597us/step - loss: 0.0741 - acc: 0.9899 - val_loss: 0.4828 - val_acc: 0.8534\n",
      "Epoch 10/100\n",
      "11043/11043 [==============================] - 7s 596us/step - loss: 0.0691 - acc: 0.9903 - val_loss: 0.6170 - val_acc: 0.8086\n",
      "Epoch 11/100\n",
      "11043/11043 [==============================] - 7s 605us/step - loss: 0.0646 - acc: 0.9900 - val_loss: 0.4887 - val_acc: 0.8640\n",
      "Epoch 12/100\n",
      "11043/11043 [==============================] - 7s 609us/step - loss: 0.0574 - acc: 0.9920 - val_loss: 0.5092 - val_acc: 0.8599\n",
      "Epoch 13/100\n",
      "11043/11043 [==============================] - 7s 603us/step - loss: 0.0520 - acc: 0.9931 - val_loss: 0.5188 - val_acc: 0.8689\n",
      "Epoch 14/100\n",
      "11043/11043 [==============================] - 7s 610us/step - loss: 0.0480 - acc: 0.9940 - val_loss: 0.3678 - val_acc: 0.9104\n",
      "Epoch 15/100\n",
      "11043/11043 [==============================] - 7s 606us/step - loss: 0.0493 - acc: 0.9922 - val_loss: 0.3584 - val_acc: 0.9169\n",
      "Epoch 16/100\n",
      "11043/11043 [==============================] - 7s 608us/step - loss: 0.0421 - acc: 0.9941 - val_loss: 0.5757 - val_acc: 0.8681\n",
      "Epoch 17/100\n",
      "11043/11043 [==============================] - 7s 610us/step - loss: 0.0383 - acc: 0.9948 - val_loss: 0.5201 - val_acc: 0.8819\n",
      "Epoch 18/100\n",
      "11043/11043 [==============================] - 7s 612us/step - loss: 0.0361 - acc: 0.9948 - val_loss: 0.8173 - val_acc: 0.8111\n",
      "Epoch 19/100\n",
      "11043/11043 [==============================] - 7s 598us/step - loss: 0.0341 - acc: 0.9952 - val_loss: 0.6941 - val_acc: 0.8485\n",
      "Epoch 20/100\n",
      "11043/11043 [==============================] - 7s 606us/step - loss: 0.0326 - acc: 0.9953 - val_loss: 0.4981 - val_acc: 0.9015\n",
      "Epoch 21/100\n",
      "11043/11043 [==============================] - 7s 606us/step - loss: 0.0302 - acc: 0.9957 - val_loss: 0.4944 - val_acc: 0.9007\n",
      "Epoch 22/100\n",
      "11043/11043 [==============================] - 7s 602us/step - loss: 0.0287 - acc: 0.9957 - val_loss: 0.5199 - val_acc: 0.8917\n",
      "Epoch 23/100\n",
      "11043/11043 [==============================] - 7s 601us/step - loss: 0.0275 - acc: 0.9957 - val_loss: 0.6368 - val_acc: 0.8713\n",
      "Epoch 24/100\n",
      "11043/11043 [==============================] - 7s 599us/step - loss: 0.0266 - acc: 0.9957 - val_loss: 0.4999 - val_acc: 0.9015\n",
      "Epoch 25/100\n",
      "11043/11043 [==============================] - 7s 603us/step - loss: 0.0258 - acc: 0.9957 - val_loss: 0.5289 - val_acc: 0.8950\n",
      "Epoch 26/100\n",
      "11043/11043 [==============================] - 7s 602us/step - loss: 0.0250 - acc: 0.9957 - val_loss: 0.6524 - val_acc: 0.8689\n",
      "Epoch 27/100\n",
      "11043/11043 [==============================] - 7s 600us/step - loss: 0.0242 - acc: 0.9958 - val_loss: 0.5849 - val_acc: 0.8860\n",
      "Epoch 28/100\n",
      "11043/11043 [==============================] - 7s 600us/step - loss: 0.0236 - acc: 0.9958 - val_loss: 0.5958 - val_acc: 0.8876\n",
      "Epoch 29/100\n",
      "11043/11043 [==============================] - 7s 594us/step - loss: 0.0232 - acc: 0.9958 - val_loss: 0.6282 - val_acc: 0.8779\n",
      "Epoch 30/100\n",
      "11043/11043 [==============================] - 7s 602us/step - loss: 0.0228 - acc: 0.9958 - val_loss: 0.5642 - val_acc: 0.8950\n",
      "Epoch 31/100\n",
      "11043/11043 [==============================] - 7s 614us/step - loss: 0.0224 - acc: 0.9958 - val_loss: 0.5170 - val_acc: 0.9064\n",
      "Epoch 32/100\n",
      "11043/11043 [==============================] - 7s 605us/step - loss: 0.0221 - acc: 0.9958 - val_loss: 0.6913 - val_acc: 0.8762\n",
      "Epoch 33/100\n",
      "11043/11043 [==============================] - 7s 612us/step - loss: 0.0218 - acc: 0.9958 - val_loss: 0.7828 - val_acc: 0.8616\n",
      "Epoch 34/100\n",
      "11043/11043 [==============================] - 7s 609us/step - loss: 0.0217 - acc: 0.9958 - val_loss: 0.5199 - val_acc: 0.9112\n",
      "Epoch 35/100\n",
      "11043/11043 [==============================] - 7s 613us/step - loss: 0.0214 - acc: 0.9958 - val_loss: 0.6785 - val_acc: 0.8811\n",
      "Epoch 36/100\n",
      "11043/11043 [==============================] - 7s 605us/step - loss: 0.0212 - acc: 0.9958 - val_loss: 0.7730 - val_acc: 0.8624\n",
      "Epoch 37/100\n",
      "11043/11043 [==============================] - 7s 608us/step - loss: 0.0211 - acc: 0.9958 - val_loss: 0.6671 - val_acc: 0.8827\n",
      "Epoch 38/100\n",
      "11043/11043 [==============================] - 7s 599us/step - loss: 0.0210 - acc: 0.9958 - val_loss: 0.6859 - val_acc: 0.8852\n",
      "Epoch 39/100\n",
      "11043/11043 [==============================] - 7s 597us/step - loss: 0.0209 - acc: 0.9958 - val_loss: 0.7274 - val_acc: 0.8803\n",
      "Epoch 40/100\n",
      "11043/11043 [==============================] - 7s 603us/step - loss: 0.0393 - acc: 0.9879 - val_loss: 0.2933 - val_acc: 0.9511\n",
      "Epoch 41/100\n",
      "11043/11043 [==============================] - 7s 604us/step - loss: 0.0354 - acc: 0.9918 - val_loss: 0.3290 - val_acc: 0.9487\n",
      "Epoch 42/100\n",
      "11043/11043 [==============================] - 7s 606us/step - loss: 0.0266 - acc: 0.9941 - val_loss: 0.5148 - val_acc: 0.9243\n",
      "Epoch 43/100\n",
      "11043/11043 [==============================] - 7s 598us/step - loss: 0.0206 - acc: 0.9960 - val_loss: 0.5873 - val_acc: 0.9145\n",
      "Epoch 44/100\n",
      "11043/11043 [==============================] - 7s 607us/step - loss: 0.0196 - acc: 0.9962 - val_loss: 0.5854 - val_acc: 0.9153\n",
      "Epoch 45/100\n",
      "11043/11043 [==============================] - 7s 598us/step - loss: 0.0192 - acc: 0.9963 - val_loss: 0.6031 - val_acc: 0.9129\n",
      "Epoch 46/100\n",
      "11043/11043 [==============================] - 7s 596us/step - loss: 0.0190 - acc: 0.9963 - val_loss: 0.5989 - val_acc: 0.9145\n",
      "Epoch 47/100\n",
      "11043/11043 [==============================] - 7s 606us/step - loss: 0.0189 - acc: 0.9963 - val_loss: 0.6043 - val_acc: 0.9137\n",
      "Epoch 48/100\n",
      "11043/11043 [==============================] - 7s 598us/step - loss: 0.0188 - acc: 0.9963 - val_loss: 0.5642 - val_acc: 0.9194\n",
      "Epoch 49/100\n",
      "11043/11043 [==============================] - 7s 600us/step - loss: 0.0188 - acc: 0.9963 - val_loss: 0.6300 - val_acc: 0.9112\n",
      "Epoch 50/100\n",
      "11043/11043 [==============================] - 7s 615us/step - loss: 0.0187 - acc: 0.9963 - val_loss: 0.6543 - val_acc: 0.9080\n",
      "Epoch 51/100\n",
      "11043/11043 [==============================] - 7s 596us/step - loss: 0.0187 - acc: 0.9963 - val_loss: 0.6337 - val_acc: 0.9112\n",
      "Epoch 52/100\n",
      "11043/11043 [==============================] - 7s 599us/step - loss: 0.0187 - acc: 0.9963 - val_loss: 0.6011 - val_acc: 0.9161\n",
      "Epoch 53/100\n",
      "11043/11043 [==============================] - 7s 592us/step - loss: 0.0186 - acc: 0.9963 - val_loss: 0.6818 - val_acc: 0.9007\n",
      "Epoch 54/100\n",
      "11043/11043 [==============================] - 7s 618us/step - loss: 0.0186 - acc: 0.9963 - val_loss: 0.7180 - val_acc: 0.8941\n",
      "Epoch 55/100\n",
      "11043/11043 [==============================] - 7s 592us/step - loss: 0.0186 - acc: 0.9963 - val_loss: 0.6681 - val_acc: 0.9064\n",
      "Epoch 56/100\n",
      "11043/11043 [==============================] - 7s 602us/step - loss: 0.0186 - acc: 0.9963 - val_loss: 0.6937 - val_acc: 0.9015\n",
      "Epoch 57/100\n",
      "11043/11043 [==============================] - 6s 582us/step - loss: 0.0186 - acc: 0.9963 - val_loss: 0.6944 - val_acc: 0.9007\n",
      "Epoch 58/100\n",
      "11043/11043 [==============================] - 7s 600us/step - loss: 0.0185 - acc: 0.9963 - val_loss: 0.6559 - val_acc: 0.9072\n",
      "Epoch 59/100\n",
      "11043/11043 [==============================] - 7s 617us/step - loss: 0.0185 - acc: 0.9963 - val_loss: 0.6601 - val_acc: 0.9096\n",
      "Epoch 60/100\n",
      "11043/11043 [==============================] - 7s 606us/step - loss: 0.0185 - acc: 0.9963 - val_loss: 0.7377 - val_acc: 0.8925\n",
      "Epoch 61/100\n",
      "11043/11043 [==============================] - 7s 602us/step - loss: 0.0185 - acc: 0.9963 - val_loss: 0.7191 - val_acc: 0.8974\n",
      "Epoch 62/100\n",
      "11043/11043 [==============================] - 7s 606us/step - loss: 0.0185 - acc: 0.9963 - val_loss: 0.6856 - val_acc: 0.9031\n",
      "Epoch 63/100\n",
      "11043/11043 [==============================] - 7s 604us/step - loss: 0.0185 - acc: 0.9963 - val_loss: 0.6852 - val_acc: 0.9031\n",
      "Epoch 64/100\n",
      "11043/11043 [==============================] - 7s 601us/step - loss: 0.0185 - acc: 0.9963 - val_loss: 0.7538 - val_acc: 0.8933\n",
      "Epoch 65/100\n",
      "11043/11043 [==============================] - 7s 607us/step - loss: 0.0185 - acc: 0.9963 - val_loss: 0.7448 - val_acc: 0.8941\n",
      "Epoch 66/100\n",
      "11043/11043 [==============================] - 7s 600us/step - loss: 0.0178 - acc: 0.9964 - val_loss: 0.7841 - val_acc: 0.8884\n",
      "Epoch 67/100\n",
      "11043/11043 [==============================] - 7s 605us/step - loss: 0.0236 - acc: 0.9937 - val_loss: 0.6455 - val_acc: 0.8998\n",
      "Epoch 68/100\n",
      "11043/11043 [==============================] - 7s 603us/step - loss: 0.0349 - acc: 0.9895 - val_loss: 0.3814 - val_acc: 0.9406\n",
      "Epoch 69/100\n",
      "11043/11043 [==============================] - 7s 609us/step - loss: 0.0136 - acc: 0.9970 - val_loss: 0.6470 - val_acc: 0.8958\n",
      "Epoch 70/100\n",
      "11043/11043 [==============================] - 7s 613us/step - loss: 0.0089 - acc: 0.9982 - val_loss: 0.7249 - val_acc: 0.8925\n",
      "Epoch 71/100\n",
      "11043/11043 [==============================] - 7s 617us/step - loss: 0.0051 - acc: 0.9996 - val_loss: 0.6391 - val_acc: 0.9039\n",
      "Epoch 72/100\n",
      "11043/11043 [==============================] - 7s 610us/step - loss: 0.0043 - acc: 0.9999 - val_loss: 0.6752 - val_acc: 0.8982\n",
      "Epoch 73/100\n",
      "11043/11043 [==============================] - 7s 612us/step - loss: 0.0039 - acc: 0.9999 - val_loss: 0.6796 - val_acc: 0.8974\n",
      "Epoch 74/100\n",
      "11043/11043 [==============================] - 7s 615us/step - loss: 0.0036 - acc: 0.9999 - val_loss: 0.6841 - val_acc: 0.8998\n",
      "Epoch 75/100\n",
      "11043/11043 [==============================] - 7s 605us/step - loss: 0.0033 - acc: 0.9999 - val_loss: 0.6767 - val_acc: 0.8998\n",
      "Epoch 76/100\n",
      "11043/11043 [==============================] - 7s 600us/step - loss: 0.0031 - acc: 0.9999 - val_loss: 0.6790 - val_acc: 0.8974\n",
      "Epoch 77/100\n",
      "11043/11043 [==============================] - 7s 595us/step - loss: 0.0029 - acc: 0.9999 - val_loss: 0.6934 - val_acc: 0.8958\n",
      "Epoch 78/100\n",
      "11043/11043 [==============================] - 7s 602us/step - loss: 0.0028 - acc: 0.9999 - val_loss: 0.7087 - val_acc: 0.8933\n",
      "Epoch 79/100\n",
      "11043/11043 [==============================] - 7s 615us/step - loss: 0.0027 - acc: 0.9999 - val_loss: 0.6997 - val_acc: 0.8925\n",
      "Epoch 80/100\n",
      "11043/11043 [==============================] - 7s 609us/step - loss: 0.0025 - acc: 0.9999 - val_loss: 0.7061 - val_acc: 0.8933\n",
      "Epoch 81/100\n",
      "11043/11043 [==============================] - 7s 604us/step - loss: 0.0024 - acc: 0.9999 - val_loss: 0.7196 - val_acc: 0.8893\n",
      "Epoch 82/100\n",
      "11043/11043 [==============================] - 7s 600us/step - loss: 0.0023 - acc: 0.9999 - val_loss: 0.7536 - val_acc: 0.8852\n",
      "Epoch 83/100\n",
      "11043/11043 [==============================] - 7s 602us/step - loss: 0.0022 - acc: 0.9999 - val_loss: 0.7590 - val_acc: 0.8876\n",
      "Epoch 84/100\n",
      "11043/11043 [==============================] - 7s 605us/step - loss: 0.0021 - acc: 0.9999 - val_loss: 0.7379 - val_acc: 0.8901\n",
      "Epoch 85/100\n",
      "11043/11043 [==============================] - 7s 614us/step - loss: 0.0020 - acc: 0.9999 - val_loss: 0.7473 - val_acc: 0.8868\n",
      "Epoch 86/100\n",
      "11043/11043 [==============================] - 7s 606us/step - loss: 0.0019 - acc: 0.9999 - val_loss: 0.7310 - val_acc: 0.8909\n",
      "Epoch 87/100\n",
      "11043/11043 [==============================] - 7s 600us/step - loss: 0.0018 - acc: 0.9999 - val_loss: 0.7164 - val_acc: 0.8933\n",
      "Epoch 88/100\n",
      "11043/11043 [==============================] - 7s 611us/step - loss: 0.0017 - acc: 0.9999 - val_loss: 0.7744 - val_acc: 0.8852\n",
      "Epoch 89/100\n",
      "11043/11043 [==============================] - 7s 604us/step - loss: 0.0017 - acc: 0.9999 - val_loss: 0.7476 - val_acc: 0.8893\n",
      "Epoch 90/100\n",
      "11043/11043 [==============================] - 7s 610us/step - loss: 0.0016 - acc: 0.9999 - val_loss: 0.7459 - val_acc: 0.8909\n",
      "Epoch 91/100\n",
      "11043/11043 [==============================] - 7s 599us/step - loss: 0.0015 - acc: 0.9999 - val_loss: 0.7707 - val_acc: 0.8884\n",
      "Epoch 92/100\n",
      "11043/11043 [==============================] - 7s 598us/step - loss: 0.0015 - acc: 0.9999 - val_loss: 0.7742 - val_acc: 0.8884\n",
      "Epoch 93/100\n",
      "11043/11043 [==============================] - 7s 605us/step - loss: 0.0014 - acc: 0.9999 - val_loss: 0.7242 - val_acc: 0.8982\n",
      "Epoch 94/100\n",
      "11043/11043 [==============================] - 7s 610us/step - loss: 0.0014 - acc: 0.9999 - val_loss: 0.7551 - val_acc: 0.8925\n",
      "Epoch 95/100\n",
      "11043/11043 [==============================] - 7s 601us/step - loss: 0.0013 - acc: 0.9999 - val_loss: 0.7709 - val_acc: 0.8901\n",
      "Epoch 96/100\n",
      "11043/11043 [==============================] - 6s 587us/step - loss: 0.0013 - acc: 0.9999 - val_loss: 0.7544 - val_acc: 0.8933\n",
      "Epoch 97/100\n",
      "11043/11043 [==============================] - 7s 602us/step - loss: 0.0013 - acc: 0.9999 - val_loss: 0.7887 - val_acc: 0.8884\n",
      "Epoch 98/100\n",
      "11043/11043 [==============================] - 7s 606us/step - loss: 0.0012 - acc: 0.9999 - val_loss: 0.8010 - val_acc: 0.8852\n",
      "Epoch 99/100\n",
      "11043/11043 [==============================] - 7s 603us/step - loss: 0.0012 - acc: 0.9999 - val_loss: 0.8098 - val_acc: 0.8860\n",
      "Epoch 100/100\n",
      "11043/11043 [==============================] - 7s 600us/step - loss: 0.0012 - acc: 0.9999 - val_loss: 0.8397 - val_acc: 0.8779\n"
     ]
    }
   ],
   "source": [
    "history = model.fit(X_train_array, y_train, epochs=100, batch_size=64, validation_split=0.1, verbose=1)"
   ]
  },
  {
   "cell_type": "code",
   "execution_count": 17,
   "metadata": {},
   "outputs": [
    {
     "data": {
      "text/plain": [
       "'2019-01-10 09:26:04'"
      ]
     },
     "execution_count": 17,
     "metadata": {},
     "output_type": "execute_result"
    }
   ],
   "source": [
    "datetime.now().strftime('%Y-%m-%d %H:%M:%S')"
   ]
  },
  {
   "cell_type": "code",
   "execution_count": 18,
   "metadata": {},
   "outputs": [
    {
     "name": "stdout",
     "output_type": "stream",
     "text": [
      "dict_keys(['val_loss', 'val_acc', 'loss', 'acc'])\n"
     ]
    },
    {
     "data": {
      "image/png": "[encoded data removed]",
      "text/plain": [
       "<matplotlib.figure.Figure at 0x7f796df0a6a0>"
      ]
     },
     "metadata": {},
     "output_type": "display_data"
    },
    {
     "data": {
      "image/png": "[encoded data removed]",
      "text/plain": [
       "<matplotlib.figure.Figure at 0x7f796df082b0>"
      ]
     },
     "metadata": {},
     "output_type": "display_data"
    }
   ],
   "source": [
    "print(history.history.keys())\n",
    "#  \"Accuracy\"\n",
    "plt.plot(history.history['acc'])\n",
    "plt.plot(history.history['val_acc'])\n",
    "plt.title('model accuracy')\n",
    "plt.ylabel('accuracy')\n",
    "plt.xlabel('epoch')\n",
    "plt.legend(['train', 'validation'], loc='upper left')\n",
    "plt.show()\n",
    "# \"Loss\"\n",
    "plt.plot(history.history['loss'])\n",
    "plt.plot(history.history['val_loss'])\n",
    "plt.title('model loss')\n",
    "plt.ylabel('loss')\n",
    "plt.xlabel('epoch')\n",
    "plt.legend(['train', 'validation'], loc='upper left')\n",
    "plt.show()"
   ]
  },
  {
   "cell_type": "code",
   "execution_count": null,
   "metadata": {},
   "outputs": [],
   "source": []
  },
  {
   "cell_type": "code",
   "execution_count": 19,
   "metadata": {},
   "outputs": [],
   "source": [
    "## predict on test data - check metrics\n",
    "#y_pred = model_svc.predict(X_test_scaled)\n",
    "\n",
    "nrows2, ncols2 = X_test_scaled.shape\n",
    "X_test_array =  X_test_scaled.reshape(nrows2, ncols2, 1)\n",
    "y_pred = model.predict(X_test_array)"
   ]
  },
  {
   "cell_type": "code",
   "execution_count": 20,
   "metadata": {},
   "outputs": [
    {
     "name": "stdout",
     "output_type": "stream",
     "text": [
      "   class2\n",
      "0       0\n",
      "1       0\n",
      "\n",
      "      class2\n",
      "2454       1\n",
      "2455       1\n",
      "2456       1\n"
     ]
    }
   ],
   "source": [
    "print(y_test.head(2))\n",
    "print('')\n",
    "print(y_test.tail(3))"
   ]
  },
  {
   "cell_type": "code",
   "execution_count": 21,
   "metadata": {},
   "outputs": [
    {
     "data": {
      "text/plain": [
       "array([[1.9440890e-14],\n",
       "       [7.7235641e-25],\n",
       "       [2.0698925e-31],\n",
       "       ...,\n",
       "       [9.9688220e-01],\n",
       "       [9.9688220e-01],\n",
       "       [9.8540175e-01]], dtype=float32)"
      ]
     },
     "execution_count": 21,
     "metadata": {},
     "output_type": "execute_result"
    }
   ],
   "source": [
    "y_pred"
   ]
  },
  {
   "cell_type": "code",
   "execution_count": 25,
   "metadata": {},
   "outputs": [
    {
     "name": "stdout",
     "output_type": "stream",
     "text": [
      "              0\n",
      "0  1.944089e-14\n",
      "1  7.723564e-25\n",
      "\n",
      "             0\n",
      "2455  0.996882\n",
      "2456  0.985402\n"
     ]
    }
   ],
   "source": [
    "# convert array to dataframe\n",
    "\n",
    "y_pred2 = pd.DataFrame(y_pred)\n",
    "print(y_pred2.head(2))\n",
    "print('')\n",
    "print(y_pred2.tail(2))"
   ]
  },
  {
   "cell_type": "code",
   "execution_count": 27,
   "metadata": {},
   "outputs": [
    {
     "name": "stdout",
     "output_type": "stream",
     "text": [
      "     0\n",
      "0  0.0\n",
      "1  0.0\n",
      "\n",
      "        0\n",
      "2455  1.0\n",
      "2456  1.0\n"
     ]
    }
   ],
   "source": [
    "y_pred3 = round(y_pred2)\n",
    "y_pred3\n",
    "print(y_pred3.head(2))\n",
    "print('')\n",
    "print(y_pred3.tail(2))"
   ]
  },
  {
   "cell_type": "code",
   "execution_count": 28,
   "metadata": {},
   "outputs": [],
   "source": [
    "from sklearn.metrics import confusion_matrix\n",
    "import itertools\n",
    "\n",
    "def plot_confusion_matrix(cm, classes,\n",
    "                          normalize=False,\n",
    "                          title='Confusion matrix',\n",
    "                          cmap=plt.cm.Blues):\n",
    "    \"\"\"\n",
    "    This function prints and plots the confusion matrix.\n",
    "    Normalization can be applied by setting `normalize=True`.\n",
    "    \"\"\"\n",
    "    if normalize:\n",
    "        cm = cm.astype('float') / cm.sum(axis=1)[:, np.newaxis]\n",
    "        print(\"Normalized confusion matrix\")\n",
    "    else:\n",
    "        print('Confusion matrix, without normalization')\n",
    "\n",
    "    print(cm)\n",
    "\n",
    "    plt.imshow(cm, interpolation='nearest', cmap=cmap)\n",
    "    plt.title(title)\n",
    "    plt.colorbar()\n",
    "    tick_marks = np.arange(len(classes))\n",
    "    plt.xticks(tick_marks, classes, rotation=45)\n",
    "    plt.yticks(tick_marks, classes)\n",
    "\n",
    "    fmt = '.2f' if normalize else 'd'\n",
    "    thresh = cm.max() / 2.\n",
    "    for i, j in itertools.product(range(cm.shape[0]), range(cm.shape[1])):\n",
    "        plt.text(j, i, format(cm[i, j], fmt),\n",
    "                 horizontalalignment=\"center\",\n",
    "                 color=\"white\" if cm[i, j] > thresh else \"black\")\n",
    "\n",
    "    plt.tight_layout()\n",
    "    plt.ylabel('True label')\n",
    "    plt.xlabel('Predicted label')"
   ]
  },
  {
   "cell_type": "code",
   "execution_count": 30,
   "metadata": {},
   "outputs": [
    {
     "name": "stdout",
     "output_type": "stream",
     "text": [
      "[[1871    0]\n",
      " [ 194  392]]\n"
     ]
    }
   ],
   "source": [
    "## Confusion matrix\n",
    "from sklearn.metrics import classification_report, confusion_matrix\n",
    "\n",
    "class_names = [0,1] #['wake','sleep_stage_1','sleep_stage_2']  # wake, SS1, SS2  ; # '0','1','2'\n",
    "\n",
    "print(confusion_matrix(y_test, y_pred3))"
   ]
  },
  {
   "cell_type": "code",
   "execution_count": 32,
   "metadata": {},
   "outputs": [
    {
     "ename": "TypeError",
     "evalue": "object of type 'int' has no len()",
     "output_type": "error",
     "traceback": [
      "\u001b[0;31m---------------------------------------------------------------------------\u001b[0m",
      "\u001b[0;31mTypeError\u001b[0m                                 Traceback (most recent call last)",
      "\u001b[0;32m<ipython-input-32-71e41add9fb5>\u001b[0m in \u001b[0;36m<module>\u001b[0;34m()\u001b[0m\n\u001b[0;32m----> 1\u001b[0;31m \u001b[0mprint\u001b[0m\u001b[0;34m(\u001b[0m\u001b[0mclassification_report\u001b[0m\u001b[0;34m(\u001b[0m\u001b[0my_test\u001b[0m\u001b[0;34m,\u001b[0m \u001b[0my_pred3\u001b[0m\u001b[0;34m,\u001b[0m \u001b[0mtarget_names\u001b[0m\u001b[0;34m=\u001b[0m\u001b[0mclass_names\u001b[0m\u001b[0;34m)\u001b[0m\u001b[0;34m)\u001b[0m\u001b[0;34m\u001b[0m\u001b[0m\n\u001b[0m",
      "\u001b[0;32m~/anaconda3/lib/python3.6/site-packages/sklearn/metrics/classification.py\u001b[0m in \u001b[0;36mclassification_report\u001b[0;34m(y_true, y_pred, labels, target_names, sample_weight, digits)\u001b[0m\n\u001b[1;32m   1433\u001b[0m     \u001b[0;32mif\u001b[0m \u001b[0mtarget_names\u001b[0m \u001b[0;32mis\u001b[0m \u001b[0;32mNone\u001b[0m\u001b[0;34m:\u001b[0m\u001b[0;34m\u001b[0m\u001b[0m\n\u001b[1;32m   1434\u001b[0m         \u001b[0mtarget_names\u001b[0m \u001b[0;34m=\u001b[0m \u001b[0;34m[\u001b[0m\u001b[0;34mu'%s'\u001b[0m \u001b[0;34m%\u001b[0m \u001b[0ml\u001b[0m \u001b[0;32mfor\u001b[0m \u001b[0ml\u001b[0m \u001b[0;32min\u001b[0m \u001b[0mlabels\u001b[0m\u001b[0;34m]\u001b[0m\u001b[0;34m\u001b[0m\u001b[0m\n\u001b[0;32m-> 1435\u001b[0;31m     \u001b[0mname_width\u001b[0m \u001b[0;34m=\u001b[0m \u001b[0mmax\u001b[0m\u001b[0;34m(\u001b[0m\u001b[0mlen\u001b[0m\u001b[0;34m(\u001b[0m\u001b[0mcn\u001b[0m\u001b[0;34m)\u001b[0m \u001b[0;32mfor\u001b[0m \u001b[0mcn\u001b[0m \u001b[0;32min\u001b[0m \u001b[0mtarget_names\u001b[0m\u001b[0;34m)\u001b[0m\u001b[0;34m\u001b[0m\u001b[0m\n\u001b[0m\u001b[1;32m   1436\u001b[0m     \u001b[0mwidth\u001b[0m \u001b[0;34m=\u001b[0m \u001b[0mmax\u001b[0m\u001b[0;34m(\u001b[0m\u001b[0mname_width\u001b[0m\u001b[0;34m,\u001b[0m \u001b[0mlen\u001b[0m\u001b[0;34m(\u001b[0m\u001b[0mlast_line_heading\u001b[0m\u001b[0;34m)\u001b[0m\u001b[0;34m,\u001b[0m \u001b[0mdigits\u001b[0m\u001b[0;34m)\u001b[0m\u001b[0;34m\u001b[0m\u001b[0m\n\u001b[1;32m   1437\u001b[0m \u001b[0;34m\u001b[0m\u001b[0m\n",
      "\u001b[0;32m~/anaconda3/lib/python3.6/site-packages/sklearn/metrics/classification.py\u001b[0m in \u001b[0;36m<genexpr>\u001b[0;34m(.0)\u001b[0m\n\u001b[1;32m   1433\u001b[0m     \u001b[0;32mif\u001b[0m \u001b[0mtarget_names\u001b[0m \u001b[0;32mis\u001b[0m \u001b[0;32mNone\u001b[0m\u001b[0;34m:\u001b[0m\u001b[0;34m\u001b[0m\u001b[0m\n\u001b[1;32m   1434\u001b[0m         \u001b[0mtarget_names\u001b[0m \u001b[0;34m=\u001b[0m \u001b[0;34m[\u001b[0m\u001b[0;34mu'%s'\u001b[0m \u001b[0;34m%\u001b[0m \u001b[0ml\u001b[0m \u001b[0;32mfor\u001b[0m \u001b[0ml\u001b[0m \u001b[0;32min\u001b[0m \u001b[0mlabels\u001b[0m\u001b[0;34m]\u001b[0m\u001b[0;34m\u001b[0m\u001b[0m\n\u001b[0;32m-> 1435\u001b[0;31m     \u001b[0mname_width\u001b[0m \u001b[0;34m=\u001b[0m \u001b[0mmax\u001b[0m\u001b[0;34m(\u001b[0m\u001b[0mlen\u001b[0m\u001b[0;34m(\u001b[0m\u001b[0mcn\u001b[0m\u001b[0;34m)\u001b[0m \u001b[0;32mfor\u001b[0m \u001b[0mcn\u001b[0m \u001b[0;32min\u001b[0m \u001b[0mtarget_names\u001b[0m\u001b[0;34m)\u001b[0m\u001b[0;34m\u001b[0m\u001b[0m\n\u001b[0m\u001b[1;32m   1436\u001b[0m     \u001b[0mwidth\u001b[0m \u001b[0;34m=\u001b[0m \u001b[0mmax\u001b[0m\u001b[0;34m(\u001b[0m\u001b[0mname_width\u001b[0m\u001b[0;34m,\u001b[0m \u001b[0mlen\u001b[0m\u001b[0;34m(\u001b[0m\u001b[0mlast_line_heading\u001b[0m\u001b[0;34m)\u001b[0m\u001b[0;34m,\u001b[0m \u001b[0mdigits\u001b[0m\u001b[0;34m)\u001b[0m\u001b[0;34m\u001b[0m\u001b[0m\n\u001b[1;32m   1437\u001b[0m \u001b[0;34m\u001b[0m\u001b[0m\n",
      "\u001b[0;31mTypeError\u001b[0m: object of type 'int' has no len()"
     ]
    }
   ],
   "source": [
    "print(classification_report(y_test, y_pred3, target_names=class_names))"
   ]
  },
  {
   "cell_type": "code",
   "execution_count": null,
   "metadata": {},
   "outputs": [],
   "source": []
  },
  {
   "cell_type": "code",
   "execution_count": null,
   "metadata": {},
   "outputs": [],
   "source": [
    "## steps to plot train & validation accuracy & loss\n",
    "\n",
    "https://stackoverflow.com/questions/41908379/keras-plot-training-validation-and-test-set-accuracy\n",
    "\n",
    "history = model.fit(x_test, y_test, nb_epoch=10, validation_split=0.2, shuffle=True)"
   ]
  },
  {
   "cell_type": "code",
   "execution_count": null,
   "metadata": {},
   "outputs": [],
   "source": [
    "print(history.history.keys())\n",
    "#  \"Accuracy\"\n",
    "plt.plot(history.history['acc'])\n",
    "plt.plot(history.history['val_acc'])\n",
    "plt.title('model accuracy')\n",
    "plt.ylabel('accuracy')\n",
    "plt.xlabel('epoch')\n",
    "plt.legend(['train', 'validation'], loc='upper left')\n",
    "plt.show()\n",
    "# \"Loss\"\n",
    "plt.plot(history.history['loss'])\n",
    "plt.plot(history.history['val_loss'])\n",
    "plt.title('model loss')\n",
    "plt.ylabel('loss')\n",
    "plt.xlabel('epoch')\n",
    "plt.legend(['train', 'validation'], loc='upper left')\n",
    "plt.show()"
   ]
  }
 ],
 "metadata": {
  "kernelspec": {
   "display_name": "Python 3",
   "language": "python",
   "name": "python3"
  },
  "language_info": {
   "codemirror_mode": {
    "name": "ipython",
    "version": 3
   },
   "file_extension": ".py",
   "mimetype": "text/x-python",
   "name": "python",
   "nbconvert_exporter": "python",
   "pygments_lexer": "ipython3",
   "version": "3.6.9"
  }
 },
 "nbformat": 4,
 "nbformat_minor": 2
}
