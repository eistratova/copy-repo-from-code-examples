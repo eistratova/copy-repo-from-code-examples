{
 "cells": [
  {
   "cell_type": "code",
   "execution_count": null,
   "metadata": {},
   "outputs": [],
   "source": [
    "## EEG signal classification into wake and drowsy using CNN network\n",
    "\n",
    "## adding upsampling through SMOTE & a different network\n",
    "\n",
    "## POSSIBLE PROBLEMS & SOLUTIONS:\n",
    "# 1. overfitting (see the plots - how bad ?) \n",
    "# no. of training examples: 83076 (train set) = Train on 74768 samples, validate on 8308 samples\n",
    "# no. of trainable parameters: 4,793,957\n",
    "# => reduce the no. of epochs\n",
    "#    upsample data, \n",
    "#    reduce parameters/ change network, \n",
    "#    use dropout (in last-but-one layer)\n",
    "##   WHERE IS THE LEARNING RATE BEING SPECIFIED ?\n",
    "\n",
    "# 2. issue with parameter values: softmax vs sigmoid,  dense = 1 or 2,  binary or categorical cross-entropy\n",
    "\n",
    "# 3. conversion of CNN output (float) to category (0,1) - why not done by the model?\n",
    "\n",
    "\n",
    "## how to do train test split keeping class distribution similar\n",
    "## use stratified_sampling (keep class ratios similar in train test sets) instead of random sampling\n",
    "# https://datascience.stackexchange.com/questions/32818/train-test-split-of-unbalanced-dataset-classification\n",
    "## class_weight = balanced (giving more weightage to penalties for the smaller class)\n",
    "# https://stackoverflow.com/questions/30972029/how-does-the-class-weight-parameter-in-scikit-learn-work\n",
    "\n",
    "\n",
    "\n",
    "##  INFERENCE: recall is low (0.65) for sleep state (class 1)  ##\n",
    "\n",
    "#(array([0.92174321, 0.89073806]),\n",
    "# array([0.98116972, 0.64823591]),\n",
    "# array([0.95052854, 0.75038098]),\n",
    "# array([8019, 1899]))\n"
   ]
  },
  {
   "cell_type": "code",
   "execution_count": 1,
   "metadata": {},
   "outputs": [
    {
     "name": "stderr",
     "output_type": "stream",
     "text": [
      "/home/intern_eyecare/anaconda3/lib/python3.6/site-packages/h5py/__init__.py:36: FutureWarning: Conversion of the second argument of issubdtype from `float` to `np.floating` is deprecated. In future, it will be treated as `np.float64 == np.dtype(float).type`.\n",
      "  from ._conv import register_converters as _register_converters\n",
      "Using TensorFlow backend.\n",
      "/home/intern_eyecare/anaconda3/lib/python3.6/importlib/_bootstrap.py:219: RuntimeWarning: compiletime version 3.5 of module 'tensorflow.python.framework.fast_tensor_util' does not match runtime version 3.6\n",
      "  return f(*args, **kwds)\n"
     ]
    }
   ],
   "source": [
    "import pandas as pd\n",
    "import numpy as np\n",
    "import os\n",
    "import pickle\n",
    "from scipy import stats\n",
    "import itertools\n",
    "import matplotlib.pyplot as plt\n",
    "from datetime import datetime\n",
    "\n",
    "from sklearn.preprocessing import MinMaxScaler\n",
    "from sklearn.model_selection import train_test_split\n",
    "#from sklearn.cross_validation import train_test_split\n",
    "\n",
    "\n",
    "import keras\n",
    "from keras.models import Sequential\n",
    "from keras.layers import Dense\n",
    "from keras.layers import Flatten\n",
    "from keras.layers.convolutional import Conv1D\n",
    "from keras.layers.convolutional import MaxPooling1D\n"
   ]
  },
  {
   "cell_type": "code",
   "execution_count": 2,
   "metadata": {},
   "outputs": [],
   "source": [
    "file_location=r'/home/intern_eyecare/Desktop/EEG/raw_data' #C:\\Users\\BOL1KOR\\Desktop\\BCI Project\\Pickle_Files\\Pickle_files_eeg'\n",
    "os.chdir(r'/home/intern_eyecare/Desktop/EEG/raw_data') #C:\\Users\\BOL1KOR\\Desktop\\BCI Project\\Pickle_Files\\Pickle_files_eeg')\n"
   ]
  },
  {
   "cell_type": "code",
   "execution_count": 3,
   "metadata": {},
   "outputs": [],
   "source": [
    "dfull = pickle.load(open('raw_EEG_all_patients.pkl', 'rb'))  #raw_EEG_all_patients.pkl"
   ]
  },
  {
   "cell_type": "code",
   "execution_count": 4,
   "metadata": {},
   "outputs": [
    {
     "data": {
      "text/html": [
       "<div>\n",
       "<style scoped>\n",
       "    .dataframe tbody tr th:only-of-type {\n",
       "        vertical-align: middle;\n",
       "    }\n",
       "\n",
       "    .dataframe tbody tr th {\n",
       "        vertical-align: top;\n",
       "    }\n",
       "\n",
       "    .dataframe thead th {\n",
       "        text-align: right;\n",
       "    }\n",
       "</style>\n",
       "<table border=\"1\" class=\"dataframe\">\n",
       "  <thead>\n",
       "    <tr style=\"text-align: right;\">\n",
       "      <th></th>\n",
       "      <th>0</th>\n",
       "      <th>1</th>\n",
       "      <th>2</th>\n",
       "      <th>3</th>\n",
       "      <th>4</th>\n",
       "      <th>5</th>\n",
       "      <th>6</th>\n",
       "      <th>7</th>\n",
       "      <th>8</th>\n",
       "      <th>9</th>\n",
       "      <th>...</th>\n",
       "      <th>2994</th>\n",
       "      <th>2995</th>\n",
       "      <th>2996</th>\n",
       "      <th>2997</th>\n",
       "      <th>2998</th>\n",
       "      <th>2999</th>\n",
       "      <th>pID</th>\n",
       "      <th>day</th>\n",
       "      <th>epoch</th>\n",
       "      <th>class_label</th>\n",
       "    </tr>\n",
       "  </thead>\n",
       "  <tbody>\n",
       "    <tr>\n",
       "      <th>0</th>\n",
       "      <td>9.041758</td>\n",
       "      <td>-6.624176</td>\n",
       "      <td>2.756044</td>\n",
       "      <td>-1.305495</td>\n",
       "      <td>15.134066</td>\n",
       "      <td>-11.942857</td>\n",
       "      <td>-5.850549</td>\n",
       "      <td>3.626374</td>\n",
       "      <td>-3.819780</td>\n",
       "      <td>-24.320879</td>\n",
       "      <td>...</td>\n",
       "      <td>9.041758</td>\n",
       "      <td>2.369231</td>\n",
       "      <td>1.885714</td>\n",
       "      <td>9.041758</td>\n",
       "      <td>7.301099</td>\n",
       "      <td>16.294505</td>\n",
       "      <td>404</td>\n",
       "      <td>2</td>\n",
       "      <td>s1e1</td>\n",
       "      <td>wake</td>\n",
       "    </tr>\n",
       "    <tr>\n",
       "      <th>1</th>\n",
       "      <td>9.428571</td>\n",
       "      <td>13.296703</td>\n",
       "      <td>11.169231</td>\n",
       "      <td>14.167033</td>\n",
       "      <td>6.334066</td>\n",
       "      <td>10.589011</td>\n",
       "      <td>6.817582</td>\n",
       "      <td>10.202198</td>\n",
       "      <td>12.716484</td>\n",
       "      <td>7.107692</td>\n",
       "      <td>...</td>\n",
       "      <td>-28.382418</td>\n",
       "      <td>-14.747253</td>\n",
       "      <td>-23.547253</td>\n",
       "      <td>-23.257143</td>\n",
       "      <td>-13.683516</td>\n",
       "      <td>-7.494505</td>\n",
       "      <td>404</td>\n",
       "      <td>2</td>\n",
       "      <td>s1e2</td>\n",
       "      <td>wake</td>\n",
       "    </tr>\n",
       "    <tr>\n",
       "      <th>2</th>\n",
       "      <td>-0.048352</td>\n",
       "      <td>-7.687912</td>\n",
       "      <td>-14.360440</td>\n",
       "      <td>-17.745055</td>\n",
       "      <td>-21.903297</td>\n",
       "      <td>-16.874725</td>\n",
       "      <td>-16.874725</td>\n",
       "      <td>-12.523077</td>\n",
       "      <td>-12.909890</td>\n",
       "      <td>-15.520879</td>\n",
       "      <td>...</td>\n",
       "      <td>1.305495</td>\n",
       "      <td>3.723077</td>\n",
       "      <td>-6.720879</td>\n",
       "      <td>-4.303297</td>\n",
       "      <td>-6.527473</td>\n",
       "      <td>-4.109890</td>\n",
       "      <td>404</td>\n",
       "      <td>2</td>\n",
       "      <td>s1e3</td>\n",
       "      <td>wake</td>\n",
       "    </tr>\n",
       "  </tbody>\n",
       "</table>\n",
       "<p>3 rows Ã— 3004 columns</p>\n",
       "</div>"
      ],
      "text/plain": [
       "          0          1          2          3          4          5          6  \\\n",
       "0  9.041758  -6.624176   2.756044  -1.305495  15.134066 -11.942857  -5.850549   \n",
       "1  9.428571  13.296703  11.169231  14.167033   6.334066  10.589011   6.817582   \n",
       "2 -0.048352  -7.687912 -14.360440 -17.745055 -21.903297 -16.874725 -16.874725   \n",
       "\n",
       "           7          8          9     ...            2994       2995  \\\n",
       "0   3.626374  -3.819780 -24.320879     ...        9.041758   2.369231   \n",
       "1  10.202198  12.716484   7.107692     ...      -28.382418 -14.747253   \n",
       "2 -12.523077 -12.909890 -15.520879     ...        1.305495   3.723077   \n",
       "\n",
       "        2996       2997       2998       2999  pID  day  epoch  class_label  \n",
       "0   1.885714   9.041758   7.301099  16.294505  404    2   s1e1         wake  \n",
       "1 -23.547253 -23.257143 -13.683516  -7.494505  404    2   s1e2         wake  \n",
       "2  -6.720879  -4.303297  -6.527473  -4.109890  404    2   s1e3         wake  \n",
       "\n",
       "[3 rows x 3004 columns]"
      ]
     },
     "execution_count": 4,
     "metadata": {},
     "output_type": "execute_result"
    }
   ],
   "source": [
    "dfull.head(3)"
   ]
  },
  {
   "cell_type": "code",
   "execution_count": 5,
   "metadata": {},
   "outputs": [],
   "source": [
    "### Convert from 3-class to 2-class ####\n",
    "dfull['class2'] = dfull['class_label']\n",
    "dfull['class2'] = [0 if x == 'wake' else 1 for x in dfull['class2']]"
   ]
  },
  {
   "cell_type": "code",
   "execution_count": 6,
   "metadata": {},
   "outputs": [],
   "source": [
    "## convert selected columns to categories \n",
    "## DO NOT CONVERT 'class2' from numeric to category - this probably gives error in grid search\n",
    "dfull[['class_label']] = dfull[['class_label']].astype('str')        # ,'class2'\n",
    "#dfull[['class_label']] = dfull[['class_label']].astype('category')   # ,'class2'"
   ]
  },
  {
   "cell_type": "code",
   "execution_count": 7,
   "metadata": {},
   "outputs": [
    {
     "data": {
      "text/plain": [
       "class_label\n",
       "sleep_stage_1     2804\n",
       "sleep_stage_2    17799\n",
       "wake             72391\n",
       "dtype: int64"
      ]
     },
     "execution_count": 7,
     "metadata": {},
     "output_type": "execute_result"
    }
   ],
   "source": [
    "dfull.groupby('class_label').size()"
   ]
  },
  {
   "cell_type": "code",
   "execution_count": 8,
   "metadata": {},
   "outputs": [
    {
     "data": {
      "text/plain": [
       "0                 0\n",
       "1                 0\n",
       "2                 0\n",
       "3                 0\n",
       "4                 0\n",
       "5                 0\n",
       "6                 0\n",
       "7                 0\n",
       "8                 0\n",
       "9                 0\n",
       "10                0\n",
       "11                0\n",
       "12                0\n",
       "13                0\n",
       "14                0\n",
       "15                0\n",
       "16                0\n",
       "17                0\n",
       "18                0\n",
       "19                0\n",
       "20                0\n",
       "21                0\n",
       "22                0\n",
       "23                0\n",
       "24                0\n",
       "25                0\n",
       "26                0\n",
       "27                0\n",
       "28                0\n",
       "29                0\n",
       "               ... \n",
       "2975              0\n",
       "2976              0\n",
       "2977              0\n",
       "2978              0\n",
       "2979              0\n",
       "2980              0\n",
       "2981              0\n",
       "2982              0\n",
       "2983              0\n",
       "2984              0\n",
       "2985              0\n",
       "2986              0\n",
       "2987              0\n",
       "2988              0\n",
       "2989              0\n",
       "2990              0\n",
       "2991              0\n",
       "2992              0\n",
       "2993              0\n",
       "2994              0\n",
       "2995              0\n",
       "2996              0\n",
       "2997              0\n",
       "2998              0\n",
       "2999           3146\n",
       "pID               0\n",
       "day               0\n",
       "epoch             0\n",
       "class_label       0\n",
       "class2            0\n",
       "Length: 3005, dtype: int64"
      ]
     },
     "execution_count": 8,
     "metadata": {},
     "output_type": "execute_result"
    }
   ],
   "source": [
    "dfull.isnull().sum()"
   ]
  },
  {
   "cell_type": "code",
   "execution_count": 9,
   "metadata": {},
   "outputs": [
    {
     "data": {
      "text/html": [
       "<div>\n",
       "<style scoped>\n",
       "    .dataframe tbody tr th:only-of-type {\n",
       "        vertical-align: middle;\n",
       "    }\n",
       "\n",
       "    .dataframe tbody tr th {\n",
       "        vertical-align: top;\n",
       "    }\n",
       "\n",
       "    .dataframe thead th {\n",
       "        text-align: right;\n",
       "    }\n",
       "</style>\n",
       "<table border=\"1\" class=\"dataframe\">\n",
       "  <thead>\n",
       "    <tr style=\"text-align: right;\">\n",
       "      <th></th>\n",
       "      <th>0</th>\n",
       "      <th>1</th>\n",
       "      <th>2</th>\n",
       "      <th>3</th>\n",
       "      <th>4</th>\n",
       "      <th>5</th>\n",
       "      <th>6</th>\n",
       "      <th>7</th>\n",
       "      <th>8</th>\n",
       "      <th>9</th>\n",
       "      <th>...</th>\n",
       "      <th>2994</th>\n",
       "      <th>2995</th>\n",
       "      <th>2996</th>\n",
       "      <th>2997</th>\n",
       "      <th>2998</th>\n",
       "      <th>pID</th>\n",
       "      <th>day</th>\n",
       "      <th>epoch</th>\n",
       "      <th>class_label</th>\n",
       "      <th>class2</th>\n",
       "    </tr>\n",
       "  </thead>\n",
       "  <tbody>\n",
       "    <tr>\n",
       "      <th>0</th>\n",
       "      <td>9.041758</td>\n",
       "      <td>-6.624176</td>\n",
       "      <td>2.756044</td>\n",
       "      <td>-1.305495</td>\n",
       "      <td>15.134066</td>\n",
       "      <td>-11.942857</td>\n",
       "      <td>-5.850549</td>\n",
       "      <td>3.626374</td>\n",
       "      <td>-3.81978</td>\n",
       "      <td>-24.320879</td>\n",
       "      <td>...</td>\n",
       "      <td>9.041758</td>\n",
       "      <td>2.369231</td>\n",
       "      <td>1.885714</td>\n",
       "      <td>9.041758</td>\n",
       "      <td>7.301099</td>\n",
       "      <td>404</td>\n",
       "      <td>2</td>\n",
       "      <td>s1e1</td>\n",
       "      <td>wake</td>\n",
       "      <td>0</td>\n",
       "    </tr>\n",
       "  </tbody>\n",
       "</table>\n",
       "<p>1 rows Ã— 3004 columns</p>\n",
       "</div>"
      ],
      "text/plain": [
       "          0         1         2         3          4          5         6  \\\n",
       "0  9.041758 -6.624176  2.756044 -1.305495  15.134066 -11.942857 -5.850549   \n",
       "\n",
       "          7        8          9   ...        2994      2995      2996  \\\n",
       "0  3.626374 -3.81978 -24.320879   ...    9.041758  2.369231  1.885714   \n",
       "\n",
       "       2997      2998  pID  day  epoch  class_label  class2  \n",
       "0  9.041758  7.301099  404    2   s1e1         wake       0  \n",
       "\n",
       "[1 rows x 3004 columns]"
      ]
     },
     "execution_count": 9,
     "metadata": {},
     "output_type": "execute_result"
    }
   ],
   "source": [
    "## drop column '2999' with NAN values instead of dropping the rows (which will reduce data)\n",
    "dfull = dfull.drop([2999],1)\n",
    "dfull.head(1)"
   ]
  },
  {
   "cell_type": "code",
   "execution_count": null,
   "metadata": {},
   "outputs": [],
   "source": []
  },
  {
   "cell_type": "code",
   "execution_count": 10,
   "metadata": {},
   "outputs": [
    {
     "data": {
      "text/plain": [
       "array(['404', '400', '410', '406', '407', '402', '411', '414', '419',\n",
       "       '405', '417', '413', '416', '418', '403', '415', '401', '412',\n",
       "       '408', '409'], dtype=object)"
      ]
     },
     "execution_count": 10,
     "metadata": {},
     "output_type": "execute_result"
    }
   ],
   "source": [
    "### all patient data ##\n",
    "#ID = dfull['pID']\n",
    "#ID = pd.DataFrame(dfull['pID'].unique())\n",
    "ID = dfull['pID'].unique()\n",
    "#ID.dtype  ## => dtype('O')\n",
    "ID"
   ]
  },
  {
   "cell_type": "code",
   "execution_count": 11,
   "metadata": {},
   "outputs": [],
   "source": [
    "#### segregate data into train:test set by pat id, then balance the data\n",
    "#Test = dfull[ (dfull.pID == '402') & (dfull.day == '2') ]\n",
    "#Train = dfull[~( (dfull.pID == '402') & (dfull.day == '2') )]\n",
    "\n",
    "np.random.seed(456)\n",
    "msk = np.random.rand(len(ID)) < 0.8\n",
    "\n",
    "trainIDs = pd.DataFrame()\n",
    "testIDs = pd.DataFrame()\n",
    "trainIDs['pID'] = ID[msk]\n",
    "testIDs['pID'] = ID[~msk]"
   ]
  },
  {
   "cell_type": "code",
   "execution_count": 12,
   "metadata": {},
   "outputs": [
    {
     "data": {
      "text/html": [
       "<div>\n",
       "<style scoped>\n",
       "    .dataframe tbody tr th:only-of-type {\n",
       "        vertical-align: middle;\n",
       "    }\n",
       "\n",
       "    .dataframe tbody tr th {\n",
       "        vertical-align: top;\n",
       "    }\n",
       "\n",
       "    .dataframe thead th {\n",
       "        text-align: right;\n",
       "    }\n",
       "</style>\n",
       "<table border=\"1\" class=\"dataframe\">\n",
       "  <thead>\n",
       "    <tr style=\"text-align: right;\">\n",
       "      <th></th>\n",
       "      <th>pID</th>\n",
       "    </tr>\n",
       "  </thead>\n",
       "  <tbody>\n",
       "    <tr>\n",
       "      <th>0</th>\n",
       "      <td>404</td>\n",
       "    </tr>\n",
       "    <tr>\n",
       "      <th>1</th>\n",
       "      <td>400</td>\n",
       "    </tr>\n",
       "    <tr>\n",
       "      <th>2</th>\n",
       "      <td>410</td>\n",
       "    </tr>\n",
       "    <tr>\n",
       "      <th>3</th>\n",
       "      <td>407</td>\n",
       "    </tr>\n",
       "    <tr>\n",
       "      <th>4</th>\n",
       "      <td>402</td>\n",
       "    </tr>\n",
       "    <tr>\n",
       "      <th>5</th>\n",
       "      <td>414</td>\n",
       "    </tr>\n",
       "    <tr>\n",
       "      <th>6</th>\n",
       "      <td>419</td>\n",
       "    </tr>\n",
       "    <tr>\n",
       "      <th>7</th>\n",
       "      <td>405</td>\n",
       "    </tr>\n",
       "    <tr>\n",
       "      <th>8</th>\n",
       "      <td>417</td>\n",
       "    </tr>\n",
       "    <tr>\n",
       "      <th>9</th>\n",
       "      <td>413</td>\n",
       "    </tr>\n",
       "    <tr>\n",
       "      <th>10</th>\n",
       "      <td>416</td>\n",
       "    </tr>\n",
       "    <tr>\n",
       "      <th>11</th>\n",
       "      <td>418</td>\n",
       "    </tr>\n",
       "    <tr>\n",
       "      <th>12</th>\n",
       "      <td>403</td>\n",
       "    </tr>\n",
       "    <tr>\n",
       "      <th>13</th>\n",
       "      <td>415</td>\n",
       "    </tr>\n",
       "    <tr>\n",
       "      <th>14</th>\n",
       "      <td>401</td>\n",
       "    </tr>\n",
       "    <tr>\n",
       "      <th>15</th>\n",
       "      <td>412</td>\n",
       "    </tr>\n",
       "    <tr>\n",
       "      <th>16</th>\n",
       "      <td>408</td>\n",
       "    </tr>\n",
       "    <tr>\n",
       "      <th>17</th>\n",
       "      <td>409</td>\n",
       "    </tr>\n",
       "  </tbody>\n",
       "</table>\n",
       "</div>"
      ],
      "text/plain": [
       "    pID\n",
       "0   404\n",
       "1   400\n",
       "2   410\n",
       "3   407\n",
       "4   402\n",
       "5   414\n",
       "6   419\n",
       "7   405\n",
       "8   417\n",
       "9   413\n",
       "10  416\n",
       "11  418\n",
       "12  403\n",
       "13  415\n",
       "14  401\n",
       "15  412\n",
       "16  408\n",
       "17  409"
      ]
     },
     "execution_count": 12,
     "metadata": {},
     "output_type": "execute_result"
    }
   ],
   "source": [
    "trainIDs"
   ]
  },
  {
   "cell_type": "code",
   "execution_count": 13,
   "metadata": {},
   "outputs": [
    {
     "data": {
      "text/html": [
       "<div>\n",
       "<style scoped>\n",
       "    .dataframe tbody tr th:only-of-type {\n",
       "        vertical-align: middle;\n",
       "    }\n",
       "\n",
       "    .dataframe tbody tr th {\n",
       "        vertical-align: top;\n",
       "    }\n",
       "\n",
       "    .dataframe thead th {\n",
       "        text-align: right;\n",
       "    }\n",
       "</style>\n",
       "<table border=\"1\" class=\"dataframe\">\n",
       "  <thead>\n",
       "    <tr style=\"text-align: right;\">\n",
       "      <th></th>\n",
       "      <th>pID</th>\n",
       "    </tr>\n",
       "  </thead>\n",
       "  <tbody>\n",
       "    <tr>\n",
       "      <th>0</th>\n",
       "      <td>406</td>\n",
       "    </tr>\n",
       "    <tr>\n",
       "      <th>1</th>\n",
       "      <td>411</td>\n",
       "    </tr>\n",
       "  </tbody>\n",
       "</table>\n",
       "</div>"
      ],
      "text/plain": [
       "   pID\n",
       "0  406\n",
       "1  411"
      ]
     },
     "execution_count": 13,
     "metadata": {},
     "output_type": "execute_result"
    }
   ],
   "source": [
    "testIDs"
   ]
  },
  {
   "cell_type": "code",
   "execution_count": 14,
   "metadata": {},
   "outputs": [],
   "source": [
    "#trainIDs.reset_index(inplace=True)\n",
    "#testIDs.reset_index(inplace=True)\n",
    "\n",
    "Train = dfull.loc[dfull['pID'].isin(ID[msk])] #pd.DataFrame(getData(trainIDs['pID'],dfull), columns = dfull.columns)\n",
    "Test = dfull.loc[dfull['pID'].isin(ID[~msk])] #pd.DataFrame(getData(testIDs['pID'],dfull), columns = dfull.columns)"
   ]
  },
  {
   "cell_type": "code",
   "execution_count": 15,
   "metadata": {},
   "outputs": [
    {
     "data": {
      "text/html": [
       "<div>\n",
       "<style scoped>\n",
       "    .dataframe tbody tr th:only-of-type {\n",
       "        vertical-align: middle;\n",
       "    }\n",
       "\n",
       "    .dataframe tbody tr th {\n",
       "        vertical-align: top;\n",
       "    }\n",
       "\n",
       "    .dataframe thead th {\n",
       "        text-align: right;\n",
       "    }\n",
       "</style>\n",
       "<table border=\"1\" class=\"dataframe\">\n",
       "  <thead>\n",
       "    <tr style=\"text-align: right;\">\n",
       "      <th></th>\n",
       "      <th>0</th>\n",
       "      <th>1</th>\n",
       "      <th>2</th>\n",
       "      <th>3</th>\n",
       "      <th>4</th>\n",
       "      <th>5</th>\n",
       "      <th>6</th>\n",
       "      <th>7</th>\n",
       "      <th>8</th>\n",
       "      <th>9</th>\n",
       "      <th>...</th>\n",
       "      <th>2994</th>\n",
       "      <th>2995</th>\n",
       "      <th>2996</th>\n",
       "      <th>2997</th>\n",
       "      <th>2998</th>\n",
       "      <th>pID</th>\n",
       "      <th>day</th>\n",
       "      <th>epoch</th>\n",
       "      <th>class_label</th>\n",
       "      <th>class2</th>\n",
       "    </tr>\n",
       "  </thead>\n",
       "  <tbody>\n",
       "    <tr>\n",
       "      <th>7362</th>\n",
       "      <td>7.809524</td>\n",
       "      <td>10.571429</td>\n",
       "      <td>17.142857</td>\n",
       "      <td>17.714286</td>\n",
       "      <td>19.142857</td>\n",
       "      <td>22.761905</td>\n",
       "      <td>13.904762</td>\n",
       "      <td>25.333333</td>\n",
       "      <td>28.190476</td>\n",
       "      <td>26.857143</td>\n",
       "      <td>...</td>\n",
       "      <td>-2.190476</td>\n",
       "      <td>-0.190476</td>\n",
       "      <td>-6.380952</td>\n",
       "      <td>2.190476</td>\n",
       "      <td>8.380952</td>\n",
       "      <td>406</td>\n",
       "      <td>1</td>\n",
       "      <td>s1e1</td>\n",
       "      <td>wake</td>\n",
       "      <td>0</td>\n",
       "    </tr>\n",
       "  </tbody>\n",
       "</table>\n",
       "<p>1 rows Ã— 3004 columns</p>\n",
       "</div>"
      ],
      "text/plain": [
       "             0          1          2          3          4          5  \\\n",
       "7362  7.809524  10.571429  17.142857  17.714286  19.142857  22.761905   \n",
       "\n",
       "              6          7          8          9   ...        2994      2995  \\\n",
       "7362  13.904762  25.333333  28.190476  26.857143   ...   -2.190476 -0.190476   \n",
       "\n",
       "          2996      2997      2998  pID  day  epoch  class_label  class2  \n",
       "7362 -6.380952  2.190476  8.380952  406    1   s1e1         wake       0  \n",
       "\n",
       "[1 rows x 3004 columns]"
      ]
     },
     "execution_count": 15,
     "metadata": {},
     "output_type": "execute_result"
    }
   ],
   "source": [
    "Test.head(1)"
   ]
  },
  {
   "cell_type": "code",
   "execution_count": 16,
   "metadata": {},
   "outputs": [
    {
     "name": "stdout",
     "output_type": "stream",
     "text": [
      "(83076, 3004)\n",
      "(9918, 3004)\n",
      "Train distribution\n",
      "class2\n",
      "0    64372\n",
      "1    18704\n",
      "dtype: int64\n",
      "\n",
      "Test distribution\n",
      "class2\n",
      "0    8019\n",
      "1    1899\n",
      "dtype: int64\n"
     ]
    }
   ],
   "source": [
    "print(Train.shape)\n",
    "print(Test.shape)\n",
    "\n",
    "## also, check the distribution of class 0 & 1 in the train & test sets\n",
    "print('Train distribution')\n",
    "print(Train.groupby('class2').size())\n",
    "print('')\n",
    "print('Test distribution')\n",
    "print(Test.groupby('class2').size())"
   ]
  },
  {
   "cell_type": "code",
   "execution_count": 17,
   "metadata": {},
   "outputs": [
    {
     "name": "stdout",
     "output_type": "stream",
     "text": [
      "       0         1         2         3          4          5         6     \\\n",
      "0  9.041758 -6.624176  2.756044 -1.305495  15.134066 -11.942857 -5.850549   \n",
      "\n",
      "       7        8          9       ...         2989      2990  2991      2992  \\\n",
      "0  3.626374 -3.81978 -24.320879    ...     40.18022  40.47033  39.6  57.49011   \n",
      "\n",
      "       2993      2994      2995      2996      2997      2998  \n",
      "0 -0.048352  9.041758  2.369231  1.885714  9.041758  7.301099  \n",
      "\n",
      "[1 rows x 2999 columns]\n",
      "\n",
      "   class2\n",
      "0       0\n"
     ]
    }
   ],
   "source": [
    "X_train1 = Train.drop(['pID','day','epoch','class_label','class2'], 1).reset_index()\n",
    "X_test = Test.drop(['pID','day','epoch','class_label','class2'], 1).reset_index()\n",
    "y_train1 = Train['class2'].reset_index()\n",
    "y_test = Test['class2'].reset_index()\n",
    "\n",
    "X_train1 = X_train1.drop(['index'], 1)\n",
    "X_test = X_test.drop(['index'],1)\n",
    "y_train1 = y_train1.drop(['index'],1)\n",
    "y_test = y_test.drop(['index'],1)\n",
    "\n",
    "print(X_train1.head(1))\n",
    "#print(X_test.head(1))\n",
    "print('')\n",
    "print(y_train1.head(1))\n",
    "#print(y_test.head(1))"
   ]
  },
  {
   "cell_type": "code",
   "execution_count": 18,
   "metadata": {},
   "outputs": [
    {
     "name": "stdout",
     "output_type": "stream",
     "text": [
      "Original dataset shape Counter({'class2': 1})\n"
     ]
    }
   ],
   "source": [
    "# original data shape counter\n",
    "from collections import Counter\n",
    "print('Original dataset shape %s' % Counter(y_train1))"
   ]
  },
  {
   "cell_type": "code",
   "execution_count": 19,
   "metadata": {},
   "outputs": [
    {
     "name": "stdout",
     "output_type": "stream",
     "text": [
      "class2\n",
      "0    64372\n",
      "1    18704\n",
      "dtype: int64\n"
     ]
    }
   ],
   "source": [
    "print(y_train1.groupby('class2').size())"
   ]
  },
  {
   "cell_type": "code",
   "execution_count": 20,
   "metadata": {},
   "outputs": [
    {
     "name": "stderr",
     "output_type": "stream",
     "text": [
      "/home/intern_eyecare/anaconda3/lib/python3.6/site-packages/sklearn/utils/validation.py:761: DataConversionWarning: A column-vector y was passed when a 1d array was expected. Please change the shape of y to (n_samples, ), for example using ravel().\n",
      "  y = column_or_1d(y, warn=True)\n"
     ]
    },
    {
     "ename": "AttributeError",
     "evalue": "'numpy.ndarray' object has no attribute 'groupby'",
     "output_type": "error",
     "traceback": [
      "\u001b[0;31m---------------------------------------------------------------------------\u001b[0m",
      "\u001b[0;31mAttributeError\u001b[0m                            Traceback (most recent call last)",
      "\u001b[0;32m<ipython-input-20-88ccb851ac8a>\u001b[0m in \u001b[0;36m<module>\u001b[0;34m()\u001b[0m\n\u001b[1;32m      5\u001b[0m \u001b[0mX_train\u001b[0m\u001b[0;34m,\u001b[0m \u001b[0my_train\u001b[0m \u001b[0;34m=\u001b[0m \u001b[0msm\u001b[0m\u001b[0;34m.\u001b[0m\u001b[0mfit_resample\u001b[0m\u001b[0;34m(\u001b[0m\u001b[0mX_train1\u001b[0m\u001b[0;34m,\u001b[0m \u001b[0my_train1\u001b[0m\u001b[0;34m)\u001b[0m\u001b[0;34m\u001b[0m\u001b[0m\n\u001b[1;32m      6\u001b[0m \u001b[0;31m#print('Resampled dataset shape %s' % Counter(y_train))\u001b[0m\u001b[0;34m\u001b[0m\u001b[0;34m\u001b[0m\u001b[0m\n\u001b[0;32m----> 7\u001b[0;31m \u001b[0mprint\u001b[0m\u001b[0;34m(\u001b[0m\u001b[0my_train\u001b[0m\u001b[0;34m.\u001b[0m\u001b[0mgroupby\u001b[0m\u001b[0;34m(\u001b[0m\u001b[0;34m'class2'\u001b[0m\u001b[0;34m)\u001b[0m\u001b[0;34m.\u001b[0m\u001b[0msize\u001b[0m\u001b[0;34m(\u001b[0m\u001b[0;34m)\u001b[0m\u001b[0;34m)\u001b[0m\u001b[0;34m\u001b[0m\u001b[0m\n\u001b[0m",
      "\u001b[0;31mAttributeError\u001b[0m: 'numpy.ndarray' object has no attribute 'groupby'"
     ]
    }
   ],
   "source": [
    "## upsample training set\n",
    "from imblearn.over_sampling import SMOTE\n",
    "\n",
    "sm = SMOTE(random_state=42)\n",
    "X_train, y_train = sm.fit_resample(X_train1, y_train1)\n",
    "#print('Resampled dataset shape %s' % Counter(y_train))\n",
    "#print(y_train.groupby('class2').size())"
   ]
  },
  {
   "cell_type": "code",
   "execution_count": 21,
   "metadata": {},
   "outputs": [
    {
     "name": "stderr",
     "output_type": "stream",
     "text": [
      "/home/intern_eyecare/anaconda3/lib/python3.6/site-packages/sklearn/utils/validation.py:761: DataConversionWarning: A column-vector y was passed when a 1d array was expected. Please change the shape of y to (n_samples, ), for example using ravel().\n",
      "  y = column_or_1d(y, warn=True)\n"
     ]
    }
   ],
   "source": [
    "sm = SMOTE(random_state=42)\n",
    "X_train, y_train = sm.fit_resample(X_train1, y_train1)"
   ]
  },
  {
   "cell_type": "code",
   "execution_count": 43,
   "metadata": {},
   "outputs": [
    {
     "data": {
      "text/html": [
       "<div>\n",
       "<style scoped>\n",
       "    .dataframe tbody tr th:only-of-type {\n",
       "        vertical-align: middle;\n",
       "    }\n",
       "\n",
       "    .dataframe tbody tr th {\n",
       "        vertical-align: top;\n",
       "    }\n",
       "\n",
       "    .dataframe thead th {\n",
       "        text-align: right;\n",
       "    }\n",
       "</style>\n",
       "<table border=\"1\" class=\"dataframe\">\n",
       "  <thead>\n",
       "    <tr style=\"text-align: right;\">\n",
       "      <th></th>\n",
       "      <th>0</th>\n",
       "    </tr>\n",
       "  </thead>\n",
       "  <tbody>\n",
       "    <tr>\n",
       "      <th>0</th>\n",
       "      <td>0</td>\n",
       "    </tr>\n",
       "    <tr>\n",
       "      <th>1</th>\n",
       "      <td>0</td>\n",
       "    </tr>\n",
       "  </tbody>\n",
       "</table>\n",
       "</div>"
      ],
      "text/plain": [
       "   0\n",
       "0  0\n",
       "1  0"
      ]
     },
     "execution_count": 43,
     "metadata": {},
     "output_type": "execute_result"
    }
   ],
   "source": [
    "check_upsample = pd.DataFrame(y_train)\n",
    "check_upsample.head(2)\n",
    "#print(y_train.groupby('class2').size())"
   ]
  },
  {
   "cell_type": "code",
   "execution_count": 44,
   "metadata": {},
   "outputs": [
    {
     "data": {
      "text/html": [
       "<div>\n",
       "<style scoped>\n",
       "    .dataframe tbody tr th:only-of-type {\n",
       "        vertical-align: middle;\n",
       "    }\n",
       "\n",
       "    .dataframe tbody tr th {\n",
       "        vertical-align: top;\n",
       "    }\n",
       "\n",
       "    .dataframe thead th {\n",
       "        text-align: right;\n",
       "    }\n",
       "</style>\n",
       "<table border=\"1\" class=\"dataframe\">\n",
       "  <thead>\n",
       "    <tr style=\"text-align: right;\">\n",
       "      <th></th>\n",
       "      <th>class2</th>\n",
       "    </tr>\n",
       "  </thead>\n",
       "  <tbody>\n",
       "    <tr>\n",
       "      <th>0</th>\n",
       "      <td>0</td>\n",
       "    </tr>\n",
       "    <tr>\n",
       "      <th>1</th>\n",
       "      <td>0</td>\n",
       "    </tr>\n",
       "  </tbody>\n",
       "</table>\n",
       "</div>"
      ],
      "text/plain": [
       "   class2\n",
       "0       0\n",
       "1       0"
      ]
     },
     "execution_count": 44,
     "metadata": {},
     "output_type": "execute_result"
    }
   ],
   "source": [
    "check_upsample.columns = ['class2']\n",
    "check_upsample.head(2)"
   ]
  },
  {
   "cell_type": "code",
   "execution_count": 45,
   "metadata": {},
   "outputs": [
    {
     "name": "stdout",
     "output_type": "stream",
     "text": [
      "class2\n",
      "0    64372\n",
      "1    64372\n",
      "dtype: int64\n"
     ]
    }
   ],
   "source": [
    "print(check_upsample.groupby('class2').size())"
   ]
  },
  {
   "cell_type": "code",
   "execution_count": 47,
   "metadata": {},
   "outputs": [
    {
     "data": {
      "text/html": [
       "<div>\n",
       "<style scoped>\n",
       "    .dataframe tbody tr th:only-of-type {\n",
       "        vertical-align: middle;\n",
       "    }\n",
       "\n",
       "    .dataframe tbody tr th {\n",
       "        vertical-align: top;\n",
       "    }\n",
       "\n",
       "    .dataframe thead th {\n",
       "        text-align: right;\n",
       "    }\n",
       "</style>\n",
       "<table border=\"1\" class=\"dataframe\">\n",
       "  <thead>\n",
       "    <tr style=\"text-align: right;\">\n",
       "      <th></th>\n",
       "      <th>class2</th>\n",
       "      <th>0</th>\n",
       "      <th>1</th>\n",
       "      <th>2</th>\n",
       "      <th>3</th>\n",
       "      <th>4</th>\n",
       "      <th>5</th>\n",
       "      <th>6</th>\n",
       "      <th>7</th>\n",
       "      <th>8</th>\n",
       "      <th>...</th>\n",
       "      <th>2989</th>\n",
       "      <th>2990</th>\n",
       "      <th>2991</th>\n",
       "      <th>2992</th>\n",
       "      <th>2993</th>\n",
       "      <th>2994</th>\n",
       "      <th>2995</th>\n",
       "      <th>2996</th>\n",
       "      <th>2997</th>\n",
       "      <th>2998</th>\n",
       "    </tr>\n",
       "  </thead>\n",
       "  <tbody>\n",
       "    <tr>\n",
       "      <th>0</th>\n",
       "      <td>0</td>\n",
       "      <td>9.041758</td>\n",
       "      <td>-6.624176</td>\n",
       "      <td>2.756044</td>\n",
       "      <td>-1.305495</td>\n",
       "      <td>15.134066</td>\n",
       "      <td>-11.942857</td>\n",
       "      <td>-5.850549</td>\n",
       "      <td>3.626374</td>\n",
       "      <td>-3.81978</td>\n",
       "      <td>...</td>\n",
       "      <td>40.18022</td>\n",
       "      <td>40.47033</td>\n",
       "      <td>39.6</td>\n",
       "      <td>57.49011</td>\n",
       "      <td>-0.048352</td>\n",
       "      <td>9.041758</td>\n",
       "      <td>2.369231</td>\n",
       "      <td>1.885714</td>\n",
       "      <td>9.041758</td>\n",
       "      <td>7.301099</td>\n",
       "    </tr>\n",
       "  </tbody>\n",
       "</table>\n",
       "<p>1 rows Ã— 3000 columns</p>\n",
       "</div>"
      ],
      "text/plain": [
       "   class2         0         1         2         3          4          5  \\\n",
       "0       0  9.041758 -6.624176  2.756044 -1.305495  15.134066 -11.942857   \n",
       "\n",
       "          6         7        8    ...         2989      2990  2991      2992  \\\n",
       "0 -5.850549  3.626374 -3.81978    ...     40.18022  40.47033  39.6  57.49011   \n",
       "\n",
       "       2993      2994      2995      2996      2997      2998  \n",
       "0 -0.048352  9.041758  2.369231  1.885714  9.041758  7.301099  \n",
       "\n",
       "[1 rows x 3000 columns]"
      ]
     },
     "execution_count": 47,
     "metadata": {},
     "output_type": "execute_result"
    }
   ],
   "source": [
    "X_tr = pd.DataFrame(X_train)\n",
    "check_upsample = pd.concat([check_upsample,X_tr], axis=1)\n",
    "check_upsample.head(1)"
   ]
  },
  {
   "cell_type": "code",
   "execution_count": 48,
   "metadata": {},
   "outputs": [],
   "source": [
    "## write to file\n",
    "import pickle\n",
    "pickle.dump(check_upsample, open('/home/intern_eyecare/Desktop/EEG/upsampled_data_SMOTE_new_network.pkl','wb'))"
   ]
  },
  {
   "cell_type": "code",
   "execution_count": null,
   "metadata": {},
   "outputs": [],
   "source": []
  },
  {
   "cell_type": "code",
   "execution_count": null,
   "metadata": {},
   "outputs": [],
   "source": []
  },
  {
   "cell_type": "code",
   "execution_count": 22,
   "metadata": {},
   "outputs": [],
   "source": [
    "from sklearn.preprocessing import MinMaxScaler, StandardScaler, RobustScaler\n",
    "# http://benalexkeen.com/feature-scaling-with-scikit-learn/\n",
    "# standardscaler: suitable for normally distributed data\n",
    "# minMaxScaler: (x-min)/(max - min)\n",
    "\n",
    "## normalize the data  : can also use other scalers like StandardScaler()\n",
    "scaler = StandardScaler()  #MinMaxScaler()\n",
    "X_train_scaled = scaler.fit_transform(X_train)\n",
    "X_test_scaled = scaler.transform(X_test)\n",
    "#X_train_scaled.shape"
   ]
  },
  {
   "cell_type": "code",
   "execution_count": 23,
   "metadata": {},
   "outputs": [
    {
     "name": "stdout",
     "output_type": "stream",
     "text": [
      "[[[ 0.38936174]\n",
      "  [-0.30350236]\n",
      "  [ 0.12051657]\n",
      "  ...\n",
      "  [ 0.04110996]\n",
      "  [ 0.37479795]\n",
      "  [ 0.30218688]]\n",
      "\n",
      " [[ 0.40665356]\n",
      "  [ 0.58389751]\n",
      "  [ 0.49539484]\n",
      "  ...\n",
      "  [-1.10164482]\n",
      "  [-1.07740552]\n",
      "  [-0.64056497]]\n",
      "\n",
      " [[-0.01699588]\n",
      "  [-0.35088779]\n",
      "  [-0.64216681]\n",
      "  ...\n",
      "  [-0.34560173]\n",
      "  [-0.22521426]\n",
      "  [-0.31907356]]\n",
      "\n",
      " ...\n",
      "\n",
      " [[ 0.35754936]\n",
      "  [ 0.1419429 ]\n",
      "  [ 0.05641751]\n",
      "  ...\n",
      "  [ 0.19865235]\n",
      "  [ 0.28092142]\n",
      "  [ 0.06668567]]\n",
      "\n",
      " [[-0.34539723]\n",
      "  [-0.34504715]\n",
      "  [-0.56160036]\n",
      "  ...\n",
      "  [-0.01878054]\n",
      "  [-0.38484737]\n",
      "  [-0.68251105]]\n",
      "\n",
      " [[-0.1519897 ]\n",
      "  [ 0.09859412]\n",
      "  [ 0.20361642]\n",
      "  ...\n",
      "  [-0.11602201]\n",
      "  [-0.09574717]\n",
      "  [-0.2085784 ]]]\n"
     ]
    }
   ],
   "source": [
    "## re-shaping tha data for input to conv net\n",
    "# https://stackoverflow.com/questions/43235531/convolutional-neural-network-conv1d-input-shape\n",
    "nrows, ncols = X_train_scaled.shape\n",
    "X_train_array =  X_train_scaled.reshape(nrows, ncols, 1)\n",
    "print(X_train_array)"
   ]
  },
  {
   "cell_type": "code",
   "execution_count": null,
   "metadata": {},
   "outputs": [],
   "source": [
    "#### model building ####"
   ]
  },
  {
   "cell_type": "code",
   "execution_count": 24,
   "metadata": {},
   "outputs": [
    {
     "data": {
      "text/plain": [
       "'2019-01-17 09:27:57'"
      ]
     },
     "execution_count": 24,
     "metadata": {},
     "output_type": "execute_result"
    }
   ],
   "source": [
    "from datetime import datetime\n",
    "datetime.now().strftime('%Y-%m-%d %H:%M:%S')"
   ]
  },
  {
   "cell_type": "code",
   "execution_count": 21,
   "metadata": {},
   "outputs": [
    {
     "name": "stdout",
     "output_type": "stream",
     "text": [
      "_________________________________________________________________\n",
      "Layer (type)                 Output Shape              Param #   \n",
      "=================================================================\n",
      "conv1d_1 (Conv1D)            (None, 2997, 64)          256       \n",
      "_________________________________________________________________\n",
      "max_pooling1d_1 (MaxPooling1 (None, 1498, 64)          0         \n",
      "_________________________________________________________________\n",
      "flatten_1 (Flatten)          (None, 95872)             0         \n",
      "_________________________________________________________________\n",
      "dense_1 (Dense)              (None, 50)                4793650   \n",
      "_________________________________________________________________\n",
      "dense_2 (Dense)              (None, 1)                 51        \n",
      "=================================================================\n",
      "Total params: 4,793,957\n",
      "Trainable params: 4,793,957\n",
      "Non-trainable params: 0\n",
      "_________________________________________________________________\n",
      "None\n"
     ]
    }
   ],
   "source": [
    "'''# define model: 1 conv layer, 1 fully-connected layer, 1 output layer\n",
    "model = Sequential()  ## to initialize NN\n",
    "\n",
    "model.add(Conv1D(filters=64, kernel_size=3, activation='relu', input_shape=(ncols, 1))) \n",
    "model.add(MaxPooling1D(pool_size=2))\n",
    "\n",
    "model.add(Flatten())\n",
    "model.add(Dense(50, activation='relu'))\n",
    "\n",
    "model.add(Dense(1, activation='sigmoid'))  # this is the output layer for binary classification\n",
    "print(model.summary())\n",
    "\n",
    "# compile the model\n",
    "model.compile(optimizer='adam', loss='binary_crossentropy', metrics=['accuracy'])'''"
   ]
  },
  {
   "cell_type": "code",
   "execution_count": 25,
   "metadata": {},
   "outputs": [
    {
     "name": "stdout",
     "output_type": "stream",
     "text": [
      "_________________________________________________________________\n",
      "Layer (type)                 Output Shape              Param #   \n",
      "=================================================================\n",
      "conv1d_1 (Conv1D)            (None, 2997, 32)          128       \n",
      "_________________________________________________________________\n",
      "max_pooling1d_1 (MaxPooling1 (None, 1498, 32)          0         \n",
      "_________________________________________________________________\n",
      "conv1d_2 (Conv1D)            (None, 1496, 32)          3104      \n",
      "_________________________________________________________________\n",
      "max_pooling1d_2 (MaxPooling1 (None, 748, 32)           0         \n",
      "_________________________________________________________________\n",
      "conv1d_3 (Conv1D)            (None, 746, 32)           3104      \n",
      "_________________________________________________________________\n",
      "max_pooling1d_3 (MaxPooling1 (None, 373, 32)           0         \n",
      "_________________________________________________________________\n",
      "conv1d_4 (Conv1D)            (None, 371, 32)           3104      \n",
      "_________________________________________________________________\n",
      "max_pooling1d_4 (MaxPooling1 (None, 185, 32)           0         \n",
      "_________________________________________________________________\n",
      "conv1d_5 (Conv1D)            (None, 183, 32)           3104      \n",
      "_________________________________________________________________\n",
      "max_pooling1d_5 (MaxPooling1 (None, 91, 32)            0         \n",
      "_________________________________________________________________\n",
      "flatten_1 (Flatten)          (None, 2912)              0         \n",
      "_________________________________________________________________\n",
      "dense_1 (Dense)              (None, 32)                93216     \n",
      "_________________________________________________________________\n",
      "dense_2 (Dense)              (None, 16)                528       \n",
      "_________________________________________________________________\n",
      "dense_3 (Dense)              (None, 1)                 17        \n",
      "=================================================================\n",
      "Total params: 106,305\n",
      "Trainable params: 106,305\n",
      "Non-trainable params: 0\n",
      "_________________________________________________________________\n",
      "None\n"
     ]
    }
   ],
   "source": [
    "# define model: 5 conv layer, 2 fully-connected layer, 1 output layer\n",
    "model = Sequential()  ## to initialize NN\n",
    "\n",
    "model.add(Conv1D(filters=32, kernel_size=3, activation='relu', input_shape=(ncols, 1))) \n",
    "model.add(MaxPooling1D(pool_size=2))\n",
    "\n",
    "model.add(Conv1D(filters=32, kernel_size=3, activation='relu')) \n",
    "model.add(MaxPooling1D(pool_size=2))\n",
    "\n",
    "model.add(Conv1D(filters=32, kernel_size=3, activation='relu')) \n",
    "model.add(MaxPooling1D(pool_size=2))\n",
    "\n",
    "model.add(Conv1D(filters=32, kernel_size=3, activation='relu')) \n",
    "model.add(MaxPooling1D(pool_size=2))\n",
    "\n",
    "model.add(Conv1D(filters=32, kernel_size=3, activation='relu')) \n",
    "model.add(MaxPooling1D(pool_size=2))\n",
    "\n",
    "model.add(Flatten())\n",
    "model.add(Dense(32, activation='relu'))\n",
    "\n",
    "model.add(Dense(16, activation='relu'))\n",
    "\n",
    "model.add(Dense(1, activation='sigmoid'))  # this is the output layer for binary classification\n",
    "print(model.summary())\n",
    "\n",
    "# compile the model\n",
    "model.compile(optimizer='adam', loss='binary_crossentropy', metrics=['accuracy'])"
   ]
  },
  {
   "cell_type": "code",
   "execution_count": 26,
   "metadata": {},
   "outputs": [
    {
     "name": "stdout",
     "output_type": "stream",
     "text": [
      "Train on 115869 samples, validate on 12875 samples\n",
      "Epoch 1/50\n",
      "115869/115869 [==============================] - 63s 543us/step - loss: 0.0827 - acc: 0.9676 - val_loss: 0.0211 - val_acc: 0.9931\n",
      "Epoch 2/50\n",
      "115869/115869 [==============================] - 60s 515us/step - loss: 0.0406 - acc: 0.9855 - val_loss: 0.0137 - val_acc: 0.9968\n",
      "Epoch 3/50\n",
      "115869/115869 [==============================] - 60s 515us/step - loss: 0.0336 - acc: 0.9884 - val_loss: 0.0085 - val_acc: 0.9983\n",
      "Epoch 4/50\n",
      "115869/115869 [==============================] - 59s 506us/step - loss: 0.0288 - acc: 0.9901 - val_loss: 0.0117 - val_acc: 0.9963\n",
      "Epoch 5/50\n",
      "115869/115869 [==============================] - 59s 513us/step - loss: 0.0244 - acc: 0.9914 - val_loss: 0.0068 - val_acc: 0.9988\n",
      "Epoch 6/50\n",
      "115869/115869 [==============================] - 59s 510us/step - loss: 0.0199 - acc: 0.9934 - val_loss: 0.0042 - val_acc: 0.9995\n",
      "Epoch 7/50\n",
      "115869/115869 [==============================] - 59s 507us/step - loss: 0.0161 - acc: 0.9947 - val_loss: 0.0014 - val_acc: 0.9998\n",
      "Epoch 8/50\n",
      "115869/115869 [==============================] - 58s 502us/step - loss: 0.0143 - acc: 0.9953 - val_loss: 0.0201 - val_acc: 0.9946\n",
      "Epoch 9/50\n",
      "115869/115869 [==============================] - 59s 507us/step - loss: 0.0115 - acc: 0.9964 - val_loss: 0.0042 - val_acc: 0.9997\n",
      "Epoch 10/50\n",
      "115869/115869 [==============================] - 59s 510us/step - loss: 0.0092 - acc: 0.9967 - val_loss: 0.0022 - val_acc: 0.9992\n",
      "Epoch 11/50\n",
      "115869/115869 [==============================] - 59s 507us/step - loss: 0.0085 - acc: 0.9971 - val_loss: 0.0015 - val_acc: 0.9998\n",
      "Epoch 12/50\n",
      "115869/115869 [==============================] - 58s 504us/step - loss: 0.0060 - acc: 0.9981 - val_loss: 0.0018 - val_acc: 0.9995\n",
      "Epoch 13/50\n",
      "115869/115869 [==============================] - 60s 514us/step - loss: 0.0088 - acc: 0.9974 - val_loss: 0.0014 - val_acc: 0.9998\n",
      "Epoch 14/50\n",
      "115869/115869 [==============================] - 59s 508us/step - loss: 0.0061 - acc: 0.9981 - val_loss: 0.0033 - val_acc: 0.9993\n",
      "Epoch 15/50\n",
      "115869/115869 [==============================] - 59s 511us/step - loss: 0.0045 - acc: 0.9986 - val_loss: 0.0024 - val_acc: 0.9995\n",
      "Epoch 16/50\n",
      "115869/115869 [==============================] - 59s 505us/step - loss: 0.0045 - acc: 0.9985 - val_loss: 0.0048 - val_acc: 0.9983\n",
      "Epoch 17/50\n",
      "115869/115869 [==============================] - 59s 505us/step - loss: 0.0048 - acc: 0.9985 - val_loss: 0.0012 - val_acc: 0.9995\n",
      "Epoch 18/50\n",
      "115869/115869 [==============================] - 59s 510us/step - loss: 0.0046 - acc: 0.9985 - val_loss: 0.0060 - val_acc: 0.9981\n",
      "Epoch 19/50\n",
      "115869/115869 [==============================] - 58s 499us/step - loss: 0.0048 - acc: 0.9986 - val_loss: 0.0018 - val_acc: 0.9995\n",
      "Epoch 20/50\n",
      "115869/115869 [==============================] - 59s 511us/step - loss: 0.0028 - acc: 0.9992 - val_loss: 0.0054 - val_acc: 0.9976\n",
      "Epoch 21/50\n",
      "115869/115869 [==============================] - 59s 510us/step - loss: 0.0048 - acc: 0.9986 - val_loss: 7.3019e-04 - val_acc: 0.9998\n",
      "Epoch 22/50\n",
      "115869/115869 [==============================] - 59s 508us/step - loss: 0.0029 - acc: 0.9989 - val_loss: 9.8991e-04 - val_acc: 0.9997\n",
      "Epoch 23/50\n",
      "115869/115869 [==============================] - 59s 508us/step - loss: 0.0034 - acc: 0.9991 - val_loss: 0.0104 - val_acc: 0.9970\n",
      "Epoch 24/50\n",
      "115869/115869 [==============================] - 58s 503us/step - loss: 0.0061 - acc: 0.9985 - val_loss: 0.0047 - val_acc: 0.9988\n",
      "Epoch 25/50\n",
      "115869/115869 [==============================] - 58s 504us/step - loss: 0.0024 - acc: 0.9993 - val_loss: 0.0024 - val_acc: 0.9996\n",
      "Epoch 26/50\n",
      "115869/115869 [==============================] - 58s 503us/step - loss: 0.0036 - acc: 0.9990 - val_loss: 0.0019 - val_acc: 0.9996\n",
      "Epoch 27/50\n",
      "115869/115869 [==============================] - 58s 503us/step - loss: 0.0039 - acc: 0.9989 - val_loss: 0.0013 - val_acc: 0.9995\n",
      "Epoch 28/50\n",
      "115869/115869 [==============================] - 58s 504us/step - loss: 0.0024 - acc: 0.9992 - val_loss: 0.0013 - val_acc: 0.9994\n",
      "Epoch 29/50\n",
      "115869/115869 [==============================] - 59s 506us/step - loss: 0.0031 - acc: 0.9991 - val_loss: 0.0028 - val_acc: 0.9990\n",
      "Epoch 30/50\n",
      "115869/115869 [==============================] - 58s 505us/step - loss: 0.0031 - acc: 0.9990 - val_loss: 0.0022 - val_acc: 0.9993\n",
      "Epoch 31/50\n",
      "115869/115869 [==============================] - 59s 508us/step - loss: 0.0028 - acc: 0.9991 - val_loss: 0.0123 - val_acc: 0.9958\n",
      "Epoch 32/50\n",
      "115869/115869 [==============================] - 58s 500us/step - loss: 0.0027 - acc: 0.9993 - val_loss: 0.0026 - val_acc: 0.9990\n",
      "Epoch 33/50\n",
      "115869/115869 [==============================] - 59s 509us/step - loss: 0.0023 - acc: 0.9994 - val_loss: 0.0032 - val_acc: 0.9988\n",
      "Epoch 34/50\n",
      "115869/115869 [==============================] - 58s 503us/step - loss: 0.0020 - acc: 0.9993 - val_loss: 0.0062 - val_acc: 0.9980\n",
      "Epoch 35/50\n",
      "115869/115869 [==============================] - 59s 507us/step - loss: 0.0030 - acc: 0.9991 - val_loss: 0.0035 - val_acc: 0.9988\n",
      "Epoch 36/50\n",
      "115869/115869 [==============================] - 58s 504us/step - loss: 0.0027 - acc: 0.9993 - val_loss: 0.0035 - val_acc: 0.9984\n",
      "Epoch 37/50\n",
      "115869/115869 [==============================] - 58s 502us/step - loss: 0.0026 - acc: 0.9992 - val_loss: 1.0712e-04 - val_acc: 1.0000\n",
      "Epoch 38/50\n",
      "115869/115869 [==============================] - 59s 507us/step - loss: 0.0026 - acc: 0.9992 - val_loss: 0.0012 - val_acc: 0.9996\n",
      "Epoch 39/50\n",
      "115869/115869 [==============================] - 59s 512us/step - loss: 0.0024 - acc: 0.9993 - val_loss: 0.0021 - val_acc: 0.9995\n",
      "Epoch 40/50\n",
      "115869/115869 [==============================] - 60s 514us/step - loss: 0.0040 - acc: 0.9989 - val_loss: 0.0019 - val_acc: 0.9993\n",
      "Epoch 41/50\n",
      "115869/115869 [==============================] - 59s 513us/step - loss: 0.0016 - acc: 0.9996 - val_loss: 4.1368e-04 - val_acc: 0.9999\n",
      "Epoch 42/50\n",
      "115869/115869 [==============================] - 60s 514us/step - loss: 0.0022 - acc: 0.9994 - val_loss: 0.0070 - val_acc: 0.9986\n",
      "Epoch 43/50\n",
      "115869/115869 [==============================] - 60s 515us/step - loss: 0.0025 - acc: 0.9994 - val_loss: 0.0013 - val_acc: 0.9995\n",
      "Epoch 44/50\n",
      "115869/115869 [==============================] - 60s 516us/step - loss: 0.0019 - acc: 0.9995 - val_loss: 0.0012 - val_acc: 0.9996\n",
      "Epoch 45/50\n",
      "115869/115869 [==============================] - 60s 515us/step - loss: 0.0017 - acc: 0.9996 - val_loss: 0.0092 - val_acc: 0.9967\n",
      "Epoch 46/50\n",
      "115869/115869 [==============================] - 60s 515us/step - loss: 0.0020 - acc: 0.9995 - val_loss: 0.0024 - val_acc: 0.9990\n",
      "Epoch 47/50\n",
      "115869/115869 [==============================] - 60s 515us/step - loss: 0.0018 - acc: 0.9996 - val_loss: 6.0258e-04 - val_acc: 0.9998\n",
      "Epoch 48/50\n",
      "115869/115869 [==============================] - 59s 513us/step - loss: 0.0019 - acc: 0.9995 - val_loss: 2.0832e-04 - val_acc: 0.9999\n",
      "Epoch 49/50\n",
      "115869/115869 [==============================] - 59s 513us/step - loss: 0.0029 - acc: 0.9992 - val_loss: 0.0022 - val_acc: 0.9993\n",
      "Epoch 50/50\n",
      "115869/115869 [==============================] - 60s 516us/step - loss: 0.0011 - acc: 0.9997 - val_loss: 0.0033 - val_acc: 0.9988\n"
     ]
    }
   ],
   "source": [
    "history = model.fit(X_train_array, y_train, epochs=50, batch_size=64, validation_split=0.1, verbose=1)\n",
    "\n",
    "## steps to plot train & validation accuracy & loss\n",
    "#https://stackoverflow.com/questions/41908379/keras-plot-training-validation-and-test-set-accuracy\n",
    "#history = model.fit(x_test, y_test, nb_epoch=10, validation_split=0.2, shuffle=True)"
   ]
  },
  {
   "cell_type": "code",
   "execution_count": 27,
   "metadata": {},
   "outputs": [
    {
     "data": {
      "text/plain": [
       "'2019-01-17 10:17:09'"
      ]
     },
     "execution_count": 27,
     "metadata": {},
     "output_type": "execute_result"
    }
   ],
   "source": [
    "datetime.now().strftime('%Y-%m-%d %H:%M:%S')"
   ]
  },
  {
   "cell_type": "code",
   "execution_count": 28,
   "metadata": {},
   "outputs": [
    {
     "name": "stdout",
     "output_type": "stream",
     "text": [
      "dict_keys(['val_loss', 'val_acc', 'loss', 'acc'])\n"
     ]
    },
    {
     "data": {
      "image/png": "[encoded data removed]",
      "text/plain": [
       "<matplotlib.figure.Figure at 0x7fbac31b7208>"
      ]
     },
     "metadata": {},
     "output_type": "display_data"
    },
    {
     "data": {
      "image/png": "[encoded data removed]",
      "text/plain": [
       "<matplotlib.figure.Figure at 0x7fbac32251d0>"
      ]
     },
     "metadata": {},
     "output_type": "display_data"
    }
   ],
   "source": [
    "#https://stackoverflow.com/questions/41908379/keras-plot-training-validation-and-test-set-accuracy\n",
    "print(history.history.keys())\n",
    "#  \"Accuracy\"\n",
    "plt.plot(history.history['acc'])\n",
    "plt.plot(history.history['val_acc'])\n",
    "plt.title('model accuracy')\n",
    "plt.ylabel('accuracy')\n",
    "plt.xlabel('epoch')\n",
    "plt.legend(['train', 'validation'], loc='upper left')\n",
    "plt.show()\n",
    "# \"Loss\"\n",
    "plt.plot(history.history['loss'])\n",
    "plt.plot(history.history['val_loss'])\n",
    "plt.title('model loss')\n",
    "plt.ylabel('loss')\n",
    "plt.xlabel('epoch')\n",
    "plt.legend(['train', 'validation'], loc='upper left')\n",
    "plt.show()"
   ]
  },
  {
   "cell_type": "code",
   "execution_count": 29,
   "metadata": {},
   "outputs": [],
   "source": [
    "#import pickle\n",
    "#pickle.dump(model, open('/home/intern_eyecare/Desktop/EEG/cnn_model.pkl','wb'))\n",
    "model.save('/home/intern_eyecare/Desktop/EEG/new_cnn_model_smote.pkl')"
   ]
  },
  {
   "cell_type": "code",
   "execution_count": null,
   "metadata": {},
   "outputs": [],
   "source": []
  },
  {
   "cell_type": "code",
   "execution_count": 30,
   "metadata": {},
   "outputs": [],
   "source": [
    "## predict on test data - check metrics\n",
    "#y_pred = model_svc.predict(X_test_scaled)\n",
    "\n",
    "nrows2, ncols2 = X_test_scaled.shape\n",
    "X_test_array =  X_test_scaled.reshape(nrows2, ncols2, 1)\n",
    "y_pred = model.predict(X_test_array)"
   ]
  },
  {
   "cell_type": "code",
   "execution_count": 31,
   "metadata": {},
   "outputs": [
    {
     "name": "stdout",
     "output_type": "stream",
     "text": [
      "   class2\n",
      "0       0\n",
      "1       0\n",
      "\n",
      "      class2\n",
      "9915       1\n",
      "9916       1\n",
      "9917       1\n"
     ]
    }
   ],
   "source": [
    "print(y_test.head(2))\n",
    "print('')\n",
    "print(y_test.tail(3))"
   ]
  },
  {
   "cell_type": "code",
   "execution_count": 27,
   "metadata": {},
   "outputs": [
    {
     "ename": "TypeError",
     "evalue": "'Series' object is not callable",
     "output_type": "error",
     "traceback": [
      "\u001b[0;31m---------------------------------------------------------------------------\u001b[0m",
      "\u001b[0;31mTypeError\u001b[0m                                 Traceback (most recent call last)",
      "\u001b[0;32m<ipython-input-27-cb4136e4741a>\u001b[0m in \u001b[0;36m<module>\u001b[0;34m()\u001b[0m\n\u001b[0;32m----> 1\u001b[0;31m \u001b[0my_test\u001b[0m\u001b[0;34m.\u001b[0m\u001b[0mdtypes\u001b[0m\u001b[0;34m(\u001b[0m\u001b[0;34m)\u001b[0m\u001b[0;34m\u001b[0m\u001b[0m\n\u001b[0m",
      "\u001b[0;31mTypeError\u001b[0m: 'Series' object is not callable"
     ]
    }
   ],
   "source": [
    "#y_test.dtypes()"
   ]
  },
  {
   "cell_type": "code",
   "execution_count": 32,
   "metadata": {},
   "outputs": [
    {
     "data": {
      "text/plain": [
       "array([[3.6637021e-36],\n",
       "       [0.0000000e+00],\n",
       "       [0.0000000e+00],\n",
       "       ...,\n",
       "       [2.5213869e-14],\n",
       "       [2.7816990e-11],\n",
       "       [2.7498039e-12]], dtype=float32)"
      ]
     },
     "execution_count": 32,
     "metadata": {},
     "output_type": "execute_result"
    }
   ],
   "source": [
    "y_pred"
   ]
  },
  {
   "cell_type": "code",
   "execution_count": 33,
   "metadata": {},
   "outputs": [
    {
     "name": "stdout",
     "output_type": "stream",
     "text": [
      "              0\n",
      "0  3.663702e-36\n",
      "1  0.000000e+00\n",
      "\n",
      "                 0\n",
      "9916  2.781699e-11\n",
      "9917  2.749804e-12\n"
     ]
    }
   ],
   "source": [
    "# convert array to dataframe\n",
    "\n",
    "y_pred2 = pd.DataFrame(y_pred)\n",
    "print(y_pred2.head(2))\n",
    "print('')\n",
    "print(y_pred2.tail(2))"
   ]
  },
  {
   "cell_type": "code",
   "execution_count": 34,
   "metadata": {},
   "outputs": [
    {
     "name": "stdout",
     "output_type": "stream",
     "text": [
      "     0\n",
      "0  0.0\n",
      "1  0.0\n",
      "\n",
      "        0\n",
      "9916  0.0\n",
      "9917  0.0\n"
     ]
    }
   ],
   "source": [
    "y_pred3 = round(y_pred2)\n",
    "y_pred3\n",
    "print(y_pred3.head(2))\n",
    "print('')\n",
    "print(y_pred3.tail(2))"
   ]
  },
  {
   "cell_type": "code",
   "execution_count": 35,
   "metadata": {},
   "outputs": [
    {
     "data": {
      "text/plain": [
       "array([0., 1.])"
      ]
     },
     "execution_count": 35,
     "metadata": {},
     "output_type": "execute_result"
    }
   ],
   "source": [
    "y_pred3[0].unique()"
   ]
  },
  {
   "cell_type": "code",
   "execution_count": 36,
   "metadata": {},
   "outputs": [],
   "source": [
    "from sklearn.metrics import confusion_matrix\n",
    "import itertools\n",
    "\n",
    "def plot_confusion_matrix(cm, classes,\n",
    "                          normalize=False,\n",
    "                          title='Confusion matrix',\n",
    "                          cmap=plt.cm.Blues):\n",
    "    \"\"\"\n",
    "    This function prints and plots the confusion matrix.\n",
    "    Normalization can be applied by setting `normalize=True`.\n",
    "    \"\"\"\n",
    "    if normalize:\n",
    "        cm = cm.astype('float') / cm.sum(axis=1)[:, np.newaxis]\n",
    "        print(\"Normalized confusion matrix\")\n",
    "    else:\n",
    "        print('Confusion matrix, without normalization')\n",
    "\n",
    "    print(cm)\n",
    "\n",
    "    plt.imshow(cm, interpolation='nearest', cmap=cmap)\n",
    "    plt.title(title)\n",
    "    plt.colorbar()\n",
    "    tick_marks = np.arange(len(classes))\n",
    "    plt.xticks(tick_marks, classes, rotation=45)\n",
    "    plt.yticks(tick_marks, classes)\n",
    "\n",
    "    fmt = '.2f' if normalize else 'd'\n",
    "    thresh = cm.max() / 2.\n",
    "    for i, j in itertools.product(range(cm.shape[0]), range(cm.shape[1])):\n",
    "        plt.text(j, i, format(cm[i, j], fmt),\n",
    "                 horizontalalignment=\"center\",\n",
    "                 color=\"white\" if cm[i, j] > thresh else \"black\")\n",
    "\n",
    "    plt.tight_layout()\n",
    "    plt.ylabel('True label')\n",
    "    plt.xlabel('Predicted label')"
   ]
  },
  {
   "cell_type": "code",
   "execution_count": 37,
   "metadata": {},
   "outputs": [
    {
     "name": "stdout",
     "output_type": "stream",
     "text": [
      "[[7982   37]\n",
      " [ 450 1449]]\n"
     ]
    }
   ],
   "source": [
    "## Confusion matrix\n",
    "from sklearn.metrics import classification_report, confusion_matrix, precision_recall_fscore_support\n",
    "\n",
    "class_names = [0,1] #['wake','sleep_stage_1','sleep_stage_2']  # wake, SS1, SS2  ; # '0','1','2'\n",
    "\n",
    "cnf_matrix = confusion_matrix(y_test, y_pred3)\n",
    "np.set_printoptions(precision=2)\n",
    "print(cnf_matrix)  #(confusion_matrix(y_test, y_pred3))"
   ]
  },
  {
   "cell_type": "code",
   "execution_count": 38,
   "metadata": {},
   "outputs": [
    {
     "name": "stdout",
     "output_type": "stream",
     "text": [
      "Normalized confusion matrix\n",
      "[[1.   0.  ]\n",
      " [0.24 0.76]]\n"
     ]
    },
    {
     "data": {
      "image/png": "[encoded data removed]",
      "text/plain": [
       "<matplotlib.figure.Figure at 0x7fba9f98af98>"
      ]
     },
     "metadata": {},
     "output_type": "display_data"
    }
   ],
   "source": [
    "# Plot normalized confusion matrix : normalisation shows nan for class'0' no signal has class=0 as true label\n",
    "plt.figure()\n",
    "plot_confusion_matrix(cnf_matrix, classes=class_names, normalize=True,\n",
    "                      title='Normalized confusion matrix')\n",
    "plt.show()\n"
   ]
  },
  {
   "cell_type": "code",
   "execution_count": null,
   "metadata": {},
   "outputs": [],
   "source": []
  },
  {
   "cell_type": "code",
   "execution_count": null,
   "metadata": {},
   "outputs": [],
   "source": []
  },
  {
   "cell_type": "code",
   "execution_count": 39,
   "metadata": {},
   "outputs": [
    {
     "data": {
      "text/html": [
       "<div>\n",
       "<style scoped>\n",
       "    .dataframe tbody tr th:only-of-type {\n",
       "        vertical-align: middle;\n",
       "    }\n",
       "\n",
       "    .dataframe tbody tr th {\n",
       "        vertical-align: top;\n",
       "    }\n",
       "\n",
       "    .dataframe thead th {\n",
       "        text-align: right;\n",
       "    }\n",
       "</style>\n",
       "<table border=\"1\" class=\"dataframe\">\n",
       "  <thead>\n",
       "    <tr style=\"text-align: right;\">\n",
       "      <th></th>\n",
       "      <th>pred</th>\n",
       "    </tr>\n",
       "  </thead>\n",
       "  <tbody>\n",
       "    <tr>\n",
       "      <th>0</th>\n",
       "      <td>0.0</td>\n",
       "    </tr>\n",
       "    <tr>\n",
       "      <th>1</th>\n",
       "      <td>0.0</td>\n",
       "    </tr>\n",
       "  </tbody>\n",
       "</table>\n",
       "</div>"
      ],
      "text/plain": [
       "   pred\n",
       "0   0.0\n",
       "1   0.0"
      ]
     },
     "execution_count": 39,
     "metadata": {},
     "output_type": "execute_result"
    }
   ],
   "source": [
    "## join the test set predictions & actual values into a dataframe\n",
    "res = y_pred3\n",
    "res.columns = ['pred']\n",
    "res.head(2)"
   ]
  },
  {
   "cell_type": "code",
   "execution_count": 40,
   "metadata": {},
   "outputs": [
    {
     "data": {
      "text/html": [
       "<div>\n",
       "<style scoped>\n",
       "    .dataframe tbody tr th:only-of-type {\n",
       "        vertical-align: middle;\n",
       "    }\n",
       "\n",
       "    .dataframe tbody tr th {\n",
       "        vertical-align: top;\n",
       "    }\n",
       "\n",
       "    .dataframe thead th {\n",
       "        text-align: right;\n",
       "    }\n",
       "</style>\n",
       "<table border=\"1\" class=\"dataframe\">\n",
       "  <thead>\n",
       "    <tr style=\"text-align: right;\">\n",
       "      <th></th>\n",
       "      <th>pred</th>\n",
       "      <th>class2</th>\n",
       "    </tr>\n",
       "  </thead>\n",
       "  <tbody>\n",
       "    <tr>\n",
       "      <th>0</th>\n",
       "      <td>0.0</td>\n",
       "      <td>0</td>\n",
       "    </tr>\n",
       "    <tr>\n",
       "      <th>1</th>\n",
       "      <td>0.0</td>\n",
       "      <td>0</td>\n",
       "    </tr>\n",
       "  </tbody>\n",
       "</table>\n",
       "</div>"
      ],
      "text/plain": [
       "   pred  class2\n",
       "0   0.0       0\n",
       "1   0.0       0"
      ]
     },
     "execution_count": 40,
     "metadata": {},
     "output_type": "execute_result"
    }
   ],
   "source": [
    "res = pd.concat([res,y_test], axis=1)\n",
    "res.head(2)"
   ]
  },
  {
   "cell_type": "code",
   "execution_count": null,
   "metadata": {},
   "outputs": [],
   "source": []
  },
  {
   "cell_type": "code",
   "execution_count": 41,
   "metadata": {},
   "outputs": [
    {
     "data": {
      "text/plain": [
       "(array([0.95, 0.98]),\n",
       " array([1.  , 0.76]),\n",
       " array([0.97, 0.86]),\n",
       " array([8019, 1899]))"
      ]
     },
     "execution_count": 41,
     "metadata": {},
     "output_type": "execute_result"
    }
   ],
   "source": [
    "precision_recall_fscore_support(y_test,y_pred3)\n",
    "\n",
    "# layout of results\n",
    "# precision: class 0, class 1   ==> [0: wake; 1: sleep/drowsy/fatigue]\n",
    "# recall: class 0, class 1\n",
    "# f1 score: class 0, class 1\n",
    "# support: class 0, class 1\n",
    "\n",
    "## INFERENCE: recall is low for sleep state"
   ]
  },
  {
   "cell_type": "code",
   "execution_count": 42,
   "metadata": {},
   "outputs": [
    {
     "ename": "TypeError",
     "evalue": "object of type 'int' has no len()",
     "output_type": "error",
     "traceback": [
      "\u001b[0;31m---------------------------------------------------------------------------\u001b[0m",
      "\u001b[0;31mTypeError\u001b[0m                                 Traceback (most recent call last)",
      "\u001b[0;32m<ipython-input-42-b914ad86bef5>\u001b[0m in \u001b[0;36m<module>\u001b[0;34m()\u001b[0m\n\u001b[1;32m      1\u001b[0m \u001b[0;31m#print(classification_report(y_test, y_pred3, target_names=class_names))\u001b[0m\u001b[0;34m\u001b[0m\u001b[0;34m\u001b[0m\u001b[0m\n\u001b[0;32m----> 2\u001b[0;31m \u001b[0mprint\u001b[0m\u001b[0;34m(\u001b[0m\u001b[0mclassification_report\u001b[0m\u001b[0;34m(\u001b[0m\u001b[0mres\u001b[0m\u001b[0;34m[\u001b[0m\u001b[0;34m'class2'\u001b[0m\u001b[0;34m]\u001b[0m\u001b[0;34m,\u001b[0m \u001b[0mres\u001b[0m\u001b[0;34m[\u001b[0m\u001b[0;34m'pred'\u001b[0m\u001b[0;34m]\u001b[0m\u001b[0;34m,\u001b[0m \u001b[0mtarget_names\u001b[0m\u001b[0;34m=\u001b[0m\u001b[0mclass_names\u001b[0m\u001b[0;34m)\u001b[0m\u001b[0;34m)\u001b[0m\u001b[0;34m\u001b[0m\u001b[0m\n\u001b[0m",
      "\u001b[0;32m~/anaconda3/lib/python3.6/site-packages/sklearn/metrics/classification.py\u001b[0m in \u001b[0;36mclassification_report\u001b[0;34m(y_true, y_pred, labels, target_names, sample_weight, digits, output_dict)\u001b[0m\n\u001b[1;32m   1566\u001b[0m     \u001b[0;32melse\u001b[0m\u001b[0;34m:\u001b[0m\u001b[0;34m\u001b[0m\u001b[0m\n\u001b[1;32m   1567\u001b[0m         \u001b[0mlongest_last_line_heading\u001b[0m \u001b[0;34m=\u001b[0m \u001b[0;34m'weighted avg'\u001b[0m\u001b[0;34m\u001b[0m\u001b[0m\n\u001b[0;32m-> 1568\u001b[0;31m         \u001b[0mname_width\u001b[0m \u001b[0;34m=\u001b[0m \u001b[0mmax\u001b[0m\u001b[0;34m(\u001b[0m\u001b[0mlen\u001b[0m\u001b[0;34m(\u001b[0m\u001b[0mcn\u001b[0m\u001b[0;34m)\u001b[0m \u001b[0;32mfor\u001b[0m \u001b[0mcn\u001b[0m \u001b[0;32min\u001b[0m \u001b[0mtarget_names\u001b[0m\u001b[0;34m)\u001b[0m\u001b[0;34m\u001b[0m\u001b[0m\n\u001b[0m\u001b[1;32m   1569\u001b[0m         \u001b[0mwidth\u001b[0m \u001b[0;34m=\u001b[0m \u001b[0mmax\u001b[0m\u001b[0;34m(\u001b[0m\u001b[0mname_width\u001b[0m\u001b[0;34m,\u001b[0m \u001b[0mlen\u001b[0m\u001b[0;34m(\u001b[0m\u001b[0mlongest_last_line_heading\u001b[0m\u001b[0;34m)\u001b[0m\u001b[0;34m,\u001b[0m \u001b[0mdigits\u001b[0m\u001b[0;34m)\u001b[0m\u001b[0;34m\u001b[0m\u001b[0m\n\u001b[1;32m   1570\u001b[0m         \u001b[0mhead_fmt\u001b[0m \u001b[0;34m=\u001b[0m \u001b[0;34mu'{:>{width}s} '\u001b[0m \u001b[0;34m+\u001b[0m \u001b[0;34mu' {:>9}'\u001b[0m \u001b[0;34m*\u001b[0m \u001b[0mlen\u001b[0m\u001b[0;34m(\u001b[0m\u001b[0mheaders\u001b[0m\u001b[0;34m)\u001b[0m\u001b[0;34m\u001b[0m\u001b[0m\n",
      "\u001b[0;32m~/anaconda3/lib/python3.6/site-packages/sklearn/metrics/classification.py\u001b[0m in \u001b[0;36m<genexpr>\u001b[0;34m(.0)\u001b[0m\n\u001b[1;32m   1566\u001b[0m     \u001b[0;32melse\u001b[0m\u001b[0;34m:\u001b[0m\u001b[0;34m\u001b[0m\u001b[0m\n\u001b[1;32m   1567\u001b[0m         \u001b[0mlongest_last_line_heading\u001b[0m \u001b[0;34m=\u001b[0m \u001b[0;34m'weighted avg'\u001b[0m\u001b[0;34m\u001b[0m\u001b[0m\n\u001b[0;32m-> 1568\u001b[0;31m         \u001b[0mname_width\u001b[0m \u001b[0;34m=\u001b[0m \u001b[0mmax\u001b[0m\u001b[0;34m(\u001b[0m\u001b[0mlen\u001b[0m\u001b[0;34m(\u001b[0m\u001b[0mcn\u001b[0m\u001b[0;34m)\u001b[0m \u001b[0;32mfor\u001b[0m \u001b[0mcn\u001b[0m \u001b[0;32min\u001b[0m \u001b[0mtarget_names\u001b[0m\u001b[0;34m)\u001b[0m\u001b[0;34m\u001b[0m\u001b[0m\n\u001b[0m\u001b[1;32m   1569\u001b[0m         \u001b[0mwidth\u001b[0m \u001b[0;34m=\u001b[0m \u001b[0mmax\u001b[0m\u001b[0;34m(\u001b[0m\u001b[0mname_width\u001b[0m\u001b[0;34m,\u001b[0m \u001b[0mlen\u001b[0m\u001b[0;34m(\u001b[0m\u001b[0mlongest_last_line_heading\u001b[0m\u001b[0;34m)\u001b[0m\u001b[0;34m,\u001b[0m \u001b[0mdigits\u001b[0m\u001b[0;34m)\u001b[0m\u001b[0;34m\u001b[0m\u001b[0m\n\u001b[1;32m   1570\u001b[0m         \u001b[0mhead_fmt\u001b[0m \u001b[0;34m=\u001b[0m \u001b[0;34mu'{:>{width}s} '\u001b[0m \u001b[0;34m+\u001b[0m \u001b[0;34mu' {:>9}'\u001b[0m \u001b[0;34m*\u001b[0m \u001b[0mlen\u001b[0m\u001b[0;34m(\u001b[0m\u001b[0mheaders\u001b[0m\u001b[0;34m)\u001b[0m\u001b[0;34m\u001b[0m\u001b[0m\n",
      "\u001b[0;31mTypeError\u001b[0m: object of type 'int' has no len()"
     ]
    }
   ],
   "source": [
    "#print(classification_report(y_test, y_pred3, target_names=class_names))\n",
    "print(classification_report(res['class2'], res['pred'], target_names=class_names))"
   ]
  },
  {
   "cell_type": "code",
   "execution_count": null,
   "metadata": {},
   "outputs": [],
   "source": []
  }
 ],
 "metadata": {
  "kernelspec": {
   "display_name": "Python 3",
   "language": "python",
   "name": "python3"
  },
  "language_info": {
   "codemirror_mode": {
    "name": "ipython",
    "version": 3
   },
   "file_extension": ".py",
   "mimetype": "text/x-python",
   "name": "python",
   "nbconvert_exporter": "python",
   "pygments_lexer": "ipython3",
   "version": "3.6.9"
  }
 },
 "nbformat": 4,
 "nbformat_minor": 2
}
