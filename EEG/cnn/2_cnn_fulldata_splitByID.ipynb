{
 "cells": [
  {
   "cell_type": "code",
   "execution_count": null,
   "metadata": {},
   "outputs": [],
   "source": [
    "## EEG signal classification into wake and drowsy using CNN network\n",
    "\n",
    "\n",
    "## POSSIBLE PROBLEMS & SOLUTIONS:\n",
    "# 1. overfitting (see the plots - how bad ?) \n",
    "# no. of training examples: 83076 (train set) = Train on 74768 samples, validate on 8308 samples\n",
    "# no. of trainable parameters: 4,793,957\n",
    "# => reduce the no. of epochs\n",
    "#    upsample data, \n",
    "#    reduce parameters/ change network, \n",
    "#    use dropout (in last-but-one layer)\n",
    "##   WHERE IS THE LEARNING RATE BEING SPECIFIED ?\n",
    "\n",
    "# 2. issue with parameter values: softmax vs sigmoid,  dense = 1 or 2,  binary or categorical cross-entropy\n",
    "\n",
    "# 3. conversion of CNN output (float) to category (0,1) - why not done by the model?\n",
    "\n",
    "\n",
    "## how to do train test split keeping class distribution similar\n",
    "## use stratified_sampling (keep class ratios similar in train test sets) instead of random sampling\n",
    "# https://datascience.stackexchange.com/questions/32818/train-test-split-of-unbalanced-dataset-classification\n",
    "## class_weight = balanced (giving more weightage to penalties for the smaller class)\n",
    "# https://stackoverflow.com/questions/30972029/how-does-the-class-weight-parameter-in-scikit-learn-work\n",
    "\n",
    "\n",
    "\n",
    "##  INFERENCE: recall is low (0.65) for sleep state (class 1)  ##\n",
    "'''\n",
    "(array([0.92174321, 0.89073806]),\n",
    " array([0.98116972, 0.64823591]),\n",
    " array([0.95052854, 0.75038098]),\n",
    " array([8019, 1899]))\n",
    "'''"
   ]
  },
  {
   "cell_type": "code",
   "execution_count": 1,
   "metadata": {},
   "outputs": [
    {
     "name": "stderr",
     "output_type": "stream",
     "text": [
      "/home/intern_eyecare/anaconda3/lib/python3.6/importlib/_bootstrap.py:219: RuntimeWarning: numpy.dtype size changed, may indicate binary incompatibility. Expected 96, got 88\n",
      "  return f(*args, **kwds)\n",
      "/home/intern_eyecare/anaconda3/lib/python3.6/importlib/_bootstrap.py:219: RuntimeWarning: numpy.dtype size changed, may indicate binary incompatibility. Expected 96, got 88\n",
      "  return f(*args, **kwds)\n",
      "/home/intern_eyecare/anaconda3/lib/python3.6/importlib/_bootstrap.py:219: RuntimeWarning: numpy.dtype size changed, may indicate binary incompatibility. Expected 96, got 88\n",
      "  return f(*args, **kwds)\n",
      "/home/intern_eyecare/anaconda3/lib/python3.6/importlib/_bootstrap.py:219: RuntimeWarning: numpy.dtype size changed, may indicate binary incompatibility. Expected 96, got 88\n",
      "  return f(*args, **kwds)\n",
      "/home/intern_eyecare/anaconda3/lib/python3.6/site-packages/h5py/__init__.py:36: FutureWarning: Conversion of the second argument of issubdtype from `float` to `np.floating` is deprecated. In future, it will be treated as `np.float64 == np.dtype(float).type`.\n",
      "  from ._conv import register_converters as _register_converters\n",
      "Using TensorFlow backend.\n",
      "/home/intern_eyecare/anaconda3/lib/python3.6/importlib/_bootstrap.py:219: RuntimeWarning: compiletime version 3.5 of module 'tensorflow.python.framework.fast_tensor_util' does not match runtime version 3.6\n",
      "  return f(*args, **kwds)\n",
      "/home/intern_eyecare/anaconda3/lib/python3.6/importlib/_bootstrap.py:219: RuntimeWarning: numpy.dtype size changed, may indicate binary incompatibility. Expected 96, got 88\n",
      "  return f(*args, **kwds)\n"
     ]
    }
   ],
   "source": [
    "import pandas as pd\n",
    "import numpy as np\n",
    "import os\n",
    "import pickle\n",
    "from scipy import stats\n",
    "import itertools\n",
    "import matplotlib.pyplot as plt\n",
    "from datetime import datetime\n",
    "\n",
    "from sklearn.preprocessing import MinMaxScaler\n",
    "from sklearn.model_selection import train_test_split\n",
    "#from sklearn.cross_validation import train_test_split\n",
    "\n",
    "\n",
    "import keras\n",
    "from keras.models import Sequential\n",
    "from keras.layers import Dense\n",
    "from keras.layers import Flatten\n",
    "from keras.layers.convolutional import Conv1D\n",
    "from keras.layers.convolutional import MaxPooling1D\n"
   ]
  },
  {
   "cell_type": "code",
   "execution_count": 2,
   "metadata": {},
   "outputs": [],
   "source": [
    "file_location=r'/home/intern_eyecare/Desktop/EEG/raw_data' #C:\\Users\\BOL1KOR\\Desktop\\BCI Project\\Pickle_Files\\Pickle_files_eeg'\n",
    "os.chdir(r'/home/intern_eyecare/Desktop/EEG/raw_data') #C:\\Users\\BOL1KOR\\Desktop\\BCI Project\\Pickle_Files\\Pickle_files_eeg')\n"
   ]
  },
  {
   "cell_type": "code",
   "execution_count": 3,
   "metadata": {},
   "outputs": [],
   "source": [
    "dfull = pickle.load(open('raw_EEG_all_patients.pkl', 'rb'))  #raw_EEG_all_patients.pkl"
   ]
  },
  {
   "cell_type": "code",
   "execution_count": 4,
   "metadata": {},
   "outputs": [
    {
     "data": {
      "text/html": [
       "<div>\n",
       "<style scoped>\n",
       "    .dataframe tbody tr th:only-of-type {\n",
       "        vertical-align: middle;\n",
       "    }\n",
       "\n",
       "    .dataframe tbody tr th {\n",
       "        vertical-align: top;\n",
       "    }\n",
       "\n",
       "    .dataframe thead th {\n",
       "        text-align: right;\n",
       "    }\n",
       "</style>\n",
       "<table border=\"1\" class=\"dataframe\">\n",
       "  <thead>\n",
       "    <tr style=\"text-align: right;\">\n",
       "      <th></th>\n",
       "      <th>0</th>\n",
       "      <th>1</th>\n",
       "      <th>2</th>\n",
       "      <th>3</th>\n",
       "      <th>4</th>\n",
       "      <th>5</th>\n",
       "      <th>6</th>\n",
       "      <th>7</th>\n",
       "      <th>8</th>\n",
       "      <th>9</th>\n",
       "      <th>...</th>\n",
       "      <th>2994</th>\n",
       "      <th>2995</th>\n",
       "      <th>2996</th>\n",
       "      <th>2997</th>\n",
       "      <th>2998</th>\n",
       "      <th>2999</th>\n",
       "      <th>pID</th>\n",
       "      <th>day</th>\n",
       "      <th>epoch</th>\n",
       "      <th>class_label</th>\n",
       "    </tr>\n",
       "  </thead>\n",
       "  <tbody>\n",
       "    <tr>\n",
       "      <th>0</th>\n",
       "      <td>9.041758</td>\n",
       "      <td>-6.624176</td>\n",
       "      <td>2.756044</td>\n",
       "      <td>-1.305495</td>\n",
       "      <td>15.134066</td>\n",
       "      <td>-11.942857</td>\n",
       "      <td>-5.850549</td>\n",
       "      <td>3.626374</td>\n",
       "      <td>-3.819780</td>\n",
       "      <td>-24.320879</td>\n",
       "      <td>...</td>\n",
       "      <td>9.041758</td>\n",
       "      <td>2.369231</td>\n",
       "      <td>1.885714</td>\n",
       "      <td>9.041758</td>\n",
       "      <td>7.301099</td>\n",
       "      <td>16.294505</td>\n",
       "      <td>404</td>\n",
       "      <td>2</td>\n",
       "      <td>s1e1</td>\n",
       "      <td>wake</td>\n",
       "    </tr>\n",
       "    <tr>\n",
       "      <th>1</th>\n",
       "      <td>9.428571</td>\n",
       "      <td>13.296703</td>\n",
       "      <td>11.169231</td>\n",
       "      <td>14.167033</td>\n",
       "      <td>6.334066</td>\n",
       "      <td>10.589011</td>\n",
       "      <td>6.817582</td>\n",
       "      <td>10.202198</td>\n",
       "      <td>12.716484</td>\n",
       "      <td>7.107692</td>\n",
       "      <td>...</td>\n",
       "      <td>-28.382418</td>\n",
       "      <td>-14.747253</td>\n",
       "      <td>-23.547253</td>\n",
       "      <td>-23.257143</td>\n",
       "      <td>-13.683516</td>\n",
       "      <td>-7.494505</td>\n",
       "      <td>404</td>\n",
       "      <td>2</td>\n",
       "      <td>s1e2</td>\n",
       "      <td>wake</td>\n",
       "    </tr>\n",
       "    <tr>\n",
       "      <th>2</th>\n",
       "      <td>-0.048352</td>\n",
       "      <td>-7.687912</td>\n",
       "      <td>-14.360440</td>\n",
       "      <td>-17.745055</td>\n",
       "      <td>-21.903297</td>\n",
       "      <td>-16.874725</td>\n",
       "      <td>-16.874725</td>\n",
       "      <td>-12.523077</td>\n",
       "      <td>-12.909890</td>\n",
       "      <td>-15.520879</td>\n",
       "      <td>...</td>\n",
       "      <td>1.305495</td>\n",
       "      <td>3.723077</td>\n",
       "      <td>-6.720879</td>\n",
       "      <td>-4.303297</td>\n",
       "      <td>-6.527473</td>\n",
       "      <td>-4.109890</td>\n",
       "      <td>404</td>\n",
       "      <td>2</td>\n",
       "      <td>s1e3</td>\n",
       "      <td>wake</td>\n",
       "    </tr>\n",
       "  </tbody>\n",
       "</table>\n",
       "<p>3 rows Ã— 3004 columns</p>\n",
       "</div>"
      ],
      "text/plain": [
       "          0          1          2          3          4          5          6  \\\n",
       "0  9.041758  -6.624176   2.756044  -1.305495  15.134066 -11.942857  -5.850549   \n",
       "1  9.428571  13.296703  11.169231  14.167033   6.334066  10.589011   6.817582   \n",
       "2 -0.048352  -7.687912 -14.360440 -17.745055 -21.903297 -16.874725 -16.874725   \n",
       "\n",
       "           7          8          9     ...            2994       2995  \\\n",
       "0   3.626374  -3.819780 -24.320879     ...        9.041758   2.369231   \n",
       "1  10.202198  12.716484   7.107692     ...      -28.382418 -14.747253   \n",
       "2 -12.523077 -12.909890 -15.520879     ...        1.305495   3.723077   \n",
       "\n",
       "        2996       2997       2998       2999  pID  day  epoch  class_label  \n",
       "0   1.885714   9.041758   7.301099  16.294505  404    2   s1e1         wake  \n",
       "1 -23.547253 -23.257143 -13.683516  -7.494505  404    2   s1e2         wake  \n",
       "2  -6.720879  -4.303297  -6.527473  -4.109890  404    2   s1e3         wake  \n",
       "\n",
       "[3 rows x 3004 columns]"
      ]
     },
     "execution_count": 4,
     "metadata": {},
     "output_type": "execute_result"
    }
   ],
   "source": [
    "dfull.head(3)"
   ]
  },
  {
   "cell_type": "code",
   "execution_count": 5,
   "metadata": {},
   "outputs": [],
   "source": [
    "### Convert from 3-class to 2-class ####\n",
    "dfull['class2'] = dfull['class_label']\n",
    "dfull['class2'] = [0 if x == 'wake' else 1 for x in dfull['class2']]"
   ]
  },
  {
   "cell_type": "code",
   "execution_count": 6,
   "metadata": {},
   "outputs": [],
   "source": [
    "## convert selected columns to categories \n",
    "## DO NOT CONVERT 'class2' from numeric to category - this probably gives error in grid search\n",
    "dfull[['class_label']] = dfull[['class_label']].astype('str')        # ,'class2'\n",
    "#dfull[['class_label']] = dfull[['class_label']].astype('category')   # ,'class2'"
   ]
  },
  {
   "cell_type": "code",
   "execution_count": 7,
   "metadata": {},
   "outputs": [
    {
     "data": {
      "text/plain": [
       "class_label\n",
       "sleep_stage_1     2804\n",
       "sleep_stage_2    17799\n",
       "wake             72391\n",
       "dtype: int64"
      ]
     },
     "execution_count": 7,
     "metadata": {},
     "output_type": "execute_result"
    }
   ],
   "source": [
    "dfull.groupby('class_label').size()"
   ]
  },
  {
   "cell_type": "code",
   "execution_count": 8,
   "metadata": {},
   "outputs": [
    {
     "data": {
      "text/plain": [
       "0                 0\n",
       "1                 0\n",
       "2                 0\n",
       "3                 0\n",
       "4                 0\n",
       "5                 0\n",
       "6                 0\n",
       "7                 0\n",
       "8                 0\n",
       "9                 0\n",
       "10                0\n",
       "11                0\n",
       "12                0\n",
       "13                0\n",
       "14                0\n",
       "15                0\n",
       "16                0\n",
       "17                0\n",
       "18                0\n",
       "19                0\n",
       "20                0\n",
       "21                0\n",
       "22                0\n",
       "23                0\n",
       "24                0\n",
       "25                0\n",
       "26                0\n",
       "27                0\n",
       "28                0\n",
       "29                0\n",
       "               ... \n",
       "2975              0\n",
       "2976              0\n",
       "2977              0\n",
       "2978              0\n",
       "2979              0\n",
       "2980              0\n",
       "2981              0\n",
       "2982              0\n",
       "2983              0\n",
       "2984              0\n",
       "2985              0\n",
       "2986              0\n",
       "2987              0\n",
       "2988              0\n",
       "2989              0\n",
       "2990              0\n",
       "2991              0\n",
       "2992              0\n",
       "2993              0\n",
       "2994              0\n",
       "2995              0\n",
       "2996              0\n",
       "2997              0\n",
       "2998              0\n",
       "2999           3146\n",
       "pID               0\n",
       "day               0\n",
       "epoch             0\n",
       "class_label       0\n",
       "class2            0\n",
       "Length: 3005, dtype: int64"
      ]
     },
     "execution_count": 8,
     "metadata": {},
     "output_type": "execute_result"
    }
   ],
   "source": [
    "dfull.isnull().sum()"
   ]
  },
  {
   "cell_type": "code",
   "execution_count": 9,
   "metadata": {},
   "outputs": [
    {
     "data": {
      "text/html": [
       "<div>\n",
       "<style scoped>\n",
       "    .dataframe tbody tr th:only-of-type {\n",
       "        vertical-align: middle;\n",
       "    }\n",
       "\n",
       "    .dataframe tbody tr th {\n",
       "        vertical-align: top;\n",
       "    }\n",
       "\n",
       "    .dataframe thead th {\n",
       "        text-align: right;\n",
       "    }\n",
       "</style>\n",
       "<table border=\"1\" class=\"dataframe\">\n",
       "  <thead>\n",
       "    <tr style=\"text-align: right;\">\n",
       "      <th></th>\n",
       "      <th>0</th>\n",
       "      <th>1</th>\n",
       "      <th>2</th>\n",
       "      <th>3</th>\n",
       "      <th>4</th>\n",
       "      <th>5</th>\n",
       "      <th>6</th>\n",
       "      <th>7</th>\n",
       "      <th>8</th>\n",
       "      <th>9</th>\n",
       "      <th>...</th>\n",
       "      <th>2994</th>\n",
       "      <th>2995</th>\n",
       "      <th>2996</th>\n",
       "      <th>2997</th>\n",
       "      <th>2998</th>\n",
       "      <th>pID</th>\n",
       "      <th>day</th>\n",
       "      <th>epoch</th>\n",
       "      <th>class_label</th>\n",
       "      <th>class2</th>\n",
       "    </tr>\n",
       "  </thead>\n",
       "  <tbody>\n",
       "    <tr>\n",
       "      <th>0</th>\n",
       "      <td>9.041758</td>\n",
       "      <td>-6.624176</td>\n",
       "      <td>2.756044</td>\n",
       "      <td>-1.305495</td>\n",
       "      <td>15.134066</td>\n",
       "      <td>-11.942857</td>\n",
       "      <td>-5.850549</td>\n",
       "      <td>3.626374</td>\n",
       "      <td>-3.81978</td>\n",
       "      <td>-24.320879</td>\n",
       "      <td>...</td>\n",
       "      <td>9.041758</td>\n",
       "      <td>2.369231</td>\n",
       "      <td>1.885714</td>\n",
       "      <td>9.041758</td>\n",
       "      <td>7.301099</td>\n",
       "      <td>404</td>\n",
       "      <td>2</td>\n",
       "      <td>s1e1</td>\n",
       "      <td>wake</td>\n",
       "      <td>0</td>\n",
       "    </tr>\n",
       "  </tbody>\n",
       "</table>\n",
       "<p>1 rows Ã— 3004 columns</p>\n",
       "</div>"
      ],
      "text/plain": [
       "          0         1         2         3          4          5         6  \\\n",
       "0  9.041758 -6.624176  2.756044 -1.305495  15.134066 -11.942857 -5.850549   \n",
       "\n",
       "          7        8          9   ...        2994      2995      2996  \\\n",
       "0  3.626374 -3.81978 -24.320879   ...    9.041758  2.369231  1.885714   \n",
       "\n",
       "       2997      2998  pID  day  epoch  class_label  class2  \n",
       "0  9.041758  7.301099  404    2   s1e1         wake       0  \n",
       "\n",
       "[1 rows x 3004 columns]"
      ]
     },
     "execution_count": 9,
     "metadata": {},
     "output_type": "execute_result"
    }
   ],
   "source": [
    "## drop column '2999' with NAN values instead of dropping the rows (which will reduce data)\n",
    "dfull = dfull.drop([2999],1)\n",
    "dfull.head(1)"
   ]
  },
  {
   "cell_type": "code",
   "execution_count": null,
   "metadata": {},
   "outputs": [],
   "source": []
  },
  {
   "cell_type": "code",
   "execution_count": 10,
   "metadata": {},
   "outputs": [
    {
     "data": {
      "text/plain": [
       "dtype('O')"
      ]
     },
     "execution_count": 10,
     "metadata": {},
     "output_type": "execute_result"
    }
   ],
   "source": [
    "### all patient data ##\n",
    "#ID = dfull['pID']\n",
    "#ID = pd.DataFrame(dfull['pID'].unique())\n",
    "ID = dfull['pID'].unique()\n",
    "ID.dtype"
   ]
  },
  {
   "cell_type": "code",
   "execution_count": null,
   "metadata": {},
   "outputs": [],
   "source": [
    "'''def getData(IDs, df):\n",
    "    dataset = pd.DataFrame(columns = df.columns)\n",
    "    count = 0\n",
    "    for i in range(len(IDs)):\n",
    "        for j in range(len(df)):\n",
    "            if IDs[i] == df.loc[j,'pID']:\n",
    "                dataset.loc[count] = df.loc[j]\n",
    "                count += 1\n",
    "        print(i)\n",
    "    return dataset'''"
   ]
  },
  {
   "cell_type": "code",
   "execution_count": 11,
   "metadata": {},
   "outputs": [],
   "source": [
    "#### segregate data into train:test set by pat id, then balance the data\n",
    "#Test = dfull[ (dfull.pID == '402') & (dfull.day == '2') ]\n",
    "#Train = dfull[~( (dfull.pID == '402') & (dfull.day == '2') )]\n",
    "\n",
    "np.random.seed(456)\n",
    "msk = np.random.rand(len(ID)) < 0.8\n",
    "\n",
    "trainIDs = pd.DataFrame()\n",
    "testIDs = pd.DataFrame()\n",
    "trainIDs['pID'] = ID[msk]\n",
    "testIDs['pID'] = ID[~msk]"
   ]
  },
  {
   "cell_type": "code",
   "execution_count": 12,
   "metadata": {},
   "outputs": [
    {
     "data": {
      "text/html": [
       "<div>\n",
       "<style scoped>\n",
       "    .dataframe tbody tr th:only-of-type {\n",
       "        vertical-align: middle;\n",
       "    }\n",
       "\n",
       "    .dataframe tbody tr th {\n",
       "        vertical-align: top;\n",
       "    }\n",
       "\n",
       "    .dataframe thead th {\n",
       "        text-align: right;\n",
       "    }\n",
       "</style>\n",
       "<table border=\"1\" class=\"dataframe\">\n",
       "  <thead>\n",
       "    <tr style=\"text-align: right;\">\n",
       "      <th></th>\n",
       "      <th>pID</th>\n",
       "    </tr>\n",
       "  </thead>\n",
       "  <tbody>\n",
       "    <tr>\n",
       "      <th>0</th>\n",
       "      <td>404</td>\n",
       "    </tr>\n",
       "    <tr>\n",
       "      <th>1</th>\n",
       "      <td>400</td>\n",
       "    </tr>\n",
       "    <tr>\n",
       "      <th>2</th>\n",
       "      <td>410</td>\n",
       "    </tr>\n",
       "    <tr>\n",
       "      <th>3</th>\n",
       "      <td>407</td>\n",
       "    </tr>\n",
       "    <tr>\n",
       "      <th>4</th>\n",
       "      <td>402</td>\n",
       "    </tr>\n",
       "    <tr>\n",
       "      <th>5</th>\n",
       "      <td>414</td>\n",
       "    </tr>\n",
       "    <tr>\n",
       "      <th>6</th>\n",
       "      <td>419</td>\n",
       "    </tr>\n",
       "    <tr>\n",
       "      <th>7</th>\n",
       "      <td>405</td>\n",
       "    </tr>\n",
       "    <tr>\n",
       "      <th>8</th>\n",
       "      <td>417</td>\n",
       "    </tr>\n",
       "    <tr>\n",
       "      <th>9</th>\n",
       "      <td>413</td>\n",
       "    </tr>\n",
       "    <tr>\n",
       "      <th>10</th>\n",
       "      <td>416</td>\n",
       "    </tr>\n",
       "    <tr>\n",
       "      <th>11</th>\n",
       "      <td>418</td>\n",
       "    </tr>\n",
       "    <tr>\n",
       "      <th>12</th>\n",
       "      <td>403</td>\n",
       "    </tr>\n",
       "    <tr>\n",
       "      <th>13</th>\n",
       "      <td>415</td>\n",
       "    </tr>\n",
       "    <tr>\n",
       "      <th>14</th>\n",
       "      <td>401</td>\n",
       "    </tr>\n",
       "    <tr>\n",
       "      <th>15</th>\n",
       "      <td>412</td>\n",
       "    </tr>\n",
       "    <tr>\n",
       "      <th>16</th>\n",
       "      <td>408</td>\n",
       "    </tr>\n",
       "    <tr>\n",
       "      <th>17</th>\n",
       "      <td>409</td>\n",
       "    </tr>\n",
       "  </tbody>\n",
       "</table>\n",
       "</div>"
      ],
      "text/plain": [
       "    pID\n",
       "0   404\n",
       "1   400\n",
       "2   410\n",
       "3   407\n",
       "4   402\n",
       "5   414\n",
       "6   419\n",
       "7   405\n",
       "8   417\n",
       "9   413\n",
       "10  416\n",
       "11  418\n",
       "12  403\n",
       "13  415\n",
       "14  401\n",
       "15  412\n",
       "16  408\n",
       "17  409"
      ]
     },
     "execution_count": 12,
     "metadata": {},
     "output_type": "execute_result"
    }
   ],
   "source": [
    "trainIDs"
   ]
  },
  {
   "cell_type": "code",
   "execution_count": 13,
   "metadata": {},
   "outputs": [
    {
     "data": {
      "text/html": [
       "<div>\n",
       "<style scoped>\n",
       "    .dataframe tbody tr th:only-of-type {\n",
       "        vertical-align: middle;\n",
       "    }\n",
       "\n",
       "    .dataframe tbody tr th {\n",
       "        vertical-align: top;\n",
       "    }\n",
       "\n",
       "    .dataframe thead th {\n",
       "        text-align: right;\n",
       "    }\n",
       "</style>\n",
       "<table border=\"1\" class=\"dataframe\">\n",
       "  <thead>\n",
       "    <tr style=\"text-align: right;\">\n",
       "      <th></th>\n",
       "      <th>pID</th>\n",
       "    </tr>\n",
       "  </thead>\n",
       "  <tbody>\n",
       "    <tr>\n",
       "      <th>0</th>\n",
       "      <td>406</td>\n",
       "    </tr>\n",
       "    <tr>\n",
       "      <th>1</th>\n",
       "      <td>411</td>\n",
       "    </tr>\n",
       "  </tbody>\n",
       "</table>\n",
       "</div>"
      ],
      "text/plain": [
       "   pID\n",
       "0  406\n",
       "1  411"
      ]
     },
     "execution_count": 13,
     "metadata": {},
     "output_type": "execute_result"
    }
   ],
   "source": [
    "testIDs"
   ]
  },
  {
   "cell_type": "code",
   "execution_count": 14,
   "metadata": {},
   "outputs": [],
   "source": [
    "#trainIDs.reset_index(inplace=True)\n",
    "#testIDs.reset_index(inplace=True)\n",
    "\n",
    "Train = dfull.loc[dfull['pID'].isin(ID[msk])] #pd.DataFrame(getData(trainIDs['pID'],dfull), columns = dfull.columns)\n",
    "Test = dfull.loc[dfull['pID'].isin(ID[~msk])] #pd.DataFrame(getData(testIDs['pID'],dfull), columns = dfull.columns)"
   ]
  },
  {
   "cell_type": "code",
   "execution_count": 15,
   "metadata": {},
   "outputs": [
    {
     "data": {
      "text/html": [
       "<div>\n",
       "<style scoped>\n",
       "    .dataframe tbody tr th:only-of-type {\n",
       "        vertical-align: middle;\n",
       "    }\n",
       "\n",
       "    .dataframe tbody tr th {\n",
       "        vertical-align: top;\n",
       "    }\n",
       "\n",
       "    .dataframe thead th {\n",
       "        text-align: right;\n",
       "    }\n",
       "</style>\n",
       "<table border=\"1\" class=\"dataframe\">\n",
       "  <thead>\n",
       "    <tr style=\"text-align: right;\">\n",
       "      <th></th>\n",
       "      <th>0</th>\n",
       "      <th>1</th>\n",
       "      <th>2</th>\n",
       "      <th>3</th>\n",
       "      <th>4</th>\n",
       "      <th>5</th>\n",
       "      <th>6</th>\n",
       "      <th>7</th>\n",
       "      <th>8</th>\n",
       "      <th>9</th>\n",
       "      <th>...</th>\n",
       "      <th>2994</th>\n",
       "      <th>2995</th>\n",
       "      <th>2996</th>\n",
       "      <th>2997</th>\n",
       "      <th>2998</th>\n",
       "      <th>pID</th>\n",
       "      <th>day</th>\n",
       "      <th>epoch</th>\n",
       "      <th>class_label</th>\n",
       "      <th>class2</th>\n",
       "    </tr>\n",
       "  </thead>\n",
       "  <tbody>\n",
       "    <tr>\n",
       "      <th>7362</th>\n",
       "      <td>7.809524</td>\n",
       "      <td>10.571429</td>\n",
       "      <td>17.142857</td>\n",
       "      <td>17.714286</td>\n",
       "      <td>19.142857</td>\n",
       "      <td>22.761905</td>\n",
       "      <td>13.904762</td>\n",
       "      <td>25.333333</td>\n",
       "      <td>28.190476</td>\n",
       "      <td>26.857143</td>\n",
       "      <td>...</td>\n",
       "      <td>-2.190476</td>\n",
       "      <td>-0.190476</td>\n",
       "      <td>-6.380952</td>\n",
       "      <td>2.190476</td>\n",
       "      <td>8.380952</td>\n",
       "      <td>406</td>\n",
       "      <td>1</td>\n",
       "      <td>s1e1</td>\n",
       "      <td>wake</td>\n",
       "      <td>0</td>\n",
       "    </tr>\n",
       "  </tbody>\n",
       "</table>\n",
       "<p>1 rows Ã— 3004 columns</p>\n",
       "</div>"
      ],
      "text/plain": [
       "             0          1          2          3          4          5  \\\n",
       "7362  7.809524  10.571429  17.142857  17.714286  19.142857  22.761905   \n",
       "\n",
       "              6          7          8          9   ...        2994      2995  \\\n",
       "7362  13.904762  25.333333  28.190476  26.857143   ...   -2.190476 -0.190476   \n",
       "\n",
       "          2996      2997      2998  pID  day  epoch  class_label  class2  \n",
       "7362 -6.380952  2.190476  8.380952  406    1   s1e1         wake       0  \n",
       "\n",
       "[1 rows x 3004 columns]"
      ]
     },
     "execution_count": 15,
     "metadata": {},
     "output_type": "execute_result"
    }
   ],
   "source": [
    "Test.head(1)"
   ]
  },
  {
   "cell_type": "code",
   "execution_count": 16,
   "metadata": {},
   "outputs": [
    {
     "name": "stdout",
     "output_type": "stream",
     "text": [
      "(83076, 3004)\n",
      "(9918, 3004)\n"
     ]
    }
   ],
   "source": [
    "print(Train.shape)\n",
    "print(Test.shape)\n",
    "\n",
    "## also, check the distribution of class 0 & 1 in the train & test sets\n",
    "'''\n",
    "print('Train distribution')\n",
    "print(Train.groupby('class2').size())\n",
    "print('')\n",
    "print('Test distribution')\n",
    "print(Test.groupby('class2').size())'''"
   ]
  },
  {
   "cell_type": "code",
   "execution_count": 17,
   "metadata": {},
   "outputs": [
    {
     "name": "stdout",
     "output_type": "stream",
     "text": [
      "       0         1         2         3          4          5         6     \\\n",
      "0  9.041758 -6.624176  2.756044 -1.305495  15.134066 -11.942857 -5.850549   \n",
      "\n",
      "       7        8          9       ...         2989      2990  2991      2992  \\\n",
      "0  3.626374 -3.81978 -24.320879    ...     40.18022  40.47033  39.6  57.49011   \n",
      "\n",
      "       2993      2994      2995      2996      2997      2998  \n",
      "0 -0.048352  9.041758  2.369231  1.885714  9.041758  7.301099  \n",
      "\n",
      "[1 rows x 2999 columns]\n",
      "\n",
      "   class2\n",
      "0       0\n"
     ]
    }
   ],
   "source": [
    "X_train = Train.drop(['pID','day','epoch','class_label','class2'], 1).reset_index()\n",
    "X_test = Test.drop(['pID','day','epoch','class_label','class2'], 1).reset_index()\n",
    "y_train = Train['class2'].reset_index()\n",
    "y_test = Test['class2'].reset_index()\n",
    "\n",
    "X_train = X_train.drop(['index'], 1)\n",
    "X_test = X_test.drop(['index'],1)\n",
    "y_train = y_train.drop(['index'],1)\n",
    "y_test = y_test.drop(['index'],1)\n",
    "\n",
    "print(X_train.head(1))\n",
    "#print(X_test.head(1))\n",
    "print('')\n",
    "print(y_train.head(1))\n",
    "#print(y_test.head(1))"
   ]
  },
  {
   "cell_type": "code",
   "execution_count": null,
   "metadata": {},
   "outputs": [],
   "source": []
  },
  {
   "cell_type": "code",
   "execution_count": 18,
   "metadata": {},
   "outputs": [],
   "source": [
    "from sklearn.preprocessing import MinMaxScaler, StandardScaler, RobustScaler\n",
    "# http://benalexkeen.com/feature-scaling-with-scikit-learn/\n",
    "# standardscaler: suitable for normally distributed data\n",
    "# minMaxScaler: (x-min)/(max - min)\n",
    "\n",
    "## normalize the data  : can also use other scalers like StandardScaler()\n",
    "scaler = StandardScaler()  #MinMaxScaler()\n",
    "X_train_scaled = scaler.fit_transform(X_train)\n",
    "X_test_scaled = scaler.transform(X_test)\n",
    "#X_train_scaled.shape"
   ]
  },
  {
   "cell_type": "code",
   "execution_count": 19,
   "metadata": {},
   "outputs": [
    {
     "name": "stdout",
     "output_type": "stream",
     "text": [
      "[[[ 0.3289354 ]\n",
      "  [-0.24972034]\n",
      "  [ 0.10286261]\n",
      "  ...\n",
      "  [ 0.0371708 ]\n",
      "  [ 0.31496167]\n",
      "  [ 0.25228504]]\n",
      "\n",
      " [[ 0.3433974 ]\n",
      "  [ 0.49274115]\n",
      "  [ 0.41634497]\n",
      "  ...\n",
      "  [-0.91905181]\n",
      "  [-0.89965353]\n",
      "  [-0.53575978]]\n",
      "\n",
      " [[-0.01092165]\n",
      "  [-0.28936634]\n",
      "  [-0.53491185]\n",
      "  ...\n",
      "  [-0.28641784]\n",
      "  [-0.18688533]\n",
      "  [-0.2670256 ]]\n",
      "\n",
      " ...\n",
      "\n",
      " [[-0.74797249]\n",
      "  [-0.71309437]\n",
      "  [-0.45040846]\n",
      "  ...\n",
      "  [-0.01441021]\n",
      "  [-0.04551816]\n",
      "  [-0.18468311]]\n",
      "\n",
      " [[-0.13492602]\n",
      "  [-0.09211019]\n",
      "  [ 0.01602985]\n",
      "  ...\n",
      "  [ 0.48276164]\n",
      "  [ 0.53131937]\n",
      "  [ 0.11657905]]\n",
      "\n",
      " [[-0.715013  ]\n",
      "  [-0.76895009]\n",
      "  [-1.07780085]\n",
      "  ...\n",
      "  [ 0.30709426]\n",
      "  [ 0.31251893]\n",
      "  [-0.2972426 ]]]\n"
     ]
    }
   ],
   "source": [
    "## re-shaping tha data for input to conv net\n",
    "# https://stackoverflow.com/questions/43235531/convolutional-neural-network-conv1d-input-shape\n",
    "nrows, ncols = X_train_scaled.shape\n",
    "X_train_array =  X_train_scaled.reshape(nrows, ncols, 1)\n",
    "print(X_train_array)"
   ]
  },
  {
   "cell_type": "code",
   "execution_count": null,
   "metadata": {},
   "outputs": [],
   "source": [
    "#### model building ####"
   ]
  },
  {
   "cell_type": "code",
   "execution_count": null,
   "metadata": {},
   "outputs": [],
   "source": [
    "'''\n",
    "# GOOGLE: \n",
    "# neural network in python ; \n",
    "# mlp classifier (multilayer perceptron)\n",
    "# https://www.kdnuggets.com/2016/10/beginners-guide-neural-networks-python-scikit-learn.html/2\n",
    "# https://scikit-learn.org/stable/modules/neural_networks_supervised.html\n",
    "\n",
    "## Neural Network Classifier (by Sowmya) ##\n",
    "from sklearn.neural_network import MLPClassifier\n",
    "model_mlp = MLPClassifier(hidden_layer_sizes = 8, activation = 'logistic', solver = 'sgd', learning_rate = 'adaptive', random_state = 45, max_iter = 500, learning_rate_init = 1, momentum = 0.9)\n",
    "model_mlp.fit(X_train_scaled,y_train)\n",
    "\n",
    "\n",
    "\n",
    "# following are examples of fully connected networks\n",
    "## GOOGLE: sample deep neural network for classification\n",
    "# https://medium.com/@pushkarmandot/build-your-first-deep-learning-neural-network-model-using-keras-in-python-a90b5864116d\n",
    "# https://gogul09.github.io/software/first-neural-network-keras\n",
    "# https://www.bogotobogo.com/python/scikit-learn/Artificial-Neural-Network-ANN-10-Deep-Learning-3-Theano-TensorFlow-Keras.php\n",
    "# https://machinelearningmastery.com/tutorial-first-neural-network-python-keras/\n",
    "\n",
    "\n",
    "# sample convolutional neural network for classification 1d data\n",
    "# https://machinelearningmastery.com/cnn-models-for-human-activity-recognition-time-series-classification/\n",
    "# https://www.quora.com/When-is-a-1D-Convolutional-Neural-Network-appropriate-to-use\n",
    "\n",
    "'''\n",
    "# https://stackoverflow.com/questions/43076609/how-to-calculate-precision-and-recall-in-keras\n",
    "# https://github.com/GeekLiB/keras/blob/master/keras/metrics.py\n",
    "# https://machinelearningmastery.com/custom-metrics-deep-learning-keras-python/\n",
    "# https://keras.io/metrics/"
   ]
  },
  {
   "cell_type": "code",
   "execution_count": 20,
   "metadata": {},
   "outputs": [
    {
     "data": {
      "text/plain": [
       "'2019-01-10 11:12:01'"
      ]
     },
     "execution_count": 20,
     "metadata": {},
     "output_type": "execute_result"
    }
   ],
   "source": [
    "from datetime import datetime\n",
    "datetime.now().strftime('%Y-%m-%d %H:%M:%S')"
   ]
  },
  {
   "cell_type": "code",
   "execution_count": 21,
   "metadata": {},
   "outputs": [
    {
     "name": "stdout",
     "output_type": "stream",
     "text": [
      "_________________________________________________________________\n",
      "Layer (type)                 Output Shape              Param #   \n",
      "=================================================================\n",
      "conv1d_1 (Conv1D)            (None, 2997, 64)          256       \n",
      "_________________________________________________________________\n",
      "max_pooling1d_1 (MaxPooling1 (None, 1498, 64)          0         \n",
      "_________________________________________________________________\n",
      "flatten_1 (Flatten)          (None, 95872)             0         \n",
      "_________________________________________________________________\n",
      "dense_1 (Dense)              (None, 50)                4793650   \n",
      "_________________________________________________________________\n",
      "dense_2 (Dense)              (None, 1)                 51        \n",
      "=================================================================\n",
      "Total params: 4,793,957\n",
      "Trainable params: 4,793,957\n",
      "Non-trainable params: 0\n",
      "_________________________________________________________________\n",
      "None\n"
     ]
    }
   ],
   "source": [
    "# define model: 1 conv layer, 1 fully-connected layer, 1 output layer\n",
    "model = Sequential()  ## to initialize NN\n",
    "\n",
    "model.add(Conv1D(filters=64, kernel_size=3, activation='relu', input_shape=(ncols, 1))) \n",
    "model.add(MaxPooling1D(pool_size=2))\n",
    "\n",
    "model.add(Flatten())\n",
    "model.add(Dense(50, activation='relu'))\n",
    "\n",
    "model.add(Dense(1, activation='sigmoid'))  # this is the output layer for binary classification\n",
    "print(model.summary())\n",
    "\n",
    "# compile the model\n",
    "model.compile(optimizer='adam', loss='binary_crossentropy', metrics=['accuracy'])"
   ]
  },
  {
   "cell_type": "code",
   "execution_count": 22,
   "metadata": {},
   "outputs": [
    {
     "name": "stdout",
     "output_type": "stream",
     "text": [
      "Train on 74768 samples, validate on 8308 samples\n",
      "Epoch 1/100\n",
      "74768/74768 [==============================] - 52s 702us/step - loss: 0.2614 - acc: 0.9174 - val_loss: 0.1809 - val_acc: 0.9650\n",
      "Epoch 2/100\n",
      "74768/74768 [==============================] - 51s 688us/step - loss: 0.1760 - acc: 0.9530 - val_loss: 0.1398 - val_acc: 0.9717\n",
      "Epoch 3/100\n",
      "74768/74768 [==============================] - 50s 667us/step - loss: 0.1289 - acc: 0.9614 - val_loss: 0.1449 - val_acc: 0.9705\n",
      "Epoch 4/100\n",
      "74768/74768 [==============================] - 49s 661us/step - loss: 0.1055 - acc: 0.9668 - val_loss: 0.2104 - val_acc: 0.9547\n",
      "Epoch 5/100\n",
      "74768/74768 [==============================] - 49s 662us/step - loss: 0.0908 - acc: 0.9700 - val_loss: 0.1514 - val_acc: 0.9700\n",
      "Epoch 6/100\n",
      "74768/74768 [==============================] - 50s 662us/step - loss: 0.0797 - acc: 0.9737 - val_loss: 0.1420 - val_acc: 0.9663\n",
      "Epoch 7/100\n",
      "74768/74768 [==============================] - 49s 659us/step - loss: 0.0718 - acc: 0.9761 - val_loss: 0.1659 - val_acc: 0.9639\n",
      "Epoch 8/100\n",
      "74768/74768 [==============================] - 49s 662us/step - loss: 0.0632 - acc: 0.9793 - val_loss: 0.2449 - val_acc: 0.9497\n",
      "Epoch 9/100\n",
      "74768/74768 [==============================] - 50s 662us/step - loss: 0.0554 - acc: 0.9827 - val_loss: 0.1817 - val_acc: 0.9659\n",
      "Epoch 10/100\n",
      "74768/74768 [==============================] - 50s 669us/step - loss: 0.0535 - acc: 0.9829 - val_loss: 0.1787 - val_acc: 0.9651\n",
      "Epoch 11/100\n",
      "74768/74768 [==============================] - 50s 672us/step - loss: 0.0422 - acc: 0.9878 - val_loss: 0.3298 - val_acc: 0.9491\n",
      "Epoch 12/100\n",
      "74768/74768 [==============================] - 49s 659us/step - loss: 0.0415 - acc: 0.9879 - val_loss: 0.2317 - val_acc: 0.9636\n",
      "Epoch 13/100\n",
      "74768/74768 [==============================] - 49s 660us/step - loss: 0.0346 - acc: 0.9907 - val_loss: 0.3360 - val_acc: 0.9403\n",
      "Epoch 14/100\n",
      "74768/74768 [==============================] - 50s 664us/step - loss: 0.0351 - acc: 0.9907 - val_loss: 0.2631 - val_acc: 0.9551\n",
      "Epoch 15/100\n",
      "74768/74768 [==============================] - 49s 662us/step - loss: 0.0257 - acc: 0.9936 - val_loss: 0.3461 - val_acc: 0.9440\n",
      "Epoch 16/100\n",
      "74768/74768 [==============================] - 49s 660us/step - loss: 0.0268 - acc: 0.9933 - val_loss: 0.2459 - val_acc: 0.9627\n",
      "Epoch 17/100\n",
      "74768/74768 [==============================] - 49s 658us/step - loss: 0.0222 - acc: 0.9947 - val_loss: 0.2693 - val_acc: 0.9581\n",
      "Epoch 18/100\n",
      "74768/74768 [==============================] - 49s 659us/step - loss: 0.0237 - acc: 0.9946 - val_loss: 0.3098 - val_acc: 0.9561\n",
      "Epoch 19/100\n",
      "74768/74768 [==============================] - 50s 663us/step - loss: 0.0164 - acc: 0.9971 - val_loss: 0.3524 - val_acc: 0.9509\n",
      "Epoch 20/100\n",
      "74768/74768 [==============================] - 49s 657us/step - loss: 0.0208 - acc: 0.9950 - val_loss: 0.3029 - val_acc: 0.9579\n",
      "Epoch 21/100\n",
      "74768/74768 [==============================] - 49s 660us/step - loss: 0.0221 - acc: 0.9948 - val_loss: 0.3509 - val_acc: 0.9494\n",
      "Epoch 22/100\n",
      "74768/74768 [==============================] - 49s 659us/step - loss: 0.0155 - acc: 0.9971 - val_loss: 0.2880 - val_acc: 0.9598\n",
      "Epoch 23/100\n",
      "74768/74768 [==============================] - 49s 654us/step - loss: 0.0184 - acc: 0.9962 - val_loss: 0.3636 - val_acc: 0.9451\n",
      "Epoch 24/100\n",
      "74768/74768 [==============================] - 50s 663us/step - loss: 0.0164 - acc: 0.9967 - val_loss: 0.2837 - val_acc: 0.9581\n",
      "Epoch 25/100\n",
      "74768/74768 [==============================] - 49s 657us/step - loss: 0.0173 - acc: 0.9967 - val_loss: 0.3992 - val_acc: 0.9472\n",
      "Epoch 26/100\n",
      "74768/74768 [==============================] - 50s 665us/step - loss: 0.0163 - acc: 0.9969 - val_loss: 0.3035 - val_acc: 0.9564\n",
      "Epoch 27/100\n",
      "74768/74768 [==============================] - 49s 660us/step - loss: 0.0178 - acc: 0.9964 - val_loss: 0.3269 - val_acc: 0.9596\n",
      "Epoch 28/100\n",
      "74768/74768 [==============================] - 49s 654us/step - loss: 0.0148 - acc: 0.9973 - val_loss: 0.3208 - val_acc: 0.9581\n",
      "Epoch 29/100\n",
      "74768/74768 [==============================] - 50s 672us/step - loss: 0.0159 - acc: 0.9969 - val_loss: 0.2964 - val_acc: 0.9567\n",
      "Epoch 30/100\n",
      "74768/74768 [==============================] - 50s 664us/step - loss: 0.0115 - acc: 0.9981 - val_loss: 0.2635 - val_acc: 0.9603\n",
      "Epoch 31/100\n",
      "74768/74768 [==============================] - 50s 663us/step - loss: 0.0148 - acc: 0.9972 - val_loss: 0.3694 - val_acc: 0.9526\n",
      "Epoch 32/100\n",
      "74768/74768 [==============================] - 50s 668us/step - loss: 0.0144 - acc: 0.9974 - val_loss: 0.3294 - val_acc: 0.9594\n",
      "Epoch 33/100\n",
      "74768/74768 [==============================] - 50s 670us/step - loss: 0.0161 - acc: 0.9968 - val_loss: 0.3326 - val_acc: 0.9555\n",
      "Epoch 34/100\n",
      "74768/74768 [==============================] - 49s 659us/step - loss: 0.0129 - acc: 0.9976 - val_loss: 0.3998 - val_acc: 0.9449\n",
      "Epoch 35/100\n",
      "74768/74768 [==============================] - 49s 657us/step - loss: 0.0133 - acc: 0.9975 - val_loss: 0.4113 - val_acc: 0.9478\n",
      "Epoch 36/100\n",
      "74768/74768 [==============================] - 49s 659us/step - loss: 0.0125 - acc: 0.9979 - val_loss: 0.3345 - val_acc: 0.9569\n",
      "Epoch 37/100\n",
      "74768/74768 [==============================] - 49s 660us/step - loss: 0.0154 - acc: 0.9969 - val_loss: 0.3789 - val_acc: 0.9506\n",
      "Epoch 38/100\n",
      "74768/74768 [==============================] - 49s 659us/step - loss: 0.0154 - acc: 0.9969 - val_loss: 0.3226 - val_acc: 0.9578\n",
      "Epoch 39/100\n",
      "74768/74768 [==============================] - 49s 655us/step - loss: 0.0093 - acc: 0.9986 - val_loss: 0.3242 - val_acc: 0.9587\n",
      "Epoch 40/100\n",
      "74768/74768 [==============================] - 49s 656us/step - loss: 0.0112 - acc: 0.9982 - val_loss: 0.3243 - val_acc: 0.9587\n",
      "Epoch 41/100\n",
      "74768/74768 [==============================] - 50s 665us/step - loss: 0.0133 - acc: 0.9974 - val_loss: 0.3343 - val_acc: 0.9551\n",
      "Epoch 42/100\n",
      "74768/74768 [==============================] - 49s 662us/step - loss: 0.0151 - acc: 0.9974 - val_loss: 0.4002 - val_acc: 0.9491\n",
      "Epoch 43/100\n",
      "74768/74768 [==============================] - 49s 661us/step - loss: 0.0159 - acc: 0.9971 - val_loss: 0.3132 - val_acc: 0.9576\n",
      "Epoch 44/100\n",
      "74768/74768 [==============================] - 49s 653us/step - loss: 0.0115 - acc: 0.9982 - val_loss: 0.3252 - val_acc: 0.9614\n",
      "Epoch 45/100\n",
      "74768/74768 [==============================] - 50s 666us/step - loss: 0.0108 - acc: 0.9982 - val_loss: 0.4225 - val_acc: 0.9479\n",
      "Epoch 46/100\n",
      "74768/74768 [==============================] - 50s 665us/step - loss: 0.0151 - acc: 0.9974 - val_loss: 0.3893 - val_acc: 0.9522\n",
      "Epoch 47/100\n",
      "74768/74768 [==============================] - 49s 662us/step - loss: 0.0122 - acc: 0.9978 - val_loss: 0.3349 - val_acc: 0.9569\n",
      "Epoch 48/100\n",
      "74768/74768 [==============================] - 50s 664us/step - loss: 0.0119 - acc: 0.9981 - val_loss: 0.3954 - val_acc: 0.9499\n",
      "Epoch 49/100\n",
      "74768/74768 [==============================] - 49s 662us/step - loss: 0.0119 - acc: 0.9980 - val_loss: 0.3441 - val_acc: 0.9571\n",
      "Epoch 50/100\n",
      "74768/74768 [==============================] - 50s 663us/step - loss: 0.0184 - acc: 0.9960 - val_loss: 0.3445 - val_acc: 0.9551\n",
      "Epoch 51/100\n",
      "74768/74768 [==============================] - 50s 666us/step - loss: 0.0112 - acc: 0.9980 - val_loss: 0.3632 - val_acc: 0.9528\n",
      "Epoch 52/100\n",
      "74768/74768 [==============================] - 49s 656us/step - loss: 0.0111 - acc: 0.9983 - val_loss: 0.3427 - val_acc: 0.9552\n",
      "Epoch 53/100\n",
      "74768/74768 [==============================] - 50s 663us/step - loss: 0.0083 - acc: 0.9990 - val_loss: 0.3341 - val_acc: 0.9561\n",
      "Epoch 54/100\n",
      "74768/74768 [==============================] - 50s 666us/step - loss: 0.0154 - acc: 0.9969 - val_loss: 0.3265 - val_acc: 0.9571\n",
      "Epoch 55/100\n",
      "74768/74768 [==============================] - 50s 665us/step - loss: 0.0110 - acc: 0.9983 - val_loss: 0.3390 - val_acc: 0.9587\n",
      "Epoch 56/100\n",
      "74768/74768 [==============================] - 50s 665us/step - loss: 0.0138 - acc: 0.9975 - val_loss: 0.3448 - val_acc: 0.9574\n",
      "Epoch 57/100\n",
      "74768/74768 [==============================] - 49s 657us/step - loss: 0.0093 - acc: 0.9986 - val_loss: 0.3401 - val_acc: 0.9591\n",
      "Epoch 58/100\n",
      "74768/74768 [==============================] - 50s 666us/step - loss: 0.0099 - acc: 0.9985 - val_loss: 0.3388 - val_acc: 0.9611\n"
     ]
    },
    {
     "name": "stdout",
     "output_type": "stream",
     "text": [
      "Epoch 59/100\n",
      "74768/74768 [==============================] - 49s 657us/step - loss: 0.0148 - acc: 0.9970 - val_loss: 0.3534 - val_acc: 0.9579\n",
      "Epoch 60/100\n",
      "74768/74768 [==============================] - 49s 659us/step - loss: 0.0101 - acc: 0.9984 - val_loss: 0.4639 - val_acc: 0.9395\n",
      "Epoch 61/100\n",
      "74768/74768 [==============================] - 49s 657us/step - loss: 0.0090 - acc: 0.9988 - val_loss: 0.4257 - val_acc: 0.9487\n",
      "Epoch 62/100\n",
      "74768/74768 [==============================] - 49s 659us/step - loss: 0.0099 - acc: 0.9984 - val_loss: 0.3489 - val_acc: 0.9551\n",
      "Epoch 63/100\n",
      "74768/74768 [==============================] - 49s 661us/step - loss: 0.0119 - acc: 0.9980 - val_loss: 0.3453 - val_acc: 0.9567\n",
      "Epoch 64/100\n",
      "74768/74768 [==============================] - 49s 655us/step - loss: 0.0115 - acc: 0.9981 - val_loss: 0.3583 - val_acc: 0.9567\n",
      "Epoch 65/100\n",
      "74768/74768 [==============================] - 49s 657us/step - loss: 0.0087 - acc: 0.9988 - val_loss: 0.3573 - val_acc: 0.9559\n",
      "Epoch 66/100\n",
      "74768/74768 [==============================] - 49s 657us/step - loss: 0.0103 - acc: 0.9984 - val_loss: 0.3876 - val_acc: 0.9523\n",
      "Epoch 67/100\n",
      "74768/74768 [==============================] - 49s 652us/step - loss: 0.0135 - acc: 0.9976 - val_loss: 0.3658 - val_acc: 0.9547\n",
      "Epoch 68/100\n",
      "74768/74768 [==============================] - 49s 659us/step - loss: 0.0106 - acc: 0.9983 - val_loss: 0.3320 - val_acc: 0.9597\n",
      "Epoch 69/100\n",
      "74768/74768 [==============================] - 49s 655us/step - loss: 0.0106 - acc: 0.9984 - val_loss: 0.3229 - val_acc: 0.9578\n",
      "Epoch 70/100\n",
      "74768/74768 [==============================] - 49s 659us/step - loss: 0.0167 - acc: 0.9972 - val_loss: 0.4048 - val_acc: 0.9502\n",
      "Epoch 71/100\n",
      "74768/74768 [==============================] - 49s 656us/step - loss: 0.0078 - acc: 0.9990 - val_loss: 0.4020 - val_acc: 0.9506\n",
      "Epoch 72/100\n",
      "74768/74768 [==============================] - 49s 660us/step - loss: 0.0080 - acc: 0.9989 - val_loss: 0.3627 - val_acc: 0.9567\n",
      "Epoch 73/100\n",
      "74768/74768 [==============================] - 49s 660us/step - loss: 0.0113 - acc: 0.9980 - val_loss: 0.3840 - val_acc: 0.9517\n",
      "Epoch 74/100\n",
      "74768/74768 [==============================] - 49s 654us/step - loss: 0.0084 - acc: 0.9988 - val_loss: 0.3160 - val_acc: 0.9610\n",
      "Epoch 75/100\n",
      "74768/74768 [==============================] - 49s 656us/step - loss: 0.0096 - acc: 0.9984 - val_loss: 0.5725 - val_acc: 0.9364\n",
      "Epoch 76/100\n",
      "74768/74768 [==============================] - 49s 657us/step - loss: 0.0112 - acc: 0.9980 - val_loss: 0.3956 - val_acc: 0.9521\n",
      "Epoch 77/100\n",
      "74768/74768 [==============================] - 49s 659us/step - loss: 0.0099 - acc: 0.9984 - val_loss: 0.3411 - val_acc: 0.9585\n",
      "Epoch 78/100\n",
      "74768/74768 [==============================] - 49s 656us/step - loss: 0.0124 - acc: 0.9979 - val_loss: 0.3482 - val_acc: 0.9590\n",
      "Epoch 79/100\n",
      "74768/74768 [==============================] - 49s 660us/step - loss: 0.0111 - acc: 0.9982 - val_loss: 0.4428 - val_acc: 0.9497\n",
      "Epoch 80/100\n",
      "74768/74768 [==============================] - 49s 653us/step - loss: 0.0099 - acc: 0.9984 - val_loss: 0.3657 - val_acc: 0.9550\n",
      "Epoch 81/100\n",
      "74768/74768 [==============================] - 49s 656us/step - loss: 0.0123 - acc: 0.9981 - val_loss: 0.3679 - val_acc: 0.9565\n",
      "Epoch 82/100\n",
      "74768/74768 [==============================] - 49s 657us/step - loss: 0.0102 - acc: 0.9984 - val_loss: 0.3922 - val_acc: 0.9535\n",
      "Epoch 83/100\n",
      "74768/74768 [==============================] - 49s 659us/step - loss: 0.0095 - acc: 0.9987 - val_loss: 0.3661 - val_acc: 0.9552\n",
      "Epoch 84/100\n",
      "74768/74768 [==============================] - 49s 656us/step - loss: 0.0079 - acc: 0.9990 - val_loss: 0.4490 - val_acc: 0.9478\n",
      "Epoch 85/100\n",
      "74768/74768 [==============================] - 50s 663us/step - loss: 0.0102 - acc: 0.9983 - val_loss: 0.3776 - val_acc: 0.9543\n",
      "Epoch 86/100\n",
      "74768/74768 [==============================] - 49s 655us/step - loss: 0.0111 - acc: 0.9982 - val_loss: 0.3229 - val_acc: 0.9582\n",
      "Epoch 87/100\n",
      "74768/74768 [==============================] - 49s 660us/step - loss: 0.0119 - acc: 0.9979 - val_loss: 0.4399 - val_acc: 0.9463\n",
      "Epoch 88/100\n",
      "74768/74768 [==============================] - 49s 661us/step - loss: 0.0079 - acc: 0.9989 - val_loss: 0.4155 - val_acc: 0.9527\n",
      "Epoch 89/100\n",
      "74768/74768 [==============================] - 49s 654us/step - loss: 0.0088 - acc: 0.9987 - val_loss: 0.4177 - val_acc: 0.9540\n",
      "Epoch 90/100\n",
      "74768/74768 [==============================] - 49s 661us/step - loss: 0.0070 - acc: 0.9992 - val_loss: 0.3644 - val_acc: 0.9568\n",
      "Epoch 91/100\n",
      "74768/74768 [==============================] - 49s 657us/step - loss: 0.0130 - acc: 0.9974 - val_loss: 0.4282 - val_acc: 0.9510\n",
      "Epoch 92/100\n",
      "74768/74768 [==============================] - 49s 658us/step - loss: 0.0104 - acc: 0.9984 - val_loss: 0.3930 - val_acc: 0.9551\n",
      "Epoch 93/100\n",
      "74768/74768 [==============================] - 49s 655us/step - loss: 0.0097 - acc: 0.9985 - val_loss: 0.4027 - val_acc: 0.9531\n",
      "Epoch 94/100\n",
      "74768/74768 [==============================] - 49s 652us/step - loss: 0.0091 - acc: 0.9987 - val_loss: 0.4111 - val_acc: 0.9531\n",
      "Epoch 95/100\n",
      "74768/74768 [==============================] - 49s 660us/step - loss: 0.0116 - acc: 0.9979 - val_loss: 0.3706 - val_acc: 0.9558\n",
      "Epoch 96/100\n",
      "74768/74768 [==============================] - 49s 654us/step - loss: 0.0088 - acc: 0.9988 - val_loss: 0.3774 - val_acc: 0.9553\n",
      "Epoch 97/100\n",
      "74768/74768 [==============================] - 49s 660us/step - loss: 0.0095 - acc: 0.9984 - val_loss: 0.3597 - val_acc: 0.9528\n",
      "Epoch 98/100\n",
      "74768/74768 [==============================] - 49s 654us/step - loss: 0.0083 - acc: 0.9988 - val_loss: 0.3714 - val_acc: 0.9564\n",
      "Epoch 99/100\n",
      "74768/74768 [==============================] - 49s 658us/step - loss: 0.0071 - acc: 0.9992 - val_loss: 0.3873 - val_acc: 0.9551\n",
      "Epoch 100/100\n",
      "74768/74768 [==============================] - 49s 656us/step - loss: 0.0070 - acc: 0.9993 - val_loss: 0.3984 - val_acc: 0.9546\n"
     ]
    }
   ],
   "source": [
    "history = model.fit(X_train_array, y_train, epochs=100, batch_size=64, validation_split=0.1, verbose=1)\n",
    "\n",
    "## steps to plot train & validation accuracy & loss\n",
    "#https://stackoverflow.com/questions/41908379/keras-plot-training-validation-and-test-set-accuracy\n",
    "#history = model.fit(x_test, y_test, nb_epoch=10, validation_split=0.2, shuffle=True)"
   ]
  },
  {
   "cell_type": "code",
   "execution_count": 23,
   "metadata": {},
   "outputs": [
    {
     "data": {
      "text/plain": [
       "'2019-01-10 12:34:28'"
      ]
     },
     "execution_count": 23,
     "metadata": {},
     "output_type": "execute_result"
    }
   ],
   "source": [
    "datetime.now().strftime('%Y-%m-%d %H:%M:%S')"
   ]
  },
  {
   "cell_type": "code",
   "execution_count": 24,
   "metadata": {},
   "outputs": [
    {
     "name": "stdout",
     "output_type": "stream",
     "text": [
      "dict_keys(['val_loss', 'val_acc', 'loss', 'acc'])\n"
     ]
    },
    {
     "data": {
      "image/png": "[encoded data removed]",
      "text/plain": [
       "<matplotlib.figure.Figure at 0x7f0f69d871d0>"
      ]
     },
     "metadata": {},
     "output_type": "display_data"
    },
    {
     "data": {
      "image/png": "[encoded data removed]",
      "text/plain": [
       "<matplotlib.figure.Figure at 0x7f0f69cd6e80>"
      ]
     },
     "metadata": {},
     "output_type": "display_data"
    }
   ],
   "source": [
    "#https://stackoverflow.com/questions/41908379/keras-plot-training-validation-and-test-set-accuracy\n",
    "print(history.history.keys())\n",
    "#  \"Accuracy\"\n",
    "plt.plot(history.history['acc'])\n",
    "plt.plot(history.history['val_acc'])\n",
    "plt.title('model accuracy')\n",
    "plt.ylabel('accuracy')\n",
    "plt.xlabel('epoch')\n",
    "plt.legend(['train', 'validation'], loc='upper left')\n",
    "plt.show()\n",
    "# \"Loss\"\n",
    "plt.plot(history.history['loss'])\n",
    "plt.plot(history.history['val_loss'])\n",
    "plt.title('model loss')\n",
    "plt.ylabel('loss')\n",
    "plt.xlabel('epoch')\n",
    "plt.legend(['train', 'validation'], loc='upper left')\n",
    "plt.show()"
   ]
  },
  {
   "cell_type": "code",
   "execution_count": 44,
   "metadata": {},
   "outputs": [],
   "source": [
    "#import pickle\n",
    "#pickle.dump(model, open('/home/intern_eyecare/Desktop/EEG/cnn_model.pkl','wb'))\n",
    "model.save('/home/intern_eyecare/Desktop/EEG/cnn_model.pkl')"
   ]
  },
  {
   "cell_type": "code",
   "execution_count": null,
   "metadata": {},
   "outputs": [],
   "source": []
  },
  {
   "cell_type": "code",
   "execution_count": 25,
   "metadata": {},
   "outputs": [],
   "source": [
    "## predict on test data - check metrics\n",
    "#y_pred = model_svc.predict(X_test_scaled)\n",
    "\n",
    "nrows2, ncols2 = X_test_scaled.shape\n",
    "X_test_array =  X_test_scaled.reshape(nrows2, ncols2, 1)\n",
    "y_pred = model.predict(X_test_array)"
   ]
  },
  {
   "cell_type": "code",
   "execution_count": 26,
   "metadata": {},
   "outputs": [
    {
     "name": "stdout",
     "output_type": "stream",
     "text": [
      "   class2\n",
      "0       0\n",
      "1       0\n",
      "\n",
      "      class2\n",
      "9915       1\n",
      "9916       1\n",
      "9917       1\n"
     ]
    }
   ],
   "source": [
    "print(y_test.head(2))\n",
    "print('')\n",
    "print(y_test.tail(3))"
   ]
  },
  {
   "cell_type": "code",
   "execution_count": 27,
   "metadata": {},
   "outputs": [
    {
     "ename": "TypeError",
     "evalue": "'Series' object is not callable",
     "output_type": "error",
     "traceback": [
      "\u001b[0;31m---------------------------------------------------------------------------\u001b[0m",
      "\u001b[0;31mTypeError\u001b[0m                                 Traceback (most recent call last)",
      "\u001b[0;32m<ipython-input-27-cb4136e4741a>\u001b[0m in \u001b[0;36m<module>\u001b[0;34m()\u001b[0m\n\u001b[0;32m----> 1\u001b[0;31m \u001b[0my_test\u001b[0m\u001b[0;34m.\u001b[0m\u001b[0mdtypes\u001b[0m\u001b[0;34m(\u001b[0m\u001b[0;34m)\u001b[0m\u001b[0;34m\u001b[0m\u001b[0m\n\u001b[0m",
      "\u001b[0;31mTypeError\u001b[0m: 'Series' object is not callable"
     ]
    }
   ],
   "source": [
    "y_test.dtypes()"
   ]
  },
  {
   "cell_type": "code",
   "execution_count": 28,
   "metadata": {},
   "outputs": [
    {
     "data": {
      "text/plain": [
       "array([[3.3649221e-24],\n",
       "       [3.8442626e-35],\n",
       "       [0.0000000e+00],\n",
       "       ...,\n",
       "       [0.0000000e+00],\n",
       "       [0.0000000e+00],\n",
       "       [0.0000000e+00]], dtype=float32)"
      ]
     },
     "execution_count": 28,
     "metadata": {},
     "output_type": "execute_result"
    }
   ],
   "source": [
    "y_pred"
   ]
  },
  {
   "cell_type": "code",
   "execution_count": 29,
   "metadata": {},
   "outputs": [
    {
     "name": "stdout",
     "output_type": "stream",
     "text": [
      "              0\n",
      "0  3.364922e-24\n",
      "1  3.844263e-35\n",
      "\n",
      "        0\n",
      "9916  0.0\n",
      "9917  0.0\n"
     ]
    }
   ],
   "source": [
    "# convert array to dataframe\n",
    "\n",
    "y_pred2 = pd.DataFrame(y_pred)\n",
    "print(y_pred2.head(2))\n",
    "print('')\n",
    "print(y_pred2.tail(2))"
   ]
  },
  {
   "cell_type": "code",
   "execution_count": 30,
   "metadata": {},
   "outputs": [
    {
     "name": "stdout",
     "output_type": "stream",
     "text": [
      "     0\n",
      "0  0.0\n",
      "1  0.0\n",
      "\n",
      "        0\n",
      "9916  0.0\n",
      "9917  0.0\n"
     ]
    }
   ],
   "source": [
    "y_pred3 = round(y_pred2)\n",
    "y_pred3\n",
    "print(y_pred3.head(2))\n",
    "print('')\n",
    "print(y_pred3.tail(2))"
   ]
  },
  {
   "cell_type": "code",
   "execution_count": 33,
   "metadata": {},
   "outputs": [
    {
     "data": {
      "text/plain": [
       "array([0., 1.])"
      ]
     },
     "execution_count": 33,
     "metadata": {},
     "output_type": "execute_result"
    }
   ],
   "source": [
    "y_pred3[0].unique()"
   ]
  },
  {
   "cell_type": "code",
   "execution_count": 34,
   "metadata": {},
   "outputs": [],
   "source": [
    "from sklearn.metrics import confusion_matrix\n",
    "import itertools\n",
    "\n",
    "def plot_confusion_matrix(cm, classes,\n",
    "                          normalize=False,\n",
    "                          title='Confusion matrix',\n",
    "                          cmap=plt.cm.Blues):\n",
    "    \"\"\"\n",
    "    This function prints and plots the confusion matrix.\n",
    "    Normalization can be applied by setting `normalize=True`.\n",
    "    \"\"\"\n",
    "    if normalize:\n",
    "        cm = cm.astype('float') / cm.sum(axis=1)[:, np.newaxis]\n",
    "        print(\"Normalized confusion matrix\")\n",
    "    else:\n",
    "        print('Confusion matrix, without normalization')\n",
    "\n",
    "    print(cm)\n",
    "\n",
    "    plt.imshow(cm, interpolation='nearest', cmap=cmap)\n",
    "    plt.title(title)\n",
    "    plt.colorbar()\n",
    "    tick_marks = np.arange(len(classes))\n",
    "    plt.xticks(tick_marks, classes, rotation=45)\n",
    "    plt.yticks(tick_marks, classes)\n",
    "\n",
    "    fmt = '.2f' if normalize else 'd'\n",
    "    thresh = cm.max() / 2.\n",
    "    for i, j in itertools.product(range(cm.shape[0]), range(cm.shape[1])):\n",
    "        plt.text(j, i, format(cm[i, j], fmt),\n",
    "                 horizontalalignment=\"center\",\n",
    "                 color=\"white\" if cm[i, j] > thresh else \"black\")\n",
    "\n",
    "    plt.tight_layout()\n",
    "    plt.ylabel('True label')\n",
    "    plt.xlabel('Predicted label')"
   ]
  },
  {
   "cell_type": "code",
   "execution_count": 35,
   "metadata": {},
   "outputs": [
    {
     "name": "stdout",
     "output_type": "stream",
     "text": [
      "[[7868  151]\n",
      " [ 668 1231]]\n"
     ]
    }
   ],
   "source": [
    "## Confusion matrix\n",
    "from sklearn.metrics import classification_report, confusion_matrix, precision_recall_fscore_support\n",
    "\n",
    "class_names = [0,1] #['wake','sleep_stage_1','sleep_stage_2']  # wake, SS1, SS2  ; # '0','1','2'\n",
    "\n",
    "print(confusion_matrix(y_test, y_pred3))"
   ]
  },
  {
   "cell_type": "code",
   "execution_count": null,
   "metadata": {},
   "outputs": [],
   "source": []
  },
  {
   "cell_type": "code",
   "execution_count": 46,
   "metadata": {},
   "outputs": [
    {
     "data": {
      "text/html": [
       "<div>\n",
       "<style scoped>\n",
       "    .dataframe tbody tr th:only-of-type {\n",
       "        vertical-align: middle;\n",
       "    }\n",
       "\n",
       "    .dataframe tbody tr th {\n",
       "        vertical-align: top;\n",
       "    }\n",
       "\n",
       "    .dataframe thead th {\n",
       "        text-align: right;\n",
       "    }\n",
       "</style>\n",
       "<table border=\"1\" class=\"dataframe\">\n",
       "  <thead>\n",
       "    <tr style=\"text-align: right;\">\n",
       "      <th></th>\n",
       "      <th>pred</th>\n",
       "    </tr>\n",
       "  </thead>\n",
       "  <tbody>\n",
       "    <tr>\n",
       "      <th>0</th>\n",
       "      <td>0.0</td>\n",
       "    </tr>\n",
       "    <tr>\n",
       "      <th>1</th>\n",
       "      <td>0.0</td>\n",
       "    </tr>\n",
       "  </tbody>\n",
       "</table>\n",
       "</div>"
      ],
      "text/plain": [
       "   pred\n",
       "0   0.0\n",
       "1   0.0"
      ]
     },
     "execution_count": 46,
     "metadata": {},
     "output_type": "execute_result"
    }
   ],
   "source": [
    "## join the test set predictions & actual values into a dataframe\n",
    "res = y_pred3\n",
    "res.columns = ['pred']\n",
    "res.head(2)"
   ]
  },
  {
   "cell_type": "code",
   "execution_count": 47,
   "metadata": {},
   "outputs": [
    {
     "data": {
      "text/html": [
       "<div>\n",
       "<style scoped>\n",
       "    .dataframe tbody tr th:only-of-type {\n",
       "        vertical-align: middle;\n",
       "    }\n",
       "\n",
       "    .dataframe tbody tr th {\n",
       "        vertical-align: top;\n",
       "    }\n",
       "\n",
       "    .dataframe thead th {\n",
       "        text-align: right;\n",
       "    }\n",
       "</style>\n",
       "<table border=\"1\" class=\"dataframe\">\n",
       "  <thead>\n",
       "    <tr style=\"text-align: right;\">\n",
       "      <th></th>\n",
       "      <th>pred</th>\n",
       "      <th>class2</th>\n",
       "    </tr>\n",
       "  </thead>\n",
       "  <tbody>\n",
       "    <tr>\n",
       "      <th>0</th>\n",
       "      <td>0.0</td>\n",
       "      <td>0</td>\n",
       "    </tr>\n",
       "    <tr>\n",
       "      <th>1</th>\n",
       "      <td>0.0</td>\n",
       "      <td>0</td>\n",
       "    </tr>\n",
       "  </tbody>\n",
       "</table>\n",
       "</div>"
      ],
      "text/plain": [
       "   pred  class2\n",
       "0   0.0       0\n",
       "1   0.0       0"
      ]
     },
     "execution_count": 47,
     "metadata": {},
     "output_type": "execute_result"
    }
   ],
   "source": [
    "res = pd.concat([res,y_test], axis=1)\n",
    "res.head(2)"
   ]
  },
  {
   "cell_type": "code",
   "execution_count": 48,
   "metadata": {},
   "outputs": [
    {
     "ename": "TypeError",
     "evalue": "object of type 'int' has no len()",
     "output_type": "error",
     "traceback": [
      "\u001b[0;31m---------------------------------------------------------------------------\u001b[0m",
      "\u001b[0;31mTypeError\u001b[0m                                 Traceback (most recent call last)",
      "\u001b[0;32m<ipython-input-48-b914ad86bef5>\u001b[0m in \u001b[0;36m<module>\u001b[0;34m()\u001b[0m\n\u001b[1;32m      1\u001b[0m \u001b[0;31m#print(classification_report(y_test, y_pred3, target_names=class_names))\u001b[0m\u001b[0;34m\u001b[0m\u001b[0;34m\u001b[0m\u001b[0m\n\u001b[0;32m----> 2\u001b[0;31m \u001b[0mprint\u001b[0m\u001b[0;34m(\u001b[0m\u001b[0mclassification_report\u001b[0m\u001b[0;34m(\u001b[0m\u001b[0mres\u001b[0m\u001b[0;34m[\u001b[0m\u001b[0;34m'class2'\u001b[0m\u001b[0;34m]\u001b[0m\u001b[0;34m,\u001b[0m \u001b[0mres\u001b[0m\u001b[0;34m[\u001b[0m\u001b[0;34m'pred'\u001b[0m\u001b[0;34m]\u001b[0m\u001b[0;34m,\u001b[0m \u001b[0mtarget_names\u001b[0m\u001b[0;34m=\u001b[0m\u001b[0mclass_names\u001b[0m\u001b[0;34m)\u001b[0m\u001b[0;34m)\u001b[0m\u001b[0;34m\u001b[0m\u001b[0m\n\u001b[0m",
      "\u001b[0;32m~/anaconda3/lib/python3.6/site-packages/sklearn/metrics/classification.py\u001b[0m in \u001b[0;36mclassification_report\u001b[0;34m(y_true, y_pred, labels, target_names, sample_weight, digits)\u001b[0m\n\u001b[1;32m   1433\u001b[0m     \u001b[0;32mif\u001b[0m \u001b[0mtarget_names\u001b[0m \u001b[0;32mis\u001b[0m \u001b[0;32mNone\u001b[0m\u001b[0;34m:\u001b[0m\u001b[0;34m\u001b[0m\u001b[0m\n\u001b[1;32m   1434\u001b[0m         \u001b[0mtarget_names\u001b[0m \u001b[0;34m=\u001b[0m \u001b[0;34m[\u001b[0m\u001b[0;34mu'%s'\u001b[0m \u001b[0;34m%\u001b[0m \u001b[0ml\u001b[0m \u001b[0;32mfor\u001b[0m \u001b[0ml\u001b[0m \u001b[0;32min\u001b[0m \u001b[0mlabels\u001b[0m\u001b[0;34m]\u001b[0m\u001b[0;34m\u001b[0m\u001b[0m\n\u001b[0;32m-> 1435\u001b[0;31m     \u001b[0mname_width\u001b[0m \u001b[0;34m=\u001b[0m \u001b[0mmax\u001b[0m\u001b[0;34m(\u001b[0m\u001b[0mlen\u001b[0m\u001b[0;34m(\u001b[0m\u001b[0mcn\u001b[0m\u001b[0;34m)\u001b[0m \u001b[0;32mfor\u001b[0m \u001b[0mcn\u001b[0m \u001b[0;32min\u001b[0m \u001b[0mtarget_names\u001b[0m\u001b[0;34m)\u001b[0m\u001b[0;34m\u001b[0m\u001b[0m\n\u001b[0m\u001b[1;32m   1436\u001b[0m     \u001b[0mwidth\u001b[0m \u001b[0;34m=\u001b[0m \u001b[0mmax\u001b[0m\u001b[0;34m(\u001b[0m\u001b[0mname_width\u001b[0m\u001b[0;34m,\u001b[0m \u001b[0mlen\u001b[0m\u001b[0;34m(\u001b[0m\u001b[0mlast_line_heading\u001b[0m\u001b[0;34m)\u001b[0m\u001b[0;34m,\u001b[0m \u001b[0mdigits\u001b[0m\u001b[0;34m)\u001b[0m\u001b[0;34m\u001b[0m\u001b[0m\n\u001b[1;32m   1437\u001b[0m \u001b[0;34m\u001b[0m\u001b[0m\n",
      "\u001b[0;32m~/anaconda3/lib/python3.6/site-packages/sklearn/metrics/classification.py\u001b[0m in \u001b[0;36m<genexpr>\u001b[0;34m(.0)\u001b[0m\n\u001b[1;32m   1433\u001b[0m     \u001b[0;32mif\u001b[0m \u001b[0mtarget_names\u001b[0m \u001b[0;32mis\u001b[0m \u001b[0;32mNone\u001b[0m\u001b[0;34m:\u001b[0m\u001b[0;34m\u001b[0m\u001b[0m\n\u001b[1;32m   1434\u001b[0m         \u001b[0mtarget_names\u001b[0m \u001b[0;34m=\u001b[0m \u001b[0;34m[\u001b[0m\u001b[0;34mu'%s'\u001b[0m \u001b[0;34m%\u001b[0m \u001b[0ml\u001b[0m \u001b[0;32mfor\u001b[0m \u001b[0ml\u001b[0m \u001b[0;32min\u001b[0m \u001b[0mlabels\u001b[0m\u001b[0;34m]\u001b[0m\u001b[0;34m\u001b[0m\u001b[0m\n\u001b[0;32m-> 1435\u001b[0;31m     \u001b[0mname_width\u001b[0m \u001b[0;34m=\u001b[0m \u001b[0mmax\u001b[0m\u001b[0;34m(\u001b[0m\u001b[0mlen\u001b[0m\u001b[0;34m(\u001b[0m\u001b[0mcn\u001b[0m\u001b[0;34m)\u001b[0m \u001b[0;32mfor\u001b[0m \u001b[0mcn\u001b[0m \u001b[0;32min\u001b[0m \u001b[0mtarget_names\u001b[0m\u001b[0;34m)\u001b[0m\u001b[0;34m\u001b[0m\u001b[0m\n\u001b[0m\u001b[1;32m   1436\u001b[0m     \u001b[0mwidth\u001b[0m \u001b[0;34m=\u001b[0m \u001b[0mmax\u001b[0m\u001b[0;34m(\u001b[0m\u001b[0mname_width\u001b[0m\u001b[0;34m,\u001b[0m \u001b[0mlen\u001b[0m\u001b[0;34m(\u001b[0m\u001b[0mlast_line_heading\u001b[0m\u001b[0;34m)\u001b[0m\u001b[0;34m,\u001b[0m \u001b[0mdigits\u001b[0m\u001b[0;34m)\u001b[0m\u001b[0;34m\u001b[0m\u001b[0m\n\u001b[1;32m   1437\u001b[0m \u001b[0;34m\u001b[0m\u001b[0m\n",
      "\u001b[0;31mTypeError\u001b[0m: object of type 'int' has no len()"
     ]
    }
   ],
   "source": [
    "#print(classification_report(y_test, y_pred3, target_names=class_names))\n",
    "print(classification_report(res['class2'], res['pred'], target_names=class_names))"
   ]
  },
  {
   "cell_type": "code",
   "execution_count": 38,
   "metadata": {},
   "outputs": [
    {
     "data": {
      "text/plain": [
       "(array([0.92174321, 0.89073806]),\n",
       " array([0.98116972, 0.64823591]),\n",
       " array([0.95052854, 0.75038098]),\n",
       " array([8019, 1899]))"
      ]
     },
     "execution_count": 38,
     "metadata": {},
     "output_type": "execute_result"
    }
   ],
   "source": [
    "precision_recall_fscore_support(y_test,y_pred3)\n",
    "\n",
    "# layout of results\n",
    "# precision: class 0, class 1   ==> [0: wake; 1: sleep/drowsy/fatigue]\n",
    "# recall: class 0, class 1\n",
    "# f1 score: class 0, class 1\n",
    "# support: class 0, class 1\n",
    "\n",
    "## INFERENCE: recall is low for sleep state"
   ]
  },
  {
   "cell_type": "code",
   "execution_count": null,
   "metadata": {},
   "outputs": [],
   "source": []
  },
  {
   "cell_type": "code",
   "execution_count": null,
   "metadata": {},
   "outputs": [],
   "source": []
  }
 ],
 "metadata": {
  "kernelspec": {
   "display_name": "Python 3",
   "language": "python",
   "name": "python3"
  },
  "language_info": {
   "codemirror_mode": {
    "name": "ipython",
    "version": 3
   },
   "file_extension": ".py",
   "mimetype": "text/x-python",
   "name": "python",
   "nbconvert_exporter": "python",
   "pygments_lexer": "ipython3",
   "version": "3.6.9"
  }
 },
 "nbformat": 4,
 "nbformat_minor": 2
}
