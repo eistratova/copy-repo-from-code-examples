{
 "cells": [
  {
   "cell_type": "code",
   "execution_count": 1,
   "metadata": {},
   "outputs": [],
   "source": [
    "## create SAX string representation & dimer features\n",
    "\n",
    "# STEPS\n",
    "# for each epoch:\n",
    "# 1. normalize the data over a window (epoch size)\n",
    "# 2. convert to PAA - take small segments & represent by the average over the segment\n",
    "# 3. choose alphabet size & the levels/ threshold for discretisation\n",
    "# 4. convert to string representation\n",
    "# 5. vector representation - numbers of different dimers\n",
    "\n",
    "# discretise over 0.25S = 0.25 * 100 = 25 points; reduces to 120 points\n",
    "#               0.5s => 50 points; reduces to 60 points\n",
    "\n",
    "\n",
    "## convert each epoch to sax dimer array, & then train with ML\n",
    "\n",
    "import pandas as pd\n",
    "import numpy as np\n",
    "import os\n",
    "import pickle\n",
    "#import re\n",
    "import regex as re\n",
    "import matplotlib.pyplot as plt"
   ]
  },
  {
   "cell_type": "code",
   "execution_count": 2,
   "metadata": {},
   "outputs": [],
   "source": [
    "### 1. normalise the data, 1 epoch (30s, i.e. 3000 data points) at a time ###\n",
    "# if the SD is very small (less than a threshold), do not normalize the data\n",
    "\n",
    "def z_norm(y):\n",
    "    sd = y.std()\n",
    "    if sd < 0.01:\n",
    "        y = y\n",
    "    else:\n",
    "        y =(y - y.mean())/sd\n",
    "    \n",
    "    return y"
   ]
  },
  {
   "cell_type": "code",
   "execution_count": 3,
   "metadata": {},
   "outputs": [],
   "source": [
    "#### 2. convert to PAA - take a window & represent by the average over the window ####\n",
    "# discretise over 0.25S = 0.25 * 100 = 25 points  -> results in 120 data points\n",
    "#               0.5s = 50 points   -> results in 60 data points\n",
    "\n",
    "#time_window = 0.5\n",
    "\n",
    "def get_paa(y, time_window):\n",
    "    # convert time_window from sec to no. of data points\n",
    "    time_window = time_window * 100  # 100 is sampling freq\n",
    "    \n",
    "    paa = []\n",
    "    for i in range(0, int(len(y)/time_window)): # len(y)/time_window gives the no. of steps\n",
    "        # take a segment of data\n",
    "        arr = y[(i * int(time_window)):((i+1) * int(time_window))]\n",
    "        # convert to mean & append to list\n",
    "        paa.append(arr.mean())\n",
    "    return paa"
   ]
  },
  {
   "cell_type": "code",
   "execution_count": 4,
   "metadata": {},
   "outputs": [],
   "source": [
    "#### 3. choose alphabet size & the levels/ threshold for discretisation ####\n",
    "# set this up as a dictionary to choose different alphabet sizes\n",
    "\n",
    "# let alphabet size = 4;\n",
    "# cuts: [-0.67, 0, 0.67]"
   ]
  },
  {
   "cell_type": "code",
   "execution_count": 5,
   "metadata": {},
   "outputs": [],
   "source": [
    "#### 4. convert to string  ####\n",
    "\n",
    "def get_sax_string(paa):\n",
    "    sax = []\n",
    "    \n",
    "    for i in range(0,len(paa)):\n",
    "        if paa[i] <= -0.67:\n",
    "            alpha = 'a'\n",
    "        elif (paa[i] > -0.67 and paa[i] <=0):\n",
    "            alpha = 'b'\n",
    "        elif (paa[i] > 0 and paa[i] <=0.67):\n",
    "            alpha = 'c'\n",
    "        else:\n",
    "            alpha = 'd'\n",
    "        sax.append(alpha)\n",
    "    \n",
    "    # convert sax from list to string format\n",
    "    sax_string = ''.join(sax)\n",
    "    return sax_string"
   ]
  },
  {
   "cell_type": "code",
   "execution_count": 6,
   "metadata": {},
   "outputs": [],
   "source": [
    "#### 5. vector representation - numbers of different dimers ####\n",
    "\n",
    "# different types of dimers\n",
    "# aa ab ac ad\n",
    "# ba bb bc bd\n",
    "# ca cb cc cd\n",
    "# da db dc dd\n",
    "\n",
    "# ways to count:\n",
    "# sax_string.count(dim_alpha[i]) => 'bbb' : counts bb as 1  => FIX THIS by adding overlapped=True\n",
    "# len(re.findall(dim_alpha[i], sax_string)) : counts bb as 1\n",
    "\n",
    "# set up a list of the dimers possible\n",
    "dim_alpha = ['aa','ab','ac','ad','ba','bb','bc','bd','ca','cb','cc','cd','da','db','dc','dd']\n",
    "\n",
    "def get_sax_dimer_array(sax_string):\n",
    "    dim_arr = []\n",
    "    \n",
    "    for i in range(0, len(dim_alpha)):\n",
    "        dim_arr.append(len(re.findall(dim_alpha[i], sax_string, overlapped=True)))\n",
    "    \n",
    "    print(dim_arr)\n",
    "    ncols = 4\n",
    "    im = np.reshape(dim_arr,(-1,ncols)) #x.reshape(1754, 1754)\n",
    "    plt.gray()\n",
    "    plt.imshow(im)"
   ]
  },
  {
   "cell_type": "code",
   "execution_count": 7,
   "metadata": {},
   "outputs": [],
   "source": [
    "def run_all(y, time_window):\n",
    "    y = z_norm(y)\n",
    "    #time_window = 0.5\n",
    "    paa = get_paa(y, time_window)\n",
    "    sax_string = get_sax_string(paa)\n",
    "    get_sax_dimer_array(sax_string)"
   ]
  },
  {
   "cell_type": "code",
   "execution_count": 8,
   "metadata": {},
   "outputs": [],
   "source": [
    "file_location='C:\\\\Users\\\\Desktop\\\\data\\\\HEALTHCARE\\\\EEG\\\\data\\\\eeg_epochs_dec12_2018'\n",
    "os.chdir('C:\\\\Users\\\\Desktop\\\\data\\\\HEALTHCARE\\\\EEG\\\\data\\\\eeg_epochs_dec12_2018')\n",
    "\n",
    "x = pickle.load(open('SC4001E0-PSG-EEG.pickle','rb'))"
   ]
  },
  {
   "cell_type": "code",
   "execution_count": 9,
   "metadata": {},
   "outputs": [
    {
     "name": "stdout",
     "output_type": "stream",
     "text": [
      "[3, 1, 4, 1, 2, 9, 7, 3, 2, 9, 9, 2, 2, 1, 2, 2]\n"
     ]
    },
    {
     "data": {
      "image/png": "[encoded data removed]",
      "text/plain": [
       "<Figure size 432x288 with 1 Axes>"
      ]
     },
     "metadata": {},
     "output_type": "display_data"
    }
   ],
   "source": [
    "k = list(x['wake'].keys())\n",
    "y = x['wake'][k[0]]\n",
    "run_all(y, 0.5)"
   ]
  },
  {
   "cell_type": "code",
   "execution_count": 10,
   "metadata": {},
   "outputs": [
    {
     "name": "stdout",
     "output_type": "stream",
     "text": [
      "[3, 2, 3, 1, 2, 5, 8, 2, 3, 10, 7, 4, 1, 0, 6, 2]\n"
     ]
    },
    {
     "data": {
      "image/png": "[encoded data removed]",
      "text/plain": [
       "<Figure size 432x288 with 1 Axes>"
      ]
     },
     "metadata": {},
     "output_type": "display_data"
    }
   ],
   "source": [
    "y = x['wake'][k[2]]\n",
    "run_all(y, 0.5)"
   ]
  },
  {
   "cell_type": "code",
   "execution_count": null,
   "metadata": {},
   "outputs": [],
   "source": []
  },
  {
   "cell_type": "code",
   "execution_count": 11,
   "metadata": {},
   "outputs": [
    {
     "name": "stdout",
     "output_type": "stream",
     "text": [
      "[1, 1, 0, 0, 0, 6, 14, 2, 0, 15, 15, 1, 1, 1, 1, 1]\n"
     ]
    },
    {
     "data": {
      "image/png": "[encoded data removed]",
      "text/plain": [
       "<Figure size 432x288 with 1 Axes>"
      ]
     },
     "metadata": {},
     "output_type": "display_data"
    }
   ],
   "source": [
    "k = list(x['sleep_stage_1'].keys())\n",
    "y = x['sleep_stage_1'][k[0]]\n",
    "run_all(y,0.5)"
   ]
  },
  {
   "cell_type": "code",
   "execution_count": 12,
   "metadata": {},
   "outputs": [
    {
     "name": "stdout",
     "output_type": "stream",
     "text": [
      "[1, 1, 1, 1, 3, 15, 9, 1, 0, 10, 9, 2, 0, 3, 1, 1]\n"
     ]
    },
    {
     "data": {
      "image/png": "[encoded data removed]",
      "text/plain": [
       "<Figure size 432x288 with 1 Axes>"
      ]
     },
     "metadata": {},
     "output_type": "display_data"
    }
   ],
   "source": [
    "y = x['sleep_stage_1'][k[4]]\n",
    "run_all(y,0.5)"
   ]
  },
  {
   "cell_type": "code",
   "execution_count": null,
   "metadata": {},
   "outputs": [],
   "source": []
  },
  {
   "cell_type": "code",
   "execution_count": 13,
   "metadata": {},
   "outputs": [
    {
     "name": "stdout",
     "output_type": "stream",
     "text": [
      "[0, 0, 2, 0, 0, 12, 14, 0, 1, 12, 12, 3, 1, 1, 1, 0]\n"
     ]
    },
    {
     "data": {
      "image/png": "[encoded data removed]",
      "text/plain": [
       "<Figure size 432x288 with 1 Axes>"
      ]
     },
     "metadata": {},
     "output_type": "display_data"
    }
   ],
   "source": [
    "k = list(x['sleep_stage_2'].keys())\n",
    "y = x['sleep_stage_2'][k[0]]\n",
    "run_all(y,0.5)"
   ]
  },
  {
   "cell_type": "code",
   "execution_count": 14,
   "metadata": {},
   "outputs": [
    {
     "name": "stdout",
     "output_type": "stream",
     "text": [
      "[0, 2, 1, 0, 3, 7, 12, 4, 0, 13, 12, 0, 0, 3, 1, 1]\n"
     ]
    },
    {
     "data": {
      "image/png": "[encoded data removed]",
      "text/plain": [
       "<Figure size 432x288 with 1 Axes>"
      ]
     },
     "metadata": {},
     "output_type": "display_data"
    }
   ],
   "source": [
    "y = x['sleep_stage_2'][k[5]]\n",
    "run_all(y,0.5)"
   ]
  },
  {
   "cell_type": "code",
   "execution_count": null,
   "metadata": {},
   "outputs": [],
   "source": []
  },
  {
   "cell_type": "code",
   "execution_count": null,
   "metadata": {},
   "outputs": [],
   "source": []
  },
  {
   "cell_type": "code",
   "execution_count": 15,
   "metadata": {},
   "outputs": [
    {
     "name": "stdout",
     "output_type": "stream",
     "text": [
      "[10, 4, 6, 1, 8, 19, 7, 4, 3, 12, 20, 7, 0, 2, 9, 7]\n"
     ]
    },
    {
     "data": {
      "image/png": "[encoded data removed]",
      "text/plain": [
       "<Figure size 432x288 with 1 Axes>"
      ]
     },
     "metadata": {},
     "output_type": "display_data"
    }
   ],
   "source": [
    "k = list(x['wake'].keys())\n",
    "y = x['wake'][k[0]]\n",
    "run_all(y, 0.25)"
   ]
  },
  {
   "cell_type": "code",
   "execution_count": 16,
   "metadata": {},
   "outputs": [
    {
     "name": "stdout",
     "output_type": "stream",
     "text": [
      "[11, 5, 4, 2, 6, 18, 10, 2, 2, 12, 13, 7, 3, 1, 7, 16]\n"
     ]
    },
    {
     "data": {
      "image/png": "[encoded data removed]",
      "text/plain": [
       "<Figure size 432x288 with 1 Axes>"
      ]
     },
     "metadata": {},
     "output_type": "display_data"
    }
   ],
   "source": [
    "y = x['wake'][k[2]]\n",
    "run_all(y, 0.25)"
   ]
  },
  {
   "cell_type": "code",
   "execution_count": 17,
   "metadata": {},
   "outputs": [
    {
     "name": "stdout",
     "output_type": "stream",
     "text": [
      "[2, 3, 4, 0, 5, 19, 19, 5, 2, 22, 24, 4, 1, 4, 4, 1]\n"
     ]
    },
    {
     "data": {
      "image/png": "[encoded data removed]",
      "text/plain": [
       "<Figure size 432x288 with 1 Axes>"
      ]
     },
     "metadata": {},
     "output_type": "display_data"
    }
   ],
   "source": [
    "k = list(x['sleep_stage_1'].keys())\n",
    "y = x['sleep_stage_1'][k[0]]\n",
    "run_all(y,0.25)"
   ]
  },
  {
   "cell_type": "code",
   "execution_count": 18,
   "metadata": {},
   "outputs": [
    {
     "name": "stdout",
     "output_type": "stream",
     "text": [
      "[5, 7, 5, 2, 7, 13, 13, 6, 5, 13, 14, 7, 2, 5, 8, 6]\n"
     ]
    },
    {
     "data": {
      "image/png": "[encoded data removed]",
      "text/plain": [
       "<Figure size 432x288 with 1 Axes>"
      ]
     },
     "metadata": {},
     "output_type": "display_data"
    }
   ],
   "source": [
    "y = x['sleep_stage_1'][k[4]]\n",
    "run_all(y,0.25)"
   ]
  },
  {
   "cell_type": "code",
   "execution_count": 19,
   "metadata": {},
   "outputs": [
    {
     "name": "stdout",
     "output_type": "stream",
     "text": [
      "[4, 5, 6, 4, 4, 18, 16, 4, 5, 18, 17, 4, 6, 1, 5, 2]\n"
     ]
    },
    {
     "data": {
      "image/png": "[encoded data removed]",
      "text/plain": [
       "<Figure size 432x288 with 1 Axes>"
      ]
     },
     "metadata": {},
     "output_type": "display_data"
    }
   ],
   "source": [
    "y = x['sleep_stage_2'][k[0]]\n",
    "run_all(y,0.25)"
   ]
  },
  {
   "cell_type": "code",
   "execution_count": 20,
   "metadata": {},
   "outputs": [
    {
     "name": "stdout",
     "output_type": "stream",
     "text": [
      "[2, 6, 2, 5, 5, 14, 19, 4, 7, 20, 18, 3, 1, 3, 8, 2]\n"
     ]
    },
    {
     "data": {
      "image/png": "[encoded data removed]",
      "text/plain": [
       "<Figure size 432x288 with 1 Axes>"
      ]
     },
     "metadata": {},
     "output_type": "display_data"
    }
   ],
   "source": [
    "y = x['sleep_stage_2'][k[3]]\n",
    "run_all(y,0.25)"
   ]
  },
  {
   "cell_type": "code",
   "execution_count": null,
   "metadata": {},
   "outputs": [],
   "source": []
  },
  {
   "cell_type": "code",
   "execution_count": null,
   "metadata": {},
   "outputs": [],
   "source": []
  },
  {
   "cell_type": "code",
   "execution_count": null,
   "metadata": {},
   "outputs": [],
   "source": []
  },
  {
   "cell_type": "code",
   "execution_count": 2,
   "metadata": {},
   "outputs": [],
   "source": [
    "file_location='C:\\\\Users\\\\Desktop\\\\data\\\\HEALTHCARE\\\\EEG\\\\data\\\\eeg_epochs_dec12_2018'\n",
    "os.chdir('C:\\\\Users\\\\Desktop\\\\data\\\\HEALTHCARE\\\\EEG\\\\data\\\\eeg_epochs_dec12_2018')"
   ]
  },
  {
   "cell_type": "code",
   "execution_count": 3,
   "metadata": {},
   "outputs": [
    {
     "data": {
      "text/plain": [
       "array([ 5.01684982, -2.57875458,  1.35970696, ..., 41.58827839,\n",
       "       28.08498168, 43.27619048])"
      ]
     },
     "execution_count": 3,
     "metadata": {},
     "output_type": "execute_result"
    }
   ],
   "source": [
    "x = pickle.load(open('SC4001E0-PSG-EEG.pickle','rb'))\n",
    "\n",
    "k = list(x['wake'].keys())\n",
    "x['wake'][k[0]]"
   ]
  },
  {
   "cell_type": "code",
   "execution_count": 4,
   "metadata": {},
   "outputs": [
    {
     "data": {
      "text/plain": [
       "3000"
      ]
     },
     "execution_count": 4,
     "metadata": {},
     "output_type": "execute_result"
    }
   ],
   "source": [
    "len(x['wake'][k[0]])  ## 30s * 100 Hz sampling rate"
   ]
  },
  {
   "cell_type": "code",
   "execution_count": null,
   "metadata": {},
   "outputs": [],
   "source": [
    "# discretise over 0.25S = 0.25 * 100 = 25 points  -> results in 120 data points\n",
    "#               0.5s = 50 points   -> results in 60 data points\n",
    "\n",
    "# STEPS\n",
    "# 1. normalize the data\n",
    "# 2. convert to PAA - take a window & represent by the average over the window\n",
    "# 3. choose alphabet size & the levels/ threshold for discretisation\n",
    "# 4. convert to string representation\n",
    "# 5. vector representation - numbers of different dimers"
   ]
  },
  {
   "cell_type": "code",
   "execution_count": null,
   "metadata": {},
   "outputs": [],
   "source": []
  },
  {
   "cell_type": "code",
   "execution_count": 5,
   "metadata": {},
   "outputs": [
    {
     "data": {
      "text/plain": [
       "array([ 0.12672614, -0.08215885,  0.02615188, ...,  1.13246866,\n",
       "        0.76111757,  1.17888754])"
      ]
     },
     "execution_count": 5,
     "metadata": {},
     "output_type": "execute_result"
    }
   ],
   "source": [
    "### normalise the data ###\n",
    "# if the SD is very small (less than a threshold), do not normalize the data\n",
    "\n",
    "(x['wake'][k[0]] - x['wake'][k[0]].mean())/x['wake'][k[0]].std()  \n",
    "# use np.mean(x['wake'][k[0]]) or x['wake'][k[0]].mean() ; slly for SD"
   ]
  },
  {
   "cell_type": "code",
   "execution_count": 6,
   "metadata": {},
   "outputs": [
    {
     "name": "stdout",
     "output_type": "stream",
     "text": [
      "[ 5.01684982 -2.57875458  1.35970696 ... 41.58827839 28.08498168\n",
      " 43.27619048]\n"
     ]
    }
   ],
   "source": [
    "y = x['wake'][k[0]]\n",
    "print(y)"
   ]
  },
  {
   "cell_type": "code",
   "execution_count": 7,
   "metadata": {},
   "outputs": [
    {
     "name": "stdout",
     "output_type": "stream",
     "text": [
      "[ 0.12672614 -0.08215885  0.02615188 ...  1.13246866  0.76111757\n",
      "  1.17888754]\n"
     ]
    }
   ],
   "source": [
    "y = (y - y.mean())/y.std()\n",
    "print(y)"
   ]
  },
  {
   "cell_type": "code",
   "execution_count": 20,
   "metadata": {},
   "outputs": [
    {
     "data": {
      "text/plain": [
       "array([ 0.12672614, -0.08215885,  0.02615188, -0.07700119, -0.154366  ,\n",
       "       -0.21625785, -0.23946729, -0.20078489, -0.11310477, -0.03831879,\n",
       "        0.04936133,  0.04420367,  0.03388837, -0.08473768, -0.03316114,\n",
       "        0.02615188,  0.06741312, -0.07184354,  0.00294244,  0.14993558,\n",
       "       -0.05894941, -0.09505298,  0.06741312,  0.20409095,  0.06999194,\n",
       "       -0.03831879, -0.06410706, -0.19562724, -0.21883668, -0.1440507 ,\n",
       "       -0.35809333, -0.26525556, -0.35035685, -0.23946729, -0.46124641,\n",
       "       -0.59276659, -0.66239492, -0.59534542, -0.56697832, -0.66497374,\n",
       "       -0.72944442, -0.71655028, -0.72944442, -0.74491738, -0.63918547,\n",
       "       -0.62887017, -0.6030819 , -0.46898289, -0.45350993, -0.32456858])"
      ]
     },
     "execution_count": 20,
     "metadata": {},
     "output_type": "execute_result"
    }
   ],
   "source": [
    "y[0:50]"
   ]
  },
  {
   "cell_type": "code",
   "execution_count": 21,
   "metadata": {},
   "outputs": [
    {
     "data": {
      "text/plain": [
       "array([-0.32972624, -0.43545814, -0.43030049, -0.40966987, -0.46898289,\n",
       "       -0.48187703, -0.36325099, -0.26009791, -0.18015427, -0.26009791,\n",
       "       -0.21883668, -0.24720377, -0.16210248, -0.08473768, -0.06410706,\n",
       "       -0.16983897, -0.17499662, -0.13115656, -0.15178718, -0.17499662,\n",
       "       -0.1156836 , -0.03058231, -0.1156836 , -0.14920835, -0.09247416,\n",
       "       -0.05379175, -0.05121292, -0.10021064, -0.02800348, -0.13115656,\n",
       "       -0.11052595, -0.07958002, -0.020267  , -0.03573996, -0.0486341 ,\n",
       "       -0.25494026, -0.29878031, -0.20852137, -0.18015427, -0.15694483,\n",
       "       -0.15694483, -0.17757545, -0.04347644,  0.08804373,  0.06999194,\n",
       "       -0.22657316, -0.74233855, -0.40709105, -1.36383585, -1.76613286])"
      ]
     },
     "execution_count": 21,
     "metadata": {},
     "output_type": "execute_result"
    }
   ],
   "source": [
    "y[50:100]"
   ]
  },
  {
   "cell_type": "code",
   "execution_count": 22,
   "metadata": {},
   "outputs": [
    {
     "data": {
      "text/plain": [
       "-0.32456858391397364"
      ]
     },
     "execution_count": 22,
     "metadata": {},
     "output_type": "execute_result"
    }
   ],
   "source": [
    "y[49]"
   ]
  },
  {
   "cell_type": "code",
   "execution_count": 23,
   "metadata": {},
   "outputs": [
    {
     "data": {
      "text/plain": [
       "-0.3297262378586891"
      ]
     },
     "execution_count": 23,
     "metadata": {},
     "output_type": "execute_result"
    }
   ],
   "source": [
    "y[50]"
   ]
  },
  {
   "cell_type": "code",
   "execution_count": 24,
   "metadata": {},
   "outputs": [
    {
     "data": {
      "text/plain": [
       "-0.43545814372535674"
      ]
     },
     "execution_count": 24,
     "metadata": {},
     "output_type": "execute_result"
    }
   ],
   "source": [
    "y[51]"
   ]
  },
  {
   "cell_type": "code",
   "execution_count": null,
   "metadata": {},
   "outputs": [],
   "source": []
  },
  {
   "cell_type": "code",
   "execution_count": 13,
   "metadata": {},
   "outputs": [
    {
     "data": {
      "image/png": "[encoded data removed]",
      "text/plain": [
       "<Figure size 1440x216 with 1 Axes>"
      ]
     },
     "metadata": {},
     "output_type": "display_data"
    }
   ],
   "source": [
    "## plot the normalized data \n",
    "import matplotlib.pyplot as plt\n",
    "fig, ax = plt.subplots(figsize=(20,3))\n",
    "plt.plot(y, marker='o', markersize=2)\n",
    "plt.show()"
   ]
  },
  {
   "cell_type": "code",
   "execution_count": null,
   "metadata": {},
   "outputs": [],
   "source": []
  },
  {
   "cell_type": "code",
   "execution_count": 14,
   "metadata": {},
   "outputs": [
    {
     "data": {
      "image/png": "[encoded data removed]",
      "text/plain": [
       "<Figure size 1440x216 with 1 Axes>"
      ]
     },
     "metadata": {},
     "output_type": "display_data"
    }
   ],
   "source": [
    "## plot the original data \n",
    "import matplotlib.pyplot as plt\n",
    "fig, ax = plt.subplots(figsize=(20,3))\n",
    "plt.plot(x['wake'][k[0]], marker='o', markersize=2)\n",
    "plt.show()"
   ]
  },
  {
   "cell_type": "code",
   "execution_count": null,
   "metadata": {},
   "outputs": [],
   "source": []
  },
  {
   "cell_type": "code",
   "execution_count": 8,
   "metadata": {},
   "outputs": [
    {
     "name": "stdout",
     "output_type": "stream",
     "text": [
      "60.0\n",
      "50.0\n",
      "\n",
      "[-0.2410661665490298, -0.24374814660028185, 0.04332687196258249, 0.4609936884056431, -0.5141639429217151, -0.19000539249634635, 0.6564171963709131, 0.14142544999107118, -0.4050279854515353, 0.8363161659625895, 0.39513044753162624, -1.2119429451022743, -1.6396156101980828, 0.07649058682710312, 2.353749533037335, 1.5004672644236035, -1.447286694599642, -2.1177301308732095, 0.6343424374875307, 0.629391089700604, -0.31729629185192476, 0.07272549944746082, 0.6956153663507508, 0.3720757343987479, -0.655947849861944, -0.6909683201465622, -0.007114983616735009, 0.1024851627084692, 0.015733423358354613, -0.3093535047770629, 0.6318667635940673, 0.24437222272759246, -0.20408578776541966, -0.13069237213211823, -0.025012042804897782, -0.06426178932418267, 0.1117689398089571, -0.37346314330987646, 0.1055797550752985, 0.31688883719029226, 0.24860149896225914, 0.5528515051610261, -0.8226432253551488, 0.10893223013936355, -0.13223966831553288, 0.7289853873730601, -0.8728271982372305, -1.346093524204324, 0.8339952216874674, 1.2852383653106259, -0.11289846602284977, -0.8688042281603523, 0.5684791966135139, 0.30177691113227584, -0.4704270374705277, -0.20908871209179375, -0.3968788922188848, -0.11460049182460588, -0.2285330674633711, 1.3377948590072768]\n"
     ]
    },
    {
     "data": {
      "text/plain": [
       "60"
      ]
     },
     "execution_count": 8,
     "metadata": {},
     "output_type": "execute_result"
    }
   ],
   "source": [
    "#### convert to PAA - take a window & represent by the average over the window ####\n",
    "# discretise over 0.25S = 0.25 * 100 = 25 points  -> results in 120 data points\n",
    "#               0.5s = 50 points   -> results in 60 data points\n",
    "\n",
    "time_window = 0.5 * 100 # step size\n",
    "print(len(y)/time_window)\n",
    "\n",
    "paa = []\n",
    "print(time_window)\n",
    "print('')\n",
    "for i in range(0, int(len(y)/time_window)):\n",
    "    # take a segment of data\n",
    "    arr = y[(i * int(time_window)):((i+1) * int(time_window))]\n",
    "    # convert to mean & append to list\n",
    "    paa.append(arr.mean())\n",
    "\n",
    "print(paa)\n",
    "len(paa)"
   ]
  },
  {
   "cell_type": "code",
   "execution_count": 30,
   "metadata": {},
   "outputs": [
    {
     "data": {
      "image/png": "[encoded data removed]",
      "text/plain": [
       "<Figure size 1440x216 with 1 Axes>"
      ]
     },
     "metadata": {},
     "output_type": "display_data"
    }
   ],
   "source": [
    "## plot the PAA data \n",
    "import matplotlib.pyplot as plt\n",
    "fig, ax = plt.subplots(figsize=(20,3))\n",
    "plt.plot(paa, marker='o', markersize=2)\n",
    "plt.show()"
   ]
  },
  {
   "cell_type": "code",
   "execution_count": null,
   "metadata": {},
   "outputs": [],
   "source": []
  },
  {
   "cell_type": "code",
   "execution_count": 9,
   "metadata": {},
   "outputs": [],
   "source": [
    "# 3. choose alphabet size & the levels/ threshold for discretisation\n",
    "# let size = 4; cuts: [-0.67, 0, 0.67]\n",
    "\n",
    "\n",
    "# convert to string\n",
    "sax = []\n",
    "for i in range(0,len(paa)):\n",
    "    if paa[i] <= -0.67:\n",
    "        alpha = 'a'\n",
    "    elif (paa[i] > -0.67 and paa[i] <=0):\n",
    "        alpha = 'b'\n",
    "    elif (paa[i] > 0 and paa[i] <=0.67):\n",
    "        alpha = 'c'\n",
    "    else:\n",
    "        alpha = 'd'\n",
    "    sax.append(alpha)"
   ]
  },
  {
   "cell_type": "code",
   "execution_count": 32,
   "metadata": {},
   "outputs": [
    {
     "name": "stdout",
     "output_type": "stream",
     "text": [
      "['b', 'b', 'c', 'c', 'b', 'b', 'c', 'c', 'b', 'd', 'c', 'a', 'a', 'c', 'd', 'd', 'a', 'a', 'c', 'c', 'b', 'c', 'd', 'c', 'b', 'a', 'b', 'c', 'c', 'b', 'c', 'c', 'b', 'b', 'b', 'b', 'c', 'b', 'c', 'c', 'c', 'c', 'a', 'c', 'b', 'd', 'a', 'a', 'd', 'd', 'b', 'a', 'c', 'c', 'b', 'b', 'b', 'b', 'b', 'd']\n"
     ]
    }
   ],
   "source": [
    "print(sax)"
   ]
  },
  {
   "cell_type": "code",
   "execution_count": 34,
   "metadata": {},
   "outputs": [
    {
     "name": "stdout",
     "output_type": "stream",
     "text": [
      "['b', 'b', 'c', 'c', 'b', 'b', 'c', 'c', 'b', 'd', 'c', 'a', 'a', 'c', 'd', 'd', 'a', 'a', 'c', 'c', 'b', 'c', 'd', 'c', 'b', 'a', 'b', 'c', 'c', 'b', 'c', 'c', 'b', 'b', 'b', 'b', 'c', 'b', 'c', 'c', 'c', 'c', 'a', 'c', 'b', 'd', 'a', 'a', 'd', 'd', 'b', 'a', 'c', 'c', 'b', 'b', 'b', 'b', 'b', 'd']\n"
     ]
    }
   ],
   "source": [
    "print(str(sax))"
   ]
  },
  {
   "cell_type": "code",
   "execution_count": 35,
   "metadata": {},
   "outputs": [
    {
     "data": {
      "text/plain": [
       "'bbccbbccbdcaacddaaccbcdcbabccbccbbbbcbccccacbdaaddbaccbbbbbd'"
      ]
     },
     "execution_count": 35,
     "metadata": {},
     "output_type": "execute_result"
    }
   ],
   "source": [
    "''.join(sax)"
   ]
  },
  {
   "cell_type": "code",
   "execution_count": 33,
   "metadata": {},
   "outputs": [
    {
     "data": {
      "text/plain": [
       "60"
      ]
     },
     "execution_count": 33,
     "metadata": {},
     "output_type": "execute_result"
    }
   ],
   "source": [
    "len(sax)"
   ]
  },
  {
   "cell_type": "code",
   "execution_count": 10,
   "metadata": {},
   "outputs": [
    {
     "name": "stdout",
     "output_type": "stream",
     "text": [
      "Count of aa is : 3\n",
      "Count of ab is : 1\n",
      "Count of ac is : 4\n",
      "Count of ad is : 1\n",
      "Count of ba is : 2\n",
      "Count of bb is : 6\n",
      "Count of bc is : 7\n",
      "Count of bd is : 3\n",
      "Count of ca is : 2\n",
      "Count of cb is : 9\n",
      "Count of cc is : 8\n",
      "Count of cd is : 2\n",
      "Count of da is : 2\n",
      "Count of db is : 1\n",
      "Count of dc is : 2\n",
      "Count of dd is : 2\n"
     ]
    }
   ],
   "source": [
    "# count different types of dimers\n",
    "# aa ab ac ad\n",
    "# ba bb bc bd\n",
    "# ca cb cc cd\n",
    "# da db dc dd\n",
    "\n",
    "# convert sax from list to string format\n",
    "sax_string = ''.join(sax)\n",
    "\n",
    "# set up a list of the dimers possible\n",
    "dim_alpha = ['aa','ab','ac','ad','ba','bb','bc','bd','ca','cb','cc','cd','da','db','dc','dd']\n",
    "\n",
    "#from collections import Counter\n",
    "#count = Counter(sax_string)\n",
    "\n",
    "for i in range(0, len(dim_alpha)):\n",
    "    print('Count of ' + dim_alpha[i] + ' is : ' + str(sax_string.count(dim_alpha[i])))  #str(count[dim_alpha[i]])) \n"
   ]
  },
  {
   "cell_type": "code",
   "execution_count": 11,
   "metadata": {},
   "outputs": [
    {
     "name": "stdout",
     "output_type": "stream",
     "text": [
      "Count of aa is : 3\n",
      "Count of ab is : 1\n",
      "Count of ac is : 4\n",
      "Count of ad is : 1\n",
      "Count of ba is : 2\n",
      "Count of bb is : 6\n",
      "Count of bc is : 7\n",
      "Count of bd is : 3\n",
      "Count of ca is : 2\n",
      "Count of cb is : 9\n",
      "Count of cc is : 8\n",
      "Count of cd is : 2\n",
      "Count of da is : 2\n",
      "Count of db is : 1\n",
      "Count of dc is : 2\n",
      "Count of dd is : 2\n"
     ]
    }
   ],
   "source": [
    "import re \n",
    "\n",
    "for i in range(0, len(dim_alpha)):\n",
    "    print('Count of ' + dim_alpha[i] + ' is : ' + str(len(re.findall(dim_alpha[i], sax_string)) ))  #str(count[dim_alpha[i]])) "
   ]
  },
  {
   "cell_type": "code",
   "execution_count": 11,
   "metadata": {},
   "outputs": [
    {
     "name": "stdout",
     "output_type": "stream",
     "text": [
      "Count of aa is : 3\n",
      "Count of ab is : 1\n",
      "Count of ac is : 4\n",
      "Count of ad is : 1\n",
      "Count of ba is : 2\n",
      "Count of bb is : 9\n",
      "Count of bc is : 7\n",
      "Count of bd is : 3\n",
      "Count of ca is : 2\n",
      "Count of cb is : 9\n",
      "Count of cc is : 9\n",
      "Count of cd is : 2\n",
      "Count of da is : 2\n",
      "Count of db is : 1\n",
      "Count of dc is : 2\n",
      "Count of dd is : 2\n"
     ]
    }
   ],
   "source": [
    "import regex as re\n",
    "\n",
    "#def count_overlapping(text, search_for):\n",
    "#    return len(re.findall(search_for, text, overlapped=True))\n",
    "for i in range(0, len(dim_alpha)):\n",
    "    print('Count of ' + dim_alpha[i] + ' is : ' + str(len(re.findall(dim_alpha[i], sax_string, overlapped=True)) ))  #str(count[dim_alpha[i]])) "
   ]
  },
  {
   "cell_type": "code",
   "execution_count": 15,
   "metadata": {},
   "outputs": [
    {
     "ename": "error",
     "evalue": "nothing to repeat at position 0",
     "output_type": "error",
     "traceback": [
      "\u001b[1;31m---------------------------------------------------------------------------\u001b[0m",
      "\u001b[1;31merror\u001b[0m                                     Traceback (most recent call last)",
      "\u001b[1;32m<ipython-input-15-40881be43c33>\u001b[0m in \u001b[0;36m<module>\u001b[1;34m()\u001b[0m\n\u001b[0;32m      1\u001b[0m \u001b[1;32mimport\u001b[0m \u001b[0mre\u001b[0m\u001b[1;33m\u001b[0m\u001b[0m\n\u001b[0;32m      2\u001b[0m \u001b[1;32mfor\u001b[0m \u001b[0mi\u001b[0m \u001b[1;32min\u001b[0m \u001b[0mrange\u001b[0m\u001b[1;33m(\u001b[0m\u001b[1;36m0\u001b[0m\u001b[1;33m,\u001b[0m \u001b[0mlen\u001b[0m\u001b[1;33m(\u001b[0m\u001b[0mdim_alpha\u001b[0m\u001b[1;33m)\u001b[0m\u001b[1;33m)\u001b[0m\u001b[1;33m:\u001b[0m\u001b[1;33m\u001b[0m\u001b[0m\n\u001b[1;32m----> 3\u001b[1;33m     \u001b[0mprint\u001b[0m\u001b[1;33m(\u001b[0m\u001b[1;34m'Count of '\u001b[0m \u001b[1;33m+\u001b[0m \u001b[0mdim_alpha\u001b[0m\u001b[1;33m[\u001b[0m\u001b[0mi\u001b[0m\u001b[1;33m]\u001b[0m \u001b[1;33m+\u001b[0m \u001b[1;34m' is : '\u001b[0m \u001b[1;33m+\u001b[0m \u001b[0mstr\u001b[0m\u001b[1;33m(\u001b[0m\u001b[0mlen\u001b[0m\u001b[1;33m(\u001b[0m\u001b[0mre\u001b[0m\u001b[1;33m.\u001b[0m\u001b[0mfindall\u001b[0m\u001b[1;33m(\u001b[0m\u001b[1;34m'?=dim_alpha[i]'\u001b[0m\u001b[1;33m,\u001b[0m \u001b[0msax_string\u001b[0m\u001b[1;33m)\u001b[0m\u001b[1;33m)\u001b[0m \u001b[1;33m)\u001b[0m\u001b[1;33m)\u001b[0m  \u001b[1;31m#str(count[dim_alpha[i]]))\u001b[0m\u001b[1;33m\u001b[0m\u001b[0m\n\u001b[0m",
      "\u001b[1;32m~\\AppData\\Local\\Continuum\\anaconda3\\lib\\re.py\u001b[0m in \u001b[0;36mfindall\u001b[1;34m(pattern, string, flags)\u001b[0m\n\u001b[0;32m    220\u001b[0m \u001b[1;33m\u001b[0m\u001b[0m\n\u001b[0;32m    221\u001b[0m     Empty matches are included in the result.\"\"\"\n\u001b[1;32m--> 222\u001b[1;33m     \u001b[1;32mreturn\u001b[0m \u001b[0m_compile\u001b[0m\u001b[1;33m(\u001b[0m\u001b[0mpattern\u001b[0m\u001b[1;33m,\u001b[0m \u001b[0mflags\u001b[0m\u001b[1;33m)\u001b[0m\u001b[1;33m.\u001b[0m\u001b[0mfindall\u001b[0m\u001b[1;33m(\u001b[0m\u001b[0mstring\u001b[0m\u001b[1;33m)\u001b[0m\u001b[1;33m\u001b[0m\u001b[0m\n\u001b[0m\u001b[0;32m    223\u001b[0m \u001b[1;33m\u001b[0m\u001b[0m\n\u001b[0;32m    224\u001b[0m \u001b[1;32mdef\u001b[0m \u001b[0mfinditer\u001b[0m\u001b[1;33m(\u001b[0m\u001b[0mpattern\u001b[0m\u001b[1;33m,\u001b[0m \u001b[0mstring\u001b[0m\u001b[1;33m,\u001b[0m \u001b[0mflags\u001b[0m\u001b[1;33m=\u001b[0m\u001b[1;36m0\u001b[0m\u001b[1;33m)\u001b[0m\u001b[1;33m:\u001b[0m\u001b[1;33m\u001b[0m\u001b[0m\n",
      "\u001b[1;32m~\\AppData\\Local\\Continuum\\anaconda3\\lib\\re.py\u001b[0m in \u001b[0;36m_compile\u001b[1;34m(pattern, flags)\u001b[0m\n\u001b[0;32m    299\u001b[0m     \u001b[1;32mif\u001b[0m \u001b[1;32mnot\u001b[0m \u001b[0msre_compile\u001b[0m\u001b[1;33m.\u001b[0m\u001b[0misstring\u001b[0m\u001b[1;33m(\u001b[0m\u001b[0mpattern\u001b[0m\u001b[1;33m)\u001b[0m\u001b[1;33m:\u001b[0m\u001b[1;33m\u001b[0m\u001b[0m\n\u001b[0;32m    300\u001b[0m         \u001b[1;32mraise\u001b[0m \u001b[0mTypeError\u001b[0m\u001b[1;33m(\u001b[0m\u001b[1;34m\"first argument must be string or compiled pattern\"\u001b[0m\u001b[1;33m)\u001b[0m\u001b[1;33m\u001b[0m\u001b[0m\n\u001b[1;32m--> 301\u001b[1;33m     \u001b[0mp\u001b[0m \u001b[1;33m=\u001b[0m \u001b[0msre_compile\u001b[0m\u001b[1;33m.\u001b[0m\u001b[0mcompile\u001b[0m\u001b[1;33m(\u001b[0m\u001b[0mpattern\u001b[0m\u001b[1;33m,\u001b[0m \u001b[0mflags\u001b[0m\u001b[1;33m)\u001b[0m\u001b[1;33m\u001b[0m\u001b[0m\n\u001b[0m\u001b[0;32m    302\u001b[0m     \u001b[1;32mif\u001b[0m \u001b[1;32mnot\u001b[0m \u001b[1;33m(\u001b[0m\u001b[0mflags\u001b[0m \u001b[1;33m&\u001b[0m \u001b[0mDEBUG\u001b[0m\u001b[1;33m)\u001b[0m\u001b[1;33m:\u001b[0m\u001b[1;33m\u001b[0m\u001b[0m\n\u001b[0;32m    303\u001b[0m         \u001b[1;32mif\u001b[0m \u001b[0mlen\u001b[0m\u001b[1;33m(\u001b[0m\u001b[0m_cache\u001b[0m\u001b[1;33m)\u001b[0m \u001b[1;33m>=\u001b[0m \u001b[0m_MAXCACHE\u001b[0m\u001b[1;33m:\u001b[0m\u001b[1;33m\u001b[0m\u001b[0m\n",
      "\u001b[1;32m~\\AppData\\Local\\Continuum\\anaconda3\\lib\\sre_compile.py\u001b[0m in \u001b[0;36mcompile\u001b[1;34m(p, flags)\u001b[0m\n\u001b[0;32m    560\u001b[0m     \u001b[1;32mif\u001b[0m \u001b[0misstring\u001b[0m\u001b[1;33m(\u001b[0m\u001b[0mp\u001b[0m\u001b[1;33m)\u001b[0m\u001b[1;33m:\u001b[0m\u001b[1;33m\u001b[0m\u001b[0m\n\u001b[0;32m    561\u001b[0m         \u001b[0mpattern\u001b[0m \u001b[1;33m=\u001b[0m \u001b[0mp\u001b[0m\u001b[1;33m\u001b[0m\u001b[0m\n\u001b[1;32m--> 562\u001b[1;33m         \u001b[0mp\u001b[0m \u001b[1;33m=\u001b[0m \u001b[0msre_parse\u001b[0m\u001b[1;33m.\u001b[0m\u001b[0mparse\u001b[0m\u001b[1;33m(\u001b[0m\u001b[0mp\u001b[0m\u001b[1;33m,\u001b[0m \u001b[0mflags\u001b[0m\u001b[1;33m)\u001b[0m\u001b[1;33m\u001b[0m\u001b[0m\n\u001b[0m\u001b[0;32m    563\u001b[0m     \u001b[1;32melse\u001b[0m\u001b[1;33m:\u001b[0m\u001b[1;33m\u001b[0m\u001b[0m\n\u001b[0;32m    564\u001b[0m         \u001b[0mpattern\u001b[0m \u001b[1;33m=\u001b[0m \u001b[1;32mNone\u001b[0m\u001b[1;33m\u001b[0m\u001b[0m\n",
      "\u001b[1;32m~\\AppData\\Local\\Continuum\\anaconda3\\lib\\sre_parse.py\u001b[0m in \u001b[0;36mparse\u001b[1;34m(str, flags, pattern)\u001b[0m\n\u001b[0;32m    853\u001b[0m \u001b[1;33m\u001b[0m\u001b[0m\n\u001b[0;32m    854\u001b[0m     \u001b[1;32mtry\u001b[0m\u001b[1;33m:\u001b[0m\u001b[1;33m\u001b[0m\u001b[0m\n\u001b[1;32m--> 855\u001b[1;33m         \u001b[0mp\u001b[0m \u001b[1;33m=\u001b[0m \u001b[0m_parse_sub\u001b[0m\u001b[1;33m(\u001b[0m\u001b[0msource\u001b[0m\u001b[1;33m,\u001b[0m \u001b[0mpattern\u001b[0m\u001b[1;33m,\u001b[0m \u001b[0mflags\u001b[0m \u001b[1;33m&\u001b[0m \u001b[0mSRE_FLAG_VERBOSE\u001b[0m\u001b[1;33m,\u001b[0m \u001b[1;36m0\u001b[0m\u001b[1;33m)\u001b[0m\u001b[1;33m\u001b[0m\u001b[0m\n\u001b[0m\u001b[0;32m    856\u001b[0m     \u001b[1;32mexcept\u001b[0m \u001b[0mVerbose\u001b[0m\u001b[1;33m:\u001b[0m\u001b[1;33m\u001b[0m\u001b[0m\n\u001b[0;32m    857\u001b[0m         \u001b[1;31m# the VERBOSE flag was switched on inside the pattern.  to be\u001b[0m\u001b[1;33m\u001b[0m\u001b[1;33m\u001b[0m\u001b[0m\n",
      "\u001b[1;32m~\\AppData\\Local\\Continuum\\anaconda3\\lib\\sre_parse.py\u001b[0m in \u001b[0;36m_parse_sub\u001b[1;34m(source, state, verbose, nested)\u001b[0m\n\u001b[0;32m    414\u001b[0m     \u001b[1;32mwhile\u001b[0m \u001b[1;32mTrue\u001b[0m\u001b[1;33m:\u001b[0m\u001b[1;33m\u001b[0m\u001b[0m\n\u001b[0;32m    415\u001b[0m         itemsappend(_parse(source, state, verbose, nested + 1,\n\u001b[1;32m--> 416\u001b[1;33m                            not nested and not items))\n\u001b[0m\u001b[0;32m    417\u001b[0m         \u001b[1;32mif\u001b[0m \u001b[1;32mnot\u001b[0m \u001b[0msourcematch\u001b[0m\u001b[1;33m(\u001b[0m\u001b[1;34m\"|\"\u001b[0m\u001b[1;33m)\u001b[0m\u001b[1;33m:\u001b[0m\u001b[1;33m\u001b[0m\u001b[0m\n\u001b[0;32m    418\u001b[0m             \u001b[1;32mbreak\u001b[0m\u001b[1;33m\u001b[0m\u001b[0m\n",
      "\u001b[1;32m~\\AppData\\Local\\Continuum\\anaconda3\\lib\\sre_parse.py\u001b[0m in \u001b[0;36m_parse\u001b[1;34m(source, state, verbose, nested, first)\u001b[0m\n\u001b[0;32m    614\u001b[0m             \u001b[1;32mif\u001b[0m \u001b[1;32mnot\u001b[0m \u001b[0mitem\u001b[0m \u001b[1;32mor\u001b[0m \u001b[1;33m(\u001b[0m\u001b[0m_len\u001b[0m\u001b[1;33m(\u001b[0m\u001b[0mitem\u001b[0m\u001b[1;33m)\u001b[0m \u001b[1;33m==\u001b[0m \u001b[1;36m1\u001b[0m \u001b[1;32mand\u001b[0m \u001b[0mitem\u001b[0m\u001b[1;33m[\u001b[0m\u001b[1;36m0\u001b[0m\u001b[1;33m]\u001b[0m\u001b[1;33m[\u001b[0m\u001b[1;36m0\u001b[0m\u001b[1;33m]\u001b[0m \u001b[1;32mis\u001b[0m \u001b[0mAT\u001b[0m\u001b[1;33m)\u001b[0m\u001b[1;33m:\u001b[0m\u001b[1;33m\u001b[0m\u001b[0m\n\u001b[0;32m    615\u001b[0m                 raise source.error(\"nothing to repeat\",\n\u001b[1;32m--> 616\u001b[1;33m                                    source.tell() - here + len(this))\n\u001b[0m\u001b[0;32m    617\u001b[0m             \u001b[1;32mif\u001b[0m \u001b[0mitem\u001b[0m\u001b[1;33m[\u001b[0m\u001b[1;36m0\u001b[0m\u001b[1;33m]\u001b[0m\u001b[1;33m[\u001b[0m\u001b[1;36m0\u001b[0m\u001b[1;33m]\u001b[0m \u001b[1;32min\u001b[0m \u001b[0m_REPEATCODES\u001b[0m\u001b[1;33m:\u001b[0m\u001b[1;33m\u001b[0m\u001b[0m\n\u001b[0;32m    618\u001b[0m                 raise source.error(\"multiple repeat\",\n",
      "\u001b[1;31merror\u001b[0m: nothing to repeat at position 0"
     ]
    }
   ],
   "source": [
    "import re\n",
    "for i in range(0, len(dim_alpha)):\n",
    "    print('Count of ' + dim_alpha[i] + ' is : ' + str(len(re.findall('?=dim_alpha[i]', sax_string)) ))  #str(count[dim_alpha[i]])) "
   ]
  },
  {
   "cell_type": "code",
   "execution_count": 40,
   "metadata": {},
   "outputs": [
    {
     "data": {
      "text/plain": [
       "array([[3, 1, 4, 1],\n",
       "       [2, 6, 7, 3],\n",
       "       [2, 9, 8, 2],\n",
       "       [2, 1, 2, 2]])"
      ]
     },
     "execution_count": 40,
     "metadata": {},
     "output_type": "execute_result"
    }
   ],
   "source": [
    "dim_arr = []\n",
    "\n",
    "for i in range(0, len(dim_alpha)):\n",
    "    dim_arr.append(len(re.findall(dim_alpha[i], sax_string)))  #str(count[dim_alpha[i]]))\n",
    "\n",
    "ncols = 4\n",
    "np.reshape(dim_arr,(-1,ncols))"
   ]
  },
  {
   "cell_type": "code",
   "execution_count": 41,
   "metadata": {},
   "outputs": [
    {
     "data": {
      "text/plain": [
       "<matplotlib.image.AxesImage at 0xd0323c8>"
      ]
     },
     "execution_count": 41,
     "metadata": {},
     "output_type": "execute_result"
    },
    {
     "data": {
      "image/png": "[encoded data removed]",
      "text/plain": [
       "<Figure size 432x288 with 1 Axes>"
      ]
     },
     "metadata": {},
     "output_type": "display_data"
    }
   ],
   "source": [
    "im = np.reshape(dim_arr,(-1,ncols)) #x.reshape(1754, 1754)\n",
    "plt.gray()\n",
    "plt.imshow(im)"
   ]
  },
  {
   "cell_type": "code",
   "execution_count": null,
   "metadata": {},
   "outputs": [],
   "source": []
  }
 ],
 "metadata": {
  "kernelspec": {
   "display_name": "Python 3",
   "language": "python",
   "name": "python3"
  },
  "language_info": {
   "codemirror_mode": {
    "name": "ipython",
    "version": 3
   },
   "file_extension": ".py",
   "mimetype": "text/x-python",
   "name": "python",
   "nbconvert_exporter": "python",
   "pygments_lexer": "ipython3",
   "version": "3.6.9"
  }
 },
 "nbformat": 4,
 "nbformat_minor": 2
}
