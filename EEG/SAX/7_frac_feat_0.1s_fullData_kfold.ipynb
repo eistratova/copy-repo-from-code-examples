{
 "cells": [
  {
   "cell_type": "code",
   "execution_count": 1,
   "metadata": {},
   "outputs": [],
   "source": [
    "## sleep stage classification - 2 class - using SAX features\n",
    "\n",
    "## feature set variables: window size (0.5, 0.2, 0.1, 0.05), alphabet size (3, 4, 5), word size (dimer, trimer)\n",
    "\n",
    "## do 10-fold CV\n",
    "## inside cross-validation, split into train, validation & test indices\n",
    "## do calc on train & val to get optimal params\n",
    "#     try :\n",
    "#     balance with smote / balanced class weight in SVM\n",
    "#     grid search + CV  -> show plots on train & val error\n",
    "#     optimise prob thres\n",
    "\n",
    "## with the optimal params, re-train using train & val, then predict on test set\n",
    "## merge test set predictions from all folds into a single set - obtain esnsitivity, specificity & conf mat on this set\n",
    "\n",
    "import pandas as pd\n",
    "import numpy as np\n",
    "import os\n",
    "import pickle\n",
    "from scipy import stats\n",
    "#import itertools\n",
    "import matplotlib.pyplot as plt\n",
    "from datetime import datetime\n",
    "\n",
    "from sklearn.preprocessing import StandardScaler #, MinMaxScaler, RobustScaler\n",
    "from sklearn.model_selection import train_test_split\n",
    "\n",
    "import itertools\n",
    "from sklearn.svm import SVC\n",
    "from sklearn.metrics import auc,accuracy_score\n",
    "from sklearn.metrics import precision_recall_fscore_support,confusion_matrix\n",
    "from sklearn.metrics import classification_report"
   ]
  },
  {
   "cell_type": "code",
   "execution_count": 2,
   "metadata": {},
   "outputs": [],
   "source": [
    "###################function to plot confusion matrix#####################################\n",
    "def plot_confusion_matrix(cm, classes,\n",
    "                          normalize=False,\n",
    "                          title='Confusion matrix',\n",
    "                          cmap=plt.cm.Blues):\n",
    "    \"\"\"\n",
    "    This function prints and plots the confusion matrix.\n",
    "    Normalization can be applied by setting `normalize=True`.\n",
    "    \"\"\"\n",
    "    if normalize:\n",
    "        cm = cm.astype('float') / cm.sum(axis=1)[:, np.newaxis]\n",
    "        print(\"Normalized confusion matrix\")\n",
    "    else:\n",
    "        print('Confusion matrix, without normalization')\n",
    "\n",
    "    print(cm)\n",
    "\n",
    "    plt.imshow(cm, interpolation='nearest', cmap=cmap)\n",
    "    plt.title(title)\n",
    "    plt.colorbar()\n",
    "    tick_marks = np.arange(len(classes))\n",
    "    plt.xticks(tick_marks, classes, rotation=45)\n",
    "    plt.yticks(tick_marks, classes)\n",
    "\n",
    "    fmt = '.2f' if normalize else 'd'\n",
    "    thresh = cm.max() / 2.\n",
    "    for i, j in itertools.product(range(cm.shape[0]), range(cm.shape[1])):\n",
    "        plt.text(j, i, format(cm[i, j], fmt),\n",
    "                 horizontalalignment=\"center\",\n",
    "                 color=\"white\" if cm[i, j] > thresh else \"black\")\n",
    "\n",
    "    plt.tight_layout()\n",
    "    plt.ylabel('True label')\n",
    "    plt.xlabel('Predicted label')\n",
    "    \n",
    "###########################################################################################"
   ]
  },
  {
   "cell_type": "code",
   "execution_count": 3,
   "metadata": {},
   "outputs": [],
   "source": [
    "## create train & test sets by ID\n",
    "def CreateTrainTestID(dfull):\n",
    "    \n",
    "    ## select IDs\n",
    "    ID = dfull['pID'].unique() # create ID list\n",
    "    #np.random.seed(456)   ## select the IDs for the 2 sets\n",
    "    \n",
    "    '''\n",
    "    msk = np.random.rand(len(ID)) < 0.8\n",
    "    #print('msk')\n",
    "    #print(msk)\n",
    "    trainIDs = pd.DataFrame()\n",
    "    testIDs = pd.DataFrame()\n",
    "    trainIDs['pID'] = ID[msk]\n",
    "    testIDs['pID'] = ID[~msk]\n",
    "    #print(ID[msk])\n",
    "    #print(ID[~msk])\n",
    "    print(trainIDs['pID'].tolist())\n",
    "    print(testIDs['pID'].tolist())\n",
    "    Train = dfull.loc[dfull['pID'].isin(ID[msk])] # create the train-test sets\n",
    "    Test = dfull.loc[dfull['pID'].isin(ID[~msk])] #'''\n",
    "    \n",
    "    index_list = list(range(len(ID)))\n",
    "    #print('index list')\n",
    "    #print(index_list)\n",
    "    train_index = np.random.choice(np.array(index_list), size = round(0.8*(len(index_list))), replace=False)\n",
    "    test_index = [i for i in index_list if i not in train_index]\n",
    "    Train = dfull.loc[dfull['pID'].isin(ID[train_index])]\n",
    "    Test = dfull.loc[dfull['pID'].isin(ID[test_index])]\n",
    "    #print('train')\n",
    "    print(train_index)\n",
    "    #print('test')\n",
    "    print(test_index)\n",
    "        \n",
    "    return Train, Test\n",
    "\n",
    "def createXYsets(Train,Test):    \n",
    "    ## create the sets\n",
    "    X_train1 = Train.drop(['pID','day','epoch','class_label','class2'], 1).reset_index() #inplace=True, drop=True)  ## create X & y splits\n",
    "    X_train1 = X_train1.drop(['index'], 1)\n",
    "    X_test = Test.drop(['pID','day','epoch','class_label','class2'], 1).reset_index() #inplace=True, drop=True)\n",
    "    X_test = X_test.drop(['index'],1)\n",
    "    y_train1 = Train['class2'].reset_index() #inplace=True, drop=True)\n",
    "    y_train1 = y_train1.drop(['index'],1)\n",
    "    y_test = Test['class2'].reset_index() #inplace=True, drop=True)\n",
    "    y_test = y_test.drop(['index'],1)\n",
    "    print(X_train1.head(1))\n",
    "    return X_train1, y_train1, X_test, y_test"
   ]
  },
  {
   "cell_type": "code",
   "execution_count": 28,
   "metadata": {},
   "outputs": [],
   "source": [
    "#for i in range(10):\n",
    "#    print('')    \n",
    "#    print(\"Iteration: \" + str(i))\n",
    "#    \n",
    "#    Train, Test = CreateTrainTestID(dfull)\n",
    "    #X_train1, y_train1, X_test, y_test = createXYsets(Train,Test)\n",
    "#    print('')"
   ]
  },
  {
   "cell_type": "code",
   "execution_count": null,
   "metadata": {},
   "outputs": [],
   "source": []
  },
  {
   "cell_type": "code",
   "execution_count": 4,
   "metadata": {},
   "outputs": [
    {
     "data": {
      "text/html": [
       "<div>\n",
       "<style scoped>\n",
       "    .dataframe tbody tr th:only-of-type {\n",
       "        vertical-align: middle;\n",
       "    }\n",
       "\n",
       "    .dataframe tbody tr th {\n",
       "        vertical-align: top;\n",
       "    }\n",
       "\n",
       "    .dataframe thead th {\n",
       "        text-align: right;\n",
       "    }\n",
       "</style>\n",
       "<table border=\"1\" class=\"dataframe\">\n",
       "  <thead>\n",
       "    <tr style=\"text-align: right;\">\n",
       "      <th></th>\n",
       "      <th>0</th>\n",
       "      <th>1</th>\n",
       "      <th>2</th>\n",
       "      <th>3</th>\n",
       "      <th>4</th>\n",
       "      <th>5</th>\n",
       "      <th>6</th>\n",
       "      <th>7</th>\n",
       "      <th>8</th>\n",
       "      <th>9</th>\n",
       "      <th>10</th>\n",
       "      <th>11</th>\n",
       "      <th>12</th>\n",
       "      <th>13</th>\n",
       "      <th>14</th>\n",
       "      <th>15</th>\n",
       "      <th>pID</th>\n",
       "      <th>day</th>\n",
       "      <th>epoch</th>\n",
       "      <th>class_label</th>\n",
       "    </tr>\n",
       "  </thead>\n",
       "  <tbody>\n",
       "    <tr>\n",
       "      <th>0</th>\n",
       "      <td>0.110368</td>\n",
       "      <td>0.050167</td>\n",
       "      <td>0.016722</td>\n",
       "      <td>0.013378</td>\n",
       "      <td>0.066890</td>\n",
       "      <td>0.173913</td>\n",
       "      <td>0.060201</td>\n",
       "      <td>0.020067</td>\n",
       "      <td>0.010033</td>\n",
       "      <td>0.083612</td>\n",
       "      <td>0.163880</td>\n",
       "      <td>0.046823</td>\n",
       "      <td>0.003344</td>\n",
       "      <td>0.010033</td>\n",
       "      <td>0.063545</td>\n",
       "      <td>0.107023</td>\n",
       "      <td>400</td>\n",
       "      <td>1</td>\n",
       "      <td>s1e1</td>\n",
       "      <td>wake</td>\n",
       "    </tr>\n",
       "    <tr>\n",
       "      <th>1</th>\n",
       "      <td>0.090301</td>\n",
       "      <td>0.040134</td>\n",
       "      <td>0.020067</td>\n",
       "      <td>0.016722</td>\n",
       "      <td>0.050167</td>\n",
       "      <td>0.210702</td>\n",
       "      <td>0.080268</td>\n",
       "      <td>0.010033</td>\n",
       "      <td>0.020067</td>\n",
       "      <td>0.096990</td>\n",
       "      <td>0.170569</td>\n",
       "      <td>0.030100</td>\n",
       "      <td>0.006689</td>\n",
       "      <td>0.003344</td>\n",
       "      <td>0.046823</td>\n",
       "      <td>0.107023</td>\n",
       "      <td>400</td>\n",
       "      <td>1</td>\n",
       "      <td>s1e2</td>\n",
       "      <td>wake</td>\n",
       "    </tr>\n",
       "    <tr>\n",
       "      <th>2</th>\n",
       "      <td>0.130435</td>\n",
       "      <td>0.043478</td>\n",
       "      <td>0.003344</td>\n",
       "      <td>0.000000</td>\n",
       "      <td>0.040134</td>\n",
       "      <td>0.210702</td>\n",
       "      <td>0.053512</td>\n",
       "      <td>0.023411</td>\n",
       "      <td>0.006689</td>\n",
       "      <td>0.070234</td>\n",
       "      <td>0.167224</td>\n",
       "      <td>0.030100</td>\n",
       "      <td>0.000000</td>\n",
       "      <td>0.003344</td>\n",
       "      <td>0.050167</td>\n",
       "      <td>0.167224</td>\n",
       "      <td>400</td>\n",
       "      <td>1</td>\n",
       "      <td>s1e3</td>\n",
       "      <td>wake</td>\n",
       "    </tr>\n",
       "    <tr>\n",
       "      <th>3</th>\n",
       "      <td>0.123746</td>\n",
       "      <td>0.083612</td>\n",
       "      <td>0.030100</td>\n",
       "      <td>0.006689</td>\n",
       "      <td>0.050167</td>\n",
       "      <td>0.073579</td>\n",
       "      <td>0.076923</td>\n",
       "      <td>0.033445</td>\n",
       "      <td>0.050167</td>\n",
       "      <td>0.050167</td>\n",
       "      <td>0.110368</td>\n",
       "      <td>0.066890</td>\n",
       "      <td>0.020067</td>\n",
       "      <td>0.023411</td>\n",
       "      <td>0.060201</td>\n",
       "      <td>0.140468</td>\n",
       "      <td>400</td>\n",
       "      <td>1</td>\n",
       "      <td>s1e4</td>\n",
       "      <td>wake</td>\n",
       "    </tr>\n",
       "    <tr>\n",
       "      <th>4</th>\n",
       "      <td>0.100334</td>\n",
       "      <td>0.073579</td>\n",
       "      <td>0.050167</td>\n",
       "      <td>0.000000</td>\n",
       "      <td>0.046823</td>\n",
       "      <td>0.060201</td>\n",
       "      <td>0.096990</td>\n",
       "      <td>0.033445</td>\n",
       "      <td>0.056856</td>\n",
       "      <td>0.076923</td>\n",
       "      <td>0.133779</td>\n",
       "      <td>0.080268</td>\n",
       "      <td>0.020067</td>\n",
       "      <td>0.026756</td>\n",
       "      <td>0.063545</td>\n",
       "      <td>0.080268</td>\n",
       "      <td>400</td>\n",
       "      <td>1</td>\n",
       "      <td>s1e5</td>\n",
       "      <td>wake</td>\n",
       "    </tr>\n",
       "  </tbody>\n",
       "</table>\n",
       "</div>"
      ],
      "text/plain": [
       "          0         1         2         3         4         5         6  \\\n",
       "0  0.110368  0.050167  0.016722  0.013378  0.066890  0.173913  0.060201   \n",
       "1  0.090301  0.040134  0.020067  0.016722  0.050167  0.210702  0.080268   \n",
       "2  0.130435  0.043478  0.003344  0.000000  0.040134  0.210702  0.053512   \n",
       "3  0.123746  0.083612  0.030100  0.006689  0.050167  0.073579  0.076923   \n",
       "4  0.100334  0.073579  0.050167  0.000000  0.046823  0.060201  0.096990   \n",
       "\n",
       "          7         8         9        10        11        12        13  \\\n",
       "0  0.020067  0.010033  0.083612  0.163880  0.046823  0.003344  0.010033   \n",
       "1  0.010033  0.020067  0.096990  0.170569  0.030100  0.006689  0.003344   \n",
       "2  0.023411  0.006689  0.070234  0.167224  0.030100  0.000000  0.003344   \n",
       "3  0.033445  0.050167  0.050167  0.110368  0.066890  0.020067  0.023411   \n",
       "4  0.033445  0.056856  0.076923  0.133779  0.080268  0.020067  0.026756   \n",
       "\n",
       "         14        15  pID day epoch class_label  \n",
       "0  0.063545  0.107023  400   1  s1e1        wake  \n",
       "1  0.046823  0.107023  400   1  s1e2        wake  \n",
       "2  0.050167  0.167224  400   1  s1e3        wake  \n",
       "3  0.060201  0.140468  400   1  s1e4        wake  \n",
       "4  0.063545  0.080268  400   1  s1e5        wake  "
      ]
     },
     "execution_count": 4,
     "metadata": {},
     "output_type": "execute_result"
    }
   ],
   "source": [
    "### load data ###\n",
    "\n",
    "file_location='C:/Users/DAR9KOR/Desktop/data/HEALTHCARE/EEG/data/eeg_epochs_dec12_2018/raw_data' #C:\\\\Users\\\\DAR9KOR\\\\Desktop\\\\data\\\\HEALTHCARE\\\\EEG\\\\data\\\\eeg_epochs_dec12_2018'\n",
    "os.chdir('C:/Users/DAR9KOR/Desktop/data/HEALTHCARE/EEG/data/eeg_epochs_dec12_2018/raw_data') #'/home/intern_eyecare/Desktop/EEG/raw_data') #C:\\\\Users\\\\DAR9KOR\\\\Desktop\\\\data\\\\HEALTHCARE\\\\EEG\\\\data\\\\eeg_epochs_dec12_2018')\n",
    "\n",
    "# remove 2nd night of subject 13, as there was data loss - pkl file created accordingly\n",
    "dfull = pickle.load(open('Frac_sax_dimer_0.1s_EEG_all_patients.pkl', 'rb'))\n",
    "dfull.head(5)"
   ]
  },
  {
   "cell_type": "code",
   "execution_count": null,
   "metadata": {},
   "outputs": [],
   "source": [
    "### check the data ###"
   ]
  },
  {
   "cell_type": "code",
   "execution_count": 6,
   "metadata": {},
   "outputs": [
    {
     "name": "stdout",
     "output_type": "stream",
     "text": [
      "<class 'pandas.core.frame.DataFrame'>\n",
      "RangeIndex: 92994 entries, 0 to 92993\n",
      "Data columns (total 20 columns):\n",
      "0              92994 non-null float64\n",
      "1              92994 non-null float64\n",
      "2              92994 non-null float64\n",
      "3              92994 non-null float64\n",
      "4              92994 non-null float64\n",
      "5              92994 non-null float64\n",
      "6              92994 non-null float64\n",
      "7              92994 non-null float64\n",
      "8              92994 non-null float64\n",
      "9              92994 non-null float64\n",
      "10             92994 non-null float64\n",
      "11             92994 non-null float64\n",
      "12             92994 non-null float64\n",
      "13             92994 non-null float64\n",
      "14             92994 non-null float64\n",
      "15             92994 non-null float64\n",
      "pID            92994 non-null object\n",
      "day            92994 non-null object\n",
      "epoch          92994 non-null object\n",
      "class_label    92994 non-null object\n",
      "dtypes: float64(16), object(4)\n",
      "memory usage: 14.2+ MB\n"
     ]
    }
   ],
   "source": [
    "# 1. look for null values\n",
    "dfull.info()"
   ]
  },
  {
   "cell_type": "code",
   "execution_count": 7,
   "metadata": {},
   "outputs": [
    {
     "data": {
      "text/plain": [
       "0              0\n",
       "1              0\n",
       "2              0\n",
       "3              0\n",
       "4              0\n",
       "5              0\n",
       "6              0\n",
       "7              0\n",
       "8              0\n",
       "9              0\n",
       "10             0\n",
       "11             0\n",
       "12             0\n",
       "13             0\n",
       "14             0\n",
       "15             0\n",
       "pID            0\n",
       "day            0\n",
       "epoch          0\n",
       "class_label    0\n",
       "dtype: int64"
      ]
     },
     "execution_count": 7,
     "metadata": {},
     "output_type": "execute_result"
    }
   ],
   "source": [
    "dfull.isnull().sum()"
   ]
  },
  {
   "cell_type": "code",
   "execution_count": 8,
   "metadata": {},
   "outputs": [
    {
     "data": {
      "text/plain": [
       "class_label\n",
       "sleep_stage_1     2804\n",
       "sleep_stage_2    17799\n",
       "wake             72391\n",
       "dtype: int64"
      ]
     },
     "execution_count": 8,
     "metadata": {},
     "output_type": "execute_result"
    }
   ],
   "source": [
    "# 2. check data distribution\n",
    "dfull.groupby('class_label').size()"
   ]
  },
  {
   "cell_type": "code",
   "execution_count": 9,
   "metadata": {},
   "outputs": [
    {
     "data": {
      "text/plain": [
       "pID  class_label  \n",
       "400  sleep_stage_1     117\n",
       "     sleep_stage_2     623\n",
       "     wake             3882\n",
       "401  sleep_stage_1     201\n",
       "     sleep_stage_2    1222\n",
       "     wake             3680\n",
       "402  sleep_stage_1     278\n",
       "     sleep_stage_2     947\n",
       "     wake             3778\n",
       "403  sleep_stage_1     106\n",
       "     sleep_stage_2     885\n",
       "     wake             3965\n",
       "404  sleep_stage_1     303\n",
       "     sleep_stage_2    1134\n",
       "     wake             3307\n",
       "405  sleep_stage_1     158\n",
       "     sleep_stage_2     833\n",
       "     wake             4038\n",
       "406  sleep_stage_1     146\n",
       "     sleep_stage_2     824\n",
       "     wake             4076\n",
       "407  sleep_stage_1     173\n",
       "     sleep_stage_2     795\n",
       "     wake             3862\n",
       "408  sleep_stage_1     107\n",
       "     sleep_stage_2     591\n",
       "     wake             3709\n",
       "409  sleep_stage_1     100\n",
       "     sleep_stage_2    1073\n",
       "     wake             2818\n",
       "410  sleep_stage_1     182\n",
       "     sleep_stage_2    1278\n",
       "     wake             3679\n",
       "411  sleep_stage_1      31\n",
       "     sleep_stage_2     898\n",
       "     wake             3943\n",
       "412  sleep_stage_1     169\n",
       "     sleep_stage_2     750\n",
       "     wake             3728\n",
       "413  sleep_stage_1      57\n",
       "     sleep_stage_2     497\n",
       "     wake             1941\n",
       "414  sleep_stage_1      56\n",
       "     sleep_stage_2     790\n",
       "     wake             3942\n",
       "415  sleep_stage_1      88\n",
       "     sleep_stage_2     792\n",
       "     wake             3740\n",
       "416  sleep_stage_1      97\n",
       "     sleep_stage_2     907\n",
       "     wake             3619\n",
       "417  sleep_stage_1      65\n",
       "     sleep_stage_2    1015\n",
       "     wake             3551\n",
       "418  sleep_stage_1     180\n",
       "     sleep_stage_2     678\n",
       "     wake             3999\n",
       "419  sleep_stage_1     190\n",
       "     sleep_stage_2    1267\n",
       "     wake             3134\n",
       "dtype: int64"
      ]
     },
     "execution_count": 9,
     "metadata": {},
     "output_type": "execute_result"
    }
   ],
   "source": [
    "dfull.groupby(['pID','class_label']).size()"
   ]
  },
  {
   "cell_type": "code",
   "execution_count": 5,
   "metadata": {},
   "outputs": [],
   "source": [
    "### convert from 3-class to 2-class ###\n",
    "dfull['class2'] = dfull['class_label']\n",
    "dfull['class2'] = [0 if x == 'wake' else 1 for x in dfull['class2']]\n",
    "\n",
    "## convert selected columns to string/categories \n",
    "## DO NOT CONVERT 'class2' from numeric to category - this probably gives error in grid search\n",
    "dfull[['class_label']] = dfull[['class_label']].astype('str')        # ,'class2'"
   ]
  },
  {
   "cell_type": "code",
   "execution_count": null,
   "metadata": {},
   "outputs": [],
   "source": []
  },
  {
   "cell_type": "code",
   "execution_count": 14,
   "metadata": {},
   "outputs": [
    {
     "name": "stdout",
     "output_type": "stream",
     "text": [
      "2019-04-05 19:26:33\n",
      "\n",
      "Iteration: 0\n",
      "['400', '401', '402', '403', '405', '406', '407', '408', '410', '411', '413', '414', '415', '417', '419']\n",
      "['404', '409', '412', '416', '418']\n",
      "         0         1         2         3        4         5         6   \\\n",
      "0  0.110368  0.050167  0.016722  0.013378  0.06689  0.173913  0.060201   \n",
      "\n",
      "         7         8         9        10        11        12        13  \\\n",
      "0  0.020067  0.010033  0.083612  0.16388  0.046823  0.003344  0.010033   \n",
      "\n",
      "         14        15  \n",
      "0  0.063545  0.107023  \n",
      "\n"
     ]
    },
    {
     "name": "stderr",
     "output_type": "stream",
     "text": [
      "C:\\Users\\DAR9KOR\\AppData\\Local\\Continuum\\anaconda3\\lib\\site-packages\\sklearn\\utils\\validation.py:761: DataConversionWarning: A column-vector y was passed when a 1d array was expected. Please change the shape of y to (n_samples, ), for example using ravel().\n",
      "  y = column_or_1d(y, warn=True)\n"
     ]
    },
    {
     "name": "stdout",
     "output_type": "stream",
     "text": [
      "[[16076  1395]\n",
      " [  930  4461]]\n",
      "              precision    recall  f1-score   support\n",
      "\n",
      "           0       0.95      0.92      0.93     17471\n",
      "           1       0.76      0.83      0.79      5391\n",
      "\n",
      "   micro avg       0.90      0.90      0.90     22862\n",
      "   macro avg       0.85      0.87      0.86     22862\n",
      "weighted avg       0.90      0.90      0.90     22862\n",
      "\n",
      "accuracy: 0.8983028606421135\n",
      "2019-04-05 19:29:33\n",
      "\n",
      "\n",
      "Iteration: 1\n",
      "['400', '401', '402', '403', '404', '405', '406', '408', '409', '411', '412', '413', '414', '415', '416', '417', '418', '419']\n",
      "['407', '410']\n",
      "         0         1         2         3        4         5         6   \\\n",
      "0  0.110368  0.050167  0.016722  0.013378  0.06689  0.173913  0.060201   \n",
      "\n",
      "         7         8         9        10        11        12        13  \\\n",
      "0  0.020067  0.010033  0.083612  0.16388  0.046823  0.003344  0.010033   \n",
      "\n",
      "         14        15  \n",
      "0  0.063545  0.107023  \n",
      "\n"
     ]
    },
    {
     "name": "stderr",
     "output_type": "stream",
     "text": [
      "C:\\Users\\DAR9KOR\\AppData\\Local\\Continuum\\anaconda3\\lib\\site-packages\\sklearn\\utils\\validation.py:761: DataConversionWarning: A column-vector y was passed when a 1d array was expected. Please change the shape of y to (n_samples, ), for example using ravel().\n",
      "  y = column_or_1d(y, warn=True)\n"
     ]
    },
    {
     "name": "stdout",
     "output_type": "stream",
     "text": [
      "[[7038  503]\n",
      " [ 260 2168]]\n",
      "              precision    recall  f1-score   support\n",
      "\n",
      "           0       0.96      0.93      0.95      7541\n",
      "           1       0.81      0.89      0.85      2428\n",
      "\n",
      "   micro avg       0.92      0.92      0.92      9969\n",
      "   macro avg       0.89      0.91      0.90      9969\n",
      "weighted avg       0.93      0.92      0.92      9969\n",
      "\n",
      "accuracy: 0.9234627344768783\n",
      "2019-04-05 19:33:51\n",
      "\n",
      "\n",
      "Iteration: 2\n",
      "['400', '403', '404', '405', '406', '407', '408', '409', '411', '413', '414', '415', '416', '417', '418', '419']\n",
      "['401', '402', '410', '412']\n",
      "         0         1         2         3        4         5         6   \\\n",
      "0  0.110368  0.050167  0.016722  0.013378  0.06689  0.173913  0.060201   \n",
      "\n",
      "         7         8         9        10        11        12        13  \\\n",
      "0  0.020067  0.010033  0.083612  0.16388  0.046823  0.003344  0.010033   \n",
      "\n",
      "         14        15  \n",
      "0  0.063545  0.107023  \n",
      "\n"
     ]
    },
    {
     "name": "stderr",
     "output_type": "stream",
     "text": [
      "C:\\Users\\DAR9KOR\\AppData\\Local\\Continuum\\anaconda3\\lib\\site-packages\\sklearn\\utils\\validation.py:761: DataConversionWarning: A column-vector y was passed when a 1d array was expected. Please change the shape of y to (n_samples, ), for example using ravel().\n",
      "  y = column_or_1d(y, warn=True)\n"
     ]
    },
    {
     "name": "stdout",
     "output_type": "stream",
     "text": [
      "[[13613  1252]\n",
      " [  569  4458]]\n",
      "              precision    recall  f1-score   support\n",
      "\n",
      "           0       0.96      0.92      0.94     14865\n",
      "           1       0.78      0.89      0.83      5027\n",
      "\n",
      "   micro avg       0.91      0.91      0.91     19892\n",
      "   macro avg       0.87      0.90      0.88     19892\n",
      "weighted avg       0.91      0.91      0.91     19892\n",
      "\n",
      "accuracy: 0.9084556605670622\n",
      "2019-04-05 19:37:20\n",
      "\n",
      "\n",
      "Iteration: 3\n",
      "['400', '403', '404', '405', '407', '408', '409', '410', '411', '412', '413', '414', '415', '417', '419']\n",
      "['401', '402', '406', '416', '418']\n",
      "         0         1         2         3        4         5         6   \\\n",
      "0  0.110368  0.050167  0.016722  0.013378  0.06689  0.173913  0.060201   \n",
      "\n",
      "         7         8         9        10        11        12        13  \\\n",
      "0  0.020067  0.010033  0.083612  0.16388  0.046823  0.003344  0.010033   \n",
      "\n",
      "         14        15  \n",
      "0  0.063545  0.107023  \n",
      "\n"
     ]
    },
    {
     "name": "stderr",
     "output_type": "stream",
     "text": [
      "C:\\Users\\DAR9KOR\\AppData\\Local\\Continuum\\anaconda3\\lib\\site-packages\\sklearn\\utils\\validation.py:761: DataConversionWarning: A column-vector y was passed when a 1d array was expected. Please change the shape of y to (n_samples, ), for example using ravel().\n",
      "  y = column_or_1d(y, warn=True)\n"
     ]
    },
    {
     "name": "stdout",
     "output_type": "stream",
     "text": [
      "[[18193   959]\n",
      " [ 1010  4470]]\n",
      "              precision    recall  f1-score   support\n",
      "\n",
      "           0       0.95      0.95      0.95     19152\n",
      "           1       0.82      0.82      0.82      5480\n",
      "\n",
      "   micro avg       0.92      0.92      0.92     24632\n",
      "   macro avg       0.89      0.88      0.88     24632\n",
      "weighted avg       0.92      0.92      0.92     24632\n",
      "\n",
      "accuracy: 0.9200633322507308\n",
      "2019-04-05 19:40:29\n",
      "\n",
      "\n",
      "Iteration: 4\n",
      "['400', '401', '402', '404', '406', '407', '408', '410', '412', '413', '414', '415', '417', '418']\n",
      "['403', '405', '409', '411', '416', '419']\n",
      "         0         1         2         3        4         5         6   \\\n",
      "0  0.110368  0.050167  0.016722  0.013378  0.06689  0.173913  0.060201   \n",
      "\n",
      "         7         8         9        10        11        12        13  \\\n",
      "0  0.020067  0.010033  0.083612  0.16388  0.046823  0.003344  0.010033   \n",
      "\n",
      "         14        15  \n",
      "0  0.063545  0.107023  \n",
      "\n"
     ]
    },
    {
     "name": "stderr",
     "output_type": "stream",
     "text": [
      "C:\\Users\\DAR9KOR\\AppData\\Local\\Continuum\\anaconda3\\lib\\site-packages\\sklearn\\utils\\validation.py:761: DataConversionWarning: A column-vector y was passed when a 1d array was expected. Please change the shape of y to (n_samples, ), for example using ravel().\n",
      "  y = column_or_1d(y, warn=True)\n"
     ]
    },
    {
     "name": "stdout",
     "output_type": "stream",
     "text": [
      "[[18034  3483]\n",
      " [ 1096  5449]]\n",
      "              precision    recall  f1-score   support\n",
      "\n",
      "           0       0.94      0.84      0.89     21517\n",
      "           1       0.61      0.83      0.70      6545\n",
      "\n",
      "   micro avg       0.84      0.84      0.84     28062\n",
      "   macro avg       0.78      0.84      0.80     28062\n",
      "weighted avg       0.87      0.84      0.84     28062\n",
      "\n",
      "accuracy: 0.8368256004561329\n",
      "2019-04-05 19:43:10\n",
      "\n",
      "\n",
      "Iteration: 5\n",
      "['401', '402', '403', '405', '406', '408', '409', '410', '411', '412', '414', '415', '416', '418', '419']\n",
      "['400', '404', '407', '413', '417']\n",
      "         0         1         2         3         4         5         6    7   \\\n",
      "0  0.073579  0.020067  0.010033  0.020067  0.033445  0.301003  0.073579  0.0   \n",
      "\n",
      "         8         9         10        11        12        13        14  \\\n",
      "0  0.010033  0.080268  0.197324  0.026756  0.006689  0.006689  0.036789   \n",
      "\n",
      "         15  \n",
      "0  0.103679  \n",
      "\n"
     ]
    },
    {
     "name": "stderr",
     "output_type": "stream",
     "text": [
      "C:\\Users\\DAR9KOR\\AppData\\Local\\Continuum\\anaconda3\\lib\\site-packages\\sklearn\\utils\\validation.py:761: DataConversionWarning: A column-vector y was passed when a 1d array was expected. Please change the shape of y to (n_samples, ), for example using ravel().\n",
      "  y = column_or_1d(y, warn=True)\n"
     ]
    },
    {
     "name": "stdout",
     "output_type": "stream",
     "text": [
      "[[12478  4065]\n",
      " [  351  4428]]\n",
      "              precision    recall  f1-score   support\n",
      "\n",
      "           0       0.97      0.75      0.85     16543\n",
      "           1       0.52      0.93      0.67      4779\n",
      "\n",
      "   micro avg       0.79      0.79      0.79     21322\n",
      "   macro avg       0.75      0.84      0.76     21322\n",
      "weighted avg       0.87      0.79      0.81     21322\n",
      "\n",
      "accuracy: 0.792889972798049\n",
      "2019-04-05 19:46:05\n",
      "\n",
      "\n",
      "Iteration: 6\n",
      "['400', '401', '403', '404', '405', '410', '411', '413', '414', '415', '417', '418', '419']\n",
      "['402', '406', '407', '408', '409', '412', '416']\n",
      "         0         1         2         3        4         5         6   \\\n",
      "0  0.110368  0.050167  0.016722  0.013378  0.06689  0.173913  0.060201   \n",
      "\n",
      "         7         8         9        10        11        12        13  \\\n",
      "0  0.020067  0.010033  0.083612  0.16388  0.046823  0.003344  0.010033   \n",
      "\n",
      "         14        15  \n",
      "0  0.063545  0.107023  \n",
      "\n"
     ]
    },
    {
     "name": "stderr",
     "output_type": "stream",
     "text": [
      "C:\\Users\\DAR9KOR\\AppData\\Local\\Continuum\\anaconda3\\lib\\site-packages\\sklearn\\utils\\validation.py:761: DataConversionWarning: A column-vector y was passed when a 1d array was expected. Please change the shape of y to (n_samples, ), for example using ravel().\n",
      "  y = column_or_1d(y, warn=True)\n"
     ]
    },
    {
     "name": "stdout",
     "output_type": "stream",
     "text": [
      "[[23820  1770]\n",
      " [ 1531  5426]]\n",
      "              precision    recall  f1-score   support\n",
      "\n",
      "           0       0.94      0.93      0.94     25590\n",
      "           1       0.75      0.78      0.77      6957\n",
      "\n",
      "   micro avg       0.90      0.90      0.90     32547\n",
      "   macro avg       0.85      0.86      0.85     32547\n",
      "weighted avg       0.90      0.90      0.90     32547\n",
      "\n",
      "accuracy: 0.8985774418533198\n",
      "2019-04-05 19:55:56\n",
      "\n",
      "\n",
      "Iteration: 7\n",
      "['400', '402', '403', '404', '405', '407', '408', '409', '410', '411', '412', '413', '415', '417', '418', '419']\n",
      "['401', '406', '414', '416']\n",
      "         0         1         2         3        4         5         6   \\\n",
      "0  0.110368  0.050167  0.016722  0.013378  0.06689  0.173913  0.060201   \n",
      "\n",
      "         7         8         9        10        11        12        13  \\\n",
      "0  0.020067  0.010033  0.083612  0.16388  0.046823  0.003344  0.010033   \n",
      "\n",
      "         14        15  \n",
      "0  0.063545  0.107023  \n",
      "\n"
     ]
    },
    {
     "name": "stderr",
     "output_type": "stream",
     "text": [
      "C:\\Users\\DAR9KOR\\AppData\\Local\\Continuum\\anaconda3\\lib\\site-packages\\sklearn\\utils\\validation.py:761: DataConversionWarning: A column-vector y was passed when a 1d array was expected. Please change the shape of y to (n_samples, ), for example using ravel().\n",
      "  y = column_or_1d(y, warn=True)\n"
     ]
    },
    {
     "name": "stdout",
     "output_type": "stream",
     "text": [
      "[[13643  1674]\n",
      " [  484  3759]]\n",
      "              precision    recall  f1-score   support\n",
      "\n",
      "           0       0.97      0.89      0.93     15317\n",
      "           1       0.69      0.89      0.78      4243\n",
      "\n",
      "   micro avg       0.89      0.89      0.89     19560\n",
      "   macro avg       0.83      0.89      0.85     19560\n",
      "weighted avg       0.91      0.89      0.89     19560\n",
      "\n",
      "accuracy: 0.8896728016359918\n",
      "2019-04-05 20:00:36\n",
      "\n",
      "\n",
      "Iteration: 8\n",
      "['400', '401', '402', '404', '406', '407', '408', '409', '410', '411', '413', '414', '415', '416', '417', '418', '419']\n",
      "['403', '405', '412']\n",
      "         0         1         2         3        4         5         6   \\\n",
      "0  0.110368  0.050167  0.016722  0.013378  0.06689  0.173913  0.060201   \n",
      "\n",
      "         7         8         9        10        11        12        13  \\\n",
      "0  0.020067  0.010033  0.083612  0.16388  0.046823  0.003344  0.010033   \n",
      "\n",
      "         14        15  \n",
      "0  0.063545  0.107023  \n",
      "\n"
     ]
    },
    {
     "name": "stderr",
     "output_type": "stream",
     "text": [
      "C:\\Users\\DAR9KOR\\AppData\\Local\\Continuum\\anaconda3\\lib\\site-packages\\sklearn\\utils\\validation.py:761: DataConversionWarning: A column-vector y was passed when a 1d array was expected. Please change the shape of y to (n_samples, ), for example using ravel().\n",
      "  y = column_or_1d(y, warn=True)\n"
     ]
    },
    {
     "name": "stdout",
     "output_type": "stream",
     "text": [
      "[[10037  1694]\n",
      " [  135  2766]]\n",
      "              precision    recall  f1-score   support\n",
      "\n",
      "           0       0.99      0.86      0.92     11731\n",
      "           1       0.62      0.95      0.75      2901\n",
      "\n",
      "   micro avg       0.88      0.88      0.88     14632\n",
      "   macro avg       0.80      0.90      0.83     14632\n",
      "weighted avg       0.91      0.88      0.88     14632\n",
      "\n",
      "accuracy: 0.875\n",
      "2019-04-05 20:04:55\n",
      "\n",
      "\n",
      "Iteration: 9\n",
      "['400', '401', '403', '404', '406', '407', '408', '409', '410', '411', '413', '414', '415', '417', '418', '419']\n",
      "['402', '405', '412', '416']\n",
      "         0         1         2         3        4         5         6   \\\n",
      "0  0.110368  0.050167  0.016722  0.013378  0.06689  0.173913  0.060201   \n",
      "\n",
      "         7         8         9        10        11        12        13  \\\n",
      "0  0.020067  0.010033  0.083612  0.16388  0.046823  0.003344  0.010033   \n",
      "\n",
      "         14        15  \n",
      "0  0.063545  0.107023  \n",
      "\n"
     ]
    },
    {
     "name": "stderr",
     "output_type": "stream",
     "text": [
      "C:\\Users\\DAR9KOR\\AppData\\Local\\Continuum\\anaconda3\\lib\\site-packages\\sklearn\\utils\\validation.py:761: DataConversionWarning: A column-vector y was passed when a 1d array was expected. Please change the shape of y to (n_samples, ), for example using ravel().\n",
      "  y = column_or_1d(y, warn=True)\n"
     ]
    },
    {
     "name": "stdout",
     "output_type": "stream",
     "text": [
      "[[13775  1388]\n",
      " [  732  3407]]\n",
      "              precision    recall  f1-score   support\n",
      "\n",
      "           0       0.95      0.91      0.93     15163\n",
      "           1       0.71      0.82      0.76      4139\n",
      "\n",
      "   micro avg       0.89      0.89      0.89     19302\n",
      "   macro avg       0.83      0.87      0.85     19302\n",
      "weighted avg       0.90      0.89      0.89     19302\n",
      "\n",
      "accuracy: 0.890166822090975\n",
      "2019-04-05 20:08:33\n",
      "\n",
      "   sensitivity  specificity\n",
      "0     0.827490     0.920153\n",
      "1     0.892916     0.933298\n",
      "2     0.886811     0.915775\n",
      "3     0.815693     0.949927\n",
      "4     0.832544     0.838128\n",
      "5     0.926554     0.754277\n",
      "6     0.779934     0.930832\n",
      "7     0.885930     0.890710\n",
      "8     0.953464     0.855596\n",
      "9     0.823146     0.908461\n",
      "avg sensitivity: 0.862448214705948\n",
      "avg specificity: 0.8897158000055102\n"
     ]
    }
   ],
   "source": [
    "'''## do multiple iterations\n",
    "sensitivity = []\n",
    "specificity = []\n",
    "accuracy = []\n",
    "print(datetime.now().strftime('%Y-%m-%d %H:%M:%S'))\n",
    "\n",
    "for i in range(10):\n",
    "    print('')    \n",
    "    print(\"Iteration: \" + str(i))\n",
    "    \n",
    "    Train, Test = CreateTrainTestID(dfull)\n",
    "    X_train1, y_train1, X_test, y_test = createXYsets(Train,Test)\n",
    "    print('')\n",
    "    \n",
    "    ### data scaling ###\n",
    "    scaler = StandardScaler().fit(X_train1)  # StandardScaler();  MinMaxScaler()\n",
    "    X_train_scaled = scaler.transform(X_train1)    # fit_transform(X_train1)\n",
    "    X_test_scaled = scaler.transform(X_test)\n",
    "    \n",
    "    ## model fitting\n",
    "    model_svc = SVC(class_weight='balanced')  # probability=True\n",
    "    model_svc.fit(X_train_scaled, y_train1)\n",
    "    \n",
    "    \n",
    "    ## predict on test data - check metrics\n",
    "    y_pred = model_svc.predict(X_test_scaled)\n",
    "    \n",
    "    \n",
    "    #####    Compute confusion matrix     ####\n",
    "    class_names = ['0','1'] #['wake','sleep_stage_1','sleep_stage_2']  # wake, SS1, SS2  ; # '0','1','2'\n",
    "    cnf_matrix = confusion_matrix(y_test, y_pred)\n",
    "    np.set_printoptions(precision=2)\n",
    "    #print(cnf_matrix)\n",
    "    # Plot normalized confusion matrix : normalisation shows nan for class'0' no signal has class=0 as true label\n",
    "    plt.figure()\n",
    "    plot_confusion_matrix(cnf_matrix, classes=class_names, normalize=True, title='Normalized confusion matrix')\n",
    "    plt.show()\n",
    "    \n",
    "    ## print metrics\n",
    "    print(classification_report(y_test, y_pred, target_names=class_names))\n",
    "    #print('accuracy: ' + str(accuracy_score(y_test,y_pred)))\n",
    "    p = precision_recall_fscore_support(y_test,y_pred)\n",
    "    #sen = p[1][1]\n",
    "    #spec = p[1][0]\n",
    "    #print('sen: ' + str(sen) +' , spec: ' + str(spec))\n",
    "    sensitivity.append(p[1][1])\n",
    "    specificity.append(p[1][0])\n",
    "    accuracy.append(accuracy_score(y_test,y_pred))\n",
    "    \n",
    "    print(datetime.now().strftime('%Y-%m-%d %H:%M:%S'))\n",
    "    print('')\n",
    "\n",
    "sensitivity = pd.DataFrame(sensitivity)\n",
    "specificity = pd.DataFrame(specificity)\n",
    "metrics = pd.concat([sensitivity, specificity], axis=1)\n",
    "metrics.columns = ['sensitivity', 'specificity']\n",
    "print(metrics)\n",
    "print('avg sensitivity: ' + str(metrics.sensitivity.mean()))\n",
    "print('avg specificity: ' + str(metrics.specificity.mean()))\n",
    "'''    "
   ]
  },
  {
   "cell_type": "code",
   "execution_count": null,
   "metadata": {},
   "outputs": [],
   "source": []
  },
  {
   "cell_type": "code",
   "execution_count": 29,
   "metadata": {
    "scrolled": true
   },
   "outputs": [
    {
     "name": "stdout",
     "output_type": "stream",
     "text": [
      "2019-04-05 23:32:00\n",
      "\n",
      "Iteration: 0\n",
      "[ 9  1 10  3  8  5 16  7  4 11 15 12 19 17  2 14]\n",
      "[0, 6, 13, 18]\n",
      "         0         1         2         3         4         5         6    7   \\\n",
      "0  0.073579  0.020067  0.010033  0.020067  0.033445  0.301003  0.073579  0.0   \n",
      "\n",
      "         8         9         10        11        12        13        14  \\\n",
      "0  0.010033  0.080268  0.197324  0.026756  0.006689  0.006689  0.036789   \n",
      "\n",
      "         15  \n",
      "0  0.103679  \n",
      "\n"
     ]
    },
    {
     "name": "stderr",
     "output_type": "stream",
     "text": [
      "C:\\Users\\DAR9KOR\\AppData\\Local\\Continuum\\anaconda3\\lib\\site-packages\\sklearn\\utils\\validation.py:761: DataConversionWarning: A column-vector y was passed when a 1d array was expected. Please change the shape of y to (n_samples, ), for example using ravel().\n",
      "  y = column_or_1d(y, warn=True)\n"
     ]
    },
    {
     "name": "stdout",
     "output_type": "stream",
     "text": [
      "Normalized confusion matrix\n",
      "[[0.9  0.1 ]\n",
      " [0.09 0.91]]\n"
     ]
    },
    {
     "data": {
      "image/png": "[encoded data removed]",
      "text/plain": [
       "<Figure size 432x288 with 2 Axes>"
      ]
     },
     "metadata": {},
     "output_type": "display_data"
    },
    {
     "name": "stdout",
     "output_type": "stream",
     "text": [
      "              precision    recall  f1-score   support\n",
      "\n",
      "           0       0.98      0.90      0.94     13898\n",
      "           1       0.67      0.91      0.77      3122\n",
      "\n",
      "   micro avg       0.90      0.90      0.90     17020\n",
      "   macro avg       0.82      0.90      0.85     17020\n",
      "weighted avg       0.92      0.90      0.91     17020\n",
      "\n",
      "2019-04-05 23:38:10\n",
      "\n",
      "\n",
      "Iteration: 1\n",
      "[19 14 13  4  1  0 12  9 16  2 11  8 17 10  7 18]\n",
      "[3, 5, 6, 15]\n",
      "         0         1         2         3        4         5         6   \\\n",
      "0  0.110368  0.050167  0.016722  0.013378  0.06689  0.173913  0.060201   \n",
      "\n",
      "         7         8         9        10        11        12        13  \\\n",
      "0  0.020067  0.010033  0.083612  0.16388  0.046823  0.003344  0.010033   \n",
      "\n",
      "         14        15  \n",
      "0  0.063545  0.107023  \n",
      "\n"
     ]
    },
    {
     "name": "stderr",
     "output_type": "stream",
     "text": [
      "C:\\Users\\DAR9KOR\\AppData\\Local\\Continuum\\anaconda3\\lib\\site-packages\\sklearn\\utils\\validation.py:761: DataConversionWarning: A column-vector y was passed when a 1d array was expected. Please change the shape of y to (n_samples, ), for example using ravel().\n",
      "  y = column_or_1d(y, warn=True)\n"
     ]
    },
    {
     "name": "stdout",
     "output_type": "stream",
     "text": [
      "Normalized confusion matrix\n",
      "[[0.86 0.14]\n",
      " [0.06 0.94]]\n"
     ]
    },
    {
     "data": {
      "image/png": "[encoded data removed]",
      "text/plain": [
       "<Figure size 432x288 with 2 Axes>"
      ]
     },
     "metadata": {},
     "output_type": "display_data"
    },
    {
     "name": "stdout",
     "output_type": "stream",
     "text": [
      "              precision    recall  f1-score   support\n",
      "\n",
      "           0       0.98      0.86      0.92     15819\n",
      "           1       0.62      0.94      0.75      3832\n",
      "\n",
      "   micro avg       0.87      0.87      0.87     19651\n",
      "   macro avg       0.80      0.90      0.83     19651\n",
      "weighted avg       0.91      0.87      0.88     19651\n",
      "\n",
      "2019-04-05 23:44:07\n",
      "\n",
      "\n",
      "Iteration: 2\n",
      "[ 0 13  9 14 16  4 10  6 17 18  2  7 12  8 11  1]\n",
      "[3, 5, 15, 19]\n",
      "         0         1         2         3        4         5         6   \\\n",
      "0  0.110368  0.050167  0.016722  0.013378  0.06689  0.173913  0.060201   \n",
      "\n",
      "         7         8         9        10        11        12        13  \\\n",
      "0  0.020067  0.010033  0.083612  0.16388  0.046823  0.003344  0.010033   \n",
      "\n",
      "         14        15  \n",
      "0  0.063545  0.107023  \n",
      "\n"
     ]
    },
    {
     "name": "stderr",
     "output_type": "stream",
     "text": [
      "C:\\Users\\DAR9KOR\\AppData\\Local\\Continuum\\anaconda3\\lib\\site-packages\\sklearn\\utils\\validation.py:761: DataConversionWarning: A column-vector y was passed when a 1d array was expected. Please change the shape of y to (n_samples, ), for example using ravel().\n",
      "  y = column_or_1d(y, warn=True)\n"
     ]
    },
    {
     "name": "stdout",
     "output_type": "stream",
     "text": [
      "Normalized confusion matrix\n",
      "[[0.78 0.22]\n",
      " [0.05 0.95]]\n"
     ]
    },
    {
     "data": {
      "image/png": "[encoded data removed]",
      "text/plain": [
       "<Figure size 432x288 with 2 Axes>"
      ]
     },
     "metadata": {},
     "output_type": "display_data"
    },
    {
     "name": "stdout",
     "output_type": "stream",
     "text": [
      "              precision    recall  f1-score   support\n",
      "\n",
      "           0       0.98      0.78      0.87     14877\n",
      "           1       0.56      0.95      0.71      4319\n",
      "\n",
      "   micro avg       0.82      0.82      0.82     19196\n",
      "   macro avg       0.77      0.87      0.79     19196\n",
      "weighted avg       0.89      0.82      0.83     19196\n",
      "\n",
      "2019-04-05 23:49:43\n",
      "\n",
      "\n",
      "Iteration: 3\n",
      "[ 0  1 15 19  7 11  5  6 12 16 17 10  3  4  9 18]\n",
      "[2, 8, 13, 14]\n",
      "         0         1         2         3        4         5         6   \\\n",
      "0  0.110368  0.050167  0.016722  0.013378  0.06689  0.173913  0.060201   \n",
      "\n",
      "         7         8         9        10        11        12        13  \\\n",
      "0  0.020067  0.010033  0.083612  0.16388  0.046823  0.003344  0.010033   \n",
      "\n",
      "         14        15  \n",
      "0  0.063545  0.107023  \n",
      "\n"
     ]
    },
    {
     "name": "stderr",
     "output_type": "stream",
     "text": [
      "C:\\Users\\DAR9KOR\\AppData\\Local\\Continuum\\anaconda3\\lib\\site-packages\\sklearn\\utils\\validation.py:761: DataConversionWarning: A column-vector y was passed when a 1d array was expected. Please change the shape of y to (n_samples, ), for example using ravel().\n",
      "  y = column_or_1d(y, warn=True)\n"
     ]
    },
    {
     "name": "stdout",
     "output_type": "stream",
     "text": [
      "Normalized confusion matrix\n",
      "[[0.86 0.14]\n",
      " [0.11 0.89]]\n"
     ]
    },
    {
     "data": {
      "image/png": "[encoded data removed]",
      "text/plain": [
       "<Figure size 432x288 with 2 Axes>"
      ]
     },
     "metadata": {},
     "output_type": "display_data"
    },
    {
     "name": "stdout",
     "output_type": "stream",
     "text": [
      "              precision    recall  f1-score   support\n",
      "\n",
      "           0       0.97      0.86      0.91     13370\n",
      "           1       0.61      0.89      0.72      3323\n",
      "\n",
      "   micro avg       0.86      0.86      0.86     16693\n",
      "   macro avg       0.79      0.87      0.81     16693\n",
      "weighted avg       0.90      0.86      0.87     16693\n",
      "\n",
      "2019-04-05 23:55:36\n",
      "\n",
      "\n",
      "Iteration: 4\n",
      "[ 5 19 16  9 17 13  7 10  4  6  1 11  3  8  0 14]\n",
      "[2, 12, 15, 18]\n",
      "         0         1         2         3        4         5         6   \\\n",
      "0  0.110368  0.050167  0.016722  0.013378  0.06689  0.173913  0.060201   \n",
      "\n",
      "         7         8         9        10        11        12        13  \\\n",
      "0  0.020067  0.010033  0.083612  0.16388  0.046823  0.003344  0.010033   \n",
      "\n",
      "         14        15  \n",
      "0  0.063545  0.107023  \n",
      "\n"
     ]
    },
    {
     "name": "stderr",
     "output_type": "stream",
     "text": [
      "C:\\Users\\DAR9KOR\\AppData\\Local\\Continuum\\anaconda3\\lib\\site-packages\\sklearn\\utils\\validation.py:761: DataConversionWarning: A column-vector y was passed when a 1d array was expected. Please change the shape of y to (n_samples, ), for example using ravel().\n",
      "  y = column_or_1d(y, warn=True)\n"
     ]
    },
    {
     "name": "stdout",
     "output_type": "stream",
     "text": [
      "Normalized confusion matrix\n",
      "[[0.9  0.1 ]\n",
      " [0.14 0.86]]\n"
     ]
    },
    {
     "data": {
      "image/png": "[encoded data removed]",
      "text/plain": [
       "<Figure size 432x288 with 2 Axes>"
      ]
     },
     "metadata": {},
     "output_type": "display_data"
    },
    {
     "name": "stdout",
     "output_type": "stream",
     "text": [
      "              precision    recall  f1-score   support\n",
      "\n",
      "           0       0.96      0.90      0.93     15245\n",
      "           1       0.68      0.86      0.76      3882\n",
      "\n",
      "   micro avg       0.89      0.89      0.89     19127\n",
      "   macro avg       0.82      0.88      0.85     19127\n",
      "weighted avg       0.91      0.89      0.90     19127\n",
      "\n",
      "2019-04-06 00:01:19\n",
      "\n",
      "\n",
      "Iteration: 5\n",
      "[ 3  5  2 15 10  7 17  4  1  6 13 16 11  8 14 19]\n",
      "[0, 9, 12, 18]\n",
      "         0         1         2         3         4         5         6    7   \\\n",
      "0  0.073579  0.020067  0.010033  0.020067  0.033445  0.301003  0.073579  0.0   \n",
      "\n",
      "         8         9         10        11        12        13        14  \\\n",
      "0  0.010033  0.080268  0.197324  0.026756  0.006689  0.006689  0.036789   \n",
      "\n",
      "         15  \n",
      "0  0.103679  \n",
      "\n"
     ]
    },
    {
     "name": "stderr",
     "output_type": "stream",
     "text": [
      "C:\\Users\\DAR9KOR\\AppData\\Local\\Continuum\\anaconda3\\lib\\site-packages\\sklearn\\utils\\validation.py:761: DataConversionWarning: A column-vector y was passed when a 1d array was expected. Please change the shape of y to (n_samples, ), for example using ravel().\n",
      "  y = column_or_1d(y, warn=True)\n"
     ]
    },
    {
     "name": "stdout",
     "output_type": "stream",
     "text": [
      "Normalized confusion matrix\n",
      "[[0.88 0.12]\n",
      " [0.11 0.89]]\n"
     ]
    },
    {
     "data": {
      "image/png": "[encoded data removed]",
      "text/plain": [
       "<Figure size 432x288 with 2 Axes>"
      ]
     },
     "metadata": {},
     "output_type": "display_data"
    },
    {
     "name": "stdout",
     "output_type": "stream",
     "text": [
      "              precision    recall  f1-score   support\n",
      "\n",
      "           0       0.97      0.88      0.92     14427\n",
      "           1       0.65      0.89      0.75      3690\n",
      "\n",
      "   micro avg       0.88      0.88      0.88     18117\n",
      "   macro avg       0.81      0.88      0.83     18117\n",
      "weighted avg       0.90      0.88      0.89     18117\n",
      "\n",
      "2019-04-06 00:07:13\n",
      "\n",
      "\n",
      "Iteration: 6\n",
      "[11  7 16 10  0  3 12 19  6  5 15 17 14 18  1  9]\n",
      "[2, 4, 8, 13]\n",
      "         0         1         2         3        4         5         6   \\\n",
      "0  0.110368  0.050167  0.016722  0.013378  0.06689  0.173913  0.060201   \n",
      "\n",
      "         7         8         9        10        11        12        13  \\\n",
      "0  0.020067  0.010033  0.083612  0.16388  0.046823  0.003344  0.010033   \n",
      "\n",
      "         14        15  \n",
      "0  0.063545  0.107023  \n",
      "\n"
     ]
    },
    {
     "name": "stderr",
     "output_type": "stream",
     "text": [
      "C:\\Users\\DAR9KOR\\AppData\\Local\\Continuum\\anaconda3\\lib\\site-packages\\sklearn\\utils\\validation.py:761: DataConversionWarning: A column-vector y was passed when a 1d array was expected. Please change the shape of y to (n_samples, ), for example using ravel().\n",
      "  y = column_or_1d(y, warn=True)\n"
     ]
    },
    {
     "name": "stdout",
     "output_type": "stream",
     "text": [
      "Normalized confusion matrix\n",
      "[[0.9  0.1 ]\n",
      " [0.14 0.86]]\n"
     ]
    },
    {
     "data": {
      "image/png": "[encoded data removed]",
      "text/plain": [
       "<Figure size 432x288 with 2 Axes>"
      ]
     },
     "metadata": {},
     "output_type": "display_data"
    },
    {
     "name": "stdout",
     "output_type": "stream",
     "text": [
      "              precision    recall  f1-score   support\n",
      "\n",
      "           0       0.95      0.90      0.93     12735\n",
      "           1       0.72      0.86      0.78      3914\n",
      "\n",
      "   micro avg       0.89      0.89      0.89     16649\n",
      "   macro avg       0.84      0.88      0.85     16649\n",
      "weighted avg       0.90      0.89      0.89     16649\n",
      "\n",
      "2019-04-06 00:13:02\n",
      "\n",
      "\n",
      "Iteration: 7\n",
      "[19  5  2 14  6  4 12 17  0 11 18 13  8 16  3 10]\n",
      "[1, 7, 9, 15]\n",
      "         0         1         2         3        4         5         6   \\\n",
      "0  0.110368  0.050167  0.016722  0.013378  0.06689  0.173913  0.060201   \n",
      "\n",
      "         7         8         9        10        11        12        13  \\\n",
      "0  0.020067  0.010033  0.083612  0.16388  0.046823  0.003344  0.010033   \n",
      "\n",
      "         14        15  \n",
      "0  0.063545  0.107023  \n",
      "\n"
     ]
    },
    {
     "name": "stderr",
     "output_type": "stream",
     "text": [
      "C:\\Users\\DAR9KOR\\AppData\\Local\\Continuum\\anaconda3\\lib\\site-packages\\sklearn\\utils\\validation.py:761: DataConversionWarning: A column-vector y was passed when a 1d array was expected. Please change the shape of y to (n_samples, ), for example using ravel().\n",
      "  y = column_or_1d(y, warn=True)\n"
     ]
    },
    {
     "name": "stdout",
     "output_type": "stream",
     "text": [
      "Normalized confusion matrix\n",
      "[[0.89 0.11]\n",
      " [0.12 0.88]]\n"
     ]
    },
    {
     "data": {
      "image/png": "[encoded data removed]",
      "text/plain": [
       "<Figure size 432x288 with 2 Axes>"
      ]
     },
     "metadata": {},
     "output_type": "display_data"
    },
    {
     "name": "stdout",
     "output_type": "stream",
     "text": [
      "              precision    recall  f1-score   support\n",
      "\n",
      "           0       0.96      0.89      0.92     14100\n",
      "           1       0.72      0.88      0.79      4444\n",
      "\n",
      "   micro avg       0.89      0.89      0.89     18544\n",
      "   macro avg       0.84      0.89      0.86     18544\n",
      "weighted avg       0.90      0.89      0.89     18544\n",
      "\n",
      "2019-04-06 00:18:49\n",
      "\n",
      "\n",
      "Iteration: 8\n",
      "[ 6  7 12 18  0  5 17  1  4  9  2 16 11 15 13  3]\n",
      "[8, 10, 14, 19]\n",
      "         0         1         2         3        4         5         6   \\\n",
      "0  0.110368  0.050167  0.016722  0.013378  0.06689  0.173913  0.060201   \n",
      "\n",
      "         7         8         9        10        11        12        13  \\\n",
      "0  0.020067  0.010033  0.083612  0.16388  0.046823  0.003344  0.010033   \n",
      "\n",
      "         14        15  \n",
      "0  0.063545  0.107023  \n",
      "\n"
     ]
    },
    {
     "name": "stderr",
     "output_type": "stream",
     "text": [
      "C:\\Users\\DAR9KOR\\AppData\\Local\\Continuum\\anaconda3\\lib\\site-packages\\sklearn\\utils\\validation.py:761: DataConversionWarning: A column-vector y was passed when a 1d array was expected. Please change the shape of y to (n_samples, ), for example using ravel().\n",
      "  y = column_or_1d(y, warn=True)\n"
     ]
    },
    {
     "name": "stdout",
     "output_type": "stream",
     "text": [
      "Normalized confusion matrix\n",
      "[[0.79 0.21]\n",
      " [0.05 0.95]]\n"
     ]
    },
    {
     "data": {
      "image/png": "[encoded data removed]",
      "text/plain": [
       "<Figure size 432x288 with 2 Axes>"
      ]
     },
     "metadata": {},
     "output_type": "display_data"
    },
    {
     "name": "stdout",
     "output_type": "stream",
     "text": [
      "              precision    recall  f1-score   support\n",
      "\n",
      "           0       0.98      0.79      0.87     14464\n",
      "           1       0.58      0.95      0.72      4461\n",
      "\n",
      "   micro avg       0.83      0.83      0.83     18925\n",
      "   macro avg       0.78      0.87      0.80     18925\n",
      "weighted avg       0.89      0.83      0.84     18925\n",
      "\n",
      "2019-04-06 00:24:25\n",
      "\n",
      "\n",
      "Iteration: 9\n",
      "[13 10 11 16  7  9 14  1  5 17  6  0  2  8  4 12]\n",
      "[3, 15, 18, 19]\n",
      "         0         1         2         3        4         5         6   \\\n",
      "0  0.110368  0.050167  0.016722  0.013378  0.06689  0.173913  0.060201   \n",
      "\n",
      "         7         8         9        10        11        12        13  \\\n",
      "0  0.020067  0.010033  0.083612  0.16388  0.046823  0.003344  0.010033   \n",
      "\n",
      "         14        15  \n",
      "0  0.063545  0.107023  \n",
      "\n"
     ]
    },
    {
     "name": "stderr",
     "output_type": "stream",
     "text": [
      "C:\\Users\\DAR9KOR\\AppData\\Local\\Continuum\\anaconda3\\lib\\site-packages\\sklearn\\utils\\validation.py:761: DataConversionWarning: A column-vector y was passed when a 1d array was expected. Please change the shape of y to (n_samples, ), for example using ravel().\n",
      "  y = column_or_1d(y, warn=True)\n"
     ]
    },
    {
     "name": "stdout",
     "output_type": "stream",
     "text": [
      "Normalized confusion matrix\n",
      "[[0.82 0.18]\n",
      " [0.06 0.94]]\n"
     ]
    },
    {
     "data": {
      "image/png": "[encoded data removed]",
      "text/plain": [
       "<Figure size 432x288 with 2 Axes>"
      ]
     },
     "metadata": {},
     "output_type": "display_data"
    },
    {
     "name": "stdout",
     "output_type": "stream",
     "text": [
      "              precision    recall  f1-score   support\n",
      "\n",
      "           0       0.98      0.82      0.89     14838\n",
      "           1       0.59      0.94      0.73      4186\n",
      "\n",
      "   micro avg       0.85      0.85      0.85     19024\n",
      "   macro avg       0.79      0.88      0.81     19024\n",
      "weighted avg       0.89      0.85      0.86     19024\n",
      "\n",
      "2019-04-06 00:30:04\n",
      "\n",
      "   sensitivity  specificity  accuracy\n",
      "0     0.910314     0.897251  0.899647\n",
      "1     0.941023     0.858398  0.874510\n",
      "2     0.954851     0.781139  0.820223\n",
      "3     0.885044     0.856470  0.862158\n",
      "4     0.863215     0.898459  0.891305\n",
      "5     0.887534     0.876274  0.878567\n",
      "6     0.856924     0.898861  0.889002\n",
      "7     0.880738     0.891631  0.889021\n",
      "8     0.947770     0.788440  0.825997\n",
      "9     0.940755     0.818304  0.845248\n",
      "avg sensitivity: 0.9068166266584958\n",
      "avg specificity: 0.8565227305620622\n",
      "avg accuracy: 0.8675679522122344\n"
     ]
    }
   ],
   "source": [
    "## do multiple iterations\n",
    "sensitivity = []\n",
    "specificity = []\n",
    "accuracy = []\n",
    "print(datetime.now().strftime('%Y-%m-%d %H:%M:%S'))\n",
    "\n",
    "for i in range(10):\n",
    "    print('')    \n",
    "    print(\"Iteration: \" + str(i))\n",
    "    \n",
    "    Train, Test = CreateTrainTestID(dfull)\n",
    "    X_train1, y_train1, X_test, y_test = createXYsets(Train,Test)\n",
    "    print('')\n",
    "    \n",
    "    ### data scaling ###\n",
    "    scaler = StandardScaler().fit(X_train1)  # StandardScaler();  MinMaxScaler()\n",
    "    X_train_scaled = scaler.transform(X_train1)    # fit_transform(X_train1)\n",
    "    X_test_scaled = scaler.transform(X_test)\n",
    "    \n",
    "    ## model fitting\n",
    "    model_svc = SVC(class_weight='balanced')  # probability=True\n",
    "    model_svc.fit(X_train_scaled, y_train1)\n",
    "    \n",
    "    \n",
    "    ## predict on test data - check metrics\n",
    "    y_pred = model_svc.predict(X_test_scaled)\n",
    "    \n",
    "    \n",
    "    #####    Compute confusion matrix     ####\n",
    "    class_names = ['0','1'] #['wake','sleep_stage_1','sleep_stage_2']  # wake, SS1, SS2  ; # '0','1','2'\n",
    "    cnf_matrix = confusion_matrix(y_test, y_pred)\n",
    "    np.set_printoptions(precision=2)\n",
    "    #print(cnf_matrix)\n",
    "    # Plot normalized confusion matrix : normalisation shows nan for class'0' no signal has class=0 as true label\n",
    "    plt.figure()\n",
    "    plot_confusion_matrix(cnf_matrix, classes=class_names, normalize=True, title='Normalized confusion matrix')\n",
    "    plt.show()\n",
    "    \n",
    "    ## print metrics\n",
    "    print(classification_report(y_test, y_pred, target_names=class_names))\n",
    "    #print('accuracy: ' + str(accuracy_score(y_test,y_pred)))\n",
    "    p = precision_recall_fscore_support(y_test,y_pred)\n",
    "    #sen = p[1][1]\n",
    "    #spec = p[1][0]\n",
    "    #print('sen: ' + str(sen) +' , spec: ' + str(spec))\n",
    "    sensitivity.append(p[1][1])\n",
    "    specificity.append(p[1][0])\n",
    "    accuracy.append(accuracy_score(y_test,y_pred))\n",
    "    \n",
    "    print(datetime.now().strftime('%Y-%m-%d %H:%M:%S'))\n",
    "    print('')\n",
    "\n",
    "sensitivity = pd.DataFrame(sensitivity)\n",
    "specificity = pd.DataFrame(specificity)\n",
    "accuracy = pd.DataFrame(accuracy)\n",
    "metrics = pd.concat([sensitivity, specificity, accuracy], axis=1)\n",
    "metrics.columns = ['sensitivity', 'specificity', 'accuracy']\n",
    "print(metrics)\n",
    "print('avg sensitivity: ' + str(metrics.sensitivity.mean()))\n",
    "print('avg specificity: ' + str(metrics.specificity.mean()))\n",
    "print('avg accuracy: ' + str(metrics.accuracy.mean()))    "
   ]
  },
  {
   "cell_type": "code",
   "execution_count": null,
   "metadata": {},
   "outputs": [],
   "source": []
  },
  {
   "cell_type": "code",
   "execution_count": 7,
   "metadata": {},
   "outputs": [
    {
     "name": "stdout",
     "output_type": "stream",
     "text": [
      "2019-04-06 10:51:59\n",
      "TRAIN: ['401' '402' '403' '404' '405' '406' '407' '408' '409' '410' '411' '412'\n",
      " '413' '414' '415' '416' '418' '419'] TEST: ['400' '417']\n"
     ]
    },
    {
     "name": "stderr",
     "output_type": "stream",
     "text": [
      "C:\\Users\\DAR9KOR\\AppData\\Local\\Continuum\\anaconda3\\lib\\site-packages\\sklearn\\preprocessing\\data.py:645: DataConversionWarning: Data with input dtype float64, object were all converted to float64 by StandardScaler.\n",
      "  return self.partial_fit(X, y)\n",
      "C:\\Users\\DAR9KOR\\AppData\\Local\\Continuum\\anaconda3\\lib\\site-packages\\ipykernel_launcher.py:38: DataConversionWarning: Data with input dtype float64, object were all converted to float64 by StandardScaler.\n",
      "C:\\Users\\DAR9KOR\\AppData\\Local\\Continuum\\anaconda3\\lib\\site-packages\\ipykernel_launcher.py:39: DataConversionWarning: Data with input dtype float64, object were all converted to float64 by StandardScaler.\n",
      "C:\\Users\\DAR9KOR\\AppData\\Local\\Continuum\\anaconda3\\lib\\site-packages\\sklearn\\utils\\validation.py:761: DataConversionWarning: A column-vector y was passed when a 1d array was expected. Please change the shape of y to (n_samples, ), for example using ravel().\n",
      "  y = column_or_1d(y, warn=True)\n"
     ]
    },
    {
     "name": "stdout",
     "output_type": "stream",
     "text": [
      "Normalized confusion matrix\n",
      "[[0.57 0.43]\n",
      " [0.02 0.98]]\n"
     ]
    },
    {
     "data": {
      "image/png": "[encoded data removed]",
      "text/plain": [
       "<Figure size 432x288 with 2 Axes>"
      ]
     },
     "metadata": {},
     "output_type": "display_data"
    },
    {
     "name": "stdout",
     "output_type": "stream",
     "text": [
      "              precision    recall  f1-score   support\n",
      "\n",
      "           0       0.99      0.57      0.72      7433\n",
      "           1       0.36      0.98      0.52      1820\n",
      "\n",
      "   micro avg       0.65      0.65      0.65      9253\n",
      "   macro avg       0.67      0.77      0.62      9253\n",
      "weighted avg       0.87      0.65      0.68      9253\n",
      "\n",
      "2019-04-06 10:55:57\n",
      "\n",
      "TRAIN: ['400' '402' '403' '404' '405' '406' '407' '408' '409' '410' '411' '412'\n",
      " '413' '414' '416' '417' '418' '419'] TEST: ['401' '415']\n"
     ]
    },
    {
     "name": "stderr",
     "output_type": "stream",
     "text": [
      "C:\\Users\\DAR9KOR\\AppData\\Local\\Continuum\\anaconda3\\lib\\site-packages\\sklearn\\preprocessing\\data.py:645: DataConversionWarning: Data with input dtype float64, object were all converted to float64 by StandardScaler.\n",
      "  return self.partial_fit(X, y)\n",
      "C:\\Users\\DAR9KOR\\AppData\\Local\\Continuum\\anaconda3\\lib\\site-packages\\ipykernel_launcher.py:38: DataConversionWarning: Data with input dtype float64, object were all converted to float64 by StandardScaler.\n",
      "C:\\Users\\DAR9KOR\\AppData\\Local\\Continuum\\anaconda3\\lib\\site-packages\\ipykernel_launcher.py:39: DataConversionWarning: Data with input dtype float64, object were all converted to float64 by StandardScaler.\n",
      "C:\\Users\\DAR9KOR\\AppData\\Local\\Continuum\\anaconda3\\lib\\site-packages\\sklearn\\utils\\validation.py:761: DataConversionWarning: A column-vector y was passed when a 1d array was expected. Please change the shape of y to (n_samples, ), for example using ravel().\n",
      "  y = column_or_1d(y, warn=True)\n"
     ]
    },
    {
     "name": "stdout",
     "output_type": "stream",
     "text": [
      "Normalized confusion matrix\n",
      "[[0.88 0.12]\n",
      " [0.08 0.92]]\n"
     ]
    },
    {
     "data": {
      "image/png": "[encoded data removed]",
      "text/plain": [
       "<Figure size 432x288 with 2 Axes>"
      ]
     },
     "metadata": {},
     "output_type": "display_data"
    },
    {
     "name": "stdout",
     "output_type": "stream",
     "text": [
      "              precision    recall  f1-score   support\n",
      "\n",
      "           0       0.97      0.88      0.92      7420\n",
      "           1       0.70      0.92      0.80      2303\n",
      "\n",
      "   micro avg       0.89      0.89      0.89      9723\n",
      "   macro avg       0.84      0.90      0.86      9723\n",
      "weighted avg       0.91      0.89      0.89      9723\n",
      "\n",
      "2019-04-06 11:00:34\n",
      "\n",
      "TRAIN: ['400' '401' '402' '403' '404' '406' '407' '409' '410' '411' '412' '413'\n",
      " '414' '415' '416' '417' '418' '419'] TEST: ['405' '408']\n"
     ]
    },
    {
     "name": "stderr",
     "output_type": "stream",
     "text": [
      "C:\\Users\\DAR9KOR\\AppData\\Local\\Continuum\\anaconda3\\lib\\site-packages\\sklearn\\preprocessing\\data.py:645: DataConversionWarning: Data with input dtype float64, object were all converted to float64 by StandardScaler.\n",
      "  return self.partial_fit(X, y)\n",
      "C:\\Users\\DAR9KOR\\AppData\\Local\\Continuum\\anaconda3\\lib\\site-packages\\ipykernel_launcher.py:38: DataConversionWarning: Data with input dtype float64, object were all converted to float64 by StandardScaler.\n",
      "C:\\Users\\DAR9KOR\\AppData\\Local\\Continuum\\anaconda3\\lib\\site-packages\\ipykernel_launcher.py:39: DataConversionWarning: Data with input dtype float64, object were all converted to float64 by StandardScaler.\n",
      "C:\\Users\\DAR9KOR\\AppData\\Local\\Continuum\\anaconda3\\lib\\site-packages\\sklearn\\utils\\validation.py:761: DataConversionWarning: A column-vector y was passed when a 1d array was expected. Please change the shape of y to (n_samples, ), for example using ravel().\n",
      "  y = column_or_1d(y, warn=True)\n"
     ]
    },
    {
     "name": "stdout",
     "output_type": "stream",
     "text": [
      "Normalized confusion matrix\n",
      "[[0.86 0.14]\n",
      " [0.07 0.93]]\n"
     ]
    },
    {
     "data": {
      "image/png": "[encoded data removed]",
      "text/plain": [
       "<Figure size 432x288 with 2 Axes>"
      ]
     },
     "metadata": {},
     "output_type": "display_data"
    },
    {
     "name": "stdout",
     "output_type": "stream",
     "text": [
      "              precision    recall  f1-score   support\n",
      "\n",
      "           0       0.98      0.86      0.92      7747\n",
      "           1       0.60      0.93      0.72      1689\n",
      "\n",
      "   micro avg       0.87      0.87      0.87      9436\n",
      "   macro avg       0.79      0.89      0.82      9436\n",
      "weighted avg       0.91      0.87      0.88      9436\n",
      "\n",
      "2019-04-06 11:05:02\n",
      "\n",
      "TRAIN: ['400' '401' '402' '404' '405' '406' '407' '408' '409' '410' '412' '413'\n",
      " '414' '415' '416' '417' '418' '419'] TEST: ['403' '411']\n"
     ]
    },
    {
     "name": "stderr",
     "output_type": "stream",
     "text": [
      "C:\\Users\\DAR9KOR\\AppData\\Local\\Continuum\\anaconda3\\lib\\site-packages\\sklearn\\preprocessing\\data.py:645: DataConversionWarning: Data with input dtype float64, object were all converted to float64 by StandardScaler.\n",
      "  return self.partial_fit(X, y)\n",
      "C:\\Users\\DAR9KOR\\AppData\\Local\\Continuum\\anaconda3\\lib\\site-packages\\ipykernel_launcher.py:38: DataConversionWarning: Data with input dtype float64, object were all converted to float64 by StandardScaler.\n",
      "C:\\Users\\DAR9KOR\\AppData\\Local\\Continuum\\anaconda3\\lib\\site-packages\\ipykernel_launcher.py:39: DataConversionWarning: Data with input dtype float64, object were all converted to float64 by StandardScaler.\n",
      "C:\\Users\\DAR9KOR\\AppData\\Local\\Continuum\\anaconda3\\lib\\site-packages\\sklearn\\utils\\validation.py:761: DataConversionWarning: A column-vector y was passed when a 1d array was expected. Please change the shape of y to (n_samples, ), for example using ravel().\n",
      "  y = column_or_1d(y, warn=True)\n"
     ]
    },
    {
     "name": "stdout",
     "output_type": "stream",
     "text": [
      "Normalized confusion matrix\n",
      "[[0.82 0.18]\n",
      " [0.25 0.75]]\n"
     ]
    },
    {
     "data": {
      "image/png": "[encoded data removed]",
      "text/plain": [
       "<Figure size 432x288 with 2 Axes>"
      ]
     },
     "metadata": {},
     "output_type": "display_data"
    },
    {
     "name": "stdout",
     "output_type": "stream",
     "text": [
      "              precision    recall  f1-score   support\n",
      "\n",
      "           0       0.93      0.82      0.87      7908\n",
      "           1       0.51      0.75      0.60      1920\n",
      "\n",
      "   micro avg       0.81      0.81      0.81      9828\n",
      "   macro avg       0.72      0.79      0.74      9828\n",
      "weighted avg       0.85      0.81      0.82      9828\n",
      "\n",
      "2019-04-06 11:09:29\n",
      "\n",
      "TRAIN: ['400' '401' '402' '403' '404' '405' '406' '407' '408' '409' '410' '411'\n",
      " '412' '413' '414' '415' '417' '419'] TEST: ['416' '418']\n"
     ]
    },
    {
     "name": "stderr",
     "output_type": "stream",
     "text": [
      "C:\\Users\\DAR9KOR\\AppData\\Local\\Continuum\\anaconda3\\lib\\site-packages\\sklearn\\preprocessing\\data.py:645: DataConversionWarning: Data with input dtype float64, object were all converted to float64 by StandardScaler.\n",
      "  return self.partial_fit(X, y)\n",
      "C:\\Users\\DAR9KOR\\AppData\\Local\\Continuum\\anaconda3\\lib\\site-packages\\ipykernel_launcher.py:38: DataConversionWarning: Data with input dtype float64, object were all converted to float64 by StandardScaler.\n",
      "C:\\Users\\DAR9KOR\\AppData\\Local\\Continuum\\anaconda3\\lib\\site-packages\\ipykernel_launcher.py:39: DataConversionWarning: Data with input dtype float64, object were all converted to float64 by StandardScaler.\n",
      "C:\\Users\\DAR9KOR\\AppData\\Local\\Continuum\\anaconda3\\lib\\site-packages\\sklearn\\utils\\validation.py:761: DataConversionWarning: A column-vector y was passed when a 1d array was expected. Please change the shape of y to (n_samples, ), for example using ravel().\n",
      "  y = column_or_1d(y, warn=True)\n"
     ]
    },
    {
     "name": "stdout",
     "output_type": "stream",
     "text": [
      "Normalized confusion matrix\n",
      "[[0.96 0.04]\n",
      " [0.24 0.76]]\n"
     ]
    },
    {
     "data": {
      "image/png": "[encoded data removed]",
      "text/plain": [
       "<Figure size 432x288 with 2 Axes>"
      ]
     },
     "metadata": {},
     "output_type": "display_data"
    },
    {
     "name": "stdout",
     "output_type": "stream",
     "text": [
      "              precision    recall  f1-score   support\n",
      "\n",
      "           0       0.94      0.96      0.95      7618\n",
      "           1       0.81      0.76      0.79      1862\n",
      "\n",
      "   micro avg       0.92      0.92      0.92      9480\n",
      "   macro avg       0.88      0.86      0.87      9480\n",
      "weighted avg       0.92      0.92      0.92      9480\n",
      "\n",
      "2019-04-06 11:13:55\n",
      "\n",
      "TRAIN: ['400' '401' '403' '404' '405' '406' '407' '408' '409' '410' '411' '412'\n",
      " '414' '415' '416' '417' '418' '419'] TEST: ['402' '413']\n"
     ]
    },
    {
     "name": "stderr",
     "output_type": "stream",
     "text": [
      "C:\\Users\\DAR9KOR\\AppData\\Local\\Continuum\\anaconda3\\lib\\site-packages\\sklearn\\preprocessing\\data.py:645: DataConversionWarning: Data with input dtype float64, object were all converted to float64 by StandardScaler.\n",
      "  return self.partial_fit(X, y)\n",
      "C:\\Users\\DAR9KOR\\AppData\\Local\\Continuum\\anaconda3\\lib\\site-packages\\ipykernel_launcher.py:38: DataConversionWarning: Data with input dtype float64, object were all converted to float64 by StandardScaler.\n",
      "C:\\Users\\DAR9KOR\\AppData\\Local\\Continuum\\anaconda3\\lib\\site-packages\\ipykernel_launcher.py:39: DataConversionWarning: Data with input dtype float64, object were all converted to float64 by StandardScaler.\n",
      "C:\\Users\\DAR9KOR\\AppData\\Local\\Continuum\\anaconda3\\lib\\site-packages\\sklearn\\utils\\validation.py:761: DataConversionWarning: A column-vector y was passed when a 1d array was expected. Please change the shape of y to (n_samples, ), for example using ravel().\n",
      "  y = column_or_1d(y, warn=True)\n"
     ]
    },
    {
     "name": "stdout",
     "output_type": "stream",
     "text": [
      "Normalized confusion matrix\n",
      "[[0.92 0.08]\n",
      " [0.17 0.83]]\n"
     ]
    },
    {
     "data": {
      "image/png": "[encoded data removed]",
      "text/plain": [
       "<Figure size 432x288 with 2 Axes>"
      ]
     },
     "metadata": {},
     "output_type": "display_data"
    },
    {
     "name": "stdout",
     "output_type": "stream",
     "text": [
      "              precision    recall  f1-score   support\n",
      "\n",
      "           0       0.95      0.92      0.93      5719\n",
      "           1       0.76      0.83      0.79      1779\n",
      "\n",
      "   micro avg       0.90      0.90      0.90      7498\n",
      "   macro avg       0.85      0.87      0.86      7498\n",
      "weighted avg       0.90      0.90      0.90      7498\n",
      "\n",
      "2019-04-06 11:18:23\n",
      "\n",
      "TRAIN: ['400' '401' '402' '403' '404' '405' '406' '407' '408' '410' '411' '412'\n",
      " '413' '414' '415' '416' '417' '418'] TEST: ['409' '419']\n"
     ]
    },
    {
     "name": "stderr",
     "output_type": "stream",
     "text": [
      "C:\\Users\\DAR9KOR\\AppData\\Local\\Continuum\\anaconda3\\lib\\site-packages\\sklearn\\preprocessing\\data.py:645: DataConversionWarning: Data with input dtype float64, object were all converted to float64 by StandardScaler.\n",
      "  return self.partial_fit(X, y)\n",
      "C:\\Users\\DAR9KOR\\AppData\\Local\\Continuum\\anaconda3\\lib\\site-packages\\ipykernel_launcher.py:38: DataConversionWarning: Data with input dtype float64, object were all converted to float64 by StandardScaler.\n",
      "C:\\Users\\DAR9KOR\\AppData\\Local\\Continuum\\anaconda3\\lib\\site-packages\\ipykernel_launcher.py:39: DataConversionWarning: Data with input dtype float64, object were all converted to float64 by StandardScaler.\n",
      "C:\\Users\\DAR9KOR\\AppData\\Local\\Continuum\\anaconda3\\lib\\site-packages\\sklearn\\utils\\validation.py:761: DataConversionWarning: A column-vector y was passed when a 1d array was expected. Please change the shape of y to (n_samples, ), for example using ravel().\n",
      "  y = column_or_1d(y, warn=True)\n"
     ]
    },
    {
     "name": "stdout",
     "output_type": "stream",
     "text": [
      "Normalized confusion matrix\n",
      "[[0.76 0.24]\n",
      " [0.09 0.91]]\n"
     ]
    },
    {
     "data": {
      "image/png": "[encoded data removed]",
      "text/plain": [
       "<Figure size 432x288 with 2 Axes>"
      ]
     },
     "metadata": {},
     "output_type": "display_data"
    },
    {
     "name": "stdout",
     "output_type": "stream",
     "text": [
      "              precision    recall  f1-score   support\n",
      "\n",
      "           0       0.95      0.76      0.84      5952\n",
      "           1       0.63      0.91      0.74      2630\n",
      "\n",
      "   micro avg       0.81      0.81      0.81      8582\n",
      "   macro avg       0.79      0.83      0.79      8582\n",
      "weighted avg       0.85      0.81      0.81      8582\n",
      "\n",
      "2019-04-06 11:22:42\n",
      "\n",
      "TRAIN: ['400' '401' '402' '403' '405' '406' '407' '408' '409' '410' '411' '413'\n",
      " '414' '415' '416' '417' '418' '419'] TEST: ['404' '412']\n"
     ]
    },
    {
     "name": "stderr",
     "output_type": "stream",
     "text": [
      "C:\\Users\\DAR9KOR\\AppData\\Local\\Continuum\\anaconda3\\lib\\site-packages\\sklearn\\preprocessing\\data.py:645: DataConversionWarning: Data with input dtype float64, object were all converted to float64 by StandardScaler.\n",
      "  return self.partial_fit(X, y)\n",
      "C:\\Users\\DAR9KOR\\AppData\\Local\\Continuum\\anaconda3\\lib\\site-packages\\ipykernel_launcher.py:38: DataConversionWarning: Data with input dtype float64, object were all converted to float64 by StandardScaler.\n",
      "C:\\Users\\DAR9KOR\\AppData\\Local\\Continuum\\anaconda3\\lib\\site-packages\\ipykernel_launcher.py:39: DataConversionWarning: Data with input dtype float64, object were all converted to float64 by StandardScaler.\n",
      "C:\\Users\\DAR9KOR\\AppData\\Local\\Continuum\\anaconda3\\lib\\site-packages\\sklearn\\utils\\validation.py:761: DataConversionWarning: A column-vector y was passed when a 1d array was expected. Please change the shape of y to (n_samples, ), for example using ravel().\n",
      "  y = column_or_1d(y, warn=True)\n"
     ]
    },
    {
     "name": "stdout",
     "output_type": "stream",
     "text": [
      "Normalized confusion matrix\n",
      "[[0.87 0.13]\n",
      " [0.09 0.91]]\n"
     ]
    },
    {
     "data": {
      "image/png": "[encoded data removed]",
      "text/plain": [
       "<Figure size 432x288 with 2 Axes>"
      ]
     },
     "metadata": {},
     "output_type": "display_data"
    },
    {
     "name": "stdout",
     "output_type": "stream",
     "text": [
      "              precision    recall  f1-score   support\n",
      "\n",
      "           0       0.97      0.87      0.92      7035\n",
      "           1       0.70      0.91      0.80      2356\n",
      "\n",
      "   micro avg       0.88      0.88      0.88      9391\n",
      "   macro avg       0.84      0.89      0.86      9391\n",
      "weighted avg       0.90      0.88      0.89      9391\n",
      "\n",
      "2019-04-06 11:27:10\n",
      "\n",
      "TRAIN: ['400' '401' '402' '403' '404' '405' '406' '408' '409' '411' '412' '413'\n",
      " '414' '415' '416' '417' '418' '419'] TEST: ['407' '410']\n"
     ]
    },
    {
     "name": "stderr",
     "output_type": "stream",
     "text": [
      "C:\\Users\\DAR9KOR\\AppData\\Local\\Continuum\\anaconda3\\lib\\site-packages\\sklearn\\preprocessing\\data.py:645: DataConversionWarning: Data with input dtype float64, object were all converted to float64 by StandardScaler.\n",
      "  return self.partial_fit(X, y)\n",
      "C:\\Users\\DAR9KOR\\AppData\\Local\\Continuum\\anaconda3\\lib\\site-packages\\ipykernel_launcher.py:38: DataConversionWarning: Data with input dtype float64, object were all converted to float64 by StandardScaler.\n",
      "C:\\Users\\DAR9KOR\\AppData\\Local\\Continuum\\anaconda3\\lib\\site-packages\\ipykernel_launcher.py:39: DataConversionWarning: Data with input dtype float64, object were all converted to float64 by StandardScaler.\n",
      "C:\\Users\\DAR9KOR\\AppData\\Local\\Continuum\\anaconda3\\lib\\site-packages\\sklearn\\utils\\validation.py:761: DataConversionWarning: A column-vector y was passed when a 1d array was expected. Please change the shape of y to (n_samples, ), for example using ravel().\n",
      "  y = column_or_1d(y, warn=True)\n"
     ]
    },
    {
     "name": "stdout",
     "output_type": "stream",
     "text": [
      "Normalized confusion matrix\n",
      "[[0.93 0.07]\n",
      " [0.11 0.89]]\n"
     ]
    },
    {
     "data": {
      "image/png": "[encoded data removed]",
      "text/plain": [
       "<Figure size 432x288 with 2 Axes>"
      ]
     },
     "metadata": {},
     "output_type": "display_data"
    },
    {
     "name": "stdout",
     "output_type": "stream",
     "text": [
      "              precision    recall  f1-score   support\n",
      "\n",
      "           0       0.96      0.93      0.95      7541\n",
      "           1       0.81      0.89      0.85      2428\n",
      "\n",
      "   micro avg       0.92      0.92      0.92      9969\n",
      "   macro avg       0.89      0.91      0.90      9969\n",
      "weighted avg       0.93      0.92      0.92      9969\n",
      "\n",
      "2019-04-06 14:25:58\n",
      "\n",
      "TRAIN: ['400' '401' '402' '403' '404' '405' '407' '408' '409' '410' '411' '412'\n",
      " '413' '415' '416' '417' '418' '419'] TEST: ['406' '414']\n"
     ]
    },
    {
     "name": "stderr",
     "output_type": "stream",
     "text": [
      "C:\\Users\\DAR9KOR\\AppData\\Local\\Continuum\\anaconda3\\lib\\site-packages\\sklearn\\preprocessing\\data.py:645: DataConversionWarning: Data with input dtype float64, object were all converted to float64 by StandardScaler.\n",
      "  return self.partial_fit(X, y)\n",
      "C:\\Users\\DAR9KOR\\AppData\\Local\\Continuum\\anaconda3\\lib\\site-packages\\ipykernel_launcher.py:38: DataConversionWarning: Data with input dtype float64, object were all converted to float64 by StandardScaler.\n",
      "C:\\Users\\DAR9KOR\\AppData\\Local\\Continuum\\anaconda3\\lib\\site-packages\\ipykernel_launcher.py:39: DataConversionWarning: Data with input dtype float64, object were all converted to float64 by StandardScaler.\n",
      "C:\\Users\\DAR9KOR\\AppData\\Local\\Continuum\\anaconda3\\lib\\site-packages\\sklearn\\utils\\validation.py:761: DataConversionWarning: A column-vector y was passed when a 1d array was expected. Please change the shape of y to (n_samples, ), for example using ravel().\n",
      "  y = column_or_1d(y, warn=True)\n"
     ]
    },
    {
     "name": "stdout",
     "output_type": "stream",
     "text": [
      "Normalized confusion matrix\n",
      "[[0.84 0.16]\n",
      " [0.05 0.95]]\n"
     ]
    },
    {
     "data": {
      "image/png": "[encoded data removed]",
      "text/plain": [
       "<Figure size 432x288 with 2 Axes>"
      ]
     },
     "metadata": {},
     "output_type": "display_data"
    },
    {
     "name": "stdout",
     "output_type": "stream",
     "text": [
      "              precision    recall  f1-score   support\n",
      "\n",
      "           0       0.99      0.84      0.91      8018\n",
      "           1       0.57      0.95      0.72      1816\n",
      "\n",
      "   micro avg       0.86      0.86      0.86      9834\n",
      "   macro avg       0.78      0.90      0.81      9834\n",
      "weighted avg       0.91      0.86      0.87      9834\n",
      "\n",
      "2019-04-06 14:33:22\n",
      "\n",
      "   sensitivity  specificity  accuracy\n",
      "0     0.979670     0.569487  0.650168\n",
      "1     0.923144     0.878167  0.888820\n",
      "2     0.927176     0.862527  0.874099\n",
      "3     0.747396     0.822838  0.808099\n",
      "4     0.762084     0.956944  0.918671\n",
      "5     0.831928     0.917818  0.897439\n",
      "6     0.907605     0.760921  0.805873\n",
      "7     0.913837     0.871215  0.881908\n",
      "8     0.894975     0.931972  0.922961\n",
      "9     0.953194     0.839486  0.860484\n",
      "avg sensitivity: 0.88410082581447\n",
      "avg specificity: 0.8411375573642488\n",
      "avg accuracy: 0.8508522723644031\n"
     ]
    }
   ],
   "source": [
    "from sklearn.model_selection import KFold, cross_validate, cross_val_score\n",
    "pid_tr = dfull['pID'].unique() \n",
    "K = 10\n",
    "kf = KFold(n_splits=K,shuffle=True,random_state=42)\n",
    "dn = dfull\n",
    "sensitivity = []\n",
    "specificity = []\n",
    "accuracy = []\n",
    "print(datetime.now().strftime('%Y-%m-%d %H:%M:%S'))\n",
    "\n",
    "\n",
    "for train_index, test_index in kf.split(pid_tr):\n",
    "    print(\"TRAIN:\", pid_tr[train_index], \"TEST:\", pid_tr[test_index])\n",
    "    \n",
    "    df_test = pd.DataFrame()\n",
    "    df_train = pd.DataFrame()\n",
    "    for pid in train_index:\n",
    "        df_tr = dn[(dn['pID']==pid_tr[pid])]\n",
    "        df_train = pd.concat([df_train,df_tr])\n",
    "    for pid in test_index:\n",
    "        df_ts = dn[(dn['pID']==pid_tr[pid])]\n",
    "        df_test = pd.concat([df_test,df_ts], ignore_index = True)\n",
    "    \n",
    "    X_train = df_train.drop([   'pID',  'epoch','class_label', 'class2'],1).reset_index()\n",
    "    X_train = X_train.drop(['index'],1)\n",
    "        \n",
    "    y_train = df_train['class2'].reset_index()\n",
    "    y_train = y_train.drop(['index'],1)\n",
    "    \n",
    "    X_test = df_test.drop([   'pID',  'epoch','class_label', 'class2'],1).reset_index()\n",
    "    X_test = X_test.drop(['index'],1)\n",
    "    \n",
    "    y_test = df_test[['class2']].reset_index()\n",
    "    y_test = y_test.drop(['index'],1)\n",
    "    \n",
    "    ### data scaling ###\n",
    "    scaler = StandardScaler().fit(X_train)  # StandardScaler();  MinMaxScaler()\n",
    "    X_train_scaled = scaler.transform(X_train)    # fit_transform(X_train1)\n",
    "    X_test_scaled = scaler.transform(X_test)\n",
    "    \n",
    "    ## model fitting\n",
    "    model_svc = SVC(class_weight='balanced')  # probability=True\n",
    "    model_svc.fit(X_train_scaled, y_train)\n",
    "    \n",
    "    \n",
    "    ## predict on test data - check metrics\n",
    "    y_pred = model_svc.predict(X_test_scaled)\n",
    "    \n",
    "    \n",
    "    #####    Compute confusion matrix     ####\n",
    "    class_names = ['0','1'] #['wake','sleep_stage_1','sleep_stage_2']  # wake, SS1, SS2  ; # '0','1','2'\n",
    "    cnf_matrix = confusion_matrix(y_test, y_pred)\n",
    "    np.set_printoptions(precision=2)\n",
    "    #print(cnf_matrix)\n",
    "    # Plot normalized confusion matrix : normalisation shows nan for class'0' no signal has class=0 as true label\n",
    "    plt.figure()\n",
    "    plot_confusion_matrix(cnf_matrix, classes=class_names, normalize=True, title='Normalized confusion matrix')\n",
    "    plt.show()\n",
    "    \n",
    "    ## print metrics\n",
    "    print(classification_report(y_test, y_pred, target_names=class_names))\n",
    "    #print('accuracy: ' + str(accuracy_score(y_test,y_pred)))\n",
    "    p = precision_recall_fscore_support(y_test,y_pred)\n",
    "    #sen = p[1][1]\n",
    "    #spec = p[1][0]\n",
    "    #print('sen: ' + str(sen) +' , spec: ' + str(spec))\n",
    "    sensitivity.append(p[1][1])\n",
    "    specificity.append(p[1][0])\n",
    "    accuracy.append(accuracy_score(y_test,y_pred))\n",
    "    \n",
    "    print(datetime.now().strftime('%Y-%m-%d %H:%M:%S'))\n",
    "    print('')\n",
    "\n",
    "sensitivity = pd.DataFrame(sensitivity)\n",
    "specificity = pd.DataFrame(specificity)\n",
    "accuracy = pd.DataFrame(accuracy)\n",
    "metrics = pd.concat([sensitivity, specificity, accuracy], axis=1)\n",
    "metrics.columns = ['sensitivity', 'specificity', 'accuracy']\n",
    "print(metrics)\n",
    "print('avg sensitivity: ' + str(metrics.sensitivity.mean()))\n",
    "print('avg specificity: ' + str(metrics.specificity.mean()))\n",
    "print('avg accuracy: ' + str(metrics.accuracy.mean()))    "
   ]
  },
  {
   "cell_type": "code",
   "execution_count": null,
   "metadata": {},
   "outputs": [],
   "source": []
  },
  {
   "cell_type": "code",
   "execution_count": null,
   "metadata": {},
   "outputs": [],
   "source": [
    "############# TRY PARAMATER OPTIMISATIONS ####################\n",
    "\n",
    "## do 5-fold CV\n",
    "## inside cross-validation, split into train, validation & test indices\n",
    "## do calc on train & val to get optimal params\n",
    "#     try :\n",
    "#     balance with smote / balanced class weight in SVM\n",
    "#     grid search + CV  -> show plots on train & val error\n",
    "#     optimise prob thres\n"
   ]
  },
  {
   "cell_type": "code",
   "execution_count": 8,
   "metadata": {},
   "outputs": [],
   "source": [
    "#'''\n",
    "# https://towardsdatascience.com/fine-tuning-a-classifier-in-scikit-learn-66e048c21e65\n",
    "\n",
    "from sklearn.metrics import make_scorer,recall_score,accuracy_score,precision_score   #roc_curve, precision_recall_curve, auc, confusion_matrix\n",
    "from sklearn.model_selection import GridSearchCV, StratifiedKFold   # train_test_split,\n",
    "\n",
    "clf = SVC(class_weight='balanced') #n_jobs=-1)  # this runs the computation in parallel\n",
    "\n",
    "param_grid = [\n",
    "  #{'C': [1, 10, 100, 1000], 'kernel': ['linear']},\n",
    "  {'C': [0.01, 0.05, 0.1, 0.5, 1, 5, 10, 50], 'gamma': [0.01, 0.05, 0.1, 0.5], 'kernel': ['rbf']},\n",
    " ]\n",
    "\n",
    "\n",
    "scorers = {\n",
    "    'precision_score': make_scorer(precision_score),\n",
    "    'recall_score': make_scorer(recall_score),\n",
    "    'accuracy_score': make_scorer(accuracy_score)\n",
    "}\n",
    "\n",
    "\n",
    "\n",
    "def grid_search_wrapper(refit_score='recall_score'):\n",
    "    \"\"\"\n",
    "    fits a GridSearchCV classifier using refit_score for optimization\n",
    "    prints classifier performance metrics\n",
    "    \"\"\"\n",
    "    skf = StratifiedKFold(n_splits=10)\n",
    "    grid_search = GridSearchCV(clf, param_grid, scoring=scorers, refit=refit_score,\n",
    "                           cv=skf, return_train_score=True, n_jobs=-1)\n",
    "    grid_search.fit(X_train_scaled, y_train.values)  # X_train.values\n",
    "\n",
    "    print('Best params for {}'.format(refit_score))\n",
    "    print(grid_search.best_params_)\n",
    "    \n",
    "    results = pd.DataFrame(grid_search_clf.cv_results_)\n",
    "    results = results[['param_C','param_gamma','mean_train_recall_score','mean_test_recall_score','mean_train_accuracy_score','mean_test_accuracy_score','mean_train_precision_score','mean_test_precision_score']] \n",
    "   \n",
    "    \n",
    "    # make the predictions\n",
    "    y_pred = grid_search.predict(X_test.values)\n",
    "\n",
    "    # confusion matrix on the test data.\n",
    "    print('\\nConfusion matrix of SVM optimized for {} on the test data:'.format(refit_score))\n",
    "    print(pd.DataFrame(confusion_matrix(y_test, y_pred),\n",
    "                 columns=['pred_neg', 'pred_pos'], index=['neg', 'pos']))\n",
    "    return grid_search, results\n",
    "#'''"
   ]
  },
  {
   "cell_type": "code",
   "execution_count": 9,
   "metadata": {
    "scrolled": true
   },
   "outputs": [
    {
     "name": "stdout",
     "output_type": "stream",
     "text": [
      "[ 7 14 10  8  9  0 15 11  5 19  3  1 12  2 13  4]\n",
      "[6, 16, 17, 18]\n",
      "         0         1         2         3        4         5         6   \\\n",
      "0  0.110368  0.050167  0.016722  0.013378  0.06689  0.173913  0.060201   \n",
      "\n",
      "         7         8         9        10        11        12        13  \\\n",
      "0  0.020067  0.010033  0.083612  0.16388  0.046823  0.003344  0.010033   \n",
      "\n",
      "         14        15  \n",
      "0  0.063545  0.107023  \n",
      "\n",
      "2019-04-06 15:57:26\n",
      "\n"
     ]
    },
    {
     "ename": "KeyboardInterrupt",
     "evalue": "",
     "output_type": "error",
     "traceback": [
      "\u001b[1;31m---------------------------------------------------------------------------\u001b[0m",
      "\u001b[1;31mKeyboardInterrupt\u001b[0m                         Traceback (most recent call last)",
      "\u001b[1;32m<ipython-input-9-0595417fa693>\u001b[0m in \u001b[0;36m<module>\u001b[1;34m()\u001b[0m\n\u001b[0;32m     14\u001b[0m \u001b[1;33m\u001b[0m\u001b[0m\n\u001b[0;32m     15\u001b[0m \u001b[1;31m### run grid search ###\u001b[0m\u001b[1;33m\u001b[0m\u001b[1;33m\u001b[0m\u001b[0m\n\u001b[1;32m---> 16\u001b[1;33m \u001b[0mgrid_search_clf\u001b[0m\u001b[1;33m,\u001b[0m \u001b[0mresults\u001b[0m \u001b[1;33m=\u001b[0m \u001b[0mgrid_search_wrapper\u001b[0m\u001b[1;33m(\u001b[0m\u001b[0mrefit_score\u001b[0m\u001b[1;33m=\u001b[0m\u001b[1;34m'recall_score'\u001b[0m\u001b[1;33m)\u001b[0m\u001b[1;33m\u001b[0m\u001b[0m\n\u001b[0m\u001b[0;32m     17\u001b[0m \u001b[1;33m\u001b[0m\u001b[0m\n\u001b[0;32m     18\u001b[0m \u001b[0mprint\u001b[0m\u001b[1;33m(\u001b[0m\u001b[1;34m''\u001b[0m\u001b[1;33m)\u001b[0m\u001b[1;33m\u001b[0m\u001b[0m\n",
      "\u001b[1;32m<ipython-input-8-e8fff02f6af0>\u001b[0m in \u001b[0;36mgrid_search_wrapper\u001b[1;34m(refit_score)\u001b[0m\n\u001b[0;32m     29\u001b[0m     grid_search = GridSearchCV(clf, param_grid, scoring=scorers, refit=refit_score,\n\u001b[0;32m     30\u001b[0m                            cv=skf, return_train_score=True, n_jobs=-1)\n\u001b[1;32m---> 31\u001b[1;33m     \u001b[0mgrid_search\u001b[0m\u001b[1;33m.\u001b[0m\u001b[0mfit\u001b[0m\u001b[1;33m(\u001b[0m\u001b[0mX_train_scaled\u001b[0m\u001b[1;33m,\u001b[0m \u001b[0my_train\u001b[0m\u001b[1;33m.\u001b[0m\u001b[0mvalues\u001b[0m\u001b[1;33m)\u001b[0m  \u001b[1;31m# X_train.values\u001b[0m\u001b[1;33m\u001b[0m\u001b[0m\n\u001b[0m\u001b[0;32m     32\u001b[0m \u001b[1;33m\u001b[0m\u001b[0m\n\u001b[0;32m     33\u001b[0m     \u001b[0mprint\u001b[0m\u001b[1;33m(\u001b[0m\u001b[1;34m'Best params for {}'\u001b[0m\u001b[1;33m.\u001b[0m\u001b[0mformat\u001b[0m\u001b[1;33m(\u001b[0m\u001b[0mrefit_score\u001b[0m\u001b[1;33m)\u001b[0m\u001b[1;33m)\u001b[0m\u001b[1;33m\u001b[0m\u001b[0m\n",
      "\u001b[1;32m~\\AppData\\Local\\Continuum\\anaconda3\\lib\\site-packages\\sklearn\\model_selection\\_search.py\u001b[0m in \u001b[0;36mfit\u001b[1;34m(self, X, y, groups, **fit_params)\u001b[0m\n\u001b[0;32m    720\u001b[0m                 \u001b[1;32mreturn\u001b[0m \u001b[0mresults_container\u001b[0m\u001b[1;33m[\u001b[0m\u001b[1;36m0\u001b[0m\u001b[1;33m]\u001b[0m\u001b[1;33m\u001b[0m\u001b[0m\n\u001b[0;32m    721\u001b[0m \u001b[1;33m\u001b[0m\u001b[0m\n\u001b[1;32m--> 722\u001b[1;33m             \u001b[0mself\u001b[0m\u001b[1;33m.\u001b[0m\u001b[0m_run_search\u001b[0m\u001b[1;33m(\u001b[0m\u001b[0mevaluate_candidates\u001b[0m\u001b[1;33m)\u001b[0m\u001b[1;33m\u001b[0m\u001b[0m\n\u001b[0m\u001b[0;32m    723\u001b[0m \u001b[1;33m\u001b[0m\u001b[0m\n\u001b[0;32m    724\u001b[0m         \u001b[0mresults\u001b[0m \u001b[1;33m=\u001b[0m \u001b[0mresults_container\u001b[0m\u001b[1;33m[\u001b[0m\u001b[1;36m0\u001b[0m\u001b[1;33m]\u001b[0m\u001b[1;33m\u001b[0m\u001b[0m\n",
      "\u001b[1;32m~\\AppData\\Local\\Continuum\\anaconda3\\lib\\site-packages\\sklearn\\model_selection\\_search.py\u001b[0m in \u001b[0;36m_run_search\u001b[1;34m(self, evaluate_candidates)\u001b[0m\n\u001b[0;32m   1189\u001b[0m     \u001b[1;32mdef\u001b[0m \u001b[0m_run_search\u001b[0m\u001b[1;33m(\u001b[0m\u001b[0mself\u001b[0m\u001b[1;33m,\u001b[0m \u001b[0mevaluate_candidates\u001b[0m\u001b[1;33m)\u001b[0m\u001b[1;33m:\u001b[0m\u001b[1;33m\u001b[0m\u001b[0m\n\u001b[0;32m   1190\u001b[0m         \u001b[1;34m\"\"\"Search all candidates in param_grid\"\"\"\u001b[0m\u001b[1;33m\u001b[0m\u001b[0m\n\u001b[1;32m-> 1191\u001b[1;33m         \u001b[0mevaluate_candidates\u001b[0m\u001b[1;33m(\u001b[0m\u001b[0mParameterGrid\u001b[0m\u001b[1;33m(\u001b[0m\u001b[0mself\u001b[0m\u001b[1;33m.\u001b[0m\u001b[0mparam_grid\u001b[0m\u001b[1;33m)\u001b[0m\u001b[1;33m)\u001b[0m\u001b[1;33m\u001b[0m\u001b[0m\n\u001b[0m\u001b[0;32m   1192\u001b[0m \u001b[1;33m\u001b[0m\u001b[0m\n\u001b[0;32m   1193\u001b[0m \u001b[1;33m\u001b[0m\u001b[0m\n",
      "\u001b[1;32m~\\AppData\\Local\\Continuum\\anaconda3\\lib\\site-packages\\sklearn\\model_selection\\_search.py\u001b[0m in \u001b[0;36mevaluate_candidates\u001b[1;34m(candidate_params)\u001b[0m\n\u001b[0;32m    709\u001b[0m                                \u001b[1;32mfor\u001b[0m \u001b[0mparameters\u001b[0m\u001b[1;33m,\u001b[0m \u001b[1;33m(\u001b[0m\u001b[0mtrain\u001b[0m\u001b[1;33m,\u001b[0m \u001b[0mtest\u001b[0m\u001b[1;33m)\u001b[0m\u001b[1;33m\u001b[0m\u001b[0m\n\u001b[0;32m    710\u001b[0m                                in product(candidate_params,\n\u001b[1;32m--> 711\u001b[1;33m                                           cv.split(X, y, groups)))\n\u001b[0m\u001b[0;32m    712\u001b[0m \u001b[1;33m\u001b[0m\u001b[0m\n\u001b[0;32m    713\u001b[0m                 \u001b[0mall_candidate_params\u001b[0m\u001b[1;33m.\u001b[0m\u001b[0mextend\u001b[0m\u001b[1;33m(\u001b[0m\u001b[0mcandidate_params\u001b[0m\u001b[1;33m)\u001b[0m\u001b[1;33m\u001b[0m\u001b[0m\n",
      "\u001b[1;32m~\\AppData\\Local\\Continuum\\anaconda3\\lib\\site-packages\\sklearn\\externals\\joblib\\parallel.py\u001b[0m in \u001b[0;36m__call__\u001b[1;34m(self, iterable)\u001b[0m\n\u001b[0;32m    928\u001b[0m \u001b[1;33m\u001b[0m\u001b[0m\n\u001b[0;32m    929\u001b[0m             \u001b[1;32mwith\u001b[0m \u001b[0mself\u001b[0m\u001b[1;33m.\u001b[0m\u001b[0m_backend\u001b[0m\u001b[1;33m.\u001b[0m\u001b[0mretrieval_context\u001b[0m\u001b[1;33m(\u001b[0m\u001b[1;33m)\u001b[0m\u001b[1;33m:\u001b[0m\u001b[1;33m\u001b[0m\u001b[0m\n\u001b[1;32m--> 930\u001b[1;33m                 \u001b[0mself\u001b[0m\u001b[1;33m.\u001b[0m\u001b[0mretrieve\u001b[0m\u001b[1;33m(\u001b[0m\u001b[1;33m)\u001b[0m\u001b[1;33m\u001b[0m\u001b[0m\n\u001b[0m\u001b[0;32m    931\u001b[0m             \u001b[1;31m# Make sure that we get a last message telling us we are done\u001b[0m\u001b[1;33m\u001b[0m\u001b[1;33m\u001b[0m\u001b[0m\n\u001b[0;32m    932\u001b[0m             \u001b[0melapsed_time\u001b[0m \u001b[1;33m=\u001b[0m \u001b[0mtime\u001b[0m\u001b[1;33m.\u001b[0m\u001b[0mtime\u001b[0m\u001b[1;33m(\u001b[0m\u001b[1;33m)\u001b[0m \u001b[1;33m-\u001b[0m \u001b[0mself\u001b[0m\u001b[1;33m.\u001b[0m\u001b[0m_start_time\u001b[0m\u001b[1;33m\u001b[0m\u001b[0m\n",
      "\u001b[1;32m~\\AppData\\Local\\Continuum\\anaconda3\\lib\\site-packages\\sklearn\\externals\\joblib\\parallel.py\u001b[0m in \u001b[0;36mretrieve\u001b[1;34m(self)\u001b[0m\n\u001b[0;32m    831\u001b[0m             \u001b[1;32mtry\u001b[0m\u001b[1;33m:\u001b[0m\u001b[1;33m\u001b[0m\u001b[0m\n\u001b[0;32m    832\u001b[0m                 \u001b[1;32mif\u001b[0m \u001b[0mgetattr\u001b[0m\u001b[1;33m(\u001b[0m\u001b[0mself\u001b[0m\u001b[1;33m.\u001b[0m\u001b[0m_backend\u001b[0m\u001b[1;33m,\u001b[0m \u001b[1;34m'supports_timeout'\u001b[0m\u001b[1;33m,\u001b[0m \u001b[1;32mFalse\u001b[0m\u001b[1;33m)\u001b[0m\u001b[1;33m:\u001b[0m\u001b[1;33m\u001b[0m\u001b[0m\n\u001b[1;32m--> 833\u001b[1;33m                     \u001b[0mself\u001b[0m\u001b[1;33m.\u001b[0m\u001b[0m_output\u001b[0m\u001b[1;33m.\u001b[0m\u001b[0mextend\u001b[0m\u001b[1;33m(\u001b[0m\u001b[0mjob\u001b[0m\u001b[1;33m.\u001b[0m\u001b[0mget\u001b[0m\u001b[1;33m(\u001b[0m\u001b[0mtimeout\u001b[0m\u001b[1;33m=\u001b[0m\u001b[0mself\u001b[0m\u001b[1;33m.\u001b[0m\u001b[0mtimeout\u001b[0m\u001b[1;33m)\u001b[0m\u001b[1;33m)\u001b[0m\u001b[1;33m\u001b[0m\u001b[0m\n\u001b[0m\u001b[0;32m    834\u001b[0m                 \u001b[1;32melse\u001b[0m\u001b[1;33m:\u001b[0m\u001b[1;33m\u001b[0m\u001b[0m\n\u001b[0;32m    835\u001b[0m                     \u001b[0mself\u001b[0m\u001b[1;33m.\u001b[0m\u001b[0m_output\u001b[0m\u001b[1;33m.\u001b[0m\u001b[0mextend\u001b[0m\u001b[1;33m(\u001b[0m\u001b[0mjob\u001b[0m\u001b[1;33m.\u001b[0m\u001b[0mget\u001b[0m\u001b[1;33m(\u001b[0m\u001b[1;33m)\u001b[0m\u001b[1;33m)\u001b[0m\u001b[1;33m\u001b[0m\u001b[0m\n",
      "\u001b[1;32m~\\AppData\\Local\\Continuum\\anaconda3\\lib\\site-packages\\sklearn\\externals\\joblib\\_parallel_backends.py\u001b[0m in \u001b[0;36mwrap_future_result\u001b[1;34m(future, timeout)\u001b[0m\n\u001b[0;32m    519\u001b[0m         AsyncResults.get from multiprocessing.\"\"\"\n\u001b[0;32m    520\u001b[0m         \u001b[1;32mtry\u001b[0m\u001b[1;33m:\u001b[0m\u001b[1;33m\u001b[0m\u001b[0m\n\u001b[1;32m--> 521\u001b[1;33m             \u001b[1;32mreturn\u001b[0m \u001b[0mfuture\u001b[0m\u001b[1;33m.\u001b[0m\u001b[0mresult\u001b[0m\u001b[1;33m(\u001b[0m\u001b[0mtimeout\u001b[0m\u001b[1;33m=\u001b[0m\u001b[0mtimeout\u001b[0m\u001b[1;33m)\u001b[0m\u001b[1;33m\u001b[0m\u001b[0m\n\u001b[0m\u001b[0;32m    522\u001b[0m         \u001b[1;32mexcept\u001b[0m \u001b[0mLokyTimeoutError\u001b[0m\u001b[1;33m:\u001b[0m\u001b[1;33m\u001b[0m\u001b[0m\n\u001b[0;32m    523\u001b[0m             \u001b[1;32mraise\u001b[0m \u001b[0mTimeoutError\u001b[0m\u001b[1;33m(\u001b[0m\u001b[1;33m)\u001b[0m\u001b[1;33m\u001b[0m\u001b[0m\n",
      "\u001b[1;32m~\\AppData\\Local\\Continuum\\anaconda3\\lib\\concurrent\\futures\\_base.py\u001b[0m in \u001b[0;36mresult\u001b[1;34m(self, timeout)\u001b[0m\n\u001b[0;32m    425\u001b[0m                 \u001b[1;32mreturn\u001b[0m \u001b[0mself\u001b[0m\u001b[1;33m.\u001b[0m\u001b[0m__get_result\u001b[0m\u001b[1;33m(\u001b[0m\u001b[1;33m)\u001b[0m\u001b[1;33m\u001b[0m\u001b[0m\n\u001b[0;32m    426\u001b[0m \u001b[1;33m\u001b[0m\u001b[0m\n\u001b[1;32m--> 427\u001b[1;33m             \u001b[0mself\u001b[0m\u001b[1;33m.\u001b[0m\u001b[0m_condition\u001b[0m\u001b[1;33m.\u001b[0m\u001b[0mwait\u001b[0m\u001b[1;33m(\u001b[0m\u001b[0mtimeout\u001b[0m\u001b[1;33m)\u001b[0m\u001b[1;33m\u001b[0m\u001b[0m\n\u001b[0m\u001b[0;32m    428\u001b[0m \u001b[1;33m\u001b[0m\u001b[0m\n\u001b[0;32m    429\u001b[0m             \u001b[1;32mif\u001b[0m \u001b[0mself\u001b[0m\u001b[1;33m.\u001b[0m\u001b[0m_state\u001b[0m \u001b[1;32min\u001b[0m \u001b[1;33m[\u001b[0m\u001b[0mCANCELLED\u001b[0m\u001b[1;33m,\u001b[0m \u001b[0mCANCELLED_AND_NOTIFIED\u001b[0m\u001b[1;33m]\u001b[0m\u001b[1;33m:\u001b[0m\u001b[1;33m\u001b[0m\u001b[0m\n",
      "\u001b[1;32m~\\AppData\\Local\\Continuum\\anaconda3\\lib\\threading.py\u001b[0m in \u001b[0;36mwait\u001b[1;34m(self, timeout)\u001b[0m\n\u001b[0;32m    293\u001b[0m         \u001b[1;32mtry\u001b[0m\u001b[1;33m:\u001b[0m    \u001b[1;31m# restore state no matter what (e.g., KeyboardInterrupt)\u001b[0m\u001b[1;33m\u001b[0m\u001b[0m\n\u001b[0;32m    294\u001b[0m             \u001b[1;32mif\u001b[0m \u001b[0mtimeout\u001b[0m \u001b[1;32mis\u001b[0m \u001b[1;32mNone\u001b[0m\u001b[1;33m:\u001b[0m\u001b[1;33m\u001b[0m\u001b[0m\n\u001b[1;32m--> 295\u001b[1;33m                 \u001b[0mwaiter\u001b[0m\u001b[1;33m.\u001b[0m\u001b[0macquire\u001b[0m\u001b[1;33m(\u001b[0m\u001b[1;33m)\u001b[0m\u001b[1;33m\u001b[0m\u001b[0m\n\u001b[0m\u001b[0;32m    296\u001b[0m                 \u001b[0mgotit\u001b[0m \u001b[1;33m=\u001b[0m \u001b[1;32mTrue\u001b[0m\u001b[1;33m\u001b[0m\u001b[0m\n\u001b[0;32m    297\u001b[0m             \u001b[1;32melse\u001b[0m\u001b[1;33m:\u001b[0m\u001b[1;33m\u001b[0m\u001b[0m\n",
      "\u001b[1;31mKeyboardInterrupt\u001b[0m: "
     ]
    }
   ],
   "source": [
    "## check a single iteration of train-test; the train is further split into train_val 10 times\n",
    "\n",
    "Train, Test = CreateTrainTestID(dfull)\n",
    "X_train, y_train, X_test, y_test = createXYsets(Train,Test)\n",
    "print('')\n",
    "    \n",
    "### data scaling ###\n",
    "scaler = StandardScaler().fit(X_train)  # StandardScaler();  MinMaxScaler()\n",
    "X_train_scaled = scaler.transform(X_train)    # fit_transform(X_train1)\n",
    "X_test_scaled = scaler.transform(X_test)\n",
    "\n",
    "print(datetime.now().strftime('%Y-%m-%d %H:%M:%S'))\n",
    "print('')\n",
    "\n",
    "### run grid search ###\n",
    "grid_search_clf, results = grid_search_wrapper(refit_score='recall_score')\n",
    "\n",
    "print('')\n",
    "print(datetime.now().strftime('%Y-%m-%d %H:%M:%S'))"
   ]
  },
  {
   "cell_type": "code",
   "execution_count": null,
   "metadata": {},
   "outputs": [],
   "source": [
    "## sort by different metrics ##\n",
    "results = results.sort_values(by='mean_test_precision_score', ascending=False)\n",
    "results"
   ]
  },
  {
   "cell_type": "code",
   "execution_count": null,
   "metadata": {},
   "outputs": [],
   "source": [
    "## sort by different metrics ##\n",
    "results = results.sort_values(by='mean_test_recall_score', ascending=False)\n",
    "results"
   ]
  },
  {
   "cell_type": "code",
   "execution_count": null,
   "metadata": {},
   "outputs": [],
   "source": [
    "## sort by different metrics ##\n",
    "results = results.sort_values(by='mean_train_accuracy_score', ascending=False)\n",
    "\n",
    "# dataframe & plots\n",
    "fig, ax2 = plt.subplots(1, 1)\n",
    "ax2.hold(True)\n",
    "ax2.plot(results['mean_train_accuracy_score'],label='Traning set')\n",
    "ax2.plot(results['mean_test_accuracy_score'],label='Validation set')\n",
    "#ax2.set_title(\"Training and Validation precision\")\n",
    "ax2.set_ylabel(\"accuracy\")\n",
    "ax2.set_xlabel(\"Iterations\")\n",
    "ax2.set_xlim([0,20])\n",
    "ax2.legend(fancybox=True)"
   ]
  },
  {
   "cell_type": "code",
   "execution_count": null,
   "metadata": {},
   "outputs": [],
   "source": []
  }
 ],
 "metadata": {
  "kernelspec": {
   "display_name": "Python 3",
   "language": "python",
   "name": "python3"
  },
  "language_info": {
   "codemirror_mode": {
    "name": "ipython",
    "version": 3
   },
   "file_extension": ".py",
   "mimetype": "text/x-python",
   "name": "python",
   "nbconvert_exporter": "python",
   "pygments_lexer": "ipython3",
   "version": "3.6.9"
  }
 },
 "nbformat": 4,
 "nbformat_minor": 2
}
