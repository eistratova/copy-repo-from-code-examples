{
 "cells": [
  {
   "cell_type": "code",
   "execution_count": 1,
   "metadata": {},
   "outputs": [],
   "source": [
    "## sleep stage classification - 2 class - using SAX features\n",
    "## PAA time window = 0.1s\n",
    "\n",
    "# http://localhost:8888/notebooks/Intern/Sleep_stage_Classification_2Class-imbalanced-data-SMOTE.ipynb\n",
    "# http://localhost:8888/notebooks/GPU_run/EEG_Classification_CNN_full_SMOTE_diff_network_GPU.ipynb\n",
    "# http://localhost:8888/notebooks/classification_2class_epochData_newPkl.ipynb\n",
    "\n",
    "import pandas as pd\n",
    "import numpy as np\n",
    "import os\n",
    "import pickle\n",
    "from scipy import stats\n",
    "import itertools\n",
    "import matplotlib.pyplot as plt\n",
    "from datetime import datetime\n",
    "\n",
    "from sklearn.preprocessing import MinMaxScaler, StandardScaler, RobustScaler\n",
    "from sklearn.model_selection import train_test_split\n",
    "\n",
    "from sklearn.svm import SVC\n",
    "from sklearn.metrics import auc,accuracy_score\n",
    "from sklearn.metrics import precision_recall_fscore_support,confusion_matrix\n",
    "from sklearn.metrics import classification_report"
   ]
  },
  {
   "cell_type": "code",
   "execution_count": 2,
   "metadata": {},
   "outputs": [],
   "source": [
    "###################function to plot confusion matrix#####################################\n",
    "def plot_confusion_matrix(cm, classes,\n",
    "                          normalize=False,\n",
    "                          title='Confusion matrix',\n",
    "                          cmap=plt.cm.Blues):\n",
    "    \"\"\"\n",
    "    This function prints and plots the confusion matrix.\n",
    "    Normalization can be applied by setting `normalize=True`.\n",
    "    \"\"\"\n",
    "    if normalize:\n",
    "        cm = cm.astype('float') / cm.sum(axis=1)[:, np.newaxis]\n",
    "        print(\"Normalized confusion matrix\")\n",
    "    else:\n",
    "        print('Confusion matrix, without normalization')\n",
    "\n",
    "    print(cm)\n",
    "\n",
    "    plt.imshow(cm, interpolation='nearest', cmap=cmap)\n",
    "    plt.title(title)\n",
    "    plt.colorbar()\n",
    "    tick_marks = np.arange(len(classes))\n",
    "    plt.xticks(tick_marks, classes, rotation=45)\n",
    "    plt.yticks(tick_marks, classes)\n",
    "\n",
    "    fmt = '.2f' if normalize else 'd'\n",
    "    thresh = cm.max() / 2.\n",
    "    for i, j in itertools.product(range(cm.shape[0]), range(cm.shape[1])):\n",
    "        plt.text(j, i, format(cm[i, j], fmt),\n",
    "                 horizontalalignment=\"center\",\n",
    "                 color=\"white\" if cm[i, j] > thresh else \"black\")\n",
    "\n",
    "    plt.tight_layout()\n",
    "    plt.ylabel('True label')\n",
    "    plt.xlabel('Predicted label')\n",
    "    \n",
    "###########################################################################################"
   ]
  },
  {
   "cell_type": "code",
   "execution_count": 3,
   "metadata": {},
   "outputs": [
    {
     "data": {
      "text/html": [
       "<div>\n",
       "<style scoped>\n",
       "    .dataframe tbody tr th:only-of-type {\n",
       "        vertical-align: middle;\n",
       "    }\n",
       "\n",
       "    .dataframe tbody tr th {\n",
       "        vertical-align: top;\n",
       "    }\n",
       "\n",
       "    .dataframe thead th {\n",
       "        text-align: right;\n",
       "    }\n",
       "</style>\n",
       "<table border=\"1\" class=\"dataframe\">\n",
       "  <thead>\n",
       "    <tr style=\"text-align: right;\">\n",
       "      <th></th>\n",
       "      <th>0</th>\n",
       "      <th>1</th>\n",
       "      <th>2</th>\n",
       "      <th>3</th>\n",
       "      <th>4</th>\n",
       "      <th>5</th>\n",
       "      <th>6</th>\n",
       "      <th>7</th>\n",
       "      <th>8</th>\n",
       "      <th>9</th>\n",
       "      <th>10</th>\n",
       "      <th>11</th>\n",
       "      <th>12</th>\n",
       "      <th>13</th>\n",
       "      <th>14</th>\n",
       "      <th>15</th>\n",
       "      <th>pID</th>\n",
       "      <th>day</th>\n",
       "      <th>epoch</th>\n",
       "      <th>class_label</th>\n",
       "    </tr>\n",
       "  </thead>\n",
       "  <tbody>\n",
       "    <tr>\n",
       "      <th>0</th>\n",
       "      <td>0.110368</td>\n",
       "      <td>0.050167</td>\n",
       "      <td>0.016722</td>\n",
       "      <td>0.013378</td>\n",
       "      <td>0.066890</td>\n",
       "      <td>0.173913</td>\n",
       "      <td>0.060201</td>\n",
       "      <td>0.020067</td>\n",
       "      <td>0.010033</td>\n",
       "      <td>0.083612</td>\n",
       "      <td>0.163880</td>\n",
       "      <td>0.046823</td>\n",
       "      <td>0.003344</td>\n",
       "      <td>0.010033</td>\n",
       "      <td>0.063545</td>\n",
       "      <td>0.107023</td>\n",
       "      <td>400</td>\n",
       "      <td>1</td>\n",
       "      <td>s1e1</td>\n",
       "      <td>wake</td>\n",
       "    </tr>\n",
       "    <tr>\n",
       "      <th>1</th>\n",
       "      <td>0.090301</td>\n",
       "      <td>0.040134</td>\n",
       "      <td>0.020067</td>\n",
       "      <td>0.016722</td>\n",
       "      <td>0.050167</td>\n",
       "      <td>0.210702</td>\n",
       "      <td>0.080268</td>\n",
       "      <td>0.010033</td>\n",
       "      <td>0.020067</td>\n",
       "      <td>0.096990</td>\n",
       "      <td>0.170569</td>\n",
       "      <td>0.030100</td>\n",
       "      <td>0.006689</td>\n",
       "      <td>0.003344</td>\n",
       "      <td>0.046823</td>\n",
       "      <td>0.107023</td>\n",
       "      <td>400</td>\n",
       "      <td>1</td>\n",
       "      <td>s1e2</td>\n",
       "      <td>wake</td>\n",
       "    </tr>\n",
       "    <tr>\n",
       "      <th>2</th>\n",
       "      <td>0.130435</td>\n",
       "      <td>0.043478</td>\n",
       "      <td>0.003344</td>\n",
       "      <td>0.000000</td>\n",
       "      <td>0.040134</td>\n",
       "      <td>0.210702</td>\n",
       "      <td>0.053512</td>\n",
       "      <td>0.023411</td>\n",
       "      <td>0.006689</td>\n",
       "      <td>0.070234</td>\n",
       "      <td>0.167224</td>\n",
       "      <td>0.030100</td>\n",
       "      <td>0.000000</td>\n",
       "      <td>0.003344</td>\n",
       "      <td>0.050167</td>\n",
       "      <td>0.167224</td>\n",
       "      <td>400</td>\n",
       "      <td>1</td>\n",
       "      <td>s1e3</td>\n",
       "      <td>wake</td>\n",
       "    </tr>\n",
       "    <tr>\n",
       "      <th>3</th>\n",
       "      <td>0.123746</td>\n",
       "      <td>0.083612</td>\n",
       "      <td>0.030100</td>\n",
       "      <td>0.006689</td>\n",
       "      <td>0.050167</td>\n",
       "      <td>0.073579</td>\n",
       "      <td>0.076923</td>\n",
       "      <td>0.033445</td>\n",
       "      <td>0.050167</td>\n",
       "      <td>0.050167</td>\n",
       "      <td>0.110368</td>\n",
       "      <td>0.066890</td>\n",
       "      <td>0.020067</td>\n",
       "      <td>0.023411</td>\n",
       "      <td>0.060201</td>\n",
       "      <td>0.140468</td>\n",
       "      <td>400</td>\n",
       "      <td>1</td>\n",
       "      <td>s1e4</td>\n",
       "      <td>wake</td>\n",
       "    </tr>\n",
       "    <tr>\n",
       "      <th>4</th>\n",
       "      <td>0.100334</td>\n",
       "      <td>0.073579</td>\n",
       "      <td>0.050167</td>\n",
       "      <td>0.000000</td>\n",
       "      <td>0.046823</td>\n",
       "      <td>0.060201</td>\n",
       "      <td>0.096990</td>\n",
       "      <td>0.033445</td>\n",
       "      <td>0.056856</td>\n",
       "      <td>0.076923</td>\n",
       "      <td>0.133779</td>\n",
       "      <td>0.080268</td>\n",
       "      <td>0.020067</td>\n",
       "      <td>0.026756</td>\n",
       "      <td>0.063545</td>\n",
       "      <td>0.080268</td>\n",
       "      <td>400</td>\n",
       "      <td>1</td>\n",
       "      <td>s1e5</td>\n",
       "      <td>wake</td>\n",
       "    </tr>\n",
       "  </tbody>\n",
       "</table>\n",
       "</div>"
      ],
      "text/plain": [
       "          0         1         2         3         4         5         6  \\\n",
       "0  0.110368  0.050167  0.016722  0.013378  0.066890  0.173913  0.060201   \n",
       "1  0.090301  0.040134  0.020067  0.016722  0.050167  0.210702  0.080268   \n",
       "2  0.130435  0.043478  0.003344  0.000000  0.040134  0.210702  0.053512   \n",
       "3  0.123746  0.083612  0.030100  0.006689  0.050167  0.073579  0.076923   \n",
       "4  0.100334  0.073579  0.050167  0.000000  0.046823  0.060201  0.096990   \n",
       "\n",
       "          7         8         9        10        11        12        13  \\\n",
       "0  0.020067  0.010033  0.083612  0.163880  0.046823  0.003344  0.010033   \n",
       "1  0.010033  0.020067  0.096990  0.170569  0.030100  0.006689  0.003344   \n",
       "2  0.023411  0.006689  0.070234  0.167224  0.030100  0.000000  0.003344   \n",
       "3  0.033445  0.050167  0.050167  0.110368  0.066890  0.020067  0.023411   \n",
       "4  0.033445  0.056856  0.076923  0.133779  0.080268  0.020067  0.026756   \n",
       "\n",
       "         14        15  pID day epoch class_label  \n",
       "0  0.063545  0.107023  400   1  s1e1        wake  \n",
       "1  0.046823  0.107023  400   1  s1e2        wake  \n",
       "2  0.050167  0.167224  400   1  s1e3        wake  \n",
       "3  0.060201  0.140468  400   1  s1e4        wake  \n",
       "4  0.063545  0.080268  400   1  s1e5        wake  "
      ]
     },
     "execution_count": 3,
     "metadata": {},
     "output_type": "execute_result"
    }
   ],
   "source": [
    "## load data ##\n",
    "\n",
    "file_location='/home/intern_eyecare/Desktop/EEG/sax_dimer' #C:/Users/DAR9KOR/Desktop/data/HEALTHCARE/EEG/data/eeg_epochs_dec12_2018/raw_data' \n",
    "os.chdir('/home/intern_eyecare/Desktop/EEG/sax_dimer') #C:/Users/DAR9KOR/Desktop/data/HEALTHCARE/EEG/data/eeg_epochs_dec12_2018/raw_data') \n",
    "\n",
    "# remove 2nd night of subject 13, as there was data loss - pkl file created accordingly\n",
    "dfull = pickle.load(open('Frac_sax_dimer_0.1s_EEG_all_patients.pkl', 'rb'))\n",
    "dfull.head(5)"
   ]
  },
  {
   "cell_type": "code",
   "execution_count": null,
   "metadata": {},
   "outputs": [],
   "source": []
  },
  {
   "cell_type": "code",
   "execution_count": 4,
   "metadata": {},
   "outputs": [
    {
     "name": "stdout",
     "output_type": "stream",
     "text": [
      "<class 'pandas.core.frame.DataFrame'>\n",
      "RangeIndex: 92994 entries, 0 to 92993\n",
      "Data columns (total 20 columns):\n",
      "0              92994 non-null float64\n",
      "1              92994 non-null float64\n",
      "2              92994 non-null float64\n",
      "3              92994 non-null float64\n",
      "4              92994 non-null float64\n",
      "5              92994 non-null float64\n",
      "6              92994 non-null float64\n",
      "7              92994 non-null float64\n",
      "8              92994 non-null float64\n",
      "9              92994 non-null float64\n",
      "10             92994 non-null float64\n",
      "11             92994 non-null float64\n",
      "12             92994 non-null float64\n",
      "13             92994 non-null float64\n",
      "14             92994 non-null float64\n",
      "15             92994 non-null float64\n",
      "pID            92994 non-null object\n",
      "day            92994 non-null object\n",
      "epoch          92994 non-null object\n",
      "class_label    92994 non-null object\n",
      "dtypes: float64(16), object(4)\n",
      "memory usage: 14.2+ MB\n"
     ]
    }
   ],
   "source": [
    "### check the data ###\n",
    "# 1. look for null values\n",
    "dfull.info()"
   ]
  },
  {
   "cell_type": "code",
   "execution_count": 5,
   "metadata": {},
   "outputs": [
    {
     "data": {
      "text/plain": [
       "0              0\n",
       "1              0\n",
       "2              0\n",
       "3              0\n",
       "4              0\n",
       "5              0\n",
       "6              0\n",
       "7              0\n",
       "8              0\n",
       "9              0\n",
       "10             0\n",
       "11             0\n",
       "12             0\n",
       "13             0\n",
       "14             0\n",
       "15             0\n",
       "pID            0\n",
       "day            0\n",
       "epoch          0\n",
       "class_label    0\n",
       "dtype: int64"
      ]
     },
     "execution_count": 5,
     "metadata": {},
     "output_type": "execute_result"
    }
   ],
   "source": [
    "dfull.isnull().sum()"
   ]
  },
  {
   "cell_type": "code",
   "execution_count": 6,
   "metadata": {},
   "outputs": [
    {
     "data": {
      "text/plain": [
       "class_label\n",
       "sleep_stage_1     2804\n",
       "sleep_stage_2    17799\n",
       "wake             72391\n",
       "dtype: int64"
      ]
     },
     "execution_count": 6,
     "metadata": {},
     "output_type": "execute_result"
    }
   ],
   "source": [
    "# 2. check data distribution\n",
    "dfull.groupby('class_label').size()"
   ]
  },
  {
   "cell_type": "code",
   "execution_count": null,
   "metadata": {},
   "outputs": [],
   "source": []
  },
  {
   "cell_type": "code",
   "execution_count": 7,
   "metadata": {},
   "outputs": [],
   "source": [
    "### convert from 3-class to 2-class ###\n",
    "dfull['class2'] = dfull['class_label']\n",
    "dfull['class2'] = [0 if x == 'wake' else 1 for x in dfull['class2']]\n",
    "\n",
    "## convert selected columns to string/categories \n",
    "## DO NOT CONVERT 'class2' from numeric to category - this probably gives error in grid search\n",
    "dfull[['class_label']] = dfull[['class_label']].astype('str')        # ,'class2'"
   ]
  },
  {
   "cell_type": "code",
   "execution_count": null,
   "metadata": {},
   "outputs": [],
   "source": []
  },
  {
   "cell_type": "code",
   "execution_count": null,
   "metadata": {},
   "outputs": [],
   "source": [
    "### create training & test sets ###"
   ]
  },
  {
   "cell_type": "code",
   "execution_count": 8,
   "metadata": {},
   "outputs": [
    {
     "name": "stdout",
     "output_type": "stream",
     "text": [
      "['400', '401', '402', '404', '405', '407', '408', '409', '410', '411', '412', '413', '414', '415', '416', '417', '418', '419']\n",
      "['403', '406']\n",
      "(82992, 21)\n",
      "(10002, 21)\n",
      "Train distribution\n",
      "class2\n",
      "0    64350\n",
      "1    18642\n",
      "dtype: int64\n",
      "\n",
      "Test distribution\n",
      "class2\n",
      "0    8041\n",
      "1    1961\n",
      "dtype: int64\n"
     ]
    }
   ],
   "source": [
    "### by patient ID  ###\n",
    "ID = dfull['pID'].unique() # create ID list\n",
    "\n",
    "np.random.seed(456)   ## select the IDs for the 2 sets\n",
    "msk = np.random.rand(len(ID)) < 0.8\n",
    "trainIDs = pd.DataFrame()\n",
    "testIDs = pd.DataFrame()\n",
    "trainIDs['pID'] = ID[msk]\n",
    "testIDs['pID'] = ID[~msk]\n",
    "print(trainIDs['pID'].tolist())\n",
    "print(testIDs['pID'].tolist())\n",
    "\n",
    "\n",
    "Train = dfull.loc[dfull['pID'].isin(ID[msk])] # create the train-test sets\n",
    "Test = dfull.loc[dfull['pID'].isin(ID[~msk])] #\n",
    "print(Train.shape)\n",
    "print(Test.shape)\n",
    "## also, check the distribution of class 0 & 1 in the train & test sets\n",
    "print('Train distribution')\n",
    "print(Train.groupby('class2').size())\n",
    "print('')\n",
    "print('Test distribution')\n",
    "print(Test.groupby('class2').size())\n",
    "\n",
    "\n",
    "X_train1 = Train.drop(['pID','day','epoch','class_label','class2'], 1).reset_index()  ## create X & y splits\n",
    "X_test = Test.drop(['pID','day','epoch','class_label','class2'], 1).reset_index()\n",
    "y_train1 = Train['class2'].reset_index()\n",
    "y_test = Test['class2'].reset_index()\n",
    "X_train1 = X_train1.drop(['index'], 1)\n",
    "X_test = X_test.drop(['index'],1)\n",
    "y_train1 = y_train1.drop(['index'],1)\n",
    "y_test = y_test.drop(['index'],1)"
   ]
  },
  {
   "cell_type": "code",
   "execution_count": null,
   "metadata": {},
   "outputs": [],
   "source": [
    "'''\n",
    "### by random sampling ###\n",
    "X =  dfull.drop(['pID','day','epoch','class_label','class2'], 1) # dfull[['delta','theta','alpha','beta','gamma']]\n",
    "y =  dfull['class2'] \n",
    "\n",
    "X_train1, X_test, y_train1, y_test = train_test_split(X, y, test_size=0.2, random_state=0)  #stratify=y) #stratify=True\n",
    "\n",
    "# to test if split is stratified\n",
    "y_tr = pd.DataFrame(y_train1)\n",
    "y_ts = pd.DataFrame(y_test)\n",
    "print('')\n",
    "print(y_tr.groupby('class2').size())\n",
    "print('')\n",
    "print(y_ts.groupby('class2').size())\n",
    "'''"
   ]
  },
  {
   "cell_type": "code",
   "execution_count": 9,
   "metadata": {},
   "outputs": [
    {
     "name": "stderr",
     "output_type": "stream",
     "text": [
      "/home/intern_eyecare/anaconda3/lib/python3.6/site-packages/sklearn/utils/validation.py:761: DataConversionWarning: A column-vector y was passed when a 1d array was expected. Please change the shape of y to (n_samples, ), for example using ravel().\n",
      "  y = column_or_1d(y, warn=True)\n"
     ]
    }
   ],
   "source": [
    "## upsample training set\n",
    "from imblearn.over_sampling import SMOTE\n",
    "\n",
    "sm = SMOTE(random_state=42)\n",
    "X_train, y_train = sm.fit_resample(X_train1, y_train1)\n"
   ]
  },
  {
   "cell_type": "code",
   "execution_count": 10,
   "metadata": {},
   "outputs": [
    {
     "name": "stdout",
     "output_type": "stream",
     "text": [
      "class2\n",
      "0    64350\n",
      "1    64350\n",
      "dtype: int64\n"
     ]
    }
   ],
   "source": [
    "check_upsample = pd.DataFrame(y_train)\n",
    "check_upsample.columns = ['class2']\n",
    "#check_upsample.head(2)\n",
    "print(check_upsample.groupby('class2').size())"
   ]
  },
  {
   "cell_type": "code",
   "execution_count": null,
   "metadata": {},
   "outputs": [],
   "source": []
  },
  {
   "cell_type": "code",
   "execution_count": 11,
   "metadata": {},
   "outputs": [],
   "source": [
    "### data scaling ###\n",
    "from sklearn.preprocessing import StandardScaler  #, MinMaxScaler, RobustScaler\n",
    "# http://benalexkeen.com/feature-scaling-with-scikit-learn/\n",
    "# standardscaler: suitable for normally distributed data\n",
    "# minMaxScaler: (x-min)/(max - min)\n",
    "\n",
    "## normalize the data  : can also use other scalers \n",
    "scaler = StandardScaler()  #MinMaxScaler()\n",
    "X_train_scaled = scaler.fit_transform(X_train)\n",
    "X_test_scaled = scaler.transform(X_test)\n",
    "#X_train_scaled.shape"
   ]
  },
  {
   "cell_type": "code",
   "execution_count": null,
   "metadata": {},
   "outputs": [],
   "source": []
  },
  {
   "cell_type": "code",
   "execution_count": 12,
   "metadata": {},
   "outputs": [
    {
     "name": "stdout",
     "output_type": "stream",
     "text": [
      "2019-01-31 15:28:40\n"
     ]
    }
   ],
   "source": [
    "### SVC model ###\n",
    "print(datetime.now().strftime('%Y-%m-%d %H:%M:%S'))"
   ]
  },
  {
   "cell_type": "code",
   "execution_count": 13,
   "metadata": {},
   "outputs": [
    {
     "data": {
      "text/plain": [
       "SVC(C=1.0, cache_size=200, class_weight=None, coef0=0.0,\n",
       "  decision_function_shape='ovr', degree=3, gamma='auto_deprecated',\n",
       "  kernel='rbf', max_iter=-1, probability=False, random_state=None,\n",
       "  shrinking=True, tol=0.001, verbose=False)"
      ]
     },
     "execution_count": 13,
     "metadata": {},
     "output_type": "execute_result"
    }
   ],
   "source": [
    "model_svc = SVC()\n",
    "model_svc.fit(X_train_scaled, y_train)"
   ]
  },
  {
   "cell_type": "code",
   "execution_count": 14,
   "metadata": {},
   "outputs": [
    {
     "data": {
      "text/plain": [
       "'2019-01-31 15:45:46'"
      ]
     },
     "execution_count": 14,
     "metadata": {},
     "output_type": "execute_result"
    }
   ],
   "source": [
    "datetime.now().strftime('%Y-%m-%d %H:%M:%S')"
   ]
  },
  {
   "cell_type": "code",
   "execution_count": 15,
   "metadata": {},
   "outputs": [],
   "source": [
    "# predict on test data - check metrics\n",
    "y_pred = model_svc.predict(X_test_scaled)"
   ]
  },
  {
   "cell_type": "code",
   "execution_count": 16,
   "metadata": {},
   "outputs": [
    {
     "name": "stdout",
     "output_type": "stream",
     "text": [
      "Confusion matrix, without normalization\n",
      "[[7184  857]\n",
      " [ 140 1821]]\n",
      "Normalized confusion matrix\n",
      "[[0.89 0.11]\n",
      " [0.07 0.93]]\n"
     ]
    },
    {
     "data": {
      "image/png": "[encoded data removed]",
      "text/plain": [
       "<matplotlib.figure.Figure at 0x7f35dd0c3a90>"
      ]
     },
     "metadata": {},
     "output_type": "display_data"
    },
    {
     "data": {
      "image/png": "[encoded data removed]",
      "text/plain": [
       "<matplotlib.figure.Figure at 0x7f35dd07d160>"
      ]
     },
     "metadata": {},
     "output_type": "display_data"
    }
   ],
   "source": [
    "####    Compute confusion matrix     ####\n",
    "\n",
    "class_names = ['0','1'] #['wake','sleep_stage_1','sleep_stage_2']  # wake, SS1, SS2  ; # '0','1','2'\n",
    "\n",
    "cnf_matrix = confusion_matrix(y_test, y_pred)\n",
    "np.set_printoptions(precision=2)\n",
    "\n",
    "# Plot non-normalized confusion matrix\n",
    "plt.figure()\n",
    "plot_confusion_matrix(cnf_matrix, classes=class_names,\n",
    "                      title='Confusion matrix, without normalization')\n",
    "\n",
    "# Plot normalized confusion matrix : normalisation shows nan for class'0' no signal has class=0 as true label\n",
    "plt.figure()\n",
    "plot_confusion_matrix(cnf_matrix, classes=class_names, normalize=True,\n",
    "                      title='Normalized confusion matrix')\n",
    "plt.show()"
   ]
  },
  {
   "cell_type": "code",
   "execution_count": 17,
   "metadata": {},
   "outputs": [
    {
     "name": "stdout",
     "output_type": "stream",
     "text": [
      "              precision    recall  f1-score   support\n",
      "\n",
      "           0       0.98      0.89      0.94      8041\n",
      "           1       0.68      0.93      0.79      1961\n",
      "\n",
      "   micro avg       0.90      0.90      0.90     10002\n",
      "   macro avg       0.83      0.91      0.86     10002\n",
      "weighted avg       0.92      0.90      0.91     10002\n",
      "\n"
     ]
    }
   ],
   "source": [
    "print(classification_report(y_test, y_pred, target_names=class_names))"
   ]
  },
  {
   "cell_type": "code",
   "execution_count": 18,
   "metadata": {},
   "outputs": [
    {
     "name": "stdout",
     "output_type": "stream",
     "text": [
      "0.9003199360127975\n"
     ]
    }
   ],
   "source": [
    "print(accuracy_score(y_test,y_pred))"
   ]
  },
  {
   "cell_type": "code",
   "execution_count": 19,
   "metadata": {},
   "outputs": [
    {
     "data": {
      "text/plain": [
       "(array([0.98, 0.68]),\n",
       " array([0.89, 0.93]),\n",
       " array([0.94, 0.79]),\n",
       " array([8041, 1961]))"
      ]
     },
     "execution_count": 19,
     "metadata": {},
     "output_type": "execute_result"
    }
   ],
   "source": [
    "from sklearn.metrics import precision_recall_fscore_support\n",
    "precision_recall_fscore_support(y_test,y_pred) \n",
    "\n",
    "# layout of results\n",
    "# precision: class 0, class 1   ==> [0: wake; 1: sleep/drowsy/fatigue]\n",
    "# recall: class 0, class 1\n",
    "# f1 score: class 0, class 1\n",
    "# support: class 0, class 1"
   ]
  },
  {
   "cell_type": "code",
   "execution_count": 20,
   "metadata": {},
   "outputs": [
    {
     "name": "stdout",
     "output_type": "stream",
     "text": [
      "sen: 0.928607853136155 , spec: 0.8934212162666335\n"
     ]
    }
   ],
   "source": [
    "p = precision_recall_fscore_support(y_test,y_pred) \n",
    "sen = p[1][1]\n",
    "spec = p[1][0]\n",
    "print('sen: ' + str(sen) +' , spec: ' + str(spec))"
   ]
  },
  {
   "cell_type": "code",
   "execution_count": null,
   "metadata": {},
   "outputs": [],
   "source": []
  },
  {
   "cell_type": "code",
   "execution_count": null,
   "metadata": {},
   "outputs": [],
   "source": []
  },
  {
   "cell_type": "code",
   "execution_count": null,
   "metadata": {},
   "outputs": [],
   "source": [
    "##########################################################################################"
   ]
  },
  {
   "cell_type": "code",
   "execution_count": null,
   "metadata": {},
   "outputs": [],
   "source": []
  }
 ],
 "metadata": {
  "kernelspec": {
   "display_name": "Python 3",
   "language": "python",
   "name": "python3"
  },
  "language_info": {
   "codemirror_mode": {
    "name": "ipython",
    "version": 3
   },
   "file_extension": ".py",
   "mimetype": "text/x-python",
   "name": "python",
   "nbconvert_exporter": "python",
   "pygments_lexer": "ipython3",
   "version": "3.6.9"
  }
 },
 "nbformat": 4,
 "nbformat_minor": 2
}
