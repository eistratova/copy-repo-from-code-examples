{
 "cells": [
  {
   "cell_type": "code",
   "execution_count": 1,
   "metadata": {},
   "outputs": [],
   "source": [
    "## classification algo\n",
    "\n",
    "## THINGS TRIED: \n",
    "#  adding age & gender \n",
    "\n",
    "# 1. 2-class classification with SVC & RF\n",
    "# 2. finding optimal hyperparameters\n",
    "# 3. checked with reduced feature set (from corr map & PCA)\n",
    "# 4. changing threshold\n",
    "\n",
    "\n",
    "## https://scikit-learn.org/stable/modules/svm.html\n",
    "# google: how to use svm in python\n",
    "\n",
    "\n",
    "# google: random forest classifier scikit learn\n",
    "# https://scikit-learn.org/stable/modules/generated/sklearn.ensemble.RandomForestClassifier.html\n",
    "# https://scikit-learn.org/stable/modules/ensemble.html\n",
    "# http://dataaspirant.com/2017/06/26/random-forest-classifier-python-scikit-learn/\n",
    "\n",
    "# https://medium.com/all-things-ai/in-depth-parameter-tuning-for-random-forest-d67bb7e920d\n",
    "# # https://towardsdatascience.com/fine-tuning-a-classifier-in-scikit-learn-66e048c21e65\n",
    "\n",
    "\n",
    "\n",
    "import pandas as pd\n",
    "import numpy as np\n",
    "import os\n",
    "import pickle\n",
    "from scipy import stats\n",
    "import matplotlib.pyplot as plt\n",
    "\n",
    "from sklearn.preprocessing import MinMaxScaler, StandardScaler\n",
    "from sklearn.model_selection import train_test_split\n",
    "\n",
    "from sklearn.svm import SVC\n",
    "from sklearn.ensemble import GradientBoostingClassifier,RandomForestClassifier\n",
    "from sklearn.metrics import auc,accuracy_score\n",
    "from sklearn.metrics import precision_recall_fscore_support,confusion_matrix\n",
    "\n",
    "from datetime import datetime"
   ]
  },
  {
   "cell_type": "code",
   "execution_count": 2,
   "metadata": {},
   "outputs": [],
   "source": [
    "######################  functions #########################\n",
    "\n",
    "from sklearn.metrics import confusion_matrix\n",
    "import itertools\n",
    "\n",
    "def plot_confusion_matrix(cm, classes,\n",
    "                          normalize=False,\n",
    "                          title='Confusion matrix',\n",
    "                          cmap=plt.cm.Blues):\n",
    "    \"\"\"\n",
    "    This function prints and plots the confusion matrix.\n",
    "    Normalization can be applied by setting `normalize=True`.\n",
    "    \"\"\"\n",
    "    if normalize:\n",
    "        cm = cm.astype('float') / cm.sum(axis=1)[:, np.newaxis]\n",
    "        print(\"Normalized confusion matrix\")\n",
    "    else:\n",
    "        print('Confusion matrix, without normalization')\n",
    "\n",
    "    print(cm)\n",
    "\n",
    "    plt.imshow(cm, interpolation='nearest', cmap=cmap)\n",
    "    plt.title(title)\n",
    "    plt.colorbar()\n",
    "    tick_marks = np.arange(len(classes))\n",
    "    plt.xticks(tick_marks, classes, rotation=45)\n",
    "    plt.yticks(tick_marks, classes)\n",
    "\n",
    "    fmt = '.2f' if normalize else 'd'\n",
    "    thresh = cm.max() / 2.\n",
    "    for i, j in itertools.product(range(cm.shape[0]), range(cm.shape[1])):\n",
    "        plt.text(j, i, format(cm[i, j], fmt),\n",
    "                 horizontalalignment=\"center\",\n",
    "                 color=\"white\" if cm[i, j] > thresh else \"black\")\n",
    "\n",
    "    plt.tight_layout()\n",
    "    plt.ylabel('True label')\n",
    "    plt.xlabel('Predicted label')\n",
    "\n",
    "\n",
    "#################################################################################"
   ]
  },
  {
   "cell_type": "code",
   "execution_count": 3,
   "metadata": {},
   "outputs": [],
   "source": [
    "#################################################################################################################\n",
    "\n",
    "### using individual epoch data ###\n",
    "\n",
    "file_location='C:\\\\Users\\\\DAR9KOR\\\\Desktop\\\\data\\\\HEALTHCARE\\\\EEG\\\\data\\\\Pickle_Files_6nov2018'\n",
    "os.chdir('C:\\\\Users\\\\DAR9KOR\\\\Desktop\\\\data\\\\HEALTHCARE\\\\EEG\\\\data\\\\Pickle_Files_6nov2018') "
   ]
  },
  {
   "cell_type": "code",
   "execution_count": 4,
   "metadata": {},
   "outputs": [],
   "source": [
    "# remove xls for 2nd night of subject 13, as there was data loss - dfull pkl file created accordingly\n",
    "# read in all xls, & then the sheets\n",
    "\n",
    "dfull = pickle.load(open('dfull_6nov.pkl', 'rb'))"
   ]
  },
  {
   "cell_type": "code",
   "execution_count": 5,
   "metadata": {},
   "outputs": [
    {
     "data": {
      "text/html": [
       "<div>\n",
       "<style scoped>\n",
       "    .dataframe tbody tr th:only-of-type {\n",
       "        vertical-align: middle;\n",
       "    }\n",
       "\n",
       "    .dataframe tbody tr th {\n",
       "        vertical-align: top;\n",
       "    }\n",
       "\n",
       "    .dataframe thead th {\n",
       "        text-align: right;\n",
       "    }\n",
       "</style>\n",
       "<table border=\"1\" class=\"dataframe\">\n",
       "  <thead>\n",
       "    <tr style=\"text-align: right;\">\n",
       "      <th></th>\n",
       "      <th>pat_id</th>\n",
       "      <th>day</th>\n",
       "      <th>segment</th>\n",
       "      <th>epoch</th>\n",
       "      <th>delta</th>\n",
       "      <th>theta</th>\n",
       "      <th>alpha</th>\n",
       "      <th>beta</th>\n",
       "      <th>gamma</th>\n",
       "      <th>class</th>\n",
       "    </tr>\n",
       "  </thead>\n",
       "  <tbody>\n",
       "    <tr>\n",
       "      <th>0</th>\n",
       "      <td>400</td>\n",
       "      <td>1</td>\n",
       "      <td>Seg1</td>\n",
       "      <td>1</td>\n",
       "      <td>0.703302</td>\n",
       "      <td>0.146348</td>\n",
       "      <td>0.099262</td>\n",
       "      <td>0.037832</td>\n",
       "      <td>0.018150</td>\n",
       "      <td>wake</td>\n",
       "    </tr>\n",
       "    <tr>\n",
       "      <th>1</th>\n",
       "      <td>400</td>\n",
       "      <td>1</td>\n",
       "      <td>Seg1</td>\n",
       "      <td>2</td>\n",
       "      <td>0.580056</td>\n",
       "      <td>0.166110</td>\n",
       "      <td>0.089898</td>\n",
       "      <td>0.058965</td>\n",
       "      <td>0.049103</td>\n",
       "      <td>wake</td>\n",
       "    </tr>\n",
       "  </tbody>\n",
       "</table>\n",
       "</div>"
      ],
      "text/plain": [
       "  pat_id day segment epoch     delta     theta     alpha      beta     gamma  \\\n",
       "0    400   1    Seg1     1  0.703302  0.146348  0.099262  0.037832  0.018150   \n",
       "1    400   1    Seg1     2  0.580056  0.166110  0.089898  0.058965  0.049103   \n",
       "\n",
       "  class  \n",
       "0  wake  \n",
       "1  wake  "
      ]
     },
     "execution_count": 5,
     "metadata": {},
     "output_type": "execute_result"
    }
   ],
   "source": [
    "dfull.head(2)"
   ]
  },
  {
   "cell_type": "code",
   "execution_count": 6,
   "metadata": {},
   "outputs": [],
   "source": [
    "## add age & gender info\n",
    "\n",
    "d2 = pd.read_excel(\"C:\\\\Users\\\\DAR9KOR\\\\Desktop\\\\data\\\\HEALTHCARE\\\\EEG\\\\data\\\\SC-subjects.xls\", 'Blad1')\n",
    "\n",
    "# rename sex column: female == 1; set male == 0\n",
    "#d2 = d2.rename(columns={'sex (F=1)': 'sex'})\n",
    "d2['sex'] = np.where( d2['sex (F=1)'] == 2, 0, 1 )\n",
    "\n",
    "# drop cols: night & lightsoff, old column for sex\n",
    "d2 = d2.drop(['night','LightsOff','sex (F=1)'],1)\n",
    "\n",
    "# drop extra subjects & duplicates\n",
    "d2 = d2[(d2.subject < 20)]\n",
    "d2['subject'] = d2['subject'] + 400\n",
    "d2 = d2.drop_duplicates(subset=['subject'], keep='first')\n",
    "# https://stackoverflow.com/questions/23667369/drop-all-duplicate-rows-in-python-pandas\n",
    "d2['pat_id'] = d2['subject']\n",
    "d2 = d2.drop('subject',1)"
   ]
  },
  {
   "cell_type": "code",
   "execution_count": 7,
   "metadata": {},
   "outputs": [
    {
     "name": "stdout",
     "output_type": "stream",
     "text": [
      "<class 'pandas.core.frame.DataFrame'>\n",
      "Int64Index: 20 entries, 0 to 37\n",
      "Data columns (total 3 columns):\n",
      "age       20 non-null int64\n",
      "sex       20 non-null int32\n",
      "pat_id    20 non-null object\n",
      "dtypes: int32(1), int64(1), object(1)\n",
      "memory usage: 560.0+ bytes\n"
     ]
    }
   ],
   "source": [
    "d2[['pat_id']] = d2[['pat_id']].astype('str')\n",
    "\n",
    "d2.info()"
   ]
  },
  {
   "cell_type": "code",
   "execution_count": 8,
   "metadata": {},
   "outputs": [
    {
     "name": "stdout",
     "output_type": "stream",
     "text": [
      "<class 'pandas.core.frame.DataFrame'>\n",
      "RangeIndex: 92994 entries, 0 to 92993\n",
      "Data columns (total 10 columns):\n",
      "pat_id     92994 non-null object\n",
      "day        92994 non-null object\n",
      "segment    92994 non-null object\n",
      "epoch      92994 non-null object\n",
      "delta      92994 non-null float64\n",
      "theta      92994 non-null float64\n",
      "alpha      92994 non-null float64\n",
      "beta       92994 non-null float64\n",
      "gamma      92994 non-null float64\n",
      "class      92994 non-null object\n",
      "dtypes: float64(5), object(5)\n",
      "memory usage: 7.1+ MB\n"
     ]
    }
   ],
   "source": [
    "dfull.info()"
   ]
  },
  {
   "cell_type": "code",
   "execution_count": 9,
   "metadata": {},
   "outputs": [
    {
     "data": {
      "text/html": [
       "<div>\n",
       "<style scoped>\n",
       "    .dataframe tbody tr th:only-of-type {\n",
       "        vertical-align: middle;\n",
       "    }\n",
       "\n",
       "    .dataframe tbody tr th {\n",
       "        vertical-align: top;\n",
       "    }\n",
       "\n",
       "    .dataframe thead th {\n",
       "        text-align: right;\n",
       "    }\n",
       "</style>\n",
       "<table border=\"1\" class=\"dataframe\">\n",
       "  <thead>\n",
       "    <tr style=\"text-align: right;\">\n",
       "      <th></th>\n",
       "      <th>pat_id</th>\n",
       "      <th>day</th>\n",
       "      <th>segment</th>\n",
       "      <th>epoch</th>\n",
       "      <th>delta</th>\n",
       "      <th>theta</th>\n",
       "      <th>alpha</th>\n",
       "      <th>beta</th>\n",
       "      <th>gamma</th>\n",
       "      <th>class</th>\n",
       "      <th>age</th>\n",
       "      <th>sex</th>\n",
       "    </tr>\n",
       "  </thead>\n",
       "  <tbody>\n",
       "    <tr>\n",
       "      <th>0</th>\n",
       "      <td>400</td>\n",
       "      <td>1</td>\n",
       "      <td>Seg1</td>\n",
       "      <td>1</td>\n",
       "      <td>0.703302</td>\n",
       "      <td>0.146348</td>\n",
       "      <td>0.099262</td>\n",
       "      <td>0.037832</td>\n",
       "      <td>0.018150</td>\n",
       "      <td>wake</td>\n",
       "      <td>33</td>\n",
       "      <td>1</td>\n",
       "    </tr>\n",
       "    <tr>\n",
       "      <th>1</th>\n",
       "      <td>400</td>\n",
       "      <td>1</td>\n",
       "      <td>Seg1</td>\n",
       "      <td>2</td>\n",
       "      <td>0.580056</td>\n",
       "      <td>0.166110</td>\n",
       "      <td>0.089898</td>\n",
       "      <td>0.058965</td>\n",
       "      <td>0.049103</td>\n",
       "      <td>wake</td>\n",
       "      <td>33</td>\n",
       "      <td>1</td>\n",
       "    </tr>\n",
       "  </tbody>\n",
       "</table>\n",
       "</div>"
      ],
      "text/plain": [
       "  pat_id day segment epoch     delta     theta     alpha      beta     gamma  \\\n",
       "0    400   1    Seg1     1  0.703302  0.146348  0.099262  0.037832  0.018150   \n",
       "1    400   1    Seg1     2  0.580056  0.166110  0.089898  0.058965  0.049103   \n",
       "\n",
       "  class  age  sex  \n",
       "0  wake   33    1  \n",
       "1  wake   33    1  "
      ]
     },
     "execution_count": 9,
     "metadata": {},
     "output_type": "execute_result"
    }
   ],
   "source": [
    "# merge EEG & subject details data\n",
    "dfull = pd.merge(dfull, d2, how='inner', on='pat_id')  # on='subject'\n",
    "dfull.head(2)"
   ]
  },
  {
   "cell_type": "code",
   "execution_count": 10,
   "metadata": {},
   "outputs": [
    {
     "data": {
      "text/html": [
       "<div>\n",
       "<style scoped>\n",
       "    .dataframe tbody tr th:only-of-type {\n",
       "        vertical-align: middle;\n",
       "    }\n",
       "\n",
       "    .dataframe tbody tr th {\n",
       "        vertical-align: top;\n",
       "    }\n",
       "\n",
       "    .dataframe thead th {\n",
       "        text-align: right;\n",
       "    }\n",
       "</style>\n",
       "<table border=\"1\" class=\"dataframe\">\n",
       "  <thead>\n",
       "    <tr style=\"text-align: right;\">\n",
       "      <th></th>\n",
       "      <th>delta</th>\n",
       "      <th>theta</th>\n",
       "      <th>alpha</th>\n",
       "      <th>beta</th>\n",
       "      <th>gamma</th>\n",
       "      <th>age</th>\n",
       "      <th>sex</th>\n",
       "    </tr>\n",
       "  </thead>\n",
       "  <tbody>\n",
       "    <tr>\n",
       "      <th>count</th>\n",
       "      <td>92994.000000</td>\n",
       "      <td>92994.000000</td>\n",
       "      <td>92994.000000</td>\n",
       "      <td>92994.000000</td>\n",
       "      <td>92994.000000</td>\n",
       "      <td>92994.000000</td>\n",
       "      <td>92994.000000</td>\n",
       "    </tr>\n",
       "    <tr>\n",
       "      <th>mean</th>\n",
       "      <td>0.548548</td>\n",
       "      <td>0.174441</td>\n",
       "      <td>0.107626</td>\n",
       "      <td>0.064444</td>\n",
       "      <td>0.051732</td>\n",
       "      <td>28.714250</td>\n",
       "      <td>0.513270</td>\n",
       "    </tr>\n",
       "    <tr>\n",
       "      <th>std</th>\n",
       "      <td>0.134191</td>\n",
       "      <td>0.054266</td>\n",
       "      <td>0.036677</td>\n",
       "      <td>0.030566</td>\n",
       "      <td>0.038432</td>\n",
       "      <td>2.877087</td>\n",
       "      <td>0.499827</td>\n",
       "    </tr>\n",
       "    <tr>\n",
       "      <th>min</th>\n",
       "      <td>0.004729</td>\n",
       "      <td>0.001743</td>\n",
       "      <td>0.001243</td>\n",
       "      <td>0.005787</td>\n",
       "      <td>0.002457</td>\n",
       "      <td>25.000000</td>\n",
       "      <td>0.000000</td>\n",
       "    </tr>\n",
       "    <tr>\n",
       "      <th>25%</th>\n",
       "      <td>0.465643</td>\n",
       "      <td>0.137236</td>\n",
       "      <td>0.083090</td>\n",
       "      <td>0.043786</td>\n",
       "      <td>0.024816</td>\n",
       "      <td>26.000000</td>\n",
       "      <td>0.000000</td>\n",
       "    </tr>\n",
       "    <tr>\n",
       "      <th>50%</th>\n",
       "      <td>0.558102</td>\n",
       "      <td>0.171532</td>\n",
       "      <td>0.103252</td>\n",
       "      <td>0.058310</td>\n",
       "      <td>0.041107</td>\n",
       "      <td>28.000000</td>\n",
       "      <td>1.000000</td>\n",
       "    </tr>\n",
       "    <tr>\n",
       "      <th>75%</th>\n",
       "      <td>0.643137</td>\n",
       "      <td>0.208692</td>\n",
       "      <td>0.127330</td>\n",
       "      <td>0.077500</td>\n",
       "      <td>0.066582</td>\n",
       "      <td>31.000000</td>\n",
       "      <td>1.000000</td>\n",
       "    </tr>\n",
       "    <tr>\n",
       "      <th>max</th>\n",
       "      <td>1.391141</td>\n",
       "      <td>0.494500</td>\n",
       "      <td>0.387486</td>\n",
       "      <td>0.333226</td>\n",
       "      <td>0.334687</td>\n",
       "      <td>34.000000</td>\n",
       "      <td>1.000000</td>\n",
       "    </tr>\n",
       "  </tbody>\n",
       "</table>\n",
       "</div>"
      ],
      "text/plain": [
       "              delta         theta         alpha          beta         gamma  \\\n",
       "count  92994.000000  92994.000000  92994.000000  92994.000000  92994.000000   \n",
       "mean       0.548548      0.174441      0.107626      0.064444      0.051732   \n",
       "std        0.134191      0.054266      0.036677      0.030566      0.038432   \n",
       "min        0.004729      0.001743      0.001243      0.005787      0.002457   \n",
       "25%        0.465643      0.137236      0.083090      0.043786      0.024816   \n",
       "50%        0.558102      0.171532      0.103252      0.058310      0.041107   \n",
       "75%        0.643137      0.208692      0.127330      0.077500      0.066582   \n",
       "max        1.391141      0.494500      0.387486      0.333226      0.334687   \n",
       "\n",
       "                age           sex  \n",
       "count  92994.000000  92994.000000  \n",
       "mean      28.714250      0.513270  \n",
       "std        2.877087      0.499827  \n",
       "min       25.000000      0.000000  \n",
       "25%       26.000000      0.000000  \n",
       "50%       28.000000      1.000000  \n",
       "75%       31.000000      1.000000  \n",
       "max       34.000000      1.000000  "
      ]
     },
     "execution_count": 10,
     "metadata": {},
     "output_type": "execute_result"
    }
   ],
   "source": [
    "dfull.describe()"
   ]
  },
  {
   "cell_type": "code",
   "execution_count": 11,
   "metadata": {},
   "outputs": [
    {
     "data": {
      "text/plain": [
       "class\n",
       "sleep_stage_1     2804\n",
       "sleep_stage_2    17799\n",
       "wake             72391\n",
       "dtype: int64"
      ]
     },
     "execution_count": 11,
     "metadata": {},
     "output_type": "execute_result"
    }
   ],
   "source": [
    "dfull.groupby('class').size()"
   ]
  },
  {
   "cell_type": "code",
   "execution_count": 12,
   "metadata": {},
   "outputs": [],
   "source": [
    "### Convert from 3-class to 2-class ####\n",
    "\n",
    "dfull['class2'] = dfull['class']\n",
    "dfull['class2'] = [0 if x == 'wake' else 1 for x in dfull['class2']]\n",
    "\n",
    "# wake=0 & sleepy = 1\n",
    "# we want to correctly identify sleepiness\n",
    "# so we want to maximise sensitivity/recall/TPR : TP/ (TP + FN)\n",
    "#              proportion of actual positives/ sick people who are correctly identified as having the condition\n",
    "\n",
    "# precision or PPV = TP/ (TP + FP) \n",
    "#              proportion of actual positives/ sick people among those which the test predicts as sick"
   ]
  },
  {
   "cell_type": "code",
   "execution_count": 13,
   "metadata": {},
   "outputs": [
    {
     "data": {
      "text/plain": [
       "pat_id      object\n",
       "day         object\n",
       "segment     object\n",
       "epoch       object\n",
       "delta      float64\n",
       "theta      float64\n",
       "alpha      float64\n",
       "beta       float64\n",
       "gamma      float64\n",
       "class       object\n",
       "age          int64\n",
       "sex          int32\n",
       "class2       int64\n",
       "dtype: object"
      ]
     },
     "execution_count": 13,
     "metadata": {},
     "output_type": "execute_result"
    }
   ],
   "source": [
    "dfull.dtypes"
   ]
  },
  {
   "cell_type": "code",
   "execution_count": 14,
   "metadata": {},
   "outputs": [],
   "source": [
    "## convert selected columns to categories \n",
    "## DO NOT CONVERT 'class2' from numeric to category - this probably gives error in grid search\n",
    "\n",
    "## add sex column as category\n",
    "\n",
    "dfull[['class','sex']] = dfull[['class','sex']].astype('str')        # ,'class2'\n",
    "dfull[['class','sex']] = dfull[['class','sex']].astype('category')   # ,'class2'"
   ]
  },
  {
   "cell_type": "code",
   "execution_count": 15,
   "metadata": {},
   "outputs": [
    {
     "data": {
      "text/plain": [
       "11200"
      ]
     },
     "execution_count": 15,
     "metadata": {},
     "output_type": "execute_result"
    }
   ],
   "source": [
    "### create a smaller subset of data for testing algo\n",
    "dw = dfull[(dfull['class'] == 'wake')]\n",
    "d1 = dfull[(dfull['class'] == 'sleep_stage_1')]\n",
    "d2 = dfull[(dfull['class'] == 'sleep_stage_2')]\n",
    "\n",
    "# https://stackoverflow.com/questions/15923826/random-row-selection-in-pandas-dataframe\n",
    "# Randomly sample n elements from your dataframe\n",
    "d1_elements = d1.sample(n=2800)\n",
    "d2_elements = d2.sample(n=2800)\n",
    "dw_elements = dw.sample(n=5600)\n",
    "\n",
    "dn = pd.DataFrame()\n",
    "dn = pd.concat([dw_elements, d1_elements, d2_elements],ignore_index=True)\n",
    "dn.shape[0]"
   ]
  },
  {
   "cell_type": "code",
   "execution_count": 16,
   "metadata": {},
   "outputs": [
    {
     "data": {
      "text/html": [
       "<div>\n",
       "<style scoped>\n",
       "    .dataframe tbody tr th:only-of-type {\n",
       "        vertical-align: middle;\n",
       "    }\n",
       "\n",
       "    .dataframe tbody tr th {\n",
       "        vertical-align: top;\n",
       "    }\n",
       "\n",
       "    .dataframe thead th {\n",
       "        text-align: right;\n",
       "    }\n",
       "</style>\n",
       "<table border=\"1\" class=\"dataframe\">\n",
       "  <thead>\n",
       "    <tr style=\"text-align: right;\">\n",
       "      <th></th>\n",
       "      <th>pat_id</th>\n",
       "      <th>day</th>\n",
       "      <th>segment</th>\n",
       "      <th>epoch</th>\n",
       "      <th>delta</th>\n",
       "      <th>theta</th>\n",
       "      <th>alpha</th>\n",
       "      <th>beta</th>\n",
       "      <th>gamma</th>\n",
       "      <th>class</th>\n",
       "      <th>age</th>\n",
       "      <th>sex</th>\n",
       "      <th>class2</th>\n",
       "    </tr>\n",
       "  </thead>\n",
       "  <tbody>\n",
       "    <tr>\n",
       "      <th>0</th>\n",
       "      <td>415</td>\n",
       "      <td>2</td>\n",
       "      <td>Seg2</td>\n",
       "      <td>378</td>\n",
       "      <td>0.551187</td>\n",
       "      <td>0.160626</td>\n",
       "      <td>0.086423</td>\n",
       "      <td>0.067059</td>\n",
       "      <td>0.074128</td>\n",
       "      <td>wake</td>\n",
       "      <td>31</td>\n",
       "      <td>0</td>\n",
       "      <td>0</td>\n",
       "    </tr>\n",
       "    <tr>\n",
       "      <th>1</th>\n",
       "      <td>416</td>\n",
       "      <td>2</td>\n",
       "      <td>Seg8</td>\n",
       "      <td>266</td>\n",
       "      <td>0.336652</td>\n",
       "      <td>0.126742</td>\n",
       "      <td>0.061290</td>\n",
       "      <td>0.103935</td>\n",
       "      <td>0.163094</td>\n",
       "      <td>wake</td>\n",
       "      <td>32</td>\n",
       "      <td>0</td>\n",
       "      <td>0</td>\n",
       "    </tr>\n",
       "  </tbody>\n",
       "</table>\n",
       "</div>"
      ],
      "text/plain": [
       "  pat_id day segment epoch     delta     theta     alpha      beta     gamma  \\\n",
       "0    415   2    Seg2   378  0.551187  0.160626  0.086423  0.067059  0.074128   \n",
       "1    416   2    Seg8   266  0.336652  0.126742  0.061290  0.103935  0.163094   \n",
       "\n",
       "  class  age sex  class2  \n",
       "0  wake   31   0       0  \n",
       "1  wake   32   0       0  "
      ]
     },
     "execution_count": 16,
     "metadata": {},
     "output_type": "execute_result"
    }
   ],
   "source": [
    "dn.head(2)"
   ]
  },
  {
   "cell_type": "code",
   "execution_count": 17,
   "metadata": {},
   "outputs": [
    {
     "data": {
      "text/plain": [
       "(8960, 7)"
      ]
     },
     "execution_count": 17,
     "metadata": {},
     "output_type": "execute_result"
    }
   ],
   "source": [
    "## create train-test data : 2 class; with appropriate feature columns\n",
    "\n",
    "X = dn[['delta','theta','alpha','beta','gamma','age','sex']]  # dfull[['delta','theta','alpha','beta','gamma']]\n",
    "y = dn[['class2']]  # dfull[['class']] \n",
    "\n",
    "X_train, X_test, y_train, y_test = train_test_split(X, y, test_size=0.2, random_state=0)\n",
    "# use 'stratify=True' for consistent class distribution between training and test sets\n",
    "\n",
    "## normalize the data  : can also use other scalers like StandardScaler()\n",
    "scaler = StandardScaler()  #MinMaxScaler()\n",
    "X_train_scaled = scaler.fit_transform(X_train)\n",
    "X_test_scaled = scaler.transform(X_test)\n",
    "\n",
    "X_train_scaled.shape"
   ]
  },
  {
   "cell_type": "code",
   "execution_count": null,
   "metadata": {},
   "outputs": [],
   "source": []
  },
  {
   "cell_type": "code",
   "execution_count": null,
   "metadata": {},
   "outputs": [],
   "source": []
  },
  {
   "cell_type": "code",
   "execution_count": null,
   "metadata": {},
   "outputs": [],
   "source": [
    "#### SVC MODEL ####"
   ]
  },
  {
   "cell_type": "code",
   "execution_count": 18,
   "metadata": {},
   "outputs": [
    {
     "data": {
      "text/plain": [
       "'2018-11-13 10:23:49'"
      ]
     },
     "execution_count": 18,
     "metadata": {},
     "output_type": "execute_result"
    }
   ],
   "source": [
    "datetime.now().strftime('%Y-%m-%d %H:%M:%S')"
   ]
  },
  {
   "cell_type": "code",
   "execution_count": 19,
   "metadata": {},
   "outputs": [
    {
     "name": "stderr",
     "output_type": "stream",
     "text": [
      "C:\\Users\\DAR9KOR\\AppData\\Local\\Continuum\\anaconda3\\lib\\site-packages\\sklearn\\utils\\validation.py:578: DataConversionWarning: A column-vector y was passed when a 1d array was expected. Please change the shape of y to (n_samples, ), for example using ravel().\n",
      "  y = column_or_1d(y, warn=True)\n"
     ]
    },
    {
     "data": {
      "text/plain": [
       "SVC(C=1.0, cache_size=200, class_weight=None, coef0=0.0,\n",
       "  decision_function_shape='ovr', degree=3, gamma='auto', kernel='rbf',\n",
       "  max_iter=-1, probability=False, random_state=None, shrinking=True,\n",
       "  tol=0.001, verbose=False)"
      ]
     },
     "execution_count": 19,
     "metadata": {},
     "output_type": "execute_result"
    }
   ],
   "source": [
    "## fit model - vary ML algo & hyperparameters\n",
    "\n",
    "model_svc = SVC()  # kernel='linear'\n",
    "model_svc.fit(X_train_scaled, y_train)"
   ]
  },
  {
   "cell_type": "code",
   "execution_count": 20,
   "metadata": {},
   "outputs": [
    {
     "data": {
      "text/plain": [
       "'2018-11-13 10:23:51'"
      ]
     },
     "execution_count": 20,
     "metadata": {},
     "output_type": "execute_result"
    }
   ],
   "source": [
    "datetime.now().strftime('%Y-%m-%d %H:%M:%S')"
   ]
  },
  {
   "cell_type": "code",
   "execution_count": 21,
   "metadata": {},
   "outputs": [],
   "source": [
    "# predict on test data - check metrics\n",
    "y_pred_svc = model_svc.predict(X_test_scaled)"
   ]
  },
  {
   "cell_type": "code",
   "execution_count": 22,
   "metadata": {},
   "outputs": [
    {
     "name": "stdout",
     "output_type": "stream",
     "text": [
      "Confusion matrix, without normalization\n",
      "[[940 152]\n",
      " [179 969]]\n",
      "Normalized confusion matrix\n",
      "[[0.86 0.14]\n",
      " [0.16 0.84]]\n"
     ]
    },
    {
     "data": {
      "image/png": "[encoded data removed]",
      "text/plain": [
       "<Figure size 432x288 with 2 Axes>"
      ]
     },
     "metadata": {},
     "output_type": "display_data"
    },
    {
     "data": {
      "image/png": "[encoded data removed]",
      "text/plain": [
       "<Figure size 432x288 with 2 Axes>"
      ]
     },
     "metadata": {},
     "output_type": "display_data"
    }
   ],
   "source": [
    "####    Compute confusion matrix     ####\n",
    "\n",
    "class_names = ['0','1'] #['wake','sleep_stage_1','sleep_stage_2']  # wake, SS1, SS2  ; # '0','1','2'\n",
    "\n",
    "cnf_matrix = confusion_matrix(y_test, y_pred_svc)\n",
    "np.set_printoptions(precision=2)\n",
    "\n",
    "# Plot non-normalized confusion matrix\n",
    "plt.figure()\n",
    "plot_confusion_matrix(cnf_matrix, classes=class_names,\n",
    "                      title='Confusion matrix, without normalization')\n",
    "\n",
    "# Plot normalized confusion matrix : normalisation shows nan for class'0' no signal has class=0 as true label\n",
    "plt.figure()\n",
    "plot_confusion_matrix(cnf_matrix, classes=class_names, normalize=True,\n",
    "                      title='Normalized confusion matrix')\n",
    "plt.show()"
   ]
  },
  {
   "cell_type": "code",
   "execution_count": 23,
   "metadata": {},
   "outputs": [
    {
     "name": "stdout",
     "output_type": "stream",
     "text": [
      "             precision    recall  f1-score   support\n",
      "\n",
      "          0       0.84      0.86      0.85      1092\n",
      "          1       0.86      0.84      0.85      1148\n",
      "\n",
      "avg / total       0.85      0.85      0.85      2240\n",
      "\n"
     ]
    }
   ],
   "source": [
    "from sklearn.metrics import classification_report\n",
    "\n",
    "print(classification_report(y_test, y_pred_svc, target_names=class_names))"
   ]
  },
  {
   "cell_type": "code",
   "execution_count": 24,
   "metadata": {},
   "outputs": [
    {
     "name": "stdout",
     "output_type": "stream",
     "text": [
      "sen: 0.8440766550522648 , spec: 0.8608058608058609\n"
     ]
    }
   ],
   "source": [
    "from sklearn.metrics import precision_recall_fscore_support\n",
    "p = precision_recall_fscore_support(y_test,y_pred_svc) \n",
    "sen = p[1][1]\n",
    "spec = p[1][0]\n",
    "print('sen: ' + str(sen) +' , spec: ' + str(spec))"
   ]
  },
  {
   "cell_type": "code",
   "execution_count": null,
   "metadata": {},
   "outputs": [],
   "source": []
  },
  {
   "cell_type": "code",
   "execution_count": null,
   "metadata": {},
   "outputs": [],
   "source": [
    "#### RF model ####"
   ]
  },
  {
   "cell_type": "code",
   "execution_count": 25,
   "metadata": {},
   "outputs": [
    {
     "data": {
      "text/plain": [
       "'2018-11-13 10:25:15'"
      ]
     },
     "execution_count": 25,
     "metadata": {},
     "output_type": "execute_result"
    }
   ],
   "source": [
    "datetime.now().strftime('%Y-%m-%d %H:%M:%S')"
   ]
  },
  {
   "cell_type": "code",
   "execution_count": 26,
   "metadata": {},
   "outputs": [
    {
     "name": "stderr",
     "output_type": "stream",
     "text": [
      "C:\\Users\\DAR9KOR\\AppData\\Local\\Continuum\\anaconda3\\lib\\site-packages\\ipykernel_launcher.py:3: DataConversionWarning: A column-vector y was passed when a 1d array was expected. Please change the shape of y to (n_samples,), for example using ravel().\n",
      "  This is separate from the ipykernel package so we can avoid doing imports until\n"
     ]
    },
    {
     "data": {
      "text/plain": [
       "RandomForestClassifier(bootstrap=True, class_weight=None, criterion='gini',\n",
       "            max_depth=None, max_features='auto', max_leaf_nodes=None,\n",
       "            min_impurity_decrease=0.0, min_impurity_split=None,\n",
       "            min_samples_leaf=1, min_samples_split=2,\n",
       "            min_weight_fraction_leaf=0.0, n_estimators=501, n_jobs=1,\n",
       "            oob_score=False, random_state=None, verbose=0,\n",
       "            warm_start=False)"
      ]
     },
     "execution_count": 26,
     "metadata": {},
     "output_type": "execute_result"
    }
   ],
   "source": [
    "model_rf = RandomForestClassifier(n_estimators = 501) ## max_depth=5, random_state=0,verbose =0)  \n",
    "# max_features=2, min_samples_split=4, n_estimators=50, min_samples_leaf=2\n",
    "model_rf.fit(X_train_scaled, y_train)"
   ]
  },
  {
   "cell_type": "code",
   "execution_count": 27,
   "metadata": {},
   "outputs": [
    {
     "data": {
      "text/plain": [
       "'2018-11-13 10:25:24'"
      ]
     },
     "execution_count": 27,
     "metadata": {},
     "output_type": "execute_result"
    }
   ],
   "source": [
    "datetime.now().strftime('%Y-%m-%d %H:%M:%S')"
   ]
  },
  {
   "cell_type": "code",
   "execution_count": 28,
   "metadata": {},
   "outputs": [],
   "source": [
    "# predict on test data - check metrics\n",
    "y_pred_rf = model_rf.predict(X_test_scaled)"
   ]
  },
  {
   "cell_type": "code",
   "execution_count": 29,
   "metadata": {},
   "outputs": [
    {
     "name": "stdout",
     "output_type": "stream",
     "text": [
      "             precision    recall  f1-score   support\n",
      "\n",
      "          0       0.85      0.87      0.86      1092\n",
      "          1       0.87      0.86      0.86      1148\n",
      "\n",
      "avg / total       0.86      0.86      0.86      2240\n",
      "\n"
     ]
    }
   ],
   "source": [
    "from sklearn.metrics import classification_report\n",
    "print(classification_report(y_test, y_pred_rf, target_names=class_names))"
   ]
  },
  {
   "cell_type": "code",
   "execution_count": 30,
   "metadata": {},
   "outputs": [
    {
     "name": "stdout",
     "output_type": "stream",
     "text": [
      "sen: 0.8571428571428571 , spec: 0.8663003663003663\n"
     ]
    }
   ],
   "source": [
    "p = precision_recall_fscore_support(y_test,y_pred_rf) \n",
    "sen = p[1][1]\n",
    "spec = p[1][0]\n",
    "print('sen: ' + str(sen) +' , spec: ' + str(spec))"
   ]
  },
  {
   "cell_type": "code",
   "execution_count": 31,
   "metadata": {},
   "outputs": [
    {
     "name": "stdout",
     "output_type": "stream",
     "text": [
      "Confusion matrix, without normalization\n",
      "[[946 146]\n",
      " [164 984]]\n",
      "Normalized confusion matrix\n",
      "[[0.87 0.13]\n",
      " [0.14 0.86]]\n"
     ]
    },
    {
     "data": {
      "image/png": "[encoded data removed]",
      "text/plain": [
       "<Figure size 432x288 with 2 Axes>"
      ]
     },
     "metadata": {},
     "output_type": "display_data"
    },
    {
     "data": {
      "image/png": "[encoded data removed]",
      "text/plain": [
       "<Figure size 432x288 with 2 Axes>"
      ]
     },
     "metadata": {},
     "output_type": "display_data"
    }
   ],
   "source": [
    "####    Compute confusion matrix     ####\n",
    "\n",
    "class_names = ['0','1'] #['wake','sleep_stage_1','sleep_stage_2']  # wake, SS1, SS2  ; # '0','1','2'\n",
    "\n",
    "cnf_matrix = confusion_matrix(y_test, y_pred_rf)\n",
    "np.set_printoptions(precision=2)\n",
    "\n",
    "# Plot non-normalized confusion matrix\n",
    "plt.figure()\n",
    "plot_confusion_matrix(cnf_matrix, classes=class_names,\n",
    "                      title='Confusion matrix, without normalization')\n",
    "\n",
    "# Plot normalized confusion matrix : normalisation shows nan for class'0' no signal has class=0 as true label\n",
    "plt.figure()\n",
    "plot_confusion_matrix(cnf_matrix, classes=class_names, normalize=True,\n",
    "                      title='Normalized confusion matrix')\n",
    "plt.show()"
   ]
  },
  {
   "cell_type": "code",
   "execution_count": null,
   "metadata": {},
   "outputs": [],
   "source": []
  },
  {
   "cell_type": "code",
   "execution_count": null,
   "metadata": {},
   "outputs": [],
   "source": []
  },
  {
   "cell_type": "code",
   "execution_count": null,
   "metadata": {},
   "outputs": [],
   "source": []
  },
  {
   "cell_type": "code",
   "execution_count": null,
   "metadata": {},
   "outputs": [],
   "source": [
    "##############################################################################\n",
    "\n",
    "#### grid-search to optimise RF model hyper-parameters  ###"
   ]
  },
  {
   "cell_type": "code",
   "execution_count": 42,
   "metadata": {},
   "outputs": [],
   "source": [
    "'''\n",
    "# https://towardsdatascience.com/fine-tuning-a-classifier-in-scikit-learn-66e048c21e65\n",
    "\n",
    "from sklearn.metrics import make_scorer,recall_score,accuracy_score,precision_score   #roc_curve, precision_recall_curve, auc, confusion_matrix\n",
    "from sklearn.model_selection import GridSearchCV, StratifiedKFold   # train_test_split,\n",
    "\n",
    "clf = RandomForestClassifier(n_jobs=-1)  # this runs the computation in parallel\n",
    "\n",
    "param_grid = {\n",
    "    # http://scikit-learn.org/stable/modules/generated/sklearn.ensemble.RandomForestClassifier.html\n",
    "    \n",
    "    'min_samples_split': [3, 10, 20], \n",
    "    'n_estimators' : [101, 501, 1001, 5001],\n",
    "    #'max_depth': [3, 5, 15, 25],\n",
    "    'max_features': [2,3, 5]      # there are 5 features in the input data\n",
    "}\n",
    "\n",
    "scorers = {\n",
    "    'precision_score': make_scorer(precision_score),\n",
    "    'recall_score': make_scorer(recall_score),\n",
    "    'accuracy_score': make_scorer(accuracy_score)\n",
    "}\n",
    "\n",
    "\n",
    "\n",
    "def grid_search_wrapper(refit_score='recall_score'):\n",
    "    \"\"\"\n",
    "    fits a GridSearchCV classifier using refit_score for optimization\n",
    "    prints classifier performance metrics\n",
    "    \"\"\"\n",
    "    skf = StratifiedKFold(n_splits=10)\n",
    "    grid_search = GridSearchCV(clf, param_grid, scoring=scorers, refit=refit_score,\n",
    "                           cv=skf, return_train_score=True, n_jobs=-1)\n",
    "    grid_search.fit(X_train.values, y_train.values)\n",
    "\n",
    "    # make the predictions\n",
    "    y_pred = grid_search.predict(X_test.values)\n",
    "\n",
    "    print('Best params for {}'.format(refit_score))\n",
    "    print(grid_search.best_params_)\n",
    "\n",
    "    # confusion matrix on the test data.\n",
    "    print('\\nConfusion matrix of Random Forest optimized for {} on the test data:'.format(refit_score))\n",
    "    print(pd.DataFrame(confusion_matrix(y_test, y_pred),\n",
    "                 columns=['pred_neg', 'pred_pos'], index=['neg', 'pos']))\n",
    "    return grid_search\n",
    "'''"
   ]
  },
  {
   "cell_type": "code",
   "execution_count": 43,
   "metadata": {},
   "outputs": [
    {
     "name": "stdout",
     "output_type": "stream",
     "text": [
      "2018-11-07 14:42:47\n"
     ]
    }
   ],
   "source": [
    "'''from datetime import datetime\n",
    "print(datetime.now().strftime('%Y-%m-%d %H:%M:%S'))'''"
   ]
  },
  {
   "cell_type": "code",
   "execution_count": 44,
   "metadata": {},
   "outputs": [
    {
     "name": "stderr",
     "output_type": "stream",
     "text": [
      "C:\\Users\\DAR9KOR\\AppData\\Local\\Continuum\\anaconda3\\lib\\site-packages\\sklearn\\model_selection\\_search.py:739: DataConversionWarning: A column-vector y was passed when a 1d array was expected. Please change the shape of y to (n_samples,), for example using ravel().\n",
      "  self.best_estimator_.fit(X, y, **fit_params)\n"
     ]
    },
    {
     "name": "stdout",
     "output_type": "stream",
     "text": [
      "Best params for recall_score\n",
      "{'max_features': 3, 'min_samples_split': 10, 'n_estimators': 501}\n",
      "\n",
      "Confusion matrix of Random Forest optimized for recall_score on the test data:\n",
      "     pred_neg  pred_pos\n",
      "neg       921       171\n",
      "pos       176       972\n"
     ]
    }
   ],
   "source": [
    "'''grid_search_clf = grid_search_wrapper(refit_score='recall_score')\n",
    "\n",
    "## DO NOT CONVERT 'class2' from numeric to category - this probably gives error in grid search\n",
    "## see ln 10'''"
   ]
  },
  {
   "cell_type": "code",
   "execution_count": 45,
   "metadata": {},
   "outputs": [
    {
     "name": "stdout",
     "output_type": "stream",
     "text": [
      "2018-11-07 16:32:32\n"
     ]
    }
   ],
   "source": [
    "'''print(datetime.now().strftime('%Y-%m-%d %H:%M:%S'))\n"
   ]
  },
  {
   "cell_type": "code",
   "execution_count": 46,
   "metadata": {},
   "outputs": [
    {
     "data": {
      "text/html": [
       "<div>\n",
       "<style scoped>\n",
       "    .dataframe tbody tr th:only-of-type {\n",
       "        vertical-align: middle;\n",
       "    }\n",
       "\n",
       "    .dataframe tbody tr th {\n",
       "        vertical-align: top;\n",
       "    }\n",
       "\n",
       "    .dataframe thead th {\n",
       "        text-align: right;\n",
       "    }\n",
       "</style>\n",
       "<table border=\"1\" class=\"dataframe\">\n",
       "  <thead>\n",
       "    <tr style=\"text-align: right;\">\n",
       "      <th></th>\n",
       "      <th>mean_test_precision_score</th>\n",
       "      <th>mean_test_recall_score</th>\n",
       "      <th>mean_test_accuracy_score</th>\n",
       "      <th>param_max_features</th>\n",
       "      <th>param_min_samples_split</th>\n",
       "      <th>param_n_estimators</th>\n",
       "    </tr>\n",
       "  </thead>\n",
       "  <tbody>\n",
       "    <tr>\n",
       "      <th>17</th>\n",
       "      <td>0.834</td>\n",
       "      <td>0.835</td>\n",
       "      <td>0.835</td>\n",
       "      <td>3</td>\n",
       "      <td>10</td>\n",
       "      <td>501</td>\n",
       "    </tr>\n",
       "    <tr>\n",
       "      <th>19</th>\n",
       "      <td>0.834</td>\n",
       "      <td>0.834</td>\n",
       "      <td>0.835</td>\n",
       "      <td>3</td>\n",
       "      <td>10</td>\n",
       "      <td>5001</td>\n",
       "    </tr>\n",
       "    <tr>\n",
       "      <th>35</th>\n",
       "      <td>0.833</td>\n",
       "      <td>0.834</td>\n",
       "      <td>0.834</td>\n",
       "      <td>5</td>\n",
       "      <td>20</td>\n",
       "      <td>5001</td>\n",
       "    </tr>\n",
       "    <tr>\n",
       "      <th>31</th>\n",
       "      <td>0.831</td>\n",
       "      <td>0.834</td>\n",
       "      <td>0.833</td>\n",
       "      <td>5</td>\n",
       "      <td>10</td>\n",
       "      <td>5001</td>\n",
       "    </tr>\n",
       "    <tr>\n",
       "      <th>20</th>\n",
       "      <td>0.835</td>\n",
       "      <td>0.834</td>\n",
       "      <td>0.835</td>\n",
       "      <td>3</td>\n",
       "      <td>20</td>\n",
       "      <td>101</td>\n",
       "    </tr>\n",
       "    <tr>\n",
       "      <th>21</th>\n",
       "      <td>0.836</td>\n",
       "      <td>0.834</td>\n",
       "      <td>0.836</td>\n",
       "      <td>3</td>\n",
       "      <td>20</td>\n",
       "      <td>501</td>\n",
       "    </tr>\n",
       "    <tr>\n",
       "      <th>29</th>\n",
       "      <td>0.832</td>\n",
       "      <td>0.833</td>\n",
       "      <td>0.833</td>\n",
       "      <td>5</td>\n",
       "      <td>10</td>\n",
       "      <td>501</td>\n",
       "    </tr>\n",
       "    <tr>\n",
       "      <th>32</th>\n",
       "      <td>0.831</td>\n",
       "      <td>0.833</td>\n",
       "      <td>0.832</td>\n",
       "      <td>5</td>\n",
       "      <td>20</td>\n",
       "      <td>101</td>\n",
       "    </tr>\n",
       "    <tr>\n",
       "      <th>16</th>\n",
       "      <td>0.835</td>\n",
       "      <td>0.833</td>\n",
       "      <td>0.835</td>\n",
       "      <td>3</td>\n",
       "      <td>10</td>\n",
       "      <td>101</td>\n",
       "    </tr>\n",
       "    <tr>\n",
       "      <th>14</th>\n",
       "      <td>0.833</td>\n",
       "      <td>0.833</td>\n",
       "      <td>0.834</td>\n",
       "      <td>3</td>\n",
       "      <td>3</td>\n",
       "      <td>1001</td>\n",
       "    </tr>\n",
       "    <tr>\n",
       "      <th>34</th>\n",
       "      <td>0.834</td>\n",
       "      <td>0.833</td>\n",
       "      <td>0.834</td>\n",
       "      <td>5</td>\n",
       "      <td>20</td>\n",
       "      <td>1001</td>\n",
       "    </tr>\n",
       "    <tr>\n",
       "      <th>22</th>\n",
       "      <td>0.837</td>\n",
       "      <td>0.833</td>\n",
       "      <td>0.836</td>\n",
       "      <td>3</td>\n",
       "      <td>20</td>\n",
       "      <td>1001</td>\n",
       "    </tr>\n",
       "    <tr>\n",
       "      <th>33</th>\n",
       "      <td>0.832</td>\n",
       "      <td>0.833</td>\n",
       "      <td>0.833</td>\n",
       "      <td>5</td>\n",
       "      <td>20</td>\n",
       "      <td>501</td>\n",
       "    </tr>\n",
       "    <tr>\n",
       "      <th>30</th>\n",
       "      <td>0.830</td>\n",
       "      <td>0.832</td>\n",
       "      <td>0.832</td>\n",
       "      <td>5</td>\n",
       "      <td>10</td>\n",
       "      <td>1001</td>\n",
       "    </tr>\n",
       "    <tr>\n",
       "      <th>15</th>\n",
       "      <td>0.834</td>\n",
       "      <td>0.832</td>\n",
       "      <td>0.834</td>\n",
       "      <td>3</td>\n",
       "      <td>3</td>\n",
       "      <td>5001</td>\n",
       "    </tr>\n",
       "    <tr>\n",
       "      <th>23</th>\n",
       "      <td>0.837</td>\n",
       "      <td>0.832</td>\n",
       "      <td>0.836</td>\n",
       "      <td>3</td>\n",
       "      <td>20</td>\n",
       "      <td>5001</td>\n",
       "    </tr>\n",
       "    <tr>\n",
       "      <th>13</th>\n",
       "      <td>0.835</td>\n",
       "      <td>0.832</td>\n",
       "      <td>0.835</td>\n",
       "      <td>3</td>\n",
       "      <td>3</td>\n",
       "      <td>501</td>\n",
       "    </tr>\n",
       "    <tr>\n",
       "      <th>2</th>\n",
       "      <td>0.832</td>\n",
       "      <td>0.831</td>\n",
       "      <td>0.833</td>\n",
       "      <td>2</td>\n",
       "      <td>3</td>\n",
       "      <td>1001</td>\n",
       "    </tr>\n",
       "    <tr>\n",
       "      <th>28</th>\n",
       "      <td>0.830</td>\n",
       "      <td>0.831</td>\n",
       "      <td>0.831</td>\n",
       "      <td>5</td>\n",
       "      <td>10</td>\n",
       "      <td>101</td>\n",
       "    </tr>\n",
       "    <tr>\n",
       "      <th>7</th>\n",
       "      <td>0.835</td>\n",
       "      <td>0.831</td>\n",
       "      <td>0.834</td>\n",
       "      <td>2</td>\n",
       "      <td>10</td>\n",
       "      <td>5001</td>\n",
       "    </tr>\n",
       "    <tr>\n",
       "      <th>25</th>\n",
       "      <td>0.831</td>\n",
       "      <td>0.831</td>\n",
       "      <td>0.832</td>\n",
       "      <td>5</td>\n",
       "      <td>3</td>\n",
       "      <td>501</td>\n",
       "    </tr>\n",
       "    <tr>\n",
       "      <th>27</th>\n",
       "      <td>0.831</td>\n",
       "      <td>0.831</td>\n",
       "      <td>0.832</td>\n",
       "      <td>5</td>\n",
       "      <td>3</td>\n",
       "      <td>5001</td>\n",
       "    </tr>\n",
       "    <tr>\n",
       "      <th>18</th>\n",
       "      <td>0.834</td>\n",
       "      <td>0.831</td>\n",
       "      <td>0.833</td>\n",
       "      <td>3</td>\n",
       "      <td>10</td>\n",
       "      <td>1001</td>\n",
       "    </tr>\n",
       "    <tr>\n",
       "      <th>0</th>\n",
       "      <td>0.835</td>\n",
       "      <td>0.831</td>\n",
       "      <td>0.834</td>\n",
       "      <td>2</td>\n",
       "      <td>3</td>\n",
       "      <td>101</td>\n",
       "    </tr>\n",
       "    <tr>\n",
       "      <th>26</th>\n",
       "      <td>0.832</td>\n",
       "      <td>0.830</td>\n",
       "      <td>0.832</td>\n",
       "      <td>5</td>\n",
       "      <td>3</td>\n",
       "      <td>1001</td>\n",
       "    </tr>\n",
       "    <tr>\n",
       "      <th>10</th>\n",
       "      <td>0.837</td>\n",
       "      <td>0.830</td>\n",
       "      <td>0.835</td>\n",
       "      <td>2</td>\n",
       "      <td>20</td>\n",
       "      <td>1001</td>\n",
       "    </tr>\n",
       "    <tr>\n",
       "      <th>3</th>\n",
       "      <td>0.834</td>\n",
       "      <td>0.830</td>\n",
       "      <td>0.833</td>\n",
       "      <td>2</td>\n",
       "      <td>3</td>\n",
       "      <td>5001</td>\n",
       "    </tr>\n",
       "    <tr>\n",
       "      <th>5</th>\n",
       "      <td>0.835</td>\n",
       "      <td>0.830</td>\n",
       "      <td>0.834</td>\n",
       "      <td>2</td>\n",
       "      <td>10</td>\n",
       "      <td>501</td>\n",
       "    </tr>\n",
       "    <tr>\n",
       "      <th>9</th>\n",
       "      <td>0.836</td>\n",
       "      <td>0.830</td>\n",
       "      <td>0.834</td>\n",
       "      <td>2</td>\n",
       "      <td>20</td>\n",
       "      <td>501</td>\n",
       "    </tr>\n",
       "    <tr>\n",
       "      <th>12</th>\n",
       "      <td>0.833</td>\n",
       "      <td>0.830</td>\n",
       "      <td>0.832</td>\n",
       "      <td>3</td>\n",
       "      <td>3</td>\n",
       "      <td>101</td>\n",
       "    </tr>\n",
       "    <tr>\n",
       "      <th>4</th>\n",
       "      <td>0.833</td>\n",
       "      <td>0.830</td>\n",
       "      <td>0.833</td>\n",
       "      <td>2</td>\n",
       "      <td>10</td>\n",
       "      <td>101</td>\n",
       "    </tr>\n",
       "    <tr>\n",
       "      <th>11</th>\n",
       "      <td>0.835</td>\n",
       "      <td>0.830</td>\n",
       "      <td>0.834</td>\n",
       "      <td>2</td>\n",
       "      <td>20</td>\n",
       "      <td>5001</td>\n",
       "    </tr>\n",
       "    <tr>\n",
       "      <th>6</th>\n",
       "      <td>0.837</td>\n",
       "      <td>0.829</td>\n",
       "      <td>0.835</td>\n",
       "      <td>2</td>\n",
       "      <td>10</td>\n",
       "      <td>1001</td>\n",
       "    </tr>\n",
       "    <tr>\n",
       "      <th>8</th>\n",
       "      <td>0.837</td>\n",
       "      <td>0.828</td>\n",
       "      <td>0.834</td>\n",
       "      <td>2</td>\n",
       "      <td>20</td>\n",
       "      <td>101</td>\n",
       "    </tr>\n",
       "    <tr>\n",
       "      <th>1</th>\n",
       "      <td>0.832</td>\n",
       "      <td>0.828</td>\n",
       "      <td>0.831</td>\n",
       "      <td>2</td>\n",
       "      <td>3</td>\n",
       "      <td>501</td>\n",
       "    </tr>\n",
       "    <tr>\n",
       "      <th>24</th>\n",
       "      <td>0.830</td>\n",
       "      <td>0.828</td>\n",
       "      <td>0.830</td>\n",
       "      <td>5</td>\n",
       "      <td>3</td>\n",
       "      <td>101</td>\n",
       "    </tr>\n",
       "  </tbody>\n",
       "</table>\n",
       "</div>"
      ],
      "text/plain": [
       "    mean_test_precision_score  mean_test_recall_score  \\\n",
       "17                      0.834                   0.835   \n",
       "19                      0.834                   0.834   \n",
       "35                      0.833                   0.834   \n",
       "31                      0.831                   0.834   \n",
       "20                      0.835                   0.834   \n",
       "21                      0.836                   0.834   \n",
       "29                      0.832                   0.833   \n",
       "32                      0.831                   0.833   \n",
       "16                      0.835                   0.833   \n",
       "14                      0.833                   0.833   \n",
       "34                      0.834                   0.833   \n",
       "22                      0.837                   0.833   \n",
       "33                      0.832                   0.833   \n",
       "30                      0.830                   0.832   \n",
       "15                      0.834                   0.832   \n",
       "23                      0.837                   0.832   \n",
       "13                      0.835                   0.832   \n",
       "2                       0.832                   0.831   \n",
       "28                      0.830                   0.831   \n",
       "7                       0.835                   0.831   \n",
       "25                      0.831                   0.831   \n",
       "27                      0.831                   0.831   \n",
       "18                      0.834                   0.831   \n",
       "0                       0.835                   0.831   \n",
       "26                      0.832                   0.830   \n",
       "10                      0.837                   0.830   \n",
       "3                       0.834                   0.830   \n",
       "5                       0.835                   0.830   \n",
       "9                       0.836                   0.830   \n",
       "12                      0.833                   0.830   \n",
       "4                       0.833                   0.830   \n",
       "11                      0.835                   0.830   \n",
       "6                       0.837                   0.829   \n",
       "8                       0.837                   0.828   \n",
       "1                       0.832                   0.828   \n",
       "24                      0.830                   0.828   \n",
       "\n",
       "    mean_test_accuracy_score param_max_features param_min_samples_split  \\\n",
       "17                     0.835                  3                      10   \n",
       "19                     0.835                  3                      10   \n",
       "35                     0.834                  5                      20   \n",
       "31                     0.833                  5                      10   \n",
       "20                     0.835                  3                      20   \n",
       "21                     0.836                  3                      20   \n",
       "29                     0.833                  5                      10   \n",
       "32                     0.832                  5                      20   \n",
       "16                     0.835                  3                      10   \n",
       "14                     0.834                  3                       3   \n",
       "34                     0.834                  5                      20   \n",
       "22                     0.836                  3                      20   \n",
       "33                     0.833                  5                      20   \n",
       "30                     0.832                  5                      10   \n",
       "15                     0.834                  3                       3   \n",
       "23                     0.836                  3                      20   \n",
       "13                     0.835                  3                       3   \n",
       "2                      0.833                  2                       3   \n",
       "28                     0.831                  5                      10   \n",
       "7                      0.834                  2                      10   \n",
       "25                     0.832                  5                       3   \n",
       "27                     0.832                  5                       3   \n",
       "18                     0.833                  3                      10   \n",
       "0                      0.834                  2                       3   \n",
       "26                     0.832                  5                       3   \n",
       "10                     0.835                  2                      20   \n",
       "3                      0.833                  2                       3   \n",
       "5                      0.834                  2                      10   \n",
       "9                      0.834                  2                      20   \n",
       "12                     0.832                  3                       3   \n",
       "4                      0.833                  2                      10   \n",
       "11                     0.834                  2                      20   \n",
       "6                      0.835                  2                      10   \n",
       "8                      0.834                  2                      20   \n",
       "1                      0.831                  2                       3   \n",
       "24                     0.830                  5                       3   \n",
       "\n",
       "   param_n_estimators  \n",
       "17                501  \n",
       "19               5001  \n",
       "35               5001  \n",
       "31               5001  \n",
       "20                101  \n",
       "21                501  \n",
       "29                501  \n",
       "32                101  \n",
       "16                101  \n",
       "14               1001  \n",
       "34               1001  \n",
       "22               1001  \n",
       "33                501  \n",
       "30               1001  \n",
       "15               5001  \n",
       "23               5001  \n",
       "13                501  \n",
       "2                1001  \n",
       "28                101  \n",
       "7                5001  \n",
       "25                501  \n",
       "27               5001  \n",
       "18               1001  \n",
       "0                 101  \n",
       "26               1001  \n",
       "10               1001  \n",
       "3                5001  \n",
       "5                 501  \n",
       "9                 501  \n",
       "12                101  \n",
       "4                 101  \n",
       "11               5001  \n",
       "6                1001  \n",
       "8                 101  \n",
       "1                 501  \n",
       "24                101  "
      ]
     },
     "execution_count": 46,
     "metadata": {},
     "output_type": "execute_result"
    }
   ],
   "source": [
    "'''\n",
    "results = pd.DataFrame(grid_search_clf.cv_results_)\n",
    "results = results.sort_values(by='mean_test_recall_score', ascending=False)\n",
    "#results\n",
    "results[['mean_test_precision_score', 'mean_test_recall_score', 'mean_test_accuracy_score',  'param_max_features', 'param_min_samples_split', 'param_n_estimators']].round(3)#.head()\n",
    "'''"
   ]
  },
  {
   "cell_type": "code",
   "execution_count": null,
   "metadata": {},
   "outputs": [],
   "source": []
  },
  {
   "cell_type": "code",
   "execution_count": 32,
   "metadata": {},
   "outputs": [
    {
     "name": "stdout",
     "output_type": "stream",
     "text": [
      "2018-11-13 10:26:53\n"
     ]
    }
   ],
   "source": [
    "print(datetime.now().strftime('%Y-%m-%d %H:%M:%S'))"
   ]
  },
  {
   "cell_type": "code",
   "execution_count": 33,
   "metadata": {},
   "outputs": [
    {
     "name": "stderr",
     "output_type": "stream",
     "text": [
      "C:\\Users\\DAR9KOR\\AppData\\Local\\Continuum\\anaconda3\\lib\\site-packages\\ipykernel_launcher.py:3: DataConversionWarning: A column-vector y was passed when a 1d array was expected. Please change the shape of y to (n_samples,), for example using ravel().\n",
      "  This is separate from the ipykernel package so we can avoid doing imports until\n"
     ]
    },
    {
     "data": {
      "text/plain": [
       "RandomForestClassifier(bootstrap=True, class_weight=None, criterion='gini',\n",
       "            max_depth=None, max_features=3, max_leaf_nodes=None,\n",
       "            min_impurity_decrease=0.0, min_impurity_split=None,\n",
       "            min_samples_leaf=1, min_samples_split=10,\n",
       "            min_weight_fraction_leaf=0.0, n_estimators=501, n_jobs=1,\n",
       "            oob_score=False, random_state=None, verbose=0,\n",
       "            warm_start=False)"
      ]
     },
     "execution_count": 33,
     "metadata": {},
     "output_type": "execute_result"
    }
   ],
   "source": [
    "# run optimised (parameters from previous grid search) model\n",
    "model_rf_opt = RandomForestClassifier(max_features = 3, min_samples_split = 10, n_estimators = 501) ## max_depth=5, random_state=0,verbose =0)  \n",
    "model_rf_opt.fit(X_train_scaled, y_train)"
   ]
  },
  {
   "cell_type": "code",
   "execution_count": 34,
   "metadata": {},
   "outputs": [
    {
     "name": "stdout",
     "output_type": "stream",
     "text": [
      "2018-11-13 10:27:03\n"
     ]
    }
   ],
   "source": [
    "print(datetime.now().strftime('%Y-%m-%d %H:%M:%S'))"
   ]
  },
  {
   "cell_type": "code",
   "execution_count": 35,
   "metadata": {},
   "outputs": [],
   "source": [
    "# predict on test data - check metrics\n",
    "y_pred_rf = model_rf_opt.predict(X_test_scaled)"
   ]
  },
  {
   "cell_type": "code",
   "execution_count": 36,
   "metadata": {},
   "outputs": [
    {
     "name": "stdout",
     "output_type": "stream",
     "text": [
      "             precision    recall  f1-score   support\n",
      "\n",
      "          0       0.85      0.86      0.86      1092\n",
      "          1       0.87      0.86      0.86      1148\n",
      "\n",
      "avg / total       0.86      0.86      0.86      2240\n",
      "\n"
     ]
    }
   ],
   "source": [
    "from sklearn.metrics import classification_report\n",
    "class_names = ['0','1']\n",
    "print(classification_report(y_test, y_pred_rf, target_names=class_names))"
   ]
  },
  {
   "cell_type": "code",
   "execution_count": null,
   "metadata": {},
   "outputs": [],
   "source": []
  },
  {
   "cell_type": "code",
   "execution_count": null,
   "metadata": {},
   "outputs": [],
   "source": []
  },
  {
   "cell_type": "code",
   "execution_count": 44,
   "metadata": {},
   "outputs": [
    {
     "data": {
      "text/html": [
       "<div>\n",
       "<style scoped>\n",
       "    .dataframe tbody tr th:only-of-type {\n",
       "        vertical-align: middle;\n",
       "    }\n",
       "\n",
       "    .dataframe tbody tr th {\n",
       "        vertical-align: top;\n",
       "    }\n",
       "\n",
       "    .dataframe thead th {\n",
       "        text-align: right;\n",
       "    }\n",
       "</style>\n",
       "<table border=\"1\" class=\"dataframe\">\n",
       "  <thead>\n",
       "    <tr style=\"text-align: right;\">\n",
       "      <th></th>\n",
       "      <th>delta</th>\n",
       "      <th>theta</th>\n",
       "      <th>alpha</th>\n",
       "      <th>beta</th>\n",
       "      <th>gamma</th>\n",
       "      <th>age</th>\n",
       "      <th>sex</th>\n",
       "      <th>class2</th>\n",
       "    </tr>\n",
       "  </thead>\n",
       "  <tbody>\n",
       "    <tr>\n",
       "      <th>2183</th>\n",
       "      <td>0.137445</td>\n",
       "      <td>0.088542</td>\n",
       "      <td>0.082937</td>\n",
       "      <td>0.140559</td>\n",
       "      <td>0.263865</td>\n",
       "      <td>31</td>\n",
       "      <td>0</td>\n",
       "      <td>0</td>\n",
       "    </tr>\n",
       "    <tr>\n",
       "      <th>10008</th>\n",
       "      <td>0.560685</td>\n",
       "      <td>0.204606</td>\n",
       "      <td>0.098948</td>\n",
       "      <td>0.078768</td>\n",
       "      <td>0.040780</td>\n",
       "      <td>26</td>\n",
       "      <td>1</td>\n",
       "      <td>1</td>\n",
       "    </tr>\n",
       "    <tr>\n",
       "      <th>2380</th>\n",
       "      <td>0.743380</td>\n",
       "      <td>0.150759</td>\n",
       "      <td>0.072873</td>\n",
       "      <td>0.028393</td>\n",
       "      <td>0.010352</td>\n",
       "      <td>33</td>\n",
       "      <td>1</td>\n",
       "      <td>0</td>\n",
       "    </tr>\n",
       "    <tr>\n",
       "      <th>3398</th>\n",
       "      <td>0.602454</td>\n",
       "      <td>0.158621</td>\n",
       "      <td>0.121420</td>\n",
       "      <td>0.045853</td>\n",
       "      <td>0.038335</td>\n",
       "      <td>31</td>\n",
       "      <td>1</td>\n",
       "      <td>0</td>\n",
       "    </tr>\n",
       "    <tr>\n",
       "      <th>10286</th>\n",
       "      <td>0.322275</td>\n",
       "      <td>0.178879</td>\n",
       "      <td>0.232524</td>\n",
       "      <td>0.157225</td>\n",
       "      <td>0.075417</td>\n",
       "      <td>28</td>\n",
       "      <td>1</td>\n",
       "      <td>1</td>\n",
       "    </tr>\n",
       "  </tbody>\n",
       "</table>\n",
       "</div>"
      ],
      "text/plain": [
       "          delta     theta     alpha      beta     gamma  age sex  class2\n",
       "2183   0.137445  0.088542  0.082937  0.140559  0.263865   31   0       0\n",
       "10008  0.560685  0.204606  0.098948  0.078768  0.040780   26   1       1\n",
       "2380   0.743380  0.150759  0.072873  0.028393  0.010352   33   1       0\n",
       "3398   0.602454  0.158621  0.121420  0.045853  0.038335   31   1       0\n",
       "10286  0.322275  0.178879  0.232524  0.157225  0.075417   28   1       1"
      ]
     },
     "execution_count": 44,
     "metadata": {},
     "output_type": "execute_result"
    }
   ],
   "source": [
    "'''## save the training & test sets\n",
    "Train = pd.concat([X_train,y_train],axis=1)\n",
    "Train.head(5)'''"
   ]
  },
  {
   "cell_type": "code",
   "execution_count": 45,
   "metadata": {},
   "outputs": [
    {
     "data": {
      "text/html": [
       "<div>\n",
       "<style scoped>\n",
       "    .dataframe tbody tr th:only-of-type {\n",
       "        vertical-align: middle;\n",
       "    }\n",
       "\n",
       "    .dataframe tbody tr th {\n",
       "        vertical-align: top;\n",
       "    }\n",
       "\n",
       "    .dataframe thead th {\n",
       "        text-align: right;\n",
       "    }\n",
       "</style>\n",
       "<table border=\"1\" class=\"dataframe\">\n",
       "  <thead>\n",
       "    <tr style=\"text-align: right;\">\n",
       "      <th></th>\n",
       "      <th>delta</th>\n",
       "      <th>theta</th>\n",
       "      <th>alpha</th>\n",
       "      <th>beta</th>\n",
       "      <th>gamma</th>\n",
       "      <th>age</th>\n",
       "      <th>sex</th>\n",
       "      <th>class2</th>\n",
       "    </tr>\n",
       "  </thead>\n",
       "  <tbody>\n",
       "    <tr>\n",
       "      <th>7324</th>\n",
       "      <td>0.378546</td>\n",
       "      <td>0.196310</td>\n",
       "      <td>0.185724</td>\n",
       "      <td>0.111471</td>\n",
       "      <td>0.074609</td>\n",
       "      <td>34</td>\n",
       "      <td>1</td>\n",
       "      <td>1</td>\n",
       "    </tr>\n",
       "    <tr>\n",
       "      <th>3193</th>\n",
       "      <td>0.601017</td>\n",
       "      <td>0.186463</td>\n",
       "      <td>0.118515</td>\n",
       "      <td>0.047116</td>\n",
       "      <td>0.024013</td>\n",
       "      <td>26</td>\n",
       "      <td>0</td>\n",
       "      <td>0</td>\n",
       "    </tr>\n",
       "    <tr>\n",
       "      <th>1678</th>\n",
       "      <td>0.542983</td>\n",
       "      <td>0.167992</td>\n",
       "      <td>0.090973</td>\n",
       "      <td>0.067392</td>\n",
       "      <td>0.062152</td>\n",
       "      <td>30</td>\n",
       "      <td>1</td>\n",
       "      <td>0</td>\n",
       "    </tr>\n",
       "    <tr>\n",
       "      <th>3318</th>\n",
       "      <td>0.501949</td>\n",
       "      <td>0.246109</td>\n",
       "      <td>0.138464</td>\n",
       "      <td>0.056151</td>\n",
       "      <td>0.024285</td>\n",
       "      <td>26</td>\n",
       "      <td>0</td>\n",
       "      <td>0</td>\n",
       "    </tr>\n",
       "    <tr>\n",
       "      <th>3842</th>\n",
       "      <td>0.559267</td>\n",
       "      <td>0.224304</td>\n",
       "      <td>0.149962</td>\n",
       "      <td>0.049861</td>\n",
       "      <td>0.025202</td>\n",
       "      <td>34</td>\n",
       "      <td>1</td>\n",
       "      <td>0</td>\n",
       "    </tr>\n",
       "  </tbody>\n",
       "</table>\n",
       "</div>"
      ],
      "text/plain": [
       "         delta     theta     alpha      beta     gamma  age sex  class2\n",
       "7324  0.378546  0.196310  0.185724  0.111471  0.074609   34   1       1\n",
       "3193  0.601017  0.186463  0.118515  0.047116  0.024013   26   0       0\n",
       "1678  0.542983  0.167992  0.090973  0.067392  0.062152   30   1       0\n",
       "3318  0.501949  0.246109  0.138464  0.056151  0.024285   26   0       0\n",
       "3842  0.559267  0.224304  0.149962  0.049861  0.025202   34   1       0"
      ]
     },
     "execution_count": 45,
     "metadata": {},
     "output_type": "execute_result"
    }
   ],
   "source": [
    "'''Test = pd.concat([X_test,y_test],axis=1)\n",
    "Test.head(5)'''"
   ]
  },
  {
   "cell_type": "code",
   "execution_count": 46,
   "metadata": {},
   "outputs": [],
   "source": [
    "'''Train.to_excel(\"C:\\\\Users\\\\DAR9KOR\\\\Desktop\\\\data\\\\HEALTHCARE\\\\EEG\\\\data\\\\training_data_2class_age_sex.xlsx\")\n",
    "Test.to_excel(\"C:\\\\Users\\\\DAR9KOR\\\\Desktop\\\\data\\\\HEALTHCARE\\\\EEG\\\\data\\\\test_data_2class_age_sex.xlsx\")  '''"
   ]
  },
  {
   "cell_type": "code",
   "execution_count": null,
   "metadata": {},
   "outputs": [],
   "source": []
  },
  {
   "cell_type": "code",
   "execution_count": null,
   "metadata": {},
   "outputs": [],
   "source": []
  },
  {
   "cell_type": "code",
   "execution_count": null,
   "metadata": {},
   "outputs": [],
   "source": [
    "#######  try grid search for SVM  ######\n",
    "# GOOGLE: how to perform grid search from Svm in python\n",
    "# https://scikit-learn.org/stable/modules/grid_search.html\n",
    "# https://scikit-learn.org/stable/auto_examples/model_selection/plot_grid_search_digits.html\n",
    "# https://medium.com/@aneesha/svm-parameter-tuning-in-scikit-learn-using-gridsearchcv-2413c02125a0\n",
    "# http://ogrisel.github.io/scikit-learn.org/sklearn-tutorial/auto_examples/svm/plot_svm_parameters_selection.html"
   ]
  },
  {
   "cell_type": "code",
   "execution_count": 60,
   "metadata": {},
   "outputs": [],
   "source": [
    "'''\n",
    "# https://towardsdatascience.com/fine-tuning-a-classifier-in-scikit-learn-66e048c21e65\n",
    "\n",
    "from sklearn.metrics import make_scorer,recall_score,accuracy_score,precision_score   #roc_curve, precision_recall_curve, auc, confusion_matrix\n",
    "from sklearn.model_selection import GridSearchCV, StratifiedKFold   # train_test_split,\n",
    "\n",
    "clf = SVC() #n_jobs=-1)  # this runs the computation in parallel\n",
    "\n",
    "param_grid = [\n",
    "  {'C': [1, 10, 100, 1000], 'kernel': ['linear']},\n",
    "  {'C': [1, 10, 100, 1000], 'gamma': [0.001, 0.0001], 'kernel': ['rbf']},\n",
    " ]\n",
    "\n",
    "\n",
    "scorers = {\n",
    "    'precision_score': make_scorer(precision_score),\n",
    "    'recall_score': make_scorer(recall_score),\n",
    "    'accuracy_score': make_scorer(accuracy_score)\n",
    "}\n",
    "\n",
    "\n",
    "\n",
    "def grid_search_wrapper(refit_score='recall_score'):\n",
    "    \"\"\"\n",
    "    fits a GridSearchCV classifier using refit_score for optimization\n",
    "    prints classifier performance metrics\n",
    "    \"\"\"\n",
    "    skf = StratifiedKFold(n_splits=10)\n",
    "    grid_search = GridSearchCV(clf, param_grid, scoring=scorers, refit=refit_score,\n",
    "                           cv=skf, return_train_score=True, n_jobs=-1)\n",
    "    grid_search.fit(X_train.values, y_train.values)\n",
    "\n",
    "    # make the predictions\n",
    "    y_pred = grid_search.predict(X_test.values)\n",
    "\n",
    "    print('Best params for {}'.format(refit_score))\n",
    "    print(grid_search.best_params_)\n",
    "\n",
    "    # confusion matrix on the test data.\n",
    "    print('\\nConfusion matrix of SVM optimized for {} on the test data:'.format(refit_score))\n",
    "    print(pd.DataFrame(confusion_matrix(y_test, y_pred),\n",
    "                 columns=['pred_neg', 'pred_pos'], index=['neg', 'pos']))\n",
    "    return grid_search\n",
    "'''"
   ]
  },
  {
   "cell_type": "code",
   "execution_count": 61,
   "metadata": {},
   "outputs": [
    {
     "name": "stdout",
     "output_type": "stream",
     "text": [
      "2018-11-07 17:20:24\n"
     ]
    }
   ],
   "source": [
    "'''print(datetime.now().strftime('%Y-%m-%d %H:%M:%S'))"
   ]
  },
  {
   "cell_type": "code",
   "execution_count": 62,
   "metadata": {},
   "outputs": [
    {
     "name": "stderr",
     "output_type": "stream",
     "text": [
      "C:\\Users\\DAR9KOR\\AppData\\Local\\Continuum\\anaconda3\\lib\\site-packages\\sklearn\\utils\\validation.py:578: DataConversionWarning: A column-vector y was passed when a 1d array was expected. Please change the shape of y to (n_samples, ), for example using ravel().\n",
      "  y = column_or_1d(y, warn=True)\n"
     ]
    },
    {
     "name": "stdout",
     "output_type": "stream",
     "text": [
      "Best params for recall_score\n",
      "{'C': 1000, 'kernel': 'linear'}\n",
      "\n",
      "Confusion matrix of SVM optimized for recall_score on the test data:\n",
      "     pred_neg  pred_pos\n",
      "neg       952       140\n",
      "pos       301       847\n"
     ]
    }
   ],
   "source": [
    "'''grid_search_clf = grid_search_wrapper(refit_score='recall_score')\n",
    "\n",
    "# C: penalty parameter, which represents misclassification or error term. \n",
    "# The misclassification or error term tells the SVM optimization how much error is bearable.\n",
    "# This is how you can control the trade-off between decision boundary and misclassification term.\n",
    "# A smaller value of C creates a small-margin hyperplane and a larger value of C creates a larger-margin hyperplane\n",
    "\n",
    "# A lower value of Gamma will loosely fit the training dataset,\n",
    "# whereas a higher value of gamma will exactly fit the training dataset, which causes over-fitting'''"
   ]
  },
  {
   "cell_type": "code",
   "execution_count": 37,
   "metadata": {},
   "outputs": [
    {
     "name": "stdout",
     "output_type": "stream",
     "text": [
      "2018-11-13 10:28:30\n"
     ]
    }
   ],
   "source": [
    "print(datetime.now().strftime('%Y-%m-%d %H:%M:%S'))"
   ]
  },
  {
   "cell_type": "code",
   "execution_count": 38,
   "metadata": {},
   "outputs": [
    {
     "name": "stderr",
     "output_type": "stream",
     "text": [
      "C:\\Users\\DAR9KOR\\AppData\\Local\\Continuum\\anaconda3\\lib\\site-packages\\sklearn\\utils\\validation.py:578: DataConversionWarning: A column-vector y was passed when a 1d array was expected. Please change the shape of y to (n_samples, ), for example using ravel().\n",
      "  y = column_or_1d(y, warn=True)\n"
     ]
    },
    {
     "data": {
      "text/plain": [
       "SVC(C=1000, cache_size=200, class_weight=None, coef0=0.0,\n",
       "  decision_function_shape='ovr', degree=3, gamma='auto', kernel='linear',\n",
       "  max_iter=-1, probability=False, random_state=None, shrinking=True,\n",
       "  tol=0.001, verbose=False)"
      ]
     },
     "execution_count": 38,
     "metadata": {},
     "output_type": "execute_result"
    }
   ],
   "source": [
    "## fit model \n",
    "model_svc_opt = SVC(C=1000, kernel='linear')  # kernel='linear'\n",
    "model_svc_opt.fit(X_train_scaled, y_train)"
   ]
  },
  {
   "cell_type": "code",
   "execution_count": 39,
   "metadata": {},
   "outputs": [],
   "source": [
    "# predict on test data - check metrics\n",
    "y_pred_svc = model_svc_opt.predict(X_test_scaled)"
   ]
  },
  {
   "cell_type": "code",
   "execution_count": 40,
   "metadata": {},
   "outputs": [
    {
     "name": "stdout",
     "output_type": "stream",
     "text": [
      "             precision    recall  f1-score   support\n",
      "\n",
      "          0       0.76      0.87      0.81      1092\n",
      "          1       0.86      0.73      0.79      1148\n",
      "\n",
      "avg / total       0.81      0.80      0.80      2240\n",
      "\n"
     ]
    }
   ],
   "source": [
    "print(classification_report(y_test, y_pred_svc, target_names=class_names))"
   ]
  },
  {
   "cell_type": "code",
   "execution_count": 41,
   "metadata": {},
   "outputs": [
    {
     "name": "stdout",
     "output_type": "stream",
     "text": [
      "Confusion matrix, without normalization\n",
      "[[951 141]\n",
      " [306 842]]\n",
      "Normalized confusion matrix\n",
      "[[0.87 0.13]\n",
      " [0.27 0.73]]\n"
     ]
    },
    {
     "data": {
      "image/png": "[encoded data removed]",
      "text/plain": [
       "<Figure size 432x288 with 2 Axes>"
      ]
     },
     "metadata": {},
     "output_type": "display_data"
    },
    {
     "data": {
      "image/png": "[encoded data removed]",
      "text/plain": [
       "<Figure size 432x288 with 2 Axes>"
      ]
     },
     "metadata": {},
     "output_type": "display_data"
    }
   ],
   "source": [
    "####    Compute confusion matrix     ####\n",
    "\n",
    "class_names = ['0','1'] #['wake','sleep_stage_1','sleep_stage_2']  # wake, SS1, SS2  ; # '0','1','2'\n",
    "\n",
    "cnf_matrix = confusion_matrix(y_test, y_pred_svc)\n",
    "np.set_printoptions(precision=2)\n",
    "\n",
    "# Plot non-normalized confusion matrix\n",
    "plt.figure()\n",
    "plot_confusion_matrix(cnf_matrix, classes=class_names,\n",
    "                      title='Confusion matrix, without normalization')\n",
    "\n",
    "# Plot normalized confusion matrix : normalisation shows nan for class'0' no signal has class=0 as true label\n",
    "plt.figure()\n",
    "plot_confusion_matrix(cnf_matrix, classes=class_names, normalize=True,\n",
    "                      title='Normalized confusion matrix')\n",
    "plt.show()"
   ]
  },
  {
   "cell_type": "code",
   "execution_count": null,
   "metadata": {},
   "outputs": [],
   "source": []
  },
  {
   "cell_type": "code",
   "execution_count": null,
   "metadata": {},
   "outputs": [],
   "source": []
  },
  {
   "cell_type": "code",
   "execution_count": null,
   "metadata": {},
   "outputs": [],
   "source": [
    "#########################################################################\n",
    "\n",
    "################## corr plot  #####################"
   ]
  },
  {
   "cell_type": "code",
   "execution_count": 43,
   "metadata": {},
   "outputs": [
    {
     "data": {
      "image/png": "[encoded data removed]",
      "text/plain": [
       "<Figure size 432x288 with 2 Axes>"
      ]
     },
     "metadata": {},
     "output_type": "display_data"
    }
   ],
   "source": [
    "corr_mat = X_train.corr(method='pearson')\n",
    "import seaborn as sns\n",
    "\n",
    "f, ax = plt.subplots(figsize=(6, 4))\n",
    "sns.heatmap(corr_mat, mask=np.zeros_like(corr_mat, dtype=np.bool), cmap=sns.diverging_palette(220, 10, as_cmap=True),\n",
    "square=True, ax=ax)\n",
    "plt.xticks(rotation=90)\n",
    "plt.yticks(rotation=0)\n",
    "plt.show()"
   ]
  },
  {
   "cell_type": "code",
   "execution_count": 44,
   "metadata": {},
   "outputs": [],
   "source": [
    "######  prediction using reduced feature set  #####\n",
    "\n",
    "X_train2 = X_train[['theta','alpha','beta','age','sex']]  \n",
    "X_test2 = X_test[['theta','alpha','beta','age','sex']]\n",
    "\n",
    "## normalize the data  : can also use other scalers like StandardScaler()\n",
    "scaler = StandardScaler()  #MinMaxScaler()\n",
    "X_train2_scaled = scaler.fit_transform(X_train2)\n",
    "X_test2_scaled = scaler.transform(X_test2)"
   ]
  },
  {
   "cell_type": "code",
   "execution_count": 45,
   "metadata": {},
   "outputs": [
    {
     "name": "stdout",
     "output_type": "stream",
     "text": [
      "2018-11-13 10:35:51\n"
     ]
    }
   ],
   "source": [
    "print(datetime.now().strftime('%Y-%m-%d %H:%M:%S'))"
   ]
  },
  {
   "cell_type": "code",
   "execution_count": 46,
   "metadata": {},
   "outputs": [
    {
     "name": "stderr",
     "output_type": "stream",
     "text": [
      "C:\\Users\\DAR9KOR\\AppData\\Local\\Continuum\\anaconda3\\lib\\site-packages\\ipykernel_launcher.py:3: DataConversionWarning: A column-vector y was passed when a 1d array was expected. Please change the shape of y to (n_samples,), for example using ravel().\n",
      "  This is separate from the ipykernel package so we can avoid doing imports until\n"
     ]
    },
    {
     "data": {
      "text/plain": [
       "RandomForestClassifier(bootstrap=True, class_weight=None, criterion='gini',\n",
       "            max_depth=None, max_features='auto', max_leaf_nodes=None,\n",
       "            min_impurity_decrease=0.0, min_impurity_split=None,\n",
       "            min_samples_leaf=1, min_samples_split=2,\n",
       "            min_weight_fraction_leaf=0.0, n_estimators=501, n_jobs=1,\n",
       "            oob_score=False, random_state=None, verbose=0,\n",
       "            warm_start=False)"
      ]
     },
     "execution_count": 46,
     "metadata": {},
     "output_type": "execute_result"
    }
   ],
   "source": [
    "model_rf_cor = RandomForestClassifier(n_estimators = 501) ## max_depth=5, random_state=0,verbose =0)  \n",
    "# max_features=2, min_samples_split=4, n_estimators=50, min_samples_leaf=2\n",
    "model_rf_cor.fit(X_train2_scaled, y_train)"
   ]
  },
  {
   "cell_type": "code",
   "execution_count": 47,
   "metadata": {},
   "outputs": [
    {
     "name": "stdout",
     "output_type": "stream",
     "text": [
      "2018-11-13 10:35:59\n"
     ]
    }
   ],
   "source": [
    "print(datetime.now().strftime('%Y-%m-%d %H:%M:%S'))"
   ]
  },
  {
   "cell_type": "code",
   "execution_count": 48,
   "metadata": {},
   "outputs": [],
   "source": [
    "# predict on test data - check metrics\n",
    "y_pred = model_rf_cor.predict(X_test2_scaled)"
   ]
  },
  {
   "cell_type": "code",
   "execution_count": 49,
   "metadata": {},
   "outputs": [
    {
     "name": "stdout",
     "output_type": "stream",
     "text": [
      "             precision    recall  f1-score   support\n",
      "\n",
      "          0       0.74      0.79      0.77      1092\n",
      "          1       0.79      0.74      0.76      1148\n",
      "\n",
      "avg / total       0.77      0.76      0.76      2240\n",
      "\n"
     ]
    }
   ],
   "source": [
    "print(classification_report(y_test, y_pred, target_names=class_names))\n",
    "\n",
    "## COMMENT: RF model (n_estimators=501) withh all 5 features gave recall=0.84"
   ]
  },
  {
   "cell_type": "code",
   "execution_count": null,
   "metadata": {},
   "outputs": [],
   "source": []
  },
  {
   "cell_type": "code",
   "execution_count": 50,
   "metadata": {},
   "outputs": [
    {
     "name": "stderr",
     "output_type": "stream",
     "text": [
      "C:\\Users\\DAR9KOR\\AppData\\Local\\Continuum\\anaconda3\\lib\\site-packages\\ipykernel_launcher.py:2: SettingWithCopyWarning: \n",
      "A value is trying to be set on a copy of a slice from a DataFrame.\n",
      "Try using .loc[row_indexer,col_indexer] = value instead\n",
      "\n",
      "See the caveats in the documentation: http://pandas.pydata.org/pandas-docs/stable/indexing.html#indexing-view-versus-copy\n",
      "  \n",
      "C:\\Users\\DAR9KOR\\AppData\\Local\\Continuum\\anaconda3\\lib\\site-packages\\ipykernel_launcher.py:3: SettingWithCopyWarning: \n",
      "A value is trying to be set on a copy of a slice from a DataFrame.\n",
      "Try using .loc[row_indexer,col_indexer] = value instead\n",
      "\n",
      "See the caveats in the documentation: http://pandas.pydata.org/pandas-docs/stable/indexing.html#indexing-view-versus-copy\n",
      "  This is separate from the ipykernel package so we can avoid doing imports until\n",
      "C:\\Users\\DAR9KOR\\AppData\\Local\\Continuum\\anaconda3\\lib\\site-packages\\ipykernel_launcher.py:5: SettingWithCopyWarning: \n",
      "A value is trying to be set on a copy of a slice from a DataFrame.\n",
      "Try using .loc[row_indexer,col_indexer] = value instead\n",
      "\n",
      "See the caveats in the documentation: http://pandas.pydata.org/pandas-docs/stable/indexing.html#indexing-view-versus-copy\n",
      "  \"\"\"\n",
      "C:\\Users\\DAR9KOR\\AppData\\Local\\Continuum\\anaconda3\\lib\\site-packages\\ipykernel_launcher.py:6: SettingWithCopyWarning: \n",
      "A value is trying to be set on a copy of a slice from a DataFrame.\n",
      "Try using .loc[row_indexer,col_indexer] = value instead\n",
      "\n",
      "See the caveats in the documentation: http://pandas.pydata.org/pandas-docs/stable/indexing.html#indexing-view-versus-copy\n",
      "  \n"
     ]
    },
    {
     "data": {
      "text/html": [
       "<div>\n",
       "<style scoped>\n",
       "    .dataframe tbody tr th:only-of-type {\n",
       "        vertical-align: middle;\n",
       "    }\n",
       "\n",
       "    .dataframe tbody tr th {\n",
       "        vertical-align: top;\n",
       "    }\n",
       "\n",
       "    .dataframe thead th {\n",
       "        text-align: right;\n",
       "    }\n",
       "</style>\n",
       "<table border=\"1\" class=\"dataframe\">\n",
       "  <thead>\n",
       "    <tr style=\"text-align: right;\">\n",
       "      <th></th>\n",
       "      <th>delta</th>\n",
       "      <th>theta</th>\n",
       "      <th>alpha</th>\n",
       "      <th>beta</th>\n",
       "      <th>gamma</th>\n",
       "      <th>age</th>\n",
       "      <th>sex</th>\n",
       "      <th>theta_by_beta</th>\n",
       "      <th>alpha_by_beta</th>\n",
       "    </tr>\n",
       "  </thead>\n",
       "  <tbody>\n",
       "    <tr>\n",
       "      <th>2183</th>\n",
       "      <td>0.551327</td>\n",
       "      <td>0.17186</td>\n",
       "      <td>0.141176</td>\n",
       "      <td>0.072355</td>\n",
       "      <td>0.036237</td>\n",
       "      <td>31</td>\n",
       "      <td>0</td>\n",
       "      <td>2.37522</td>\n",
       "      <td>1.951146</td>\n",
       "    </tr>\n",
       "  </tbody>\n",
       "</table>\n",
       "</div>"
      ],
      "text/plain": [
       "         delta    theta     alpha      beta     gamma  age sex  theta_by_beta  \\\n",
       "2183  0.551327  0.17186  0.141176  0.072355  0.036237   31   0        2.37522   \n",
       "\n",
       "      alpha_by_beta  \n",
       "2183       1.951146  "
      ]
     },
     "execution_count": 50,
     "metadata": {},
     "output_type": "execute_result"
    }
   ],
   "source": [
    "#####  with derived feature set : theta/beta, alpha/beta, gamma, delta, age, sex  ######\n",
    "X_train['theta_by_beta'] = X_train['theta']/X_train['beta']\n",
    "X_train['alpha_by_beta'] = X_train['alpha']/X_train['beta']\n",
    "\n",
    "X_test['theta_by_beta'] = X_test['theta']/X_test['beta']\n",
    "X_test['alpha_by_beta'] = X_test['alpha']/X_test['beta']\n",
    "\n",
    "X_train.head(1)"
   ]
  },
  {
   "cell_type": "code",
   "execution_count": 51,
   "metadata": {},
   "outputs": [],
   "source": [
    "######  prediction using reduced feature set  #####\n",
    "\n",
    "X_train3 = X_train[['theta_by_beta','alpha_by_beta','gamma','delta','age','sex']]  \n",
    "X_test3 = X_test[['theta_by_beta','alpha_by_beta','gamma','delta','age','sex']]\n",
    "\n",
    "## normalize the data  : can also use other scalers like StandardScaler()\n",
    "scaler = StandardScaler()  #MinMaxScaler()\n",
    "X_train3_scaled = scaler.fit_transform(X_train3)\n",
    "X_test3_scaled = scaler.transform(X_test3)"
   ]
  },
  {
   "cell_type": "code",
   "execution_count": 52,
   "metadata": {},
   "outputs": [
    {
     "name": "stderr",
     "output_type": "stream",
     "text": [
      "C:\\Users\\DAR9KOR\\AppData\\Local\\Continuum\\anaconda3\\lib\\site-packages\\ipykernel_launcher.py:3: DataConversionWarning: A column-vector y was passed when a 1d array was expected. Please change the shape of y to (n_samples,), for example using ravel().\n",
      "  This is separate from the ipykernel package so we can avoid doing imports until\n"
     ]
    },
    {
     "data": {
      "text/plain": [
       "RandomForestClassifier(bootstrap=True, class_weight=None, criterion='gini',\n",
       "            max_depth=None, max_features='auto', max_leaf_nodes=None,\n",
       "            min_impurity_decrease=0.0, min_impurity_split=None,\n",
       "            min_samples_leaf=1, min_samples_split=2,\n",
       "            min_weight_fraction_leaf=0.0, n_estimators=501, n_jobs=1,\n",
       "            oob_score=False, random_state=None, verbose=0,\n",
       "            warm_start=False)"
      ]
     },
     "execution_count": 52,
     "metadata": {},
     "output_type": "execute_result"
    }
   ],
   "source": [
    "model_rf_cor = RandomForestClassifier(n_estimators = 501) ## max_depth=5, random_state=0,verbose =0)  \n",
    "# max_features=2, min_samples_split=4, n_estimators=50, min_samples_leaf=2\n",
    "model_rf_cor.fit(X_train3_scaled, y_train)"
   ]
  },
  {
   "cell_type": "code",
   "execution_count": 53,
   "metadata": {},
   "outputs": [],
   "source": [
    "# predict on test data - check metrics\n",
    "y_pred = model_rf_cor.predict(X_test3_scaled)"
   ]
  },
  {
   "cell_type": "code",
   "execution_count": 54,
   "metadata": {},
   "outputs": [
    {
     "name": "stdout",
     "output_type": "stream",
     "text": [
      "             precision    recall  f1-score   support\n",
      "\n",
      "          0       0.83      0.80      0.82      1092\n",
      "          1       0.82      0.84      0.83      1148\n",
      "\n",
      "avg / total       0.82      0.82      0.82      2240\n",
      "\n"
     ]
    }
   ],
   "source": [
    "print(classification_report(y_test, y_pred, target_names=class_names))\n",
    "\n",
    "## COMMENT: RF model (n_estimators=501) withh all 5 features gave recall=0.84"
   ]
  },
  {
   "cell_type": "code",
   "execution_count": null,
   "metadata": {},
   "outputs": [],
   "source": []
  },
  {
   "cell_type": "code",
   "execution_count": null,
   "metadata": {},
   "outputs": [],
   "source": []
  },
  {
   "cell_type": "code",
   "execution_count": null,
   "metadata": {},
   "outputs": [],
   "source": [
    "####################################################################\n",
    "\n",
    "#################   pca   ########################"
   ]
  },
  {
   "cell_type": "code",
   "execution_count": 55,
   "metadata": {},
   "outputs": [
    {
     "data": {
      "text/html": [
       "<div>\n",
       "<style scoped>\n",
       "    .dataframe tbody tr th:only-of-type {\n",
       "        vertical-align: middle;\n",
       "    }\n",
       "\n",
       "    .dataframe tbody tr th {\n",
       "        vertical-align: top;\n",
       "    }\n",
       "\n",
       "    .dataframe thead th {\n",
       "        text-align: right;\n",
       "    }\n",
       "</style>\n",
       "<table border=\"1\" class=\"dataframe\">\n",
       "  <thead>\n",
       "    <tr style=\"text-align: right;\">\n",
       "      <th></th>\n",
       "      <th>delta</th>\n",
       "      <th>theta</th>\n",
       "      <th>alpha</th>\n",
       "      <th>beta</th>\n",
       "      <th>gamma</th>\n",
       "      <th>age</th>\n",
       "      <th>sex</th>\n",
       "      <th>theta_by_beta</th>\n",
       "      <th>alpha_by_beta</th>\n",
       "    </tr>\n",
       "  </thead>\n",
       "  <tbody>\n",
       "    <tr>\n",
       "      <th>2183</th>\n",
       "      <td>0.551327</td>\n",
       "      <td>0.17186</td>\n",
       "      <td>0.141176</td>\n",
       "      <td>0.072355</td>\n",
       "      <td>0.036237</td>\n",
       "      <td>31</td>\n",
       "      <td>0</td>\n",
       "      <td>2.37522</td>\n",
       "      <td>1.951146</td>\n",
       "    </tr>\n",
       "  </tbody>\n",
       "</table>\n",
       "</div>"
      ],
      "text/plain": [
       "         delta    theta     alpha      beta     gamma  age sex  theta_by_beta  \\\n",
       "2183  0.551327  0.17186  0.141176  0.072355  0.036237   31   0        2.37522   \n",
       "\n",
       "      alpha_by_beta  \n",
       "2183       1.951146  "
      ]
     },
     "execution_count": 55,
     "metadata": {},
     "output_type": "execute_result"
    }
   ],
   "source": [
    "X_train.head(1)"
   ]
  },
  {
   "cell_type": "code",
   "execution_count": 56,
   "metadata": {},
   "outputs": [
    {
     "data": {
      "text/html": [
       "<div>\n",
       "<style scoped>\n",
       "    .dataframe tbody tr th:only-of-type {\n",
       "        vertical-align: middle;\n",
       "    }\n",
       "\n",
       "    .dataframe tbody tr th {\n",
       "        vertical-align: top;\n",
       "    }\n",
       "\n",
       "    .dataframe thead th {\n",
       "        text-align: right;\n",
       "    }\n",
       "</style>\n",
       "<table border=\"1\" class=\"dataframe\">\n",
       "  <thead>\n",
       "    <tr style=\"text-align: right;\">\n",
       "      <th></th>\n",
       "      <th>delta</th>\n",
       "      <th>theta</th>\n",
       "      <th>alpha</th>\n",
       "      <th>beta</th>\n",
       "      <th>gamma</th>\n",
       "      <th>age</th>\n",
       "      <th>sex</th>\n",
       "    </tr>\n",
       "  </thead>\n",
       "  <tbody>\n",
       "    <tr>\n",
       "      <th>2183</th>\n",
       "      <td>0.551327</td>\n",
       "      <td>0.17186</td>\n",
       "      <td>0.141176</td>\n",
       "      <td>0.072355</td>\n",
       "      <td>0.036237</td>\n",
       "      <td>31</td>\n",
       "      <td>0</td>\n",
       "    </tr>\n",
       "  </tbody>\n",
       "</table>\n",
       "</div>"
      ],
      "text/plain": [
       "         delta    theta     alpha      beta     gamma  age sex\n",
       "2183  0.551327  0.17186  0.141176  0.072355  0.036237   31   0"
      ]
     },
     "execution_count": 56,
     "metadata": {},
     "output_type": "execute_result"
    }
   ],
   "source": [
    "X_train = X_train.drop(['theta_by_beta','alpha_by_beta'], 1)\n",
    "X_test = X_test.drop(['theta_by_beta','alpha_by_beta'], 1)\n",
    "\n",
    "X_train.head(1)"
   ]
  },
  {
   "cell_type": "code",
   "execution_count": 57,
   "metadata": {},
   "outputs": [
    {
     "name": "stdout",
     "output_type": "stream",
     "text": [
      "[9.70e-01 2.71e-02 2.35e-03 4.01e-04 1.22e-04 4.61e-05 2.55e-05]\n"
     ]
    }
   ],
   "source": [
    "from sklearn import decomposition\n",
    "pca = decomposition.PCA()  # n_components = N; should be <= #features\n",
    "pca.fit(X_train)\n",
    "X_train_pca = pca.transform(X_train)\n",
    "X_test_pca = pca.transform(X_test)\n",
    "\n",
    "print(pca.explained_variance_ratio_)"
   ]
  },
  {
   "cell_type": "code",
   "execution_count": null,
   "metadata": {},
   "outputs": [],
   "source": []
  },
  {
   "cell_type": "code",
   "execution_count": 58,
   "metadata": {},
   "outputs": [],
   "source": [
    "## predict using 1st two PCs\n",
    "from sklearn import decomposition\n",
    "pca = decomposition.PCA(n_components = 2)  # n_components = N; should be <= #features\n",
    "pca.fit(X_train)\n",
    "X_train_pca = pca.transform(X_train)\n",
    "X_test_pca = pca.transform(X_test)"
   ]
  },
  {
   "cell_type": "code",
   "execution_count": 59,
   "metadata": {},
   "outputs": [
    {
     "name": "stdout",
     "output_type": "stream",
     "text": [
      "2018-11-13 10:39:50\n"
     ]
    }
   ],
   "source": [
    "print(datetime.now().strftime('%Y-%m-%d %H:%M:%S'))"
   ]
  },
  {
   "cell_type": "code",
   "execution_count": 60,
   "metadata": {},
   "outputs": [
    {
     "name": "stderr",
     "output_type": "stream",
     "text": [
      "C:\\Users\\DAR9KOR\\AppData\\Local\\Continuum\\anaconda3\\lib\\site-packages\\ipykernel_launcher.py:3: DataConversionWarning: A column-vector y was passed when a 1d array was expected. Please change the shape of y to (n_samples,), for example using ravel().\n",
      "  This is separate from the ipykernel package so we can avoid doing imports until\n"
     ]
    },
    {
     "data": {
      "text/plain": [
       "RandomForestClassifier(bootstrap=True, class_weight=None, criterion='gini',\n",
       "            max_depth=None, max_features='auto', max_leaf_nodes=None,\n",
       "            min_impurity_decrease=0.0, min_impurity_split=None,\n",
       "            min_samples_leaf=1, min_samples_split=2,\n",
       "            min_weight_fraction_leaf=0.0, n_estimators=501, n_jobs=1,\n",
       "            oob_score=False, random_state=None, verbose=0,\n",
       "            warm_start=False)"
      ]
     },
     "execution_count": 60,
     "metadata": {},
     "output_type": "execute_result"
    }
   ],
   "source": [
    "model_rf_pc = RandomForestClassifier(n_estimators = 501) ## max_depth=5, random_state=0,verbose =0)  \n",
    "# max_features=2, min_samples_split=4, n_estimators=50, min_samples_leaf=2\n",
    "model_rf_pc.fit(X_train_pca, y_train)"
   ]
  },
  {
   "cell_type": "code",
   "execution_count": 61,
   "metadata": {},
   "outputs": [
    {
     "name": "stdout",
     "output_type": "stream",
     "text": [
      "2018-11-13 10:39:58\n"
     ]
    }
   ],
   "source": [
    "print(datetime.now().strftime('%Y-%m-%d %H:%M:%S'))"
   ]
  },
  {
   "cell_type": "code",
   "execution_count": 62,
   "metadata": {},
   "outputs": [],
   "source": [
    "# predict on test data - check metrics\n",
    "y_pred = model_rf_pc.predict(X_test_pca)"
   ]
  },
  {
   "cell_type": "code",
   "execution_count": 63,
   "metadata": {},
   "outputs": [
    {
     "name": "stdout",
     "output_type": "stream",
     "text": [
      "             precision    recall  f1-score   support\n",
      "\n",
      "          0       0.68      0.68      0.68      1092\n",
      "          1       0.69      0.69      0.69      1148\n",
      "\n",
      "avg / total       0.68      0.68      0.68      2240\n",
      "\n"
     ]
    }
   ],
   "source": [
    "print(classification_report(y_test, y_pred, target_names=class_names))\n",
    "\n",
    "## COMMENT: RF model (n_estimators=501) withh all 5 features gave recall=0.84"
   ]
  },
  {
   "cell_type": "code",
   "execution_count": null,
   "metadata": {},
   "outputs": [],
   "source": []
  },
  {
   "cell_type": "code",
   "execution_count": 64,
   "metadata": {},
   "outputs": [],
   "source": [
    "## predict using 1st 3 PCs\n",
    "from sklearn import decomposition\n",
    "\n",
    "pca = decomposition.PCA(n_components = 3)  # n_components = N; should be <= #features\n",
    "pca.fit(X_train)\n",
    "X_train_pca = pca.transform(X_train)\n",
    "X_test_pca = pca.transform(X_test)"
   ]
  },
  {
   "cell_type": "code",
   "execution_count": 65,
   "metadata": {},
   "outputs": [
    {
     "name": "stderr",
     "output_type": "stream",
     "text": [
      "C:\\Users\\DAR9KOR\\AppData\\Local\\Continuum\\anaconda3\\lib\\site-packages\\ipykernel_launcher.py:3: DataConversionWarning: A column-vector y was passed when a 1d array was expected. Please change the shape of y to (n_samples,), for example using ravel().\n",
      "  This is separate from the ipykernel package so we can avoid doing imports until\n"
     ]
    },
    {
     "data": {
      "text/plain": [
       "RandomForestClassifier(bootstrap=True, class_weight=None, criterion='gini',\n",
       "            max_depth=None, max_features=3, max_leaf_nodes=None,\n",
       "            min_impurity_decrease=0.0, min_impurity_split=None,\n",
       "            min_samples_leaf=1, min_samples_split=10,\n",
       "            min_weight_fraction_leaf=0.0, n_estimators=501, n_jobs=1,\n",
       "            oob_score=False, random_state=None, verbose=0,\n",
       "            warm_start=False)"
      ]
     },
     "execution_count": 65,
     "metadata": {},
     "output_type": "execute_result"
    }
   ],
   "source": [
    "model_rf_pc = RandomForestClassifier(max_features = 3, min_samples_split = 10, n_estimators = 501) ## max_depth=5, random_state=0,verbose =0)  \n",
    "# max_features=2, min_samples_split=4, n_estimators=50, min_samples_leaf=2\n",
    "model_rf_pc.fit(X_train_pca, y_train)"
   ]
  },
  {
   "cell_type": "code",
   "execution_count": 66,
   "metadata": {},
   "outputs": [
    {
     "name": "stdout",
     "output_type": "stream",
     "text": [
      "             precision    recall  f1-score   support\n",
      "\n",
      "          0       0.70      0.69      0.69      1092\n",
      "          1       0.71      0.71      0.71      1148\n",
      "\n",
      "avg / total       0.70      0.70      0.70      2240\n",
      "\n"
     ]
    }
   ],
   "source": [
    "y_pred = model_rf_pc.predict(X_test_pca)\n",
    "print(classification_report(y_test, y_pred, target_names=class_names))"
   ]
  },
  {
   "cell_type": "code",
   "execution_count": null,
   "metadata": {},
   "outputs": [],
   "source": []
  },
  {
   "cell_type": "code",
   "execution_count": 67,
   "metadata": {},
   "outputs": [],
   "source": [
    "## predict using 1st 5 PCs\n",
    "from sklearn import decomposition\n",
    "\n",
    "pca = decomposition.PCA(n_components = 5)  # n_components = N; should be <= #features\n",
    "pca.fit(X_train)\n",
    "X_train_pca = pca.transform(X_train)\n",
    "X_test_pca = pca.transform(X_test)"
   ]
  },
  {
   "cell_type": "code",
   "execution_count": 68,
   "metadata": {},
   "outputs": [
    {
     "name": "stderr",
     "output_type": "stream",
     "text": [
      "C:\\Users\\DAR9KOR\\AppData\\Local\\Continuum\\anaconda3\\lib\\site-packages\\ipykernel_launcher.py:3: DataConversionWarning: A column-vector y was passed when a 1d array was expected. Please change the shape of y to (n_samples,), for example using ravel().\n",
      "  This is separate from the ipykernel package so we can avoid doing imports until\n"
     ]
    },
    {
     "data": {
      "text/plain": [
       "RandomForestClassifier(bootstrap=True, class_weight=None, criterion='gini',\n",
       "            max_depth=None, max_features=3, max_leaf_nodes=None,\n",
       "            min_impurity_decrease=0.0, min_impurity_split=None,\n",
       "            min_samples_leaf=1, min_samples_split=10,\n",
       "            min_weight_fraction_leaf=0.0, n_estimators=501, n_jobs=1,\n",
       "            oob_score=False, random_state=None, verbose=0,\n",
       "            warm_start=False)"
      ]
     },
     "execution_count": 68,
     "metadata": {},
     "output_type": "execute_result"
    }
   ],
   "source": [
    "model_rf_pc = RandomForestClassifier(max_features = 3, min_samples_split = 10, n_estimators = 501) ## max_depth=5, random_state=0,verbose =0)  \n",
    "# max_features=2, min_samples_split=4, n_estimators=50, min_samples_leaf=2\n",
    "model_rf_pc.fit(X_train_pca, y_train)"
   ]
  },
  {
   "cell_type": "code",
   "execution_count": 69,
   "metadata": {},
   "outputs": [
    {
     "name": "stdout",
     "output_type": "stream",
     "text": [
      "             precision    recall  f1-score   support\n",
      "\n",
      "          0       0.76      0.76      0.76      1092\n",
      "          1       0.77      0.77      0.77      1148\n",
      "\n",
      "avg / total       0.76      0.76      0.76      2240\n",
      "\n"
     ]
    }
   ],
   "source": [
    "y_pred = model_rf_pc.predict(X_test_pca)\n",
    "print(classification_report(y_test, y_pred, target_names=class_names))"
   ]
  },
  {
   "cell_type": "code",
   "execution_count": null,
   "metadata": {},
   "outputs": [],
   "source": []
  },
  {
   "cell_type": "code",
   "execution_count": null,
   "metadata": {},
   "outputs": [],
   "source": []
  },
  {
   "cell_type": "code",
   "execution_count": 70,
   "metadata": {},
   "outputs": [],
   "source": [
    "from sklearn import decomposition\n",
    "\n",
    "pca = decomposition.PCA(n_components = 3)  # n_components = N; should be <= #features\n",
    "pca.fit(X_train)\n",
    "X_train_pca = pca.transform(X_train)\n",
    "X_test_pca = pca.transform(X_test)"
   ]
  },
  {
   "cell_type": "code",
   "execution_count": 71,
   "metadata": {},
   "outputs": [],
   "source": [
    "## plot PCA-transformed data\n",
    "\n",
    "principalDf = pd.DataFrame(data = X_train_pca\n",
    "             , columns = ['PC 1', 'PC 2', 'PC 3'])\n",
    "finalDf = pd.concat([principalDf, y_train], axis = 1)"
   ]
  },
  {
   "cell_type": "code",
   "execution_count": 72,
   "metadata": {},
   "outputs": [
    {
     "data": {
      "text/html": [
       "<div>\n",
       "<style scoped>\n",
       "    .dataframe tbody tr th:only-of-type {\n",
       "        vertical-align: middle;\n",
       "    }\n",
       "\n",
       "    .dataframe tbody tr th {\n",
       "        vertical-align: top;\n",
       "    }\n",
       "\n",
       "    .dataframe thead th {\n",
       "        text-align: right;\n",
       "    }\n",
       "</style>\n",
       "<table border=\"1\" class=\"dataframe\">\n",
       "  <thead>\n",
       "    <tr style=\"text-align: right;\">\n",
       "      <th></th>\n",
       "      <th>PC 1</th>\n",
       "      <th>PC 2</th>\n",
       "      <th>PC 3</th>\n",
       "      <th>class2</th>\n",
       "    </tr>\n",
       "  </thead>\n",
       "  <tbody>\n",
       "    <tr>\n",
       "      <th>0</th>\n",
       "      <td>2.180778</td>\n",
       "      <td>0.604758</td>\n",
       "      <td>0.040727</td>\n",
       "      <td>0.0</td>\n",
       "    </tr>\n",
       "    <tr>\n",
       "      <th>1</th>\n",
       "      <td>3.180137</td>\n",
       "      <td>0.639810</td>\n",
       "      <td>0.055406</td>\n",
       "      <td>0.0</td>\n",
       "    </tr>\n",
       "  </tbody>\n",
       "</table>\n",
       "</div>"
      ],
      "text/plain": [
       "       PC 1      PC 2      PC 3  class2\n",
       "0  2.180778  0.604758  0.040727     0.0\n",
       "1  3.180137  0.639810  0.055406     0.0"
      ]
     },
     "execution_count": 72,
     "metadata": {},
     "output_type": "execute_result"
    }
   ],
   "source": [
    "finalDf.head(2)"
   ]
  },
  {
   "cell_type": "code",
   "execution_count": 73,
   "metadata": {},
   "outputs": [
    {
     "data": {
      "text/plain": [
       "PC 1      float64\n",
       "PC 2      float64\n",
       "PC 3      float64\n",
       "class2    float64\n",
       "dtype: object"
      ]
     },
     "execution_count": 73,
     "metadata": {},
     "output_type": "execute_result"
    }
   ],
   "source": [
    "finalDf.dtypes"
   ]
  },
  {
   "cell_type": "code",
   "execution_count": 16,
   "metadata": {},
   "outputs": [],
   "source": [
    "# https://towardsdatascience.com/pca-using-python-scikit-learn-e653f8989e60\n",
    "\n",
    "#fig = plt.figure(figsize = (8,8))\n",
    "#ax = fig.add_subplot(1,1,1) \n",
    "#ax.set_xlabel('Principal Component 1', fontsize = 15)\n",
    "#ax.set_ylabel('Principal Component 2', fontsize = 15)\n",
    "#ax.set_title('2 component PCA', fontsize = 20)\n",
    "\n",
    "#targets = ['0', '1']\n",
    "#colors = ['r', 'b']\n",
    "#for target, color in zip(targets,colors):\n",
    "#    indicesToKeep = finalDf['class2'] == target\n",
    "#    ax.scatter(finalDf.loc[indicesToKeep, 'PC 1']\n",
    "#               , finalDf.loc[indicesToKeep, 'PC 2']\n",
    "#               , c = color\n",
    "#               , s = 50)\n",
    "#ax.legend(targets)\n",
    "#ax.grid()"
   ]
  },
  {
   "cell_type": "code",
   "execution_count": 74,
   "metadata": {},
   "outputs": [
    {
     "data": {
      "image/png": "[encoded data removed]",
      "text/plain": [
       "<Figure size 432x288 with 1 Axes>"
      ]
     },
     "metadata": {},
     "output_type": "display_data"
    }
   ],
   "source": [
    "plt.scatter(finalDf['PC 1'], finalDf['PC 2'], alpha=0.2, c=finalDf['class2'], cmap='viridis')\n",
    "plt.xlabel('PC1')\n",
    "plt.ylabel('PC2')\n",
    "plt.show()"
   ]
  },
  {
   "cell_type": "code",
   "execution_count": 75,
   "metadata": {},
   "outputs": [
    {
     "data": {
      "image/png": "[encoded data removed]",
      "text/plain": [
       "<Figure size 432x288 with 1 Axes>"
      ]
     },
     "metadata": {},
     "output_type": "display_data"
    }
   ],
   "source": [
    "plt.scatter(finalDf['PC 1'], finalDf['PC 3'], alpha=0.2, c=finalDf['class2'], cmap='viridis')\n",
    "plt.xlabel('PC1')\n",
    "plt.ylabel('PC3')\n",
    "plt.show()"
   ]
  },
  {
   "cell_type": "code",
   "execution_count": 76,
   "metadata": {},
   "outputs": [
    {
     "data": {
      "image/png": "[encoded data removed]",
      "text/plain": [
       "<Figure size 432x288 with 1 Axes>"
      ]
     },
     "metadata": {},
     "output_type": "display_data"
    }
   ],
   "source": [
    "plt.scatter(finalDf['PC 3'], finalDf['PC 2'], alpha=0.2, c=finalDf['class2'], cmap='viridis')\n",
    "plt.xlabel('PC3')\n",
    "plt.ylabel('PC2')\n",
    "plt.show()"
   ]
  },
  {
   "cell_type": "code",
   "execution_count": null,
   "metadata": {},
   "outputs": [],
   "source": []
  },
  {
   "cell_type": "code",
   "execution_count": null,
   "metadata": {},
   "outputs": [],
   "source": []
  },
  {
   "cell_type": "code",
   "execution_count": null,
   "metadata": {},
   "outputs": [],
   "source": [
    "#################################################3############################## \n",
    "#########    feature importance: with the full set of features   ##########"
   ]
  },
  {
   "cell_type": "code",
   "execution_count": 77,
   "metadata": {},
   "outputs": [
    {
     "name": "stderr",
     "output_type": "stream",
     "text": [
      "C:\\Users\\DAR9KOR\\AppData\\Local\\Continuum\\anaconda3\\lib\\site-packages\\ipykernel_launcher.py:2: DataConversionWarning: A column-vector y was passed when a 1d array was expected. Please change the shape of y to (n_samples,), for example using ravel().\n",
      "  \n"
     ]
    },
    {
     "data": {
      "text/plain": [
       "RandomForestClassifier(bootstrap=True, class_weight=None, criterion='gini',\n",
       "            max_depth=None, max_features='auto', max_leaf_nodes=None,\n",
       "            min_impurity_decrease=0.0, min_impurity_split=None,\n",
       "            min_samples_leaf=1, min_samples_split=2,\n",
       "            min_weight_fraction_leaf=0.0, n_estimators=501, n_jobs=1,\n",
       "            oob_score=False, random_state=None, verbose=0,\n",
       "            warm_start=False)"
      ]
     },
     "execution_count": 77,
     "metadata": {},
     "output_type": "execute_result"
    }
   ],
   "source": [
    "model_rf = RandomForestClassifier(n_estimators = 501) ## max_depth=5, random_state=0,verbose =0)  \n",
    "model_rf.fit(X_train_scaled, y_train)"
   ]
  },
  {
   "cell_type": "code",
   "execution_count": 78,
   "metadata": {},
   "outputs": [
    {
     "data": {
      "image/png": "[encoded data removed]",
      "text/plain": [
       "<Figure size 432x288 with 1 Axes>"
      ]
     },
     "metadata": {},
     "output_type": "display_data"
    }
   ],
   "source": [
    "importances_rf = model_rf.feature_importances_\n",
    "\n",
    "FI_rf = 100.0 * (importances_rf / importances_rf.max())\n",
    "labels = X_train.columns\n",
    "indices = np.argsort(FI_rf)[::-1]\n",
    "# Plot the feature importances of the forest\n",
    "plt.figure()\n",
    "plt.title(\"Relative Feature importances\")\n",
    "plt.bar(labels[indices], FI_rf[indices], color=\"black\", align=\"center\")   #\n",
    "plt.xticks(labels[indices], rotation='vertical')\n",
    "plt.show()"
   ]
  },
  {
   "cell_type": "code",
   "execution_count": null,
   "metadata": {},
   "outputs": [],
   "source": []
  },
  {
   "cell_type": "code",
   "execution_count": null,
   "metadata": {},
   "outputs": [],
   "source": []
  },
  {
   "cell_type": "code",
   "execution_count": null,
   "metadata": {},
   "outputs": [],
   "source": [
    "#######################################################################\n",
    "\n",
    "#######  change threshold ########\n",
    "\n",
    "# https://towardsdatascience.com/fine-tuning-a-classifier-in-scikit-learn-66e048c21e65"
   ]
  },
  {
   "cell_type": "code",
   "execution_count": 79,
   "metadata": {},
   "outputs": [],
   "source": [
    "# this is for the svc grid search\n",
    "#y_scores = grid_search_clf.decision_function(X_test) # .predict_proba(X_test)[:, 1]\n",
    "\n",
    "# for optimised SVC\n",
    "y_scores = model_svc_opt.decision_function(X_test_scaled)"
   ]
  },
  {
   "cell_type": "code",
   "execution_count": 80,
   "metadata": {},
   "outputs": [],
   "source": [
    "from sklearn.metrics import precision_recall_curve\n",
    "p, r, thresholds = precision_recall_curve(y_test, y_scores)"
   ]
  },
  {
   "cell_type": "code",
   "execution_count": 81,
   "metadata": {},
   "outputs": [],
   "source": [
    "def adjusted_classes(y_scores, t):\n",
    "    \"\"\"\n",
    "    This function adjusts class predictions based on the prediction threshold (t).\n",
    "    Will only work for binary classification problems.\n",
    "    \"\"\"\n",
    "    return [1 if y >= t else 0 for y in y_scores]\n",
    "\n",
    "\n",
    "def precision_recall_threshold(p, r, thresholds, t=0.5):\n",
    "    \"\"\"\n",
    "    plots the precision recall curve and shows the current value for each\n",
    "    by identifying the classifier's threshold (t).\n",
    "    \"\"\"\n",
    "    \n",
    "    # generate new class predictions based on the adjusted_classes\n",
    "    # function above and view the resulting confusion matrix.\n",
    "    y_pred_adj = adjusted_classes(y_scores, t)\n",
    "    print(pd.DataFrame(confusion_matrix(y_test, y_pred_adj),\n",
    "                       columns=['pred_neg', 'pred_pos'], \n",
    "                       index=['neg', 'pos']))\n",
    "    \n",
    "    # plot the curve\n",
    "    plt.figure(figsize=(8,8))\n",
    "    plt.title(\"Precision and Recall curve ^ = current threshold\")\n",
    "    plt.step(r, p, color='b', alpha=0.2,\n",
    "             where='post')\n",
    "    plt.fill_between(r, p, step='post', alpha=0.2,\n",
    "                     color='b')\n",
    "    plt.ylim([0.5, 1.01]);\n",
    "    plt.xlim([0.5, 1.01]);\n",
    "    plt.xlabel('Recall');\n",
    "    plt.ylabel('Precision');\n",
    "    \n",
    "    # plot the current threshold on the line\n",
    "    close_default_clf = np.argmin(np.abs(thresholds - t))\n",
    "    plt.plot(r[close_default_clf], p[close_default_clf], '^', c='k',\n",
    "            markersize=15)\n",
    "\n"
   ]
  },
  {
   "cell_type": "code",
   "execution_count": 82,
   "metadata": {},
   "outputs": [
    {
     "name": "stdout",
     "output_type": "stream",
     "text": [
      "     pred_neg  pred_pos\n",
      "neg       995        97\n",
      "pos       388       760\n"
     ]
    },
    {
     "data": {
      "image/png": "[encoded data removed]",
      "text/plain": [
       "<Figure size 576x576 with 1 Axes>"
      ]
     },
     "metadata": {},
     "output_type": "display_data"
    }
   ],
   "source": [
    "precision_recall_threshold(p, r, thresholds, 0.30)"
   ]
  },
  {
   "cell_type": "code",
   "execution_count": 83,
   "metadata": {},
   "outputs": [],
   "source": [
    "def plot_precision_recall_vs_threshold(precisions, recalls, thresholds):\n",
    "    \"\"\"\n",
    "    Modified from:\n",
    "    Hands-On Machine learning with Scikit-Learn\n",
    "    and TensorFlow; p.89\n",
    "    \"\"\"\n",
    "    plt.figure(figsize=(8, 8))\n",
    "    plt.title(\"Precision and Recall Scores as a function of the decision threshold\")\n",
    "    plt.plot(thresholds, precisions[:-1], \"b--\", label=\"Precision\")\n",
    "    plt.plot(thresholds, recalls[:-1], \"g-\", label=\"Recall\")\n",
    "    plt.ylabel(\"Score\")\n",
    "    plt.xlabel(\"Decision Threshold\")\n",
    "    plt.legend(loc='best')"
   ]
  },
  {
   "cell_type": "code",
   "execution_count": 84,
   "metadata": {},
   "outputs": [
    {
     "data": {
      "image/png": "[encoded data removed]",
      "text/plain": [
       "<Figure size 576x576 with 1 Axes>"
      ]
     },
     "metadata": {},
     "output_type": "display_data"
    }
   ],
   "source": [
    "# use the same p, r, thresholds that were previously calculated\n",
    "plot_precision_recall_vs_threshold(p, r, thresholds)"
   ]
  },
  {
   "cell_type": "code",
   "execution_count": 85,
   "metadata": {},
   "outputs": [
    {
     "name": "stdout",
     "output_type": "stream",
     "text": [
      "             precision    recall  f1-score   support\n",
      "\n",
      "          0       0.72      0.91      0.80      1092\n",
      "          1       0.89      0.66      0.76      1148\n",
      "\n",
      "avg / total       0.81      0.78      0.78      2240\n",
      "\n"
     ]
    }
   ],
   "source": [
    "y_pred_adj = adjusted_classes(y_scores, 0.3)\n",
    "print(classification_report(y_test, y_pred_adj, target_names=class_names))"
   ]
  },
  {
   "cell_type": "code",
   "execution_count": null,
   "metadata": {},
   "outputs": [],
   "source": []
  },
  {
   "cell_type": "code",
   "execution_count": null,
   "metadata": {},
   "outputs": [],
   "source": []
  },
  {
   "cell_type": "code",
   "execution_count": 86,
   "metadata": {},
   "outputs": [],
   "source": [
    "# this is for the RF model\n",
    "y_scores = model_rf_opt.predict_proba(X_test_scaled)[:, 1]"
   ]
  },
  {
   "cell_type": "code",
   "execution_count": 87,
   "metadata": {},
   "outputs": [],
   "source": [
    "from sklearn.metrics import precision_recall_curve\n",
    "p, r, thresholds = precision_recall_curve(y_test, y_scores)"
   ]
  },
  {
   "cell_type": "code",
   "execution_count": 88,
   "metadata": {},
   "outputs": [
    {
     "data": {
      "image/png": "[encoded data removed]",
      "text/plain": [
       "<Figure size 576x576 with 1 Axes>"
      ]
     },
     "metadata": {},
     "output_type": "display_data"
    }
   ],
   "source": [
    "# use the same p, r, thresholds that were previously calculated\n",
    "plot_precision_recall_vs_threshold(p, r, thresholds)"
   ]
  },
  {
   "cell_type": "code",
   "execution_count": 89,
   "metadata": {},
   "outputs": [
    {
     "name": "stdout",
     "output_type": "stream",
     "text": [
      "             precision    recall  f1-score   support\n",
      "\n",
      "          0       0.91      0.71      0.80      1092\n",
      "          1       0.77      0.93      0.85      1148\n",
      "\n",
      "avg / total       0.84      0.83      0.82      2240\n",
      "\n"
     ]
    }
   ],
   "source": [
    "y_pred_adj = adjusted_classes(y_scores, 0.3)\n",
    "print(classification_report(y_test, y_pred_adj, target_names=class_names))\n",
    "\n",
    "# this has better performance than similar threshold change without age & sex, but no improvement compared to defaults"
   ]
  },
  {
   "cell_type": "code",
   "execution_count": 90,
   "metadata": {},
   "outputs": [
    {
     "name": "stdout",
     "output_type": "stream",
     "text": [
      "             precision    recall  f1-score   support\n",
      "\n",
      "          0       0.94      0.61      0.74      1092\n",
      "          1       0.72      0.97      0.83      1148\n",
      "\n",
      "avg / total       0.83      0.79      0.79      2240\n",
      "\n"
     ]
    }
   ],
   "source": [
    "y_pred_adj = adjusted_classes(y_scores, 0.2)\n",
    "print(classification_report(y_test, y_pred_adj, target_names=class_names))"
   ]
  },
  {
   "cell_type": "code",
   "execution_count": 91,
   "metadata": {},
   "outputs": [
    {
     "name": "stdout",
     "output_type": "stream",
     "text": [
      "             precision    recall  f1-score   support\n",
      "\n",
      "          0       0.88      0.79      0.84      1092\n",
      "          1       0.82      0.90      0.86      1148\n",
      "\n",
      "avg / total       0.85      0.85      0.85      2240\n",
      "\n"
     ]
    }
   ],
   "source": [
    "y_pred_adj = adjusted_classes(y_scores, 0.4)\n",
    "print(classification_report(y_test, y_pred_adj, target_names=class_names))"
   ]
  },
  {
   "cell_type": "code",
   "execution_count": null,
   "metadata": {},
   "outputs": [],
   "source": []
  },
  {
   "cell_type": "code",
   "execution_count": null,
   "metadata": {},
   "outputs": [],
   "source": []
  },
  {
   "cell_type": "code",
   "execution_count": null,
   "metadata": {},
   "outputs": [],
   "source": [
    "### compare perfomance on training & test sets ###"
   ]
  },
  {
   "cell_type": "code",
   "execution_count": 3,
   "metadata": {},
   "outputs": [
    {
     "data": {
      "text/plain": [
       "(8960, 7)"
      ]
     },
     "execution_count": 3,
     "metadata": {},
     "output_type": "execute_result"
    }
   ],
   "source": [
    "\n",
    "Train = pd.read_excel(\"C:\\\\Users\\\\DAR9KOR\\\\Desktop\\\\data\\\\HEALTHCARE\\\\EEG\\\\data\\\\training_data_2class_age_sex.xlsx\")\n",
    "Test = pd.read_excel(\"C:\\\\Users\\\\DAR9KOR\\\\Desktop\\\\data\\\\HEALTHCARE\\\\EEG\\\\data\\\\test_data_2class_age_sex.xlsx\")\n",
    "X_train = Train[['delta','theta','alpha','beta','gamma','age','sex']]\n",
    "X_test = Test[['delta','theta','alpha','beta','gamma','age','sex']]\n",
    "y_train = Train[['class2']]\n",
    "y_test = Test[['class2']]\n",
    "\n",
    "\n",
    "## normalize the data  : can also use other scalers like StandardScaler()\n",
    "scaler = StandardScaler()  # MinMaxScaler()\n",
    "X_train_scaled = scaler.fit_transform(X_train)\n",
    "X_test_scaled = scaler.transform(X_test)\n",
    "\n",
    "X_train_scaled.shape"
   ]
  },
  {
   "cell_type": "code",
   "execution_count": 4,
   "metadata": {},
   "outputs": [
    {
     "name": "stderr",
     "output_type": "stream",
     "text": [
      "C:\\Users\\DAR9KOR\\AppData\\Local\\Continuum\\anaconda3\\lib\\site-packages\\ipykernel_launcher.py:3: DataConversionWarning: A column-vector y was passed when a 1d array was expected. Please change the shape of y to (n_samples,), for example using ravel().\n",
      "  This is separate from the ipykernel package so we can avoid doing imports until\n"
     ]
    },
    {
     "data": {
      "text/plain": [
       "RandomForestClassifier(bootstrap=True, class_weight=None, criterion='gini',\n",
       "            max_depth=None, max_features='auto', max_leaf_nodes=None,\n",
       "            min_impurity_decrease=0.0, min_impurity_split=None,\n",
       "            min_samples_leaf=1, min_samples_split=2,\n",
       "            min_weight_fraction_leaf=0.0, n_estimators=501, n_jobs=1,\n",
       "            oob_score=False, random_state=None, verbose=0,\n",
       "            warm_start=False)"
      ]
     },
     "execution_count": 4,
     "metadata": {},
     "output_type": "execute_result"
    }
   ],
   "source": [
    "model_rf = RandomForestClassifier(n_estimators = 501) ## max_depth=5, random_state=0,verbose =0)  \n",
    "# max_features=2, min_samples_split=4, n_estimators=50, min_samples_leaf=2\n",
    "model_rf.fit(X_train_scaled, y_train)"
   ]
  },
  {
   "cell_type": "code",
   "execution_count": 6,
   "metadata": {},
   "outputs": [
    {
     "name": "stdout",
     "output_type": "stream",
     "text": [
      "             precision    recall  f1-score   support\n",
      "\n",
      "          0       0.85      0.86      0.85      1092\n",
      "          1       0.86      0.85      0.86      1148\n",
      "\n",
      "avg / total       0.86      0.86      0.86      2240\n",
      "\n"
     ]
    }
   ],
   "source": [
    "y_pred_rf = model_rf.predict(X_test_scaled)\n",
    "\n",
    "from sklearn.metrics import classification_report\n",
    "class_names = ['0','1']\n",
    "print(classification_report(y_test, y_pred_rf, target_names=class_names))\n",
    "## these values are lower than for training set - so there is scope for improvement"
   ]
  },
  {
   "cell_type": "code",
   "execution_count": 7,
   "metadata": {},
   "outputs": [
    {
     "name": "stdout",
     "output_type": "stream",
     "text": [
      "             precision    recall  f1-score   support\n",
      "\n",
      "          0       1.00      1.00      1.00      4508\n",
      "          1       1.00      1.00      1.00      4452\n",
      "\n",
      "avg / total       1.00      1.00      1.00      8960\n",
      "\n"
     ]
    }
   ],
   "source": [
    "# on training data\n",
    "y_train_pred = model_rf.predict(X_train_scaled)\n",
    "\n",
    "print(classification_report(y_train, y_train_pred, target_names=class_names))"
   ]
  },
  {
   "cell_type": "code",
   "execution_count": null,
   "metadata": {},
   "outputs": [],
   "source": [
    "## plots for training & test set error\n"
   ]
  },
  {
   "cell_type": "code",
   "execution_count": null,
   "metadata": {},
   "outputs": [],
   "source": [
    "##################################################################################################################\n",
    "\n",
    "########################  INCREASING DATASET SIZE , iterations  #################################################"
   ]
  },
  {
   "cell_type": "code",
   "execution_count": null,
   "metadata": {},
   "outputs": [],
   "source": []
  }
 ],
 "metadata": {
  "kernelspec": {
   "display_name": "Python 3",
   "language": "python",
   "name": "python3"
  },
  "language_info": {
   "codemirror_mode": {
    "name": "ipython",
    "version": 3
   },
   "file_extension": ".py",
   "mimetype": "text/x-python",
   "name": "python",
   "nbconvert_exporter": "python",
   "pygments_lexer": "ipython3",
   "version": "3.6.9"
  }
 },
 "nbformat": 4,
 "nbformat_minor": 2
}
