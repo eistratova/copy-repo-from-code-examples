{
 "cells": [
  {
   "cell_type": "code",
   "execution_count": null,
   "metadata": {},
   "outputs": [],
   "source": [
    "## Tuning GBM \n",
    "## https://medium.com/all-things-ai/in-depth-parameter-tuning-for-gradient-boosting-3363992e9bae"
   ]
  },
  {
   "cell_type": "code",
   "execution_count": 1,
   "metadata": {},
   "outputs": [],
   "source": [
    "import pandas as pd\n",
    "import numpy as np\n",
    "import os\n",
    "import pickle\n",
    "from scipy import stats\n",
    "import itertools\n",
    "import matplotlib.pyplot as plt\n",
    "from datetime import datetime\n",
    "\n",
    "from sklearn.preprocessing import MinMaxScaler\n",
    "from sklearn.model_selection import train_test_split\n",
    "\n",
    "from sklearn.ensemble import GradientBoostingClassifier\n",
    "\n"
   ]
  },
  {
   "cell_type": "code",
   "execution_count": 2,
   "metadata": {},
   "outputs": [],
   "source": [
    "file_location='C:\\\\Users\\\\BOL1KOR\\\\Desktop\\\\Pickle_Files_New'\n",
    "os.chdir('C:\\\\Users\\\\BOL1KOR\\\\Desktop\\\\Pickle_Files_New') \n",
    "dfull = pickle.load(open('dfull_4001_4021.pkl', 'rb'))"
   ]
  },
  {
   "cell_type": "code",
   "execution_count": 3,
   "metadata": {},
   "outputs": [],
   "source": [
    "dfull['class2'] = dfull['class']\n",
    "dfull['class2'] = [0 if x == 'wake' else 1 for x in dfull['class2']]"
   ]
  },
  {
   "cell_type": "code",
   "execution_count": 4,
   "metadata": {},
   "outputs": [],
   "source": [
    "## convert selected columns to categories \n",
    "dfull[['class','class2']] = dfull[['class','class2']].astype('str') \n",
    "dfull[['class','class2']] = dfull[['class','class2']].astype('category')"
   ]
  },
  {
   "cell_type": "code",
   "execution_count": 59,
   "metadata": {},
   "outputs": [
    {
     "data": {
      "text/plain": [
       "11216"
      ]
     },
     "execution_count": 59,
     "metadata": {},
     "output_type": "execute_result"
    }
   ],
   "source": [
    "### create a smaller subset of data for testing algo\n",
    "dw = dfull[(dfull['class'] == 'wake')]\n",
    "d1 = dfull[(dfull['class'] == 'sleep_stage_1')]\n",
    "d2 = dfull[(dfull['class'] == 'sleep_stage_2')]\n",
    "\n",
    "# https://stackoverflow.com/questions/15923826/random-row-selection-in-pandas-dataframe\n",
    "# Randomly sample n elements from your dataframe\n",
    "d1_elements = d1\n",
    "d2_elements = d2.sample(n = d1.shape[0], random_state = 42)\n",
    "dw_elements = dw.sample(n = 2 * d1.shape[0], random_state = 42)\n",
    "\n",
    "dn = pd.DataFrame()\n",
    "dn = pd.concat([dw_elements, d1_elements, d2_elements],ignore_index=True)\n",
    "dn.shape[0]"
   ]
  },
  {
   "cell_type": "code",
   "execution_count": 60,
   "metadata": {},
   "outputs": [
    {
     "data": {
      "text/plain": [
       "(8972, 5)"
      ]
     },
     "execution_count": 60,
     "metadata": {},
     "output_type": "execute_result"
    }
   ],
   "source": [
    "## create train-test data : 2 class\n",
    "X = dn[['delta','theta','alpha','beta','gamma']]  # dfull[['delta','theta','alpha','beta','gamma']]\n",
    "y = dn[['class2']]  # dfull[['class']] \n",
    "\n",
    "X_train, X_test, y_train, y_test = train_test_split(X, y, test_size=0.2, random_state=42)\n",
    "\n",
    "\n",
    "\n",
    "## normalize the data\n",
    "scaler = MinMaxScaler()\n",
    "X_train_scaled = scaler.fit_transform(X_train)\n",
    "\n",
    "X_test_scaled = scaler.transform(X_test)\n",
    "\n",
    "X_train_scaled.shape"
   ]
  },
  {
   "cell_type": "code",
   "execution_count": null,
   "metadata": {},
   "outputs": [],
   "source": [
    "## Tuning using GridSearchCV "
   ]
  },
  {
   "cell_type": "code",
   "execution_count": 13,
   "metadata": {},
   "outputs": [],
   "source": [
    "from sklearn.model_selection import GridSearchCV, StratifiedKFold\n",
    "from sklearn.metrics import roc_curve, precision_recall_curve, auc, make_scorer, recall_score, accuracy_score,precision_score"
   ]
  },
  {
   "cell_type": "code",
   "execution_count": 14,
   "metadata": {},
   "outputs": [],
   "source": [
    "\n",
    "skf = StratifiedKFold(n_splits =10)\n",
    "\n",
    "scorers = { \n",
    "     'precision_score': make_scorer(precision_score), \n",
    "     'recall_score': make_scorer(recall_score), \n",
    "     'accuracy_score': make_scorer(accuracy_score)\n",
    " } \n",
    "\n",
    "results = []\n",
    "refit_param = ['precision_score', 'recall_score']"
   ]
  },
  {
   "cell_type": "code",
   "execution_count": 15,
   "metadata": {},
   "outputs": [],
   "source": [
    "## learning rate"
   ]
  },
  {
   "cell_type": "code",
   "execution_count": 16,
   "metadata": {},
   "outputs": [],
   "source": [
    "param_grid_1 = {'learning_rate' : [1,0.5,0.25,0.125,0.1,0.05,0.01,0.005,0.001]}"
   ]
  },
  {
   "cell_type": "code",
   "execution_count": 17,
   "metadata": {},
   "outputs": [
    {
     "name": "stderr",
     "output_type": "stream",
     "text": [
      "C:\\Users\\BOL1KOR\\AppData\\Local\\Continuum\\anaconda3\\lib\\site-packages\\sklearn\\utils\\validation.py:578: DataConversionWarning: A column-vector y was passed when a 1d array was expected. Please change the shape of y to (n_samples, ), for example using ravel().\n",
      "  y = column_or_1d(y, warn=True)\n",
      "C:\\Users\\BOL1KOR\\AppData\\Local\\Continuum\\anaconda3\\lib\\site-packages\\sklearn\\utils\\validation.py:578: DataConversionWarning: A column-vector y was passed when a 1d array was expected. Please change the shape of y to (n_samples, ), for example using ravel().\n",
      "  y = column_or_1d(y, warn=True)\n"
     ]
    }
   ],
   "source": [
    "clf = GradientBoostingClassifier()\n",
    "for refit_score in refit_param:\n",
    "    grid_search = GridSearchCV(clf,param_grid_1, scoring=scorers, refit = refit_score,cv = skf, n_jobs = -1, return_train_score = True)\n",
    "    grid_search.fit(X_train_scaled, y_train)\n",
    "    y_pred_grid = grid_search.predict(X_test_scaled)\n",
    "    results.append([refit_score,grid_search.best_params_])"
   ]
  },
  {
   "cell_type": "code",
   "execution_count": 18,
   "metadata": {},
   "outputs": [
    {
     "data": {
      "text/plain": [
       "[['precision_score', {'learning_rate': 0.125}],\n",
       " ['recall_score', {'learning_rate': 0.5}]]"
      ]
     },
     "execution_count": 18,
     "metadata": {},
     "output_type": "execute_result"
    }
   ],
   "source": [
    "results"
   ]
  },
  {
   "cell_type": "code",
   "execution_count": null,
   "metadata": {},
   "outputs": [],
   "source": []
  },
  {
   "cell_type": "code",
   "execution_count": 19,
   "metadata": {},
   "outputs": [],
   "source": [
    "## n_estimators tuning"
   ]
  },
  {
   "cell_type": "code",
   "execution_count": 20,
   "metadata": {},
   "outputs": [],
   "source": [
    "param_grid_2 = {\n",
    "    'n_estimators':[1, 2, 4, 8, 16, 32, 64, 100, 200]\n",
    "}\n"
   ]
  },
  {
   "cell_type": "code",
   "execution_count": 21,
   "metadata": {},
   "outputs": [
    {
     "name": "stderr",
     "output_type": "stream",
     "text": [
      "C:\\Users\\BOL1KOR\\AppData\\Local\\Continuum\\anaconda3\\lib\\site-packages\\sklearn\\utils\\validation.py:578: DataConversionWarning: A column-vector y was passed when a 1d array was expected. Please change the shape of y to (n_samples, ), for example using ravel().\n",
      "  y = column_or_1d(y, warn=True)\n"
     ]
    }
   ],
   "source": [
    "clf = GradientBoostingClassifier(learning_rate = 0.125)\n",
    "refit_score = 'precision_score'\n",
    "grid_search = GridSearchCV(clf,param_grid_2, scoring=scorers, refit = refit_score,cv = skf, n_jobs = -1, return_train_score = True)\n",
    "grid_search.fit(X_train_scaled, y_train)\n",
    "y_pred_grid = grid_search.predict(X_test_scaled)\n",
    "results[0].append(grid_search.best_params_)"
   ]
  },
  {
   "cell_type": "code",
   "execution_count": 22,
   "metadata": {},
   "outputs": [
    {
     "name": "stderr",
     "output_type": "stream",
     "text": [
      "C:\\Users\\BOL1KOR\\AppData\\Local\\Continuum\\anaconda3\\lib\\site-packages\\sklearn\\utils\\validation.py:578: DataConversionWarning: A column-vector y was passed when a 1d array was expected. Please change the shape of y to (n_samples, ), for example using ravel().\n",
      "  y = column_or_1d(y, warn=True)\n"
     ]
    }
   ],
   "source": [
    "clf = GradientBoostingClassifier(learning_rate = 0.5)\n",
    "refit_score = 'recall_score'\n",
    "grid_search = GridSearchCV(clf,param_grid_2, scoring=scorers, refit = refit_score,cv = skf, n_jobs = -1, return_train_score = True)\n",
    "grid_search.fit(X_train_scaled, y_train)\n",
    "y_pred_grid = grid_search.predict(X_test_scaled)\n",
    "results[1].append(grid_search.best_params_)"
   ]
  },
  {
   "cell_type": "code",
   "execution_count": 23,
   "metadata": {},
   "outputs": [
    {
     "data": {
      "text/plain": [
       "[['precision_score', {'learning_rate': 0.125}, {'n_estimators': 100}],\n",
       " ['recall_score', {'learning_rate': 0.5}, {'n_estimators': 100}]]"
      ]
     },
     "execution_count": 23,
     "metadata": {},
     "output_type": "execute_result"
    }
   ],
   "source": [
    "results"
   ]
  },
  {
   "cell_type": "code",
   "execution_count": null,
   "metadata": {},
   "outputs": [],
   "source": []
  },
  {
   "cell_type": "code",
   "execution_count": null,
   "metadata": {},
   "outputs": [],
   "source": [
    "## max_depth, min_samples_split, min_samples_leaf, max_features"
   ]
  },
  {
   "cell_type": "code",
   "execution_count": 26,
   "metadata": {},
   "outputs": [],
   "source": [
    "param_grid_4 = {\n",
    "    'max_depth' : np.linspace(1,16,16, endpoint = True)\n",
    "}\n"
   ]
  },
  {
   "cell_type": "code",
   "execution_count": 27,
   "metadata": {},
   "outputs": [
    {
     "name": "stderr",
     "output_type": "stream",
     "text": [
      "C:\\Users\\BOL1KOR\\AppData\\Local\\Continuum\\anaconda3\\lib\\site-packages\\sklearn\\utils\\validation.py:578: DataConversionWarning: A column-vector y was passed when a 1d array was expected. Please change the shape of y to (n_samples, ), for example using ravel().\n",
      "  y = column_or_1d(y, warn=True)\n"
     ]
    }
   ],
   "source": [
    "clf = GradientBoostingClassifier(learning_rate = 0.125,n_estimators=100)\n",
    "refit_score = 'precision_score'\n",
    "grid_search = GridSearchCV(clf,param_grid_4, scoring=scorers, refit = refit_score,cv = skf, n_jobs = -1, return_train_score = True)\n",
    "grid_search.fit(X_train_scaled, y_train)\n",
    "y_pred_grid = grid_search.predict(X_test_scaled)\n",
    "results[0].append(grid_search.best_params_)"
   ]
  },
  {
   "cell_type": "code",
   "execution_count": 36,
   "metadata": {},
   "outputs": [
    {
     "name": "stderr",
     "output_type": "stream",
     "text": [
      "C:\\Users\\BOL1KOR\\AppData\\Local\\Continuum\\anaconda3\\lib\\site-packages\\sklearn\\utils\\validation.py:578: DataConversionWarning: A column-vector y was passed when a 1d array was expected. Please change the shape of y to (n_samples, ), for example using ravel().\n",
      "  y = column_or_1d(y, warn=True)\n"
     ]
    }
   ],
   "source": [
    "clf = GradientBoostingClassifier(learning_rate = 0.5,n_estimators=100)\n",
    "refit_score = 'recall_score'\n",
    "grid_search = GridSearchCV(clf,param_grid_4, scoring=scorers, refit = refit_score,cv = skf, n_jobs = -1, return_train_score = True)\n",
    "grid_search.fit(X_train_scaled, y_train)\n",
    "y_pred_grid = grid_search.predict(X_test_scaled)\n",
    "results[1].append(grid_search.best_params_)"
   ]
  },
  {
   "cell_type": "code",
   "execution_count": 38,
   "metadata": {},
   "outputs": [
    {
     "name": "stdout",
     "output_type": "stream",
     "text": [
      "{'max_depth': 11.0}\n"
     ]
    }
   ],
   "source": [
    "print(grid_search.best_params_)"
   ]
  },
  {
   "cell_type": "code",
   "execution_count": 29,
   "metadata": {},
   "outputs": [
    {
     "data": {
      "text/plain": [
       "[['precision_score',\n",
       "  {'learning_rate': 0.125},\n",
       "  {'n_estimators': 100},\n",
       "  {'max_depth': 2.0}],\n",
       " ['recall_score',\n",
       "  {'learning_rate': 0.5},\n",
       "  {'n_estimators': 100},\n",
       "  {'max_depth': 11.0}]]"
      ]
     },
     "execution_count": 29,
     "metadata": {},
     "output_type": "execute_result"
    }
   ],
   "source": [
    "results"
   ]
  },
  {
   "cell_type": "code",
   "execution_count": 39,
   "metadata": {},
   "outputs": [],
   "source": [
    "param_grid_5 ={\n",
    "    'min_samples_split':[2,4,6,8,10,20,40,60,100], \n",
    "    'min_samples_leaf':[1,3,5,7,9]\n",
    "}"
   ]
  },
  {
   "cell_type": "code",
   "execution_count": 40,
   "metadata": {},
   "outputs": [
    {
     "name": "stderr",
     "output_type": "stream",
     "text": [
      "C:\\Users\\BOL1KOR\\AppData\\Local\\Continuum\\anaconda3\\lib\\site-packages\\sklearn\\utils\\validation.py:578: DataConversionWarning: A column-vector y was passed when a 1d array was expected. Please change the shape of y to (n_samples, ), for example using ravel().\n",
      "  y = column_or_1d(y, warn=True)\n"
     ]
    }
   ],
   "source": [
    "clf = GradientBoostingClassifier(learning_rate = 0.125,n_estimators=100,max_depth = 2)\n",
    "refit_score = 'precision_score'\n",
    "grid_search = GridSearchCV(clf,param_grid_5, scoring=scorers, refit = refit_score,cv = skf, n_jobs = -1, return_train_score = True)\n",
    "grid_search.fit(X_train_scaled, y_train)\n",
    "y_pred_grid = grid_search.predict(X_test_scaled)\n",
    "results[0].append(grid_search.best_params_)"
   ]
  },
  {
   "cell_type": "code",
   "execution_count": 41,
   "metadata": {},
   "outputs": [
    {
     "name": "stderr",
     "output_type": "stream",
     "text": [
      "C:\\Users\\BOL1KOR\\AppData\\Local\\Continuum\\anaconda3\\lib\\site-packages\\sklearn\\utils\\validation.py:578: DataConversionWarning: A column-vector y was passed when a 1d array was expected. Please change the shape of y to (n_samples, ), for example using ravel().\n",
      "  y = column_or_1d(y, warn=True)\n"
     ]
    }
   ],
   "source": [
    "clf = GradientBoostingClassifier(learning_rate = 0.5,n_estimators=100,max_depth = 11)\n",
    "refit_score = 'recall_score'\n",
    "grid_search = GridSearchCV(clf,param_grid_5, scoring=scorers, refit = refit_score,cv = skf, n_jobs = -1, return_train_score = True)\n",
    "grid_search.fit(X_train_scaled, y_train)\n",
    "y_pred_grid = grid_search.predict(X_test_scaled)\n",
    "results[1].append(grid_search.best_params_)"
   ]
  },
  {
   "cell_type": "code",
   "execution_count": 42,
   "metadata": {},
   "outputs": [
    {
     "data": {
      "text/plain": [
       "[['precision_score',\n",
       "  {'learning_rate': 0.125},\n",
       "  {'n_estimators': 100},\n",
       "  {'max_depth': 2.0},\n",
       "  {'min_samples_leaf': 7, 'min_samples_split': 60}],\n",
       " ['recall_score',\n",
       "  {'learning_rate': 0.5},\n",
       "  {'n_estimators': 100},\n",
       "  {'max_depth': 11.0},\n",
       "  {'min_samples_leaf': 9, 'min_samples_split': 100}]]"
      ]
     },
     "execution_count": 42,
     "metadata": {},
     "output_type": "execute_result"
    }
   ],
   "source": [
    "results"
   ]
  },
  {
   "cell_type": "code",
   "execution_count": null,
   "metadata": {},
   "outputs": [],
   "source": [
    "## Train GradientBoostingModel with optimized Parameter"
   ]
  },
  {
   "cell_type": "code",
   "execution_count": 64,
   "metadata": {},
   "outputs": [
    {
     "name": "stderr",
     "output_type": "stream",
     "text": [
      "C:\\Users\\BOL1KOR\\AppData\\Local\\Continuum\\anaconda3\\lib\\site-packages\\sklearn\\utils\\validation.py:578: DataConversionWarning: A column-vector y was passed when a 1d array was expected. Please change the shape of y to (n_samples, ), for example using ravel().\n",
      "  y = column_or_1d(y, warn=True)\n"
     ]
    },
    {
     "data": {
      "text/plain": [
       "GradientBoostingClassifier(criterion='friedman_mse', init=None,\n",
       "              learning_rate=0.1, loss='deviance', max_depth=11,\n",
       "              max_features=None, max_leaf_nodes=None,\n",
       "              min_impurity_decrease=0.0, min_impurity_split=None,\n",
       "              min_samples_leaf=9, min_samples_split=100,\n",
       "              min_weight_fraction_leaf=0.0, n_estimators=100,\n",
       "              presort='auto', random_state=None, subsample=1.0, verbose=0,\n",
       "              warm_start=False)"
      ]
     },
     "execution_count": 64,
     "metadata": {},
     "output_type": "execute_result"
    }
   ],
   "source": [
    "model_gb = GradientBoostingClassifier(n_estimators = 100, learning_rate = 0.1, \n",
    "                                      max_depth = 11, min_samples_leaf = 9, min_samples_split = 100)\n",
    "model_gb.fit(X_train_scaled,y_train)"
   ]
  },
  {
   "cell_type": "code",
   "execution_count": 65,
   "metadata": {},
   "outputs": [],
   "source": [
    "y_pred = model_gb.predict(X_test_scaled)"
   ]
  },
  {
   "cell_type": "code",
   "execution_count": 66,
   "metadata": {},
   "outputs": [
    {
     "name": "stdout",
     "output_type": "stream",
     "text": [
      "             precision    recall  f1-score   support\n",
      "\n",
      "          0       0.84      0.83      0.83      1146\n",
      "          1       0.82      0.83      0.83      1098\n",
      "\n",
      "avg / total       0.83      0.83      0.83      2244\n",
      "\n"
     ]
    }
   ],
   "source": [
    "class_names = ['0','1']\n",
    "from sklearn.metrics import classification_report\n",
    "\n",
    "print(classification_report(y_test, y_pred, target_names=class_names))"
   ]
  },
  {
   "cell_type": "code",
   "execution_count": null,
   "metadata": {},
   "outputs": [],
   "source": []
  }
 ],
 "metadata": {
  "kernelspec": {
   "display_name": "Python 3",
   "language": "python",
   "name": "python3"
  },
  "language_info": {
   "codemirror_mode": {
    "name": "ipython",
    "version": 3
   },
   "file_extension": ".py",
   "mimetype": "text/x-python",
   "name": "python",
   "nbconvert_exporter": "python",
   "pygments_lexer": "ipython3",
   "version": "3.6.9"
  }
 },
 "nbformat": 4,
 "nbformat_minor": 2
}
