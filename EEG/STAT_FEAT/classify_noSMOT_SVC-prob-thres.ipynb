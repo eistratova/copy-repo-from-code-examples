{
 "cells": [
  {
   "cell_type": "code",
   "execution_count": 1,
   "metadata": {},
   "outputs": [],
   "source": [
    "## sleep stage classification - 2 class - using stat features on segments of raw signal \n",
    "\n",
    "# try :\n",
    "# balance with smote / balanced class weight in SVM\n",
    "# grid search + CV  -> show plots on train & val error\n",
    "# optimise prob thres\n",
    "\n",
    "# http://localhost:8888/notebooks/Intern/Sleep_stage_Classification_2Class-imbalanced-data-SMOTE.ipynb\n",
    "# http://localhost:8888/notebooks/GPU_run/EEG_Classification_CNN_full_SMOTE_diff_network_GPU.ipynb\n",
    "# http://localhost:8888/notebooks/classification_2class_epochData_newPkl.ipynb\n",
    "\n",
    "import pandas as pd\n",
    "import numpy as np\n",
    "import os\n",
    "import pickle\n",
    "from scipy import stats\n",
    "import itertools\n",
    "import matplotlib.pyplot as plt\n",
    "from datetime import datetime\n",
    "\n",
    "from sklearn.preprocessing import MinMaxScaler, StandardScaler, RobustScaler\n",
    "from sklearn.model_selection import train_test_split\n",
    "\n",
    "from sklearn.svm import SVC\n",
    "from sklearn.metrics import auc,accuracy_score\n",
    "from sklearn.metrics import precision_recall_fscore_support,confusion_matrix\n",
    "from sklearn.metrics import classification_report"
   ]
  },
  {
   "cell_type": "code",
   "execution_count": 2,
   "metadata": {},
   "outputs": [],
   "source": [
    "###################function to plot confusion matrix#####################################\n",
    "def plot_confusion_matrix(cm, classes,\n",
    "                          normalize=False,\n",
    "                          title='Confusion matrix',\n",
    "                          cmap=plt.cm.Blues):\n",
    "    \"\"\"\n",
    "    This function prints and plots the confusion matrix.\n",
    "    Normalization can be applied by setting `normalize=True`.\n",
    "    \"\"\"\n",
    "    if normalize:\n",
    "        cm = cm.astype('float') / cm.sum(axis=1)[:, np.newaxis]\n",
    "        print(\"Normalized confusion matrix\")\n",
    "    else:\n",
    "        print('Confusion matrix, without normalization')\n",
    "\n",
    "    print(cm)\n",
    "\n",
    "    plt.imshow(cm, interpolation='nearest', cmap=cmap)\n",
    "    plt.title(title)\n",
    "    plt.colorbar()\n",
    "    tick_marks = np.arange(len(classes))\n",
    "    plt.xticks(tick_marks, classes, rotation=45)\n",
    "    plt.yticks(tick_marks, classes)\n",
    "\n",
    "    fmt = '.2f' if normalize else 'd'\n",
    "    thresh = cm.max() / 2.\n",
    "    for i, j in itertools.product(range(cm.shape[0]), range(cm.shape[1])):\n",
    "        plt.text(j, i, format(cm[i, j], fmt),\n",
    "                 horizontalalignment=\"center\",\n",
    "                 color=\"white\" if cm[i, j] > thresh else \"black\")\n",
    "\n",
    "    plt.tight_layout()\n",
    "    plt.ylabel('True label')\n",
    "    plt.xlabel('Predicted label')\n",
    "    \n",
    "###########################################################################################"
   ]
  },
  {
   "cell_type": "code",
   "execution_count": 3,
   "metadata": {},
   "outputs": [
    {
     "data": {
      "text/html": [
       "<div>\n",
       "<style scoped>\n",
       "    .dataframe tbody tr th:only-of-type {\n",
       "        vertical-align: middle;\n",
       "    }\n",
       "\n",
       "    .dataframe tbody tr th {\n",
       "        vertical-align: top;\n",
       "    }\n",
       "\n",
       "    .dataframe thead th {\n",
       "        text-align: right;\n",
       "    }\n",
       "</style>\n",
       "<table border=\"1\" class=\"dataframe\">\n",
       "  <thead>\n",
       "    <tr style=\"text-align: right;\">\n",
       "      <th></th>\n",
       "      <th>0</th>\n",
       "      <th>1</th>\n",
       "      <th>2</th>\n",
       "      <th>3</th>\n",
       "      <th>4</th>\n",
       "      <th>5</th>\n",
       "      <th>6</th>\n",
       "      <th>7</th>\n",
       "      <th>8</th>\n",
       "      <th>9</th>\n",
       "      <th>...</th>\n",
       "      <th>34</th>\n",
       "      <th>35</th>\n",
       "      <th>36</th>\n",
       "      <th>37</th>\n",
       "      <th>38</th>\n",
       "      <th>39</th>\n",
       "      <th>patient_id</th>\n",
       "      <th>day</th>\n",
       "      <th>epoch</th>\n",
       "      <th>class</th>\n",
       "    </tr>\n",
       "  </thead>\n",
       "  <tbody>\n",
       "    <tr>\n",
       "      <th>0</th>\n",
       "      <td>-121.576557</td>\n",
       "      <td>76.190476</td>\n",
       "      <td>-0.416508</td>\n",
       "      <td>1.687912</td>\n",
       "      <td>-17.230769</td>\n",
       "      <td>24.240293</td>\n",
       "      <td>41.471062</td>\n",
       "      <td>36.587040</td>\n",
       "      <td>-114.637363</td>\n",
       "      <td>156.553846</td>\n",
       "      <td>...</td>\n",
       "      <td>6.245118</td>\n",
       "      <td>4.547985</td>\n",
       "      <td>-13.737729</td>\n",
       "      <td>25.013919</td>\n",
       "      <td>38.751648</td>\n",
       "      <td>31.304390</td>\n",
       "      <td>400</td>\n",
       "      <td>1</td>\n",
       "      <td>s1e1</td>\n",
       "      <td>wake</td>\n",
       "    </tr>\n",
       "    <tr>\n",
       "      <th>1</th>\n",
       "      <td>-94.945055</td>\n",
       "      <td>33.054945</td>\n",
       "      <td>-0.898657</td>\n",
       "      <td>0.703297</td>\n",
       "      <td>-6.704762</td>\n",
       "      <td>7.454945</td>\n",
       "      <td>14.159707</td>\n",
       "      <td>16.226144</td>\n",
       "      <td>-67.750916</td>\n",
       "      <td>40.275458</td>\n",
       "      <td>...</td>\n",
       "      <td>-1.548972</td>\n",
       "      <td>-4.547985</td>\n",
       "      <td>-25.295238</td>\n",
       "      <td>23.888645</td>\n",
       "      <td>49.183883</td>\n",
       "      <td>32.831691</td>\n",
       "      <td>400</td>\n",
       "      <td>1</td>\n",
       "      <td>s1e2</td>\n",
       "      <td>wake</td>\n",
       "    </tr>\n",
       "    <tr>\n",
       "      <th>2</th>\n",
       "      <td>-69.532601</td>\n",
       "      <td>77.221978</td>\n",
       "      <td>0.975082</td>\n",
       "      <td>-0.984615</td>\n",
       "      <td>-10.127473</td>\n",
       "      <td>12.635897</td>\n",
       "      <td>22.763370</td>\n",
       "      <td>21.954602</td>\n",
       "      <td>-62.874725</td>\n",
       "      <td>79.566300</td>\n",
       "      <td>...</td>\n",
       "      <td>0.635624</td>\n",
       "      <td>3.000733</td>\n",
       "      <td>-14.792674</td>\n",
       "      <td>20.700366</td>\n",
       "      <td>35.493040</td>\n",
       "      <td>27.585531</td>\n",
       "      <td>400</td>\n",
       "      <td>1</td>\n",
       "      <td>s1e3</td>\n",
       "      <td>wake</td>\n",
       "    </tr>\n",
       "    <tr>\n",
       "      <th>3</th>\n",
       "      <td>-58.561172</td>\n",
       "      <td>50.027839</td>\n",
       "      <td>-2.881641</td>\n",
       "      <td>-2.391209</td>\n",
       "      <td>-18.754579</td>\n",
       "      <td>13.761172</td>\n",
       "      <td>32.515751</td>\n",
       "      <td>22.161343</td>\n",
       "      <td>-43.651282</td>\n",
       "      <td>33.805128</td>\n",
       "      <td>...</td>\n",
       "      <td>-0.064078</td>\n",
       "      <td>0.468864</td>\n",
       "      <td>-11.229304</td>\n",
       "      <td>11.698168</td>\n",
       "      <td>22.927473</td>\n",
       "      <td>15.383105</td>\n",
       "      <td>400</td>\n",
       "      <td>1</td>\n",
       "      <td>s1e4</td>\n",
       "      <td>wake</td>\n",
       "    </tr>\n",
       "    <tr>\n",
       "      <th>4</th>\n",
       "      <td>-48.621245</td>\n",
       "      <td>37.743590</td>\n",
       "      <td>-0.967736</td>\n",
       "      <td>1.734799</td>\n",
       "      <td>-14.816117</td>\n",
       "      <td>13.034432</td>\n",
       "      <td>27.850549</td>\n",
       "      <td>18.337279</td>\n",
       "      <td>-33.336264</td>\n",
       "      <td>34.461538</td>\n",
       "      <td>...</td>\n",
       "      <td>0.517158</td>\n",
       "      <td>0.750183</td>\n",
       "      <td>-11.838828</td>\n",
       "      <td>10.549451</td>\n",
       "      <td>22.388278</td>\n",
       "      <td>21.240018</td>\n",
       "      <td>400</td>\n",
       "      <td>1</td>\n",
       "      <td>s1e5</td>\n",
       "      <td>wake</td>\n",
       "    </tr>\n",
       "  </tbody>\n",
       "</table>\n",
       "<p>5 rows Ã— 44 columns</p>\n",
       "</div>"
      ],
      "text/plain": [
       "            0          1         2         3          4          5          6  \\\n",
       "0 -121.576557  76.190476 -0.416508  1.687912 -17.230769  24.240293  41.471062   \n",
       "1  -94.945055  33.054945 -0.898657  0.703297  -6.704762   7.454945  14.159707   \n",
       "2  -69.532601  77.221978  0.975082 -0.984615 -10.127473  12.635897  22.763370   \n",
       "3  -58.561172  50.027839 -2.881641 -2.391209 -18.754579  13.761172  32.515751   \n",
       "4  -48.621245  37.743590 -0.967736  1.734799 -14.816117  13.034432  27.850549   \n",
       "\n",
       "           7           8           9  ...          34        35         36  \\\n",
       "0  36.587040 -114.637363  156.553846  ...    6.245118  4.547985 -13.737729   \n",
       "1  16.226144  -67.750916   40.275458  ...   -1.548972 -4.547985 -25.295238   \n",
       "2  21.954602  -62.874725   79.566300  ...    0.635624  3.000733 -14.792674   \n",
       "3  22.161343  -43.651282   33.805128  ...   -0.064078  0.468864 -11.229304   \n",
       "4  18.337279  -33.336264   34.461538  ...    0.517158  0.750183 -11.838828   \n",
       "\n",
       "          37         38         39  patient_id  day  epoch  class  \n",
       "0  25.013919  38.751648  31.304390         400    1   s1e1   wake  \n",
       "1  23.888645  49.183883  32.831691         400    1   s1e2   wake  \n",
       "2  20.700366  35.493040  27.585531         400    1   s1e3   wake  \n",
       "3  11.698168  22.927473  15.383105         400    1   s1e4   wake  \n",
       "4  10.549451  22.388278  21.240018         400    1   s1e5   wake  \n",
       "\n",
       "[5 rows x 44 columns]"
      ]
     },
     "execution_count": 3,
     "metadata": {},
     "output_type": "execute_result"
    }
   ],
   "source": [
    "## load data ##\n",
    "\n",
    "file_location='C:/Users/DAR9KOR/Desktop/data/HEALTHCARE/EEG/data/eeg_epochs_dec12_2018/raw_data' #C:\\\\Users\\\\DAR9KOR\\\\Desktop\\\\data\\\\HEALTHCARE\\\\EEG\\\\data\\\\eeg_epochs_dec12_2018'\n",
    "os.chdir('C:/Users/DAR9KOR/Desktop/data/HEALTHCARE/EEG/data/eeg_epochs_dec12_2018/raw_data') #'/home/intern_eyecare/Desktop/EEG/raw_data') #C:\\\\Users\\\\DAR9KOR\\\\Desktop\\\\data\\\\HEALTHCARE\\\\EEG\\\\data\\\\eeg_epochs_dec12_2018')\n",
    "\n",
    "# remove 2nd night of subject 13, as there was data loss - pkl file created accordingly\n",
    "dfull = pickle.load(open('eeg_statistical_feature_vector.pkl', 'rb'))\n",
    "dfull.head(5)"
   ]
  },
  {
   "cell_type": "code",
   "execution_count": null,
   "metadata": {},
   "outputs": [],
   "source": []
  },
  {
   "cell_type": "code",
   "execution_count": 4,
   "metadata": {},
   "outputs": [
    {
     "name": "stdout",
     "output_type": "stream",
     "text": [
      "<class 'pandas.core.frame.DataFrame'>\n",
      "RangeIndex: 92994 entries, 0 to 92993\n",
      "Data columns (total 44 columns):\n",
      "0             92994 non-null float64\n",
      "1             92994 non-null float64\n",
      "2             92994 non-null float64\n",
      "3             92994 non-null float64\n",
      "4             92994 non-null float64\n",
      "5             92994 non-null float64\n",
      "6             92994 non-null float64\n",
      "7             92994 non-null float64\n",
      "8             92994 non-null float64\n",
      "9             92994 non-null float64\n",
      "10            92994 non-null float64\n",
      "11            92994 non-null float64\n",
      "12            92994 non-null float64\n",
      "13            92994 non-null float64\n",
      "14            92994 non-null float64\n",
      "15            92994 non-null float64\n",
      "16            92994 non-null float64\n",
      "17            92994 non-null float64\n",
      "18            92994 non-null float64\n",
      "19            92994 non-null float64\n",
      "20            92994 non-null float64\n",
      "21            92994 non-null float64\n",
      "22            92994 non-null float64\n",
      "23            92994 non-null float64\n",
      "24            92994 non-null float64\n",
      "25            92994 non-null float64\n",
      "26            92994 non-null float64\n",
      "27            92994 non-null float64\n",
      "28            92994 non-null float64\n",
      "29            92994 non-null float64\n",
      "30            92994 non-null float64\n",
      "31            92994 non-null float64\n",
      "32            92994 non-null float64\n",
      "33            92994 non-null float64\n",
      "34            92994 non-null float64\n",
      "35            92994 non-null float64\n",
      "36            92994 non-null float64\n",
      "37            92994 non-null float64\n",
      "38            92994 non-null float64\n",
      "39            92994 non-null float64\n",
      "patient_id    92994 non-null object\n",
      "day           92994 non-null object\n",
      "epoch         92994 non-null object\n",
      "class         92994 non-null object\n",
      "dtypes: float64(40), object(4)\n",
      "memory usage: 31.2+ MB\n"
     ]
    }
   ],
   "source": [
    "### check the data ###\n",
    "# 1. look for null values\n",
    "dfull.info()"
   ]
  },
  {
   "cell_type": "code",
   "execution_count": 5,
   "metadata": {},
   "outputs": [
    {
     "data": {
      "text/plain": [
       "0             0\n",
       "1             0\n",
       "2             0\n",
       "3             0\n",
       "4             0\n",
       "5             0\n",
       "6             0\n",
       "7             0\n",
       "8             0\n",
       "9             0\n",
       "10            0\n",
       "11            0\n",
       "12            0\n",
       "13            0\n",
       "14            0\n",
       "15            0\n",
       "16            0\n",
       "17            0\n",
       "18            0\n",
       "19            0\n",
       "20            0\n",
       "21            0\n",
       "22            0\n",
       "23            0\n",
       "24            0\n",
       "25            0\n",
       "26            0\n",
       "27            0\n",
       "28            0\n",
       "29            0\n",
       "30            0\n",
       "31            0\n",
       "32            0\n",
       "33            0\n",
       "34            0\n",
       "35            0\n",
       "36            0\n",
       "37            0\n",
       "38            0\n",
       "39            0\n",
       "patient_id    0\n",
       "day           0\n",
       "epoch         0\n",
       "class         0\n",
       "dtype: int64"
      ]
     },
     "execution_count": 5,
     "metadata": {},
     "output_type": "execute_result"
    }
   ],
   "source": [
    "dfull.isnull().sum()"
   ]
  },
  {
   "cell_type": "code",
   "execution_count": 6,
   "metadata": {},
   "outputs": [
    {
     "data": {
      "text/plain": [
       "class\n",
       "sleep_stage_1     2804\n",
       "sleep_stage_2    17799\n",
       "wake             72391\n",
       "dtype: int64"
      ]
     },
     "execution_count": 6,
     "metadata": {},
     "output_type": "execute_result"
    }
   ],
   "source": [
    "# 2. check data distribution\n",
    "dfull.groupby('class').size()"
   ]
  },
  {
   "cell_type": "code",
   "execution_count": null,
   "metadata": {},
   "outputs": [],
   "source": []
  },
  {
   "cell_type": "code",
   "execution_count": 7,
   "metadata": {},
   "outputs": [],
   "source": [
    "### convert from 3-class to 2-class ###\n",
    "dfull['class2'] = dfull['class']\n",
    "dfull['class2'] = [0 if x == 'wake' else 1 for x in dfull['class2']]\n",
    "\n",
    "## convert selected columns to string/categories \n",
    "## DO NOT CONVERT 'class2' from numeric to category - this probably gives error in grid search\n",
    "dfull[['class']] = dfull[['class']].astype('str')        # ,'class2'"
   ]
  },
  {
   "cell_type": "code",
   "execution_count": null,
   "metadata": {},
   "outputs": [],
   "source": []
  },
  {
   "cell_type": "code",
   "execution_count": null,
   "metadata": {},
   "outputs": [],
   "source": [
    "### create training & test sets ###"
   ]
  },
  {
   "cell_type": "code",
   "execution_count": 8,
   "metadata": {},
   "outputs": [
    {
     "name": "stdout",
     "output_type": "stream",
     "text": [
      "['400', '401', '402', '404', '405', '407', '408', '409', '410', '411', '412', '413', '414', '415', '416', '417', '418', '419']\n",
      "['403', '406']\n",
      "(82992, 45)\n",
      "(10002, 45)\n",
      "Train distribution\n",
      "class2\n",
      "0    64350\n",
      "1    18642\n",
      "dtype: int64\n",
      "\n",
      "Test distribution\n",
      "class2\n",
      "0    8041\n",
      "1    1961\n",
      "dtype: int64\n"
     ]
    }
   ],
   "source": [
    "### by patient ID  ###\n",
    "ID = dfull['patient_id'].unique() # create ID list\n",
    "\n",
    "np.random.seed(456)   ## select the IDs for the 2 sets\n",
    "msk = np.random.rand(len(ID)) < 0.8\n",
    "trainIDs = pd.DataFrame()\n",
    "testIDs = pd.DataFrame()\n",
    "trainIDs['patient_id'] = ID[msk]\n",
    "testIDs['patient_id'] = ID[~msk]\n",
    "print(trainIDs['patient_id'].tolist())\n",
    "print(testIDs['patient_id'].tolist())\n",
    "\n",
    "\n",
    "Train = dfull.loc[dfull['patient_id'].isin(ID[msk])] # create the train-test sets\n",
    "Test = dfull.loc[dfull['patient_id'].isin(ID[~msk])] #\n",
    "print(Train.shape)\n",
    "print(Test.shape)\n",
    "## also, check the distribution of class 0 & 1 in the train & test sets\n",
    "print('Train distribution')\n",
    "print(Train.groupby('class2').size())\n",
    "print('')\n",
    "print('Test distribution')\n",
    "print(Test.groupby('class2').size())\n",
    "\n",
    "\n",
    "X_train1 = Train.drop(['patient_id','day','epoch','class','class2'], 1).reset_index()  ## create X & y splits\n",
    "X_test = Test.drop(['patient_id','day','epoch','class','class2'], 1).reset_index()\n",
    "y_train1 = Train['class2'].reset_index()\n",
    "y_test = Test['class2'].reset_index()\n",
    "X_train1 = X_train1.drop(['index'], 1)\n",
    "X_test = X_test.drop(['index'],1)\n",
    "y_train1 = y_train1.drop(['index'],1)\n",
    "y_test = y_test.drop(['index'],1)"
   ]
  },
  {
   "cell_type": "code",
   "execution_count": null,
   "metadata": {},
   "outputs": [],
   "source": [
    "'''\n",
    "### by random sampling ###\n",
    "X =  dfull.drop(['pID','day','epoch','class_label','class2'], 1) # dfull[['delta','theta','alpha','beta','gamma']]\n",
    "y =  dfull['class2'] \n",
    "\n",
    "X_train1, X_test, y_train1, y_test = train_test_split(X, y, test_size=0.2, random_state=0)  #stratify=y) #stratify=True\n",
    "\n",
    "# to test if split is stratified\n",
    "y_tr = pd.DataFrame(y_train1)\n",
    "y_ts = pd.DataFrame(y_test)\n",
    "print('')\n",
    "print(y_tr.groupby('class2').size())\n",
    "print('')\n",
    "print(y_ts.groupby('class2').size())\n",
    "'''"
   ]
  },
  {
   "cell_type": "code",
   "execution_count": null,
   "metadata": {},
   "outputs": [],
   "source": [
    "'''\n",
    "## upsample training set\n",
    "from imblearn.over_sampling import SMOTE\n",
    "\n",
    "sm = SMOTE(random_state=42)\n",
    "X_train, y_train = sm.fit_resample(X_train1, y_train1)\n",
    "'''"
   ]
  },
  {
   "cell_type": "code",
   "execution_count": null,
   "metadata": {},
   "outputs": [],
   "source": [
    "'''\n",
    "check_upsample = pd.DataFrame(y_train)\n",
    "check_upsample.columns = ['class2']\n",
    "#check_upsample.head(2)\n",
    "print(check_upsample.groupby('class2').size())'''"
   ]
  },
  {
   "cell_type": "code",
   "execution_count": null,
   "metadata": {},
   "outputs": [],
   "source": []
  },
  {
   "cell_type": "code",
   "execution_count": 9,
   "metadata": {},
   "outputs": [],
   "source": [
    "### data scaling ###\n",
    "from sklearn.preprocessing import StandardScaler  #, MinMaxScaler, RobustScaler\n",
    "# http://benalexkeen.com/feature-scaling-with-scikit-learn/\n",
    "# standardscaler: suitable for normally distributed data\n",
    "# minMaxScaler: (x-min)/(max - min)\n",
    "\n",
    "## normalize the data  : can also use other scalers \n",
    "scaler = StandardScaler()  #MinMaxScaler()\n",
    "X_train_scaled = scaler.fit_transform(X_train1)\n",
    "X_test_scaled = scaler.transform(X_test)\n",
    "#X_train_scaled.shape"
   ]
  },
  {
   "cell_type": "code",
   "execution_count": null,
   "metadata": {},
   "outputs": [],
   "source": []
  },
  {
   "cell_type": "code",
   "execution_count": null,
   "metadata": {},
   "outputs": [],
   "source": [
    "## -----------------------------------------------------------------------------------------##"
   ]
  },
  {
   "cell_type": "code",
   "execution_count": null,
   "metadata": {},
   "outputs": [],
   "source": [
    "##########  SVC model + class weight balancing #####W#"
   ]
  },
  {
   "cell_type": "code",
   "execution_count": 10,
   "metadata": {},
   "outputs": [
    {
     "name": "stdout",
     "output_type": "stream",
     "text": [
      "2019-02-18 12:01:25\n"
     ]
    }
   ],
   "source": [
    "print(datetime.now().strftime('%Y-%m-%d %H:%M:%S'))"
   ]
  },
  {
   "cell_type": "code",
   "execution_count": 11,
   "metadata": {},
   "outputs": [
    {
     "name": "stderr",
     "output_type": "stream",
     "text": [
      "C:\\Users\\DAR9KOR\\AppData\\Local\\Continuum\\anaconda3\\lib\\site-packages\\sklearn\\utils\\validation.py:761: DataConversionWarning: A column-vector y was passed when a 1d array was expected. Please change the shape of y to (n_samples, ), for example using ravel().\n",
      "  y = column_or_1d(y, warn=True)\n"
     ]
    },
    {
     "data": {
      "text/plain": [
       "SVC(C=1.0, cache_size=200, class_weight='balanced', coef0=0.0,\n",
       "  decision_function_shape='ovr', degree=3, gamma='auto_deprecated',\n",
       "  kernel='rbf', max_iter=-1, probability=False, random_state=None,\n",
       "  shrinking=True, tol=0.001, verbose=False)"
      ]
     },
     "execution_count": 11,
     "metadata": {},
     "output_type": "execute_result"
    }
   ],
   "source": [
    "model_svc = SVC(class_weight='balanced')  # probability=True\n",
    "model_svc.fit(X_train_scaled, y_train1)"
   ]
  },
  {
   "cell_type": "code",
   "execution_count": 12,
   "metadata": {},
   "outputs": [
    {
     "name": "stdout",
     "output_type": "stream",
     "text": [
      "2019-02-18 12:07:14\n"
     ]
    }
   ],
   "source": [
    "print(datetime.now().strftime('%Y-%m-%d %H:%M:%S'))"
   ]
  },
  {
   "cell_type": "code",
   "execution_count": 13,
   "metadata": {},
   "outputs": [],
   "source": [
    "# predict on test data - check metrics\n",
    "y_pred = model_svc.predict(X_test_scaled)"
   ]
  },
  {
   "cell_type": "code",
   "execution_count": 14,
   "metadata": {},
   "outputs": [
    {
     "name": "stdout",
     "output_type": "stream",
     "text": [
      "Normalized confusion matrix\n",
      "[[0.87 0.13]\n",
      " [0.13 0.87]]\n"
     ]
    },
    {
     "data": {
      "image/png": "[encoded data removed]",
      "text/plain": [
       "<Figure size 432x288 with 2 Axes>"
      ]
     },
     "metadata": {},
     "output_type": "display_data"
    }
   ],
   "source": [
    "####    Compute confusion matrix     ####\n",
    "\n",
    "class_names = ['0','1'] #['wake','sleep_stage_1','sleep_stage_2']  # wake, SS1, SS2  ; # '0','1','2'\n",
    "\n",
    "cnf_matrix = confusion_matrix(y_test, y_pred)\n",
    "np.set_printoptions(precision=2)\n",
    "\n",
    "# Plot non-normalized confusion matrix\n",
    "#plt.figure()\n",
    "#plot_confusion_matrix(cnf_matrix, classes=class_names,\n",
    "#                      title='Confusion matrix, without normalization')\n",
    "\n",
    "# Plot normalized confusion matrix : normalisation shows nan for class'0' no signal has class=0 as true label\n",
    "plt.figure()\n",
    "plot_confusion_matrix(cnf_matrix, classes=class_names, normalize=True,\n",
    "                      title='Normalized confusion matrix')\n",
    "plt.show()"
   ]
  },
  {
   "cell_type": "code",
   "execution_count": 15,
   "metadata": {},
   "outputs": [
    {
     "data": {
      "text/plain": [
       "(array([0.96, 0.62]),\n",
       " array([0.87, 0.87]),\n",
       " array([0.91, 0.72]),\n",
       " array([8041, 1961], dtype=int64))"
      ]
     },
     "execution_count": 15,
     "metadata": {},
     "output_type": "execute_result"
    }
   ],
   "source": [
    "from sklearn.metrics import precision_recall_fscore_support\n",
    "precision_recall_fscore_support(y_test,y_pred) \n",
    "\n",
    "# layout of results\n",
    "# precision: class 0, class 1   ==> [0: wake; 1: sleep/drowsy/fatigue]\n",
    "# recall: class 0, class 1\n",
    "# f1 score: class 0, class 1\n",
    "# support: class 0, class 1"
   ]
  },
  {
   "cell_type": "code",
   "execution_count": 16,
   "metadata": {},
   "outputs": [
    {
     "name": "stdout",
     "output_type": "stream",
     "text": [
      "              precision    recall  f1-score   support\n",
      "\n",
      "           0       0.96      0.87      0.91      8041\n",
      "           1       0.62      0.87      0.72      1961\n",
      "\n",
      "   micro avg       0.87      0.87      0.87     10002\n",
      "   macro avg       0.79      0.87      0.82     10002\n",
      "weighted avg       0.90      0.87      0.88     10002\n",
      "\n"
     ]
    }
   ],
   "source": [
    "print(classification_report(y_test, y_pred, target_names=class_names))"
   ]
  },
  {
   "cell_type": "code",
   "execution_count": null,
   "metadata": {},
   "outputs": [],
   "source": []
  },
  {
   "cell_type": "code",
   "execution_count": null,
   "metadata": {},
   "outputs": [],
   "source": []
  },
  {
   "cell_type": "code",
   "execution_count": null,
   "metadata": {},
   "outputs": [],
   "source": []
  },
  {
   "cell_type": "code",
   "execution_count": 17,
   "metadata": {},
   "outputs": [
    {
     "name": "stdout",
     "output_type": "stream",
     "text": [
      "2019-02-18 12:54:28\n"
     ]
    }
   ],
   "source": [
    "### --------------------------------------------------------\n",
    "## default SVC\n",
    "print(datetime.now().strftime('%Y-%m-%d %H:%M:%S'))"
   ]
  },
  {
   "cell_type": "code",
   "execution_count": 18,
   "metadata": {},
   "outputs": [
    {
     "name": "stderr",
     "output_type": "stream",
     "text": [
      "C:\\Users\\DAR9KOR\\AppData\\Local\\Continuum\\anaconda3\\lib\\site-packages\\sklearn\\utils\\validation.py:761: DataConversionWarning: A column-vector y was passed when a 1d array was expected. Please change the shape of y to (n_samples, ), for example using ravel().\n",
      "  y = column_or_1d(y, warn=True)\n"
     ]
    },
    {
     "data": {
      "text/plain": [
       "SVC(C=1.0, cache_size=200, class_weight=None, coef0=0.0,\n",
       "  decision_function_shape='ovr', degree=3, gamma='auto_deprecated',\n",
       "  kernel='rbf', max_iter=-1, probability=False, random_state=None,\n",
       "  shrinking=True, tol=0.001, verbose=False)"
      ]
     },
     "execution_count": 18,
     "metadata": {},
     "output_type": "execute_result"
    }
   ],
   "source": [
    "model_svc = SVC()  # probability=True\n",
    "model_svc.fit(X_train_scaled, y_train1)"
   ]
  },
  {
   "cell_type": "code",
   "execution_count": 19,
   "metadata": {},
   "outputs": [
    {
     "name": "stdout",
     "output_type": "stream",
     "text": [
      "2019-02-18 12:57:56\n"
     ]
    }
   ],
   "source": [
    "print(datetime.now().strftime('%Y-%m-%d %H:%M:%S'))"
   ]
  },
  {
   "cell_type": "code",
   "execution_count": 20,
   "metadata": {},
   "outputs": [],
   "source": [
    "# predict on test data - check metrics\n",
    "y_pred = model_svc.predict(X_test_scaled)"
   ]
  },
  {
   "cell_type": "code",
   "execution_count": 21,
   "metadata": {},
   "outputs": [
    {
     "name": "stdout",
     "output_type": "stream",
     "text": [
      "Normalized confusion matrix\n",
      "[[0.95 0.05]\n",
      " [0.29 0.71]]\n"
     ]
    },
    {
     "data": {
      "image/png": "[encoded data removed]",
      "text/plain": [
       "<Figure size 432x288 with 2 Axes>"
      ]
     },
     "metadata": {},
     "output_type": "display_data"
    }
   ],
   "source": [
    "####    Compute confusion matrix     ####\n",
    "\n",
    "class_names = ['0','1'] #['wake','sleep_stage_1','sleep_stage_2']  # wake, SS1, SS2  ; # '0','1','2'\n",
    "\n",
    "cnf_matrix = confusion_matrix(y_test, y_pred)\n",
    "np.set_printoptions(precision=2)\n",
    "\n",
    "# Plot normalized confusion matrix : normalisation shows nan for class'0' no signal has class=0 as true label\n",
    "plt.figure()\n",
    "plot_confusion_matrix(cnf_matrix, classes=class_names, normalize=True,\n",
    "                      title='Normalized confusion matrix')\n",
    "plt.show()"
   ]
  },
  {
   "cell_type": "code",
   "execution_count": 22,
   "metadata": {},
   "outputs": [
    {
     "data": {
      "text/plain": [
       "(array([0.93, 0.79]),\n",
       " array([0.95, 0.71]),\n",
       " array([0.94, 0.75]),\n",
       " array([8041, 1961], dtype=int64))"
      ]
     },
     "execution_count": 22,
     "metadata": {},
     "output_type": "execute_result"
    }
   ],
   "source": [
    "from sklearn.metrics import precision_recall_fscore_support\n",
    "precision_recall_fscore_support(y_test,y_pred) \n",
    "\n",
    "# layout of results\n",
    "# precision: class 0, class 1   ==> [0: wake; 1: sleep/drowsy/fatigue]\n",
    "# recall: class 0, class 1\n",
    "# f1 score: class 0, class 1\n",
    "# support: class 0, class 1"
   ]
  },
  {
   "cell_type": "code",
   "execution_count": 23,
   "metadata": {},
   "outputs": [
    {
     "name": "stdout",
     "output_type": "stream",
     "text": [
      "              precision    recall  f1-score   support\n",
      "\n",
      "           0       0.93      0.95      0.94      8041\n",
      "           1       0.79      0.71      0.75      1961\n",
      "\n",
      "   micro avg       0.91      0.91      0.91     10002\n",
      "   macro avg       0.86      0.83      0.84     10002\n",
      "weighted avg       0.90      0.91      0.90     10002\n",
      "\n"
     ]
    }
   ],
   "source": [
    "print(classification_report(y_test, y_pred, target_names=class_names))"
   ]
  },
  {
   "cell_type": "code",
   "execution_count": null,
   "metadata": {},
   "outputs": [],
   "source": []
  },
  {
   "cell_type": "code",
   "execution_count": null,
   "metadata": {},
   "outputs": [],
   "source": []
  },
  {
   "cell_type": "code",
   "execution_count": null,
   "metadata": {},
   "outputs": [],
   "source": [
    "##---------------------------------------------------------------------------------------------------"
   ]
  },
  {
   "cell_type": "code",
   "execution_count": null,
   "metadata": {},
   "outputs": [],
   "source": [
    "### SVC model + probability thresholding ###\n",
    "print(datetime.now().strftime('%Y-%m-%d %H:%M:%S'))"
   ]
  },
  {
   "cell_type": "code",
   "execution_count": null,
   "metadata": {},
   "outputs": [],
   "source": [
    "model_svc = SVC(probability=True)  #, class_weight='balanced')\n",
    "model_svc.fit(X_train_scaled, y_train1)"
   ]
  },
  {
   "cell_type": "code",
   "execution_count": null,
   "metadata": {},
   "outputs": [],
   "source": [
    "datetime.now().strftime('%Y-%m-%d %H:%M:%S')"
   ]
  },
  {
   "cell_type": "code",
   "execution_count": null,
   "metadata": {},
   "outputs": [],
   "source": [
    "# predict on test data - check metrics\n",
    "y_pred = model_svc.predict(X_test_scaled)\n",
    "#y_pred = model_svc.predict_proba(X_test_scaled)"
   ]
  },
  {
   "cell_type": "code",
   "execution_count": null,
   "metadata": {},
   "outputs": [],
   "source": [
    "y_pred"
   ]
  },
  {
   "cell_type": "code",
   "execution_count": null,
   "metadata": {},
   "outputs": [],
   "source": [
    "model_svc.predict_proba(X_test_scaled)\n",
    "# predict_proba gives you the probabilities for the target (0 and 1 in your case) in array form. \n",
    "# The number of probabilities for each row is equal to the number of categories in target variable (2 in your case)"
   ]
  },
  {
   "cell_type": "code",
   "execution_count": null,
   "metadata": {},
   "outputs": [],
   "source": [
    "model_svc"
   ]
  },
  {
   "cell_type": "code",
   "execution_count": null,
   "metadata": {},
   "outputs": [],
   "source": [
    "y_pred = model_svc.predict_proba(X_test_scaled)[:,[1]]  ## prob for class 1"
   ]
  },
  {
   "cell_type": "code",
   "execution_count": null,
   "metadata": {},
   "outputs": [],
   "source": [
    "# vary threshold & get metrics\n",
    "\n",
    "cut_off=np.arange(0,1,.01)\n",
    "\n",
    "metric = []\n",
    "#sensitivity=[]\n",
    "#specificity=[]\n",
    "for m in cut_off:\n",
    "    array=np.zeros(len(y_pred))\n",
    "    array_ind=[i for i in range(len(y_pred)) if y_pred[i]>=m]\n",
    "    array[array_ind]=1\n",
    "    p=precision_recall_fscore_support(y_test,array) \n",
    "    sensitivity = p[1][1]  # sensitivity.append(p[1][1])\n",
    "    specificity = p[1][0]  # specificity.append(p[1][0])\n",
    "    metric.append([m,sensitivity, specificity])\n",
    "#sensitivity=pd.DataFrame(np.array(sensitivity))\n",
    "#specificity=pd.DataFrame(np.array(specificity))\n",
    "metric = pd.DataFrame(metric,columns=['thres', 'sensitivity', 'specificity'])"
   ]
  },
  {
   "cell_type": "code",
   "execution_count": null,
   "metadata": {},
   "outputs": [],
   "source": [
    "plt.figure(figsize=(8,6))\n",
    "plt.scatter(x=1-pd.np.array(metric.iloc[:,[2]]),y=pd.np.array(metric.iloc[:,[1]]))\n",
    "auc(1-pd.np.array(metric.iloc[:,[2]]),pd.np.array(metric.iloc[:,[1]]))"
   ]
  },
  {
   "cell_type": "code",
   "execution_count": null,
   "metadata": {
    "scrolled": true
   },
   "outputs": [],
   "source": [
    "metric['FPR'] = 1 - metric['specificity']\n",
    "#print(metric)\n",
    "metric.head(50)"
   ]
  },
  {
   "cell_type": "code",
   "execution_count": null,
   "metadata": {},
   "outputs": [],
   "source": [
    "metric.tail(51)"
   ]
  },
  {
   "cell_type": "code",
   "execution_count": null,
   "metadata": {},
   "outputs": [],
   "source": [
    "# Youden index = x at which max(sensitivity + (1-specificity))  ## CORRECT FORMULA ??\n",
    "optimal_idx = np.argmax(pd.np.array(metric['sensitivity']) - pd.np.array(metric['FPR']))\n",
    "optimal_threshold = cut_off[optimal_idx]\n",
    "print(optimal_threshold)"
   ]
  },
  {
   "cell_type": "code",
   "execution_count": null,
   "metadata": {},
   "outputs": [],
   "source": [
    "y_pred_thres = np.where(y_pred > optimal_threshold, 1, 0)"
   ]
  },
  {
   "cell_type": "code",
   "execution_count": null,
   "metadata": {},
   "outputs": [],
   "source": [
    "####    Compute confusion matrix     ####\n",
    "\n",
    "class_names = ['0','1'] #['wake','sleep_stage_1','sleep_stage_2']  # wake, SS1, SS2  ; # '0','1','2'\n",
    "\n",
    "cnf_matrix = confusion_matrix(y_test, y_pred_thres)\n",
    "np.set_printoptions(precision=2)\n",
    "\n",
    "# Plot non-normalized confusion matrix\n",
    "plt.figure()\n",
    "plot_confusion_matrix(cnf_matrix, classes=class_names,\n",
    "                      title='Confusion matrix, without normalization')\n",
    "\n",
    "# Plot normalized confusion matrix : normalisation shows nan for class'0' no signal has class=0 as true label\n",
    "plt.figure()\n",
    "plot_confusion_matrix(cnf_matrix, classes=class_names, normalize=True,\n",
    "                      title='Normalized confusion matrix')\n",
    "plt.show()"
   ]
  },
  {
   "cell_type": "code",
   "execution_count": null,
   "metadata": {},
   "outputs": [],
   "source": [
    "print(classification_report(y_test, y_pred_thres, target_names=class_names))"
   ]
  },
  {
   "cell_type": "code",
   "execution_count": null,
   "metadata": {},
   "outputs": [],
   "source": [
    "print(accuracy_score(y_test,y_pred))"
   ]
  },
  {
   "cell_type": "code",
   "execution_count": null,
   "metadata": {},
   "outputs": [],
   "source": [
    "from sklearn.metrics import precision_recall_fscore_support\n",
    "precision_recall_fscore_support(y_test,y_pred_thres) \n",
    "\n",
    "# layout of results\n",
    "# precision: class 0, class 1   ==> [0: wake; 1: sleep/drowsy/fatigue]\n",
    "# recall: class 0, class 1\n",
    "# f1 score: class 0, class 1\n",
    "# support: class 0, class 1"
   ]
  },
  {
   "cell_type": "code",
   "execution_count": null,
   "metadata": {},
   "outputs": [],
   "source": [
    "p = precision_recall_fscore_support(y_test,y_pred_thres) \n",
    "sen = p[1][1]\n",
    "spec = p[1][0]\n",
    "print('sen: ' + str(sen) +' , spec: ' + str(spec))"
   ]
  },
  {
   "cell_type": "code",
   "execution_count": null,
   "metadata": {},
   "outputs": [],
   "source": []
  },
  {
   "cell_type": "code",
   "execution_count": null,
   "metadata": {},
   "outputs": [],
   "source": [
    "from sklearn.metrics import precision_recall_curve\n",
    "p, r, thresholds = precision_recall_curve(y_test, y_pred)"
   ]
  },
  {
   "cell_type": "code",
   "execution_count": null,
   "metadata": {},
   "outputs": [],
   "source": [
    "df = pd.DataFrame()\n",
    "df = pd.concat([df,pd.DataFrame(thresholds), pd.DataFrame(p), pd.DataFrame(r)], axis=1)\n",
    "df.columns = ['threshold', 'precision', 'recall']"
   ]
  },
  {
   "cell_type": "code",
   "execution_count": null,
   "metadata": {},
   "outputs": [],
   "source": [
    "df.describe()"
   ]
  },
  {
   "cell_type": "code",
   "execution_count": null,
   "metadata": {},
   "outputs": [],
   "source": [
    "df[ (df['precision'] == df['recall'] ) ] "
   ]
  },
  {
   "cell_type": "code",
   "execution_count": null,
   "metadata": {},
   "outputs": [],
   "source": [
    "def plot_precision_recall_vs_threshold(precisions, recalls, thresholds):\n",
    "    \"\"\"\n",
    "    Modified from:\n",
    "    Hands-On Machine learning with Scikit-Learn\n",
    "    and TensorFlow; p.89\n",
    "    \"\"\"\n",
    "    plt.figure(figsize=(8, 8))\n",
    "    plt.title(\"Precision and Recall Scores as a function of the decision threshold\")\n",
    "    plt.plot(thresholds, precisions[:-1], \"b--\", label=\"Precision\")\n",
    "    plt.plot(thresholds, recalls[:-1], \"g-\", label=\"Recall\")\n",
    "    plt.ylabel(\"Score\")\n",
    "    plt.xlabel(\"Threshold\")\n",
    "    plt.legend(loc='best')\n",
    "\n",
    "plot_precision_recall_vs_threshold(p, r, thresholds)"
   ]
  },
  {
   "cell_type": "code",
   "execution_count": null,
   "metadata": {},
   "outputs": [],
   "source": [
    "y_pred_thres2 = np.where(y_pred > 0.306, 1, 0)\n",
    "print(classification_report(y_test, y_pred_thres2, target_names=class_names))"
   ]
  },
  {
   "cell_type": "code",
   "execution_count": null,
   "metadata": {},
   "outputs": [],
   "source": [
    "cnf_matrix = confusion_matrix(y_test, y_pred_thres2)\n",
    "np.set_printoptions(precision=2)\n",
    "\n",
    "# Plot normalized confusion matrix : normalisation shows nan for class'0' no signal has class=0 as true label\n",
    "plt.figure()\n",
    "plot_confusion_matrix(cnf_matrix, classes=class_names, normalize=True,\n",
    "                      title='Normalized confusion matrix')\n",
    "plt.show()"
   ]
  },
  {
   "cell_type": "code",
   "execution_count": null,
   "metadata": {},
   "outputs": [],
   "source": []
  },
  {
   "cell_type": "code",
   "execution_count": null,
   "metadata": {},
   "outputs": [],
   "source": [
    "## --------------------------------------------------------------------------------------------"
   ]
  },
  {
   "cell_type": "code",
   "execution_count": null,
   "metadata": {},
   "outputs": [],
   "source": [
    "###  cross-validation + Thresholding ###\n",
    "\n",
    "from sklearn.metrics import make_scorer,recall_score,accuracy_score,precision_score   #roc_curve, precision_recall_curve, auc, confusion_matrix\n",
    "from sklearn.model_selection import GridSearchCV, StratifiedKFold   # train_test_split,\n",
    "\n",
    "clf = SVC() #n_jobs=-1)  # this runs the computation in parallel\n",
    "\n",
    "param_grid = [\n",
    "  #{'C': [1, 10, 100, 1000, 10000], 'kernel': ['linear']},\n",
    "  {'C': [0.1, 1, 10], 'gamma': [1, 0.1, 0.01], 'kernel': ['rbf']},\n",
    "]\n",
    "\n",
    "\n",
    "scorers = {\n",
    "    'precision_score': make_scorer(precision_score),\n",
    "    'recall_score': make_scorer(recall_score),\n",
    "    'accuracy_score': make_scorer(accuracy_score)\n",
    "}\n",
    "\n",
    "\n",
    "skf = StratifiedKFold(n_splits=4)  # n_splits=10\n",
    "grid_search = GridSearchCV(clf, param_grid, scoring=scorers, refit='recall_score',\n",
    "                           cv=skf, return_train_score=True, n_jobs=-1)\n",
    "grid_search.fit(X_train_scaled, y_train1)  #X_train.values, y_train.values)\n",
    "\n",
    "grid_search.best_params_\n",
    "#best_C=grid_search.best_params_['C']\n",
    "#best_gamma=grid_search.best_params_['gamma']"
   ]
  },
  {
   "cell_type": "code",
   "execution_count": null,
   "metadata": {},
   "outputs": [],
   "source": [
    "print(datetime.now().strftime('%Y-%m-%d %H:%M:%S'))"
   ]
  },
  {
   "cell_type": "code",
   "execution_count": null,
   "metadata": {},
   "outputs": [],
   "source": [
    "refit_score = 'recall_score'\n",
    "print('Best params for {}'.format(refit_score))"
   ]
  },
  {
   "cell_type": "code",
   "execution_count": null,
   "metadata": {},
   "outputs": [],
   "source": [
    "grid_search.cv_results_"
   ]
  },
  {
   "cell_type": "code",
   "execution_count": null,
   "metadata": {},
   "outputs": [],
   "source": [
    "## job started around 8 or 8:30 PM\n",
    "print(datetime.now().strftime('%Y-%m-%d %H:%M:%S'))"
   ]
  },
  {
   "cell_type": "code",
   "execution_count": null,
   "metadata": {},
   "outputs": [],
   "source": [
    "model_svc = SVC(probability=True, C= 10, gamma= 0.1, kernel= 'rbf')  #, class_weight='balanced')\n",
    "model_svc.fit(X_train_scaled, y_train1)"
   ]
  },
  {
   "cell_type": "code",
   "execution_count": null,
   "metadata": {},
   "outputs": [],
   "source": [
    "print(datetime.now().strftime('%Y-%m-%d %H:%M:%S'))"
   ]
  },
  {
   "cell_type": "code",
   "execution_count": null,
   "metadata": {},
   "outputs": [],
   "source": [
    "y_pred = model_svc.predict_proba(X_test_scaled)[:,[1]]  ## prob for class 1"
   ]
  },
  {
   "cell_type": "code",
   "execution_count": null,
   "metadata": {},
   "outputs": [],
   "source": [
    "# vary threshold & get metrics\n",
    "\n",
    "cut_off=np.arange(0,1,.01)\n",
    "\n",
    "metric = []\n",
    "#sensitivity=[]\n",
    "#specificity=[]\n",
    "for m in cut_off:\n",
    "    array=np.zeros(len(y_pred))\n",
    "    array_ind=[i for i in range(len(y_pred)) if y_pred[i]>=m]\n",
    "    array[array_ind]=1\n",
    "    p=precision_recall_fscore_support(y_test,array) \n",
    "    sensitivity = p[1][1]  # sensitivity.append(p[1][1])\n",
    "    specificity = p[1][0]  # specificity.append(p[1][0])\n",
    "    metric.append([m,sensitivity, specificity])\n",
    "#sensitivity=pd.DataFrame(np.array(sensitivity))\n",
    "#specificity=pd.DataFrame(np.array(specificity))\n",
    "metric = pd.DataFrame(metric,columns=['thres', 'sensitivity', 'specificity'])"
   ]
  },
  {
   "cell_type": "code",
   "execution_count": null,
   "metadata": {},
   "outputs": [],
   "source": [
    "plt.figure(figsize=(8,6))\n",
    "plt.scatter(x=1-pd.np.array(metric.iloc[:,[2]]),y=pd.np.array(metric.iloc[:,[1]]))\n",
    "auc(1-pd.np.array(metric.iloc[:,[2]]),pd.np.array(metric.iloc[:,[1]]))"
   ]
  },
  {
   "cell_type": "code",
   "execution_count": null,
   "metadata": {},
   "outputs": [],
   "source": [
    "metric['FPR'] = 1 - metric['specificity']\n",
    "#print(metric)\n",
    "metric.head(50)"
   ]
  },
  {
   "cell_type": "code",
   "execution_count": null,
   "metadata": {},
   "outputs": [],
   "source": [
    "metric.tail(51)"
   ]
  },
  {
   "cell_type": "code",
   "execution_count": null,
   "metadata": {},
   "outputs": [],
   "source": [
    "optimal_idx = np.argmax(pd.np.array(metric['sensitivity']) - pd.np.array(metric['FPR']))\n",
    "optimal_threshold = cut_off[optimal_idx]\n",
    "print(optimal_threshold)\n",
    "\n",
    "y_pred_thres = np.where(y_pred > optimal_threshold, 1, 0)"
   ]
  },
  {
   "cell_type": "code",
   "execution_count": null,
   "metadata": {},
   "outputs": [],
   "source": [
    "cnf_matrix = confusion_matrix(y_test, y_pred_thres)\n",
    "np.set_printoptions(precision=2)\n",
    "\n",
    "# Plot normalized confusion matrix : normalisation shows nan for class'0' no signal has class=0 as true label\n",
    "plt.figure()\n",
    "plot_confusion_matrix(cnf_matrix, classes=class_names, normalize=True,\n",
    "                      title='Normalized confusion matrix')\n",
    "plt.show()"
   ]
  },
  {
   "cell_type": "code",
   "execution_count": null,
   "metadata": {},
   "outputs": [],
   "source": [
    "from sklearn.metrics import precision_recall_fscore_support\n",
    "precision_recall_fscore_support(y_test,y_pred_thres) \n",
    "\n",
    "# layout of results\n",
    "# precision: class 0, class 1   ==> [0: wake; 1: sleep/drowsy/fatigue]\n",
    "# recall: class 0, class 1\n",
    "# f1 score: class 0, class 1\n",
    "# support: class 0, class 1"
   ]
  },
  {
   "cell_type": "code",
   "execution_count": null,
   "metadata": {},
   "outputs": [],
   "source": []
  },
  {
   "cell_type": "code",
   "execution_count": null,
   "metadata": {},
   "outputs": [],
   "source": []
  },
  {
   "cell_type": "code",
   "execution_count": null,
   "metadata": {},
   "outputs": [],
   "source": [
    "## -----------------------------------------------------------------------------------------------------------"
   ]
  },
  {
   "cell_type": "code",
   "execution_count": null,
   "metadata": {},
   "outputs": [],
   "source": [
    "### balanced classweight + grid parameters ####\n",
    "print(datetime.now().strftime('%Y-%m-%d %H:%M:%S'))"
   ]
  },
  {
   "cell_type": "code",
   "execution_count": null,
   "metadata": {},
   "outputs": [],
   "source": [
    "model_svc = SVC(C= 10, gamma= 0.1, kernel= 'rbf', class_weight='balanced')  # probability=True,\n",
    "model_svc.fit(X_train_scaled, y_train1)"
   ]
  },
  {
   "cell_type": "code",
   "execution_count": null,
   "metadata": {},
   "outputs": [],
   "source": [
    "print(datetime.now().strftime('%Y-%m-%d %H:%M:%S'))"
   ]
  },
  {
   "cell_type": "code",
   "execution_count": null,
   "metadata": {},
   "outputs": [],
   "source": [
    "# predict on test data - check metrics\n",
    "y_pred = model_svc.predict(X_test_scaled)"
   ]
  },
  {
   "cell_type": "code",
   "execution_count": null,
   "metadata": {},
   "outputs": [],
   "source": [
    "from sklearn.metrics import precision_recall_fscore_support\n",
    "precision_recall_fscore_support(y_test,y_pred) \n",
    "\n",
    "# layout of results\n",
    "# precision: class 0, class 1   ==> [0: wake; 1: sleep/drowsy/fatigue]\n",
    "# recall: class 0, class 1\n",
    "# f1 score: class 0, class 1\n",
    "# support: class 0, class 1"
   ]
  },
  {
   "cell_type": "code",
   "execution_count": null,
   "metadata": {},
   "outputs": [],
   "source": []
  },
  {
   "cell_type": "code",
   "execution_count": null,
   "metadata": {},
   "outputs": [],
   "source": []
  },
  {
   "cell_type": "code",
   "execution_count": null,
   "metadata": {},
   "outputs": [],
   "source": [
    "####  balanced class weight + grid param + prob thres  ####"
   ]
  },
  {
   "cell_type": "code",
   "execution_count": null,
   "metadata": {},
   "outputs": [],
   "source": [
    "print(datetime.now().strftime('%Y-%m-%d %H:%M:%S'))"
   ]
  },
  {
   "cell_type": "code",
   "execution_count": null,
   "metadata": {},
   "outputs": [],
   "source": [
    "model_svc_bl = SVC(C= 10, gamma= 0.1, kernel= 'rbf', class_weight='balanced', probability=True)\n",
    "model_svc_bl.fit(X_train_scaled, y_train1)"
   ]
  },
  {
   "cell_type": "code",
   "execution_count": null,
   "metadata": {},
   "outputs": [],
   "source": [
    "print(datetime.now().strftime('%Y-%m-%d %H:%M:%S'))"
   ]
  },
  {
   "cell_type": "code",
   "execution_count": null,
   "metadata": {},
   "outputs": [],
   "source": [
    "y_pred = model_svc_bl.predict_proba(X_test_scaled)[:,[1]]  ## prob for class 1"
   ]
  },
  {
   "cell_type": "code",
   "execution_count": null,
   "metadata": {},
   "outputs": [],
   "source": [
    "# vary threshold & get metrics\n",
    "\n",
    "cut_off=np.arange(0,1,.01)\n",
    "\n",
    "metric = []\n",
    "#sensitivity=[]\n",
    "#specificity=[]\n",
    "for m in cut_off:\n",
    "    array=np.zeros(len(y_pred))\n",
    "    array_ind=[i for i in range(len(y_pred)) if y_pred[i]>=m]\n",
    "    array[array_ind]=1\n",
    "    p=precision_recall_fscore_support(y_test,array) \n",
    "    sensitivity = p[1][1]  # sensitivity.append(p[1][1])\n",
    "    specificity = p[1][0]  # specificity.append(p[1][0])\n",
    "    metric.append([m,sensitivity, specificity])\n",
    "#sensitivity=pd.DataFrame(np.array(sensitivity))\n",
    "#specificity=pd.DataFrame(np.array(specificity))\n",
    "metric = pd.DataFrame(metric,columns=['thres', 'sensitivity', 'specificity'])"
   ]
  },
  {
   "cell_type": "code",
   "execution_count": null,
   "metadata": {},
   "outputs": [],
   "source": [
    "metric['FPR'] = 1 - metric['specificity']\n",
    "\n",
    "optimal_idx = np.argmax(pd.np.array(metric['sensitivity']) - pd.np.array(metric['FPR']))\n",
    "optimal_threshold = cut_off[optimal_idx]\n",
    "print(optimal_threshold)\n",
    "\n",
    "y_pred_thres = np.where(y_pred > optimal_threshold, 1, 0)"
   ]
  },
  {
   "cell_type": "code",
   "execution_count": null,
   "metadata": {},
   "outputs": [],
   "source": [
    "cnf_matrix = confusion_matrix(y_test, y_pred_thres)\n",
    "np.set_printoptions(precision=2)\n",
    "\n",
    "# Plot normalized confusion matrix : normalisation shows nan for class'0' no signal has class=0 as true label\n",
    "plt.figure()\n",
    "plot_confusion_matrix(cnf_matrix, classes=class_names, normalize=True,\n",
    "                      title='Normalized confusion matrix')\n",
    "plt.show()"
   ]
  },
  {
   "cell_type": "code",
   "execution_count": null,
   "metadata": {},
   "outputs": [],
   "source": [
    "from sklearn.metrics import precision_recall_fscore_support\n",
    "precision_recall_fscore_support(y_test,y_pred_thres) \n",
    "\n",
    "# layout of results\n",
    "# precision: class 0, class 1   ==> [0: wake; 1: sleep/drowsy/fatigue]\n",
    "# recall: class 0, class 1\n",
    "# f1 score: class 0, class 1\n",
    "# support: class 0, class 1"
   ]
  },
  {
   "cell_type": "code",
   "execution_count": null,
   "metadata": {},
   "outputs": [],
   "source": [
    "#print(metric)\n",
    "metric.head(51)"
   ]
  },
  {
   "cell_type": "code",
   "execution_count": null,
   "metadata": {},
   "outputs": [],
   "source": [
    "metric.tail(50)"
   ]
  },
  {
   "cell_type": "code",
   "execution_count": null,
   "metadata": {},
   "outputs": [],
   "source": []
  },
  {
   "cell_type": "code",
   "execution_count": null,
   "metadata": {},
   "outputs": [],
   "source": []
  },
  {
   "cell_type": "code",
   "execution_count": null,
   "metadata": {},
   "outputs": [],
   "source": [
    "########################### END ######################"
   ]
  },
  {
   "cell_type": "code",
   "execution_count": null,
   "metadata": {},
   "outputs": [],
   "source": []
  },
  {
   "cell_type": "code",
   "execution_count": null,
   "metadata": {},
   "outputs": [],
   "source": []
  },
  {
   "cell_type": "code",
   "execution_count": null,
   "metadata": {},
   "outputs": [],
   "source": []
  },
  {
   "cell_type": "code",
   "execution_count": null,
   "metadata": {},
   "outputs": [],
   "source": [
    "## plotted 16 PCs, checked with top 6 PCs - sensitivity reduces even more\n",
    "\n",
    "from sklearn import decomposition\n",
    "pca = decomposition.PCA(n_components = 16)  # n_components = N; should be <= #features\n",
    "pca.fit(X_train1)\n",
    "X_train_pca = pca.transform(X_train1)\n",
    "print(pca.explained_variance_ratio_)"
   ]
  },
  {
   "cell_type": "code",
   "execution_count": null,
   "metadata": {},
   "outputs": [],
   "source": [
    "pca_var = pca.explained_variance_ratio_ \n",
    "indices = np.argsort(pca_var)[::-1]\n",
    "# Plot the PC variances\n",
    "plt.figure()\n",
    "plt.title(\"PCA variances\")\n",
    "plt.bar(range(X_train_pca.shape[1]), pca_var[indices],\n",
    "       color=\"r\", align=\"center\")\n",
    "plt.xticks(range(X_train_pca.shape[1]), indices)\n",
    "plt.xlim([-1, X_train_pca.shape[1]])\n",
    "plt.show()"
   ]
  },
  {
   "cell_type": "code",
   "execution_count": null,
   "metadata": {},
   "outputs": [],
   "source": [
    "pca = decomposition.PCA(n_components = 6)  # n_components = N; should be <= #features\n",
    "pca.fit(X_train1)\n",
    "X_train_pca = pca.transform(X_train1)\n",
    "\n",
    "X_test_pca = pca.transform(X_test)"
   ]
  },
  {
   "cell_type": "code",
   "execution_count": null,
   "metadata": {},
   "outputs": [],
   "source": [
    "model_svc_pca = SVC()\n",
    "model_svc_pca.fit(X_train_pca, y_train1)"
   ]
  },
  {
   "cell_type": "code",
   "execution_count": null,
   "metadata": {},
   "outputs": [],
   "source": [
    "# predict on test data - check metrics\n",
    "y_pred_pca = model_svc_pca.predict(X_test_pca)"
   ]
  },
  {
   "cell_type": "code",
   "execution_count": null,
   "metadata": {},
   "outputs": [],
   "source": [
    "####    Compute confusion matrix     ####\n",
    "\n",
    "class_names = ['0','1'] #['wake','sleep_stage_1','sleep_stage_2']  # wake, SS1, SS2  ; # '0','1','2'\n",
    "\n",
    "cnf_matrix = confusion_matrix(y_test, y_pred_pca)\n",
    "np.set_printoptions(precision=2)\n",
    "\n",
    "# Plot non-normalized confusion matrix\n",
    "plt.figure()\n",
    "plot_confusion_matrix(cnf_matrix, classes=class_names,\n",
    "                      title='Confusion matrix, without normalization')\n",
    "\n",
    "# Plot normalized confusion matrix : normalisation shows nan for class'0' no signal has class=0 as true label\n",
    "plt.figure()\n",
    "plot_confusion_matrix(cnf_matrix, classes=class_names, normalize=True,\n",
    "                      title='Normalized confusion matrix')\n",
    "plt.show()"
   ]
  },
  {
   "cell_type": "code",
   "execution_count": null,
   "metadata": {},
   "outputs": [],
   "source": []
  },
  {
   "cell_type": "code",
   "execution_count": null,
   "metadata": {},
   "outputs": [],
   "source": []
  },
  {
   "cell_type": "code",
   "execution_count": null,
   "metadata": {},
   "outputs": [],
   "source": [
    "############## not checked beyond this #############"
   ]
  },
  {
   "cell_type": "code",
   "execution_count": null,
   "metadata": {},
   "outputs": [],
   "source": [
    "#### model parameters changed ####"
   ]
  },
  {
   "cell_type": "code",
   "execution_count": null,
   "metadata": {},
   "outputs": [],
   "source": [
    "model_svc2 = SVC(C=5, gamma=1)\n",
    "model_svc2.fit(X_train_scaled, y_train1)"
   ]
  },
  {
   "cell_type": "code",
   "execution_count": null,
   "metadata": {},
   "outputs": [],
   "source": [
    "# predict on test data - check metrics\n",
    "y_pred2 = model_svc2.predict(X_test_scaled)"
   ]
  },
  {
   "cell_type": "code",
   "execution_count": null,
   "metadata": {},
   "outputs": [],
   "source": [
    "cnf_matrix = confusion_matrix(y_test, y_pred2)\n",
    "np.set_printoptions(precision=2)\n",
    "\n",
    "# Plot non-normalized confusion matrix\n",
    "plt.figure()\n",
    "plot_confusion_matrix(cnf_matrix, classes=class_names,\n",
    "                      title='Confusion matrix, without normalization')\n",
    "\n",
    "# Plot normalized confusion matrix : normalisation shows nan for class'0' no signal has class=0 as true label\n",
    "plt.figure()\n",
    "plot_confusion_matrix(cnf_matrix, classes=class_names, normalize=True,\n",
    "                      title='Normalized confusion matrix')\n",
    "plt.show()"
   ]
  },
  {
   "cell_type": "code",
   "execution_count": null,
   "metadata": {},
   "outputs": [],
   "source": []
  }
 ],
 "metadata": {
  "kernelspec": {
   "display_name": "Python 3",
   "language": "python",
   "name": "python3"
  },
  "language_info": {
   "codemirror_mode": {
    "name": "ipython",
    "version": 3
   },
   "file_extension": ".py",
   "mimetype": "text/x-python",
   "name": "python",
   "nbconvert_exporter": "python",
   "pygments_lexer": "ipython3",
   "version": "3.6.5"
  }
 },
 "nbformat": 4,
 "nbformat_minor": 2
}
