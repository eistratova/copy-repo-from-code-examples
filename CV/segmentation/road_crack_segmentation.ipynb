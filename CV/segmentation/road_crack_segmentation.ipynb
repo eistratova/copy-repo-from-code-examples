{
 "cells": [
  {
   "cell_type": "markdown",
   "metadata": {},
   "source": [
    "## Image segmentation - road cracks\n",
    "\n",
    "####  There are a total of 151 images, & their labels - I want to split it into train(130) & val (rest)\n",
    "\n",
    "###   Also, I found the images have different sizes, and width is not always greater than height\n",
    "####  Right now, i have put the first 118 images of same size as train, & rest in test\n",
    "\n",
    "####  the masks are all in grey-scale. The images are a mix of RGB & grayscale\n",
    "####  masks & images are of same dimension\n",
    "\n",
    "\n",
    "####  need a code to  \n",
    "####           all images in same format\n",
    "####            i) have width> height (would this change the viewpoint?)\n",
    "####           ii) convert all to same size\n",
    "####           pre-processing the masks  (multiple codes; 0-255 coding; RLE in csv files as in Severstal data)\n"
   ]
  },
  {
   "cell_type": "code",
   "execution_count": null,
   "metadata": {},
   "outputs": [],
   "source": [
    "# https://github.com/hiromis/notes/blob/master/Lesson3.md\n",
    "# https://nbviewer.jupyter.org/github/fastai/course-v3/blob/master/nbs/dl1/lesson3-camvid.ipynb\n",
    "# https://medium.com/@hiromi_suenaga/deep-learning-2-part-2-lesson-8-5ae195c49493\n",
    "\n",
    "# https://forums.fast.ai/t/lesson-3-official-resources-and-updates/29732\n",
    "# https://github.com/fastai/course-v3/blob/master/nbs/dl1/lesson3-camvid.ipynb\n",
    "# https://github.com/fastai/fastai/blob/master/docs_src/data_block.ipynb    -> check here for all options"
   ]
  },
  {
   "cell_type": "code",
   "execution_count": null,
   "metadata": {},
   "outputs": [],
   "source": [
    "#######################     check image & mask sizes  ##############################"
   ]
  },
  {
   "cell_type": "code",
   "execution_count": 1,
   "metadata": {},
   "outputs": [],
   "source": [
    "import pathlib\n",
    "from PIL import Image\n",
    "import pandas as pd\n",
    "\n",
    "pd.set_option('display.max_rows', 200)\n",
    "pd.set_option('display.max_columns', 10)\n"
   ]
  },
  {
   "cell_type": "code",
   "execution_count": 2,
   "metadata": {},
   "outputs": [],
   "source": [
    "def get_image_spec(im_paths):\n",
    "    path_sorted = sorted([x for x in im_paths])\n",
    "    all_mode = []\n",
    "    \n",
    "    for idx in range(len(path_sorted)):\n",
    "        im_path = path_sorted[idx]\n",
    "        img = Image.open(im_path)\n",
    "        width, height = img.size\n",
    "        m = img.mode\n",
    "        #all_size[str(width) + '_' + str(height)] = ''  # saving height width as keys of dict\n",
    "        all_mode.append([im_path,m, width, height])\n",
    "        \n",
    "    all_mode = pd.DataFrame(all_mode, columns=['path','mode', 'width','height'])\n",
    "    return all_mode"
   ]
  },
  {
   "cell_type": "code",
   "execution_count": null,
   "metadata": {},
   "outputs": [],
   "source": [
    "# check image size\n",
    "\n",
    "im_paths = pathlib.Path('./Imgs/').glob('*.jpg')\n",
    "image_data = get_image_spec(im_paths)\n",
    "print(image_data)\n",
    "\n",
    "\n",
    "\n",
    "'''\n",
    "            path mode  width  height\n",
    "0    Imgs\\001.jpg  RGB    480     320\n",
    "1    Imgs\\002.jpg  RGB    480     320\n",
    "2    Imgs\\003.jpg  RGB    480     320\n",
    "'''"
   ]
  },
  {
   "cell_type": "code",
   "execution_count": null,
   "metadata": {},
   "outputs": [],
   "source": [
    "# check mask sizes\n",
    "\n",
    "im_paths = pathlib.Path('./Imgs/').glob('*.png')\n",
    "mask_data = get_image_spec(im_paths)\n",
    "print(mask_data)\n",
    "\n",
    "'''\n",
    " path mode  width  height\n",
    "0    Imgs\\001.png    L    480     320\n",
    "1    Imgs\\002.png    L    480     320\n",
    "2    Imgs\\003.png    L    480     320\n",
    "'''"
   ]
  },
  {
   "cell_type": "code",
   "execution_count": 11,
   "metadata": {},
   "outputs": [
    {
     "name": "stderr",
     "output_type": "stream",
     "text": [
      "C:\\Users\\DAR9KOR\\AppData\\Local\\Continuum\\anaconda3\\envs\\fastai_py37\\lib\\site-packages\\ipykernel_launcher.py:4: SettingWithCopyWarning: \n",
      "A value is trying to be set on a copy of a slice from a DataFrame.\n",
      "Try using .loc[row_indexer,col_indexer] = value instead\n",
      "\n",
      "See the caveats in the documentation: http://pandas.pydata.org/pandas-docs/stable/user_guide/indexing.html#returning-a-view-versus-a-copy\n",
      "  after removing the cwd from sys.path.\n"
     ]
    },
    {
     "data": {
      "text/html": [
       "<div>\n",
       "<style scoped>\n",
       "    .dataframe tbody tr th:only-of-type {\n",
       "        vertical-align: middle;\n",
       "    }\n",
       "\n",
       "    .dataframe tbody tr th {\n",
       "        vertical-align: top;\n",
       "    }\n",
       "\n",
       "    .dataframe thead th {\n",
       "        text-align: right;\n",
       "    }\n",
       "</style>\n",
       "<table border=\"1\" class=\"dataframe\">\n",
       "  <thead>\n",
       "    <tr style=\"text-align: right;\">\n",
       "      <th></th>\n",
       "      <th>path</th>\n",
       "      <th>mode</th>\n",
       "      <th>width</th>\n",
       "      <th>height</th>\n",
       "      <th>ratio</th>\n",
       "    </tr>\n",
       "  </thead>\n",
       "  <tbody>\n",
       "    <tr>\n",
       "      <th>0</th>\n",
       "      <td>Imgs\\001.png</td>\n",
       "      <td>L</td>\n",
       "      <td>480</td>\n",
       "      <td>320</td>\n",
       "      <td>1.500000</td>\n",
       "    </tr>\n",
       "    <tr>\n",
       "      <th>118</th>\n",
       "      <td>Imgs\\119.png</td>\n",
       "      <td>L</td>\n",
       "      <td>1466</td>\n",
       "      <td>1315</td>\n",
       "      <td>1.114829</td>\n",
       "    </tr>\n",
       "    <tr>\n",
       "      <th>119</th>\n",
       "      <td>Imgs\\120.png</td>\n",
       "      <td>L</td>\n",
       "      <td>1596</td>\n",
       "      <td>926</td>\n",
       "      <td>1.723542</td>\n",
       "    </tr>\n",
       "    <tr>\n",
       "      <th>120</th>\n",
       "      <td>Imgs\\121.png</td>\n",
       "      <td>L</td>\n",
       "      <td>1451</td>\n",
       "      <td>982</td>\n",
       "      <td>1.477597</td>\n",
       "    </tr>\n",
       "    <tr>\n",
       "      <th>121</th>\n",
       "      <td>Imgs\\122.png</td>\n",
       "      <td>L</td>\n",
       "      <td>1179</td>\n",
       "      <td>738</td>\n",
       "      <td>1.597561</td>\n",
       "    </tr>\n",
       "    <tr>\n",
       "      <th>122</th>\n",
       "      <td>Imgs\\123.png</td>\n",
       "      <td>L</td>\n",
       "      <td>882</td>\n",
       "      <td>946</td>\n",
       "      <td>0.932347</td>\n",
       "    </tr>\n",
       "    <tr>\n",
       "      <th>123</th>\n",
       "      <td>Imgs\\124.png</td>\n",
       "      <td>L</td>\n",
       "      <td>1002</td>\n",
       "      <td>678</td>\n",
       "      <td>1.477876</td>\n",
       "    </tr>\n",
       "    <tr>\n",
       "      <th>124</th>\n",
       "      <td>Imgs\\125.png</td>\n",
       "      <td>L</td>\n",
       "      <td>990</td>\n",
       "      <td>1108</td>\n",
       "      <td>0.893502</td>\n",
       "    </tr>\n",
       "    <tr>\n",
       "      <th>125</th>\n",
       "      <td>Imgs\\126.png</td>\n",
       "      <td>L</td>\n",
       "      <td>1204</td>\n",
       "      <td>800</td>\n",
       "      <td>1.505000</td>\n",
       "    </tr>\n",
       "    <tr>\n",
       "      <th>126</th>\n",
       "      <td>Imgs\\127.png</td>\n",
       "      <td>L</td>\n",
       "      <td>696</td>\n",
       "      <td>866</td>\n",
       "      <td>0.803695</td>\n",
       "    </tr>\n",
       "    <tr>\n",
       "      <th>128</th>\n",
       "      <td>Imgs\\129.png</td>\n",
       "      <td>L</td>\n",
       "      <td>1037</td>\n",
       "      <td>692</td>\n",
       "      <td>1.498555</td>\n",
       "    </tr>\n",
       "    <tr>\n",
       "      <th>129</th>\n",
       "      <td>Imgs\\130.png</td>\n",
       "      <td>L</td>\n",
       "      <td>1021</td>\n",
       "      <td>796</td>\n",
       "      <td>1.282663</td>\n",
       "    </tr>\n",
       "    <tr>\n",
       "      <th>135</th>\n",
       "      <td>Imgs\\136.png</td>\n",
       "      <td>L</td>\n",
       "      <td>1024</td>\n",
       "      <td>683</td>\n",
       "      <td>1.499268</td>\n",
       "    </tr>\n",
       "    <tr>\n",
       "      <th>137</th>\n",
       "      <td>Imgs\\138.png</td>\n",
       "      <td>L</td>\n",
       "      <td>1012</td>\n",
       "      <td>743</td>\n",
       "      <td>1.362046</td>\n",
       "    </tr>\n",
       "    <tr>\n",
       "      <th>138</th>\n",
       "      <td>Imgs\\139.png</td>\n",
       "      <td>L</td>\n",
       "      <td>998</td>\n",
       "      <td>932</td>\n",
       "      <td>1.070815</td>\n",
       "    </tr>\n",
       "    <tr>\n",
       "      <th>139</th>\n",
       "      <td>Imgs\\140.png</td>\n",
       "      <td>L</td>\n",
       "      <td>928</td>\n",
       "      <td>961</td>\n",
       "      <td>0.965661</td>\n",
       "    </tr>\n",
       "    <tr>\n",
       "      <th>140</th>\n",
       "      <td>Imgs\\141.png</td>\n",
       "      <td>L</td>\n",
       "      <td>864</td>\n",
       "      <td>576</td>\n",
       "      <td>1.500000</td>\n",
       "    </tr>\n",
       "    <tr>\n",
       "      <th>141</th>\n",
       "      <td>Imgs\\142.png</td>\n",
       "      <td>L</td>\n",
       "      <td>916</td>\n",
       "      <td>842</td>\n",
       "      <td>1.087886</td>\n",
       "    </tr>\n",
       "    <tr>\n",
       "      <th>142</th>\n",
       "      <td>Imgs\\143.png</td>\n",
       "      <td>L</td>\n",
       "      <td>930</td>\n",
       "      <td>756</td>\n",
       "      <td>1.230159</td>\n",
       "    </tr>\n",
       "    <tr>\n",
       "      <th>143</th>\n",
       "      <td>Imgs\\144.png</td>\n",
       "      <td>L</td>\n",
       "      <td>671</td>\n",
       "      <td>864</td>\n",
       "      <td>0.776620</td>\n",
       "    </tr>\n",
       "    <tr>\n",
       "      <th>144</th>\n",
       "      <td>Imgs\\145.png</td>\n",
       "      <td>L</td>\n",
       "      <td>928</td>\n",
       "      <td>800</td>\n",
       "      <td>1.160000</td>\n",
       "    </tr>\n",
       "    <tr>\n",
       "      <th>145</th>\n",
       "      <td>Imgs\\146.png</td>\n",
       "      <td>L</td>\n",
       "      <td>629</td>\n",
       "      <td>864</td>\n",
       "      <td>0.728009</td>\n",
       "    </tr>\n",
       "    <tr>\n",
       "      <th>146</th>\n",
       "      <td>Imgs\\147.png</td>\n",
       "      <td>L</td>\n",
       "      <td>1347</td>\n",
       "      <td>388</td>\n",
       "      <td>3.471649</td>\n",
       "    </tr>\n",
       "    <tr>\n",
       "      <th>147</th>\n",
       "      <td>Imgs\\148.png</td>\n",
       "      <td>L</td>\n",
       "      <td>934</td>\n",
       "      <td>529</td>\n",
       "      <td>1.765595</td>\n",
       "    </tr>\n",
       "    <tr>\n",
       "      <th>148</th>\n",
       "      <td>Imgs\\149.png</td>\n",
       "      <td>L</td>\n",
       "      <td>713</td>\n",
       "      <td>720</td>\n",
       "      <td>0.990278</td>\n",
       "    </tr>\n",
       "    <tr>\n",
       "      <th>149</th>\n",
       "      <td>Imgs\\150.png</td>\n",
       "      <td>L</td>\n",
       "      <td>524</td>\n",
       "      <td>619</td>\n",
       "      <td>0.846527</td>\n",
       "    </tr>\n",
       "    <tr>\n",
       "      <th>150</th>\n",
       "      <td>Imgs\\151.png</td>\n",
       "      <td>L</td>\n",
       "      <td>160</td>\n",
       "      <td>90</td>\n",
       "      <td>1.777778</td>\n",
       "    </tr>\n",
       "  </tbody>\n",
       "</table>\n",
       "</div>"
      ],
      "text/plain": [
       "             path mode  width  height     ratio\n",
       "0    Imgs\\001.png    L    480     320  1.500000\n",
       "118  Imgs\\119.png    L   1466    1315  1.114829\n",
       "119  Imgs\\120.png    L   1596     926  1.723542\n",
       "120  Imgs\\121.png    L   1451     982  1.477597\n",
       "121  Imgs\\122.png    L   1179     738  1.597561\n",
       "122  Imgs\\123.png    L    882     946  0.932347\n",
       "123  Imgs\\124.png    L   1002     678  1.477876\n",
       "124  Imgs\\125.png    L    990    1108  0.893502\n",
       "125  Imgs\\126.png    L   1204     800  1.505000\n",
       "126  Imgs\\127.png    L    696     866  0.803695\n",
       "128  Imgs\\129.png    L   1037     692  1.498555\n",
       "129  Imgs\\130.png    L   1021     796  1.282663\n",
       "135  Imgs\\136.png    L   1024     683  1.499268\n",
       "137  Imgs\\138.png    L   1012     743  1.362046\n",
       "138  Imgs\\139.png    L    998     932  1.070815\n",
       "139  Imgs\\140.png    L    928     961  0.965661\n",
       "140  Imgs\\141.png    L    864     576  1.500000\n",
       "141  Imgs\\142.png    L    916     842  1.087886\n",
       "142  Imgs\\143.png    L    930     756  1.230159\n",
       "143  Imgs\\144.png    L    671     864  0.776620\n",
       "144  Imgs\\145.png    L    928     800  1.160000\n",
       "145  Imgs\\146.png    L    629     864  0.728009\n",
       "146  Imgs\\147.png    L   1347     388  3.471649\n",
       "147  Imgs\\148.png    L    934     529  1.765595\n",
       "148  Imgs\\149.png    L    713     720  0.990278\n",
       "149  Imgs\\150.png    L    524     619  0.846527\n",
       "150  Imgs\\151.png    L    160      90  1.777778"
      ]
     },
     "execution_count": 11,
     "metadata": {},
     "output_type": "execute_result"
    }
   ],
   "source": [
    "# create a df with unique width & height, & find ratios\n",
    "\n",
    "df = mask_data.drop_duplicates(['width','height'])\n",
    "df['ratio'] = df.width/df.height\n",
    "df"
   ]
  },
  {
   "cell_type": "code",
   "execution_count": null,
   "metadata": {},
   "outputs": [],
   "source": []
  },
  {
   "cell_type": "code",
   "execution_count": null,
   "metadata": {},
   "outputs": [],
   "source": []
  },
  {
   "cell_type": "code",
   "execution_count": null,
   "metadata": {},
   "outputs": [],
   "source": []
  },
  {
   "cell_type": "code",
   "execution_count": null,
   "metadata": {},
   "outputs": [],
   "source": [
    "################################  keep images in appropriate directory structure    #########################################"
   ]
  },
  {
   "cell_type": "code",
   "execution_count": 1,
   "metadata": {},
   "outputs": [],
   "source": [
    "#    images\n",
    "#    labels\n",
    "\n",
    "import shutil\n",
    "import os\n",
    "\n",
    "# create lists of image names & mask names\n",
    "filenames=os.listdir(\"./train_model/train\")\n",
    "\n",
    "# create 2 separate lists, one with image, one with mask\n",
    "file_img = [i for i in filenames if '.jpg' in i]\n",
    "file_msk = [i for i in filenames if '.png' in i]\n",
    "\n",
    "\n",
    "path = \"./train_model/train/\"\n",
    "path_img = \"./train_model/train/images/\"\n",
    "path_lbl = \"./train_model/train/labels/\""
   ]
  },
  {
   "cell_type": "code",
   "execution_count": 8,
   "metadata": {},
   "outputs": [
    {
     "data": {
      "text/plain": [
       "['001.jpg',\n",
       " '001.png',\n",
       " '002.jpg',\n",
       " '002.png',\n",
       " '003.jpg',\n",
       " '003.png',\n",
       " '004.jpg',\n",
       " '004.png',\n",
       " '005.jpg',\n",
       " '005.png',\n",
       " '006.jpg',\n",
       " '006.png',\n",
       " '007.jpg',\n",
       " '007.png',\n",
       " '008.jpg',\n",
       " '008.png',\n",
       " '009.jpg',\n",
       " '009.png',\n",
       " '010.jpg',\n",
       " '010.png',\n",
       " '011.jpg',\n",
       " '011.png',\n",
       " '012.jpg',\n",
       " '012.png',\n",
       " '013.jpg',\n",
       " '013.png',\n",
       " '014.jpg',\n",
       " '014.png',\n",
       " '015.jpg',\n",
       " '015.png',\n",
       " '016.jpg',\n",
       " '016.png',\n",
       " '017.jpg',\n",
       " '017.png',\n",
       " '018.jpg',\n",
       " '018.png',\n",
       " '019.jpg',\n",
       " '019.png',\n",
       " '020.jpg',\n",
       " '020.png',\n",
       " '021.jpg',\n",
       " '021.png',\n",
       " '022.jpg',\n",
       " '022.png',\n",
       " '023.jpg',\n",
       " '023.png',\n",
       " '024.jpg',\n",
       " '024.png',\n",
       " '025.jpg',\n",
       " '025.png',\n",
       " '026.jpg',\n",
       " '026.png',\n",
       " '027.jpg',\n",
       " '027.png',\n",
       " '028.jpg',\n",
       " '028.png',\n",
       " '029.jpg',\n",
       " '029.png',\n",
       " '030.jpg',\n",
       " '030.png',\n",
       " '031.jpg',\n",
       " '031.png',\n",
       " '032.jpg',\n",
       " '032.png',\n",
       " '033.jpg',\n",
       " '033.png',\n",
       " '034.jpg',\n",
       " '034.png',\n",
       " '035.jpg',\n",
       " '035.png',\n",
       " '036.jpg',\n",
       " '036.png',\n",
       " '037.jpg',\n",
       " '037.png',\n",
       " '038.jpg',\n",
       " '038.png',\n",
       " '039.jpg',\n",
       " '039.png',\n",
       " '040.jpg',\n",
       " '040.png',\n",
       " '041.jpg',\n",
       " '041.png',\n",
       " '042.jpg',\n",
       " '042.png',\n",
       " '043.jpg',\n",
       " '043.png',\n",
       " '044.jpg',\n",
       " '044.png',\n",
       " '045.jpg',\n",
       " '045.png',\n",
       " '046.jpg',\n",
       " '046.png',\n",
       " '047.jpg',\n",
       " '047.png',\n",
       " '048.jpg',\n",
       " '048.png',\n",
       " '049.jpg',\n",
       " '049.png',\n",
       " '050.jpg',\n",
       " '050.png',\n",
       " '051.jpg',\n",
       " '051.png',\n",
       " '052.jpg',\n",
       " '052.png',\n",
       " '053.jpg',\n",
       " '053.png',\n",
       " '054.jpg',\n",
       " '054.png',\n",
       " '055.jpg',\n",
       " '055.png',\n",
       " '056.jpg',\n",
       " '056.png',\n",
       " '057.jpg',\n",
       " '057.png',\n",
       " '058.jpg',\n",
       " '058.png',\n",
       " '059.jpg',\n",
       " '059.png',\n",
       " '060.jpg',\n",
       " '060.png',\n",
       " '061.jpg',\n",
       " '061.png',\n",
       " '062.jpg',\n",
       " '062.png',\n",
       " '063.jpg',\n",
       " '063.png',\n",
       " '064.jpg',\n",
       " '064.png',\n",
       " '065.jpg',\n",
       " '065.png',\n",
       " '066.jpg',\n",
       " '066.png',\n",
       " '067.jpg',\n",
       " '067.png',\n",
       " '068.jpg',\n",
       " '068.png',\n",
       " '069.jpg',\n",
       " '069.png',\n",
       " '070.jpg',\n",
       " '070.png',\n",
       " '071.jpg',\n",
       " '071.png',\n",
       " '072.jpg',\n",
       " '072.png',\n",
       " '073.jpg',\n",
       " '073.png',\n",
       " '074.jpg',\n",
       " '074.png',\n",
       " '075.jpg',\n",
       " '075.png',\n",
       " '076.jpg',\n",
       " '076.png',\n",
       " '077.jpg',\n",
       " '077.png',\n",
       " '078.jpg',\n",
       " '078.png',\n",
       " '079.jpg',\n",
       " '079.png',\n",
       " '080.jpg',\n",
       " '080.png',\n",
       " '081.jpg',\n",
       " '081.png',\n",
       " '082.jpg',\n",
       " '082.png',\n",
       " '083.jpg',\n",
       " '083.png',\n",
       " '084.jpg',\n",
       " '084.png',\n",
       " '085.jpg',\n",
       " '085.png',\n",
       " '086.jpg',\n",
       " '086.png',\n",
       " '087.jpg',\n",
       " '087.png',\n",
       " '088.jpg',\n",
       " '088.png',\n",
       " '089.jpg',\n",
       " '089.png',\n",
       " '090.jpg',\n",
       " '090.png',\n",
       " '091.jpg',\n",
       " '091.png',\n",
       " '092.jpg',\n",
       " '092.png',\n",
       " '093.jpg',\n",
       " '093.png',\n",
       " '094.jpg',\n",
       " '094.png',\n",
       " '095.jpg',\n",
       " '095.png',\n",
       " '096.jpg',\n",
       " '096.png',\n",
       " '097.jpg',\n",
       " '097.png',\n",
       " '098.jpg',\n",
       " '098.png',\n",
       " '099.jpg',\n",
       " '099.png',\n",
       " '100.jpg',\n",
       " '100.png',\n",
       " '101.jpg',\n",
       " '101.png',\n",
       " '102.jpg',\n",
       " '102.png',\n",
       " '103.jpg',\n",
       " '103.png',\n",
       " '104.jpg',\n",
       " '104.png',\n",
       " '105.jpg',\n",
       " '105.png',\n",
       " '106.jpg',\n",
       " '106.png',\n",
       " '107.jpg',\n",
       " '107.png',\n",
       " '108.jpg',\n",
       " '108.png',\n",
       " '109.jpg',\n",
       " '109.png',\n",
       " '110.jpg',\n",
       " '110.png',\n",
       " '111.jpg',\n",
       " '111.png',\n",
       " '112.jpg',\n",
       " '112.png',\n",
       " '113.jpg',\n",
       " '113.png',\n",
       " '114.jpg',\n",
       " '114.png',\n",
       " '115.jpg',\n",
       " '115.png',\n",
       " '116.jpg',\n",
       " '116.png',\n",
       " '117.jpg',\n",
       " '117.png',\n",
       " '118.jpg',\n",
       " '118.png',\n",
       " 'images',\n",
       " 'labels']"
      ]
     },
     "execution_count": 8,
     "metadata": {},
     "output_type": "execute_result"
    }
   ],
   "source": [
    "filenames"
   ]
  },
  {
   "cell_type": "code",
   "execution_count": 2,
   "metadata": {},
   "outputs": [],
   "source": [
    "'''def copy_file(start_path,end_path,filelist):\n",
    "    for i in range(0, len(filelist)):\n",
    "        f = start_path+filelist[i]\n",
    "        shutil.copy2(f, end_path)\n",
    "'''    "
   ]
  },
  {
   "cell_type": "code",
   "execution_count": 4,
   "metadata": {},
   "outputs": [],
   "source": [
    "# copy files into respective folders - this keeps 2 copies\n",
    "\n",
    "'''# images\n",
    "copy_file(path,path_img,file_img)\n",
    "\n",
    "# masks\n",
    "copy_file(path,path_lbl,file_msk)'''"
   ]
  },
  {
   "cell_type": "code",
   "execution_count": 9,
   "metadata": {},
   "outputs": [],
   "source": [
    "# move files; this won't create additional copies\n",
    "\n",
    "for files in filenames:\n",
    "    if files.endswith(\".jpg\"):\n",
    "        shutil.move(path+files,path_img)\n",
    "        \n",
    "for files in filenames:\n",
    "    if files.endswith(\".png\"):\n",
    "        shutil.move(path+files,path_lbl)"
   ]
  },
  {
   "cell_type": "code",
   "execution_count": null,
   "metadata": {},
   "outputs": [],
   "source": []
  },
  {
   "cell_type": "code",
   "execution_count": null,
   "metadata": {},
   "outputs": [],
   "source": []
  },
  {
   "cell_type": "code",
   "execution_count": null,
   "metadata": {},
   "outputs": [],
   "source": []
  },
  {
   "cell_type": "code",
   "execution_count": null,
   "metadata": {},
   "outputs": [],
   "source": [
    "###########################################################################################################3"
   ]
  },
  {
   "cell_type": "code",
   "execution_count": 1,
   "metadata": {},
   "outputs": [],
   "source": [
    "# auto-updating\n",
    "%reload_ext autoreload\n",
    "%autoreload 2\n",
    "%matplotlib inline"
   ]
  },
  {
   "cell_type": "code",
   "execution_count": 2,
   "metadata": {},
   "outputs": [],
   "source": [
    "# library imports\n",
    "#import shutil\n",
    "import os\n",
    "import gc  # garbage collector"
   ]
  },
  {
   "cell_type": "code",
   "execution_count": 3,
   "metadata": {},
   "outputs": [
    {
     "data": {
      "text/plain": [
       "'C:\\\\Users\\\\DAR9KOR\\\\Desktop\\\\data\\\\sample_datasets\\\\defect_detection\\\\1_data\\\\RoadCracks'"
      ]
     },
     "execution_count": 3,
     "metadata": {},
     "output_type": "execute_result"
    }
   ],
   "source": [
    "os.chdir(\"C:/Users/DAR9KOR/Desktop/data/sample_datasets/defect_detection/1_data/RoadCracks/\")\n",
    "os.getcwd()"
   ]
  },
  {
   "cell_type": "code",
   "execution_count": 4,
   "metadata": {},
   "outputs": [],
   "source": [
    "from IPython.core.interactiveshell import InteractiveShell\n",
    "InteractiveShell.ast_node_interactivity = \"all\"\n",
    "\n",
    "import numpy as np\n",
    "import pandas as pd\n",
    "\n",
    "import torch\n",
    "import fastai\n",
    "import time\n",
    "\n",
    "from fastai.vision import *\n",
    "from fastai.callbacks.hooks import *\n",
    "from fastai.utils.mem import *\n",
    "\n",
    "import matplotlib.pyplot as plt"
   ]
  },
  {
   "cell_type": "code",
   "execution_count": 5,
   "metadata": {},
   "outputs": [],
   "source": [
    "# set directory\n",
    "\n",
    "path_lbl = \"./train_model_images/train/labels/\"  #path/'labels'\n",
    "path_img = \"./train_model_images/train/images/\"  #path/'images'"
   ]
  },
  {
   "cell_type": "code",
   "execution_count": null,
   "metadata": {},
   "outputs": [],
   "source": []
  },
  {
   "cell_type": "code",
   "execution_count": null,
   "metadata": {},
   "outputs": [],
   "source": [
    "####################################   UNDERSTANDING DATA   ###########################################"
   ]
  },
  {
   "cell_type": "code",
   "execution_count": 6,
   "metadata": {},
   "outputs": [
    {
     "data": {
      "text/plain": [
       "[WindowsPath('train_model_images/train/images/001.jpg'),\n",
       " WindowsPath('train_model_images/train/images/002.jpg'),\n",
       " WindowsPath('train_model_images/train/images/003.jpg')]"
      ]
     },
     "execution_count": 6,
     "metadata": {},
     "output_type": "execute_result"
    },
    {
     "data": {
      "text/plain": [
       "[WindowsPath('train_model_images/train/labels/001.png'),\n",
       " WindowsPath('train_model_images/train/labels/002.png'),\n",
       " WindowsPath('train_model_images/train/labels/003.png')]"
      ]
     },
     "execution_count": 6,
     "metadata": {},
     "output_type": "execute_result"
    }
   ],
   "source": [
    "## load & seeing sample images\n",
    "\n",
    "fnames = get_image_files(path_img)\n",
    "fnames[:3]\n",
    "\n",
    "lbl_names = get_image_files(path_lbl)\n",
    "lbl_names[:3]"
   ]
  },
  {
   "cell_type": "code",
   "execution_count": 7,
   "metadata": {},
   "outputs": [],
   "source": [
    "# getting mask filename corrs. to an image file\n",
    "\n",
    "# get_y_fn = lambda x: path_lbl/f'{x.stem}_P{x.suffix}'\n",
    "# https://forums.fast.ai/t/question-on-get-y-fn/48638\n",
    "# https://docs.python.org/3/library/pathlib.html?highlight=stem#pathlib.PurePath.stem\n",
    "\n",
    "def get_y_fn(img_f):\n",
    "    #name = img_f.split(\"/\")[-1].split(\".jpg\")[0]\n",
    "    name = img_f.stem\n",
    "    name = path_lbl+name+\".png\"\n",
    "    return name"
   ]
  },
  {
   "cell_type": "code",
   "execution_count": 9,
   "metadata": {},
   "outputs": [
    {
     "data": {
      "image/png": "[encoded data removed]",
      "text/plain": [
       "<Figure size 360x360 with 1 Axes>"
      ]
     },
     "metadata": {
      "needs_background": "light"
     },
     "output_type": "display_data"
    }
   ],
   "source": [
    "img_f = fnames[0]\n",
    "img = open_image(img_f)\n",
    "img.show(figsize=(5,5))"
   ]
  },
  {
   "cell_type": "code",
   "execution_count": 18,
   "metadata": {},
   "outputs": [
    {
     "data": {
      "text/plain": [
       "(tensor([[[0.4745, 0.4196, 0.3765,  ..., 0.4902, 0.4941, 0.4824],\n",
       "          [0.4275, 0.4039, 0.3961,  ..., 0.4627, 0.4784, 0.4980],\n",
       "          [0.4314, 0.4275, 0.4353,  ..., 0.4902, 0.4980, 0.5294],\n",
       "          ...,\n",
       "          [0.3412, 0.3725, 0.4078,  ..., 0.4471, 0.4745, 0.4824],\n",
       "          [0.4039, 0.4314, 0.4510,  ..., 0.4745, 0.4745, 0.4431],\n",
       "          [0.4039, 0.4196, 0.4157,  ..., 0.5176, 0.4941, 0.4392]],\n",
       " \n",
       "         [[0.4941, 0.4392, 0.3961,  ..., 0.5059, 0.5098, 0.4980],\n",
       "          [0.4471, 0.4235, 0.4157,  ..., 0.4784, 0.4941, 0.5137],\n",
       "          [0.4510, 0.4471, 0.4549,  ..., 0.5059, 0.5137, 0.5451],\n",
       "          ...,\n",
       "          [0.3490, 0.3804, 0.4157,  ..., 0.4627, 0.4902, 0.4980],\n",
       "          [0.4118, 0.4392, 0.4588,  ..., 0.4902, 0.4902, 0.4588],\n",
       "          [0.4118, 0.4275, 0.4235,  ..., 0.5333, 0.5098, 0.4549]],\n",
       " \n",
       "         [[0.4784, 0.4235, 0.3804,  ..., 0.5098, 0.5137, 0.5020],\n",
       "          [0.4314, 0.4078, 0.4000,  ..., 0.4824, 0.4980, 0.5176],\n",
       "          [0.4353, 0.4314, 0.4392,  ..., 0.5098, 0.5176, 0.5490],\n",
       "          ...,\n",
       "          [0.3451, 0.3765, 0.4118,  ..., 0.4667, 0.4941, 0.5020],\n",
       "          [0.4078, 0.4353, 0.4549,  ..., 0.4941, 0.4941, 0.4627],\n",
       "          [0.4078, 0.4235, 0.4196,  ..., 0.5373, 0.5137, 0.4588]]]),\n",
       " torch.Size([3, 320, 480]),\n",
       " torch.Size([320, 480]))"
      ]
     },
     "execution_count": 18,
     "metadata": {},
     "output_type": "execute_result"
    }
   ],
   "source": [
    "'''img.data, img.shape, img.size"
   ]
  },
  {
   "cell_type": "code",
   "execution_count": 19,
   "metadata": {},
   "outputs": [
    {
     "data": {
      "text/plain": [
       "tensor([[0.4745, 0.4196, 0.3765,  ..., 0.4902, 0.4941, 0.4824],\n",
       "        [0.4275, 0.4039, 0.3961,  ..., 0.4627, 0.4784, 0.4980],\n",
       "        [0.4314, 0.4275, 0.4353,  ..., 0.4902, 0.4980, 0.5294],\n",
       "        ...,\n",
       "        [0.3412, 0.3725, 0.4078,  ..., 0.4471, 0.4745, 0.4824],\n",
       "        [0.4039, 0.4314, 0.4510,  ..., 0.4745, 0.4745, 0.4431],\n",
       "        [0.4039, 0.4196, 0.4157,  ..., 0.5176, 0.4941, 0.4392]])"
      ]
     },
     "execution_count": 19,
     "metadata": {},
     "output_type": "execute_result"
    }
   ],
   "source": [
    "'''img.data[0] \n",
    "# this is 1 channel\n",
    "# row length = 480\n",
    "# no. of rows = 320"
   ]
  },
  {
   "cell_type": "code",
   "execution_count": 20,
   "metadata": {},
   "outputs": [
    {
     "data": {
      "text/plain": [
       "tensor([0.4745, 0.4196, 0.3765, 0.3843, 0.4039, 0.4196, 0.4392, 0.4627, 0.4863,\n",
       "        0.4275, 0.4235, 0.4667, 0.4431, 0.3569, 0.3216, 0.3569, 0.4000, 0.4510,\n",
       "        0.4784, 0.4745, 0.4902, 0.5098, 0.4784, 0.4196, 0.4549, 0.4706, 0.4745,\n",
       "        0.4549, 0.4392, 0.4431, 0.4510, 0.4549, 0.4902, 0.4902, 0.4745, 0.4471,\n",
       "        0.4235, 0.4275, 0.4549, 0.4863, 0.4196, 0.5020, 0.5529, 0.5176, 0.4745,\n",
       "        0.4667, 0.4549, 0.4275, 0.4902, 0.4510, 0.4314, 0.4549, 0.4941, 0.5020,\n",
       "        0.4745, 0.4510, 0.4471, 0.4431, 0.4745, 0.5059, 0.4627, 0.4039, 0.4353,\n",
       "        0.5176, 0.4863, 0.5765, 0.4627, 0.3843, 0.5059, 0.5098, 0.4275, 0.4824,\n",
       "        0.4431, 0.4275, 0.4627, 0.5255, 0.5255, 0.4667, 0.4314, 0.4392, 0.4980,\n",
       "        0.5059, 0.4549, 0.5137, 0.4980, 0.4353, 0.5255, 0.5529, 0.4824, 0.4745,\n",
       "        0.4706, 0.4392, 0.5843, 0.6588, 0.5647, 0.6627, 0.6118, 0.5569, 0.5137,\n",
       "        0.5098, 0.5137, 0.4941, 0.4706, 0.4588, 0.4980, 0.4667, 0.4000, 0.4510,\n",
       "        0.5098, 0.5216, 0.5412, 0.4941, 0.5216, 0.4902, 0.6275, 0.6510, 0.4627,\n",
       "        0.4549, 0.5412, 0.4627, 0.4941, 0.5020, 0.5412, 0.5020, 0.5725, 0.5725,\n",
       "        0.5882, 0.5216, 0.5569, 0.6000, 0.6000, 0.5216, 0.4314, 0.4078, 0.4471,\n",
       "        0.4902, 0.5098, 0.5647, 0.5412, 0.5333, 0.5608, 0.4745, 0.4353, 0.5529,\n",
       "        0.5137, 0.5020, 0.5176, 0.5490, 0.5412, 0.5059, 0.4941, 0.5176, 0.6078,\n",
       "        0.6235, 0.5569, 0.5529, 0.4980, 0.4745, 0.5686, 0.5255, 0.6157, 0.5647,\n",
       "        0.5176, 0.5020, 0.4941, 0.4784, 0.4784, 0.4902, 0.5373, 0.5451, 0.4745,\n",
       "        0.5412, 0.5647, 0.5137, 0.5412, 0.4745, 0.5412, 0.6275, 0.6627, 0.5647,\n",
       "        0.4392, 0.4275, 0.5412, 0.6588, 0.5255, 0.5412, 0.4706, 0.4157, 0.4588,\n",
       "        0.4902, 0.4902, 0.5176, 0.6078, 0.6980, 0.5137, 0.5294, 0.6157, 0.5569,\n",
       "        0.5882, 0.5569, 0.4941, 0.5412, 0.5059, 0.5490, 0.5412, 0.5059, 0.5922,\n",
       "        0.5882, 0.5294, 0.6000, 0.5882, 0.5294, 0.5176, 0.5294, 0.5373, 0.5529,\n",
       "        0.5176, 0.5294, 0.5059, 0.5059, 0.5373, 0.5216, 0.4902, 0.5020, 0.4667,\n",
       "        0.4235, 0.4392, 0.4863, 0.6510, 0.6157, 0.5804, 0.5451, 0.5451, 0.5529,\n",
       "        0.5569, 0.5137, 0.4745, 0.5098, 0.5373, 0.4980, 0.5725, 0.5412, 0.4941,\n",
       "        0.4667, 0.4745, 0.4863, 0.4588, 0.4157, 0.4784, 0.4784, 0.4980, 0.5294,\n",
       "        0.5255, 0.5098, 0.5176, 0.5490, 0.5804, 0.5137, 0.5333, 0.5686, 0.4902,\n",
       "        0.4039, 0.4235, 0.4902, 0.4471, 0.5020, 0.5451, 0.5373, 0.4980, 0.4745,\n",
       "        0.4784, 0.4902, 0.4980, 0.5333, 0.4824, 0.4471, 0.5020, 0.5176, 0.4980,\n",
       "        0.5333, 0.5529, 0.5843, 0.5882, 0.6392, 0.5569, 0.6196, 0.6118, 0.6118,\n",
       "        0.5765, 0.5412, 0.5216, 0.5451, 0.5765, 0.5765, 0.5412, 0.5059, 0.4824,\n",
       "        0.4431, 0.4784, 0.5412, 0.5490, 0.5373, 0.5294, 0.5020, 0.6039, 0.6196,\n",
       "        0.5373, 0.5059, 0.5686, 0.5255, 0.4706, 0.5451, 0.5725, 0.5255, 0.5137,\n",
       "        0.5490, 0.5686, 0.5529, 0.5412, 0.5529, 0.5608, 0.5451, 0.5451, 0.5451,\n",
       "        0.5098, 0.4667, 0.4745, 0.5176, 0.5608, 0.4471, 0.4824, 0.5765, 0.5373,\n",
       "        0.4902, 0.5294, 0.5608, 0.4471, 0.4863, 0.5098, 0.5373, 0.5608, 0.5451,\n",
       "        0.5804, 0.6706, 0.6000, 0.5451, 0.5098, 0.5333, 0.5686, 0.5725, 0.5451,\n",
       "        0.5176, 0.5216, 0.5059, 0.4980, 0.5020, 0.4980, 0.5059, 0.5333, 0.5686,\n",
       "        0.5255, 0.4941, 0.4784, 0.4706, 0.4235, 0.3882, 0.4627, 0.5765, 0.5020,\n",
       "        0.6157, 0.6118, 0.5843, 0.4941, 0.5686, 0.5412, 0.5333, 0.5333, 0.5333,\n",
       "        0.5294, 0.5216, 0.5255, 0.5255, 0.5137, 0.4980, 0.4824, 0.5255, 0.5490,\n",
       "        0.5216, 0.4902, 0.4863, 0.4941, 0.4902, 0.4745, 0.5137, 0.5216, 0.5137,\n",
       "        0.5569, 0.6196, 0.6039, 0.5373, 0.4824, 0.4549, 0.4784, 0.5529, 0.5765,\n",
       "        0.5294, 0.4863, 0.4863, 0.5294, 0.5373, 0.5216, 0.4902, 0.4745, 0.4784,\n",
       "        0.4745, 0.4627, 0.4314, 0.4706, 0.4471, 0.4392, 0.4706, 0.4431, 0.4471,\n",
       "        0.5373, 0.5490, 0.5137, 0.4745, 0.4588, 0.4706, 0.4824, 0.4902, 0.4863,\n",
       "        0.4157, 0.4392, 0.4588, 0.4627, 0.4745, 0.4902, 0.4902, 0.4745, 0.4941,\n",
       "        0.4627, 0.4549, 0.4824, 0.4784, 0.4627, 0.4980, 0.5569, 0.4314, 0.4745,\n",
       "        0.4941, 0.4824, 0.4824, 0.5059, 0.5020, 0.4784, 0.4745, 0.4784, 0.4824,\n",
       "        0.4784, 0.4706, 0.4706, 0.4784, 0.4902, 0.4353, 0.4588, 0.4588, 0.4706,\n",
       "        0.4863, 0.4549, 0.4392, 0.4784, 0.4588, 0.4706, 0.4745, 0.4745, 0.4784,\n",
       "        0.4902, 0.4941, 0.4824])"
      ]
     },
     "execution_count": 20,
     "metadata": {},
     "output_type": "execute_result"
    }
   ],
   "source": [
    "'''img.data[0][0]"
   ]
  },
  {
   "cell_type": "code",
   "execution_count": 36,
   "metadata": {},
   "outputs": [
    {
     "data": {
      "text/plain": [
       "tensor([0.4588, 0.4549, 0.4627, 0.4667, 0.4392, 0.3922, 0.3686, 0.3647, 0.4078,\n",
       "        0.3412, 0.4000, 0.4824, 0.4588, 0.4392, 0.4431, 0.4078, 0.4941, 0.5294,\n",
       "        0.5490, 0.5373, 0.5059, 0.4824, 0.4510, 0.4275, 0.3843, 0.4039, 0.4353,\n",
       "        0.4667, 0.4863, 0.4706, 0.4353, 0.4000, 0.4392, 0.4471, 0.4588, 0.4588,\n",
       "        0.4588, 0.4667, 0.4863, 0.5059, 0.4588, 0.4627, 0.4941, 0.4510, 0.3843,\n",
       "        0.4627, 0.5451, 0.5098, 0.4667, 0.5098, 0.5333, 0.4588, 0.3569, 0.3843,\n",
       "        0.4824, 0.5255, 0.5294, 0.4588, 0.5059, 0.5647, 0.4824, 0.4118, 0.4314,\n",
       "        0.4549, 0.4941, 0.5333, 0.5176, 0.4784, 0.4863, 0.3961, 0.5098, 0.4824,\n",
       "        0.5020, 0.4667, 0.4627, 0.4902, 0.4980, 0.4863, 0.5216, 0.5765, 0.5176,\n",
       "        0.5255, 0.4667, 0.4902, 0.5098, 0.4980, 0.4941, 0.4196, 0.4667, 0.5176,\n",
       "        0.4392, 0.4118, 0.4588, 0.4824, 0.5020, 0.4549, 0.5255, 0.5255, 0.5255,\n",
       "        0.5333, 0.5490, 0.5529, 0.5333, 0.5098, 0.5608, 0.4863, 0.5412, 0.5451,\n",
       "        0.4392, 0.4863, 0.5686, 0.4941, 0.4902, 0.4902, 0.5059, 0.5412, 0.5529,\n",
       "        0.5412, 0.5373, 0.5451, 0.5647, 0.5137, 0.4980, 0.5176, 0.5137, 0.4824,\n",
       "        0.5020, 0.5529, 0.5608, 0.4941, 0.4627, 0.4902, 0.5176, 0.4941, 0.4510,\n",
       "        0.4275, 0.5255, 0.6863, 0.7020, 0.5765, 0.5882, 0.7059, 0.6314, 0.4078,\n",
       "        0.5490, 0.6000, 0.5373, 0.4941, 0.5059, 0.6039, 0.4745, 0.4824, 0.5137,\n",
       "        0.4902, 0.4863, 0.5216, 0.5569, 0.5608, 0.5373, 0.5137, 0.5922, 0.5451,\n",
       "        0.5255, 0.5451, 0.5490, 0.5255, 0.5216, 0.5451, 0.4902, 0.5412, 0.4980,\n",
       "        0.4863, 0.5451, 0.5059, 0.4863, 0.6039, 0.5686, 0.4941, 0.4745, 0.5333,\n",
       "        0.5608, 0.5216, 0.4902, 0.5059, 0.5216, 0.5608, 0.5333, 0.4902, 0.5098,\n",
       "        0.5412, 0.5373, 0.5333, 0.5255, 0.5569, 0.6039, 0.6157, 0.5686, 0.5216,\n",
       "        0.5333, 0.5804, 0.5412, 0.5216, 0.5137, 0.5294, 0.5333, 0.5255, 0.5176,\n",
       "        0.5176, 0.5765, 0.5176, 0.5255, 0.6078, 0.6510, 0.6039, 0.5451, 0.5333,\n",
       "        0.5176, 0.4863, 0.5098, 0.5843, 0.5922, 0.4863, 0.3569, 0.2824, 0.3059,\n",
       "        0.2275, 0.2471, 0.3569, 0.4980, 0.5686, 0.5490, 0.5529, 0.5451, 0.5333,\n",
       "        0.4941, 0.5176, 0.5412, 0.4667, 0.4627, 0.6000, 0.5020, 0.4745, 0.4941,\n",
       "        0.5608, 0.5922, 0.5490, 0.4941, 0.4745, 0.5059, 0.4471, 0.5059, 0.4824,\n",
       "        0.5490, 0.5843, 0.6392, 0.5137, 0.5412, 0.4667, 0.4706, 0.5490, 0.5608,\n",
       "        0.5176, 0.5686, 0.6902, 0.5961, 0.6000, 0.5922, 0.5725, 0.5608, 0.5529,\n",
       "        0.5333, 0.5020, 0.5176, 0.5098, 0.5176, 0.5569, 0.5922, 0.5882, 0.5373,\n",
       "        0.4824, 0.5216, 0.4706, 0.5412, 0.4863, 0.4667, 0.5451, 0.5137, 0.5216,\n",
       "        0.5490, 0.5765, 0.5529, 0.4902, 0.4706, 0.5176, 0.5451, 0.5333, 0.5490,\n",
       "        0.5176, 0.5569, 0.5843, 0.5373, 0.5059, 0.5373, 0.5647, 0.6039, 0.5725,\n",
       "        0.5451, 0.5333, 0.5255, 0.5059, 0.4941, 0.5020, 0.5216, 0.4902, 0.4627,\n",
       "        0.4588, 0.4784, 0.5098, 0.5333, 0.5373, 0.5216, 0.5294, 0.5255, 0.4902,\n",
       "        0.4392, 0.4157, 0.4353, 0.4745, 0.5098, 0.5098, 0.5098, 0.5176, 0.5255,\n",
       "        0.5333, 0.5373, 0.5412, 0.5451, 0.5373, 0.5098, 0.4824, 0.4902, 0.5176,\n",
       "        0.5373, 0.5333, 0.5098, 0.5608, 0.5961, 0.5804, 0.5569, 0.5412, 0.5137,\n",
       "        0.4745, 0.4235, 0.5137, 0.5216, 0.4980, 0.5255, 0.5020, 0.4745, 0.5137,\n",
       "        0.5294, 0.5529, 0.5098, 0.4667, 0.4941, 0.5412, 0.5765, 0.6196, 0.6000,\n",
       "        0.5020, 0.4980, 0.5412, 0.5176, 0.4863, 0.4314, 0.3294, 0.3608, 0.3333,\n",
       "        0.3765, 0.4549, 0.4471, 0.3765, 0.3922, 0.4784, 0.5490, 0.4745, 0.3804,\n",
       "        0.3176, 0.3059, 0.3373, 0.4118, 0.4784, 0.4275, 0.3451, 0.3490, 0.4275,\n",
       "        0.4588, 0.4157, 0.3176, 0.2078, 0.3686, 0.5137, 0.4863, 0.3373, 0.2980,\n",
       "        0.3216, 0.3490, 0.3961, 0.3647, 0.3765, 0.4314, 0.3961, 0.2745, 0.2471,\n",
       "        0.2784, 0.2510, 0.1882, 0.2549, 0.3294, 0.3490, 0.3647, 0.3608, 0.3490,\n",
       "        0.3098, 0.3098, 0.2902, 0.3294, 0.3373, 0.3137, 0.3255, 0.4078, 0.4471,\n",
       "        0.5098, 0.5451, 0.5608, 0.5216, 0.4431, 0.4118, 0.4627, 0.5294, 0.4784,\n",
       "        0.4863, 0.4980, 0.4980, 0.4824, 0.4510, 0.4157, 0.3961, 0.3882, 0.4588,\n",
       "        0.4980, 0.4863, 0.5020, 0.5373, 0.5098, 0.4392, 0.3725, 0.2784, 0.2980,\n",
       "        0.3490, 0.2941, 0.2824, 0.3725, 0.4353, 0.4235, 0.4392, 0.4745, 0.4980,\n",
       "        0.4784, 0.4353, 0.4235, 0.4392, 0.4275, 0.3294, 0.2353, 0.2980, 0.4118,\n",
       "        0.3608, 0.2824, 0.3216])"
      ]
     },
     "execution_count": 36,
     "metadata": {},
     "output_type": "execute_result"
    }
   ],
   "source": [
    "'''img.data[0][160]"
   ]
  },
  {
   "cell_type": "code",
   "execution_count": 21,
   "metadata": {},
   "outputs": [
    {
     "data": {
      "text/plain": [
       "tensor(0.4745)"
      ]
     },
     "execution_count": 21,
     "metadata": {},
     "output_type": "execute_result"
    }
   ],
   "source": [
    "'''img.data[0][0][0]"
   ]
  },
  {
   "cell_type": "code",
   "execution_count": 9,
   "metadata": {},
   "outputs": [
    {
     "data": {
      "text/plain": [
       "480"
      ]
     },
     "execution_count": 9,
     "metadata": {},
     "output_type": "execute_result"
    }
   ],
   "source": [
    "'''len(img.data[0][0])"
   ]
  },
  {
   "cell_type": "code",
   "execution_count": 10,
   "metadata": {},
   "outputs": [
    {
     "data": {
      "image/png": "[encoded data removed]",
      "text/plain": [
       "<Figure size 360x360 with 1 Axes>"
      ]
     },
     "metadata": {
      "needs_background": "light"
     },
     "output_type": "display_data"
    }
   ],
   "source": [
    "mask = open_mask(get_y_fn(img_f))\n",
    "mask.show(figsize=(5,5), alpha=1)"
   ]
  },
  {
   "cell_type": "code",
   "execution_count": null,
   "metadata": {},
   "outputs": [],
   "source": [
    "# need to understand how the mask looks like"
   ]
  },
  {
   "cell_type": "code",
   "execution_count": 24,
   "metadata": {},
   "outputs": [
    {
     "data": {
      "text/plain": [
       "(tensor([[[0, 0, 0,  ..., 0, 0, 0],\n",
       "          [0, 0, 0,  ..., 0, 0, 0],\n",
       "          [0, 0, 0,  ..., 0, 0, 0],\n",
       "          ...,\n",
       "          [0, 0, 0,  ..., 0, 0, 0],\n",
       "          [0, 0, 0,  ..., 0, 0, 0],\n",
       "          [0, 0, 0,  ..., 0, 0, 0]]]),\n",
       " torch.Size([1, 320, 480]),\n",
       " torch.Size([320, 480]))"
      ]
     },
     "execution_count": 24,
     "metadata": {},
     "output_type": "execute_result"
    }
   ],
   "source": [
    "'''mask.data, mask.shape, mask.size"
   ]
  },
  {
   "cell_type": "code",
   "execution_count": 34,
   "metadata": {},
   "outputs": [
    {
     "data": {
      "text/plain": [
       "480"
      ]
     },
     "execution_count": 34,
     "metadata": {},
     "output_type": "execute_result"
    }
   ],
   "source": [
    "'''len(mask.data[0][0])  # length of row"
   ]
  },
  {
   "cell_type": "code",
   "execution_count": 26,
   "metadata": {},
   "outputs": [
    {
     "data": {
      "text/plain": [
       "320"
      ]
     },
     "execution_count": 26,
     "metadata": {},
     "output_type": "execute_result"
    }
   ],
   "source": [
    "'''len(mask.data[0])"
   ]
  },
  {
   "cell_type": "code",
   "execution_count": 27,
   "metadata": {},
   "outputs": [
    {
     "data": {
      "text/plain": [
       "torch.Size([320, 480])"
      ]
     },
     "execution_count": 27,
     "metadata": {},
     "output_type": "execute_result"
    }
   ],
   "source": [
    "'''mask.shape[1:]"
   ]
  },
  {
   "cell_type": "code",
   "execution_count": 28,
   "metadata": {},
   "outputs": [
    {
     "data": {
      "text/plain": [
       "array([320, 480])"
      ]
     },
     "execution_count": 28,
     "metadata": {},
     "output_type": "execute_result"
    }
   ],
   "source": [
    "'''np.array(mask.shape[1:])"
   ]
  },
  {
   "cell_type": "code",
   "execution_count": 11,
   "metadata": {},
   "outputs": [
    {
     "data": {
      "text/plain": [
       "(array([320, 480]),\n",
       " tensor([[[0, 0, 0,  ..., 0, 0, 0],\n",
       "          [0, 0, 0,  ..., 0, 0, 0],\n",
       "          [0, 0, 0,  ..., 0, 0, 0],\n",
       "          ...,\n",
       "          [0, 0, 0,  ..., 0, 0, 0],\n",
       "          [0, 0, 0,  ..., 0, 0, 0],\n",
       "          [0, 0, 0,  ..., 0, 0, 0]]]))"
      ]
     },
     "execution_count": 11,
     "metadata": {},
     "output_type": "execute_result"
    }
   ],
   "source": [
    "# define src_size for training\n",
    "src_size = np.array(mask.shape[1:])\n",
    "src_size,mask.data"
   ]
  },
  {
   "cell_type": "code",
   "execution_count": 32,
   "metadata": {},
   "outputs": [
    {
     "data": {
      "text/plain": [
       "tensor([[[0, 0, 0,  ..., 0, 0, 0],\n",
       "         [0, 0, 0,  ..., 0, 0, 0],\n",
       "         [0, 0, 0,  ..., 0, 0, 0],\n",
       "         ...,\n",
       "         [0, 0, 0,  ..., 0, 0, 0],\n",
       "         [0, 0, 0,  ..., 0, 0, 0],\n",
       "         [0, 0, 0,  ..., 0, 0, 0]]])"
      ]
     },
     "execution_count": 32,
     "metadata": {},
     "output_type": "execute_result"
    }
   ],
   "source": [
    "'''mask.data[:1]"
   ]
  },
  {
   "cell_type": "code",
   "execution_count": 40,
   "metadata": {},
   "outputs": [
    {
     "data": {
      "text/plain": [
       "tensor([  0,   0,   0,   0,   0,   0,   0,   0,   0,   0,   0,   0,   0,   0,\n",
       "          0,   0,   0,   0,   0,   0,   0,   0,   0,   0,   0,   0,   0,   0,\n",
       "          0,   0,   0,   0,   0,   0,   0,   0,   0,   0,   0,   0,   0,   0,\n",
       "          0,   0,   0,   0,   0,   0,   0,   0,   0,   0,   0,   0,   0,   0,\n",
       "          0,   0,   0,   0,   0,   0,   0,   0,   0,   0,   0,   0,   0,   0,\n",
       "          0,   0,   0,   0,   0,   0,   0,   0,   0,   0,   0,   0,   0,   0,\n",
       "          0,   0,   0,   0,   0,   0,   0,   0,   0,   0,   0,   0,   0,   0,\n",
       "          0,   0,   0,   0,   0,   0,   0,   0,   0,   0,   0,   0,   0,   0,\n",
       "          0,   0,   0,   0,   0,   0,   0,   0,   0,   0,   0,   0,   0,   0,\n",
       "          0,   0,   0,   0,   0,   0,   0,   0,   0,   0,   0,   0,   0,   0,\n",
       "          0,   0,   0,   0,   0,   0,   0,   0,   0,   0,   0,   0,   0,   0,\n",
       "          0,   0,   0,   0,   0,   0,   0,   0,   0,   0,   0,   0,   0,   0,\n",
       "          0,   0,   0,   0,   0,   0,   0,   0,   0,   0,   0,   0,   0,   0,\n",
       "          0,   0,   0,   0,   0,   0,   0,   0,   0,   0,   0,   0,   0,   0,\n",
       "          0,   0,   0,   0,   0,   0,   0,   0,   0,   0,   0,   0,   0,   0,\n",
       "          0,   0,   0,   0,   0,   0,   0,   0,   0, 255, 255, 255, 255, 255,\n",
       "        255, 255, 255,   0,   0,   0,   0,   0,   0,   0,   0,   0,   0,   0,\n",
       "          0,   0,   0,   0,   0,   0,   0,   0,   0,   0,   0,   0,   0,   0,\n",
       "          0,   0,   0,   0,   0,   0,   0,   0,   0,   0,   0,   0,   0,   0,\n",
       "          0,   0,   0,   0,   0,   0,   0,   0,   0,   0,   0,   0,   0,   0,\n",
       "          0,   0,   0,   0,   0,   0,   0,   0,   0,   0,   0,   0,   0,   0,\n",
       "          0,   0,   0,   0,   0,   0,   0,   0,   0,   0,   0,   0,   0,   0,\n",
       "          0,   0,   0,   0,   0,   0,   0,   0,   0,   0,   0,   0,   0,   0,\n",
       "          0,   0,   0,   0,   0,   0,   0,   0,   0,   0,   0,   0,   0,   0,\n",
       "          0,   0,   0,   0,   0,   0,   0,   0,   0,   0,   0,   0,   0,   0,\n",
       "          0,   0,   0,   0,   0,   0,   0,   0,   0,   0,   0,   0,   0,   0,\n",
       "          0,   0,   0,   0,   0,   0,   0,   0,   0, 255, 255, 255, 255, 255,\n",
       "          0,   0, 255, 255, 255, 255, 255, 255, 255, 255, 255, 255, 255, 255,\n",
       "        255, 255, 255, 255, 255, 255, 255, 255, 255, 255, 255, 255, 255, 255,\n",
       "        255, 255, 255, 255, 255, 255, 255, 255, 255, 255, 255, 255, 255, 255,\n",
       "        255, 255, 255, 255, 255, 255, 255, 255, 255, 255, 255,   0,   0,   0,\n",
       "          0,   0,   0,   0,   0,   0,   0,   0,   0,   0,   0,   0,   0,   0,\n",
       "          0,   0,   0,   0, 255, 255, 255, 255, 255, 255, 255, 255, 255, 255,\n",
       "        255, 255, 255, 255, 255, 255, 255,   0,   0,   0, 255, 255, 255, 255,\n",
       "        255, 255, 255,   0])"
      ]
     },
     "execution_count": 40,
     "metadata": {},
     "output_type": "execute_result"
    }
   ],
   "source": [
    "'''mask.data[0][160]"
   ]
  },
  {
   "cell_type": "markdown",
   "metadata": {},
   "source": [
    "####   the mask file is encoded as 0 & 255 - we need to convert this to 0 & 1\n",
    "####   so open the mask with div=True  - this converts to 0 & 1s\n",
    "\n",
    "####  https://forums.fast.ai/t/imagemask-data-created-by-open-mask-returns-all-zeros/26622/5\n",
    "####  https://forums.fast.ai/t/unet-segmentation-mask-converter-to-help-against-common-errors-problems/42949/3"
   ]
  },
  {
   "cell_type": "code",
   "execution_count": 11,
   "metadata": {},
   "outputs": [
    {
     "data": {
      "image/png": "[encoded data removed]",
      "text/plain": [
       "<Figure size 360x360 with 1 Axes>"
      ]
     },
     "metadata": {
      "needs_background": "light"
     },
     "output_type": "display_data"
    }
   ],
   "source": [
    "mask2 = open_mask(get_y_fn(img_f), div=True)\n",
    "mask2.show(figsize=(5,5), alpha=1)"
   ]
  },
  {
   "cell_type": "code",
   "execution_count": 38,
   "metadata": {},
   "outputs": [
    {
     "data": {
      "text/plain": [
       "(tensor([[[0, 0, 0,  ..., 0, 0, 0],\n",
       "          [0, 0, 0,  ..., 0, 0, 0],\n",
       "          [0, 0, 0,  ..., 0, 0, 0],\n",
       "          ...,\n",
       "          [0, 0, 0,  ..., 0, 0, 0],\n",
       "          [0, 0, 0,  ..., 0, 0, 0],\n",
       "          [0, 0, 0,  ..., 0, 0, 0]]]),\n",
       " torch.Size([1, 320, 480]),\n",
       " torch.Size([320, 480]))"
      ]
     },
     "execution_count": 38,
     "metadata": {},
     "output_type": "execute_result"
    }
   ],
   "source": [
    "'''mask2.data, mask2.shape, mask2.size"
   ]
  },
  {
   "cell_type": "code",
   "execution_count": 39,
   "metadata": {},
   "outputs": [
    {
     "data": {
      "text/plain": [
       "tensor([0, 0, 0, 0, 0, 0, 0, 0, 0, 0, 0, 0, 0, 0, 0, 0, 0, 0, 0, 0, 0, 0, 0, 0,\n",
       "        0, 0, 0, 0, 0, 0, 0, 0, 0, 0, 0, 0, 0, 0, 0, 0, 0, 0, 0, 0, 0, 0, 0, 0,\n",
       "        0, 0, 0, 0, 0, 0, 0, 0, 0, 0, 0, 0, 0, 0, 0, 0, 0, 0, 0, 0, 0, 0, 0, 0,\n",
       "        0, 0, 0, 0, 0, 0, 0, 0, 0, 0, 0, 0, 0, 0, 0, 0, 0, 0, 0, 0, 0, 0, 0, 0,\n",
       "        0, 0, 0, 0, 0, 0, 0, 0, 0, 0, 0, 0, 0, 0, 0, 0, 0, 0, 0, 0, 0, 0, 0, 0,\n",
       "        0, 0, 0, 0, 0, 0, 0, 0, 0, 0, 0, 0, 0, 0, 0, 0, 0, 0, 0, 0, 0, 0, 0, 0,\n",
       "        0, 0, 0, 0, 0, 0, 0, 0, 0, 0, 0, 0, 0, 0, 0, 0, 0, 0, 0, 0, 0, 0, 0, 0,\n",
       "        0, 0, 0, 0, 0, 0, 0, 0, 0, 0, 0, 0, 0, 0, 0, 0, 0, 0, 0, 0, 0, 0, 0, 0,\n",
       "        0, 0, 0, 0, 0, 0, 0, 0, 0, 0, 0, 0, 0, 0, 0, 0, 0, 0, 0, 0, 0, 0, 0, 0,\n",
       "        0, 0, 0, 1, 1, 1, 1, 1, 1, 1, 1, 0, 0, 0, 0, 0, 0, 0, 0, 0, 0, 0, 0, 0,\n",
       "        0, 0, 0, 0, 0, 0, 0, 0, 0, 0, 0, 0, 0, 0, 0, 0, 0, 0, 0, 0, 0, 0, 0, 0,\n",
       "        0, 0, 0, 0, 0, 0, 0, 0, 0, 0, 0, 0, 0, 0, 0, 0, 0, 0, 0, 0, 0, 0, 0, 0,\n",
       "        0, 0, 0, 0, 0, 0, 0, 0, 0, 0, 0, 0, 0, 0, 0, 0, 0, 0, 0, 0, 0, 0, 0, 0,\n",
       "        0, 0, 0, 0, 0, 0, 0, 0, 0, 0, 0, 0, 0, 0, 0, 0, 0, 0, 0, 0, 0, 0, 0, 0,\n",
       "        0, 0, 0, 0, 0, 0, 0, 0, 0, 0, 0, 0, 0, 0, 0, 0, 0, 0, 0, 0, 0, 0, 0, 0,\n",
       "        0, 0, 0, 0, 0, 0, 0, 0, 0, 0, 0, 0, 0, 1, 1, 1, 1, 1, 0, 0, 1, 1, 1, 1,\n",
       "        1, 1, 1, 1, 1, 1, 1, 1, 1, 1, 1, 1, 1, 1, 1, 1, 1, 1, 1, 1, 1, 1, 1, 1,\n",
       "        1, 1, 1, 1, 1, 1, 1, 1, 1, 1, 1, 1, 1, 1, 1, 1, 1, 1, 1, 1, 1, 1, 1, 0,\n",
       "        0, 0, 0, 0, 0, 0, 0, 0, 0, 0, 0, 0, 0, 0, 0, 0, 0, 0, 0, 0, 1, 1, 1, 1,\n",
       "        1, 1, 1, 1, 1, 1, 1, 1, 1, 1, 1, 1, 1, 0, 0, 0, 1, 1, 1, 1, 1, 1, 1, 0])"
      ]
     },
     "execution_count": 39,
     "metadata": {},
     "output_type": "execute_result"
    }
   ],
   "source": [
    "'''mask2.data[0][160]"
   ]
  },
  {
   "cell_type": "code",
   "execution_count": 43,
   "metadata": {},
   "outputs": [
    {
     "data": {
      "text/plain": [
       "153600"
      ]
     },
     "execution_count": 43,
     "metadata": {},
     "output_type": "execute_result"
    }
   ],
   "source": [
    "'''len(mask.data.flatten())   # = 320*480"
   ]
  },
  {
   "cell_type": "code",
   "execution_count": 45,
   "metadata": {},
   "outputs": [
    {
     "data": {
      "text/plain": [
       "tensor([  0, 255])"
      ]
     },
     "execution_count": 45,
     "metadata": {},
     "output_type": "execute_result"
    }
   ],
   "source": [
    "'''mask.data.flatten().unique()"
   ]
  },
  {
   "cell_type": "code",
   "execution_count": 47,
   "metadata": {},
   "outputs": [
    {
     "data": {
      "text/plain": [
       "tensor([0, 1])"
      ]
     },
     "execution_count": 47,
     "metadata": {},
     "output_type": "execute_result"
    }
   ],
   "source": [
    "'''mask2.data.flatten().unique()"
   ]
  },
  {
   "cell_type": "markdown",
   "metadata": {},
   "source": [
    "####   so we have only 2 labels;\n",
    "####   check this is the case with all images"
   ]
  },
  {
   "cell_type": "code",
   "execution_count": 48,
   "metadata": {},
   "outputs": [
    {
     "name": "stdout",
     "output_type": "stream",
     "text": [
      "tensor([  0, 255])\n",
      "tensor([  0, 255])\n",
      "tensor([  0, 255])\n",
      "tensor([  0, 255])\n",
      "tensor([  0, 255])\n",
      "tensor([  0, 255])\n",
      "tensor([  0, 255])\n",
      "tensor([  0, 255])\n",
      "tensor([  0, 255])\n",
      "tensor([  0, 255])\n",
      "tensor([  0, 255])\n",
      "tensor([  0, 255])\n",
      "tensor([  0, 255])\n",
      "tensor([  0, 255])\n",
      "tensor([  0, 255])\n",
      "tensor([  0, 255])\n",
      "tensor([  0, 255])\n",
      "tensor([  0, 255])\n",
      "tensor([  0, 255])\n",
      "tensor([  0, 255])\n",
      "tensor([  0, 255])\n",
      "tensor([  0, 255])\n",
      "tensor([  0, 255])\n",
      "tensor([  0, 255])\n",
      "tensor([  0, 255])\n",
      "tensor([  0, 255])\n",
      "tensor([  0, 255])\n",
      "tensor([  0, 255])\n",
      "tensor([  0, 255])\n",
      "tensor([  0, 255])\n",
      "tensor([  0, 255])\n",
      "tensor([  0, 255])\n",
      "tensor([  0, 255])\n",
      "tensor([  0, 255])\n",
      "tensor([  0, 255])\n",
      "tensor([  0, 255])\n",
      "tensor([  0, 255])\n",
      "tensor([  0, 255])\n",
      "tensor([  0, 255])\n",
      "tensor([  0, 255])\n",
      "tensor([  0, 255])\n",
      "tensor([  0, 255])\n",
      "tensor([  0, 255])\n",
      "tensor([  0, 255])\n",
      "tensor([  0, 255])\n",
      "tensor([  0, 255])\n",
      "tensor([  0, 255])\n",
      "tensor([  0, 255])\n",
      "tensor([  0, 255])\n",
      "tensor([  0, 255])\n",
      "tensor([  0, 255])\n",
      "tensor([  0, 255])\n",
      "tensor([  0, 255])\n",
      "tensor([  0, 255])\n",
      "tensor([  0, 255])\n",
      "tensor([  0, 255])\n",
      "tensor([  0, 255])\n",
      "tensor([  0, 255])\n",
      "tensor([  0, 255])\n",
      "tensor([  0, 255])\n",
      "tensor([  0, 255])\n",
      "tensor([  0, 255])\n",
      "tensor([  0, 255])\n",
      "tensor([  0, 255])\n",
      "tensor([  0, 255])\n",
      "tensor([  0, 255])\n",
      "tensor([  0, 255])\n",
      "tensor([  0, 255])\n",
      "tensor([  0, 255])\n",
      "tensor([  0, 255])\n",
      "tensor([  0, 255])\n",
      "tensor([  0, 255])\n",
      "tensor([  0, 255])\n",
      "tensor([  0, 255])\n",
      "tensor([  0, 255])\n",
      "tensor([  0, 255])\n",
      "tensor([  0, 255])\n",
      "tensor([  0, 255])\n",
      "tensor([  0, 255])\n",
      "tensor([  0, 255])\n",
      "tensor([  0, 255])\n",
      "tensor([  0, 255])\n",
      "tensor([  0, 255])\n",
      "tensor([  0, 255])\n",
      "tensor([  0, 255])\n",
      "tensor([  0, 255])\n",
      "tensor([  0, 255])\n",
      "tensor([  0, 255])\n",
      "tensor([  0, 255])\n",
      "tensor([  0, 255])\n",
      "tensor([  0, 255])\n",
      "tensor([  0, 255])\n",
      "tensor([  0, 255])\n",
      "tensor([  0, 255])\n",
      "tensor([  0, 255])\n",
      "tensor([  0, 255])\n",
      "tensor([  0, 255])\n",
      "tensor([  0, 255])\n",
      "tensor([  0, 255])\n",
      "tensor([  0, 255])\n",
      "tensor([  0, 255])\n",
      "tensor([  0, 255])\n",
      "tensor([  0, 255])\n",
      "tensor([  0, 255])\n",
      "tensor([  0, 255])\n",
      "tensor([  0, 255])\n",
      "tensor([  0, 255])\n",
      "tensor([  0, 255])\n",
      "tensor([  0, 255])\n",
      "tensor([  0, 255])\n",
      "tensor([  0, 255])\n",
      "tensor([  0, 255])\n",
      "tensor([  0, 255])\n",
      "tensor([  0, 255])\n",
      "tensor([  0, 255])\n",
      "tensor([  0, 255])\n",
      "tensor([  0, 255])\n",
      "tensor([  0, 255])\n"
     ]
    }
   ],
   "source": [
    "'''for i in range(len(fnames)):\n",
    "    img_f = fnames[i]\n",
    "    mask = open_mask(get_y_fn(img_f))\n",
    "    print(mask.data.flatten().unique())"
   ]
  },
  {
   "cell_type": "code",
   "execution_count": 27,
   "metadata": {},
   "outputs": [
    {
     "name": "stdout",
     "output_type": "stream",
     "text": [
      "tensor([0, 1])\n",
      "tensor([0, 1])\n",
      "tensor([0, 1])\n",
      "tensor([0, 1])\n",
      "tensor([0, 1])\n",
      "tensor([0, 1])\n",
      "tensor([0, 1])\n",
      "tensor([0, 1])\n",
      "tensor([0, 1])\n",
      "tensor([0, 1])\n",
      "tensor([0, 1])\n",
      "tensor([0, 1])\n",
      "tensor([0, 1])\n",
      "tensor([0, 1])\n",
      "tensor([0, 1])\n",
      "tensor([0, 1])\n",
      "tensor([0, 1])\n",
      "tensor([0, 1])\n",
      "tensor([0, 1])\n",
      "tensor([0, 1])\n",
      "tensor([0, 1])\n",
      "tensor([0, 1])\n",
      "tensor([0, 1])\n",
      "tensor([0, 1])\n",
      "tensor([0, 1])\n",
      "tensor([0, 1])\n",
      "tensor([0, 1])\n",
      "tensor([0, 1])\n",
      "tensor([0, 1])\n",
      "tensor([0, 1])\n",
      "tensor([0, 1])\n",
      "tensor([0, 1])\n",
      "tensor([0, 1])\n",
      "tensor([0, 1])\n",
      "tensor([0, 1])\n",
      "tensor([0, 1])\n",
      "tensor([0, 1])\n",
      "tensor([0, 1])\n",
      "tensor([0, 1])\n",
      "tensor([0, 1])\n",
      "tensor([0, 1])\n",
      "tensor([0, 1])\n",
      "tensor([0, 1])\n",
      "tensor([0, 1])\n",
      "tensor([0, 1])\n",
      "tensor([0, 1])\n",
      "tensor([0, 1])\n",
      "tensor([0, 1])\n",
      "tensor([0, 1])\n",
      "tensor([0, 1])\n",
      "tensor([0, 1])\n",
      "tensor([0, 1])\n",
      "tensor([0, 1])\n",
      "tensor([0, 1])\n",
      "tensor([0, 1])\n",
      "tensor([0, 1])\n",
      "tensor([0, 1])\n",
      "tensor([0, 1])\n",
      "tensor([0, 1])\n",
      "tensor([0, 1])\n",
      "tensor([0, 1])\n",
      "tensor([0, 1])\n",
      "tensor([0, 1])\n",
      "tensor([0, 1])\n",
      "tensor([0, 1])\n",
      "tensor([0, 1])\n",
      "tensor([0, 1])\n",
      "tensor([0, 1])\n",
      "tensor([0, 1])\n",
      "tensor([0, 1])\n",
      "tensor([0, 1])\n",
      "tensor([0, 1])\n",
      "tensor([0, 1])\n",
      "tensor([0, 1])\n",
      "tensor([0, 1])\n",
      "tensor([0, 1])\n",
      "tensor([0, 1])\n",
      "tensor([0, 1])\n",
      "tensor([0, 1])\n",
      "tensor([0, 1])\n",
      "tensor([0, 1])\n",
      "tensor([0, 1])\n",
      "tensor([0, 1])\n",
      "tensor([0, 1])\n",
      "tensor([0, 1])\n",
      "tensor([0, 1])\n",
      "tensor([0, 1])\n",
      "tensor([0, 1])\n",
      "tensor([0, 1])\n",
      "tensor([0, 1])\n",
      "tensor([0, 1])\n",
      "tensor([0, 1])\n",
      "tensor([0, 1])\n",
      "tensor([0, 1])\n",
      "tensor([0, 1])\n",
      "tensor([0, 1])\n",
      "tensor([0, 1])\n",
      "tensor([0, 1])\n",
      "tensor([0, 1])\n",
      "tensor([0, 1])\n",
      "tensor([0, 1])\n",
      "tensor([0, 1])\n",
      "tensor([0, 1])\n",
      "tensor([0, 1])\n",
      "tensor([0, 1])\n",
      "tensor([0, 1])\n",
      "tensor([0, 1])\n",
      "tensor([0, 1])\n",
      "tensor([0, 1])\n",
      "tensor([0, 1])\n",
      "tensor([0, 1])\n",
      "tensor([0, 1])\n",
      "tensor([0, 1])\n",
      "tensor([0, 1])\n",
      "tensor([0, 1])\n",
      "tensor([0, 1])\n",
      "tensor([0, 1])\n",
      "tensor([0, 1])\n"
     ]
    }
   ],
   "source": [
    "'''for i in range(len(fnames)):\n",
    "    img_f = fnames[i]\n",
    "    mask = open_mask(get_y_fn(img_f),div=True)\n",
    "    print(mask.data.flatten().unique())"
   ]
  },
  {
   "cell_type": "code",
   "execution_count": 12,
   "metadata": {},
   "outputs": [
    {
     "data": {
      "text/plain": [
       "array(['road', 'crack'], dtype='<U5')"
      ]
     },
     "execution_count": 12,
     "metadata": {},
     "output_type": "execute_result"
    }
   ],
   "source": [
    "# creating the codes, since we don't have a codes.txt file\n",
    "codes = np.array(['road','crack'])\n",
    "codes"
   ]
  },
  {
   "cell_type": "code",
   "execution_count": null,
   "metadata": {},
   "outputs": [],
   "source": []
  },
  {
   "cell_type": "code",
   "execution_count": 53,
   "metadata": {},
   "outputs": [
    {
     "data": {
      "text/plain": [
       "0"
      ]
     },
     "execution_count": 53,
     "metadata": {},
     "output_type": "execute_result"
    }
   ],
   "source": [
    "gpu_mem_get_free_no_cache()\n",
    "'''free = gpu_mem_get_free_no_cache()\n",
    "\n",
    "# the max size of bs depends on the available GPU RAM\n",
    "if free > 8200: bs=8\n",
    "else:           bs=4\n",
    "print(f\"using bs={bs}, have {free}MB of GPU RAM free\")'''"
   ]
  },
  {
   "cell_type": "code",
   "execution_count": 13,
   "metadata": {},
   "outputs": [],
   "source": [
    "##  assigning the model parameters\n",
    "size = src_size//2  # sets size to half of origibal size, to train faster\n",
    "bs= 2 #4   # 8\n",
    "\n",
    "# set seeds\n",
    "def random_seed(seed_value, use_cuda):  \n",
    "    np.random.seed(seed_value) \n",
    "    torch.manual_seed(seed_value) \n",
    "    random.seed(seed_value) \n",
    "    torch.backends.cudnn.deterministic = True\n",
    "\n",
    "    if use_cuda: torch.cuda.manual_seed_all(seed_value) \n",
    "\n",
    "# Set seed\n",
    "random_seed(0,False)#'''\n",
    "#random_seed(0,True)#'''"
   ]
  },
  {
   "cell_type": "code",
   "execution_count": null,
   "metadata": {},
   "outputs": [],
   "source": [
    "# where to make changes for image mask, div=True?\n",
    "\n",
    "# https://stackoverflow.com/questions/59520705/mask-values-in-segmentation-task-are-either-0-or-255-how-do-i-resolve-this\n",
    "# https://github.com/fastai/fastai/issues/1540     -> did not follow\n"
   ]
  },
  {
   "cell_type": "code",
   "execution_count": 21,
   "metadata": {},
   "outputs": [
    {
     "data": {
      "text/plain": [
       "'\\nclass SegLabelListCustom(SegmentationLabelList):\\n    def open(self, fn): return open_mask(fn, div=True)\\n\\nclass SegItemListCustom(SegmentationItemList):\\n    _label_cls = SegLabelListCustom\\n'"
      ]
     },
     "execution_count": 21,
     "metadata": {},
     "output_type": "execute_result"
    },
    {
     "name": "stderr",
     "output_type": "stream",
     "text": [
      "C:\\Users\\DAR9KOR\\AppData\\Local\\Continuum\\anaconda3\\envs\\fastai_py37\\lib\\site-packages\\fastai\\data_block.py:537: UserWarning: You are labelling your items with CategoryList.\n",
      "Your train set contained the following unknown labels, the corresponding items have been discarded.\n",
      "./train_model_images/train/labels/055.png, ./train_model_images/train/labels/064.png, ./train_model_images/train/labels/098.png, ./train_model_images/train/labels/036.png, ./train_model_images/train/labels/014.png...\n",
      "  if getattr(ds, 'warn', False): warn(ds.warn)\n",
      "C:\\Users\\DAR9KOR\\AppData\\Local\\Continuum\\anaconda3\\envs\\fastai_py37\\lib\\site-packages\\fastai\\data_block.py:537: UserWarning: You are labelling your items with CategoryList.\n",
      "Your valid set contained the following unknown labels, the corresponding items have been discarded.\n",
      "./train_model_images/train/labels/010.png, ./train_model_images/train/labels/093.png, ./train_model_images/train/labels/105.png, ./train_model_images/train/labels/084.png, ./train_model_images/train/labels/009.png...\n",
      "  if getattr(ds, 'warn', False): warn(ds.warn)\n"
     ]
    },
    {
     "data": {
      "text/plain": [
       "'\\n# to scale properly, since masks are 0, 255\\n# https://forums.fast.ai/t/unet-binary-segmentation/29833/28\\n# https://forums.fast.ai/t/indexerror-target-63-is-out-of-bounds-while-using-unet-for-kaggle-dataset/64852/10\\n#src.train.y.create_func = partial(open_mask, div=True)\\n#src.valid.y.create_func = partial(open_mask, div=True)\\n'"
      ]
     },
     "execution_count": 21,
     "metadata": {},
     "output_type": "execute_result"
    }
   ],
   "source": [
    "'''\n",
    "class SegLabelListCustom(SegmentationLabelList):\n",
    "    def open(self, fn): return open_mask(fn, div=True)\n",
    "\n",
    "class SegItemListCustom(SegmentationItemList):\n",
    "    _label_cls = SegLabelListCustom\n",
    "'''    \n",
    "\n",
    "''' \n",
    "class SegmentationLabelList(ImageList):\n",
    "    def __init__(self, items:Iterator, classes:Collection=None, **kwargs):\n",
    "        super().__init__(items, **kwargs)\n",
    "        self.classes,self.loss_func,self.create_func = classes,CrossEntropyFlat(),partial(open_mask, div=True)\n",
    "        self.c = len(self.classes)\n",
    "\n",
    "    def new(self, items, classes=None, **kwargs):\n",
    "        return self.__class__(items, ifnone(classes, self.classes), **kwargs)\n",
    "\n",
    "    \n",
    "class SegmentationItemList(ImageList):\n",
    "    def __post_init__(self):\n",
    "        super().__post_init__()\n",
    "        self._label_cls = SegmentationLabelList\n",
    "\n",
    "\n",
    "src = (SegmentationItemList.from_folder(path_img)\n",
    "       # Where to find the data? -> in path_img and its subfolders\n",
    "       #.split_by_fname_file('../valid.txt')\n",
    "       .split_by_rand_pct(valid_pct=0.2, seed=None)\n",
    "        #How to split in train/valid? -> randomly with the default 20% in valid; since we don't have (& don't need) valid.txt\n",
    "       .label_from_func(get_y_fn, classes=codes))\n",
    "\n",
    "'''\n",
    "# to scale properly, since masks are 0, 255\n",
    "# https://forums.fast.ai/t/unet-binary-segmentation/29833/28\n",
    "# https://forums.fast.ai/t/indexerror-target-63-is-out-of-bounds-while-using-unet-for-kaggle-dataset/64852/10\n",
    "#src.train.y.create_func = partial(open_mask, div=True)\n",
    "#src.valid.y.create_func = partial(open_mask, div=True)\n",
    "'''"
   ]
  },
  {
   "cell_type": "code",
   "execution_count": 30,
   "metadata": {},
   "outputs": [
    {
     "name": "stdout",
     "output_type": "stream",
     "text": [
      "Conversion finished!\n"
     ]
    }
   ],
   "source": [
    "# since making a lot of changes still did not resolve the issue,\n",
    "# editing the mask files directly to encode the classes, instead of 0-255\n",
    "# https://forums.fast.ai/t/unet-segmentation-mask-converter-to-help-against-common-errors-problems/42949\n",
    "\n",
    "%reload_ext autoreload\n",
    "%autoreload 2\n",
    "%matplotlib inline\n",
    "from fastai.vision import *\n",
    "from fastai.callbacks.hooks import *\n",
    "import PIL.Image as PilImage\n",
    "\n",
    "def getClassValues(label_names):\n",
    "\n",
    "    containedValues = set([])\n",
    "\n",
    "    for i in range(len(label_names)):\n",
    "        tmp = open_mask(label_names[i])\n",
    "        tmp = tmp.data.numpy().flatten()\n",
    "        tmp = set(tmp)\n",
    "        containedValues = containedValues.union(tmp)\n",
    "    \n",
    "    return list(containedValues)\n",
    "\n",
    "def replaceMaskValuesFromZeroToN(mask, \n",
    "                                 containedValues):\n",
    "\n",
    "    numberOfClasses = len(containedValues)\n",
    "    newMask = np.zeros(mask.shape)\n",
    "\n",
    "    for i in range(numberOfClasses):\n",
    "        newMask[mask == containedValues[i]] = i\n",
    "    \n",
    "    return newMask\n",
    "\n",
    "def convertMaskToPilAndSave(mask, \n",
    "                            saveTo):\n",
    "\n",
    "    imageSize = mask.squeeze().shape\n",
    "\n",
    "    im = PilImage.new('L',(imageSize[1],imageSize[0]))\n",
    "    im.putdata(mask.astype('uint8').ravel())\n",
    "    im.save(saveTo)\n",
    "\n",
    "def convertMasksToGrayscaleZeroToN(pathToLabels,\n",
    "                                   saveToPath):\n",
    "\n",
    "    label_names = get_image_files(pathToLabels)\n",
    "    containedValues = getClassValues(label_names)\n",
    "\n",
    "    for currentFile in label_names:\n",
    "        currentMask = open_mask(currentFile).data.numpy()\n",
    "        convertedMask = replaceMaskValuesFromZeroToN(currentMask, containedValues)\n",
    "        #convertMaskToPilAndSave(convertedMask, saveToPath/f'{currentFile.name}')\n",
    "        convertMaskToPilAndSave(convertedMask, saveToPath+str(currentFile.name))\n",
    "    \n",
    "    print('Conversion finished!')\n",
    "    \n",
    "pathToLabels = \"./train_model_images/train/labels/\"  #path_lbl = \"./train_model_images/train/labels/\" \n",
    "path_lbl = \"./train_model_images/train/codelabels/\" \n",
    "#convertMasksToGrayscaleZeroToN(pathToLabels, saveToPath)\n",
    "convertMasksToGrayscaleZeroToN(pathToLabels, path_lbl)"
   ]
  },
  {
   "cell_type": "code",
   "execution_count": 14,
   "metadata": {},
   "outputs": [
    {
     "data": {
      "image/png": "[encoded data removed]",
      "text/plain": [
       "<Figure size 360x360 with 1 Axes>"
      ]
     },
     "metadata": {
      "needs_background": "light"
     },
     "output_type": "display_data"
    }
   ],
   "source": [
    "#lbl_names = get_image_files(path_lbl)\n",
    "path_lbl = \"./train_model_images/train/codelabels/\" \n",
    "mask = open_mask(get_y_fn(img_f))\n",
    "mask.show(figsize=(5,5), alpha=1)"
   ]
  },
  {
   "cell_type": "code",
   "execution_count": 33,
   "metadata": {},
   "outputs": [
    {
     "data": {
      "text/plain": [
       "tensor([0, 0, 0, 0, 0, 0, 0, 0, 0, 0, 0, 0, 0, 0, 0, 0, 0, 0, 0, 0, 0, 0, 0, 0,\n",
       "        0, 0, 0, 0, 0, 0, 0, 0, 0, 0, 0, 0, 0, 0, 0, 0, 0, 0, 0, 0, 0, 0, 0, 0,\n",
       "        0, 0, 0, 0, 0, 0, 0, 0, 0, 0, 0, 0, 0, 0, 0, 0, 0, 0, 0, 0, 0, 0, 0, 0,\n",
       "        0, 0, 0, 0, 0, 0, 0, 0, 0, 0, 0, 0, 0, 0, 0, 0, 0, 0, 0, 0, 0, 0, 0, 0,\n",
       "        0, 0, 0, 0, 0, 0, 0, 0, 0, 0, 0, 0, 0, 0, 0, 0, 0, 0, 0, 0, 0, 0, 0, 0,\n",
       "        0, 0, 0, 0, 0, 0, 0, 0, 0, 0, 0, 0, 0, 0, 0, 0, 0, 0, 0, 0, 0, 0, 0, 0,\n",
       "        0, 0, 0, 0, 0, 0, 0, 0, 0, 0, 0, 0, 0, 0, 0, 0, 0, 0, 0, 0, 0, 0, 0, 0,\n",
       "        0, 0, 0, 0, 0, 0, 0, 0, 0, 0, 0, 0, 0, 0, 0, 0, 0, 0, 0, 0, 0, 0, 0, 0,\n",
       "        0, 0, 0, 0, 0, 0, 0, 0, 0, 0, 0, 0, 0, 0, 0, 0, 0, 0, 0, 0, 0, 0, 0, 0,\n",
       "        0, 0, 0, 1, 1, 1, 1, 1, 1, 1, 1, 0, 0, 0, 0, 0, 0, 0, 0, 0, 0, 0, 0, 0,\n",
       "        0, 0, 0, 0, 0, 0, 0, 0, 0, 0, 0, 0, 0, 0, 0, 0, 0, 0, 0, 0, 0, 0, 0, 0,\n",
       "        0, 0, 0, 0, 0, 0, 0, 0, 0, 0, 0, 0, 0, 0, 0, 0, 0, 0, 0, 0, 0, 0, 0, 0,\n",
       "        0, 0, 0, 0, 0, 0, 0, 0, 0, 0, 0, 0, 0, 0, 0, 0, 0, 0, 0, 0, 0, 0, 0, 0,\n",
       "        0, 0, 0, 0, 0, 0, 0, 0, 0, 0, 0, 0, 0, 0, 0, 0, 0, 0, 0, 0, 0, 0, 0, 0,\n",
       "        0, 0, 0, 0, 0, 0, 0, 0, 0, 0, 0, 0, 0, 0, 0, 0, 0, 0, 0, 0, 0, 0, 0, 0,\n",
       "        0, 0, 0, 0, 0, 0, 0, 0, 0, 0, 0, 0, 0, 1, 1, 1, 1, 1, 0, 0, 1, 1, 1, 1,\n",
       "        1, 1, 1, 1, 1, 1, 1, 1, 1, 1, 1, 1, 1, 1, 1, 1, 1, 1, 1, 1, 1, 1, 1, 1,\n",
       "        1, 1, 1, 1, 1, 1, 1, 1, 1, 1, 1, 1, 1, 1, 1, 1, 1, 1, 1, 1, 1, 1, 1, 0,\n",
       "        0, 0, 0, 0, 0, 0, 0, 0, 0, 0, 0, 0, 0, 0, 0, 0, 0, 0, 0, 0, 1, 1, 1, 1,\n",
       "        1, 1, 1, 1, 1, 1, 1, 1, 1, 1, 1, 1, 1, 0, 0, 0, 1, 1, 1, 1, 1, 1, 1, 0])"
      ]
     },
     "execution_count": 33,
     "metadata": {},
     "output_type": "execute_result"
    }
   ],
   "source": [
    "mask.data[0][160]"
   ]
  },
  {
   "cell_type": "code",
   "execution_count": 15,
   "metadata": {},
   "outputs": [],
   "source": [
    "# creating the data bunch for loading data\n",
    "\n",
    "# https://github.com/hiromis/notes/blob/master/Lesson3.md\n",
    "# https://github.com/fastai/course-v3/blob/master/nbs/dl1/lesson3-camvid.ipynb\n",
    "# https://github.com/fastai/fastai/blob/master/docs_src/data_block.ipynb    -> check here for all options\n",
    "\n",
    "\n",
    "src = (SegmentationItemList.from_folder(path_img)\n",
    "       # Where to find the data? -> in path_img and its subfolders\n",
    "       #.split_by_fname_file('../valid.txt')\n",
    "       .split_by_rand_pct(valid_pct=0.2, seed=None)\n",
    "        #How to split in train/valid? -> randomly with the default 20% in valid; since we don't have (& don't need) valid.txt\n",
    "       .label_from_func(get_y_fn, classes=codes))"
   ]
  },
  {
   "cell_type": "code",
   "execution_count": 16,
   "metadata": {},
   "outputs": [],
   "source": [
    "data = (src.transform(get_transforms(), size=size, tfm_y=True)\n",
    "        # size is half of input size, but are we converting it to fit some common input size for network?\n",
    "        # since we are transforming image, we also need to transform the pixel annotations ie the Y\n",
    "        .databunch(bs=bs)\n",
    "        .normalize(imagenet_stats))"
   ]
  },
  {
   "cell_type": "code",
   "execution_count": 20,
   "metadata": {},
   "outputs": [
    {
     "data": {
      "image/png": "[encoded data removed]",
      "text/plain": [
       "<Figure size 288x288 with 1 Axes>"
      ]
     },
     "metadata": {
      "needs_background": "light"
     },
     "output_type": "display_data"
    }
   ],
   "source": [
    "data.show_batch(1, figsize=(4,4))"
   ]
  },
  {
   "cell_type": "code",
   "execution_count": null,
   "metadata": {},
   "outputs": [],
   "source": [
    "#data.show_batch(2, figsize=(8,5), ds_type=DatasetType.Valid)"
   ]
  },
  {
   "cell_type": "code",
   "execution_count": null,
   "metadata": {},
   "outputs": [],
   "source": []
  },
  {
   "cell_type": "code",
   "execution_count": null,
   "metadata": {},
   "outputs": [],
   "source": [
    "#######################   MODEL BUILDING   ################################"
   ]
  },
  {
   "cell_type": "code",
   "execution_count": 28,
   "metadata": {},
   "outputs": [],
   "source": [
    "# defining accuracy metric for segmentation\n",
    "# no. of correctly classified pixels / #total number of pixels\n",
    "# void pixels, if present, need to be removed - hence a separate accuracy metric has been defined\n",
    "# NOT SURE IF ALL DATASETS HAVE VOID PIXELS (present on camvid data used in tutorial)\n",
    "\n",
    "name2id = {v:k for k,v in enumerate(codes)}\n",
    "# void_code = name2id['Void']\n",
    "if 'Void' in name2id.keys():\n",
    "    void_code = name2id['Void']  # commenting out for our data\n",
    "else:\n",
    "    void_code = len(name2id.keys())+1\n",
    "\n",
    "def acc_camvid(input, target):\n",
    "    target = target.squeeze(1)\n",
    "    mask = target != void_code  # commenting out for our data, but that gives error\n",
    "    #mask = target\n",
    "    return (input.argmax(dim=1)[mask]==target[mask]).float().mean()"
   ]
  },
  {
   "cell_type": "code",
   "execution_count": 22,
   "metadata": {},
   "outputs": [],
   "source": [
    "metrics=acc_camvid\n",
    "# metrics=accuracy"
   ]
  },
  {
   "cell_type": "code",
   "execution_count": 35,
   "metadata": {},
   "outputs": [],
   "source": [
    "def dice(input:Tensor, targs:Tensor, iou:bool=True)->Rank0Tensor:\n",
    "    \"Dice coefficient metric for binary target. If iou=True, returns iou metric, classic for segmentation problems.\"\n",
    "    n = targs.shape[0]\n",
    "    input = input.argmax(dim=1).view(n,-1)\n",
    "    targs = targs.view(n,-1)\n",
    "    intersect = (input*targs).sum().float()\n",
    "    union = (input+targs).sum().float()\n",
    "    if not iou: return 2. * intersect / union\n",
    "    else: return intersect / (union-intersect+1.0)\n",
    "    \n",
    "metrics = dice"
   ]
  },
  {
   "cell_type": "code",
   "execution_count": 36,
   "metadata": {},
   "outputs": [],
   "source": [
    "learn = unet_learner(data, models.resnet34, metrics=metrics)"
   ]
  },
  {
   "cell_type": "code",
   "execution_count": null,
   "metadata": {},
   "outputs": [],
   "source": []
  },
  {
   "cell_type": "code",
   "execution_count": 38,
   "metadata": {},
   "outputs": [
    {
     "data": {
      "text/html": [
       "\n",
       "    <div>\n",
       "        <style>\n",
       "            /* Turns off some styling */\n",
       "            progress {\n",
       "                /* gets rid of default border in Firefox and Opera. */\n",
       "                border: none;\n",
       "                /* Needs to be in here for Safari polyfill so background images work as expected. */\n",
       "                background-size: auto;\n",
       "            }\n",
       "            .progress-bar-interrupted, .progress-bar-interrupted::-webkit-progress-bar {\n",
       "                background: #F44336;\n",
       "            }\n",
       "        </style>\n",
       "      <progress value='3' class='' max='5', style='width:300px; height:20px; vertical-align: middle;'></progress>\n",
       "      60.00% [3/5 13:15<08:50]\n",
       "    </div>\n",
       "    \n",
       "<table border=\"1\" class=\"dataframe\">\n",
       "  <thead>\n",
       "    <tr style=\"text-align: left;\">\n",
       "      <th>epoch</th>\n",
       "      <th>train_loss</th>\n",
       "      <th>valid_loss</th>\n",
       "      <th>acc_camvid</th>\n",
       "      <th>time</th>\n",
       "    </tr>\n",
       "  </thead>\n",
       "  <tbody>\n",
       "    <tr>\n",
       "      <td>0</td>\n",
       "      <td>0.474503</td>\n",
       "      <td>#na#</td>\n",
       "      <td>04:25</td>\n",
       "    </tr>\n",
       "    <tr>\n",
       "      <td>1</td>\n",
       "      <td>0.271200</td>\n",
       "      <td>#na#</td>\n",
       "      <td>04:17</td>\n",
       "    </tr>\n",
       "    <tr>\n",
       "      <td>2</td>\n",
       "      <td>0.775590</td>\n",
       "      <td>#na#</td>\n",
       "      <td>04:31</td>\n",
       "    </tr>\n",
       "  </tbody>\n",
       "</table><p>\n",
       "\n",
       "    <div>\n",
       "        <style>\n",
       "            /* Turns off some styling */\n",
       "            progress {\n",
       "                /* gets rid of default border in Firefox and Opera. */\n",
       "                border: none;\n",
       "                /* Needs to be in here for Safari polyfill so background images work as expected. */\n",
       "                background-size: auto;\n",
       "            }\n",
       "            .progress-bar-interrupted, .progress-bar-interrupted::-webkit-progress-bar {\n",
       "                background: #F44336;\n",
       "            }\n",
       "        </style>\n",
       "      <progress value='1' class='' max='23', style='width:300px; height:20px; vertical-align: middle;'></progress>\n",
       "      4.35% [1/23 00:37<13:55 0.7675]\n",
       "    </div>\n",
       "    "
      ],
      "text/plain": [
       "<IPython.core.display.HTML object>"
      ]
     },
     "metadata": {},
     "output_type": "display_data"
    },
    {
     "name": "stdout",
     "output_type": "stream",
     "text": [
      "LR Finder is complete, type {learner_name}.recorder.plot() to see the graph.\n"
     ]
    },
    {
     "data": {
      "image/png": "[encoded data removed]",
      "text/plain": [
       "<Figure size 432x288 with 1 Axes>"
      ]
     },
     "metadata": {
      "needs_background": "light"
     },
     "output_type": "display_data"
    }
   ],
   "source": [
    "'''\n",
    "# run 1, bs = 4, metrics= acc_camvid\n",
    "lr_find(learn)\n",
    "learn.recorder.plot()"
   ]
  },
  {
   "cell_type": "code",
   "execution_count": 30,
   "metadata": {},
   "outputs": [
    {
     "data": {
      "text/html": [
       "\n",
       "    <div>\n",
       "        <style>\n",
       "            /* Turns off some styling */\n",
       "            progress {\n",
       "                /* gets rid of default border in Firefox and Opera. */\n",
       "                border: none;\n",
       "                /* Needs to be in here for Safari polyfill so background images work as expected. */\n",
       "                background-size: auto;\n",
       "            }\n",
       "            .progress-bar-interrupted, .progress-bar-interrupted::-webkit-progress-bar {\n",
       "                background: #F44336;\n",
       "            }\n",
       "        </style>\n",
       "      <progress value='1' class='' max='3', style='width:300px; height:20px; vertical-align: middle;'></progress>\n",
       "      33.33% [1/3 04:40<09:20]\n",
       "    </div>\n",
       "    \n",
       "<table border=\"1\" class=\"dataframe\">\n",
       "  <thead>\n",
       "    <tr style=\"text-align: left;\">\n",
       "      <th>epoch</th>\n",
       "      <th>train_loss</th>\n",
       "      <th>valid_loss</th>\n",
       "      <th>acc_camvid</th>\n",
       "      <th>time</th>\n",
       "    </tr>\n",
       "  </thead>\n",
       "  <tbody>\n",
       "    <tr>\n",
       "      <td>0</td>\n",
       "      <td>0.201638</td>\n",
       "      <td>#na#</td>\n",
       "      <td>04:40</td>\n",
       "    </tr>\n",
       "  </tbody>\n",
       "</table><p>\n",
       "\n",
       "    <div>\n",
       "        <style>\n",
       "            /* Turns off some styling */\n",
       "            progress {\n",
       "                /* gets rid of default border in Firefox and Opera. */\n",
       "                border: none;\n",
       "                /* Needs to be in here for Safari polyfill so background images work as expected. */\n",
       "                background-size: auto;\n",
       "            }\n",
       "            .progress-bar-interrupted, .progress-bar-interrupted::-webkit-progress-bar {\n",
       "                background: #F44336;\n",
       "            }\n",
       "        </style>\n",
       "      <progress value='21' class='' max='47', style='width:300px; height:20px; vertical-align: middle;'></progress>\n",
       "      44.68% [21/47 02:36<03:13 0.2348]\n",
       "    </div>\n",
       "    "
      ],
      "text/plain": [
       "<IPython.core.display.HTML object>"
      ]
     },
     "metadata": {},
     "output_type": "display_data"
    },
    {
     "name": "stdout",
     "output_type": "stream",
     "text": [
      "LR Finder is complete, type {learner_name}.recorder.plot() to see the graph.\n"
     ]
    },
    {
     "data": {
      "image/png": "[encoded data removed]",
      "text/plain": [
       "<Figure size 432x288 with 1 Axes>"
      ]
     },
     "metadata": {
      "needs_background": "light"
     },
     "output_type": "display_data"
    }
   ],
   "source": [
    "# run 2, bs = 2, metrics=acc_camvid\n",
    "lr_find(learn)\n",
    "learn.recorder.plot()"
   ]
  },
  {
   "cell_type": "code",
   "execution_count": null,
   "metadata": {},
   "outputs": [],
   "source": []
  },
  {
   "cell_type": "code",
   "execution_count": 31,
   "metadata": {},
   "outputs": [
    {
     "name": "stdout",
     "output_type": "stream",
     "text": [
      "0.0001\n"
     ]
    }
   ],
   "source": [
    "# default lr\n",
    "print(lr)"
   ]
  },
  {
   "cell_type": "code",
   "execution_count": 32,
   "metadata": {},
   "outputs": [
    {
     "data": {
      "text/plain": [
       "6178"
      ]
     },
     "execution_count": 32,
     "metadata": {},
     "output_type": "execute_result"
    },
    {
     "data": {
      "text/html": [
       "\n",
       "    <div>\n",
       "        <style>\n",
       "            /* Turns off some styling */\n",
       "            progress {\n",
       "                /* gets rid of default border in Firefox and Opera. */\n",
       "                border: none;\n",
       "                /* Needs to be in here for Safari polyfill so background images work as expected. */\n",
       "                background-size: auto;\n",
       "            }\n",
       "            .progress-bar-interrupted, .progress-bar-interrupted::-webkit-progress-bar {\n",
       "                background: #F44336;\n",
       "            }\n",
       "        </style>\n",
       "      <progress value='0' class='' max='5', style='width:300px; height:20px; vertical-align: middle;'></progress>\n",
       "      0.00% [0/5 00:00<00:00]\n",
       "    </div>\n",
       "    \n",
       "<table border=\"1\" class=\"dataframe\">\n",
       "  <thead>\n",
       "    <tr style=\"text-align: left;\">\n",
       "      <th>epoch</th>\n",
       "      <th>train_loss</th>\n",
       "      <th>valid_loss</th>\n",
       "      <th>acc_camvid</th>\n",
       "      <th>time</th>\n",
       "    </tr>\n",
       "  </thead>\n",
       "  <tbody>\n",
       "  </tbody>\n",
       "</table><p>\n",
       "\n",
       "    <div>\n",
       "        <style>\n",
       "            /* Turns off some styling */\n",
       "            progress {\n",
       "                /* gets rid of default border in Firefox and Opera. */\n",
       "                border: none;\n",
       "                /* Needs to be in here for Safari polyfill so background images work as expected. */\n",
       "                background-size: auto;\n",
       "            }\n",
       "            .progress-bar-interrupted, .progress-bar-interrupted::-webkit-progress-bar {\n",
       "                background: #F44336;\n",
       "            }\n",
       "        </style>\n",
       "      <progress value='0' class='' max='12', style='width:300px; height:20px; vertical-align: middle;'></progress>\n",
       "      0.00% [0/12 00:00<00:00]\n",
       "    </div>\n",
       "    "
      ],
      "text/plain": [
       "<IPython.core.display.HTML object>"
      ]
     },
     "metadata": {},
     "output_type": "display_data"
    },
    {
     "ename": "RuntimeError",
     "evalue": "[enforce fail at ..\\c10\\core\\CPUAllocator.cpp:72] data. DefaultCPUAllocator: not enough memory: you tried to allocate 23592960000 bytes. Buy new RAM!\n",
     "output_type": "error",
     "traceback": [
      "\u001b[1;31m---------------------------------------------------------------------------\u001b[0m",
      "\u001b[1;31mRuntimeError\u001b[0m                              Traceback (most recent call last)",
      "\u001b[1;32m<ipython-input-32-b9e68bd11739>\u001b[0m in \u001b[0;36m<module>\u001b[1;34m\u001b[0m\n\u001b[0;32m      3\u001b[0m \u001b[1;33m\u001b[0m\u001b[0m\n\u001b[0;32m      4\u001b[0m \u001b[0mlr\u001b[0m\u001b[1;33m=\u001b[0m\u001b[1;36m1e-03\u001b[0m\u001b[1;33m\u001b[0m\u001b[1;33m\u001b[0m\u001b[0m\n\u001b[1;32m----> 5\u001b[1;33m \u001b[0mlearn\u001b[0m\u001b[1;33m.\u001b[0m\u001b[0mfit_one_cycle\u001b[0m\u001b[1;33m(\u001b[0m\u001b[1;36m5\u001b[0m\u001b[1;33m,\u001b[0m \u001b[0mslice\u001b[0m\u001b[1;33m(\u001b[0m\u001b[0mlr\u001b[0m\u001b[1;33m)\u001b[0m\u001b[1;33m)\u001b[0m\u001b[1;33m\u001b[0m\u001b[1;33m\u001b[0m\u001b[0m\n\u001b[0m",
      "\u001b[1;32m~\\AppData\\Local\\Continuum\\anaconda3\\envs\\fastai_py37\\lib\\site-packages\\fastai\\train.py\u001b[0m in \u001b[0;36mfit_one_cycle\u001b[1;34m(learn, cyc_len, max_lr, moms, div_factor, pct_start, final_div, wd, callbacks, tot_epochs, start_epoch)\u001b[0m\n\u001b[0;32m     21\u001b[0m     callbacks.append(OneCycleScheduler(learn, max_lr, moms=moms, div_factor=div_factor, pct_start=pct_start,\n\u001b[0;32m     22\u001b[0m                                        final_div=final_div, tot_epochs=tot_epochs, start_epoch=start_epoch))\n\u001b[1;32m---> 23\u001b[1;33m     \u001b[0mlearn\u001b[0m\u001b[1;33m.\u001b[0m\u001b[0mfit\u001b[0m\u001b[1;33m(\u001b[0m\u001b[0mcyc_len\u001b[0m\u001b[1;33m,\u001b[0m \u001b[0mmax_lr\u001b[0m\u001b[1;33m,\u001b[0m \u001b[0mwd\u001b[0m\u001b[1;33m=\u001b[0m\u001b[0mwd\u001b[0m\u001b[1;33m,\u001b[0m \u001b[0mcallbacks\u001b[0m\u001b[1;33m=\u001b[0m\u001b[0mcallbacks\u001b[0m\u001b[1;33m)\u001b[0m\u001b[1;33m\u001b[0m\u001b[1;33m\u001b[0m\u001b[0m\n\u001b[0m\u001b[0;32m     24\u001b[0m \u001b[1;33m\u001b[0m\u001b[0m\n\u001b[0;32m     25\u001b[0m def fit_fc(learn:Learner, tot_epochs:int=1, lr:float=defaults.lr,  moms:Tuple[float,float]=(0.95,0.85), start_pct:float=0.72,\n",
      "\u001b[1;32m~\\AppData\\Local\\Continuum\\anaconda3\\envs\\fastai_py37\\lib\\site-packages\\fastai\\basic_train.py\u001b[0m in \u001b[0;36mfit\u001b[1;34m(self, epochs, lr, wd, callbacks)\u001b[0m\n\u001b[0;32m    198\u001b[0m         \u001b[1;32melse\u001b[0m\u001b[1;33m:\u001b[0m \u001b[0mself\u001b[0m\u001b[1;33m.\u001b[0m\u001b[0mopt\u001b[0m\u001b[1;33m.\u001b[0m\u001b[0mlr\u001b[0m\u001b[1;33m,\u001b[0m\u001b[0mself\u001b[0m\u001b[1;33m.\u001b[0m\u001b[0mopt\u001b[0m\u001b[1;33m.\u001b[0m\u001b[0mwd\u001b[0m \u001b[1;33m=\u001b[0m \u001b[0mlr\u001b[0m\u001b[1;33m,\u001b[0m\u001b[0mwd\u001b[0m\u001b[1;33m\u001b[0m\u001b[1;33m\u001b[0m\u001b[0m\n\u001b[0;32m    199\u001b[0m         \u001b[0mcallbacks\u001b[0m \u001b[1;33m=\u001b[0m \u001b[1;33m[\u001b[0m\u001b[0mcb\u001b[0m\u001b[1;33m(\u001b[0m\u001b[0mself\u001b[0m\u001b[1;33m)\u001b[0m \u001b[1;32mfor\u001b[0m \u001b[0mcb\u001b[0m \u001b[1;32min\u001b[0m \u001b[0mself\u001b[0m\u001b[1;33m.\u001b[0m\u001b[0mcallback_fns\u001b[0m \u001b[1;33m+\u001b[0m \u001b[0mlistify\u001b[0m\u001b[1;33m(\u001b[0m\u001b[0mdefaults\u001b[0m\u001b[1;33m.\u001b[0m\u001b[0mextra_callback_fns\u001b[0m\u001b[1;33m)\u001b[0m\u001b[1;33m]\u001b[0m \u001b[1;33m+\u001b[0m \u001b[0mlistify\u001b[0m\u001b[1;33m(\u001b[0m\u001b[0mcallbacks\u001b[0m\u001b[1;33m)\u001b[0m\u001b[1;33m\u001b[0m\u001b[1;33m\u001b[0m\u001b[0m\n\u001b[1;32m--> 200\u001b[1;33m         \u001b[0mfit\u001b[0m\u001b[1;33m(\u001b[0m\u001b[0mepochs\u001b[0m\u001b[1;33m,\u001b[0m \u001b[0mself\u001b[0m\u001b[1;33m,\u001b[0m \u001b[0mmetrics\u001b[0m\u001b[1;33m=\u001b[0m\u001b[0mself\u001b[0m\u001b[1;33m.\u001b[0m\u001b[0mmetrics\u001b[0m\u001b[1;33m,\u001b[0m \u001b[0mcallbacks\u001b[0m\u001b[1;33m=\u001b[0m\u001b[0mself\u001b[0m\u001b[1;33m.\u001b[0m\u001b[0mcallbacks\u001b[0m\u001b[1;33m+\u001b[0m\u001b[0mcallbacks\u001b[0m\u001b[1;33m)\u001b[0m\u001b[1;33m\u001b[0m\u001b[1;33m\u001b[0m\u001b[0m\n\u001b[0m\u001b[0;32m    201\u001b[0m \u001b[1;33m\u001b[0m\u001b[0m\n\u001b[0;32m    202\u001b[0m     \u001b[1;32mdef\u001b[0m \u001b[0mcreate_opt\u001b[0m\u001b[1;33m(\u001b[0m\u001b[0mself\u001b[0m\u001b[1;33m,\u001b[0m \u001b[0mlr\u001b[0m\u001b[1;33m:\u001b[0m\u001b[0mFloats\u001b[0m\u001b[1;33m,\u001b[0m \u001b[0mwd\u001b[0m\u001b[1;33m:\u001b[0m\u001b[0mFloats\u001b[0m\u001b[1;33m=\u001b[0m\u001b[1;36m0.\u001b[0m\u001b[1;33m)\u001b[0m\u001b[1;33m->\u001b[0m\u001b[1;32mNone\u001b[0m\u001b[1;33m:\u001b[0m\u001b[1;33m\u001b[0m\u001b[1;33m\u001b[0m\u001b[0m\n",
      "\u001b[1;32m~\\AppData\\Local\\Continuum\\anaconda3\\envs\\fastai_py37\\lib\\site-packages\\fastai\\basic_train.py\u001b[0m in \u001b[0;36mfit\u001b[1;34m(epochs, learn, callbacks, metrics)\u001b[0m\n\u001b[0;32m    104\u001b[0m             \u001b[1;32mif\u001b[0m \u001b[1;32mnot\u001b[0m \u001b[0mcb_handler\u001b[0m\u001b[1;33m.\u001b[0m\u001b[0mskip_validate\u001b[0m \u001b[1;32mand\u001b[0m \u001b[1;32mnot\u001b[0m \u001b[0mlearn\u001b[0m\u001b[1;33m.\u001b[0m\u001b[0mdata\u001b[0m\u001b[1;33m.\u001b[0m\u001b[0mempty_val\u001b[0m\u001b[1;33m:\u001b[0m\u001b[1;33m\u001b[0m\u001b[1;33m\u001b[0m\u001b[0m\n\u001b[0;32m    105\u001b[0m                 val_loss = validate(learn.model, learn.data.valid_dl, loss_func=learn.loss_func,\n\u001b[1;32m--> 106\u001b[1;33m                                        cb_handler=cb_handler, pbar=pbar)\n\u001b[0m\u001b[0;32m    107\u001b[0m             \u001b[1;32melse\u001b[0m\u001b[1;33m:\u001b[0m \u001b[0mval_loss\u001b[0m\u001b[1;33m=\u001b[0m\u001b[1;32mNone\u001b[0m\u001b[1;33m\u001b[0m\u001b[1;33m\u001b[0m\u001b[0m\n\u001b[0;32m    108\u001b[0m             \u001b[1;32mif\u001b[0m \u001b[0mcb_handler\u001b[0m\u001b[1;33m.\u001b[0m\u001b[0mon_epoch_end\u001b[0m\u001b[1;33m(\u001b[0m\u001b[0mval_loss\u001b[0m\u001b[1;33m)\u001b[0m\u001b[1;33m:\u001b[0m \u001b[1;32mbreak\u001b[0m\u001b[1;33m\u001b[0m\u001b[1;33m\u001b[0m\u001b[0m\n",
      "\u001b[1;32m~\\AppData\\Local\\Continuum\\anaconda3\\envs\\fastai_py37\\lib\\site-packages\\fastai\\basic_train.py\u001b[0m in \u001b[0;36mvalidate\u001b[1;34m(model, dl, loss_func, cb_handler, pbar, average, n_batch)\u001b[0m\n\u001b[0;32m     61\u001b[0m             \u001b[1;32mif\u001b[0m \u001b[1;32mnot\u001b[0m \u001b[0mis_listy\u001b[0m\u001b[1;33m(\u001b[0m\u001b[0myb\u001b[0m\u001b[1;33m)\u001b[0m\u001b[1;33m:\u001b[0m \u001b[0myb\u001b[0m \u001b[1;33m=\u001b[0m \u001b[1;33m[\u001b[0m\u001b[0myb\u001b[0m\u001b[1;33m]\u001b[0m\u001b[1;33m\u001b[0m\u001b[1;33m\u001b[0m\u001b[0m\n\u001b[0;32m     62\u001b[0m             \u001b[0mnums\u001b[0m\u001b[1;33m.\u001b[0m\u001b[0mappend\u001b[0m\u001b[1;33m(\u001b[0m\u001b[0mfirst_el\u001b[0m\u001b[1;33m(\u001b[0m\u001b[0myb\u001b[0m\u001b[1;33m)\u001b[0m\u001b[1;33m.\u001b[0m\u001b[0mshape\u001b[0m\u001b[1;33m[\u001b[0m\u001b[1;36m0\u001b[0m\u001b[1;33m]\u001b[0m\u001b[1;33m)\u001b[0m\u001b[1;33m\u001b[0m\u001b[1;33m\u001b[0m\u001b[0m\n\u001b[1;32m---> 63\u001b[1;33m             \u001b[1;32mif\u001b[0m \u001b[0mcb_handler\u001b[0m \u001b[1;32mand\u001b[0m \u001b[0mcb_handler\u001b[0m\u001b[1;33m.\u001b[0m\u001b[0mon_batch_end\u001b[0m\u001b[1;33m(\u001b[0m\u001b[0mval_losses\u001b[0m\u001b[1;33m[\u001b[0m\u001b[1;33m-\u001b[0m\u001b[1;36m1\u001b[0m\u001b[1;33m]\u001b[0m\u001b[1;33m)\u001b[0m\u001b[1;33m:\u001b[0m \u001b[1;32mbreak\u001b[0m\u001b[1;33m\u001b[0m\u001b[1;33m\u001b[0m\u001b[0m\n\u001b[0m\u001b[0;32m     64\u001b[0m             \u001b[1;32mif\u001b[0m \u001b[0mn_batch\u001b[0m \u001b[1;32mand\u001b[0m \u001b[1;33m(\u001b[0m\u001b[0mlen\u001b[0m\u001b[1;33m(\u001b[0m\u001b[0mnums\u001b[0m\u001b[1;33m)\u001b[0m\u001b[1;33m>=\u001b[0m\u001b[0mn_batch\u001b[0m\u001b[1;33m)\u001b[0m\u001b[1;33m:\u001b[0m \u001b[1;32mbreak\u001b[0m\u001b[1;33m\u001b[0m\u001b[1;33m\u001b[0m\u001b[0m\n\u001b[0;32m     65\u001b[0m         \u001b[0mnums\u001b[0m \u001b[1;33m=\u001b[0m \u001b[0mnp\u001b[0m\u001b[1;33m.\u001b[0m\u001b[0marray\u001b[0m\u001b[1;33m(\u001b[0m\u001b[0mnums\u001b[0m\u001b[1;33m,\u001b[0m \u001b[0mdtype\u001b[0m\u001b[1;33m=\u001b[0m\u001b[0mnp\u001b[0m\u001b[1;33m.\u001b[0m\u001b[0mfloat32\u001b[0m\u001b[1;33m)\u001b[0m\u001b[1;33m\u001b[0m\u001b[1;33m\u001b[0m\u001b[0m\n",
      "\u001b[1;32m~\\AppData\\Local\\Continuum\\anaconda3\\envs\\fastai_py37\\lib\\site-packages\\fastai\\callback.py\u001b[0m in \u001b[0;36mon_batch_end\u001b[1;34m(self, loss)\u001b[0m\n\u001b[0;32m    306\u001b[0m         \u001b[1;34m\"Handle end of processing one batch with `loss`.\"\u001b[0m\u001b[1;33m\u001b[0m\u001b[1;33m\u001b[0m\u001b[0m\n\u001b[0;32m    307\u001b[0m         \u001b[0mself\u001b[0m\u001b[1;33m.\u001b[0m\u001b[0mstate_dict\u001b[0m\u001b[1;33m[\u001b[0m\u001b[1;34m'last_loss'\u001b[0m\u001b[1;33m]\u001b[0m \u001b[1;33m=\u001b[0m \u001b[0mloss\u001b[0m\u001b[1;33m\u001b[0m\u001b[1;33m\u001b[0m\u001b[0m\n\u001b[1;32m--> 308\u001b[1;33m         \u001b[0mself\u001b[0m\u001b[1;33m(\u001b[0m\u001b[1;34m'batch_end'\u001b[0m\u001b[1;33m,\u001b[0m \u001b[0mcall_mets\u001b[0m \u001b[1;33m=\u001b[0m \u001b[1;32mnot\u001b[0m \u001b[0mself\u001b[0m\u001b[1;33m.\u001b[0m\u001b[0mstate_dict\u001b[0m\u001b[1;33m[\u001b[0m\u001b[1;34m'train'\u001b[0m\u001b[1;33m]\u001b[0m\u001b[1;33m)\u001b[0m\u001b[1;33m\u001b[0m\u001b[1;33m\u001b[0m\u001b[0m\n\u001b[0m\u001b[0;32m    309\u001b[0m         \u001b[1;32mif\u001b[0m \u001b[0mself\u001b[0m\u001b[1;33m.\u001b[0m\u001b[0mstate_dict\u001b[0m\u001b[1;33m[\u001b[0m\u001b[1;34m'train'\u001b[0m\u001b[1;33m]\u001b[0m\u001b[1;33m:\u001b[0m\u001b[1;33m\u001b[0m\u001b[1;33m\u001b[0m\u001b[0m\n\u001b[0;32m    310\u001b[0m             \u001b[0mself\u001b[0m\u001b[1;33m.\u001b[0m\u001b[0mstate_dict\u001b[0m\u001b[1;33m[\u001b[0m\u001b[1;34m'iteration'\u001b[0m\u001b[1;33m]\u001b[0m \u001b[1;33m+=\u001b[0m \u001b[1;36m1\u001b[0m\u001b[1;33m\u001b[0m\u001b[1;33m\u001b[0m\u001b[0m\n",
      "\u001b[1;32m~\\AppData\\Local\\Continuum\\anaconda3\\envs\\fastai_py37\\lib\\site-packages\\fastai\\callback.py\u001b[0m in \u001b[0;36m__call__\u001b[1;34m(self, cb_name, call_mets, **kwargs)\u001b[0m\n\u001b[0;32m    248\u001b[0m         \u001b[1;34m\"Call through to all of the `CallbakHandler` functions.\"\u001b[0m\u001b[1;33m\u001b[0m\u001b[1;33m\u001b[0m\u001b[0m\n\u001b[0;32m    249\u001b[0m         \u001b[1;32mif\u001b[0m \u001b[0mcall_mets\u001b[0m\u001b[1;33m:\u001b[0m\u001b[1;33m\u001b[0m\u001b[1;33m\u001b[0m\u001b[0m\n\u001b[1;32m--> 250\u001b[1;33m             \u001b[1;32mfor\u001b[0m \u001b[0mmet\u001b[0m \u001b[1;32min\u001b[0m \u001b[0mself\u001b[0m\u001b[1;33m.\u001b[0m\u001b[0mmetrics\u001b[0m\u001b[1;33m:\u001b[0m \u001b[0mself\u001b[0m\u001b[1;33m.\u001b[0m\u001b[0m_call_and_update\u001b[0m\u001b[1;33m(\u001b[0m\u001b[0mmet\u001b[0m\u001b[1;33m,\u001b[0m \u001b[0mcb_name\u001b[0m\u001b[1;33m,\u001b[0m \u001b[1;33m**\u001b[0m\u001b[0mkwargs\u001b[0m\u001b[1;33m)\u001b[0m\u001b[1;33m\u001b[0m\u001b[1;33m\u001b[0m\u001b[0m\n\u001b[0m\u001b[0;32m    251\u001b[0m         \u001b[1;32mfor\u001b[0m \u001b[0mcb\u001b[0m \u001b[1;32min\u001b[0m \u001b[0mself\u001b[0m\u001b[1;33m.\u001b[0m\u001b[0mcallbacks\u001b[0m\u001b[1;33m:\u001b[0m \u001b[0mself\u001b[0m\u001b[1;33m.\u001b[0m\u001b[0m_call_and_update\u001b[0m\u001b[1;33m(\u001b[0m\u001b[0mcb\u001b[0m\u001b[1;33m,\u001b[0m \u001b[0mcb_name\u001b[0m\u001b[1;33m,\u001b[0m \u001b[1;33m**\u001b[0m\u001b[0mkwargs\u001b[0m\u001b[1;33m)\u001b[0m\u001b[1;33m\u001b[0m\u001b[1;33m\u001b[0m\u001b[0m\n\u001b[0;32m    252\u001b[0m \u001b[1;33m\u001b[0m\u001b[0m\n",
      "\u001b[1;32m~\\AppData\\Local\\Continuum\\anaconda3\\envs\\fastai_py37\\lib\\site-packages\\fastai\\callback.py\u001b[0m in \u001b[0;36m_call_and_update\u001b[1;34m(self, cb, cb_name, **kwargs)\u001b[0m\n\u001b[0;32m    239\u001b[0m     \u001b[1;32mdef\u001b[0m \u001b[0m_call_and_update\u001b[0m\u001b[1;33m(\u001b[0m\u001b[0mself\u001b[0m\u001b[1;33m,\u001b[0m \u001b[0mcb\u001b[0m\u001b[1;33m,\u001b[0m \u001b[0mcb_name\u001b[0m\u001b[1;33m,\u001b[0m \u001b[1;33m**\u001b[0m\u001b[0mkwargs\u001b[0m\u001b[1;33m)\u001b[0m\u001b[1;33m->\u001b[0m\u001b[1;32mNone\u001b[0m\u001b[1;33m:\u001b[0m\u001b[1;33m\u001b[0m\u001b[1;33m\u001b[0m\u001b[0m\n\u001b[0;32m    240\u001b[0m         \u001b[1;34m\"Call `cb_name` on `cb` and update the inner state.\"\u001b[0m\u001b[1;33m\u001b[0m\u001b[1;33m\u001b[0m\u001b[0m\n\u001b[1;32m--> 241\u001b[1;33m         \u001b[0mnew\u001b[0m \u001b[1;33m=\u001b[0m \u001b[0mifnone\u001b[0m\u001b[1;33m(\u001b[0m\u001b[0mgetattr\u001b[0m\u001b[1;33m(\u001b[0m\u001b[0mcb\u001b[0m\u001b[1;33m,\u001b[0m \u001b[1;34mf'on_{cb_name}'\u001b[0m\u001b[1;33m)\u001b[0m\u001b[1;33m(\u001b[0m\u001b[1;33m**\u001b[0m\u001b[0mself\u001b[0m\u001b[1;33m.\u001b[0m\u001b[0mstate_dict\u001b[0m\u001b[1;33m,\u001b[0m \u001b[1;33m**\u001b[0m\u001b[0mkwargs\u001b[0m\u001b[1;33m)\u001b[0m\u001b[1;33m,\u001b[0m \u001b[0mdict\u001b[0m\u001b[1;33m(\u001b[0m\u001b[1;33m)\u001b[0m\u001b[1;33m)\u001b[0m\u001b[1;33m\u001b[0m\u001b[1;33m\u001b[0m\u001b[0m\n\u001b[0m\u001b[0;32m    242\u001b[0m         \u001b[1;32mfor\u001b[0m \u001b[0mk\u001b[0m\u001b[1;33m,\u001b[0m\u001b[0mv\u001b[0m \u001b[1;32min\u001b[0m \u001b[0mnew\u001b[0m\u001b[1;33m.\u001b[0m\u001b[0mitems\u001b[0m\u001b[1;33m(\u001b[0m\u001b[1;33m)\u001b[0m\u001b[1;33m:\u001b[0m\u001b[1;33m\u001b[0m\u001b[1;33m\u001b[0m\u001b[0m\n\u001b[0;32m    243\u001b[0m             \u001b[1;32mif\u001b[0m \u001b[0mk\u001b[0m \u001b[1;32mnot\u001b[0m \u001b[1;32min\u001b[0m \u001b[0mself\u001b[0m\u001b[1;33m.\u001b[0m\u001b[0mstate_dict\u001b[0m\u001b[1;33m:\u001b[0m\u001b[1;33m\u001b[0m\u001b[1;33m\u001b[0m\u001b[0m\n",
      "\u001b[1;32m~\\AppData\\Local\\Continuum\\anaconda3\\envs\\fastai_py37\\lib\\site-packages\\fastai\\callback.py\u001b[0m in \u001b[0;36mon_batch_end\u001b[1;34m(self, last_output, last_target, **kwargs)\u001b[0m\n\u001b[0;32m    342\u001b[0m         \u001b[1;32mif\u001b[0m \u001b[1;32mnot\u001b[0m \u001b[0mis_listy\u001b[0m\u001b[1;33m(\u001b[0m\u001b[0mlast_target\u001b[0m\u001b[1;33m)\u001b[0m\u001b[1;33m:\u001b[0m \u001b[0mlast_target\u001b[0m\u001b[1;33m=\u001b[0m\u001b[1;33m[\u001b[0m\u001b[0mlast_target\u001b[0m\u001b[1;33m]\u001b[0m\u001b[1;33m\u001b[0m\u001b[1;33m\u001b[0m\u001b[0m\n\u001b[0;32m    343\u001b[0m         \u001b[0mself\u001b[0m\u001b[1;33m.\u001b[0m\u001b[0mcount\u001b[0m \u001b[1;33m+=\u001b[0m \u001b[0mfirst_el\u001b[0m\u001b[1;33m(\u001b[0m\u001b[0mlast_target\u001b[0m\u001b[1;33m)\u001b[0m\u001b[1;33m.\u001b[0m\u001b[0msize\u001b[0m\u001b[1;33m(\u001b[0m\u001b[1;36m0\u001b[0m\u001b[1;33m)\u001b[0m\u001b[1;33m\u001b[0m\u001b[1;33m\u001b[0m\u001b[0m\n\u001b[1;32m--> 344\u001b[1;33m         \u001b[0mval\u001b[0m \u001b[1;33m=\u001b[0m \u001b[0mself\u001b[0m\u001b[1;33m.\u001b[0m\u001b[0mfunc\u001b[0m\u001b[1;33m(\u001b[0m\u001b[0mlast_output\u001b[0m\u001b[1;33m,\u001b[0m \u001b[1;33m*\u001b[0m\u001b[0mlast_target\u001b[0m\u001b[1;33m)\u001b[0m\u001b[1;33m\u001b[0m\u001b[1;33m\u001b[0m\u001b[0m\n\u001b[0m\u001b[0;32m    345\u001b[0m         \u001b[1;32mif\u001b[0m \u001b[0mself\u001b[0m\u001b[1;33m.\u001b[0m\u001b[0mworld\u001b[0m\u001b[1;33m:\u001b[0m\u001b[1;33m\u001b[0m\u001b[1;33m\u001b[0m\u001b[0m\n\u001b[0;32m    346\u001b[0m             \u001b[0mval\u001b[0m \u001b[1;33m=\u001b[0m \u001b[0mval\u001b[0m\u001b[1;33m.\u001b[0m\u001b[0mclone\u001b[0m\u001b[1;33m(\u001b[0m\u001b[1;33m)\u001b[0m\u001b[1;33m\u001b[0m\u001b[1;33m\u001b[0m\u001b[0m\n",
      "\u001b[1;32m<ipython-input-21-7c6e68457d4c>\u001b[0m in \u001b[0;36macc_camvid\u001b[1;34m(input, target)\u001b[0m\n\u001b[0;32m     11\u001b[0m     \u001b[1;31m#mask = target != void_code  # commenting out for our data\u001b[0m\u001b[1;33m\u001b[0m\u001b[1;33m\u001b[0m\u001b[1;33m\u001b[0m\u001b[0m\n\u001b[0;32m     12\u001b[0m     \u001b[0mmask\u001b[0m \u001b[1;33m=\u001b[0m \u001b[0mtarget\u001b[0m\u001b[1;33m\u001b[0m\u001b[1;33m\u001b[0m\u001b[0m\n\u001b[1;32m---> 13\u001b[1;33m     \u001b[1;32mreturn\u001b[0m \u001b[1;33m(\u001b[0m\u001b[0minput\u001b[0m\u001b[1;33m.\u001b[0m\u001b[0margmax\u001b[0m\u001b[1;33m(\u001b[0m\u001b[0mdim\u001b[0m\u001b[1;33m=\u001b[0m\u001b[1;36m1\u001b[0m\u001b[1;33m)\u001b[0m\u001b[1;33m[\u001b[0m\u001b[0mmask\u001b[0m\u001b[1;33m]\u001b[0m\u001b[1;33m==\u001b[0m\u001b[0mtarget\u001b[0m\u001b[1;33m[\u001b[0m\u001b[0mmask\u001b[0m\u001b[1;33m]\u001b[0m\u001b[1;33m)\u001b[0m\u001b[1;33m.\u001b[0m\u001b[0mfloat\u001b[0m\u001b[1;33m(\u001b[0m\u001b[1;33m)\u001b[0m\u001b[1;33m.\u001b[0m\u001b[0mmean\u001b[0m\u001b[1;33m(\u001b[0m\u001b[1;33m)\u001b[0m\u001b[1;33m\u001b[0m\u001b[1;33m\u001b[0m\u001b[0m\n\u001b[0m",
      "\u001b[1;31mRuntimeError\u001b[0m: [enforce fail at ..\\c10\\core\\CPUAllocator.cpp:72] data. DefaultCPUAllocator: not enough memory: you tried to allocate 23592960000 bytes. Buy new RAM!\n"
     ]
    }
   ],
   "source": [
    "import gc\n",
    "gc.collect()\n",
    "\n",
    "lr=1e-03\n",
    "learn.fit_one_cycle(5, slice(lr))"
   ]
  },
  {
   "cell_type": "code",
   "execution_count": null,
   "metadata": {},
   "outputs": [],
   "source": [
    "lr_find(learn)\n",
    "learn.recorder.plot()"
   ]
  },
  {
   "cell_type": "code",
   "execution_count": null,
   "metadata": {},
   "outputs": [],
   "source": []
  },
  {
   "attachments": {},
   "cell_type": "markdown",
   "metadata": {},
   "source": [
    "If your training loss is higher than your validation loss then you're underfitting. \n",
    "You want your training loss to be lower than your validation loss. \n",
    "\n",
    "If you're underfitting, you can: \n",
    "1. Train for longer. \n",
    "2. Train the last bit at a lower learning rate. \n",
    "3. But if you're still under fitting, then you're going to have to decrease regularization. \n",
    "  a. weight decay. \n",
    "  b. dropout. \n",
    "  c. data augmentation. \n",
    "  \n",
    "We need to train earlier layers at lower learning rate (LR), & later layers (which were already trained) at higher LR. \n",
    "So specify a slice of values from before the rise\n",
    "\n",
    "max_lr = slice(A,B)\n",
    "A = should be well before it starts to get worse, on the graph (ususally 1/10 of where it is lowest b4 starts to rise)\n",
    "B = 1/10 of previous lr"
   ]
  },
  {
   "cell_type": "code",
   "execution_count": 34,
   "metadata": {},
   "outputs": [
    {
     "data": {
      "text/plain": [
       "62"
      ]
     },
     "execution_count": 34,
     "metadata": {},
     "output_type": "execute_result"
    },
    {
     "data": {
      "text/html": [
       "\n",
       "    <div>\n",
       "        <style>\n",
       "            /* Turns off some styling */\n",
       "            progress {\n",
       "                /* gets rid of default border in Firefox and Opera. */\n",
       "                border: none;\n",
       "                /* Needs to be in here for Safari polyfill so background images work as expected. */\n",
       "                background-size: auto;\n",
       "            }\n",
       "            .progress-bar-interrupted, .progress-bar-interrupted::-webkit-progress-bar {\n",
       "                background: #F44336;\n",
       "            }\n",
       "        </style>\n",
       "      <progress value='0' class='' max='5', style='width:300px; height:20px; vertical-align: middle;'></progress>\n",
       "      0.00% [0/5 00:00<00:00]\n",
       "    </div>\n",
       "    \n",
       "<table border=\"1\" class=\"dataframe\">\n",
       "  <thead>\n",
       "    <tr style=\"text-align: left;\">\n",
       "      <th>epoch</th>\n",
       "      <th>train_loss</th>\n",
       "      <th>valid_loss</th>\n",
       "      <th>acc_camvid</th>\n",
       "      <th>time</th>\n",
       "    </tr>\n",
       "  </thead>\n",
       "  <tbody>\n",
       "  </tbody>\n",
       "</table><p>\n",
       "\n",
       "    <div>\n",
       "        <style>\n",
       "            /* Turns off some styling */\n",
       "            progress {\n",
       "                /* gets rid of default border in Firefox and Opera. */\n",
       "                border: none;\n",
       "                /* Needs to be in here for Safari polyfill so background images work as expected. */\n",
       "                background-size: auto;\n",
       "            }\n",
       "            .progress-bar-interrupted, .progress-bar-interrupted::-webkit-progress-bar {\n",
       "                background: #F44336;\n",
       "            }\n",
       "        </style>\n",
       "      <progress value='0' class='' max='12', style='width:300px; height:20px; vertical-align: middle;'></progress>\n",
       "      0.00% [0/12 00:00<00:00]\n",
       "    </div>\n",
       "    "
      ],
      "text/plain": [
       "<IPython.core.display.HTML object>"
      ]
     },
     "metadata": {},
     "output_type": "display_data"
    },
    {
     "ename": "RuntimeError",
     "evalue": "[enforce fail at ..\\c10\\core\\CPUAllocator.cpp:72] data. DefaultCPUAllocator: not enough memory: you tried to allocate 23592960000 bytes. Buy new RAM!\n",
     "output_type": "error",
     "traceback": [
      "\u001b[1;31m---------------------------------------------------------------------------\u001b[0m",
      "\u001b[1;31mRuntimeError\u001b[0m                              Traceback (most recent call last)",
      "\u001b[1;32m<ipython-input-34-97ea785e989d>\u001b[0m in \u001b[0;36m<module>\u001b[1;34m\u001b[0m\n\u001b[0;32m      1\u001b[0m \u001b[0mgc\u001b[0m\u001b[1;33m.\u001b[0m\u001b[0mcollect\u001b[0m\u001b[1;33m(\u001b[0m\u001b[1;33m)\u001b[0m\u001b[1;33m\u001b[0m\u001b[1;33m\u001b[0m\u001b[0m\n\u001b[0;32m      2\u001b[0m \u001b[0mlearn\u001b[0m \u001b[1;33m=\u001b[0m \u001b[0munet_learner\u001b[0m\u001b[1;33m(\u001b[0m\u001b[0mdata\u001b[0m\u001b[1;33m,\u001b[0m \u001b[0mmodels\u001b[0m\u001b[1;33m.\u001b[0m\u001b[0mresnet34\u001b[0m\u001b[1;33m,\u001b[0m \u001b[0mmetrics\u001b[0m\u001b[1;33m=\u001b[0m\u001b[0mmetrics\u001b[0m\u001b[1;33m)\u001b[0m\u001b[1;33m\u001b[0m\u001b[1;33m\u001b[0m\u001b[0m\n\u001b[1;32m----> 3\u001b[1;33m \u001b[0mlearn\u001b[0m\u001b[1;33m.\u001b[0m\u001b[0mfit_one_cycle\u001b[0m\u001b[1;33m(\u001b[0m\u001b[1;36m5\u001b[0m\u001b[1;33m)\u001b[0m\u001b[1;33m\u001b[0m\u001b[1;33m\u001b[0m\u001b[0m\n\u001b[0m",
      "\u001b[1;32m~\\AppData\\Local\\Continuum\\anaconda3\\envs\\fastai_py37\\lib\\site-packages\\fastai\\train.py\u001b[0m in \u001b[0;36mfit_one_cycle\u001b[1;34m(learn, cyc_len, max_lr, moms, div_factor, pct_start, final_div, wd, callbacks, tot_epochs, start_epoch)\u001b[0m\n\u001b[0;32m     21\u001b[0m     callbacks.append(OneCycleScheduler(learn, max_lr, moms=moms, div_factor=div_factor, pct_start=pct_start,\n\u001b[0;32m     22\u001b[0m                                        final_div=final_div, tot_epochs=tot_epochs, start_epoch=start_epoch))\n\u001b[1;32m---> 23\u001b[1;33m     \u001b[0mlearn\u001b[0m\u001b[1;33m.\u001b[0m\u001b[0mfit\u001b[0m\u001b[1;33m(\u001b[0m\u001b[0mcyc_len\u001b[0m\u001b[1;33m,\u001b[0m \u001b[0mmax_lr\u001b[0m\u001b[1;33m,\u001b[0m \u001b[0mwd\u001b[0m\u001b[1;33m=\u001b[0m\u001b[0mwd\u001b[0m\u001b[1;33m,\u001b[0m \u001b[0mcallbacks\u001b[0m\u001b[1;33m=\u001b[0m\u001b[0mcallbacks\u001b[0m\u001b[1;33m)\u001b[0m\u001b[1;33m\u001b[0m\u001b[1;33m\u001b[0m\u001b[0m\n\u001b[0m\u001b[0;32m     24\u001b[0m \u001b[1;33m\u001b[0m\u001b[0m\n\u001b[0;32m     25\u001b[0m def fit_fc(learn:Learner, tot_epochs:int=1, lr:float=defaults.lr,  moms:Tuple[float,float]=(0.95,0.85), start_pct:float=0.72,\n",
      "\u001b[1;32m~\\AppData\\Local\\Continuum\\anaconda3\\envs\\fastai_py37\\lib\\site-packages\\fastai\\basic_train.py\u001b[0m in \u001b[0;36mfit\u001b[1;34m(self, epochs, lr, wd, callbacks)\u001b[0m\n\u001b[0;32m    198\u001b[0m         \u001b[1;32melse\u001b[0m\u001b[1;33m:\u001b[0m \u001b[0mself\u001b[0m\u001b[1;33m.\u001b[0m\u001b[0mopt\u001b[0m\u001b[1;33m.\u001b[0m\u001b[0mlr\u001b[0m\u001b[1;33m,\u001b[0m\u001b[0mself\u001b[0m\u001b[1;33m.\u001b[0m\u001b[0mopt\u001b[0m\u001b[1;33m.\u001b[0m\u001b[0mwd\u001b[0m \u001b[1;33m=\u001b[0m \u001b[0mlr\u001b[0m\u001b[1;33m,\u001b[0m\u001b[0mwd\u001b[0m\u001b[1;33m\u001b[0m\u001b[1;33m\u001b[0m\u001b[0m\n\u001b[0;32m    199\u001b[0m         \u001b[0mcallbacks\u001b[0m \u001b[1;33m=\u001b[0m \u001b[1;33m[\u001b[0m\u001b[0mcb\u001b[0m\u001b[1;33m(\u001b[0m\u001b[0mself\u001b[0m\u001b[1;33m)\u001b[0m \u001b[1;32mfor\u001b[0m \u001b[0mcb\u001b[0m \u001b[1;32min\u001b[0m \u001b[0mself\u001b[0m\u001b[1;33m.\u001b[0m\u001b[0mcallback_fns\u001b[0m \u001b[1;33m+\u001b[0m \u001b[0mlistify\u001b[0m\u001b[1;33m(\u001b[0m\u001b[0mdefaults\u001b[0m\u001b[1;33m.\u001b[0m\u001b[0mextra_callback_fns\u001b[0m\u001b[1;33m)\u001b[0m\u001b[1;33m]\u001b[0m \u001b[1;33m+\u001b[0m \u001b[0mlistify\u001b[0m\u001b[1;33m(\u001b[0m\u001b[0mcallbacks\u001b[0m\u001b[1;33m)\u001b[0m\u001b[1;33m\u001b[0m\u001b[1;33m\u001b[0m\u001b[0m\n\u001b[1;32m--> 200\u001b[1;33m         \u001b[0mfit\u001b[0m\u001b[1;33m(\u001b[0m\u001b[0mepochs\u001b[0m\u001b[1;33m,\u001b[0m \u001b[0mself\u001b[0m\u001b[1;33m,\u001b[0m \u001b[0mmetrics\u001b[0m\u001b[1;33m=\u001b[0m\u001b[0mself\u001b[0m\u001b[1;33m.\u001b[0m\u001b[0mmetrics\u001b[0m\u001b[1;33m,\u001b[0m \u001b[0mcallbacks\u001b[0m\u001b[1;33m=\u001b[0m\u001b[0mself\u001b[0m\u001b[1;33m.\u001b[0m\u001b[0mcallbacks\u001b[0m\u001b[1;33m+\u001b[0m\u001b[0mcallbacks\u001b[0m\u001b[1;33m)\u001b[0m\u001b[1;33m\u001b[0m\u001b[1;33m\u001b[0m\u001b[0m\n\u001b[0m\u001b[0;32m    201\u001b[0m \u001b[1;33m\u001b[0m\u001b[0m\n\u001b[0;32m    202\u001b[0m     \u001b[1;32mdef\u001b[0m \u001b[0mcreate_opt\u001b[0m\u001b[1;33m(\u001b[0m\u001b[0mself\u001b[0m\u001b[1;33m,\u001b[0m \u001b[0mlr\u001b[0m\u001b[1;33m:\u001b[0m\u001b[0mFloats\u001b[0m\u001b[1;33m,\u001b[0m \u001b[0mwd\u001b[0m\u001b[1;33m:\u001b[0m\u001b[0mFloats\u001b[0m\u001b[1;33m=\u001b[0m\u001b[1;36m0.\u001b[0m\u001b[1;33m)\u001b[0m\u001b[1;33m->\u001b[0m\u001b[1;32mNone\u001b[0m\u001b[1;33m:\u001b[0m\u001b[1;33m\u001b[0m\u001b[1;33m\u001b[0m\u001b[0m\n",
      "\u001b[1;32m~\\AppData\\Local\\Continuum\\anaconda3\\envs\\fastai_py37\\lib\\site-packages\\fastai\\basic_train.py\u001b[0m in \u001b[0;36mfit\u001b[1;34m(epochs, learn, callbacks, metrics)\u001b[0m\n\u001b[0;32m    104\u001b[0m             \u001b[1;32mif\u001b[0m \u001b[1;32mnot\u001b[0m \u001b[0mcb_handler\u001b[0m\u001b[1;33m.\u001b[0m\u001b[0mskip_validate\u001b[0m \u001b[1;32mand\u001b[0m \u001b[1;32mnot\u001b[0m \u001b[0mlearn\u001b[0m\u001b[1;33m.\u001b[0m\u001b[0mdata\u001b[0m\u001b[1;33m.\u001b[0m\u001b[0mempty_val\u001b[0m\u001b[1;33m:\u001b[0m\u001b[1;33m\u001b[0m\u001b[1;33m\u001b[0m\u001b[0m\n\u001b[0;32m    105\u001b[0m                 val_loss = validate(learn.model, learn.data.valid_dl, loss_func=learn.loss_func,\n\u001b[1;32m--> 106\u001b[1;33m                                        cb_handler=cb_handler, pbar=pbar)\n\u001b[0m\u001b[0;32m    107\u001b[0m             \u001b[1;32melse\u001b[0m\u001b[1;33m:\u001b[0m \u001b[0mval_loss\u001b[0m\u001b[1;33m=\u001b[0m\u001b[1;32mNone\u001b[0m\u001b[1;33m\u001b[0m\u001b[1;33m\u001b[0m\u001b[0m\n\u001b[0;32m    108\u001b[0m             \u001b[1;32mif\u001b[0m \u001b[0mcb_handler\u001b[0m\u001b[1;33m.\u001b[0m\u001b[0mon_epoch_end\u001b[0m\u001b[1;33m(\u001b[0m\u001b[0mval_loss\u001b[0m\u001b[1;33m)\u001b[0m\u001b[1;33m:\u001b[0m \u001b[1;32mbreak\u001b[0m\u001b[1;33m\u001b[0m\u001b[1;33m\u001b[0m\u001b[0m\n",
      "\u001b[1;32m~\\AppData\\Local\\Continuum\\anaconda3\\envs\\fastai_py37\\lib\\site-packages\\fastai\\basic_train.py\u001b[0m in \u001b[0;36mvalidate\u001b[1;34m(model, dl, loss_func, cb_handler, pbar, average, n_batch)\u001b[0m\n\u001b[0;32m     61\u001b[0m             \u001b[1;32mif\u001b[0m \u001b[1;32mnot\u001b[0m \u001b[0mis_listy\u001b[0m\u001b[1;33m(\u001b[0m\u001b[0myb\u001b[0m\u001b[1;33m)\u001b[0m\u001b[1;33m:\u001b[0m \u001b[0myb\u001b[0m \u001b[1;33m=\u001b[0m \u001b[1;33m[\u001b[0m\u001b[0myb\u001b[0m\u001b[1;33m]\u001b[0m\u001b[1;33m\u001b[0m\u001b[1;33m\u001b[0m\u001b[0m\n\u001b[0;32m     62\u001b[0m             \u001b[0mnums\u001b[0m\u001b[1;33m.\u001b[0m\u001b[0mappend\u001b[0m\u001b[1;33m(\u001b[0m\u001b[0mfirst_el\u001b[0m\u001b[1;33m(\u001b[0m\u001b[0myb\u001b[0m\u001b[1;33m)\u001b[0m\u001b[1;33m.\u001b[0m\u001b[0mshape\u001b[0m\u001b[1;33m[\u001b[0m\u001b[1;36m0\u001b[0m\u001b[1;33m]\u001b[0m\u001b[1;33m)\u001b[0m\u001b[1;33m\u001b[0m\u001b[1;33m\u001b[0m\u001b[0m\n\u001b[1;32m---> 63\u001b[1;33m             \u001b[1;32mif\u001b[0m \u001b[0mcb_handler\u001b[0m \u001b[1;32mand\u001b[0m \u001b[0mcb_handler\u001b[0m\u001b[1;33m.\u001b[0m\u001b[0mon_batch_end\u001b[0m\u001b[1;33m(\u001b[0m\u001b[0mval_losses\u001b[0m\u001b[1;33m[\u001b[0m\u001b[1;33m-\u001b[0m\u001b[1;36m1\u001b[0m\u001b[1;33m]\u001b[0m\u001b[1;33m)\u001b[0m\u001b[1;33m:\u001b[0m \u001b[1;32mbreak\u001b[0m\u001b[1;33m\u001b[0m\u001b[1;33m\u001b[0m\u001b[0m\n\u001b[0m\u001b[0;32m     64\u001b[0m             \u001b[1;32mif\u001b[0m \u001b[0mn_batch\u001b[0m \u001b[1;32mand\u001b[0m \u001b[1;33m(\u001b[0m\u001b[0mlen\u001b[0m\u001b[1;33m(\u001b[0m\u001b[0mnums\u001b[0m\u001b[1;33m)\u001b[0m\u001b[1;33m>=\u001b[0m\u001b[0mn_batch\u001b[0m\u001b[1;33m)\u001b[0m\u001b[1;33m:\u001b[0m \u001b[1;32mbreak\u001b[0m\u001b[1;33m\u001b[0m\u001b[1;33m\u001b[0m\u001b[0m\n\u001b[0;32m     65\u001b[0m         \u001b[0mnums\u001b[0m \u001b[1;33m=\u001b[0m \u001b[0mnp\u001b[0m\u001b[1;33m.\u001b[0m\u001b[0marray\u001b[0m\u001b[1;33m(\u001b[0m\u001b[0mnums\u001b[0m\u001b[1;33m,\u001b[0m \u001b[0mdtype\u001b[0m\u001b[1;33m=\u001b[0m\u001b[0mnp\u001b[0m\u001b[1;33m.\u001b[0m\u001b[0mfloat32\u001b[0m\u001b[1;33m)\u001b[0m\u001b[1;33m\u001b[0m\u001b[1;33m\u001b[0m\u001b[0m\n",
      "\u001b[1;32m~\\AppData\\Local\\Continuum\\anaconda3\\envs\\fastai_py37\\lib\\site-packages\\fastai\\callback.py\u001b[0m in \u001b[0;36mon_batch_end\u001b[1;34m(self, loss)\u001b[0m\n\u001b[0;32m    306\u001b[0m         \u001b[1;34m\"Handle end of processing one batch with `loss`.\"\u001b[0m\u001b[1;33m\u001b[0m\u001b[1;33m\u001b[0m\u001b[0m\n\u001b[0;32m    307\u001b[0m         \u001b[0mself\u001b[0m\u001b[1;33m.\u001b[0m\u001b[0mstate_dict\u001b[0m\u001b[1;33m[\u001b[0m\u001b[1;34m'last_loss'\u001b[0m\u001b[1;33m]\u001b[0m \u001b[1;33m=\u001b[0m \u001b[0mloss\u001b[0m\u001b[1;33m\u001b[0m\u001b[1;33m\u001b[0m\u001b[0m\n\u001b[1;32m--> 308\u001b[1;33m         \u001b[0mself\u001b[0m\u001b[1;33m(\u001b[0m\u001b[1;34m'batch_end'\u001b[0m\u001b[1;33m,\u001b[0m \u001b[0mcall_mets\u001b[0m \u001b[1;33m=\u001b[0m \u001b[1;32mnot\u001b[0m \u001b[0mself\u001b[0m\u001b[1;33m.\u001b[0m\u001b[0mstate_dict\u001b[0m\u001b[1;33m[\u001b[0m\u001b[1;34m'train'\u001b[0m\u001b[1;33m]\u001b[0m\u001b[1;33m)\u001b[0m\u001b[1;33m\u001b[0m\u001b[1;33m\u001b[0m\u001b[0m\n\u001b[0m\u001b[0;32m    309\u001b[0m         \u001b[1;32mif\u001b[0m \u001b[0mself\u001b[0m\u001b[1;33m.\u001b[0m\u001b[0mstate_dict\u001b[0m\u001b[1;33m[\u001b[0m\u001b[1;34m'train'\u001b[0m\u001b[1;33m]\u001b[0m\u001b[1;33m:\u001b[0m\u001b[1;33m\u001b[0m\u001b[1;33m\u001b[0m\u001b[0m\n\u001b[0;32m    310\u001b[0m             \u001b[0mself\u001b[0m\u001b[1;33m.\u001b[0m\u001b[0mstate_dict\u001b[0m\u001b[1;33m[\u001b[0m\u001b[1;34m'iteration'\u001b[0m\u001b[1;33m]\u001b[0m \u001b[1;33m+=\u001b[0m \u001b[1;36m1\u001b[0m\u001b[1;33m\u001b[0m\u001b[1;33m\u001b[0m\u001b[0m\n",
      "\u001b[1;32m~\\AppData\\Local\\Continuum\\anaconda3\\envs\\fastai_py37\\lib\\site-packages\\fastai\\callback.py\u001b[0m in \u001b[0;36m__call__\u001b[1;34m(self, cb_name, call_mets, **kwargs)\u001b[0m\n\u001b[0;32m    248\u001b[0m         \u001b[1;34m\"Call through to all of the `CallbakHandler` functions.\"\u001b[0m\u001b[1;33m\u001b[0m\u001b[1;33m\u001b[0m\u001b[0m\n\u001b[0;32m    249\u001b[0m         \u001b[1;32mif\u001b[0m \u001b[0mcall_mets\u001b[0m\u001b[1;33m:\u001b[0m\u001b[1;33m\u001b[0m\u001b[1;33m\u001b[0m\u001b[0m\n\u001b[1;32m--> 250\u001b[1;33m             \u001b[1;32mfor\u001b[0m \u001b[0mmet\u001b[0m \u001b[1;32min\u001b[0m \u001b[0mself\u001b[0m\u001b[1;33m.\u001b[0m\u001b[0mmetrics\u001b[0m\u001b[1;33m:\u001b[0m \u001b[0mself\u001b[0m\u001b[1;33m.\u001b[0m\u001b[0m_call_and_update\u001b[0m\u001b[1;33m(\u001b[0m\u001b[0mmet\u001b[0m\u001b[1;33m,\u001b[0m \u001b[0mcb_name\u001b[0m\u001b[1;33m,\u001b[0m \u001b[1;33m**\u001b[0m\u001b[0mkwargs\u001b[0m\u001b[1;33m)\u001b[0m\u001b[1;33m\u001b[0m\u001b[1;33m\u001b[0m\u001b[0m\n\u001b[0m\u001b[0;32m    251\u001b[0m         \u001b[1;32mfor\u001b[0m \u001b[0mcb\u001b[0m \u001b[1;32min\u001b[0m \u001b[0mself\u001b[0m\u001b[1;33m.\u001b[0m\u001b[0mcallbacks\u001b[0m\u001b[1;33m:\u001b[0m \u001b[0mself\u001b[0m\u001b[1;33m.\u001b[0m\u001b[0m_call_and_update\u001b[0m\u001b[1;33m(\u001b[0m\u001b[0mcb\u001b[0m\u001b[1;33m,\u001b[0m \u001b[0mcb_name\u001b[0m\u001b[1;33m,\u001b[0m \u001b[1;33m**\u001b[0m\u001b[0mkwargs\u001b[0m\u001b[1;33m)\u001b[0m\u001b[1;33m\u001b[0m\u001b[1;33m\u001b[0m\u001b[0m\n\u001b[0;32m    252\u001b[0m \u001b[1;33m\u001b[0m\u001b[0m\n",
      "\u001b[1;32m~\\AppData\\Local\\Continuum\\anaconda3\\envs\\fastai_py37\\lib\\site-packages\\fastai\\callback.py\u001b[0m in \u001b[0;36m_call_and_update\u001b[1;34m(self, cb, cb_name, **kwargs)\u001b[0m\n\u001b[0;32m    239\u001b[0m     \u001b[1;32mdef\u001b[0m \u001b[0m_call_and_update\u001b[0m\u001b[1;33m(\u001b[0m\u001b[0mself\u001b[0m\u001b[1;33m,\u001b[0m \u001b[0mcb\u001b[0m\u001b[1;33m,\u001b[0m \u001b[0mcb_name\u001b[0m\u001b[1;33m,\u001b[0m \u001b[1;33m**\u001b[0m\u001b[0mkwargs\u001b[0m\u001b[1;33m)\u001b[0m\u001b[1;33m->\u001b[0m\u001b[1;32mNone\u001b[0m\u001b[1;33m:\u001b[0m\u001b[1;33m\u001b[0m\u001b[1;33m\u001b[0m\u001b[0m\n\u001b[0;32m    240\u001b[0m         \u001b[1;34m\"Call `cb_name` on `cb` and update the inner state.\"\u001b[0m\u001b[1;33m\u001b[0m\u001b[1;33m\u001b[0m\u001b[0m\n\u001b[1;32m--> 241\u001b[1;33m         \u001b[0mnew\u001b[0m \u001b[1;33m=\u001b[0m \u001b[0mifnone\u001b[0m\u001b[1;33m(\u001b[0m\u001b[0mgetattr\u001b[0m\u001b[1;33m(\u001b[0m\u001b[0mcb\u001b[0m\u001b[1;33m,\u001b[0m \u001b[1;34mf'on_{cb_name}'\u001b[0m\u001b[1;33m)\u001b[0m\u001b[1;33m(\u001b[0m\u001b[1;33m**\u001b[0m\u001b[0mself\u001b[0m\u001b[1;33m.\u001b[0m\u001b[0mstate_dict\u001b[0m\u001b[1;33m,\u001b[0m \u001b[1;33m**\u001b[0m\u001b[0mkwargs\u001b[0m\u001b[1;33m)\u001b[0m\u001b[1;33m,\u001b[0m \u001b[0mdict\u001b[0m\u001b[1;33m(\u001b[0m\u001b[1;33m)\u001b[0m\u001b[1;33m)\u001b[0m\u001b[1;33m\u001b[0m\u001b[1;33m\u001b[0m\u001b[0m\n\u001b[0m\u001b[0;32m    242\u001b[0m         \u001b[1;32mfor\u001b[0m \u001b[0mk\u001b[0m\u001b[1;33m,\u001b[0m\u001b[0mv\u001b[0m \u001b[1;32min\u001b[0m \u001b[0mnew\u001b[0m\u001b[1;33m.\u001b[0m\u001b[0mitems\u001b[0m\u001b[1;33m(\u001b[0m\u001b[1;33m)\u001b[0m\u001b[1;33m:\u001b[0m\u001b[1;33m\u001b[0m\u001b[1;33m\u001b[0m\u001b[0m\n\u001b[0;32m    243\u001b[0m             \u001b[1;32mif\u001b[0m \u001b[0mk\u001b[0m \u001b[1;32mnot\u001b[0m \u001b[1;32min\u001b[0m \u001b[0mself\u001b[0m\u001b[1;33m.\u001b[0m\u001b[0mstate_dict\u001b[0m\u001b[1;33m:\u001b[0m\u001b[1;33m\u001b[0m\u001b[1;33m\u001b[0m\u001b[0m\n",
      "\u001b[1;32m~\\AppData\\Local\\Continuum\\anaconda3\\envs\\fastai_py37\\lib\\site-packages\\fastai\\callback.py\u001b[0m in \u001b[0;36mon_batch_end\u001b[1;34m(self, last_output, last_target, **kwargs)\u001b[0m\n\u001b[0;32m    342\u001b[0m         \u001b[1;32mif\u001b[0m \u001b[1;32mnot\u001b[0m \u001b[0mis_listy\u001b[0m\u001b[1;33m(\u001b[0m\u001b[0mlast_target\u001b[0m\u001b[1;33m)\u001b[0m\u001b[1;33m:\u001b[0m \u001b[0mlast_target\u001b[0m\u001b[1;33m=\u001b[0m\u001b[1;33m[\u001b[0m\u001b[0mlast_target\u001b[0m\u001b[1;33m]\u001b[0m\u001b[1;33m\u001b[0m\u001b[1;33m\u001b[0m\u001b[0m\n\u001b[0;32m    343\u001b[0m         \u001b[0mself\u001b[0m\u001b[1;33m.\u001b[0m\u001b[0mcount\u001b[0m \u001b[1;33m+=\u001b[0m \u001b[0mfirst_el\u001b[0m\u001b[1;33m(\u001b[0m\u001b[0mlast_target\u001b[0m\u001b[1;33m)\u001b[0m\u001b[1;33m.\u001b[0m\u001b[0msize\u001b[0m\u001b[1;33m(\u001b[0m\u001b[1;36m0\u001b[0m\u001b[1;33m)\u001b[0m\u001b[1;33m\u001b[0m\u001b[1;33m\u001b[0m\u001b[0m\n\u001b[1;32m--> 344\u001b[1;33m         \u001b[0mval\u001b[0m \u001b[1;33m=\u001b[0m \u001b[0mself\u001b[0m\u001b[1;33m.\u001b[0m\u001b[0mfunc\u001b[0m\u001b[1;33m(\u001b[0m\u001b[0mlast_output\u001b[0m\u001b[1;33m,\u001b[0m \u001b[1;33m*\u001b[0m\u001b[0mlast_target\u001b[0m\u001b[1;33m)\u001b[0m\u001b[1;33m\u001b[0m\u001b[1;33m\u001b[0m\u001b[0m\n\u001b[0m\u001b[0;32m    345\u001b[0m         \u001b[1;32mif\u001b[0m \u001b[0mself\u001b[0m\u001b[1;33m.\u001b[0m\u001b[0mworld\u001b[0m\u001b[1;33m:\u001b[0m\u001b[1;33m\u001b[0m\u001b[1;33m\u001b[0m\u001b[0m\n\u001b[0;32m    346\u001b[0m             \u001b[0mval\u001b[0m \u001b[1;33m=\u001b[0m \u001b[0mval\u001b[0m\u001b[1;33m.\u001b[0m\u001b[0mclone\u001b[0m\u001b[1;33m(\u001b[0m\u001b[1;33m)\u001b[0m\u001b[1;33m\u001b[0m\u001b[1;33m\u001b[0m\u001b[0m\n",
      "\u001b[1;32m<ipython-input-21-7c6e68457d4c>\u001b[0m in \u001b[0;36macc_camvid\u001b[1;34m(input, target)\u001b[0m\n\u001b[0;32m     11\u001b[0m     \u001b[1;31m#mask = target != void_code  # commenting out for our data\u001b[0m\u001b[1;33m\u001b[0m\u001b[1;33m\u001b[0m\u001b[1;33m\u001b[0m\u001b[0m\n\u001b[0;32m     12\u001b[0m     \u001b[0mmask\u001b[0m \u001b[1;33m=\u001b[0m \u001b[0mtarget\u001b[0m\u001b[1;33m\u001b[0m\u001b[1;33m\u001b[0m\u001b[0m\n\u001b[1;32m---> 13\u001b[1;33m     \u001b[1;32mreturn\u001b[0m \u001b[1;33m(\u001b[0m\u001b[0minput\u001b[0m\u001b[1;33m.\u001b[0m\u001b[0margmax\u001b[0m\u001b[1;33m(\u001b[0m\u001b[0mdim\u001b[0m\u001b[1;33m=\u001b[0m\u001b[1;36m1\u001b[0m\u001b[1;33m)\u001b[0m\u001b[1;33m[\u001b[0m\u001b[0mmask\u001b[0m\u001b[1;33m]\u001b[0m\u001b[1;33m==\u001b[0m\u001b[0mtarget\u001b[0m\u001b[1;33m[\u001b[0m\u001b[0mmask\u001b[0m\u001b[1;33m]\u001b[0m\u001b[1;33m)\u001b[0m\u001b[1;33m.\u001b[0m\u001b[0mfloat\u001b[0m\u001b[1;33m(\u001b[0m\u001b[1;33m)\u001b[0m\u001b[1;33m.\u001b[0m\u001b[0mmean\u001b[0m\u001b[1;33m(\u001b[0m\u001b[1;33m)\u001b[0m\u001b[1;33m\u001b[0m\u001b[1;33m\u001b[0m\u001b[0m\n\u001b[0m",
      "\u001b[1;31mRuntimeError\u001b[0m: [enforce fail at ..\\c10\\core\\CPUAllocator.cpp:72] data. DefaultCPUAllocator: not enough memory: you tried to allocate 23592960000 bytes. Buy new RAM!\n"
     ]
    }
   ],
   "source": [
    "gc.collect()\n",
    "learn = unet_learner(data, models.resnet34, metrics=metrics)\n",
    "learn.fit_one_cycle(5)"
   ]
  },
  {
   "cell_type": "code",
   "execution_count": null,
   "metadata": {},
   "outputs": [],
   "source": [
    "# in the previous 2 runs, the issue seems to be with the acc_camvid function defined"
   ]
  },
  {
   "cell_type": "code",
   "execution_count": null,
   "metadata": {},
   "outputs": [],
   "source": []
  },
  {
   "cell_type": "code",
   "execution_count": 37,
   "metadata": {},
   "outputs": [
    {
     "data": {
      "text/plain": [
       "2984"
      ]
     },
     "execution_count": 37,
     "metadata": {},
     "output_type": "execute_result"
    },
    {
     "data": {
      "text/html": [
       "<table border=\"1\" class=\"dataframe\">\n",
       "  <thead>\n",
       "    <tr style=\"text-align: left;\">\n",
       "      <th>epoch</th>\n",
       "      <th>train_loss</th>\n",
       "      <th>valid_loss</th>\n",
       "      <th>dice</th>\n",
       "      <th>time</th>\n",
       "    </tr>\n",
       "  </thead>\n",
       "  <tbody>\n",
       "    <tr>\n",
       "      <td>0</td>\n",
       "      <td>0.091830</td>\n",
       "      <td>0.063274</td>\n",
       "      <td>0.302513</td>\n",
       "      <td>09:48</td>\n",
       "    </tr>\n",
       "    <tr>\n",
       "      <td>1</td>\n",
       "      <td>0.056069</td>\n",
       "      <td>0.035296</td>\n",
       "      <td>0.302369</td>\n",
       "      <td>09:40</td>\n",
       "    </tr>\n",
       "    <tr>\n",
       "      <td>2</td>\n",
       "      <td>0.042680</td>\n",
       "      <td>0.036089</td>\n",
       "      <td>0.322057</td>\n",
       "      <td>09:41</td>\n",
       "    </tr>\n",
       "    <tr>\n",
       "      <td>3</td>\n",
       "      <td>0.035095</td>\n",
       "      <td>0.029218</td>\n",
       "      <td>0.379702</td>\n",
       "      <td>09:38</td>\n",
       "    </tr>\n",
       "    <tr>\n",
       "      <td>4</td>\n",
       "      <td>0.031194</td>\n",
       "      <td>0.033987</td>\n",
       "      <td>0.344548</td>\n",
       "      <td>09:43</td>\n",
       "    </tr>\n",
       "  </tbody>\n",
       "</table>"
      ],
      "text/plain": [
       "<IPython.core.display.HTML object>"
      ]
     },
     "metadata": {},
     "output_type": "display_data"
    }
   ],
   "source": [
    "# run = 3, bs=2, metrics=dice\n",
    "gc.collect()\n",
    "learn.fit_one_cycle(5)"
   ]
  },
  {
   "cell_type": "code",
   "execution_count": 38,
   "metadata": {},
   "outputs": [
    {
     "data": {
      "image/png": "[encoded data removed]",
      "text/plain": [
       "<Figure size 576x648 with 4 Axes>"
      ]
     },
     "metadata": {
      "needs_background": "light"
     },
     "output_type": "display_data"
    }
   ],
   "source": [
    "learn.show_results(rows=3, figsize=(8,9))"
   ]
  },
  {
   "cell_type": "code",
   "execution_count": 39,
   "metadata": {},
   "outputs": [],
   "source": [
    "learn.save('stage-1')"
   ]
  },
  {
   "cell_type": "code",
   "execution_count": 40,
   "metadata": {},
   "outputs": [],
   "source": [
    "learn.load('stage-1');"
   ]
  },
  {
   "cell_type": "code",
   "execution_count": 41,
   "metadata": {},
   "outputs": [],
   "source": [
    "learn.unfreeze()"
   ]
  },
  {
   "cell_type": "code",
   "execution_count": 42,
   "metadata": {},
   "outputs": [
    {
     "data": {
      "text/html": [
       "\n",
       "    <div>\n",
       "        <style>\n",
       "            /* Turns off some styling */\n",
       "            progress {\n",
       "                /* gets rid of default border in Firefox and Opera. */\n",
       "                border: none;\n",
       "                /* Needs to be in here for Safari polyfill so background images work as expected. */\n",
       "                background-size: auto;\n",
       "            }\n",
       "            .progress-bar-interrupted, .progress-bar-interrupted::-webkit-progress-bar {\n",
       "                background: #F44336;\n",
       "            }\n",
       "        </style>\n",
       "      <progress value='1' class='' max='3', style='width:300px; height:20px; vertical-align: middle;'></progress>\n",
       "      33.33% [1/3 09:14<18:29]\n",
       "    </div>\n",
       "    \n",
       "<table border=\"1\" class=\"dataframe\">\n",
       "  <thead>\n",
       "    <tr style=\"text-align: left;\">\n",
       "      <th>epoch</th>\n",
       "      <th>train_loss</th>\n",
       "      <th>valid_loss</th>\n",
       "      <th>dice</th>\n",
       "      <th>time</th>\n",
       "    </tr>\n",
       "  </thead>\n",
       "  <tbody>\n",
       "    <tr>\n",
       "      <td>0</td>\n",
       "      <td>0.030804</td>\n",
       "      <td>#na#</td>\n",
       "      <td>09:14</td>\n",
       "    </tr>\n",
       "  </tbody>\n",
       "</table><p>\n",
       "\n",
       "    <div>\n",
       "        <style>\n",
       "            /* Turns off some styling */\n",
       "            progress {\n",
       "                /* gets rid of default border in Firefox and Opera. */\n",
       "                border: none;\n",
       "                /* Needs to be in here for Safari polyfill so background images work as expected. */\n",
       "                background-size: auto;\n",
       "            }\n",
       "            .progress-bar-interrupted, .progress-bar-interrupted::-webkit-progress-bar {\n",
       "                background: #F44336;\n",
       "            }\n",
       "        </style>\n",
       "      <progress value='18' class='' max='47', style='width:300px; height:20px; vertical-align: middle;'></progress>\n",
       "      38.30% [18/47 04:11<06:45 0.0673]\n",
       "    </div>\n",
       "    "
      ],
      "text/plain": [
       "<IPython.core.display.HTML object>"
      ]
     },
     "metadata": {},
     "output_type": "display_data"
    },
    {
     "name": "stdout",
     "output_type": "stream",
     "text": [
      "LR Finder is complete, type {learner_name}.recorder.plot() to see the graph.\n"
     ]
    },
    {
     "data": {
      "image/png": "[encoded data removed]",
      "text/plain": [
       "<Figure size 432x288 with 1 Axes>"
      ]
     },
     "metadata": {
      "needs_background": "light"
     },
     "output_type": "display_data"
    }
   ],
   "source": [
    "lr_find(learn)\n",
    "learn.recorder.plot()"
   ]
  },
  {
   "cell_type": "code",
   "execution_count": 43,
   "metadata": {},
   "outputs": [
    {
     "name": "stdout",
     "output_type": "stream",
     "text": [
      "0.001\n"
     ]
    }
   ],
   "source": [
    "print(lr)"
   ]
  },
  {
   "cell_type": "code",
   "execution_count": 44,
   "metadata": {},
   "outputs": [
    {
     "data": {
      "text/html": [
       "<table border=\"1\" class=\"dataframe\">\n",
       "  <thead>\n",
       "    <tr style=\"text-align: left;\">\n",
       "      <th>epoch</th>\n",
       "      <th>train_loss</th>\n",
       "      <th>valid_loss</th>\n",
       "      <th>dice</th>\n",
       "      <th>time</th>\n",
       "    </tr>\n",
       "  </thead>\n",
       "  <tbody>\n",
       "    <tr>\n",
       "      <td>0</td>\n",
       "      <td>0.030656</td>\n",
       "      <td>0.030641</td>\n",
       "      <td>0.400401</td>\n",
       "      <td>10:23</td>\n",
       "    </tr>\n",
       "    <tr>\n",
       "      <td>1</td>\n",
       "      <td>0.029597</td>\n",
       "      <td>0.030988</td>\n",
       "      <td>0.404903</td>\n",
       "      <td>10:19</td>\n",
       "    </tr>\n",
       "    <tr>\n",
       "      <td>2</td>\n",
       "      <td>0.029769</td>\n",
       "      <td>0.028821</td>\n",
       "      <td>0.399571</td>\n",
       "      <td>10:29</td>\n",
       "    </tr>\n",
       "    <tr>\n",
       "      <td>3</td>\n",
       "      <td>0.028504</td>\n",
       "      <td>0.028448</td>\n",
       "      <td>0.421875</td>\n",
       "      <td>09:38</td>\n",
       "    </tr>\n",
       "    <tr>\n",
       "      <td>4</td>\n",
       "      <td>0.028886</td>\n",
       "      <td>0.035222</td>\n",
       "      <td>0.361106</td>\n",
       "      <td>05:21</td>\n",
       "    </tr>\n",
       "    <tr>\n",
       "      <td>5</td>\n",
       "      <td>0.027954</td>\n",
       "      <td>0.028282</td>\n",
       "      <td>0.428487</td>\n",
       "      <td>05:27</td>\n",
       "    </tr>\n",
       "    <tr>\n",
       "      <td>6</td>\n",
       "      <td>0.027504</td>\n",
       "      <td>0.029734</td>\n",
       "      <td>0.405316</td>\n",
       "      <td>05:34</td>\n",
       "    </tr>\n",
       "    <tr>\n",
       "      <td>7</td>\n",
       "      <td>0.026401</td>\n",
       "      <td>0.027877</td>\n",
       "      <td>0.433583</td>\n",
       "      <td>05:36</td>\n",
       "    </tr>\n",
       "    <tr>\n",
       "      <td>8</td>\n",
       "      <td>0.025399</td>\n",
       "      <td>0.030668</td>\n",
       "      <td>0.416573</td>\n",
       "      <td>05:36</td>\n",
       "    </tr>\n",
       "    <tr>\n",
       "      <td>9</td>\n",
       "      <td>0.025582</td>\n",
       "      <td>0.029016</td>\n",
       "      <td>0.435057</td>\n",
       "      <td>06:12</td>\n",
       "    </tr>\n",
       "  </tbody>\n",
       "</table>"
      ],
      "text/plain": [
       "<IPython.core.display.HTML object>"
      ]
     },
     "metadata": {},
     "output_type": "display_data"
    }
   ],
   "source": [
    "learn.fit_one_cycle(10, slice(8e-4, lr/10))"
   ]
  },
  {
   "cell_type": "code",
   "execution_count": 45,
   "metadata": {},
   "outputs": [
    {
     "data": {
      "image/png": "[encoded data removed]",
      "text/plain": [
       "<Figure size 432x288 with 1 Axes>"
      ]
     },
     "metadata": {
      "needs_background": "light"
     },
     "output_type": "display_data"
    }
   ],
   "source": [
    "learn.recorder.plot_losses()"
   ]
  },
  {
   "cell_type": "code",
   "execution_count": 46,
   "metadata": {},
   "outputs": [
    {
     "data": {
      "image/png": "[encoded data removed]",
      "text/plain": [
       "<Figure size 432x288 with 1 Axes>"
      ]
     },
     "metadata": {
      "needs_background": "light"
     },
     "output_type": "display_data"
    }
   ],
   "source": [
    "learn.recorder.plot_lr()\n",
    "\n",
    "# the learning rate goes up and then it goes down - # so that it does not get stuck in local minima\n",
    "# That's what fit one cycle does"
   ]
  },
  {
   "cell_type": "code",
   "execution_count": 47,
   "metadata": {},
   "outputs": [
    {
     "data": {
      "image/png": "[encoded data removed]",
      "text/plain": [
       "<Figure size 576x576 with 4 Axes>"
      ]
     },
     "metadata": {
      "needs_background": "light"
     },
     "output_type": "display_data"
    }
   ],
   "source": [
    "learn.show_results(rows=2)"
   ]
  },
  {
   "cell_type": "code",
   "execution_count": null,
   "metadata": {},
   "outputs": [],
   "source": []
  },
  {
   "cell_type": "markdown",
   "metadata": {},
   "source": [
    "In this case, we used the size (in our transforms) of the original image size/2.\n",
    "The problem is to segment all of the pixels﹣not half of the pixels\n",
    "So, put the size up to the full size of the source images. \n",
    "I now have to halve my batch size otherwise I'll run out of GPU memory."
   ]
  },
  {
   "cell_type": "code",
   "execution_count": null,
   "metadata": {},
   "outputs": [],
   "source": []
  }
 ],
 "metadata": {
  "kernelspec": {
   "display_name": "Python 3",
   "language": "python",
   "name": "python3"
  },
  "language_info": {
   "codemirror_mode": {
    "name": "ipython",
    "version": 3
   },
   "file_extension": ".py",
   "mimetype": "text/x-python",
   "name": "python",
   "nbconvert_exporter": "python",
   "pygments_lexer": "ipython3",
   "version": "3.7.6"
  }
 },
 "nbformat": 4,
 "nbformat_minor": 4
}
