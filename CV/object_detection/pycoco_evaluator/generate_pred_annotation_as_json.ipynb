{
 "cells": [
  {
   "cell_type": "code",
   "execution_count": 1,
   "metadata": {},
   "outputs": [],
   "source": [
    "#import cv2\n",
    "import pandas as pd\n",
    "import numpy as np\n",
    "#from  matplotlib import pyplot as plt \n",
    "#%matplotlib qt\n",
    "import json"
   ]
  },
  {
   "cell_type": "code",
   "execution_count": 2,
   "metadata": {},
   "outputs": [],
   "source": [
    "import os\n",
    "os.chdir(\"C:/Users/Desktop/data/video/\")"
   ]
  },
  {
   "cell_type": "code",
   "execution_count": null,
   "metadata": {},
   "outputs": [],
   "source": []
  },
  {
   "cell_type": "markdown",
   "metadata": {},
   "source": [
    "### generate predictions as json"
   ]
  },
  {
   "cell_type": "code",
   "execution_count": null,
   "metadata": {},
   "outputs": [],
   "source": [
    "# input text files\n",
    "# category_id score, x, y, width, height\n",
    "\n",
    "'''\n",
    "0 0.998 240 776 137 308\n",
    "0 0.991 1607 608 112 255\n",
    "0 0.986 1651 100 61 198\n",
    "0 0.983 879 65 61 179\n",
    "0 0.971 718 226 71 184\n",
    "0 0.970 1453 31 90 161\n",
    "'''\n",
    "\n",
    "\n",
    "# output format\n",
    "# http://cocodataset.org/#format-results\n",
    "\n",
    "[{\n",
    "\"image_id\" : int,\n",
    "\"category_id\" : int,\n",
    "\"bbox\" : [x,y,width,height],\n",
    "\"score\" : float,\n",
    "}]\n"
   ]
  },
  {
   "cell_type": "code",
   "execution_count": 18,
   "metadata": {},
   "outputs": [],
   "source": [
    "def get_anno_as_df(in_path):\n",
    "    df = []\n",
    "    \n",
    "    for j in range(4501):\n",
    "        in_file = in_path + str(j) + '.txt'\n",
    "        print(in_file)\n",
    "        FileIN = open(in_file, 'r')\n",
    "        \n",
    "        for Line in FileIN:\n",
    "            string_data = Line.split(sep=' ') \n",
    "            string_to_float = [float(i) for i in string_data]     \n",
    "            label = int(0)\n",
    "            score = string_to_float[1]\n",
    "            \n",
    "            res = dict()\n",
    "            res['image_id'] = int(j)\n",
    "            res['category_id']=int(1)   ## changed here from 0 to 1\n",
    "            res['bbox'] = [int(string_to_float[2]),int(string_to_float[3]),int(string_to_float[4]),int(string_to_float[5])]\n",
    "            res['score'] = score\n",
    "            df.append(res)\n",
    "            \n",
    "            #df.append([j,label,score,int(string_to_float[2]),int(string_to_float[3]),int(string_to_float[4]),int(string_to_float[5])])\n",
    "    \n",
    "    #df = pd.DataFrame(df, columns = ['frameNumber', 'label', 'score', 'xmin', 'ymin', 'width', 'height'])\n",
    "    return df"
   ]
  },
  {
   "cell_type": "code",
   "execution_count": null,
   "metadata": {},
   "outputs": [],
   "source": [
    "# path to predictions files\n",
    "algo = 'yolo'\n",
    "in_path = \"C:/UsersDesktop/data/video/detections_\" + algo + '/'\n",
    "\n",
    "df_predictions = get_anno_as_df(in_path)\n",
    "df_predictions"
   ]
  },
  {
   "cell_type": "code",
   "execution_count": 22,
   "metadata": {},
   "outputs": [],
   "source": [
    "#out_file = 'towncentre_detections_' + algo + '.json'\n",
    "out_file = 'instances_towncentre_' + algo + 'bbox_results.json' \n",
    "\n",
    "with open(out_file, 'w') as f:\n",
    "    json.dump(df_predictions, f, separators=(',', ':')) "
   ]
  },
  {
   "cell_type": "code",
   "execution_count": null,
   "metadata": {},
   "outputs": [],
   "source": []
  },
  {
   "cell_type": "code",
   "execution_count": null,
   "metadata": {},
   "outputs": [],
   "source": []
  },
  {
   "cell_type": "code",
   "execution_count": null,
   "metadata": {},
   "outputs": [],
   "source": [
    "###############  THE FOLLOWING PORTION IS NOT REQUIRED   ####################"
   ]
  },
  {
   "cell_type": "markdown",
   "metadata": {},
   "source": [
    "###### generate a single csv file from the predictions files\n",
    "######  should have [['frame number','xmin','ymin','xmax','ymax','score']]\n",
    "\n",
    "###### input pred.txt files have: 'label', 'score', 'xmin', 'ymin', 'width', 'height'"
   ]
  },
  {
   "cell_type": "code",
   "execution_count": 1,
   "metadata": {},
   "outputs": [],
   "source": [
    "import os\n",
    "import pandas as pd"
   ]
  },
  {
   "cell_type": "code",
   "execution_count": 2,
   "metadata": {},
   "outputs": [],
   "source": [
    "def get_anno_as_df(in_path):\n",
    "    df = []\n",
    "    \n",
    "    for j in range(4501):\n",
    "        in_file = in_path + str(j) + '.txt'\n",
    "        #print(in_file)\n",
    "        FileIN = open(in_file, 'r')\n",
    "        \n",
    "        for Line in FileIN:\n",
    "            string_data = Line.split(sep=' ') \n",
    "            string_to_float = [float(i) for i in string_data]     \n",
    "            #label = int(0)\n",
    "            score = string_to_float[1]\n",
    "            #xmin = string_to_float[2]\n",
    "            #ymin = string_to_float[3]\n",
    "            #width = string_to_float[4]\n",
    "            #height = string_to_float[5]\n",
    "            xmax = string_to_float[2] + string_to_float[4]\n",
    "            ymax = string_to_float[3] + string_to_float[5]\n",
    "            \n",
    "            \n",
    "            #res = dict()\n",
    "            #res['image_id'] = int(j)\n",
    "            #res['category_id']=int(1)   ## changed here from 0 to 1\n",
    "            #res['bbox'] = [int(string_to_float[2]),int(string_to_float[3]),int(string_to_float[4]),int(string_to_float[5])]\n",
    "            #res['score'] = score\n",
    "            #df.append(res)\n",
    "            \n",
    "            df.append([j,int(string_to_float[2]),int(string_to_float[3]),int(xmax),int(ymax),score])\n",
    "    \n",
    "    df = pd.DataFrame(df, columns = ['frameNumber', 'xmin', 'ymin', 'xmax', 'ymax', 'score'])\n",
    "    return df"
   ]
  },
  {
   "cell_type": "code",
   "execution_count": 4,
   "metadata": {},
   "outputs": [],
   "source": [
    "algo = 'yolo'\n",
    "in_path = \"C:/Users/Desktop/data/detections_\" + algo + '/' \n",
    "pred = get_anno_as_df(in_path)"
   ]
  },
  {
   "cell_type": "code",
   "execution_count": 6,
   "metadata": {},
   "outputs": [],
   "source": [
    "out_file = \"C:/Users/Desktop/data/video/\" + 'pred_' + algo + '.csv' \n",
    "\n",
    "pred.to_csv(out_file)"
   ]
  },
  {
   "cell_type": "code",
   "execution_count": null,
   "metadata": {},
   "outputs": [],
   "source": []
  },
  {
   "cell_type": "code",
   "execution_count": null,
   "metadata": {},
   "outputs": [],
   "source": []
  }
 ],
 "metadata": {
  "kernelspec": {
   "display_name": "Python 3",
   "language": "python",
   "name": "python3"
  },
  "language_info": {
   "codemirror_mode": {
    "name": "ipython",
    "version": 3
   },
   "file_extension": ".py",
   "mimetype": "text/x-python",
   "name": "python",
   "nbconvert_exporter": "python",
   "pygments_lexer": "ipython3",
   "version": "3.7.6"
  }
 },
 "nbformat": 4,
 "nbformat_minor": 4
}
