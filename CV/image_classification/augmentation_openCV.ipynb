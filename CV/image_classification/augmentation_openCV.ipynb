{
 "cells": [
  {
   "cell_type": "code",
   "execution_count": null,
   "metadata": {},
   "outputs": [],
   "source": [
    "# !pip install fastai"
   ]
  },
  {
   "cell_type": "code",
   "execution_count": null,
   "metadata": {},
   "outputs": [],
   "source": [
    "# https://towardsdatascience.com/complete-image-augmentation-in-opencv-31a6b02694f5  (color changes while viewing using openCV)\n",
    "\n",
    "# https://towardsdatascience.com/color-identification-in-images-machine-learning-application-b26e770c4c71 \n",
    "after the line \"img = cv2.cvtColor(hsv, cv2.COLOR_HSV2BGR)\" ,\n",
    "add this & cross-check \"image = cv2.cvtColor(img, cv2.COLOR_BGR2RGB)\" \n",
    "\n",
    "# Fastai-based implementation of brightness augmentation\n",
    "# https://github.com/albumentations-team/albumentations\n",
    "# https://colab.research.google.com/drive/1JuZ23u0C0gx93kV0oJ8Mq0B6CBYhPLXy#scrollTo=GwFN-In3iagp&forceEdit=true&offline=true&sandboxMode=true \n",
    "\n",
    "\n",
    "# another lib https://github.com/aleju/imgaug \n",
    "# GitHub - ildoonet/unsupervised-data-augmentation: Unofficial PyTorch Implementation of Unsupervised Data Augmentation."
   ]
  },
  {
   "cell_type": "code",
   "execution_count": 182,
   "metadata": {},
   "outputs": [],
   "source": [
    "# auto-updating\n",
    "%reload_ext autoreload\n",
    "%autoreload 2\n",
    "%matplotlib inline"
   ]
  },
  {
   "cell_type": "markdown",
   "metadata": {
    "colab_type": "text",
    "id": "elpGxGIiHWpy"
   },
   "source": [
    "Setting Random Seed and Using CUDA for GPU Processing"
   ]
  },
  {
   "cell_type": "code",
   "execution_count": 183,
   "metadata": {},
   "outputs": [],
   "source": [
    "import matplotlib.pyplot as plt\n",
    "import numpy as np\n",
    "import pandas as pd\n",
    "import cv2\n",
    "import glob\n",
    "from sklearn.preprocessing import LabelEncoder\n",
    "import os\n",
    "import torch\n",
    "import fastai\n",
    "import time\n",
    "from fastai.vision import *\n",
    "np.random.seed(0) \n",
    "from torchvision.models import resnet50\n",
    "from torchvision.models import mobilenet_v2\n",
    "from torchvision.models import vgg16\n",
    "from fastai.callbacks import *\n",
    "from sklearn.metrics import accuracy_score\n",
    "from sklearn.metrics import confusion_matrix\n",
    "\n",
    "from fastai import *\n",
    "# from fastai.dataset import ModelData,ArraysIndexDataset\n",
    "# from fastai.dataloader import DataLoader\n",
    "# from fastai.learner import Learner\n",
    "\n",
    "import torch\n",
    "import torch.nn as nn\n",
    "\n",
    "from IPython.core.interactiveshell import InteractiveShell\n",
    "InteractiveShell.ast_node_interactivity = \"all\"\n",
    "\n",
    "def random_seed(seed_value, use_cuda):  \n",
    "    np.random.seed(seed_value) \n",
    "    torch.manual_seed(seed_value) \n",
    "    random.seed(seed_value) \n",
    "    torch.backends.cudnn.deterministic = True\n",
    "\n",
    "    if use_cuda: torch.cuda.manual_seed_all(seed_value) \n",
    "\n",
    "# Set seed\n",
    "#random_seed(0,False)\n",
    "random_seed(0,True)"
   ]
  },
  {
   "cell_type": "code",
   "execution_count": 184,
   "metadata": {},
   "outputs": [],
   "source": [
    "#from fastai.callbacks import CSVLogger"
   ]
  },
  {
   "cell_type": "code",
   "execution_count": 185,
   "metadata": {
    "colab": {
     "base_uri": "https://localhost:8080/",
     "height": 50
    },
    "colab_type": "code",
    "id": "FuhIh4EEOjQv",
    "outputId": "438a6a95-2b58-4610-cddc-1638242b3f22"
   },
   "outputs": [
    {
     "name": "stdout",
     "output_type": "stream",
     "text": [
      "CUDA Available? True\n"
     ]
    },
    {
     "data": {
      "text/plain": [
       "<torch._C.Generator at 0x202d01682e8>"
      ]
     },
     "execution_count": 185,
     "metadata": {},
     "output_type": "execute_result"
    }
   ],
   "source": [
    "SEED = 1\n",
    "# CUDA?\n",
    "cuda = torch.cuda.is_available()\n",
    "print(\"CUDA Available?\", cuda)\n",
    "\n",
    "# For reproducibility\n",
    "torch.manual_seed(SEED)\n",
    "\n",
    "if cuda:\n",
    "    torch.cuda.manual_seed(SEED)\n",
    "\n",
    "CUDA_LAUNCH_BLOCKING=1"
   ]
  },
  {
   "cell_type": "code",
   "execution_count": 186,
   "metadata": {
    "colab": {},
    "colab_type": "code",
    "id": "iu9nzjOV-Z3k"
   },
   "outputs": [],
   "source": [
    "import itertools\n",
    "\n",
    "def plot_confusion_matrix(cm, classes,\n",
    "                          normalize=False,\n",
    "                          title='Confusion matrix',\n",
    "                          cmap=plt.cm.Blues):\n",
    "    \"\"\"\n",
    "    This function prints and plots the confusion matrix.\n",
    "    Normalization can be applied by setting `normalize=True`.\n",
    "    \"\"\"\n",
    "    if normalize:\n",
    "        cm = cm.astype('float') / cm.sum(axis=1)[:, np.newaxis]\n",
    "        print(\"Normalized confusion matrix\")\n",
    "    else:\n",
    "        print('Confusion matrix, without normalization')\n",
    "\n",
    "    print(cm)\n",
    "\n",
    "    plt.imshow(cm, interpolation='nearest', cmap=cmap)\n",
    "    plt.title(title)\n",
    "    plt.colorbar()\n",
    "    tick_marks = np.arange(len(classes))\n",
    "    plt.xticks(tick_marks, classes, rotation=45)\n",
    "    plt.yticks(tick_marks, classes)\n",
    "\n",
    "    fmt = '.2f' if normalize else 'd'\n",
    "    thresh = cm.max() / 2.\n",
    "    for i, j in itertools.product(range(cm.shape[0]), range(cm.shape[1])):\n",
    "        plt.text(j, i, format(cm[i, j], fmt),\n",
    "                 horizontalalignment=\"center\",\n",
    "                 color=\"white\" if cm[i, j] > thresh else \"black\")\n",
    "\n",
    "    plt.tight_layout()\n",
    "    plt.ylabel('Actual')\n",
    "    plt.xlabel('Predicted')"
   ]
  },
  {
   "cell_type": "code",
   "execution_count": null,
   "metadata": {},
   "outputs": [],
   "source": [
    "# Set batch size of images \n",
    "bs = 4\n",
    " #32  #64\n",
    "\n",
    "#image_path = Path(r\"C:\\Users\\Desktop\\Projects\\Classification Codes\\data\\IMAGES\\train\")\n",
    "image_path = Path(r\"C:\\Users\\Desktop\\Projects\\Augmented_Images\")\n",
    "\n",
    "image_path.ls()"
   ]
  },
  {
   "cell_type": "code",
   "execution_count": null,
   "metadata": {},
   "outputs": [],
   "source": [
    "## load data\n",
    "# fastai is automatically supposed to handle image format conversions- greyscale(L), RGB\n",
    "\n",
    "# https://forums.fast.ai/t/how-to-load-images-as-grayscale/36895/6\n",
    "# google: can fastai convert greyscale images to RGB\n",
    "\n",
    "data = ImageDataBunch.from_folder(image_path, \n",
    "                                  valid_pct=0.4,\n",
    "                                  ds_tfms=get_transforms(), \n",
    "                                  size=512, \n",
    "                                  bs=bs, \n",
    "                                  num_workers=1,\n",
    "                                  seed=9).normalize(imagenet_stats)"
   ]
  },
  {
   "cell_type": "code",
   "execution_count": 190,
   "metadata": {
    "colab": {
     "base_uri": "https://localhost:8080/",
     "height": 34
    },
    "colab_type": "code",
    "id": "FddxvXVw-Z3y",
    "outputId": "34b4cc20-3155-49d4-9b93-2e264c1bc00a"
   },
   "outputs": [
    {
     "data": {
      "text/plain": [
       "['Good', 'Grind', 'Induction', 'Stain']"
      ]
     },
     "execution_count": 190,
     "metadata": {},
     "output_type": "execute_result"
    },
    {
     "data": {
      "text/plain": [
       "4"
      ]
     },
     "execution_count": 190,
     "metadata": {},
     "output_type": "execute_result"
    },
    {
     "data": {
      "text/plain": [
       "325"
      ]
     },
     "execution_count": 190,
     "metadata": {},
     "output_type": "execute_result"
    },
    {
     "data": {
      "text/plain": [
       "216"
      ]
     },
     "execution_count": 190,
     "metadata": {},
     "output_type": "execute_result"
    }
   ],
   "source": [
    "data.classes\n",
    "data.c\n",
    "len(data.train_ds)\n",
    "len(data.valid_ds)"
   ]
  },
  {
   "cell_type": "code",
   "execution_count": 191,
   "metadata": {
    "colab": {
     "base_uri": "https://localhost:8080/",
     "height": 101
    },
    "colab_type": "code",
    "id": "tRnfNHyJ-Z30",
    "outputId": "715b1010-20c7-4d58-c1d7-d48fb396b7e1"
   },
   "outputs": [
    {
     "data": {
      "text/plain": [
       "Good         208\n",
       "Grind         17\n",
       "Induction     77\n",
       "Stain         23\n",
       "dtype: int64"
      ]
     },
     "execution_count": 191,
     "metadata": {},
     "output_type": "execute_result"
    }
   ],
   "source": [
    "# count no. of examples in train & validation sets \n",
    "# train set\n",
    "vc = pd.value_counts(data.train_ds.y.items, sort =False)\n",
    "vc.index = data.classes\n",
    "vc\n",
    "# ratio"
   ]
  },
  {
   "cell_type": "code",
   "execution_count": 192,
   "metadata": {
    "colab": {
     "base_uri": "https://localhost:8080/",
     "height": 101
    },
    "colab_type": "code",
    "id": "6IZXxmkN-Z31",
    "outputId": "1af29b88-4a7a-4d31-b19b-5685ccd72d78"
   },
   "outputs": [
    {
     "data": {
      "text/plain": [
       "0    152\n",
       "1      8\n",
       "2     39\n",
       "3     17\n",
       "dtype: int64"
      ]
     },
     "execution_count": 192,
     "metadata": {},
     "output_type": "execute_result"
    }
   ],
   "source": [
    "# val set\n",
    "vc = pd.value_counts(data.valid_ds.y.items, sort =False)\n",
    "# vc.index = data.classes\n",
    "vc\n",
    "# ratio"
   ]
  },
  {
   "cell_type": "code",
   "execution_count": null,
   "metadata": {},
   "outputs": [],
   "source": [
    "data.show_batch(rows=3, figsize=(7,8))"
   ]
  },
  {
   "cell_type": "code",
   "execution_count": 194,
   "metadata": {},
   "outputs": [],
   "source": [
    "precision = Precision()\n",
    "recall = Recall()\n",
    "metrics = [accuracy,precision,recall]"
   ]
  },
  {
   "cell_type": "markdown",
   "metadata": {
    "colab_type": "text",
    "id": "UyzZfztaHoaj"
   },
   "source": [
    "### MobileNet_V2  Two Call backs"
   ]
  },
  {
   "cell_type": "code",
   "execution_count": 95,
   "metadata": {},
   "outputs": [],
   "source": [
    "#callback_fn=partial(CSVLogger, filename=f'sample_history_stage1')"
   ]
  },
  {
   "cell_type": "code",
   "execution_count": 198,
   "metadata": {
    "colab": {},
    "colab_type": "code",
    "id": "W-yzAzcsHWrR"
   },
   "outputs": [],
   "source": [
    "# Initialize cnn_learner object with the right model and its pretrained weights\n",
    "learn = cnn_learner(data, mobilenet_v2, pretrained=True, metrics=metrics, cut=-1,callback_fns=[partial(CSVLogger)])\n",
    "\n",
    "\n",
    "learn.loss_func = torch.nn.functional.cross_entropy\n",
    "# learn.loss_func = nn.CrossEntropyLoss(weight=class_weights)\n",
    "#cb=CSVLogger(learn)\n",
    "\n",
    "#EarlyStoppingCallback(learn, monitor='accuracy', min_delta=0.01, patience=3),\n",
    "callbacks = [EarlyStoppingCallback(learn, monitor='accuracy', min_delta=0.01, patience=3),\n",
    "             SaveModelCallback(learn, every='improvement', monitor='valid_loss', name='Mobile_Net')]\n",
    "learn.callbacks = callbacks"
   ]
  },
  {
   "cell_type": "code",
   "execution_count": 199,
   "metadata": {},
   "outputs": [],
   "source": [
    "#learn.recorder.plot(suggestion=True)\n",
    "#learn.path"
   ]
  },
  {
   "cell_type": "code",
   "execution_count": 200,
   "metadata": {
    "colab": {
     "base_uri": "https://localhost:8080/",
     "height": 414
    },
    "colab_type": "code",
    "id": "7_1bVO5gHWrU",
    "outputId": "a3ece159-531d-4592-a242-0ddf86a89ffa",
    "scrolled": true
   },
   "outputs": [
    {
     "data": {
      "text/html": [
       "\n",
       "    <div>\n",
       "        <style>\n",
       "            /* Turns off some styling */\n",
       "            progress {\n",
       "                /* gets rid of default border in Firefox and Opera. */\n",
       "                border: none;\n",
       "                /* Needs to be in here for Safari polyfill so background images work as expected. */\n",
       "                background-size: auto;\n",
       "            }\n",
       "            .progress-bar-interrupted, .progress-bar-interrupted::-webkit-progress-bar {\n",
       "                background: #F44336;\n",
       "            }\n",
       "        </style>\n",
       "      <progress value='15' class='' max='20' style='width:300px; height:20px; vertical-align: middle;'></progress>\n",
       "      75.00% [15/20 34:43<11:34]\n",
       "    </div>\n",
       "    \n",
       "<table border=\"1\" class=\"dataframe\">\n",
       "  <thead>\n",
       "    <tr style=\"text-align: left;\">\n",
       "      <th>epoch</th>\n",
       "      <th>train_loss</th>\n",
       "      <th>valid_loss</th>\n",
       "      <th>accuracy</th>\n",
       "      <th>precision</th>\n",
       "      <th>recall</th>\n",
       "      <th>time</th>\n",
       "    </tr>\n",
       "  </thead>\n",
       "  <tbody>\n",
       "    <tr>\n",
       "      <td>0</td>\n",
       "      <td>2.244672</td>\n",
       "      <td>1.050947</td>\n",
       "      <td>0.550926</td>\n",
       "      <td>0.402936</td>\n",
       "      <td>0.433471</td>\n",
       "      <td>02:18</td>\n",
       "    </tr>\n",
       "    <tr>\n",
       "      <td>1</td>\n",
       "      <td>1.648743</td>\n",
       "      <td>0.532768</td>\n",
       "      <td>0.800926</td>\n",
       "      <td>0.607308</td>\n",
       "      <td>0.719204</td>\n",
       "      <td>02:17</td>\n",
       "    </tr>\n",
       "    <tr>\n",
       "      <td>2</td>\n",
       "      <td>1.323486</td>\n",
       "      <td>0.796445</td>\n",
       "      <td>0.689815</td>\n",
       "      <td>0.533994</td>\n",
       "      <td>0.552696</td>\n",
       "      <td>02:18</td>\n",
       "    </tr>\n",
       "    <tr>\n",
       "      <td>3</td>\n",
       "      <td>1.061191</td>\n",
       "      <td>0.462682</td>\n",
       "      <td>0.814815</td>\n",
       "      <td>0.565153</td>\n",
       "      <td>0.534410</td>\n",
       "      <td>02:18</td>\n",
       "    </tr>\n",
       "    <tr>\n",
       "      <td>4</td>\n",
       "      <td>1.095197</td>\n",
       "      <td>0.391652</td>\n",
       "      <td>0.851852</td>\n",
       "      <td>0.680155</td>\n",
       "      <td>0.595047</td>\n",
       "      <td>02:19</td>\n",
       "    </tr>\n",
       "    <tr>\n",
       "      <td>5</td>\n",
       "      <td>0.995566</td>\n",
       "      <td>0.315395</td>\n",
       "      <td>0.870370</td>\n",
       "      <td>0.679840</td>\n",
       "      <td>0.679629</td>\n",
       "      <td>02:19</td>\n",
       "    </tr>\n",
       "    <tr>\n",
       "      <td>6</td>\n",
       "      <td>0.885524</td>\n",
       "      <td>0.240972</td>\n",
       "      <td>0.902778</td>\n",
       "      <td>0.796066</td>\n",
       "      <td>0.700943</td>\n",
       "      <td>02:18</td>\n",
       "    </tr>\n",
       "    <tr>\n",
       "      <td>7</td>\n",
       "      <td>0.769106</td>\n",
       "      <td>0.211337</td>\n",
       "      <td>0.930556</td>\n",
       "      <td>0.869063</td>\n",
       "      <td>0.787849</td>\n",
       "      <td>02:18</td>\n",
       "    </tr>\n",
       "    <tr>\n",
       "      <td>8</td>\n",
       "      <td>0.753756</td>\n",
       "      <td>0.288759</td>\n",
       "      <td>0.898148</td>\n",
       "      <td>nan</td>\n",
       "      <td>0.648431</td>\n",
       "      <td>02:17</td>\n",
       "    </tr>\n",
       "    <tr>\n",
       "      <td>9</td>\n",
       "      <td>0.821236</td>\n",
       "      <td>0.306187</td>\n",
       "      <td>0.902778</td>\n",
       "      <td>0.905070</td>\n",
       "      <td>0.699708</td>\n",
       "      <td>02:19</td>\n",
       "    </tr>\n",
       "    <tr>\n",
       "      <td>10</td>\n",
       "      <td>0.740921</td>\n",
       "      <td>0.171637</td>\n",
       "      <td>0.925926</td>\n",
       "      <td>0.826961</td>\n",
       "      <td>0.756599</td>\n",
       "      <td>02:19</td>\n",
       "    </tr>\n",
       "    <tr>\n",
       "      <td>11</td>\n",
       "      <td>0.477212</td>\n",
       "      <td>0.128196</td>\n",
       "      <td>0.953704</td>\n",
       "      <td>0.844341</td>\n",
       "      <td>0.852988</td>\n",
       "      <td>02:19</td>\n",
       "    </tr>\n",
       "    <tr>\n",
       "      <td>12</td>\n",
       "      <td>0.405450</td>\n",
       "      <td>0.163185</td>\n",
       "      <td>0.944444</td>\n",
       "      <td>0.846448</td>\n",
       "      <td>0.831872</td>\n",
       "      <td>02:19</td>\n",
       "    </tr>\n",
       "    <tr>\n",
       "      <td>13</td>\n",
       "      <td>0.599497</td>\n",
       "      <td>0.192421</td>\n",
       "      <td>0.944444</td>\n",
       "      <td>0.870693</td>\n",
       "      <td>0.873350</td>\n",
       "      <td>02:19</td>\n",
       "    </tr>\n",
       "    <tr>\n",
       "      <td>14</td>\n",
       "      <td>0.423085</td>\n",
       "      <td>0.152925</td>\n",
       "      <td>0.935185</td>\n",
       "      <td>0.800137</td>\n",
       "      <td>0.819052</td>\n",
       "      <td>02:19</td>\n",
       "    </tr>\n",
       "  </tbody>\n",
       "</table><p>\n",
       "\n",
       "    <div>\n",
       "        <style>\n",
       "            /* Turns off some styling */\n",
       "            progress {\n",
       "                /* gets rid of default border in Firefox and Opera. */\n",
       "                border: none;\n",
       "                /* Needs to be in here for Safari polyfill so background images work as expected. */\n",
       "                background-size: auto;\n",
       "            }\n",
       "            .progress-bar-interrupted, .progress-bar-interrupted::-webkit-progress-bar {\n",
       "                background: #F44336;\n",
       "            }\n",
       "        </style>\n",
       "      <progress value='54' class='' max='54' style='width:300px; height:20px; vertical-align: middle;'></progress>\n",
       "      100.00% [54/54 00:52<00:00]\n",
       "    </div>\n",
       "    "
      ],
      "text/plain": [
       "<IPython.core.display.HTML object>"
      ]
     },
     "metadata": {},
     "output_type": "display_data"
    },
    {
     "name": "stdout",
     "output_type": "stream",
     "text": [
      "Better model found at epoch 0 with valid_loss value: 1.0509474277496338.\n"
     ]
    },
    {
     "name": "stderr",
     "output_type": "stream",
     "text": [
      "c:\\users\\nei3kor\\appdata\\local\\programs\\python\\python36\\lib\\site-packages\\fastai\\metrics.py:191: UserWarning: average=`binary` was selected for a non binary case. Value for average has now been set to `macro` instead.\n",
      "  warn(\"average=`binary` was selected for a non binary case. Value for average has now been set to `macro` instead.\")\n"
     ]
    },
    {
     "name": "stdout",
     "output_type": "stream",
     "text": [
      "Better model found at epoch 1 with valid_loss value: 0.5327682495117188.\n",
      "Better model found at epoch 3 with valid_loss value: 0.4626822769641876.\n",
      "Better model found at epoch 4 with valid_loss value: 0.3916517496109009.\n",
      "Better model found at epoch 5 with valid_loss value: 0.3153954744338989.\n",
      "Better model found at epoch 6 with valid_loss value: 0.24097177386283875.\n",
      "Better model found at epoch 7 with valid_loss value: 0.2113373875617981.\n",
      "Better model found at epoch 10 with valid_loss value: 0.1716371476650238.\n",
      "Better model found at epoch 11 with valid_loss value: 0.12819597125053406.\n",
      "Epoch 15: early stopping\n"
     ]
    }
   ],
   "source": [
    "# Fit one cycle method for a number of epochs\n",
    "epochs = 20\n",
    "learn.fit_one_cycle(epochs)\n",
    "#torch.save(learn.model.state_dict(), f'{fname}_{fold}.pth')"
   ]
  },
  {
   "cell_type": "code",
   "execution_count": 201,
   "metadata": {
    "colab": {
     "base_uri": "https://localhost:8080/",
     "height": 279
    },
    "colab_type": "code",
    "id": "VZQ2okrRRTQA",
    "outputId": "7038831d-45cb-4c2f-c18f-bc4de9da9a7b"
   },
   "outputs": [
    {
     "data": {
      "image/png": "[encoded data removed]",
      "text/plain": [
       "<Figure size 432x288 with 1 Axes>"
      ]
     },
     "metadata": {
      "needs_background": "light"
     },
     "output_type": "display_data"
    }
   ],
   "source": [
    "learn.recorder.plot_losses()"
   ]
  },
  {
   "cell_type": "code",
   "execution_count": 202,
   "metadata": {
    "colab": {
     "base_uri": "https://localhost:8080/",
     "height": 17
    },
    "colab_type": "code",
    "id": "RARsd1koHWrZ",
    "outputId": "2bb89849-72ca-403e-face-2bc6a37b9537"
   },
   "outputs": [
    {
     "data": {
      "text/html": [],
      "text/plain": [
       "<IPython.core.display.HTML object>"
      ]
     },
     "metadata": {},
     "output_type": "display_data"
    },
    {
     "data": {
      "text/html": [],
      "text/plain": [
       "<IPython.core.display.HTML object>"
      ]
     },
     "metadata": {},
     "output_type": "display_data"
    },
    {
     "data": {
      "text/html": [],
      "text/plain": [
       "<IPython.core.display.HTML object>"
      ]
     },
     "metadata": {},
     "output_type": "display_data"
    },
    {
     "data": {
      "text/html": [],
      "text/plain": [
       "<IPython.core.display.HTML object>"
      ]
     },
     "metadata": {},
     "output_type": "display_data"
    }
   ],
   "source": [
    "# Get the predictions for validation set and store as numpy array\n",
    "preds = learn.get_preds()[0].argmax(dim=-1).numpy()\n",
    "test_actual = learn.get_preds()[1].numpy()\n",
    "\n",
    "# Get the predictions for training set and store as numpy array\n",
    "train_pred = learn.get_preds(ds_type=DatasetType.Train)[0].argmax(dim=-1).numpy()\n",
    "train_actual = learn.get_preds(ds_type=DatasetType.Train)[1].numpy()\n",
    "\n",
    "# Calculate accuracy_score and append to Dataframe\n",
    "val_acc = accuracy_score(test_actual, preds)\n",
    "train_acc = accuracy_score(train_actual, train_pred)\n",
    "\n"
   ]
  },
  {
   "cell_type": "code",
   "execution_count": 203,
   "metadata": {
    "colab": {
     "base_uri": "https://localhost:8080/",
     "height": 34
    },
    "colab_type": "code",
    "id": "oADgdD23HWrm",
    "outputId": "3354f724-1d2b-4097-e077-5d0528a4c0bd"
   },
   "outputs": [
    {
     "data": {
      "text/plain": [
       "(0.9537037037037037, 0.4691358024691358)"
      ]
     },
     "execution_count": 203,
     "metadata": {},
     "output_type": "execute_result"
    }
   ],
   "source": [
    "val_acc, train_acc"
   ]
  },
  {
   "cell_type": "code",
   "execution_count": 204,
   "metadata": {
    "colab": {
     "base_uri": "https://localhost:8080/",
     "height": 34
    },
    "colab_type": "code",
    "id": "QJLOznpdEtCL",
    "outputId": "bc46aea2-162d-4101-918f-7375aabdb8f7"
   },
   "outputs": [
    {
     "data": {
      "text/plain": [
       "((324,), (324,))"
      ]
     },
     "execution_count": 204,
     "metadata": {},
     "output_type": "execute_result"
    }
   ],
   "source": [
    "train_pred.shape, train_actual.shape"
   ]
  },
  {
   "cell_type": "code",
   "execution_count": 205,
   "metadata": {
    "colab": {
     "base_uri": "https://localhost:8080/",
     "height": 34
    },
    "colab_type": "code",
    "id": "ZL1pMpspE1SL",
    "outputId": "77400df7-0014-4e7a-f815-16b12c69ac0f"
   },
   "outputs": [
    {
     "data": {
      "text/plain": [
       "((216,), (216,))"
      ]
     },
     "execution_count": 205,
     "metadata": {},
     "output_type": "execute_result"
    }
   ],
   "source": [
    "preds.shape, test_actual.shape"
   ]
  },
  {
   "cell_type": "code",
   "execution_count": 206,
   "metadata": {
    "colab": {
     "base_uri": "https://localhost:8080/",
     "height": 84
    },
    "colab_type": "code",
    "id": "QL8UN8JJHLIk",
    "outputId": "6968f68b-a5f9-48b4-f027-e904d23dae54"
   },
   "outputs": [
    {
     "data": {
      "text/plain": [
       "array([[152,   0,   0,   0],\n",
       "       [  0,   7,   0,   1],\n",
       "       [  1,   0,  37,   1],\n",
       "       [  1,   5,   1,  10]], dtype=int64)"
      ]
     },
     "execution_count": 206,
     "metadata": {},
     "output_type": "execute_result"
    }
   ],
   "source": [
    "confusion_matrix(test_actual, preds)"
   ]
  },
  {
   "cell_type": "code",
   "execution_count": 149,
   "metadata": {
    "colab": {
     "base_uri": "https://localhost:8080/",
     "height": 84
    },
    "colab_type": "code",
    "id": "-V59TMvxHLIt",
    "outputId": "a0ca9a82-a62a-404a-81ab-b1302225612e"
   },
   "outputs": [
    {
     "data": {
      "text/plain": [
       "array([[62,  7, 25,  4],\n",
       "       [ 7,  2,  2,  1],\n",
       "       [25,  2,  8,  4],\n",
       "       [ 9,  2,  3,  1]], dtype=int64)"
      ]
     },
     "execution_count": 149,
     "metadata": {},
     "output_type": "execute_result"
    }
   ],
   "source": [
    "confusion_matrix(train_actual, train_pred)"
   ]
  },
  {
   "cell_type": "code",
   "execution_count": 207,
   "metadata": {
    "colab": {
     "base_uri": "https://localhost:8080/",
     "height": 626
    },
    "colab_type": "code",
    "id": "am4A_ZyDQTCM",
    "outputId": "34ec68bb-4b6b-4e15-9adf-5a0b45f245fd"
   },
   "outputs": [
    {
     "data": {
      "text/html": [],
      "text/plain": [
       "<IPython.core.display.HTML object>"
      ]
     },
     "metadata": {},
     "output_type": "display_data"
    },
    {
     "data": {
      "image/png": "[encoded data removed]",
      "text/plain": [
       "<Figure size 600x600 with 1 Axes>"
      ]
     },
     "metadata": {
      "needs_background": "light"
     },
     "output_type": "display_data"
    }
   ],
   "source": [
    "interp = ClassificationInterpretation.from_learner(learn)\n",
    "interp.plot_confusion_matrix(figsize=(6,6), dpi=100)"
   ]
  },
  {
   "cell_type": "code",
   "execution_count": null,
   "metadata": {},
   "outputs": [],
   "source": [
    "learn.export(r\"C:\\Users\\Desktop\\Projects\\classification\\Data\\mobilenetv2_Callbacks_20Augmentation.pkl\")\n",
    "#learn.save(os.path.join(model_save_path,'/resnet34_nocrk6000_epc2_stage-2'))\n",
    "\n",
    "learn.save(r'C:\\Users\\Desktop\\Projects\\classification\\Data\\mobilenetv2_Callbacks_20Augmentation')"
   ]
  },
  {
   "cell_type": "markdown",
   "metadata": {
    "colab_type": "text",
    "id": "LYEiLo-zRqQm"
   },
   "source": [
    "### Testing on New Images"
   ]
  },
  {
   "cell_type": "code",
   "execution_count": null,
   "metadata": {},
   "outputs": [],
   "source": [
    "learn.load(r'C:\\Users\\Desktop\\Projects\\classification\\Data\\mobilenetv2_Callbacks_20Augmentation')"
   ]
  },
  {
   "cell_type": "code",
   "execution_count": 220,
   "metadata": {
    "colab": {},
    "colab_type": "code",
    "id": "eCVwT9nXSB3I"
   },
   "outputs": [],
   "source": [
    "# predicting on a separate set, with labeled data\n",
    "# use this method if there are several folders withing test folder\n",
    "\n",
    "test_directory = r'C:\\Users\\Desktop\\Projects\\classification\\Data\\Test'\n",
    "images = []\n",
    "\n",
    "for r, d, f in os.walk(test_directory):\n",
    "    for file in f:\n",
    "        #if file.endswith(\".docx\"):\n",
    "        images.append(os.path.join(r, file))\n"
   ]
  },
  {
   "cell_type": "code",
   "execution_count": null,
   "metadata": {},
   "outputs": [],
   "source": [
    "images"
   ]
  },
  {
   "cell_type": "code",
   "execution_count": null,
   "metadata": {},
   "outputs": [],
   "source": [
    "from fastai.vision import image\n",
    "pred = []\n",
    "\n",
    "for i in images:\n",
    "    #img = image.open_image(test_directory+i)   # NameError: name 'image' is not defined  if image is not imported\n",
    "    img = image.open_image(i)\n",
    "    pred_class,pred_idx,outputs = learn.predict(img)\n",
    "    pred.append(str(pred_class))"
   ]
  },
  {
   "cell_type": "code",
   "execution_count": 223,
   "metadata": {
    "colab": {},
    "colab_type": "code",
    "id": "i0rdVcuU-Z5i"
   },
   "outputs": [],
   "source": [
    "actual = []\n",
    "\n",
    "for item in images:   # can be used if images are in sub-folders within test\n",
    "#for item in os.listdir(test_directory):  # only when images are directly in \"test\"\n",
    "    if 'Grind' in item:\n",
    "        actual.append('Grind')\n",
    "    if 'Induction' in item:\n",
    "        actual.append('Induction')\n",
    "    if 'Rust' in item:\n",
    "        actual.append('Stain')\n",
    "    if 'GOOD' in item:\n",
    "        actual.append('Good')          "
   ]
  },
  {
   "cell_type": "code",
   "execution_count": 224,
   "metadata": {},
   "outputs": [
    {
     "data": {
      "text/plain": [
       "['Grind',\n",
       " 'Grind',\n",
       " 'Induction',\n",
       " 'Induction',\n",
       " 'Induction',\n",
       " 'Stain',\n",
       " 'Stain',\n",
       " 'Stain',\n",
       " 'Good',\n",
       " 'Good',\n",
       " 'Good',\n",
       " 'Good']"
      ]
     },
     "execution_count": 224,
     "metadata": {},
     "output_type": "execute_result"
    }
   ],
   "source": [
    "actual"
   ]
  },
  {
   "cell_type": "code",
   "execution_count": 225,
   "metadata": {
    "colab": {
     "base_uri": "https://localhost:8080/",
     "height": 353
    },
    "colab_type": "code",
    "id": "Bf_Tpg2aUHQK",
    "outputId": "f7f5ca01-99fd-496f-d0c9-c9b48bb567bd",
    "scrolled": true
   },
   "outputs": [
    {
     "data": {
      "text/plain": [
       "['Grind',\n",
       " 'Grind',\n",
       " 'Induction',\n",
       " 'Induction',\n",
       " 'Grind',\n",
       " 'Stain',\n",
       " 'Stain',\n",
       " 'Grind',\n",
       " 'Good',\n",
       " 'Good',\n",
       " 'Good',\n",
       " 'Good']"
      ]
     },
     "execution_count": 225,
     "metadata": {},
     "output_type": "execute_result"
    }
   ],
   "source": [
    "pred"
   ]
  },
  {
   "cell_type": "code",
   "execution_count": 226,
   "metadata": {},
   "outputs": [],
   "source": [
    "Test_Results={}"
   ]
  },
  {
   "cell_type": "code",
   "execution_count": 227,
   "metadata": {
    "colab": {
     "base_uri": "https://localhost:8080/",
     "height": 202
    },
    "colab_type": "code",
    "id": "IugTTrqd-Z5l",
    "outputId": "5350ba38-de7f-447e-d41d-f4eb068b2f06"
   },
   "outputs": [],
   "source": [
    "from sklearn.metrics import confusion_matrix, classification_report, accuracy_score\n",
    "\n",
    "class_names = ['Good', 'Grind', 'Induction', 'Stain']\n",
    "report=classification_report(actual, pred, target_names=class_names)\n",
    "Classifiaction_Report=classification_report(actual, pred, target_names=class_names)\n",
    "Test_Results[\"Classification Report\"]=Classifiaction_Report"
   ]
  },
  {
   "cell_type": "code",
   "execution_count": 228,
   "metadata": {},
   "outputs": [
    {
     "name": "stdout",
     "output_type": "stream",
     "text": [
      "              precision    recall  f1-score   support\n",
      "\n",
      "        Good       1.00      1.00      1.00         4\n",
      "       Grind       0.50      1.00      0.67         2\n",
      "   Induction       1.00      0.67      0.80         3\n",
      "       Stain       1.00      0.67      0.80         3\n",
      "\n",
      "    accuracy                           0.83        12\n",
      "   macro avg       0.88      0.83      0.82        12\n",
      "weighted avg       0.92      0.83      0.84        12\n",
      "\n"
     ]
    }
   ],
   "source": [
    "print(Classifiaction_Report)"
   ]
  },
  {
   "cell_type": "markdown",
   "metadata": {},
   "source": [
    "# Mobile Net -One call back"
   ]
  },
  {
   "cell_type": "code",
   "execution_count": 16,
   "metadata": {},
   "outputs": [],
   "source": [
    "# Initialize cnn_learner object with the right model and its pretrained weights\n",
    "learn = cnn_learner(data, mobilenet_v2, pretrained=True, metrics=metrics, cut=-1)\n",
    "\n",
    "learn.loss_func = torch.nn.functional.cross_entropy\n",
    "# learn.loss_func = nn.CrossEntropyLoss(weight=class_weights)\n",
    "\n",
    "callbacks = [EarlyStoppingCallback(learn, monitor='accuracy', min_delta=0.01, patience=3)]\n",
    "learn.callbacks = callbacks"
   ]
  },
  {
   "cell_type": "code",
   "execution_count": null,
   "metadata": {},
   "outputs": [],
   "source": [
    "# Fit one cycle method for a number of epochs\n",
    "epochs = 5\n",
    "learn.fit_one_cycle(epochs)\n",
    "#torch.save(learn.model.state_dict(), f'{fname}_{fold}.pth')"
   ]
  },
  {
   "cell_type": "code",
   "execution_count": null,
   "metadata": {},
   "outputs": [],
   "source": []
  },
  {
   "cell_type": "code",
   "execution_count": 98,
   "metadata": {},
   "outputs": [],
   "source": [
    "#Ref\n",
    "def report_to_df(report):\n",
    "    report = [x.split(' ') for x in report.split('\\n')]\n",
    "    header = ['Class Name']+[x for x in report[0] if x!='']\n",
    "    values = []\n",
    "    for row in report[1:-5]:\n",
    "        row = [value for value in row if value!='']\n",
    "        if row!=[]:\n",
    "            values.append(row)\n",
    "    df = pd.DataFrame(data = values, columns = header)\n",
    "    return df"
   ]
  },
  {
   "cell_type": "code",
   "execution_count": 173,
   "metadata": {
    "colab": {
     "base_uri": "https://localhost:8080/",
     "height": 34
    },
    "colab_type": "code",
    "id": "gq5KyGmJ-Z5r",
    "outputId": "096bae53-9c6d-41f0-91c4-3f9ccb951186"
   },
   "outputs": [],
   "source": [
    "Accuracy_Score=accuracy_score(actual, pred)\n",
    "Test_Results[\"Accuracy_Score\"]=Accuracy_Score"
   ]
  },
  {
   "cell_type": "code",
   "execution_count": null,
   "metadata": {},
   "outputs": [],
   "source": []
  },
  {
   "cell_type": "code",
   "execution_count": 184,
   "metadata": {
    "colab": {
     "base_uri": "https://localhost:8080/",
     "height": 84
    },
    "colab_type": "code",
    "id": "rf2Kom_0-Z5v",
    "outputId": "0e0f700d-ad39-4c7b-bba3-c58da74339eb"
   },
   "outputs": [],
   "source": [
    "import pandas as pd\n",
    "Confusion_Matrix_List=[]\n",
    "Confusion_matrix=pd.DataFrame(confusion_matrix(actual,pred,labels=class_names))\n",
    "for index, row in Confusion_matrix.iterrows():\n",
    "    Confusion_Matrix_List.append(list(row))\n",
    "Test_Results[\"Confusion_Matrix\"]=Confusion_Matrix_List"
   ]
  },
  {
   "cell_type": "code",
   "execution_count": 185,
   "metadata": {},
   "outputs": [
    {
     "data": {
      "text/plain": [
       "{'Classification Report': {'Cr': {'precision': 0.9090909090909091,\n",
       "   'recall': 1.0,\n",
       "   'f1-score': 0.9523809523809523,\n",
       "   'support': 10},\n",
       "  'In': {'precision': 0.9090909090909091,\n",
       "   'recall': 1.0,\n",
       "   'f1-score': 0.9523809523809523,\n",
       "   'support': 10},\n",
       "  'Pa': {'precision': 1.0, 'recall': 1.0, 'f1-score': 1.0, 'support': 10},\n",
       "  'PS': {'precision': 1.0,\n",
       "   'recall': 0.9,\n",
       "   'f1-score': 0.9473684210526316,\n",
       "   'support': 10},\n",
       "  'RS': {'precision': 1.0, 'recall': 1.0, 'f1-score': 1.0, 'support': 10},\n",
       "  'Sc': {'precision': 1.0,\n",
       "   'recall': 0.9,\n",
       "   'f1-score': 0.9473684210526316,\n",
       "   'support': 10},\n",
       "  'accuracy': 0.9666666666666667,\n",
       "  'macro avg': {'precision': 0.9696969696969697,\n",
       "   'recall': 0.9666666666666668,\n",
       "   'f1-score': 0.9665831244778613,\n",
       "   'support': 60},\n",
       "  'weighted avg': {'precision': 0.9696969696969696,\n",
       "   'recall': 0.9666666666666667,\n",
       "   'f1-score': 0.9665831244778613,\n",
       "   'support': 60}},\n",
       " 'Accuracy_Score': 0.9666666666666667,\n",
       " 'Confusion_Matrix': [[10, 0, 0, 0, 0, 0],\n",
       "  [0, 10, 0, 0, 0, 0],\n",
       "  [1, 0, 9, 0, 0, 0],\n",
       "  [0, 0, 0, 10, 0, 0],\n",
       "  [0, 0, 0, 0, 10, 0],\n",
       "  [0, 1, 0, 0, 0, 9]]}"
      ]
     },
     "execution_count": 185,
     "metadata": {},
     "output_type": "execute_result"
    }
   ],
   "source": [
    "Test_Results"
   ]
  },
  {
   "cell_type": "code",
   "execution_count": 186,
   "metadata": {},
   "outputs": [],
   "source": [
    "import json\n",
    "with open('data.json', 'w') as f:\n",
    "    json.dump(Test_Results, f)"
   ]
  },
  {
   "cell_type": "code",
   "execution_count": null,
   "metadata": {},
   "outputs": [],
   "source": [
    "#o read json\n",
    "import json\n",
    "with open('data.json',\"r\") as f:\n",
    "    json.load(f)"
   ]
  },
  {
   "cell_type": "code",
   "execution_count": 37,
   "metadata": {
    "colab": {
     "base_uri": "https://localhost:8080/",
     "height": 395
    },
    "colab_type": "code",
    "id": "9suhsnPR-Z5z",
    "outputId": "249cf5a7-4bfc-46e1-fe12-aca434c9eaf0"
   },
   "outputs": [
    {
     "data": {
      "text/plain": [
       "<Figure size 432x288 with 0 Axes>"
      ]
     },
     "execution_count": 37,
     "metadata": {},
     "output_type": "execute_result"
    },
    {
     "name": "stdout",
     "output_type": "stream",
     "text": [
      "Confusion matrix, without normalization\n",
      "[[10  0  0  0  0  0]\n",
      " [ 0 10  0  0  0  0]\n",
      " [ 0  0 10  0  0  0]\n",
      " [ 1  0  0  9  0  0]\n",
      " [ 0  0  0  0 10  0]\n",
      " [ 0  1  0  0  0  9]]\n"
     ]
    },
    {
     "data": {
      "image/png": "[encoded data removed]",
      "text/plain": [
       "<Figure size 432x288 with 2 Axes>"
      ]
     },
     "metadata": {
      "needs_background": "light"
     },
     "output_type": "display_data"
    }
   ],
   "source": [
    "cnf_matrix = confusion_matrix(actual, pred)\n",
    "np.set_printoptions(precision=2)\n",
    "\n",
    "# Plot non-normalized confusion matrix\n",
    "plt.figure()\n",
    "plot_confusion_matrix(cnf_matrix, classes=class_names,\n",
    "                      title='Confusion matrix, without normalization')\n"
   ]
  },
  {
   "cell_type": "markdown",
   "metadata": {
    "colab_type": "text",
    "id": "OgpfymplHWsr"
   },
   "source": [
    "### VGG16"
   ]
  },
  {
   "cell_type": "code",
   "execution_count": null,
   "metadata": {
    "colab": {
     "base_uri": "https://localhost:8080/",
     "height": 82,
     "referenced_widgets": [
      "dd90b7b492ee4993abfcc039a498ff24",
      "a750865d02b441acaf4161c98ca1134b",
      "4a9799f262aa4237b4d32fc091ce1411",
      "0816881808a84cde94eb73d83517fac1",
      "9a4057ed61124447b554c97730b87845",
      "c6bdeffbde524779a2b4096e390fa082",
      "44c5aa2cab6e41dcbac591c1b226325b",
      "3c31c9cdef324836a201473b4d83e655"
     ]
    },
    "colab_type": "code",
    "id": "XLFEQ-I8HWss",
    "outputId": "3d78d54d-005a-4a19-b0b0-2d0aec4b500e"
   },
   "outputs": [
    {
     "name": "stderr",
     "output_type": "stream",
     "text": [
      "Downloading: \"https://download.pytorch.org/models/vgg16-397923af.pth\" to /root/.cache/torch/hub/checkpoints/vgg16-397923af.pth\n"
     ]
    },
    {
     "data": {
      "application/vnd.jupyter.widget-view+json": {
       "model_id": "dd90b7b492ee4993abfcc039a498ff24",
       "version_major": 2,
       "version_minor": 0
      },
      "text/plain": [
       "HBox(children=(FloatProgress(value=0.0, max=553433881.0), HTML(value='')))"
      ]
     },
     "metadata": {
      "tags": []
     },
     "output_type": "display_data"
    },
    {
     "name": "stdout",
     "output_type": "stream",
     "text": [
      "\n"
     ]
    }
   ],
   "source": [
    "learn1 = cnn_learner(data, vgg16, pretrained=True, metrics=metrics)\n",
    "# Below is needed since you get negative loss otherwise Ref: https://forums.fast.ai/t/negative-loss-with-letters-mnist/30889/15\n",
    "# learn.loss_func = torch.nn.functional.cross_entropy\n",
    "learn1.loss_func = nn.CrossEntropyLoss(weight=class_weights)\n",
    "\n",
    "callbacks = [EarlyStoppingCallback(learn1, monitor='accuracy', min_delta=0.01, patience=3), SaveModelCallback(learn1, every='improvement', monitor='accuracy')]\n",
    "learn1.callbacks = callbacks"
   ]
  },
  {
   "cell_type": "markdown",
   "metadata": {
    "colab_type": "text",
    "id": "FmTsg98SHWsx"
   },
   "source": [
    "By default, only the fully connected layers at the top are unfrozen (can be trained) (only in Fastai not Pytorch) ((i.e. requires_grad=False for all layers except FCN)"
   ]
  },
  {
   "cell_type": "code",
   "execution_count": null,
   "metadata": {
    "colab": {
     "base_uri": "https://localhost:8080/",
     "height": 385
    },
    "colab_type": "code",
    "id": "mGx0NXmwHWsz",
    "outputId": "76cd64a7-ed26-4ff9-8401-93d953dc0eb3",
    "scrolled": true
   },
   "outputs": [
    {
     "data": {
      "text/html": [
       "\n",
       "    <div>\n",
       "        <style>\n",
       "            /* Turns off some styling */\n",
       "            progress {\n",
       "                /* gets rid of default border in Firefox and Opera. */\n",
       "                border: none;\n",
       "                /* Needs to be in here for Safari polyfill so background images work as expected. */\n",
       "                background-size: auto;\n",
       "            }\n",
       "            .progress-bar-interrupted, .progress-bar-interrupted::-webkit-progress-bar {\n",
       "                background: #F44336;\n",
       "            }\n",
       "        </style>\n",
       "      <progress value='7' class='' max='10' style='width:300px; height:20px; vertical-align: middle;'></progress>\n",
       "      70.00% [7/10 00:34<00:14]\n",
       "    </div>\n",
       "    \n",
       "<table border=\"1\" class=\"dataframe\">\n",
       "  <thead>\n",
       "    <tr style=\"text-align: left;\">\n",
       "      <th>epoch</th>\n",
       "      <th>train_loss</th>\n",
       "      <th>valid_loss</th>\n",
       "      <th>accuracy</th>\n",
       "      <th>precision</th>\n",
       "      <th>recall</th>\n",
       "      <th>time</th>\n",
       "    </tr>\n",
       "  </thead>\n",
       "  <tbody>\n",
       "    <tr>\n",
       "      <td>0</td>\n",
       "      <td>2.319911</td>\n",
       "      <td>1.910482</td>\n",
       "      <td>0.103448</td>\n",
       "      <td>nan</td>\n",
       "      <td>0.321429</td>\n",
       "      <td>00:10</td>\n",
       "    </tr>\n",
       "    <tr>\n",
       "      <td>1</td>\n",
       "      <td>1.958246</td>\n",
       "      <td>1.237220</td>\n",
       "      <td>0.517241</td>\n",
       "      <td>nan</td>\n",
       "      <td>0.287594</td>\n",
       "      <td>00:03</td>\n",
       "    </tr>\n",
       "    <tr>\n",
       "      <td>2</td>\n",
       "      <td>1.551973</td>\n",
       "      <td>1.266010</td>\n",
       "      <td>0.551724</td>\n",
       "      <td>0.460714</td>\n",
       "      <td>0.604323</td>\n",
       "      <td>00:03</td>\n",
       "    </tr>\n",
       "    <tr>\n",
       "      <td>3</td>\n",
       "      <td>1.320657</td>\n",
       "      <td>1.307225</td>\n",
       "      <td>0.586207</td>\n",
       "      <td>0.658333</td>\n",
       "      <td>0.617481</td>\n",
       "      <td>00:03</td>\n",
       "    </tr>\n",
       "    <tr>\n",
       "      <td>4</td>\n",
       "      <td>1.090372</td>\n",
       "      <td>1.330631</td>\n",
       "      <td>0.586207</td>\n",
       "      <td>0.628125</td>\n",
       "      <td>0.706767</td>\n",
       "      <td>00:03</td>\n",
       "    </tr>\n",
       "    <tr>\n",
       "      <td>5</td>\n",
       "      <td>0.905562</td>\n",
       "      <td>1.332464</td>\n",
       "      <td>0.586207</td>\n",
       "      <td>nan</td>\n",
       "      <td>0.380639</td>\n",
       "      <td>00:03</td>\n",
       "    </tr>\n",
       "    <tr>\n",
       "      <td>6</td>\n",
       "      <td>0.773023</td>\n",
       "      <td>1.378348</td>\n",
       "      <td>0.586207</td>\n",
       "      <td>nan</td>\n",
       "      <td>0.380639</td>\n",
       "      <td>00:03</td>\n",
       "    </tr>\n",
       "  </tbody>\n",
       "</table><p>\n",
       "\n",
       "    <div>\n",
       "        <style>\n",
       "            /* Turns off some styling */\n",
       "            progress {\n",
       "                /* gets rid of default border in Firefox and Opera. */\n",
       "                border: none;\n",
       "                /* Needs to be in here for Safari polyfill so background images work as expected. */\n",
       "                background-size: auto;\n",
       "            }\n",
       "            .progress-bar-interrupted, .progress-bar-interrupted::-webkit-progress-bar {\n",
       "                background: #F44336;\n",
       "            }\n",
       "        </style>\n",
       "      <progress value='2' class='' max='2' style='width:300px; height:20px; vertical-align: middle;'></progress>\n",
       "      100.00% [2/2 00:00<00:00]\n",
       "    </div>\n",
       "    "
      ],
      "text/plain": [
       "<IPython.core.display.HTML object>"
      ]
     },
     "metadata": {
      "tags": []
     },
     "output_type": "display_data"
    },
    {
     "name": "stdout",
     "output_type": "stream",
     "text": [
      "Better model found at epoch 0 with accuracy value: 0.1034482792019844.\n",
      "Better model found at epoch 1 with accuracy value: 0.517241358757019.\n",
      "Better model found at epoch 2 with accuracy value: 0.5517241358757019.\n",
      "Better model found at epoch 3 with accuracy value: 0.5862069129943848.\n",
      "Epoch 7: early stopping\n"
     ]
    }
   ],
   "source": [
    "learn1.fit_one_cycle(10)"
   ]
  },
  {
   "cell_type": "code",
   "execution_count": null,
   "metadata": {
    "colab": {
     "base_uri": "https://localhost:8080/",
     "height": 279
    },
    "colab_type": "code",
    "id": "7Oox1iipHWs2",
    "outputId": "e68a84cf-d35a-48b5-b084-2ba9d17abca8"
   },
   "outputs": [
    {
     "data": {
      "image/png": "[encoded data removed]",
      "text/plain": [
       "<Figure size 432x288 with 1 Axes>"
      ]
     },
     "metadata": {
      "needs_background": "light",
      "tags": []
     },
     "output_type": "display_data"
    }
   ],
   "source": [
    "learn1.recorder.plot_losses()"
   ]
  },
  {
   "cell_type": "code",
   "execution_count": null,
   "metadata": {
    "colab": {
     "base_uri": "https://localhost:8080/",
     "height": 17
    },
    "colab_type": "code",
    "id": "7pMWEZXBH40S",
    "outputId": "378b56fd-7611-46f1-8a26-5ee4d9acf692"
   },
   "outputs": [
    {
     "data": {
      "text/html": [],
      "text/plain": [
       "<IPython.core.display.HTML object>"
      ]
     },
     "metadata": {
      "tags": []
     },
     "output_type": "display_data"
    },
    {
     "data": {
      "text/html": [],
      "text/plain": [
       "<IPython.core.display.HTML object>"
      ]
     },
     "metadata": {
      "tags": []
     },
     "output_type": "display_data"
    },
    {
     "data": {
      "text/html": [],
      "text/plain": [
       "<IPython.core.display.HTML object>"
      ]
     },
     "metadata": {
      "tags": []
     },
     "output_type": "display_data"
    },
    {
     "data": {
      "text/html": [],
      "text/plain": [
       "<IPython.core.display.HTML object>"
      ]
     },
     "metadata": {
      "tags": []
     },
     "output_type": "display_data"
    }
   ],
   "source": [
    "# Get the predictions for validation set and store as numpy array\n",
    "preds = learn1.get_preds()[0].argmax(dim=-1).numpy()\n",
    "test_actual = learn1.get_preds()[1].numpy()\n",
    "\n",
    "# Get the predictions for training set and store as numpy array\n",
    "train_pred = learn1.get_preds(ds_type=DatasetType.Train)[0].argmax(dim=-1).numpy()\n",
    "train_actual = learn1.get_preds(ds_type=DatasetType.Train)[1].numpy()\n",
    "\n",
    "# Calculate accuracy_score and append to Dataframe\n",
    "val_acc = accuracy_score(test_actual, preds)\n",
    "train_acc = accuracy_score(train_actual, train_pred)"
   ]
  },
  {
   "cell_type": "code",
   "execution_count": null,
   "metadata": {
    "colab": {
     "base_uri": "https://localhost:8080/",
     "height": 34
    },
    "colab_type": "code",
    "id": "yHQzf-5ZH9kR",
    "outputId": "5662830f-58b7-408f-ebb7-6dd9a97d0194"
   },
   "outputs": [
    {
     "data": {
      "text/plain": [
       "(0.5862068965517241, 0.45535714285714285)"
      ]
     },
     "execution_count": 81,
     "metadata": {
      "tags": []
     },
     "output_type": "execute_result"
    }
   ],
   "source": [
    "val_acc, train_acc"
   ]
  },
  {
   "cell_type": "code",
   "execution_count": null,
   "metadata": {
    "colab": {
     "base_uri": "https://localhost:8080/",
     "height": 84
    },
    "colab_type": "code",
    "id": "1DFQhGyyIC32",
    "outputId": "0a0e9968-bb25-4657-87bc-d5aea130cee0"
   },
   "outputs": [
    {
     "data": {
      "text/plain": [
       "array([[13,  0,  0,  6],\n",
       "       [ 0,  1,  0,  0],\n",
       "       [ 2,  0,  2,  3],\n",
       "       [ 0,  0,  1,  1]])"
      ]
     },
     "execution_count": 82,
     "metadata": {
      "tags": []
     },
     "output_type": "execute_result"
    }
   ],
   "source": [
    "confusion_matrix(test_actual, preds)"
   ]
  },
  {
   "cell_type": "code",
   "execution_count": null,
   "metadata": {
    "colab": {
     "base_uri": "https://localhost:8080/",
     "height": 84
    },
    "colab_type": "code",
    "id": "QB7jf2O5IC36",
    "outputId": "b39cd07a-c402-492a-b238-9d356bbe3ef4"
   },
   "outputs": [
    {
     "data": {
      "text/plain": [
       "array([[43,  5, 15, 11],\n",
       "       [ 3,  0,  1,  1],\n",
       "       [13,  1,  7,  3],\n",
       "       [ 4,  1,  3,  1]])"
      ]
     },
     "execution_count": 83,
     "metadata": {
      "tags": []
     },
     "output_type": "execute_result"
    }
   ],
   "source": [
    "confusion_matrix(train_actual, train_pred)"
   ]
  },
  {
   "cell_type": "markdown",
   "metadata": {
    "colab_type": "text",
    "id": "vx0qfaJAHWtS"
   },
   "source": [
    "### ResNet50"
   ]
  },
  {
   "cell_type": "code",
   "execution_count": null,
   "metadata": {
    "colab": {
     "base_uri": "https://localhost:8080/",
     "height": 82,
     "referenced_widgets": [
      "805c2d48141b4ee1bab34eb76cde2cb1",
      "b0308f17c77c4f278c3674218ee25a0d",
      "5b554ecefe3844e28b3184e16fd02d05",
      "47527a1da1424a6daa2a4ad205224692",
      "ad94311fe1fc425d92f4384441351fde",
      "c9d92bed1ee145d696e1c6433478b85f",
      "a509986aecb94fd18a8b431640ff3b17",
      "d94f95cfc3ba48b7bbbd43e6401557aa"
     ]
    },
    "colab_type": "code",
    "id": "VxCQyWyGHWtT",
    "outputId": "43437f67-5bfe-4fd2-e2dd-d3b3d2794d3b"
   },
   "outputs": [
    {
     "name": "stderr",
     "output_type": "stream",
     "text": [
      "Downloading: \"https://download.pytorch.org/models/resnet50-19c8e357.pth\" to /root/.cache/torch/hub/checkpoints/resnet50-19c8e357.pth\n"
     ]
    },
    {
     "data": {
      "application/vnd.jupyter.widget-view+json": {
       "model_id": "805c2d48141b4ee1bab34eb76cde2cb1",
       "version_major": 2,
       "version_minor": 0
      },
      "text/plain": [
       "HBox(children=(FloatProgress(value=0.0, max=102502400.0), HTML(value='')))"
      ]
     },
     "metadata": {
      "tags": []
     },
     "output_type": "display_data"
    },
    {
     "name": "stdout",
     "output_type": "stream",
     "text": [
      "\n"
     ]
    }
   ],
   "source": [
    "learn2 = cnn_learner(data, resnet50, pretrained=True, metrics=metrics)\n",
    "learn2.loss_func = torch.nn.functional.cross_entropy"
   ]
  },
  {
   "cell_type": "markdown",
   "metadata": {
    "colab_type": "text",
    "id": "ZGu3ZutzHWtY"
   },
   "source": [
    "By default, only the fully connected layers at the top are unfrozen (can be trained) (only in Fastai not Pytorch) ((i.e. requires_grad=False for all layers except FCN)"
   ]
  },
  {
   "cell_type": "code",
   "execution_count": null,
   "metadata": {
    "colab": {
     "base_uri": "https://localhost:8080/",
     "height": 639
    },
    "colab_type": "code",
    "id": "xlnoG5_rHWtZ",
    "outputId": "a6c12a83-685f-4dba-a316-c73106a94e61"
   },
   "outputs": [
    {
     "data": {
      "text/html": [
       "<table border=\"1\" class=\"dataframe\">\n",
       "  <thead>\n",
       "    <tr style=\"text-align: left;\">\n",
       "      <th>epoch</th>\n",
       "      <th>train_loss</th>\n",
       "      <th>valid_loss</th>\n",
       "      <th>accuracy</th>\n",
       "      <th>precision</th>\n",
       "      <th>recall</th>\n",
       "      <th>time</th>\n",
       "    </tr>\n",
       "  </thead>\n",
       "  <tbody>\n",
       "    <tr>\n",
       "      <td>0</td>\n",
       "      <td>2.541088</td>\n",
       "      <td>1.394131</td>\n",
       "      <td>0.586207</td>\n",
       "      <td>nan</td>\n",
       "      <td>0.223684</td>\n",
       "      <td>00:08</td>\n",
       "    </tr>\n",
       "    <tr>\n",
       "      <td>1</td>\n",
       "      <td>2.066768</td>\n",
       "      <td>1.742163</td>\n",
       "      <td>0.482759</td>\n",
       "      <td>nan</td>\n",
       "      <td>0.421053</td>\n",
       "      <td>00:04</td>\n",
       "    </tr>\n",
       "    <tr>\n",
       "      <td>2</td>\n",
       "      <td>1.687377</td>\n",
       "      <td>1.428046</td>\n",
       "      <td>0.413793</td>\n",
       "      <td>nan</td>\n",
       "      <td>0.439850</td>\n",
       "      <td>00:04</td>\n",
       "    </tr>\n",
       "    <tr>\n",
       "      <td>3</td>\n",
       "      <td>1.333429</td>\n",
       "      <td>1.770467</td>\n",
       "      <td>0.310345</td>\n",
       "      <td>nan</td>\n",
       "      <td>0.163534</td>\n",
       "      <td>00:04</td>\n",
       "    </tr>\n",
       "    <tr>\n",
       "      <td>4</td>\n",
       "      <td>1.149831</td>\n",
       "      <td>1.601366</td>\n",
       "      <td>0.448276</td>\n",
       "      <td>0.320833</td>\n",
       "      <td>0.453008</td>\n",
       "      <td>00:04</td>\n",
       "    </tr>\n",
       "    <tr>\n",
       "      <td>5</td>\n",
       "      <td>0.954081</td>\n",
       "      <td>1.203817</td>\n",
       "      <td>0.689655</td>\n",
       "      <td>0.434722</td>\n",
       "      <td>0.567669</td>\n",
       "      <td>00:04</td>\n",
       "    </tr>\n",
       "    <tr>\n",
       "      <td>6</td>\n",
       "      <td>0.795043</td>\n",
       "      <td>1.015514</td>\n",
       "      <td>0.724138</td>\n",
       "      <td>0.750000</td>\n",
       "      <td>0.692669</td>\n",
       "      <td>00:04</td>\n",
       "    </tr>\n",
       "    <tr>\n",
       "      <td>7</td>\n",
       "      <td>0.664323</td>\n",
       "      <td>0.898260</td>\n",
       "      <td>0.620690</td>\n",
       "      <td>nan</td>\n",
       "      <td>0.281955</td>\n",
       "      <td>00:04</td>\n",
       "    </tr>\n",
       "    <tr>\n",
       "      <td>8</td>\n",
       "      <td>0.586723</td>\n",
       "      <td>0.944132</td>\n",
       "      <td>0.689655</td>\n",
       "      <td>nan</td>\n",
       "      <td>0.330827</td>\n",
       "      <td>00:04</td>\n",
       "    </tr>\n",
       "    <tr>\n",
       "      <td>9</td>\n",
       "      <td>0.507827</td>\n",
       "      <td>0.816107</td>\n",
       "      <td>0.689655</td>\n",
       "      <td>0.462500</td>\n",
       "      <td>0.420113</td>\n",
       "      <td>00:04</td>\n",
       "    </tr>\n",
       "    <tr>\n",
       "      <td>10</td>\n",
       "      <td>0.434953</td>\n",
       "      <td>0.794002</td>\n",
       "      <td>0.620690</td>\n",
       "      <td>0.275000</td>\n",
       "      <td>0.259398</td>\n",
       "      <td>00:04</td>\n",
       "    </tr>\n",
       "    <tr>\n",
       "      <td>11</td>\n",
       "      <td>0.373400</td>\n",
       "      <td>0.915389</td>\n",
       "      <td>0.655172</td>\n",
       "      <td>0.276786</td>\n",
       "      <td>0.272556</td>\n",
       "      <td>00:04</td>\n",
       "    </tr>\n",
       "    <tr>\n",
       "      <td>12</td>\n",
       "      <td>0.318883</td>\n",
       "      <td>0.966566</td>\n",
       "      <td>0.689655</td>\n",
       "      <td>0.278409</td>\n",
       "      <td>0.285714</td>\n",
       "      <td>00:04</td>\n",
       "    </tr>\n",
       "    <tr>\n",
       "      <td>13</td>\n",
       "      <td>0.271844</td>\n",
       "      <td>0.982344</td>\n",
       "      <td>0.724138</td>\n",
       "      <td>0.315909</td>\n",
       "      <td>0.321429</td>\n",
       "      <td>00:04</td>\n",
       "    </tr>\n",
       "    <tr>\n",
       "      <td>14</td>\n",
       "      <td>0.241496</td>\n",
       "      <td>1.036425</td>\n",
       "      <td>0.724138</td>\n",
       "      <td>0.315909</td>\n",
       "      <td>0.321429</td>\n",
       "      <td>00:04</td>\n",
       "    </tr>\n",
       "    <tr>\n",
       "      <td>15</td>\n",
       "      <td>0.218929</td>\n",
       "      <td>1.009103</td>\n",
       "      <td>0.724138</td>\n",
       "      <td>nan</td>\n",
       "      <td>0.343985</td>\n",
       "      <td>00:04</td>\n",
       "    </tr>\n",
       "    <tr>\n",
       "      <td>16</td>\n",
       "      <td>0.189766</td>\n",
       "      <td>0.978596</td>\n",
       "      <td>0.689655</td>\n",
       "      <td>0.314286</td>\n",
       "      <td>0.308271</td>\n",
       "      <td>00:04</td>\n",
       "    </tr>\n",
       "    <tr>\n",
       "      <td>17</td>\n",
       "      <td>0.165741</td>\n",
       "      <td>0.953589</td>\n",
       "      <td>0.689655</td>\n",
       "      <td>0.314286</td>\n",
       "      <td>0.308271</td>\n",
       "      <td>00:04</td>\n",
       "    </tr>\n",
       "    <tr>\n",
       "      <td>18</td>\n",
       "      <td>0.147076</td>\n",
       "      <td>0.917967</td>\n",
       "      <td>0.689655</td>\n",
       "      <td>0.314286</td>\n",
       "      <td>0.308271</td>\n",
       "      <td>00:04</td>\n",
       "    </tr>\n",
       "    <tr>\n",
       "      <td>19</td>\n",
       "      <td>0.127953</td>\n",
       "      <td>0.886416</td>\n",
       "      <td>0.724138</td>\n",
       "      <td>nan</td>\n",
       "      <td>0.343985</td>\n",
       "      <td>00:04</td>\n",
       "    </tr>\n",
       "  </tbody>\n",
       "</table>"
      ],
      "text/plain": [
       "<IPython.core.display.HTML object>"
      ]
     },
     "metadata": {
      "tags": []
     },
     "output_type": "display_data"
    }
   ],
   "source": [
    "learn2.fit_one_cycle(20)"
   ]
  },
  {
   "cell_type": "code",
   "execution_count": null,
   "metadata": {
    "colab": {
     "base_uri": "https://localhost:8080/",
     "height": 279
    },
    "colab_type": "code",
    "id": "5pbSXejGHWtg",
    "outputId": "b21458c7-22e1-4a33-f98d-da7d91c51212"
   },
   "outputs": [
    {
     "data": {
      "image/png": "[encoded data removed]",
      "text/plain": [
       "<Figure size 432x288 with 1 Axes>"
      ]
     },
     "metadata": {
      "needs_background": "light",
      "tags": []
     },
     "output_type": "display_data"
    }
   ],
   "source": [
    "learn2.recorder.plot_losses()"
   ]
  },
  {
   "cell_type": "code",
   "execution_count": null,
   "metadata": {
    "colab": {},
    "colab_type": "code",
    "id": "tH3rS9dUHWtn"
   },
   "outputs": [],
   "source": [
    "# # Let's find the best learning rate\n",
    "# learn2.unfreeze()\n",
    "# learn2.lr_find()\n",
    "# # Plot the learning rate\n",
    "# learn2.recorder.plot()"
   ]
  },
  {
   "cell_type": "code",
   "execution_count": null,
   "metadata": {
    "colab": {},
    "colab_type": "code",
    "id": "cEdsR4JZHWtq"
   },
   "outputs": [],
   "source": [
    "# learn.unfreeze()\n",
    "# #learn.fit_one_cycle(4)\n",
    "# learn.fit_one_cycle(2, max_lr=slice(1e-6,1e-4))"
   ]
  },
  {
   "cell_type": "code",
   "execution_count": null,
   "metadata": {
    "colab": {},
    "colab_type": "code",
    "id": "4wPbbW-iHWtt"
   },
   "outputs": [],
   "source": [
    "# preds,y = learn2.get_preds()\n",
    "# interp = ClassificationInterpretation.from_learner(learn2)\n",
    "# interp.plot_confusion_matrix()  # wrong predictions for crack reduce at the cost of no crack"
   ]
  },
  {
   "cell_type": "markdown",
   "metadata": {
    "colab_type": "raw",
    "id": "s-Y-Xg-WHWtv"
   },
   "source": [
    "interp"
   ]
  },
  {
   "cell_type": "code",
   "execution_count": null,
   "metadata": {
    "colab": {
     "base_uri": "https://localhost:8080/",
     "height": 17
    },
    "colab_type": "code",
    "id": "xZPU0DEHHWty",
    "outputId": "99b55cc8-0acf-49a0-92c7-63610a6aa8e3"
   },
   "outputs": [
    {
     "data": {
      "text/html": [],
      "text/plain": [
       "<IPython.core.display.HTML object>"
      ]
     },
     "metadata": {
      "tags": []
     },
     "output_type": "display_data"
    },
    {
     "data": {
      "text/html": [],
      "text/plain": [
       "<IPython.core.display.HTML object>"
      ]
     },
     "metadata": {
      "tags": []
     },
     "output_type": "display_data"
    },
    {
     "data": {
      "text/html": [],
      "text/plain": [
       "<IPython.core.display.HTML object>"
      ]
     },
     "metadata": {
      "tags": []
     },
     "output_type": "display_data"
    },
    {
     "data": {
      "text/html": [],
      "text/plain": [
       "<IPython.core.display.HTML object>"
      ]
     },
     "metadata": {
      "tags": []
     },
     "output_type": "display_data"
    }
   ],
   "source": [
    "# Get the predictions for validation set and store as numpy array\n",
    "preds = learn2.get_preds()[0].argmax(dim=-1).numpy()\n",
    "test_actual = learn2.get_preds()[1].numpy()\n",
    "\n",
    "# Get the predictions for training set and store as numpy array\n",
    "train_pred = learn2.get_preds(ds_type=DatasetType.Train)[0].argmax(dim=-1).numpy()\n",
    "train_actual = learn2.get_preds(ds_type=DatasetType.Train)[1].numpy()\n",
    "\n",
    "# Calculate accuracy_score and append to Dataframe\n",
    "val_acc = accuracy_score(test_actual, preds)\n",
    "train_acc = accuracy_score(train_actual, train_pred)"
   ]
  },
  {
   "cell_type": "code",
   "execution_count": null,
   "metadata": {
    "colab": {
     "base_uri": "https://localhost:8080/",
     "height": 34
    },
    "colab_type": "code",
    "id": "5mYRFlKSKf-O",
    "outputId": "3876b0cb-239f-47ef-c3c5-368ea2f623e2"
   },
   "outputs": [
    {
     "data": {
      "text/plain": [
       "(0.7241379310344828, 0.5535714285714286)"
      ]
     },
     "execution_count": 66,
     "metadata": {
      "tags": []
     },
     "output_type": "execute_result"
    }
   ],
   "source": [
    "val_acc, train_acc"
   ]
  },
  {
   "cell_type": "code",
   "execution_count": null,
   "metadata": {
    "colab": {
     "base_uri": "https://localhost:8080/",
     "height": 84
    },
    "colab_type": "code",
    "id": "Yw140y_6HWuT",
    "outputId": "87e54b5f-dfe8-4667-b4b7-1817e2ccae8f"
   },
   "outputs": [
    {
     "data": {
      "text/plain": [
       "array([[18,  1,  0,  0],\n",
       "       [ 0,  0,  1,  0],\n",
       "       [ 3,  1,  3,  0],\n",
       "       [ 0,  0,  2,  0]])"
      ]
     },
     "execution_count": 67,
     "metadata": {
      "tags": []
     },
     "output_type": "execute_result"
    }
   ],
   "source": [
    "confusion_matrix(test_actual, preds)"
   ]
  },
  {
   "cell_type": "code",
   "execution_count": null,
   "metadata": {
    "colab": {
     "base_uri": "https://localhost:8080/",
     "height": 84
    },
    "colab_type": "code",
    "id": "h-opNqbGHWuW",
    "outputId": "71b0b511-15bc-4ce6-af03-3d5d1fb6fab4"
   },
   "outputs": [
    {
     "data": {
      "text/plain": [
       "array([[52,  1, 16,  4],\n",
       "       [ 2,  1,  1,  1],\n",
       "       [13,  3,  7,  2],\n",
       "       [ 5,  1,  1,  2]])"
      ]
     },
     "execution_count": 68,
     "metadata": {
      "tags": []
     },
     "output_type": "execute_result"
    }
   ],
   "source": [
    "confusion_matrix(train_actual, train_pred)"
   ]
  },
  {
   "cell_type": "markdown",
   "metadata": {},
   "source": [
    "# Data Augmentation"
   ]
  },
  {
   "cell_type": "code",
   "execution_count": 4,
   "metadata": {},
   "outputs": [
    {
     "data": {
      "text/plain": [
       "['NOK_Grind_Marks (1).bmp',\n",
       " 'NOK_Grind_Marks (2).bmp',\n",
       " 'NOK_Grind_Marks (3).bmp',\n",
       " 'NOK_Grind_Marks (4).bmp',\n",
       " 'NOK_Grind_Marks (5).bmp',\n",
       " 'NOK_Induction (1).bmp',\n",
       " 'NOK_Induction (10).bmp',\n",
       " 'NOK_Induction (11).bmp',\n",
       " 'NOK_Induction (12).bmp',\n",
       " 'NOK_Induction (13).bmp',\n",
       " 'NOK_Induction (14).bmp',\n",
       " 'NOK_Induction (15).bmp',\n",
       " 'NOK_Induction (16).bmp',\n",
       " 'NOK_Induction (17).bmp',\n",
       " 'NOK_Induction (18).bmp',\n",
       " 'NOK_Induction (19).bmp',\n",
       " 'NOK_Induction (2).bmp',\n",
       " 'NOK_Induction (21).bmp',\n",
       " 'NOK_Induction (22).bmp',\n",
       " 'NOK_Induction (23).bmp',\n",
       " 'NOK_Induction (24).bmp',\n",
       " 'NOK_Induction (25).bmp',\n",
       " 'NOK_Induction (26).bmp',\n",
       " 'NOK_Induction (27).bmp',\n",
       " 'NOK_Induction (28).bmp',\n",
       " 'NOK_Induction (29).bmp',\n",
       " 'NOK_Induction (30).bmp',\n",
       " 'NOK_Induction (31).bmp',\n",
       " 'NOK_Induction (32).bmp',\n",
       " 'NOK_Induction (4).bmp',\n",
       " 'NOK_Induction (5).bmp',\n",
       " 'NOK_Induction (6).bmp',\n",
       " 'NOK_Induction (8).bmp',\n",
       " 'NOK_Induction (9).bmp',\n",
       " 'NOK_Rust (1).bmp',\n",
       " 'NOK_Rust (10).bmp',\n",
       " 'NOK_Rust (11).bmp',\n",
       " 'NOK_Rust (12).bmp',\n",
       " 'NOK_Rust (3).bmp',\n",
       " 'NOK_Rust (4).bmp',\n",
       " 'NOK_Rust (5).bmp',\n",
       " 'NOK_Rust (6).bmp',\n",
       " 'NOK_Rust (7).bmp',\n",
       " 'NOK_Rust (8).bmp',\n",
       " 'NOK_Rust (9).bmp',\n",
       " 'OK_GOOD (1).bmp',\n",
       " 'OK_GOOD (10).bmp',\n",
       " 'OK_GOOD (11).bmp',\n",
       " 'OK_GOOD (12).bmp',\n",
       " 'OK_GOOD (13).bmp',\n",
       " 'OK_GOOD (14).bmp',\n",
       " 'OK_GOOD (15).bmp',\n",
       " 'OK_GOOD (16).bmp',\n",
       " 'OK_GOOD (17).bmp',\n",
       " 'OK_GOOD (18).bmp',\n",
       " 'OK_GOOD (19).bmp',\n",
       " 'OK_GOOD (2).bmp',\n",
       " 'OK_GOOD (20).bmp',\n",
       " 'OK_GOOD (21).bmp',\n",
       " 'OK_GOOD (22).bmp',\n",
       " 'OK_GOOD (23).bmp',\n",
       " 'OK_GOOD (24).bmp',\n",
       " 'OK_GOOD (25).bmp',\n",
       " 'OK_GOOD (26).bmp',\n",
       " 'OK_GOOD (27).bmp',\n",
       " 'OK_GOOD (28).bmp',\n",
       " 'OK_GOOD (3).bmp',\n",
       " 'OK_GOOD (31).bmp',\n",
       " 'OK_GOOD (32).bmp',\n",
       " 'OK_GOOD (33).bmp',\n",
       " 'OK_GOOD (34).bmp',\n",
       " 'OK_GOOD (35).bmp',\n",
       " 'OK_GOOD (36).bmp',\n",
       " 'OK_GOOD (37).bmp',\n",
       " 'OK_GOOD (38).bmp',\n",
       " 'OK_GOOD (39).bmp',\n",
       " 'OK_GOOD (4).bmp',\n",
       " 'OK_GOOD (40).bmp',\n",
       " 'OK_GOOD (41).bmp',\n",
       " 'OK_GOOD (42).bmp',\n",
       " 'OK_GOOD (43).bmp',\n",
       " 'OK_GOOD (44).bmp',\n",
       " 'OK_GOOD (45).bmp',\n",
       " 'OK_GOOD (46).bmp',\n",
       " 'OK_GOOD (47).bmp',\n",
       " 'OK_GOOD (48).bmp',\n",
       " 'OK_GOOD (49).bmp',\n",
       " 'OK_GOOD (51).bmp',\n",
       " 'OK_GOOD (52).bmp',\n",
       " 'OK_GOOD (53).bmp',\n",
       " 'OK_GOOD (54).bmp',\n",
       " 'OK_GOOD (55).bmp',\n",
       " 'OK_GOOD (56).bmp',\n",
       " 'OK_GOOD (57).bmp',\n",
       " 'OK_GOOD (58).bmp',\n",
       " 'OK_GOOD (59).bmp',\n",
       " 'OK_GOOD (6).bmp',\n",
       " 'OK_GOOD (60).bmp',\n",
       " 'OK_GOOD (61).bmp',\n",
       " 'OK_GOOD (62).bmp',\n",
       " 'OK_GOOD (63).bmp',\n",
       " 'OK_GOOD (64).bmp',\n",
       " 'OK_GOOD (65).bmp',\n",
       " 'OK_GOOD (66).bmp',\n",
       " 'OK_GOOD (67).bmp',\n",
       " 'OK_GOOD (68).bmp',\n",
       " 'OK_GOOD (69).bmp',\n",
       " 'OK_GOOD (7).bmp',\n",
       " 'OK_GOOD (70).bmp',\n",
       " 'OK_GOOD (71).bmp',\n",
       " 'OK_GOOD (72).bmp',\n",
       " 'OK_GOOD (73).bmp',\n",
       " 'OK_GOOD (74).bmp',\n",
       " 'OK_GOOD (75).bmp',\n",
       " 'OK_GOOD (76).bmp',\n",
       " 'OK_GOOD (77).bmp',\n",
       " 'OK_GOOD (78).bmp',\n",
       " 'OK_GOOD (79).bmp',\n",
       " 'OK_GOOD (80).bmp',\n",
       " 'OK_GOOD (81).bmp',\n",
       " 'OK_GOOD (82).bmp',\n",
       " 'OK_GOOD (83).bmp',\n",
       " 'OK_GOOD (84).bmp',\n",
       " 'OK_GOOD (85).bmp',\n",
       " 'OK_GOOD (86).bmp',\n",
       " 'OK_GOOD (87).bmp',\n",
       " 'OK_GOOD (88).bmp',\n",
       " 'OK_GOOD (9).bmp',\n",
       " 'OK_GOOD (90).bmp',\n",
       " 'OK_GOOD (91).bmp',\n",
       " 'OK_GOOD (92).bmp',\n",
       " 'OK_GOOD (93).bmp',\n",
       " 'OK_GOOD (94).bmp',\n",
       " 'OK_GOOD (95).bmp',\n",
       " 'OK_GOOD (96).bmp']"
      ]
     },
     "execution_count": 4,
     "metadata": {},
     "output_type": "execute_result"
    }
   ],
   "source": [
    "import os\n",
    "\n",
    "os.listdir(r\"C:\\Users\\Desktop\\Projects\\classification\\Data\\Data_Augmentation\")"
   ]
  },
  {
   "cell_type": "code",
   "execution_count": 2,
   "metadata": {},
   "outputs": [],
   "source": [
    "# This Python 3 environment comes with many helpful analytics libraries installed\n",
    "# It is defined by the kaggle/python docker image: https://github.com/kaggle/docker-python\n",
    "# For example, here's several helpful packages to load in \n",
    "\n",
    "import numpy as np # linear algebra\n",
    "#import pandas as pd # data processing, CSV file I/O (e.g. pd.read_csv)\n",
    "\n",
    "# Input data files are available in the \"../input/\" directory.\n",
    "# For example, running this (by clicking run or pressing Shift+Enter) will list the files in the input directory\n",
    "\n",
    "\n",
    "# Any results you write to the current directory are saved as output.\n",
    "\n",
    "'''\n",
    "Image Augmentation is the common used technique to improve the performance of computer vision system. \n",
    "Refer to the W2 of Convolutional Neutral Network Course on Cousera. \n",
    "specially in the WIDS dataset, which is an unbalanced dataset. \n",
    "Upsampling the images with oil-palm is the way to handle the unbalanced problem. \n",
    "Image augmentation artificially creates training images through different ways of processing or combination of multiple processing, \n",
    "such as mirroring, random rotation, shifts, shear and flips, etc. \n",
    "Keras has keras.preprocessing.image.ImageDataGenerator function to do image augmentation. Here showed how to use OpenCV to rotate, flip, and add Gaussian noise to original images.\n",
    "\n",
    "Reference: \n",
    "https://towardsdatascience.com/image-augmentation-examples-in-python-d552c26f2873\n",
    "https://medium.com/@thimblot/data-augmentation-boost-your-image-dataset-with-few-lines-of-python-155c2dc1baec\n",
    "\n",
    "''' \n",
    "\n",
    "import cv2\n",
    "import random\n",
    "class Data_augmentation:\n",
    "    def __init__(self, path, image_name):\n",
    "        '''\n",
    "        Import image\n",
    "        :param path: Path to the image\n",
    "        :param image_name: image name\n",
    "        '''\n",
    "        self.path = path\n",
    "        self.name = image_name\n",
    "        print(path+image_name)\n",
    "        self.image = cv2.imread(path+image_name)\n",
    "\n",
    "    def rotate(self, image, angle=90, scale=1.0):\n",
    "        '''\n",
    "        Rotate the image\n",
    "        :param image: image to be processed\n",
    "        :param angle: Rotation angle in degrees. Positive values mean counter-clockwise rotation (the coordinate origin is assumed to be the top-left corner).\n",
    "        :param scale: Isotropic scale factor.\n",
    "        '''\n",
    "        w = image.shape[1]\n",
    "        h = image.shape[0]\n",
    "        #rotate matrix\n",
    "        M = cv2.getRotationMatrix2D((w/2,h/2), angle, scale)\n",
    "        #rotate\n",
    "        image = cv2.warpAffine(image,M,(w,h))\n",
    "        return image\n",
    "\n",
    "    def flip(self, image, vflip=False, hflip=False):\n",
    "        '''\n",
    "        Flip the image\n",
    "        :param image: image to be processed\n",
    "        :param vflip: whether to flip the image vertically\n",
    "        :param hflip: whether to flip the image horizontally\n",
    "        '''\n",
    "        if hflip or vflip:\n",
    "            if hflip and vflip:\n",
    "                c = -1\n",
    "            else:\n",
    "                c = 0 if vflip else 1\n",
    "            image = cv2.flip(image, flipCode=c)\n",
    "        return image \n",
    "    def image_augment(self, save_path): \n",
    "        '''\n",
    "        Create the new image with imge augmentation\n",
    "        :param path: the path to store the new image\n",
    "        ''' \n",
    "        img = self.image.copy()\n",
    "        img_flip = self.flip(img, vflip=True, hflip=False)\n",
    "        img_rot = self.rotate(img)\n",
    "        img_gaussian = self.add_GaussianNoise(img)\n",
    "        print(\"image\",img_rot)\n",
    "        name_int = self.name[:len(self.name)-4]\n",
    "        cv2.imwrite(save_path+'%s' %str(name_int)+'_vflip.jpg', img_flip)\n",
    "        print(cv2.imwrite(save_path+'%s' %str(name_int)+'_rot.jpg', img_rot))\n",
    "        cv2.imwrite(save_path+'%s' %str(name_int)+'_GaussianNoise.jpg', img_gaussian)\n",
    "    \n",
    "    "
   ]
  },
  {
   "cell_type": "code",
   "execution_count": 181,
   "metadata": {},
   "outputs": [],
   "source": [
    "file_dir=r'C:\\Users\\Projects\\classification\\Data\\Stain'\n",
    "output_path = r'C:\\Users\\Projects\\classification\\Data\\Augmented_Images\\Stain'"
   ]
  },
  {
   "cell_type": "code",
   "execution_count": 179,
   "metadata": {},
   "outputs": [],
   "source": [
    "# New Function\n",
    "import os\n",
    "def Augmentation(file_dir,output_path):\n",
    "    for root, _, files in os.walk(file_dir):\n",
    "        print(root)\n",
    "    for file in files:\n",
    "        name_int = file[:len(file)-4]\n",
    "        Name=root+\"\\\\\"+file\n",
    "        image = cv2.imread(Name)\n",
    "        w = image.shape[1]\n",
    "        h = image.shape[0]\n",
    "        \n",
    "#         #rotate matrix\n",
    "#         M = cv2.getRotationMatrix2D((w/2,h/2), 90, 1)\n",
    "#         #rotate\n",
    "#         Rotation_image = cv2.warpAffine(image,M,(w,h))\n",
    "#         cv2.imwrite(output_path+\"\\\\\"+'%s' %str(name_int)+'_rotation.jpg', Rotation_image)\n",
    "        \n",
    "#         #Flipping the images Vertically\n",
    "#         vflip=True\n",
    "#         hflip=False\n",
    "#         if hflip or vflip:\n",
    "#             if hflip and vflip:\n",
    "#                 c = -1\n",
    "#             else:\n",
    "#                 c = 0 if vflip else 1\n",
    "#             Flipped_image = cv2.flip(image, flipCode=c)\n",
    "#         cv2.imwrite(output_path+\"\\\\\"+'%s' %str(name_int)+'_vflip.jpg', Flipped_image)\n",
    "        \n",
    "#         #Flipping the images Horizontally\n",
    "#         vflip=False\n",
    "#         hflip=True\n",
    "#         if hflip or vflip:\n",
    "#             if hflip and vflip:\n",
    "#                 c = -1\n",
    "#             else:\n",
    "#                 c = 0 if vflip else 1\n",
    "#             Flipped_image = cv2.flip(image, flipCode=c)\n",
    "#         cv2.imwrite(output_path+\"\\\\\"+'%s' %str(name_int)+'_hflip.jpg', Flipped_image)\n",
    "        \n",
    "        #Channel Shift\n",
    "        value = int(random.uniform(-60, 60))\n",
    "        img = image + value\n",
    "        img[:,:,:][img[:,:,:]>255]  = 255\n",
    "        img[:,:,:][img[:,:,:]<0]  = 0\n",
    "        Channel_Shift_img = img.astype(np.uint8)\n",
    "        cv2.imwrite(output_path+\"\\\\\"+'%s' %str(name_int)+'_ChannelShift.jpg', Channel_Shift_img)\n",
    "        \n",
    "        #To increase the Brightness\n",
    "        value = random.uniform(0.5, 3)\n",
    "        hsv = cv2.cvtColor(image, cv2.COLOR_BGR2HSV)\n",
    "        hsv = np.array(hsv, dtype = np.float64)\n",
    "        hsv[:,:,1] = hsv[:,:,1]*value\n",
    "        hsv[:,:,1][hsv[:,:,1]>255]  = 255\n",
    "        hsv[:,:,2] = hsv[:,:,2]*value \n",
    "        hsv[:,:,2][hsv[:,:,2]>255]  = 255\n",
    "        hsv = np.array(hsv, dtype = np.uint8)\n",
    "        Brightness_Image = cv2.cvtColor(hsv, cv2.COLOR_HSV2BGR)\n",
    "        cv2.imwrite(output_path+\"\\\\\"+'%s' %str(name_int)+'_Brightness.jpg', Channel_Shift_img)\n",
    "\n",
    "       \n",
    "        "
   ]
  },
  {
   "cell_type": "code",
   "execution_count": null,
   "metadata": {},
   "outputs": [],
   "source": [
    "Augmentation(file_dir,output_path)"
   ]
  }
 ],
 "metadata": {
  "kernelspec": {
   "display_name": "Python 3",
   "language": "python",
   "name": "python3"
  },
  "language_info": {
   "codemirror_mode": {
    "name": "ipython",
    "version": 3
   },
   "file_extension": ".py",
   "mimetype": "text/x-python",
   "name": "python",
   "nbconvert_exporter": "python",
   "pygments_lexer": "ipython3",
   "version": "3.7.6"
  }
 },
 "nbformat": 4,
 "nbformat_minor": 4
}
