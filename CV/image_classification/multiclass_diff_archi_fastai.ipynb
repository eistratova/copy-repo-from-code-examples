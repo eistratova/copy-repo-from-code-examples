{
 "cells": [
  {
   "cell_type": "code",
   "execution_count": null,
   "metadata": {
    "id": "ioudHUdrqjcr"
   },
   "outputs": [],
   "source": [
    "# !pip install fastai"
   ]
  },
  {
   "cell_type": "code",
   "execution_count": null,
   "metadata": {
    "id": "Jxn8knUWqjcv"
   },
   "outputs": [],
   "source": [
    "# auto-updating\n",
    "%reload_ext autoreload\n",
    "%autoreload 2\n",
    "%matplotlib inline"
   ]
  },
  {
   "cell_type": "markdown",
   "metadata": {
    "id": "elpGxGIiHWpy"
   },
   "source": [
    "Setting Random Seed and Using CUDA for GPU Processing"
   ]
  },
  {
   "cell_type": "code",
   "execution_count": null,
   "metadata": {
    "id": "7_3Pq96nqjcz"
   },
   "outputs": [],
   "source": [
    "import matplotlib.pyplot as plt\n",
    "import numpy as np\n",
    "import pandas as pd\n",
    "import cv2\n",
    "import glob\n",
    "from sklearn.preprocessing import LabelEncoder\n",
    "import os\n",
    "import torch\n",
    "import fastai\n",
    "import time\n",
    "from fastai.vision import *\n",
    "np.random.seed(0) \n",
    "from torchvision.models import resnet50\n",
    "from torchvision.models import mobilenet_v2\n",
    "from torchvision.models import vgg16\n",
    "from fastai.callbacks import *\n",
    "from sklearn.metrics import accuracy_score\n",
    "from sklearn.metrics import confusion_matrix\n",
    "\n",
    "from fastai import *\n",
    "# from fastai.dataset import ModelData,ArraysIndexDataset\n",
    "# from fastai.dataloader import DataLoader\n",
    "# from fastai.learner import Learner\n",
    "\n",
    "import torch\n",
    "import torch.nn as nn\n",
    "\n",
    "from IPython.core.interactiveshell import InteractiveShell\n",
    "InteractiveShell.ast_node_interactivity = \"all\"\n",
    "\n",
    "def random_seed(seed_value, use_cuda):  \n",
    "    np.random.seed(seed_value) \n",
    "    torch.manual_seed(seed_value) \n",
    "    random.seed(seed_value) \n",
    "    torch.backends.cudnn.deterministic = True\n",
    "\n",
    "    if use_cuda: torch.cuda.manual_seed_all(seed_value) \n",
    "\n",
    "# Set seed\n",
    "#random_seed(0,False)\n",
    "random_seed(0,True)"
   ]
  },
  {
   "cell_type": "code",
   "execution_count": null,
   "metadata": {
    "id": "tMGQVpYtqjc2"
   },
   "outputs": [],
   "source": [
    "#from fastai.callbacks import CSVLogger"
   ]
  },
  {
   "cell_type": "code",
   "execution_count": null,
   "metadata": {
    "colab": {
     "base_uri": "https://localhost:8080/"
    },
    "id": "FuhIh4EEOjQv",
    "outputId": "abd7aad1-1e5f-4988-abb6-7501cbe1f3bd"
   },
   "outputs": [
    {
     "name": "stdout",
     "output_type": "stream",
     "text": [
      "CUDA Available? True\n"
     ]
    },
    {
     "data": {
      "text/plain": [
       "<torch._C.Generator at 0x7f1e70cd16f0>"
      ]
     },
     "execution_count": 4,
     "metadata": {
      "tags": []
     },
     "output_type": "execute_result"
    }
   ],
   "source": [
    "SEED = 1\n",
    "# CUDA?\n",
    "cuda = torch.cuda.is_available()\n",
    "print(\"CUDA Available?\", cuda)\n",
    "\n",
    "# For reproducibility\n",
    "torch.manual_seed(SEED)\n",
    "\n",
    "if cuda:\n",
    "    torch.cuda.manual_seed(SEED)\n",
    "\n",
    "CUDA_LAUNCH_BLOCKING=1"
   ]
  },
  {
   "cell_type": "code",
   "execution_count": null,
   "metadata": {
    "id": "iu9nzjOV-Z3k"
   },
   "outputs": [],
   "source": [
    "import itertools\n",
    "\n",
    "def plot_confusion_matrix(cm, classes,\n",
    "                          normalize=False,\n",
    "                          title='Confusion matrix',\n",
    "                          cmap=plt.cm.Blues):\n",
    "    \"\"\"\n",
    "    This function prints and plots the confusion matrix.\n",
    "    Normalization can be applied by setting `normalize=True`.\n",
    "    \"\"\"\n",
    "    if normalize:\n",
    "        cm = cm.astype('float') / cm.sum(axis=1)[:, np.newaxis]\n",
    "        print(\"Normalized confusion matrix\")\n",
    "    else:\n",
    "        print('Confusion matrix, without normalization')\n",
    "\n",
    "    print(cm)\n",
    "\n",
    "    plt.imshow(cm, interpolation='nearest', cmap=cmap)\n",
    "    plt.title(title)\n",
    "    plt.colorbar()\n",
    "    tick_marks = np.arange(len(classes))\n",
    "    plt.xticks(tick_marks, classes, rotation=45)\n",
    "    plt.yticks(tick_marks, classes)\n",
    "\n",
    "    fmt = '.2f' if normalize else 'd'\n",
    "    thresh = cm.max() / 2.\n",
    "    for i, j in itertools.product(range(cm.shape[0]), range(cm.shape[1])):\n",
    "        plt.text(j, i, format(cm[i, j], fmt),\n",
    "                 horizontalalignment=\"center\",\n",
    "                 color=\"white\" if cm[i, j] > thresh else \"black\")\n",
    "\n",
    "    plt.tight_layout()\n",
    "    plt.ylabel('Actual')\n",
    "    plt.xlabel('Predicted')"
   ]
  },
  {
   "cell_type": "code",
   "execution_count": null,
   "metadata": {
    "colab": {
     "base_uri": "https://localhost:8080/"
    },
    "id": "7Gj1p6EmA-TZ",
    "outputId": "220b5d72-8ee1-4aca-cfdd-bbf98dde707a"
   },
   "outputs": [
    {
     "name": "stdout",
     "output_type": "stream",
     "text": [
      "Mounted at /content/drive\n"
     ]
    }
   ],
   "source": [
    "from google.colab import drive\n",
    "drive.mount('/content/drive')"
   ]
  },
  {
   "cell_type": "code",
   "execution_count": null,
   "metadata": {
    "colab": {
     "base_uri": "https://localhost:8080/"
    },
    "id": "PSGbouiE-tBe",
    "outputId": "1887f8aa-7759-40c3-eb60-d34d97972c9b"
   },
   "outputs": [
    {
     "data": {
      "text/plain": [
       "[PosixPath('/content/drive/My Drive/IMAGES/train/history.csv'),\n",
       " PosixPath('/content/drive/My Drive/IMAGES/train/Cr'),\n",
       " PosixPath('/content/drive/My Drive/IMAGES/train/Sc'),\n",
       " PosixPath('/content/drive/My Drive/IMAGES/train/PS'),\n",
       " PosixPath('/content/drive/My Drive/IMAGES/train/In'),\n",
       " PosixPath('/content/drive/My Drive/IMAGES/train/RS'),\n",
       " PosixPath('/content/drive/My Drive/IMAGES/train/Pa'),\n",
       " PosixPath('/content/drive/My Drive/IMAGES/train/models'),\n",
       " PosixPath('/content/drive/My Drive/IMAGES/train/export.pkl')]"
      ]
     },
     "execution_count": 7,
     "metadata": {
      "tags": []
     },
     "output_type": "execute_result"
    }
   ],
   "source": [
    "# Set batch size of images \n",
    "bs = 4\n",
    " #32  #64\n",
    "\n",
    "image_path = Path(r\"/content/drive/My Drive/IMAGES/train\")\n",
    "# model_save_path = Path(\"C:/Users/DAR9KOR/Desktop/data/sample_datasets/defect_detection/1_data/Schaeffler/VQI/\")\n",
    "\n",
    "image_path.ls()"
   ]
  },
  {
   "cell_type": "code",
   "execution_count": null,
   "metadata": {
    "id": "isf8cJIe-Z3u"
   },
   "outputs": [],
   "source": [
    "## load data\n",
    "# fastai is automatically supposed to handle image format conversions- greyscale(L), RGB\n",
    "\n",
    "# https://forums.fast.ai/t/how-to-load-images-as-grayscale/36895/6\n",
    "# google: can fastai convert greyscale images to RGB\n",
    "\n",
    "data = ImageDataBunch.from_folder(image_path, \n",
    "                                  valid_pct=0.3,\n",
    "                                  ds_tfms=get_transforms(), \n",
    "                                  size=512, \n",
    "                                  bs=bs, \n",
    "                                  num_workers=1,\n",
    "                                  seed=9).normalize(imagenet_stats)"
   ]
  },
  {
   "cell_type": "code",
   "execution_count": null,
   "metadata": {
    "colab": {
     "base_uri": "https://localhost:8080/"
    },
    "id": "T2z-HKXh-Z3w",
    "outputId": "7ea245e1-79ba-439c-a20d-639853bc862f"
   },
   "outputs": [
    {
     "data": {
      "text/plain": [
       "ImageDataBunch;\n",
       "\n",
       "Train: LabelList (1009 items)\n",
       "x: ImageList\n",
       "Image (3, 512, 512),Image (3, 512, 512),Image (3, 512, 512),Image (3, 512, 512),Image (3, 512, 512)\n",
       "y: CategoryList\n",
       "Cr,Cr,Cr,Cr,Cr\n",
       "Path: /content/drive/My Drive/IMAGES/train;\n",
       "\n",
       "Valid: LabelList (432 items)\n",
       "x: ImageList\n",
       "Image (3, 512, 512),Image (3, 512, 512),Image (3, 512, 512),Image (3, 512, 512),Image (3, 512, 512)\n",
       "y: CategoryList\n",
       "Pa,Sc,PS,Pa,Sc\n",
       "Path: /content/drive/My Drive/IMAGES/train;\n",
       "\n",
       "Test: None"
      ]
     },
     "execution_count": 9,
     "metadata": {
      "tags": []
     },
     "output_type": "execute_result"
    }
   ],
   "source": [
    "data"
   ]
  },
  {
   "cell_type": "code",
   "execution_count": null,
   "metadata": {
    "colab": {
     "base_uri": "https://localhost:8080/"
    },
    "id": "FddxvXVw-Z3y",
    "outputId": "ff4ce663-5242-4e76-fe5f-937deef93d71"
   },
   "outputs": [
    {
     "data": {
      "text/plain": [
       "['Cr', 'In', 'PS', 'Pa', 'RS', 'Sc']"
      ]
     },
     "execution_count": 10,
     "metadata": {
      "tags": []
     },
     "output_type": "execute_result"
    },
    {
     "data": {
      "text/plain": [
       "6"
      ]
     },
     "execution_count": 10,
     "metadata": {
      "tags": []
     },
     "output_type": "execute_result"
    },
    {
     "data": {
      "text/plain": [
       "1009"
      ]
     },
     "execution_count": 10,
     "metadata": {
      "tags": []
     },
     "output_type": "execute_result"
    },
    {
     "data": {
      "text/plain": [
       "432"
      ]
     },
     "execution_count": 10,
     "metadata": {
      "tags": []
     },
     "output_type": "execute_result"
    }
   ],
   "source": [
    "data.classes\n",
    "data.c\n",
    "len(data.train_ds)\n",
    "len(data.valid_ds)"
   ]
  },
  {
   "cell_type": "code",
   "execution_count": null,
   "metadata": {
    "colab": {
     "base_uri": "https://localhost:8080/"
    },
    "id": "tRnfNHyJ-Z30",
    "outputId": "d2749e54-047d-4085-e85e-c3f2ce2a16b3"
   },
   "outputs": [
    {
     "data": {
      "text/plain": [
       "Cr    167\n",
       "In    179\n",
       "PS    159\n",
       "Pa    156\n",
       "RS    181\n",
       "Sc    167\n",
       "dtype: int64"
      ]
     },
     "execution_count": 11,
     "metadata": {
      "tags": []
     },
     "output_type": "execute_result"
    }
   ],
   "source": [
    "# count no. of examples in train & validation sets \n",
    "# train set\n",
    "vc = pd.value_counts(data.train_ds.y.items, sort =False)\n",
    "vc.index = data.classes\n",
    "vc\n",
    "# ratio"
   ]
  },
  {
   "cell_type": "code",
   "execution_count": null,
   "metadata": {
    "colab": {
     "base_uri": "https://localhost:8080/"
    },
    "id": "6IZXxmkN-Z31",
    "outputId": "7948da69-f4cb-4b7d-e9b5-61cef5c51c6d"
   },
   "outputs": [
    {
     "data": {
      "text/plain": [
       "0    70\n",
       "1    61\n",
       "2    77\n",
       "3    80\n",
       "4    70\n",
       "5    74\n",
       "dtype: int64"
      ]
     },
     "execution_count": 12,
     "metadata": {
      "tags": []
     },
     "output_type": "execute_result"
    }
   ],
   "source": [
    "# val set\n",
    "vc = pd.value_counts(data.valid_ds.y.items, sort =False)\n",
    "# vc.index = data.classes\n",
    "vc\n",
    "# ratio"
   ]
  },
  {
   "cell_type": "code",
   "execution_count": null,
   "metadata": {
    "colab": {
     "base_uri": "https://localhost:8080/",
     "height": 560
    },
    "id": "cgls6y4O-Z33",
    "outputId": "a1e6adb0-85e6-4e33-e34f-38ac8a42d99d"
   },
   "outputs": [
    {
     "data": {
      "image/png": "[encoded data removed]",
      "text/plain": [
       "<Figure size 504x576 with 4 Axes>"
      ]
     },
     "metadata": {
      "needs_background": "light",
      "tags": []
     },
     "output_type": "display_data"
    }
   ],
   "source": [
    "data.show_batch(rows=3, figsize=(7,8))\n",
    "#data.show_batch(rows=3, figsize=(10,10), ds_type=DatasetType.Valid)\n",
    "#data.show_batch(rows=3, figsize=(10,10), ds_type=DatasetType.Train)"
   ]
  },
  {
   "cell_type": "code",
   "execution_count": null,
   "metadata": {
    "id": "LQiCC-dxqjda"
   },
   "outputs": [],
   "source": [
    "precision = Precision()\n",
    "recall = Recall()\n",
    "metrics = [accuracy,precision,recall]"
   ]
  },
  {
   "cell_type": "code",
   "execution_count": null,
   "metadata": {
    "id": "3YJ-CtEGqjde"
   },
   "outputs": [],
   "source": []
  },
  {
   "cell_type": "markdown",
   "metadata": {
    "id": "UyzZfztaHoaj"
   },
   "source": [
    "### MobileNet_V2"
   ]
  },
  {
   "cell_type": "code",
   "execution_count": null,
   "metadata": {
    "id": "KIv0Uereqjdi"
   },
   "outputs": [],
   "source": [
    "#callback_fn=partial(CSVLogger, filename=f'sample_history_stage1')"
   ]
  },
  {
   "cell_type": "code",
   "execution_count": null,
   "metadata": {
    "id": "W-yzAzcsHWrR"
   },
   "outputs": [],
   "source": [
    "# Initialize cnn_learner object with the right model and its pretrained weights\n",
    "learn = cnn_learner(data, mobilenet_v2, pretrained=True, metrics=metrics, cut=-1,callback_fns=[partial(CSVLogger)])\n",
    "\n",
    "\n",
    "learn.loss_func = torch.nn.functional.cross_entropy\n",
    "# learn.loss_func = nn.CrossEntropyLoss(weight=class_weights)\n",
    "#cb=CSVLogger(learn)\n",
    "\n",
    "#EarlyStoppingCallback(learn, monitor='accuracy', min_delta=0.01, patience=3),\n",
    "callbacks = [EarlyStoppingCallback(learn, monitor='accuracy', min_delta=0.01, patience=3),\n",
    "             SaveModelCallback(learn, every='improvement', monitor='valid_loss', name='Mobile_Net')]\n",
    "learn.callbacks = callbacks"
   ]
  },
  {
   "cell_type": "code",
   "execution_count": null,
   "metadata": {
    "id": "HY35U1nfqjdp",
    "outputId": "9f926189-66a4-4bb5-da6a-84e7492c487f"
   },
   "outputs": [
    {
     "data": {
      "text/html": [
       "\n",
       "    <div>\n",
       "        <style>\n",
       "            /* Turns off some styling */\n",
       "            progress {\n",
       "                /* gets rid of default border in Firefox and Opera. */\n",
       "                border: none;\n",
       "                /* Needs to be in here for Safari polyfill so background images work as expected. */\n",
       "                background-size: auto;\n",
       "            }\n",
       "            .progress-bar-interrupted, .progress-bar-interrupted::-webkit-progress-bar {\n",
       "                background: #F44336;\n",
       "            }\n",
       "        </style>\n",
       "      <progress value='0' class='' max='1' style='width:300px; height:20px; vertical-align: middle;'></progress>\n",
       "      0.00% [0/1 00:00<00:00]\n",
       "    </div>\n",
       "    \n",
       "<table border=\"1\" class=\"dataframe\">\n",
       "  <thead>\n",
       "    <tr style=\"text-align: left;\">\n",
       "      <th>epoch</th>\n",
       "      <th>train_loss</th>\n",
       "      <th>valid_loss</th>\n",
       "      <th>accuracy</th>\n",
       "      <th>precision</th>\n",
       "      <th>recall</th>\n",
       "      <th>time</th>\n",
       "    </tr>\n",
       "  </thead>\n",
       "  <tbody>\n",
       "  </tbody>\n",
       "</table><p>\n",
       "\n",
       "    <div>\n",
       "        <style>\n",
       "            /* Turns off some styling */\n",
       "            progress {\n",
       "                /* gets rid of default border in Firefox and Opera. */\n",
       "                border: none;\n",
       "                /* Needs to be in here for Safari polyfill so background images work as expected. */\n",
       "                background-size: auto;\n",
       "            }\n",
       "            .progress-bar-interrupted, .progress-bar-interrupted::-webkit-progress-bar {\n",
       "                background: #F44336;\n",
       "            }\n",
       "        </style>\n",
       "      <progress value='86' class='' max='252' style='width:300px; height:20px; vertical-align: middle;'></progress>\n",
       "      34.13% [86/252 00:25<00:49 7.9951]\n",
       "    </div>\n",
       "    "
      ],
      "text/plain": [
       "<IPython.core.display.HTML object>"
      ]
     },
     "metadata": {
      "tags": []
     },
     "output_type": "display_data"
    },
    {
     "name": "stdout",
     "output_type": "stream",
     "text": [
      "LR Finder is complete, type {learner_name}.recorder.plot() to see the graph.\n"
     ]
    }
   ],
   "source": [
    "learn.lr_find()"
   ]
  },
  {
   "cell_type": "code",
   "execution_count": null,
   "metadata": {
    "id": "TrpnjqFtqjdt",
    "outputId": "1b7c256a-123d-4830-b973-d3bd4d1dec2d"
   },
   "outputs": [
    {
     "name": "stdout",
     "output_type": "stream",
     "text": [
      "Min numerical gradient: 2.51E-01\n",
      "Min loss divided by 10: 1.91E-03\n"
     ]
    },
    {
     "data": {
      "image/png": "[encoded data removed]",
      "text/plain": [
       "<Figure size 432x288 with 1 Axes>"
      ]
     },
     "metadata": {
      "needs_background": "light",
      "tags": []
     },
     "output_type": "display_data"
    }
   ],
   "source": [
    "learn.recorder.plot(suggestion=True)"
   ]
  },
  {
   "cell_type": "code",
   "execution_count": null,
   "metadata": {
    "id": "RN0yRNyGqjdw",
    "outputId": "a905dc88-72d7-4f5d-d742-30c9c229e8c7"
   },
   "outputs": [
    {
     "data": {
      "text/plain": [
       "WindowsPath('C:/Users/Desktop/VQI/Classification Codes/data/IMAGES/train')"
      ]
     },
     "execution_count": 17,
     "metadata": {
      "tags": []
     },
     "output_type": "execute_result"
    }
   ],
   "source": [
    "learn.path"
   ]
  },
  {
   "cell_type": "code",
   "execution_count": null,
   "metadata": {
    "colab": {
     "base_uri": "https://localhost:8080/",
     "height": 414
    },
    "id": "7_1bVO5gHWrU",
    "outputId": "a3ece159-531d-4592-a242-0ddf86a89ffa",
    "scrolled": true
   },
   "outputs": [
    {
     "data": {
      "text/html": [
       "\n",
       "    <div>\n",
       "        <style>\n",
       "            /* Turns off some styling */\n",
       "            progress {\n",
       "                /* gets rid of default border in Firefox and Opera. */\n",
       "                border: none;\n",
       "                /* Needs to be in here for Safari polyfill so background images work as expected. */\n",
       "                background-size: auto;\n",
       "            }\n",
       "            .progress-bar-interrupted, .progress-bar-interrupted::-webkit-progress-bar {\n",
       "                background: #F44336;\n",
       "            }\n",
       "        </style>\n",
       "      <progress value='10' class='' max='15' style='width:300px; height:20px; vertical-align: middle;'></progress>\n",
       "      66.67% [10/15 30:27<15:13]\n",
       "    </div>\n",
       "    \n",
       "<table border=\"1\" class=\"dataframe\">\n",
       "  <thead>\n",
       "    <tr style=\"text-align: left;\">\n",
       "      <th>epoch</th>\n",
       "      <th>train_loss</th>\n",
       "      <th>valid_loss</th>\n",
       "      <th>accuracy</th>\n",
       "      <th>precision</th>\n",
       "      <th>recall</th>\n",
       "      <th>time</th>\n",
       "    </tr>\n",
       "  </thead>\n",
       "  <tbody>\n",
       "    <tr>\n",
       "      <td>0</td>\n",
       "      <td>1.045544</td>\n",
       "      <td>0.116125</td>\n",
       "      <td>0.958333</td>\n",
       "      <td>0.964270</td>\n",
       "      <td>0.958499</td>\n",
       "      <td>03:09</td>\n",
       "    </tr>\n",
       "    <tr>\n",
       "      <td>1</td>\n",
       "      <td>0.743177</td>\n",
       "      <td>0.239765</td>\n",
       "      <td>0.928241</td>\n",
       "      <td>0.941398</td>\n",
       "      <td>0.927703</td>\n",
       "      <td>02:59</td>\n",
       "    </tr>\n",
       "    <tr>\n",
       "      <td>2</td>\n",
       "      <td>0.912205</td>\n",
       "      <td>0.114950</td>\n",
       "      <td>0.958333</td>\n",
       "      <td>0.962613</td>\n",
       "      <td>0.959463</td>\n",
       "      <td>03:00</td>\n",
       "    </tr>\n",
       "    <tr>\n",
       "      <td>3</td>\n",
       "      <td>0.680003</td>\n",
       "      <td>0.181101</td>\n",
       "      <td>0.944444</td>\n",
       "      <td>0.959251</td>\n",
       "      <td>0.940789</td>\n",
       "      <td>03:01</td>\n",
       "    </tr>\n",
       "    <tr>\n",
       "      <td>4</td>\n",
       "      <td>0.598955</td>\n",
       "      <td>0.065642</td>\n",
       "      <td>0.974537</td>\n",
       "      <td>0.974399</td>\n",
       "      <td>0.975991</td>\n",
       "      <td>03:02</td>\n",
       "    </tr>\n",
       "    <tr>\n",
       "      <td>5</td>\n",
       "      <td>0.479548</td>\n",
       "      <td>0.088671</td>\n",
       "      <td>0.974537</td>\n",
       "      <td>0.974806</td>\n",
       "      <td>0.975694</td>\n",
       "      <td>03:07</td>\n",
       "    </tr>\n",
       "    <tr>\n",
       "      <td>6</td>\n",
       "      <td>0.583850</td>\n",
       "      <td>0.044006</td>\n",
       "      <td>0.990741</td>\n",
       "      <td>0.991285</td>\n",
       "      <td>0.991285</td>\n",
       "      <td>03:01</td>\n",
       "    </tr>\n",
       "    <tr>\n",
       "      <td>7</td>\n",
       "      <td>0.487128</td>\n",
       "      <td>0.050300</td>\n",
       "      <td>0.981481</td>\n",
       "      <td>0.981401</td>\n",
       "      <td>0.982159</td>\n",
       "      <td>03:07</td>\n",
       "    </tr>\n",
       "    <tr>\n",
       "      <td>8</td>\n",
       "      <td>0.294642</td>\n",
       "      <td>0.091997</td>\n",
       "      <td>0.974537</td>\n",
       "      <td>0.974371</td>\n",
       "      <td>0.976105</td>\n",
       "      <td>02:55</td>\n",
       "    </tr>\n",
       "    <tr>\n",
       "      <td>9</td>\n",
       "      <td>0.222501</td>\n",
       "      <td>0.041155</td>\n",
       "      <td>0.986111</td>\n",
       "      <td>0.986368</td>\n",
       "      <td>0.986459</td>\n",
       "      <td>02:59</td>\n",
       "    </tr>\n",
       "  </tbody>\n",
       "</table><p>\n",
       "\n",
       "    <div>\n",
       "        <style>\n",
       "            /* Turns off some styling */\n",
       "            progress {\n",
       "                /* gets rid of default border in Firefox and Opera. */\n",
       "                border: none;\n",
       "                /* Needs to be in here for Safari polyfill so background images work as expected. */\n",
       "                background-size: auto;\n",
       "            }\n",
       "            .progress-bar-interrupted, .progress-bar-interrupted::-webkit-progress-bar {\n",
       "                background: #F44336;\n",
       "            }\n",
       "        </style>\n",
       "      <progress value='108' class='' max='108' style='width:300px; height:20px; vertical-align: middle;'></progress>\n",
       "      100.00% [108/108 00:43<00:00]\n",
       "    </div>\n",
       "    "
      ],
      "text/plain": [
       "<IPython.core.display.HTML object>"
      ]
     },
     "metadata": {
      "tags": []
     },
     "output_type": "display_data"
    },
    {
     "name": "stderr",
     "output_type": "stream",
     "text": [
      "c:\\users\\appdata\\local\\programs\\python\\python36\\lib\\site-packages\\fastai\\metrics.py:191: UserWarning: average=`binary` was selected for a non binary case. Value for average has now been set to `macro` instead.\n",
      "  warn(\"average=`binary` was selected for a non binary case. Value for average has now been set to `macro` instead.\")\n"
     ]
    },
    {
     "name": "stdout",
     "output_type": "stream",
     "text": [
      "Better model found at epoch 0 with valid_loss value: 0.11612499505281448.\n",
      "Better model found at epoch 2 with valid_loss value: 0.11494989693164825.\n",
      "Better model found at epoch 4 with valid_loss value: 0.06564205884933472.\n",
      "Better model found at epoch 6 with valid_loss value: 0.04400617629289627.\n",
      "Better model found at epoch 9 with valid_loss value: 0.041155196726322174.\n",
      "Epoch 10: early stopping\n"
     ]
    }
   ],
   "source": [
    "# Fit one cycle method for a number of epochs\n",
    "epochs = 15\n",
    "learn.fit_one_cycle(epochs)\n",
    "#torch.save(learn.model.state_dict(), f'{fname}_{fold}.pth')"
   ]
  },
  {
   "cell_type": "code",
   "execution_count": null,
   "metadata": {
    "colab": {
     "base_uri": "https://localhost:8080/",
     "height": 279
    },
    "id": "VZQ2okrRRTQA",
    "outputId": "7038831d-45cb-4c2f-c18f-bc4de9da9a7b"
   },
   "outputs": [
    {
     "data": {
      "image/png": "[encoded data removed]",
      "text/plain": [
       "<Figure size 432x288 with 1 Axes>"
      ]
     },
     "metadata": {
      "needs_background": "light",
      "tags": []
     },
     "output_type": "display_data"
    }
   ],
   "source": [
    "learn.recorder.plot_losses()"
   ]
  },
  {
   "cell_type": "code",
   "execution_count": null,
   "metadata": {
    "colab": {
     "base_uri": "https://localhost:8080/",
     "height": 17
    },
    "id": "RARsd1koHWrZ",
    "outputId": "2bb89849-72ca-403e-face-2bc6a37b9537"
   },
   "outputs": [
    {
     "data": {
      "text/html": [],
      "text/plain": [
       "<IPython.core.display.HTML object>"
      ]
     },
     "metadata": {
      "tags": []
     },
     "output_type": "display_data"
    },
    {
     "data": {
      "text/html": [],
      "text/plain": [
       "<IPython.core.display.HTML object>"
      ]
     },
     "metadata": {
      "tags": []
     },
     "output_type": "display_data"
    },
    {
     "data": {
      "text/html": [],
      "text/plain": [
       "<IPython.core.display.HTML object>"
      ]
     },
     "metadata": {
      "tags": []
     },
     "output_type": "display_data"
    },
    {
     "data": {
      "text/html": [],
      "text/plain": [
       "<IPython.core.display.HTML object>"
      ]
     },
     "metadata": {
      "tags": []
     },
     "output_type": "display_data"
    }
   ],
   "source": [
    "# Get the predictions for validation set and store as numpy array\n",
    "preds = learn.get_preds()[0].argmax(dim=-1).numpy()\n",
    "test_actual = learn.get_preds()[1].numpy()\n",
    "\n",
    "# Get the predictions for training set and store as numpy array\n",
    "train_pred = learn.get_preds(ds_type=DatasetType.Train)[0].argmax(dim=-1).numpy()\n",
    "train_actual = learn.get_preds(ds_type=DatasetType.Train)[1].numpy()\n",
    "\n",
    "# Calculate accuracy_score and append to Dataframe\n",
    "val_acc = accuracy_score(test_actual, preds)\n",
    "train_acc = accuracy_score(train_actual, train_pred)"
   ]
  },
  {
   "cell_type": "code",
   "execution_count": null,
   "metadata": {
    "colab": {
     "base_uri": "https://localhost:8080/",
     "height": 34
    },
    "id": "oADgdD23HWrm",
    "outputId": "3354f724-1d2b-4097-e077-5d0528a4c0bd"
   },
   "outputs": [
    {
     "data": {
      "text/plain": [
       "(0.9861111111111112, 0.1746031746031746)"
      ]
     },
     "execution_count": 21,
     "metadata": {
      "tags": []
     },
     "output_type": "execute_result"
    }
   ],
   "source": [
    "val_acc, train_acc"
   ]
  },
  {
   "cell_type": "code",
   "execution_count": null,
   "metadata": {
    "colab": {
     "base_uri": "https://localhost:8080/",
     "height": 34
    },
    "id": "QJLOznpdEtCL",
    "outputId": "bc46aea2-162d-4101-918f-7375aabdb8f7"
   },
   "outputs": [
    {
     "data": {
      "text/plain": [
       "((1008,), (1008,))"
      ]
     },
     "execution_count": 22,
     "metadata": {
      "tags": []
     },
     "output_type": "execute_result"
    }
   ],
   "source": [
    "train_pred.shape, train_actual.shape"
   ]
  },
  {
   "cell_type": "code",
   "execution_count": null,
   "metadata": {
    "colab": {
     "base_uri": "https://localhost:8080/",
     "height": 34
    },
    "id": "ZL1pMpspE1SL",
    "outputId": "77400df7-0014-4e7a-f815-16b12c69ac0f"
   },
   "outputs": [
    {
     "data": {
      "text/plain": [
       "((432,), (432,))"
      ]
     },
     "execution_count": 23,
     "metadata": {
      "tags": []
     },
     "output_type": "execute_result"
    }
   ],
   "source": [
    "preds.shape, test_actual.shape"
   ]
  },
  {
   "cell_type": "code",
   "execution_count": null,
   "metadata": {
    "colab": {
     "base_uri": "https://localhost:8080/",
     "height": 84
    },
    "id": "QL8UN8JJHLIk",
    "outputId": "6968f68b-a5f9-48b4-f027-e904d23dae54"
   },
   "outputs": [
    {
     "data": {
      "text/plain": [
       "array([[69,  0,  0,  0,  0,  0],\n",
       "       [ 0, 76,  1,  0,  0,  0],\n",
       "       [ 0,  0, 63,  0,  0,  1],\n",
       "       [ 0,  0,  0, 78,  0,  0],\n",
       "       [ 0,  0,  0,  0, 68,  0],\n",
       "       [ 0,  3,  0,  0,  1, 72]], dtype=int64)"
      ]
     },
     "execution_count": 24,
     "metadata": {
      "tags": []
     },
     "output_type": "execute_result"
    }
   ],
   "source": [
    "confusion_matrix(test_actual, preds)"
   ]
  },
  {
   "cell_type": "code",
   "execution_count": null,
   "metadata": {
    "colab": {
     "base_uri": "https://localhost:8080/",
     "height": 84
    },
    "id": "-V59TMvxHLIt",
    "outputId": "a0ca9a82-a62a-404a-81ab-b1302225612e"
   },
   "outputs": [
    {
     "data": {
      "text/plain": [
       "array([[27, 25, 27, 32, 26, 28],\n",
       "       [30, 31, 27, 28, 31, 24],\n",
       "       [22, 28, 31, 30, 22, 29],\n",
       "       [27, 28, 27, 21, 31, 28],\n",
       "       [29, 32, 29, 26, 35, 28],\n",
       "       [28, 26, 24, 29, 31, 31]], dtype=int64)"
      ]
     },
     "execution_count": 25,
     "metadata": {
      "tags": []
     },
     "output_type": "execute_result"
    }
   ],
   "source": [
    "confusion_matrix(train_actual, train_pred)"
   ]
  },
  {
   "cell_type": "code",
   "execution_count": null,
   "metadata": {
    "colab": {
     "base_uri": "https://localhost:8080/",
     "height": 626
    },
    "id": "am4A_ZyDQTCM",
    "outputId": "34ec68bb-4b6b-4e15-9adf-5a0b45f245fd"
   },
   "outputs": [
    {
     "data": {
      "text/html": [],
      "text/plain": [
       "<IPython.core.display.HTML object>"
      ]
     },
     "metadata": {
      "tags": []
     },
     "output_type": "display_data"
    },
    {
     "data": {
      "image/png": "[encoded data removed]",
      "text/plain": [
       "<Figure size 600x600 with 1 Axes>"
      ]
     },
     "metadata": {
      "needs_background": "light",
      "tags": []
     },
     "output_type": "display_data"
    }
   ],
   "source": [
    "interp = ClassificationInterpretation.from_learner(learn)\n",
    "interp.plot_confusion_matrix(figsize=(6,6), dpi=100)"
   ]
  },
  {
   "cell_type": "code",
   "execution_count": null,
   "metadata": {
    "id": "x9b9WvLSQra_"
   },
   "outputs": [],
   "source": [
    "learn.export(r\"C:\\Users\\Desktop\\VQI\\Classification Codes\\data\\IMAGES\\train\\mobilenetv2_Callbacks.pkl\")\n",
    "#learn.save(os.path.join(model_save_path,'/resnet34_nocrk6000_epc2_stage-2'))\n",
    "learn.save(r'C:\\Users\\Desktop\\VQI\\Classification Codes\\data\\IMAGES\\train\\mobilenetv2_Callbacks')"
   ]
  },
  {
   "cell_type": "markdown",
   "metadata": {
    "id": "LYEiLo-zRqQm"
   },
   "source": [
    "### Testing on New Images"
   ]
  },
  {
   "cell_type": "code",
   "execution_count": null,
   "metadata": {
    "id": "QT6gW-GKRsXQ"
   },
   "outputs": [],
   "source": [
    "learn.load(r'C:\\Users\\Desktop\\VQI\\Classification Codes\\data\\IMAGES\\train\\mobilenetv2_Callbacks')"
   ]
  },
  {
   "cell_type": "code",
   "execution_count": null,
   "metadata": {
    "id": "eCVwT9nXSB3I"
   },
   "outputs": [],
   "source": [
    "# predicting on a separate set, with labeled data\n",
    "# use this method if there are several folders withing test folder\n",
    "test_directory = r'C:\\Users\\Desktop\\VQI\\Classification Codes\\data\\IMAGES\\test'\n",
    "images = []\n",
    "\n",
    "for r, d, f in os.walk(test_directory):\n",
    "    for file in f:\n",
    "        #if file.endswith(\".docx\"):\n",
    "        images.append(os.path.join(r, file))\n"
   ]
  },
  {
   "cell_type": "code",
   "execution_count": null,
   "metadata": {
    "colab": {
     "base_uri": "https://localhost:8080/"
    },
    "id": "l-JpeHgp-Z5O",
    "outputId": "3df624c1-49d3-4c7b-c5ec-b77049bb1b64"
   },
   "outputs": [
    {
     "data": {
      "text/plain": [
       "[]"
      ]
     },
     "execution_count": 38,
     "metadata": {
      "tags": []
     },
     "output_type": "execute_result"
    }
   ],
   "source": [
    "images"
   ]
  },
  {
   "cell_type": "code",
   "execution_count": null,
   "metadata": {
    "id": "QKkX3_1p-Z5V"
   },
   "outputs": [],
   "source": [
    "from fastai.vision import image\n",
    "pred = []\n",
    "\n",
    "for i in images:\n",
    "    #img = image.open_image(test_directory+i)   # NameError: name 'image' is not defined  if image is not imported\n",
    "    img = image.open_image(i)\n",
    "    pred_class,pred_idx,outputs = learn.predict(img)\n",
    "    pred.append(str(pred_class))\n",
    "\n"
   ]
  },
  {
   "cell_type": "code",
   "execution_count": null,
   "metadata": {
    "id": "i0rdVcuU-Z5i"
   },
   "outputs": [],
   "source": [
    "actual = []\n",
    "\n",
    "for item in images:   # can be used if images are in sub-folders within test\n",
    "#for item in os.listdir(test_directory):  # only when images are directly in \"test\"\n",
    "    if 'Cr' in item:\n",
    "        actual.append('Cr')\n",
    "    if 'In' in item:\n",
    "        actual.append('In')\n",
    "    if 'Pa' in item:\n",
    "        actual.append('Pa')\n",
    "    if 'PS' in item:\n",
    "        actual.append('PS')  \n",
    "    if 'RS' in item:\n",
    "        actual.append('RS')\n",
    "    if 'Sc' in item:\n",
    "        actual.append('Sc')        "
   ]
  },
  {
   "cell_type": "code",
   "execution_count": null,
   "metadata": {
    "colab": {
     "base_uri": "https://localhost:8080/"
    },
    "id": "Bf_Tpg2aUHQK",
    "outputId": "cb4e1127-41f3-4983-922f-b683e1bd1739",
    "scrolled": true
   },
   "outputs": [
    {
     "data": {
      "text/plain": [
       "[]"
      ]
     },
     "execution_count": 41,
     "metadata": {
      "tags": []
     },
     "output_type": "execute_result"
    }
   ],
   "source": [
    "pred"
   ]
  },
  {
   "cell_type": "code",
   "execution_count": null,
   "metadata": {
    "colab": {
     "base_uri": "https://localhost:8080/"
    },
    "id": "x16HrtGMUElq",
    "outputId": "b03e2707-2c4c-4c77-d44a-c92bfc549f14",
    "scrolled": true
   },
   "outputs": [
    {
     "data": {
      "text/plain": [
       "[]"
      ]
     },
     "execution_count": 42,
     "metadata": {
      "tags": []
     },
     "output_type": "execute_result"
    }
   ],
   "source": [
    "actual"
   ]
  },
  {
   "cell_type": "code",
   "execution_count": null,
   "metadata": {
    "id": "IoRshO5tqjem"
   },
   "outputs": [],
   "source": [
    "Test_Results={}"
   ]
  },
  {
   "cell_type": "code",
   "execution_count": null,
   "metadata": {
    "id": "IugTTrqd-Z5l"
   },
   "outputs": [],
   "source": [
    "from sklearn.metrics import confusion_matrix, classification_report, accuracy_score\n",
    "\n",
    "class_names = ['Cr', 'In', 'Pa', 'PS', 'RS', 'Sc']\n",
    "report=classification_report(actual, pred, target_names=class_names)\n",
    "Classifiaction_Report=classification_report(actual, pred, target_names=class_names)\n",
    "Test_Results[\"Classification Report\"]=Classifiaction_Report"
   ]
  },
  {
   "cell_type": "code",
   "execution_count": null,
   "metadata": {
    "id": "bR1QVJmGqjeq"
   },
   "outputs": [],
   "source": [
    "print(Classifiaction_Report)"
   ]
  },
  {
   "cell_type": "code",
   "execution_count": null,
   "metadata": {
    "id": "-t07xeIlqjet"
   },
   "outputs": [],
   "source": [
    "#Ref\n",
    "def report_to_df(report):\n",
    "    report = [x.split(' ') for x in report.split('\\n')]\n",
    "    header = ['Class Name']+[x for x in report[0] if x!='']\n",
    "    values = []\n",
    "    for row in report[1:-5]:\n",
    "        row = [value for value in row if value!='']\n",
    "        if row!=[]:\n",
    "            values.append(row)\n",
    "    df = pd.DataFrame(data = values, columns = header)\n",
    "    return df"
   ]
  },
  {
   "cell_type": "code",
   "execution_count": null,
   "metadata": {
    "id": "gq5KyGmJ-Z5r"
   },
   "outputs": [],
   "source": [
    "Accuracy_Score=accuracy_score(actual, pred)\n",
    "Test_Results[\"Accuracy_Score\"]=Accuracy_Score"
   ]
  },
  {
   "cell_type": "code",
   "execution_count": null,
   "metadata": {
    "id": "XpVQGi4-qje1"
   },
   "outputs": [],
   "source": []
  },
  {
   "cell_type": "code",
   "execution_count": null,
   "metadata": {
    "id": "rf2Kom_0-Z5v"
   },
   "outputs": [],
   "source": [
    "import pandas as pd\n",
    "Confusion_Matrix_List=[]\n",
    "Confusion_matrix=pd.DataFrame(confusion_matrix(actual,pred,labels=class_names))\n",
    "for index, row in Confusion_matrix.iterrows():\n",
    "    Confusion_Matrix_List.append(list(row))\n",
    "Test_Results[\"Confusion_Matrix\"]=Confusion_Matrix_List"
   ]
  },
  {
   "cell_type": "code",
   "execution_count": null,
   "metadata": {
    "id": "tyjgwLlhqje8"
   },
   "outputs": [],
   "source": [
    "Test_Results"
   ]
  },
  {
   "cell_type": "code",
   "execution_count": null,
   "metadata": {
    "id": "hZEWbP2zqje_"
   },
   "outputs": [],
   "source": [
    "import json\n",
    "with open('data.json', 'w') as f:\n",
    "    json.dump(Test_Results, f)"
   ]
  },
  {
   "cell_type": "code",
   "execution_count": null,
   "metadata": {
    "id": "Tk4btzBnqjfD"
   },
   "outputs": [],
   "source": [
    "#o read json\n",
    "import json\n",
    "with open('data.json',\"r\") as f:\n",
    "    json.load(f)"
   ]
  },
  {
   "cell_type": "code",
   "execution_count": null,
   "metadata": {
    "id": "9suhsnPR-Z5z"
   },
   "outputs": [],
   "source": [
    "cnf_matrix = confusion_matrix(actual, pred)\n",
    "np.set_printoptions(precision=2)\n",
    "\n",
    "# Plot non-normalized confusion matrix\n",
    "plt.figure()\n",
    "plot_confusion_matrix(cnf_matrix, classes=class_names,\n",
    "                      title='Confusion matrix, without normalization')\n"
   ]
  },
  {
   "cell_type": "markdown",
   "metadata": {
    "id": "OgpfymplHWsr"
   },
   "source": [
    "### VGG16"
   ]
  },
  {
   "cell_type": "code",
   "execution_count": null,
   "metadata": {
    "colab": {
     "base_uri": "https://localhost:8080/",
     "height": 82,
     "referenced_widgets": [
      "dd90b7b492ee4993abfcc039a498ff24",
      "a750865d02b441acaf4161c98ca1134b",
      "4a9799f262aa4237b4d32fc091ce1411",
      "0816881808a84cde94eb73d83517fac1",
      "9a4057ed61124447b554c97730b87845",
      "c6bdeffbde524779a2b4096e390fa082",
      "44c5aa2cab6e41dcbac591c1b226325b",
      "3c31c9cdef324836a201473b4d83e655"
     ]
    },
    "id": "XLFEQ-I8HWss",
    "outputId": "3d78d54d-005a-4a19-b0b0-2d0aec4b500e"
   },
   "outputs": [
    {
     "name": "stderr",
     "output_type": "stream",
     "text": [
      "Downloading: \"https://download.pytorch.org/models/vgg16-397923af.pth\" to /root/.cache/torch/hub/checkpoints/vgg16-397923af.pth\n"
     ]
    },
    {
     "data": {
      "application/vnd.jupyter.widget-view+json": {
       "model_id": "dd90b7b492ee4993abfcc039a498ff24",
       "version_major": 2,
       "version_minor": 0
      },
      "text/plain": [
       "HBox(children=(FloatProgress(value=0.0, max=553433881.0), HTML(value='')))"
      ]
     },
     "metadata": {
      "tags": []
     },
     "output_type": "display_data"
    },
    {
     "name": "stdout",
     "output_type": "stream",
     "text": [
      "\n"
     ]
    }
   ],
   "source": [
    "learn1 = cnn_learner(data, vgg16, pretrained=True, metrics=metrics)\n",
    "# Below is needed since you get negative loss otherwise Ref: https://forums.fast.ai/t/negative-loss-with-letters-mnist/30889/15\n",
    "# learn.loss_func = torch.nn.functional.cross_entropy\n",
    "learn1.loss_func = nn.CrossEntropyLoss(weight=class_weights)\n",
    "\n",
    "callbacks = [EarlyStoppingCallback(learn1, monitor='accuracy', min_delta=0.01, patience=3), SaveModelCallback(learn1, every='improvement', monitor='accuracy')]\n",
    "learn1.callbacks = callbacks"
   ]
  },
  {
   "cell_type": "markdown",
   "metadata": {
    "id": "FmTsg98SHWsx"
   },
   "source": [
    "By default, only the fully connected layers at the top are unfrozen (can be trained) (only in Fastai not Pytorch) ((i.e. requires_grad=False for all layers except FCN)"
   ]
  },
  {
   "cell_type": "code",
   "execution_count": null,
   "metadata": {
    "colab": {
     "base_uri": "https://localhost:8080/",
     "height": 385
    },
    "id": "mGx0NXmwHWsz",
    "outputId": "76cd64a7-ed26-4ff9-8401-93d953dc0eb3",
    "scrolled": true
   },
   "outputs": [
    {
     "data": {
      "text/html": [
       "\n",
       "    <div>\n",
       "        <style>\n",
       "            /* Turns off some styling */\n",
       "            progress {\n",
       "                /* gets rid of default border in Firefox and Opera. */\n",
       "                border: none;\n",
       "                /* Needs to be in here for Safari polyfill so background images work as expected. */\n",
       "                background-size: auto;\n",
       "            }\n",
       "            .progress-bar-interrupted, .progress-bar-interrupted::-webkit-progress-bar {\n",
       "                background: #F44336;\n",
       "            }\n",
       "        </style>\n",
       "      <progress value='7' class='' max='10' style='width:300px; height:20px; vertical-align: middle;'></progress>\n",
       "      70.00% [7/10 00:34<00:14]\n",
       "    </div>\n",
       "    \n",
       "<table border=\"1\" class=\"dataframe\">\n",
       "  <thead>\n",
       "    <tr style=\"text-align: left;\">\n",
       "      <th>epoch</th>\n",
       "      <th>train_loss</th>\n",
       "      <th>valid_loss</th>\n",
       "      <th>accuracy</th>\n",
       "      <th>precision</th>\n",
       "      <th>recall</th>\n",
       "      <th>time</th>\n",
       "    </tr>\n",
       "  </thead>\n",
       "  <tbody>\n",
       "    <tr>\n",
       "      <td>0</td>\n",
       "      <td>2.319911</td>\n",
       "      <td>1.910482</td>\n",
       "      <td>0.103448</td>\n",
       "      <td>nan</td>\n",
       "      <td>0.321429</td>\n",
       "      <td>00:10</td>\n",
       "    </tr>\n",
       "    <tr>\n",
       "      <td>1</td>\n",
       "      <td>1.958246</td>\n",
       "      <td>1.237220</td>\n",
       "      <td>0.517241</td>\n",
       "      <td>nan</td>\n",
       "      <td>0.287594</td>\n",
       "      <td>00:03</td>\n",
       "    </tr>\n",
       "    <tr>\n",
       "      <td>2</td>\n",
       "      <td>1.551973</td>\n",
       "      <td>1.266010</td>\n",
       "      <td>0.551724</td>\n",
       "      <td>0.460714</td>\n",
       "      <td>0.604323</td>\n",
       "      <td>00:03</td>\n",
       "    </tr>\n",
       "    <tr>\n",
       "      <td>3</td>\n",
       "      <td>1.320657</td>\n",
       "      <td>1.307225</td>\n",
       "      <td>0.586207</td>\n",
       "      <td>0.658333</td>\n",
       "      <td>0.617481</td>\n",
       "      <td>00:03</td>\n",
       "    </tr>\n",
       "    <tr>\n",
       "      <td>4</td>\n",
       "      <td>1.090372</td>\n",
       "      <td>1.330631</td>\n",
       "      <td>0.586207</td>\n",
       "      <td>0.628125</td>\n",
       "      <td>0.706767</td>\n",
       "      <td>00:03</td>\n",
       "    </tr>\n",
       "    <tr>\n",
       "      <td>5</td>\n",
       "      <td>0.905562</td>\n",
       "      <td>1.332464</td>\n",
       "      <td>0.586207</td>\n",
       "      <td>nan</td>\n",
       "      <td>0.380639</td>\n",
       "      <td>00:03</td>\n",
       "    </tr>\n",
       "    <tr>\n",
       "      <td>6</td>\n",
       "      <td>0.773023</td>\n",
       "      <td>1.378348</td>\n",
       "      <td>0.586207</td>\n",
       "      <td>nan</td>\n",
       "      <td>0.380639</td>\n",
       "      <td>00:03</td>\n",
       "    </tr>\n",
       "  </tbody>\n",
       "</table><p>\n",
       "\n",
       "    <div>\n",
       "        <style>\n",
       "            /* Turns off some styling */\n",
       "            progress {\n",
       "                /* gets rid of default border in Firefox and Opera. */\n",
       "                border: none;\n",
       "                /* Needs to be in here for Safari polyfill so background images work as expected. */\n",
       "                background-size: auto;\n",
       "            }\n",
       "            .progress-bar-interrupted, .progress-bar-interrupted::-webkit-progress-bar {\n",
       "                background: #F44336;\n",
       "            }\n",
       "        </style>\n",
       "      <progress value='2' class='' max='2' style='width:300px; height:20px; vertical-align: middle;'></progress>\n",
       "      100.00% [2/2 00:00<00:00]\n",
       "    </div>\n",
       "    "
      ],
      "text/plain": [
       "<IPython.core.display.HTML object>"
      ]
     },
     "metadata": {
      "tags": []
     },
     "output_type": "display_data"
    },
    {
     "name": "stdout",
     "output_type": "stream",
     "text": [
      "Better model found at epoch 0 with accuracy value: 0.1034482792019844.\n",
      "Better model found at epoch 1 with accuracy value: 0.517241358757019.\n",
      "Better model found at epoch 2 with accuracy value: 0.5517241358757019.\n",
      "Better model found at epoch 3 with accuracy value: 0.5862069129943848.\n",
      "Epoch 7: early stopping\n"
     ]
    }
   ],
   "source": [
    "learn1.fit_one_cycle(10)"
   ]
  },
  {
   "cell_type": "code",
   "execution_count": null,
   "metadata": {
    "colab": {
     "base_uri": "https://localhost:8080/",
     "height": 279
    },
    "id": "7Oox1iipHWs2",
    "outputId": "e68a84cf-d35a-48b5-b084-2ba9d17abca8"
   },
   "outputs": [
    {
     "data": {
      "image/png": "[encoded data removed]",
      "text/plain": [
       "<Figure size 432x288 with 1 Axes>"
      ]
     },
     "metadata": {
      "needs_background": "light",
      "tags": []
     },
     "output_type": "display_data"
    }
   ],
   "source": [
    "learn1.recorder.plot_losses()"
   ]
  },
  {
   "cell_type": "code",
   "execution_count": null,
   "metadata": {
    "colab": {
     "base_uri": "https://localhost:8080/",
     "height": 17
    },
    "id": "7pMWEZXBH40S",
    "outputId": "378b56fd-7611-46f1-8a26-5ee4d9acf692"
   },
   "outputs": [
    {
     "data": {
      "text/html": [],
      "text/plain": [
       "<IPython.core.display.HTML object>"
      ]
     },
     "metadata": {
      "tags": []
     },
     "output_type": "display_data"
    },
    {
     "data": {
      "text/html": [],
      "text/plain": [
       "<IPython.core.display.HTML object>"
      ]
     },
     "metadata": {
      "tags": []
     },
     "output_type": "display_data"
    },
    {
     "data": {
      "text/html": [],
      "text/plain": [
       "<IPython.core.display.HTML object>"
      ]
     },
     "metadata": {
      "tags": []
     },
     "output_type": "display_data"
    },
    {
     "data": {
      "text/html": [],
      "text/plain": [
       "<IPython.core.display.HTML object>"
      ]
     },
     "metadata": {
      "tags": []
     },
     "output_type": "display_data"
    }
   ],
   "source": [
    "# Get the predictions for validation set and store as numpy array\n",
    "preds = learn1.get_preds()[0].argmax(dim=-1).numpy()\n",
    "test_actual = learn1.get_preds()[1].numpy()\n",
    "\n",
    "# Get the predictions for training set and store as numpy array\n",
    "train_pred = learn1.get_preds(ds_type=DatasetType.Train)[0].argmax(dim=-1).numpy()\n",
    "train_actual = learn1.get_preds(ds_type=DatasetType.Train)[1].numpy()\n",
    "\n",
    "# Calculate accuracy_score and append to Dataframe\n",
    "val_acc = accuracy_score(test_actual, preds)\n",
    "train_acc = accuracy_score(train_actual, train_pred)"
   ]
  },
  {
   "cell_type": "code",
   "execution_count": null,
   "metadata": {
    "colab": {
     "base_uri": "https://localhost:8080/",
     "height": 34
    },
    "id": "yHQzf-5ZH9kR",
    "outputId": "5662830f-58b7-408f-ebb7-6dd9a97d0194"
   },
   "outputs": [
    {
     "data": {
      "text/plain": [
       "(0.5862068965517241, 0.45535714285714285)"
      ]
     },
     "execution_count": 81,
     "metadata": {
      "tags": []
     },
     "output_type": "execute_result"
    }
   ],
   "source": [
    "val_acc, train_acc"
   ]
  },
  {
   "cell_type": "code",
   "execution_count": null,
   "metadata": {
    "colab": {
     "base_uri": "https://localhost:8080/",
     "height": 84
    },
    "id": "1DFQhGyyIC32",
    "outputId": "0a0e9968-bb25-4657-87bc-d5aea130cee0"
   },
   "outputs": [
    {
     "data": {
      "text/plain": [
       "array([[13,  0,  0,  6],\n",
       "       [ 0,  1,  0,  0],\n",
       "       [ 2,  0,  2,  3],\n",
       "       [ 0,  0,  1,  1]])"
      ]
     },
     "execution_count": 82,
     "metadata": {
      "tags": []
     },
     "output_type": "execute_result"
    }
   ],
   "source": [
    "confusion_matrix(test_actual, preds)"
   ]
  },
  {
   "cell_type": "code",
   "execution_count": null,
   "metadata": {
    "colab": {
     "base_uri": "https://localhost:8080/",
     "height": 84
    },
    "id": "QB7jf2O5IC36",
    "outputId": "b39cd07a-c402-492a-b238-9d356bbe3ef4"
   },
   "outputs": [
    {
     "data": {
      "text/plain": [
       "array([[43,  5, 15, 11],\n",
       "       [ 3,  0,  1,  1],\n",
       "       [13,  1,  7,  3],\n",
       "       [ 4,  1,  3,  1]])"
      ]
     },
     "execution_count": 83,
     "metadata": {
      "tags": []
     },
     "output_type": "execute_result"
    }
   ],
   "source": [
    "confusion_matrix(train_actual, train_pred)"
   ]
  },
  {
   "cell_type": "markdown",
   "metadata": {
    "id": "vx0qfaJAHWtS"
   },
   "source": [
    "### ResNet50"
   ]
  },
  {
   "cell_type": "code",
   "execution_count": null,
   "metadata": {
    "colab": {
     "base_uri": "https://localhost:8080/",
     "height": 82,
     "referenced_widgets": [
      "805c2d48141b4ee1bab34eb76cde2cb1",
      "b0308f17c77c4f278c3674218ee25a0d",
      "5b554ecefe3844e28b3184e16fd02d05",
      "47527a1da1424a6daa2a4ad205224692",
      "ad94311fe1fc425d92f4384441351fde",
      "c9d92bed1ee145d696e1c6433478b85f",
      "a509986aecb94fd18a8b431640ff3b17",
      "d94f95cfc3ba48b7bbbd43e6401557aa"
     ]
    },
    "id": "VxCQyWyGHWtT",
    "outputId": "43437f67-5bfe-4fd2-e2dd-d3b3d2794d3b"
   },
   "outputs": [
    {
     "name": "stderr",
     "output_type": "stream",
     "text": [
      "Downloading: \"https://download.pytorch.org/models/resnet50-19c8e357.pth\" to /root/.cache/torch/hub/checkpoints/resnet50-19c8e357.pth\n"
     ]
    },
    {
     "data": {
      "application/vnd.jupyter.widget-view+json": {
       "model_id": "805c2d48141b4ee1bab34eb76cde2cb1",
       "version_major": 2,
       "version_minor": 0
      },
      "text/plain": [
       "HBox(children=(FloatProgress(value=0.0, max=102502400.0), HTML(value='')))"
      ]
     },
     "metadata": {
      "tags": []
     },
     "output_type": "display_data"
    },
    {
     "name": "stdout",
     "output_type": "stream",
     "text": [
      "\n"
     ]
    }
   ],
   "source": [
    "learn2 = cnn_learner(data, resnet50, pretrained=True, metrics=metrics)\n",
    "learn2.loss_func = torch.nn.functional.cross_entropy"
   ]
  },
  {
   "cell_type": "markdown",
   "metadata": {
    "id": "ZGu3ZutzHWtY"
   },
   "source": [
    "By default, only the fully connected layers at the top are unfrozen (can be trained) (only in Fastai not Pytorch) ((i.e. requires_grad=False for all layers except FCN)"
   ]
  },
  {
   "cell_type": "code",
   "execution_count": null,
   "metadata": {
    "colab": {
     "base_uri": "https://localhost:8080/",
     "height": 639
    },
    "id": "xlnoG5_rHWtZ",
    "outputId": "a6c12a83-685f-4dba-a316-c73106a94e61"
   },
   "outputs": [
    {
     "data": {
      "text/html": [
       "<table border=\"1\" class=\"dataframe\">\n",
       "  <thead>\n",
       "    <tr style=\"text-align: left;\">\n",
       "      <th>epoch</th>\n",
       "      <th>train_loss</th>\n",
       "      <th>valid_loss</th>\n",
       "      <th>accuracy</th>\n",
       "      <th>precision</th>\n",
       "      <th>recall</th>\n",
       "      <th>time</th>\n",
       "    </tr>\n",
       "  </thead>\n",
       "  <tbody>\n",
       "    <tr>\n",
       "      <td>0</td>\n",
       "      <td>2.541088</td>\n",
       "      <td>1.394131</td>\n",
       "      <td>0.586207</td>\n",
       "      <td>nan</td>\n",
       "      <td>0.223684</td>\n",
       "      <td>00:08</td>\n",
       "    </tr>\n",
       "    <tr>\n",
       "      <td>1</td>\n",
       "      <td>2.066768</td>\n",
       "      <td>1.742163</td>\n",
       "      <td>0.482759</td>\n",
       "      <td>nan</td>\n",
       "      <td>0.421053</td>\n",
       "      <td>00:04</td>\n",
       "    </tr>\n",
       "    <tr>\n",
       "      <td>2</td>\n",
       "      <td>1.687377</td>\n",
       "      <td>1.428046</td>\n",
       "      <td>0.413793</td>\n",
       "      <td>nan</td>\n",
       "      <td>0.439850</td>\n",
       "      <td>00:04</td>\n",
       "    </tr>\n",
       "    <tr>\n",
       "      <td>3</td>\n",
       "      <td>1.333429</td>\n",
       "      <td>1.770467</td>\n",
       "      <td>0.310345</td>\n",
       "      <td>nan</td>\n",
       "      <td>0.163534</td>\n",
       "      <td>00:04</td>\n",
       "    </tr>\n",
       "    <tr>\n",
       "      <td>4</td>\n",
       "      <td>1.149831</td>\n",
       "      <td>1.601366</td>\n",
       "      <td>0.448276</td>\n",
       "      <td>0.320833</td>\n",
       "      <td>0.453008</td>\n",
       "      <td>00:04</td>\n",
       "    </tr>\n",
       "    <tr>\n",
       "      <td>5</td>\n",
       "      <td>0.954081</td>\n",
       "      <td>1.203817</td>\n",
       "      <td>0.689655</td>\n",
       "      <td>0.434722</td>\n",
       "      <td>0.567669</td>\n",
       "      <td>00:04</td>\n",
       "    </tr>\n",
       "    <tr>\n",
       "      <td>6</td>\n",
       "      <td>0.795043</td>\n",
       "      <td>1.015514</td>\n",
       "      <td>0.724138</td>\n",
       "      <td>0.750000</td>\n",
       "      <td>0.692669</td>\n",
       "      <td>00:04</td>\n",
       "    </tr>\n",
       "    <tr>\n",
       "      <td>7</td>\n",
       "      <td>0.664323</td>\n",
       "      <td>0.898260</td>\n",
       "      <td>0.620690</td>\n",
       "      <td>nan</td>\n",
       "      <td>0.281955</td>\n",
       "      <td>00:04</td>\n",
       "    </tr>\n",
       "    <tr>\n",
       "      <td>8</td>\n",
       "      <td>0.586723</td>\n",
       "      <td>0.944132</td>\n",
       "      <td>0.689655</td>\n",
       "      <td>nan</td>\n",
       "      <td>0.330827</td>\n",
       "      <td>00:04</td>\n",
       "    </tr>\n",
       "    <tr>\n",
       "      <td>9</td>\n",
       "      <td>0.507827</td>\n",
       "      <td>0.816107</td>\n",
       "      <td>0.689655</td>\n",
       "      <td>0.462500</td>\n",
       "      <td>0.420113</td>\n",
       "      <td>00:04</td>\n",
       "    </tr>\n",
       "    <tr>\n",
       "      <td>10</td>\n",
       "      <td>0.434953</td>\n",
       "      <td>0.794002</td>\n",
       "      <td>0.620690</td>\n",
       "      <td>0.275000</td>\n",
       "      <td>0.259398</td>\n",
       "      <td>00:04</td>\n",
       "    </tr>\n",
       "    <tr>\n",
       "      <td>11</td>\n",
       "      <td>0.373400</td>\n",
       "      <td>0.915389</td>\n",
       "      <td>0.655172</td>\n",
       "      <td>0.276786</td>\n",
       "      <td>0.272556</td>\n",
       "      <td>00:04</td>\n",
       "    </tr>\n",
       "    <tr>\n",
       "      <td>12</td>\n",
       "      <td>0.318883</td>\n",
       "      <td>0.966566</td>\n",
       "      <td>0.689655</td>\n",
       "      <td>0.278409</td>\n",
       "      <td>0.285714</td>\n",
       "      <td>00:04</td>\n",
       "    </tr>\n",
       "    <tr>\n",
       "      <td>13</td>\n",
       "      <td>0.271844</td>\n",
       "      <td>0.982344</td>\n",
       "      <td>0.724138</td>\n",
       "      <td>0.315909</td>\n",
       "      <td>0.321429</td>\n",
       "      <td>00:04</td>\n",
       "    </tr>\n",
       "    <tr>\n",
       "      <td>14</td>\n",
       "      <td>0.241496</td>\n",
       "      <td>1.036425</td>\n",
       "      <td>0.724138</td>\n",
       "      <td>0.315909</td>\n",
       "      <td>0.321429</td>\n",
       "      <td>00:04</td>\n",
       "    </tr>\n",
       "    <tr>\n",
       "      <td>15</td>\n",
       "      <td>0.218929</td>\n",
       "      <td>1.009103</td>\n",
       "      <td>0.724138</td>\n",
       "      <td>nan</td>\n",
       "      <td>0.343985</td>\n",
       "      <td>00:04</td>\n",
       "    </tr>\n",
       "    <tr>\n",
       "      <td>16</td>\n",
       "      <td>0.189766</td>\n",
       "      <td>0.978596</td>\n",
       "      <td>0.689655</td>\n",
       "      <td>0.314286</td>\n",
       "      <td>0.308271</td>\n",
       "      <td>00:04</td>\n",
       "    </tr>\n",
       "    <tr>\n",
       "      <td>17</td>\n",
       "      <td>0.165741</td>\n",
       "      <td>0.953589</td>\n",
       "      <td>0.689655</td>\n",
       "      <td>0.314286</td>\n",
       "      <td>0.308271</td>\n",
       "      <td>00:04</td>\n",
       "    </tr>\n",
       "    <tr>\n",
       "      <td>18</td>\n",
       "      <td>0.147076</td>\n",
       "      <td>0.917967</td>\n",
       "      <td>0.689655</td>\n",
       "      <td>0.314286</td>\n",
       "      <td>0.308271</td>\n",
       "      <td>00:04</td>\n",
       "    </tr>\n",
       "    <tr>\n",
       "      <td>19</td>\n",
       "      <td>0.127953</td>\n",
       "      <td>0.886416</td>\n",
       "      <td>0.724138</td>\n",
       "      <td>nan</td>\n",
       "      <td>0.343985</td>\n",
       "      <td>00:04</td>\n",
       "    </tr>\n",
       "  </tbody>\n",
       "</table>"
      ],
      "text/plain": [
       "<IPython.core.display.HTML object>"
      ]
     },
     "metadata": {
      "tags": []
     },
     "output_type": "display_data"
    }
   ],
   "source": [
    "learn2.fit_one_cycle(20)"
   ]
  },
  {
   "cell_type": "code",
   "execution_count": null,
   "metadata": {
    "colab": {
     "base_uri": "https://localhost:8080/",
     "height": 279
    },
    "id": "5pbSXejGHWtg",
    "outputId": "b21458c7-22e1-4a33-f98d-da7d91c51212"
   },
   "outputs": [
    {
     "data": {
      "image/png": "[encoded data removed]",
      "text/plain": [
       "<Figure size 432x288 with 1 Axes>"
      ]
     },
     "metadata": {
      "needs_background": "light",
      "tags": []
     },
     "output_type": "display_data"
    }
   ],
   "source": [
    "learn2.recorder.plot_losses()"
   ]
  },
  {
   "cell_type": "code",
   "execution_count": null,
   "metadata": {
    "id": "tH3rS9dUHWtn"
   },
   "outputs": [],
   "source": [
    "# # Let's find the best learning rate\n",
    "# learn2.unfreeze()\n",
    "# learn2.lr_find()\n",
    "# # Plot the learning rate\n",
    "# learn2.recorder.plot()"
   ]
  },
  {
   "cell_type": "code",
   "execution_count": null,
   "metadata": {
    "id": "cEdsR4JZHWtq"
   },
   "outputs": [],
   "source": [
    "# learn.unfreeze()\n",
    "# #learn.fit_one_cycle(4)\n",
    "# learn.fit_one_cycle(2, max_lr=slice(1e-6,1e-4))"
   ]
  },
  {
   "cell_type": "code",
   "execution_count": null,
   "metadata": {
    "id": "4wPbbW-iHWtt"
   },
   "outputs": [],
   "source": [
    "# preds,y = learn2.get_preds()\n",
    "# interp = ClassificationInterpretation.from_learner(learn2)\n",
    "# interp.plot_confusion_matrix()  # wrong predictions for crack reduce at the cost of no crack"
   ]
  },
  {
   "cell_type": "markdown",
   "metadata": {
    "id": "s-Y-Xg-WHWtv"
   },
   "source": [
    "interp"
   ]
  },
  {
   "cell_type": "code",
   "execution_count": null,
   "metadata": {
    "colab": {
     "base_uri": "https://localhost:8080/",
     "height": 17
    },
    "id": "xZPU0DEHHWty",
    "outputId": "99b55cc8-0acf-49a0-92c7-63610a6aa8e3"
   },
   "outputs": [
    {
     "data": {
      "text/html": [],
      "text/plain": [
       "<IPython.core.display.HTML object>"
      ]
     },
     "metadata": {
      "tags": []
     },
     "output_type": "display_data"
    },
    {
     "data": {
      "text/html": [],
      "text/plain": [
       "<IPython.core.display.HTML object>"
      ]
     },
     "metadata": {
      "tags": []
     },
     "output_type": "display_data"
    },
    {
     "data": {
      "text/html": [],
      "text/plain": [
       "<IPython.core.display.HTML object>"
      ]
     },
     "metadata": {
      "tags": []
     },
     "output_type": "display_data"
    },
    {
     "data": {
      "text/html": [],
      "text/plain": [
       "<IPython.core.display.HTML object>"
      ]
     },
     "metadata": {
      "tags": []
     },
     "output_type": "display_data"
    }
   ],
   "source": [
    "# Get the predictions for validation set and store as numpy array\n",
    "preds = learn2.get_preds()[0].argmax(dim=-1).numpy()\n",
    "test_actual = learn2.get_preds()[1].numpy()\n",
    "\n",
    "# Get the predictions for training set and store as numpy array\n",
    "train_pred = learn2.get_preds(ds_type=DatasetType.Train)[0].argmax(dim=-1).numpy()\n",
    "train_actual = learn2.get_preds(ds_type=DatasetType.Train)[1].numpy()\n",
    "\n",
    "# Calculate accuracy_score and append to Dataframe\n",
    "val_acc = accuracy_score(test_actual, preds)\n",
    "train_acc = accuracy_score(train_actual, train_pred)"
   ]
  },
  {
   "cell_type": "code",
   "execution_count": null,
   "metadata": {
    "colab": {
     "base_uri": "https://localhost:8080/",
     "height": 34
    },
    "id": "5mYRFlKSKf-O",
    "outputId": "3876b0cb-239f-47ef-c3c5-368ea2f623e2"
   },
   "outputs": [
    {
     "data": {
      "text/plain": [
       "(0.7241379310344828, 0.5535714285714286)"
      ]
     },
     "execution_count": 66,
     "metadata": {
      "tags": []
     },
     "output_type": "execute_result"
    }
   ],
   "source": [
    "val_acc, train_acc"
   ]
  },
  {
   "cell_type": "code",
   "execution_count": null,
   "metadata": {
    "colab": {
     "base_uri": "https://localhost:8080/",
     "height": 84
    },
    "id": "Yw140y_6HWuT",
    "outputId": "87e54b5f-dfe8-4667-b4b7-1817e2ccae8f"
   },
   "outputs": [
    {
     "data": {
      "text/plain": [
       "array([[18,  1,  0,  0],\n",
       "       [ 0,  0,  1,  0],\n",
       "       [ 3,  1,  3,  0],\n",
       "       [ 0,  0,  2,  0]])"
      ]
     },
     "execution_count": 67,
     "metadata": {
      "tags": []
     },
     "output_type": "execute_result"
    }
   ],
   "source": [
    "confusion_matrix(test_actual, preds)"
   ]
  },
  {
   "cell_type": "code",
   "execution_count": null,
   "metadata": {
    "colab": {
     "base_uri": "https://localhost:8080/",
     "height": 84
    },
    "id": "h-opNqbGHWuW",
    "outputId": "71b0b511-15bc-4ce6-af03-3d5d1fb6fab4"
   },
   "outputs": [
    {
     "data": {
      "text/plain": [
       "array([[52,  1, 16,  4],\n",
       "       [ 2,  1,  1,  1],\n",
       "       [13,  3,  7,  2],\n",
       "       [ 5,  1,  1,  2]])"
      ]
     },
     "execution_count": 68,
     "metadata": {
      "tags": []
     },
     "output_type": "execute_result"
    }
   ],
   "source": [
    "confusion_matrix(train_actual, train_pred)"
   ]
  },
  {
   "cell_type": "markdown",
   "metadata": {
    "id": "hphQUdpcBzzR"
   },
   "source": [
    "##Resnet34"
   ]
  },
  {
   "cell_type": "code",
   "execution_count": null,
   "metadata": {
    "colab": {
     "base_uri": "https://localhost:8080/",
     "height": 83,
     "referenced_widgets": [
      "4b1c13e5e13a41cbac6b398b88477cbf",
      "6b5f876ba47341e88daab27f19225529",
      "a14d40da4f4b44c38f495ee123dadb7b",
      "2832693b305847f69a5991d8294f9c6b",
      "8f034c9333b8490aa12443939cb2fccc",
      "a47a4fd3e57240ac9dea1f86ef0ce612",
      "b1d2380a239445f5afc4042450d7fb81",
      "8a8dabd4130e4d318586b02c467ed979"
     ]
    },
    "id": "e7sCPhx9qjgs",
    "outputId": "0b53ca32-6ebf-430e-ab93-2d4cbab1fe02"
   },
   "outputs": [
    {
     "name": "stderr",
     "output_type": "stream",
     "text": [
      "Downloading: \"https://download.pytorch.org/models/resnet34-333f7ec4.pth\" to /root/.cache/torch/hub/checkpoints/resnet34-333f7ec4.pth\n"
     ]
    },
    {
     "data": {
      "application/vnd.jupyter.widget-view+json": {
       "model_id": "4b1c13e5e13a41cbac6b398b88477cbf",
       "version_major": 2,
       "version_minor": 0
      },
      "text/plain": [
       "HBox(children=(FloatProgress(value=0.0, max=87306240.0), HTML(value='')))"
      ]
     },
     "metadata": {
      "tags": []
     },
     "output_type": "display_data"
    },
    {
     "name": "stdout",
     "output_type": "stream",
     "text": [
      "\n"
     ]
    }
   ],
   "source": [
    "arch = models.resnet34\n",
    "learn2 = cnn_learner(data, arch, pretrained=True, metrics=metrics)\n",
    "learn2.loss_func = torch.nn.functional.cross_entropy"
   ]
  },
  {
   "cell_type": "code",
   "execution_count": null,
   "metadata": {
    "colab": {
     "base_uri": "https://localhost:8080/",
     "height": 703
    },
    "id": "IYMyoL2pBtXy",
    "outputId": "9ba6c463-e552-49b6-c8a7-0317f6814903"
   },
   "outputs": [
    {
     "data": {
      "text/html": [
       "<table border=\"1\" class=\"dataframe\">\n",
       "  <thead>\n",
       "    <tr style=\"text-align: left;\">\n",
       "      <th>epoch</th>\n",
       "      <th>train_loss</th>\n",
       "      <th>valid_loss</th>\n",
       "      <th>accuracy</th>\n",
       "      <th>precision</th>\n",
       "      <th>recall</th>\n",
       "      <th>time</th>\n",
       "    </tr>\n",
       "  </thead>\n",
       "  <tbody>\n",
       "    <tr>\n",
       "      <td>0</td>\n",
       "      <td>1.202160</td>\n",
       "      <td>0.306316</td>\n",
       "      <td>0.893519</td>\n",
       "      <td>0.902874</td>\n",
       "      <td>0.893067</td>\n",
       "      <td>07:28</td>\n",
       "    </tr>\n",
       "    <tr>\n",
       "      <td>1</td>\n",
       "      <td>0.762794</td>\n",
       "      <td>0.229848</td>\n",
       "      <td>0.912037</td>\n",
       "      <td>0.915657</td>\n",
       "      <td>0.913641</td>\n",
       "      <td>00:47</td>\n",
       "    </tr>\n",
       "    <tr>\n",
       "      <td>2</td>\n",
       "      <td>0.814608</td>\n",
       "      <td>0.121294</td>\n",
       "      <td>0.962963</td>\n",
       "      <td>0.962257</td>\n",
       "      <td>0.961252</td>\n",
       "      <td>00:47</td>\n",
       "    </tr>\n",
       "    <tr>\n",
       "      <td>3</td>\n",
       "      <td>0.827057</td>\n",
       "      <td>0.135595</td>\n",
       "      <td>0.958333</td>\n",
       "      <td>0.961880</td>\n",
       "      <td>0.958375</td>\n",
       "      <td>00:47</td>\n",
       "    </tr>\n",
       "    <tr>\n",
       "      <td>4</td>\n",
       "      <td>0.661112</td>\n",
       "      <td>0.082676</td>\n",
       "      <td>0.972222</td>\n",
       "      <td>0.972809</td>\n",
       "      <td>0.969910</td>\n",
       "      <td>00:47</td>\n",
       "    </tr>\n",
       "    <tr>\n",
       "      <td>5</td>\n",
       "      <td>0.721542</td>\n",
       "      <td>0.079505</td>\n",
       "      <td>0.976852</td>\n",
       "      <td>0.976372</td>\n",
       "      <td>0.978071</td>\n",
       "      <td>00:48</td>\n",
       "    </tr>\n",
       "    <tr>\n",
       "      <td>6</td>\n",
       "      <td>0.511246</td>\n",
       "      <td>0.121870</td>\n",
       "      <td>0.960648</td>\n",
       "      <td>0.960228</td>\n",
       "      <td>0.962272</td>\n",
       "      <td>00:48</td>\n",
       "    </tr>\n",
       "    <tr>\n",
       "      <td>7</td>\n",
       "      <td>0.551235</td>\n",
       "      <td>0.080435</td>\n",
       "      <td>0.979167</td>\n",
       "      <td>0.979901</td>\n",
       "      <td>0.978242</td>\n",
       "      <td>00:47</td>\n",
       "    </tr>\n",
       "    <tr>\n",
       "      <td>8</td>\n",
       "      <td>0.554330</td>\n",
       "      <td>0.067338</td>\n",
       "      <td>0.974537</td>\n",
       "      <td>0.974227</td>\n",
       "      <td>0.974433</td>\n",
       "      <td>00:47</td>\n",
       "    </tr>\n",
       "    <tr>\n",
       "      <td>9</td>\n",
       "      <td>0.521242</td>\n",
       "      <td>0.053074</td>\n",
       "      <td>0.979167</td>\n",
       "      <td>0.978933</td>\n",
       "      <td>0.978966</td>\n",
       "      <td>00:47</td>\n",
       "    </tr>\n",
       "    <tr>\n",
       "      <td>10</td>\n",
       "      <td>0.450217</td>\n",
       "      <td>0.040923</td>\n",
       "      <td>0.986111</td>\n",
       "      <td>0.985456</td>\n",
       "      <td>0.985215</td>\n",
       "      <td>00:48</td>\n",
       "    </tr>\n",
       "    <tr>\n",
       "      <td>11</td>\n",
       "      <td>0.296660</td>\n",
       "      <td>0.044279</td>\n",
       "      <td>0.986111</td>\n",
       "      <td>0.985222</td>\n",
       "      <td>0.985783</td>\n",
       "      <td>00:47</td>\n",
       "    </tr>\n",
       "    <tr>\n",
       "      <td>12</td>\n",
       "      <td>0.382129</td>\n",
       "      <td>0.040875</td>\n",
       "      <td>0.983796</td>\n",
       "      <td>0.983328</td>\n",
       "      <td>0.983619</td>\n",
       "      <td>00:47</td>\n",
       "    </tr>\n",
       "    <tr>\n",
       "      <td>13</td>\n",
       "      <td>0.375970</td>\n",
       "      <td>0.036346</td>\n",
       "      <td>0.983796</td>\n",
       "      <td>0.984080</td>\n",
       "      <td>0.983950</td>\n",
       "      <td>00:48</td>\n",
       "    </tr>\n",
       "    <tr>\n",
       "      <td>14</td>\n",
       "      <td>0.284674</td>\n",
       "      <td>0.060617</td>\n",
       "      <td>0.981481</td>\n",
       "      <td>0.982267</td>\n",
       "      <td>0.979920</td>\n",
       "      <td>00:48</td>\n",
       "    </tr>\n",
       "    <tr>\n",
       "      <td>15</td>\n",
       "      <td>0.320548</td>\n",
       "      <td>0.044334</td>\n",
       "      <td>0.986111</td>\n",
       "      <td>0.985401</td>\n",
       "      <td>0.985864</td>\n",
       "      <td>00:48</td>\n",
       "    </tr>\n",
       "    <tr>\n",
       "      <td>16</td>\n",
       "      <td>0.183600</td>\n",
       "      <td>0.037320</td>\n",
       "      <td>0.986111</td>\n",
       "      <td>0.985486</td>\n",
       "      <td>0.985864</td>\n",
       "      <td>00:48</td>\n",
       "    </tr>\n",
       "    <tr>\n",
       "      <td>17</td>\n",
       "      <td>0.242466</td>\n",
       "      <td>0.033072</td>\n",
       "      <td>0.990741</td>\n",
       "      <td>0.990751</td>\n",
       "      <td>0.990200</td>\n",
       "      <td>00:48</td>\n",
       "    </tr>\n",
       "    <tr>\n",
       "      <td>18</td>\n",
       "      <td>0.319404</td>\n",
       "      <td>0.042160</td>\n",
       "      <td>0.986111</td>\n",
       "      <td>0.986377</td>\n",
       "      <td>0.985384</td>\n",
       "      <td>00:48</td>\n",
       "    </tr>\n",
       "    <tr>\n",
       "      <td>19</td>\n",
       "      <td>0.230772</td>\n",
       "      <td>0.027604</td>\n",
       "      <td>0.988426</td>\n",
       "      <td>0.987969</td>\n",
       "      <td>0.987948</td>\n",
       "      <td>00:47</td>\n",
       "    </tr>\n",
       "  </tbody>\n",
       "</table>"
      ],
      "text/plain": [
       "<IPython.core.display.HTML object>"
      ]
     },
     "metadata": {
      "tags": []
     },
     "output_type": "display_data"
    },
    {
     "name": "stderr",
     "output_type": "stream",
     "text": [
      "/usr/local/lib/python3.6/dist-packages/fastai/metrics.py:191: UserWarning: average=`binary` was selected for a non binary case. Value for average has now been set to `macro` instead.\n",
      "  warn(\"average=`binary` was selected for a non binary case. Value for average has now been set to `macro` instead.\")\n"
     ]
    }
   ],
   "source": [
    "learn2.fit_one_cycle(20)"
   ]
  },
  {
   "cell_type": "code",
   "execution_count": null,
   "metadata": {
    "colab": {
     "base_uri": "https://localhost:8080/",
     "height": 279
    },
    "id": "WsJmZOiICw_K",
    "outputId": "1a4eb35d-97d9-4a4a-dfcf-5e30d2ecb850"
   },
   "outputs": [
    {
     "data": {
      "image/png": "[encoded data removed]",
      "text/plain": [
       "<Figure size 432x288 with 1 Axes>"
      ]
     },
     "metadata": {
      "needs_background": "light",
      "tags": []
     },
     "output_type": "display_data"
    }
   ],
   "source": [
    "learn2.recorder.plot_losses()"
   ]
  },
  {
   "cell_type": "code",
   "execution_count": null,
   "metadata": {
    "colab": {
     "base_uri": "https://localhost:8080/",
     "height": 17
    },
    "id": "NlL1QpevKJcF",
    "outputId": "99d1702f-35f9-4019-c235-5fa8ca101b15"
   },
   "outputs": [
    {
     "data": {
      "text/html": [],
      "text/plain": [
       "<IPython.core.display.HTML object>"
      ]
     },
     "metadata": {
      "tags": []
     },
     "output_type": "display_data"
    },
    {
     "data": {
      "text/html": [],
      "text/plain": [
       "<IPython.core.display.HTML object>"
      ]
     },
     "metadata": {
      "tags": []
     },
     "output_type": "display_data"
    }
   ],
   "source": [
    "preds = learn2.get_preds()[0].argmax(dim=-1).numpy()\n",
    "test_actual = learn2.get_preds()[1].numpy()"
   ]
  },
  {
   "cell_type": "code",
   "execution_count": null,
   "metadata": {
    "colab": {
     "base_uri": "https://localhost:8080/",
     "height": 17
    },
    "id": "YeB4Fq_CKUXf",
    "outputId": "6466280d-ce2b-4095-e754-d42702b118d0"
   },
   "outputs": [
    {
     "data": {
      "text/html": [],
      "text/plain": [
       "<IPython.core.display.HTML object>"
      ]
     },
     "metadata": {
      "tags": []
     },
     "output_type": "display_data"
    },
    {
     "data": {
      "text/html": [],
      "text/plain": [
       "<IPython.core.display.HTML object>"
      ]
     },
     "metadata": {
      "tags": []
     },
     "output_type": "display_data"
    }
   ],
   "source": [
    "train_pred = learn2.get_preds(ds_type=DatasetType.Train)[0].argmax(dim=-1).numpy()\n",
    "train_actual = learn2.get_preds(ds_type=DatasetType.Train)[1].numpy()"
   ]
  },
  {
   "cell_type": "code",
   "execution_count": null,
   "metadata": {
    "id": "Uk7MncbdKyEa"
   },
   "outputs": [],
   "source": [
    "val_acc = accuracy_score(test_actual, preds)\n",
    "train_acc = accuracy_score(train_actual, train_pred)"
   ]
  },
  {
   "cell_type": "code",
   "execution_count": null,
   "metadata": {
    "colab": {
     "base_uri": "https://localhost:8080/"
    },
    "id": "6WnYSfN4c5rB",
    "outputId": "eeb53e6d-49a9-4b30-c78c-adca12fbeda8"
   },
   "outputs": [
    {
     "data": {
      "text/plain": [
       "(0.9884259259259259, 0.19146825396825398)"
      ]
     },
     "execution_count": 20,
     "metadata": {
      "tags": []
     },
     "output_type": "execute_result"
    }
   ],
   "source": [
    "val_acc, train_acc"
   ]
  },
  {
   "cell_type": "code",
   "execution_count": null,
   "metadata": {
    "colab": {
     "base_uri": "https://localhost:8080/",
     "height": 626
    },
    "id": "XtW5xvvvLvjz",
    "outputId": "6d613108-6235-4d85-c0bb-10c416f02f6b"
   },
   "outputs": [
    {
     "data": {
      "text/html": [],
      "text/plain": [
       "<IPython.core.display.HTML object>"
      ]
     },
     "metadata": {
      "tags": []
     },
     "output_type": "display_data"
    },
    {
     "data": {
      "image/png": "[encoded data removed]",
      "text/plain": [
       "<Figure size 600x600 with 1 Axes>"
      ]
     },
     "metadata": {
      "needs_background": "light",
      "tags": []
     },
     "output_type": "display_data"
    }
   ],
   "source": [
    "interp = ClassificationInterpretation.from_learner(learn2)\n",
    "interp.plot_confusion_matrix(figsize=(6,6), dpi=100)"
   ]
  },
  {
   "cell_type": "code",
   "execution_count": null,
   "metadata": {
    "id": "l_0u_wogbzMV"
   },
   "outputs": [],
   "source": [
    "learn2.save('NEU-resnet34')"
   ]
  },
  {
   "cell_type": "code",
   "execution_count": null,
   "metadata": {
    "id": "Bdl5hY3fNjdF"
   },
   "outputs": [],
   "source": [
    "learn2.export(image_path/'models/resnet34.pkl')"
   ]
  },
  {
   "cell_type": "code",
   "execution_count": null,
   "metadata": {
    "id": "RBaz6udJvTaA"
   },
   "outputs": [],
   "source": []
  },
  {
   "cell_type": "code",
   "execution_count": null,
   "metadata": {
    "colab": {
     "base_uri": "https://localhost:8080/"
    },
    "id": "dRi5dXD6vTqn",
    "outputId": "44092588-08e6-476f-c923-646088ef54b3"
   },
   "outputs": [
    {
     "data": {
      "text/plain": [
       "Learner(data=ImageDataBunch;\n",
       "\n",
       "Train: LabelList (1009 items)\n",
       "x: ImageList\n",
       "Image (3, 512, 512),Image (3, 512, 512),Image (3, 512, 512),Image (3, 512, 512),Image (3, 512, 512)\n",
       "y: CategoryList\n",
       "Cr,Cr,Cr,Cr,Cr\n",
       "Path: /content/drive/My Drive/IMAGES/train;\n",
       "\n",
       "Valid: LabelList (432 items)\n",
       "x: ImageList\n",
       "Image (3, 512, 512),Image (3, 512, 512),Image (3, 512, 512),Image (3, 512, 512),Image (3, 512, 512)\n",
       "y: CategoryList\n",
       "Pa,Sc,PS,Pa,Sc\n",
       "Path: /content/drive/My Drive/IMAGES/train;\n",
       "\n",
       "Test: None, model=Sequential(\n",
       "  (0): Sequential(\n",
       "    (0): Conv2d(3, 64, kernel_size=(7, 7), stride=(2, 2), padding=(3, 3), bias=False)\n",
       "    (1): BatchNorm2d(64, eps=1e-05, momentum=0.1, affine=True, track_running_stats=True)\n",
       "    (2): ReLU(inplace=True)\n",
       "    (3): MaxPool2d(kernel_size=3, stride=2, padding=1, dilation=1, ceil_mode=False)\n",
       "    (4): Sequential(\n",
       "      (0): BasicBlock(\n",
       "        (conv1): Conv2d(64, 64, kernel_size=(3, 3), stride=(1, 1), padding=(1, 1), bias=False)\n",
       "        (bn1): BatchNorm2d(64, eps=1e-05, momentum=0.1, affine=True, track_running_stats=True)\n",
       "        (relu): ReLU(inplace=True)\n",
       "        (conv2): Conv2d(64, 64, kernel_size=(3, 3), stride=(1, 1), padding=(1, 1), bias=False)\n",
       "        (bn2): BatchNorm2d(64, eps=1e-05, momentum=0.1, affine=True, track_running_stats=True)\n",
       "      )\n",
       "      (1): BasicBlock(\n",
       "        (conv1): Conv2d(64, 64, kernel_size=(3, 3), stride=(1, 1), padding=(1, 1), bias=False)\n",
       "        (bn1): BatchNorm2d(64, eps=1e-05, momentum=0.1, affine=True, track_running_stats=True)\n",
       "        (relu): ReLU(inplace=True)\n",
       "        (conv2): Conv2d(64, 64, kernel_size=(3, 3), stride=(1, 1), padding=(1, 1), bias=False)\n",
       "        (bn2): BatchNorm2d(64, eps=1e-05, momentum=0.1, affine=True, track_running_stats=True)\n",
       "      )\n",
       "      (2): BasicBlock(\n",
       "        (conv1): Conv2d(64, 64, kernel_size=(3, 3), stride=(1, 1), padding=(1, 1), bias=False)\n",
       "        (bn1): BatchNorm2d(64, eps=1e-05, momentum=0.1, affine=True, track_running_stats=True)\n",
       "        (relu): ReLU(inplace=True)\n",
       "        (conv2): Conv2d(64, 64, kernel_size=(3, 3), stride=(1, 1), padding=(1, 1), bias=False)\n",
       "        (bn2): BatchNorm2d(64, eps=1e-05, momentum=0.1, affine=True, track_running_stats=True)\n",
       "      )\n",
       "    )\n",
       "    (5): Sequential(\n",
       "      (0): BasicBlock(\n",
       "        (conv1): Conv2d(64, 128, kernel_size=(3, 3), stride=(2, 2), padding=(1, 1), bias=False)\n",
       "        (bn1): BatchNorm2d(128, eps=1e-05, momentum=0.1, affine=True, track_running_stats=True)\n",
       "        (relu): ReLU(inplace=True)\n",
       "        (conv2): Conv2d(128, 128, kernel_size=(3, 3), stride=(1, 1), padding=(1, 1), bias=False)\n",
       "        (bn2): BatchNorm2d(128, eps=1e-05, momentum=0.1, affine=True, track_running_stats=True)\n",
       "        (downsample): Sequential(\n",
       "          (0): Conv2d(64, 128, kernel_size=(1, 1), stride=(2, 2), bias=False)\n",
       "          (1): BatchNorm2d(128, eps=1e-05, momentum=0.1, affine=True, track_running_stats=True)\n",
       "        )\n",
       "      )\n",
       "      (1): BasicBlock(\n",
       "        (conv1): Conv2d(128, 128, kernel_size=(3, 3), stride=(1, 1), padding=(1, 1), bias=False)\n",
       "        (bn1): BatchNorm2d(128, eps=1e-05, momentum=0.1, affine=True, track_running_stats=True)\n",
       "        (relu): ReLU(inplace=True)\n",
       "        (conv2): Conv2d(128, 128, kernel_size=(3, 3), stride=(1, 1), padding=(1, 1), bias=False)\n",
       "        (bn2): BatchNorm2d(128, eps=1e-05, momentum=0.1, affine=True, track_running_stats=True)\n",
       "      )\n",
       "      (2): BasicBlock(\n",
       "        (conv1): Conv2d(128, 128, kernel_size=(3, 3), stride=(1, 1), padding=(1, 1), bias=False)\n",
       "        (bn1): BatchNorm2d(128, eps=1e-05, momentum=0.1, affine=True, track_running_stats=True)\n",
       "        (relu): ReLU(inplace=True)\n",
       "        (conv2): Conv2d(128, 128, kernel_size=(3, 3), stride=(1, 1), padding=(1, 1), bias=False)\n",
       "        (bn2): BatchNorm2d(128, eps=1e-05, momentum=0.1, affine=True, track_running_stats=True)\n",
       "      )\n",
       "      (3): BasicBlock(\n",
       "        (conv1): Conv2d(128, 128, kernel_size=(3, 3), stride=(1, 1), padding=(1, 1), bias=False)\n",
       "        (bn1): BatchNorm2d(128, eps=1e-05, momentum=0.1, affine=True, track_running_stats=True)\n",
       "        (relu): ReLU(inplace=True)\n",
       "        (conv2): Conv2d(128, 128, kernel_size=(3, 3), stride=(1, 1), padding=(1, 1), bias=False)\n",
       "        (bn2): BatchNorm2d(128, eps=1e-05, momentum=0.1, affine=True, track_running_stats=True)\n",
       "      )\n",
       "    )\n",
       "    (6): Sequential(\n",
       "      (0): BasicBlock(\n",
       "        (conv1): Conv2d(128, 256, kernel_size=(3, 3), stride=(2, 2), padding=(1, 1), bias=False)\n",
       "        (bn1): BatchNorm2d(256, eps=1e-05, momentum=0.1, affine=True, track_running_stats=True)\n",
       "        (relu): ReLU(inplace=True)\n",
       "        (conv2): Conv2d(256, 256, kernel_size=(3, 3), stride=(1, 1), padding=(1, 1), bias=False)\n",
       "        (bn2): BatchNorm2d(256, eps=1e-05, momentum=0.1, affine=True, track_running_stats=True)\n",
       "        (downsample): Sequential(\n",
       "          (0): Conv2d(128, 256, kernel_size=(1, 1), stride=(2, 2), bias=False)\n",
       "          (1): BatchNorm2d(256, eps=1e-05, momentum=0.1, affine=True, track_running_stats=True)\n",
       "        )\n",
       "      )\n",
       "      (1): BasicBlock(\n",
       "        (conv1): Conv2d(256, 256, kernel_size=(3, 3), stride=(1, 1), padding=(1, 1), bias=False)\n",
       "        (bn1): BatchNorm2d(256, eps=1e-05, momentum=0.1, affine=True, track_running_stats=True)\n",
       "        (relu): ReLU(inplace=True)\n",
       "        (conv2): Conv2d(256, 256, kernel_size=(3, 3), stride=(1, 1), padding=(1, 1), bias=False)\n",
       "        (bn2): BatchNorm2d(256, eps=1e-05, momentum=0.1, affine=True, track_running_stats=True)\n",
       "      )\n",
       "      (2): BasicBlock(\n",
       "        (conv1): Conv2d(256, 256, kernel_size=(3, 3), stride=(1, 1), padding=(1, 1), bias=False)\n",
       "        (bn1): BatchNorm2d(256, eps=1e-05, momentum=0.1, affine=True, track_running_stats=True)\n",
       "        (relu): ReLU(inplace=True)\n",
       "        (conv2): Conv2d(256, 256, kernel_size=(3, 3), stride=(1, 1), padding=(1, 1), bias=False)\n",
       "        (bn2): BatchNorm2d(256, eps=1e-05, momentum=0.1, affine=True, track_running_stats=True)\n",
       "      )\n",
       "      (3): BasicBlock(\n",
       "        (conv1): Conv2d(256, 256, kernel_size=(3, 3), stride=(1, 1), padding=(1, 1), bias=False)\n",
       "        (bn1): BatchNorm2d(256, eps=1e-05, momentum=0.1, affine=True, track_running_stats=True)\n",
       "        (relu): ReLU(inplace=True)\n",
       "        (conv2): Conv2d(256, 256, kernel_size=(3, 3), stride=(1, 1), padding=(1, 1), bias=False)\n",
       "        (bn2): BatchNorm2d(256, eps=1e-05, momentum=0.1, affine=True, track_running_stats=True)\n",
       "      )\n",
       "      (4): BasicBlock(\n",
       "        (conv1): Conv2d(256, 256, kernel_size=(3, 3), stride=(1, 1), padding=(1, 1), bias=False)\n",
       "        (bn1): BatchNorm2d(256, eps=1e-05, momentum=0.1, affine=True, track_running_stats=True)\n",
       "        (relu): ReLU(inplace=True)\n",
       "        (conv2): Conv2d(256, 256, kernel_size=(3, 3), stride=(1, 1), padding=(1, 1), bias=False)\n",
       "        (bn2): BatchNorm2d(256, eps=1e-05, momentum=0.1, affine=True, track_running_stats=True)\n",
       "      )\n",
       "      (5): BasicBlock(\n",
       "        (conv1): Conv2d(256, 256, kernel_size=(3, 3), stride=(1, 1), padding=(1, 1), bias=False)\n",
       "        (bn1): BatchNorm2d(256, eps=1e-05, momentum=0.1, affine=True, track_running_stats=True)\n",
       "        (relu): ReLU(inplace=True)\n",
       "        (conv2): Conv2d(256, 256, kernel_size=(3, 3), stride=(1, 1), padding=(1, 1), bias=False)\n",
       "        (bn2): BatchNorm2d(256, eps=1e-05, momentum=0.1, affine=True, track_running_stats=True)\n",
       "      )\n",
       "    )\n",
       "    (7): Sequential(\n",
       "      (0): BasicBlock(\n",
       "        (conv1): Conv2d(256, 512, kernel_size=(3, 3), stride=(2, 2), padding=(1, 1), bias=False)\n",
       "        (bn1): BatchNorm2d(512, eps=1e-05, momentum=0.1, affine=True, track_running_stats=True)\n",
       "        (relu): ReLU(inplace=True)\n",
       "        (conv2): Conv2d(512, 512, kernel_size=(3, 3), stride=(1, 1), padding=(1, 1), bias=False)\n",
       "        (bn2): BatchNorm2d(512, eps=1e-05, momentum=0.1, affine=True, track_running_stats=True)\n",
       "        (downsample): Sequential(\n",
       "          (0): Conv2d(256, 512, kernel_size=(1, 1), stride=(2, 2), bias=False)\n",
       "          (1): BatchNorm2d(512, eps=1e-05, momentum=0.1, affine=True, track_running_stats=True)\n",
       "        )\n",
       "      )\n",
       "      (1): BasicBlock(\n",
       "        (conv1): Conv2d(512, 512, kernel_size=(3, 3), stride=(1, 1), padding=(1, 1), bias=False)\n",
       "        (bn1): BatchNorm2d(512, eps=1e-05, momentum=0.1, affine=True, track_running_stats=True)\n",
       "        (relu): ReLU(inplace=True)\n",
       "        (conv2): Conv2d(512, 512, kernel_size=(3, 3), stride=(1, 1), padding=(1, 1), bias=False)\n",
       "        (bn2): BatchNorm2d(512, eps=1e-05, momentum=0.1, affine=True, track_running_stats=True)\n",
       "      )\n",
       "      (2): BasicBlock(\n",
       "        (conv1): Conv2d(512, 512, kernel_size=(3, 3), stride=(1, 1), padding=(1, 1), bias=False)\n",
       "        (bn1): BatchNorm2d(512, eps=1e-05, momentum=0.1, affine=True, track_running_stats=True)\n",
       "        (relu): ReLU(inplace=True)\n",
       "        (conv2): Conv2d(512, 512, kernel_size=(3, 3), stride=(1, 1), padding=(1, 1), bias=False)\n",
       "        (bn2): BatchNorm2d(512, eps=1e-05, momentum=0.1, affine=True, track_running_stats=True)\n",
       "      )\n",
       "    )\n",
       "  )\n",
       "  (1): Sequential(\n",
       "    (0): AdaptiveConcatPool2d(\n",
       "      (ap): AdaptiveAvgPool2d(output_size=1)\n",
       "      (mp): AdaptiveMaxPool2d(output_size=1)\n",
       "    )\n",
       "    (1): Flatten()\n",
       "    (2): BatchNorm1d(1024, eps=1e-05, momentum=0.1, affine=True, track_running_stats=True)\n",
       "    (3): Dropout(p=0.25, inplace=False)\n",
       "    (4): Linear(in_features=1024, out_features=512, bias=True)\n",
       "    (5): ReLU(inplace=True)\n",
       "    (6): BatchNorm1d(512, eps=1e-05, momentum=0.1, affine=True, track_running_stats=True)\n",
       "    (7): Dropout(p=0.5, inplace=False)\n",
       "    (8): Linear(in_features=512, out_features=6, bias=True)\n",
       "  )\n",
       "), opt_func=functools.partial(<class 'torch.optim.adam.Adam'>, betas=(0.9, 0.99)), loss_func=<function cross_entropy at 0x7faf0d0590d0>, metrics=[<function accuracy at 0x7faf04cd0950>, Precision(average='macro', pos_label=1, eps=1e-09), Recall(average='macro', pos_label=1, eps=1e-09)], true_wd=True, bn_wd=True, wd=0.01, train_bn=True, path=PosixPath('/content/drive/My Drive/IMAGES/train'), model_dir='models', callback_fns=[functools.partial(<class 'fastai.basic_train.Recorder'>, add_time=True, silent=False)], callbacks=[], layer_groups=[Sequential(\n",
       "  (0): Conv2d(3, 64, kernel_size=(7, 7), stride=(2, 2), padding=(3, 3), bias=False)\n",
       "  (1): BatchNorm2d(64, eps=1e-05, momentum=0.1, affine=True, track_running_stats=True)\n",
       "  (2): ReLU(inplace=True)\n",
       "  (3): MaxPool2d(kernel_size=3, stride=2, padding=1, dilation=1, ceil_mode=False)\n",
       "  (4): Conv2d(64, 64, kernel_size=(3, 3), stride=(1, 1), padding=(1, 1), bias=False)\n",
       "  (5): BatchNorm2d(64, eps=1e-05, momentum=0.1, affine=True, track_running_stats=True)\n",
       "  (6): ReLU(inplace=True)\n",
       "  (7): Conv2d(64, 64, kernel_size=(3, 3), stride=(1, 1), padding=(1, 1), bias=False)\n",
       "  (8): BatchNorm2d(64, eps=1e-05, momentum=0.1, affine=True, track_running_stats=True)\n",
       "  (9): Conv2d(64, 64, kernel_size=(3, 3), stride=(1, 1), padding=(1, 1), bias=False)\n",
       "  (10): BatchNorm2d(64, eps=1e-05, momentum=0.1, affine=True, track_running_stats=True)\n",
       "  (11): ReLU(inplace=True)\n",
       "  (12): Conv2d(64, 64, kernel_size=(3, 3), stride=(1, 1), padding=(1, 1), bias=False)\n",
       "  (13): BatchNorm2d(64, eps=1e-05, momentum=0.1, affine=True, track_running_stats=True)\n",
       "  (14): Conv2d(64, 64, kernel_size=(3, 3), stride=(1, 1), padding=(1, 1), bias=False)\n",
       "  (15): BatchNorm2d(64, eps=1e-05, momentum=0.1, affine=True, track_running_stats=True)\n",
       "  (16): ReLU(inplace=True)\n",
       "  (17): Conv2d(64, 64, kernel_size=(3, 3), stride=(1, 1), padding=(1, 1), bias=False)\n",
       "  (18): BatchNorm2d(64, eps=1e-05, momentum=0.1, affine=True, track_running_stats=True)\n",
       "  (19): Conv2d(64, 128, kernel_size=(3, 3), stride=(2, 2), padding=(1, 1), bias=False)\n",
       "  (20): BatchNorm2d(128, eps=1e-05, momentum=0.1, affine=True, track_running_stats=True)\n",
       "  (21): ReLU(inplace=True)\n",
       "  (22): Conv2d(128, 128, kernel_size=(3, 3), stride=(1, 1), padding=(1, 1), bias=False)\n",
       "  (23): BatchNorm2d(128, eps=1e-05, momentum=0.1, affine=True, track_running_stats=True)\n",
       "  (24): Conv2d(64, 128, kernel_size=(1, 1), stride=(2, 2), bias=False)\n",
       "  (25): BatchNorm2d(128, eps=1e-05, momentum=0.1, affine=True, track_running_stats=True)\n",
       "  (26): Conv2d(128, 128, kernel_size=(3, 3), stride=(1, 1), padding=(1, 1), bias=False)\n",
       "  (27): BatchNorm2d(128, eps=1e-05, momentum=0.1, affine=True, track_running_stats=True)\n",
       "  (28): ReLU(inplace=True)\n",
       "  (29): Conv2d(128, 128, kernel_size=(3, 3), stride=(1, 1), padding=(1, 1), bias=False)\n",
       "  (30): BatchNorm2d(128, eps=1e-05, momentum=0.1, affine=True, track_running_stats=True)\n",
       "  (31): Conv2d(128, 128, kernel_size=(3, 3), stride=(1, 1), padding=(1, 1), bias=False)\n",
       "  (32): BatchNorm2d(128, eps=1e-05, momentum=0.1, affine=True, track_running_stats=True)\n",
       "  (33): ReLU(inplace=True)\n",
       "  (34): Conv2d(128, 128, kernel_size=(3, 3), stride=(1, 1), padding=(1, 1), bias=False)\n",
       "  (35): BatchNorm2d(128, eps=1e-05, momentum=0.1, affine=True, track_running_stats=True)\n",
       "  (36): Conv2d(128, 128, kernel_size=(3, 3), stride=(1, 1), padding=(1, 1), bias=False)\n",
       "  (37): BatchNorm2d(128, eps=1e-05, momentum=0.1, affine=True, track_running_stats=True)\n",
       "  (38): ReLU(inplace=True)\n",
       "  (39): Conv2d(128, 128, kernel_size=(3, 3), stride=(1, 1), padding=(1, 1), bias=False)\n",
       "  (40): BatchNorm2d(128, eps=1e-05, momentum=0.1, affine=True, track_running_stats=True)\n",
       "), Sequential(\n",
       "  (0): Conv2d(128, 256, kernel_size=(3, 3), stride=(2, 2), padding=(1, 1), bias=False)\n",
       "  (1): BatchNorm2d(256, eps=1e-05, momentum=0.1, affine=True, track_running_stats=True)\n",
       "  (2): ReLU(inplace=True)\n",
       "  (3): Conv2d(256, 256, kernel_size=(3, 3), stride=(1, 1), padding=(1, 1), bias=False)\n",
       "  (4): BatchNorm2d(256, eps=1e-05, momentum=0.1, affine=True, track_running_stats=True)\n",
       "  (5): Conv2d(128, 256, kernel_size=(1, 1), stride=(2, 2), bias=False)\n",
       "  (6): BatchNorm2d(256, eps=1e-05, momentum=0.1, affine=True, track_running_stats=True)\n",
       "  (7): Conv2d(256, 256, kernel_size=(3, 3), stride=(1, 1), padding=(1, 1), bias=False)\n",
       "  (8): BatchNorm2d(256, eps=1e-05, momentum=0.1, affine=True, track_running_stats=True)\n",
       "  (9): ReLU(inplace=True)\n",
       "  (10): Conv2d(256, 256, kernel_size=(3, 3), stride=(1, 1), padding=(1, 1), bias=False)\n",
       "  (11): BatchNorm2d(256, eps=1e-05, momentum=0.1, affine=True, track_running_stats=True)\n",
       "  (12): Conv2d(256, 256, kernel_size=(3, 3), stride=(1, 1), padding=(1, 1), bias=False)\n",
       "  (13): BatchNorm2d(256, eps=1e-05, momentum=0.1, affine=True, track_running_stats=True)\n",
       "  (14): ReLU(inplace=True)\n",
       "  (15): Conv2d(256, 256, kernel_size=(3, 3), stride=(1, 1), padding=(1, 1), bias=False)\n",
       "  (16): BatchNorm2d(256, eps=1e-05, momentum=0.1, affine=True, track_running_stats=True)\n",
       "  (17): Conv2d(256, 256, kernel_size=(3, 3), stride=(1, 1), padding=(1, 1), bias=False)\n",
       "  (18): BatchNorm2d(256, eps=1e-05, momentum=0.1, affine=True, track_running_stats=True)\n",
       "  (19): ReLU(inplace=True)\n",
       "  (20): Conv2d(256, 256, kernel_size=(3, 3), stride=(1, 1), padding=(1, 1), bias=False)\n",
       "  (21): BatchNorm2d(256, eps=1e-05, momentum=0.1, affine=True, track_running_stats=True)\n",
       "  (22): Conv2d(256, 256, kernel_size=(3, 3), stride=(1, 1), padding=(1, 1), bias=False)\n",
       "  (23): BatchNorm2d(256, eps=1e-05, momentum=0.1, affine=True, track_running_stats=True)\n",
       "  (24): ReLU(inplace=True)\n",
       "  (25): Conv2d(256, 256, kernel_size=(3, 3), stride=(1, 1), padding=(1, 1), bias=False)\n",
       "  (26): BatchNorm2d(256, eps=1e-05, momentum=0.1, affine=True, track_running_stats=True)\n",
       "  (27): Conv2d(256, 256, kernel_size=(3, 3), stride=(1, 1), padding=(1, 1), bias=False)\n",
       "  (28): BatchNorm2d(256, eps=1e-05, momentum=0.1, affine=True, track_running_stats=True)\n",
       "  (29): ReLU(inplace=True)\n",
       "  (30): Conv2d(256, 256, kernel_size=(3, 3), stride=(1, 1), padding=(1, 1), bias=False)\n",
       "  (31): BatchNorm2d(256, eps=1e-05, momentum=0.1, affine=True, track_running_stats=True)\n",
       "  (32): Conv2d(256, 512, kernel_size=(3, 3), stride=(2, 2), padding=(1, 1), bias=False)\n",
       "  (33): BatchNorm2d(512, eps=1e-05, momentum=0.1, affine=True, track_running_stats=True)\n",
       "  (34): ReLU(inplace=True)\n",
       "  (35): Conv2d(512, 512, kernel_size=(3, 3), stride=(1, 1), padding=(1, 1), bias=False)\n",
       "  (36): BatchNorm2d(512, eps=1e-05, momentum=0.1, affine=True, track_running_stats=True)\n",
       "  (37): Conv2d(256, 512, kernel_size=(1, 1), stride=(2, 2), bias=False)\n",
       "  (38): BatchNorm2d(512, eps=1e-05, momentum=0.1, affine=True, track_running_stats=True)\n",
       "  (39): Conv2d(512, 512, kernel_size=(3, 3), stride=(1, 1), padding=(1, 1), bias=False)\n",
       "  (40): BatchNorm2d(512, eps=1e-05, momentum=0.1, affine=True, track_running_stats=True)\n",
       "  (41): ReLU(inplace=True)\n",
       "  (42): Conv2d(512, 512, kernel_size=(3, 3), stride=(1, 1), padding=(1, 1), bias=False)\n",
       "  (43): BatchNorm2d(512, eps=1e-05, momentum=0.1, affine=True, track_running_stats=True)\n",
       "  (44): Conv2d(512, 512, kernel_size=(3, 3), stride=(1, 1), padding=(1, 1), bias=False)\n",
       "  (45): BatchNorm2d(512, eps=1e-05, momentum=0.1, affine=True, track_running_stats=True)\n",
       "  (46): ReLU(inplace=True)\n",
       "  (47): Conv2d(512, 512, kernel_size=(3, 3), stride=(1, 1), padding=(1, 1), bias=False)\n",
       "  (48): BatchNorm2d(512, eps=1e-05, momentum=0.1, affine=True, track_running_stats=True)\n",
       "), Sequential(\n",
       "  (0): AdaptiveAvgPool2d(output_size=1)\n",
       "  (1): AdaptiveMaxPool2d(output_size=1)\n",
       "  (2): Flatten()\n",
       "  (3): BatchNorm1d(1024, eps=1e-05, momentum=0.1, affine=True, track_running_stats=True)\n",
       "  (4): Dropout(p=0.25, inplace=False)\n",
       "  (5): Linear(in_features=1024, out_features=512, bias=True)\n",
       "  (6): ReLU(inplace=True)\n",
       "  (7): BatchNorm1d(512, eps=1e-05, momentum=0.1, affine=True, track_running_stats=True)\n",
       "  (8): Dropout(p=0.5, inplace=False)\n",
       "  (9): Linear(in_features=512, out_features=6, bias=True)\n",
       ")], add_time=True, silent=False)"
      ]
     },
     "execution_count": 45,
     "metadata": {
      "tags": []
     },
     "output_type": "execute_result"
    }
   ],
   "source": [
    "learn2.load(image_path/'models/NEU-resnet34')"
   ]
  },
  {
   "cell_type": "code",
   "execution_count": null,
   "metadata": {
    "id": "prYNchRwvws5"
   },
   "outputs": [],
   "source": [
    "test_directory = r'/content/drive/My Drive/IMAGES/test'\n",
    "images = []\n",
    "\n",
    "for r, d, f in os.walk(test_directory):\n",
    "    for file in f:\n",
    "        #if file.endswith(\".docx\"):\n",
    "        images.append(os.path.join(r, file))"
   ]
  },
  {
   "cell_type": "code",
   "execution_count": null,
   "metadata": {
    "colab": {
     "base_uri": "https://localhost:8080/"
    },
    "id": "lQXnjR3kvxH4",
    "outputId": "43fd6d99-312a-4605-98d9-6b0ff144c8f6"
   },
   "outputs": [
    {
     "data": {
      "text/plain": [
       "['/content/drive/My Drive/IMAGES/test/RS_13.bmp',\n",
       " '/content/drive/My Drive/IMAGES/test/RS_20.bmp',\n",
       " '/content/drive/My Drive/IMAGES/test/RS_27.bmp',\n",
       " '/content/drive/My Drive/IMAGES/test/RS_30.bmp',\n",
       " '/content/drive/My Drive/IMAGES/test/RS_31.bmp',\n",
       " '/content/drive/My Drive/IMAGES/test/RS_34.bmp',\n",
       " '/content/drive/My Drive/IMAGES/test/RS_43.bmp',\n",
       " '/content/drive/My Drive/IMAGES/test/RS_46.bmp',\n",
       " '/content/drive/My Drive/IMAGES/test/RS_48.bmp',\n",
       " '/content/drive/My Drive/IMAGES/test/RS_51.bmp',\n",
       " '/content/drive/My Drive/IMAGES/test/RS_55.bmp',\n",
       " '/content/drive/My Drive/IMAGES/test/RS_58.bmp',\n",
       " '/content/drive/My Drive/IMAGES/test/RS_59.bmp',\n",
       " '/content/drive/My Drive/IMAGES/test/RS_62.bmp',\n",
       " '/content/drive/My Drive/IMAGES/test/RS_71.bmp',\n",
       " '/content/drive/My Drive/IMAGES/test/RS_77.bmp',\n",
       " '/content/drive/My Drive/IMAGES/test/RS_82.bmp',\n",
       " '/content/drive/My Drive/IMAGES/test/RS_86.bmp',\n",
       " '/content/drive/My Drive/IMAGES/test/RS_93.bmp',\n",
       " '/content/drive/My Drive/IMAGES/test/RS_97.bmp',\n",
       " '/content/drive/My Drive/IMAGES/test/RS_98.bmp',\n",
       " '/content/drive/My Drive/IMAGES/test/RS_109.bmp',\n",
       " '/content/drive/My Drive/IMAGES/test/RS_113.bmp',\n",
       " '/content/drive/My Drive/IMAGES/test/RS_139.bmp',\n",
       " '/content/drive/My Drive/IMAGES/test/RS_142.bmp',\n",
       " '/content/drive/My Drive/IMAGES/test/RS_145.bmp',\n",
       " '/content/drive/My Drive/IMAGES/test/RS_146.bmp',\n",
       " '/content/drive/My Drive/IMAGES/test/RS_147.bmp',\n",
       " '/content/drive/My Drive/IMAGES/test/RS_149.bmp',\n",
       " '/content/drive/My Drive/IMAGES/test/RS_161.bmp',\n",
       " '/content/drive/My Drive/IMAGES/test/RS_163.bmp',\n",
       " '/content/drive/My Drive/IMAGES/test/RS_170.bmp',\n",
       " '/content/drive/My Drive/IMAGES/test/RS_183.bmp',\n",
       " '/content/drive/My Drive/IMAGES/test/RS_188.bmp',\n",
       " '/content/drive/My Drive/IMAGES/test/RS_189.bmp',\n",
       " '/content/drive/My Drive/IMAGES/test/RS_190.bmp',\n",
       " '/content/drive/My Drive/IMAGES/test/RS_194.bmp',\n",
       " '/content/drive/My Drive/IMAGES/test/RS_206.bmp',\n",
       " '/content/drive/My Drive/IMAGES/test/RS_214.bmp',\n",
       " '/content/drive/My Drive/IMAGES/test/RS_223.bmp',\n",
       " '/content/drive/My Drive/IMAGES/test/RS_225.bmp',\n",
       " '/content/drive/My Drive/IMAGES/test/RS_227.bmp',\n",
       " '/content/drive/My Drive/IMAGES/test/RS_245.bmp',\n",
       " '/content/drive/My Drive/IMAGES/test/RS_268.bmp',\n",
       " '/content/drive/My Drive/IMAGES/test/RS_273.bmp',\n",
       " '/content/drive/My Drive/IMAGES/test/RS_274.bmp',\n",
       " '/content/drive/My Drive/IMAGES/test/RS_278.bmp',\n",
       " '/content/drive/My Drive/IMAGES/test/RS_288.bmp',\n",
       " '/content/drive/My Drive/IMAGES/test/RS_295.bmp',\n",
       " '/content/drive/My Drive/IMAGES/test/Pa_1.bmp',\n",
       " '/content/drive/My Drive/IMAGES/test/Pa_3.bmp',\n",
       " '/content/drive/My Drive/IMAGES/test/Pa_11.bmp',\n",
       " '/content/drive/My Drive/IMAGES/test/Pa_12.bmp',\n",
       " '/content/drive/My Drive/IMAGES/test/Pa_14.bmp',\n",
       " '/content/drive/My Drive/IMAGES/test/Pa_21.bmp',\n",
       " '/content/drive/My Drive/IMAGES/test/Pa_22.bmp',\n",
       " '/content/drive/My Drive/IMAGES/test/Pa_41.bmp',\n",
       " '/content/drive/My Drive/IMAGES/test/Pa_50.bmp',\n",
       " '/content/drive/My Drive/IMAGES/test/Pa_51.bmp',\n",
       " '/content/drive/My Drive/IMAGES/test/Pa_53.bmp',\n",
       " '/content/drive/My Drive/IMAGES/test/Pa_58.bmp',\n",
       " '/content/drive/My Drive/IMAGES/test/Pa_63.bmp',\n",
       " '/content/drive/My Drive/IMAGES/test/Pa_70.bmp',\n",
       " '/content/drive/My Drive/IMAGES/test/Pa_72.bmp',\n",
       " '/content/drive/My Drive/IMAGES/test/Pa_74.bmp',\n",
       " '/content/drive/My Drive/IMAGES/test/Pa_75.bmp',\n",
       " '/content/drive/My Drive/IMAGES/test/Pa_76.bmp',\n",
       " '/content/drive/My Drive/IMAGES/test/Pa_81.bmp',\n",
       " '/content/drive/My Drive/IMAGES/test/Pa_84.bmp',\n",
       " '/content/drive/My Drive/IMAGES/test/Pa_85.bmp',\n",
       " '/content/drive/My Drive/IMAGES/test/Pa_93.bmp',\n",
       " '/content/drive/My Drive/IMAGES/test/Pa_112.bmp',\n",
       " '/content/drive/My Drive/IMAGES/test/Pa_115.bmp',\n",
       " '/content/drive/My Drive/IMAGES/test/Pa_118.bmp',\n",
       " '/content/drive/My Drive/IMAGES/test/Pa_123.bmp',\n",
       " '/content/drive/My Drive/IMAGES/test/Pa_127.bmp',\n",
       " '/content/drive/My Drive/IMAGES/test/Pa_130.bmp',\n",
       " '/content/drive/My Drive/IMAGES/test/Pa_142.bmp',\n",
       " '/content/drive/My Drive/IMAGES/test/Pa_143.bmp',\n",
       " '/content/drive/My Drive/IMAGES/test/Pa_156.bmp',\n",
       " '/content/drive/My Drive/IMAGES/test/Pa_161.bmp',\n",
       " '/content/drive/My Drive/IMAGES/test/Pa_163.bmp',\n",
       " '/content/drive/My Drive/IMAGES/test/Pa_177.bmp',\n",
       " '/content/drive/My Drive/IMAGES/test/Pa_179.bmp',\n",
       " '/content/drive/My Drive/IMAGES/test/Pa_185.bmp',\n",
       " '/content/drive/My Drive/IMAGES/test/Pa_189.bmp',\n",
       " '/content/drive/My Drive/IMAGES/test/Pa_191.bmp',\n",
       " '/content/drive/My Drive/IMAGES/test/Pa_201.bmp',\n",
       " '/content/drive/My Drive/IMAGES/test/Pa_203.bmp',\n",
       " '/content/drive/My Drive/IMAGES/test/Pa_214.bmp',\n",
       " '/content/drive/My Drive/IMAGES/test/Pa_217.bmp',\n",
       " '/content/drive/My Drive/IMAGES/test/Pa_222.bmp',\n",
       " '/content/drive/My Drive/IMAGES/test/Pa_225.bmp',\n",
       " '/content/drive/My Drive/IMAGES/test/Pa_227.bmp',\n",
       " '/content/drive/My Drive/IMAGES/test/Pa_230.bmp',\n",
       " '/content/drive/My Drive/IMAGES/test/Pa_237.bmp',\n",
       " '/content/drive/My Drive/IMAGES/test/Pa_239.bmp',\n",
       " '/content/drive/My Drive/IMAGES/test/Pa_243.bmp',\n",
       " '/content/drive/My Drive/IMAGES/test/Pa_244.bmp',\n",
       " '/content/drive/My Drive/IMAGES/test/Pa_245.bmp',\n",
       " '/content/drive/My Drive/IMAGES/test/Pa_246.bmp',\n",
       " '/content/drive/My Drive/IMAGES/test/Pa_253.bmp',\n",
       " '/content/drive/My Drive/IMAGES/test/Pa_256.bmp',\n",
       " '/content/drive/My Drive/IMAGES/test/Pa_261.bmp',\n",
       " '/content/drive/My Drive/IMAGES/test/Pa_264.bmp',\n",
       " '/content/drive/My Drive/IMAGES/test/Pa_265.bmp',\n",
       " '/content/drive/My Drive/IMAGES/test/Pa_268.bmp',\n",
       " '/content/drive/My Drive/IMAGES/test/Pa_269.bmp',\n",
       " '/content/drive/My Drive/IMAGES/test/Pa_270.bmp',\n",
       " '/content/drive/My Drive/IMAGES/test/Pa_281.bmp',\n",
       " '/content/drive/My Drive/IMAGES/test/Pa_282.bmp',\n",
       " '/content/drive/My Drive/IMAGES/test/Pa_288.bmp',\n",
       " '/content/drive/My Drive/IMAGES/test/Pa_290.bmp',\n",
       " '/content/drive/My Drive/IMAGES/test/Cr_7.bmp',\n",
       " '/content/drive/My Drive/IMAGES/test/Cr_9.bmp',\n",
       " '/content/drive/My Drive/IMAGES/test/Cr_11.bmp',\n",
       " '/content/drive/My Drive/IMAGES/test/Cr_13.bmp',\n",
       " '/content/drive/My Drive/IMAGES/test/Cr_15.bmp',\n",
       " '/content/drive/My Drive/IMAGES/test/Cr_19.bmp',\n",
       " '/content/drive/My Drive/IMAGES/test/Cr_21.bmp',\n",
       " '/content/drive/My Drive/IMAGES/test/Cr_22.bmp',\n",
       " '/content/drive/My Drive/IMAGES/test/Cr_25.bmp',\n",
       " '/content/drive/My Drive/IMAGES/test/Cr_31.bmp',\n",
       " '/content/drive/My Drive/IMAGES/test/Cr_40.bmp',\n",
       " '/content/drive/My Drive/IMAGES/test/Cr_41.bmp',\n",
       " '/content/drive/My Drive/IMAGES/test/Cr_44.bmp',\n",
       " '/content/drive/My Drive/IMAGES/test/Cr_49.bmp',\n",
       " '/content/drive/My Drive/IMAGES/test/Cr_50.bmp',\n",
       " '/content/drive/My Drive/IMAGES/test/Cr_67.bmp',\n",
       " '/content/drive/My Drive/IMAGES/test/Cr_77.bmp',\n",
       " '/content/drive/My Drive/IMAGES/test/Cr_84.bmp',\n",
       " '/content/drive/My Drive/IMAGES/test/Cr_89.bmp',\n",
       " '/content/drive/My Drive/IMAGES/test/Cr_90.bmp',\n",
       " '/content/drive/My Drive/IMAGES/test/Cr_95.bmp',\n",
       " '/content/drive/My Drive/IMAGES/test/Cr_102.bmp',\n",
       " '/content/drive/My Drive/IMAGES/test/Cr_105.bmp',\n",
       " '/content/drive/My Drive/IMAGES/test/Cr_111.bmp',\n",
       " '/content/drive/My Drive/IMAGES/test/Cr_118.bmp',\n",
       " '/content/drive/My Drive/IMAGES/test/Cr_123.bmp',\n",
       " '/content/drive/My Drive/IMAGES/test/Cr_129.bmp',\n",
       " '/content/drive/My Drive/IMAGES/test/Cr_132.bmp',\n",
       " '/content/drive/My Drive/IMAGES/test/Cr_137.bmp',\n",
       " '/content/drive/My Drive/IMAGES/test/Cr_139.bmp',\n",
       " '/content/drive/My Drive/IMAGES/test/Cr_143.bmp',\n",
       " '/content/drive/My Drive/IMAGES/test/Cr_148.bmp',\n",
       " '/content/drive/My Drive/IMAGES/test/Cr_152.bmp',\n",
       " '/content/drive/My Drive/IMAGES/test/Cr_154.bmp',\n",
       " '/content/drive/My Drive/IMAGES/test/Cr_156.bmp',\n",
       " '/content/drive/My Drive/IMAGES/test/Cr_157.bmp',\n",
       " '/content/drive/My Drive/IMAGES/test/Cr_159.bmp',\n",
       " '/content/drive/My Drive/IMAGES/test/Cr_163.bmp',\n",
       " '/content/drive/My Drive/IMAGES/test/Cr_174.bmp',\n",
       " '/content/drive/My Drive/IMAGES/test/Cr_180.bmp',\n",
       " '/content/drive/My Drive/IMAGES/test/Cr_188.bmp',\n",
       " '/content/drive/My Drive/IMAGES/test/Cr_189.bmp',\n",
       " '/content/drive/My Drive/IMAGES/test/Cr_193.bmp',\n",
       " '/content/drive/My Drive/IMAGES/test/Cr_194.bmp',\n",
       " '/content/drive/My Drive/IMAGES/test/Cr_204.bmp',\n",
       " '/content/drive/My Drive/IMAGES/test/Cr_212.bmp',\n",
       " '/content/drive/My Drive/IMAGES/test/Cr_222.bmp',\n",
       " '/content/drive/My Drive/IMAGES/test/Cr_223.bmp',\n",
       " '/content/drive/My Drive/IMAGES/test/Cr_230.bmp',\n",
       " '/content/drive/My Drive/IMAGES/test/Cr_237.bmp',\n",
       " '/content/drive/My Drive/IMAGES/test/Cr_238.bmp',\n",
       " '/content/drive/My Drive/IMAGES/test/Cr_243.bmp',\n",
       " '/content/drive/My Drive/IMAGES/test/Cr_246.bmp',\n",
       " '/content/drive/My Drive/IMAGES/test/Cr_249.bmp',\n",
       " '/content/drive/My Drive/IMAGES/test/Cr_257.bmp',\n",
       " '/content/drive/My Drive/IMAGES/test/Cr_260.bmp',\n",
       " '/content/drive/My Drive/IMAGES/test/Cr_261.bmp',\n",
       " '/content/drive/My Drive/IMAGES/test/Cr_263.bmp',\n",
       " '/content/drive/My Drive/IMAGES/test/Cr_277.bmp',\n",
       " '/content/drive/My Drive/IMAGES/test/Cr_285.bmp',\n",
       " '/content/drive/My Drive/IMAGES/test/Cr_292.bmp',\n",
       " '/content/drive/My Drive/IMAGES/test/Cr_295.bmp',\n",
       " '/content/drive/My Drive/IMAGES/test/Cr_296.bmp',\n",
       " '/content/drive/My Drive/IMAGES/test/PS_1.bmp',\n",
       " '/content/drive/My Drive/IMAGES/test/PS_2.bmp',\n",
       " '/content/drive/My Drive/IMAGES/test/PS_10.bmp',\n",
       " '/content/drive/My Drive/IMAGES/test/PS_13.bmp',\n",
       " '/content/drive/My Drive/IMAGES/test/PS_19.bmp',\n",
       " '/content/drive/My Drive/IMAGES/test/PS_24.bmp',\n",
       " '/content/drive/My Drive/IMAGES/test/PS_28.bmp',\n",
       " '/content/drive/My Drive/IMAGES/test/PS_34.bmp',\n",
       " '/content/drive/My Drive/IMAGES/test/PS_39.bmp',\n",
       " '/content/drive/My Drive/IMAGES/test/PS_44.bmp',\n",
       " '/content/drive/My Drive/IMAGES/test/PS_46.bmp',\n",
       " '/content/drive/My Drive/IMAGES/test/PS_50.bmp',\n",
       " '/content/drive/My Drive/IMAGES/test/PS_51.bmp',\n",
       " '/content/drive/My Drive/IMAGES/test/PS_55.bmp',\n",
       " '/content/drive/My Drive/IMAGES/test/PS_56.bmp',\n",
       " '/content/drive/My Drive/IMAGES/test/PS_59.bmp',\n",
       " '/content/drive/My Drive/IMAGES/test/PS_74.bmp',\n",
       " '/content/drive/My Drive/IMAGES/test/PS_76.bmp',\n",
       " '/content/drive/My Drive/IMAGES/test/PS_84.bmp',\n",
       " '/content/drive/My Drive/IMAGES/test/PS_96.bmp',\n",
       " '/content/drive/My Drive/IMAGES/test/PS_101.bmp',\n",
       " '/content/drive/My Drive/IMAGES/test/PS_102.bmp',\n",
       " '/content/drive/My Drive/IMAGES/test/PS_112.bmp',\n",
       " '/content/drive/My Drive/IMAGES/test/PS_114.bmp',\n",
       " '/content/drive/My Drive/IMAGES/test/PS_115.bmp',\n",
       " '/content/drive/My Drive/IMAGES/test/PS_119.bmp',\n",
       " '/content/drive/My Drive/IMAGES/test/PS_121.bmp',\n",
       " '/content/drive/My Drive/IMAGES/test/PS_127.bmp',\n",
       " '/content/drive/My Drive/IMAGES/test/PS_130.bmp',\n",
       " '/content/drive/My Drive/IMAGES/test/PS_131.bmp',\n",
       " '/content/drive/My Drive/IMAGES/test/PS_139.bmp',\n",
       " '/content/drive/My Drive/IMAGES/test/PS_148.bmp',\n",
       " '/content/drive/My Drive/IMAGES/test/PS_152.bmp',\n",
       " '/content/drive/My Drive/IMAGES/test/PS_154.bmp',\n",
       " '/content/drive/My Drive/IMAGES/test/PS_156.bmp',\n",
       " '/content/drive/My Drive/IMAGES/test/PS_166.bmp',\n",
       " '/content/drive/My Drive/IMAGES/test/PS_167.bmp',\n",
       " '/content/drive/My Drive/IMAGES/test/PS_169.bmp',\n",
       " '/content/drive/My Drive/IMAGES/test/PS_177.bmp',\n",
       " '/content/drive/My Drive/IMAGES/test/PS_179.bmp',\n",
       " '/content/drive/My Drive/IMAGES/test/PS_181.bmp',\n",
       " '/content/drive/My Drive/IMAGES/test/PS_182.bmp',\n",
       " '/content/drive/My Drive/IMAGES/test/PS_184.bmp',\n",
       " '/content/drive/My Drive/IMAGES/test/PS_185.bmp',\n",
       " '/content/drive/My Drive/IMAGES/test/PS_190.bmp',\n",
       " '/content/drive/My Drive/IMAGES/test/PS_203.bmp',\n",
       " '/content/drive/My Drive/IMAGES/test/PS_207.bmp',\n",
       " '/content/drive/My Drive/IMAGES/test/PS_212.bmp',\n",
       " '/content/drive/My Drive/IMAGES/test/PS_233.bmp',\n",
       " '/content/drive/My Drive/IMAGES/test/PS_242.bmp',\n",
       " '/content/drive/My Drive/IMAGES/test/PS_245.bmp',\n",
       " '/content/drive/My Drive/IMAGES/test/PS_249.bmp',\n",
       " '/content/drive/My Drive/IMAGES/test/PS_256.bmp',\n",
       " '/content/drive/My Drive/IMAGES/test/PS_258.bmp',\n",
       " '/content/drive/My Drive/IMAGES/test/PS_265.bmp',\n",
       " '/content/drive/My Drive/IMAGES/test/PS_266.bmp',\n",
       " '/content/drive/My Drive/IMAGES/test/PS_269.bmp',\n",
       " '/content/drive/My Drive/IMAGES/test/PS_278.bmp',\n",
       " '/content/drive/My Drive/IMAGES/test/PS_280.bmp',\n",
       " '/content/drive/My Drive/IMAGES/test/PS_282.bmp',\n",
       " '/content/drive/My Drive/IMAGES/test/PS_287.bmp',\n",
       " '/content/drive/My Drive/IMAGES/test/PS_296.bmp',\n",
       " '/content/drive/My Drive/IMAGES/test/PS_297.bmp',\n",
       " '/content/drive/My Drive/IMAGES/test/PS_300.bmp',\n",
       " '/content/drive/My Drive/IMAGES/test/In_7.bmp',\n",
       " '/content/drive/My Drive/IMAGES/test/In_18.bmp',\n",
       " '/content/drive/My Drive/IMAGES/test/In_28.bmp',\n",
       " '/content/drive/My Drive/IMAGES/test/In_44.bmp',\n",
       " '/content/drive/My Drive/IMAGES/test/In_47.bmp',\n",
       " '/content/drive/My Drive/IMAGES/test/In_49.bmp',\n",
       " '/content/drive/My Drive/IMAGES/test/In_52.bmp',\n",
       " '/content/drive/My Drive/IMAGES/test/In_61.bmp',\n",
       " '/content/drive/My Drive/IMAGES/test/In_64.bmp',\n",
       " '/content/drive/My Drive/IMAGES/test/In_66.bmp',\n",
       " '/content/drive/My Drive/IMAGES/test/In_72.bmp',\n",
       " '/content/drive/My Drive/IMAGES/test/In_74.bmp',\n",
       " '/content/drive/My Drive/IMAGES/test/In_88.bmp',\n",
       " '/content/drive/My Drive/IMAGES/test/In_91.bmp',\n",
       " '/content/drive/My Drive/IMAGES/test/In_92.bmp',\n",
       " '/content/drive/My Drive/IMAGES/test/In_102.bmp',\n",
       " '/content/drive/My Drive/IMAGES/test/In_106.bmp',\n",
       " '/content/drive/My Drive/IMAGES/test/In_120.bmp',\n",
       " '/content/drive/My Drive/IMAGES/test/In_121.bmp',\n",
       " '/content/drive/My Drive/IMAGES/test/In_123.bmp',\n",
       " '/content/drive/My Drive/IMAGES/test/In_130.bmp',\n",
       " '/content/drive/My Drive/IMAGES/test/In_131.bmp',\n",
       " '/content/drive/My Drive/IMAGES/test/In_133.bmp',\n",
       " '/content/drive/My Drive/IMAGES/test/In_134.bmp',\n",
       " '/content/drive/My Drive/IMAGES/test/In_141.bmp',\n",
       " '/content/drive/My Drive/IMAGES/test/In_142.bmp',\n",
       " '/content/drive/My Drive/IMAGES/test/In_154.bmp',\n",
       " '/content/drive/My Drive/IMAGES/test/In_157.bmp',\n",
       " '/content/drive/My Drive/IMAGES/test/In_165.bmp',\n",
       " '/content/drive/My Drive/IMAGES/test/In_167.bmp',\n",
       " '/content/drive/My Drive/IMAGES/test/In_168.bmp',\n",
       " '/content/drive/My Drive/IMAGES/test/In_169.bmp',\n",
       " '/content/drive/My Drive/IMAGES/test/In_171.bmp',\n",
       " '/content/drive/My Drive/IMAGES/test/In_172.bmp',\n",
       " '/content/drive/My Drive/IMAGES/test/In_173.bmp',\n",
       " '/content/drive/My Drive/IMAGES/test/In_179.bmp',\n",
       " '/content/drive/My Drive/IMAGES/test/In_180.bmp',\n",
       " '/content/drive/My Drive/IMAGES/test/In_183.bmp',\n",
       " '/content/drive/My Drive/IMAGES/test/In_185.bmp',\n",
       " '/content/drive/My Drive/IMAGES/test/In_194.bmp',\n",
       " '/content/drive/My Drive/IMAGES/test/In_198.bmp',\n",
       " '/content/drive/My Drive/IMAGES/test/In_199.bmp',\n",
       " '/content/drive/My Drive/IMAGES/test/In_202.bmp',\n",
       " '/content/drive/My Drive/IMAGES/test/In_225.bmp',\n",
       " '/content/drive/My Drive/IMAGES/test/In_232.bmp',\n",
       " '/content/drive/My Drive/IMAGES/test/In_233.bmp',\n",
       " '/content/drive/My Drive/IMAGES/test/In_235.bmp',\n",
       " '/content/drive/My Drive/IMAGES/test/In_236.bmp',\n",
       " '/content/drive/My Drive/IMAGES/test/In_237.bmp',\n",
       " '/content/drive/My Drive/IMAGES/test/In_245.bmp',\n",
       " '/content/drive/My Drive/IMAGES/test/In_248.bmp',\n",
       " '/content/drive/My Drive/IMAGES/test/In_252.bmp',\n",
       " '/content/drive/My Drive/IMAGES/test/In_255.bmp',\n",
       " '/content/drive/My Drive/IMAGES/test/In_256.bmp',\n",
       " '/content/drive/My Drive/IMAGES/test/In_257.bmp',\n",
       " '/content/drive/My Drive/IMAGES/test/In_262.bmp',\n",
       " '/content/drive/My Drive/IMAGES/test/In_265.bmp',\n",
       " '/content/drive/My Drive/IMAGES/test/In_277.bmp',\n",
       " '/content/drive/My Drive/IMAGES/test/In_281.bmp',\n",
       " '/content/drive/My Drive/IMAGES/test/In_293.bmp',\n",
       " '/content/drive/My Drive/IMAGES/test/Sc_3.bmp',\n",
       " '/content/drive/My Drive/IMAGES/test/Sc_4.bmp',\n",
       " '/content/drive/My Drive/IMAGES/test/Sc_7.bmp',\n",
       " '/content/drive/My Drive/IMAGES/test/Sc_8.bmp',\n",
       " '/content/drive/My Drive/IMAGES/test/Sc_10.bmp',\n",
       " '/content/drive/My Drive/IMAGES/test/Sc_18.bmp',\n",
       " '/content/drive/My Drive/IMAGES/test/Sc_32.bmp',\n",
       " '/content/drive/My Drive/IMAGES/test/Sc_33.bmp',\n",
       " '/content/drive/My Drive/IMAGES/test/Sc_44.bmp',\n",
       " '/content/drive/My Drive/IMAGES/test/Sc_45.bmp',\n",
       " '/content/drive/My Drive/IMAGES/test/Sc_50.bmp',\n",
       " '/content/drive/My Drive/IMAGES/test/Sc_62.bmp',\n",
       " '/content/drive/My Drive/IMAGES/test/Sc_69.bmp',\n",
       " '/content/drive/My Drive/IMAGES/test/Sc_74.bmp',\n",
       " '/content/drive/My Drive/IMAGES/test/Sc_76.bmp',\n",
       " '/content/drive/My Drive/IMAGES/test/Sc_80.bmp',\n",
       " '/content/drive/My Drive/IMAGES/test/Sc_81.bmp',\n",
       " '/content/drive/My Drive/IMAGES/test/Sc_86.bmp',\n",
       " '/content/drive/My Drive/IMAGES/test/Sc_91.bmp',\n",
       " '/content/drive/My Drive/IMAGES/test/Sc_99.bmp',\n",
       " '/content/drive/My Drive/IMAGES/test/Sc_107.bmp',\n",
       " '/content/drive/My Drive/IMAGES/test/Sc_108.bmp',\n",
       " '/content/drive/My Drive/IMAGES/test/Sc_109.bmp',\n",
       " '/content/drive/My Drive/IMAGES/test/Sc_123.bmp',\n",
       " '/content/drive/My Drive/IMAGES/test/Sc_137.bmp',\n",
       " '/content/drive/My Drive/IMAGES/test/Sc_138.bmp',\n",
       " '/content/drive/My Drive/IMAGES/test/Sc_139.bmp',\n",
       " '/content/drive/My Drive/IMAGES/test/Sc_142.bmp',\n",
       " '/content/drive/My Drive/IMAGES/test/Sc_151.bmp',\n",
       " '/content/drive/My Drive/IMAGES/test/Sc_158.bmp',\n",
       " '/content/drive/My Drive/IMAGES/test/Sc_165.bmp',\n",
       " '/content/drive/My Drive/IMAGES/test/Sc_166.bmp',\n",
       " '/content/drive/My Drive/IMAGES/test/Sc_177.bmp',\n",
       " '/content/drive/My Drive/IMAGES/test/Sc_180.bmp',\n",
       " '/content/drive/My Drive/IMAGES/test/Sc_188.bmp',\n",
       " '/content/drive/My Drive/IMAGES/test/Sc_189.bmp',\n",
       " '/content/drive/My Drive/IMAGES/test/Sc_205.bmp',\n",
       " '/content/drive/My Drive/IMAGES/test/Sc_206.bmp',\n",
       " '/content/drive/My Drive/IMAGES/test/Sc_207.bmp',\n",
       " '/content/drive/My Drive/IMAGES/test/Sc_215.bmp',\n",
       " '/content/drive/My Drive/IMAGES/test/Sc_216.bmp',\n",
       " '/content/drive/My Drive/IMAGES/test/Sc_221.bmp',\n",
       " '/content/drive/My Drive/IMAGES/test/Sc_222.bmp',\n",
       " '/content/drive/My Drive/IMAGES/test/Sc_234.bmp',\n",
       " '/content/drive/My Drive/IMAGES/test/Sc_240.bmp',\n",
       " '/content/drive/My Drive/IMAGES/test/Sc_243.bmp',\n",
       " '/content/drive/My Drive/IMAGES/test/Sc_246.bmp',\n",
       " '/content/drive/My Drive/IMAGES/test/Sc_251.bmp',\n",
       " '/content/drive/My Drive/IMAGES/test/Sc_257.bmp',\n",
       " '/content/drive/My Drive/IMAGES/test/Sc_260.bmp',\n",
       " '/content/drive/My Drive/IMAGES/test/Sc_268.bmp',\n",
       " '/content/drive/My Drive/IMAGES/test/Sc_273.bmp',\n",
       " '/content/drive/My Drive/IMAGES/test/Sc_276.bmp',\n",
       " '/content/drive/My Drive/IMAGES/test/Sc_282.bmp',\n",
       " '/content/drive/My Drive/IMAGES/test/Sc_286.bmp',\n",
       " '/content/drive/My Drive/IMAGES/test/Sc_288.bmp',\n",
       " '/content/drive/My Drive/IMAGES/test/Sc_289.bmp',\n",
       " '/content/drive/My Drive/IMAGES/test/Sc_296.bmp',\n",
       " '/content/drive/My Drive/IMAGES/test/Sc_297.bmp']"
      ]
     },
     "execution_count": 47,
     "metadata": {
      "tags": []
     },
     "output_type": "execute_result"
    }
   ],
   "source": [
    "images"
   ]
  },
  {
   "cell_type": "code",
   "execution_count": null,
   "metadata": {
    "id": "BfUclTHtvxSY"
   },
   "outputs": [],
   "source": [
    "from fastai.vision import image\n",
    "pred = []\n",
    "\n",
    "for i in images:\n",
    "    #img = image.open_image(test_directory+i)   # NameError: name 'image' is not defined  if image is not imported\n",
    "    img = image.open_image(i)\n",
    "    pred_class,pred_idx,outputs = learn2.predict(img)\n",
    "    pred.append(str(pred_class))"
   ]
  },
  {
   "cell_type": "code",
   "execution_count": null,
   "metadata": {
    "id": "WpXNN4vOvw8g"
   },
   "outputs": [],
   "source": [
    "actual = []\n",
    "\n",
    "for item in images:   # can be used if images are in sub-folders within test\n",
    "#for item in os.listdir(test_directory):  # only when images are directly in \"test\"\n",
    "    if 'Cr' in item:\n",
    "        actual.append('Cr')\n",
    "    if 'In' in item:\n",
    "        actual.append('In')\n",
    "    if 'Pa' in item:\n",
    "        actual.append('Pa')\n",
    "    if 'PS' in item:\n",
    "        actual.append('PS')  \n",
    "    if 'RS' in item:\n",
    "        actual.append('RS')\n",
    "    if 'Sc' in item:\n",
    "        actual.append('Sc')    "
   ]
  },
  {
   "cell_type": "code",
   "execution_count": null,
   "metadata": {
    "colab": {
     "base_uri": "https://localhost:8080/"
    },
    "id": "JX8z292BxD_I",
    "outputId": "e473a4a2-9224-47f7-cf77-1501a4636519"
   },
   "outputs": [
    {
     "data": {
      "text/plain": [
       "['RS',\n",
       " 'RS',\n",
       " 'RS',\n",
       " 'RS',\n",
       " 'RS',\n",
       " 'RS',\n",
       " 'RS',\n",
       " 'RS',\n",
       " 'RS',\n",
       " 'RS',\n",
       " 'RS',\n",
       " 'RS',\n",
       " 'RS',\n",
       " 'RS',\n",
       " 'RS',\n",
       " 'RS',\n",
       " 'RS',\n",
       " 'RS',\n",
       " 'RS',\n",
       " 'RS',\n",
       " 'RS',\n",
       " 'RS',\n",
       " 'RS',\n",
       " 'RS',\n",
       " 'RS',\n",
       " 'RS',\n",
       " 'RS',\n",
       " 'RS',\n",
       " 'RS',\n",
       " 'RS',\n",
       " 'RS',\n",
       " 'RS',\n",
       " 'RS',\n",
       " 'RS',\n",
       " 'RS',\n",
       " 'RS',\n",
       " 'RS',\n",
       " 'RS',\n",
       " 'RS',\n",
       " 'RS',\n",
       " 'RS',\n",
       " 'RS',\n",
       " 'RS',\n",
       " 'RS',\n",
       " 'RS',\n",
       " 'RS',\n",
       " 'RS',\n",
       " 'RS',\n",
       " 'RS',\n",
       " 'Pa',\n",
       " 'Pa',\n",
       " 'Pa',\n",
       " 'Pa',\n",
       " 'Pa',\n",
       " 'Pa',\n",
       " 'Pa',\n",
       " 'Pa',\n",
       " 'Pa',\n",
       " 'Pa',\n",
       " 'Pa',\n",
       " 'Pa',\n",
       " 'Pa',\n",
       " 'Pa',\n",
       " 'Pa',\n",
       " 'Pa',\n",
       " 'Pa',\n",
       " 'Pa',\n",
       " 'Pa',\n",
       " 'Pa',\n",
       " 'Pa',\n",
       " 'Pa',\n",
       " 'Pa',\n",
       " 'Pa',\n",
       " 'Pa',\n",
       " 'Pa',\n",
       " 'Pa',\n",
       " 'Pa',\n",
       " 'Pa',\n",
       " 'Pa',\n",
       " 'Pa',\n",
       " 'Pa',\n",
       " 'Pa',\n",
       " 'Pa',\n",
       " 'Pa',\n",
       " 'Pa',\n",
       " 'Pa',\n",
       " 'Pa',\n",
       " 'Pa',\n",
       " 'Pa',\n",
       " 'Pa',\n",
       " 'Pa',\n",
       " 'Pa',\n",
       " 'Pa',\n",
       " 'Pa',\n",
       " 'Pa',\n",
       " 'Pa',\n",
       " 'Pa',\n",
       " 'Pa',\n",
       " 'Pa',\n",
       " 'Pa',\n",
       " 'Pa',\n",
       " 'Pa',\n",
       " 'Pa',\n",
       " 'Pa',\n",
       " 'Pa',\n",
       " 'Pa',\n",
       " 'Pa',\n",
       " 'Pa',\n",
       " 'Pa',\n",
       " 'Pa',\n",
       " 'Pa',\n",
       " 'Pa',\n",
       " 'Pa',\n",
       " 'Cr',\n",
       " 'Cr',\n",
       " 'Cr',\n",
       " 'Cr',\n",
       " 'Cr',\n",
       " 'Cr',\n",
       " 'Cr',\n",
       " 'Cr',\n",
       " 'Cr',\n",
       " 'Cr',\n",
       " 'Cr',\n",
       " 'Cr',\n",
       " 'Cr',\n",
       " 'Cr',\n",
       " 'Cr',\n",
       " 'Cr',\n",
       " 'Cr',\n",
       " 'Cr',\n",
       " 'Cr',\n",
       " 'Cr',\n",
       " 'Cr',\n",
       " 'Cr',\n",
       " 'Cr',\n",
       " 'Cr',\n",
       " 'Cr',\n",
       " 'Cr',\n",
       " 'Cr',\n",
       " 'Cr',\n",
       " 'Cr',\n",
       " 'Cr',\n",
       " 'Cr',\n",
       " 'Cr',\n",
       " 'Cr',\n",
       " 'Cr',\n",
       " 'Cr',\n",
       " 'Cr',\n",
       " 'Cr',\n",
       " 'Cr',\n",
       " 'Cr',\n",
       " 'Cr',\n",
       " 'Cr',\n",
       " 'Cr',\n",
       " 'Cr',\n",
       " 'Cr',\n",
       " 'Cr',\n",
       " 'Cr',\n",
       " 'Cr',\n",
       " 'Cr',\n",
       " 'Cr',\n",
       " 'Cr',\n",
       " 'Cr',\n",
       " 'Cr',\n",
       " 'Cr',\n",
       " 'Cr',\n",
       " 'Cr',\n",
       " 'Cr',\n",
       " 'Cr',\n",
       " 'Cr',\n",
       " 'Cr',\n",
       " 'Cr',\n",
       " 'Cr',\n",
       " 'Cr',\n",
       " 'Cr',\n",
       " 'PS',\n",
       " 'PS',\n",
       " 'PS',\n",
       " 'PS',\n",
       " 'PS',\n",
       " 'PS',\n",
       " 'PS',\n",
       " 'PS',\n",
       " 'PS',\n",
       " 'PS',\n",
       " 'PS',\n",
       " 'PS',\n",
       " 'PS',\n",
       " 'PS',\n",
       " 'PS',\n",
       " 'PS',\n",
       " 'PS',\n",
       " 'PS',\n",
       " 'PS',\n",
       " 'PS',\n",
       " 'PS',\n",
       " 'PS',\n",
       " 'PS',\n",
       " 'PS',\n",
       " 'PS',\n",
       " 'PS',\n",
       " 'PS',\n",
       " 'PS',\n",
       " 'PS',\n",
       " 'PS',\n",
       " 'PS',\n",
       " 'PS',\n",
       " 'PS',\n",
       " 'PS',\n",
       " 'PS',\n",
       " 'PS',\n",
       " 'PS',\n",
       " 'PS',\n",
       " 'PS',\n",
       " 'PS',\n",
       " 'PS',\n",
       " 'PS',\n",
       " 'PS',\n",
       " 'PS',\n",
       " 'PS',\n",
       " 'PS',\n",
       " 'PS',\n",
       " 'PS',\n",
       " 'PS',\n",
       " 'PS',\n",
       " 'PS',\n",
       " 'PS',\n",
       " 'PS',\n",
       " 'PS',\n",
       " 'PS',\n",
       " 'PS',\n",
       " 'PS',\n",
       " 'PS',\n",
       " 'PS',\n",
       " 'PS',\n",
       " 'PS',\n",
       " 'PS',\n",
       " 'PS',\n",
       " 'PS',\n",
       " 'In',\n",
       " 'In',\n",
       " 'In',\n",
       " 'In',\n",
       " 'In',\n",
       " 'In',\n",
       " 'In',\n",
       " 'In',\n",
       " 'In',\n",
       " 'In',\n",
       " 'In',\n",
       " 'In',\n",
       " 'In',\n",
       " 'In',\n",
       " 'In',\n",
       " 'In',\n",
       " 'In',\n",
       " 'In',\n",
       " 'In',\n",
       " 'In',\n",
       " 'In',\n",
       " 'In',\n",
       " 'In',\n",
       " 'In',\n",
       " 'In',\n",
       " 'In',\n",
       " 'In',\n",
       " 'In',\n",
       " 'In',\n",
       " 'In',\n",
       " 'In',\n",
       " 'In',\n",
       " 'In',\n",
       " 'In',\n",
       " 'In',\n",
       " 'In',\n",
       " 'In',\n",
       " 'In',\n",
       " 'In',\n",
       " 'In',\n",
       " 'In',\n",
       " 'In',\n",
       " 'In',\n",
       " 'In',\n",
       " 'In',\n",
       " 'In',\n",
       " 'In',\n",
       " 'In',\n",
       " 'In',\n",
       " 'In',\n",
       " 'In',\n",
       " 'In',\n",
       " 'In',\n",
       " 'In',\n",
       " 'In',\n",
       " 'In',\n",
       " 'In',\n",
       " 'In',\n",
       " 'In',\n",
       " 'In',\n",
       " 'Sc',\n",
       " 'Sc',\n",
       " 'Sc',\n",
       " 'Sc',\n",
       " 'Sc',\n",
       " 'Sc',\n",
       " 'Sc',\n",
       " 'Sc',\n",
       " 'In',\n",
       " 'Sc',\n",
       " 'Sc',\n",
       " 'Sc',\n",
       " 'Sc',\n",
       " 'Sc',\n",
       " 'Sc',\n",
       " 'Sc',\n",
       " 'Sc',\n",
       " 'Sc',\n",
       " 'Sc',\n",
       " 'Sc',\n",
       " 'Sc',\n",
       " 'Sc',\n",
       " 'Sc',\n",
       " 'Sc',\n",
       " 'Sc',\n",
       " 'Sc',\n",
       " 'Sc',\n",
       " 'Sc',\n",
       " 'Sc',\n",
       " 'Sc',\n",
       " 'Sc',\n",
       " 'Sc',\n",
       " 'Sc',\n",
       " 'Sc',\n",
       " 'Sc',\n",
       " 'Sc',\n",
       " 'Sc',\n",
       " 'Sc',\n",
       " 'Sc',\n",
       " 'Sc',\n",
       " 'Sc',\n",
       " 'Sc',\n",
       " 'Sc',\n",
       " 'Sc',\n",
       " 'Sc',\n",
       " 'Sc',\n",
       " 'Sc',\n",
       " 'Sc',\n",
       " 'Sc',\n",
       " 'Sc',\n",
       " 'Sc',\n",
       " 'Sc',\n",
       " 'Sc',\n",
       " 'Sc',\n",
       " 'Sc',\n",
       " 'Sc',\n",
       " 'Sc',\n",
       " 'Sc',\n",
       " 'Sc']"
      ]
     },
     "execution_count": 51,
     "metadata": {
      "tags": []
     },
     "output_type": "execute_result"
    }
   ],
   "source": [
    "pred"
   ]
  },
  {
   "cell_type": "code",
   "execution_count": null,
   "metadata": {
    "colab": {
     "base_uri": "https://localhost:8080/"
    },
    "id": "f0cvrtitxEbP",
    "outputId": "616cb325-3128-46b7-9603-89dfd591af33"
   },
   "outputs": [
    {
     "data": {
      "text/plain": [
       "['RS',\n",
       " 'RS',\n",
       " 'RS',\n",
       " 'RS',\n",
       " 'RS',\n",
       " 'RS',\n",
       " 'RS',\n",
       " 'RS',\n",
       " 'RS',\n",
       " 'RS',\n",
       " 'RS',\n",
       " 'RS',\n",
       " 'RS',\n",
       " 'RS',\n",
       " 'RS',\n",
       " 'RS',\n",
       " 'RS',\n",
       " 'RS',\n",
       " 'RS',\n",
       " 'RS',\n",
       " 'RS',\n",
       " 'RS',\n",
       " 'RS',\n",
       " 'RS',\n",
       " 'RS',\n",
       " 'RS',\n",
       " 'RS',\n",
       " 'RS',\n",
       " 'RS',\n",
       " 'RS',\n",
       " 'RS',\n",
       " 'RS',\n",
       " 'RS',\n",
       " 'RS',\n",
       " 'RS',\n",
       " 'RS',\n",
       " 'RS',\n",
       " 'RS',\n",
       " 'RS',\n",
       " 'RS',\n",
       " 'RS',\n",
       " 'RS',\n",
       " 'RS',\n",
       " 'RS',\n",
       " 'RS',\n",
       " 'RS',\n",
       " 'RS',\n",
       " 'RS',\n",
       " 'RS',\n",
       " 'Pa',\n",
       " 'Pa',\n",
       " 'Pa',\n",
       " 'Pa',\n",
       " 'Pa',\n",
       " 'Pa',\n",
       " 'Pa',\n",
       " 'Pa',\n",
       " 'Pa',\n",
       " 'Pa',\n",
       " 'Pa',\n",
       " 'Pa',\n",
       " 'Pa',\n",
       " 'Pa',\n",
       " 'Pa',\n",
       " 'Pa',\n",
       " 'Pa',\n",
       " 'Pa',\n",
       " 'Pa',\n",
       " 'Pa',\n",
       " 'Pa',\n",
       " 'Pa',\n",
       " 'Pa',\n",
       " 'Pa',\n",
       " 'Pa',\n",
       " 'Pa',\n",
       " 'Pa',\n",
       " 'Pa',\n",
       " 'Pa',\n",
       " 'Pa',\n",
       " 'Pa',\n",
       " 'Pa',\n",
       " 'Pa',\n",
       " 'Pa',\n",
       " 'Pa',\n",
       " 'Pa',\n",
       " 'Pa',\n",
       " 'Pa',\n",
       " 'Pa',\n",
       " 'Pa',\n",
       " 'Pa',\n",
       " 'Pa',\n",
       " 'Pa',\n",
       " 'Pa',\n",
       " 'Pa',\n",
       " 'Pa',\n",
       " 'Pa',\n",
       " 'Pa',\n",
       " 'Pa',\n",
       " 'Pa',\n",
       " 'Pa',\n",
       " 'Pa',\n",
       " 'Pa',\n",
       " 'Pa',\n",
       " 'Pa',\n",
       " 'Pa',\n",
       " 'Pa',\n",
       " 'Pa',\n",
       " 'Pa',\n",
       " 'Pa',\n",
       " 'Pa',\n",
       " 'Pa',\n",
       " 'Pa',\n",
       " 'Pa',\n",
       " 'Cr',\n",
       " 'Cr',\n",
       " 'Cr',\n",
       " 'Cr',\n",
       " 'Cr',\n",
       " 'Cr',\n",
       " 'Cr',\n",
       " 'Cr',\n",
       " 'Cr',\n",
       " 'Cr',\n",
       " 'Cr',\n",
       " 'Cr',\n",
       " 'Cr',\n",
       " 'Cr',\n",
       " 'Cr',\n",
       " 'Cr',\n",
       " 'Cr',\n",
       " 'Cr',\n",
       " 'Cr',\n",
       " 'Cr',\n",
       " 'Cr',\n",
       " 'Cr',\n",
       " 'Cr',\n",
       " 'Cr',\n",
       " 'Cr',\n",
       " 'Cr',\n",
       " 'Cr',\n",
       " 'Cr',\n",
       " 'Cr',\n",
       " 'Cr',\n",
       " 'Cr',\n",
       " 'Cr',\n",
       " 'Cr',\n",
       " 'Cr',\n",
       " 'Cr',\n",
       " 'Cr',\n",
       " 'Cr',\n",
       " 'Cr',\n",
       " 'Cr',\n",
       " 'Cr',\n",
       " 'Cr',\n",
       " 'Cr',\n",
       " 'Cr',\n",
       " 'Cr',\n",
       " 'Cr',\n",
       " 'Cr',\n",
       " 'Cr',\n",
       " 'Cr',\n",
       " 'Cr',\n",
       " 'Cr',\n",
       " 'Cr',\n",
       " 'Cr',\n",
       " 'Cr',\n",
       " 'Cr',\n",
       " 'Cr',\n",
       " 'Cr',\n",
       " 'Cr',\n",
       " 'Cr',\n",
       " 'Cr',\n",
       " 'Cr',\n",
       " 'Cr',\n",
       " 'Cr',\n",
       " 'Cr',\n",
       " 'PS',\n",
       " 'PS',\n",
       " 'PS',\n",
       " 'PS',\n",
       " 'PS',\n",
       " 'PS',\n",
       " 'PS',\n",
       " 'PS',\n",
       " 'PS',\n",
       " 'PS',\n",
       " 'PS',\n",
       " 'PS',\n",
       " 'PS',\n",
       " 'PS',\n",
       " 'PS',\n",
       " 'PS',\n",
       " 'PS',\n",
       " 'PS',\n",
       " 'PS',\n",
       " 'PS',\n",
       " 'PS',\n",
       " 'PS',\n",
       " 'PS',\n",
       " 'PS',\n",
       " 'PS',\n",
       " 'PS',\n",
       " 'PS',\n",
       " 'PS',\n",
       " 'PS',\n",
       " 'PS',\n",
       " 'PS',\n",
       " 'PS',\n",
       " 'PS',\n",
       " 'PS',\n",
       " 'PS',\n",
       " 'PS',\n",
       " 'PS',\n",
       " 'PS',\n",
       " 'PS',\n",
       " 'PS',\n",
       " 'PS',\n",
       " 'PS',\n",
       " 'PS',\n",
       " 'PS',\n",
       " 'PS',\n",
       " 'PS',\n",
       " 'PS',\n",
       " 'PS',\n",
       " 'PS',\n",
       " 'PS',\n",
       " 'PS',\n",
       " 'PS',\n",
       " 'PS',\n",
       " 'PS',\n",
       " 'PS',\n",
       " 'PS',\n",
       " 'PS',\n",
       " 'PS',\n",
       " 'PS',\n",
       " 'PS',\n",
       " 'PS',\n",
       " 'PS',\n",
       " 'PS',\n",
       " 'PS',\n",
       " 'In',\n",
       " 'In',\n",
       " 'In',\n",
       " 'In',\n",
       " 'In',\n",
       " 'In',\n",
       " 'In',\n",
       " 'In',\n",
       " 'In',\n",
       " 'In',\n",
       " 'In',\n",
       " 'In',\n",
       " 'In',\n",
       " 'In',\n",
       " 'In',\n",
       " 'In',\n",
       " 'In',\n",
       " 'In',\n",
       " 'In',\n",
       " 'In',\n",
       " 'In',\n",
       " 'In',\n",
       " 'In',\n",
       " 'In',\n",
       " 'In',\n",
       " 'In',\n",
       " 'In',\n",
       " 'In',\n",
       " 'In',\n",
       " 'In',\n",
       " 'In',\n",
       " 'In',\n",
       " 'In',\n",
       " 'In',\n",
       " 'In',\n",
       " 'In',\n",
       " 'In',\n",
       " 'In',\n",
       " 'In',\n",
       " 'In',\n",
       " 'In',\n",
       " 'In',\n",
       " 'In',\n",
       " 'In',\n",
       " 'In',\n",
       " 'In',\n",
       " 'In',\n",
       " 'In',\n",
       " 'In',\n",
       " 'In',\n",
       " 'In',\n",
       " 'In',\n",
       " 'In',\n",
       " 'In',\n",
       " 'In',\n",
       " 'In',\n",
       " 'In',\n",
       " 'In',\n",
       " 'In',\n",
       " 'In',\n",
       " 'Sc',\n",
       " 'Sc',\n",
       " 'Sc',\n",
       " 'Sc',\n",
       " 'Sc',\n",
       " 'Sc',\n",
       " 'Sc',\n",
       " 'Sc',\n",
       " 'Sc',\n",
       " 'Sc',\n",
       " 'Sc',\n",
       " 'Sc',\n",
       " 'Sc',\n",
       " 'Sc',\n",
       " 'Sc',\n",
       " 'Sc',\n",
       " 'Sc',\n",
       " 'Sc',\n",
       " 'Sc',\n",
       " 'Sc',\n",
       " 'Sc',\n",
       " 'Sc',\n",
       " 'Sc',\n",
       " 'Sc',\n",
       " 'Sc',\n",
       " 'Sc',\n",
       " 'Sc',\n",
       " 'Sc',\n",
       " 'Sc',\n",
       " 'Sc',\n",
       " 'Sc',\n",
       " 'Sc',\n",
       " 'Sc',\n",
       " 'Sc',\n",
       " 'Sc',\n",
       " 'Sc',\n",
       " 'Sc',\n",
       " 'Sc',\n",
       " 'Sc',\n",
       " 'Sc',\n",
       " 'Sc',\n",
       " 'Sc',\n",
       " 'Sc',\n",
       " 'Sc',\n",
       " 'Sc',\n",
       " 'Sc',\n",
       " 'Sc',\n",
       " 'Sc',\n",
       " 'Sc',\n",
       " 'Sc',\n",
       " 'Sc',\n",
       " 'Sc',\n",
       " 'Sc',\n",
       " 'Sc',\n",
       " 'Sc',\n",
       " 'Sc',\n",
       " 'Sc',\n",
       " 'Sc',\n",
       " 'Sc']"
      ]
     },
     "execution_count": 52,
     "metadata": {
      "tags": []
     },
     "output_type": "execute_result"
    }
   ],
   "source": [
    "actual"
   ]
  },
  {
   "cell_type": "code",
   "execution_count": null,
   "metadata": {
    "id": "3M5_ZuwXxENX"
   },
   "outputs": [],
   "source": [
    "Test_Results={}"
   ]
  },
  {
   "cell_type": "code",
   "execution_count": null,
   "metadata": {
    "id": "A50rIw9AxN2Q"
   },
   "outputs": [],
   "source": [
    "from sklearn.metrics import confusion_matrix, classification_report, accuracy_score\n",
    "\n",
    "class_names = ['Cr', 'In', 'Pa', 'PS', 'RS', 'Sc']\n",
    "report=classification_report(actual, pred, target_names=class_names)\n",
    "Classifiaction_Report=classification_report(actual, pred, target_names=class_names)\n",
    "Test_Results[\"Classification Report\"]=Classifiaction_Report"
   ]
  },
  {
   "cell_type": "code",
   "execution_count": null,
   "metadata": {
    "colab": {
     "base_uri": "https://localhost:8080/"
    },
    "id": "Z0bwbpI1xOHJ",
    "outputId": "77c652d2-28b7-4d58-a25b-b85d65e75b91"
   },
   "outputs": [
    {
     "name": "stdout",
     "output_type": "stream",
     "text": [
      "              precision    recall  f1-score   support\n",
      "\n",
      "          Cr       1.00      1.00      1.00        63\n",
      "          In       0.98      1.00      0.99        60\n",
      "          Pa       1.00      1.00      1.00        64\n",
      "          PS       1.00      1.00      1.00        64\n",
      "          RS       1.00      1.00      1.00        49\n",
      "          Sc       1.00      0.98      0.99        59\n",
      "\n",
      "    accuracy                           1.00       359\n",
      "   macro avg       1.00      1.00      1.00       359\n",
      "weighted avg       1.00      1.00      1.00       359\n",
      "\n"
     ]
    }
   ],
   "source": [
    "print(Classifiaction_Report)"
   ]
  },
  {
   "cell_type": "code",
   "execution_count": null,
   "metadata": {
    "id": "5DmU_TvDxOWv"
   },
   "outputs": [],
   "source": [
    "def report_to_df(report):\n",
    "    report = [x.split(' ') for x in report.split('\\n')]\n",
    "    header = ['Class Name']+[x for x in report[0] if x!='']\n",
    "    values = []\n",
    "    for row in report[1:-5]:\n",
    "        row = [value for value in row if value!='']\n",
    "        if row!=[]:\n",
    "            values.append(row)\n",
    "    df = pd.DataFrame(data = values, columns = header)\n",
    "    return df"
   ]
  },
  {
   "cell_type": "code",
   "execution_count": null,
   "metadata": {
    "colab": {
     "base_uri": "https://localhost:8080/"
    },
    "id": "Uy6ulQZBxOOk",
    "outputId": "b9fb6791-a3d8-4273-d8f6-f6831c772761"
   },
   "outputs": [
    {
     "data": {
      "text/plain": [
       "0.9972144846796658"
      ]
     },
     "execution_count": 60,
     "metadata": {
      "tags": []
     },
     "output_type": "execute_result"
    }
   ],
   "source": [
    "Accuracy_Score=accuracy_score(actual, pred)\n",
    "Test_Results[\"Accuracy_Score\"]=Accuracy_Score\n",
    "Accuracy_Score"
   ]
  },
  {
   "cell_type": "code",
   "execution_count": null,
   "metadata": {
    "id": "Qg3v_0gR0MaQ"
   },
   "outputs": [],
   "source": [
    "import pandas as pd\n",
    "Confusion_Matrix_List=[]\n",
    "Confusion_matrix=pd.DataFrame(confusion_matrix(actual,pred,labels=class_names))\n",
    "for index, row in Confusion_matrix.iterrows():\n",
    "    Confusion_Matrix_List.append(list(row))\n",
    "Test_Results[\"Confusion_Matrix\"]=Confusion_Matrix_List"
   ]
  },
  {
   "cell_type": "code",
   "execution_count": null,
   "metadata": {
    "colab": {
     "base_uri": "https://localhost:8080/"
    },
    "id": "k2pwOoYG0Ms3",
    "outputId": "66bd008e-8ea7-4d98-c0a5-03f2ee8bbb7d"
   },
   "outputs": [
    {
     "name": "stdout",
     "output_type": "stream",
     "text": [
      "{'Classification Report': '              precision    recall  f1-score   support\\n\\n          Cr       1.00      1.00      1.00        63\\n          In       0.98      1.00      0.99        60\\n          Pa       1.00      1.00      1.00        64\\n          PS       1.00      1.00      1.00        64\\n          RS       1.00      1.00      1.00        49\\n          Sc       1.00      0.98      0.99        59\\n\\n    accuracy                           1.00       359\\n   macro avg       1.00      1.00      1.00       359\\nweighted avg       1.00      1.00      1.00       359\\n', 'Accuracy_Score': 0.9972144846796658, 'Confusion_Matrix': [[63, 0, 0, 0, 0, 0], [0, 60, 0, 0, 0, 0], [0, 0, 64, 0, 0, 0], [0, 0, 0, 64, 0, 0], [0, 0, 0, 0, 49, 0], [0, 1, 0, 0, 0, 58]]}\n"
     ]
    }
   ],
   "source": [
    "print(Test_Results)"
   ]
  },
  {
   "cell_type": "code",
   "execution_count": null,
   "metadata": {
    "colab": {
     "base_uri": "https://localhost:8080/",
     "height": 430
    },
    "id": "jed48e_r0MlR",
    "outputId": "8576e3b5-030c-4c90-8d8d-8a4b0b5cdfd1"
   },
   "outputs": [
    {
     "data": {
      "text/plain": [
       "<Figure size 432x288 with 0 Axes>"
      ]
     },
     "execution_count": 61,
     "metadata": {
      "tags": []
     },
     "output_type": "execute_result"
    },
    {
     "name": "stdout",
     "output_type": "stream",
     "text": [
      "Confusion matrix, without normalization\n",
      "[[63  0  0  0  0  0]\n",
      " [ 0 60  0  0  0  0]\n",
      " [ 0  0 64  0  0  0]\n",
      " [ 0  0  0 64  0  0]\n",
      " [ 0  0  0  0 49  0]\n",
      " [ 0  1  0  0  0 58]]\n"
     ]
    },
    {
     "data": {
      "image/png": "[encoded data removed]",
      "text/plain": [
       "<Figure size 432x288 with 2 Axes>"
      ]
     },
     "metadata": {
      "needs_background": "light",
      "tags": []
     },
     "output_type": "display_data"
    }
   ],
   "source": [
    "cnf_matrix = confusion_matrix(actual, pred)\n",
    "np.set_printoptions(precision=2)\n",
    "\n",
    "# Plot non-normalized confusion matrix\n",
    "plt.figure()\n",
    "plot_confusion_matrix(cnf_matrix, classes=class_names,\n",
    "                      title='Confusion matrix, without normalization')"
   ]
  },
  {
   "cell_type": "code",
   "execution_count": null,
   "metadata": {
    "colab": {
     "base_uri": "https://localhost:8080/"
    },
    "id": "Qkl_nRigxOA_",
    "outputId": "6b96c700-f93a-4be4-8cb7-62d4116357db"
   },
   "outputs": [
    {
     "name": "stdout",
     "output_type": "stream",
     "text": [
      "10 loops, best of 3: 32 ms per loop\n"
     ]
    }
   ],
   "source": [
    "%timeit pred_class,pred_idx,outputs = learn2.predict(img)"
   ]
  },
  {
   "cell_type": "markdown",
   "metadata": {
    "id": "DOyCLpvlQLuz"
   },
   "source": [
    "##Resnet18"
   ]
  },
  {
   "cell_type": "code",
   "execution_count": null,
   "metadata": {
    "colab": {
     "base_uri": "https://localhost:8080/",
     "height": 83,
     "referenced_widgets": [
      "ff6e1e8278a24a159436bfc5278abc18",
      "fce6b40780bd41988a55c81fc5273d33",
      "3a111a9318b247c5907594915be8f480",
      "b332ebb0a703423f8a11ccb27d48b584",
      "f9252f1e0d7346e2b8d049583aa81be5",
      "131c44974c0f4ba493734f7aafecf6ce",
      "bd1ca204fd9e4c7790a8a5240ae8892f",
      "8a20c434c3e944b686f24fcaded0bede"
     ]
    },
    "id": "_o6LePAVL9U4",
    "outputId": "a5eb8c80-4162-44bd-e55e-371ff3723aea"
   },
   "outputs": [
    {
     "name": "stderr",
     "output_type": "stream",
     "text": [
      "Downloading: \"https://download.pytorch.org/models/resnet18-5c106cde.pth\" to /root/.cache/torch/hub/checkpoints/resnet18-5c106cde.pth\n"
     ]
    },
    {
     "data": {
      "application/vnd.jupyter.widget-view+json": {
       "model_id": "ff6e1e8278a24a159436bfc5278abc18",
       "version_major": 2,
       "version_minor": 0
      },
      "text/plain": [
       "HBox(children=(FloatProgress(value=0.0, max=46827520.0), HTML(value='')))"
      ]
     },
     "metadata": {
      "tags": []
     },
     "output_type": "display_data"
    },
    {
     "name": "stdout",
     "output_type": "stream",
     "text": [
      "\n"
     ]
    }
   ],
   "source": [
    "arch = models.resnet18\n",
    "learn3 = cnn_learner(data, arch, pretrained=True, metrics=metrics)\n",
    "learn3.loss_func = torch.nn.functional.cross_entropy"
   ]
  },
  {
   "cell_type": "code",
   "execution_count": null,
   "metadata": {
    "colab": {
     "base_uri": "https://localhost:8080/",
     "height": 669
    },
    "id": "833WN_a0QUUo",
    "outputId": "37f469b6-d88b-4e4c-eacb-7466faae4567"
   },
   "outputs": [
    {
     "data": {
      "text/html": [
       "<table border=\"1\" class=\"dataframe\">\n",
       "  <thead>\n",
       "    <tr style=\"text-align: left;\">\n",
       "      <th>epoch</th>\n",
       "      <th>train_loss</th>\n",
       "      <th>valid_loss</th>\n",
       "      <th>accuracy</th>\n",
       "      <th>precision</th>\n",
       "      <th>recall</th>\n",
       "      <th>time</th>\n",
       "    </tr>\n",
       "  </thead>\n",
       "  <tbody>\n",
       "    <tr>\n",
       "      <td>0</td>\n",
       "      <td>1.173583</td>\n",
       "      <td>0.274858</td>\n",
       "      <td>0.881944</td>\n",
       "      <td>0.883135</td>\n",
       "      <td>0.881250</td>\n",
       "      <td>00:45</td>\n",
       "    </tr>\n",
       "    <tr>\n",
       "      <td>1</td>\n",
       "      <td>0.902056</td>\n",
       "      <td>0.230734</td>\n",
       "      <td>0.916667</td>\n",
       "      <td>0.928210</td>\n",
       "      <td>0.917538</td>\n",
       "      <td>00:46</td>\n",
       "    </tr>\n",
       "    <tr>\n",
       "      <td>2</td>\n",
       "      <td>0.783863</td>\n",
       "      <td>0.332023</td>\n",
       "      <td>0.905093</td>\n",
       "      <td>0.914939</td>\n",
       "      <td>0.904554</td>\n",
       "      <td>00:46</td>\n",
       "    </tr>\n",
       "    <tr>\n",
       "      <td>3</td>\n",
       "      <td>0.689094</td>\n",
       "      <td>0.232383</td>\n",
       "      <td>0.902778</td>\n",
       "      <td>0.911647</td>\n",
       "      <td>0.907755</td>\n",
       "      <td>00:45</td>\n",
       "    </tr>\n",
       "    <tr>\n",
       "      <td>4</td>\n",
       "      <td>0.786833</td>\n",
       "      <td>0.123332</td>\n",
       "      <td>0.960648</td>\n",
       "      <td>0.960537</td>\n",
       "      <td>0.962515</td>\n",
       "      <td>00:46</td>\n",
       "    </tr>\n",
       "    <tr>\n",
       "      <td>5</td>\n",
       "      <td>0.685621</td>\n",
       "      <td>0.081920</td>\n",
       "      <td>0.972222</td>\n",
       "      <td>0.971006</td>\n",
       "      <td>0.972520</td>\n",
       "      <td>00:46</td>\n",
       "    </tr>\n",
       "    <tr>\n",
       "      <td>6</td>\n",
       "      <td>0.647136</td>\n",
       "      <td>0.136076</td>\n",
       "      <td>0.958333</td>\n",
       "      <td>0.958985</td>\n",
       "      <td>0.959215</td>\n",
       "      <td>00:45</td>\n",
       "    </tr>\n",
       "    <tr>\n",
       "      <td>7</td>\n",
       "      <td>0.526107</td>\n",
       "      <td>0.093446</td>\n",
       "      <td>0.967593</td>\n",
       "      <td>0.967366</td>\n",
       "      <td>0.967480</td>\n",
       "      <td>00:46</td>\n",
       "    </tr>\n",
       "    <tr>\n",
       "      <td>8</td>\n",
       "      <td>0.629360</td>\n",
       "      <td>0.129295</td>\n",
       "      <td>0.965278</td>\n",
       "      <td>0.965046</td>\n",
       "      <td>0.967236</td>\n",
       "      <td>00:46</td>\n",
       "    </tr>\n",
       "    <tr>\n",
       "      <td>9</td>\n",
       "      <td>0.407942</td>\n",
       "      <td>0.104727</td>\n",
       "      <td>0.979167</td>\n",
       "      <td>0.977934</td>\n",
       "      <td>0.978330</td>\n",
       "      <td>00:46</td>\n",
       "    </tr>\n",
       "    <tr>\n",
       "      <td>10</td>\n",
       "      <td>0.609915</td>\n",
       "      <td>0.070544</td>\n",
       "      <td>0.981481</td>\n",
       "      <td>0.980710</td>\n",
       "      <td>0.981589</td>\n",
       "      <td>00:46</td>\n",
       "    </tr>\n",
       "    <tr>\n",
       "      <td>11</td>\n",
       "      <td>0.367938</td>\n",
       "      <td>0.032703</td>\n",
       "      <td>0.993056</td>\n",
       "      <td>0.992833</td>\n",
       "      <td>0.992283</td>\n",
       "      <td>00:46</td>\n",
       "    </tr>\n",
       "    <tr>\n",
       "      <td>12</td>\n",
       "      <td>0.278728</td>\n",
       "      <td>0.056407</td>\n",
       "      <td>0.979167</td>\n",
       "      <td>0.978098</td>\n",
       "      <td>0.980068</td>\n",
       "      <td>00:46</td>\n",
       "    </tr>\n",
       "    <tr>\n",
       "      <td>13</td>\n",
       "      <td>0.350494</td>\n",
       "      <td>0.028063</td>\n",
       "      <td>0.993056</td>\n",
       "      <td>0.993247</td>\n",
       "      <td>0.993419</td>\n",
       "      <td>00:46</td>\n",
       "    </tr>\n",
       "    <tr>\n",
       "      <td>14</td>\n",
       "      <td>0.271812</td>\n",
       "      <td>0.029903</td>\n",
       "      <td>0.995370</td>\n",
       "      <td>0.994709</td>\n",
       "      <td>0.995496</td>\n",
       "      <td>00:46</td>\n",
       "    </tr>\n",
       "    <tr>\n",
       "      <td>15</td>\n",
       "      <td>0.170136</td>\n",
       "      <td>0.027105</td>\n",
       "      <td>0.990741</td>\n",
       "      <td>0.990748</td>\n",
       "      <td>0.990119</td>\n",
       "      <td>00:46</td>\n",
       "    </tr>\n",
       "    <tr>\n",
       "      <td>16</td>\n",
       "      <td>0.237277</td>\n",
       "      <td>0.029422</td>\n",
       "      <td>0.988426</td>\n",
       "      <td>0.987973</td>\n",
       "      <td>0.987867</td>\n",
       "      <td>00:46</td>\n",
       "    </tr>\n",
       "    <tr>\n",
       "      <td>17</td>\n",
       "      <td>0.328429</td>\n",
       "      <td>0.036827</td>\n",
       "      <td>0.993056</td>\n",
       "      <td>0.992188</td>\n",
       "      <td>0.993243</td>\n",
       "      <td>00:46</td>\n",
       "    </tr>\n",
       "    <tr>\n",
       "      <td>18</td>\n",
       "      <td>0.211841</td>\n",
       "      <td>0.034796</td>\n",
       "      <td>0.990741</td>\n",
       "      <td>0.990951</td>\n",
       "      <td>0.990687</td>\n",
       "      <td>00:46</td>\n",
       "    </tr>\n",
       "    <tr>\n",
       "      <td>19</td>\n",
       "      <td>0.276246</td>\n",
       "      <td>0.034853</td>\n",
       "      <td>0.993056</td>\n",
       "      <td>0.992188</td>\n",
       "      <td>0.993243</td>\n",
       "      <td>00:46</td>\n",
       "    </tr>\n",
       "  </tbody>\n",
       "</table>"
      ],
      "text/plain": [
       "<IPython.core.display.HTML object>"
      ]
     },
     "metadata": {
      "tags": []
     },
     "output_type": "display_data"
    }
   ],
   "source": [
    "learn3.fit_one_cycle(20)"
   ]
  },
  {
   "cell_type": "code",
   "execution_count": null,
   "metadata": {
    "colab": {
     "base_uri": "https://localhost:8080/",
     "height": 279
    },
    "id": "YVZYEox3QX4h",
    "outputId": "1271962f-0322-49c1-9913-c3ff1f5bfa23"
   },
   "outputs": [
    {
     "data": {
      "image/png": "[encoded data removed]",
      "text/plain": [
       "<Figure size 432x288 with 1 Axes>"
      ]
     },
     "metadata": {
      "needs_background": "light",
      "tags": []
     },
     "output_type": "display_data"
    }
   ],
   "source": [
    "learn3.recorder.plot_losses()"
   ]
  },
  {
   "cell_type": "code",
   "execution_count": null,
   "metadata": {
    "colab": {
     "base_uri": "https://localhost:8080/",
     "height": 34
    },
    "id": "EUPorfhzXY9T",
    "outputId": "89ae83ef-15de-4aab-ba00-028f43aef5e7"
   },
   "outputs": [
    {
     "data": {
      "text/html": [],
      "text/plain": [
       "<IPython.core.display.HTML object>"
      ]
     },
     "metadata": {
      "tags": []
     },
     "output_type": "display_data"
    },
    {
     "data": {
      "text/html": [],
      "text/plain": [
       "<IPython.core.display.HTML object>"
      ]
     },
     "metadata": {
      "tags": []
     },
     "output_type": "display_data"
    },
    {
     "data": {
      "text/html": [],
      "text/plain": [
       "<IPython.core.display.HTML object>"
      ]
     },
     "metadata": {
      "tags": []
     },
     "output_type": "display_data"
    },
    {
     "data": {
      "text/html": [],
      "text/plain": [
       "<IPython.core.display.HTML object>"
      ]
     },
     "metadata": {
      "tags": []
     },
     "output_type": "display_data"
    },
    {
     "data": {
      "text/plain": [
       "(0.9930555555555556, 0.17063492063492064)"
      ]
     },
     "execution_count": 27,
     "metadata": {
      "tags": []
     },
     "output_type": "execute_result"
    }
   ],
   "source": [
    "preds = learn3.get_preds()[0].argmax(dim=-1).numpy()\n",
    "test_actual = learn3.get_preds()[1].numpy()\n",
    "\n",
    "train_pred = learn3.get_preds(ds_type=DatasetType.Train)[0].argmax(dim=-1).numpy()\n",
    "train_actual = learn3.get_preds(ds_type=DatasetType.Train)[1].numpy()\n",
    "\n",
    "val_acc = accuracy_score(test_actual, preds)\n",
    "train_acc = accuracy_score(train_actual, train_pred)\n",
    "\n",
    "val_acc, train_acc"
   ]
  },
  {
   "cell_type": "code",
   "execution_count": null,
   "metadata": {
    "colab": {
     "base_uri": "https://localhost:8080/",
     "height": 626
    },
    "id": "eh2LZs3KXkYO",
    "outputId": "ab8b39c3-a8ff-4143-ca64-62c5e199e54f"
   },
   "outputs": [
    {
     "data": {
      "text/html": [],
      "text/plain": [
       "<IPython.core.display.HTML object>"
      ]
     },
     "metadata": {
      "tags": []
     },
     "output_type": "display_data"
    },
    {
     "data": {
      "image/png": "[encoded data removed]",
      "text/plain": [
       "<Figure size 600x600 with 1 Axes>"
      ]
     },
     "metadata": {
      "needs_background": "light",
      "tags": []
     },
     "output_type": "display_data"
    }
   ],
   "source": [
    "interp = ClassificationInterpretation.from_learner(learn3)\n",
    "interp.plot_confusion_matrix(figsize=(6,6), dpi=100)"
   ]
  },
  {
   "cell_type": "code",
   "execution_count": null,
   "metadata": {
    "id": "tcWIqwkpYziw"
   },
   "outputs": [],
   "source": [
    "learn3.save('NEU-resnet18')"
   ]
  },
  {
   "cell_type": "code",
   "execution_count": null,
   "metadata": {
    "id": "O6_ugWh0bwl9"
   },
   "outputs": [],
   "source": [
    "learn3.export(image_path/'models/resnet18.pkl')"
   ]
  },
  {
   "cell_type": "code",
   "execution_count": null,
   "metadata": {
    "id": "VU8fb1sMvO9T"
   },
   "outputs": [],
   "source": []
  },
  {
   "cell_type": "code",
   "execution_count": null,
   "metadata": {
    "colab": {
     "base_uri": "https://localhost:8080/"
    },
    "id": "g9rqKy4QvOyN",
    "outputId": "62ba271d-18a2-4d9c-bcb8-718eee6634b4"
   },
   "outputs": [
    {
     "data": {
      "text/plain": [
       "Learner(data=ImageDataBunch;\n",
       "\n",
       "Train: LabelList (1009 items)\n",
       "x: ImageList\n",
       "Image (3, 512, 512),Image (3, 512, 512),Image (3, 512, 512),Image (3, 512, 512),Image (3, 512, 512)\n",
       "y: CategoryList\n",
       "Cr,Cr,Cr,Cr,Cr\n",
       "Path: /content/drive/My Drive/IMAGES/train;\n",
       "\n",
       "Valid: LabelList (432 items)\n",
       "x: ImageList\n",
       "Image (3, 512, 512),Image (3, 512, 512),Image (3, 512, 512),Image (3, 512, 512),Image (3, 512, 512)\n",
       "y: CategoryList\n",
       "Pa,Sc,PS,Pa,Sc\n",
       "Path: /content/drive/My Drive/IMAGES/train;\n",
       "\n",
       "Test: None, model=Sequential(\n",
       "  (0): Sequential(\n",
       "    (0): Conv2d(3, 64, kernel_size=(7, 7), stride=(2, 2), padding=(3, 3), bias=False)\n",
       "    (1): BatchNorm2d(64, eps=1e-05, momentum=0.1, affine=True, track_running_stats=True)\n",
       "    (2): ReLU(inplace=True)\n",
       "    (3): MaxPool2d(kernel_size=3, stride=2, padding=1, dilation=1, ceil_mode=False)\n",
       "    (4): Sequential(\n",
       "      (0): BasicBlock(\n",
       "        (conv1): Conv2d(64, 64, kernel_size=(3, 3), stride=(1, 1), padding=(1, 1), bias=False)\n",
       "        (bn1): BatchNorm2d(64, eps=1e-05, momentum=0.1, affine=True, track_running_stats=True)\n",
       "        (relu): ReLU(inplace=True)\n",
       "        (conv2): Conv2d(64, 64, kernel_size=(3, 3), stride=(1, 1), padding=(1, 1), bias=False)\n",
       "        (bn2): BatchNorm2d(64, eps=1e-05, momentum=0.1, affine=True, track_running_stats=True)\n",
       "      )\n",
       "      (1): BasicBlock(\n",
       "        (conv1): Conv2d(64, 64, kernel_size=(3, 3), stride=(1, 1), padding=(1, 1), bias=False)\n",
       "        (bn1): BatchNorm2d(64, eps=1e-05, momentum=0.1, affine=True, track_running_stats=True)\n",
       "        (relu): ReLU(inplace=True)\n",
       "        (conv2): Conv2d(64, 64, kernel_size=(3, 3), stride=(1, 1), padding=(1, 1), bias=False)\n",
       "        (bn2): BatchNorm2d(64, eps=1e-05, momentum=0.1, affine=True, track_running_stats=True)\n",
       "      )\n",
       "    )\n",
       "    (5): Sequential(\n",
       "      (0): BasicBlock(\n",
       "        (conv1): Conv2d(64, 128, kernel_size=(3, 3), stride=(2, 2), padding=(1, 1), bias=False)\n",
       "        (bn1): BatchNorm2d(128, eps=1e-05, momentum=0.1, affine=True, track_running_stats=True)\n",
       "        (relu): ReLU(inplace=True)\n",
       "        (conv2): Conv2d(128, 128, kernel_size=(3, 3), stride=(1, 1), padding=(1, 1), bias=False)\n",
       "        (bn2): BatchNorm2d(128, eps=1e-05, momentum=0.1, affine=True, track_running_stats=True)\n",
       "        (downsample): Sequential(\n",
       "          (0): Conv2d(64, 128, kernel_size=(1, 1), stride=(2, 2), bias=False)\n",
       "          (1): BatchNorm2d(128, eps=1e-05, momentum=0.1, affine=True, track_running_stats=True)\n",
       "        )\n",
       "      )\n",
       "      (1): BasicBlock(\n",
       "        (conv1): Conv2d(128, 128, kernel_size=(3, 3), stride=(1, 1), padding=(1, 1), bias=False)\n",
       "        (bn1): BatchNorm2d(128, eps=1e-05, momentum=0.1, affine=True, track_running_stats=True)\n",
       "        (relu): ReLU(inplace=True)\n",
       "        (conv2): Conv2d(128, 128, kernel_size=(3, 3), stride=(1, 1), padding=(1, 1), bias=False)\n",
       "        (bn2): BatchNorm2d(128, eps=1e-05, momentum=0.1, affine=True, track_running_stats=True)\n",
       "      )\n",
       "    )\n",
       "    (6): Sequential(\n",
       "      (0): BasicBlock(\n",
       "        (conv1): Conv2d(128, 256, kernel_size=(3, 3), stride=(2, 2), padding=(1, 1), bias=False)\n",
       "        (bn1): BatchNorm2d(256, eps=1e-05, momentum=0.1, affine=True, track_running_stats=True)\n",
       "        (relu): ReLU(inplace=True)\n",
       "        (conv2): Conv2d(256, 256, kernel_size=(3, 3), stride=(1, 1), padding=(1, 1), bias=False)\n",
       "        (bn2): BatchNorm2d(256, eps=1e-05, momentum=0.1, affine=True, track_running_stats=True)\n",
       "        (downsample): Sequential(\n",
       "          (0): Conv2d(128, 256, kernel_size=(1, 1), stride=(2, 2), bias=False)\n",
       "          (1): BatchNorm2d(256, eps=1e-05, momentum=0.1, affine=True, track_running_stats=True)\n",
       "        )\n",
       "      )\n",
       "      (1): BasicBlock(\n",
       "        (conv1): Conv2d(256, 256, kernel_size=(3, 3), stride=(1, 1), padding=(1, 1), bias=False)\n",
       "        (bn1): BatchNorm2d(256, eps=1e-05, momentum=0.1, affine=True, track_running_stats=True)\n",
       "        (relu): ReLU(inplace=True)\n",
       "        (conv2): Conv2d(256, 256, kernel_size=(3, 3), stride=(1, 1), padding=(1, 1), bias=False)\n",
       "        (bn2): BatchNorm2d(256, eps=1e-05, momentum=0.1, affine=True, track_running_stats=True)\n",
       "      )\n",
       "    )\n",
       "    (7): Sequential(\n",
       "      (0): BasicBlock(\n",
       "        (conv1): Conv2d(256, 512, kernel_size=(3, 3), stride=(2, 2), padding=(1, 1), bias=False)\n",
       "        (bn1): BatchNorm2d(512, eps=1e-05, momentum=0.1, affine=True, track_running_stats=True)\n",
       "        (relu): ReLU(inplace=True)\n",
       "        (conv2): Conv2d(512, 512, kernel_size=(3, 3), stride=(1, 1), padding=(1, 1), bias=False)\n",
       "        (bn2): BatchNorm2d(512, eps=1e-05, momentum=0.1, affine=True, track_running_stats=True)\n",
       "        (downsample): Sequential(\n",
       "          (0): Conv2d(256, 512, kernel_size=(1, 1), stride=(2, 2), bias=False)\n",
       "          (1): BatchNorm2d(512, eps=1e-05, momentum=0.1, affine=True, track_running_stats=True)\n",
       "        )\n",
       "      )\n",
       "      (1): BasicBlock(\n",
       "        (conv1): Conv2d(512, 512, kernel_size=(3, 3), stride=(1, 1), padding=(1, 1), bias=False)\n",
       "        (bn1): BatchNorm2d(512, eps=1e-05, momentum=0.1, affine=True, track_running_stats=True)\n",
       "        (relu): ReLU(inplace=True)\n",
       "        (conv2): Conv2d(512, 512, kernel_size=(3, 3), stride=(1, 1), padding=(1, 1), bias=False)\n",
       "        (bn2): BatchNorm2d(512, eps=1e-05, momentum=0.1, affine=True, track_running_stats=True)\n",
       "      )\n",
       "    )\n",
       "  )\n",
       "  (1): Sequential(\n",
       "    (0): AdaptiveConcatPool2d(\n",
       "      (ap): AdaptiveAvgPool2d(output_size=1)\n",
       "      (mp): AdaptiveMaxPool2d(output_size=1)\n",
       "    )\n",
       "    (1): Flatten()\n",
       "    (2): BatchNorm1d(1024, eps=1e-05, momentum=0.1, affine=True, track_running_stats=True)\n",
       "    (3): Dropout(p=0.25, inplace=False)\n",
       "    (4): Linear(in_features=1024, out_features=512, bias=True)\n",
       "    (5): ReLU(inplace=True)\n",
       "    (6): BatchNorm1d(512, eps=1e-05, momentum=0.1, affine=True, track_running_stats=True)\n",
       "    (7): Dropout(p=0.5, inplace=False)\n",
       "    (8): Linear(in_features=512, out_features=6, bias=True)\n",
       "  )\n",
       "), opt_func=functools.partial(<class 'torch.optim.adam.Adam'>, betas=(0.9, 0.99)), loss_func=<function cross_entropy at 0x7faf0d0590d0>, metrics=[<function accuracy at 0x7faf04cd0950>, Precision(average='macro', pos_label=1, eps=1e-09), Recall(average='macro', pos_label=1, eps=1e-09)], true_wd=True, bn_wd=True, wd=0.01, train_bn=True, path=PosixPath('/content/drive/My Drive/IMAGES/train'), model_dir='models', callback_fns=[functools.partial(<class 'fastai.basic_train.Recorder'>, add_time=True, silent=False)], callbacks=[], layer_groups=[Sequential(\n",
       "  (0): Conv2d(3, 64, kernel_size=(7, 7), stride=(2, 2), padding=(3, 3), bias=False)\n",
       "  (1): BatchNorm2d(64, eps=1e-05, momentum=0.1, affine=True, track_running_stats=True)\n",
       "  (2): ReLU(inplace=True)\n",
       "  (3): MaxPool2d(kernel_size=3, stride=2, padding=1, dilation=1, ceil_mode=False)\n",
       "  (4): Conv2d(64, 64, kernel_size=(3, 3), stride=(1, 1), padding=(1, 1), bias=False)\n",
       "  (5): BatchNorm2d(64, eps=1e-05, momentum=0.1, affine=True, track_running_stats=True)\n",
       "  (6): ReLU(inplace=True)\n",
       "  (7): Conv2d(64, 64, kernel_size=(3, 3), stride=(1, 1), padding=(1, 1), bias=False)\n",
       "  (8): BatchNorm2d(64, eps=1e-05, momentum=0.1, affine=True, track_running_stats=True)\n",
       "  (9): Conv2d(64, 64, kernel_size=(3, 3), stride=(1, 1), padding=(1, 1), bias=False)\n",
       "  (10): BatchNorm2d(64, eps=1e-05, momentum=0.1, affine=True, track_running_stats=True)\n",
       "  (11): ReLU(inplace=True)\n",
       "  (12): Conv2d(64, 64, kernel_size=(3, 3), stride=(1, 1), padding=(1, 1), bias=False)\n",
       "  (13): BatchNorm2d(64, eps=1e-05, momentum=0.1, affine=True, track_running_stats=True)\n",
       "  (14): Conv2d(64, 128, kernel_size=(3, 3), stride=(2, 2), padding=(1, 1), bias=False)\n",
       "  (15): BatchNorm2d(128, eps=1e-05, momentum=0.1, affine=True, track_running_stats=True)\n",
       "  (16): ReLU(inplace=True)\n",
       "  (17): Conv2d(128, 128, kernel_size=(3, 3), stride=(1, 1), padding=(1, 1), bias=False)\n",
       "  (18): BatchNorm2d(128, eps=1e-05, momentum=0.1, affine=True, track_running_stats=True)\n",
       "  (19): Conv2d(64, 128, kernel_size=(1, 1), stride=(2, 2), bias=False)\n",
       "  (20): BatchNorm2d(128, eps=1e-05, momentum=0.1, affine=True, track_running_stats=True)\n",
       "  (21): Conv2d(128, 128, kernel_size=(3, 3), stride=(1, 1), padding=(1, 1), bias=False)\n",
       "  (22): BatchNorm2d(128, eps=1e-05, momentum=0.1, affine=True, track_running_stats=True)\n",
       "  (23): ReLU(inplace=True)\n",
       "  (24): Conv2d(128, 128, kernel_size=(3, 3), stride=(1, 1), padding=(1, 1), bias=False)\n",
       "  (25): BatchNorm2d(128, eps=1e-05, momentum=0.1, affine=True, track_running_stats=True)\n",
       "), Sequential(\n",
       "  (0): Conv2d(128, 256, kernel_size=(3, 3), stride=(2, 2), padding=(1, 1), bias=False)\n",
       "  (1): BatchNorm2d(256, eps=1e-05, momentum=0.1, affine=True, track_running_stats=True)\n",
       "  (2): ReLU(inplace=True)\n",
       "  (3): Conv2d(256, 256, kernel_size=(3, 3), stride=(1, 1), padding=(1, 1), bias=False)\n",
       "  (4): BatchNorm2d(256, eps=1e-05, momentum=0.1, affine=True, track_running_stats=True)\n",
       "  (5): Conv2d(128, 256, kernel_size=(1, 1), stride=(2, 2), bias=False)\n",
       "  (6): BatchNorm2d(256, eps=1e-05, momentum=0.1, affine=True, track_running_stats=True)\n",
       "  (7): Conv2d(256, 256, kernel_size=(3, 3), stride=(1, 1), padding=(1, 1), bias=False)\n",
       "  (8): BatchNorm2d(256, eps=1e-05, momentum=0.1, affine=True, track_running_stats=True)\n",
       "  (9): ReLU(inplace=True)\n",
       "  (10): Conv2d(256, 256, kernel_size=(3, 3), stride=(1, 1), padding=(1, 1), bias=False)\n",
       "  (11): BatchNorm2d(256, eps=1e-05, momentum=0.1, affine=True, track_running_stats=True)\n",
       "  (12): Conv2d(256, 512, kernel_size=(3, 3), stride=(2, 2), padding=(1, 1), bias=False)\n",
       "  (13): BatchNorm2d(512, eps=1e-05, momentum=0.1, affine=True, track_running_stats=True)\n",
       "  (14): ReLU(inplace=True)\n",
       "  (15): Conv2d(512, 512, kernel_size=(3, 3), stride=(1, 1), padding=(1, 1), bias=False)\n",
       "  (16): BatchNorm2d(512, eps=1e-05, momentum=0.1, affine=True, track_running_stats=True)\n",
       "  (17): Conv2d(256, 512, kernel_size=(1, 1), stride=(2, 2), bias=False)\n",
       "  (18): BatchNorm2d(512, eps=1e-05, momentum=0.1, affine=True, track_running_stats=True)\n",
       "  (19): Conv2d(512, 512, kernel_size=(3, 3), stride=(1, 1), padding=(1, 1), bias=False)\n",
       "  (20): BatchNorm2d(512, eps=1e-05, momentum=0.1, affine=True, track_running_stats=True)\n",
       "  (21): ReLU(inplace=True)\n",
       "  (22): Conv2d(512, 512, kernel_size=(3, 3), stride=(1, 1), padding=(1, 1), bias=False)\n",
       "  (23): BatchNorm2d(512, eps=1e-05, momentum=0.1, affine=True, track_running_stats=True)\n",
       "), Sequential(\n",
       "  (0): AdaptiveAvgPool2d(output_size=1)\n",
       "  (1): AdaptiveMaxPool2d(output_size=1)\n",
       "  (2): Flatten()\n",
       "  (3): BatchNorm1d(1024, eps=1e-05, momentum=0.1, affine=True, track_running_stats=True)\n",
       "  (4): Dropout(p=0.25, inplace=False)\n",
       "  (5): Linear(in_features=1024, out_features=512, bias=True)\n",
       "  (6): ReLU(inplace=True)\n",
       "  (7): BatchNorm1d(512, eps=1e-05, momentum=0.1, affine=True, track_running_stats=True)\n",
       "  (8): Dropout(p=0.5, inplace=False)\n",
       "  (9): Linear(in_features=512, out_features=6, bias=True)\n",
       ")], add_time=True, silent=False)"
      ]
     },
     "execution_count": 62,
     "metadata": {
      "tags": []
     },
     "output_type": "execute_result"
    }
   ],
   "source": [
    "learn3.load(image_path/'models/NEU-resnet18')"
   ]
  },
  {
   "cell_type": "code",
   "execution_count": null,
   "metadata": {
    "id": "Iv68jexXBt8o"
   },
   "outputs": [],
   "source": [
    "from fastai.vision import image\n",
    "pred_18 = []\n",
    "\n",
    "for i in images:\n",
    "    #img = image.open_image(test_directory+i)   # NameError: name 'image' is not defined  if image is not imported\n",
    "    img = image.open_image(i)\n",
    "    pred_class,pred_idx,outputs = learn3.predict(img)\n",
    "    pred_18.append(str(pred_class))"
   ]
  },
  {
   "cell_type": "code",
   "execution_count": null,
   "metadata": {
    "id": "wrfMZeBuBuTO"
   },
   "outputs": [],
   "source": [
    "actual_18 = []\n",
    "\n",
    "for item in images:   # can be used if images are in sub-folders within test\n",
    "#for item in os.listdir(test_directory):  # only when images are directly in \"test\"\n",
    "    if 'Cr' in item:\n",
    "        actual_18.append('Cr')\n",
    "    if 'In' in item:\n",
    "        actual_18.append('In')\n",
    "    if 'Pa' in item:\n",
    "        actual_18.append('Pa')\n",
    "    if 'PS' in item:\n",
    "        actual_18.append('PS')  \n",
    "    if 'RS' in item:\n",
    "        actual_18.append('RS')\n",
    "    if 'Sc' in item:\n",
    "        actual_18.append('Sc')   "
   ]
  },
  {
   "cell_type": "code",
   "execution_count": null,
   "metadata": {
    "colab": {
     "base_uri": "https://localhost:8080/"
    },
    "id": "A_Kj0rFyBufL",
    "outputId": "02f592d2-612c-497e-cb77-0956491cf396"
   },
   "outputs": [
    {
     "data": {
      "text/plain": [
       "['RS',\n",
       " 'RS',\n",
       " 'RS',\n",
       " 'RS',\n",
       " 'RS',\n",
       " 'RS',\n",
       " 'RS',\n",
       " 'RS',\n",
       " 'RS',\n",
       " 'RS',\n",
       " 'RS',\n",
       " 'RS',\n",
       " 'RS',\n",
       " 'RS',\n",
       " 'RS',\n",
       " 'RS',\n",
       " 'RS',\n",
       " 'RS',\n",
       " 'RS',\n",
       " 'RS',\n",
       " 'RS',\n",
       " 'RS',\n",
       " 'RS',\n",
       " 'RS',\n",
       " 'RS',\n",
       " 'RS',\n",
       " 'RS',\n",
       " 'RS',\n",
       " 'RS',\n",
       " 'RS',\n",
       " 'RS',\n",
       " 'RS',\n",
       " 'RS',\n",
       " 'RS',\n",
       " 'RS',\n",
       " 'RS',\n",
       " 'RS',\n",
       " 'RS',\n",
       " 'RS',\n",
       " 'RS',\n",
       " 'RS',\n",
       " 'RS',\n",
       " 'RS',\n",
       " 'RS',\n",
       " 'RS',\n",
       " 'RS',\n",
       " 'RS',\n",
       " 'RS',\n",
       " 'RS',\n",
       " 'Pa',\n",
       " 'Pa',\n",
       " 'Pa',\n",
       " 'Pa',\n",
       " 'Pa',\n",
       " 'Pa',\n",
       " 'Pa',\n",
       " 'Pa',\n",
       " 'Pa',\n",
       " 'Pa',\n",
       " 'Pa',\n",
       " 'Pa',\n",
       " 'Pa',\n",
       " 'Pa',\n",
       " 'Pa',\n",
       " 'Pa',\n",
       " 'Pa',\n",
       " 'Pa',\n",
       " 'Pa',\n",
       " 'Pa',\n",
       " 'Pa',\n",
       " 'Pa',\n",
       " 'Pa',\n",
       " 'Pa',\n",
       " 'Pa',\n",
       " 'Pa',\n",
       " 'Pa',\n",
       " 'Pa',\n",
       " 'Pa',\n",
       " 'Pa',\n",
       " 'Pa',\n",
       " 'Pa',\n",
       " 'Pa',\n",
       " 'Pa',\n",
       " 'Pa',\n",
       " 'Pa',\n",
       " 'Pa',\n",
       " 'Pa',\n",
       " 'Pa',\n",
       " 'Pa',\n",
       " 'Pa',\n",
       " 'Pa',\n",
       " 'Pa',\n",
       " 'Pa',\n",
       " 'Pa',\n",
       " 'Pa',\n",
       " 'Pa',\n",
       " 'Pa',\n",
       " 'Pa',\n",
       " 'Pa',\n",
       " 'Pa',\n",
       " 'Pa',\n",
       " 'Pa',\n",
       " 'Pa',\n",
       " 'Pa',\n",
       " 'Pa',\n",
       " 'Pa',\n",
       " 'Pa',\n",
       " 'Pa',\n",
       " 'Pa',\n",
       " 'Pa',\n",
       " 'Pa',\n",
       " 'Pa',\n",
       " 'Pa',\n",
       " 'Cr',\n",
       " 'Cr',\n",
       " 'Cr',\n",
       " 'Cr',\n",
       " 'Cr',\n",
       " 'Cr',\n",
       " 'Cr',\n",
       " 'Cr',\n",
       " 'Cr',\n",
       " 'Cr',\n",
       " 'Cr',\n",
       " 'Cr',\n",
       " 'Cr',\n",
       " 'Cr',\n",
       " 'Cr',\n",
       " 'Cr',\n",
       " 'Cr',\n",
       " 'Cr',\n",
       " 'Cr',\n",
       " 'Cr',\n",
       " 'Cr',\n",
       " 'Cr',\n",
       " 'Cr',\n",
       " 'Cr',\n",
       " 'Cr',\n",
       " 'Cr',\n",
       " 'Cr',\n",
       " 'Cr',\n",
       " 'Cr',\n",
       " 'Cr',\n",
       " 'Cr',\n",
       " 'Cr',\n",
       " 'Cr',\n",
       " 'Cr',\n",
       " 'Cr',\n",
       " 'Cr',\n",
       " 'Cr',\n",
       " 'Cr',\n",
       " 'Cr',\n",
       " 'Cr',\n",
       " 'Cr',\n",
       " 'Cr',\n",
       " 'Cr',\n",
       " 'Cr',\n",
       " 'Cr',\n",
       " 'Cr',\n",
       " 'Cr',\n",
       " 'Cr',\n",
       " 'Cr',\n",
       " 'Cr',\n",
       " 'Cr',\n",
       " 'Cr',\n",
       " 'Cr',\n",
       " 'Cr',\n",
       " 'Cr',\n",
       " 'Cr',\n",
       " 'Cr',\n",
       " 'Cr',\n",
       " 'Cr',\n",
       " 'Cr',\n",
       " 'Cr',\n",
       " 'Cr',\n",
       " 'Cr',\n",
       " 'PS',\n",
       " 'PS',\n",
       " 'PS',\n",
       " 'PS',\n",
       " 'PS',\n",
       " 'PS',\n",
       " 'PS',\n",
       " 'PS',\n",
       " 'PS',\n",
       " 'PS',\n",
       " 'PS',\n",
       " 'PS',\n",
       " 'PS',\n",
       " 'PS',\n",
       " 'PS',\n",
       " 'PS',\n",
       " 'PS',\n",
       " 'PS',\n",
       " 'PS',\n",
       " 'PS',\n",
       " 'PS',\n",
       " 'PS',\n",
       " 'PS',\n",
       " 'PS',\n",
       " 'PS',\n",
       " 'PS',\n",
       " 'PS',\n",
       " 'PS',\n",
       " 'PS',\n",
       " 'PS',\n",
       " 'PS',\n",
       " 'PS',\n",
       " 'PS',\n",
       " 'PS',\n",
       " 'PS',\n",
       " 'PS',\n",
       " 'PS',\n",
       " 'PS',\n",
       " 'PS',\n",
       " 'PS',\n",
       " 'PS',\n",
       " 'PS',\n",
       " 'PS',\n",
       " 'PS',\n",
       " 'PS',\n",
       " 'PS',\n",
       " 'PS',\n",
       " 'PS',\n",
       " 'In',\n",
       " 'PS',\n",
       " 'PS',\n",
       " 'PS',\n",
       " 'PS',\n",
       " 'PS',\n",
       " 'PS',\n",
       " 'PS',\n",
       " 'PS',\n",
       " 'PS',\n",
       " 'PS',\n",
       " 'PS',\n",
       " 'PS',\n",
       " 'PS',\n",
       " 'PS',\n",
       " 'PS',\n",
       " 'In',\n",
       " 'In',\n",
       " 'In',\n",
       " 'In',\n",
       " 'In',\n",
       " 'In',\n",
       " 'In',\n",
       " 'In',\n",
       " 'In',\n",
       " 'In',\n",
       " 'In',\n",
       " 'In',\n",
       " 'In',\n",
       " 'In',\n",
       " 'In',\n",
       " 'In',\n",
       " 'In',\n",
       " 'In',\n",
       " 'In',\n",
       " 'In',\n",
       " 'In',\n",
       " 'In',\n",
       " 'In',\n",
       " 'In',\n",
       " 'In',\n",
       " 'In',\n",
       " 'In',\n",
       " 'In',\n",
       " 'In',\n",
       " 'In',\n",
       " 'In',\n",
       " 'In',\n",
       " 'In',\n",
       " 'In',\n",
       " 'In',\n",
       " 'In',\n",
       " 'In',\n",
       " 'In',\n",
       " 'In',\n",
       " 'Sc',\n",
       " 'In',\n",
       " 'In',\n",
       " 'In',\n",
       " 'In',\n",
       " 'In',\n",
       " 'In',\n",
       " 'In',\n",
       " 'In',\n",
       " 'In',\n",
       " 'In',\n",
       " 'In',\n",
       " 'In',\n",
       " 'In',\n",
       " 'In',\n",
       " 'In',\n",
       " 'In',\n",
       " 'In',\n",
       " 'In',\n",
       " 'In',\n",
       " 'In',\n",
       " 'Sc',\n",
       " 'Sc',\n",
       " 'Sc',\n",
       " 'Sc',\n",
       " 'Sc',\n",
       " 'Sc',\n",
       " 'Sc',\n",
       " 'Sc',\n",
       " 'In',\n",
       " 'Sc',\n",
       " 'Sc',\n",
       " 'Sc',\n",
       " 'In',\n",
       " 'Sc',\n",
       " 'Sc',\n",
       " 'Sc',\n",
       " 'Sc',\n",
       " 'Sc',\n",
       " 'Sc',\n",
       " 'Sc',\n",
       " 'Sc',\n",
       " 'Sc',\n",
       " 'Sc',\n",
       " 'Sc',\n",
       " 'Sc',\n",
       " 'Sc',\n",
       " 'Sc',\n",
       " 'Sc',\n",
       " 'Sc',\n",
       " 'Sc',\n",
       " 'Sc',\n",
       " 'Sc',\n",
       " 'Sc',\n",
       " 'Sc',\n",
       " 'Sc',\n",
       " 'Sc',\n",
       " 'Sc',\n",
       " 'Sc',\n",
       " 'Sc',\n",
       " 'Sc',\n",
       " 'Sc',\n",
       " 'Sc',\n",
       " 'Sc',\n",
       " 'Sc',\n",
       " 'Sc',\n",
       " 'Sc',\n",
       " 'Sc',\n",
       " 'Sc',\n",
       " 'Sc',\n",
       " 'Sc',\n",
       " 'Sc',\n",
       " 'Sc',\n",
       " 'Sc',\n",
       " 'Sc',\n",
       " 'Sc',\n",
       " 'Sc',\n",
       " 'Sc',\n",
       " 'Sc',\n",
       " 'Sc']"
      ]
     },
     "execution_count": 65,
     "metadata": {
      "tags": []
     },
     "output_type": "execute_result"
    }
   ],
   "source": [
    "pred_18"
   ]
  },
  {
   "cell_type": "code",
   "execution_count": null,
   "metadata": {
    "colab": {
     "base_uri": "https://localhost:8080/"
    },
    "id": "g3ty9477Bukp",
    "outputId": "9c9247ec-001e-4ae9-8f8c-421fe8e008b7"
   },
   "outputs": [
    {
     "data": {
      "text/plain": [
       "['RS',\n",
       " 'RS',\n",
       " 'RS',\n",
       " 'RS',\n",
       " 'RS',\n",
       " 'RS',\n",
       " 'RS',\n",
       " 'RS',\n",
       " 'RS',\n",
       " 'RS',\n",
       " 'RS',\n",
       " 'RS',\n",
       " 'RS',\n",
       " 'RS',\n",
       " 'RS',\n",
       " 'RS',\n",
       " 'RS',\n",
       " 'RS',\n",
       " 'RS',\n",
       " 'RS',\n",
       " 'RS',\n",
       " 'RS',\n",
       " 'RS',\n",
       " 'RS',\n",
       " 'RS',\n",
       " 'RS',\n",
       " 'RS',\n",
       " 'RS',\n",
       " 'RS',\n",
       " 'RS',\n",
       " 'RS',\n",
       " 'RS',\n",
       " 'RS',\n",
       " 'RS',\n",
       " 'RS',\n",
       " 'RS',\n",
       " 'RS',\n",
       " 'RS',\n",
       " 'RS',\n",
       " 'RS',\n",
       " 'RS',\n",
       " 'RS',\n",
       " 'RS',\n",
       " 'RS',\n",
       " 'RS',\n",
       " 'RS',\n",
       " 'RS',\n",
       " 'RS',\n",
       " 'RS',\n",
       " 'Pa',\n",
       " 'Pa',\n",
       " 'Pa',\n",
       " 'Pa',\n",
       " 'Pa',\n",
       " 'Pa',\n",
       " 'Pa',\n",
       " 'Pa',\n",
       " 'Pa',\n",
       " 'Pa',\n",
       " 'Pa',\n",
       " 'Pa',\n",
       " 'Pa',\n",
       " 'Pa',\n",
       " 'Pa',\n",
       " 'Pa',\n",
       " 'Pa',\n",
       " 'Pa',\n",
       " 'Pa',\n",
       " 'Pa',\n",
       " 'Pa',\n",
       " 'Pa',\n",
       " 'Pa',\n",
       " 'Pa',\n",
       " 'Pa',\n",
       " 'Pa',\n",
       " 'Pa',\n",
       " 'Pa',\n",
       " 'Pa',\n",
       " 'Pa',\n",
       " 'Pa',\n",
       " 'Pa',\n",
       " 'Pa',\n",
       " 'Pa',\n",
       " 'Pa',\n",
       " 'Pa',\n",
       " 'Pa',\n",
       " 'Pa',\n",
       " 'Pa',\n",
       " 'Pa',\n",
       " 'Pa',\n",
       " 'Pa',\n",
       " 'Pa',\n",
       " 'Pa',\n",
       " 'Pa',\n",
       " 'Pa',\n",
       " 'Pa',\n",
       " 'Pa',\n",
       " 'Pa',\n",
       " 'Pa',\n",
       " 'Pa',\n",
       " 'Pa',\n",
       " 'Pa',\n",
       " 'Pa',\n",
       " 'Pa',\n",
       " 'Pa',\n",
       " 'Pa',\n",
       " 'Pa',\n",
       " 'Pa',\n",
       " 'Pa',\n",
       " 'Pa',\n",
       " 'Pa',\n",
       " 'Pa',\n",
       " 'Pa',\n",
       " 'Cr',\n",
       " 'Cr',\n",
       " 'Cr',\n",
       " 'Cr',\n",
       " 'Cr',\n",
       " 'Cr',\n",
       " 'Cr',\n",
       " 'Cr',\n",
       " 'Cr',\n",
       " 'Cr',\n",
       " 'Cr',\n",
       " 'Cr',\n",
       " 'Cr',\n",
       " 'Cr',\n",
       " 'Cr',\n",
       " 'Cr',\n",
       " 'Cr',\n",
       " 'Cr',\n",
       " 'Cr',\n",
       " 'Cr',\n",
       " 'Cr',\n",
       " 'Cr',\n",
       " 'Cr',\n",
       " 'Cr',\n",
       " 'Cr',\n",
       " 'Cr',\n",
       " 'Cr',\n",
       " 'Cr',\n",
       " 'Cr',\n",
       " 'Cr',\n",
       " 'Cr',\n",
       " 'Cr',\n",
       " 'Cr',\n",
       " 'Cr',\n",
       " 'Cr',\n",
       " 'Cr',\n",
       " 'Cr',\n",
       " 'Cr',\n",
       " 'Cr',\n",
       " 'Cr',\n",
       " 'Cr',\n",
       " 'Cr',\n",
       " 'Cr',\n",
       " 'Cr',\n",
       " 'Cr',\n",
       " 'Cr',\n",
       " 'Cr',\n",
       " 'Cr',\n",
       " 'Cr',\n",
       " 'Cr',\n",
       " 'Cr',\n",
       " 'Cr',\n",
       " 'Cr',\n",
       " 'Cr',\n",
       " 'Cr',\n",
       " 'Cr',\n",
       " 'Cr',\n",
       " 'Cr',\n",
       " 'Cr',\n",
       " 'Cr',\n",
       " 'Cr',\n",
       " 'Cr',\n",
       " 'Cr',\n",
       " 'PS',\n",
       " 'PS',\n",
       " 'PS',\n",
       " 'PS',\n",
       " 'PS',\n",
       " 'PS',\n",
       " 'PS',\n",
       " 'PS',\n",
       " 'PS',\n",
       " 'PS',\n",
       " 'PS',\n",
       " 'PS',\n",
       " 'PS',\n",
       " 'PS',\n",
       " 'PS',\n",
       " 'PS',\n",
       " 'PS',\n",
       " 'PS',\n",
       " 'PS',\n",
       " 'PS',\n",
       " 'PS',\n",
       " 'PS',\n",
       " 'PS',\n",
       " 'PS',\n",
       " 'PS',\n",
       " 'PS',\n",
       " 'PS',\n",
       " 'PS',\n",
       " 'PS',\n",
       " 'PS',\n",
       " 'PS',\n",
       " 'PS',\n",
       " 'PS',\n",
       " 'PS',\n",
       " 'PS',\n",
       " 'PS',\n",
       " 'PS',\n",
       " 'PS',\n",
       " 'PS',\n",
       " 'PS',\n",
       " 'PS',\n",
       " 'PS',\n",
       " 'PS',\n",
       " 'PS',\n",
       " 'PS',\n",
       " 'PS',\n",
       " 'PS',\n",
       " 'PS',\n",
       " 'PS',\n",
       " 'PS',\n",
       " 'PS',\n",
       " 'PS',\n",
       " 'PS',\n",
       " 'PS',\n",
       " 'PS',\n",
       " 'PS',\n",
       " 'PS',\n",
       " 'PS',\n",
       " 'PS',\n",
       " 'PS',\n",
       " 'PS',\n",
       " 'PS',\n",
       " 'PS',\n",
       " 'PS',\n",
       " 'In',\n",
       " 'In',\n",
       " 'In',\n",
       " 'In',\n",
       " 'In',\n",
       " 'In',\n",
       " 'In',\n",
       " 'In',\n",
       " 'In',\n",
       " 'In',\n",
       " 'In',\n",
       " 'In',\n",
       " 'In',\n",
       " 'In',\n",
       " 'In',\n",
       " 'In',\n",
       " 'In',\n",
       " 'In',\n",
       " 'In',\n",
       " 'In',\n",
       " 'In',\n",
       " 'In',\n",
       " 'In',\n",
       " 'In',\n",
       " 'In',\n",
       " 'In',\n",
       " 'In',\n",
       " 'In',\n",
       " 'In',\n",
       " 'In',\n",
       " 'In',\n",
       " 'In',\n",
       " 'In',\n",
       " 'In',\n",
       " 'In',\n",
       " 'In',\n",
       " 'In',\n",
       " 'In',\n",
       " 'In',\n",
       " 'In',\n",
       " 'In',\n",
       " 'In',\n",
       " 'In',\n",
       " 'In',\n",
       " 'In',\n",
       " 'In',\n",
       " 'In',\n",
       " 'In',\n",
       " 'In',\n",
       " 'In',\n",
       " 'In',\n",
       " 'In',\n",
       " 'In',\n",
       " 'In',\n",
       " 'In',\n",
       " 'In',\n",
       " 'In',\n",
       " 'In',\n",
       " 'In',\n",
       " 'In',\n",
       " 'Sc',\n",
       " 'Sc',\n",
       " 'Sc',\n",
       " 'Sc',\n",
       " 'Sc',\n",
       " 'Sc',\n",
       " 'Sc',\n",
       " 'Sc',\n",
       " 'Sc',\n",
       " 'Sc',\n",
       " 'Sc',\n",
       " 'Sc',\n",
       " 'Sc',\n",
       " 'Sc',\n",
       " 'Sc',\n",
       " 'Sc',\n",
       " 'Sc',\n",
       " 'Sc',\n",
       " 'Sc',\n",
       " 'Sc',\n",
       " 'Sc',\n",
       " 'Sc',\n",
       " 'Sc',\n",
       " 'Sc',\n",
       " 'Sc',\n",
       " 'Sc',\n",
       " 'Sc',\n",
       " 'Sc',\n",
       " 'Sc',\n",
       " 'Sc',\n",
       " 'Sc',\n",
       " 'Sc',\n",
       " 'Sc',\n",
       " 'Sc',\n",
       " 'Sc',\n",
       " 'Sc',\n",
       " 'Sc',\n",
       " 'Sc',\n",
       " 'Sc',\n",
       " 'Sc',\n",
       " 'Sc',\n",
       " 'Sc',\n",
       " 'Sc',\n",
       " 'Sc',\n",
       " 'Sc',\n",
       " 'Sc',\n",
       " 'Sc',\n",
       " 'Sc',\n",
       " 'Sc',\n",
       " 'Sc',\n",
       " 'Sc',\n",
       " 'Sc',\n",
       " 'Sc',\n",
       " 'Sc',\n",
       " 'Sc',\n",
       " 'Sc',\n",
       " 'Sc',\n",
       " 'Sc',\n",
       " 'Sc']"
      ]
     },
     "execution_count": 66,
     "metadata": {
      "tags": []
     },
     "output_type": "execute_result"
    }
   ],
   "source": [
    "actual_18"
   ]
  },
  {
   "cell_type": "code",
   "execution_count": null,
   "metadata": {
    "id": "KRqaON7FBuvm"
   },
   "outputs": [],
   "source": [
    "from sklearn.metrics import confusion_matrix, classification_report, accuracy_score\n",
    "\n",
    "Test_Results = {}\n",
    "class_names = ['Cr', 'In', 'Pa', 'PS', 'RS', 'Sc']\n",
    "report=classification_report(actual_18, pred_18, target_names=class_names)\n",
    "Classifiaction_Report=classification_report(actual_18, pred_18, target_names=class_names)\n",
    "Test_Results[\"Classification Report\"]=Classifiaction_Report"
   ]
  },
  {
   "cell_type": "code",
   "execution_count": null,
   "metadata": {
    "colab": {
     "base_uri": "https://localhost:8080/"
    },
    "id": "HVNVAibvBuqA",
    "outputId": "d0841bf4-ff5d-4900-c903-530eb1979747"
   },
   "outputs": [
    {
     "name": "stdout",
     "output_type": "stream",
     "text": [
      "              precision    recall  f1-score   support\n",
      "\n",
      "          Cr       1.00      1.00      1.00        63\n",
      "          In       0.95      0.98      0.97        60\n",
      "          Pa       1.00      0.98      0.99        64\n",
      "          PS       1.00      1.00      1.00        64\n",
      "          RS       1.00      1.00      1.00        49\n",
      "          Sc       0.98      0.97      0.97        59\n",
      "\n",
      "    accuracy                           0.99       359\n",
      "   macro avg       0.99      0.99      0.99       359\n",
      "weighted avg       0.99      0.99      0.99       359\n",
      "\n"
     ]
    }
   ],
   "source": [
    "print(Classifiaction_Report)"
   ]
  },
  {
   "cell_type": "code",
   "execution_count": null,
   "metadata": {
    "colab": {
     "base_uri": "https://localhost:8080/"
    },
    "id": "OEpkz_bXBuiF",
    "outputId": "7c7bd437-5fe9-46f8-8bfb-6123d7e4ee67"
   },
   "outputs": [
    {
     "data": {
      "text/plain": [
       "0.9888579387186629"
      ]
     },
     "execution_count": 71,
     "metadata": {
      "tags": []
     },
     "output_type": "execute_result"
    }
   ],
   "source": [
    "Accuracy_Score=accuracy_score(actual_18, pred_18)\n",
    "Accuracy_Score"
   ]
  },
  {
   "cell_type": "code",
   "execution_count": null,
   "metadata": {
    "colab": {
     "base_uri": "https://localhost:8080/"
    },
    "id": "xwjIWBibBuYZ",
    "outputId": "bdd0b834-a2bb-484a-95f5-339baf093d79"
   },
   "outputs": [
    {
     "name": "stdout",
     "output_type": "stream",
     "text": [
      "10 loops, best of 3: 28.3 ms per loop\n"
     ]
    }
   ],
   "source": [
    "%timeit pred_class,pred_idx,outputs = learn3.predict(img)"
   ]
  },
  {
   "cell_type": "code",
   "execution_count": null,
   "metadata": {
    "id": "8Rxkv03nBuWU"
   },
   "outputs": [],
   "source": []
  },
  {
   "cell_type": "code",
   "execution_count": null,
   "metadata": {
    "id": "xIssB1dYBuLI"
   },
   "outputs": [],
   "source": []
  },
  {
   "cell_type": "markdown",
   "metadata": {
    "id": "cV6NtUz0mZ3q"
   },
   "source": [
    "##Efficientnet\n"
   ]
  },
  {
   "cell_type": "code",
   "execution_count": null,
   "metadata": {
    "colab": {
     "base_uri": "https://localhost:8080/"
    },
    "id": "Zzwv3udvnmxE",
    "outputId": "d25b0cb8-9bb0-4831-ca6d-1d001ceb65ef"
   },
   "outputs": [
    {
     "name": "stdout",
     "output_type": "stream",
     "text": [
      "Collecting efficientnet-pytorch\n",
      "  Downloading https://files.pythonhosted.org/packages/4e/83/f9c5f44060f996279e474185ebcbd8dbd91179593bffb9abe3afa55d085b/efficientnet_pytorch-0.7.0.tar.gz\n",
      "Requirement already satisfied, skipping upgrade: torch in /usr/local/lib/python3.6/dist-packages (from efficientnet-pytorch) (1.7.0+cu101)\n",
      "Requirement already satisfied, skipping upgrade: typing-extensions in /usr/local/lib/python3.6/dist-packages (from torch->efficientnet-pytorch) (3.7.4.3)\n",
      "Requirement already satisfied, skipping upgrade: dataclasses in /usr/local/lib/python3.6/dist-packages (from torch->efficientnet-pytorch) (0.7)\n",
      "Requirement already satisfied, skipping upgrade: future in /usr/local/lib/python3.6/dist-packages (from torch->efficientnet-pytorch) (0.16.0)\n",
      "Requirement already satisfied, skipping upgrade: numpy in /usr/local/lib/python3.6/dist-packages (from torch->efficientnet-pytorch) (1.18.5)\n",
      "Building wheels for collected packages: efficientnet-pytorch\n",
      "  Building wheel for efficientnet-pytorch (setup.py) ... \u001b[?25l\u001b[?25hdone\n",
      "  Created wheel for efficientnet-pytorch: filename=efficientnet_pytorch-0.7.0-cp36-none-any.whl size=16031 sha256=a9bb13f848e53f9f531bef073d3d2a3adfdb3e258b4f5e381c5aaba9e88f4099\n",
      "  Stored in directory: /root/.cache/pip/wheels/e9/c6/e1/7a808b26406239712cfce4b5ceeb67d9513ae32aa4b31445c6\n",
      "Successfully built efficientnet-pytorch\n",
      "Installing collected packages: efficientnet-pytorch\n",
      "Successfully installed efficientnet-pytorch-0.7.0\n"
     ]
    }
   ],
   "source": [
    "! pip install --upgrade efficientnet-pytorch"
   ]
  },
  {
   "cell_type": "code",
   "execution_count": null,
   "metadata": {
    "id": "yuUubAxlmPRy"
   },
   "outputs": [],
   "source": [
    "from efficientnet_pytorch import EfficientNet\n",
    "\n",
    "arch = EfficientNet.from_name('efficientnet-b0')\n",
    "learn4 = Learner(data, arch, metrics=metrics)\n",
    "learn4.loss_func = torch.nn.functional.cross_entropy"
   ]
  },
  {
   "cell_type": "code",
   "execution_count": null,
   "metadata": {
    "colab": {
     "base_uri": "https://localhost:8080/",
     "height": 669
    },
    "id": "FESF99YBncQ3",
    "outputId": "f5f5ea23-0626-42e8-8e3d-3834b3ba1ff1"
   },
   "outputs": [
    {
     "data": {
      "text/html": [
       "<table border=\"1\" class=\"dataframe\">\n",
       "  <thead>\n",
       "    <tr style=\"text-align: left;\">\n",
       "      <th>epoch</th>\n",
       "      <th>train_loss</th>\n",
       "      <th>valid_loss</th>\n",
       "      <th>accuracy</th>\n",
       "      <th>precision</th>\n",
       "      <th>recall</th>\n",
       "      <th>time</th>\n",
       "    </tr>\n",
       "  </thead>\n",
       "  <tbody>\n",
       "    <tr>\n",
       "      <td>0</td>\n",
       "      <td>1.505406</td>\n",
       "      <td>3.334616</td>\n",
       "      <td>0.141204</td>\n",
       "      <td>nan</td>\n",
       "      <td>nan</td>\n",
       "      <td>00:55</td>\n",
       "    </tr>\n",
       "    <tr>\n",
       "      <td>1</td>\n",
       "      <td>1.227077</td>\n",
       "      <td>5.462240</td>\n",
       "      <td>0.331019</td>\n",
       "      <td>nan</td>\n",
       "      <td>nan</td>\n",
       "      <td>00:54</td>\n",
       "    </tr>\n",
       "    <tr>\n",
       "      <td>2</td>\n",
       "      <td>1.246547</td>\n",
       "      <td>124.861458</td>\n",
       "      <td>0.208333</td>\n",
       "      <td>nan</td>\n",
       "      <td>nan</td>\n",
       "      <td>00:54</td>\n",
       "    </tr>\n",
       "    <tr>\n",
       "      <td>3</td>\n",
       "      <td>1.243350</td>\n",
       "      <td>112.918953</td>\n",
       "      <td>0.273148</td>\n",
       "      <td>nan</td>\n",
       "      <td>nan</td>\n",
       "      <td>00:54</td>\n",
       "    </tr>\n",
       "    <tr>\n",
       "      <td>4</td>\n",
       "      <td>1.279597</td>\n",
       "      <td>7.112821</td>\n",
       "      <td>0.361111</td>\n",
       "      <td>nan</td>\n",
       "      <td>nan</td>\n",
       "      <td>00:54</td>\n",
       "    </tr>\n",
       "    <tr>\n",
       "      <td>5</td>\n",
       "      <td>1.066635</td>\n",
       "      <td>0.722921</td>\n",
       "      <td>0.708333</td>\n",
       "      <td>nan</td>\n",
       "      <td>nan</td>\n",
       "      <td>00:54</td>\n",
       "    </tr>\n",
       "    <tr>\n",
       "      <td>6</td>\n",
       "      <td>0.985617</td>\n",
       "      <td>0.562172</td>\n",
       "      <td>0.766204</td>\n",
       "      <td>nan</td>\n",
       "      <td>nan</td>\n",
       "      <td>00:54</td>\n",
       "    </tr>\n",
       "    <tr>\n",
       "      <td>7</td>\n",
       "      <td>0.883532</td>\n",
       "      <td>0.544900</td>\n",
       "      <td>0.819444</td>\n",
       "      <td>nan</td>\n",
       "      <td>nan</td>\n",
       "      <td>00:54</td>\n",
       "    </tr>\n",
       "    <tr>\n",
       "      <td>8</td>\n",
       "      <td>0.703301</td>\n",
       "      <td>0.350920</td>\n",
       "      <td>0.881944</td>\n",
       "      <td>nan</td>\n",
       "      <td>nan</td>\n",
       "      <td>00:55</td>\n",
       "    </tr>\n",
       "    <tr>\n",
       "      <td>9</td>\n",
       "      <td>0.610576</td>\n",
       "      <td>0.226058</td>\n",
       "      <td>0.918981</td>\n",
       "      <td>nan</td>\n",
       "      <td>nan</td>\n",
       "      <td>00:54</td>\n",
       "    </tr>\n",
       "    <tr>\n",
       "      <td>10</td>\n",
       "      <td>0.499427</td>\n",
       "      <td>0.217085</td>\n",
       "      <td>0.942130</td>\n",
       "      <td>nan</td>\n",
       "      <td>nan</td>\n",
       "      <td>00:54</td>\n",
       "    </tr>\n",
       "    <tr>\n",
       "      <td>11</td>\n",
       "      <td>0.487467</td>\n",
       "      <td>0.180706</td>\n",
       "      <td>0.944444</td>\n",
       "      <td>nan</td>\n",
       "      <td>nan</td>\n",
       "      <td>00:54</td>\n",
       "    </tr>\n",
       "    <tr>\n",
       "      <td>12</td>\n",
       "      <td>0.297047</td>\n",
       "      <td>0.092089</td>\n",
       "      <td>0.967593</td>\n",
       "      <td>nan</td>\n",
       "      <td>nan</td>\n",
       "      <td>00:54</td>\n",
       "    </tr>\n",
       "    <tr>\n",
       "      <td>13</td>\n",
       "      <td>0.292344</td>\n",
       "      <td>0.087057</td>\n",
       "      <td>0.981481</td>\n",
       "      <td>nan</td>\n",
       "      <td>nan</td>\n",
       "      <td>00:55</td>\n",
       "    </tr>\n",
       "    <tr>\n",
       "      <td>14</td>\n",
       "      <td>0.292309</td>\n",
       "      <td>0.123386</td>\n",
       "      <td>0.967593</td>\n",
       "      <td>nan</td>\n",
       "      <td>nan</td>\n",
       "      <td>00:55</td>\n",
       "    </tr>\n",
       "    <tr>\n",
       "      <td>15</td>\n",
       "      <td>0.241842</td>\n",
       "      <td>0.112248</td>\n",
       "      <td>0.960648</td>\n",
       "      <td>nan</td>\n",
       "      <td>nan</td>\n",
       "      <td>00:55</td>\n",
       "    </tr>\n",
       "    <tr>\n",
       "      <td>16</td>\n",
       "      <td>0.172299</td>\n",
       "      <td>0.023216</td>\n",
       "      <td>1.000000</td>\n",
       "      <td>nan</td>\n",
       "      <td>nan</td>\n",
       "      <td>00:55</td>\n",
       "    </tr>\n",
       "    <tr>\n",
       "      <td>17</td>\n",
       "      <td>0.146724</td>\n",
       "      <td>0.024075</td>\n",
       "      <td>0.997685</td>\n",
       "      <td>nan</td>\n",
       "      <td>nan</td>\n",
       "      <td>00:55</td>\n",
       "    </tr>\n",
       "    <tr>\n",
       "      <td>18</td>\n",
       "      <td>0.101595</td>\n",
       "      <td>0.020483</td>\n",
       "      <td>0.997685</td>\n",
       "      <td>nan</td>\n",
       "      <td>nan</td>\n",
       "      <td>00:56</td>\n",
       "    </tr>\n",
       "    <tr>\n",
       "      <td>19</td>\n",
       "      <td>0.129765</td>\n",
       "      <td>0.021005</td>\n",
       "      <td>0.997685</td>\n",
       "      <td>nan</td>\n",
       "      <td>nan</td>\n",
       "      <td>00:57</td>\n",
       "    </tr>\n",
       "  </tbody>\n",
       "</table>"
      ],
      "text/plain": [
       "<IPython.core.display.HTML object>"
      ]
     },
     "metadata": {
      "tags": []
     },
     "output_type": "display_data"
    }
   ],
   "source": [
    "learn4.fit_one_cycle(20)"
   ]
  },
  {
   "cell_type": "code",
   "execution_count": null,
   "metadata": {
    "id": "ou3goeven6T6"
   },
   "outputs": [],
   "source": []
  },
  {
   "cell_type": "markdown",
   "metadata": {
    "id": "lGH-h5i3L80S"
   },
   "source": [
    "##Mobilenet Training\n"
   ]
  },
  {
   "cell_type": "code",
   "execution_count": null,
   "metadata": {
    "id": "bKH2E8jZL_hJ"
   },
   "outputs": [],
   "source": [
    "pkl_path = Path(r\"/content/drive/My Drive/IMAGES/train/models\")\n",
    "learn_v2 = load_learner(pkl_path,'mobilenetv2.pkl')"
   ]
  },
  {
   "cell_type": "code",
   "execution_count": null,
   "metadata": {
    "colab": {
     "base_uri": "https://localhost:8080/"
    },
    "id": "M1bef7RvMfks",
    "outputId": "e2b7e500-4f3e-49ca-98af-73be2389a9e7"
   },
   "outputs": [
    {
     "data": {
      "text/plain": [
       "Learner(data=ImageDataBunch;\n",
       "\n",
       "Train: LabelList (0 items)\n",
       "x: ImageList\n",
       "\n",
       "y: CategoryList\n",
       "\n",
       "Path: /content/drive/My Drive/IMAGES/train/models;\n",
       "\n",
       "Valid: LabelList (0 items)\n",
       "x: ImageList\n",
       "\n",
       "y: CategoryList\n",
       "\n",
       "Path: /content/drive/My Drive/IMAGES/train/models;\n",
       "\n",
       "Test: None, model=Sequential(\n",
       "  (0): Sequential(\n",
       "    (0): Sequential(\n",
       "      (0): ConvBNReLU(\n",
       "        (0): Conv2d(3, 32, kernel_size=(3, 3), stride=(2, 2), padding=(1, 1), bias=False)\n",
       "        (1): BatchNorm2d(32, eps=1e-05, momentum=0.1, affine=True, track_running_stats=True)\n",
       "        (2): ReLU6(inplace=True)\n",
       "      )\n",
       "      (1): InvertedResidual(\n",
       "        (conv): Sequential(\n",
       "          (0): ConvBNReLU(\n",
       "            (0): Conv2d(32, 32, kernel_size=(3, 3), stride=(1, 1), padding=(1, 1), groups=32, bias=False)\n",
       "            (1): BatchNorm2d(32, eps=1e-05, momentum=0.1, affine=True, track_running_stats=True)\n",
       "            (2): ReLU6(inplace=True)\n",
       "          )\n",
       "          (1): Conv2d(32, 16, kernel_size=(1, 1), stride=(1, 1), bias=False)\n",
       "          (2): BatchNorm2d(16, eps=1e-05, momentum=0.1, affine=True, track_running_stats=True)\n",
       "        )\n",
       "      )\n",
       "      (2): InvertedResidual(\n",
       "        (conv): Sequential(\n",
       "          (0): ConvBNReLU(\n",
       "            (0): Conv2d(16, 96, kernel_size=(1, 1), stride=(1, 1), bias=False)\n",
       "            (1): BatchNorm2d(96, eps=1e-05, momentum=0.1, affine=True, track_running_stats=True)\n",
       "            (2): ReLU6(inplace=True)\n",
       "          )\n",
       "          (1): ConvBNReLU(\n",
       "            (0): Conv2d(96, 96, kernel_size=(3, 3), stride=(2, 2), padding=(1, 1), groups=96, bias=False)\n",
       "            (1): BatchNorm2d(96, eps=1e-05, momentum=0.1, affine=True, track_running_stats=True)\n",
       "            (2): ReLU6(inplace=True)\n",
       "          )\n",
       "          (2): Conv2d(96, 24, kernel_size=(1, 1), stride=(1, 1), bias=False)\n",
       "          (3): BatchNorm2d(24, eps=1e-05, momentum=0.1, affine=True, track_running_stats=True)\n",
       "        )\n",
       "      )\n",
       "      (3): InvertedResidual(\n",
       "        (conv): Sequential(\n",
       "          (0): ConvBNReLU(\n",
       "            (0): Conv2d(24, 144, kernel_size=(1, 1), stride=(1, 1), bias=False)\n",
       "            (1): BatchNorm2d(144, eps=1e-05, momentum=0.1, affine=True, track_running_stats=True)\n",
       "            (2): ReLU6(inplace=True)\n",
       "          )\n",
       "          (1): ConvBNReLU(\n",
       "            (0): Conv2d(144, 144, kernel_size=(3, 3), stride=(1, 1), padding=(1, 1), groups=144, bias=False)\n",
       "            (1): BatchNorm2d(144, eps=1e-05, momentum=0.1, affine=True, track_running_stats=True)\n",
       "            (2): ReLU6(inplace=True)\n",
       "          )\n",
       "          (2): Conv2d(144, 24, kernel_size=(1, 1), stride=(1, 1), bias=False)\n",
       "          (3): BatchNorm2d(24, eps=1e-05, momentum=0.1, affine=True, track_running_stats=True)\n",
       "        )\n",
       "      )\n",
       "      (4): InvertedResidual(\n",
       "        (conv): Sequential(\n",
       "          (0): ConvBNReLU(\n",
       "            (0): Conv2d(24, 144, kernel_size=(1, 1), stride=(1, 1), bias=False)\n",
       "            (1): BatchNorm2d(144, eps=1e-05, momentum=0.1, affine=True, track_running_stats=True)\n",
       "            (2): ReLU6(inplace=True)\n",
       "          )\n",
       "          (1): ConvBNReLU(\n",
       "            (0): Conv2d(144, 144, kernel_size=(3, 3), stride=(2, 2), padding=(1, 1), groups=144, bias=False)\n",
       "            (1): BatchNorm2d(144, eps=1e-05, momentum=0.1, affine=True, track_running_stats=True)\n",
       "            (2): ReLU6(inplace=True)\n",
       "          )\n",
       "          (2): Conv2d(144, 32, kernel_size=(1, 1), stride=(1, 1), bias=False)\n",
       "          (3): BatchNorm2d(32, eps=1e-05, momentum=0.1, affine=True, track_running_stats=True)\n",
       "        )\n",
       "      )\n",
       "      (5): InvertedResidual(\n",
       "        (conv): Sequential(\n",
       "          (0): ConvBNReLU(\n",
       "            (0): Conv2d(32, 192, kernel_size=(1, 1), stride=(1, 1), bias=False)\n",
       "            (1): BatchNorm2d(192, eps=1e-05, momentum=0.1, affine=True, track_running_stats=True)\n",
       "            (2): ReLU6(inplace=True)\n",
       "          )\n",
       "          (1): ConvBNReLU(\n",
       "            (0): Conv2d(192, 192, kernel_size=(3, 3), stride=(1, 1), padding=(1, 1), groups=192, bias=False)\n",
       "            (1): BatchNorm2d(192, eps=1e-05, momentum=0.1, affine=True, track_running_stats=True)\n",
       "            (2): ReLU6(inplace=True)\n",
       "          )\n",
       "          (2): Conv2d(192, 32, kernel_size=(1, 1), stride=(1, 1), bias=False)\n",
       "          (3): BatchNorm2d(32, eps=1e-05, momentum=0.1, affine=True, track_running_stats=True)\n",
       "        )\n",
       "      )\n",
       "      (6): InvertedResidual(\n",
       "        (conv): Sequential(\n",
       "          (0): ConvBNReLU(\n",
       "            (0): Conv2d(32, 192, kernel_size=(1, 1), stride=(1, 1), bias=False)\n",
       "            (1): BatchNorm2d(192, eps=1e-05, momentum=0.1, affine=True, track_running_stats=True)\n",
       "            (2): ReLU6(inplace=True)\n",
       "          )\n",
       "          (1): ConvBNReLU(\n",
       "            (0): Conv2d(192, 192, kernel_size=(3, 3), stride=(1, 1), padding=(1, 1), groups=192, bias=False)\n",
       "            (1): BatchNorm2d(192, eps=1e-05, momentum=0.1, affine=True, track_running_stats=True)\n",
       "            (2): ReLU6(inplace=True)\n",
       "          )\n",
       "          (2): Conv2d(192, 32, kernel_size=(1, 1), stride=(1, 1), bias=False)\n",
       "          (3): BatchNorm2d(32, eps=1e-05, momentum=0.1, affine=True, track_running_stats=True)\n",
       "        )\n",
       "      )\n",
       "      (7): InvertedResidual(\n",
       "        (conv): Sequential(\n",
       "          (0): ConvBNReLU(\n",
       "            (0): Conv2d(32, 192, kernel_size=(1, 1), stride=(1, 1), bias=False)\n",
       "            (1): BatchNorm2d(192, eps=1e-05, momentum=0.1, affine=True, track_running_stats=True)\n",
       "            (2): ReLU6(inplace=True)\n",
       "          )\n",
       "          (1): ConvBNReLU(\n",
       "            (0): Conv2d(192, 192, kernel_size=(3, 3), stride=(2, 2), padding=(1, 1), groups=192, bias=False)\n",
       "            (1): BatchNorm2d(192, eps=1e-05, momentum=0.1, affine=True, track_running_stats=True)\n",
       "            (2): ReLU6(inplace=True)\n",
       "          )\n",
       "          (2): Conv2d(192, 64, kernel_size=(1, 1), stride=(1, 1), bias=False)\n",
       "          (3): BatchNorm2d(64, eps=1e-05, momentum=0.1, affine=True, track_running_stats=True)\n",
       "        )\n",
       "      )\n",
       "      (8): InvertedResidual(\n",
       "        (conv): Sequential(\n",
       "          (0): ConvBNReLU(\n",
       "            (0): Conv2d(64, 384, kernel_size=(1, 1), stride=(1, 1), bias=False)\n",
       "            (1): BatchNorm2d(384, eps=1e-05, momentum=0.1, affine=True, track_running_stats=True)\n",
       "            (2): ReLU6(inplace=True)\n",
       "          )\n",
       "          (1): ConvBNReLU(\n",
       "            (0): Conv2d(384, 384, kernel_size=(3, 3), stride=(1, 1), padding=(1, 1), groups=384, bias=False)\n",
       "            (1): BatchNorm2d(384, eps=1e-05, momentum=0.1, affine=True, track_running_stats=True)\n",
       "            (2): ReLU6(inplace=True)\n",
       "          )\n",
       "          (2): Conv2d(384, 64, kernel_size=(1, 1), stride=(1, 1), bias=False)\n",
       "          (3): BatchNorm2d(64, eps=1e-05, momentum=0.1, affine=True, track_running_stats=True)\n",
       "        )\n",
       "      )\n",
       "      (9): InvertedResidual(\n",
       "        (conv): Sequential(\n",
       "          (0): ConvBNReLU(\n",
       "            (0): Conv2d(64, 384, kernel_size=(1, 1), stride=(1, 1), bias=False)\n",
       "            (1): BatchNorm2d(384, eps=1e-05, momentum=0.1, affine=True, track_running_stats=True)\n",
       "            (2): ReLU6(inplace=True)\n",
       "          )\n",
       "          (1): ConvBNReLU(\n",
       "            (0): Conv2d(384, 384, kernel_size=(3, 3), stride=(1, 1), padding=(1, 1), groups=384, bias=False)\n",
       "            (1): BatchNorm2d(384, eps=1e-05, momentum=0.1, affine=True, track_running_stats=True)\n",
       "            (2): ReLU6(inplace=True)\n",
       "          )\n",
       "          (2): Conv2d(384, 64, kernel_size=(1, 1), stride=(1, 1), bias=False)\n",
       "          (3): BatchNorm2d(64, eps=1e-05, momentum=0.1, affine=True, track_running_stats=True)\n",
       "        )\n",
       "      )\n",
       "      (10): InvertedResidual(\n",
       "        (conv): Sequential(\n",
       "          (0): ConvBNReLU(\n",
       "            (0): Conv2d(64, 384, kernel_size=(1, 1), stride=(1, 1), bias=False)\n",
       "            (1): BatchNorm2d(384, eps=1e-05, momentum=0.1, affine=True, track_running_stats=True)\n",
       "            (2): ReLU6(inplace=True)\n",
       "          )\n",
       "          (1): ConvBNReLU(\n",
       "            (0): Conv2d(384, 384, kernel_size=(3, 3), stride=(1, 1), padding=(1, 1), groups=384, bias=False)\n",
       "            (1): BatchNorm2d(384, eps=1e-05, momentum=0.1, affine=True, track_running_stats=True)\n",
       "            (2): ReLU6(inplace=True)\n",
       "          )\n",
       "          (2): Conv2d(384, 64, kernel_size=(1, 1), stride=(1, 1), bias=False)\n",
       "          (3): BatchNorm2d(64, eps=1e-05, momentum=0.1, affine=True, track_running_stats=True)\n",
       "        )\n",
       "      )\n",
       "      (11): InvertedResidual(\n",
       "        (conv): Sequential(\n",
       "          (0): ConvBNReLU(\n",
       "            (0): Conv2d(64, 384, kernel_size=(1, 1), stride=(1, 1), bias=False)\n",
       "            (1): BatchNorm2d(384, eps=1e-05, momentum=0.1, affine=True, track_running_stats=True)\n",
       "            (2): ReLU6(inplace=True)\n",
       "          )\n",
       "          (1): ConvBNReLU(\n",
       "            (0): Conv2d(384, 384, kernel_size=(3, 3), stride=(1, 1), padding=(1, 1), groups=384, bias=False)\n",
       "            (1): BatchNorm2d(384, eps=1e-05, momentum=0.1, affine=True, track_running_stats=True)\n",
       "            (2): ReLU6(inplace=True)\n",
       "          )\n",
       "          (2): Conv2d(384, 96, kernel_size=(1, 1), stride=(1, 1), bias=False)\n",
       "          (3): BatchNorm2d(96, eps=1e-05, momentum=0.1, affine=True, track_running_stats=True)\n",
       "        )\n",
       "      )\n",
       "      (12): InvertedResidual(\n",
       "        (conv): Sequential(\n",
       "          (0): ConvBNReLU(\n",
       "            (0): Conv2d(96, 576, kernel_size=(1, 1), stride=(1, 1), bias=False)\n",
       "            (1): BatchNorm2d(576, eps=1e-05, momentum=0.1, affine=True, track_running_stats=True)\n",
       "            (2): ReLU6(inplace=True)\n",
       "          )\n",
       "          (1): ConvBNReLU(\n",
       "            (0): Conv2d(576, 576, kernel_size=(3, 3), stride=(1, 1), padding=(1, 1), groups=576, bias=False)\n",
       "            (1): BatchNorm2d(576, eps=1e-05, momentum=0.1, affine=True, track_running_stats=True)\n",
       "            (2): ReLU6(inplace=True)\n",
       "          )\n",
       "          (2): Conv2d(576, 96, kernel_size=(1, 1), stride=(1, 1), bias=False)\n",
       "          (3): BatchNorm2d(96, eps=1e-05, momentum=0.1, affine=True, track_running_stats=True)\n",
       "        )\n",
       "      )\n",
       "      (13): InvertedResidual(\n",
       "        (conv): Sequential(\n",
       "          (0): ConvBNReLU(\n",
       "            (0): Conv2d(96, 576, kernel_size=(1, 1), stride=(1, 1), bias=False)\n",
       "            (1): BatchNorm2d(576, eps=1e-05, momentum=0.1, affine=True, track_running_stats=True)\n",
       "            (2): ReLU6(inplace=True)\n",
       "          )\n",
       "          (1): ConvBNReLU(\n",
       "            (0): Conv2d(576, 576, kernel_size=(3, 3), stride=(1, 1), padding=(1, 1), groups=576, bias=False)\n",
       "            (1): BatchNorm2d(576, eps=1e-05, momentum=0.1, affine=True, track_running_stats=True)\n",
       "            (2): ReLU6(inplace=True)\n",
       "          )\n",
       "          (2): Conv2d(576, 96, kernel_size=(1, 1), stride=(1, 1), bias=False)\n",
       "          (3): BatchNorm2d(96, eps=1e-05, momentum=0.1, affine=True, track_running_stats=True)\n",
       "        )\n",
       "      )\n",
       "      (14): InvertedResidual(\n",
       "        (conv): Sequential(\n",
       "          (0): ConvBNReLU(\n",
       "            (0): Conv2d(96, 576, kernel_size=(1, 1), stride=(1, 1), bias=False)\n",
       "            (1): BatchNorm2d(576, eps=1e-05, momentum=0.1, affine=True, track_running_stats=True)\n",
       "            (2): ReLU6(inplace=True)\n",
       "          )\n",
       "          (1): ConvBNReLU(\n",
       "            (0): Conv2d(576, 576, kernel_size=(3, 3), stride=(2, 2), padding=(1, 1), groups=576, bias=False)\n",
       "            (1): BatchNorm2d(576, eps=1e-05, momentum=0.1, affine=True, track_running_stats=True)\n",
       "            (2): ReLU6(inplace=True)\n",
       "          )\n",
       "          (2): Conv2d(576, 160, kernel_size=(1, 1), stride=(1, 1), bias=False)\n",
       "          (3): BatchNorm2d(160, eps=1e-05, momentum=0.1, affine=True, track_running_stats=True)\n",
       "        )\n",
       "      )\n",
       "      (15): InvertedResidual(\n",
       "        (conv): Sequential(\n",
       "          (0): ConvBNReLU(\n",
       "            (0): Conv2d(160, 960, kernel_size=(1, 1), stride=(1, 1), bias=False)\n",
       "            (1): BatchNorm2d(960, eps=1e-05, momentum=0.1, affine=True, track_running_stats=True)\n",
       "            (2): ReLU6(inplace=True)\n",
       "          )\n",
       "          (1): ConvBNReLU(\n",
       "            (0): Conv2d(960, 960, kernel_size=(3, 3), stride=(1, 1), padding=(1, 1), groups=960, bias=False)\n",
       "            (1): BatchNorm2d(960, eps=1e-05, momentum=0.1, affine=True, track_running_stats=True)\n",
       "            (2): ReLU6(inplace=True)\n",
       "          )\n",
       "          (2): Conv2d(960, 160, kernel_size=(1, 1), stride=(1, 1), bias=False)\n",
       "          (3): BatchNorm2d(160, eps=1e-05, momentum=0.1, affine=True, track_running_stats=True)\n",
       "        )\n",
       "      )\n",
       "      (16): InvertedResidual(\n",
       "        (conv): Sequential(\n",
       "          (0): ConvBNReLU(\n",
       "            (0): Conv2d(160, 960, kernel_size=(1, 1), stride=(1, 1), bias=False)\n",
       "            (1): BatchNorm2d(960, eps=1e-05, momentum=0.1, affine=True, track_running_stats=True)\n",
       "            (2): ReLU6(inplace=True)\n",
       "          )\n",
       "          (1): ConvBNReLU(\n",
       "            (0): Conv2d(960, 960, kernel_size=(3, 3), stride=(1, 1), padding=(1, 1), groups=960, bias=False)\n",
       "            (1): BatchNorm2d(960, eps=1e-05, momentum=0.1, affine=True, track_running_stats=True)\n",
       "            (2): ReLU6(inplace=True)\n",
       "          )\n",
       "          (2): Conv2d(960, 160, kernel_size=(1, 1), stride=(1, 1), bias=False)\n",
       "          (3): BatchNorm2d(160, eps=1e-05, momentum=0.1, affine=True, track_running_stats=True)\n",
       "        )\n",
       "      )\n",
       "      (17): InvertedResidual(\n",
       "        (conv): Sequential(\n",
       "          (0): ConvBNReLU(\n",
       "            (0): Conv2d(160, 960, kernel_size=(1, 1), stride=(1, 1), bias=False)\n",
       "            (1): BatchNorm2d(960, eps=1e-05, momentum=0.1, affine=True, track_running_stats=True)\n",
       "            (2): ReLU6(inplace=True)\n",
       "          )\n",
       "          (1): ConvBNReLU(\n",
       "            (0): Conv2d(960, 960, kernel_size=(3, 3), stride=(1, 1), padding=(1, 1), groups=960, bias=False)\n",
       "            (1): BatchNorm2d(960, eps=1e-05, momentum=0.1, affine=True, track_running_stats=True)\n",
       "            (2): ReLU6(inplace=True)\n",
       "          )\n",
       "          (2): Conv2d(960, 320, kernel_size=(1, 1), stride=(1, 1), bias=False)\n",
       "          (3): BatchNorm2d(320, eps=1e-05, momentum=0.1, affine=True, track_running_stats=True)\n",
       "        )\n",
       "      )\n",
       "      (18): ConvBNReLU(\n",
       "        (0): Conv2d(320, 1280, kernel_size=(1, 1), stride=(1, 1), bias=False)\n",
       "        (1): BatchNorm2d(1280, eps=1e-05, momentum=0.1, affine=True, track_running_stats=True)\n",
       "        (2): ReLU6(inplace=True)\n",
       "      )\n",
       "    )\n",
       "  )\n",
       "  (1): Sequential(\n",
       "    (0): AdaptiveConcatPool2d(\n",
       "      (ap): AdaptiveAvgPool2d(output_size=1)\n",
       "      (mp): AdaptiveMaxPool2d(output_size=1)\n",
       "    )\n",
       "    (1): Flatten()\n",
       "    (2): BatchNorm1d(2560, eps=1e-05, momentum=0.1, affine=True, track_running_stats=True)\n",
       "    (3): Dropout(p=0.25, inplace=False)\n",
       "    (4): Linear(in_features=2560, out_features=512, bias=True)\n",
       "    (5): ReLU(inplace=True)\n",
       "    (6): BatchNorm1d(512, eps=1e-05, momentum=0.1, affine=True, track_running_stats=True)\n",
       "    (7): Dropout(p=0.5, inplace=False)\n",
       "    (8): Linear(in_features=512, out_features=6, bias=True)\n",
       "  )\n",
       "), opt_func=functools.partial(<class 'torch.optim.adam.Adam'>, betas=(0.9, 0.99)), loss_func=<function cross_entropy at 0x7f1e23c5b0d0>, metrics=[<function accuracy at 0x7f1e1b8c8950>, Precision(average='macro', pos_label=1, eps=1e-09), Recall(average='macro', pos_label=1, eps=1e-09)], true_wd=True, bn_wd=True, wd=0.01, train_bn=True, path=PosixPath('/content/drive/My Drive/IMAGES/train/models'), model_dir='models', callback_fns=[functools.partial(<class 'fastai.basic_train.Recorder'>, add_time=True, silent=False)], callbacks=[EarlyStoppingCallback\n",
       "learn: Learner(data=ImageDataBunch;\n",
       "\n",
       "Train: LabelList (0 items)\n",
       "x: ImageList\n",
       "\n",
       "y: CategoryList\n",
       "\n",
       "Path: /content/drive/My Drive/IMAGES/train/models;\n",
       "\n",
       "Valid: LabelList (0 items)\n",
       "x: ImageList\n",
       "\n",
       "y: CategoryList\n",
       "\n",
       "Path: /content/drive/My Drive/IMAGES/train/models;\n",
       "\n",
       "Test: None, model=Sequential(\n",
       "  (0): Sequential(\n",
       "    (0): Sequential(\n",
       "      (0): ConvBNReLU(\n",
       "        (0): Conv2d(3, 32, kernel_size=(3, 3), stride=(2, 2), padding=(1, 1), bias=False)\n",
       "        (1): BatchNorm2d(32, eps=1e-05, momentum=0.1, affine=True, track_running_stats=True)\n",
       "        (2): ReLU6(inplace=True)\n",
       "      )\n",
       "      (1): InvertedResidual(\n",
       "        (conv): Sequential(\n",
       "          (0): ConvBNReLU(\n",
       "            (0): Conv2d(32, 32, kernel_size=(3, 3), stride=(1, 1), padding=(1, 1), groups=32, bias=False)\n",
       "            (1): BatchNorm2d(32, eps=1e-05, momentum=0.1, affine=True, track_running_stats=True)\n",
       "            (2): ReLU6(inplace=True)\n",
       "          )\n",
       "          (1): Conv2d(32, 16, kernel_size=(1, 1), stride=(1, 1), bias=False)\n",
       "          (2): BatchNorm2d(16, eps=1e-05, momentum=0.1, affine=True, track_running_stats=True)\n",
       "        )\n",
       "      )\n",
       "      (2): InvertedResidual(\n",
       "        (conv): Sequential(\n",
       "          (0): ConvBNReLU(\n",
       "            (0): Conv2d(16, 96, kernel_size=(1, 1), stride=(1, 1), bias=False)\n",
       "            (1): BatchNorm2d(96, eps=1e-05, momentum=0.1, affine=True, track_running_stats=True)\n",
       "            (2): ReLU6(inplace=True)\n",
       "          )\n",
       "          (1): ConvBNReLU(\n",
       "            (0): Conv2d(96, 96, kernel_size=(3, 3), stride=(2, 2), padding=(1, 1), groups=96, bias=False)\n",
       "            (1): BatchNorm2d(96, eps=1e-05, momentum=0.1, affine=True, track_running_stats=True)\n",
       "            (2): ReLU6(inplace=True)\n",
       "          )\n",
       "          (2): Conv2d(96, 24, kernel_size=(1, 1), stride=(1, 1), bias=False)\n",
       "          (3): BatchNorm2d(24, eps=1e-05, momentum=0.1, affine=True, track_running_stats=True)\n",
       "        )\n",
       "      )\n",
       "      (3): InvertedResidual(\n",
       "        (conv): Sequential(\n",
       "          (0): ConvBNReLU(\n",
       "            (0): Conv2d(24, 144, kernel_size=(1, 1), stride=(1, 1), bias=False)\n",
       "            (1): BatchNorm2d(144, eps=1e-05, momentum=0.1, affine=True, track_running_stats=True)\n",
       "            (2): ReLU6(inplace=True)\n",
       "          )\n",
       "          (1): ConvBNReLU(\n",
       "            (0): Conv2d(144, 144, kernel_size=(3, 3), stride=(1, 1), padding=(1, 1), groups=144, bias=False)\n",
       "            (1): BatchNorm2d(144, eps=1e-05, momentum=0.1, affine=True, track_running_stats=True)\n",
       "            (2): ReLU6(inplace=True)\n",
       "          )\n",
       "          (2): Conv2d(144, 24, kernel_size=(1, 1), stride=(1, 1), bias=False)\n",
       "          (3): BatchNorm2d(24, eps=1e-05, momentum=0.1, affine=True, track_running_stats=True)\n",
       "        )\n",
       "      )\n",
       "      (4): InvertedResidual(\n",
       "        (conv): Sequential(\n",
       "          (0): ConvBNReLU(\n",
       "            (0): Conv2d(24, 144, kernel_size=(1, 1), stride=(1, 1), bias=False)\n",
       "            (1): BatchNorm2d(144, eps=1e-05, momentum=0.1, affine=True, track_running_stats=True)\n",
       "            (2): ReLU6(inplace=True)\n",
       "          )\n",
       "          (1): ConvBNReLU(\n",
       "            (0): Conv2d(144, 144, kernel_size=(3, 3), stride=(2, 2), padding=(1, 1), groups=144, bias=False)\n",
       "            (1): BatchNorm2d(144, eps=1e-05, momentum=0.1, affine=True, track_running_stats=True)\n",
       "            (2): ReLU6(inplace=True)\n",
       "          )\n",
       "          (2): Conv2d(144, 32, kernel_size=(1, 1), stride=(1, 1), bias=False)\n",
       "          (3): BatchNorm2d(32, eps=1e-05, momentum=0.1, affine=True, track_running_stats=True)\n",
       "        )\n",
       "      )\n",
       "      (5): InvertedResidual(\n",
       "        (conv): Sequential(\n",
       "          (0): ConvBNReLU(\n",
       "            (0): Conv2d(32, 192, kernel_size=(1, 1), stride=(1, 1), bias=False)\n",
       "            (1): BatchNorm2d(192, eps=1e-05, momentum=0.1, affine=True, track_running_stats=True)\n",
       "            (2): ReLU6(inplace=True)\n",
       "          )\n",
       "          (1): ConvBNReLU(\n",
       "            (0): Conv2d(192, 192, kernel_size=(3, 3), stride=(1, 1), padding=(1, 1), groups=192, bias=False)\n",
       "            (1): BatchNorm2d(192, eps=1e-05, momentum=0.1, affine=True, track_running_stats=True)\n",
       "            (2): ReLU6(inplace=True)\n",
       "          )\n",
       "          (2): Conv2d(192, 32, kernel_size=(1, 1), stride=(1, 1), bias=False)\n",
       "          (3): BatchNorm2d(32, eps=1e-05, momentum=0.1, affine=True, track_running_stats=True)\n",
       "        )\n",
       "      )\n",
       "      (6): InvertedResidual(\n",
       "        (conv): Sequential(\n",
       "          (0): ConvBNReLU(\n",
       "            (0): Conv2d(32, 192, kernel_size=(1, 1), stride=(1, 1), bias=False)\n",
       "            (1): BatchNorm2d(192, eps=1e-05, momentum=0.1, affine=True, track_running_stats=True)\n",
       "            (2): ReLU6(inplace=True)\n",
       "          )\n",
       "          (1): ConvBNReLU(\n",
       "            (0): Conv2d(192, 192, kernel_size=(3, 3), stride=(1, 1), padding=(1, 1), groups=192, bias=False)\n",
       "            (1): BatchNorm2d(192, eps=1e-05, momentum=0.1, affine=True, track_running_stats=True)\n",
       "            (2): ReLU6(inplace=True)\n",
       "          )\n",
       "          (2): Conv2d(192, 32, kernel_size=(1, 1), stride=(1, 1), bias=False)\n",
       "          (3): BatchNorm2d(32, eps=1e-05, momentum=0.1, affine=True, track_running_stats=True)\n",
       "        )\n",
       "      )\n",
       "      (7): InvertedResidual(\n",
       "        (conv): Sequential(\n",
       "          (0): ConvBNReLU(\n",
       "            (0): Conv2d(32, 192, kernel_size=(1, 1), stride=(1, 1), bias=False)\n",
       "            (1): BatchNorm2d(192, eps=1e-05, momentum=0.1, affine=True, track_running_stats=True)\n",
       "            (2): ReLU6(inplace=True)\n",
       "          )\n",
       "          (1): ConvBNReLU(\n",
       "            (0): Conv2d(192, 192, kernel_size=(3, 3), stride=(2, 2), padding=(1, 1), groups=192, bias=False)\n",
       "            (1): BatchNorm2d(192, eps=1e-05, momentum=0.1, affine=True, track_running_stats=True)\n",
       "            (2): ReLU6(inplace=True)\n",
       "          )\n",
       "          (2): Conv2d(192, 64, kernel_size=(1, 1), stride=(1, 1), bias=False)\n",
       "          (3): BatchNorm2d(64, eps=1e-05, momentum=0.1, affine=True, track_running_stats=True)\n",
       "        )\n",
       "      )\n",
       "      (8): InvertedResidual(\n",
       "        (conv): Sequential(\n",
       "          (0): ConvBNReLU(\n",
       "            (0): Conv2d(64, 384, kernel_size=(1, 1), stride=(1, 1), bias=False)\n",
       "            (1): BatchNorm2d(384, eps=1e-05, momentum=0.1, affine=True, track_running_stats=True)\n",
       "            (2): ReLU6(inplace=True)\n",
       "          )\n",
       "          (1): ConvBNReLU(\n",
       "            (0): Conv2d(384, 384, kernel_size=(3, 3), stride=(1, 1), padding=(1, 1), groups=384, bias=False)\n",
       "            (1): BatchNorm2d(384, eps=1e-05, momentum=0.1, affine=True, track_running_stats=True)\n",
       "            (2): ReLU6(inplace=True)\n",
       "          )\n",
       "          (2): Conv2d(384, 64, kernel_size=(1, 1), stride=(1, 1), bias=False)\n",
       "          (3): BatchNorm2d(64, eps=1e-05, momentum=0.1, affine=True, track_running_stats=True)\n",
       "        )\n",
       "      )\n",
       "      (9): InvertedResidual(\n",
       "        (conv): Sequential(\n",
       "          (0): ConvBNReLU(\n",
       "            (0): Conv2d(64, 384, kernel_size=(1, 1), stride=(1, 1), bias=False)\n",
       "            (1): BatchNorm2d(384, eps=1e-05, momentum=0.1, affine=True, track_running_stats=True)\n",
       "            (2): ReLU6(inplace=True)\n",
       "          )\n",
       "          (1): ConvBNReLU(\n",
       "            (0): Conv2d(384, 384, kernel_size=(3, 3), stride=(1, 1), padding=(1, 1), groups=384, bias=False)\n",
       "            (1): BatchNorm2d(384, eps=1e-05, momentum=0.1, affine=True, track_running_stats=True)\n",
       "            (2): ReLU6(inplace=True)\n",
       "          )\n",
       "          (2): Conv2d(384, 64, kernel_size=(1, 1), stride=(1, 1), bias=False)\n",
       "          (3): BatchNorm2d(64, eps=1e-05, momentum=0.1, affine=True, track_running_stats=True)\n",
       "        )\n",
       "      )\n",
       "      (10): InvertedResidual(\n",
       "        (conv): Sequential(\n",
       "          (0): ConvBNReLU(\n",
       "            (0): Conv2d(64, 384, kernel_size=(1, 1), stride=(1, 1), bias=False)\n",
       "            (1): BatchNorm2d(384, eps=1e-05, momentum=0.1, affine=True, track_running_stats=True)\n",
       "            (2): ReLU6(inplace=True)\n",
       "          )\n",
       "          (1): ConvBNReLU(\n",
       "            (0): Conv2d(384, 384, kernel_size=(3, 3), stride=(1, 1), padding=(1, 1), groups=384, bias=False)\n",
       "            (1): BatchNorm2d(384, eps=1e-05, momentum=0.1, affine=True, track_running_stats=True)\n",
       "            (2): ReLU6(inplace=True)\n",
       "          )\n",
       "          (2): Conv2d(384, 64, kernel_size=(1, 1), stride=(1, 1), bias=False)\n",
       "          (3): BatchNorm2d(64, eps=1e-05, momentum=0.1, affine=True, track_running_stats=True)\n",
       "        )\n",
       "      )\n",
       "      (11): InvertedResidual(\n",
       "        (conv): Sequential(\n",
       "          (0): ConvBNReLU(\n",
       "            (0): Conv2d(64, 384, kernel_size=(1, 1), stride=(1, 1), bias=False)\n",
       "            (1): BatchNorm2d(384, eps=1e-05, momentum=0.1, affine=True, track_running_stats=True)\n",
       "            (2): ReLU6(inplace=True)\n",
       "          )\n",
       "          (1): ConvBNReLU(\n",
       "            (0): Conv2d(384, 384, kernel_size=(3, 3), stride=(1, 1), padding=(1, 1), groups=384, bias=False)\n",
       "            (1): BatchNorm2d(384, eps=1e-05, momentum=0.1, affine=True, track_running_stats=True)\n",
       "            (2): ReLU6(inplace=True)\n",
       "          )\n",
       "          (2): Conv2d(384, 96, kernel_size=(1, 1), stride=(1, 1), bias=False)\n",
       "          (3): BatchNorm2d(96, eps=1e-05, momentum=0.1, affine=True, track_running_stats=True)\n",
       "        )\n",
       "      )\n",
       "      (12): InvertedResidual(\n",
       "        (conv): Sequential(\n",
       "          (0): ConvBNReLU(\n",
       "            (0): Conv2d(96, 576, kernel_size=(1, 1), stride=(1, 1), bias=False)\n",
       "            (1): BatchNorm2d(576, eps=1e-05, momentum=0.1, affine=True, track_running_stats=True)\n",
       "            (2): ReLU6(inplace=True)\n",
       "          )\n",
       "          (1): ConvBNReLU(\n",
       "            (0): Conv2d(576, 576, kernel_size=(3, 3), stride=(1, 1), padding=(1, 1), groups=576, bias=False)\n",
       "            (1): BatchNorm2d(576, eps=1e-05, momentum=0.1, affine=True, track_running_stats=True)\n",
       "            (2): ReLU6(inplace=True)\n",
       "          )\n",
       "          (2): Conv2d(576, 96, kernel_size=(1, 1), stride=(1, 1), bias=False)\n",
       "          (3): BatchNorm2d(96, eps=1e-05, momentum=0.1, affine=True, track_running_stats=True)\n",
       "        )\n",
       "      )\n",
       "      (13): InvertedResidual(\n",
       "        (conv): Sequential(\n",
       "          (0): ConvBNReLU(\n",
       "            (0): Conv2d(96, 576, kernel_size=(1, 1), stride=(1, 1), bias=False)\n",
       "            (1): BatchNorm2d(576, eps=1e-05, momentum=0.1, affine=True, track_running_stats=True)\n",
       "            (2): ReLU6(inplace=True)\n",
       "          )\n",
       "          (1): ConvBNReLU(\n",
       "            (0): Conv2d(576, 576, kernel_size=(3, 3), stride=(1, 1), padding=(1, 1), groups=576, bias=False)\n",
       "            (1): BatchNorm2d(576, eps=1e-05, momentum=0.1, affine=True, track_running_stats=True)\n",
       "            (2): ReLU6(inplace=True)\n",
       "          )\n",
       "          (2): Conv2d(576, 96, kernel_size=(1, 1), stride=(1, 1), bias=False)\n",
       "          (3): BatchNorm2d(96, eps=1e-05, momentum=0.1, affine=True, track_running_stats=True)\n",
       "        )\n",
       "      )\n",
       "      (14): InvertedResidual(\n",
       "        (conv): Sequential(\n",
       "          (0): ConvBNReLU(\n",
       "            (0): Conv2d(96, 576, kernel_size=(1, 1), stride=(1, 1), bias=False)\n",
       "            (1): BatchNorm2d(576, eps=1e-05, momentum=0.1, affine=True, track_running_stats=True)\n",
       "            (2): ReLU6(inplace=True)\n",
       "          )\n",
       "          (1): ConvBNReLU(\n",
       "            (0): Conv2d(576, 576, kernel_size=(3, 3), stride=(2, 2), padding=(1, 1), groups=576, bias=False)\n",
       "            (1): BatchNorm2d(576, eps=1e-05, momentum=0.1, affine=True, track_running_stats=True)\n",
       "            (2): ReLU6(inplace=True)\n",
       "          )\n",
       "          (2): Conv2d(576, 160, kernel_size=(1, 1), stride=(1, 1), bias=False)\n",
       "          (3): BatchNorm2d(160, eps=1e-05, momentum=0.1, affine=True, track_running_stats=True)\n",
       "        )\n",
       "      )\n",
       "      (15): InvertedResidual(\n",
       "        (conv): Sequential(\n",
       "          (0): ConvBNReLU(\n",
       "            (0): Conv2d(160, 960, kernel_size=(1, 1), stride=(1, 1), bias=False)\n",
       "            (1): BatchNorm2d(960, eps=1e-05, momentum=0.1, affine=True, track_running_stats=True)\n",
       "            (2): ReLU6(inplace=True)\n",
       "          )\n",
       "          (1): ConvBNReLU(\n",
       "            (0): Conv2d(960, 960, kernel_size=(3, 3), stride=(1, 1), padding=(1, 1), groups=960, bias=False)\n",
       "            (1): BatchNorm2d(960, eps=1e-05, momentum=0.1, affine=True, track_running_stats=True)\n",
       "            (2): ReLU6(inplace=True)\n",
       "          )\n",
       "          (2): Conv2d(960, 160, kernel_size=(1, 1), stride=(1, 1), bias=False)\n",
       "          (3): BatchNorm2d(160, eps=1e-05, momentum=0.1, affine=True, track_running_stats=True)\n",
       "        )\n",
       "      )\n",
       "      (16): InvertedResidual(\n",
       "        (conv): Sequential(\n",
       "          (0): ConvBNReLU(\n",
       "            (0): Conv2d(160, 960, kernel_size=(1, 1), stride=(1, 1), bias=False)\n",
       "            (1): BatchNorm2d(960, eps=1e-05, momentum=0.1, affine=True, track_running_stats=True)\n",
       "            (2): ReLU6(inplace=True)\n",
       "          )\n",
       "          (1): ConvBNReLU(\n",
       "            (0): Conv2d(960, 960, kernel_size=(3, 3), stride=(1, 1), padding=(1, 1), groups=960, bias=False)\n",
       "            (1): BatchNorm2d(960, eps=1e-05, momentum=0.1, affine=True, track_running_stats=True)\n",
       "            (2): ReLU6(inplace=True)\n",
       "          )\n",
       "          (2): Conv2d(960, 160, kernel_size=(1, 1), stride=(1, 1), bias=False)\n",
       "          (3): BatchNorm2d(160, eps=1e-05, momentum=0.1, affine=True, track_running_stats=True)\n",
       "        )\n",
       "      )\n",
       "      (17): InvertedResidual(\n",
       "        (conv): Sequential(\n",
       "          (0): ConvBNReLU(\n",
       "            (0): Conv2d(160, 960, kernel_size=(1, 1), stride=(1, 1), bias=False)\n",
       "            (1): BatchNorm2d(960, eps=1e-05, momentum=0.1, affine=True, track_running_stats=True)\n",
       "            (2): ReLU6(inplace=True)\n",
       "          )\n",
       "          (1): ConvBNReLU(\n",
       "            (0): Conv2d(960, 960, kernel_size=(3, 3), stride=(1, 1), padding=(1, 1), groups=960, bias=False)\n",
       "            (1): BatchNorm2d(960, eps=1e-05, momentum=0.1, affine=True, track_running_stats=True)\n",
       "            (2): ReLU6(inplace=True)\n",
       "          )\n",
       "          (2): Conv2d(960, 320, kernel_size=(1, 1), stride=(1, 1), bias=False)\n",
       "          (3): BatchNorm2d(320, eps=1e-05, momentum=0.1, affine=True, track_running_stats=True)\n",
       "        )\n",
       "      )\n",
       "      (18): ConvBNReLU(\n",
       "        (0): Conv2d(320, 1280, kernel_size=(1, 1), stride=(1, 1), bias=False)\n",
       "        (1): BatchNorm2d(1280, eps=1e-05, momentum=0.1, affine=True, track_running_stats=True)\n",
       "        (2): ReLU6(inplace=True)\n",
       "      )\n",
       "    )\n",
       "  )\n",
       "  (1): Sequential(\n",
       "    (0): AdaptiveConcatPool2d(\n",
       "      (ap): AdaptiveAvgPool2d(output_size=1)\n",
       "      (mp): AdaptiveMaxPool2d(output_size=1)\n",
       "    )\n",
       "    (1): Flatten()\n",
       "    (2): BatchNorm1d(2560, eps=1e-05, momentum=0.1, affine=True, track_running_stats=True)\n",
       "    (3): Dropout(p=0.25, inplace=False)\n",
       "    (4): Linear(in_features=2560, out_features=512, bias=True)\n",
       "    (5): ReLU(inplace=True)\n",
       "    (6): BatchNorm1d(512, eps=1e-05, momentum=0.1, affine=True, track_running_stats=True)\n",
       "    (7): Dropout(p=0.5, inplace=False)\n",
       "    (8): Linear(in_features=512, out_features=6, bias=True)\n",
       "  )\n",
       "), opt_func=functools.partial(<class 'torch.optim.adam.Adam'>, betas=(0.9, 0.99)), loss_func=<function cross_entropy at 0x7f1e23c5b0d0>, metrics=[<function accuracy at 0x7f1e1b8c8950>, Precision(average='macro', pos_label=1, eps=1e-09), Recall(average='macro', pos_label=1, eps=1e-09)], true_wd=True, bn_wd=True, wd=0.01, train_bn=True, path=PosixPath('/content/drive/My Drive/IMAGES/train/models'), model_dir='models', callback_fns=[functools.partial(<class 'fastai.basic_train.Recorder'>, add_time=True, silent=False)], callbacks=[...], layer_groups=[Sequential(\n",
       "  (0): Conv2d(3, 32, kernel_size=(3, 3), stride=(2, 2), padding=(1, 1), bias=False)\n",
       "  (1): BatchNorm2d(32, eps=1e-05, momentum=0.1, affine=True, track_running_stats=True)\n",
       "  (2): ReLU6(inplace=True)\n",
       "  (3): Conv2d(32, 32, kernel_size=(3, 3), stride=(1, 1), padding=(1, 1), groups=32, bias=False)\n",
       "  (4): BatchNorm2d(32, eps=1e-05, momentum=0.1, affine=True, track_running_stats=True)\n",
       "  (5): ReLU6(inplace=True)\n",
       "  (6): Conv2d(32, 16, kernel_size=(1, 1), stride=(1, 1), bias=False)\n",
       "  (7): BatchNorm2d(16, eps=1e-05, momentum=0.1, affine=True, track_running_stats=True)\n",
       "  (8): Conv2d(16, 96, kernel_size=(1, 1), stride=(1, 1), bias=False)\n",
       "  (9): BatchNorm2d(96, eps=1e-05, momentum=0.1, affine=True, track_running_stats=True)\n",
       "  (10): ReLU6(inplace=True)\n",
       "  (11): Conv2d(96, 96, kernel_size=(3, 3), stride=(2, 2), padding=(1, 1), groups=96, bias=False)\n",
       "  (12): BatchNorm2d(96, eps=1e-05, momentum=0.1, affine=True, track_running_stats=True)\n",
       "  (13): ReLU6(inplace=True)\n",
       "  (14): Conv2d(96, 24, kernel_size=(1, 1), stride=(1, 1), bias=False)\n",
       "  (15): BatchNorm2d(24, eps=1e-05, momentum=0.1, affine=True, track_running_stats=True)\n",
       "  (16): Conv2d(24, 144, kernel_size=(1, 1), stride=(1, 1), bias=False)\n",
       "  (17): BatchNorm2d(144, eps=1e-05, momentum=0.1, affine=True, track_running_stats=True)\n",
       "  (18): ReLU6(inplace=True)\n",
       "  (19): Conv2d(144, 144, kernel_size=(3, 3), stride=(1, 1), padding=(1, 1), groups=144, bias=False)\n",
       "  (20): BatchNorm2d(144, eps=1e-05, momentum=0.1, affine=True, track_running_stats=True)\n",
       "  (21): ReLU6(inplace=True)\n",
       "  (22): Conv2d(144, 24, kernel_size=(1, 1), stride=(1, 1), bias=False)\n",
       "  (23): BatchNorm2d(24, eps=1e-05, momentum=0.1, affine=True, track_running_stats=True)\n",
       "  (24): Conv2d(24, 144, kernel_size=(1, 1), stride=(1, 1), bias=False)\n",
       "  (25): BatchNorm2d(144, eps=1e-05, momentum=0.1, affine=True, track_running_stats=True)\n",
       "  (26): ReLU6(inplace=True)\n",
       "  (27): Conv2d(144, 144, kernel_size=(3, 3), stride=(2, 2), padding=(1, 1), groups=144, bias=False)\n",
       "  (28): BatchNorm2d(144, eps=1e-05, momentum=0.1, affine=True, track_running_stats=True)\n",
       "  (29): ReLU6(inplace=True)\n",
       "  (30): Conv2d(144, 32, kernel_size=(1, 1), stride=(1, 1), bias=False)\n",
       "  (31): BatchNorm2d(32, eps=1e-05, momentum=0.1, affine=True, track_running_stats=True)\n",
       "  (32): Conv2d(32, 192, kernel_size=(1, 1), stride=(1, 1), bias=False)\n",
       "  (33): BatchNorm2d(192, eps=1e-05, momentum=0.1, affine=True, track_running_stats=True)\n",
       "  (34): ReLU6(inplace=True)\n",
       "  (35): Conv2d(192, 192, kernel_size=(3, 3), stride=(1, 1), padding=(1, 1), groups=192, bias=False)\n",
       "  (36): BatchNorm2d(192, eps=1e-05, momentum=0.1, affine=True, track_running_stats=True)\n",
       "  (37): ReLU6(inplace=True)\n",
       "  (38): Conv2d(192, 32, kernel_size=(1, 1), stride=(1, 1), bias=False)\n",
       "  (39): BatchNorm2d(32, eps=1e-05, momentum=0.1, affine=True, track_running_stats=True)\n",
       "  (40): Conv2d(32, 192, kernel_size=(1, 1), stride=(1, 1), bias=False)\n",
       "  (41): BatchNorm2d(192, eps=1e-05, momentum=0.1, affine=True, track_running_stats=True)\n",
       "  (42): ReLU6(inplace=True)\n",
       "  (43): Conv2d(192, 192, kernel_size=(3, 3), stride=(1, 1), padding=(1, 1), groups=192, bias=False)\n",
       "  (44): BatchNorm2d(192, eps=1e-05, momentum=0.1, affine=True, track_running_stats=True)\n",
       "  (45): ReLU6(inplace=True)\n",
       "  (46): Conv2d(192, 32, kernel_size=(1, 1), stride=(1, 1), bias=False)\n",
       "  (47): BatchNorm2d(32, eps=1e-05, momentum=0.1, affine=True, track_running_stats=True)\n",
       "  (48): Conv2d(32, 192, kernel_size=(1, 1), stride=(1, 1), bias=False)\n",
       "  (49): BatchNorm2d(192, eps=1e-05, momentum=0.1, affine=True, track_running_stats=True)\n",
       "  (50): ReLU6(inplace=True)\n",
       "  (51): Conv2d(192, 192, kernel_size=(3, 3), stride=(2, 2), padding=(1, 1), groups=192, bias=False)\n",
       "  (52): BatchNorm2d(192, eps=1e-05, momentum=0.1, affine=True, track_running_stats=True)\n",
       "  (53): ReLU6(inplace=True)\n",
       "  (54): Conv2d(192, 64, kernel_size=(1, 1), stride=(1, 1), bias=False)\n",
       "  (55): BatchNorm2d(64, eps=1e-05, momentum=0.1, affine=True, track_running_stats=True)\n",
       "  (56): Conv2d(64, 384, kernel_size=(1, 1), stride=(1, 1), bias=False)\n",
       "  (57): BatchNorm2d(384, eps=1e-05, momentum=0.1, affine=True, track_running_stats=True)\n",
       "  (58): ReLU6(inplace=True)\n",
       "  (59): Conv2d(384, 384, kernel_size=(3, 3), stride=(1, 1), padding=(1, 1), groups=384, bias=False)\n",
       "  (60): BatchNorm2d(384, eps=1e-05, momentum=0.1, affine=True, track_running_stats=True)\n",
       "  (61): ReLU6(inplace=True)\n",
       "  (62): Conv2d(384, 64, kernel_size=(1, 1), stride=(1, 1), bias=False)\n",
       "  (63): BatchNorm2d(64, eps=1e-05, momentum=0.1, affine=True, track_running_stats=True)\n",
       "  (64): Conv2d(64, 384, kernel_size=(1, 1), stride=(1, 1), bias=False)\n",
       "  (65): BatchNorm2d(384, eps=1e-05, momentum=0.1, affine=True, track_running_stats=True)\n",
       "  (66): ReLU6(inplace=True)\n",
       "  (67): Conv2d(384, 384, kernel_size=(3, 3), stride=(1, 1), padding=(1, 1), groups=384, bias=False)\n",
       "  (68): BatchNorm2d(384, eps=1e-05, momentum=0.1, affine=True, track_running_stats=True)\n",
       "  (69): ReLU6(inplace=True)\n",
       "  (70): Conv2d(384, 64, kernel_size=(1, 1), stride=(1, 1), bias=False)\n",
       "  (71): BatchNorm2d(64, eps=1e-05, momentum=0.1, affine=True, track_running_stats=True)\n",
       "  (72): Conv2d(64, 384, kernel_size=(1, 1), stride=(1, 1), bias=False)\n",
       "  (73): BatchNorm2d(384, eps=1e-05, momentum=0.1, affine=True, track_running_stats=True)\n",
       "  (74): ReLU6(inplace=True)\n",
       "  (75): Conv2d(384, 384, kernel_size=(3, 3), stride=(1, 1), padding=(1, 1), groups=384, bias=False)\n",
       "  (76): BatchNorm2d(384, eps=1e-05, momentum=0.1, affine=True, track_running_stats=True)\n",
       "  (77): ReLU6(inplace=True)\n",
       "  (78): Conv2d(384, 64, kernel_size=(1, 1), stride=(1, 1), bias=False)\n",
       "  (79): BatchNorm2d(64, eps=1e-05, momentum=0.1, affine=True, track_running_stats=True)\n",
       "  (80): Conv2d(64, 384, kernel_size=(1, 1), stride=(1, 1), bias=False)\n",
       "  (81): BatchNorm2d(384, eps=1e-05, momentum=0.1, affine=True, track_running_stats=True)\n",
       "  (82): ReLU6(inplace=True)\n",
       "  (83): Conv2d(384, 384, kernel_size=(3, 3), stride=(1, 1), padding=(1, 1), groups=384, bias=False)\n",
       "  (84): BatchNorm2d(384, eps=1e-05, momentum=0.1, affine=True, track_running_stats=True)\n",
       "  (85): ReLU6(inplace=True)\n",
       "  (86): Conv2d(384, 96, kernel_size=(1, 1), stride=(1, 1), bias=False)\n",
       "  (87): BatchNorm2d(96, eps=1e-05, momentum=0.1, affine=True, track_running_stats=True)\n",
       "  (88): Conv2d(96, 576, kernel_size=(1, 1), stride=(1, 1), bias=False)\n",
       "  (89): BatchNorm2d(576, eps=1e-05, momentum=0.1, affine=True, track_running_stats=True)\n",
       "  (90): ReLU6(inplace=True)\n",
       "  (91): Conv2d(576, 576, kernel_size=(3, 3), stride=(1, 1), padding=(1, 1), groups=576, bias=False)\n",
       "  (92): BatchNorm2d(576, eps=1e-05, momentum=0.1, affine=True, track_running_stats=True)\n",
       "  (93): ReLU6(inplace=True)\n",
       "  (94): Conv2d(576, 96, kernel_size=(1, 1), stride=(1, 1), bias=False)\n",
       "  (95): BatchNorm2d(96, eps=1e-05, momentum=0.1, affine=True, track_running_stats=True)\n",
       "  (96): Conv2d(96, 576, kernel_size=(1, 1), stride=(1, 1), bias=False)\n",
       "  (97): BatchNorm2d(576, eps=1e-05, momentum=0.1, affine=True, track_running_stats=True)\n",
       "  (98): ReLU6(inplace=True)\n",
       "  (99): Conv2d(576, 576, kernel_size=(3, 3), stride=(1, 1), padding=(1, 1), groups=576, bias=False)\n",
       "  (100): BatchNorm2d(576, eps=1e-05, momentum=0.1, affine=True, track_running_stats=True)\n",
       "  (101): ReLU6(inplace=True)\n",
       "  (102): Conv2d(576, 96, kernel_size=(1, 1), stride=(1, 1), bias=False)\n",
       "  (103): BatchNorm2d(96, eps=1e-05, momentum=0.1, affine=True, track_running_stats=True)\n",
       "  (104): Conv2d(96, 576, kernel_size=(1, 1), stride=(1, 1), bias=False)\n",
       "  (105): BatchNorm2d(576, eps=1e-05, momentum=0.1, affine=True, track_running_stats=True)\n",
       "  (106): ReLU6(inplace=True)\n",
       "  (107): Conv2d(576, 576, kernel_size=(3, 3), stride=(2, 2), padding=(1, 1), groups=576, bias=False)\n",
       "  (108): BatchNorm2d(576, eps=1e-05, momentum=0.1, affine=True, track_running_stats=True)\n",
       "  (109): ReLU6(inplace=True)\n",
       "  (110): Conv2d(576, 160, kernel_size=(1, 1), stride=(1, 1), bias=False)\n",
       "  (111): BatchNorm2d(160, eps=1e-05, momentum=0.1, affine=True, track_running_stats=True)\n",
       "  (112): Conv2d(160, 960, kernel_size=(1, 1), stride=(1, 1), bias=False)\n",
       "  (113): BatchNorm2d(960, eps=1e-05, momentum=0.1, affine=True, track_running_stats=True)\n",
       "  (114): ReLU6(inplace=True)\n",
       "  (115): Conv2d(960, 960, kernel_size=(3, 3), stride=(1, 1), padding=(1, 1), groups=960, bias=False)\n",
       "  (116): BatchNorm2d(960, eps=1e-05, momentum=0.1, affine=True, track_running_stats=True)\n",
       "  (117): ReLU6(inplace=True)\n",
       "  (118): Conv2d(960, 160, kernel_size=(1, 1), stride=(1, 1), bias=False)\n",
       "  (119): BatchNorm2d(160, eps=1e-05, momentum=0.1, affine=True, track_running_stats=True)\n",
       "  (120): Conv2d(160, 960, kernel_size=(1, 1), stride=(1, 1), bias=False)\n",
       "  (121): BatchNorm2d(960, eps=1e-05, momentum=0.1, affine=True, track_running_stats=True)\n",
       "  (122): ReLU6(inplace=True)\n",
       "  (123): Conv2d(960, 960, kernel_size=(3, 3), stride=(1, 1), padding=(1, 1), groups=960, bias=False)\n",
       "  (124): BatchNorm2d(960, eps=1e-05, momentum=0.1, affine=True, track_running_stats=True)\n",
       "  (125): ReLU6(inplace=True)\n",
       "  (126): Conv2d(960, 160, kernel_size=(1, 1), stride=(1, 1), bias=False)\n",
       "  (127): BatchNorm2d(160, eps=1e-05, momentum=0.1, affine=True, track_running_stats=True)\n",
       "  (128): Conv2d(160, 960, kernel_size=(1, 1), stride=(1, 1), bias=False)\n",
       "  (129): BatchNorm2d(960, eps=1e-05, momentum=0.1, affine=True, track_running_stats=True)\n",
       "  (130): ReLU6(inplace=True)\n",
       "  (131): Conv2d(960, 960, kernel_size=(3, 3), stride=(1, 1), padding=(1, 1), groups=960, bias=False)\n",
       "  (132): BatchNorm2d(960, eps=1e-05, momentum=0.1, affine=True, track_running_stats=True)\n",
       "  (133): ReLU6(inplace=True)\n",
       "  (134): Conv2d(960, 320, kernel_size=(1, 1), stride=(1, 1), bias=False)\n",
       "  (135): BatchNorm2d(320, eps=1e-05, momentum=0.1, affine=True, track_running_stats=True)\n",
       "  (136): Conv2d(320, 1280, kernel_size=(1, 1), stride=(1, 1), bias=False)\n",
       "  (137): BatchNorm2d(1280, eps=1e-05, momentum=0.1, affine=True, track_running_stats=True)\n",
       "  (138): ReLU6(inplace=True)\n",
       "  (139): AdaptiveAvgPool2d(output_size=1)\n",
       "  (140): AdaptiveMaxPool2d(output_size=1)\n",
       "  (141): Flatten()\n",
       "  (142): BatchNorm1d(2560, eps=1e-05, momentum=0.1, affine=True, track_running_stats=True)\n",
       "  (143): Dropout(p=0.25, inplace=False)\n",
       "  (144): Linear(in_features=2560, out_features=512, bias=True)\n",
       "  (145): ReLU(inplace=True)\n",
       "  (146): BatchNorm1d(512, eps=1e-05, momentum=0.1, affine=True, track_running_stats=True)\n",
       "  (147): Dropout(p=0.5, inplace=False)\n",
       "  (148): Linear(in_features=512, out_features=6, bias=True)\n",
       ")], add_time=True, silent=False)\n",
       "monitor: accuracy\n",
       "mode: auto\n",
       "min_delta: 0.01\n",
       "patience: 3], layer_groups=[Sequential(\n",
       "  (0): Conv2d(3, 32, kernel_size=(3, 3), stride=(2, 2), padding=(1, 1), bias=False)\n",
       "  (1): BatchNorm2d(32, eps=1e-05, momentum=0.1, affine=True, track_running_stats=True)\n",
       "  (2): ReLU6(inplace=True)\n",
       "  (3): Conv2d(32, 32, kernel_size=(3, 3), stride=(1, 1), padding=(1, 1), groups=32, bias=False)\n",
       "  (4): BatchNorm2d(32, eps=1e-05, momentum=0.1, affine=True, track_running_stats=True)\n",
       "  (5): ReLU6(inplace=True)\n",
       "  (6): Conv2d(32, 16, kernel_size=(1, 1), stride=(1, 1), bias=False)\n",
       "  (7): BatchNorm2d(16, eps=1e-05, momentum=0.1, affine=True, track_running_stats=True)\n",
       "  (8): Conv2d(16, 96, kernel_size=(1, 1), stride=(1, 1), bias=False)\n",
       "  (9): BatchNorm2d(96, eps=1e-05, momentum=0.1, affine=True, track_running_stats=True)\n",
       "  (10): ReLU6(inplace=True)\n",
       "  (11): Conv2d(96, 96, kernel_size=(3, 3), stride=(2, 2), padding=(1, 1), groups=96, bias=False)\n",
       "  (12): BatchNorm2d(96, eps=1e-05, momentum=0.1, affine=True, track_running_stats=True)\n",
       "  (13): ReLU6(inplace=True)\n",
       "  (14): Conv2d(96, 24, kernel_size=(1, 1), stride=(1, 1), bias=False)\n",
       "  (15): BatchNorm2d(24, eps=1e-05, momentum=0.1, affine=True, track_running_stats=True)\n",
       "  (16): Conv2d(24, 144, kernel_size=(1, 1), stride=(1, 1), bias=False)\n",
       "  (17): BatchNorm2d(144, eps=1e-05, momentum=0.1, affine=True, track_running_stats=True)\n",
       "  (18): ReLU6(inplace=True)\n",
       "  (19): Conv2d(144, 144, kernel_size=(3, 3), stride=(1, 1), padding=(1, 1), groups=144, bias=False)\n",
       "  (20): BatchNorm2d(144, eps=1e-05, momentum=0.1, affine=True, track_running_stats=True)\n",
       "  (21): ReLU6(inplace=True)\n",
       "  (22): Conv2d(144, 24, kernel_size=(1, 1), stride=(1, 1), bias=False)\n",
       "  (23): BatchNorm2d(24, eps=1e-05, momentum=0.1, affine=True, track_running_stats=True)\n",
       "  (24): Conv2d(24, 144, kernel_size=(1, 1), stride=(1, 1), bias=False)\n",
       "  (25): BatchNorm2d(144, eps=1e-05, momentum=0.1, affine=True, track_running_stats=True)\n",
       "  (26): ReLU6(inplace=True)\n",
       "  (27): Conv2d(144, 144, kernel_size=(3, 3), stride=(2, 2), padding=(1, 1), groups=144, bias=False)\n",
       "  (28): BatchNorm2d(144, eps=1e-05, momentum=0.1, affine=True, track_running_stats=True)\n",
       "  (29): ReLU6(inplace=True)\n",
       "  (30): Conv2d(144, 32, kernel_size=(1, 1), stride=(1, 1), bias=False)\n",
       "  (31): BatchNorm2d(32, eps=1e-05, momentum=0.1, affine=True, track_running_stats=True)\n",
       "  (32): Conv2d(32, 192, kernel_size=(1, 1), stride=(1, 1), bias=False)\n",
       "  (33): BatchNorm2d(192, eps=1e-05, momentum=0.1, affine=True, track_running_stats=True)\n",
       "  (34): ReLU6(inplace=True)\n",
       "  (35): Conv2d(192, 192, kernel_size=(3, 3), stride=(1, 1), padding=(1, 1), groups=192, bias=False)\n",
       "  (36): BatchNorm2d(192, eps=1e-05, momentum=0.1, affine=True, track_running_stats=True)\n",
       "  (37): ReLU6(inplace=True)\n",
       "  (38): Conv2d(192, 32, kernel_size=(1, 1), stride=(1, 1), bias=False)\n",
       "  (39): BatchNorm2d(32, eps=1e-05, momentum=0.1, affine=True, track_running_stats=True)\n",
       "  (40): Conv2d(32, 192, kernel_size=(1, 1), stride=(1, 1), bias=False)\n",
       "  (41): BatchNorm2d(192, eps=1e-05, momentum=0.1, affine=True, track_running_stats=True)\n",
       "  (42): ReLU6(inplace=True)\n",
       "  (43): Conv2d(192, 192, kernel_size=(3, 3), stride=(1, 1), padding=(1, 1), groups=192, bias=False)\n",
       "  (44): BatchNorm2d(192, eps=1e-05, momentum=0.1, affine=True, track_running_stats=True)\n",
       "  (45): ReLU6(inplace=True)\n",
       "  (46): Conv2d(192, 32, kernel_size=(1, 1), stride=(1, 1), bias=False)\n",
       "  (47): BatchNorm2d(32, eps=1e-05, momentum=0.1, affine=True, track_running_stats=True)\n",
       "  (48): Conv2d(32, 192, kernel_size=(1, 1), stride=(1, 1), bias=False)\n",
       "  (49): BatchNorm2d(192, eps=1e-05, momentum=0.1, affine=True, track_running_stats=True)\n",
       "  (50): ReLU6(inplace=True)\n",
       "  (51): Conv2d(192, 192, kernel_size=(3, 3), stride=(2, 2), padding=(1, 1), groups=192, bias=False)\n",
       "  (52): BatchNorm2d(192, eps=1e-05, momentum=0.1, affine=True, track_running_stats=True)\n",
       "  (53): ReLU6(inplace=True)\n",
       "  (54): Conv2d(192, 64, kernel_size=(1, 1), stride=(1, 1), bias=False)\n",
       "  (55): BatchNorm2d(64, eps=1e-05, momentum=0.1, affine=True, track_running_stats=True)\n",
       "  (56): Conv2d(64, 384, kernel_size=(1, 1), stride=(1, 1), bias=False)\n",
       "  (57): BatchNorm2d(384, eps=1e-05, momentum=0.1, affine=True, track_running_stats=True)\n",
       "  (58): ReLU6(inplace=True)\n",
       "  (59): Conv2d(384, 384, kernel_size=(3, 3), stride=(1, 1), padding=(1, 1), groups=384, bias=False)\n",
       "  (60): BatchNorm2d(384, eps=1e-05, momentum=0.1, affine=True, track_running_stats=True)\n",
       "  (61): ReLU6(inplace=True)\n",
       "  (62): Conv2d(384, 64, kernel_size=(1, 1), stride=(1, 1), bias=False)\n",
       "  (63): BatchNorm2d(64, eps=1e-05, momentum=0.1, affine=True, track_running_stats=True)\n",
       "  (64): Conv2d(64, 384, kernel_size=(1, 1), stride=(1, 1), bias=False)\n",
       "  (65): BatchNorm2d(384, eps=1e-05, momentum=0.1, affine=True, track_running_stats=True)\n",
       "  (66): ReLU6(inplace=True)\n",
       "  (67): Conv2d(384, 384, kernel_size=(3, 3), stride=(1, 1), padding=(1, 1), groups=384, bias=False)\n",
       "  (68): BatchNorm2d(384, eps=1e-05, momentum=0.1, affine=True, track_running_stats=True)\n",
       "  (69): ReLU6(inplace=True)\n",
       "  (70): Conv2d(384, 64, kernel_size=(1, 1), stride=(1, 1), bias=False)\n",
       "  (71): BatchNorm2d(64, eps=1e-05, momentum=0.1, affine=True, track_running_stats=True)\n",
       "  (72): Conv2d(64, 384, kernel_size=(1, 1), stride=(1, 1), bias=False)\n",
       "  (73): BatchNorm2d(384, eps=1e-05, momentum=0.1, affine=True, track_running_stats=True)\n",
       "  (74): ReLU6(inplace=True)\n",
       "  (75): Conv2d(384, 384, kernel_size=(3, 3), stride=(1, 1), padding=(1, 1), groups=384, bias=False)\n",
       "  (76): BatchNorm2d(384, eps=1e-05, momentum=0.1, affine=True, track_running_stats=True)\n",
       "  (77): ReLU6(inplace=True)\n",
       "  (78): Conv2d(384, 64, kernel_size=(1, 1), stride=(1, 1), bias=False)\n",
       "  (79): BatchNorm2d(64, eps=1e-05, momentum=0.1, affine=True, track_running_stats=True)\n",
       "  (80): Conv2d(64, 384, kernel_size=(1, 1), stride=(1, 1), bias=False)\n",
       "  (81): BatchNorm2d(384, eps=1e-05, momentum=0.1, affine=True, track_running_stats=True)\n",
       "  (82): ReLU6(inplace=True)\n",
       "  (83): Conv2d(384, 384, kernel_size=(3, 3), stride=(1, 1), padding=(1, 1), groups=384, bias=False)\n",
       "  (84): BatchNorm2d(384, eps=1e-05, momentum=0.1, affine=True, track_running_stats=True)\n",
       "  (85): ReLU6(inplace=True)\n",
       "  (86): Conv2d(384, 96, kernel_size=(1, 1), stride=(1, 1), bias=False)\n",
       "  (87): BatchNorm2d(96, eps=1e-05, momentum=0.1, affine=True, track_running_stats=True)\n",
       "  (88): Conv2d(96, 576, kernel_size=(1, 1), stride=(1, 1), bias=False)\n",
       "  (89): BatchNorm2d(576, eps=1e-05, momentum=0.1, affine=True, track_running_stats=True)\n",
       "  (90): ReLU6(inplace=True)\n",
       "  (91): Conv2d(576, 576, kernel_size=(3, 3), stride=(1, 1), padding=(1, 1), groups=576, bias=False)\n",
       "  (92): BatchNorm2d(576, eps=1e-05, momentum=0.1, affine=True, track_running_stats=True)\n",
       "  (93): ReLU6(inplace=True)\n",
       "  (94): Conv2d(576, 96, kernel_size=(1, 1), stride=(1, 1), bias=False)\n",
       "  (95): BatchNorm2d(96, eps=1e-05, momentum=0.1, affine=True, track_running_stats=True)\n",
       "  (96): Conv2d(96, 576, kernel_size=(1, 1), stride=(1, 1), bias=False)\n",
       "  (97): BatchNorm2d(576, eps=1e-05, momentum=0.1, affine=True, track_running_stats=True)\n",
       "  (98): ReLU6(inplace=True)\n",
       "  (99): Conv2d(576, 576, kernel_size=(3, 3), stride=(1, 1), padding=(1, 1), groups=576, bias=False)\n",
       "  (100): BatchNorm2d(576, eps=1e-05, momentum=0.1, affine=True, track_running_stats=True)\n",
       "  (101): ReLU6(inplace=True)\n",
       "  (102): Conv2d(576, 96, kernel_size=(1, 1), stride=(1, 1), bias=False)\n",
       "  (103): BatchNorm2d(96, eps=1e-05, momentum=0.1, affine=True, track_running_stats=True)\n",
       "  (104): Conv2d(96, 576, kernel_size=(1, 1), stride=(1, 1), bias=False)\n",
       "  (105): BatchNorm2d(576, eps=1e-05, momentum=0.1, affine=True, track_running_stats=True)\n",
       "  (106): ReLU6(inplace=True)\n",
       "  (107): Conv2d(576, 576, kernel_size=(3, 3), stride=(2, 2), padding=(1, 1), groups=576, bias=False)\n",
       "  (108): BatchNorm2d(576, eps=1e-05, momentum=0.1, affine=True, track_running_stats=True)\n",
       "  (109): ReLU6(inplace=True)\n",
       "  (110): Conv2d(576, 160, kernel_size=(1, 1), stride=(1, 1), bias=False)\n",
       "  (111): BatchNorm2d(160, eps=1e-05, momentum=0.1, affine=True, track_running_stats=True)\n",
       "  (112): Conv2d(160, 960, kernel_size=(1, 1), stride=(1, 1), bias=False)\n",
       "  (113): BatchNorm2d(960, eps=1e-05, momentum=0.1, affine=True, track_running_stats=True)\n",
       "  (114): ReLU6(inplace=True)\n",
       "  (115): Conv2d(960, 960, kernel_size=(3, 3), stride=(1, 1), padding=(1, 1), groups=960, bias=False)\n",
       "  (116): BatchNorm2d(960, eps=1e-05, momentum=0.1, affine=True, track_running_stats=True)\n",
       "  (117): ReLU6(inplace=True)\n",
       "  (118): Conv2d(960, 160, kernel_size=(1, 1), stride=(1, 1), bias=False)\n",
       "  (119): BatchNorm2d(160, eps=1e-05, momentum=0.1, affine=True, track_running_stats=True)\n",
       "  (120): Conv2d(160, 960, kernel_size=(1, 1), stride=(1, 1), bias=False)\n",
       "  (121): BatchNorm2d(960, eps=1e-05, momentum=0.1, affine=True, track_running_stats=True)\n",
       "  (122): ReLU6(inplace=True)\n",
       "  (123): Conv2d(960, 960, kernel_size=(3, 3), stride=(1, 1), padding=(1, 1), groups=960, bias=False)\n",
       "  (124): BatchNorm2d(960, eps=1e-05, momentum=0.1, affine=True, track_running_stats=True)\n",
       "  (125): ReLU6(inplace=True)\n",
       "  (126): Conv2d(960, 160, kernel_size=(1, 1), stride=(1, 1), bias=False)\n",
       "  (127): BatchNorm2d(160, eps=1e-05, momentum=0.1, affine=True, track_running_stats=True)\n",
       "  (128): Conv2d(160, 960, kernel_size=(1, 1), stride=(1, 1), bias=False)\n",
       "  (129): BatchNorm2d(960, eps=1e-05, momentum=0.1, affine=True, track_running_stats=True)\n",
       "  (130): ReLU6(inplace=True)\n",
       "  (131): Conv2d(960, 960, kernel_size=(3, 3), stride=(1, 1), padding=(1, 1), groups=960, bias=False)\n",
       "  (132): BatchNorm2d(960, eps=1e-05, momentum=0.1, affine=True, track_running_stats=True)\n",
       "  (133): ReLU6(inplace=True)\n",
       "  (134): Conv2d(960, 320, kernel_size=(1, 1), stride=(1, 1), bias=False)\n",
       "  (135): BatchNorm2d(320, eps=1e-05, momentum=0.1, affine=True, track_running_stats=True)\n",
       "  (136): Conv2d(320, 1280, kernel_size=(1, 1), stride=(1, 1), bias=False)\n",
       "  (137): BatchNorm2d(1280, eps=1e-05, momentum=0.1, affine=True, track_running_stats=True)\n",
       "  (138): ReLU6(inplace=True)\n",
       "  (139): AdaptiveAvgPool2d(output_size=1)\n",
       "  (140): AdaptiveMaxPool2d(output_size=1)\n",
       "  (141): Flatten()\n",
       "  (142): BatchNorm1d(2560, eps=1e-05, momentum=0.1, affine=True, track_running_stats=True)\n",
       "  (143): Dropout(p=0.25, inplace=False)\n",
       "  (144): Linear(in_features=2560, out_features=512, bias=True)\n",
       "  (145): ReLU(inplace=True)\n",
       "  (146): BatchNorm1d(512, eps=1e-05, momentum=0.1, affine=True, track_running_stats=True)\n",
       "  (147): Dropout(p=0.5, inplace=False)\n",
       "  (148): Linear(in_features=512, out_features=6, bias=True)\n",
       ")], add_time=True, silent=False)"
      ]
     },
     "execution_count": 16,
     "metadata": {
      "tags": []
     },
     "output_type": "execute_result"
    }
   ],
   "source": [
    "learn_v2"
   ]
  },
  {
   "cell_type": "code",
   "execution_count": null,
   "metadata": {
    "id": "1l_T0nVrNyDJ"
   },
   "outputs": [],
   "source": [
    "test_directory = r'/content/drive/My Drive/IMAGES/test'\n",
    "images = []\n",
    "\n",
    "for r, d, f in os.walk(test_directory):\n",
    "    for file in f:\n",
    "        #if file.endswith(\".docx\"):\n",
    "        images.append(os.path.join(r, file))\n"
   ]
  },
  {
   "cell_type": "code",
   "execution_count": null,
   "metadata": {
    "id": "yf_bhjf-MomZ"
   },
   "outputs": [],
   "source": [
    "from fastai.vision import image\n",
    "#pred_18 = []\n",
    "\n",
    "for i in images:\n",
    "    #img = image.open_image(test_directory+i)   # NameError: name 'image' is not defined  if image is not imported\n",
    "    img = image.open_image(i)\n",
    "    #pred_class,pred_idx,outputs = learn3.predict(img)\n",
    "    #pred_18.append(str(pred_class))"
   ]
  },
  {
   "cell_type": "code",
   "execution_count": null,
   "metadata": {
    "colab": {
     "base_uri": "https://localhost:8080/"
    },
    "id": "yMKeSQiGM-0N",
    "outputId": "92391a45-92d1-4f9b-b397-e547558a7a8d"
   },
   "outputs": [
    {
     "name": "stdout",
     "output_type": "stream",
     "text": [
      "The slowest run took 9.13 times longer than the fastest. This could mean that an intermediate result is being cached.\n",
      "1 loop, best of 3: 29.5 ms per loop\n"
     ]
    }
   ],
   "source": [
    "%timeit pred_class,pred_idx,outputs = learn_v2.predict(img)"
   ]
  },
  {
   "cell_type": "code",
   "execution_count": null,
   "metadata": {
    "id": "UDNMstnAOsUm"
   },
   "outputs": [],
   "source": []
  }
 ],
 "metadata": {
  "accelerator": "GPU",
  "colab": {
   "collapsed_sections": [
    "LYEiLo-zRqQm",
    "OgpfymplHWsr"
   ],
   "name": "NEU_FastAi_multiclass_diff_architectures.ipynb",
   "provenance": []
  },
  "kernelspec": {
   "display_name": "Python 3",
   "language": "python",
   "name": "python3"
  },
  "language_info": {
   "codemirror_mode": {
    "name": "ipython",
    "version": 3
   },
   "file_extension": ".py",
   "mimetype": "text/x-python",
   "name": "python",
   "nbconvert_exporter": "python",
   "pygments_lexer": "ipython3",
   "version": "3.7.6"
  },
  "widgets": {
   "application/vnd.jupyter.widget-state+json": {
    "131c44974c0f4ba493734f7aafecf6ce": {
     "model_module": "@jupyter-widgets/base",
     "model_name": "LayoutModel",
     "state": {
      "_model_module": "@jupyter-widgets/base",
      "_model_module_version": "1.2.0",
      "_model_name": "LayoutModel",
      "_view_count": null,
      "_view_module": "@jupyter-widgets/base",
      "_view_module_version": "1.2.0",
      "_view_name": "LayoutView",
      "align_content": null,
      "align_items": null,
      "align_self": null,
      "border": null,
      "bottom": null,
      "display": null,
      "flex": null,
      "flex_flow": null,
      "grid_area": null,
      "grid_auto_columns": null,
      "grid_auto_flow": null,
      "grid_auto_rows": null,
      "grid_column": null,
      "grid_gap": null,
      "grid_row": null,
      "grid_template_areas": null,
      "grid_template_columns": null,
      "grid_template_rows": null,
      "height": null,
      "justify_content": null,
      "justify_items": null,
      "left": null,
      "margin": null,
      "max_height": null,
      "max_width": null,
      "min_height": null,
      "min_width": null,
      "object_fit": null,
      "object_position": null,
      "order": null,
      "overflow": null,
      "overflow_x": null,
      "overflow_y": null,
      "padding": null,
      "right": null,
      "top": null,
      "visibility": null,
      "width": null
     }
    },
    "2832693b305847f69a5991d8294f9c6b": {
     "model_module": "@jupyter-widgets/controls",
     "model_name": "HTMLModel",
     "state": {
      "_dom_classes": [],
      "_model_module": "@jupyter-widgets/controls",
      "_model_module_version": "1.5.0",
      "_model_name": "HTMLModel",
      "_view_count": null,
      "_view_module": "@jupyter-widgets/controls",
      "_view_module_version": "1.5.0",
      "_view_name": "HTMLView",
      "description": "",
      "description_tooltip": null,
      "layout": "IPY_MODEL_8a8dabd4130e4d318586b02c467ed979",
      "placeholder": "â€‹",
      "style": "IPY_MODEL_b1d2380a239445f5afc4042450d7fb81",
      "value": " 83.3M/83.3M [00:00&lt;00:00, 146MB/s]"
     }
    },
    "3a111a9318b247c5907594915be8f480": {
     "model_module": "@jupyter-widgets/controls",
     "model_name": "FloatProgressModel",
     "state": {
      "_dom_classes": [],
      "_model_module": "@jupyter-widgets/controls",
      "_model_module_version": "1.5.0",
      "_model_name": "FloatProgressModel",
      "_view_count": null,
      "_view_module": "@jupyter-widgets/controls",
      "_view_module_version": "1.5.0",
      "_view_name": "ProgressView",
      "bar_style": "success",
      "description": "100%",
      "description_tooltip": null,
      "layout": "IPY_MODEL_131c44974c0f4ba493734f7aafecf6ce",
      "max": 46827520,
      "min": 0,
      "orientation": "horizontal",
      "style": "IPY_MODEL_f9252f1e0d7346e2b8d049583aa81be5",
      "value": 46827520
     }
    },
    "4b1c13e5e13a41cbac6b398b88477cbf": {
     "model_module": "@jupyter-widgets/controls",
     "model_name": "HBoxModel",
     "state": {
      "_dom_classes": [],
      "_model_module": "@jupyter-widgets/controls",
      "_model_module_version": "1.5.0",
      "_model_name": "HBoxModel",
      "_view_count": null,
      "_view_module": "@jupyter-widgets/controls",
      "_view_module_version": "1.5.0",
      "_view_name": "HBoxView",
      "box_style": "",
      "children": [
       "IPY_MODEL_a14d40da4f4b44c38f495ee123dadb7b",
       "IPY_MODEL_2832693b305847f69a5991d8294f9c6b"
      ],
      "layout": "IPY_MODEL_6b5f876ba47341e88daab27f19225529"
     }
    },
    "6b5f876ba47341e88daab27f19225529": {
     "model_module": "@jupyter-widgets/base",
     "model_name": "LayoutModel",
     "state": {
      "_model_module": "@jupyter-widgets/base",
      "_model_module_version": "1.2.0",
      "_model_name": "LayoutModel",
      "_view_count": null,
      "_view_module": "@jupyter-widgets/base",
      "_view_module_version": "1.2.0",
      "_view_name": "LayoutView",
      "align_content": null,
      "align_items": null,
      "align_self": null,
      "border": null,
      "bottom": null,
      "display": null,
      "flex": null,
      "flex_flow": null,
      "grid_area": null,
      "grid_auto_columns": null,
      "grid_auto_flow": null,
      "grid_auto_rows": null,
      "grid_column": null,
      "grid_gap": null,
      "grid_row": null,
      "grid_template_areas": null,
      "grid_template_columns": null,
      "grid_template_rows": null,
      "height": null,
      "justify_content": null,
      "justify_items": null,
      "left": null,
      "margin": null,
      "max_height": null,
      "max_width": null,
      "min_height": null,
      "min_width": null,
      "object_fit": null,
      "object_position": null,
      "order": null,
      "overflow": null,
      "overflow_x": null,
      "overflow_y": null,
      "padding": null,
      "right": null,
      "top": null,
      "visibility": null,
      "width": null
     }
    },
    "8a20c434c3e944b686f24fcaded0bede": {
     "model_module": "@jupyter-widgets/base",
     "model_name": "LayoutModel",
     "state": {
      "_model_module": "@jupyter-widgets/base",
      "_model_module_version": "1.2.0",
      "_model_name": "LayoutModel",
      "_view_count": null,
      "_view_module": "@jupyter-widgets/base",
      "_view_module_version": "1.2.0",
      "_view_name": "LayoutView",
      "align_content": null,
      "align_items": null,
      "align_self": null,
      "border": null,
      "bottom": null,
      "display": null,
      "flex": null,
      "flex_flow": null,
      "grid_area": null,
      "grid_auto_columns": null,
      "grid_auto_flow": null,
      "grid_auto_rows": null,
      "grid_column": null,
      "grid_gap": null,
      "grid_row": null,
      "grid_template_areas": null,
      "grid_template_columns": null,
      "grid_template_rows": null,
      "height": null,
      "justify_content": null,
      "justify_items": null,
      "left": null,
      "margin": null,
      "max_height": null,
      "max_width": null,
      "min_height": null,
      "min_width": null,
      "object_fit": null,
      "object_position": null,
      "order": null,
      "overflow": null,
      "overflow_x": null,
      "overflow_y": null,
      "padding": null,
      "right": null,
      "top": null,
      "visibility": null,
      "width": null
     }
    },
    "8a8dabd4130e4d318586b02c467ed979": {
     "model_module": "@jupyter-widgets/base",
     "model_name": "LayoutModel",
     "state": {
      "_model_module": "@jupyter-widgets/base",
      "_model_module_version": "1.2.0",
      "_model_name": "LayoutModel",
      "_view_count": null,
      "_view_module": "@jupyter-widgets/base",
      "_view_module_version": "1.2.0",
      "_view_name": "LayoutView",
      "align_content": null,
      "align_items": null,
      "align_self": null,
      "border": null,
      "bottom": null,
      "display": null,
      "flex": null,
      "flex_flow": null,
      "grid_area": null,
      "grid_auto_columns": null,
      "grid_auto_flow": null,
      "grid_auto_rows": null,
      "grid_column": null,
      "grid_gap": null,
      "grid_row": null,
      "grid_template_areas": null,
      "grid_template_columns": null,
      "grid_template_rows": null,
      "height": null,
      "justify_content": null,
      "justify_items": null,
      "left": null,
      "margin": null,
      "max_height": null,
      "max_width": null,
      "min_height": null,
      "min_width": null,
      "object_fit": null,
      "object_position": null,
      "order": null,
      "overflow": null,
      "overflow_x": null,
      "overflow_y": null,
      "padding": null,
      "right": null,
      "top": null,
      "visibility": null,
      "width": null
     }
    },
    "8f034c9333b8490aa12443939cb2fccc": {
     "model_module": "@jupyter-widgets/controls",
     "model_name": "ProgressStyleModel",
     "state": {
      "_model_module": "@jupyter-widgets/controls",
      "_model_module_version": "1.5.0",
      "_model_name": "ProgressStyleModel",
      "_view_count": null,
      "_view_module": "@jupyter-widgets/base",
      "_view_module_version": "1.2.0",
      "_view_name": "StyleView",
      "bar_color": null,
      "description_width": "initial"
     }
    },
    "a14d40da4f4b44c38f495ee123dadb7b": {
     "model_module": "@jupyter-widgets/controls",
     "model_name": "FloatProgressModel",
     "state": {
      "_dom_classes": [],
      "_model_module": "@jupyter-widgets/controls",
      "_model_module_version": "1.5.0",
      "_model_name": "FloatProgressModel",
      "_view_count": null,
      "_view_module": "@jupyter-widgets/controls",
      "_view_module_version": "1.5.0",
      "_view_name": "ProgressView",
      "bar_style": "success",
      "description": "100%",
      "description_tooltip": null,
      "layout": "IPY_MODEL_a47a4fd3e57240ac9dea1f86ef0ce612",
      "max": 87306240,
      "min": 0,
      "orientation": "horizontal",
      "style": "IPY_MODEL_8f034c9333b8490aa12443939cb2fccc",
      "value": 87306240
     }
    },
    "a47a4fd3e57240ac9dea1f86ef0ce612": {
     "model_module": "@jupyter-widgets/base",
     "model_name": "LayoutModel",
     "state": {
      "_model_module": "@jupyter-widgets/base",
      "_model_module_version": "1.2.0",
      "_model_name": "LayoutModel",
      "_view_count": null,
      "_view_module": "@jupyter-widgets/base",
      "_view_module_version": "1.2.0",
      "_view_name": "LayoutView",
      "align_content": null,
      "align_items": null,
      "align_self": null,
      "border": null,
      "bottom": null,
      "display": null,
      "flex": null,
      "flex_flow": null,
      "grid_area": null,
      "grid_auto_columns": null,
      "grid_auto_flow": null,
      "grid_auto_rows": null,
      "grid_column": null,
      "grid_gap": null,
      "grid_row": null,
      "grid_template_areas": null,
      "grid_template_columns": null,
      "grid_template_rows": null,
      "height": null,
      "justify_content": null,
      "justify_items": null,
      "left": null,
      "margin": null,
      "max_height": null,
      "max_width": null,
      "min_height": null,
      "min_width": null,
      "object_fit": null,
      "object_position": null,
      "order": null,
      "overflow": null,
      "overflow_x": null,
      "overflow_y": null,
      "padding": null,
      "right": null,
      "top": null,
      "visibility": null,
      "width": null
     }
    },
    "b1d2380a239445f5afc4042450d7fb81": {
     "model_module": "@jupyter-widgets/controls",
     "model_name": "DescriptionStyleModel",
     "state": {
      "_model_module": "@jupyter-widgets/controls",
      "_model_module_version": "1.5.0",
      "_model_name": "DescriptionStyleModel",
      "_view_count": null,
      "_view_module": "@jupyter-widgets/base",
      "_view_module_version": "1.2.0",
      "_view_name": "StyleView",
      "description_width": ""
     }
    },
    "b332ebb0a703423f8a11ccb27d48b584": {
     "model_module": "@jupyter-widgets/controls",
     "model_name": "HTMLModel",
     "state": {
      "_dom_classes": [],
      "_model_module": "@jupyter-widgets/controls",
      "_model_module_version": "1.5.0",
      "_model_name": "HTMLModel",
      "_view_count": null,
      "_view_module": "@jupyter-widgets/controls",
      "_view_module_version": "1.5.0",
      "_view_name": "HTMLView",
      "description": "",
      "description_tooltip": null,
      "layout": "IPY_MODEL_8a20c434c3e944b686f24fcaded0bede",
      "placeholder": "â€‹",
      "style": "IPY_MODEL_bd1ca204fd9e4c7790a8a5240ae8892f",
      "value": " 44.7M/44.7M [03:02&lt;00:00, 256kB/s]"
     }
    },
    "bd1ca204fd9e4c7790a8a5240ae8892f": {
     "model_module": "@jupyter-widgets/controls",
     "model_name": "DescriptionStyleModel",
     "state": {
      "_model_module": "@jupyter-widgets/controls",
      "_model_module_version": "1.5.0",
      "_model_name": "DescriptionStyleModel",
      "_view_count": null,
      "_view_module": "@jupyter-widgets/base",
      "_view_module_version": "1.2.0",
      "_view_name": "StyleView",
      "description_width": ""
     }
    },
    "f9252f1e0d7346e2b8d049583aa81be5": {
     "model_module": "@jupyter-widgets/controls",
     "model_name": "ProgressStyleModel",
     "state": {
      "_model_module": "@jupyter-widgets/controls",
      "_model_module_version": "1.5.0",
      "_model_name": "ProgressStyleModel",
      "_view_count": null,
      "_view_module": "@jupyter-widgets/base",
      "_view_module_version": "1.2.0",
      "_view_name": "StyleView",
      "bar_color": null,
      "description_width": "initial"
     }
    },
    "fce6b40780bd41988a55c81fc5273d33": {
     "model_module": "@jupyter-widgets/base",
     "model_name": "LayoutModel",
     "state": {
      "_model_module": "@jupyter-widgets/base",
      "_model_module_version": "1.2.0",
      "_model_name": "LayoutModel",
      "_view_count": null,
      "_view_module": "@jupyter-widgets/base",
      "_view_module_version": "1.2.0",
      "_view_name": "LayoutView",
      "align_content": null,
      "align_items": null,
      "align_self": null,
      "border": null,
      "bottom": null,
      "display": null,
      "flex": null,
      "flex_flow": null,
      "grid_area": null,
      "grid_auto_columns": null,
      "grid_auto_flow": null,
      "grid_auto_rows": null,
      "grid_column": null,
      "grid_gap": null,
      "grid_row": null,
      "grid_template_areas": null,
      "grid_template_columns": null,
      "grid_template_rows": null,
      "height": null,
      "justify_content": null,
      "justify_items": null,
      "left": null,
      "margin": null,
      "max_height": null,
      "max_width": null,
      "min_height": null,
      "min_width": null,
      "object_fit": null,
      "object_position": null,
      "order": null,
      "overflow": null,
      "overflow_x": null,
      "overflow_y": null,
      "padding": null,
      "right": null,
      "top": null,
      "visibility": null,
      "width": null
     }
    },
    "ff6e1e8278a24a159436bfc5278abc18": {
     "model_module": "@jupyter-widgets/controls",
     "model_name": "HBoxModel",
     "state": {
      "_dom_classes": [],
      "_model_module": "@jupyter-widgets/controls",
      "_model_module_version": "1.5.0",
      "_model_name": "HBoxModel",
      "_view_count": null,
      "_view_module": "@jupyter-widgets/controls",
      "_view_module_version": "1.5.0",
      "_view_name": "HBoxView",
      "box_style": "",
      "children": [
       "IPY_MODEL_3a111a9318b247c5907594915be8f480",
       "IPY_MODEL_b332ebb0a703423f8a11ccb27d48b584"
      ],
      "layout": "IPY_MODEL_fce6b40780bd41988a55c81fc5273d33"
     }
    }
   }
  }
 },
 "nbformat": 4,
 "nbformat_minor": 1
}
