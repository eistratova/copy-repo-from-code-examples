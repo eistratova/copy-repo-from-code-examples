{
 "cells": [
  {
   "cell_type": "code",
   "execution_count": null,
   "metadata": {},
   "outputs": [],
   "source": [
    "## improve performance - use smaller network/ different network;\n",
    "#                  add dropout; reduce no. of dropout instances (?); reduce dropout value\n",
    "#               remove kernel_initializer\n",
    "\n",
    "\n",
    "# add performance metrics other than accuracy\n",
    "# how to obtain the probabilities on test images, when using DataGenerator? \n",
    "\n",
    "## add colab; & check for all classes \n",
    "\n",
    "# transfer learning with images saved as RGB - also look up image size to be used\n",
    "\n",
    "# sparseConvNet; check kaggle code  (# check kaggle kernels for ~eco-taxa data)\n",
    "# loading image data from single file instead of directory; check on colab\n",
    "\n",
    "\n",
    "\n",
    "# https://machinelearningmastery.com/image-augmentation-deep-learning-keras/\n",
    "# https://blog.keras.io/building-powerful-image-classification-models-using-very-little-data.html\n",
    "\n",
    "\n",
    "\n",
    "\n",
    "# settle on no. of classes : confusion understanding taxonomic tree(?) - file inventory.txt\n",
    "#   see what was used in paper (108, excluding 12 rare taxa) - check if classes reported (see kaggle data ****)\n",
    "#                      & reported accuracy (>90%, recall: 40%, precision: 84%)\n",
    "## SEE SUPPLEMENTARY !!!\n",
    "\n",
    "\n",
    "\n",
    "#########################################################################################################\n",
    "#########################################################################################################\n",
    "# EcoTaxa data: classification of Plankton\n",
    "# data source: https://www.seanoe.org/data/00446/55741/\n",
    "# http://marine-imaging-workshop.com/documents/miw17/presentations/public/MIW17_Poster_MarcPicheral.pdf\n",
    "\n",
    "\n",
    "## total no. of images (EcoTaxa data): 1433278  (~1.4 million)\n",
    "# the paper talks of 24M images\n",
    "\n",
    "###########################################################################################\n",
    "### PROBLEM STATEMENT ###\n",
    "# 1. build a classifier to classify images\n",
    "# 2. see if the classifier can point out 'new' classes, not present in the training data (class, junk, other) ****\n",
    "#     finding new classes :\n",
    "#           i) see if probability is less for all the known classes\n",
    "#           ii) use some similarity metric to the other classes (e.g. triplet loss?) ?\n",
    "# 3. comparison of features performance: conventional vs deep-learning based ***\n",
    "\n",
    "\n",
    "#### papers ####\n",
    "#https://www.frontiersin.org/articles/10.3389/fmars.2019.00196/full  (review, Apr. 2019) -> understand features used **\n",
    "\n",
    "\n",
    "#########################################################################################\n",
    "#### CHALLENGES: ####\n",
    "\n",
    "# 1. substantial re-training of pre-trained networks (transfer learning)\n",
    "#   or new network for gray-scale images?\n",
    "#          -> find image size corresponding to the pre-trained network used\n",
    "## TRY BOTH?\n",
    "# what happens if we i) pad the images vs ii) don't pad the images\n",
    "\n",
    "\n",
    "\n",
    "# 2. design of model & loss function suited to task  \n",
    "# https://www.kaggle.com/iafoss/pretrained-resnet34-with-rgby-0-460-public-lb\n",
    "\n",
    "\n",
    "\n",
    "# 3.  check data set size; handling class imbalance for image data (check for imbalance) ***\n",
    "\n",
    "# combine classes in similar taxa -> low within-class variance  (check images for grouped classes - are they similar?)\n",
    "# different classes have different no. of examples - use taxonomic tree to group\n",
    "\n",
    "#    check total no. of classes, depth of each class (can classify at shallower level using taxonomic tree)\n",
    "# select the level to do the classification at (this decides the no. of classes)\n",
    "\n",
    "#         --> try with 2-3 classes first\n",
    "\n",
    "# augment data (crop, translate, rotate, flip)\n",
    "# HOW TO HANDLE LARGE IMBALANCE AMONG DIFFERENT CLASSES - IS AUGMENTATION ENOUGH? OR REDUCE NO. OF IMAGES SELECTED?\n",
    "#  Luo et al, 2018 talks of different works - 4-class classification, 47 classes, 114 classes\n",
    "\n",
    "# - all classes should be represented at each batch - how to ensure this?\n",
    "\n",
    "# this should be an N-class classifier (instead of level-wise one-vs-rest)\n",
    "\n",
    "\n",
    "\n",
    "\n",
    "# 4. handling outlier data?\n",
    "\n",
    "\n",
    "# 5. are all images of same size? are they captured on same scale?  ***\n",
    "# are all images of same size (height & width)? -> no\n",
    "# are they captured on same scale (magnification)? -> no idea\n",
    "# use Fiji/ ImageJ to check metadata of image (use voxel size? any other parameter) ****\n",
    "\n",
    "\n",
    "\n",
    "# 6. handling large no. of classes (classification performance metric); one-hot encode classes - which to use?\n",
    "# LabelEncoder() ; OneHotEncoder() ; LabelBinarizer() ; to_categorical (keras.utils)\n",
    "# https://stackoverflow.com/questions/50473381/scikit-learns-labelbinarizer-vs-onehotencoder\n",
    "# GOOGLE: label binarizer vs to categorical\n",
    "\n",
    "\n",
    "\n",
    "# 7. libraries to load & see image data\n",
    "# PIL/ Pillow vs openCV - which one to use?\n",
    "\n",
    "\n",
    "\n",
    "\n",
    "# 8. data pre-processing: is it necessary to create separate folders for train & test? ***\n",
    "# either create separate folders with the pre-processed images (suitable for large no. of images), \n",
    "# or\n",
    "# save the pre-processed images as numpy arrays and load them for quick processing (suitable for less no. of images,\n",
    "# or smaller images).\n",
    "# before pre-processing, shuffle the images. From here, train, test & val splits should be created.\n",
    "\n",
    "# In the former case, use ImageDataGenerator & flow_from_directory commands to load the images\n",
    "# (both scaled; with augmentation for training & without aug. for validation) & automatically read classes\n",
    "# in 2nd case, save the labels also as a separate file.\n",
    "\n",
    "\n",
    "\n",
    "# 9. train-test data split\n",
    "# ideally, use train, validation & test sets\n",
    "\n",
    "\n",
    "# 10. input shape (flatten image?); see how it should be fed into network ***\n",
    "#     (k x k x C, where k: image dimension, C: np. of channels)\n",
    "# see channel first (theano) vs channel last (tensorflow) conventions\n",
    "# also, the batch of images may sometimes be mentioned\n",
    "\n",
    "# how should the image info be saved & passed to the cnn for training? -> save flattened pixel values as features in csv file\n",
    "## re-shaping tha data for input to conv net\n",
    "# https://stackoverflow.com/questions/43235531/convolutional-neural-network-conv1d-input-shape\n",
    "# http://localhost:8888/notebooks/Desktop/data/HEALTHCARE/EEG/code/GPU_run_CNN/EEG_Classification_CNN_3patients_GPU.ipynb\n",
    "\n",
    "\n",
    "\n",
    "# 11. handle overfitting , use of batches (batch normalization) & epochs,\n",
    "#       early stopping,\n",
    "#       data augmentation (different techniques: rotate, shift, zoom, crop, etc)\n",
    "#      dropout regularization (different values)\n",
    "\n",
    "# 12. choice of activation function (ReLU, softmax, etc),\n",
    "#     loss function (MSE, categorical_crossentropy, etc), \n",
    "#     metric (acc., recall)\n",
    "\n",
    "# 13. hyper-parameter tuning: learning rate (else, adaptive learning rate like Adam), optimizer (Adam, SGD, etc)\n",
    "\n",
    "# 14. how to apply scaling to intermediate layers\n",
    "\n",
    "\n",
    "## is there a method to assess what is the best model that can be built from given data, in terms of metric values ?\n",
    "## (metric values: RMSD for regresion, precision/recall for classification)\n",
    "\n",
    "\n",
    "\n",
    "## activation function & vanishing gradient\n",
    "## deep vs wide network (see excel: how no. of parameters changes)"
   ]
  },
  {
   "cell_type": "code",
   "execution_count": null,
   "metadata": {},
   "outputs": [],
   "source": [
    "## RESOURCES\n",
    "# sentdex youtube\n",
    "# data camp\n",
    "# pyimage\n",
    "# machinelearningmastery\n",
    "\n",
    "# https://machinelearningmastery.com/how-to-develop-a-convolutional-neural-network-to-classify-photos-of-dogs-and-cats/  \n",
    "#     -> both array & file system load   \n",
    "# https://machinelearningmastery.com/start-here/#better   ****\n",
    "# https://machinelearningmastery.com/how-to-calculate-precision-recall-f1-and-more-for-deep-learning-models/\n",
    "# https://machinelearningmastery.com/custom-metrics-deep-learning-keras-python/\n",
    "# https://machinelearningmastery.com/image-augmentation-deep-learning-keras/\n",
    "# https://machinelearningmastery.com/how-to-configure-image-data-augmentation-when-training-deep-learning-neural-networks/\n",
    "\n",
    "\n",
    "# https://keras.io/preprocessing/image/       <- ImageDataGenerator\n",
    "# https://blog.keras.io/building-powerful-image-classification-models-using-very-little-data.html\n",
    "\n",
    "\n",
    "# https://towardsdatascience.com/image-detection-from-scratch-in-keras-f314872006c9  -> gc command to clean memory\n",
    "\n",
    "# https://www.pyimagesearch.com/2018/09/10/keras-tutorial-how-to-get-started-with-keras-deep-learning-and-python/  -> from file\n",
    "\n",
    "# https://www.analyticsvidhya.com/blog/2019/01/build-image-classification-model-10-minutes/  -> Colab"
   ]
  },
  {
   "cell_type": "code",
   "execution_count": null,
   "metadata": {},
   "outputs": [],
   "source": [
    "# output layer is fully connected layer (model.add(Dense(n, ...)))\n",
    "# where n=1 for regression;  or,   n=no. of classes \n",
    "# for binary classifier, should it be 1 with sigmoid (machinelearningmastery), or 2 with softmax activation (datacamp) ?\n",
    "# accordingly, under model.compile, loss should be binary_crossentropy or categorical_crossentropy (Classification)\n",
    "#                                                mean_squared_error for regression\n",
    "\n",
    "\n",
    "# for classification, should the labels be one-hot encoded?\n",
    "# how to assign labels for multi-class classification\n",
    "\n",
    "\n",
    "# input shape is specified in the first model.add layer\n",
    "# images can be fed as numpy array, or from separate train test folders\n",
    "# image pixels should be scaled\n",
    "# apply transform for data augmentation, if required\n",
    "\n",
    "\n",
    "# drop-out can be implemented after conv+pool block, & after fully connected (dense) block (except for last prediction layer) \n",
    "# learning rate is specified with optimizer under model.compile\n",
    "# no. of epochs are specified in model.fit (increase epochs if both train & test loss continue to show downward trend w/o plateau)\n",
    "# early stopping is specified in model.fit"
   ]
  },
  {
   "cell_type": "code",
   "execution_count": null,
   "metadata": {},
   "outputs": [],
   "source": []
  },
  {
   "cell_type": "code",
   "execution_count": null,
   "metadata": {},
   "outputs": [],
   "source": [
    "###############################################################################\n",
    "# colab:  https://colab.research.google.com/notebooks/io.ipynb#scrollTo=7taylj9wpsA2\n",
    "\n",
    "# any code to automate the download of data to google colab, & run codes there?  ***\n",
    "# https://www.analyticsvidhya.com/blog/2019/01/build-image-classification-model-10-minutes/  -> Colab"
   ]
  },
  {
   "cell_type": "code",
   "execution_count": null,
   "metadata": {},
   "outputs": [],
   "source": [
    "# Setting up Colab\n",
    "!pip install PyDrive"
   ]
  },
  {
   "cell_type": "code",
   "execution_count": null,
   "metadata": {},
   "outputs": [],
   "source": [
    "# importing necessary libraries\n",
    "import os\n",
    "from pydrive.auth import GoogleAuth\n",
    "from pydrive.drive import GoogleDrive\n",
    "from google.colab import auth\n",
    "from oauth2client.client import GoogleCredentials"
   ]
  },
  {
   "cell_type": "code",
   "execution_count": null,
   "metadata": {},
   "outputs": [],
   "source": [
    "#  create a drive variable to access Google Drive:\n",
    "auth.authenticate_user()\n",
    "gauth = GoogleAuth()\n",
    "gauth.credentials = GoogleCredentials.get_application_default()\n",
    "drive = GoogleDrive(gauth)"
   ]
  },
  {
   "cell_type": "code",
   "execution_count": null,
   "metadata": {},
   "outputs": [],
   "source": [
    "# To download the dataset, we will use the ID of the file uploaded on Google Drive\n",
    "# Replace the id and filename in the below codes\n",
    "download = drive.CreateFile({'id': '1ZCzHDAfwgLdQke_GNnHp_4OheRRtNPs-'})\n",
    "download.GetContentFile('Train_UQcUa52.zip')\n",
    "!unzip Train_UQcUa52.zip"
   ]
  },
  {
   "cell_type": "code",
   "execution_count": null,
   "metadata": {},
   "outputs": [],
   "source": []
  },
  {
   "cell_type": "code",
   "execution_count": null,
   "metadata": {},
   "outputs": [],
   "source": []
  },
  {
   "cell_type": "code",
   "execution_count": 3,
   "metadata": {},
   "outputs": [
    {
     "name": "stdout",
     "output_type": "stream",
     "text": [
      "C:\\Users\\DAR9KOR\\AppData\\Local\\Continuum\\anaconda3\\envs\\deep_learn\\python.exe\n"
     ]
    }
   ],
   "source": [
    "import sys\n",
    "print(sys.executable)  # prints location of executable\n",
    "print('')\n",
    "print(sys.version)   # prints python version"
   ]
  },
  {
   "cell_type": "code",
   "execution_count": null,
   "metadata": {},
   "outputs": [],
   "source": []
  },
  {
   "cell_type": "code",
   "execution_count": null,
   "metadata": {},
   "outputs": [],
   "source": []
  },
  {
   "cell_type": "code",
   "execution_count": 1,
   "metadata": {},
   "outputs": [],
   "source": [
    "import os\n",
    "import numpy as np # linear algebra\n",
    "import pandas as pd # data processing, CSV file I/O (e.g. pd.read_csv)\n",
    "\n",
    "#import seaborn as sns\n",
    "import matplotlib.pyplot as plt\n",
    "# %matplotlib inline\n",
    "\n",
    "import gc  # garbage collector\n",
    "\n",
    "from random import seed\n",
    "from random import random\n",
    "# seed random number generator\n",
    "seed(1)"
   ]
  },
  {
   "cell_type": "code",
   "execution_count": 2,
   "metadata": {},
   "outputs": [],
   "source": [
    "from PIL import Image  # Utilities to read and write images in various formats.\n",
    "import imageio     ## are both imageio & Pillow (PIL) required ?\n",
    "#import pathlib   # alternate to os.path"
   ]
  },
  {
   "cell_type": "code",
   "execution_count": 3,
   "metadata": {},
   "outputs": [],
   "source": [
    "#import keras"
   ]
  },
  {
   "cell_type": "code",
   "execution_count": null,
   "metadata": {},
   "outputs": [],
   "source": []
  },
  {
   "cell_type": "code",
   "execution_count": null,
   "metadata": {},
   "outputs": [],
   "source": []
  },
  {
   "cell_type": "code",
   "execution_count": 53,
   "metadata": {},
   "outputs": [],
   "source": [
    "'''link2 = Link[~Link[\"Lineage\"].str.contains('|'.join(['not-living', '/living/other/']))]\n",
    "\n",
    "# not living -> has 2 or 3 levels\n",
    "# living/other -> has 3 levels\n",
    "# living/eukaryote/... -> min 6 levels,max 15 levels"
   ]
  },
  {
   "cell_type": "code",
   "execution_count": null,
   "metadata": {},
   "outputs": [],
   "source": []
  },
  {
   "cell_type": "code",
   "execution_count": 10,
   "metadata": {},
   "outputs": [
    {
     "data": {
      "image/png": "[encoded data removed]",
      "text/plain": [
       "<PIL.JpegImagePlugin.JpegImageFile image mode=L size=51x48 at 0x1C79AF3C588>"
      ]
     },
     "metadata": {},
     "output_type": "display_data"
    }
   ],
   "source": [
    "# upload the data & check some images; \n",
    "\n",
    "'''im_path = pathlib.Path('./57398/ZooScanSet/Imgs/Acantharea/42738931.jpg')  #.glob('*/images/*.png')\n",
    "display(Image.open(im_path))  \n",
    "# https://stackoverflow.com/questions/11854847/how-can-i-display-an-image-from-a-file-in-jupyter-notebook\n",
    "# how to open an image in jupyter notebook\n",
    "# https://www.quora.com/How-do-I-load-multiple-images-in-Jupyter-Notebook-for-a-neural-network-classifier\n",
    "\n",
    "\n",
    "#training_paths = pathlib.Path('../input/stage1_train').glob('*/images/*.png')\n",
    "#training_sorted = sorted([x for x in training_paths])\n",
    "#im_path = training_sorted[45]\n",
    "#im = imageio.imread(str(im_path))"
   ]
  },
  {
   "cell_type": "code",
   "execution_count": 16,
   "metadata": {},
   "outputs": [
    {
     "data": {
      "text/plain": [
       "1433278"
      ]
     },
     "execution_count": 16,
     "metadata": {},
     "output_type": "execute_result"
    }
   ],
   "source": [
    "# total no. of images\n",
    "'''len(path_sorted)"
   ]
  },
  {
   "cell_type": "code",
   "execution_count": null,
   "metadata": {},
   "outputs": [],
   "source": []
  },
  {
   "cell_type": "code",
   "execution_count": null,
   "metadata": {},
   "outputs": [],
   "source": [
    "# re-sizing images\n",
    "#https://stackoverflow.com/questions/44231209/resize-rectangular-image-to-square-keeping-ratio-and-fill-background-with-black/44231784\n",
    "# https://stackoverflow.com/questions/273946/how-do-i-resize-an-image-using-pil-and-maintain-its-aspect-ratio\n",
    "\n",
    "# as we go deeper into the network, the image gets smaller; hence can't start with very small images\n",
    "# see size to be used for pre-trained network (if) chosen"
   ]
  },
  {
   "cell_type": "code",
   "execution_count": 4,
   "metadata": {},
   "outputs": [],
   "source": [
    "# pad the images to square & make (increase or decrease) a common size\n",
    "\n",
    "#from PIL import Image\n",
    "'''\n",
    "def make_square(im, min_size=256, fill_color=(0, 0, 0, 0)):\n",
    "    x, y = im.size\n",
    "    size = max(min_size, x, y)\n",
    "    new_im = Image.new('RGBA', (size, size), fill_color)\n",
    "    new_im.paste(im, (int((size - x) / 2), int((size - y) / 2)))\n",
    "    return new_im\n",
    "'''\n",
    "\n",
    "def make_square(im, min_size=200, fill_color=(255)):   #fill_color=(255, 255, 255, 0)  # fill_color=(255, 255, 255)\n",
    "    # fill_color=(0, 0, 0, 0) <- black\n",
    "    # fill_color=(255, 255, 255, 0) <- white\n",
    "    x, y = im.size\n",
    "    \n",
    "    # make square image,\n",
    "    if x != y:\n",
    "        size = max(x, y)\n",
    "        new_im = Image.new('L', (size, size), fill_color)   # Image.new('RGB',  #'RGBA' is not supported in jpg image\n",
    "        new_im.paste(im, (int((size - x) / 2), int((size - y) / 2)))\n",
    "        #imResize = new_im.resize((min_size,min_size), Image.ANTIALIAS)\n",
    "    else:\n",
    "        new_im = im\n",
    "        # resize images\n",
    "        #imResize = im.resize((min_size,min_size), Image.ANTIALIAS)\n",
    "           \n",
    "    return new_im\n",
    "\n",
    "\n",
    "def im_resize(im, min_size=200):\n",
    "    # https://www.daniweb.com/programming/software-development/code/216637/resize-an-image-python\n",
    "    x, y = im.size\n",
    "    \n",
    "    if x > min_size:  # downsample\n",
    "        imResize = im.resize((min_size,min_size), Image.ANTIALIAS)\n",
    "    elif x < min_size: # upsample\n",
    "        imResize = im.resize((min_size, min_size), Image.BILINEAR)\n",
    "    else:\n",
    "        imResize = im\n",
    "    \n",
    "    return imResize"
   ]
  },
  {
   "cell_type": "code",
   "execution_count": null,
   "metadata": {},
   "outputs": [],
   "source": []
  },
  {
   "cell_type": "code",
   "execution_count": null,
   "metadata": {},
   "outputs": [],
   "source": []
  },
  {
   "cell_type": "code",
   "execution_count": 5,
   "metadata": {},
   "outputs": [
    {
     "data": {
      "text/html": [
       "<div>\n",
       "<style scoped>\n",
       "    .dataframe tbody tr th:only-of-type {\n",
       "        vertical-align: middle;\n",
       "    }\n",
       "\n",
       "    .dataframe tbody tr th {\n",
       "        vertical-align: top;\n",
       "    }\n",
       "\n",
       "    .dataframe thead th {\n",
       "        text-align: right;\n",
       "    }\n",
       "</style>\n",
       "<table border=\"1\" class=\"dataframe\">\n",
       "  <thead>\n",
       "    <tr style=\"text-align: right;\">\n",
       "      <th></th>\n",
       "      <th>Unnamed: 0</th>\n",
       "      <th>Unnamed: 0.1</th>\n",
       "      <th>path</th>\n",
       "      <th>width</th>\n",
       "      <th>height</th>\n",
       "    </tr>\n",
       "  </thead>\n",
       "  <tbody>\n",
       "    <tr>\n",
       "      <th>0</th>\n",
       "      <td>0</td>\n",
       "      <td>0</td>\n",
       "      <td>57398\\ZooScanSet\\Imgs\\Acantharea\\42738931.jpg</td>\n",
       "      <td>51</td>\n",
       "      <td>48</td>\n",
       "    </tr>\n",
       "    <tr>\n",
       "      <th>1</th>\n",
       "      <td>1</td>\n",
       "      <td>1</td>\n",
       "      <td>57398\\ZooScanSet\\Imgs\\Acantharea\\42745471.jpg</td>\n",
       "      <td>62</td>\n",
       "      <td>64</td>\n",
       "    </tr>\n",
       "  </tbody>\n",
       "</table>\n",
       "</div>"
      ],
      "text/plain": [
       "   Unnamed: 0  Unnamed: 0.1                                           path  \\\n",
       "0           0             0  57398\\ZooScanSet\\Imgs\\Acantharea\\42738931.jpg   \n",
       "1           1             1  57398\\ZooScanSet\\Imgs\\Acantharea\\42745471.jpg   \n",
       "\n",
       "   width  height  \n",
       "0     51      48  \n",
       "1     62      64  "
      ]
     },
     "execution_count": 5,
     "metadata": {},
     "output_type": "execute_result"
    }
   ],
   "source": [
    "# do a trial run with selected folders -> Acantharea, Copilia, cypris\n",
    "\n",
    "trial = pd.read_csv(\"C:/Users/DAR9KOR/Desktop/data/sample_datasets/EcoTaxa/57398/selected_files.csv\")\n",
    "trial.head(2)"
   ]
  },
  {
   "cell_type": "code",
   "execution_count": 7,
   "metadata": {},
   "outputs": [
    {
     "data": {
      "image/png": "[encoded data removed]",
      "text/plain": [
       "<PIL.JpegImagePlugin.JpegImageFile image mode=L size=51x48 at 0x1766ACA07B8>"
      ]
     },
     "execution_count": 7,
     "metadata": {},
     "output_type": "execute_result"
    }
   ],
   "source": [
    "Image.open(str('./' + list(trial.path)[0]))"
   ]
  },
  {
   "cell_type": "code",
   "execution_count": 17,
   "metadata": {},
   "outputs": [
    {
     "data": {
      "text/plain": [
       "'42738931.jpg'"
      ]
     },
     "execution_count": 17,
     "metadata": {},
     "output_type": "execute_result"
    }
   ],
   "source": [
    "list(trial.path)[0].split(\"Acantharea\\\\\")[1]"
   ]
  },
  {
   "cell_type": "code",
   "execution_count": null,
   "metadata": {},
   "outputs": [],
   "source": [
    "# clear memory\n",
    "# https://towardsdatascience.com/image-detection-from-scratch-in-keras-f314872006c9\n",
    "del trial\n",
    "gc.collect()"
   ]
  },
  {
   "cell_type": "code",
   "execution_count": null,
   "metadata": {},
   "outputs": [],
   "source": []
  },
  {
   "cell_type": "code",
   "execution_count": null,
   "metadata": {},
   "outputs": [],
   "source": []
  },
  {
   "cell_type": "code",
   "execution_count": 6,
   "metadata": {},
   "outputs": [],
   "source": [
    "# data pre-processing: is it necessary to create separate folders for train & test?\n",
    "# https://cs230-stanford.github.io/train-dev-test-split.html  -> check for split using image indices \n",
    "\n",
    "#               total images        train(90%)     test(10%)     Total\n",
    "# Acantharea :   762                    686           76\n",
    "# Copilia:       762                    686           76\n",
    "# cypris:        702                    632           70\n",
    "# TOTAL                                2004          222         2226\n",
    "\n",
    "\n",
    "from os import makedirs\n",
    "from os import listdir\n",
    "from shutil import copyfile\n",
    "from random import seed\n",
    "from random import random\n",
    "\n",
    "# create directories\n",
    "dataset_home = './57398/ZooScanSet/runData/'\n",
    "subdirs = ['train/', 'test/']\n",
    "for subdir in subdirs:\n",
    "    # create label subdirectories\n",
    "    labeldirs = ['Acantharea/', 'Copilia/', 'cypris/']\n",
    "    for labldir in labeldirs:\n",
    "        newdir = dataset_home + subdir + labldir\n",
    "        makedirs(newdir, exist_ok=True)\n",
    "\n",
    "# seed random number generator\n",
    "seed(1)\n",
    "\n",
    "# define ratio of pictures to use for validation\n",
    "val_ratio = 0.1  # 0.25\n",
    "\n",
    "\n",
    "# copy training dataset images into subdirectories\n",
    "src_directory = './57398/ZooScanSet/Imgs/'  #'train/'\n"
   ]
  },
  {
   "cell_type": "code",
   "execution_count": 7,
   "metadata": {},
   "outputs": [],
   "source": [
    "## create train, test & val folders\n",
    "# also, need to update this code for automatically reading large number of classes\n",
    "\n",
    "#for file in listdir(src_directory):\n",
    "for filename in list(trial.path):\n",
    "    #src = src_directory + '/' + file\n",
    "    # decide train or test\n",
    "    dst_dir = 'train/'\n",
    "    if random() < val_ratio:\n",
    "        dst_dir = 'test/'\n",
    "    \n",
    "    # apply image squaring & resizing\n",
    "    im = Image.open(str('./' + filename))\n",
    "    new_im = make_square(im)\n",
    "    imResize = im_resize(new_im)\n",
    "    \n",
    "    '''if file.startswith('cat'):\n",
    "\t\tdst = dataset_home + dst_dir + 'cats/'  + file\n",
    "\t\tcopyfile(src, dst)\n",
    "\telif file.startswith('dog'):\n",
    "\t\tdst = dataset_home + dst_dir + 'dogs/'  + file\n",
    "\t\tcopyfile(src, dst)'''\n",
    "    \n",
    "    if filename.find('Acantharea') != -1:\n",
    "        newname = filename.split(\"Acantharea\\\\\")[1]\n",
    "        dst = dataset_home + dst_dir + 'Acantharea/' + newname\n",
    "        imResize.save(dst)\n",
    "    elif filename.find('Copilia') != -1:\n",
    "        newname = filename.split(\"Copilia\\\\\")[1]\n",
    "        dst = dataset_home + dst_dir + 'Copilia/' + newname\n",
    "        imResize.save(dst)\n",
    "    elif filename.find('cypris') != -1:\n",
    "        newname = filename.split(\"cypris\\\\\")[1]\n",
    "        dst = dataset_home + dst_dir + 'cypris/' + newname\n",
    "        imResize.save(dst)\n"
   ]
  },
  {
   "cell_type": "code",
   "execution_count": null,
   "metadata": {},
   "outputs": [],
   "source": [
    "# normalization of images?\n",
    "# /Desktop/data/theory/CNN_deepLearning_part4/sahana_talk/Kaggle_FER2013_Colab-Copy1_CNN_talk.ipynb"
   ]
  },
  {
   "cell_type": "code",
   "execution_count": null,
   "metadata": {},
   "outputs": [],
   "source": [
    "# handling outlier data?"
   ]
  },
  {
   "cell_type": "code",
   "execution_count": null,
   "metadata": {},
   "outputs": [],
   "source": []
  },
  {
   "cell_type": "code",
   "execution_count": null,
   "metadata": {},
   "outputs": [],
   "source": []
  },
  {
   "cell_type": "code",
   "execution_count": null,
   "metadata": {},
   "outputs": [],
   "source": [
    "# should not the no. of model parameters be less than the data available?"
   ]
  },
  {
   "cell_type": "code",
   "execution_count": null,
   "metadata": {},
   "outputs": [],
   "source": [
    "# network to use: built new or previously available? \n",
    "# what was used for crystal image data: \n",
    "#    Conf. paper (gray scale) : crystalNet (conv-pool * 3 -> conv -> FC -> FC -> output)\n",
    "#    google paper (color images): variant of Inception v3; (also tried Inception-ResNet-v2, NASNet)\n",
    "#    arxiv paper :\n",
    "# check applicability of existing CNN for gray-scale:\n",
    "# LeNet-5 : for gray scale  -> https://www.analyticsvidhya.com/blog/2018/12/guide-convolutional-neural-network-cnn/\n",
    "\n",
    "# custom CNN:\n",
    "# https://www.analyticsvidhya.com/blog/2019/01/build-image-classification-model-10-minutes/\n",
    "# https://towardsdatascience.com/a-simple-2d-cnn-for-mnist-digit-recognition-a998dbc1e79a\n",
    "\n",
    "# trying different hyper-parameters\n",
    "# https://www.kaggle.com/cdeotte/how-to-choose-cnn-architecture-mnist\n",
    "# https://www.kaggle.com/cdeotte/25-million-images-0-99757-mnist\n",
    "\n",
    "# use of transfer learning\n",
    "#https://nbviewer.jupyter.org/github/tirthajyoti/Deep-learning-with-Python/blob/master/Notebooks/Transfer_learning_CIFAR.ipynb\n",
    "\n",
    "# design of model & loss function suited to task  \n",
    "# https://www.kaggle.com/iafoss/pretrained-resnet34-with-rgby-0-460-public-lb"
   ]
  },
  {
   "cell_type": "code",
   "execution_count": 3,
   "metadata": {},
   "outputs": [
    {
     "name": "stderr",
     "output_type": "stream",
     "text": [
      "Using TensorFlow backend.\n",
      "C:\\Users\\DAR9KOR\\AppData\\Local\\Continuum\\anaconda3\\envs\\deep_learn\\lib\\site-packages\\tensorflow\\python\\framework\\dtypes.py:516: FutureWarning: Passing (type, 1) or '1type' as a synonym of type is deprecated; in a future version of numpy, it will be understood as (type, (1,)) / '(1,)type'.\n",
      "  _np_qint8 = np.dtype([(\"qint8\", np.int8, 1)])\n",
      "C:\\Users\\DAR9KOR\\AppData\\Local\\Continuum\\anaconda3\\envs\\deep_learn\\lib\\site-packages\\tensorflow\\python\\framework\\dtypes.py:517: FutureWarning: Passing (type, 1) or '1type' as a synonym of type is deprecated; in a future version of numpy, it will be understood as (type, (1,)) / '(1,)type'.\n",
      "  _np_quint8 = np.dtype([(\"quint8\", np.uint8, 1)])\n",
      "C:\\Users\\DAR9KOR\\AppData\\Local\\Continuum\\anaconda3\\envs\\deep_learn\\lib\\site-packages\\tensorflow\\python\\framework\\dtypes.py:518: FutureWarning: Passing (type, 1) or '1type' as a synonym of type is deprecated; in a future version of numpy, it will be understood as (type, (1,)) / '(1,)type'.\n",
      "  _np_qint16 = np.dtype([(\"qint16\", np.int16, 1)])\n",
      "C:\\Users\\DAR9KOR\\AppData\\Local\\Continuum\\anaconda3\\envs\\deep_learn\\lib\\site-packages\\tensorflow\\python\\framework\\dtypes.py:519: FutureWarning: Passing (type, 1) or '1type' as a synonym of type is deprecated; in a future version of numpy, it will be understood as (type, (1,)) / '(1,)type'.\n",
      "  _np_quint16 = np.dtype([(\"quint16\", np.uint16, 1)])\n",
      "C:\\Users\\DAR9KOR\\AppData\\Local\\Continuum\\anaconda3\\envs\\deep_learn\\lib\\site-packages\\tensorflow\\python\\framework\\dtypes.py:520: FutureWarning: Passing (type, 1) or '1type' as a synonym of type is deprecated; in a future version of numpy, it will be understood as (type, (1,)) / '(1,)type'.\n",
      "  _np_qint32 = np.dtype([(\"qint32\", np.int32, 1)])\n",
      "C:\\Users\\DAR9KOR\\AppData\\Local\\Continuum\\anaconda3\\envs\\deep_learn\\lib\\site-packages\\tensorflow\\python\\framework\\dtypes.py:525: FutureWarning: Passing (type, 1) or '1type' as a synonym of type is deprecated; in a future version of numpy, it will be understood as (type, (1,)) / '(1,)type'.\n",
      "  np_resource = np.dtype([(\"resource\", np.ubyte, 1)])\n",
      "C:\\Users\\DAR9KOR\\AppData\\Local\\Continuum\\anaconda3\\envs\\deep_learn\\lib\\site-packages\\tensorboard\\compat\\tensorflow_stub\\dtypes.py:541: FutureWarning: Passing (type, 1) or '1type' as a synonym of type is deprecated; in a future version of numpy, it will be understood as (type, (1,)) / '(1,)type'.\n",
      "  _np_qint8 = np.dtype([(\"qint8\", np.int8, 1)])\n",
      "C:\\Users\\DAR9KOR\\AppData\\Local\\Continuum\\anaconda3\\envs\\deep_learn\\lib\\site-packages\\tensorboard\\compat\\tensorflow_stub\\dtypes.py:542: FutureWarning: Passing (type, 1) or '1type' as a synonym of type is deprecated; in a future version of numpy, it will be understood as (type, (1,)) / '(1,)type'.\n",
      "  _np_quint8 = np.dtype([(\"quint8\", np.uint8, 1)])\n",
      "C:\\Users\\DAR9KOR\\AppData\\Local\\Continuum\\anaconda3\\envs\\deep_learn\\lib\\site-packages\\tensorboard\\compat\\tensorflow_stub\\dtypes.py:543: FutureWarning: Passing (type, 1) or '1type' as a synonym of type is deprecated; in a future version of numpy, it will be understood as (type, (1,)) / '(1,)type'.\n",
      "  _np_qint16 = np.dtype([(\"qint16\", np.int16, 1)])\n",
      "C:\\Users\\DAR9KOR\\AppData\\Local\\Continuum\\anaconda3\\envs\\deep_learn\\lib\\site-packages\\tensorboard\\compat\\tensorflow_stub\\dtypes.py:544: FutureWarning: Passing (type, 1) or '1type' as a synonym of type is deprecated; in a future version of numpy, it will be understood as (type, (1,)) / '(1,)type'.\n",
      "  _np_quint16 = np.dtype([(\"quint16\", np.uint16, 1)])\n",
      "C:\\Users\\DAR9KOR\\AppData\\Local\\Continuum\\anaconda3\\envs\\deep_learn\\lib\\site-packages\\tensorboard\\compat\\tensorflow_stub\\dtypes.py:545: FutureWarning: Passing (type, 1) or '1type' as a synonym of type is deprecated; in a future version of numpy, it will be understood as (type, (1,)) / '(1,)type'.\n",
      "  _np_qint32 = np.dtype([(\"qint32\", np.int32, 1)])\n",
      "C:\\Users\\DAR9KOR\\AppData\\Local\\Continuum\\anaconda3\\envs\\deep_learn\\lib\\site-packages\\tensorboard\\compat\\tensorflow_stub\\dtypes.py:550: FutureWarning: Passing (type, 1) or '1type' as a synonym of type is deprecated; in a future version of numpy, it will be understood as (type, (1,)) / '(1,)type'.\n",
      "  np_resource = np.dtype([(\"resource\", np.ubyte, 1)])\n"
     ]
    }
   ],
   "source": [
    "## optimise the model parameters & hyperparameters: kernel initialiser & padding *********\n",
    "\n",
    "import sys\n",
    "#from matplotlib import pyplot\n",
    "from keras.utils import to_categorical\n",
    "from keras.models import Sequential\n",
    "from keras.layers import Conv2D\n",
    "from keras.layers import MaxPooling2D\n",
    "from keras.layers import Dense\n",
    "from keras.layers import Flatten, Dropout\n",
    "from keras.optimizers import SGD, Adam\n",
    "from keras.preprocessing.image import ImageDataGenerator"
   ]
  },
  {
   "cell_type": "code",
   "execution_count": null,
   "metadata": {},
   "outputs": [],
   "source": []
  },
  {
   "cell_type": "code",
   "execution_count": null,
   "metadata": {},
   "outputs": [],
   "source": []
  },
  {
   "cell_type": "code",
   "execution_count": 7,
   "metadata": {},
   "outputs": [],
   "source": [
    "# define cnn model\n",
    "'''def define_model():\n",
    "    model = Sequential()\n",
    "    \n",
    "    ## CHANGE INPUT SHAPE, BASED ON RGB OR GRAYSCALE\n",
    "    # specify padding or not?\n",
    "    model.add(Conv2D(32, (3, 3), activation='relu', kernel_initializer='he_uniform', padding='same', input_shape=(200, 200, 1)))\n",
    "    \n",
    "    model.add(MaxPooling2D((2, 2)))\n",
    "    model.add(Conv2D(64, (3, 3), activation='relu', kernel_initializer='he_uniform', padding='same'))\n",
    "    model.add(MaxPooling2D((2, 2)))\n",
    "    model.add(Conv2D(128, (3, 3), activation='relu', kernel_initializer='he_uniform', padding='same'))\n",
    "    model.add(MaxPooling2D((2, 2)))\n",
    "    model.add(Flatten())\n",
    "    model.add(Dense(128, activation='relu', kernel_initializer='he_uniform'))\n",
    "    \n",
    "    #model.add(Dense(1, activation='sigmoid'))  ## CHANGE HERE, BASED ON NO. OF CLASSES\n",
    "    model.add(Dense(3, activation='softmax'))\n",
    "    \n",
    "    # compile model\n",
    "    opt = SGD(lr=0.001, momentum=0.9)\n",
    "    #model.compile(optimizer=opt, loss='binary_crossentropy', metrics=['accuracy'])  ## CHANGE HERE, BASED ON NO. OF CLASSES\n",
    "    model.compile(optimizer=opt, loss='categorical_crossentropy', metrics=['accuracy'])\n",
    "    \n",
    "    return model'''"
   ]
  },
  {
   "cell_type": "code",
   "execution_count": 5,
   "metadata": {},
   "outputs": [
    {
     "name": "stderr",
     "output_type": "stream",
     "text": [
      "WARNING: Logging before flag parsing goes to stderr.\n",
      "W1229 23:57:15.500962 12960 deprecation_wrapper.py:119] From C:\\Users\\DAR9KOR\\AppData\\Local\\Continuum\\anaconda3\\envs\\deep_learn\\lib\\site-packages\\keras\\backend\\tensorflow_backend.py:74: The name tf.get_default_graph is deprecated. Please use tf.compat.v1.get_default_graph instead.\n",
      "\n",
      "W1229 23:57:15.570394 12960 deprecation_wrapper.py:119] From C:\\Users\\DAR9KOR\\AppData\\Local\\Continuum\\anaconda3\\envs\\deep_learn\\lib\\site-packages\\keras\\backend\\tensorflow_backend.py:517: The name tf.placeholder is deprecated. Please use tf.compat.v1.placeholder instead.\n",
      "\n",
      "W1229 23:57:15.583571 12960 deprecation_wrapper.py:119] From C:\\Users\\DAR9KOR\\AppData\\Local\\Continuum\\anaconda3\\envs\\deep_learn\\lib\\site-packages\\keras\\backend\\tensorflow_backend.py:4138: The name tf.random_uniform is deprecated. Please use tf.random.uniform instead.\n",
      "\n",
      "W1229 23:57:15.626925 12960 deprecation_wrapper.py:119] From C:\\Users\\DAR9KOR\\AppData\\Local\\Continuum\\anaconda3\\envs\\deep_learn\\lib\\site-packages\\keras\\backend\\tensorflow_backend.py:3976: The name tf.nn.max_pool is deprecated. Please use tf.nn.max_pool2d instead.\n",
      "\n",
      "W1229 23:57:15.785025 12960 deprecation_wrapper.py:119] From C:\\Users\\DAR9KOR\\AppData\\Local\\Continuum\\anaconda3\\envs\\deep_learn\\lib\\site-packages\\keras\\optimizers.py:790: The name tf.train.Optimizer is deprecated. Please use tf.compat.v1.train.Optimizer instead.\n",
      "\n",
      "W1229 23:57:15.807016 12960 deprecation_wrapper.py:119] From C:\\Users\\DAR9KOR\\AppData\\Local\\Continuum\\anaconda3\\envs\\deep_learn\\lib\\site-packages\\keras\\backend\\tensorflow_backend.py:3295: The name tf.log is deprecated. Please use tf.math.log instead.\n",
      "\n"
     ]
    }
   ],
   "source": [
    "model = Sequential()\n",
    "\n",
    "## CHANGE INPUT SHAPE, BASED ON RGB OR GRAYSCALE\n",
    "# specify padding or not?\n",
    "model.add(Conv2D(32, (3, 3), activation='relu', kernel_initializer='he_uniform', padding='same', input_shape=(200, 200, 1)))\n",
    "model.add(MaxPooling2D((2, 2)))\n",
    "model.add(Conv2D(64, (3, 3), activation='relu', kernel_initializer='he_uniform', padding='same'))\n",
    "model.add(MaxPooling2D((2, 2)))\n",
    "model.add(Conv2D(128, (3, 3), activation='relu', kernel_initializer='he_uniform', padding='same'))\n",
    "model.add(MaxPooling2D((2, 2)))\n",
    "model.add(Flatten())\n",
    "model.add(Dense(128, activation='relu', kernel_initializer='he_uniform'))\n",
    "\n",
    "#model.add(Dense(1, activation='sigmoid'))  ## CHANGE HERE, BASED ON NO. OF CLASSES\n",
    "model.add(Dense(3, activation='softmax'))\n",
    "\n",
    "# compile model\n",
    "opt = SGD(lr=0.001, momentum=0.9)\n",
    "#model.compile(optimizer=opt, loss='binary_crossentropy', metrics=['accuracy'])  ## CHANGE HERE, BASED ON NO. OF CLASSES\n",
    "model.compile(optimizer=opt, loss='categorical_crossentropy', metrics=['accuracy'])\n"
   ]
  },
  {
   "cell_type": "code",
   "execution_count": 6,
   "metadata": {},
   "outputs": [
    {
     "name": "stdout",
     "output_type": "stream",
     "text": [
      "_________________________________________________________________\n",
      "Layer (type)                 Output Shape              Param #   \n",
      "=================================================================\n",
      "conv2d_1 (Conv2D)            (None, 200, 200, 32)      320       \n",
      "_________________________________________________________________\n",
      "max_pooling2d_1 (MaxPooling2 (None, 100, 100, 32)      0         \n",
      "_________________________________________________________________\n",
      "conv2d_2 (Conv2D)            (None, 100, 100, 64)      18496     \n",
      "_________________________________________________________________\n",
      "max_pooling2d_2 (MaxPooling2 (None, 50, 50, 64)        0         \n",
      "_________________________________________________________________\n",
      "conv2d_3 (Conv2D)            (None, 50, 50, 128)       73856     \n",
      "_________________________________________________________________\n",
      "max_pooling2d_3 (MaxPooling2 (None, 25, 25, 128)       0         \n",
      "_________________________________________________________________\n",
      "flatten_1 (Flatten)          (None, 80000)             0         \n",
      "_________________________________________________________________\n",
      "dense_1 (Dense)              (None, 128)               10240128  \n",
      "_________________________________________________________________\n",
      "dense_2 (Dense)              (None, 3)                 387       \n",
      "=================================================================\n",
      "Total params: 10,333,187\n",
      "Trainable params: 10,333,187\n",
      "Non-trainable params: 0\n",
      "_________________________________________________________________\n",
      "None\n"
     ]
    }
   ],
   "source": [
    "print(model.summary())"
   ]
  },
  {
   "cell_type": "code",
   "execution_count": 4,
   "metadata": {},
   "outputs": [],
   "source": [
    "# plot diagnostic learning curves\n",
    "def summarize_diagnostics(history):\n",
    "    # plot loss\n",
    "    plt.subplot(211)\n",
    "    plt.title('Cross Entropy Loss')\n",
    "    plt.plot(history.history['loss'], color='blue', label='train')\n",
    "    plt.plot(history.history['val_loss'], color='orange', label='test')\n",
    "    # plot accuracy\n",
    "    plt.subplot(212)\n",
    "    plt.title('Classification Accuracy')\n",
    "    plt.plot(history.history['acc'], color='blue', label='train')   # 'accuracy'\n",
    "    plt.plot(history.history['val_acc'], color='orange', label='test')\n",
    "    # save plot to file\n",
    "    #filename = sys.argv[0].split('/')[-1]\n",
    "    #pyplot.savefig(filename + '_plot.png')\n",
    "    plt.close()"
   ]
  },
  {
   "cell_type": "code",
   "execution_count": null,
   "metadata": {},
   "outputs": [],
   "source": [
    "## class_mode for multiclass?? ***** - check generator function\n",
    "# any other way of setting up? try without generator; see how to lead from csv or directly from images; sahana code\n",
    "#      classes will also need to be read in\n",
    "#      also, randomisation in the order is required\n",
    "\n",
    "# run the test harness for evaluating a model\n",
    "'''def run_test_harness():\n",
    "    \n",
    "    # define model\n",
    "    model = define_model()\n",
    "    \n",
    "    # create data generators\n",
    "    train_datagen = ImageDataGenerator(rescale=1.0/255.0,\n",
    "                                       width_shift_range=0.1, height_shift_range=0.1, horizontal_flip=True)\n",
    "    test_datagen = ImageDataGenerator(rescale=1.0/255.0)\n",
    "    \n",
    "    ## prepare iterators       ## CHANGE class_mode, BASED ON NO. OF CLASSES\n",
    "    #train_it = train_datagen.flow_from_directory('dataset_dogs_vs_cats/train/',\n",
    "    #                                             class_mode='binary', batch_size=64, target_size=(200, 200))\n",
    "    #test_it = test_datagen.flow_from_directory('dataset_dogs_vs_cats/test/',\n",
    "    #                                           class_mode='binary', batch_size=64, target_size=(200, 200))    \n",
    "    train_it = train_datagen.flow_from_directory('./57398/ZooScanSet/runData/train/',\n",
    "                                                 class_mode='categorical', batch_size=64, target_size=(200, 200))\n",
    "    test_it = test_datagen.flow_from_directory('./57398/ZooScanSet/runData/test/',\n",
    "                                               class_mode='categorical', batch_size=64, target_size=(200, 200))\n",
    "    \n",
    "    # fit model\n",
    "    history = model.fit_generator(train_it, steps_per_epoch=len(train_it),\n",
    "                                  validation_data=test_it, validation_steps=len(test_it), epochs=50, verbose=1)\n",
    "    # verbose can be 0,1,2; default is 1\n",
    "    # https://stackoverflow.com/questions/47902295/what-is-the-use-of-verbose-in-keras-while-validating-the-model\n",
    "    \n",
    "    # evaluate model\n",
    "    _, acc = model.evaluate_generator(test_it, steps=len(test_it), verbose=1)\n",
    "    print('> %.3f' % (acc * 100.0))\n",
    "    \n",
    "    # learning curves\n",
    "    summarize_diagnostics(history)\n",
    "    \n",
    "run_test_harness()\n",
    "'''"
   ]
  },
  {
   "cell_type": "code",
   "execution_count": 8,
   "metadata": {},
   "outputs": [
    {
     "name": "stdout",
     "output_type": "stream",
     "text": [
      "Found 2007 images belonging to 3 classes.\n",
      "Found 219 images belonging to 3 classes.\n"
     ]
    }
   ],
   "source": [
    "# define model\n",
    "#model = define_model()\n",
    "\n",
    "\n",
    "# with data augmentation : how much is this augmenting?\n",
    "# create data generators\n",
    "train_datagen = ImageDataGenerator(rescale=1.0/255.0,\n",
    "                                   width_shift_range=0.1, height_shift_range=0.1, horizontal_flip=True)\n",
    "\n",
    "test_datagen = ImageDataGenerator(rescale=1.0/255.0)\n",
    "\n",
    "## prepare iterators       ## CHANGE class_mode, BASED ON NO. OF CLASSES\n",
    "#train_it = train_datagen.flow_from_directory('dataset_dogs_vs_cats/train/',\n",
    "#                                             class_mode='binary', batch_size=64, target_size=(200, 200))\n",
    "#test_it = test_datagen.flow_from_directory('dataset_dogs_vs_cats/test/',\n",
    "#                                           class_mode='binary', batch_size=64, target_size=(200, 200))    \n",
    "train_it = train_datagen.flow_from_directory('./57398/ZooScanSet/runData/train/', color_mode='grayscale',\n",
    "                                             class_mode='categorical', batch_size=64, target_size=(200, 200))\n",
    "test_it = test_datagen.flow_from_directory('./57398/ZooScanSet/runData/test/', color_mode='grayscale',\n",
    "                                           class_mode='categorical', batch_size=64, target_size=(200, 200))\n",
    "\n"
   ]
  },
  {
   "cell_type": "code",
   "execution_count": 9,
   "metadata": {
    "scrolled": true
   },
   "outputs": [
    {
     "name": "stderr",
     "output_type": "stream",
     "text": [
      "W1229 23:58:13.974874 12960 deprecation.py:323] From C:\\Users\\DAR9KOR\\AppData\\Local\\Continuum\\anaconda3\\envs\\deep_learn\\lib\\site-packages\\tensorflow\\python\\ops\\math_grad.py:1250: add_dispatch_support.<locals>.wrapper (from tensorflow.python.ops.array_ops) is deprecated and will be removed in a future version.\n",
      "Instructions for updating:\n",
      "Use tf.where in 2.0, which has the same broadcast rule as np.where\n",
      "W1229 23:58:14.233107 12960 deprecation_wrapper.py:119] From C:\\Users\\DAR9KOR\\AppData\\Local\\Continuum\\anaconda3\\envs\\deep_learn\\lib\\site-packages\\keras\\backend\\tensorflow_backend.py:986: The name tf.assign_add is deprecated. Please use tf.compat.v1.assign_add instead.\n",
      "\n"
     ]
    },
    {
     "name": "stdout",
     "output_type": "stream",
     "text": [
      "Epoch 1/50\n",
      "32/32 [==============================] - 199s 6s/step - loss: 10.2217 - acc: 0.3450 - val_loss: 11.4814 - val_acc: 0.2877\n",
      "Epoch 2/50\n",
      "32/32 [==============================] - 183s 6s/step - loss: 10.4774 - acc: 0.3500 - val_loss: 11.4814 - val_acc: 0.2877\n",
      "Epoch 3/50\n",
      "32/32 [==============================] - 191s 6s/step - loss: 10.4230 - acc: 0.3533 - val_loss: 11.4814 - val_acc: 0.2877\n",
      "Epoch 4/50\n",
      "32/32 [==============================] - 182s 6s/step - loss: 10.4910 - acc: 0.3491 - val_loss: 11.4814 - val_acc: 0.2877\n",
      "Epoch 5/50\n",
      "32/32 [==============================] - 168s 5s/step - loss: 10.5182 - acc: 0.3474 - val_loss: 11.4814 - val_acc: 0.2877\n",
      "Epoch 6/50\n",
      "32/32 [==============================] - 167s 5s/step - loss: 10.4774 - acc: 0.3500 - val_loss: 11.4814 - val_acc: 0.2877\n",
      "Epoch 7/50\n",
      "32/32 [==============================] - 165s 5s/step - loss: 10.5046 - acc: 0.3483 - val_loss: 11.4814 - val_acc: 0.2877\n",
      "Epoch 8/50\n",
      "32/32 [==============================] - 165s 5s/step - loss: 10.4910 - acc: 0.3491 - val_loss: 11.4814 - val_acc: 0.2877\n",
      "Epoch 9/50\n",
      "32/32 [==============================] - 194s 6s/step - loss: 10.4910 - acc: 0.3491 - val_loss: 11.4814 - val_acc: 0.2877\n",
      "Epoch 10/50\n",
      "32/32 [==============================] - 183s 6s/step - loss: 10.4774 - acc: 0.3500 - val_loss: 11.4814 - val_acc: 0.2877\n",
      "Epoch 11/50\n",
      "32/32 [==============================] - 125s 4s/step - loss: 10.4774 - acc: 0.3500 - val_loss: 11.4814 - val_acc: 0.2877\n",
      "Epoch 12/50\n",
      "32/32 [==============================] - 120s 4s/step - loss: 10.5590 - acc: 0.3449 - val_loss: 11.4814 - val_acc: 0.2877\n",
      "Epoch 13/50\n",
      "32/32 [==============================] - 130s 4s/step - loss: 10.4366 - acc: 0.3525 - val_loss: 11.4814 - val_acc: 0.2877\n",
      "Epoch 14/50\n",
      "32/32 [==============================] - 122s 4s/step - loss: 10.4910 - acc: 0.3491 - val_loss: 11.4814 - val_acc: 0.2877\n",
      "Epoch 15/50\n",
      "32/32 [==============================] - 115s 4s/step - loss: 10.4910 - acc: 0.3491 - val_loss: 11.4814 - val_acc: 0.2877\n",
      "Epoch 16/50\n",
      "32/32 [==============================] - 114s 4s/step - loss: 10.4910 - acc: 0.3491 - val_loss: 11.4814 - val_acc: 0.2877\n",
      "Epoch 17/50\n",
      "32/32 [==============================] - 116s 4s/step - loss: 10.4774 - acc: 0.3500 - val_loss: 11.4814 - val_acc: 0.2877\n",
      "Epoch 18/50\n",
      "32/32 [==============================] - 114s 4s/step - loss: 10.5046 - acc: 0.3483 - val_loss: 11.4814 - val_acc: 0.2877\n",
      "Epoch 19/50\n",
      "32/32 [==============================] - 127s 4s/step - loss: 10.5454 - acc: 0.3457 - val_loss: 11.4814 - val_acc: 0.2877\n",
      "Epoch 20/50\n",
      "32/32 [==============================] - 115s 4s/step - loss: 10.5182 - acc: 0.3474 - val_loss: 11.4814 - val_acc: 0.2877\n",
      "Epoch 21/50\n",
      "32/32 [==============================] - 113s 4s/step - loss: 10.5454 - acc: 0.3457 - val_loss: 11.4814 - val_acc: 0.2877\n",
      "Epoch 22/50\n",
      "32/32 [==============================] - 113s 4s/step - loss: 10.5046 - acc: 0.3483 - val_loss: 11.4814 - val_acc: 0.2877\n",
      "Epoch 23/50\n",
      "32/32 [==============================] - 124s 4s/step - loss: 10.4774 - acc: 0.3500 - val_loss: 11.4814 - val_acc: 0.2877\n",
      "Epoch 24/50\n",
      "32/32 [==============================] - 113s 4s/step - loss: 10.5454 - acc: 0.3457 - val_loss: 11.4814 - val_acc: 0.2877\n",
      "Epoch 25/50\n",
      "32/32 [==============================] - 111s 3s/step - loss: 10.5046 - acc: 0.3483 - val_loss: 11.4814 - val_acc: 0.2877\n",
      "Epoch 26/50\n",
      "32/32 [==============================] - 111s 3s/step - loss: 10.5046 - acc: 0.3483 - val_loss: 11.4814 - val_acc: 0.2877\n",
      "Epoch 27/50\n",
      "32/32 [==============================] - 111s 3s/step - loss: 10.5182 - acc: 0.3474 - val_loss: 11.4814 - val_acc: 0.2877\n",
      "Epoch 28/50\n",
      "32/32 [==============================] - 109s 3s/step - loss: 10.4774 - acc: 0.3500 - val_loss: 11.4814 - val_acc: 0.2877\n",
      "Epoch 29/50\n",
      "32/32 [==============================] - 121s 4s/step - loss: 10.5590 - acc: 0.3449 - val_loss: 11.4814 - val_acc: 0.2877\n",
      "Epoch 30/50\n",
      "32/32 [==============================] - 108s 3s/step - loss: 10.5182 - acc: 0.3474 - val_loss: 11.4814 - val_acc: 0.2877\n",
      "Epoch 31/50\n",
      "32/32 [==============================] - 113s 4s/step - loss: 10.5046 - acc: 0.3483 - val_loss: 11.4814 - val_acc: 0.2877\n",
      "Epoch 32/50\n",
      "32/32 [==============================] - 111s 3s/step - loss: 10.5046 - acc: 0.3483 - val_loss: 11.4814 - val_acc: 0.2877\n",
      "Epoch 33/50\n",
      "32/32 [==============================] - 111s 3s/step - loss: 10.5454 - acc: 0.3457 - val_loss: 11.4814 - val_acc: 0.2877\n",
      "Epoch 34/50\n",
      "32/32 [==============================] - 111s 3s/step - loss: 10.4910 - acc: 0.3491 - val_loss: 11.4814 - val_acc: 0.2877\n",
      "Epoch 35/50\n",
      "32/32 [==============================] - 111s 3s/step - loss: 10.5046 - acc: 0.3483 - val_loss: 11.4814 - val_acc: 0.2877\n",
      "Epoch 36/50\n",
      "32/32 [==============================] - 111s 3s/step - loss: 10.5182 - acc: 0.3474 - val_loss: 11.4814 - val_acc: 0.2877\n",
      "Epoch 37/50\n",
      "32/32 [==============================] - 111s 3s/step - loss: 10.4910 - acc: 0.3491 - val_loss: 11.4814 - val_acc: 0.2877\n",
      "Epoch 38/50\n",
      "32/32 [==============================] - 111s 3s/step - loss: 10.5318 - acc: 0.3466 - val_loss: 11.4814 - val_acc: 0.2877\n",
      "Epoch 39/50\n",
      "32/32 [==============================] - 119s 4s/step - loss: 10.4910 - acc: 0.3491 - val_loss: 11.4814 - val_acc: 0.2877\n",
      "Epoch 40/50\n",
      "32/32 [==============================] - 116s 4s/step - loss: 10.4910 - acc: 0.3491 - val_loss: 11.4814 - val_acc: 0.2877\n",
      "Epoch 41/50\n",
      "32/32 [==============================] - 111s 3s/step - loss: 10.5182 - acc: 0.3474 - val_loss: 11.4814 - val_acc: 0.2877\n",
      "Epoch 42/50\n",
      "32/32 [==============================] - 111s 3s/step - loss: 10.4774 - acc: 0.3500 - val_loss: 11.4814 - val_acc: 0.2877\n",
      "Epoch 43/50\n",
      "32/32 [==============================] - 108s 3s/step - loss: 10.5590 - acc: 0.3449 - val_loss: 11.4814 - val_acc: 0.2877\n",
      "Epoch 44/50\n",
      "32/32 [==============================] - 117s 4s/step - loss: 10.5318 - acc: 0.3466 - val_loss: 11.4814 - val_acc: 0.2877\n",
      "Epoch 45/50\n",
      "32/32 [==============================] - 108s 3s/step - loss: 10.4910 - acc: 0.3491 - val_loss: 11.4814 - val_acc: 0.2877\n",
      "Epoch 46/50\n",
      "32/32 [==============================] - 108s 3s/step - loss: 10.5046 - acc: 0.3483 - val_loss: 11.4814 - val_acc: 0.2877\n",
      "Epoch 47/50\n",
      "32/32 [==============================] - 108s 3s/step - loss: 10.5182 - acc: 0.3474 - val_loss: 11.4814 - val_acc: 0.2877\n",
      "Epoch 48/50\n",
      "32/32 [==============================] - 108s 3s/step - loss: 10.5454 - acc: 0.3457 - val_loss: 11.4814 - val_acc: 0.2877\n",
      "Epoch 49/50\n",
      "32/32 [==============================] - 112s 3s/step - loss: 10.5182 - acc: 0.3474 - val_loss: 11.4814 - val_acc: 0.2877\n",
      "Epoch 50/50\n",
      "32/32 [==============================] - 119s 4s/step - loss: 10.4774 - acc: 0.3500 - val_loss: 11.4814 - val_acc: 0.2877\n"
     ]
    }
   ],
   "source": [
    "# fit model\n",
    "history = model.fit_generator(train_it, steps_per_epoch=len(train_it),\n",
    "                              validation_data=test_it, validation_steps=len(test_it), epochs=50, verbose=1)\n",
    "# verbose can be 0,1,2; default is 1\n",
    "# https://stackoverflow.com/questions/47902295/what-is-the-use-of-verbose-in-keras-while-validating-the-model\n"
   ]
  },
  {
   "cell_type": "code",
   "execution_count": 10,
   "metadata": {},
   "outputs": [
    {
     "name": "stdout",
     "output_type": "stream",
     "text": [
      "4/4 [==============================] - 3s 832ms/step\n",
      "> 30.137\n"
     ]
    }
   ],
   "source": [
    "# evaluate model\n",
    "_, acc = model.evaluate_generator(test_it, steps=len(test_it), verbose=1)\n",
    "print('> %.3f' % (acc * 100.0))"
   ]
  },
  {
   "cell_type": "code",
   "execution_count": 15,
   "metadata": {},
   "outputs": [
    {
     "name": "stdout",
     "output_type": "stream",
     "text": [
      "{'val_loss': [11.481383436891042, 11.481383040615412, 11.481382883847031, 11.481382770625423, 11.481383445600397, 11.481383044970089, 11.481382892556386, 11.481383044970089, 11.481383162546376, 11.481383166901052, 11.481383166901052, 11.481383179965084, 11.481382901265741, 11.481383166901052, 11.48138276191607, 11.481382909975096, 11.481382766270746, 11.481382914329773, 11.481383441245718, 11.48138317125573, 11.481382901265741, 11.481382613857043, 11.481382774980101, 11.481382639985107, 11.481383162546376, 11.481383175610407, 11.481383044970089, 11.481383036260736, 11.481383175610407, 11.481383593659423, 11.481383158191699, 11.481382766270746, 11.481383166901052, 11.481383049324767, 11.48138317125573, 11.481383188674439, 11.481382883847031, 11.48138291868445, 11.48138317125573, 11.481383162546376, 11.481382901265741, 11.481382901265741, 11.481383166901052, 11.481382914329773, 11.481383049324767, 11.481382901265741, 11.481382639985107, 11.48138261821172, 11.481382766270746, 11.481383162546376], 'val_acc': [0.2876712330808378, 0.2876712330808378, 0.28767123219629404, 0.28767123314887966, 0.28767123314887966, 0.28767123219629404, 0.2876712341014653, 0.28767123219629404, 0.28767123219629404, 0.28767123314887966, 0.28767123314887966, 0.2876712323323777, 0.2876712323323777, 0.28767123314887966, 0.2876712330808378, 0.287671234237549, 0.28767123219629404, 0.287671233012796, 0.28767123219629404, 0.2876712341014653, 0.2876712323323777, 0.2876712341014653, 0.2876712341014653, 0.2876712321282522, 0.28767123219629404, 0.287671231379792, 0.28767123219629404, 0.2876712321282522, 0.287671231379792, 0.2876712321282522, 0.2876712330808378, 0.28767123219629404, 0.28767123314887966, 0.28767123314887966, 0.2876712341014653, 0.287671234237549, 0.28767123219629404, 0.2876712321282522, 0.2876712341014653, 0.28767123219629404, 0.2876712323323777, 0.2876712323323777, 0.28767123314887966, 0.287671233012796, 0.28767123314887966, 0.2876712323323777, 0.2876712321282522, 0.287671231379792, 0.28767123219629404, 0.28767123219629404], 'loss': [10.20206444430957, 10.504468723500494, 10.504468735379845, 10.504468737280542, 10.504468736805366, 10.50446884514505, 10.504468731578452, 10.504468646047124, 10.504468828513959, 10.50446884514505, 10.504468723500494, 10.50446875011024, 10.504468693802115, 10.504468706869401, 10.504468717798405, 10.504468676458263, 10.504468693089354, 10.504468761989592, 10.504468736330193, 10.504468797627645, 10.504468705919054, 10.504468651274038, 10.504468753911633, 10.504468645096775, 10.504468701167314, 10.504468670756173, 10.50446867598309, 10.504468693089354, 10.504468628465684, 10.504468706394228, 10.504468761989592, 10.504468701167314, 10.504468675507916, 10.504468626564988, 10.504468731578452, 10.504468736805366, 10.504468798102819, 10.504468761514417, 10.504468676458263, 10.504468646047124, 10.504468645571949, 10.504468662678216, 10.504468719699101, 10.504468670281, 10.504468798102819, 10.504468731578452, 10.50446867598309, 10.504468736330193, 10.504468797627645, 10.504468814733912], 'acc': [0.34578973577577315, 0.34828101627911034, 0.34828101614546764, 0.3482810163979039, 0.3482810162939595, 0.34828101627911034, 0.34828101651669735, 0.3482810163979039, 0.3482810163979039, 0.34828101627911034, 0.34828101627911034, 0.3482810164795744, 0.34828101626426117, 0.3482810163979039, 0.3482810163979039, 0.3482810163979039, 0.34828101627911034, 0.34828101651669735, 0.3482810163607809, 0.3482810162939595, 0.3482810163607809, 0.34828101651669735, 0.34828101627911034, 0.3482810163607809, 0.34828101651669735, 0.34828101651669735, 0.3482810162939595, 0.34828101627911034, 0.3482810164795744, 0.3482810162939595, 0.34828101651669735, 0.34828101651669735, 0.3482810163607809, 0.3482810163979039, 0.34828101651669735, 0.3482810162939595, 0.3482810163979039, 0.34828101641275305, 0.3482810163979039, 0.3482810163979039, 0.3482810162939595, 0.34828101627911034, 0.3482810164795744, 0.34828101641275305, 0.3482810163979039, 0.34828101651669735, 0.3482810162939595, 0.3482810163607809, 0.3482810162939595, 0.34828101627911034]}\n"
     ]
    }
   ],
   "source": [
    "print(history.history)"
   ]
  },
  {
   "cell_type": "code",
   "execution_count": 21,
   "metadata": {},
   "outputs": [
    {
     "data": {
      "text/plain": [
       "[<matplotlib.lines.Line2D at 0x1d382c76160>]"
      ]
     },
     "execution_count": 21,
     "metadata": {},
     "output_type": "execute_result"
    },
    {
     "data": {
      "image/png": "[encoded data removed]",
      "text/plain": [
       "<Figure size 432x288 with 2 Axes>"
      ]
     },
     "metadata": {
      "needs_background": "light"
     },
     "output_type": "display_data"
    }
   ],
   "source": [
    "# learning curves\n",
    "#from matplotlib import pyplot\n",
    "#summarize_diagnostics(history)\n",
    "\n",
    "# plot loss\n",
    "pyplot.subplot(211)\n",
    "pyplot.title('Cross Entropy Loss')\n",
    "pyplot.plot(history.history['loss'], color='blue', label='train')\n",
    "pyplot.plot(history.history['val_loss'], color='orange', label='test')\n",
    "# plot accuracy\n",
    "pyplot.subplot(212)\n",
    "pyplot.title('Classification Accuracy')\n",
    "pyplot.plot(history.history['acc'], color='blue', label='train')   # 'accuracy'\n",
    "pyplot.plot(history.history['val_acc'], color='orange', label='test')\n",
    "# save plot to file\n",
    "#filename = sys.argv[0].split('/')[-1]\n",
    "#pyplot.savefig(filename + '_plot.png')\n",
    "#pyplot.close()"
   ]
  },
  {
   "cell_type": "code",
   "execution_count": null,
   "metadata": {},
   "outputs": [],
   "source": [
    "# save model? -saving and loading a Keras model requires that the h5py library (HDF5 file format) is installed \n",
    "#!conda install h5py\n",
    "#!pip install h5py \n",
    "\n",
    "import h5py\n",
    "model.save('final_model.h5')"
   ]
  },
  {
   "cell_type": "code",
   "execution_count": null,
   "metadata": {},
   "outputs": [],
   "source": []
  },
  {
   "cell_type": "code",
   "execution_count": null,
   "metadata": {},
   "outputs": [],
   "source": []
  },
  {
   "cell_type": "code",
   "execution_count": null,
   "metadata": {},
   "outputs": [],
   "source": []
  },
  {
   "cell_type": "code",
   "execution_count": null,
   "metadata": {},
   "outputs": [],
   "source": [
    "### try different optimiser: Adam"
   ]
  },
  {
   "cell_type": "code",
   "execution_count": 5,
   "metadata": {},
   "outputs": [
    {
     "name": "stderr",
     "output_type": "stream",
     "text": [
      "WARNING: Logging before flag parsing goes to stderr.\n",
      "W1230 19:30:38.782941  8896 deprecation_wrapper.py:119] From C:\\Users\\DAR9KOR\\AppData\\Local\\Continuum\\anaconda3\\envs\\deep_learn\\lib\\site-packages\\keras\\backend\\tensorflow_backend.py:74: The name tf.get_default_graph is deprecated. Please use tf.compat.v1.get_default_graph instead.\n",
      "\n",
      "W1230 19:30:38.899724  8896 deprecation_wrapper.py:119] From C:\\Users\\DAR9KOR\\AppData\\Local\\Continuum\\anaconda3\\envs\\deep_learn\\lib\\site-packages\\keras\\backend\\tensorflow_backend.py:517: The name tf.placeholder is deprecated. Please use tf.compat.v1.placeholder instead.\n",
      "\n",
      "W1230 19:30:38.919617  8896 deprecation_wrapper.py:119] From C:\\Users\\DAR9KOR\\AppData\\Local\\Continuum\\anaconda3\\envs\\deep_learn\\lib\\site-packages\\keras\\backend\\tensorflow_backend.py:4138: The name tf.random_uniform is deprecated. Please use tf.random.uniform instead.\n",
      "\n",
      "W1230 19:30:38.961873  8896 deprecation_wrapper.py:119] From C:\\Users\\DAR9KOR\\AppData\\Local\\Continuum\\anaconda3\\envs\\deep_learn\\lib\\site-packages\\keras\\backend\\tensorflow_backend.py:3976: The name tf.nn.max_pool is deprecated. Please use tf.nn.max_pool2d instead.\n",
      "\n",
      "W1230 19:30:39.126816  8896 deprecation_wrapper.py:119] From C:\\Users\\DAR9KOR\\AppData\\Local\\Continuum\\anaconda3\\envs\\deep_learn\\lib\\site-packages\\keras\\optimizers.py:790: The name tf.train.Optimizer is deprecated. Please use tf.compat.v1.train.Optimizer instead.\n",
      "\n",
      "W1230 19:30:39.170552  8896 deprecation_wrapper.py:119] From C:\\Users\\DAR9KOR\\AppData\\Local\\Continuum\\anaconda3\\envs\\deep_learn\\lib\\site-packages\\keras\\backend\\tensorflow_backend.py:3295: The name tf.log is deprecated. Please use tf.math.log instead.\n",
      "\n"
     ]
    },
    {
     "name": "stdout",
     "output_type": "stream",
     "text": [
      "_________________________________________________________________\n",
      "Layer (type)                 Output Shape              Param #   \n",
      "=================================================================\n",
      "conv2d_1 (Conv2D)            (None, 200, 200, 32)      320       \n",
      "_________________________________________________________________\n",
      "max_pooling2d_1 (MaxPooling2 (None, 100, 100, 32)      0         \n",
      "_________________________________________________________________\n",
      "conv2d_2 (Conv2D)            (None, 100, 100, 64)      18496     \n",
      "_________________________________________________________________\n",
      "max_pooling2d_2 (MaxPooling2 (None, 50, 50, 64)        0         \n",
      "_________________________________________________________________\n",
      "conv2d_3 (Conv2D)            (None, 50, 50, 128)       73856     \n",
      "_________________________________________________________________\n",
      "max_pooling2d_3 (MaxPooling2 (None, 25, 25, 128)       0         \n",
      "_________________________________________________________________\n",
      "flatten_1 (Flatten)          (None, 80000)             0         \n",
      "_________________________________________________________________\n",
      "dense_1 (Dense)              (None, 128)               10240128  \n",
      "_________________________________________________________________\n",
      "dense_2 (Dense)              (None, 3)                 387       \n",
      "=================================================================\n",
      "Total params: 10,333,187\n",
      "Trainable params: 10,333,187\n",
      "Non-trainable params: 0\n",
      "_________________________________________________________________\n",
      "None\n"
     ]
    }
   ],
   "source": [
    "model = Sequential()\n",
    "\n",
    "## CHANGE INPUT SHAPE, BASED ON RGB OR GRAYSCALE\n",
    "# specify padding or not?\n",
    "model.add(Conv2D(32, (3, 3), activation='relu', kernel_initializer='he_uniform', padding='same', input_shape=(200, 200, 1)))\n",
    "model.add(MaxPooling2D((2, 2)))\n",
    "model.add(Conv2D(64, (3, 3), activation='relu', kernel_initializer='he_uniform', padding='same'))\n",
    "model.add(MaxPooling2D((2, 2)))\n",
    "model.add(Conv2D(128, (3, 3), activation='relu', kernel_initializer='he_uniform', padding='same'))\n",
    "model.add(MaxPooling2D((2, 2)))\n",
    "model.add(Flatten())\n",
    "model.add(Dense(128, activation='relu', kernel_initializer='he_uniform'))\n",
    "\n",
    "#model.add(Dense(1, activation='sigmoid'))  ## CHANGE HERE, BASED ON NO. OF CLASSES\n",
    "model.add(Dense(3, activation='softmax'))\n",
    "\n",
    "# compile model\n",
    "#opt = SGD(lr=0.001, momentum=0.9)\n",
    "#model.compile(optimizer=opt, loss='binary_crossentropy', metrics=['accuracy'])  ## CHANGE HERE, BASED ON NO. OF CLASSES\n",
    "model.compile(optimizer='adam', loss='categorical_crossentropy', metrics=['accuracy'])\n",
    "\n",
    "print(model.summary())"
   ]
  },
  {
   "cell_type": "code",
   "execution_count": 6,
   "metadata": {},
   "outputs": [
    {
     "name": "stdout",
     "output_type": "stream",
     "text": [
      "Found 2007 images belonging to 3 classes.\n",
      "Found 219 images belonging to 3 classes.\n"
     ]
    },
    {
     "name": "stderr",
     "output_type": "stream",
     "text": [
      "W1230 19:33:31.857776  8896 deprecation.py:323] From C:\\Users\\DAR9KOR\\AppData\\Local\\Continuum\\anaconda3\\envs\\deep_learn\\lib\\site-packages\\tensorflow\\python\\ops\\math_grad.py:1250: add_dispatch_support.<locals>.wrapper (from tensorflow.python.ops.array_ops) is deprecated and will be removed in a future version.\n",
      "Instructions for updating:\n",
      "Use tf.where in 2.0, which has the same broadcast rule as np.where\n",
      "W1230 19:33:32.193625  8896 deprecation_wrapper.py:119] From C:\\Users\\DAR9KOR\\AppData\\Local\\Continuum\\anaconda3\\envs\\deep_learn\\lib\\site-packages\\keras\\backend\\tensorflow_backend.py:986: The name tf.assign_add is deprecated. Please use tf.compat.v1.assign_add instead.\n",
      "\n"
     ]
    },
    {
     "name": "stdout",
     "output_type": "stream",
     "text": [
      "Epoch 1/50\n",
      "32/32 [==============================] - 207s 6s/step - loss: 10.7346 - acc: 0.3174 - val_loss: 10.4510 - val_acc: 0.3516\n",
      "Epoch 2/50\n",
      "32/32 [==============================] - 198s 6s/step - loss: 11.0738 - acc: 0.3130 - val_loss: 10.4510 - val_acc: 0.3516\n",
      "Epoch 3/50\n",
      "32/32 [==============================] - 194s 6s/step - loss: 11.1146 - acc: 0.3104 - val_loss: 10.4510 - val_acc: 0.3516\n",
      "Epoch 4/50\n",
      "32/32 [==============================] - 173s 5s/step - loss: 11.0874 - acc: 0.3121 - val_loss: 10.4510 - val_acc: 0.3516\n",
      "Epoch 5/50\n",
      "32/32 [==============================] - 194s 6s/step - loss: 11.0874 - acc: 0.3121 - val_loss: 10.4510 - val_acc: 0.3516\n",
      "Epoch 6/50\n",
      "32/32 [==============================] - 208s 6s/step - loss: 11.0738 - acc: 0.3130 - val_loss: 10.4510 - val_acc: 0.3516\n",
      "Epoch 7/50\n",
      "32/32 [==============================] - 177s 6s/step - loss: 11.1282 - acc: 0.3096 - val_loss: 10.4510 - val_acc: 0.3516\n",
      "Epoch 8/50\n",
      "32/32 [==============================] - 128s 4s/step - loss: 11.1146 - acc: 0.3104 - val_loss: 10.4510 - val_acc: 0.3516\n",
      "Epoch 9/50\n",
      "32/32 [==============================] - 133s 4s/step - loss: 11.0874 - acc: 0.3121 - val_loss: 10.4510 - val_acc: 0.3516\n",
      "Epoch 10/50\n",
      "32/32 [==============================] - 116s 4s/step - loss: 11.0602 - acc: 0.3138 - val_loss: 10.4510 - val_acc: 0.3516\n",
      "Epoch 11/50\n",
      "32/32 [==============================] - 134s 4s/step - loss: 11.0874 - acc: 0.3121 - val_loss: 10.4510 - val_acc: 0.3516\n",
      "Epoch 12/50\n",
      "32/32 [==============================] - 145s 5s/step - loss: 11.1146 - acc: 0.3104 - val_loss: 10.4510 - val_acc: 0.3516\n",
      "Epoch 13/50\n",
      "32/32 [==============================] - 136s 4s/step - loss: 11.1282 - acc: 0.3096 - val_loss: 10.4510 - val_acc: 0.3516\n",
      "Epoch 14/50\n",
      "32/32 [==============================] - 127s 4s/step - loss: 11.1010 - acc: 0.3113 - val_loss: 10.4510 - val_acc: 0.3516\n",
      "Epoch 15/50\n",
      "32/32 [==============================] - 138s 4s/step - loss: 11.1146 - acc: 0.3104 - val_loss: 10.4510 - val_acc: 0.3516\n",
      "Epoch 16/50\n",
      "32/32 [==============================] - 154s 5s/step - loss: 11.1282 - acc: 0.3096 - val_loss: 10.4510 - val_acc: 0.3516\n",
      "Epoch 17/50\n",
      "32/32 [==============================] - 119s 4s/step - loss: 11.1146 - acc: 0.3104 - val_loss: 10.4510 - val_acc: 0.3516\n",
      "Epoch 18/50\n",
      "32/32 [==============================] - 118s 4s/step - loss: 11.1282 - acc: 0.3096 - val_loss: 10.4510 - val_acc: 0.3516\n",
      "Epoch 19/50\n",
      "32/32 [==============================] - 130s 4s/step - loss: 11.1282 - acc: 0.3096 - val_loss: 10.4510 - val_acc: 0.3516\n",
      "Epoch 20/50\n",
      "32/32 [==============================] - 124s 4s/step - loss: 11.0738 - acc: 0.3130 - val_loss: 10.4510 - val_acc: 0.3516\n",
      "Epoch 21/50\n",
      "32/32 [==============================] - 124s 4s/step - loss: 11.0602 - acc: 0.3138 - val_loss: 10.4510 - val_acc: 0.3516\n",
      "Epoch 22/50\n",
      "32/32 [==============================] - 127s 4s/step - loss: 11.0874 - acc: 0.3121 - val_loss: 10.4510 - val_acc: 0.3516\n",
      "Epoch 23/50\n",
      "32/32 [==============================] - 118s 4s/step - loss: 11.1010 - acc: 0.3113 - val_loss: 10.4510 - val_acc: 0.3516\n",
      "Epoch 24/50\n",
      "32/32 [==============================] - 115s 4s/step - loss: 11.1010 - acc: 0.3113 - val_loss: 10.4510 - val_acc: 0.3516\n",
      "Epoch 25/50\n",
      "32/32 [==============================] - 127s 4s/step - loss: 11.1282 - acc: 0.3096 - val_loss: 10.4510 - val_acc: 0.3516\n",
      "Epoch 26/50\n",
      "32/32 [==============================] - 129s 4s/step - loss: 11.1554 - acc: 0.3079 - val_loss: 10.4510 - val_acc: 0.3516\n",
      "Epoch 27/50\n",
      "32/32 [==============================] - 139s 4s/step - loss: 11.0057 - acc: 0.3172 - val_loss: 10.4510 - val_acc: 0.3516\n",
      "Epoch 31/50\n",
      "32/32 [==============================] - 120s 4s/step - loss: 11.1282 - acc: 0.3096 - val_loss: 10.4510 - val_acc: 0.3516\n",
      "Epoch 32/50\n",
      "32/32 [==============================] - 117s 4s/step - loss: 11.1010 - acc: 0.3113 - val_loss: 10.4510 - val_acc: 0.3516\n",
      "Epoch 33/50\n",
      "32/32 [==============================] - 117s 4s/step - loss: 11.0466 - acc: 0.3146 - val_loss: 10.4510 - val_acc: 0.3516\n",
      "Epoch 34/50\n",
      "32/32 [==============================] - 118s 4s/step - loss: 11.1554 - acc: 0.3079 - val_loss: 10.4510 - val_acc: 0.3516\n",
      "Epoch 35/50\n",
      "32/32 [==============================] - 116s 4s/step - loss: 11.1146 - acc: 0.3104 - val_loss: 10.4510 - val_acc: 0.3516\n",
      "Epoch 36/50\n",
      "32/32 [==============================] - 118s 4s/step - loss: 11.0874 - acc: 0.3121 - val_loss: 10.4510 - val_acc: 0.3516\n",
      "Epoch 37/50\n",
      "32/32 [==============================] - 118s 4s/step - loss: 11.1418 - acc: 0.3087 - val_loss: 10.4510 - val_acc: 0.3516\n",
      "Epoch 38/50\n",
      "32/32 [==============================] - 125s 4s/step - loss: 11.1282 - acc: 0.3096 - val_loss: 10.4510 - val_acc: 0.3516\n",
      "Epoch 39/50\n",
      "32/32 [==============================] - 115s 4s/step - loss: 11.0193 - acc: 0.3163 - val_loss: 10.4510 - val_acc: 0.3516\n",
      "Epoch 40/50\n",
      "32/32 [==============================] - 129s 4s/step - loss: 11.1418 - acc: 0.3087 - val_loss: 10.4510 - val_acc: 0.3516\n",
      "Epoch 41/50\n",
      "32/32 [==============================] - 115s 4s/step - loss: 11.0738 - acc: 0.3130 - val_loss: 10.4510 - val_acc: 0.3516\n",
      "Epoch 42/50\n",
      "32/32 [==============================] - 119s 4s/step - loss: 11.1282 - acc: 0.3096 - val_loss: 10.4510 - val_acc: 0.3516\n",
      "Epoch 43/50\n",
      "32/32 [==============================] - 123s 4s/step - loss: 11.1554 - acc: 0.3079 - val_loss: 10.4510 - val_acc: 0.3516\n",
      "Epoch 44/50\n",
      "32/32 [==============================] - 114s 4s/step - loss: 11.1826 - acc: 0.3062 - val_loss: 10.4510 - val_acc: 0.3516\n",
      "Epoch 45/50\n",
      "32/32 [==============================] - 114s 4s/step - loss: 11.1146 - acc: 0.3104 - val_loss: 10.4510 - val_acc: 0.3516\n",
      "Epoch 46/50\n",
      "32/32 [==============================] - 116s 4s/step - loss: 11.0874 - acc: 0.3121 - val_loss: 10.4510 - val_acc: 0.3516\n",
      "Epoch 47/50\n",
      "32/32 [==============================] - 115s 4s/step - loss: 11.1010 - acc: 0.3113 - val_loss: 10.4510 - val_acc: 0.3516\n",
      "Epoch 48/50\n",
      "32/32 [==============================] - 126s 4s/step - loss: 11.0738 - acc: 0.3130 - val_loss: 10.4510 - val_acc: 0.3516\n",
      "Epoch 49/50\n",
      "32/32 [==============================] - 129s 4s/step - loss: 11.1690 - acc: 0.3071 - val_loss: 10.4510 - val_acc: 0.3516\n",
      "Epoch 50/50\n",
      "32/32 [==============================] - 138s 4s/step - loss: 11.1146 - acc: 0.3104 - val_loss: 10.4510 - val_acc: 0.3516\n"
     ]
    }
   ],
   "source": [
    "train_datagen = ImageDataGenerator(rescale=1.0/255.0,\n",
    "                                   width_shift_range=0.1, height_shift_range=0.1, horizontal_flip=True)\n",
    "\n",
    "test_datagen = ImageDataGenerator(rescale=1.0/255.0)\n",
    "\n",
    "## prepare iterators       ## CHANGE class_mode, BASED ON NO. OF CLASSES\n",
    "#train_it = train_datagen.flow_from_directory('dataset_dogs_vs_cats/train/',\n",
    "#                                             class_mode='binary', batch_size=64, target_size=(200, 200))\n",
    "#test_it = test_datagen.flow_from_directory('dataset_dogs_vs_cats/test/',\n",
    "#                                           class_mode='binary', batch_size=64, target_size=(200, 200))    \n",
    "train_it = train_datagen.flow_from_directory('./57398/ZooScanSet/runData/train/', color_mode='grayscale',\n",
    "                                             class_mode='categorical', batch_size=64, target_size=(200, 200))\n",
    "test_it = test_datagen.flow_from_directory('./57398/ZooScanSet/runData/test/', color_mode='grayscale',\n",
    "                                           class_mode='categorical', batch_size=64, target_size=(200, 200))\n",
    "\n",
    "# fit model\n",
    "history = model.fit_generator(train_it, steps_per_epoch=len(train_it),\n",
    "                              validation_data=test_it, validation_steps=len(test_it), epochs=50, verbose=1)"
   ]
  },
  {
   "cell_type": "code",
   "execution_count": 7,
   "metadata": {},
   "outputs": [
    {
     "name": "stdout",
     "output_type": "stream",
     "text": [
      "4/4 [==============================] - 6s 1s/step\n",
      "> 33.790\n"
     ]
    }
   ],
   "source": [
    "# evaluate model\n",
    "_, acc = model.evaluate_generator(test_it, steps=len(test_it), verbose=1)\n",
    "print('> %.3f' % (acc * 100.0))"
   ]
  },
  {
   "cell_type": "code",
   "execution_count": 8,
   "metadata": {},
   "outputs": [
    {
     "name": "stdout",
     "output_type": "stream",
     "text": [
      "32\n"
     ]
    }
   ],
   "source": [
    "print(len(train_it))  # this is the no. of iterations per epoch = train_data_size/ batch_size"
   ]
  },
  {
   "cell_type": "code",
   "execution_count": 9,
   "metadata": {},
   "outputs": [
    {
     "data": {
      "text/plain": [
       "4"
      ]
     },
     "execution_count": 9,
     "metadata": {},
     "output_type": "execute_result"
    }
   ],
   "source": [
    "len(test_it)"
   ]
  },
  {
   "cell_type": "code",
   "execution_count": 10,
   "metadata": {},
   "outputs": [
    {
     "name": "stdout",
     "output_type": "stream",
     "text": [
      "4/4 [==============================] - 4s 988ms/step\n"
     ]
    },
    {
     "data": {
      "text/plain": [
       "[10.156608124301858, 0.3698630139027556]"
      ]
     },
     "execution_count": 10,
     "metadata": {},
     "output_type": "execute_result"
    }
   ],
   "source": [
    "model.evaluate_generator(test_it, steps=len(test_it), verbose=1)"
   ]
  },
  {
   "cell_type": "code",
   "execution_count": null,
   "metadata": {},
   "outputs": [],
   "source": []
  },
  {
   "cell_type": "code",
   "execution_count": null,
   "metadata": {},
   "outputs": [],
   "source": []
  },
  {
   "cell_type": "code",
   "execution_count": null,
   "metadata": {},
   "outputs": [],
   "source": [
    "### round 2 : try different model ####"
   ]
  },
  {
   "cell_type": "code",
   "execution_count": 11,
   "metadata": {},
   "outputs": [
    {
     "name": "stderr",
     "output_type": "stream",
     "text": [
      "W0103 16:38:27.161437  8896 deprecation.py:506] From C:\\Users\\DAR9KOR\\AppData\\Local\\Continuum\\anaconda3\\envs\\deep_learn\\lib\\site-packages\\keras\\backend\\tensorflow_backend.py:3445: calling dropout (from tensorflow.python.ops.nn_ops) with keep_prob is deprecated and will be removed in a future version.\n",
      "Instructions for updating:\n",
      "Please use `rate` instead of `keep_prob`. Rate should be set to `rate = 1 - keep_prob`.\n"
     ]
    },
    {
     "name": "stdout",
     "output_type": "stream",
     "text": [
      "_________________________________________________________________\n",
      "Layer (type)                 Output Shape              Param #   \n",
      "=================================================================\n",
      "conv2d_4 (Conv2D)            (None, 200, 200, 32)      320       \n",
      "_________________________________________________________________\n",
      "max_pooling2d_4 (MaxPooling2 (None, 100, 100, 32)      0         \n",
      "_________________________________________________________________\n",
      "conv2d_5 (Conv2D)            (None, 100, 100, 32)      9248      \n",
      "_________________________________________________________________\n",
      "max_pooling2d_5 (MaxPooling2 (None, 50, 50, 32)        0         \n",
      "_________________________________________________________________\n",
      "conv2d_6 (Conv2D)            (None, 50, 50, 64)        18496     \n",
      "_________________________________________________________________\n",
      "max_pooling2d_6 (MaxPooling2 (None, 25, 25, 64)        0         \n",
      "_________________________________________________________________\n",
      "flatten_2 (Flatten)          (None, 40000)             0         \n",
      "_________________________________________________________________\n",
      "dense_3 (Dense)              (None, 64)                2560064   \n",
      "_________________________________________________________________\n",
      "dropout_1 (Dropout)          (None, 64)                0         \n",
      "_________________________________________________________________\n",
      "dense_4 (Dense)              (None, 3)                 195       \n",
      "=================================================================\n",
      "Total params: 2,588,323\n",
      "Trainable params: 2,588,323\n",
      "Non-trainable params: 0\n",
      "_________________________________________________________________\n",
      "None\n"
     ]
    }
   ],
   "source": [
    "from keras.layers import Dropout\n",
    "\n",
    "model = Sequential()\n",
    "\n",
    "## CHANGE INPUT SHAPE, BASED ON RGB OR GRAYSCALE\n",
    "# specify padding or not?\n",
    "model.add(Conv2D(32, (3, 3), activation='relu', kernel_initializer='he_uniform', padding='same', input_shape=(200, 200, 1)))\n",
    "model.add(MaxPooling2D((2, 2)))\n",
    "#model.add(Dropout(0.2))\n",
    "\n",
    "model.add(Conv2D(32, (3, 3), activation='relu', kernel_initializer='he_uniform', padding='same'))\n",
    "model.add(MaxPooling2D((2, 2)))\n",
    "#model.add(Dropout(0.2))\n",
    "\n",
    "model.add(Conv2D(64, (3, 3), activation='relu', kernel_initializer='he_uniform', padding='same'))\n",
    "model.add(MaxPooling2D((2, 2)))\n",
    "#model.add(Dropout(0.2))\n",
    "\n",
    "model.add(Flatten())\n",
    "model.add(Dense(64, activation='relu', kernel_initializer='he_uniform'))\n",
    "model.add(Dropout(0.5))\n",
    "\n",
    "#model.add(Dense(1, activation='sigmoid'))  ## CHANGE HERE, BASED ON NO. OF CLASSES\n",
    "model.add(Dense(3, activation='softmax'))\n",
    "\n",
    "# compile model\n",
    "opt = SGD(lr=0.001, momentum=0.9)\n",
    "#model.compile(optimizer=opt, loss='binary_crossentropy', metrics=['accuracy'])  ## CHANGE HERE, BASED ON NO. OF CLASSES\n",
    "model.compile(optimizer=opt, loss='categorical_crossentropy', metrics=['accuracy'])\n",
    "\n",
    "print(model.summary())"
   ]
  },
  {
   "cell_type": "code",
   "execution_count": 12,
   "metadata": {},
   "outputs": [
    {
     "name": "stdout",
     "output_type": "stream",
     "text": [
      "Found 2007 images belonging to 3 classes.\n",
      "Found 219 images belonging to 3 classes.\n",
      "Epoch 1/50\n",
      "32/32 [==============================] - 93s 3s/step - loss: 1.2386 - acc: 0.3571 - val_loss: 1.0484 - val_acc: 0.4977\n",
      "Epoch 2/50\n",
      "32/32 [==============================] - 105s 3s/step - loss: 1.0040 - acc: 0.4406 - val_loss: 0.8397 - val_acc: 0.6530\n",
      "Epoch 3/50\n",
      "32/32 [==============================] - 114s 4s/step - loss: 0.8646 - acc: 0.5088 - val_loss: 0.6558 - val_acc: 0.6027\n",
      "Epoch 4/50\n",
      "32/32 [==============================] - 122s 4s/step - loss: 0.8207 - acc: 0.5459 - val_loss: 0.7637 - val_acc: 0.6073\n",
      "Epoch 5/50\n",
      "32/32 [==============================] - 165s 5s/step - loss: 0.8409 - acc: 0.5278 - val_loss: 0.6949 - val_acc: 0.5616\n",
      "Epoch 6/50\n",
      "32/32 [==============================] - 143s 4s/step - loss: 0.8533 - acc: 0.5361 - val_loss: 0.7087 - val_acc: 0.5753\n",
      "Epoch 7/50\n",
      "32/32 [==============================] - 125s 4s/step - loss: 0.8593 - acc: 0.5199 - val_loss: 0.7843 - val_acc: 0.6164\n",
      "Epoch 8/50\n",
      "32/32 [==============================] - 148s 5s/step - loss: 0.8330 - acc: 0.5238 - val_loss: 0.7171 - val_acc: 0.6575\n",
      "Epoch 9/50\n",
      "32/32 [==============================] - 143s 4s/step - loss: 0.8811 - acc: 0.5120 - val_loss: 0.6446 - val_acc: 0.6073\n",
      "Epoch 10/50\n",
      "32/32 [==============================] - 152s 5s/step - loss: 0.8085 - acc: 0.5372 - val_loss: 0.6210 - val_acc: 0.6164\n",
      "Epoch 11/50\n",
      "32/32 [==============================] - 171s 5s/step - loss: 0.8368 - acc: 0.5072 - val_loss: 0.6233 - val_acc: 0.6667\n",
      "Epoch 12/50\n",
      "32/32 [==============================] - 155s 5s/step - loss: 0.8072 - acc: 0.5346 - val_loss: 0.6484 - val_acc: 0.6073\n",
      "Epoch 13/50\n",
      "32/32 [==============================] - 150s 5s/step - loss: 0.8247 - acc: 0.5259 - val_loss: 0.6969 - val_acc: 0.6164\n",
      "Epoch 14/50\n",
      "32/32 [==============================] - 128s 4s/step - loss: 0.8325 - acc: 0.5327 - val_loss: 0.6325 - val_acc: 0.6621\n",
      "Epoch 15/50\n",
      "32/32 [==============================] - 141s 4s/step - loss: 0.8148 - acc: 0.5435 - val_loss: 0.6643 - val_acc: 0.6073\n",
      "Epoch 16/50\n",
      "32/32 [==============================] - 150s 5s/step - loss: 0.8179 - acc: 0.5203 - val_loss: 0.6300 - val_acc: 0.5982\n",
      "Epoch 17/50\n",
      "32/32 [==============================] - 130s 4s/step - loss: 0.8135 - acc: 0.5286 - val_loss: 0.6233 - val_acc: 0.5982\n",
      "Epoch 18/50\n",
      "32/32 [==============================] - 127s 4s/step - loss: 0.8017 - acc: 0.5550 - val_loss: 0.6301 - val_acc: 0.6119\n",
      "Epoch 19/50\n",
      "32/32 [==============================] - 128s 4s/step - loss: 0.7995 - acc: 0.5404 - val_loss: 0.6219 - val_acc: 0.6484\n",
      "Epoch 20/50\n",
      "32/32 [==============================] - 131s 4s/step - loss: 0.8137 - acc: 0.5317 - val_loss: 0.6692 - val_acc: 0.6164\n",
      "Epoch 21/50\n",
      "32/32 [==============================] - 150s 5s/step - loss: 0.7951 - acc: 0.5457 - val_loss: 0.6488 - val_acc: 0.6119\n",
      "Epoch 22/50\n",
      "32/32 [==============================] - 155s 5s/step - loss: 0.7984 - acc: 0.5522 - val_loss: 0.5962 - val_acc: 0.6164\n",
      "Epoch 23/50\n",
      "32/32 [==============================] - 156s 5s/step - loss: 0.8212 - acc: 0.5358 - val_loss: 0.6355 - val_acc: 0.6119\n",
      "Epoch 24/50\n",
      "32/32 [==============================] - 119s 4s/step - loss: 0.8140 - acc: 0.5361 - val_loss: 0.6020 - val_acc: 0.6119\n",
      "Epoch 25/50\n",
      "32/32 [==============================] - 120s 4s/step - loss: 0.7878 - acc: 0.5534 - val_loss: 0.6202 - val_acc: 0.6073\n",
      "Epoch 26/50\n",
      "32/32 [==============================] - 156s 5s/step - loss: 0.8099 - acc: 0.5394 - val_loss: 0.6182 - val_acc: 0.6210\n",
      "Epoch 27/50\n",
      "32/32 [==============================] - 125s 4s/step - loss: 0.8363 - acc: 0.5273 - val_loss: 0.6239 - val_acc: 0.6484\n",
      "Epoch 28/50\n",
      "32/32 [==============================] - 160s 5s/step - loss: 0.8017 - acc: 0.5443 - val_loss: 0.6444 - val_acc: 0.6164\n",
      "Epoch 29/50\n",
      "32/32 [==============================] - 136s 4s/step - loss: 0.8011 - acc: 0.5384 - val_loss: 0.6818 - val_acc: 0.5982\n",
      "Epoch 30/50\n",
      "32/32 [==============================] - 161s 5s/step - loss: 0.8223 - acc: 0.5632 - val_loss: 0.7085 - val_acc: 0.6119\n",
      "Epoch 31/50\n",
      "32/32 [==============================] - 129s 4s/step - loss: 0.8036 - acc: 0.5463 - val_loss: 0.6127 - val_acc: 0.6210\n",
      "Epoch 32/50\n",
      "32/32 [==============================] - 138s 4s/step - loss: 0.8082 - acc: 0.5313 - val_loss: 0.6109 - val_acc: 0.6164\n",
      "Epoch 33/50\n",
      "32/32 [==============================] - 155s 5s/step - loss: 0.8022 - acc: 0.5403 - val_loss: 0.6027 - val_acc: 0.6484\n",
      "Epoch 34/50\n",
      "32/32 [==============================] - 156s 5s/step - loss: 0.7873 - acc: 0.5512 - val_loss: 0.6354 - val_acc: 0.6256\n",
      "Epoch 35/50\n",
      "32/32 [==============================] - 137s 4s/step - loss: 0.7933 - acc: 0.5486 - val_loss: 0.6296 - val_acc: 0.6119\n",
      "Epoch 36/50\n",
      "32/32 [==============================] - 127s 4s/step - loss: 0.7952 - acc: 0.5624 - val_loss: 0.6305 - val_acc: 0.6119\n",
      "Epoch 37/50\n",
      "32/32 [==============================] - 128s 4s/step - loss: 0.7911 - acc: 0.5435 - val_loss: 0.6492 - val_acc: 0.6164\n",
      "Epoch 38/50\n",
      "32/32 [==============================] - 128s 4s/step - loss: 0.8083 - acc: 0.5391 - val_loss: 0.6130 - val_acc: 0.6164\n",
      "Epoch 39/50\n",
      "32/32 [==============================] - 130s 4s/step - loss: 0.7925 - acc: 0.5446 - val_loss: 0.6133 - val_acc: 0.6119\n",
      "Epoch 40/50\n",
      "32/32 [==============================] - 149s 5s/step - loss: 0.7615 - acc: 0.5655 - val_loss: 0.5956 - val_acc: 0.6119\n",
      "Epoch 41/50\n",
      "32/32 [==============================] - 145s 5s/step - loss: 0.7970 - acc: 0.5397 - val_loss: 0.6026 - val_acc: 0.6484\n",
      "Epoch 42/50\n",
      "32/32 [==============================] - 145s 5s/step - loss: 0.7946 - acc: 0.5380 - val_loss: 0.6220 - val_acc: 0.6210\n",
      "Epoch 43/50\n",
      "32/32 [==============================] - 128s 4s/step - loss: 0.7774 - acc: 0.5569 - val_loss: 0.6249 - val_acc: 0.6347\n",
      "Epoch 44/50\n",
      "32/32 [==============================] - 126s 4s/step - loss: 0.7786 - acc: 0.5523 - val_loss: 0.6002 - val_acc: 0.6301\n",
      "Epoch 45/50\n",
      "32/32 [==============================] - 140s 4s/step - loss: 0.7851 - acc: 0.5605 - val_loss: 0.6170 - val_acc: 0.6256\n",
      "Epoch 46/50\n",
      "32/32 [==============================] - 138s 4s/step - loss: 0.7835 - acc: 0.5532 - val_loss: 0.6042 - val_acc: 0.6256\n",
      "Epoch 47/50\n",
      "32/32 [==============================] - 136s 4s/step - loss: 0.7640 - acc: 0.5566 - val_loss: 0.5833 - val_acc: 0.6256\n",
      "Epoch 48/50\n",
      "32/32 [==============================] - 88s 3s/step - loss: 0.7820 - acc: 0.5505 - val_loss: 0.6325 - val_acc: 0.6438\n",
      "Epoch 50/50\n",
      "32/32 [==============================] - 89s 3s/step - loss: 0.7895 - acc: 0.5433 - val_loss: 0.6026 - val_acc: 0.6530\n"
     ]
    }
   ],
   "source": [
    "# create data generators\n",
    "train_datagen = ImageDataGenerator(rescale=1.0/255.0,\n",
    "                                   width_shift_range=0.1, height_shift_range=0.1, horizontal_flip=True)\n",
    "\n",
    "test_datagen = ImageDataGenerator(rescale=1.0/255.0)\n",
    "\n",
    "## prepare iterators       ## CHANGE class_mode, BASED ON NO. OF CLASSES\n",
    "#train_it = train_datagen.flow_from_directory('dataset_dogs_vs_cats/train/',\n",
    "#                                             class_mode='binary', batch_size=64, target_size=(200, 200))\n",
    "#test_it = test_datagen.flow_from_directory('dataset_dogs_vs_cats/test/',\n",
    "#                                           class_mode='binary', batch_size=64, target_size=(200, 200))    \n",
    "train_it = train_datagen.flow_from_directory('./57398/ZooScanSet/runData/train/', color_mode='grayscale',\n",
    "                                             class_mode='categorical', batch_size=64, target_size=(200, 200))\n",
    "test_it = test_datagen.flow_from_directory('./57398/ZooScanSet/runData/test/', color_mode='grayscale',\n",
    "                                           class_mode='categorical', batch_size=64, target_size=(200, 200))\n",
    "\n",
    "\n",
    "# fit model\n",
    "history = model.fit_generator(train_it, steps_per_epoch=len(train_it),\n",
    "                              validation_data=test_it, validation_steps=len(test_it), epochs=50, verbose=1)\n",
    "# started ~ 4:39pm"
   ]
  },
  {
   "cell_type": "code",
   "execution_count": 13,
   "metadata": {},
   "outputs": [
    {
     "data": {
      "text/plain": [
       "'2020-01-03 18:31:42'"
      ]
     },
     "execution_count": 13,
     "metadata": {},
     "output_type": "execute_result"
    }
   ],
   "source": [
    "from datetime import datetime\n",
    "datetime.now().strftime('%Y-%m-%d %H:%M:%S')"
   ]
  },
  {
   "cell_type": "code",
   "execution_count": 15,
   "metadata": {},
   "outputs": [
    {
     "data": {
      "text/plain": [
       "[<matplotlib.lines.Line2D at 0x1d2854bf208>]"
      ]
     },
     "execution_count": 15,
     "metadata": {},
     "output_type": "execute_result"
    },
    {
     "data": {
      "image/png": "[encoded data removed]",
      "text/plain": [
       "<Figure size 432x288 with 2 Axes>"
      ]
     },
     "metadata": {
      "needs_background": "light"
     },
     "output_type": "display_data"
    }
   ],
   "source": [
    "from matplotlib import pyplot\n",
    "# plot loss\n",
    "pyplot.subplot(211)\n",
    "pyplot.title('Cross Entropy Loss')\n",
    "pyplot.plot(history.history['loss'], color='blue', label='train')\n",
    "pyplot.plot(history.history['val_loss'], color='orange', label='test')\n",
    "# plot accuracy\n",
    "pyplot.subplot(212)\n",
    "pyplot.title('Classification Accuracy')\n",
    "pyplot.plot(history.history['acc'], color='blue', label='train')   # 'accuracy'\n",
    "pyplot.plot(history.history['val_acc'], color='orange', label='test')"
   ]
  },
  {
   "cell_type": "code",
   "execution_count": null,
   "metadata": {},
   "outputs": [],
   "source": []
  },
  {
   "cell_type": "code",
   "execution_count": null,
   "metadata": {},
   "outputs": [],
   "source": []
  },
  {
   "cell_type": "code",
   "execution_count": 16,
   "metadata": {},
   "outputs": [
    {
     "name": "stdout",
     "output_type": "stream",
     "text": [
      "_________________________________________________________________\n",
      "Layer (type)                 Output Shape              Param #   \n",
      "=================================================================\n",
      "conv2d_7 (Conv2D)            (None, 200, 200, 32)      320       \n",
      "_________________________________________________________________\n",
      "max_pooling2d_7 (MaxPooling2 (None, 100, 100, 32)      0         \n",
      "_________________________________________________________________\n",
      "dropout_2 (Dropout)          (None, 100, 100, 32)      0         \n",
      "_________________________________________________________________\n",
      "conv2d_8 (Conv2D)            (None, 100, 100, 32)      9248      \n",
      "_________________________________________________________________\n",
      "max_pooling2d_8 (MaxPooling2 (None, 50, 50, 32)        0         \n",
      "_________________________________________________________________\n",
      "dropout_3 (Dropout)          (None, 50, 50, 32)        0         \n",
      "_________________________________________________________________\n",
      "conv2d_9 (Conv2D)            (None, 50, 50, 64)        18496     \n",
      "_________________________________________________________________\n",
      "max_pooling2d_9 (MaxPooling2 (None, 25, 25, 64)        0         \n",
      "_________________________________________________________________\n",
      "dropout_4 (Dropout)          (None, 25, 25, 64)        0         \n",
      "_________________________________________________________________\n",
      "flatten_3 (Flatten)          (None, 40000)             0         \n",
      "_________________________________________________________________\n",
      "dense_5 (Dense)              (None, 64)                2560064   \n",
      "_________________________________________________________________\n",
      "dropout_5 (Dropout)          (None, 64)                0         \n",
      "_________________________________________________________________\n",
      "dense_6 (Dense)              (None, 3)                 195       \n",
      "=================================================================\n",
      "Total params: 2,588,323\n",
      "Trainable params: 2,588,323\n",
      "Non-trainable params: 0\n",
      "_________________________________________________________________\n",
      "None\n"
     ]
    }
   ],
   "source": [
    "model = Sequential()\n",
    "\n",
    "## CHANGE INPUT SHAPE, BASED ON RGB OR GRAYSCALE\n",
    "# specify padding or not?\n",
    "model.add(Conv2D(32, (3, 3), activation='relu', kernel_initializer='he_uniform', padding='same', input_shape=(200, 200, 1)))\n",
    "model.add(MaxPooling2D((2, 2)))\n",
    "model.add(Dropout(0.2))\n",
    "\n",
    "model.add(Conv2D(32, (3, 3), activation='relu', kernel_initializer='he_uniform', padding='same'))\n",
    "model.add(MaxPooling2D((2, 2)))\n",
    "model.add(Dropout(0.2))\n",
    "\n",
    "model.add(Conv2D(64, (3, 3), activation='relu', kernel_initializer='he_uniform', padding='same'))\n",
    "model.add(MaxPooling2D((2, 2)))\n",
    "model.add(Dropout(0.2))\n",
    "\n",
    "model.add(Flatten())\n",
    "model.add(Dense(64, activation='relu', kernel_initializer='he_uniform'))\n",
    "model.add(Dropout(0.5))\n",
    "\n",
    "#model.add(Dense(1, activation='sigmoid'))  ## CHANGE HERE, BASED ON NO. OF CLASSES\n",
    "model.add(Dense(3, activation='softmax'))\n",
    "\n",
    "# compile model\n",
    "opt = SGD(lr=0.001, momentum=0.9)\n",
    "#model.compile(optimizer=opt, loss='binary_crossentropy', metrics=['accuracy'])  ## CHANGE HERE, BASED ON NO. OF CLASSES\n",
    "model.compile(optimizer=opt, loss='categorical_crossentropy', metrics=['accuracy'])\n",
    "\n",
    "print(model.summary())"
   ]
  },
  {
   "cell_type": "code",
   "execution_count": 17,
   "metadata": {},
   "outputs": [
    {
     "data": {
      "text/plain": [
       "'2020-01-03 18:47:43'"
      ]
     },
     "execution_count": 17,
     "metadata": {},
     "output_type": "execute_result"
    }
   ],
   "source": [
    "datetime.now().strftime('%Y-%m-%d %H:%M:%S')"
   ]
  },
  {
   "cell_type": "code",
   "execution_count": 18,
   "metadata": {},
   "outputs": [
    {
     "name": "stdout",
     "output_type": "stream",
     "text": [
      "Epoch 1/20\n",
      "32/32 [==============================] - 109s 3s/step - loss: 1.2609 - acc: 0.3275 - val_loss: 1.0982 - val_acc: 0.3699\n",
      "Epoch 2/20\n",
      "32/32 [==============================] - 107s 3s/step - loss: 1.0987 - acc: 0.3415 - val_loss: 1.0985 - val_acc: 0.3653\n",
      "Epoch 3/20\n",
      "32/32 [==============================] - 106s 3s/step - loss: 1.0984 - acc: 0.3410 - val_loss: 1.0988 - val_acc: 0.3653\n",
      "Epoch 4/20\n",
      "32/32 [==============================] - 105s 3s/step - loss: 1.0976 - acc: 0.3536 - val_loss: 1.0998 - val_acc: 0.3607\n",
      "Epoch 5/20\n",
      "32/32 [==============================] - 105s 3s/step - loss: 1.0990 - acc: 0.3379 - val_loss: 1.1002 - val_acc: 0.2877\n",
      "Epoch 6/20\n",
      "32/32 [==============================] - 116s 4s/step - loss: 1.0979 - acc: 0.3496 - val_loss: 1.0985 - val_acc: 0.3014\n",
      "Epoch 7/20\n",
      "32/32 [==============================] - 122s 4s/step - loss: 1.0978 - acc: 0.3437 - val_loss: 1.1011 - val_acc: 0.2785\n",
      "Epoch 8/20\n",
      "32/32 [==============================] - 108s 3s/step - loss: 1.0978 - acc: 0.3538 - val_loss: 1.0995 - val_acc: 0.2922\n",
      "Epoch 9/20\n",
      "32/32 [==============================] - 104s 3s/step - loss: 1.0972 - acc: 0.3582 - val_loss: 1.1013 - val_acc: 0.2877\n",
      "Epoch 10/20\n",
      "32/32 [==============================] - 108s 3s/step - loss: 1.0978 - acc: 0.3384 - val_loss: 1.0999 - val_acc: 0.2831\n",
      "Epoch 11/20\n",
      "32/32 [==============================] - 120s 4s/step - loss: 1.0978 - acc: 0.3428 - val_loss: 1.1006 - val_acc: 0.2968\n",
      "Epoch 12/20\n",
      "32/32 [==============================] - 110s 3s/step - loss: 1.0979 - acc: 0.3467 - val_loss: 1.1019 - val_acc: 0.2740\n",
      "Epoch 13/20\n",
      "32/32 [==============================] - 128s 4s/step - loss: 1.0977 - acc: 0.3501 - val_loss: 1.1009 - val_acc: 0.2968\n",
      "Epoch 14/20\n",
      "32/32 [==============================] - 123s 4s/step - loss: 1.0970 - acc: 0.3523 - val_loss: 1.0992 - val_acc: 0.2968\n",
      "Epoch 15/20\n",
      "32/32 [==============================] - 121s 4s/step - loss: 1.0985 - acc: 0.3400 - val_loss: 1.1036 - val_acc: 0.2648\n",
      "Epoch 16/20\n",
      "32/32 [==============================] - 127s 4s/step - loss: 1.0979 - acc: 0.3457 - val_loss: 1.1013 - val_acc: 0.2831\n",
      "Epoch 17/20\n",
      "32/32 [==============================] - 116s 4s/step - loss: 1.0967 - acc: 0.3504 - val_loss: 1.1007 - val_acc: 0.3105\n",
      "Epoch 18/20\n",
      "32/32 [==============================] - 110s 3s/step - loss: 1.0975 - acc: 0.3426 - val_loss: 1.1001 - val_acc: 0.2785\n",
      "Epoch 19/20\n",
      "32/32 [==============================] - 113s 4s/step - loss: 1.0977 - acc: 0.3524 - val_loss: 1.1017 - val_acc: 0.3014\n",
      "Epoch 20/20\n",
      "32/32 [==============================] - 110s 3s/step - loss: 1.0980 - acc: 0.3427 - val_loss: 1.1009 - val_acc: 0.2877\n"
     ]
    }
   ],
   "source": [
    "# fit model\n",
    "history = model.fit_generator(train_it, steps_per_epoch=len(train_it),\n",
    "                              validation_data=test_it, validation_steps=len(test_it), epochs=20, verbose=1)"
   ]
  },
  {
   "cell_type": "code",
   "execution_count": 19,
   "metadata": {},
   "outputs": [
    {
     "data": {
      "text/plain": [
       "'2020-01-03 19:25:33'"
      ]
     },
     "execution_count": 19,
     "metadata": {},
     "output_type": "execute_result"
    }
   ],
   "source": [
    "datetime.now().strftime('%Y-%m-%d %H:%M:%S')"
   ]
  },
  {
   "cell_type": "code",
   "execution_count": 20,
   "metadata": {},
   "outputs": [
    {
     "data": {
      "text/plain": [
       "[<matplotlib.lines.Line2D at 0x1d285adad68>]"
      ]
     },
     "execution_count": 20,
     "metadata": {},
     "output_type": "execute_result"
    },
    {
     "data": {
      "image/png": "[encoded data removed]",
      "text/plain": [
       "<Figure size 432x288 with 2 Axes>"
      ]
     },
     "metadata": {
      "needs_background": "light"
     },
     "output_type": "display_data"
    }
   ],
   "source": [
    "# plot loss\n",
    "pyplot.subplot(211)\n",
    "pyplot.title('Cross Entropy Loss')\n",
    "pyplot.plot(history.history['loss'], color='blue', label='train')\n",
    "pyplot.plot(history.history['val_loss'], color='orange', label='test')\n",
    "# plot accuracy\n",
    "pyplot.subplot(212)\n",
    "pyplot.title('Classification Accuracy')\n",
    "pyplot.plot(history.history['acc'], color='blue', label='train')   # 'accuracy'\n",
    "pyplot.plot(history.history['val_acc'], color='orange', label='test')"
   ]
  },
  {
   "cell_type": "code",
   "execution_count": null,
   "metadata": {},
   "outputs": [],
   "source": []
  },
  {
   "cell_type": "code",
   "execution_count": null,
   "metadata": {},
   "outputs": [],
   "source": [
    "## check without any dropout"
   ]
  },
  {
   "cell_type": "code",
   "execution_count": null,
   "metadata": {},
   "outputs": [],
   "source": []
  },
  {
   "cell_type": "code",
   "execution_count": null,
   "metadata": {},
   "outputs": [],
   "source": []
  },
  {
   "cell_type": "code",
   "execution_count": 1,
   "metadata": {},
   "outputs": [
    {
     "data": {
      "text/plain": [
       "0.00392156862745098"
      ]
     },
     "execution_count": 1,
     "metadata": {},
     "output_type": "execute_result"
    }
   ],
   "source": [
    "1.0/255"
   ]
  },
  {
   "cell_type": "code",
   "execution_count": 2,
   "metadata": {},
   "outputs": [
    {
     "data": {
      "text/plain": [
       "0.00392156862745098"
      ]
     },
     "execution_count": 2,
     "metadata": {},
     "output_type": "execute_result"
    }
   ],
   "source": [
    "1.0/255.0"
   ]
  },
  {
   "cell_type": "code",
   "execution_count": 3,
   "metadata": {},
   "outputs": [
    {
     "data": {
      "text/plain": [
       "0.00392156862745098"
      ]
     },
     "execution_count": 3,
     "metadata": {},
     "output_type": "execute_result"
    }
   ],
   "source": [
    "1./255"
   ]
  },
  {
   "cell_type": "code",
   "execution_count": 4,
   "metadata": {},
   "outputs": [
    {
     "data": {
      "text/plain": [
       "0.00392156862745098"
      ]
     },
     "execution_count": 4,
     "metadata": {},
     "output_type": "execute_result"
    }
   ],
   "source": [
    "1/255"
   ]
  },
  {
   "cell_type": "code",
   "execution_count": null,
   "metadata": {},
   "outputs": [],
   "source": []
  }
 ],
 "metadata": {
  "kernelspec": {
   "display_name": "Python 3",
   "language": "python",
   "name": "python3"
  },
  "language_info": {
   "codemirror_mode": {
    "name": "ipython",
    "version": 3
   },
   "file_extension": ".py",
   "mimetype": "text/x-python",
   "name": "python",
   "nbconvert_exporter": "python",
   "pygments_lexer": "ipython3",
   "version": "3.6.9"
  }
 },
 "nbformat": 4,
 "nbformat_minor": 2
}
