{
 "cells": [
  {
   "cell_type": "code",
   "execution_count": 1,
   "metadata": {},
   "outputs": [
    {
     "name": "stderr",
     "output_type": "stream",
     "text": [
      "Using TensorFlow backend.\n",
      "C:\\Users\\DAR9KOR\\AppData\\Local\\Continuum\\anaconda3\\envs\\deep_learn\\lib\\site-packages\\tensorflow\\python\\framework\\dtypes.py:516: FutureWarning: Passing (type, 1) or '1type' as a synonym of type is deprecated; in a future version of numpy, it will be understood as (type, (1,)) / '(1,)type'.\n",
      "  _np_qint8 = np.dtype([(\"qint8\", np.int8, 1)])\n",
      "C:\\Users\\DAR9KOR\\AppData\\Local\\Continuum\\anaconda3\\envs\\deep_learn\\lib\\site-packages\\tensorflow\\python\\framework\\dtypes.py:517: FutureWarning: Passing (type, 1) or '1type' as a synonym of type is deprecated; in a future version of numpy, it will be understood as (type, (1,)) / '(1,)type'.\n",
      "  _np_quint8 = np.dtype([(\"quint8\", np.uint8, 1)])\n",
      "C:\\Users\\DAR9KOR\\AppData\\Local\\Continuum\\anaconda3\\envs\\deep_learn\\lib\\site-packages\\tensorflow\\python\\framework\\dtypes.py:518: FutureWarning: Passing (type, 1) or '1type' as a synonym of type is deprecated; in a future version of numpy, it will be understood as (type, (1,)) / '(1,)type'.\n",
      "  _np_qint16 = np.dtype([(\"qint16\", np.int16, 1)])\n",
      "C:\\Users\\DAR9KOR\\AppData\\Local\\Continuum\\anaconda3\\envs\\deep_learn\\lib\\site-packages\\tensorflow\\python\\framework\\dtypes.py:519: FutureWarning: Passing (type, 1) or '1type' as a synonym of type is deprecated; in a future version of numpy, it will be understood as (type, (1,)) / '(1,)type'.\n",
      "  _np_quint16 = np.dtype([(\"quint16\", np.uint16, 1)])\n",
      "C:\\Users\\DAR9KOR\\AppData\\Local\\Continuum\\anaconda3\\envs\\deep_learn\\lib\\site-packages\\tensorflow\\python\\framework\\dtypes.py:520: FutureWarning: Passing (type, 1) or '1type' as a synonym of type is deprecated; in a future version of numpy, it will be understood as (type, (1,)) / '(1,)type'.\n",
      "  _np_qint32 = np.dtype([(\"qint32\", np.int32, 1)])\n",
      "C:\\Users\\DAR9KOR\\AppData\\Local\\Continuum\\anaconda3\\envs\\deep_learn\\lib\\site-packages\\tensorflow\\python\\framework\\dtypes.py:525: FutureWarning: Passing (type, 1) or '1type' as a synonym of type is deprecated; in a future version of numpy, it will be understood as (type, (1,)) / '(1,)type'.\n",
      "  np_resource = np.dtype([(\"resource\", np.ubyte, 1)])\n",
      "C:\\Users\\DAR9KOR\\AppData\\Local\\Continuum\\anaconda3\\envs\\deep_learn\\lib\\site-packages\\tensorboard\\compat\\tensorflow_stub\\dtypes.py:541: FutureWarning: Passing (type, 1) or '1type' as a synonym of type is deprecated; in a future version of numpy, it will be understood as (type, (1,)) / '(1,)type'.\n",
      "  _np_qint8 = np.dtype([(\"qint8\", np.int8, 1)])\n",
      "C:\\Users\\DAR9KOR\\AppData\\Local\\Continuum\\anaconda3\\envs\\deep_learn\\lib\\site-packages\\tensorboard\\compat\\tensorflow_stub\\dtypes.py:542: FutureWarning: Passing (type, 1) or '1type' as a synonym of type is deprecated; in a future version of numpy, it will be understood as (type, (1,)) / '(1,)type'.\n",
      "  _np_quint8 = np.dtype([(\"quint8\", np.uint8, 1)])\n",
      "C:\\Users\\DAR9KOR\\AppData\\Local\\Continuum\\anaconda3\\envs\\deep_learn\\lib\\site-packages\\tensorboard\\compat\\tensorflow_stub\\dtypes.py:543: FutureWarning: Passing (type, 1) or '1type' as a synonym of type is deprecated; in a future version of numpy, it will be understood as (type, (1,)) / '(1,)type'.\n",
      "  _np_qint16 = np.dtype([(\"qint16\", np.int16, 1)])\n",
      "C:\\Users\\DAR9KOR\\AppData\\Local\\Continuum\\anaconda3\\envs\\deep_learn\\lib\\site-packages\\tensorboard\\compat\\tensorflow_stub\\dtypes.py:544: FutureWarning: Passing (type, 1) or '1type' as a synonym of type is deprecated; in a future version of numpy, it will be understood as (type, (1,)) / '(1,)type'.\n",
      "  _np_quint16 = np.dtype([(\"quint16\", np.uint16, 1)])\n",
      "C:\\Users\\DAR9KOR\\AppData\\Local\\Continuum\\anaconda3\\envs\\deep_learn\\lib\\site-packages\\tensorboard\\compat\\tensorflow_stub\\dtypes.py:545: FutureWarning: Passing (type, 1) or '1type' as a synonym of type is deprecated; in a future version of numpy, it will be understood as (type, (1,)) / '(1,)type'.\n",
      "  _np_qint32 = np.dtype([(\"qint32\", np.int32, 1)])\n",
      "C:\\Users\\DAR9KOR\\AppData\\Local\\Continuum\\anaconda3\\envs\\deep_learn\\lib\\site-packages\\tensorboard\\compat\\tensorflow_stub\\dtypes.py:550: FutureWarning: Passing (type, 1) or '1type' as a synonym of type is deprecated; in a future version of numpy, it will be understood as (type, (1,)) / '(1,)type'.\n",
      "  np_resource = np.dtype([(\"resource\", np.ubyte, 1)])\n"
     ]
    }
   ],
   "source": [
    "## check parameters for different networks ##\n",
    "\n",
    "import keras\n",
    "from keras.models import Sequential\n",
    "from keras.layers import Dense\n",
    "from keras.layers import Flatten\n",
    "from keras.layers.convolutional import Conv1D\n",
    "from keras.layers.convolutional import MaxPooling1D\n",
    "\n",
    "\n",
    "### refer to\n",
    "# http://localhost:8888/notebooks/Desktop/data/HEALTHCARE/EEG/code/GPU_run_CNN/check_diff_errors_and_network_configs.ipynb"
   ]
  },
  {
   "cell_type": "code",
   "execution_count": 3,
   "metadata": {},
   "outputs": [],
   "source": [
    "ncols = 20"
   ]
  },
  {
   "cell_type": "code",
   "execution_count": 4,
   "metadata": {},
   "outputs": [
    {
     "name": "stderr",
     "output_type": "stream",
     "text": [
      "W0831 22:34:04.474494 15408 deprecation_wrapper.py:119] From C:\\Users\\DAR9KOR\\AppData\\Local\\Continuum\\anaconda3\\envs\\deep_learn\\lib\\site-packages\\keras\\backend\\tensorflow_backend.py:517: The name tf.placeholder is deprecated. Please use tf.compat.v1.placeholder instead.\n",
      "\n",
      "W0831 22:34:04.523208 15408 deprecation_wrapper.py:119] From C:\\Users\\DAR9KOR\\AppData\\Local\\Continuum\\anaconda3\\envs\\deep_learn\\lib\\site-packages\\keras\\backend\\tensorflow_backend.py:4138: The name tf.random_uniform is deprecated. Please use tf.random.uniform instead.\n",
      "\n",
      "W0831 22:34:04.702631 15408 deprecation_wrapper.py:119] From C:\\Users\\DAR9KOR\\AppData\\Local\\Continuum\\anaconda3\\envs\\deep_learn\\lib\\site-packages\\keras\\backend\\tensorflow_backend.py:3976: The name tf.nn.max_pool is deprecated. Please use tf.nn.max_pool2d instead.\n",
      "\n",
      "W0831 22:34:04.981976 15408 deprecation_wrapper.py:119] From C:\\Users\\DAR9KOR\\AppData\\Local\\Continuum\\anaconda3\\envs\\deep_learn\\lib\\site-packages\\keras\\optimizers.py:790: The name tf.train.Optimizer is deprecated. Please use tf.compat.v1.train.Optimizer instead.\n",
      "\n",
      "W0831 22:34:05.097562 15408 deprecation_wrapper.py:119] From C:\\Users\\DAR9KOR\\AppData\\Local\\Continuum\\anaconda3\\envs\\deep_learn\\lib\\site-packages\\keras\\backend\\tensorflow_backend.py:3376: The name tf.log is deprecated. Please use tf.math.log instead.\n",
      "\n",
      "W0831 22:34:05.136679 15408 deprecation.py:323] From C:\\Users\\DAR9KOR\\AppData\\Local\\Continuum\\anaconda3\\envs\\deep_learn\\lib\\site-packages\\tensorflow\\python\\ops\\nn_impl.py:180: add_dispatch_support.<locals>.wrapper (from tensorflow.python.ops.array_ops) is deprecated and will be removed in a future version.\n",
      "Instructions for updating:\n",
      "Use tf.where in 2.0, which has the same broadcast rule as np.where\n"
     ]
    },
    {
     "name": "stdout",
     "output_type": "stream",
     "text": [
      "_________________________________________________________________\n",
      "Layer (type)                 Output Shape              Param #   \n",
      "=================================================================\n",
      "conv1d_1 (Conv1D)            (None, 18, 64)            256       \n",
      "_________________________________________________________________\n",
      "max_pooling1d_1 (MaxPooling1 (None, 9, 64)             0         \n",
      "_________________________________________________________________\n",
      "flatten_1 (Flatten)          (None, 576)               0         \n",
      "_________________________________________________________________\n",
      "dense_1 (Dense)              (None, 50)                28850     \n",
      "_________________________________________________________________\n",
      "dense_2 (Dense)              (None, 2)                 102       \n",
      "=================================================================\n",
      "Total params: 29,208\n",
      "Trainable params: 29,208\n",
      "Non-trainable params: 0\n",
      "_________________________________________________________________\n",
      "None\n"
     ]
    }
   ],
   "source": [
    "# define model: 1 conv layer, 1 fully-connected layer, 1 output layer\n",
    "model = Sequential()  ## to initialize NN\n",
    "\n",
    "model.add(Conv1D(filters=64, kernel_size=3, activation='relu', input_shape=(ncols, 1))) # conv + pool\n",
    "model.add(MaxPooling1D(pool_size=2))\n",
    "\n",
    "model.add(Flatten())\n",
    "model.add(Dense(50, activation='relu'))  # FC\n",
    "\n",
    "model.add(Dense(2, activation='sigmoid'))  # this is the output layer for binary classification  # sigmoid or softmax?\n",
    "print(model.summary())\n",
    "\n",
    "# compile the model\n",
    "model.compile(optimizer='adam', loss='binary_crossentropy', metrics=['accuracy'])  # binary_crossentropy or categorical_crossentropy?"
   ]
  },
  {
   "cell_type": "code",
   "execution_count": 5,
   "metadata": {},
   "outputs": [
    {
     "name": "stdout",
     "output_type": "stream",
     "text": [
      "_________________________________________________________________\n",
      "Layer (type)                 Output Shape              Param #   \n",
      "=================================================================\n",
      "conv1d_2 (Conv1D)            (None, 2998, 64)          256       \n",
      "_________________________________________________________________\n",
      "max_pooling1d_2 (MaxPooling1 (None, 1499, 64)          0         \n",
      "_________________________________________________________________\n",
      "flatten_2 (Flatten)          (None, 95936)             0         \n",
      "_________________________________________________________________\n",
      "dense_3 (Dense)              (None, 50)                4796850   \n",
      "_________________________________________________________________\n",
      "dense_4 (Dense)              (None, 2)                 102       \n",
      "=================================================================\n",
      "Total params: 4,797,208\n",
      "Trainable params: 4,797,208\n",
      "Non-trainable params: 0\n",
      "_________________________________________________________________\n",
      "None\n"
     ]
    }
   ],
   "source": [
    "ncols = 3000\n",
    "\n",
    "# define model: 1 conv layer, 1 fully-connected layer, 1 output layer\n",
    "model = Sequential()  ## to initialize NN\n",
    "\n",
    "model.add(Conv1D(filters=64, kernel_size=3, activation='relu', input_shape=(ncols, 1))) # conv + pool\n",
    "model.add(MaxPooling1D(pool_size=2))\n",
    "\n",
    "model.add(Flatten())\n",
    "model.add(Dense(50, activation='relu'))  # FC\n",
    "\n",
    "model.add(Dense(2, activation='sigmoid'))  # this is the output layer for binary classification  # sigmoid or softmax?\n",
    "print(model.summary())\n",
    "\n",
    "# compile the model\n",
    "model.compile(optimizer='adam', loss='binary_crossentropy', metrics=['accuracy'])  # binary_crossentropy or categorical_crossentropy?"
   ]
  },
  {
   "cell_type": "code",
   "execution_count": null,
   "metadata": {},
   "outputs": [],
   "source": []
  },
  {
   "cell_type": "code",
   "execution_count": null,
   "metadata": {},
   "outputs": [],
   "source": [
    "# define model: 1 conv layer, 1 fully-connected layer, 1 output layer\n",
    "model4 = Sequential()  ## to initialize NN\n",
    "\n",
    "model4.add(Conv1D(filters=64, kernel_size=3, activation='relu', input_shape=(ncols, 1))) \n",
    "model4.add(MaxPooling1D(pool_size=2))\n",
    "\n",
    "model4.add(Conv1D(filters=64, kernel_size=3, activation='relu')) \n",
    "model4.add(MaxPooling1D(pool_size=2))\n",
    "\n",
    "model4.add(Flatten())\n",
    "model4.add(Dense(50, activation='relu'))\n",
    "\n",
    "model4.add(Dense(2, activation='sigmoid'))  # this is the output layer for binary classification\n",
    "print(model4.summary())\n",
    "\n",
    "# compile the model\n",
    "model4.compile(optimizer='adam', loss='binary_crossentropy', metrics=['accuracy'])"
   ]
  },
  {
   "cell_type": "code",
   "execution_count": null,
   "metadata": {},
   "outputs": [],
   "source": []
  },
  {
   "cell_type": "code",
   "execution_count": null,
   "metadata": {},
   "outputs": [],
   "source": [
    "# define model: 1 conv layer, 1 fully-connected layer, 1 output layer\n",
    "model4 = Sequential()  ## to initialize NN\n",
    "\n",
    "model4.add(Conv1D(filters=32, kernel_size=3, activation='relu', input_shape=(ncols, 1))) \n",
    "model4.add(MaxPooling1D(pool_size=2))\n",
    "\n",
    "model4.add(Conv1D(filters=64, kernel_size=3, activation='relu')) \n",
    "model4.add(MaxPooling1D(pool_size=2))\n",
    "\n",
    "model4.add(Flatten())\n",
    "model4.add(Dense(50, activation='relu'))\n",
    "\n",
    "model4.add(Dense(2, activation='sigmoid'))  # this is the output layer for binary classification\n",
    "print(model4.summary())\n",
    "\n",
    "# compile the model\n",
    "model4.compile(optimizer='adam', loss='binary_crossentropy', metrics=['accuracy'])"
   ]
  },
  {
   "cell_type": "code",
   "execution_count": null,
   "metadata": {},
   "outputs": [],
   "source": []
  },
  {
   "cell_type": "code",
   "execution_count": null,
   "metadata": {},
   "outputs": [],
   "source": [
    "# define model: 1 conv layer, 1 fully-connected layer, 1 output layer\n",
    "model4 = Sequential()  ## to initialize NN\n",
    "\n",
    "model4.add(Conv1D(filters=32, kernel_size=3, activation='relu', input_shape=(ncols, 1))) \n",
    "model4.add(MaxPooling1D(pool_size=2))\n",
    "\n",
    "model4.add(Conv1D(filters=32, kernel_size=3, activation='relu')) \n",
    "model4.add(MaxPooling1D(pool_size=2))\n",
    "\n",
    "model4.add(Flatten())\n",
    "model4.add(Dense(50, activation='relu'))\n",
    "\n",
    "model4.add(Dense(2, activation='sigmoid'))  # this is the output layer for binary classification\n",
    "print(model4.summary())\n",
    "\n",
    "# compile the model\n",
    "model4.compile(optimizer='adam', loss='binary_crossentropy', metrics=['accuracy'])"
   ]
  },
  {
   "cell_type": "code",
   "execution_count": null,
   "metadata": {},
   "outputs": [],
   "source": []
  },
  {
   "cell_type": "code",
   "execution_count": null,
   "metadata": {},
   "outputs": [],
   "source": [
    "# define model: 1 conv layer, 1 fully-connected layer, 1 output layer\n",
    "model4 = Sequential()  ## to initialize NN\n",
    "\n",
    "model4.add(Conv1D(filters=32, kernel_size=3, activation='relu', input_shape=(ncols, 1))) \n",
    "model4.add(MaxPooling1D(pool_size=2))\n",
    "\n",
    "model4.add(Conv1D(filters=32, kernel_size=3, activation='relu')) \n",
    "model4.add(MaxPooling1D(pool_size=2))\n",
    "\n",
    "model4.add(Flatten())\n",
    "model4.add(Dense(50, activation='relu'))\n",
    "\n",
    "model4.add(Dense(50, activation='relu'))\n",
    "\n",
    "model4.add(Dense(2, activation='sigmoid'))  # this is the output layer for binary classification\n",
    "print(model4.summary())\n",
    "\n",
    "# compile the model\n",
    "model4.compile(optimizer='adam', loss='binary_crossentropy', metrics=['accuracy'])"
   ]
  },
  {
   "cell_type": "code",
   "execution_count": null,
   "metadata": {},
   "outputs": [],
   "source": []
  },
  {
   "cell_type": "code",
   "execution_count": null,
   "metadata": {},
   "outputs": [],
   "source": [
    "# define model: 1 conv layer, 1 fully-connected layer, 1 output layer\n",
    "model4 = Sequential()  ## to initialize NN\n",
    "\n",
    "model4.add(Conv1D(filters=32, kernel_size=3, activation='relu', input_shape=(ncols, 1))) \n",
    "model4.add(MaxPooling1D(pool_size=2))\n",
    "\n",
    "model4.add(Conv1D(filters=32, kernel_size=3, activation='relu')) \n",
    "model4.add(MaxPooling1D(pool_size=2))\n",
    "\n",
    "model4.add(Conv1D(filters=32, kernel_size=3, activation='relu')) \n",
    "model4.add(MaxPooling1D(pool_size=2))\n",
    "\n",
    "model4.add(Flatten())\n",
    "model4.add(Dense(50, activation='relu'))\n",
    "\n",
    "model4.add(Dense(2, activation='sigmoid'))  # this is the output layer for binary classification\n",
    "print(model4.summary())\n",
    "\n",
    "# compile the model\n",
    "model4.compile(optimizer='adam', loss='binary_crossentropy', metrics=['accuracy'])"
   ]
  },
  {
   "cell_type": "code",
   "execution_count": null,
   "metadata": {},
   "outputs": [],
   "source": []
  },
  {
   "cell_type": "code",
   "execution_count": null,
   "metadata": {},
   "outputs": [],
   "source": [
    "# define model: 1 conv layer, 1 fully-connected layer, 1 output layer\n",
    "model4 = Sequential()  ## to initialize NN\n",
    "\n",
    "model4.add(Conv1D(filters=32, kernel_size=3, activation='relu', input_shape=(ncols, 1))) \n",
    "model4.add(MaxPooling1D(pool_size=2))\n",
    "\n",
    "model4.add(Conv1D(filters=32, kernel_size=3, activation='relu')) \n",
    "model4.add(MaxPooling1D(pool_size=2))\n",
    "\n",
    "model4.add(Conv1D(filters=64, kernel_size=3, activation='relu')) \n",
    "model4.add(MaxPooling1D(pool_size=2))\n",
    "\n",
    "model4.add(Flatten())\n",
    "model4.add(Dense(50, activation='relu'))\n",
    "\n",
    "model4.add(Dense(2, activation='sigmoid'))  # this is the output layer for binary classification\n",
    "print(model4.summary())\n",
    "\n",
    "# compile the model\n",
    "model4.compile(optimizer='adam', loss='binary_crossentropy', metrics=['accuracy'])"
   ]
  },
  {
   "cell_type": "code",
   "execution_count": null,
   "metadata": {},
   "outputs": [],
   "source": []
  },
  {
   "cell_type": "code",
   "execution_count": null,
   "metadata": {},
   "outputs": [],
   "source": [
    "# define model: 1 conv layer, 1 fully-connected layer, 1 output layer\n",
    "model4 = Sequential()  ## to initialize NN\n",
    "\n",
    "model4.add(Conv1D(filters=32, kernel_size=3, activation='relu', input_shape=(ncols, 1))) \n",
    "model4.add(MaxPooling1D(pool_size=2))\n",
    "\n",
    "model4.add(Conv1D(filters=32, kernel_size=3, activation='relu')) \n",
    "model4.add(MaxPooling1D(pool_size=2))\n",
    "\n",
    "model4.add(Conv1D(filters=32, kernel_size=3, activation='relu')) \n",
    "model4.add(MaxPooling1D(pool_size=2))\n",
    "\n",
    "model4.add(Flatten())\n",
    "model4.add(Dense(64, activation='relu'))\n",
    "\n",
    "model4.add(Dense(32, activation='relu'))\n",
    "\n",
    "model4.add(Dense(2, activation='sigmoid'))  # this is the output layer for binary classification\n",
    "print(model4.summary())\n",
    "\n",
    "# compile the model\n",
    "model4.compile(optimizer='adam', loss='binary_crossentropy', metrics=['accuracy'])"
   ]
  },
  {
   "cell_type": "code",
   "execution_count": null,
   "metadata": {},
   "outputs": [],
   "source": []
  },
  {
   "cell_type": "code",
   "execution_count": null,
   "metadata": {},
   "outputs": [],
   "source": [
    "# define model: 1 conv layer, 1 fully-connected layer, 1 output layer\n",
    "model4 = Sequential()  ## to initialize NN\n",
    "\n",
    "model4.add(Conv1D(filters=32, kernel_size=3, activation='relu', input_shape=(ncols, 1))) \n",
    "model4.add(MaxPooling1D(pool_size=2))\n",
    "\n",
    "model4.add(Conv1D(filters=32, kernel_size=3, activation='relu')) \n",
    "model4.add(MaxPooling1D(pool_size=2))\n",
    "\n",
    "model4.add(Conv1D(filters=32, kernel_size=3, activation='relu')) \n",
    "model4.add(MaxPooling1D(pool_size=2))\n",
    "\n",
    "model4.add(Flatten())\n",
    "model4.add(Dense(32, activation='relu'))\n",
    "\n",
    "model4.add(Dense(32, activation='relu'))\n",
    "\n",
    "model4.add(Dense(2, activation='sigmoid'))  # this is the output layer for binary classification\n",
    "print(model4.summary())\n",
    "\n",
    "# compile the model\n",
    "model4.compile(optimizer='adam', loss='binary_crossentropy', metrics=['accuracy'])"
   ]
  },
  {
   "cell_type": "code",
   "execution_count": null,
   "metadata": {},
   "outputs": [],
   "source": []
  },
  {
   "cell_type": "code",
   "execution_count": null,
   "metadata": {},
   "outputs": [],
   "source": [
    "# define model: 1 conv layer, 1 fully-connected layer, 1 output layer\n",
    "model4 = Sequential()  ## to initialize NN\n",
    "\n",
    "model4.add(Conv1D(filters=32, kernel_size=3, activation='relu', input_shape=(ncols, 1))) \n",
    "model4.add(MaxPooling1D(pool_size=2))\n",
    "\n",
    "model4.add(Conv1D(filters=32, kernel_size=3, activation='relu')) \n",
    "model4.add(MaxPooling1D(pool_size=2))\n",
    "\n",
    "model4.add(Conv1D(filters=32, kernel_size=3, activation='relu')) \n",
    "model4.add(MaxPooling1D(pool_size=2))\n",
    "\n",
    "model4.add(Conv1D(filters=32, kernel_size=3, activation='relu')) \n",
    "model4.add(MaxPooling1D(pool_size=2))\n",
    "\n",
    "model4.add(Flatten())\n",
    "model4.add(Dense(64, activation='relu'))\n",
    "\n",
    "model4.add(Dense(32, activation='relu'))\n",
    "\n",
    "model4.add(Dense(2, activation='sigmoid'))  # this is the output layer for binary classification\n",
    "print(model4.summary())\n",
    "\n",
    "# compile the model\n",
    "model4.compile(optimizer='adam', loss='binary_crossentropy', metrics=['accuracy'])"
   ]
  },
  {
   "cell_type": "code",
   "execution_count": null,
   "metadata": {},
   "outputs": [],
   "source": []
  },
  {
   "cell_type": "code",
   "execution_count": null,
   "metadata": {},
   "outputs": [],
   "source": []
  },
  {
   "cell_type": "code",
   "execution_count": 1,
   "metadata": {},
   "outputs": [
    {
     "name": "stdout",
     "output_type": "stream",
     "text": [
      "51_48\n",
      "62_64\n",
      "31_50\n",
      "52_24\n",
      "58_56\n"
     ]
    }
   ],
   "source": [
    "import numpy as np # linear algebra\n",
    "from PIL import Image\n",
    "import imageio\n",
    "import pathlib \n",
    "\n",
    "im_paths = pathlib.Path('./57398/ZooScanSet/Imgs/').glob('*/*.jpg')\n",
    "path_sorted = sorted([x for x in im_paths])\n",
    "\n",
    "all_size = {}  # declare dict\n",
    "for idx in range(5): #len(path_sorted)):\n",
    "    im_path = path_sorted[idx]\n",
    "    img = Image.open(im_path)\n",
    "    width, height = img.size\n",
    "    all_size[str(width) + '_' + str(height)] = ''\n",
    "    \n",
    "for key in all_size:\n",
    "    print(key)"
   ]
  },
  {
   "cell_type": "code",
   "execution_count": null,
   "metadata": {},
   "outputs": [],
   "source": []
  }
 ],
 "metadata": {
  "kernelspec": {
   "display_name": "Python 3",
   "language": "python",
   "name": "python3"
  },
  "language_info": {
   "codemirror_mode": {
    "name": "ipython",
    "version": 3
   },
   "file_extension": ".py",
   "mimetype": "text/x-python",
   "name": "python",
   "nbconvert_exporter": "python",
   "pygments_lexer": "ipython3",
   "version": "3.6.9"
  }
 },
 "nbformat": 4,
 "nbformat_minor": 2
}
