{
 "cells": [
  {
   "cell_type": "code",
   "execution_count": null,
   "metadata": {},
   "outputs": [],
   "source": [
    "## improve performance - use smaller network/ different network;\n",
    "#                  add dropout; reduce no. of dropout instances (?); reduce dropout value\n",
    "#               remove kernel_initializer\n",
    "\n",
    "# transfer learning with images saved as RGB - also look up image size to be used\n",
    "# try smaller network instead of VGG16\n",
    "# use fastai & find region of interest\n",
    "\n",
    "\n",
    "# how to do data augmentation (with all classes), when using transfer learning?\n",
    "\n",
    "\n",
    "# add performance metrics other than accuracy - would need y_test & y_pred values - how to get?\n",
    "# how to obtain the probabilities on test images, when using DataGenerator? \n",
    "# how to see 'perf.' output on test set\n",
    "\n",
    "\n",
    "## add colab; & check for all classes \n",
    "# loading image data from single file instead of directory; check on colab\n",
    "\n",
    "\n",
    "# understand the no. of parameters in each layer of a model (as we move forward, image size decreases, #channels increases)\n",
    "# check the no. of parameters (trainable & untrainable) for transfer learning\n",
    "\n",
    "\n",
    "# sparseConvNet; check kaggle code  (# check kaggle kernels for ~eco-taxa data)\n",
    "# check kaggle data - no. of entries in each class - is there data imbalance?\n",
    "\n",
    "\n",
    "\n",
    "# https://machinelearningmastery.com/image-augmentation-deep-learning-keras/\n",
    "# https://blog.keras.io/building-powerful-image-classification-models-using-very-little-data.html\n",
    "\n",
    "\n",
    "# settle on no. of classes : confusion understanding taxonomic tree(?) - file inventory.txt\n",
    "#   see what was used in paper (108, excluding 12 rare taxa) - check if classes reported (see kaggle data ****)\n",
    "#                      & reported accuracy (>90%, recall: 40%, precision: 84%)\n",
    "## SEE SUPPLEMENTARY !!!\n",
    "\n",
    "\n",
    "\n",
    "#########################################################################################################\n",
    "#########################################################################################################\n",
    "# EcoTaxa data: classification of Plankton\n",
    "# data source: https://www.seanoe.org/data/00446/55741/\n",
    "# http://marine-imaging-workshop.com/documents/miw17/presentations/public/MIW17_Poster_MarcPicheral.pdf\n",
    "\n",
    "\n",
    "## total no. of images (EcoTaxa data): 1433278  (~1.4 million)\n",
    "# the paper talks of 24M images\n",
    "\n",
    "###########################################################################################\n",
    "### PROBLEM STATEMENT ###\n",
    "# 1. build a classifier to classify images\n",
    "# 2. see if the classifier can point out 'new' classes, not present in the training data (class, junk, other) ****\n",
    "#     finding new classes :\n",
    "#           i) see if probability is less for all the known classes\n",
    "#           ii) use some similarity metric to the other classes (e.g. triplet loss?) ?\n",
    "# 3. comparison of features performance: conventional vs deep-learning based ***\n",
    "\n",
    "\n",
    "#### papers ####\n",
    "#https://www.frontiersin.org/articles/10.3389/fmars.2019.00196/full  (review, Apr. 2019) -> understand features used **\n",
    "\n",
    "\n",
    "#########################################################################################\n",
    "#### CHALLENGES: ####\n",
    "\n",
    "# 1. substantial re-training of pre-trained networks (transfer learning)\n",
    "#   or new network for gray-scale images?\n",
    "#          -> find image size corresponding to the pre-trained network used\n",
    "## TRY BOTH?\n",
    "# what happens if we i) pad the images vs ii) don't pad the images\n",
    "\n",
    "\n",
    "\n",
    "# 2. design of model & loss function suited to task  \n",
    "# https://www.kaggle.com/iafoss/pretrained-resnet34-with-rgby-0-460-public-lb\n",
    "\n",
    "\n",
    "\n",
    "# 3.  check data set size; handling class imbalance for image data (check for imbalance) ***\n",
    "\n",
    "# combine classes in similar taxa -> low within-class variance  (check images for grouped classes - are they similar?)\n",
    "# different classes have different no. of examples - use taxonomic tree to group\n",
    "\n",
    "#    check total no. of classes, depth of each class (can classify at shallower level using taxonomic tree)\n",
    "# select the level to do the classification at (this decides the no. of classes)\n",
    "\n",
    "#         --> try with 2-3 classes first\n",
    "\n",
    "# augment data (crop, translate, rotate, flip)\n",
    "# HOW TO HANDLE LARGE IMBALANCE AMONG DIFFERENT CLASSES - IS AUGMENTATION ENOUGH? OR REDUCE NO. OF IMAGES SELECTED?\n",
    "#  Luo et al, 2018 talks of different works - 4-class classification, 47 classes, 114 classes\n",
    "\n",
    "# - all classes should be represented at each batch - how to ensure this?\n",
    "\n",
    "# this should be an N-class classifier (instead of level-wise one-vs-rest)\n",
    "\n",
    "\n",
    "\n",
    "\n",
    "# 4. handling outlier data?\n",
    "\n",
    "\n",
    "# 5. are all images of same size? are they captured on same scale?  ***\n",
    "# are all images of same size (height & width)? -> no\n",
    "# are they captured on same scale (magnification)? -> no idea\n",
    "# use Fiji/ ImageJ to check metadata of image (use voxel size? any other parameter) ****\n",
    "\n",
    "\n",
    "\n",
    "# 6. handling large no. of classes (classification performance metric); one-hot encode classes - which to use?\n",
    "# LabelEncoder() ; OneHotEncoder() ; LabelBinarizer() ; to_categorical (keras.utils)\n",
    "# https://stackoverflow.com/questions/50473381/scikit-learns-labelbinarizer-vs-onehotencoder\n",
    "# GOOGLE: label binarizer vs to categorical\n",
    "\n",
    "\n",
    "\n",
    "# 7. libraries to load & see image data\n",
    "# PIL/ Pillow vs openCV - which one to use?\n",
    "\n",
    "\n",
    "\n",
    "\n",
    "# 8. data pre-processing: is it necessary to create separate folders for train & test? ***\n",
    "# either create separate folders with the pre-processed images (suitable for large no. of images), \n",
    "# or\n",
    "# save the pre-processed images as numpy arrays and load them for quick processing (suitable for less no. of images,\n",
    "# or smaller images).\n",
    "# before pre-processing, shuffle the images. From here, train, test & val splits should be created.\n",
    "\n",
    "# In the former case, use ImageDataGenerator & flow_from_directory commands to load the images\n",
    "# (both scaled; with augmentation for training & without aug. for validation) & automatically read classes\n",
    "# in 2nd case, save the labels also as a separate file.\n",
    "\n",
    "\n",
    "\n",
    "# 9. train-test data split\n",
    "# ideally, use train, validation & test sets\n",
    "\n",
    "\n",
    "# 10. input shape (flatten image?); see how it should be fed into network ***\n",
    "#     (k x k x C, where k: image dimension, C: np. of channels)\n",
    "# see channel first (theano) vs channel last (tensorflow) conventions\n",
    "# also, the batch of images may sometimes be mentioned\n",
    "\n",
    "# how should the image info be saved & passed to the cnn for training? -> save flattened pixel values as features in csv file\n",
    "## re-shaping tha data for input to conv net\n",
    "# https://stackoverflow.com/questions/43235531/convolutional-neural-network-conv1d-input-shape\n",
    "# http://localhost:8888/notebooks/Desktop/data/HEALTHCARE/EEG/code/GPU_run_CNN/EEG_Classification_CNN_3patients_GPU.ipynb\n",
    "\n",
    "\n",
    "\n",
    "# 11. handle overfitting , use of batches (batch normalization) & epochs,\n",
    "#       early stopping,\n",
    "#       data augmentation (different techniques: rotate, shift, zoom, crop, etc)\n",
    "#      dropout regularization (different values)\n",
    "\n",
    "# 12. choice of activation function (ReLU, softmax, etc),\n",
    "#     loss function (MSE, categorical_crossentropy, etc), \n",
    "#     metric (acc., recall)\n",
    "\n",
    "# 13. hyper-parameter tuning: learning rate (else, adaptive learning rate like Adam), optimizer (Adam, SGD, etc)\n",
    "\n",
    "# 14. how to apply scaling to intermediate layers\n",
    "\n",
    "\n",
    "## is there a method to assess what is the best model that can be built from given data, in terms of metric values ?\n",
    "## (metric values: RMSD for regresion, precision/recall for classification)\n",
    "\n",
    "\n",
    "\n",
    "## activation function & vanishing gradient\n",
    "## deep vs wide network (see excel: how no. of parameters changes)"
   ]
  },
  {
   "cell_type": "code",
   "execution_count": null,
   "metadata": {},
   "outputs": [],
   "source": [
    "## RESOURCES\n",
    "# sentdex youtube\n",
    "# data camp\n",
    "# pyimage\n",
    "# machinelearningmastery\n",
    "\n",
    "# https://machinelearningmastery.com/how-to-develop-a-convolutional-neural-network-to-classify-photos-of-dogs-and-cats/  \n",
    "#     -> both array & file system load   \n",
    "# https://machinelearningmastery.com/start-here/#better   ****\n",
    "# https://machinelearningmastery.com/how-to-calculate-precision-recall-f1-and-more-for-deep-learning-models/\n",
    "# https://machinelearningmastery.com/custom-metrics-deep-learning-keras-python/\n",
    "# https://machinelearningmastery.com/image-augmentation-deep-learning-keras/\n",
    "# https://machinelearningmastery.com/how-to-configure-image-data-augmentation-when-training-deep-learning-neural-networks/\n",
    "\n",
    "\n",
    "# https://keras.io/preprocessing/image/       <- ImageDataGenerator\n",
    "# https://blog.keras.io/building-powerful-image-classification-models-using-very-little-data.html\n",
    "\n",
    "\n",
    "# https://towardsdatascience.com/image-detection-from-scratch-in-keras-f314872006c9  -> gc command to clean memory\n",
    "\n",
    "# https://www.pyimagesearch.com/2018/09/10/keras-tutorial-how-to-get-started-with-keras-deep-learning-and-python/  -> from file\n",
    "\n",
    "# https://www.analyticsvidhya.com/blog/2019/01/build-image-classification-model-10-minutes/  -> Colab"
   ]
  },
  {
   "cell_type": "code",
   "execution_count": null,
   "metadata": {},
   "outputs": [],
   "source": [
    "# output layer is fully connected layer (model.add(Dense(n, ...)))\n",
    "# where n=1 for regression;  or,   n=no. of classes \n",
    "# for binary classifier, should it be 1 with sigmoid (machinelearningmastery), or 2 with softmax activation (datacamp) ?\n",
    "# accordingly, under model.compile, loss should be binary_crossentropy or categorical_crossentropy (Classification)\n",
    "#                                                mean_squared_error for regression\n",
    "\n",
    "\n",
    "# for classification, should the labels be one-hot encoded?\n",
    "# how to assign labels for multi-class classification\n",
    "\n",
    "\n",
    "# input shape is specified in the first model.add layer\n",
    "# images can be fed as numpy array, or from separate train test folders\n",
    "# image pixels should be scaled\n",
    "# apply transform for data augmentation, if required\n",
    "\n",
    "\n",
    "# drop-out can be implemented after conv+pool block, & after fully connected (dense) block (except for last prediction layer) \n",
    "# learning rate is specified with optimizer under model.compile\n",
    "# no. of epochs are specified in model.fit (increase epochs if both train & test loss continue to show downward trend w/o plateau)\n",
    "# early stopping is specified in model.fit"
   ]
  },
  {
   "cell_type": "code",
   "execution_count": null,
   "metadata": {},
   "outputs": [],
   "source": []
  },
  {
   "cell_type": "code",
   "execution_count": null,
   "metadata": {},
   "outputs": [],
   "source": [
    "###############################################################################\n",
    "# colab:  https://colab.research.google.com/notebooks/io.ipynb#scrollTo=7taylj9wpsA2\n",
    "\n",
    "# any code to automate the download of data to google colab, & run codes there?  ***\n",
    "# https://www.analyticsvidhya.com/blog/2019/01/build-image-classification-model-10-minutes/  -> Colab"
   ]
  },
  {
   "cell_type": "code",
   "execution_count": null,
   "metadata": {},
   "outputs": [],
   "source": [
    "# Setting up Colab\n",
    "!pip install PyDrive"
   ]
  },
  {
   "cell_type": "code",
   "execution_count": null,
   "metadata": {},
   "outputs": [],
   "source": [
    "# importing necessary libraries\n",
    "import os\n",
    "from pydrive.auth import GoogleAuth\n",
    "from pydrive.drive import GoogleDrive\n",
    "from google.colab import auth\n",
    "from oauth2client.client import GoogleCredentials"
   ]
  },
  {
   "cell_type": "code",
   "execution_count": null,
   "metadata": {},
   "outputs": [],
   "source": [
    "#  create a drive variable to access Google Drive:\n",
    "auth.authenticate_user()\n",
    "gauth = GoogleAuth()\n",
    "gauth.credentials = GoogleCredentials.get_application_default()\n",
    "drive = GoogleDrive(gauth)"
   ]
  },
  {
   "cell_type": "code",
   "execution_count": null,
   "metadata": {},
   "outputs": [],
   "source": [
    "# To download the dataset, we will use the ID of the file uploaded on Google Drive\n",
    "# Replace the id and filename in the below codes\n",
    "download = drive.CreateFile({'id': '1ZCzHDAfwgLdQke_GNnHp_4OheRRtNPs-'})\n",
    "download.GetContentFile('Train_UQcUa52.zip')\n",
    "!unzip Train_UQcUa52.zip"
   ]
  },
  {
   "cell_type": "code",
   "execution_count": null,
   "metadata": {},
   "outputs": [],
   "source": [
    "################################################################################"
   ]
  },
  {
   "cell_type": "code",
   "execution_count": null,
   "metadata": {},
   "outputs": [],
   "source": []
  },
  {
   "cell_type": "code",
   "execution_count": 3,
   "metadata": {},
   "outputs": [
    {
     "name": "stdout",
     "output_type": "stream",
     "text": [
      "C:\\Users\\DAR9KOR\\AppData\\Local\\Continuum\\anaconda3\\envs\\deep_learn\\python.exe\n"
     ]
    }
   ],
   "source": [
    "import sys\n",
    "print(sys.executable)  # prints location of executable\n",
    "print('')\n",
    "print(sys.version)   # prints python version"
   ]
  },
  {
   "cell_type": "code",
   "execution_count": null,
   "metadata": {},
   "outputs": [],
   "source": []
  },
  {
   "cell_type": "code",
   "execution_count": null,
   "metadata": {},
   "outputs": [],
   "source": []
  },
  {
   "cell_type": "code",
   "execution_count": 1,
   "metadata": {},
   "outputs": [],
   "source": [
    "import os\n",
    "import numpy as np # linear algebra\n",
    "import pandas as pd # data processing, CSV file I/O (e.g. pd.read_csv)\n",
    "\n",
    "#import seaborn as sns\n",
    "import matplotlib.pyplot as plt\n",
    "# %matplotlib inline\n",
    "\n",
    "import gc  # garbage collector\n",
    "\n",
    "from random import seed\n",
    "from random import random\n",
    "# seed random number generator\n",
    "seed(1)"
   ]
  },
  {
   "cell_type": "code",
   "execution_count": 2,
   "metadata": {},
   "outputs": [],
   "source": [
    "from PIL import Image  # Utilities to read and write images in various formats.\n",
    "import imageio     ## are both imageio & Pillow (PIL) required ?\n",
    "#import pathlib   # alternate to os.path"
   ]
  },
  {
   "cell_type": "code",
   "execution_count": 3,
   "metadata": {},
   "outputs": [],
   "source": [
    "#import keras"
   ]
  },
  {
   "cell_type": "code",
   "execution_count": null,
   "metadata": {},
   "outputs": [],
   "source": []
  },
  {
   "cell_type": "code",
   "execution_count": null,
   "metadata": {},
   "outputs": [],
   "source": []
  },
  {
   "cell_type": "code",
   "execution_count": 53,
   "metadata": {},
   "outputs": [],
   "source": [
    "'''link2 = Link[~Link[\"Lineage\"].str.contains('|'.join(['not-living', '/living/other/']))]\n",
    "\n",
    "# not living -> has 2 or 3 levels\n",
    "# living/other -> has 3 levels\n",
    "# living/eukaryote/... -> min 6 levels,max 15 levels"
   ]
  },
  {
   "cell_type": "code",
   "execution_count": null,
   "metadata": {},
   "outputs": [],
   "source": []
  },
  {
   "cell_type": "code",
   "execution_count": 10,
   "metadata": {},
   "outputs": [
    {
     "data": {
      "image/png": "[encoded data removed]",
      "text/plain": [
       "<PIL.JpegImagePlugin.JpegImageFile image mode=L size=51x48 at 0x1C79AF3C588>"
      ]
     },
     "metadata": {},
     "output_type": "display_data"
    }
   ],
   "source": [
    "# upload the data & check some images; \n",
    "\n",
    "'''im_path = pathlib.Path('./57398/ZooScanSet/Imgs/Acantharea/42738931.jpg')  #.glob('*/images/*.png')\n",
    "display(Image.open(im_path))  \n",
    "# https://stackoverflow.com/questions/11854847/how-can-i-display-an-image-from-a-file-in-jupyter-notebook\n",
    "# how to open an image in jupyter notebook\n",
    "# https://www.quora.com/How-do-I-load-multiple-images-in-Jupyter-Notebook-for-a-neural-network-classifier\n",
    "\n",
    "\n",
    "#training_paths = pathlib.Path('../input/stage1_train').glob('*/images/*.png')\n",
    "#training_sorted = sorted([x for x in training_paths])\n",
    "#im_path = training_sorted[45]\n",
    "#im = imageio.imread(str(im_path))"
   ]
  },
  {
   "cell_type": "code",
   "execution_count": 16,
   "metadata": {},
   "outputs": [
    {
     "data": {
      "text/plain": [
       "1433278"
      ]
     },
     "execution_count": 16,
     "metadata": {},
     "output_type": "execute_result"
    }
   ],
   "source": [
    "# total no. of images\n",
    "'''len(path_sorted)"
   ]
  },
  {
   "cell_type": "code",
   "execution_count": null,
   "metadata": {},
   "outputs": [],
   "source": []
  },
  {
   "cell_type": "code",
   "execution_count": null,
   "metadata": {},
   "outputs": [],
   "source": [
    "############  DATA PREPROCESSING     ############"
   ]
  },
  {
   "cell_type": "code",
   "execution_count": null,
   "metadata": {},
   "outputs": [],
   "source": [
    "# re-sizing images\n",
    "#https://stackoverflow.com/questions/44231209/resize-rectangular-image-to-square-keeping-ratio-and-fill-background-with-black/44231784\n",
    "# https://stackoverflow.com/questions/273946/how-do-i-resize-an-image-using-pil-and-maintain-its-aspect-ratio\n",
    "\n",
    "# as we go deeper into the network, the image gets smaller; hence can't start with very small images\n",
    "# see size to be used for pre-trained network (if) chosen"
   ]
  },
  {
   "cell_type": "code",
   "execution_count": 4,
   "metadata": {},
   "outputs": [],
   "source": [
    "# pad the images to square & make (increase or decrease) a common size\n",
    "\n",
    "#from PIL import Image\n",
    "'''\n",
    "def make_square(im, min_size=256, fill_color=(0, 0, 0, 0)):\n",
    "    x, y = im.size\n",
    "    size = max(min_size, x, y)\n",
    "    new_im = Image.new('RGBA', (size, size), fill_color)\n",
    "    new_im.paste(im, (int((size - x) / 2), int((size - y) / 2)))\n",
    "    return new_im\n",
    "'''\n",
    "\n",
    "def make_square(im, min_size=200, fill_color=(255)):   #fill_color=(255, 255, 255, 0)  # fill_color=(255, 255, 255)\n",
    "    # fill_color=(0, 0, 0, 0) <- black\n",
    "    # fill_color=(255, 255, 255, 0) <- white\n",
    "    x, y = im.size\n",
    "    \n",
    "    # make square image,\n",
    "    if x != y:\n",
    "        size = max(x, y)\n",
    "        new_im = Image.new('L', (size, size), fill_color)   # Image.new('RGB',  #'RGBA' is not supported in jpg image\n",
    "        new_im.paste(im, (int((size - x) / 2), int((size - y) / 2)))\n",
    "        #imResize = new_im.resize((min_size,min_size), Image.ANTIALIAS)\n",
    "    else:\n",
    "        new_im = im\n",
    "        # resize images\n",
    "        #imResize = im.resize((min_size,min_size), Image.ANTIALIAS)\n",
    "           \n",
    "    return new_im\n",
    "\n",
    "\n",
    "def im_resize(im, min_size=200):\n",
    "    # https://www.daniweb.com/programming/software-development/code/216637/resize-an-image-python\n",
    "    x, y = im.size\n",
    "    \n",
    "    if x > min_size:  # downsample\n",
    "        imResize = im.resize((min_size,min_size), Image.ANTIALIAS)   # use of other options? cubic spline?\n",
    "    elif x < min_size: # upsample\n",
    "        imResize = im.resize((min_size, min_size), Image.BILINEAR)\n",
    "    else:\n",
    "        imResize = im\n",
    "    \n",
    "    return imResize"
   ]
  },
  {
   "cell_type": "code",
   "execution_count": null,
   "metadata": {},
   "outputs": [],
   "source": []
  },
  {
   "cell_type": "code",
   "execution_count": null,
   "metadata": {},
   "outputs": [],
   "source": []
  },
  {
   "cell_type": "code",
   "execution_count": 5,
   "metadata": {},
   "outputs": [
    {
     "data": {
      "text/html": [
       "<div>\n",
       "<style scoped>\n",
       "    .dataframe tbody tr th:only-of-type {\n",
       "        vertical-align: middle;\n",
       "    }\n",
       "\n",
       "    .dataframe tbody tr th {\n",
       "        vertical-align: top;\n",
       "    }\n",
       "\n",
       "    .dataframe thead th {\n",
       "        text-align: right;\n",
       "    }\n",
       "</style>\n",
       "<table border=\"1\" class=\"dataframe\">\n",
       "  <thead>\n",
       "    <tr style=\"text-align: right;\">\n",
       "      <th></th>\n",
       "      <th>Unnamed: 0</th>\n",
       "      <th>Unnamed: 0.1</th>\n",
       "      <th>path</th>\n",
       "      <th>width</th>\n",
       "      <th>height</th>\n",
       "    </tr>\n",
       "  </thead>\n",
       "  <tbody>\n",
       "    <tr>\n",
       "      <th>0</th>\n",
       "      <td>0</td>\n",
       "      <td>0</td>\n",
       "      <td>57398\\ZooScanSet\\Imgs\\Acantharea\\42738931.jpg</td>\n",
       "      <td>51</td>\n",
       "      <td>48</td>\n",
       "    </tr>\n",
       "    <tr>\n",
       "      <th>1</th>\n",
       "      <td>1</td>\n",
       "      <td>1</td>\n",
       "      <td>57398\\ZooScanSet\\Imgs\\Acantharea\\42745471.jpg</td>\n",
       "      <td>62</td>\n",
       "      <td>64</td>\n",
       "    </tr>\n",
       "  </tbody>\n",
       "</table>\n",
       "</div>"
      ],
      "text/plain": [
       "   Unnamed: 0  Unnamed: 0.1                                           path  \\\n",
       "0           0             0  57398\\ZooScanSet\\Imgs\\Acantharea\\42738931.jpg   \n",
       "1           1             1  57398\\ZooScanSet\\Imgs\\Acantharea\\42745471.jpg   \n",
       "\n",
       "   width  height  \n",
       "0     51      48  \n",
       "1     62      64  "
      ]
     },
     "execution_count": 5,
     "metadata": {},
     "output_type": "execute_result"
    }
   ],
   "source": [
    "# do a trial run with selected folders -> Acantharea, Copilia, cypris\n",
    "\n",
    "trial = pd.read_csv(\"C:/Users/DAR9KOR/Desktop/data/sample_datasets/EcoTaxa/57398/selected_files.csv\")\n",
    "trial.head(2)"
   ]
  },
  {
   "cell_type": "code",
   "execution_count": 7,
   "metadata": {},
   "outputs": [
    {
     "data": {
      "image/png": "[encoded data removed]",
      "text/plain": [
       "<PIL.JpegImagePlugin.JpegImageFile image mode=L size=51x48 at 0x1766ACA07B8>"
      ]
     },
     "execution_count": 7,
     "metadata": {},
     "output_type": "execute_result"
    }
   ],
   "source": [
    "Image.open(str('./' + list(trial.path)[0]))"
   ]
  },
  {
   "cell_type": "code",
   "execution_count": 17,
   "metadata": {},
   "outputs": [
    {
     "data": {
      "text/plain": [
       "'42738931.jpg'"
      ]
     },
     "execution_count": 17,
     "metadata": {},
     "output_type": "execute_result"
    }
   ],
   "source": [
    "list(trial.path)[0].split(\"Acantharea\\\\\")[1]"
   ]
  },
  {
   "cell_type": "code",
   "execution_count": null,
   "metadata": {},
   "outputs": [],
   "source": [
    "# clear memory\n",
    "# https://towardsdatascience.com/image-detection-from-scratch-in-keras-f314872006c9\n",
    "del trial\n",
    "gc.collect()"
   ]
  },
  {
   "cell_type": "code",
   "execution_count": null,
   "metadata": {},
   "outputs": [],
   "source": []
  },
  {
   "cell_type": "code",
   "execution_count": null,
   "metadata": {},
   "outputs": [],
   "source": []
  },
  {
   "cell_type": "code",
   "execution_count": 6,
   "metadata": {},
   "outputs": [],
   "source": [
    "# data pre-processing: is it necessary to create separate folders for train & test?\n",
    "# https://cs230-stanford.github.io/train-dev-test-split.html  -> check for split using image indices \n",
    "\n",
    "#               total images        train(90%)     test(10%)     Total\n",
    "# Acantharea :   762                    686           76\n",
    "# Copilia:       762                    686           76\n",
    "# cypris:        702                    632           70\n",
    "# TOTAL                                2004          222         2226\n",
    "\n",
    "\n",
    "from os import makedirs\n",
    "from os import listdir\n",
    "from shutil import copyfile\n",
    "from random import seed\n",
    "from random import random\n",
    "\n",
    "# create directories\n",
    "dataset_home = './57398/ZooScanSet/runData/'\n",
    "subdirs = ['train/', 'test/']\n",
    "for subdir in subdirs:\n",
    "    # create label subdirectories\n",
    "    labeldirs = ['Acantharea/', 'Copilia/', 'cypris/']\n",
    "    for labldir in labeldirs:\n",
    "        newdir = dataset_home + subdir + labldir\n",
    "        makedirs(newdir, exist_ok=True)\n",
    "\n",
    "# seed random number generator\n",
    "seed(1)\n",
    "\n",
    "# define ratio of pictures to use for validation\n",
    "val_ratio = 0.1  # 0.25\n",
    "\n",
    "\n",
    "# copy training dataset images into subdirectories\n",
    "src_directory = './57398/ZooScanSet/Imgs/'  #'train/'\n"
   ]
  },
  {
   "cell_type": "code",
   "execution_count": 7,
   "metadata": {},
   "outputs": [],
   "source": [
    "## create train, test & val folders\n",
    "# also, need to update this code for automatically reading large number of classes\n",
    "\n",
    "#for file in listdir(src_directory):\n",
    "for filename in list(trial.path):\n",
    "    #src = src_directory + '/' + file\n",
    "    # decide train or test\n",
    "    dst_dir = 'train/'\n",
    "    if random() < val_ratio:\n",
    "        dst_dir = 'test/'\n",
    "    \n",
    "    # apply image squaring & resizing\n",
    "    im = Image.open(str('./' + filename))\n",
    "    new_im = make_square(im)\n",
    "    imResize = im_resize(new_im)\n",
    "    \n",
    "    '''if file.startswith('cat'):\n",
    "\t\tdst = dataset_home + dst_dir + 'cats/'  + file\n",
    "\t\tcopyfile(src, dst)\n",
    "\telif file.startswith('dog'):\n",
    "\t\tdst = dataset_home + dst_dir + 'dogs/'  + file\n",
    "\t\tcopyfile(src, dst)'''\n",
    "    \n",
    "    if filename.find('Acantharea') != -1:\n",
    "        newname = filename.split(\"Acantharea\\\\\")[1]\n",
    "        dst = dataset_home + dst_dir + 'Acantharea/' + newname\n",
    "        imResize.save(dst)\n",
    "    elif filename.find('Copilia') != -1:\n",
    "        newname = filename.split(\"Copilia\\\\\")[1]\n",
    "        dst = dataset_home + dst_dir + 'Copilia/' + newname\n",
    "        imResize.save(dst)\n",
    "    elif filename.find('cypris') != -1:\n",
    "        newname = filename.split(\"cypris\\\\\")[1]\n",
    "        dst = dataset_home + dst_dir + 'cypris/' + newname\n",
    "        imResize.save(dst)\n"
   ]
  },
  {
   "cell_type": "code",
   "execution_count": null,
   "metadata": {},
   "outputs": [],
   "source": [
    "# normalization of images?\n",
    "# /Desktop/data/theory/CNN_deepLearning_part4/sahana_talk/Kaggle_FER2013_Colab-Copy1_CNN_talk.ipynb"
   ]
  },
  {
   "cell_type": "code",
   "execution_count": null,
   "metadata": {},
   "outputs": [],
   "source": [
    "# handling outlier data?"
   ]
  },
  {
   "cell_type": "code",
   "execution_count": null,
   "metadata": {},
   "outputs": [],
   "source": []
  },
  {
   "cell_type": "code",
   "execution_count": null,
   "metadata": {},
   "outputs": [],
   "source": [
    "###########    MODEL BUILDING   #############"
   ]
  },
  {
   "cell_type": "code",
   "execution_count": null,
   "metadata": {},
   "outputs": [],
   "source": [
    "# should not the no. of model parameters be less than the data available?"
   ]
  },
  {
   "cell_type": "code",
   "execution_count": null,
   "metadata": {},
   "outputs": [],
   "source": [
    "# network to use: built new or previously available? \n",
    "# what was used for crystal image data: \n",
    "#    Conf. paper (gray scale) : crystalNet (conv-pool * 3 -> conv -> FC -> FC -> output)\n",
    "#    google paper (color images): variant of Inception v3; (also tried Inception-ResNet-v2, NASNet)\n",
    "#    arxiv paper :\n",
    "# check applicability of existing CNN for gray-scale:\n",
    "# LeNet-5 : for gray scale  -> https://www.analyticsvidhya.com/blog/2018/12/guide-convolutional-neural-network-cnn/\n",
    "\n",
    "# custom CNN:\n",
    "# https://www.analyticsvidhya.com/blog/2019/01/build-image-classification-model-10-minutes/\n",
    "# https://towardsdatascience.com/a-simple-2d-cnn-for-mnist-digit-recognition-a998dbc1e79a\n",
    "\n",
    "# trying different hyper-parameters\n",
    "# https://www.kaggle.com/cdeotte/how-to-choose-cnn-architecture-mnist\n",
    "# https://www.kaggle.com/cdeotte/25-million-images-0-99757-mnist\n",
    "\n",
    "# use of transfer learning\n",
    "#https://nbviewer.jupyter.org/github/tirthajyoti/Deep-learning-with-Python/blob/master/Notebooks/Transfer_learning_CIFAR.ipynb\n",
    "\n",
    "# design of model & loss function suited to task  \n",
    "# https://www.kaggle.com/iafoss/pretrained-resnet34-with-rgby-0-460-public-lb"
   ]
  },
  {
   "cell_type": "code",
   "execution_count": 3,
   "metadata": {},
   "outputs": [
    {
     "name": "stderr",
     "output_type": "stream",
     "text": [
      "Using TensorFlow backend.\n",
      "C:\\Users\\DAR9KOR\\AppData\\Local\\Continuum\\anaconda3\\envs\\deep_learn\\lib\\site-packages\\tensorflow\\python\\framework\\dtypes.py:516: FutureWarning: Passing (type, 1) or '1type' as a synonym of type is deprecated; in a future version of numpy, it will be understood as (type, (1,)) / '(1,)type'.\n",
      "  _np_qint8 = np.dtype([(\"qint8\", np.int8, 1)])\n",
      "C:\\Users\\DAR9KOR\\AppData\\Local\\Continuum\\anaconda3\\envs\\deep_learn\\lib\\site-packages\\tensorflow\\python\\framework\\dtypes.py:517: FutureWarning: Passing (type, 1) or '1type' as a synonym of type is deprecated; in a future version of numpy, it will be understood as (type, (1,)) / '(1,)type'.\n",
      "  _np_quint8 = np.dtype([(\"quint8\", np.uint8, 1)])\n",
      "C:\\Users\\DAR9KOR\\AppData\\Local\\Continuum\\anaconda3\\envs\\deep_learn\\lib\\site-packages\\tensorflow\\python\\framework\\dtypes.py:518: FutureWarning: Passing (type, 1) or '1type' as a synonym of type is deprecated; in a future version of numpy, it will be understood as (type, (1,)) / '(1,)type'.\n",
      "  _np_qint16 = np.dtype([(\"qint16\", np.int16, 1)])\n",
      "C:\\Users\\DAR9KOR\\AppData\\Local\\Continuum\\anaconda3\\envs\\deep_learn\\lib\\site-packages\\tensorflow\\python\\framework\\dtypes.py:519: FutureWarning: Passing (type, 1) or '1type' as a synonym of type is deprecated; in a future version of numpy, it will be understood as (type, (1,)) / '(1,)type'.\n",
      "  _np_quint16 = np.dtype([(\"quint16\", np.uint16, 1)])\n",
      "C:\\Users\\DAR9KOR\\AppData\\Local\\Continuum\\anaconda3\\envs\\deep_learn\\lib\\site-packages\\tensorflow\\python\\framework\\dtypes.py:520: FutureWarning: Passing (type, 1) or '1type' as a synonym of type is deprecated; in a future version of numpy, it will be understood as (type, (1,)) / '(1,)type'.\n",
      "  _np_qint32 = np.dtype([(\"qint32\", np.int32, 1)])\n",
      "C:\\Users\\DAR9KOR\\AppData\\Local\\Continuum\\anaconda3\\envs\\deep_learn\\lib\\site-packages\\tensorflow\\python\\framework\\dtypes.py:525: FutureWarning: Passing (type, 1) or '1type' as a synonym of type is deprecated; in a future version of numpy, it will be understood as (type, (1,)) / '(1,)type'.\n",
      "  np_resource = np.dtype([(\"resource\", np.ubyte, 1)])\n",
      "C:\\Users\\DAR9KOR\\AppData\\Local\\Continuum\\anaconda3\\envs\\deep_learn\\lib\\site-packages\\tensorboard\\compat\\tensorflow_stub\\dtypes.py:541: FutureWarning: Passing (type, 1) or '1type' as a synonym of type is deprecated; in a future version of numpy, it will be understood as (type, (1,)) / '(1,)type'.\n",
      "  _np_qint8 = np.dtype([(\"qint8\", np.int8, 1)])\n",
      "C:\\Users\\DAR9KOR\\AppData\\Local\\Continuum\\anaconda3\\envs\\deep_learn\\lib\\site-packages\\tensorboard\\compat\\tensorflow_stub\\dtypes.py:542: FutureWarning: Passing (type, 1) or '1type' as a synonym of type is deprecated; in a future version of numpy, it will be understood as (type, (1,)) / '(1,)type'.\n",
      "  _np_quint8 = np.dtype([(\"quint8\", np.uint8, 1)])\n",
      "C:\\Users\\DAR9KOR\\AppData\\Local\\Continuum\\anaconda3\\envs\\deep_learn\\lib\\site-packages\\tensorboard\\compat\\tensorflow_stub\\dtypes.py:543: FutureWarning: Passing (type, 1) or '1type' as a synonym of type is deprecated; in a future version of numpy, it will be understood as (type, (1,)) / '(1,)type'.\n",
      "  _np_qint16 = np.dtype([(\"qint16\", np.int16, 1)])\n",
      "C:\\Users\\DAR9KOR\\AppData\\Local\\Continuum\\anaconda3\\envs\\deep_learn\\lib\\site-packages\\tensorboard\\compat\\tensorflow_stub\\dtypes.py:544: FutureWarning: Passing (type, 1) or '1type' as a synonym of type is deprecated; in a future version of numpy, it will be understood as (type, (1,)) / '(1,)type'.\n",
      "  _np_quint16 = np.dtype([(\"quint16\", np.uint16, 1)])\n",
      "C:\\Users\\DAR9KOR\\AppData\\Local\\Continuum\\anaconda3\\envs\\deep_learn\\lib\\site-packages\\tensorboard\\compat\\tensorflow_stub\\dtypes.py:545: FutureWarning: Passing (type, 1) or '1type' as a synonym of type is deprecated; in a future version of numpy, it will be understood as (type, (1,)) / '(1,)type'.\n",
      "  _np_qint32 = np.dtype([(\"qint32\", np.int32, 1)])\n",
      "C:\\Users\\DAR9KOR\\AppData\\Local\\Continuum\\anaconda3\\envs\\deep_learn\\lib\\site-packages\\tensorboard\\compat\\tensorflow_stub\\dtypes.py:550: FutureWarning: Passing (type, 1) or '1type' as a synonym of type is deprecated; in a future version of numpy, it will be understood as (type, (1,)) / '(1,)type'.\n",
      "  np_resource = np.dtype([(\"resource\", np.ubyte, 1)])\n"
     ]
    }
   ],
   "source": [
    "## optimise the model parameters & hyperparameters: kernel initialiser & padding *********\n",
    "\n",
    "import sys\n",
    "#from matplotlib import pyplot\n",
    "from keras.utils import to_categorical\n",
    "from keras.models import Sequential\n",
    "from keras.layers import Conv2D\n",
    "from keras.layers import MaxPooling2D\n",
    "from keras.layers import Dense\n",
    "from keras.layers import Flatten, Dropout\n",
    "from keras.optimizers import SGD, Adam\n",
    "from keras.preprocessing.image import ImageDataGenerator"
   ]
  },
  {
   "cell_type": "code",
   "execution_count": null,
   "metadata": {},
   "outputs": [],
   "source": []
  },
  {
   "cell_type": "code",
   "execution_count": null,
   "metadata": {},
   "outputs": [],
   "source": []
  },
  {
   "cell_type": "code",
   "execution_count": 7,
   "metadata": {},
   "outputs": [],
   "source": [
    "# define cnn model\n",
    "'''def define_model():\n",
    "    model = Sequential()\n",
    "    \n",
    "    ## CHANGE INPUT SHAPE, BASED ON RGB OR GRAYSCALE\n",
    "    # specify padding or not?\n",
    "    model.add(Conv2D(32, (3, 3), activation='relu', kernel_initializer='he_uniform', padding='same', input_shape=(200, 200, 1)))\n",
    "    \n",
    "    model.add(MaxPooling2D((2, 2)))\n",
    "    model.add(Conv2D(64, (3, 3), activation='relu', kernel_initializer='he_uniform', padding='same'))\n",
    "    model.add(MaxPooling2D((2, 2)))\n",
    "    model.add(Conv2D(128, (3, 3), activation='relu', kernel_initializer='he_uniform', padding='same'))\n",
    "    model.add(MaxPooling2D((2, 2)))\n",
    "    model.add(Flatten())\n",
    "    model.add(Dense(128, activation='relu', kernel_initializer='he_uniform'))\n",
    "    \n",
    "    #model.add(Dense(1, activation='sigmoid'))  ## CHANGE HERE, BASED ON NO. OF CLASSES\n",
    "    model.add(Dense(3, activation='softmax'))\n",
    "    \n",
    "    # compile model\n",
    "    opt = SGD(lr=0.001, momentum=0.9)\n",
    "    #model.compile(optimizer=opt, loss='binary_crossentropy', metrics=['accuracy'])  ## CHANGE HERE, BASED ON NO. OF CLASSES\n",
    "    model.compile(optimizer=opt, loss='categorical_crossentropy', metrics=['accuracy'])\n",
    "    \n",
    "    return model'''"
   ]
  },
  {
   "cell_type": "code",
   "execution_count": 5,
   "metadata": {},
   "outputs": [
    {
     "name": "stderr",
     "output_type": "stream",
     "text": [
      "WARNING: Logging before flag parsing goes to stderr.\n",
      "W1229 23:57:15.500962 12960 deprecation_wrapper.py:119] From C:\\Users\\DAR9KOR\\AppData\\Local\\Continuum\\anaconda3\\envs\\deep_learn\\lib\\site-packages\\keras\\backend\\tensorflow_backend.py:74: The name tf.get_default_graph is deprecated. Please use tf.compat.v1.get_default_graph instead.\n",
      "\n",
      "W1229 23:57:15.570394 12960 deprecation_wrapper.py:119] From C:\\Users\\DAR9KOR\\AppData\\Local\\Continuum\\anaconda3\\envs\\deep_learn\\lib\\site-packages\\keras\\backend\\tensorflow_backend.py:517: The name tf.placeholder is deprecated. Please use tf.compat.v1.placeholder instead.\n",
      "\n",
      "W1229 23:57:15.583571 12960 deprecation_wrapper.py:119] From C:\\Users\\DAR9KOR\\AppData\\Local\\Continuum\\anaconda3\\envs\\deep_learn\\lib\\site-packages\\keras\\backend\\tensorflow_backend.py:4138: The name tf.random_uniform is deprecated. Please use tf.random.uniform instead.\n",
      "\n",
      "W1229 23:57:15.626925 12960 deprecation_wrapper.py:119] From C:\\Users\\DAR9KOR\\AppData\\Local\\Continuum\\anaconda3\\envs\\deep_learn\\lib\\site-packages\\keras\\backend\\tensorflow_backend.py:3976: The name tf.nn.max_pool is deprecated. Please use tf.nn.max_pool2d instead.\n",
      "\n",
      "W1229 23:57:15.785025 12960 deprecation_wrapper.py:119] From C:\\Users\\DAR9KOR\\AppData\\Local\\Continuum\\anaconda3\\envs\\deep_learn\\lib\\site-packages\\keras\\optimizers.py:790: The name tf.train.Optimizer is deprecated. Please use tf.compat.v1.train.Optimizer instead.\n",
      "\n",
      "W1229 23:57:15.807016 12960 deprecation_wrapper.py:119] From C:\\Users\\DAR9KOR\\AppData\\Local\\Continuum\\anaconda3\\envs\\deep_learn\\lib\\site-packages\\keras\\backend\\tensorflow_backend.py:3295: The name tf.log is deprecated. Please use tf.math.log instead.\n",
      "\n"
     ]
    }
   ],
   "source": [
    "### model 1\n",
    "model = Sequential()\n",
    "\n",
    "## CHANGE INPUT SHAPE, BASED ON RGB OR GRAYSCALE\n",
    "# specify padding or not?\n",
    "model.add(Conv2D(32, (3, 3), activation='relu', kernel_initializer='he_uniform', padding='same', input_shape=(200, 200, 1)))\n",
    "model.add(MaxPooling2D((2, 2)))\n",
    "model.add(Conv2D(64, (3, 3), activation='relu', kernel_initializer='he_uniform', padding='same'))\n",
    "model.add(MaxPooling2D((2, 2)))\n",
    "model.add(Conv2D(128, (3, 3), activation='relu', kernel_initializer='he_uniform', padding='same'))\n",
    "model.add(MaxPooling2D((2, 2)))\n",
    "model.add(Flatten())\n",
    "model.add(Dense(128, activation='relu', kernel_initializer='he_uniform'))\n",
    "\n",
    "#model.add(Dense(1, activation='sigmoid'))  ## CHANGE HERE, BASED ON NO. OF CLASSES\n",
    "model.add(Dense(3, activation='softmax'))\n",
    "\n",
    "# compile model\n",
    "opt = SGD(lr=0.001, momentum=0.9)\n",
    "#model.compile(optimizer=opt, loss='binary_crossentropy', metrics=['accuracy'])  ## CHANGE HERE, BASED ON NO. OF CLASSES\n",
    "model.compile(optimizer=opt, loss='categorical_crossentropy', metrics=['accuracy'])\n"
   ]
  },
  {
   "cell_type": "code",
   "execution_count": 6,
   "metadata": {},
   "outputs": [
    {
     "name": "stdout",
     "output_type": "stream",
     "text": [
      "_________________________________________________________________\n",
      "Layer (type)                 Output Shape              Param #   \n",
      "=================================================================\n",
      "conv2d_1 (Conv2D)            (None, 200, 200, 32)      320       \n",
      "_________________________________________________________________\n",
      "max_pooling2d_1 (MaxPooling2 (None, 100, 100, 32)      0         \n",
      "_________________________________________________________________\n",
      "conv2d_2 (Conv2D)            (None, 100, 100, 64)      18496     \n",
      "_________________________________________________________________\n",
      "max_pooling2d_2 (MaxPooling2 (None, 50, 50, 64)        0         \n",
      "_________________________________________________________________\n",
      "conv2d_3 (Conv2D)            (None, 50, 50, 128)       73856     \n",
      "_________________________________________________________________\n",
      "max_pooling2d_3 (MaxPooling2 (None, 25, 25, 128)       0         \n",
      "_________________________________________________________________\n",
      "flatten_1 (Flatten)          (None, 80000)             0         \n",
      "_________________________________________________________________\n",
      "dense_1 (Dense)              (None, 128)               10240128  \n",
      "_________________________________________________________________\n",
      "dense_2 (Dense)              (None, 3)                 387       \n",
      "=================================================================\n",
      "Total params: 10,333,187\n",
      "Trainable params: 10,333,187\n",
      "Non-trainable params: 0\n",
      "_________________________________________________________________\n",
      "None\n"
     ]
    }
   ],
   "source": [
    "print(model.summary())"
   ]
  },
  {
   "cell_type": "code",
   "execution_count": 4,
   "metadata": {},
   "outputs": [],
   "source": [
    "# plot diagnostic learning curves\n",
    "def summarize_diagnostics(history):\n",
    "    # plot loss\n",
    "    plt.subplot(211)\n",
    "    plt.title('Cross Entropy Loss')\n",
    "    plt.plot(history.history['loss'], color='blue', label='train')\n",
    "    plt.plot(history.history['val_loss'], color='orange', label='test')\n",
    "    # plot accuracy\n",
    "    plt.subplot(212)\n",
    "    plt.title('Classification Accuracy')\n",
    "    plt.plot(history.history['acc'], color='blue', label='train')   # 'accuracy'\n",
    "    plt.plot(history.history['val_acc'], color='orange', label='test')\n",
    "    # save plot to file\n",
    "    #filename = sys.argv[0].split('/')[-1]\n",
    "    #pyplot.savefig(filename + '_plot.png')\n",
    "    plt.close()"
   ]
  },
  {
   "cell_type": "code",
   "execution_count": null,
   "metadata": {},
   "outputs": [],
   "source": [
    "## class_mode for multiclass?? ***** - check generator function\n",
    "# any other way of setting up? try without generator; see how to lead from csv or directly from images; sahana code\n",
    "#      classes will also need to be read in\n",
    "#      also, randomisation in the order is required\n",
    "\n",
    "# run the test harness for evaluating a model\n",
    "'''def run_test_harness():\n",
    "    \n",
    "    # define model\n",
    "    model = define_model()\n",
    "    \n",
    "    # create data generators\n",
    "    train_datagen = ImageDataGenerator(rescale=1.0/255.0,\n",
    "                                       width_shift_range=0.1, height_shift_range=0.1, horizontal_flip=True)\n",
    "    test_datagen = ImageDataGenerator(rescale=1.0/255.0)\n",
    "    \n",
    "    ## prepare iterators       ## CHANGE class_mode, BASED ON NO. OF CLASSES\n",
    "    #train_it = train_datagen.flow_from_directory('dataset_dogs_vs_cats/train/',\n",
    "    #                                             class_mode='binary', batch_size=64, target_size=(200, 200))\n",
    "    #test_it = test_datagen.flow_from_directory('dataset_dogs_vs_cats/test/',\n",
    "    #                                           class_mode='binary', batch_size=64, target_size=(200, 200))    \n",
    "    train_it = train_datagen.flow_from_directory('./57398/ZooScanSet/runData/train/',\n",
    "                                                 class_mode='categorical', batch_size=64, target_size=(200, 200))\n",
    "    test_it = test_datagen.flow_from_directory('./57398/ZooScanSet/runData/test/',\n",
    "                                               class_mode='categorical', batch_size=64, target_size=(200, 200))\n",
    "    \n",
    "    # fit model\n",
    "    history = model.fit_generator(train_it, steps_per_epoch=len(train_it),\n",
    "                                  validation_data=test_it, validation_steps=len(test_it), epochs=50, verbose=1)\n",
    "    # verbose can be 0,1,2; default is 1\n",
    "    # https://stackoverflow.com/questions/47902295/what-is-the-use-of-verbose-in-keras-while-validating-the-model\n",
    "    \n",
    "    # evaluate model\n",
    "    _, acc = model.evaluate_generator(test_it, steps=len(test_it), verbose=1)\n",
    "    print('> %.3f' % (acc * 100.0))\n",
    "    \n",
    "    # learning curves\n",
    "    summarize_diagnostics(history)\n",
    "    \n",
    "run_test_harness()\n",
    "'''"
   ]
  },
  {
   "cell_type": "code",
   "execution_count": 8,
   "metadata": {},
   "outputs": [
    {
     "name": "stdout",
     "output_type": "stream",
     "text": [
      "Found 2007 images belonging to 3 classes.\n",
      "Found 219 images belonging to 3 classes.\n"
     ]
    }
   ],
   "source": [
    "# define model\n",
    "#model = define_model()\n",
    "\n",
    "\n",
    "# with data augmentation : how much is this augmenting?\n",
    "# create data generators\n",
    "train_datagen = ImageDataGenerator(rescale=1.0/255.0,\n",
    "                                   width_shift_range=0.1, height_shift_range=0.1, horizontal_flip=True)\n",
    "\n",
    "test_datagen = ImageDataGenerator(rescale=1.0/255.0)\n",
    "\n",
    "## prepare iterators       ## CHANGE class_mode, BASED ON NO. OF CLASSES\n",
    "#train_it = train_datagen.flow_from_directory('dataset_dogs_vs_cats/train/',\n",
    "#                                             class_mode='binary', batch_size=64, target_size=(200, 200))\n",
    "#test_it = test_datagen.flow_from_directory('dataset_dogs_vs_cats/test/',\n",
    "#                                           class_mode='binary', batch_size=64, target_size=(200, 200))    \n",
    "train_it = train_datagen.flow_from_directory('./57398/ZooScanSet/runData/train/', color_mode='grayscale',\n",
    "                                             class_mode='categorical', batch_size=64, target_size=(200, 200))\n",
    "test_it = test_datagen.flow_from_directory('./57398/ZooScanSet/runData/test/', color_mode='grayscale',\n",
    "                                           class_mode='categorical', batch_size=64, target_size=(200, 200))\n",
    "\n"
   ]
  },
  {
   "cell_type": "code",
   "execution_count": 9,
   "metadata": {
    "scrolled": true
   },
   "outputs": [
    {
     "name": "stderr",
     "output_type": "stream",
     "text": [
      "W1229 23:58:13.974874 12960 deprecation.py:323] From C:\\Users\\DAR9KOR\\AppData\\Local\\Continuum\\anaconda3\\envs\\deep_learn\\lib\\site-packages\\tensorflow\\python\\ops\\math_grad.py:1250: add_dispatch_support.<locals>.wrapper (from tensorflow.python.ops.array_ops) is deprecated and will be removed in a future version.\n",
      "Instructions for updating:\n",
      "Use tf.where in 2.0, which has the same broadcast rule as np.where\n",
      "W1229 23:58:14.233107 12960 deprecation_wrapper.py:119] From C:\\Users\\DAR9KOR\\AppData\\Local\\Continuum\\anaconda3\\envs\\deep_learn\\lib\\site-packages\\keras\\backend\\tensorflow_backend.py:986: The name tf.assign_add is deprecated. Please use tf.compat.v1.assign_add instead.\n",
      "\n"
     ]
    },
    {
     "name": "stdout",
     "output_type": "stream",
     "text": [
      "Epoch 1/50\n",
      "32/32 [==============================] - 199s 6s/step - loss: 10.2217 - acc: 0.3450 - val_loss: 11.4814 - val_acc: 0.2877\n",
      "Epoch 2/50\n",
      "32/32 [==============================] - 183s 6s/step - loss: 10.4774 - acc: 0.3500 - val_loss: 11.4814 - val_acc: 0.2877\n",
      "Epoch 3/50\n",
      "32/32 [==============================] - 191s 6s/step - loss: 10.4230 - acc: 0.3533 - val_loss: 11.4814 - val_acc: 0.2877\n",
      "Epoch 4/50\n",
      "32/32 [==============================] - 182s 6s/step - loss: 10.4910 - acc: 0.3491 - val_loss: 11.4814 - val_acc: 0.2877\n",
      "Epoch 5/50\n",
      "32/32 [==============================] - 168s 5s/step - loss: 10.5182 - acc: 0.3474 - val_loss: 11.4814 - val_acc: 0.2877\n",
      "Epoch 6/50\n",
      "32/32 [==============================] - 167s 5s/step - loss: 10.4774 - acc: 0.3500 - val_loss: 11.4814 - val_acc: 0.2877\n",
      "Epoch 7/50\n",
      "32/32 [==============================] - 165s 5s/step - loss: 10.5046 - acc: 0.3483 - val_loss: 11.4814 - val_acc: 0.2877\n",
      "Epoch 8/50\n",
      "32/32 [==============================] - 165s 5s/step - loss: 10.4910 - acc: 0.3491 - val_loss: 11.4814 - val_acc: 0.2877\n",
      "Epoch 9/50\n",
      "32/32 [==============================] - 194s 6s/step - loss: 10.4910 - acc: 0.3491 - val_loss: 11.4814 - val_acc: 0.2877\n",
      "Epoch 10/50\n",
      "32/32 [==============================] - 183s 6s/step - loss: 10.4774 - acc: 0.3500 - val_loss: 11.4814 - val_acc: 0.2877\n",
      "Epoch 11/50\n",
      "32/32 [==============================] - 125s 4s/step - loss: 10.4774 - acc: 0.3500 - val_loss: 11.4814 - val_acc: 0.2877\n",
      "Epoch 12/50\n",
      "32/32 [==============================] - 120s 4s/step - loss: 10.5590 - acc: 0.3449 - val_loss: 11.4814 - val_acc: 0.2877\n",
      "Epoch 13/50\n",
      "32/32 [==============================] - 130s 4s/step - loss: 10.4366 - acc: 0.3525 - val_loss: 11.4814 - val_acc: 0.2877\n",
      "Epoch 14/50\n",
      "32/32 [==============================] - 122s 4s/step - loss: 10.4910 - acc: 0.3491 - val_loss: 11.4814 - val_acc: 0.2877\n",
      "Epoch 15/50\n",
      "32/32 [==============================] - 115s 4s/step - loss: 10.4910 - acc: 0.3491 - val_loss: 11.4814 - val_acc: 0.2877\n",
      "Epoch 16/50\n",
      "32/32 [==============================] - 114s 4s/step - loss: 10.4910 - acc: 0.3491 - val_loss: 11.4814 - val_acc: 0.2877\n",
      "Epoch 17/50\n",
      "32/32 [==============================] - 116s 4s/step - loss: 10.4774 - acc: 0.3500 - val_loss: 11.4814 - val_acc: 0.2877\n",
      "Epoch 18/50\n",
      "32/32 [==============================] - 114s 4s/step - loss: 10.5046 - acc: 0.3483 - val_loss: 11.4814 - val_acc: 0.2877\n",
      "Epoch 19/50\n",
      "32/32 [==============================] - 127s 4s/step - loss: 10.5454 - acc: 0.3457 - val_loss: 11.4814 - val_acc: 0.2877\n",
      "Epoch 20/50\n",
      "32/32 [==============================] - 115s 4s/step - loss: 10.5182 - acc: 0.3474 - val_loss: 11.4814 - val_acc: 0.2877\n",
      "Epoch 21/50\n",
      "32/32 [==============================] - 113s 4s/step - loss: 10.5454 - acc: 0.3457 - val_loss: 11.4814 - val_acc: 0.2877\n",
      "Epoch 22/50\n",
      "32/32 [==============================] - 113s 4s/step - loss: 10.5046 - acc: 0.3483 - val_loss: 11.4814 - val_acc: 0.2877\n",
      "Epoch 23/50\n",
      "32/32 [==============================] - 124s 4s/step - loss: 10.4774 - acc: 0.3500 - val_loss: 11.4814 - val_acc: 0.2877\n",
      "Epoch 24/50\n",
      "32/32 [==============================] - 113s 4s/step - loss: 10.5454 - acc: 0.3457 - val_loss: 11.4814 - val_acc: 0.2877\n",
      "Epoch 25/50\n",
      "32/32 [==============================] - 111s 3s/step - loss: 10.5046 - acc: 0.3483 - val_loss: 11.4814 - val_acc: 0.2877\n",
      "Epoch 26/50\n",
      "32/32 [==============================] - 111s 3s/step - loss: 10.5046 - acc: 0.3483 - val_loss: 11.4814 - val_acc: 0.2877\n",
      "Epoch 27/50\n",
      "32/32 [==============================] - 111s 3s/step - loss: 10.5182 - acc: 0.3474 - val_loss: 11.4814 - val_acc: 0.2877\n",
      "Epoch 28/50\n",
      "32/32 [==============================] - 109s 3s/step - loss: 10.4774 - acc: 0.3500 - val_loss: 11.4814 - val_acc: 0.2877\n",
      "Epoch 29/50\n",
      "32/32 [==============================] - 121s 4s/step - loss: 10.5590 - acc: 0.3449 - val_loss: 11.4814 - val_acc: 0.2877\n",
      "Epoch 30/50\n",
      "32/32 [==============================] - 108s 3s/step - loss: 10.5182 - acc: 0.3474 - val_loss: 11.4814 - val_acc: 0.2877\n",
      "Epoch 31/50\n",
      "32/32 [==============================] - 113s 4s/step - loss: 10.5046 - acc: 0.3483 - val_loss: 11.4814 - val_acc: 0.2877\n",
      "Epoch 32/50\n",
      "32/32 [==============================] - 111s 3s/step - loss: 10.5046 - acc: 0.3483 - val_loss: 11.4814 - val_acc: 0.2877\n",
      "Epoch 33/50\n",
      "32/32 [==============================] - 111s 3s/step - loss: 10.5454 - acc: 0.3457 - val_loss: 11.4814 - val_acc: 0.2877\n",
      "Epoch 34/50\n",
      "32/32 [==============================] - 111s 3s/step - loss: 10.4910 - acc: 0.3491 - val_loss: 11.4814 - val_acc: 0.2877\n",
      "Epoch 35/50\n",
      "32/32 [==============================] - 111s 3s/step - loss: 10.5046 - acc: 0.3483 - val_loss: 11.4814 - val_acc: 0.2877\n",
      "Epoch 36/50\n",
      "32/32 [==============================] - 111s 3s/step - loss: 10.5182 - acc: 0.3474 - val_loss: 11.4814 - val_acc: 0.2877\n",
      "Epoch 37/50\n",
      "32/32 [==============================] - 111s 3s/step - loss: 10.4910 - acc: 0.3491 - val_loss: 11.4814 - val_acc: 0.2877\n",
      "Epoch 38/50\n",
      "32/32 [==============================] - 111s 3s/step - loss: 10.5318 - acc: 0.3466 - val_loss: 11.4814 - val_acc: 0.2877\n",
      "Epoch 39/50\n",
      "32/32 [==============================] - 119s 4s/step - loss: 10.4910 - acc: 0.3491 - val_loss: 11.4814 - val_acc: 0.2877\n",
      "Epoch 40/50\n",
      "32/32 [==============================] - 116s 4s/step - loss: 10.4910 - acc: 0.3491 - val_loss: 11.4814 - val_acc: 0.2877\n",
      "Epoch 41/50\n",
      "32/32 [==============================] - 111s 3s/step - loss: 10.5182 - acc: 0.3474 - val_loss: 11.4814 - val_acc: 0.2877\n",
      "Epoch 42/50\n",
      "32/32 [==============================] - 111s 3s/step - loss: 10.4774 - acc: 0.3500 - val_loss: 11.4814 - val_acc: 0.2877\n",
      "Epoch 43/50\n",
      "32/32 [==============================] - 108s 3s/step - loss: 10.5590 - acc: 0.3449 - val_loss: 11.4814 - val_acc: 0.2877\n",
      "Epoch 44/50\n",
      "32/32 [==============================] - 117s 4s/step - loss: 10.5318 - acc: 0.3466 - val_loss: 11.4814 - val_acc: 0.2877\n",
      "Epoch 45/50\n",
      "32/32 [==============================] - 108s 3s/step - loss: 10.4910 - acc: 0.3491 - val_loss: 11.4814 - val_acc: 0.2877\n",
      "Epoch 46/50\n",
      "32/32 [==============================] - 108s 3s/step - loss: 10.5046 - acc: 0.3483 - val_loss: 11.4814 - val_acc: 0.2877\n",
      "Epoch 47/50\n",
      "32/32 [==============================] - 108s 3s/step - loss: 10.5182 - acc: 0.3474 - val_loss: 11.4814 - val_acc: 0.2877\n",
      "Epoch 48/50\n",
      "32/32 [==============================] - 108s 3s/step - loss: 10.5454 - acc: 0.3457 - val_loss: 11.4814 - val_acc: 0.2877\n",
      "Epoch 49/50\n",
      "32/32 [==============================] - 112s 3s/step - loss: 10.5182 - acc: 0.3474 - val_loss: 11.4814 - val_acc: 0.2877\n",
      "Epoch 50/50\n",
      "32/32 [==============================] - 119s 4s/step - loss: 10.4774 - acc: 0.3500 - val_loss: 11.4814 - val_acc: 0.2877\n"
     ]
    }
   ],
   "source": [
    "# fit model\n",
    "history = model.fit_generator(train_it, steps_per_epoch=len(train_it),\n",
    "                              validation_data=test_it, validation_steps=len(test_it), epochs=50, verbose=1)\n",
    "# verbose can be 0,1,2; default is 1\n",
    "# https://stackoverflow.com/questions/47902295/what-is-the-use-of-verbose-in-keras-while-validating-the-model\n"
   ]
  },
  {
   "cell_type": "code",
   "execution_count": 10,
   "metadata": {},
   "outputs": [
    {
     "name": "stdout",
     "output_type": "stream",
     "text": [
      "4/4 [==============================] - 3s 832ms/step\n",
      "> 30.137\n"
     ]
    }
   ],
   "source": [
    "# evaluate model\n",
    "_, acc = model.evaluate_generator(test_it, steps=len(test_it), verbose=1)\n",
    "print('> %.3f' % (acc * 100.0))"
   ]
  },
  {
   "cell_type": "code",
   "execution_count": 15,
   "metadata": {},
   "outputs": [
    {
     "name": "stdout",
     "output_type": "stream",
     "text": [
      "{'val_loss': [11.481383436891042, 11.481383040615412, 11.481382883847031, 11.481382770625423, 11.481383445600397, 11.481383044970089, 11.481382892556386, 11.481383044970089, 11.481383162546376, 11.481383166901052, 11.481383166901052, 11.481383179965084, 11.481382901265741, 11.481383166901052, 11.48138276191607, 11.481382909975096, 11.481382766270746, 11.481382914329773, 11.481383441245718, 11.48138317125573, 11.481382901265741, 11.481382613857043, 11.481382774980101, 11.481382639985107, 11.481383162546376, 11.481383175610407, 11.481383044970089, 11.481383036260736, 11.481383175610407, 11.481383593659423, 11.481383158191699, 11.481382766270746, 11.481383166901052, 11.481383049324767, 11.48138317125573, 11.481383188674439, 11.481382883847031, 11.48138291868445, 11.48138317125573, 11.481383162546376, 11.481382901265741, 11.481382901265741, 11.481383166901052, 11.481382914329773, 11.481383049324767, 11.481382901265741, 11.481382639985107, 11.48138261821172, 11.481382766270746, 11.481383162546376], 'val_acc': [0.2876712330808378, 0.2876712330808378, 0.28767123219629404, 0.28767123314887966, 0.28767123314887966, 0.28767123219629404, 0.2876712341014653, 0.28767123219629404, 0.28767123219629404, 0.28767123314887966, 0.28767123314887966, 0.2876712323323777, 0.2876712323323777, 0.28767123314887966, 0.2876712330808378, 0.287671234237549, 0.28767123219629404, 0.287671233012796, 0.28767123219629404, 0.2876712341014653, 0.2876712323323777, 0.2876712341014653, 0.2876712341014653, 0.2876712321282522, 0.28767123219629404, 0.287671231379792, 0.28767123219629404, 0.2876712321282522, 0.287671231379792, 0.2876712321282522, 0.2876712330808378, 0.28767123219629404, 0.28767123314887966, 0.28767123314887966, 0.2876712341014653, 0.287671234237549, 0.28767123219629404, 0.2876712321282522, 0.2876712341014653, 0.28767123219629404, 0.2876712323323777, 0.2876712323323777, 0.28767123314887966, 0.287671233012796, 0.28767123314887966, 0.2876712323323777, 0.2876712321282522, 0.287671231379792, 0.28767123219629404, 0.28767123219629404], 'loss': [10.20206444430957, 10.504468723500494, 10.504468735379845, 10.504468737280542, 10.504468736805366, 10.50446884514505, 10.504468731578452, 10.504468646047124, 10.504468828513959, 10.50446884514505, 10.504468723500494, 10.50446875011024, 10.504468693802115, 10.504468706869401, 10.504468717798405, 10.504468676458263, 10.504468693089354, 10.504468761989592, 10.504468736330193, 10.504468797627645, 10.504468705919054, 10.504468651274038, 10.504468753911633, 10.504468645096775, 10.504468701167314, 10.504468670756173, 10.50446867598309, 10.504468693089354, 10.504468628465684, 10.504468706394228, 10.504468761989592, 10.504468701167314, 10.504468675507916, 10.504468626564988, 10.504468731578452, 10.504468736805366, 10.504468798102819, 10.504468761514417, 10.504468676458263, 10.504468646047124, 10.504468645571949, 10.504468662678216, 10.504468719699101, 10.504468670281, 10.504468798102819, 10.504468731578452, 10.50446867598309, 10.504468736330193, 10.504468797627645, 10.504468814733912], 'acc': [0.34578973577577315, 0.34828101627911034, 0.34828101614546764, 0.3482810163979039, 0.3482810162939595, 0.34828101627911034, 0.34828101651669735, 0.3482810163979039, 0.3482810163979039, 0.34828101627911034, 0.34828101627911034, 0.3482810164795744, 0.34828101626426117, 0.3482810163979039, 0.3482810163979039, 0.3482810163979039, 0.34828101627911034, 0.34828101651669735, 0.3482810163607809, 0.3482810162939595, 0.3482810163607809, 0.34828101651669735, 0.34828101627911034, 0.3482810163607809, 0.34828101651669735, 0.34828101651669735, 0.3482810162939595, 0.34828101627911034, 0.3482810164795744, 0.3482810162939595, 0.34828101651669735, 0.34828101651669735, 0.3482810163607809, 0.3482810163979039, 0.34828101651669735, 0.3482810162939595, 0.3482810163979039, 0.34828101641275305, 0.3482810163979039, 0.3482810163979039, 0.3482810162939595, 0.34828101627911034, 0.3482810164795744, 0.34828101641275305, 0.3482810163979039, 0.34828101651669735, 0.3482810162939595, 0.3482810163607809, 0.3482810162939595, 0.34828101627911034]}\n"
     ]
    }
   ],
   "source": [
    "print(history.history)"
   ]
  },
  {
   "cell_type": "code",
   "execution_count": 21,
   "metadata": {},
   "outputs": [
    {
     "data": {
      "text/plain": [
       "[<matplotlib.lines.Line2D at 0x1d382c76160>]"
      ]
     },
     "execution_count": 21,
     "metadata": {},
     "output_type": "execute_result"
    },
    {
     "data": {
      "image/png": "[encoded data removed]",
      "text/plain": [
       "<Figure size 432x288 with 2 Axes>"
      ]
     },
     "metadata": {
      "needs_background": "light"
     },
     "output_type": "display_data"
    }
   ],
   "source": [
    "# learning curves\n",
    "#from matplotlib import pyplot\n",
    "#summarize_diagnostics(history)\n",
    "\n",
    "# plot loss\n",
    "pyplot.subplot(211)\n",
    "pyplot.title('Cross Entropy Loss')\n",
    "pyplot.plot(history.history['loss'], color='blue', label='train')\n",
    "pyplot.plot(history.history['val_loss'], color='orange', label='test')\n",
    "# plot accuracy\n",
    "pyplot.subplot(212)\n",
    "pyplot.title('Classification Accuracy')\n",
    "pyplot.plot(history.history['acc'], color='blue', label='train')   # 'accuracy'\n",
    "pyplot.plot(history.history['val_acc'], color='orange', label='test')\n",
    "# save plot to file\n",
    "#filename = sys.argv[0].split('/')[-1]\n",
    "#pyplot.savefig(filename + '_plot.png')\n",
    "#pyplot.close()"
   ]
  },
  {
   "cell_type": "code",
   "execution_count": null,
   "metadata": {},
   "outputs": [],
   "source": [
    "# save model? -saving and loading a Keras model requires that the h5py library (HDF5 file format) is installed \n",
    "#!conda install h5py\n",
    "#!pip install h5py \n",
    "\n",
    "import h5py\n",
    "model.save('final_model.h5')"
   ]
  },
  {
   "cell_type": "code",
   "execution_count": null,
   "metadata": {},
   "outputs": [],
   "source": []
  },
  {
   "cell_type": "code",
   "execution_count": null,
   "metadata": {},
   "outputs": [],
   "source": []
  },
  {
   "cell_type": "code",
   "execution_count": null,
   "metadata": {},
   "outputs": [],
   "source": []
  },
  {
   "cell_type": "code",
   "execution_count": null,
   "metadata": {},
   "outputs": [],
   "source": [
    "### try different optimiser: Adam"
   ]
  },
  {
   "cell_type": "code",
   "execution_count": 5,
   "metadata": {},
   "outputs": [
    {
     "name": "stderr",
     "output_type": "stream",
     "text": [
      "WARNING: Logging before flag parsing goes to stderr.\n",
      "W1230 19:30:38.782941  8896 deprecation_wrapper.py:119] From C:\\Users\\DAR9KOR\\AppData\\Local\\Continuum\\anaconda3\\envs\\deep_learn\\lib\\site-packages\\keras\\backend\\tensorflow_backend.py:74: The name tf.get_default_graph is deprecated. Please use tf.compat.v1.get_default_graph instead.\n",
      "\n",
      "W1230 19:30:38.899724  8896 deprecation_wrapper.py:119] From C:\\Users\\DAR9KOR\\AppData\\Local\\Continuum\\anaconda3\\envs\\deep_learn\\lib\\site-packages\\keras\\backend\\tensorflow_backend.py:517: The name tf.placeholder is deprecated. Please use tf.compat.v1.placeholder instead.\n",
      "\n",
      "W1230 19:30:38.919617  8896 deprecation_wrapper.py:119] From C:\\Users\\DAR9KOR\\AppData\\Local\\Continuum\\anaconda3\\envs\\deep_learn\\lib\\site-packages\\keras\\backend\\tensorflow_backend.py:4138: The name tf.random_uniform is deprecated. Please use tf.random.uniform instead.\n",
      "\n",
      "W1230 19:30:38.961873  8896 deprecation_wrapper.py:119] From C:\\Users\\DAR9KOR\\AppData\\Local\\Continuum\\anaconda3\\envs\\deep_learn\\lib\\site-packages\\keras\\backend\\tensorflow_backend.py:3976: The name tf.nn.max_pool is deprecated. Please use tf.nn.max_pool2d instead.\n",
      "\n",
      "W1230 19:30:39.126816  8896 deprecation_wrapper.py:119] From C:\\Users\\DAR9KOR\\AppData\\Local\\Continuum\\anaconda3\\envs\\deep_learn\\lib\\site-packages\\keras\\optimizers.py:790: The name tf.train.Optimizer is deprecated. Please use tf.compat.v1.train.Optimizer instead.\n",
      "\n",
      "W1230 19:30:39.170552  8896 deprecation_wrapper.py:119] From C:\\Users\\DAR9KOR\\AppData\\Local\\Continuum\\anaconda3\\envs\\deep_learn\\lib\\site-packages\\keras\\backend\\tensorflow_backend.py:3295: The name tf.log is deprecated. Please use tf.math.log instead.\n",
      "\n"
     ]
    },
    {
     "name": "stdout",
     "output_type": "stream",
     "text": [
      "_________________________________________________________________\n",
      "Layer (type)                 Output Shape              Param #   \n",
      "=================================================================\n",
      "conv2d_1 (Conv2D)            (None, 200, 200, 32)      320       \n",
      "_________________________________________________________________\n",
      "max_pooling2d_1 (MaxPooling2 (None, 100, 100, 32)      0         \n",
      "_________________________________________________________________\n",
      "conv2d_2 (Conv2D)            (None, 100, 100, 64)      18496     \n",
      "_________________________________________________________________\n",
      "max_pooling2d_2 (MaxPooling2 (None, 50, 50, 64)        0         \n",
      "_________________________________________________________________\n",
      "conv2d_3 (Conv2D)            (None, 50, 50, 128)       73856     \n",
      "_________________________________________________________________\n",
      "max_pooling2d_3 (MaxPooling2 (None, 25, 25, 128)       0         \n",
      "_________________________________________________________________\n",
      "flatten_1 (Flatten)          (None, 80000)             0         \n",
      "_________________________________________________________________\n",
      "dense_1 (Dense)              (None, 128)               10240128  \n",
      "_________________________________________________________________\n",
      "dense_2 (Dense)              (None, 3)                 387       \n",
      "=================================================================\n",
      "Total params: 10,333,187\n",
      "Trainable params: 10,333,187\n",
      "Non-trainable params: 0\n",
      "_________________________________________________________________\n",
      "None\n"
     ]
    }
   ],
   "source": [
    "### model 2\n",
    "model = Sequential()\n",
    "\n",
    "## CHANGE INPUT SHAPE, BASED ON RGB OR GRAYSCALE\n",
    "# specify padding or not?\n",
    "model.add(Conv2D(32, (3, 3), activation='relu', kernel_initializer='he_uniform', padding='same', input_shape=(200, 200, 1)))\n",
    "model.add(MaxPooling2D((2, 2)))\n",
    "model.add(Conv2D(64, (3, 3), activation='relu', kernel_initializer='he_uniform', padding='same'))\n",
    "model.add(MaxPooling2D((2, 2)))\n",
    "model.add(Conv2D(128, (3, 3), activation='relu', kernel_initializer='he_uniform', padding='same'))\n",
    "model.add(MaxPooling2D((2, 2)))\n",
    "model.add(Flatten())\n",
    "model.add(Dense(128, activation='relu', kernel_initializer='he_uniform'))\n",
    "\n",
    "#model.add(Dense(1, activation='sigmoid'))  ## CHANGE HERE, BASED ON NO. OF CLASSES\n",
    "model.add(Dense(3, activation='softmax'))\n",
    "\n",
    "# compile model\n",
    "#opt = SGD(lr=0.001, momentum=0.9)\n",
    "#model.compile(optimizer=opt, loss='binary_crossentropy', metrics=['accuracy'])  ## CHANGE HERE, BASED ON NO. OF CLASSES\n",
    "model.compile(optimizer='adam', loss='categorical_crossentropy', metrics=['accuracy'])\n",
    "\n",
    "print(model.summary())"
   ]
  },
  {
   "cell_type": "code",
   "execution_count": 6,
   "metadata": {},
   "outputs": [
    {
     "name": "stdout",
     "output_type": "stream",
     "text": [
      "Found 2007 images belonging to 3 classes.\n",
      "Found 219 images belonging to 3 classes.\n"
     ]
    },
    {
     "name": "stderr",
     "output_type": "stream",
     "text": [
      "W1230 19:33:31.857776  8896 deprecation.py:323] From C:\\Users\\DAR9KOR\\AppData\\Local\\Continuum\\anaconda3\\envs\\deep_learn\\lib\\site-packages\\tensorflow\\python\\ops\\math_grad.py:1250: add_dispatch_support.<locals>.wrapper (from tensorflow.python.ops.array_ops) is deprecated and will be removed in a future version.\n",
      "Instructions for updating:\n",
      "Use tf.where in 2.0, which has the same broadcast rule as np.where\n",
      "W1230 19:33:32.193625  8896 deprecation_wrapper.py:119] From C:\\Users\\DAR9KOR\\AppData\\Local\\Continuum\\anaconda3\\envs\\deep_learn\\lib\\site-packages\\keras\\backend\\tensorflow_backend.py:986: The name tf.assign_add is deprecated. Please use tf.compat.v1.assign_add instead.\n",
      "\n"
     ]
    },
    {
     "name": "stdout",
     "output_type": "stream",
     "text": [
      "Epoch 1/50\n",
      "32/32 [==============================] - 207s 6s/step - loss: 10.7346 - acc: 0.3174 - val_loss: 10.4510 - val_acc: 0.3516\n",
      "Epoch 2/50\n",
      "32/32 [==============================] - 198s 6s/step - loss: 11.0738 - acc: 0.3130 - val_loss: 10.4510 - val_acc: 0.3516\n",
      "Epoch 3/50\n",
      "32/32 [==============================] - 194s 6s/step - loss: 11.1146 - acc: 0.3104 - val_loss: 10.4510 - val_acc: 0.3516\n",
      "Epoch 4/50\n",
      "32/32 [==============================] - 173s 5s/step - loss: 11.0874 - acc: 0.3121 - val_loss: 10.4510 - val_acc: 0.3516\n",
      "Epoch 5/50\n",
      "32/32 [==============================] - 194s 6s/step - loss: 11.0874 - acc: 0.3121 - val_loss: 10.4510 - val_acc: 0.3516\n",
      "Epoch 6/50\n",
      "32/32 [==============================] - 208s 6s/step - loss: 11.0738 - acc: 0.3130 - val_loss: 10.4510 - val_acc: 0.3516\n",
      "Epoch 7/50\n",
      "32/32 [==============================] - 177s 6s/step - loss: 11.1282 - acc: 0.3096 - val_loss: 10.4510 - val_acc: 0.3516\n",
      "Epoch 8/50\n",
      "32/32 [==============================] - 128s 4s/step - loss: 11.1146 - acc: 0.3104 - val_loss: 10.4510 - val_acc: 0.3516\n",
      "Epoch 9/50\n",
      "32/32 [==============================] - 133s 4s/step - loss: 11.0874 - acc: 0.3121 - val_loss: 10.4510 - val_acc: 0.3516\n",
      "Epoch 10/50\n",
      "32/32 [==============================] - 116s 4s/step - loss: 11.0602 - acc: 0.3138 - val_loss: 10.4510 - val_acc: 0.3516\n",
      "Epoch 11/50\n",
      "32/32 [==============================] - 134s 4s/step - loss: 11.0874 - acc: 0.3121 - val_loss: 10.4510 - val_acc: 0.3516\n",
      "Epoch 12/50\n",
      "32/32 [==============================] - 145s 5s/step - loss: 11.1146 - acc: 0.3104 - val_loss: 10.4510 - val_acc: 0.3516\n",
      "Epoch 13/50\n",
      "32/32 [==============================] - 136s 4s/step - loss: 11.1282 - acc: 0.3096 - val_loss: 10.4510 - val_acc: 0.3516\n",
      "Epoch 14/50\n",
      "32/32 [==============================] - 127s 4s/step - loss: 11.1010 - acc: 0.3113 - val_loss: 10.4510 - val_acc: 0.3516\n",
      "Epoch 15/50\n",
      "32/32 [==============================] - 138s 4s/step - loss: 11.1146 - acc: 0.3104 - val_loss: 10.4510 - val_acc: 0.3516\n",
      "Epoch 16/50\n",
      "32/32 [==============================] - 154s 5s/step - loss: 11.1282 - acc: 0.3096 - val_loss: 10.4510 - val_acc: 0.3516\n",
      "Epoch 17/50\n",
      "32/32 [==============================] - 119s 4s/step - loss: 11.1146 - acc: 0.3104 - val_loss: 10.4510 - val_acc: 0.3516\n",
      "Epoch 18/50\n",
      "32/32 [==============================] - 118s 4s/step - loss: 11.1282 - acc: 0.3096 - val_loss: 10.4510 - val_acc: 0.3516\n",
      "Epoch 19/50\n",
      "32/32 [==============================] - 130s 4s/step - loss: 11.1282 - acc: 0.3096 - val_loss: 10.4510 - val_acc: 0.3516\n",
      "Epoch 20/50\n",
      "32/32 [==============================] - 124s 4s/step - loss: 11.0738 - acc: 0.3130 - val_loss: 10.4510 - val_acc: 0.3516\n",
      "Epoch 21/50\n",
      "32/32 [==============================] - 124s 4s/step - loss: 11.0602 - acc: 0.3138 - val_loss: 10.4510 - val_acc: 0.3516\n",
      "Epoch 22/50\n",
      "32/32 [==============================] - 127s 4s/step - loss: 11.0874 - acc: 0.3121 - val_loss: 10.4510 - val_acc: 0.3516\n",
      "Epoch 23/50\n",
      "32/32 [==============================] - 118s 4s/step - loss: 11.1010 - acc: 0.3113 - val_loss: 10.4510 - val_acc: 0.3516\n",
      "Epoch 24/50\n",
      "32/32 [==============================] - 115s 4s/step - loss: 11.1010 - acc: 0.3113 - val_loss: 10.4510 - val_acc: 0.3516\n",
      "Epoch 25/50\n",
      "32/32 [==============================] - 127s 4s/step - loss: 11.1282 - acc: 0.3096 - val_loss: 10.4510 - val_acc: 0.3516\n",
      "Epoch 26/50\n",
      "32/32 [==============================] - 129s 4s/step - loss: 11.1554 - acc: 0.3079 - val_loss: 10.4510 - val_acc: 0.3516\n",
      "Epoch 27/50\n",
      "32/32 [==============================] - 139s 4s/step - loss: 11.0057 - acc: 0.3172 - val_loss: 10.4510 - val_acc: 0.3516\n",
      "Epoch 31/50\n",
      "32/32 [==============================] - 120s 4s/step - loss: 11.1282 - acc: 0.3096 - val_loss: 10.4510 - val_acc: 0.3516\n",
      "Epoch 32/50\n",
      "32/32 [==============================] - 117s 4s/step - loss: 11.1010 - acc: 0.3113 - val_loss: 10.4510 - val_acc: 0.3516\n",
      "Epoch 33/50\n",
      "32/32 [==============================] - 117s 4s/step - loss: 11.0466 - acc: 0.3146 - val_loss: 10.4510 - val_acc: 0.3516\n",
      "Epoch 34/50\n",
      "32/32 [==============================] - 118s 4s/step - loss: 11.1554 - acc: 0.3079 - val_loss: 10.4510 - val_acc: 0.3516\n",
      "Epoch 35/50\n",
      "32/32 [==============================] - 116s 4s/step - loss: 11.1146 - acc: 0.3104 - val_loss: 10.4510 - val_acc: 0.3516\n",
      "Epoch 36/50\n",
      "32/32 [==============================] - 118s 4s/step - loss: 11.0874 - acc: 0.3121 - val_loss: 10.4510 - val_acc: 0.3516\n",
      "Epoch 37/50\n",
      "32/32 [==============================] - 118s 4s/step - loss: 11.1418 - acc: 0.3087 - val_loss: 10.4510 - val_acc: 0.3516\n",
      "Epoch 38/50\n",
      "32/32 [==============================] - 125s 4s/step - loss: 11.1282 - acc: 0.3096 - val_loss: 10.4510 - val_acc: 0.3516\n",
      "Epoch 39/50\n",
      "32/32 [==============================] - 115s 4s/step - loss: 11.0193 - acc: 0.3163 - val_loss: 10.4510 - val_acc: 0.3516\n",
      "Epoch 40/50\n",
      "32/32 [==============================] - 129s 4s/step - loss: 11.1418 - acc: 0.3087 - val_loss: 10.4510 - val_acc: 0.3516\n",
      "Epoch 41/50\n",
      "32/32 [==============================] - 115s 4s/step - loss: 11.0738 - acc: 0.3130 - val_loss: 10.4510 - val_acc: 0.3516\n",
      "Epoch 42/50\n",
      "32/32 [==============================] - 119s 4s/step - loss: 11.1282 - acc: 0.3096 - val_loss: 10.4510 - val_acc: 0.3516\n",
      "Epoch 43/50\n",
      "32/32 [==============================] - 123s 4s/step - loss: 11.1554 - acc: 0.3079 - val_loss: 10.4510 - val_acc: 0.3516\n",
      "Epoch 44/50\n",
      "32/32 [==============================] - 114s 4s/step - loss: 11.1826 - acc: 0.3062 - val_loss: 10.4510 - val_acc: 0.3516\n",
      "Epoch 45/50\n",
      "32/32 [==============================] - 114s 4s/step - loss: 11.1146 - acc: 0.3104 - val_loss: 10.4510 - val_acc: 0.3516\n",
      "Epoch 46/50\n",
      "32/32 [==============================] - 116s 4s/step - loss: 11.0874 - acc: 0.3121 - val_loss: 10.4510 - val_acc: 0.3516\n",
      "Epoch 47/50\n",
      "32/32 [==============================] - 115s 4s/step - loss: 11.1010 - acc: 0.3113 - val_loss: 10.4510 - val_acc: 0.3516\n",
      "Epoch 48/50\n",
      "32/32 [==============================] - 126s 4s/step - loss: 11.0738 - acc: 0.3130 - val_loss: 10.4510 - val_acc: 0.3516\n",
      "Epoch 49/50\n",
      "32/32 [==============================] - 129s 4s/step - loss: 11.1690 - acc: 0.3071 - val_loss: 10.4510 - val_acc: 0.3516\n",
      "Epoch 50/50\n",
      "32/32 [==============================] - 138s 4s/step - loss: 11.1146 - acc: 0.3104 - val_loss: 10.4510 - val_acc: 0.3516\n"
     ]
    }
   ],
   "source": [
    "train_datagen = ImageDataGenerator(rescale=1.0/255.0,\n",
    "                                   width_shift_range=0.1, height_shift_range=0.1, horizontal_flip=True)\n",
    "\n",
    "test_datagen = ImageDataGenerator(rescale=1.0/255.0)\n",
    "\n",
    "## prepare iterators       ## CHANGE class_mode, BASED ON NO. OF CLASSES\n",
    "#train_it = train_datagen.flow_from_directory('dataset_dogs_vs_cats/train/',\n",
    "#                                             class_mode='binary', batch_size=64, target_size=(200, 200))\n",
    "#test_it = test_datagen.flow_from_directory('dataset_dogs_vs_cats/test/',\n",
    "#                                           class_mode='binary', batch_size=64, target_size=(200, 200))    \n",
    "train_it = train_datagen.flow_from_directory('./57398/ZooScanSet/runData/train/', color_mode='grayscale',\n",
    "                                             class_mode='categorical', batch_size=64, target_size=(200, 200))\n",
    "test_it = test_datagen.flow_from_directory('./57398/ZooScanSet/runData/test/', color_mode='grayscale',\n",
    "                                           class_mode='categorical', batch_size=64, target_size=(200, 200))\n",
    "\n",
    "# fit model\n",
    "history = model.fit_generator(train_it, steps_per_epoch=len(train_it),\n",
    "                              validation_data=test_it, validation_steps=len(test_it), epochs=50, verbose=1)"
   ]
  },
  {
   "cell_type": "code",
   "execution_count": 7,
   "metadata": {},
   "outputs": [
    {
     "name": "stdout",
     "output_type": "stream",
     "text": [
      "4/4 [==============================] - 6s 1s/step\n",
      "> 33.790\n"
     ]
    }
   ],
   "source": [
    "# evaluate model\n",
    "_, acc = model.evaluate_generator(test_it, steps=len(test_it), verbose=1)\n",
    "print('> %.3f' % (acc * 100.0))"
   ]
  },
  {
   "cell_type": "code",
   "execution_count": 8,
   "metadata": {},
   "outputs": [
    {
     "name": "stdout",
     "output_type": "stream",
     "text": [
      "32\n"
     ]
    }
   ],
   "source": [
    "print(len(train_it))  # this is the no. of iterations per epoch = train_data_size/ batch_size"
   ]
  },
  {
   "cell_type": "code",
   "execution_count": 9,
   "metadata": {},
   "outputs": [
    {
     "data": {
      "text/plain": [
       "4"
      ]
     },
     "execution_count": 9,
     "metadata": {},
     "output_type": "execute_result"
    }
   ],
   "source": [
    "len(test_it)"
   ]
  },
  {
   "cell_type": "code",
   "execution_count": 10,
   "metadata": {},
   "outputs": [
    {
     "name": "stdout",
     "output_type": "stream",
     "text": [
      "4/4 [==============================] - 4s 988ms/step\n"
     ]
    },
    {
     "data": {
      "text/plain": [
       "[10.156608124301858, 0.3698630139027556]"
      ]
     },
     "execution_count": 10,
     "metadata": {},
     "output_type": "execute_result"
    }
   ],
   "source": [
    "model.evaluate_generator(test_it, steps=len(test_it), verbose=1)"
   ]
  },
  {
   "cell_type": "code",
   "execution_count": null,
   "metadata": {},
   "outputs": [],
   "source": []
  },
  {
   "cell_type": "code",
   "execution_count": null,
   "metadata": {},
   "outputs": [],
   "source": []
  },
  {
   "cell_type": "code",
   "execution_count": null,
   "metadata": {},
   "outputs": [],
   "source": [
    "### round 2 : try different model ####"
   ]
  },
  {
   "cell_type": "code",
   "execution_count": 11,
   "metadata": {},
   "outputs": [
    {
     "name": "stderr",
     "output_type": "stream",
     "text": [
      "W0103 16:38:27.161437  8896 deprecation.py:506] From C:\\Users\\DAR9KOR\\AppData\\Local\\Continuum\\anaconda3\\envs\\deep_learn\\lib\\site-packages\\keras\\backend\\tensorflow_backend.py:3445: calling dropout (from tensorflow.python.ops.nn_ops) with keep_prob is deprecated and will be removed in a future version.\n",
      "Instructions for updating:\n",
      "Please use `rate` instead of `keep_prob`. Rate should be set to `rate = 1 - keep_prob`.\n"
     ]
    },
    {
     "name": "stdout",
     "output_type": "stream",
     "text": [
      "_________________________________________________________________\n",
      "Layer (type)                 Output Shape              Param #   \n",
      "=================================================================\n",
      "conv2d_4 (Conv2D)            (None, 200, 200, 32)      320       \n",
      "_________________________________________________________________\n",
      "max_pooling2d_4 (MaxPooling2 (None, 100, 100, 32)      0         \n",
      "_________________________________________________________________\n",
      "conv2d_5 (Conv2D)            (None, 100, 100, 32)      9248      \n",
      "_________________________________________________________________\n",
      "max_pooling2d_5 (MaxPooling2 (None, 50, 50, 32)        0         \n",
      "_________________________________________________________________\n",
      "conv2d_6 (Conv2D)            (None, 50, 50, 64)        18496     \n",
      "_________________________________________________________________\n",
      "max_pooling2d_6 (MaxPooling2 (None, 25, 25, 64)        0         \n",
      "_________________________________________________________________\n",
      "flatten_2 (Flatten)          (None, 40000)             0         \n",
      "_________________________________________________________________\n",
      "dense_3 (Dense)              (None, 64)                2560064   \n",
      "_________________________________________________________________\n",
      "dropout_1 (Dropout)          (None, 64)                0         \n",
      "_________________________________________________________________\n",
      "dense_4 (Dense)              (None, 3)                 195       \n",
      "=================================================================\n",
      "Total params: 2,588,323\n",
      "Trainable params: 2,588,323\n",
      "Non-trainable params: 0\n",
      "_________________________________________________________________\n",
      "None\n"
     ]
    }
   ],
   "source": [
    "### model 3\n",
    "from keras.layers import Dropout\n",
    "# different architecture with less parameters; dropout in last layer\n",
    "\n",
    "model = Sequential()\n",
    "\n",
    "## CHANGE INPUT SHAPE, BASED ON RGB OR GRAYSCALE\n",
    "# specify padding or not?\n",
    "model.add(Conv2D(32, (3, 3), activation='relu', kernel_initializer='he_uniform', padding='same', input_shape=(200, 200, 1)))\n",
    "model.add(MaxPooling2D((2, 2)))\n",
    "#model.add(Dropout(0.2))\n",
    "\n",
    "model.add(Conv2D(32, (3, 3), activation='relu', kernel_initializer='he_uniform', padding='same'))\n",
    "model.add(MaxPooling2D((2, 2)))\n",
    "#model.add(Dropout(0.2))\n",
    "\n",
    "model.add(Conv2D(64, (3, 3), activation='relu', kernel_initializer='he_uniform', padding='same'))\n",
    "model.add(MaxPooling2D((2, 2)))\n",
    "#model.add(Dropout(0.2))\n",
    "\n",
    "model.add(Flatten())\n",
    "model.add(Dense(64, activation='relu', kernel_initializer='he_uniform'))\n",
    "model.add(Dropout(0.5))\n",
    "\n",
    "#model.add(Dense(1, activation='sigmoid'))  ## CHANGE HERE, BASED ON NO. OF CLASSES\n",
    "model.add(Dense(3, activation='softmax'))\n",
    "\n",
    "# compile model\n",
    "opt = SGD(lr=0.001, momentum=0.9)\n",
    "#model.compile(optimizer=opt, loss='binary_crossentropy', metrics=['accuracy'])  ## CHANGE HERE, BASED ON NO. OF CLASSES\n",
    "model.compile(optimizer=opt, loss='categorical_crossentropy', metrics=['accuracy'])\n",
    "\n",
    "print(model.summary())"
   ]
  },
  {
   "cell_type": "code",
   "execution_count": 12,
   "metadata": {},
   "outputs": [
    {
     "name": "stdout",
     "output_type": "stream",
     "text": [
      "Found 2007 images belonging to 3 classes.\n",
      "Found 219 images belonging to 3 classes.\n",
      "Epoch 1/50\n",
      "32/32 [==============================] - 93s 3s/step - loss: 1.2386 - acc: 0.3571 - val_loss: 1.0484 - val_acc: 0.4977\n",
      "Epoch 2/50\n",
      "32/32 [==============================] - 105s 3s/step - loss: 1.0040 - acc: 0.4406 - val_loss: 0.8397 - val_acc: 0.6530\n",
      "Epoch 3/50\n",
      "32/32 [==============================] - 114s 4s/step - loss: 0.8646 - acc: 0.5088 - val_loss: 0.6558 - val_acc: 0.6027\n",
      "Epoch 4/50\n",
      "32/32 [==============================] - 122s 4s/step - loss: 0.8207 - acc: 0.5459 - val_loss: 0.7637 - val_acc: 0.6073\n",
      "Epoch 5/50\n",
      "32/32 [==============================] - 165s 5s/step - loss: 0.8409 - acc: 0.5278 - val_loss: 0.6949 - val_acc: 0.5616\n",
      "Epoch 6/50\n",
      "32/32 [==============================] - 143s 4s/step - loss: 0.8533 - acc: 0.5361 - val_loss: 0.7087 - val_acc: 0.5753\n",
      "Epoch 7/50\n",
      "32/32 [==============================] - 125s 4s/step - loss: 0.8593 - acc: 0.5199 - val_loss: 0.7843 - val_acc: 0.6164\n",
      "Epoch 8/50\n",
      "32/32 [==============================] - 148s 5s/step - loss: 0.8330 - acc: 0.5238 - val_loss: 0.7171 - val_acc: 0.6575\n",
      "Epoch 9/50\n",
      "32/32 [==============================] - 143s 4s/step - loss: 0.8811 - acc: 0.5120 - val_loss: 0.6446 - val_acc: 0.6073\n",
      "Epoch 10/50\n",
      "32/32 [==============================] - 152s 5s/step - loss: 0.8085 - acc: 0.5372 - val_loss: 0.6210 - val_acc: 0.6164\n",
      "Epoch 11/50\n",
      "32/32 [==============================] - 171s 5s/step - loss: 0.8368 - acc: 0.5072 - val_loss: 0.6233 - val_acc: 0.6667\n",
      "Epoch 12/50\n",
      "32/32 [==============================] - 155s 5s/step - loss: 0.8072 - acc: 0.5346 - val_loss: 0.6484 - val_acc: 0.6073\n",
      "Epoch 13/50\n",
      "32/32 [==============================] - 150s 5s/step - loss: 0.8247 - acc: 0.5259 - val_loss: 0.6969 - val_acc: 0.6164\n",
      "Epoch 14/50\n",
      "32/32 [==============================] - 128s 4s/step - loss: 0.8325 - acc: 0.5327 - val_loss: 0.6325 - val_acc: 0.6621\n",
      "Epoch 15/50\n",
      "32/32 [==============================] - 141s 4s/step - loss: 0.8148 - acc: 0.5435 - val_loss: 0.6643 - val_acc: 0.6073\n",
      "Epoch 16/50\n",
      "32/32 [==============================] - 150s 5s/step - loss: 0.8179 - acc: 0.5203 - val_loss: 0.6300 - val_acc: 0.5982\n",
      "Epoch 17/50\n",
      "32/32 [==============================] - 130s 4s/step - loss: 0.8135 - acc: 0.5286 - val_loss: 0.6233 - val_acc: 0.5982\n",
      "Epoch 18/50\n",
      "32/32 [==============================] - 127s 4s/step - loss: 0.8017 - acc: 0.5550 - val_loss: 0.6301 - val_acc: 0.6119\n",
      "Epoch 19/50\n",
      "32/32 [==============================] - 128s 4s/step - loss: 0.7995 - acc: 0.5404 - val_loss: 0.6219 - val_acc: 0.6484\n",
      "Epoch 20/50\n",
      "32/32 [==============================] - 131s 4s/step - loss: 0.8137 - acc: 0.5317 - val_loss: 0.6692 - val_acc: 0.6164\n",
      "Epoch 21/50\n",
      "32/32 [==============================] - 150s 5s/step - loss: 0.7951 - acc: 0.5457 - val_loss: 0.6488 - val_acc: 0.6119\n",
      "Epoch 22/50\n",
      "32/32 [==============================] - 155s 5s/step - loss: 0.7984 - acc: 0.5522 - val_loss: 0.5962 - val_acc: 0.6164\n",
      "Epoch 23/50\n",
      "32/32 [==============================] - 156s 5s/step - loss: 0.8212 - acc: 0.5358 - val_loss: 0.6355 - val_acc: 0.6119\n",
      "Epoch 24/50\n",
      "32/32 [==============================] - 119s 4s/step - loss: 0.8140 - acc: 0.5361 - val_loss: 0.6020 - val_acc: 0.6119\n",
      "Epoch 25/50\n",
      "32/32 [==============================] - 120s 4s/step - loss: 0.7878 - acc: 0.5534 - val_loss: 0.6202 - val_acc: 0.6073\n",
      "Epoch 26/50\n",
      "32/32 [==============================] - 156s 5s/step - loss: 0.8099 - acc: 0.5394 - val_loss: 0.6182 - val_acc: 0.6210\n",
      "Epoch 27/50\n",
      "32/32 [==============================] - 125s 4s/step - loss: 0.8363 - acc: 0.5273 - val_loss: 0.6239 - val_acc: 0.6484\n",
      "Epoch 28/50\n",
      "32/32 [==============================] - 160s 5s/step - loss: 0.8017 - acc: 0.5443 - val_loss: 0.6444 - val_acc: 0.6164\n",
      "Epoch 29/50\n",
      "32/32 [==============================] - 136s 4s/step - loss: 0.8011 - acc: 0.5384 - val_loss: 0.6818 - val_acc: 0.5982\n",
      "Epoch 30/50\n",
      "32/32 [==============================] - 161s 5s/step - loss: 0.8223 - acc: 0.5632 - val_loss: 0.7085 - val_acc: 0.6119\n",
      "Epoch 31/50\n",
      "32/32 [==============================] - 129s 4s/step - loss: 0.8036 - acc: 0.5463 - val_loss: 0.6127 - val_acc: 0.6210\n",
      "Epoch 32/50\n",
      "32/32 [==============================] - 138s 4s/step - loss: 0.8082 - acc: 0.5313 - val_loss: 0.6109 - val_acc: 0.6164\n",
      "Epoch 33/50\n",
      "32/32 [==============================] - 155s 5s/step - loss: 0.8022 - acc: 0.5403 - val_loss: 0.6027 - val_acc: 0.6484\n",
      "Epoch 34/50\n",
      "32/32 [==============================] - 156s 5s/step - loss: 0.7873 - acc: 0.5512 - val_loss: 0.6354 - val_acc: 0.6256\n",
      "Epoch 35/50\n",
      "32/32 [==============================] - 137s 4s/step - loss: 0.7933 - acc: 0.5486 - val_loss: 0.6296 - val_acc: 0.6119\n",
      "Epoch 36/50\n",
      "32/32 [==============================] - 127s 4s/step - loss: 0.7952 - acc: 0.5624 - val_loss: 0.6305 - val_acc: 0.6119\n",
      "Epoch 37/50\n",
      "32/32 [==============================] - 128s 4s/step - loss: 0.7911 - acc: 0.5435 - val_loss: 0.6492 - val_acc: 0.6164\n",
      "Epoch 38/50\n",
      "32/32 [==============================] - 128s 4s/step - loss: 0.8083 - acc: 0.5391 - val_loss: 0.6130 - val_acc: 0.6164\n",
      "Epoch 39/50\n",
      "32/32 [==============================] - 130s 4s/step - loss: 0.7925 - acc: 0.5446 - val_loss: 0.6133 - val_acc: 0.6119\n",
      "Epoch 40/50\n",
      "32/32 [==============================] - 149s 5s/step - loss: 0.7615 - acc: 0.5655 - val_loss: 0.5956 - val_acc: 0.6119\n",
      "Epoch 41/50\n",
      "32/32 [==============================] - 145s 5s/step - loss: 0.7970 - acc: 0.5397 - val_loss: 0.6026 - val_acc: 0.6484\n",
      "Epoch 42/50\n",
      "32/32 [==============================] - 145s 5s/step - loss: 0.7946 - acc: 0.5380 - val_loss: 0.6220 - val_acc: 0.6210\n",
      "Epoch 43/50\n",
      "32/32 [==============================] - 128s 4s/step - loss: 0.7774 - acc: 0.5569 - val_loss: 0.6249 - val_acc: 0.6347\n",
      "Epoch 44/50\n",
      "32/32 [==============================] - 126s 4s/step - loss: 0.7786 - acc: 0.5523 - val_loss: 0.6002 - val_acc: 0.6301\n",
      "Epoch 45/50\n",
      "32/32 [==============================] - 140s 4s/step - loss: 0.7851 - acc: 0.5605 - val_loss: 0.6170 - val_acc: 0.6256\n",
      "Epoch 46/50\n",
      "32/32 [==============================] - 138s 4s/step - loss: 0.7835 - acc: 0.5532 - val_loss: 0.6042 - val_acc: 0.6256\n",
      "Epoch 47/50\n",
      "32/32 [==============================] - 136s 4s/step - loss: 0.7640 - acc: 0.5566 - val_loss: 0.5833 - val_acc: 0.6256\n",
      "Epoch 48/50\n",
      "32/32 [==============================] - 88s 3s/step - loss: 0.7820 - acc: 0.5505 - val_loss: 0.6325 - val_acc: 0.6438\n",
      "Epoch 50/50\n",
      "32/32 [==============================] - 89s 3s/step - loss: 0.7895 - acc: 0.5433 - val_loss: 0.6026 - val_acc: 0.6530\n"
     ]
    }
   ],
   "source": [
    "# create data generators\n",
    "train_datagen = ImageDataGenerator(rescale=1.0/255.0,\n",
    "                                   width_shift_range=0.1, height_shift_range=0.1, horizontal_flip=True)\n",
    "\n",
    "test_datagen = ImageDataGenerator(rescale=1.0/255.0)\n",
    "\n",
    "## prepare iterators       ## CHANGE class_mode, BASED ON NO. OF CLASSES\n",
    "#train_it = train_datagen.flow_from_directory('dataset_dogs_vs_cats/train/',\n",
    "#                                             class_mode='binary', batch_size=64, target_size=(200, 200))\n",
    "#test_it = test_datagen.flow_from_directory('dataset_dogs_vs_cats/test/',\n",
    "#                                           class_mode='binary', batch_size=64, target_size=(200, 200))    \n",
    "train_it = train_datagen.flow_from_directory('./57398/ZooScanSet/runData/train/', color_mode='grayscale',\n",
    "                                             class_mode='categorical', batch_size=64, target_size=(200, 200))\n",
    "test_it = test_datagen.flow_from_directory('./57398/ZooScanSet/runData/test/', color_mode='grayscale',\n",
    "                                           class_mode='categorical', batch_size=64, target_size=(200, 200))\n",
    "\n",
    "\n",
    "# fit model\n",
    "history = model.fit_generator(train_it, steps_per_epoch=len(train_it),\n",
    "                              validation_data=test_it, validation_steps=len(test_it), epochs=50, verbose=1)\n",
    "# started ~ 4:39pm"
   ]
  },
  {
   "cell_type": "code",
   "execution_count": 13,
   "metadata": {},
   "outputs": [
    {
     "data": {
      "text/plain": [
       "'2020-01-03 18:31:42'"
      ]
     },
     "execution_count": 13,
     "metadata": {},
     "output_type": "execute_result"
    }
   ],
   "source": [
    "from datetime import datetime\n",
    "datetime.now().strftime('%Y-%m-%d %H:%M:%S')"
   ]
  },
  {
   "cell_type": "code",
   "execution_count": 15,
   "metadata": {},
   "outputs": [
    {
     "data": {
      "text/plain": [
       "[<matplotlib.lines.Line2D at 0x1d2854bf208>]"
      ]
     },
     "execution_count": 15,
     "metadata": {},
     "output_type": "execute_result"
    },
    {
     "data": {
      "image/png": "[encoded data removed]",
      "text/plain": [
       "<Figure size 432x288 with 2 Axes>"
      ]
     },
     "metadata": {
      "needs_background": "light"
     },
     "output_type": "display_data"
    }
   ],
   "source": [
    "from matplotlib import pyplot\n",
    "# plot loss\n",
    "pyplot.subplot(211)\n",
    "pyplot.title('Cross Entropy Loss')\n",
    "pyplot.plot(history.history['loss'], color='blue', label='train')\n",
    "pyplot.plot(history.history['val_loss'], color='orange', label='test')\n",
    "# plot accuracy\n",
    "pyplot.subplot(212)\n",
    "pyplot.title('Classification Accuracy')\n",
    "pyplot.plot(history.history['acc'], color='blue', label='train')   # 'accuracy'\n",
    "pyplot.plot(history.history['val_acc'], color='orange', label='test')"
   ]
  },
  {
   "cell_type": "code",
   "execution_count": null,
   "metadata": {},
   "outputs": [],
   "source": []
  },
  {
   "cell_type": "code",
   "execution_count": null,
   "metadata": {},
   "outputs": [],
   "source": []
  },
  {
   "cell_type": "code",
   "execution_count": 16,
   "metadata": {},
   "outputs": [
    {
     "name": "stdout",
     "output_type": "stream",
     "text": [
      "_________________________________________________________________\n",
      "Layer (type)                 Output Shape              Param #   \n",
      "=================================================================\n",
      "conv2d_7 (Conv2D)            (None, 200, 200, 32)      320       \n",
      "_________________________________________________________________\n",
      "max_pooling2d_7 (MaxPooling2 (None, 100, 100, 32)      0         \n",
      "_________________________________________________________________\n",
      "dropout_2 (Dropout)          (None, 100, 100, 32)      0         \n",
      "_________________________________________________________________\n",
      "conv2d_8 (Conv2D)            (None, 100, 100, 32)      9248      \n",
      "_________________________________________________________________\n",
      "max_pooling2d_8 (MaxPooling2 (None, 50, 50, 32)        0         \n",
      "_________________________________________________________________\n",
      "dropout_3 (Dropout)          (None, 50, 50, 32)        0         \n",
      "_________________________________________________________________\n",
      "conv2d_9 (Conv2D)            (None, 50, 50, 64)        18496     \n",
      "_________________________________________________________________\n",
      "max_pooling2d_9 (MaxPooling2 (None, 25, 25, 64)        0         \n",
      "_________________________________________________________________\n",
      "dropout_4 (Dropout)          (None, 25, 25, 64)        0         \n",
      "_________________________________________________________________\n",
      "flatten_3 (Flatten)          (None, 40000)             0         \n",
      "_________________________________________________________________\n",
      "dense_5 (Dense)              (None, 64)                2560064   \n",
      "_________________________________________________________________\n",
      "dropout_5 (Dropout)          (None, 64)                0         \n",
      "_________________________________________________________________\n",
      "dense_6 (Dense)              (None, 3)                 195       \n",
      "=================================================================\n",
      "Total params: 2,588,323\n",
      "Trainable params: 2,588,323\n",
      "Non-trainable params: 0\n",
      "_________________________________________________________________\n",
      "None\n"
     ]
    }
   ],
   "source": [
    "# model 4:  dropout in all layers\n",
    "model = Sequential()\n",
    "\n",
    "## CHANGE INPUT SHAPE, BASED ON RGB OR GRAYSCALE\n",
    "# specify padding or not?\n",
    "model.add(Conv2D(32, (3, 3), activation='relu', kernel_initializer='he_uniform', padding='same', input_shape=(200, 200, 1)))\n",
    "model.add(MaxPooling2D((2, 2)))\n",
    "model.add(Dropout(0.2))\n",
    "\n",
    "model.add(Conv2D(32, (3, 3), activation='relu', kernel_initializer='he_uniform', padding='same'))\n",
    "model.add(MaxPooling2D((2, 2)))\n",
    "model.add(Dropout(0.2))\n",
    "\n",
    "model.add(Conv2D(64, (3, 3), activation='relu', kernel_initializer='he_uniform', padding='same'))\n",
    "model.add(MaxPooling2D((2, 2)))\n",
    "model.add(Dropout(0.2))\n",
    "\n",
    "model.add(Flatten())\n",
    "model.add(Dense(64, activation='relu', kernel_initializer='he_uniform'))\n",
    "model.add(Dropout(0.5))\n",
    "\n",
    "#model.add(Dense(1, activation='sigmoid'))  ## CHANGE HERE, BASED ON NO. OF CLASSES\n",
    "model.add(Dense(3, activation='softmax'))\n",
    "\n",
    "# compile model\n",
    "opt = SGD(lr=0.001, momentum=0.9)\n",
    "#model.compile(optimizer=opt, loss='binary_crossentropy', metrics=['accuracy'])  ## CHANGE HERE, BASED ON NO. OF CLASSES\n",
    "model.compile(optimizer=opt, loss='categorical_crossentropy', metrics=['accuracy'])\n",
    "\n",
    "print(model.summary())"
   ]
  },
  {
   "cell_type": "code",
   "execution_count": 17,
   "metadata": {},
   "outputs": [
    {
     "data": {
      "text/plain": [
       "'2020-01-03 18:47:43'"
      ]
     },
     "execution_count": 17,
     "metadata": {},
     "output_type": "execute_result"
    }
   ],
   "source": [
    "datetime.now().strftime('%Y-%m-%d %H:%M:%S')"
   ]
  },
  {
   "cell_type": "code",
   "execution_count": 18,
   "metadata": {},
   "outputs": [
    {
     "name": "stdout",
     "output_type": "stream",
     "text": [
      "Epoch 1/20\n",
      "32/32 [==============================] - 109s 3s/step - loss: 1.2609 - acc: 0.3275 - val_loss: 1.0982 - val_acc: 0.3699\n",
      "Epoch 2/20\n",
      "32/32 [==============================] - 107s 3s/step - loss: 1.0987 - acc: 0.3415 - val_loss: 1.0985 - val_acc: 0.3653\n",
      "Epoch 3/20\n",
      "32/32 [==============================] - 106s 3s/step - loss: 1.0984 - acc: 0.3410 - val_loss: 1.0988 - val_acc: 0.3653\n",
      "Epoch 4/20\n",
      "32/32 [==============================] - 105s 3s/step - loss: 1.0976 - acc: 0.3536 - val_loss: 1.0998 - val_acc: 0.3607\n",
      "Epoch 5/20\n",
      "32/32 [==============================] - 105s 3s/step - loss: 1.0990 - acc: 0.3379 - val_loss: 1.1002 - val_acc: 0.2877\n",
      "Epoch 6/20\n",
      "32/32 [==============================] - 116s 4s/step - loss: 1.0979 - acc: 0.3496 - val_loss: 1.0985 - val_acc: 0.3014\n",
      "Epoch 7/20\n",
      "32/32 [==============================] - 122s 4s/step - loss: 1.0978 - acc: 0.3437 - val_loss: 1.1011 - val_acc: 0.2785\n",
      "Epoch 8/20\n",
      "32/32 [==============================] - 108s 3s/step - loss: 1.0978 - acc: 0.3538 - val_loss: 1.0995 - val_acc: 0.2922\n",
      "Epoch 9/20\n",
      "32/32 [==============================] - 104s 3s/step - loss: 1.0972 - acc: 0.3582 - val_loss: 1.1013 - val_acc: 0.2877\n",
      "Epoch 10/20\n",
      "32/32 [==============================] - 108s 3s/step - loss: 1.0978 - acc: 0.3384 - val_loss: 1.0999 - val_acc: 0.2831\n",
      "Epoch 11/20\n",
      "32/32 [==============================] - 120s 4s/step - loss: 1.0978 - acc: 0.3428 - val_loss: 1.1006 - val_acc: 0.2968\n",
      "Epoch 12/20\n",
      "32/32 [==============================] - 110s 3s/step - loss: 1.0979 - acc: 0.3467 - val_loss: 1.1019 - val_acc: 0.2740\n",
      "Epoch 13/20\n",
      "32/32 [==============================] - 128s 4s/step - loss: 1.0977 - acc: 0.3501 - val_loss: 1.1009 - val_acc: 0.2968\n",
      "Epoch 14/20\n",
      "32/32 [==============================] - 123s 4s/step - loss: 1.0970 - acc: 0.3523 - val_loss: 1.0992 - val_acc: 0.2968\n",
      "Epoch 15/20\n",
      "32/32 [==============================] - 121s 4s/step - loss: 1.0985 - acc: 0.3400 - val_loss: 1.1036 - val_acc: 0.2648\n",
      "Epoch 16/20\n",
      "32/32 [==============================] - 127s 4s/step - loss: 1.0979 - acc: 0.3457 - val_loss: 1.1013 - val_acc: 0.2831\n",
      "Epoch 17/20\n",
      "32/32 [==============================] - 116s 4s/step - loss: 1.0967 - acc: 0.3504 - val_loss: 1.1007 - val_acc: 0.3105\n",
      "Epoch 18/20\n",
      "32/32 [==============================] - 110s 3s/step - loss: 1.0975 - acc: 0.3426 - val_loss: 1.1001 - val_acc: 0.2785\n",
      "Epoch 19/20\n",
      "32/32 [==============================] - 113s 4s/step - loss: 1.0977 - acc: 0.3524 - val_loss: 1.1017 - val_acc: 0.3014\n",
      "Epoch 20/20\n",
      "32/32 [==============================] - 110s 3s/step - loss: 1.0980 - acc: 0.3427 - val_loss: 1.1009 - val_acc: 0.2877\n"
     ]
    }
   ],
   "source": [
    "# fit model\n",
    "history = model.fit_generator(train_it, steps_per_epoch=len(train_it),\n",
    "                              validation_data=test_it, validation_steps=len(test_it), epochs=20, verbose=1)"
   ]
  },
  {
   "cell_type": "code",
   "execution_count": 19,
   "metadata": {},
   "outputs": [
    {
     "data": {
      "text/plain": [
       "'2020-01-03 19:25:33'"
      ]
     },
     "execution_count": 19,
     "metadata": {},
     "output_type": "execute_result"
    }
   ],
   "source": [
    "datetime.now().strftime('%Y-%m-%d %H:%M:%S')"
   ]
  },
  {
   "cell_type": "code",
   "execution_count": 20,
   "metadata": {},
   "outputs": [
    {
     "data": {
      "text/plain": [
       "[<matplotlib.lines.Line2D at 0x1d285adad68>]"
      ]
     },
     "execution_count": 20,
     "metadata": {},
     "output_type": "execute_result"
    },
    {
     "data": {
      "image/png": "[encoded data removed]",
      "text/plain": [
       "<Figure size 432x288 with 2 Axes>"
      ]
     },
     "metadata": {
      "needs_background": "light"
     },
     "output_type": "display_data"
    }
   ],
   "source": [
    "# plot loss\n",
    "pyplot.subplot(211)\n",
    "pyplot.title('Cross Entropy Loss')\n",
    "pyplot.plot(history.history['loss'], color='blue', label='train')\n",
    "pyplot.plot(history.history['val_loss'], color='orange', label='test')\n",
    "# plot accuracy\n",
    "pyplot.subplot(212)\n",
    "pyplot.title('Classification Accuracy')\n",
    "pyplot.plot(history.history['acc'], color='blue', label='train')   # 'accuracy'\n",
    "pyplot.plot(history.history['val_acc'], color='orange', label='test')"
   ]
  },
  {
   "cell_type": "code",
   "execution_count": null,
   "metadata": {},
   "outputs": [],
   "source": []
  },
  {
   "cell_type": "code",
   "execution_count": 1,
   "metadata": {},
   "outputs": [
    {
     "data": {
      "text/plain": [
       "0.00392156862745098"
      ]
     },
     "execution_count": 1,
     "metadata": {},
     "output_type": "execute_result"
    }
   ],
   "source": [
    "1.0/255"
   ]
  },
  {
   "cell_type": "code",
   "execution_count": 2,
   "metadata": {},
   "outputs": [
    {
     "data": {
      "text/plain": [
       "0.00392156862745098"
      ]
     },
     "execution_count": 2,
     "metadata": {},
     "output_type": "execute_result"
    }
   ],
   "source": [
    "1.0/255.0"
   ]
  },
  {
   "cell_type": "code",
   "execution_count": 3,
   "metadata": {},
   "outputs": [
    {
     "data": {
      "text/plain": [
       "0.00392156862745098"
      ]
     },
     "execution_count": 3,
     "metadata": {},
     "output_type": "execute_result"
    }
   ],
   "source": [
    "1./255"
   ]
  },
  {
   "cell_type": "code",
   "execution_count": 4,
   "metadata": {},
   "outputs": [
    {
     "data": {
      "text/plain": [
       "0.00392156862745098"
      ]
     },
     "execution_count": 4,
     "metadata": {},
     "output_type": "execute_result"
    }
   ],
   "source": [
    "1/255"
   ]
  },
  {
   "cell_type": "code",
   "execution_count": null,
   "metadata": {},
   "outputs": [],
   "source": []
  },
  {
   "cell_type": "code",
   "execution_count": null,
   "metadata": {},
   "outputs": [],
   "source": []
  },
  {
   "cell_type": "code",
   "execution_count": null,
   "metadata": {},
   "outputs": [],
   "source": [
    "### check as transfer learning, saving images as RGB\n",
    "\n",
    "# see the values in the other channels - explore_plankton_imgs.ipynb\n",
    "\n",
    "# img = Image.open('./57398/ZooScanSet/runData_RGB/train/Acantharea/42738931.jpg')\n",
    "# get pixel values\n",
    "# list(img.getdata())  -> here we see tuples of 3 values, with same value repeated in all 3 channels"
   ]
  },
  {
   "cell_type": "code",
   "execution_count": 3,
   "metadata": {},
   "outputs": [
    {
     "name": "stderr",
     "output_type": "stream",
     "text": [
      "Using TensorFlow backend.\n",
      "C:\\Users\\DAR9KOR\\AppData\\Local\\Continuum\\anaconda3\\envs\\deep_learn\\lib\\site-packages\\tensorflow\\python\\framework\\dtypes.py:516: FutureWarning: Passing (type, 1) or '1type' as a synonym of type is deprecated; in a future version of numpy, it will be understood as (type, (1,)) / '(1,)type'.\n",
      "  _np_qint8 = np.dtype([(\"qint8\", np.int8, 1)])\n",
      "C:\\Users\\DAR9KOR\\AppData\\Local\\Continuum\\anaconda3\\envs\\deep_learn\\lib\\site-packages\\tensorflow\\python\\framework\\dtypes.py:517: FutureWarning: Passing (type, 1) or '1type' as a synonym of type is deprecated; in a future version of numpy, it will be understood as (type, (1,)) / '(1,)type'.\n",
      "  _np_quint8 = np.dtype([(\"quint8\", np.uint8, 1)])\n",
      "C:\\Users\\DAR9KOR\\AppData\\Local\\Continuum\\anaconda3\\envs\\deep_learn\\lib\\site-packages\\tensorflow\\python\\framework\\dtypes.py:518: FutureWarning: Passing (type, 1) or '1type' as a synonym of type is deprecated; in a future version of numpy, it will be understood as (type, (1,)) / '(1,)type'.\n",
      "  _np_qint16 = np.dtype([(\"qint16\", np.int16, 1)])\n",
      "C:\\Users\\DAR9KOR\\AppData\\Local\\Continuum\\anaconda3\\envs\\deep_learn\\lib\\site-packages\\tensorflow\\python\\framework\\dtypes.py:519: FutureWarning: Passing (type, 1) or '1type' as a synonym of type is deprecated; in a future version of numpy, it will be understood as (type, (1,)) / '(1,)type'.\n",
      "  _np_quint16 = np.dtype([(\"quint16\", np.uint16, 1)])\n",
      "C:\\Users\\DAR9KOR\\AppData\\Local\\Continuum\\anaconda3\\envs\\deep_learn\\lib\\site-packages\\tensorflow\\python\\framework\\dtypes.py:520: FutureWarning: Passing (type, 1) or '1type' as a synonym of type is deprecated; in a future version of numpy, it will be understood as (type, (1,)) / '(1,)type'.\n",
      "  _np_qint32 = np.dtype([(\"qint32\", np.int32, 1)])\n",
      "C:\\Users\\DAR9KOR\\AppData\\Local\\Continuum\\anaconda3\\envs\\deep_learn\\lib\\site-packages\\tensorflow\\python\\framework\\dtypes.py:525: FutureWarning: Passing (type, 1) or '1type' as a synonym of type is deprecated; in a future version of numpy, it will be understood as (type, (1,)) / '(1,)type'.\n",
      "  np_resource = np.dtype([(\"resource\", np.ubyte, 1)])\n",
      "C:\\Users\\DAR9KOR\\AppData\\Local\\Continuum\\anaconda3\\envs\\deep_learn\\lib\\site-packages\\tensorboard\\compat\\tensorflow_stub\\dtypes.py:541: FutureWarning: Passing (type, 1) or '1type' as a synonym of type is deprecated; in a future version of numpy, it will be understood as (type, (1,)) / '(1,)type'.\n",
      "  _np_qint8 = np.dtype([(\"qint8\", np.int8, 1)])\n",
      "C:\\Users\\DAR9KOR\\AppData\\Local\\Continuum\\anaconda3\\envs\\deep_learn\\lib\\site-packages\\tensorboard\\compat\\tensorflow_stub\\dtypes.py:542: FutureWarning: Passing (type, 1) or '1type' as a synonym of type is deprecated; in a future version of numpy, it will be understood as (type, (1,)) / '(1,)type'.\n",
      "  _np_quint8 = np.dtype([(\"quint8\", np.uint8, 1)])\n",
      "C:\\Users\\DAR9KOR\\AppData\\Local\\Continuum\\anaconda3\\envs\\deep_learn\\lib\\site-packages\\tensorboard\\compat\\tensorflow_stub\\dtypes.py:543: FutureWarning: Passing (type, 1) or '1type' as a synonym of type is deprecated; in a future version of numpy, it will be understood as (type, (1,)) / '(1,)type'.\n",
      "  _np_qint16 = np.dtype([(\"qint16\", np.int16, 1)])\n",
      "C:\\Users\\DAR9KOR\\AppData\\Local\\Continuum\\anaconda3\\envs\\deep_learn\\lib\\site-packages\\tensorboard\\compat\\tensorflow_stub\\dtypes.py:544: FutureWarning: Passing (type, 1) or '1type' as a synonym of type is deprecated; in a future version of numpy, it will be understood as (type, (1,)) / '(1,)type'.\n",
      "  _np_quint16 = np.dtype([(\"quint16\", np.uint16, 1)])\n",
      "C:\\Users\\DAR9KOR\\AppData\\Local\\Continuum\\anaconda3\\envs\\deep_learn\\lib\\site-packages\\tensorboard\\compat\\tensorflow_stub\\dtypes.py:545: FutureWarning: Passing (type, 1) or '1type' as a synonym of type is deprecated; in a future version of numpy, it will be understood as (type, (1,)) / '(1,)type'.\n",
      "  _np_qint32 = np.dtype([(\"qint32\", np.int32, 1)])\n",
      "C:\\Users\\DAR9KOR\\AppData\\Local\\Continuum\\anaconda3\\envs\\deep_learn\\lib\\site-packages\\tensorboard\\compat\\tensorflow_stub\\dtypes.py:550: FutureWarning: Passing (type, 1) or '1type' as a synonym of type is deprecated; in a future version of numpy, it will be understood as (type, (1,)) / '(1,)type'.\n",
      "  np_resource = np.dtype([(\"resource\", np.ubyte, 1)])\n"
     ]
    }
   ],
   "source": [
    "## model 5: transfer learning with vgg16\n",
    "\n",
    "import sys\n",
    "#from matplotlib import pyplot\n",
    "from keras.utils import to_categorical\n",
    "from keras.applications.vgg16 import VGG16\n",
    "from keras.models import Model\n",
    "from keras.layers import Dense\n",
    "from keras.layers import Flatten\n",
    "from keras.optimizers import SGD\n",
    "from keras.preprocessing.image import ImageDataGenerator"
   ]
  },
  {
   "cell_type": "code",
   "execution_count": 4,
   "metadata": {},
   "outputs": [],
   "source": [
    "# define model\n",
    "def define_model():\n",
    "    # load model\n",
    "    model = VGG16(include_top=False, input_shape=(224, 224, 3)) \n",
    "    # set include_top=False to leave out the top layer for re-training to our use case\n",
    "    # we can specify input_shape as per original images used to train VGG - then we have to preprocess our images\n",
    "    # otherwise, we can specify the shape of our images\n",
    "    \n",
    "    # mark loaded layers as not trainable\n",
    "    for layer in model.layers:\n",
    "        layer.trainable = False\n",
    "    \n",
    "    # add new classifier layers\n",
    "    flat1 = Flatten()(model.layers[-1].output)\n",
    "    class1 = Dense(128, activation='relu', kernel_initializer='he_uniform')(flat1)\n",
    "    #output = Dense(1, activation='sigmoid')(class1)\n",
    "    output = Dense(3, activation='softmax')(class1)\n",
    "    \n",
    "    # define new model\n",
    "    model = Model(inputs=model.inputs, outputs=output)\n",
    "    # compile model\n",
    "    opt = SGD(lr=0.001, momentum=0.9)\n",
    "    #model.compile(optimizer=opt, loss='binary_crossentropy', metrics=['accuracy'])\n",
    "    model.compile(optimizer=opt, loss='categorical_crossentropy', metrics=['accuracy'])\n",
    "    return model"
   ]
  },
  {
   "cell_type": "code",
   "execution_count": 28,
   "metadata": {},
   "outputs": [],
   "source": [
    "def summarize_diagnostics(history):\n",
    "    # plot loss\n",
    "    plt.subplot(211)\n",
    "    plt.title('Cross Entropy Loss')\n",
    "    plt.plot(history.history['loss'], color='blue', label='train')\n",
    "    plt.plot(history.history['val_loss'], color='orange', label='test')\n",
    "    # plot accuracy\n",
    "    plt.subplot(212)\n",
    "    plt.title('Classification Accuracy')\n",
    "    plt.plot(history.history['acc'], color='blue', label='train')   # 'accuracy'\n",
    "    plt.plot(history.history['val_acc'], color='orange', label='test')\n",
    "    plt.show()\n",
    "    # save plot to file\n",
    "    #filename = sys.argv[0].split('/')[-1]\n",
    "    #pyplot.savefig(filename + '_plot.png')\n",
    "    #plt.close()"
   ]
  },
  {
   "cell_type": "code",
   "execution_count": 6,
   "metadata": {},
   "outputs": [
    {
     "name": "stderr",
     "output_type": "stream",
     "text": [
      "WARNING: Logging before flag parsing goes to stderr.\n",
      "W0212 17:22:59.064489 12128 deprecation_wrapper.py:119] From C:\\Users\\DAR9KOR\\AppData\\Local\\Continuum\\anaconda3\\envs\\deep_learn\\lib\\site-packages\\keras\\backend\\tensorflow_backend.py:74: The name tf.get_default_graph is deprecated. Please use tf.compat.v1.get_default_graph instead.\n",
      "\n",
      "W0212 17:22:59.111371 12128 deprecation_wrapper.py:119] From C:\\Users\\DAR9KOR\\AppData\\Local\\Continuum\\anaconda3\\envs\\deep_learn\\lib\\site-packages\\keras\\backend\\tensorflow_backend.py:517: The name tf.placeholder is deprecated. Please use tf.compat.v1.placeholder instead.\n",
      "\n",
      "W0212 17:22:59.126982 12128 deprecation_wrapper.py:119] From C:\\Users\\DAR9KOR\\AppData\\Local\\Continuum\\anaconda3\\envs\\deep_learn\\lib\\site-packages\\keras\\backend\\tensorflow_backend.py:4138: The name tf.random_uniform is deprecated. Please use tf.random.uniform instead.\n",
      "\n",
      "W0212 17:22:59.189471 12128 deprecation_wrapper.py:119] From C:\\Users\\DAR9KOR\\AppData\\Local\\Continuum\\anaconda3\\envs\\deep_learn\\lib\\site-packages\\keras\\backend\\tensorflow_backend.py:3976: The name tf.nn.max_pool is deprecated. Please use tf.nn.max_pool2d instead.\n",
      "\n"
     ]
    },
    {
     "name": "stdout",
     "output_type": "stream",
     "text": [
      "Downloading data from https://github.com/fchollet/deep-learning-models/releases/download/v0.1/vgg16_weights_tf_dim_ordering_tf_kernels_notop.h5\n",
      "58892288/58889256 [==============================] - 319s 5us/step\n"
     ]
    },
    {
     "name": "stderr",
     "output_type": "stream",
     "text": [
      "W0212 17:28:26.586015 12128 deprecation_wrapper.py:119] From C:\\Users\\DAR9KOR\\AppData\\Local\\Continuum\\anaconda3\\envs\\deep_learn\\lib\\site-packages\\keras\\backend\\tensorflow_backend.py:174: The name tf.get_default_session is deprecated. Please use tf.compat.v1.get_default_session instead.\n",
      "\n",
      "W0212 17:28:26.586015 12128 deprecation_wrapper.py:119] From C:\\Users\\DAR9KOR\\AppData\\Local\\Continuum\\anaconda3\\envs\\deep_learn\\lib\\site-packages\\keras\\backend\\tensorflow_backend.py:181: The name tf.ConfigProto is deprecated. Please use tf.compat.v1.ConfigProto instead.\n",
      "\n",
      "W0212 17:28:27.288995 12128 deprecation_wrapper.py:119] From C:\\Users\\DAR9KOR\\AppData\\Local\\Continuum\\anaconda3\\envs\\deep_learn\\lib\\site-packages\\keras\\optimizers.py:790: The name tf.train.Optimizer is deprecated. Please use tf.compat.v1.train.Optimizer instead.\n",
      "\n"
     ]
    }
   ],
   "source": [
    "# define model\n",
    "model = define_model()"
   ]
  },
  {
   "cell_type": "code",
   "execution_count": null,
   "metadata": {},
   "outputs": [],
   "source": [
    "'''\n",
    "# create data generator\n",
    "datagen = ImageDataGenerator(featurewise_center=True)\n",
    "\n",
    "# specify imagenet mean values for centering\n",
    "datagen.mean = [123.68, 116.779, 103.939]\n",
    "# prepare iterator\n",
    "train_it = datagen.flow_from_directory('dataset_dogs_vs_cats/train/', \n",
    "                                       class_mode='binary', batch_size=64, target_size=(224, 224))\n",
    "test_it = datagen.flow_from_directory('dataset_dogs_vs_cats/test/',\n",
    "                                      class_mode='binary', batch_size=64, target_size=(224, 224))\n",
    "\n",
    "'''"
   ]
  },
  {
   "cell_type": "code",
   "execution_count": 4,
   "metadata": {},
   "outputs": [
    {
     "name": "stdout",
     "output_type": "stream",
     "text": [
      "Found 1984 images belonging to 3 classes.\n",
      "Found 242 images belonging to 3 classes.\n"
     ]
    }
   ],
   "source": [
    "from keras.applications.vgg16 import preprocess_input\n",
    "\n",
    "# create data generator;\n",
    "# preprocess_input subtracts the mean RGB channels of the imagenet dataset. This is because the model you are\n",
    "# using has been trained on a different dataset\n",
    "datagen = ImageDataGenerator(featurewise_center=True, preprocessing_function = preprocess_input)\n",
    "# https://github.com/keras-team/keras/issues/9624\n",
    "# https://stackoverflow.com/questions/47555829/preprocess-input-method-in-keras   \n",
    "# https://machinelearningmastery.com/use-pre-trained-vgg-model-classify-objects-photographs/\n",
    "# google: using preprocess_input with datagen; preprocess_input keras vgg16\n",
    "# is image scaling not required in transfer learning?\n",
    "\n",
    "# specify imagenet mean values for centering\n",
    "#datagen.mean = [123.68, 116.779, 103.939]\n",
    "\n",
    "# prepare iterator\n",
    "train_it = datagen.flow_from_directory('./57398/ZooScanSet/runData_RGB/train/', #color_mode='grayscale',\n",
    "                                       class_mode='categorical', batch_size=64, target_size=(224, 224))\n",
    "test_it = datagen.flow_from_directory('./57398/ZooScanSet/runData_RGB/test/', #color_mode='grayscale',\n",
    "                                      class_mode='categorical', batch_size=64, target_size=(224, 224))\n"
   ]
  },
  {
   "cell_type": "code",
   "execution_count": 8,
   "metadata": {},
   "outputs": [
    {
     "data": {
      "text/plain": [
       "<keras_preprocessing.image.directory_iterator.DirectoryIterator at 0x21cbe258550>"
      ]
     },
     "execution_count": 8,
     "metadata": {},
     "output_type": "execute_result"
    }
   ],
   "source": [
    "test_it"
   ]
  },
  {
   "cell_type": "code",
   "execution_count": null,
   "metadata": {},
   "outputs": [],
   "source": []
  },
  {
   "cell_type": "code",
   "execution_count": 9,
   "metadata": {},
   "outputs": [
    {
     "data": {
      "text/plain": [
       "['Acantharea\\\\42754317.jpg',\n",
       " 'Acantharea\\\\42762293.jpg',\n",
       " 'Acantharea\\\\42829606.jpg',\n",
       " 'Acantharea\\\\43045506.jpg',\n",
       " 'Acantharea\\\\44722585.jpg',\n",
       " 'Acantharea\\\\44726541.jpg',\n",
       " 'Acantharea\\\\44726551.jpg',\n",
       " 'Acantharea\\\\44726732.jpg',\n",
       " 'Acantharea\\\\44726787.jpg',\n",
       " 'Acantharea\\\\44726845.jpg',\n",
       " 'Acantharea\\\\44727001.jpg',\n",
       " 'Acantharea\\\\44727076.jpg',\n",
       " 'Acantharea\\\\44727383.jpg',\n",
       " 'Acantharea\\\\44727551.jpg',\n",
       " 'Acantharea\\\\44733429.jpg',\n",
       " 'Acantharea\\\\44735737.jpg',\n",
       " 'Acantharea\\\\44737351.jpg',\n",
       " 'Acantharea\\\\44740649.jpg',\n",
       " 'Acantharea\\\\44740784.jpg',\n",
       " 'Acantharea\\\\44740940.jpg',\n",
       " 'Acantharea\\\\44744190.jpg',\n",
       " 'Acantharea\\\\44744366.jpg',\n",
       " 'Acantharea\\\\44746066.jpg',\n",
       " 'Acantharea\\\\44751867.jpg',\n",
       " 'Acantharea\\\\44761696.jpg',\n",
       " 'Acantharea\\\\44765985.jpg',\n",
       " 'Acantharea\\\\44766207.jpg',\n",
       " 'Acantharea\\\\44766598.jpg',\n",
       " 'Acantharea\\\\44767464.jpg',\n",
       " 'Acantharea\\\\44767483.jpg',\n",
       " 'Acantharea\\\\44767603.jpg',\n",
       " 'Acantharea\\\\44767934.jpg',\n",
       " 'Acantharea\\\\44777187.jpg',\n",
       " 'Acantharea\\\\44782889.jpg',\n",
       " 'Acantharea\\\\44792936.jpg',\n",
       " 'Acantharea\\\\44794782.jpg',\n",
       " 'Acantharea\\\\44794987.jpg',\n",
       " 'Acantharea\\\\44795963.jpg',\n",
       " 'Acantharea\\\\44801458.jpg',\n",
       " 'Acantharea\\\\44801730.jpg',\n",
       " 'Acantharea\\\\44820433.jpg',\n",
       " 'Acantharea\\\\44826306.jpg',\n",
       " 'Acantharea\\\\44832138.jpg',\n",
       " 'Acantharea\\\\44845116.jpg',\n",
       " 'Acantharea\\\\44845455.jpg',\n",
       " 'Acantharea\\\\44846240.jpg',\n",
       " 'Acantharea\\\\44846627.jpg',\n",
       " 'Acantharea\\\\44862401.jpg',\n",
       " 'Acantharea\\\\44884850.jpg',\n",
       " 'Acantharea\\\\44886561.jpg',\n",
       " 'Acantharea\\\\44920987.jpg',\n",
       " 'Acantharea\\\\44921085.jpg',\n",
       " 'Acantharea\\\\44928646.jpg',\n",
       " 'Acantharea\\\\44928658.jpg',\n",
       " 'Acantharea\\\\44928688.jpg',\n",
       " 'Acantharea\\\\44929888.jpg',\n",
       " 'Acantharea\\\\44930321.jpg',\n",
       " 'Acantharea\\\\44941709.jpg',\n",
       " 'Acantharea\\\\44953541.jpg',\n",
       " 'Acantharea\\\\44962212.jpg',\n",
       " 'Acantharea\\\\44978619.jpg',\n",
       " 'Acantharea\\\\44979689.jpg',\n",
       " 'Acantharea\\\\44994149.jpg',\n",
       " 'Acantharea\\\\44995023.jpg',\n",
       " 'Acantharea\\\\44997527.jpg',\n",
       " 'Acantharea\\\\44997730.jpg',\n",
       " 'Acantharea\\\\44997830.jpg',\n",
       " 'Acantharea\\\\44998350.jpg',\n",
       " 'Acantharea\\\\44998366.jpg',\n",
       " 'Acantharea\\\\44998569.jpg',\n",
       " 'Acantharea\\\\44998696.jpg',\n",
       " 'Acantharea\\\\44998709.jpg',\n",
       " 'Acantharea\\\\44999014.jpg',\n",
       " 'Acantharea\\\\45013368.jpg',\n",
       " 'Acantharea\\\\45023475.jpg',\n",
       " 'Acantharea\\\\45023877.jpg',\n",
       " 'Acantharea\\\\45086179.jpg',\n",
       " 'Acantharea\\\\45088795.jpg',\n",
       " 'Acantharea\\\\45088932.jpg',\n",
       " 'Acantharea\\\\45095801.jpg',\n",
       " 'Acantharea\\\\45097701.jpg',\n",
       " 'Acantharea\\\\46682056.jpg',\n",
       " 'Acantharea\\\\46754037.jpg',\n",
       " 'Acantharea\\\\46754064.jpg',\n",
       " 'Acantharea\\\\46755836.jpg',\n",
       " 'Acantharea\\\\46755861.jpg',\n",
       " 'Acantharea\\\\46755980.jpg',\n",
       " 'Acantharea\\\\46793427.jpg',\n",
       " 'Acantharea\\\\48102790.jpg',\n",
       " 'Copilia\\\\14469919.jpg',\n",
       " 'Copilia\\\\24102722.jpg',\n",
       " 'Copilia\\\\24102974.jpg',\n",
       " 'Copilia\\\\24251117.jpg',\n",
       " 'Copilia\\\\34857563.jpg',\n",
       " 'Copilia\\\\34951316.jpg',\n",
       " 'Copilia\\\\42556863.jpg',\n",
       " 'Copilia\\\\42635519.jpg',\n",
       " 'Copilia\\\\42743446.jpg',\n",
       " 'Copilia\\\\42777414.jpg',\n",
       " 'Copilia\\\\42786591.jpg',\n",
       " 'Copilia\\\\42791688.jpg',\n",
       " 'Copilia\\\\42837896.jpg',\n",
       " 'Copilia\\\\42911612.jpg',\n",
       " 'Copilia\\\\42922004.jpg',\n",
       " 'Copilia\\\\42950136.jpg',\n",
       " 'Copilia\\\\42951726.jpg',\n",
       " 'Copilia\\\\42968150.jpg',\n",
       " 'Copilia\\\\42975022.jpg',\n",
       " 'Copilia\\\\42980446.jpg',\n",
       " 'Copilia\\\\42984926.jpg',\n",
       " 'Copilia\\\\43003480.jpg',\n",
       " 'Copilia\\\\43019936.jpg',\n",
       " 'Copilia\\\\43021849.jpg',\n",
       " 'Copilia\\\\43024760.jpg',\n",
       " 'Copilia\\\\43028391.jpg',\n",
       " 'Copilia\\\\43057828.jpg',\n",
       " 'Copilia\\\\43099128.jpg',\n",
       " 'Copilia\\\\43100688.jpg',\n",
       " 'Copilia\\\\44718655.jpg',\n",
       " 'Copilia\\\\44741508.jpg',\n",
       " 'Copilia\\\\44755967.jpg',\n",
       " 'Copilia\\\\44756956.jpg',\n",
       " 'Copilia\\\\44768838.jpg',\n",
       " 'Copilia\\\\44777096.jpg',\n",
       " 'Copilia\\\\44798652.jpg',\n",
       " 'Copilia\\\\44804829.jpg',\n",
       " 'Copilia\\\\44913413.jpg',\n",
       " 'Copilia\\\\44990097.jpg',\n",
       " 'Copilia\\\\45020273.jpg',\n",
       " 'Copilia\\\\45036587.jpg',\n",
       " 'Copilia\\\\45065043.jpg',\n",
       " 'Copilia\\\\45081245.jpg',\n",
       " 'Copilia\\\\45085140.jpg',\n",
       " 'Copilia\\\\46695260.jpg',\n",
       " 'Copilia\\\\46735641.jpg',\n",
       " 'Copilia\\\\46738622.jpg',\n",
       " 'Copilia\\\\46852843.jpg',\n",
       " 'Copilia\\\\46859793.jpg',\n",
       " 'Copilia\\\\46862469.jpg',\n",
       " 'Copilia\\\\46864188.jpg',\n",
       " 'Copilia\\\\46866668.jpg',\n",
       " 'Copilia\\\\46866722.jpg',\n",
       " 'Copilia\\\\46867118.jpg',\n",
       " 'Copilia\\\\46871593.jpg',\n",
       " 'Copilia\\\\46880546.jpg',\n",
       " 'Copilia\\\\46892098.jpg',\n",
       " 'Copilia\\\\46892506.jpg',\n",
       " 'Copilia\\\\46892839.jpg',\n",
       " 'Copilia\\\\46895599.jpg',\n",
       " 'Copilia\\\\46898378.jpg',\n",
       " 'Copilia\\\\46898743.jpg',\n",
       " 'Copilia\\\\46904610.jpg',\n",
       " 'Copilia\\\\46914867.jpg',\n",
       " 'Copilia\\\\46920332.jpg',\n",
       " 'Copilia\\\\46922675.jpg',\n",
       " 'Copilia\\\\46926217.jpg',\n",
       " 'Copilia\\\\46927807.jpg',\n",
       " 'Copilia\\\\46940898.jpg',\n",
       " 'Copilia\\\\46940986.jpg',\n",
       " 'Copilia\\\\46941446.jpg',\n",
       " 'Copilia\\\\46943668.jpg',\n",
       " 'Copilia\\\\46943700.jpg',\n",
       " 'Copilia\\\\46944785.jpg',\n",
       " 'Copilia\\\\46952995.jpg',\n",
       " 'Copilia\\\\46953019.jpg',\n",
       " 'Copilia\\\\46955520.jpg',\n",
       " 'Copilia\\\\46974179.jpg',\n",
       " 'Copilia\\\\47924291.jpg',\n",
       " 'cypris\\\\44680883.jpg',\n",
       " 'cypris\\\\44682100.jpg',\n",
       " 'cypris\\\\44682305.jpg',\n",
       " 'cypris\\\\44682335.jpg',\n",
       " 'cypris\\\\44682429.jpg',\n",
       " 'cypris\\\\44682455.jpg',\n",
       " 'cypris\\\\44682469.jpg',\n",
       " 'cypris\\\\44682507.jpg',\n",
       " 'cypris\\\\44682552.jpg',\n",
       " 'cypris\\\\44682691.jpg',\n",
       " 'cypris\\\\44682806.jpg',\n",
       " 'cypris\\\\44682991.jpg',\n",
       " 'cypris\\\\44683099.jpg',\n",
       " 'cypris\\\\44683132.jpg',\n",
       " 'cypris\\\\44683235.jpg',\n",
       " 'cypris\\\\44705023.jpg',\n",
       " 'cypris\\\\44705168.jpg',\n",
       " 'cypris\\\\44705179.jpg',\n",
       " 'cypris\\\\44705225.jpg',\n",
       " 'cypris\\\\44705228.jpg',\n",
       " 'cypris\\\\44705240.jpg',\n",
       " 'cypris\\\\44705314.jpg',\n",
       " 'cypris\\\\44705613.jpg',\n",
       " 'cypris\\\\44705840.jpg',\n",
       " 'cypris\\\\44706107.jpg',\n",
       " 'cypris\\\\44706114.jpg',\n",
       " 'cypris\\\\44711966.jpg',\n",
       " 'cypris\\\\44713578.jpg',\n",
       " 'cypris\\\\44713945.jpg',\n",
       " 'cypris\\\\44918867.jpg',\n",
       " 'cypris\\\\46763635.jpg',\n",
       " 'cypris\\\\46763801.jpg',\n",
       " 'cypris\\\\48149037.jpg',\n",
       " 'cypris\\\\48174074.jpg',\n",
       " 'cypris\\\\48185880.jpg',\n",
       " 'cypris\\\\48187067.jpg',\n",
       " 'cypris\\\\48682280.jpg',\n",
       " 'cypris\\\\48704252.jpg',\n",
       " 'cypris\\\\48718918.jpg',\n",
       " 'cypris\\\\48738297.jpg',\n",
       " 'cypris\\\\48739548.jpg',\n",
       " 'cypris\\\\48746741.jpg',\n",
       " 'cypris\\\\48748560.jpg',\n",
       " 'cypris\\\\48759611.jpg',\n",
       " 'cypris\\\\48788192.jpg',\n",
       " 'cypris\\\\48873979.jpg',\n",
       " 'cypris\\\\52998485.jpg',\n",
       " 'cypris\\\\52999901.jpg',\n",
       " 'cypris\\\\53000246.jpg',\n",
       " 'cypris\\\\53000606.jpg',\n",
       " 'cypris\\\\53002115.jpg',\n",
       " 'cypris\\\\53063945.jpg',\n",
       " 'cypris\\\\53086966.jpg',\n",
       " 'cypris\\\\53090769.jpg',\n",
       " 'cypris\\\\53094233.jpg',\n",
       " 'cypris\\\\53102003.jpg',\n",
       " 'cypris\\\\53107858.jpg',\n",
       " 'cypris\\\\53133446.jpg',\n",
       " 'cypris\\\\53216372.jpg',\n",
       " 'cypris\\\\53216717.jpg',\n",
       " 'cypris\\\\53216882.jpg',\n",
       " 'cypris\\\\53217895.jpg',\n",
       " 'cypris\\\\53248016.jpg',\n",
       " 'cypris\\\\53259983.jpg',\n",
       " 'cypris\\\\53268446.jpg',\n",
       " 'cypris\\\\53289158.jpg',\n",
       " 'cypris\\\\53311863.jpg',\n",
       " 'cypris\\\\53311884.jpg',\n",
       " 'cypris\\\\53312566.jpg',\n",
       " 'cypris\\\\53312589.jpg',\n",
       " 'cypris\\\\53317383.jpg',\n",
       " 'cypris\\\\53364441.jpg',\n",
       " 'cypris\\\\53372803.jpg',\n",
       " 'cypris\\\\53378969.jpg']"
      ]
     },
     "execution_count": 9,
     "metadata": {},
     "output_type": "execute_result"
    }
   ],
   "source": [
    "test_it.filenames"
   ]
  },
  {
   "cell_type": "code",
   "execution_count": 10,
   "metadata": {},
   "outputs": [
    {
     "data": {
      "text/plain": [
       "['Acantharea\\\\42754317.jpg',\n",
       " 'Acantharea\\\\42762293.jpg',\n",
       " 'Acantharea\\\\42829606.jpg',\n",
       " 'Acantharea\\\\43045506.jpg',\n",
       " 'Acantharea\\\\44722585.jpg',\n",
       " 'Acantharea\\\\44726541.jpg',\n",
       " 'Acantharea\\\\44726551.jpg',\n",
       " 'Acantharea\\\\44726732.jpg',\n",
       " 'Acantharea\\\\44726787.jpg',\n",
       " 'Acantharea\\\\44726845.jpg',\n",
       " 'Acantharea\\\\44727001.jpg',\n",
       " 'Acantharea\\\\44727076.jpg',\n",
       " 'Acantharea\\\\44727383.jpg',\n",
       " 'Acantharea\\\\44727551.jpg',\n",
       " 'Acantharea\\\\44733429.jpg',\n",
       " 'Acantharea\\\\44735737.jpg',\n",
       " 'Acantharea\\\\44737351.jpg',\n",
       " 'Acantharea\\\\44740649.jpg',\n",
       " 'Acantharea\\\\44740784.jpg',\n",
       " 'Acantharea\\\\44740940.jpg',\n",
       " 'Acantharea\\\\44744190.jpg',\n",
       " 'Acantharea\\\\44744366.jpg',\n",
       " 'Acantharea\\\\44746066.jpg',\n",
       " 'Acantharea\\\\44751867.jpg',\n",
       " 'Acantharea\\\\44761696.jpg',\n",
       " 'Acantharea\\\\44765985.jpg',\n",
       " 'Acantharea\\\\44766207.jpg',\n",
       " 'Acantharea\\\\44766598.jpg',\n",
       " 'Acantharea\\\\44767464.jpg',\n",
       " 'Acantharea\\\\44767483.jpg',\n",
       " 'Acantharea\\\\44767603.jpg',\n",
       " 'Acantharea\\\\44767934.jpg',\n",
       " 'Acantharea\\\\44777187.jpg',\n",
       " 'Acantharea\\\\44782889.jpg',\n",
       " 'Acantharea\\\\44792936.jpg',\n",
       " 'Acantharea\\\\44794782.jpg',\n",
       " 'Acantharea\\\\44794987.jpg',\n",
       " 'Acantharea\\\\44795963.jpg',\n",
       " 'Acantharea\\\\44801458.jpg',\n",
       " 'Acantharea\\\\44801730.jpg',\n",
       " 'Acantharea\\\\44820433.jpg',\n",
       " 'Acantharea\\\\44826306.jpg',\n",
       " 'Acantharea\\\\44832138.jpg',\n",
       " 'Acantharea\\\\44845116.jpg',\n",
       " 'Acantharea\\\\44845455.jpg',\n",
       " 'Acantharea\\\\44846240.jpg',\n",
       " 'Acantharea\\\\44846627.jpg',\n",
       " 'Acantharea\\\\44862401.jpg',\n",
       " 'Acantharea\\\\44884850.jpg',\n",
       " 'Acantharea\\\\44886561.jpg',\n",
       " 'Acantharea\\\\44920987.jpg',\n",
       " 'Acantharea\\\\44921085.jpg',\n",
       " 'Acantharea\\\\44928646.jpg',\n",
       " 'Acantharea\\\\44928658.jpg',\n",
       " 'Acantharea\\\\44928688.jpg',\n",
       " 'Acantharea\\\\44929888.jpg',\n",
       " 'Acantharea\\\\44930321.jpg',\n",
       " 'Acantharea\\\\44941709.jpg',\n",
       " 'Acantharea\\\\44953541.jpg',\n",
       " 'Acantharea\\\\44962212.jpg',\n",
       " 'Acantharea\\\\44978619.jpg',\n",
       " 'Acantharea\\\\44979689.jpg',\n",
       " 'Acantharea\\\\44994149.jpg',\n",
       " 'Acantharea\\\\44995023.jpg',\n",
       " 'Acantharea\\\\44997527.jpg',\n",
       " 'Acantharea\\\\44997730.jpg',\n",
       " 'Acantharea\\\\44997830.jpg',\n",
       " 'Acantharea\\\\44998350.jpg',\n",
       " 'Acantharea\\\\44998366.jpg',\n",
       " 'Acantharea\\\\44998569.jpg',\n",
       " 'Acantharea\\\\44998696.jpg',\n",
       " 'Acantharea\\\\44998709.jpg',\n",
       " 'Acantharea\\\\44999014.jpg',\n",
       " 'Acantharea\\\\45013368.jpg',\n",
       " 'Acantharea\\\\45023475.jpg',\n",
       " 'Acantharea\\\\45023877.jpg',\n",
       " 'Acantharea\\\\45086179.jpg',\n",
       " 'Acantharea\\\\45088795.jpg',\n",
       " 'Acantharea\\\\45088932.jpg',\n",
       " 'Acantharea\\\\45095801.jpg',\n",
       " 'Acantharea\\\\45097701.jpg',\n",
       " 'Acantharea\\\\46682056.jpg',\n",
       " 'Acantharea\\\\46754037.jpg',\n",
       " 'Acantharea\\\\46754064.jpg',\n",
       " 'Acantharea\\\\46755836.jpg',\n",
       " 'Acantharea\\\\46755861.jpg',\n",
       " 'Acantharea\\\\46755980.jpg',\n",
       " 'Acantharea\\\\46793427.jpg',\n",
       " 'Acantharea\\\\48102790.jpg',\n",
       " 'Copilia\\\\14469919.jpg',\n",
       " 'Copilia\\\\24102722.jpg',\n",
       " 'Copilia\\\\24102974.jpg',\n",
       " 'Copilia\\\\24251117.jpg',\n",
       " 'Copilia\\\\34857563.jpg',\n",
       " 'Copilia\\\\34951316.jpg',\n",
       " 'Copilia\\\\42556863.jpg',\n",
       " 'Copilia\\\\42635519.jpg',\n",
       " 'Copilia\\\\42743446.jpg',\n",
       " 'Copilia\\\\42777414.jpg',\n",
       " 'Copilia\\\\42786591.jpg',\n",
       " 'Copilia\\\\42791688.jpg',\n",
       " 'Copilia\\\\42837896.jpg',\n",
       " 'Copilia\\\\42911612.jpg',\n",
       " 'Copilia\\\\42922004.jpg',\n",
       " 'Copilia\\\\42950136.jpg',\n",
       " 'Copilia\\\\42951726.jpg',\n",
       " 'Copilia\\\\42968150.jpg',\n",
       " 'Copilia\\\\42975022.jpg',\n",
       " 'Copilia\\\\42980446.jpg',\n",
       " 'Copilia\\\\42984926.jpg',\n",
       " 'Copilia\\\\43003480.jpg',\n",
       " 'Copilia\\\\43019936.jpg',\n",
       " 'Copilia\\\\43021849.jpg',\n",
       " 'Copilia\\\\43024760.jpg',\n",
       " 'Copilia\\\\43028391.jpg',\n",
       " 'Copilia\\\\43057828.jpg',\n",
       " 'Copilia\\\\43099128.jpg',\n",
       " 'Copilia\\\\43100688.jpg',\n",
       " 'Copilia\\\\44718655.jpg',\n",
       " 'Copilia\\\\44741508.jpg',\n",
       " 'Copilia\\\\44755967.jpg',\n",
       " 'Copilia\\\\44756956.jpg',\n",
       " 'Copilia\\\\44768838.jpg',\n",
       " 'Copilia\\\\44777096.jpg',\n",
       " 'Copilia\\\\44798652.jpg',\n",
       " 'Copilia\\\\44804829.jpg',\n",
       " 'Copilia\\\\44913413.jpg',\n",
       " 'Copilia\\\\44990097.jpg',\n",
       " 'Copilia\\\\45020273.jpg',\n",
       " 'Copilia\\\\45036587.jpg',\n",
       " 'Copilia\\\\45065043.jpg',\n",
       " 'Copilia\\\\45081245.jpg',\n",
       " 'Copilia\\\\45085140.jpg',\n",
       " 'Copilia\\\\46695260.jpg',\n",
       " 'Copilia\\\\46735641.jpg',\n",
       " 'Copilia\\\\46738622.jpg',\n",
       " 'Copilia\\\\46852843.jpg',\n",
       " 'Copilia\\\\46859793.jpg',\n",
       " 'Copilia\\\\46862469.jpg',\n",
       " 'Copilia\\\\46864188.jpg',\n",
       " 'Copilia\\\\46866668.jpg',\n",
       " 'Copilia\\\\46866722.jpg',\n",
       " 'Copilia\\\\46867118.jpg',\n",
       " 'Copilia\\\\46871593.jpg',\n",
       " 'Copilia\\\\46880546.jpg',\n",
       " 'Copilia\\\\46892098.jpg',\n",
       " 'Copilia\\\\46892506.jpg',\n",
       " 'Copilia\\\\46892839.jpg',\n",
       " 'Copilia\\\\46895599.jpg',\n",
       " 'Copilia\\\\46898378.jpg',\n",
       " 'Copilia\\\\46898743.jpg',\n",
       " 'Copilia\\\\46904610.jpg',\n",
       " 'Copilia\\\\46914867.jpg',\n",
       " 'Copilia\\\\46920332.jpg',\n",
       " 'Copilia\\\\46922675.jpg',\n",
       " 'Copilia\\\\46926217.jpg',\n",
       " 'Copilia\\\\46927807.jpg',\n",
       " 'Copilia\\\\46940898.jpg',\n",
       " 'Copilia\\\\46940986.jpg',\n",
       " 'Copilia\\\\46941446.jpg',\n",
       " 'Copilia\\\\46943668.jpg',\n",
       " 'Copilia\\\\46943700.jpg',\n",
       " 'Copilia\\\\46944785.jpg',\n",
       " 'Copilia\\\\46952995.jpg',\n",
       " 'Copilia\\\\46953019.jpg',\n",
       " 'Copilia\\\\46955520.jpg',\n",
       " 'Copilia\\\\46974179.jpg',\n",
       " 'Copilia\\\\47924291.jpg',\n",
       " 'cypris\\\\44680883.jpg',\n",
       " 'cypris\\\\44682100.jpg',\n",
       " 'cypris\\\\44682305.jpg',\n",
       " 'cypris\\\\44682335.jpg',\n",
       " 'cypris\\\\44682429.jpg',\n",
       " 'cypris\\\\44682455.jpg',\n",
       " 'cypris\\\\44682469.jpg',\n",
       " 'cypris\\\\44682507.jpg',\n",
       " 'cypris\\\\44682552.jpg',\n",
       " 'cypris\\\\44682691.jpg',\n",
       " 'cypris\\\\44682806.jpg',\n",
       " 'cypris\\\\44682991.jpg',\n",
       " 'cypris\\\\44683099.jpg',\n",
       " 'cypris\\\\44683132.jpg',\n",
       " 'cypris\\\\44683235.jpg',\n",
       " 'cypris\\\\44705023.jpg',\n",
       " 'cypris\\\\44705168.jpg',\n",
       " 'cypris\\\\44705179.jpg',\n",
       " 'cypris\\\\44705225.jpg',\n",
       " 'cypris\\\\44705228.jpg',\n",
       " 'cypris\\\\44705240.jpg',\n",
       " 'cypris\\\\44705314.jpg',\n",
       " 'cypris\\\\44705613.jpg',\n",
       " 'cypris\\\\44705840.jpg',\n",
       " 'cypris\\\\44706107.jpg',\n",
       " 'cypris\\\\44706114.jpg',\n",
       " 'cypris\\\\44711966.jpg',\n",
       " 'cypris\\\\44713578.jpg',\n",
       " 'cypris\\\\44713945.jpg',\n",
       " 'cypris\\\\44918867.jpg',\n",
       " 'cypris\\\\46763635.jpg',\n",
       " 'cypris\\\\46763801.jpg',\n",
       " 'cypris\\\\48149037.jpg',\n",
       " 'cypris\\\\48174074.jpg',\n",
       " 'cypris\\\\48185880.jpg',\n",
       " 'cypris\\\\48187067.jpg',\n",
       " 'cypris\\\\48682280.jpg',\n",
       " 'cypris\\\\48704252.jpg',\n",
       " 'cypris\\\\48718918.jpg',\n",
       " 'cypris\\\\48738297.jpg',\n",
       " 'cypris\\\\48739548.jpg',\n",
       " 'cypris\\\\48746741.jpg',\n",
       " 'cypris\\\\48748560.jpg',\n",
       " 'cypris\\\\48759611.jpg',\n",
       " 'cypris\\\\48788192.jpg',\n",
       " 'cypris\\\\48873979.jpg',\n",
       " 'cypris\\\\52998485.jpg',\n",
       " 'cypris\\\\52999901.jpg',\n",
       " 'cypris\\\\53000246.jpg',\n",
       " 'cypris\\\\53000606.jpg',\n",
       " 'cypris\\\\53002115.jpg',\n",
       " 'cypris\\\\53063945.jpg',\n",
       " 'cypris\\\\53086966.jpg',\n",
       " 'cypris\\\\53090769.jpg',\n",
       " 'cypris\\\\53094233.jpg',\n",
       " 'cypris\\\\53102003.jpg',\n",
       " 'cypris\\\\53107858.jpg',\n",
       " 'cypris\\\\53133446.jpg',\n",
       " 'cypris\\\\53216372.jpg',\n",
       " 'cypris\\\\53216717.jpg',\n",
       " 'cypris\\\\53216882.jpg',\n",
       " 'cypris\\\\53217895.jpg',\n",
       " 'cypris\\\\53248016.jpg',\n",
       " 'cypris\\\\53259983.jpg',\n",
       " 'cypris\\\\53268446.jpg',\n",
       " 'cypris\\\\53289158.jpg',\n",
       " 'cypris\\\\53311863.jpg',\n",
       " 'cypris\\\\53311884.jpg',\n",
       " 'cypris\\\\53312566.jpg',\n",
       " 'cypris\\\\53312589.jpg',\n",
       " 'cypris\\\\53317383.jpg',\n",
       " 'cypris\\\\53364441.jpg',\n",
       " 'cypris\\\\53372803.jpg',\n",
       " 'cypris\\\\53378969.jpg']"
      ]
     },
     "execution_count": 10,
     "metadata": {},
     "output_type": "execute_result"
    }
   ],
   "source": [
    "test_it.filenames"
   ]
  },
  {
   "cell_type": "code",
   "execution_count": 21,
   "metadata": {},
   "outputs": [
    {
     "name": "stdout",
     "output_type": "stream",
     "text": [
      "2020-02-12 17:55:23\n"
     ]
    }
   ],
   "source": [
    "from datetime import datetime\n",
    "print(datetime.now().strftime('%Y-%m-%d %H:%M:%S'))"
   ]
  },
  {
   "cell_type": "code",
   "execution_count": 22,
   "metadata": {},
   "outputs": [
    {
     "name": "stdout",
     "output_type": "stream",
     "text": [
      "Epoch 1/10\n",
      "31/31 [==============================] - 1121s 36s/step - loss: 0.4369 - acc: 0.9249 - val_loss: 0.0672 - val_acc: 0.9793\n",
      "Epoch 2/10\n",
      "31/31 [==============================] - 1084s 35s/step - loss: 0.1022 - acc: 0.9829 - val_loss: 0.0073 - val_acc: 1.0000\n",
      "Epoch 3/10\n",
      "31/31 [==============================] - 1088s 35s/step - loss: 0.0317 - acc: 0.9909 - val_loss: 0.0348 - val_acc: 0.9835\n",
      "Epoch 4/10\n",
      "31/31 [==============================] - 1075s 35s/step - loss: 0.0039 - acc: 0.9985 - val_loss: 0.0288 - val_acc: 0.9835\n",
      "Epoch 5/10\n",
      "31/31 [==============================] - 2213s 71s/step - loss: 0.0089 - acc: 0.9995 - val_loss: 0.0172 - val_acc: 0.9876\n",
      "Epoch 6/10\n",
      "31/31 [==============================] - 712s 23s/step - loss: 0.0166 - acc: 0.9990 - val_loss: 0.0103 - val_acc: 0.9917\n",
      "Epoch 7/10\n",
      "31/31 [==============================] - 684s 22s/step - loss: 0.0084 - acc: 0.9995 - val_loss: 0.0223 - val_acc: 0.9835\n",
      "Epoch 8/10\n",
      "31/31 [==============================] - 681s 22s/step - loss: 0.0083 - acc: 0.9995 - val_loss: 0.0164 - val_acc: 0.9876\n",
      "Epoch 9/10\n",
      "31/31 [==============================] - 695s 22s/step - loss: 0.0083 - acc: 0.9995 - val_loss: 0.0159 - val_acc: 0.9876\n",
      "Epoch 10/10\n",
      "31/31 [==============================] - 682s 22s/step - loss: 1.6689e-04 - acc: 1.0000 - val_loss: 0.0107 - val_acc: 0.9917\n"
     ]
    }
   ],
   "source": [
    "# fit model\n",
    "history = model.fit_generator(train_it, steps_per_epoch=len(train_it), validation_data=test_it, \n",
    "                              validation_steps=len(test_it),\n",
    "                              epochs=10, verbose=1)\n",
    "\n",
    "# 1121s/60 = 18.68"
   ]
  },
  {
   "cell_type": "code",
   "execution_count": 23,
   "metadata": {},
   "outputs": [
    {
     "name": "stdout",
     "output_type": "stream",
     "text": [
      "2020-02-12 20:42:39\n"
     ]
    }
   ],
   "source": [
    "print(datetime.now().strftime('%Y-%m-%d %H:%M:%S'))"
   ]
  },
  {
   "cell_type": "code",
   "execution_count": 24,
   "metadata": {},
   "outputs": [
    {
     "name": "stdout",
     "output_type": "stream",
     "text": [
      "31\n"
     ]
    }
   ],
   "source": [
    "print(len(train_it))  # this is the no. of iterations per epoch = train_data_size/ batch_size"
   ]
  },
  {
   "cell_type": "code",
   "execution_count": 25,
   "metadata": {},
   "outputs": [
    {
     "data": {
      "text/plain": [
       "4"
      ]
     },
     "execution_count": 25,
     "metadata": {},
     "output_type": "execute_result"
    }
   ],
   "source": [
    "len(test_it)"
   ]
  },
  {
   "cell_type": "code",
   "execution_count": 26,
   "metadata": {},
   "outputs": [
    {
     "name": "stdout",
     "output_type": "stream",
     "text": [
      "> 99.174\n"
     ]
    }
   ],
   "source": [
    "# evaluate model\n",
    "_, acc = model.evaluate_generator(test_it, steps=len(test_it), verbose=0)\n",
    "print('> %.3f' % (acc * 100.0))"
   ]
  },
  {
   "cell_type": "code",
   "execution_count": 11,
   "metadata": {},
   "outputs": [
    {
     "data": {
      "text/plain": [
       "[0.011569706720207656, 0.9917355327566794]"
      ]
     },
     "execution_count": 11,
     "metadata": {},
     "output_type": "execute_result"
    }
   ],
   "source": [
    "model.evaluate_generator(test_it, steps=len(test_it))"
   ]
  },
  {
   "cell_type": "code",
   "execution_count": 29,
   "metadata": {},
   "outputs": [
    {
     "data": {
      "image/png": "[encoded data removed]",
      "text/plain": [
       "<Figure size 432x288 with 2 Axes>"
      ]
     },
     "metadata": {
      "needs_background": "light"
     },
     "output_type": "display_data"
    }
   ],
   "source": [
    "# learning curves\n",
    "summarize_diagnostics(history)"
   ]
  },
  {
   "cell_type": "code",
   "execution_count": 47,
   "metadata": {},
   "outputs": [],
   "source": [
    "## save model after training\n",
    "\n",
    "import h5py\n",
    "model.save('final_model.h5')"
   ]
  },
  {
   "cell_type": "code",
   "execution_count": null,
   "metadata": {},
   "outputs": [],
   "source": []
  },
  {
   "cell_type": "code",
   "execution_count": 5,
   "metadata": {},
   "outputs": [
    {
     "name": "stderr",
     "output_type": "stream",
     "text": [
      "WARNING: Logging before flag parsing goes to stderr.\n",
      "W0213 12:48:05.037559  4864 deprecation_wrapper.py:119] From C:\\Users\\DAR9KOR\\AppData\\Local\\Continuum\\anaconda3\\envs\\deep_learn\\lib\\site-packages\\keras\\backend\\tensorflow_backend.py:517: The name tf.placeholder is deprecated. Please use tf.compat.v1.placeholder instead.\n",
      "\n",
      "W0213 12:48:05.106524  4864 deprecation_wrapper.py:119] From C:\\Users\\DAR9KOR\\AppData\\Local\\Continuum\\anaconda3\\envs\\deep_learn\\lib\\site-packages\\keras\\backend\\tensorflow_backend.py:4138: The name tf.random_uniform is deprecated. Please use tf.random.uniform instead.\n",
      "\n",
      "W0213 12:48:05.169055  4864 deprecation_wrapper.py:119] From C:\\Users\\DAR9KOR\\AppData\\Local\\Continuum\\anaconda3\\envs\\deep_learn\\lib\\site-packages\\keras\\backend\\tensorflow_backend.py:3976: The name tf.nn.max_pool is deprecated. Please use tf.nn.max_pool2d instead.\n",
      "\n",
      "W0213 12:48:05.744689  4864 deprecation_wrapper.py:119] From C:\\Users\\DAR9KOR\\AppData\\Local\\Continuum\\anaconda3\\envs\\deep_learn\\lib\\site-packages\\keras\\backend\\tensorflow_backend.py:174: The name tf.get_default_session is deprecated. Please use tf.compat.v1.get_default_session instead.\n",
      "\n",
      "W0213 12:48:05.744689  4864 deprecation_wrapper.py:119] From C:\\Users\\DAR9KOR\\AppData\\Local\\Continuum\\anaconda3\\envs\\deep_learn\\lib\\site-packages\\keras\\backend\\tensorflow_backend.py:181: The name tf.ConfigProto is deprecated. Please use tf.compat.v1.ConfigProto instead.\n",
      "\n",
      "W0213 12:48:05.744689  4864 deprecation_wrapper.py:119] From C:\\Users\\DAR9KOR\\AppData\\Local\\Continuum\\anaconda3\\envs\\deep_learn\\lib\\site-packages\\keras\\backend\\tensorflow_backend.py:186: The name tf.Session is deprecated. Please use tf.compat.v1.Session instead.\n",
      "\n",
      "W0213 12:48:06.288003  4864 deprecation_wrapper.py:119] From C:\\Users\\DAR9KOR\\AppData\\Local\\Continuum\\anaconda3\\envs\\deep_learn\\lib\\site-packages\\keras\\optimizers.py:790: The name tf.train.Optimizer is deprecated. Please use tf.compat.v1.train.Optimizer instead.\n",
      "\n",
      "W0213 12:48:06.435123  4864 deprecation.py:323] From C:\\Users\\DAR9KOR\\AppData\\Local\\Continuum\\anaconda3\\envs\\deep_learn\\lib\\site-packages\\tensorflow\\python\\ops\\math_grad.py:1250: add_dispatch_support.<locals>.wrapper (from tensorflow.python.ops.array_ops) is deprecated and will be removed in a future version.\n",
      "Instructions for updating:\n",
      "Use tf.where in 2.0, which has the same broadcast rule as np.where\n"
     ]
    }
   ],
   "source": [
    "## load model\n",
    "\n",
    "from keras.models import load_model \n",
    "model = load_model('final_model.h5')"
   ]
  },
  {
   "cell_type": "code",
   "execution_count": 23,
   "metadata": {},
   "outputs": [],
   "source": [
    "## obtaining conf mat & other metrics\n",
    "# https://gist.github.com/RyanAkilos/3808c17f79e77c4117de35aa68447045\n",
    "# https://stackoverflow.com/questions/45413712/keras-get-true-labels-y-test-from-imagedatagenerator-or-predict-generator\n",
    "\n",
    "from sklearn.metrics import precision_recall_fscore_support, confusion_matrix, classification_report\n",
    "# https://www.tensorflow.org/api_docs/python/tf/keras/metrics\n",
    "\n",
    "#print(classification_report(y_test, y_pred, target_names=class_names))\n",
    "#confusion_matrix(y_test, y_pred)\n",
    "#print(classification_report(y_test, y_pred, target_names=class_names))"
   ]
  },
  {
   "cell_type": "code",
   "execution_count": 42,
   "metadata": {},
   "outputs": [
    {
     "name": "stdout",
     "output_type": "stream",
     "text": [
      "Collecting sklearn\n",
      "  Using cached https://files.pythonhosted.org/packages/1e/7a/dbb3be0ce9bd5c8b7e3d87328e79063f8b263b2b1bfa4774cb1147bfcd3f/sklearn-0.0.tar.gz\n",
      "Collecting scikit-learn (from sklearn)\n",
      "  Downloading https://files.pythonhosted.org/packages/21/d9/7da9d5afdf901ab069226853c84a432c5db80fd616849ebcee29fd8a04e0/scikit_learn-0.22.1-cp36-cp36m-win_amd64.whl (6.3MB)\n",
      "Collecting joblib>=0.11 (from scikit-learn->sklearn)\n",
      "  Using cached https://files.pythonhosted.org/packages/28/5c/cf6a2b65a321c4a209efcdf64c2689efae2cb62661f8f6f4bb28547cf1bf/joblib-0.14.1-py2.py3-none-any.whl\n",
      "Requirement already satisfied: scipy>=0.17.0 in c:\\users\\dar9kor\\appdata\\local\\continuum\\anaconda3\\envs\\deep_learn\\lib\\site-packages (from scikit-learn->sklearn) (1.3.0)\n",
      "Requirement already satisfied: numpy>=1.11.0 in c:\\users\\dar9kor\\appdata\\local\\continuum\\anaconda3\\envs\\deep_learn\\lib\\site-packages (from scikit-learn->sklearn) (1.17.0)\n",
      "Building wheels for collected packages: sklearn\n",
      "  Building wheel for sklearn (setup.py): started\n",
      "  Building wheel for sklearn (setup.py): finished with status 'done'\n",
      "  Stored in directory: C:\\Users\\DAR9KOR\\AppData\\Local\\pip\\Cache\\wheels\\76\\03\\bb\\589d421d27431bcd2c6da284d5f2286c8e3b2ea3cf1594c074\n",
      "Successfully built sklearn\n",
      "Installing collected packages: joblib, scikit-learn, sklearn\n",
      "Successfully installed joblib-0.14.1 scikit-learn-0.22.1 sklearn-0.0\n",
      "Note: you may need to restart the kernel to use updated packages.\n"
     ]
    }
   ],
   "source": [
    "%pip install sklearn"
   ]
  },
  {
   "cell_type": "code",
   "execution_count": null,
   "metadata": {},
   "outputs": [],
   "source": [
    "### check performance on validation set, since no separate test set at the moment\n",
    "\n",
    "# https://gist.github.com/RyanAkilos/3808c17f79e77c4117de35aa68447045#gistcomment-3176016\n",
    "# https://github.com/keras-team/keras/issues/6499\n",
    "# https://github.com/keras-team/keras/issues/5162\n",
    "# https://stackoverflow.com/questions/37981913/keras-how-to-predict-classes-in-order\n",
    "# https://gist.github.com/RyanAkilos/3808c17f79e77c4117de35aa68447045\n",
    "# https://stackoverflow.com/questions/45413712/keras-get-true-labels-y-test-from-imagedatagenerator-or-predict-generator\n"
   ]
  },
  {
   "cell_type": "code",
   "execution_count": 31,
   "metadata": {},
   "outputs": [
    {
     "data": {
      "text/plain": [
       "array([0, 0, 0, 0, 0, 0, 0, 0, 0, 0, 0, 0, 0, 0, 0, 0, 0, 0, 0, 0, 0, 0,\n",
       "       0, 0, 0, 0, 0, 0, 0, 0, 0, 0, 0, 0, 0, 0, 0, 0, 0, 0, 0, 0, 0, 0,\n",
       "       0, 0, 0, 0, 0, 0, 0, 0, 0, 0, 0, 0, 0, 0, 0, 0, 0, 0, 0, 0, 0, 0,\n",
       "       0, 0, 0, 0, 0, 0, 0, 0, 0, 0, 0, 0, 0, 0, 0, 0, 0, 0, 0, 0, 0, 0,\n",
       "       0, 1, 1, 1, 1, 1, 1, 1, 1, 1, 1, 1, 1, 1, 1, 1, 1, 1, 1, 1, 1, 1,\n",
       "       1, 1, 1, 1, 1, 1, 1, 1, 1, 1, 1, 1, 1, 1, 1, 1, 1, 1, 1, 1, 1, 1,\n",
       "       1, 1, 1, 1, 1, 1, 1, 1, 1, 1, 1, 1, 1, 1, 1, 1, 1, 1, 1, 1, 1, 1,\n",
       "       1, 1, 1, 1, 1, 1, 1, 1, 1, 1, 1, 1, 1, 1, 2, 2, 2, 2, 2, 2, 2, 2,\n",
       "       2, 2, 2, 2, 2, 2, 2, 2, 2, 2, 2, 2, 2, 2, 2, 2, 2, 2, 2, 2, 2, 2,\n",
       "       2, 2, 2, 2, 2, 2, 2, 2, 2, 2, 2, 2, 2, 2, 2, 2, 2, 2, 2, 2, 2, 2,\n",
       "       2, 2, 2, 2, 2, 2, 2, 2, 2, 2, 2, 2, 2, 2, 2, 2, 2, 2, 2, 2, 2, 2])"
      ]
     },
     "execution_count": 31,
     "metadata": {},
     "output_type": "execute_result"
    }
   ],
   "source": [
    "'''# y_test\n",
    "test_it.classes'''"
   ]
  },
  {
   "cell_type": "code",
   "execution_count": 39,
   "metadata": {},
   "outputs": [
    {
     "data": {
      "text/plain": [
       "array([0, 0, 0, 0, 0, 0, 0, 0, 0, 0, 0, 0, 0, 0, 0, 0, 0, 0, 0, 0, 0, 0,\n",
       "       0, 0, 0, 0, 0, 0, 0, 0, 0, 0, 0, 0, 0, 0, 0, 0, 0, 0, 0, 0, 0, 0,\n",
       "       0, 0, 0, 0, 0, 0, 0, 0, 0, 0, 0, 0, 0, 0, 0, 0, 0, 0, 0, 0, 0, 0,\n",
       "       0, 0, 0, 0, 0, 0, 0, 0, 0, 0, 0, 0, 0, 0, 0, 0, 0, 0, 0, 0, 0, 0,\n",
       "       0, 1, 1, 1, 1, 1, 1, 1, 1, 1, 1, 1, 1, 1, 1, 1, 1, 1, 1, 1, 1, 1,\n",
       "       1, 1, 1, 1, 1, 1, 1, 1, 1, 1, 1, 1, 1, 1, 1, 1, 1, 1, 1, 1, 1, 1,\n",
       "       1, 1, 1, 1, 1, 1, 1, 1, 1, 1, 1, 1, 1, 1, 1, 1, 1, 1, 1, 1, 1, 1,\n",
       "       1, 1, 1, 1, 1, 1, 1, 1, 1, 1, 1, 1, 1, 1, 2, 2, 2, 2, 2, 2, 2, 2,\n",
       "       2, 2, 2, 2, 2, 2, 2, 2, 2, 2, 2, 2, 2, 2, 2, 2, 2, 2, 2, 2, 2, 2,\n",
       "       2, 2, 2, 2, 2, 2, 2, 2, 2, 2, 2, 2, 2, 2, 2, 2, 2, 2, 2, 2, 2, 2,\n",
       "       2, 2, 2, 2, 2, 2, 2, 2, 2, 2, 2, 2, 2, 2, 2, 2, 2, 2, 2, 2, 2, 2])"
      ]
     },
     "execution_count": 39,
     "metadata": {},
     "output_type": "execute_result"
    }
   ],
   "source": [
    "'''test_it.classes'''"
   ]
  },
  {
   "cell_type": "code",
   "execution_count": 32,
   "metadata": {},
   "outputs": [
    {
     "data": {
      "text/plain": [
       "array([[9.97082531e-01, 2.91749882e-03, 8.12478765e-11],\n",
       "       [2.51563756e-17, 4.24674811e-19, 1.00000000e+00],\n",
       "       [1.60819654e-05, 7.71228503e-09, 9.99983907e-01],\n",
       "       [6.62128408e-15, 9.74383703e-21, 1.00000000e+00],\n",
       "       [0.00000000e+00, 1.00000000e+00, 0.00000000e+00],\n",
       "       [1.90937044e-09, 8.94018800e-13, 1.00000000e+00],\n",
       "       [1.89269642e-11, 1.40046839e-16, 1.00000000e+00],\n",
       "       [6.06361295e-10, 3.09922506e-17, 1.00000000e+00],\n",
       "       [1.94305822e-18, 5.88632181e-25, 1.00000000e+00],\n",
       "       [3.15377291e-19, 1.69101565e-23, 1.00000000e+00],\n",
       "       [5.69667501e-24, 1.00000000e+00, 0.00000000e+00],\n",
       "       [1.00000000e+00, 5.76215475e-09, 1.91193217e-09],\n",
       "       [9.99941587e-01, 5.83633482e-05, 7.84805665e-10],\n",
       "       [2.15500833e-07, 9.99999762e-01, 2.13256876e-16],\n",
       "       [9.99999881e-01, 8.91645371e-08, 7.04988233e-14],\n",
       "       [1.00000000e+00, 2.77729944e-18, 3.24057402e-23],\n",
       "       [3.93404466e-13, 1.00000000e+00, 2.28303237e-22],\n",
       "       [1.00000000e+00, 1.13960110e-26, 6.36131568e-37],\n",
       "       [9.99977708e-01, 2.21102873e-05, 1.95168568e-07],\n",
       "       [1.79461379e-14, 1.00000000e+00, 1.94322276e-24],\n",
       "       [1.00000000e+00, 2.03101775e-17, 2.47965436e-30],\n",
       "       [7.62677267e-17, 1.77702565e-20, 1.00000000e+00],\n",
       "       [2.00200798e-08, 1.00000000e+00, 1.50667733e-18],\n",
       "       [4.30475767e-22, 1.00000000e+00, 0.00000000e+00],\n",
       "       [7.56739357e-24, 1.00000000e+00, 0.00000000e+00],\n",
       "       [3.97149414e-12, 1.00000000e+00, 3.56687954e-21],\n",
       "       [9.15948903e-15, 1.00000000e+00, 2.23992010e-34],\n",
       "       [1.00000000e+00, 4.17813961e-09, 5.88271949e-21],\n",
       "       [3.02595374e-17, 1.26112227e-23, 1.00000000e+00],\n",
       "       [3.39759071e-03, 9.96602416e-01, 2.51254907e-16],\n",
       "       [2.15895993e-15, 2.42542240e-22, 1.00000000e+00],\n",
       "       [1.00000000e+00, 4.33120276e-11, 1.48029755e-10],\n",
       "       [1.00000000e+00, 1.71362602e-09, 4.53444973e-22],\n",
       "       [1.00000000e+00, 1.40799211e-27, 1.61520499e-37],\n",
       "       [1.00000000e+00, 7.24615908e-17, 1.24616222e-25],\n",
       "       [1.00000000e+00, 1.45370729e-11, 5.49116822e-21],\n",
       "       [1.00000000e+00, 1.61480074e-08, 4.96897449e-24],\n",
       "       [9.99999881e-01, 1.39273624e-07, 3.27628119e-10],\n",
       "       [9.99798000e-01, 2.02006515e-04, 1.35723505e-17],\n",
       "       [4.59469666e-05, 6.46923127e-07, 9.99953389e-01],\n",
       "       [9.99996066e-01, 3.97998383e-06, 9.72937513e-16],\n",
       "       [1.00000000e+00, 2.09139780e-12, 2.59673502e-21],\n",
       "       [1.83689835e-14, 1.95316599e-17, 1.00000000e+00],\n",
       "       [3.58943615e-13, 1.00085641e-12, 1.00000000e+00],\n",
       "       [6.21176141e-19, 1.00000000e+00, 1.83896487e-31],\n",
       "       [2.12601172e-26, 1.18113602e-31, 1.00000000e+00],\n",
       "       [9.52082024e-11, 1.00000000e+00, 2.97682688e-16],\n",
       "       [1.00000000e+00, 9.62173769e-26, 0.00000000e+00],\n",
       "       [2.55260026e-08, 2.88389592e-13, 1.00000000e+00],\n",
       "       [9.99666214e-01, 3.33803444e-04, 1.70437879e-16],\n",
       "       [4.60020040e-08, 1.00000000e+00, 5.71938111e-18],\n",
       "       [9.98821080e-01, 1.17889990e-03, 1.20222193e-10],\n",
       "       [1.00000000e+00, 4.72085659e-08, 3.02821849e-16],\n",
       "       [4.90694953e-15, 1.26961057e-19, 1.00000000e+00],\n",
       "       [2.17706797e-26, 1.00000000e+00, 0.00000000e+00],\n",
       "       [2.64822986e-09, 2.15605355e-16, 1.00000000e+00],\n",
       "       [1.00000000e+00, 4.89652555e-11, 8.44749659e-28],\n",
       "       [4.62802745e-06, 5.92700904e-03, 9.94068384e-01],\n",
       "       [1.51140824e-08, 1.00000000e+00, 3.43380518e-23],\n",
       "       [9.99999523e-01, 4.65258466e-07, 2.80200485e-09],\n",
       "       [1.00000000e+00, 4.71512152e-13, 1.54902995e-24],\n",
       "       [1.69417049e-07, 9.99999881e-01, 1.29183271e-29],\n",
       "       [5.92216486e-22, 1.00000000e+00, 6.13265747e-32],\n",
       "       [5.05914646e-13, 1.00000000e+00, 4.08019156e-21],\n",
       "       [1.00000000e+00, 7.67060501e-15, 7.36335687e-25],\n",
       "       [9.95827973e-01, 4.17202525e-03, 1.20732058e-09],\n",
       "       [8.30431694e-15, 1.00000000e+00, 2.47080073e-35],\n",
       "       [4.64631823e-16, 4.55951354e-22, 1.00000000e+00],\n",
       "       [2.05308766e-08, 1.00000000e+00, 1.02575275e-19],\n",
       "       [5.08606682e-19, 1.69282368e-22, 1.00000000e+00],\n",
       "       [9.99901175e-01, 9.88272586e-05, 5.00837241e-15],\n",
       "       [1.76553673e-15, 2.62493558e-17, 1.00000000e+00],\n",
       "       [1.89382455e-17, 1.26248350e-17, 1.00000000e+00],\n",
       "       [9.67277148e-13, 9.09495754e-18, 1.00000000e+00],\n",
       "       [1.00000000e+00, 1.56728189e-11, 1.42189568e-20],\n",
       "       [1.00000000e+00, 3.41276540e-13, 7.59213120e-20],\n",
       "       [2.42076243e-08, 1.00000000e+00, 9.60594536e-23],\n",
       "       [1.69871010e-11, 1.00000000e+00, 9.85632265e-29],\n",
       "       [1.10661957e-09, 1.00000000e+00, 1.04755900e-23],\n",
       "       [1.00000000e+00, 1.55250252e-24, 1.58430576e-33],\n",
       "       [2.03927979e-03, 9.97960687e-01, 7.22724725e-09],\n",
       "       [9.99999404e-01, 6.30322404e-07, 2.96259728e-08],\n",
       "       [1.00000000e+00, 8.88141991e-12, 7.66875010e-18],\n",
       "       [1.00000000e+00, 3.03688009e-18, 8.72975294e-29],\n",
       "       [9.97668803e-01, 2.33111554e-03, 4.67351262e-11],\n",
       "       [5.51362678e-10, 1.20394155e-14, 1.00000000e+00],\n",
       "       [9.99980092e-01, 1.99270999e-05, 5.97407594e-14],\n",
       "       [1.00000000e+00, 7.45157491e-10, 3.84886689e-14],\n",
       "       [1.09451681e-15, 4.77909015e-24, 1.00000000e+00],\n",
       "       [1.00000000e+00, 1.19125101e-13, 6.13873028e-21],\n",
       "       [1.10358116e-07, 9.99999881e-01, 5.34530888e-16],\n",
       "       [1.00000000e+00, 6.35835446e-15, 1.90231914e-23],\n",
       "       [3.88636551e-13, 1.00000000e+00, 2.53314253e-26],\n",
       "       [7.28335126e-09, 1.00000000e+00, 2.78675659e-17],\n",
       "       [1.11584881e-15, 1.00000000e+00, 8.49911729e-28],\n",
       "       [2.14827696e-06, 9.99997854e-01, 2.93660863e-18],\n",
       "       [4.31948223e-21, 3.21680736e-28, 1.00000000e+00],\n",
       "       [2.53270263e-15, 2.14504486e-23, 1.00000000e+00],\n",
       "       [8.99337351e-01, 1.00662641e-01, 2.00506256e-09],\n",
       "       [8.59286126e-16, 1.00000000e+00, 1.09406198e-22],\n",
       "       [3.15085890e-06, 9.99996901e-01, 3.70812409e-12],\n",
       "       [7.73064628e-23, 1.11259574e-25, 1.00000000e+00],\n",
       "       [9.99999881e-01, 7.04544121e-08, 2.60914268e-09],\n",
       "       [1.00000000e+00, 1.01572888e-14, 9.86194658e-25],\n",
       "       [3.14500242e-01, 6.85498118e-01, 1.61502055e-06],\n",
       "       [2.38070038e-06, 9.99997616e-01, 1.48757349e-14],\n",
       "       [2.66587635e-24, 1.00000000e+00, 0.00000000e+00],\n",
       "       [3.57918749e-21, 3.23972694e-27, 1.00000000e+00],\n",
       "       [4.52918681e-14, 1.00000000e+00, 2.99111167e-24],\n",
       "       [9.98457432e-01, 1.54251116e-03, 1.74891106e-08],\n",
       "       [7.39466177e-09, 3.11013452e-16, 1.00000000e+00],\n",
       "       [9.99993920e-01, 6.12288295e-06, 9.95762028e-10],\n",
       "       [9.99999523e-01, 4.37961972e-07, 7.17575860e-11],\n",
       "       [1.92559944e-11, 4.84072837e-10, 1.00000000e+00],\n",
       "       [9.99998808e-01, 2.97195243e-07, 9.83341920e-07],\n",
       "       [1.61738652e-16, 2.40660870e-17, 1.00000000e+00],\n",
       "       [6.52138111e-18, 1.00000000e+00, 6.61326521e-35],\n",
       "       [5.32204947e-10, 1.00000000e+00, 2.55551246e-20],\n",
       "       [9.95164037e-01, 4.83593903e-03, 3.76872769e-11],\n",
       "       [1.23138435e-12, 2.46643504e-17, 1.00000000e+00],\n",
       "       [5.36352462e-10, 1.00000000e+00, 1.02897542e-13],\n",
       "       [3.91263202e-11, 5.16324980e-17, 1.00000000e+00],\n",
       "       [1.42123699e-05, 9.99985814e-01, 4.26340560e-12],\n",
       "       [2.95724178e-19, 2.53765213e-24, 1.00000000e+00],\n",
       "       [9.96110857e-01, 3.88916605e-03, 3.17502966e-08],\n",
       "       [1.00000000e+00, 3.80767912e-17, 3.57049342e-25],\n",
       "       [1.05607407e-14, 1.74256931e-19, 1.00000000e+00],\n",
       "       [2.59810576e-11, 1.00000000e+00, 5.52038288e-21],\n",
       "       [1.40312708e-22, 1.38214039e-26, 1.00000000e+00],\n",
       "       [1.20205454e-08, 5.09271228e-13, 1.00000000e+00],\n",
       "       [7.75872682e-12, 5.78334085e-16, 1.00000000e+00],\n",
       "       [1.09768479e-10, 5.88771543e-17, 1.00000000e+00],\n",
       "       [1.01504481e-26, 1.00000000e+00, 5.96852931e-27],\n",
       "       [3.54983865e-09, 8.28846540e-14, 1.00000000e+00],\n",
       "       [1.11578549e-14, 1.00000000e+00, 8.04838001e-25],\n",
       "       [8.96069887e-15, 1.00000000e+00, 1.33557992e-34],\n",
       "       [4.84909223e-17, 2.86669939e-23, 1.00000000e+00],\n",
       "       [9.99999523e-01, 5.20818844e-07, 3.24706055e-13],\n",
       "       [4.83503072e-07, 2.85659045e-15, 9.99999523e-01],\n",
       "       [1.51917767e-11, 3.25573173e-13, 1.00000000e+00],\n",
       "       [1.13420251e-17, 2.05227440e-22, 1.00000000e+00],\n",
       "       [2.43187287e-20, 5.62953912e-22, 1.00000000e+00],\n",
       "       [1.07224615e-07, 9.99999881e-01, 1.79330677e-21],\n",
       "       [1.47089135e-14, 3.96615836e-19, 1.00000000e+00],\n",
       "       [1.00000000e+00, 1.76018922e-09, 3.52899363e-08],\n",
       "       [3.11605911e-13, 9.36138828e-18, 1.00000000e+00],\n",
       "       [2.72837200e-13, 1.00000000e+00, 1.19888763e-27],\n",
       "       [3.20052739e-21, 1.00000000e+00, 4.01172947e-35],\n",
       "       [4.41988535e-09, 1.00000000e+00, 2.23301195e-17],\n",
       "       [1.00000000e+00, 7.15658505e-11, 4.28597665e-16],\n",
       "       [4.77238110e-11, 1.00000000e+00, 2.02289025e-18],\n",
       "       [5.77137134e-13, 1.00000000e+00, 2.24610926e-24],\n",
       "       [2.38420225e-14, 1.00000000e+00, 2.81683817e-28],\n",
       "       [6.10617437e-28, 1.00000000e+00, 0.00000000e+00],\n",
       "       [6.72729675e-06, 1.58161590e-08, 9.99993205e-01],\n",
       "       [9.99998808e-01, 1.16053104e-06, 7.94017689e-24],\n",
       "       [2.37114669e-04, 2.97739973e-07, 9.99762595e-01],\n",
       "       [1.18693066e-09, 1.00000000e+00, 1.66612248e-13],\n",
       "       [9.98860359e-01, 1.13970775e-03, 2.07495091e-10],\n",
       "       [1.00000000e+00, 6.69994442e-12, 7.51258357e-21],\n",
       "       [6.30107806e-08, 9.99999881e-01, 3.26933676e-19],\n",
       "       [9.75133307e-09, 1.00000000e+00, 1.86607976e-16],\n",
       "       [1.00000000e+00, 8.32209937e-17, 1.00774130e-26],\n",
       "       [2.77385837e-18, 1.00000000e+00, 1.89764427e-38],\n",
       "       [8.20336410e-10, 4.08984803e-16, 1.00000000e+00],\n",
       "       [9.53951418e-01, 4.60486300e-02, 7.56645857e-11],\n",
       "       [9.99996901e-01, 3.12230736e-06, 8.06683770e-15],\n",
       "       [1.00000000e+00, 9.68773672e-11, 3.44852735e-19],\n",
       "       [7.70392539e-13, 1.00000000e+00, 8.54495667e-20],\n",
       "       [5.71247786e-15, 1.00000000e+00, 4.10858779e-28],\n",
       "       [1.39785847e-16, 7.36896167e-14, 1.00000000e+00],\n",
       "       [2.27536241e-12, 1.65330000e-15, 1.00000000e+00],\n",
       "       [5.81123951e-12, 1.87490433e-18, 1.00000000e+00],\n",
       "       [2.08897396e-12, 1.83328246e-18, 1.00000000e+00],\n",
       "       [1.56860375e-11, 1.83908513e-15, 1.00000000e+00],\n",
       "       [7.32195256e-19, 3.99291350e-23, 1.00000000e+00],\n",
       "       [3.86212645e-10, 2.61053860e-15, 1.00000000e+00],\n",
       "       [9.99999642e-01, 3.68352801e-07, 6.45256895e-12],\n",
       "       [1.05607407e-14, 1.74256931e-19, 1.00000000e+00],\n",
       "       [9.99999881e-01, 1.73525322e-07, 3.63739495e-14],\n",
       "       [9.99983311e-01, 1.66666396e-05, 6.88913453e-15],\n",
       "       [5.71247786e-15, 1.00000000e+00, 4.10858779e-28],\n",
       "       [1.00000000e+00, 2.09139780e-12, 2.59673502e-21],\n",
       "       [1.75290775e-14, 1.00000000e+00, 2.38441912e-34],\n",
       "       [3.20052739e-21, 1.00000000e+00, 4.01172947e-35],\n",
       "       [2.37114669e-04, 2.97739973e-07, 9.99762595e-01],\n",
       "       [2.38070038e-06, 9.99997616e-01, 1.48757349e-14],\n",
       "       [2.15945896e-02, 9.78405356e-01, 5.26106285e-13],\n",
       "       [1.78451277e-02, 9.82154846e-01, 1.45915811e-16],\n",
       "       [1.51917767e-11, 3.25573173e-13, 1.00000000e+00],\n",
       "       [1.33610722e-08, 1.03493289e-14, 1.00000000e+00],\n",
       "       [1.04170939e-15, 3.54530405e-17, 1.00000000e+00],\n",
       "       [9.95827973e-01, 4.17202525e-03, 1.20732058e-09],\n",
       "       [1.20205454e-08, 5.09271228e-13, 1.00000000e+00],\n",
       "       [5.69667501e-24, 1.00000000e+00, 0.00000000e+00],\n",
       "       [8.20336410e-10, 4.08984803e-16, 1.00000000e+00],\n",
       "       [2.08897396e-12, 1.83328246e-18, 1.00000000e+00],\n",
       "       [3.97149414e-12, 1.00000000e+00, 3.56687954e-21],\n",
       "       [1.00000000e+00, 7.15658505e-11, 4.28597665e-16],\n",
       "       [5.05914646e-13, 1.00000000e+00, 4.08019156e-21],\n",
       "       [6.06361295e-10, 3.09922506e-17, 1.00000000e+00],\n",
       "       [1.75208206e-14, 1.00000000e+00, 4.87311133e-30],\n",
       "       [6.30107806e-08, 9.99999881e-01, 3.26933676e-19],\n",
       "       [9.95164037e-01, 4.83593903e-03, 3.76872769e-11],\n",
       "       [5.81123951e-12, 1.87490433e-18, 1.00000000e+00],\n",
       "       [4.62802745e-06, 5.92700904e-03, 9.94068384e-01],\n",
       "       [2.95724178e-19, 2.53765213e-24, 1.00000000e+00],\n",
       "       [9.99980092e-01, 1.98674807e-05, 1.81774687e-16],\n",
       "       [4.84909223e-17, 2.86669939e-23, 1.00000000e+00],\n",
       "       [5.36352462e-10, 1.00000000e+00, 1.02897542e-13],\n",
       "       [4.52918681e-14, 1.00000000e+00, 2.99111167e-24],\n",
       "       [1.00000000e+00, 9.62173769e-26, 0.00000000e+00],\n",
       "       [1.00000000e+00, 1.55250252e-24, 1.58430576e-33],\n",
       "       [1.72300906e-06, 9.99998331e-01, 3.89608315e-16],\n",
       "       [7.75872682e-12, 5.78334085e-16, 1.00000000e+00],\n",
       "       [1.00000000e+00, 7.24615908e-17, 1.24616222e-25],\n",
       "       [9.99996901e-01, 3.12230736e-06, 8.06683770e-15],\n",
       "       [3.86212645e-10, 2.61053860e-15, 1.00000000e+00],\n",
       "       [9.53951418e-01, 4.60486300e-02, 7.56645857e-11],\n",
       "       [1.60850418e-13, 1.00000000e+00, 3.71245870e-24],\n",
       "       [9.99941587e-01, 5.83633482e-05, 7.84805665e-10],\n",
       "       [3.93404466e-13, 1.00000000e+00, 2.28303237e-22],\n",
       "       [4.83503072e-07, 2.85659045e-15, 9.99999523e-01],\n",
       "       [4.60020040e-08, 1.00000000e+00, 5.71938111e-18],\n",
       "       [6.21176141e-19, 1.00000000e+00, 1.83896487e-31],\n",
       "       [1.09451681e-15, 4.77909015e-24, 1.00000000e+00],\n",
       "       [9.99999523e-01, 5.20818844e-07, 3.24706055e-13],\n",
       "       [1.23138435e-12, 2.46643504e-17, 1.00000000e+00],\n",
       "       [1.00000000e+00, 2.03101775e-17, 2.47965436e-30],\n",
       "       [1.00000000e+00, 1.19125101e-13, 6.13873028e-21],\n",
       "       [1.69871010e-11, 1.00000000e+00, 9.85632265e-29],\n",
       "       [0.00000000e+00, 1.00000000e+00, 0.00000000e+00],\n",
       "       [2.00200798e-08, 1.00000000e+00, 1.50667733e-18],\n",
       "       [1.00000000e+00, 7.45157491e-10, 3.84886689e-14],\n",
       "       [8.96069887e-15, 1.00000000e+00, 1.33557992e-34],\n",
       "       [2.55260026e-08, 2.88389592e-13, 1.00000000e+00],\n",
       "       [5.77178184e-07, 9.99999404e-01, 1.35176656e-18],\n",
       "       [9.98457432e-01, 1.54251116e-03, 1.74891106e-08],\n",
       "       [1.00000000e+00, 1.79483051e-09, 7.54474004e-16],\n",
       "       [7.39466177e-09, 3.11013452e-16, 1.00000000e+00],\n",
       "       [2.12601172e-26, 1.18113602e-31, 1.00000000e+00],\n",
       "       [3.47815887e-09, 1.00000000e+00, 1.40135330e-19]], dtype=float32)"
      ]
     },
     "execution_count": 32,
     "metadata": {},
     "output_type": "execute_result"
    }
   ],
   "source": [
    "'''# y_pred Prob\n",
    "model.predict_generator(test_it, steps=len(test_it))'''"
   ]
  },
  {
   "cell_type": "code",
   "execution_count": 6,
   "metadata": {},
   "outputs": [
    {
     "name": "stderr",
     "output_type": "stream",
     "text": [
      "C:\\Users\\DAR9KOR\\AppData\\Local\\Continuum\\anaconda3\\envs\\deep_learn\\lib\\site-packages\\keras_preprocessing\\image\\image_data_generator.py:716: UserWarning: This ImageDataGenerator specifies `featurewise_center`, but it hasn't been fit on any training data. Fit it first by calling `.fit(numpy_data)`.\n",
      "  warnings.warn('This ImageDataGenerator specifies '\n"
     ]
    },
    {
     "data": {
      "text/plain": [
       "array([[1.33610722e-08, 1.03493289e-14, 1.00000000e+00],\n",
       "       [9.99999881e-01, 7.04544121e-08, 2.60914268e-09],\n",
       "       [9.99999166e-01, 8.13641066e-07, 2.52229212e-19],\n",
       "       [1.00000000e+00, 1.55250252e-24, 1.58430576e-33],\n",
       "       [3.11605911e-13, 9.36138828e-18, 1.00000000e+00],\n",
       "       [1.20205454e-08, 5.09271228e-13, 1.00000000e+00],\n",
       "       [9.75133307e-09, 1.00000000e+00, 1.86607976e-16],\n",
       "       [1.94305822e-18, 5.88632181e-25, 1.00000000e+00],\n",
       "       [1.11578549e-14, 1.00000000e+00, 8.04838001e-25],\n",
       "       [1.00000000e+00, 8.71219221e-13, 6.30795230e-17],\n",
       "       [9.95164037e-01, 4.83593903e-03, 3.76872769e-11],\n",
       "       [4.84909223e-17, 2.86669939e-23, 1.00000000e+00],\n",
       "       [1.00000000e+00, 1.40799211e-27, 1.61520499e-37],\n",
       "       [3.39759071e-03, 9.96602416e-01, 2.51254907e-16],\n",
       "       [2.27536241e-12, 1.65330000e-15, 1.00000000e+00],\n",
       "       [1.00000000e+00, 7.15658505e-11, 4.28597665e-16],\n",
       "       [9.99999881e-01, 8.91645371e-08, 7.04988233e-14],\n",
       "       [2.95724178e-19, 2.53765213e-24, 1.00000000e+00],\n",
       "       [9.67277148e-13, 9.09495754e-18, 1.00000000e+00],\n",
       "       [5.05542108e-10, 1.00000000e+00, 1.87082100e-22],\n",
       "       [9.52082024e-11, 1.00000000e+00, 2.97682688e-16],\n",
       "       [8.30431694e-15, 1.00000000e+00, 2.47080073e-35],\n",
       "       [1.20269940e-11, 1.00000000e+00, 9.78384886e-19],\n",
       "       [1.10358116e-07, 9.99999881e-01, 5.34530888e-16],\n",
       "       [3.54983865e-09, 8.28846540e-14, 1.00000000e+00],\n",
       "       [1.00000000e+00, 1.13960110e-26, 6.36131568e-37],\n",
       "       [3.93404466e-13, 1.00000000e+00, 2.28303237e-22],\n",
       "       [9.99993920e-01, 6.12288295e-06, 9.95762028e-10],\n",
       "       [4.77238110e-11, 1.00000000e+00, 2.02289025e-18],\n",
       "       [1.83689835e-14, 1.95316599e-17, 1.00000000e+00],\n",
       "       [5.05914646e-13, 1.00000000e+00, 4.08019156e-21],\n",
       "       [6.10617437e-28, 1.00000000e+00, 0.00000000e+00],\n",
       "       [4.60020040e-08, 1.00000000e+00, 5.71938111e-18],\n",
       "       [1.00000000e+00, 3.20476266e-16, 1.41955697e-24],\n",
       "       [1.27842455e-07, 8.06809385e-15, 9.99999881e-01],\n",
       "       [5.32541670e-19, 5.06370438e-20, 1.00000000e+00],\n",
       "       [9.99813259e-01, 1.86364065e-04, 3.61153326e-07],\n",
       "       [2.15500833e-07, 9.99999762e-01, 2.13256876e-16],\n",
       "       [9.99999881e-01, 8.82788314e-08, 6.43754098e-18],\n",
       "       [3.20052739e-21, 1.00000000e+00, 4.01172947e-35],\n",
       "       [9.99999881e-01, 1.39273624e-07, 3.27628119e-10],\n",
       "       [1.44515774e-13, 1.00000000e+00, 4.12005115e-25],\n",
       "       [9.97668803e-01, 2.33111554e-03, 4.67351262e-11],\n",
       "       [3.86212645e-10, 2.61053860e-15, 1.00000000e+00],\n",
       "       [1.40312708e-22, 1.38214039e-26, 1.00000000e+00],\n",
       "       [7.73064628e-23, 1.11259574e-25, 1.00000000e+00],\n",
       "       [3.15977502e-08, 1.01127846e-07, 9.99999881e-01],\n",
       "       [4.52918681e-14, 1.00000000e+00, 2.99111167e-24],\n",
       "       [4.39627345e-14, 5.43534508e-18, 1.00000000e+00],\n",
       "       [1.00000000e+00, 4.17813961e-09, 5.88271949e-21],\n",
       "       [7.62677267e-17, 1.77702565e-20, 1.00000000e+00],\n",
       "       [9.99996901e-01, 3.12230736e-06, 8.06683770e-15],\n",
       "       [9.96110857e-01, 3.88916605e-03, 3.17502966e-08],\n",
       "       [2.66587635e-24, 1.00000000e+00, 0.00000000e+00],\n",
       "       [1.72300906e-06, 9.99998331e-01, 3.89608315e-16],\n",
       "       [1.89269642e-11, 1.40046839e-16, 1.00000000e+00],\n",
       "       [2.12601172e-26, 1.18113602e-31, 1.00000000e+00],\n",
       "       [7.70392539e-13, 1.00000000e+00, 8.54495667e-20],\n",
       "       [6.62128408e-15, 9.74383703e-21, 1.00000000e+00],\n",
       "       [1.90937044e-09, 8.94018800e-13, 1.00000000e+00],\n",
       "       [1.00000000e+00, 8.32209937e-17, 1.00774130e-26],\n",
       "       [1.42123699e-05, 9.99985814e-01, 4.26340560e-12],\n",
       "       [2.02384012e-10, 1.15685236e-14, 1.00000000e+00],\n",
       "       [5.51362678e-10, 1.20394155e-14, 1.00000000e+00],\n",
       "       [9.99999404e-01, 6.30322404e-07, 2.96259728e-08],\n",
       "       [1.51140824e-08, 1.00000000e+00, 3.43380518e-23],\n",
       "       [4.31948223e-21, 3.21680736e-28, 1.00000000e+00],\n",
       "       [1.00000000e+00, 8.88141991e-12, 7.66875010e-18],\n",
       "       [1.04170939e-15, 3.54530405e-17, 1.00000000e+00],\n",
       "       [5.32204947e-10, 1.00000000e+00, 2.55551246e-20],\n",
       "       [7.75872682e-12, 5.78334085e-16, 1.00000000e+00],\n",
       "       [9.99999523e-01, 4.64735194e-07, 4.53297644e-15],\n",
       "       [1.00000000e+00, 3.03688009e-18, 8.72975294e-29],\n",
       "       [4.36661765e-03, 9.95633423e-01, 1.67846643e-08],\n",
       "       [3.57918749e-21, 3.23972694e-27, 1.00000000e+00],\n",
       "       [6.44243731e-16, 1.00000000e+00, 6.86212225e-32],\n",
       "       [2.43187287e-20, 5.62953912e-22, 1.00000000e+00],\n",
       "       [6.72729675e-06, 1.58161590e-08, 9.99993205e-01],\n",
       "       [7.39466177e-09, 3.11013452e-16, 1.00000000e+00],\n",
       "       [1.00000000e+00, 6.69994442e-12, 7.51258357e-21],\n",
       "       [6.85614169e-01, 3.14385831e-01, 1.57903326e-08],\n",
       "       [1.76553673e-15, 2.62493558e-17, 1.00000000e+00],\n",
       "       [3.15085890e-06, 9.99996901e-01, 3.70812409e-12],\n",
       "       [9.99901175e-01, 9.88272586e-05, 5.00837241e-15],\n",
       "       [3.47815887e-09, 1.00000000e+00, 1.40135330e-19],\n",
       "       [2.14827696e-06, 9.99997854e-01, 2.93660863e-18],\n",
       "       [1.00000000e+00, 3.16412390e-08, 3.56105621e-16],\n",
       "       [4.59469666e-05, 6.46923127e-07, 9.99953389e-01],\n",
       "       [9.74950565e-10, 9.68832792e-11, 1.00000000e+00],\n",
       "       [9.99977708e-01, 2.21102873e-05, 1.95168568e-07],\n",
       "       [9.99980092e-01, 1.99270999e-05, 5.97407594e-14],\n",
       "       [2.42076243e-08, 1.00000000e+00, 9.60594536e-23],\n",
       "       [3.82312247e-24, 1.00000000e+00, 0.00000000e+00],\n",
       "       [5.77137134e-13, 1.00000000e+00, 2.24610926e-24],\n",
       "       [9.99998808e-01, 2.97195243e-07, 9.83341920e-07],\n",
       "       [4.62802745e-06, 5.92700904e-03, 9.94068384e-01],\n",
       "       [1.00000000e+00, 9.68773672e-11, 3.44852735e-19],\n",
       "       [9.99983311e-01, 1.66666396e-05, 6.88913453e-15],\n",
       "       [9.95827973e-01, 4.17202525e-03, 1.20732058e-09],\n",
       "       [7.28335126e-09, 1.00000000e+00, 2.78675659e-17],\n",
       "       [1.39785847e-16, 7.36896167e-14, 1.00000000e+00],\n",
       "       [1.00000000e+00, 3.84595310e-18, 2.32745554e-31],\n",
       "       [1.00000000e+00, 5.69497556e-18, 2.70112027e-32],\n",
       "       [2.59810576e-11, 1.00000000e+00, 5.52038288e-21],\n",
       "       [1.98159378e-10, 1.48948649e-12, 1.00000000e+00],\n",
       "       [1.00000000e+00, 3.60053809e-09, 4.47162056e-12],\n",
       "       [1.89382455e-17, 1.26248350e-17, 1.00000000e+00],\n",
       "       [6.30107806e-08, 9.99999881e-01, 3.26933676e-19],\n",
       "       [6.21176141e-19, 1.00000000e+00, 1.83896487e-31],\n",
       "       [2.64822986e-09, 2.15605355e-16, 1.00000000e+00],\n",
       "       [1.78451277e-02, 9.82154846e-01, 1.45915811e-16],\n",
       "       [8.10240416e-12, 1.67134874e-13, 1.00000000e+00],\n",
       "       [3.15377291e-19, 1.69101565e-23, 1.00000000e+00],\n",
       "       [1.00000000e+00, 2.28708341e-09, 3.50114317e-12],\n",
       "       [2.03927979e-03, 9.97960687e-01, 7.22724725e-09],\n",
       "       [1.00000000e+00, 1.76018922e-09, 3.52899363e-08],\n",
       "       [8.59286126e-16, 1.00000000e+00, 1.09406198e-22],\n",
       "       [1.69871010e-11, 1.00000000e+00, 9.85632265e-29],\n",
       "       [1.00000000e+00, 3.98859044e-08, 1.03826588e-15],\n",
       "       [1.61738652e-16, 2.40660870e-17, 1.00000000e+00],\n",
       "       [2.38420225e-14, 1.00000000e+00, 2.81683817e-28],\n",
       "       [2.08897396e-12, 1.83328246e-18, 1.00000000e+00],\n",
       "       [9.99999642e-01, 3.68353511e-07, 6.45256895e-12],\n",
       "       [2.00200798e-08, 1.00000000e+00, 1.50667733e-18],\n",
       "       [9.99666214e-01, 3.33803444e-04, 1.70437879e-16],\n",
       "       [4.76654424e-17, 1.00000000e+00, 0.00000000e+00],\n",
       "       [5.71247786e-15, 1.00000000e+00, 4.10858779e-28],\n",
       "       [1.09768479e-10, 5.88771543e-17, 1.00000000e+00],\n",
       "       [9.99999523e-01, 4.65258466e-07, 2.80200485e-09],\n",
       "       [1.05607407e-14, 1.74256931e-19, 1.00000000e+00],\n",
       "       [3.97149414e-12, 1.00000000e+00, 3.56687954e-21],\n",
       "       [1.00000000e+00, 7.67060501e-15, 7.36335687e-25],\n",
       "       [9.99999881e-01, 1.73525322e-07, 3.63739495e-14],\n",
       "       [1.09451681e-15, 4.77909015e-24, 1.00000000e+00],\n",
       "       [9.15948903e-15, 1.00000000e+00, 2.23992010e-34],\n",
       "       [1.00000000e+00, 1.19125101e-13, 6.13873028e-21],\n",
       "       [1.11584881e-15, 1.00000000e+00, 8.49911729e-28],\n",
       "       [2.37114669e-04, 2.97739973e-07, 9.99762595e-01],\n",
       "       [1.00000000e+00, 4.72085659e-08, 3.02821849e-16],\n",
       "       [9.84633863e-01, 1.53660830e-02, 1.63905156e-08],\n",
       "       [4.90694953e-15, 1.26961057e-19, 1.00000000e+00],\n",
       "       [4.06563494e-09, 1.00000000e+00, 2.14490144e-12],\n",
       "       [1.51917767e-11, 3.25573173e-13, 1.00000000e+00],\n",
       "       [1.00000000e+00, 4.89652555e-11, 8.44749659e-28],\n",
       "       [8.61367286e-15, 1.20477926e-19, 1.00000000e+00],\n",
       "       [1.00000000e+00, 1.45370729e-11, 5.49116822e-21],\n",
       "       [9.53951418e-01, 4.60486300e-02, 7.56645857e-11],\n",
       "       [1.60850418e-13, 1.00000000e+00, 3.71245870e-24],\n",
       "       [6.52138111e-18, 1.00000000e+00, 6.61326521e-35],\n",
       "       [8.96069887e-15, 1.00000000e+00, 1.33557992e-34],\n",
       "       [1.69417049e-07, 9.99999881e-01, 1.29183271e-29],\n",
       "       [1.00000000e+00, 2.81239313e-28, 0.00000000e+00],\n",
       "       [8.99337351e-01, 1.00662641e-01, 2.00506256e-09],\n",
       "       [5.68657805e-13, 1.00000000e+00, 2.78814461e-13],\n",
       "       [1.47089135e-14, 3.96615836e-19, 1.00000000e+00],\n",
       "       [1.51302686e-11, 1.65573617e-15, 1.00000000e+00],\n",
       "       [1.00000000e+00, 7.24615908e-17, 1.24616222e-25],\n",
       "       [1.13420251e-17, 2.05227440e-22, 1.00000000e+00],\n",
       "       [9.98860359e-01, 1.13970775e-03, 2.07495091e-10],\n",
       "       [1.07224615e-07, 9.99999881e-01, 1.79330677e-21],\n",
       "       [4.41988535e-09, 1.00000000e+00, 2.23301195e-17],\n",
       "       [8.99417799e-18, 1.00000000e+00, 1.81846633e-27],\n",
       "       [3.88636551e-13, 1.00000000e+00, 2.53314253e-26],\n",
       "       [1.00000000e+00, 4.71512152e-13, 1.54902995e-24],\n",
       "       [9.99998569e-01, 1.43538671e-06, 6.56225144e-17],\n",
       "       [1.18693066e-09, 1.00000000e+00, 1.66612248e-13],\n",
       "       [5.86326143e-25, 1.41668807e-19, 1.00000000e+00],\n",
       "       [9.99996066e-01, 3.97998383e-06, 9.72937513e-16],\n",
       "       [1.00000000e+00, 3.80767912e-17, 3.57049342e-25],\n",
       "       [1.00000000e+00, 4.33120276e-11, 1.48029755e-10],\n",
       "       [1.01504481e-26, 1.00000000e+00, 5.96852931e-27],\n",
       "       [9.99999523e-01, 5.20818844e-07, 3.24706055e-13],\n",
       "       [2.05308766e-08, 1.00000000e+00, 1.02575275e-19],\n",
       "       [2.15945896e-02, 9.78405356e-01, 5.26106285e-13],\n",
       "       [5.81123951e-12, 1.87490433e-18, 1.00000000e+00],\n",
       "       [1.75290775e-14, 1.00000000e+00, 2.38441912e-34],\n",
       "       [2.77385837e-18, 1.00000000e+00, 1.89764427e-38],\n",
       "       [9.99798000e-01, 2.02006515e-04, 1.35723505e-17],\n",
       "       [2.38070038e-06, 9.99997616e-01, 1.48757349e-14],\n",
       "       [1.00000000e+00, 2.53254709e-12, 9.50632371e-22],\n",
       "       [2.51563756e-17, 4.24674811e-19, 1.00000000e+00],\n",
       "       [1.00000000e+00, 3.12082904e-17, 6.27094808e-27],\n",
       "       [6.97911918e-01, 3.02087814e-01, 3.21310637e-07],\n",
       "       [3.11656742e-11, 1.98206206e-18, 1.00000000e+00],\n",
       "       [2.72837200e-13, 1.00000000e+00, 1.19888763e-27],\n",
       "       [3.02595374e-17, 1.26112227e-23, 1.00000000e+00],\n",
       "       [2.15895993e-15, 2.42542240e-22, 1.00000000e+00],\n",
       "       [4.64631823e-16, 4.55951354e-22, 1.00000000e+00],\n",
       "       [1.00000000e+00, 6.35835446e-15, 1.90231914e-23],\n",
       "       [1.00000000e+00, 1.61480074e-08, 4.96897449e-24],\n",
       "       [2.17706797e-26, 1.00000000e+00, 0.00000000e+00],\n",
       "       [1.03468321e-01, 8.96530211e-01, 1.46703235e-06],\n",
       "       [1.79461379e-14, 1.00000000e+00, 1.94322276e-24],\n",
       "       [8.20336410e-10, 4.08984803e-16, 1.00000000e+00],\n",
       "       [1.00000000e+00, 1.01572888e-14, 9.86194658e-25],\n",
       "       [9.99904156e-01, 9.58252349e-05, 7.81545273e-10],\n",
       "       [7.32195256e-19, 3.99291350e-23, 1.00000000e+00],\n",
       "       [0.00000000e+00, 1.00000000e+00, 0.00000000e+00],\n",
       "       [1.00000000e+00, 9.62173769e-26, 0.00000000e+00],\n",
       "       [6.06361295e-10, 3.09922506e-17, 1.00000000e+00],\n",
       "       [5.92216486e-22, 1.00000000e+00, 6.13265747e-32],\n",
       "       [1.00000000e+00, 1.44492955e-16, 2.17242771e-21],\n",
       "       [1.00000000e+00, 2.09139780e-12, 2.59673502e-21],\n",
       "       [3.91263202e-11, 5.16324980e-17, 1.00000000e+00],\n",
       "       [9.99941587e-01, 5.83633482e-05, 7.84805665e-10],\n",
       "       [3.14500242e-01, 6.85498118e-01, 1.61502055e-06],\n",
       "       [1.75208206e-14, 1.00000000e+00, 4.87311133e-30],\n",
       "       [1.56860375e-11, 1.83908513e-15, 1.00000000e+00],\n",
       "       [5.08606682e-19, 1.69282368e-22, 1.00000000e+00],\n",
       "       [9.99928832e-01, 7.09242959e-05, 2.12457167e-07],\n",
       "       [9.97082531e-01, 2.91749882e-03, 8.12478765e-11],\n",
       "       [1.00000000e+00, 7.45157491e-10, 3.84886689e-14],\n",
       "       [1.60819654e-05, 7.71228503e-09, 9.99983907e-01],\n",
       "       [5.77178184e-07, 9.99999404e-01, 1.35176656e-18],\n",
       "       [1.00000000e+00, 2.03101775e-17, 2.47965436e-30],\n",
       "       [1.92559944e-11, 4.84072837e-10, 1.00000000e+00],\n",
       "       [1.00000000e+00, 2.77729944e-18, 3.24057402e-23],\n",
       "       [5.69667501e-24, 1.00000000e+00, 0.00000000e+00],\n",
       "       [2.53270263e-15, 2.14504486e-23, 1.00000000e+00],\n",
       "       [9.99980092e-01, 1.98674807e-05, 1.81774687e-16],\n",
       "       [1.00000000e+00, 5.76215475e-09, 1.91193217e-09],\n",
       "       [1.00000000e+00, 1.56728189e-11, 1.42189568e-20],\n",
       "       [9.98457432e-01, 1.54251116e-03, 1.74891106e-08],\n",
       "       [4.22742977e-13, 1.00000000e+00, 1.45926777e-20],\n",
       "       [2.55260026e-08, 2.88389592e-13, 1.00000000e+00],\n",
       "       [1.23138435e-12, 2.46643504e-17, 1.00000000e+00],\n",
       "       [7.56739357e-24, 1.00000000e+00, 0.00000000e+00],\n",
       "       [1.10661957e-09, 1.00000000e+00, 1.04755900e-23],\n",
       "       [1.00000000e+00, 1.42422102e-10, 1.26676758e-09],\n",
       "       [1.00000000e+00, 3.41276540e-13, 7.59213120e-20],\n",
       "       [9.99999523e-01, 4.37961972e-07, 7.17575860e-11],\n",
       "       [1.00000000e+00, 1.71362602e-09, 4.53444973e-22],\n",
       "       [3.58943615e-13, 1.00085641e-12, 1.00000000e+00],\n",
       "       [9.99996543e-01, 3.41147711e-06, 3.48876364e-13],\n",
       "       [4.30475767e-22, 1.00000000e+00, 0.00000000e+00],\n",
       "       [2.75595193e-16, 6.49941697e-21, 1.00000000e+00],\n",
       "       [1.00000000e+00, 3.97595942e-19, 1.25225680e-33],\n",
       "       [1.00000000e+00, 1.79483051e-09, 7.54474004e-16],\n",
       "       [9.99998808e-01, 1.16053104e-06, 7.94017689e-24],\n",
       "       [9.98821080e-01, 1.17889990e-03, 1.20222193e-10],\n",
       "       [4.83500742e-07, 2.85657965e-15, 9.99999523e-01],\n",
       "       [5.36351463e-10, 1.00000000e+00, 1.02897739e-13]], dtype=float32)"
      ]
     },
     "execution_count": 6,
     "metadata": {},
     "output_type": "execute_result"
    }
   ],
   "source": [
    "''' # order keeps changing everytime\n",
    "model.predict_generator(test_it, steps=len(test_it))'''"
   ]
  },
  {
   "cell_type": "code",
   "execution_count": 33,
   "metadata": {},
   "outputs": [
    {
     "ename": "TypeError",
     "evalue": "'DirectoryIterator' object is not callable",
     "output_type": "error",
     "traceback": [
      "\u001b[1;31m---------------------------------------------------------------------------\u001b[0m",
      "\u001b[1;31mTypeError\u001b[0m                                 Traceback (most recent call last)",
      "\u001b[1;32m<ipython-input-33-07cd9b832ff8>\u001b[0m in \u001b[0;36m<module>\u001b[1;34m\u001b[0m\n\u001b[1;32m----> 1\u001b[1;33m \u001b[0mmodel\u001b[0m\u001b[1;33m.\u001b[0m\u001b[0mpredict_generator\u001b[0m\u001b[1;33m(\u001b[0m\u001b[0mtest_it\u001b[0m\u001b[1;33m(\u001b[0m\u001b[0mshuffle\u001b[0m\u001b[1;33m=\u001b[0m\u001b[1;32mFalse\u001b[0m\u001b[1;33m)\u001b[0m\u001b[1;33m,\u001b[0m \u001b[0msteps\u001b[0m\u001b[1;33m=\u001b[0m\u001b[0mlen\u001b[0m\u001b[1;33m(\u001b[0m\u001b[0mtest_it\u001b[0m\u001b[1;33m)\u001b[0m\u001b[1;33m)\u001b[0m\u001b[1;33m\u001b[0m\u001b[1;33m\u001b[0m\u001b[0m\n\u001b[0m",
      "\u001b[1;31mTypeError\u001b[0m: 'DirectoryIterator' object is not callable"
     ]
    }
   ],
   "source": [
    "model.predict_generator(test_it(shuffle=False), steps=len(test_it))"
   ]
  },
  {
   "cell_type": "code",
   "execution_count": 34,
   "metadata": {},
   "outputs": [],
   "source": [
    "'''Y_pred = model.predict_generator(test_it, steps= len(test_it))  #num_of_test_samples // batch_size+1)'''"
   ]
  },
  {
   "cell_type": "code",
   "execution_count": 35,
   "metadata": {},
   "outputs": [
    {
     "data": {
      "text/plain": [
       "array([0, 1, 2, 0, 2, 2, 0, 0, 1, 0, 0, 2, 1, 0, 1, 0, 2, 2, 0, 1, 2, 1,\n",
       "       1, 0, 2, 1, 1, 1, 1, 0, 1, 0, 1, 1, 2, 2, 0, 0, 0, 1, 0, 0, 2, 0,\n",
       "       1, 1, 2, 0, 1, 1, 2, 0, 0, 2, 2, 0, 2, 0, 2, 2, 0, 2, 1, 2, 1, 2,\n",
       "       0, 0, 2, 0, 0, 1, 1, 0, 2, 2, 1, 2, 2, 1, 1, 1, 0, 1, 1, 0, 2, 1,\n",
       "       2, 0, 1, 2, 0, 0, 1, 1, 0, 2, 1, 2, 1, 1, 0, 2, 0, 0, 2, 0, 2, 2,\n",
       "       1, 2, 0, 0, 1, 2, 1, 1, 0, 0, 1, 0, 2, 1, 2, 1, 2, 1, 1, 0, 0, 1,\n",
       "       1, 2, 0, 0, 1, 2, 0, 0, 1, 1, 2, 2, 2, 0, 2, 0, 0, 0, 0, 2, 0, 1,\n",
       "       2, 0, 0, 1, 2, 0, 1, 1, 0, 2, 0, 1, 0, 2, 0, 0, 1, 0, 0, 2, 1, 0,\n",
       "       0, 0, 0, 2, 1, 0, 2, 2, 0, 1, 1, 0, 0, 0, 2, 2, 1, 2, 2, 0, 2, 0,\n",
       "       0, 1, 1, 2, 2, 0, 1, 0, 0, 1, 0, 1, 0, 1, 2, 1, 1, 1, 2, 0, 2, 2,\n",
       "       1, 2, 2, 1, 1, 2, 1, 2, 0, 0, 0, 0, 2, 0, 2, 2, 1, 1, 0, 1, 2, 1],\n",
       "      dtype=int64)"
      ]
     },
     "execution_count": 35,
     "metadata": {},
     "output_type": "execute_result"
    }
   ],
   "source": [
    "'''np.argmax(Y_pred, axis=1)'''  # np.argmax returns the index of the max. value in each row (axis=1)  "
   ]
  },
  {
   "cell_type": "code",
   "execution_count": 7,
   "metadata": {},
   "outputs": [
    {
     "data": {
      "text/plain": [
       "array([0, 2, 0, 0, 1, 1, 0, 2, 2, 0, 1, 0, 0, 1, 1, 0, 1, 2, 2, 2, 0, 0,\n",
       "       1, 1, 1, 2, 2, 2, 0, 2, 0, 1, 1, 0, 1, 1, 1, 1, 1, 2, 0, 0, 0, 1,\n",
       "       1, 0, 2, 0, 1, 2, 1, 1, 1, 2, 0, 0, 1, 1, 1, 1, 2, 2, 2, 2, 2, 1,\n",
       "       0, 0, 0, 0, 0, 0, 2, 1, 0, 0, 2, 0, 1, 1, 2, 1, 0, 2, 2, 2, 2, 1,\n",
       "       2, 0, 0, 0, 1, 2, 0, 2, 2, 1, 1, 2, 0, 0, 0, 0, 1, 0, 0, 2, 0, 2,\n",
       "       0, 2, 2, 0, 2, 0, 0, 1, 1, 1, 0, 2, 1, 1, 0, 0, 2, 1, 0, 1, 0, 1,\n",
       "       0, 0, 2, 0, 1, 0, 0, 1, 1, 1, 2, 1, 1, 1, 0, 2, 2, 2, 0, 1, 1, 0,\n",
       "       0, 0, 1, 2, 0, 0, 1, 2, 1, 0, 1, 0, 2, 0, 1, 0, 0, 2, 0, 2, 2, 0,\n",
       "       2, 0, 1, 1, 1, 2, 2, 2, 1, 0, 2, 2, 1, 1, 2, 0, 0, 1, 0, 2, 2, 2,\n",
       "       0, 0, 0, 2, 0, 2, 0, 2, 0, 1, 1, 0, 1, 1, 1, 1, 2, 1, 0, 2, 2, 1,\n",
       "       2, 0, 0, 1, 1, 2, 2, 0, 2, 0, 1, 0, 2, 2, 2, 2, 0, 0, 0, 0, 1, 2],\n",
       "      dtype=int64)"
      ]
     },
     "execution_count": 7,
     "metadata": {},
     "output_type": "execute_result"
    }
   ],
   "source": [
    "'''np.argmax(model.predict_generator(test_it, steps= len(test_it)), axis=1)'''"
   ]
  },
  {
   "cell_type": "code",
   "execution_count": 37,
   "metadata": {},
   "outputs": [
    {
     "data": {
      "text/plain": [
       "array([[1., 0., 0.],\n",
       "       [0., 1., 0.],\n",
       "       [0., 0., 1.],\n",
       "       [1., 0., 0.],\n",
       "       [0., 0., 1.],\n",
       "       [0., 0., 1.],\n",
       "       [1., 0., 0.],\n",
       "       [1., 0., 0.],\n",
       "       [0., 1., 0.],\n",
       "       [1., 0., 0.],\n",
       "       [1., 0., 0.],\n",
       "       [0., 0., 1.],\n",
       "       [0., 1., 0.],\n",
       "       [1., 0., 0.],\n",
       "       [0., 1., 0.],\n",
       "       [1., 0., 0.],\n",
       "       [0., 0., 1.],\n",
       "       [0., 0., 1.],\n",
       "       [1., 0., 0.],\n",
       "       [0., 1., 0.],\n",
       "       [0., 0., 1.],\n",
       "       [0., 1., 0.],\n",
       "       [0., 1., 0.],\n",
       "       [1., 0., 0.],\n",
       "       [0., 0., 1.],\n",
       "       [0., 1., 0.],\n",
       "       [0., 1., 0.],\n",
       "       [0., 1., 0.],\n",
       "       [0., 1., 0.],\n",
       "       [1., 0., 0.],\n",
       "       [0., 1., 0.],\n",
       "       [1., 0., 0.],\n",
       "       [0., 1., 0.],\n",
       "       [0., 1., 0.],\n",
       "       [0., 0., 1.],\n",
       "       [0., 0., 1.],\n",
       "       [1., 0., 0.],\n",
       "       [1., 0., 0.],\n",
       "       [1., 0., 0.],\n",
       "       [0., 1., 0.],\n",
       "       [1., 0., 0.],\n",
       "       [1., 0., 0.],\n",
       "       [0., 0., 1.],\n",
       "       [1., 0., 0.],\n",
       "       [0., 1., 0.],\n",
       "       [0., 1., 0.],\n",
       "       [0., 0., 1.],\n",
       "       [1., 0., 0.],\n",
       "       [0., 1., 0.],\n",
       "       [0., 1., 0.],\n",
       "       [0., 0., 1.],\n",
       "       [1., 0., 0.],\n",
       "       [1., 0., 0.],\n",
       "       [0., 0., 1.],\n",
       "       [0., 0., 1.],\n",
       "       [1., 0., 0.],\n",
       "       [0., 0., 1.],\n",
       "       [1., 0., 0.],\n",
       "       [0., 0., 1.],\n",
       "       [0., 0., 1.],\n",
       "       [1., 0., 0.],\n",
       "       [0., 0., 1.],\n",
       "       [0., 1., 0.],\n",
       "       [0., 0., 1.],\n",
       "       [0., 1., 0.],\n",
       "       [0., 0., 1.],\n",
       "       [1., 0., 0.],\n",
       "       [1., 0., 0.],\n",
       "       [0., 0., 1.],\n",
       "       [1., 0., 0.],\n",
       "       [1., 0., 0.],\n",
       "       [0., 1., 0.],\n",
       "       [0., 1., 0.],\n",
       "       [1., 0., 0.],\n",
       "       [0., 0., 1.],\n",
       "       [0., 0., 1.],\n",
       "       [0., 1., 0.],\n",
       "       [0., 0., 1.],\n",
       "       [0., 0., 1.],\n",
       "       [0., 1., 0.],\n",
       "       [0., 1., 0.],\n",
       "       [0., 1., 0.],\n",
       "       [1., 0., 0.],\n",
       "       [0., 1., 0.],\n",
       "       [0., 1., 0.],\n",
       "       [1., 0., 0.],\n",
       "       [0., 0., 1.],\n",
       "       [0., 1., 0.],\n",
       "       [0., 0., 1.],\n",
       "       [1., 0., 0.],\n",
       "       [0., 1., 0.],\n",
       "       [0., 0., 1.],\n",
       "       [1., 0., 0.],\n",
       "       [1., 0., 0.],\n",
       "       [0., 1., 0.],\n",
       "       [0., 1., 0.],\n",
       "       [1., 0., 0.],\n",
       "       [0., 0., 1.],\n",
       "       [0., 1., 0.],\n",
       "       [0., 0., 1.],\n",
       "       [0., 1., 0.],\n",
       "       [0., 1., 0.],\n",
       "       [1., 0., 0.],\n",
       "       [0., 0., 1.],\n",
       "       [1., 0., 0.],\n",
       "       [1., 0., 0.],\n",
       "       [0., 0., 1.],\n",
       "       [1., 0., 0.],\n",
       "       [0., 0., 1.],\n",
       "       [0., 0., 1.],\n",
       "       [0., 1., 0.],\n",
       "       [0., 0., 1.],\n",
       "       [1., 0., 0.],\n",
       "       [1., 0., 0.],\n",
       "       [0., 1., 0.],\n",
       "       [0., 0., 1.],\n",
       "       [0., 1., 0.],\n",
       "       [0., 1., 0.],\n",
       "       [1., 0., 0.],\n",
       "       [1., 0., 0.],\n",
       "       [0., 1., 0.],\n",
       "       [1., 0., 0.],\n",
       "       [0., 0., 1.],\n",
       "       [0., 1., 0.],\n",
       "       [0., 0., 1.],\n",
       "       [0., 1., 0.],\n",
       "       [0., 0., 1.],\n",
       "       [0., 1., 0.],\n",
       "       [0., 1., 0.],\n",
       "       [1., 0., 0.],\n",
       "       [1., 0., 0.],\n",
       "       [0., 1., 0.],\n",
       "       [0., 1., 0.],\n",
       "       [0., 0., 1.],\n",
       "       [1., 0., 0.],\n",
       "       [1., 0., 0.],\n",
       "       [0., 1., 0.],\n",
       "       [0., 0., 1.],\n",
       "       [1., 0., 0.],\n",
       "       [1., 0., 0.],\n",
       "       [0., 1., 0.],\n",
       "       [0., 1., 0.],\n",
       "       [0., 0., 1.],\n",
       "       [0., 0., 1.],\n",
       "       [0., 0., 1.],\n",
       "       [1., 0., 0.],\n",
       "       [0., 0., 1.],\n",
       "       [1., 0., 0.],\n",
       "       [1., 0., 0.],\n",
       "       [1., 0., 0.],\n",
       "       [1., 0., 0.],\n",
       "       [0., 0., 1.],\n",
       "       [1., 0., 0.],\n",
       "       [0., 1., 0.],\n",
       "       [0., 0., 1.],\n",
       "       [1., 0., 0.],\n",
       "       [1., 0., 0.],\n",
       "       [0., 1., 0.],\n",
       "       [0., 0., 1.],\n",
       "       [1., 0., 0.],\n",
       "       [0., 1., 0.],\n",
       "       [0., 1., 0.],\n",
       "       [1., 0., 0.],\n",
       "       [0., 0., 1.],\n",
       "       [1., 0., 0.],\n",
       "       [0., 1., 0.],\n",
       "       [1., 0., 0.],\n",
       "       [0., 0., 1.],\n",
       "       [1., 0., 0.],\n",
       "       [1., 0., 0.],\n",
       "       [0., 1., 0.],\n",
       "       [1., 0., 0.],\n",
       "       [1., 0., 0.],\n",
       "       [0., 0., 1.],\n",
       "       [0., 1., 0.],\n",
       "       [1., 0., 0.],\n",
       "       [1., 0., 0.],\n",
       "       [1., 0., 0.],\n",
       "       [1., 0., 0.],\n",
       "       [0., 0., 1.],\n",
       "       [0., 1., 0.],\n",
       "       [1., 0., 0.],\n",
       "       [0., 0., 1.],\n",
       "       [0., 0., 1.],\n",
       "       [1., 0., 0.],\n",
       "       [0., 1., 0.],\n",
       "       [0., 1., 0.],\n",
       "       [1., 0., 0.],\n",
       "       [1., 0., 0.],\n",
       "       [1., 0., 0.],\n",
       "       [0., 0., 1.],\n",
       "       [0., 0., 1.],\n",
       "       [0., 1., 0.],\n",
       "       [0., 0., 1.],\n",
       "       [0., 0., 1.],\n",
       "       [1., 0., 0.],\n",
       "       [0., 0., 1.],\n",
       "       [1., 0., 0.],\n",
       "       [1., 0., 0.],\n",
       "       [0., 1., 0.],\n",
       "       [0., 1., 0.],\n",
       "       [0., 0., 1.],\n",
       "       [0., 0., 1.],\n",
       "       [1., 0., 0.],\n",
       "       [0., 1., 0.],\n",
       "       [1., 0., 0.],\n",
       "       [1., 0., 0.],\n",
       "       [0., 1., 0.],\n",
       "       [1., 0., 0.],\n",
       "       [0., 1., 0.],\n",
       "       [1., 0., 0.],\n",
       "       [0., 1., 0.],\n",
       "       [0., 0., 1.],\n",
       "       [0., 1., 0.],\n",
       "       [0., 1., 0.],\n",
       "       [0., 1., 0.],\n",
       "       [0., 0., 1.],\n",
       "       [1., 0., 0.],\n",
       "       [0., 0., 1.],\n",
       "       [0., 0., 1.],\n",
       "       [0., 1., 0.],\n",
       "       [0., 0., 1.],\n",
       "       [0., 0., 1.],\n",
       "       [0., 1., 0.],\n",
       "       [0., 1., 0.],\n",
       "       [0., 0., 1.],\n",
       "       [0., 1., 0.],\n",
       "       [0., 0., 1.],\n",
       "       [1., 0., 0.],\n",
       "       [1., 0., 0.],\n",
       "       [1., 0., 0.],\n",
       "       [1., 0., 0.],\n",
       "       [0., 0., 1.],\n",
       "       [1., 0., 0.],\n",
       "       [0., 0., 1.],\n",
       "       [0., 0., 1.],\n",
       "       [0., 1., 0.],\n",
       "       [0., 1., 0.],\n",
       "       [1., 0., 0.],\n",
       "       [0., 1., 0.],\n",
       "       [0., 0., 1.],\n",
       "       [0., 1., 0.]], dtype=float32)"
      ]
     },
     "execution_count": 37,
     "metadata": {},
     "output_type": "execute_result"
    }
   ],
   "source": [
    "'''np.rint(Y_pred)'''"
   ]
  },
  {
   "cell_type": "code",
   "execution_count": 38,
   "metadata": {},
   "outputs": [],
   "source": [
    "'''y_pred = np.argmax(Y_pred, axis=1)'''"
   ]
  },
  {
   "cell_type": "code",
   "execution_count": 44,
   "metadata": {},
   "outputs": [
    {
     "name": "stdout",
     "output_type": "stream",
     "text": [
      "[[31 30 28]\n",
      " [31 25 23]\n",
      " [28 23 23]]\n"
     ]
    }
   ],
   "source": [
    "'''print(confusion_matrix(test_it.classes, y_pred))'''"
   ]
  },
  {
   "cell_type": "code",
   "execution_count": 46,
   "metadata": {},
   "outputs": [
    {
     "name": "stdout",
     "output_type": "stream",
     "text": [
      "              precision    recall  f1-score   support\n",
      "\n",
      "  Acantharea       0.34      0.35      0.35        89\n",
      "     Copilia       0.32      0.32      0.32        79\n",
      "      cypris       0.31      0.31      0.31        74\n",
      "\n",
      "    accuracy                           0.33       242\n",
      "   macro avg       0.33      0.33      0.33       242\n",
      "weighted avg       0.33      0.33      0.33       242\n",
      "\n"
     ]
    }
   ],
   "source": [
    "'''target_names = ['Acantharea', 'Copilia', 'cypris']\n",
    "\n",
    "print(classification_report(test_it.classes, y_pred, target_names=target_names))'''"
   ]
  },
  {
   "cell_type": "code",
   "execution_count": 12,
   "metadata": {},
   "outputs": [],
   "source": [
    "'''test_it.reset()'''"
   ]
  },
  {
   "cell_type": "code",
   "execution_count": 13,
   "metadata": {},
   "outputs": [
    {
     "name": "stderr",
     "output_type": "stream",
     "text": [
      "C:\\Users\\DAR9KOR\\AppData\\Local\\Continuum\\anaconda3\\envs\\deep_learn\\lib\\site-packages\\keras_preprocessing\\image\\image_data_generator.py:716: UserWarning: This ImageDataGenerator specifies `featurewise_center`, but it hasn't been fit on any training data. Fit it first by calling `.fit(numpy_data)`.\n",
      "  warnings.warn('This ImageDataGenerator specifies '\n"
     ]
    },
    {
     "data": {
      "text/plain": [
       "array([[9.99996066e-01, 3.97998383e-06, 9.72937513e-16],\n",
       "       [1.00000000e+00, 1.42422102e-10, 1.26676758e-09],\n",
       "       [2.38070038e-06, 9.99997616e-01, 1.48757349e-14],\n",
       "       [4.22742977e-13, 1.00000000e+00, 1.45926777e-20],\n",
       "       [1.00000000e+00, 8.71219221e-13, 6.30795230e-17],\n",
       "       [2.27536241e-12, 1.65330000e-15, 1.00000000e+00],\n",
       "       [3.88636551e-13, 1.00000000e+00, 2.53314253e-26],\n",
       "       [9.99998808e-01, 1.16053104e-06, 7.94017689e-24],\n",
       "       [7.32195256e-19, 3.99291350e-23, 1.00000000e+00],\n",
       "       [6.44243731e-16, 1.00000000e+00, 6.86212225e-32],\n",
       "       [9.99901175e-01, 9.88272586e-05, 5.00837241e-15],\n",
       "       [1.39785847e-16, 7.36896167e-14, 1.00000000e+00],\n",
       "       [3.11605911e-13, 9.36138828e-18, 1.00000000e+00],\n",
       "       [1.27842455e-07, 8.06809385e-15, 9.99999881e-01],\n",
       "       [9.99998569e-01, 1.43538671e-06, 6.56225144e-17],\n",
       "       [1.00000000e+00, 1.71362602e-09, 4.53444973e-22],\n",
       "       [9.98821080e-01, 1.17889990e-03, 1.20222193e-10],\n",
       "       [2.15945896e-02, 9.78405356e-01, 5.26106285e-13],\n",
       "       [1.69871010e-11, 1.00000000e+00, 9.85632265e-29],\n",
       "       [9.99999404e-01, 6.30322404e-07, 2.96259728e-08],\n",
       "       [1.00000000e+00, 2.28708341e-09, 3.50114317e-12],\n",
       "       [9.99996543e-01, 3.41147711e-06, 3.48876364e-13],\n",
       "       [9.99999881e-01, 7.04544121e-08, 2.60914268e-09],\n",
       "       [9.99980092e-01, 1.99270999e-05, 5.97407594e-14],\n",
       "       [1.51140824e-08, 1.00000000e+00, 3.43380518e-23],\n",
       "       [1.51917767e-11, 3.25573173e-13, 1.00000000e+00],\n",
       "       [1.00000000e+00, 1.44492955e-16, 2.17242771e-21],\n",
       "       [2.15500833e-07, 9.99999762e-01, 2.13256876e-16],\n",
       "       [1.00000000e+00, 9.62173769e-26, 0.00000000e+00],\n",
       "       [1.00000000e+00, 1.76018922e-09, 3.52899363e-08],\n",
       "       [1.00000000e+00, 1.19125101e-13, 6.13873028e-21],\n",
       "       [5.69667501e-24, 1.00000000e+00, 0.00000000e+00],\n",
       "       [1.00000000e+00, 7.24615908e-17, 1.24616222e-25],\n",
       "       [9.99904156e-01, 9.58252349e-05, 7.81545273e-10],\n",
       "       [1.42123699e-05, 9.99985814e-01, 4.26340560e-12],\n",
       "       [1.09451681e-15, 4.77909015e-24, 1.00000000e+00],\n",
       "       [1.33610722e-08, 1.03493289e-14, 1.00000000e+00],\n",
       "       [9.99999881e-01, 1.73525322e-07, 3.63739495e-14],\n",
       "       [3.02595374e-17, 1.26112227e-23, 1.00000000e+00],\n",
       "       [1.00000000e+00, 4.89652555e-11, 8.44749659e-28],\n",
       "       [4.76654424e-17, 1.00000000e+00, 0.00000000e+00],\n",
       "       [1.00000000e+00, 8.32209937e-17, 1.00774130e-26],\n",
       "       [6.72729675e-06, 1.58161590e-08, 9.99993205e-01],\n",
       "       [1.00000000e+00, 1.55250252e-24, 1.58430576e-33],\n",
       "       [1.92559944e-11, 4.84072837e-10, 1.00000000e+00],\n",
       "       [2.66587635e-24, 1.00000000e+00, 0.00000000e+00],\n",
       "       [3.86212645e-10, 2.61053860e-15, 1.00000000e+00],\n",
       "       [2.12601172e-26, 1.18113602e-31, 1.00000000e+00],\n",
       "       [5.05542108e-10, 1.00000000e+00, 1.87082100e-22],\n",
       "       [2.03927979e-03, 9.97960687e-01, 7.22724725e-09],\n",
       "       [5.86326143e-25, 1.41668807e-19, 1.00000000e+00],\n",
       "       [8.99417799e-18, 1.00000000e+00, 1.81846633e-27],\n",
       "       [9.99980092e-01, 1.98674807e-05, 1.81774687e-16],\n",
       "       [1.51302686e-11, 1.65573617e-15, 1.00000000e+00],\n",
       "       [9.75133307e-09, 1.00000000e+00, 1.86607976e-16],\n",
       "       [1.89269642e-11, 1.40046839e-16, 1.00000000e+00],\n",
       "       [1.00000000e+00, 3.16412390e-08, 3.56105621e-16],\n",
       "       [1.00000000e+00, 2.53254709e-12, 9.50632371e-22],\n",
       "       [1.01504481e-26, 1.00000000e+00, 5.96852931e-27],\n",
       "       [1.69417049e-07, 9.99999881e-01, 1.29183271e-29],\n",
       "       [9.67277148e-13, 9.09495754e-18, 1.00000000e+00],\n",
       "       [1.23138435e-12, 2.46643504e-17, 1.00000000e+00],\n",
       "       [1.00000000e+00, 3.20476266e-16, 1.41955697e-24],\n",
       "       [8.30431694e-15, 1.00000000e+00, 2.47080073e-35],\n",
       "       [1.20205454e-08, 5.09271228e-13, 1.00000000e+00],\n",
       "       [1.05607407e-14, 1.74256931e-19, 1.00000000e+00],\n",
       "       [7.73064628e-23, 1.11259574e-25, 1.00000000e+00],\n",
       "       [2.75595193e-16, 6.49941697e-21, 1.00000000e+00],\n",
       "       [1.00000000e+00, 4.17813961e-09, 5.88271949e-21],\n",
       "       [9.99977708e-01, 2.21102873e-05, 1.95168568e-07],\n",
       "       [8.96069887e-15, 1.00000000e+00, 1.33557992e-34],\n",
       "       [1.00000000e+00, 3.98859044e-08, 1.03826588e-15],\n",
       "       [1.78451277e-02, 9.82154846e-01, 1.45915811e-16],\n",
       "       [1.75290775e-14, 1.00000000e+00, 2.38441912e-34],\n",
       "       [9.52082024e-11, 1.00000000e+00, 2.97682688e-16],\n",
       "       [5.32541670e-19, 5.06370438e-20, 1.00000000e+00],\n",
       "       [1.83689835e-14, 1.95316599e-17, 1.00000000e+00],\n",
       "       [0.00000000e+00, 1.00000000e+00, 0.00000000e+00],\n",
       "       [5.36352462e-10, 1.00000000e+00, 1.02897542e-13],\n",
       "       [6.10617437e-28, 1.00000000e+00, 0.00000000e+00],\n",
       "       [1.09768479e-10, 5.88771543e-17, 1.00000000e+00],\n",
       "       [9.99813259e-01, 1.86364065e-04, 3.61153326e-07],\n",
       "       [1.10661957e-09, 1.00000000e+00, 1.04755900e-23],\n",
       "       [2.17706797e-26, 1.00000000e+00, 0.00000000e+00],\n",
       "       [3.15085890e-06, 9.99996901e-01, 3.70812409e-12],\n",
       "       [1.00000000e+00, 1.01572888e-14, 9.86194658e-25],\n",
       "       [6.97911918e-01, 3.02087814e-01, 3.21310637e-07],\n",
       "       [5.68657805e-13, 1.00000000e+00, 2.78814461e-13],\n",
       "       [1.00000000e+00, 1.61480074e-08, 4.96897449e-24],\n",
       "       [9.99999881e-01, 8.82788314e-08, 6.43754098e-18],\n",
       "       [2.15895993e-15, 2.42542240e-22, 1.00000000e+00],\n",
       "       [4.62802745e-06, 5.92700904e-03, 9.94068384e-01],\n",
       "       [3.91263202e-11, 5.16324980e-17, 1.00000000e+00],\n",
       "       [1.00000000e+00, 2.03101775e-17, 2.47965436e-30],\n",
       "       [5.81123951e-12, 1.87490433e-18, 1.00000000e+00],\n",
       "       [4.83503072e-07, 2.85659045e-15, 9.99999523e-01],\n",
       "       [9.99999642e-01, 3.68353511e-07, 6.45256895e-12],\n",
       "       [9.99999881e-01, 1.39273624e-07, 3.27628119e-10],\n",
       "       [2.43187287e-20, 5.62953912e-22, 1.00000000e+00],\n",
       "       [9.99999881e-01, 8.91645371e-08, 7.04988233e-14],\n",
       "       [8.59286126e-16, 1.00000000e+00, 1.09406198e-22],\n",
       "       [5.77178184e-07, 9.99999404e-01, 1.35176656e-18],\n",
       "       [9.99999523e-01, 5.20818844e-07, 3.24706055e-13],\n",
       "       [3.54983865e-09, 8.28846540e-14, 1.00000000e+00],\n",
       "       [1.00000000e+00, 7.15658505e-11, 4.28597665e-16],\n",
       "       [9.98860359e-01, 1.13970775e-03, 2.07495091e-10],\n",
       "       [2.64822986e-09, 2.15605355e-16, 1.00000000e+00],\n",
       "       [1.00000000e+00, 3.03688009e-18, 8.72975294e-29],\n",
       "       [2.37114669e-04, 2.97739973e-07, 9.99762595e-01],\n",
       "       [9.96110857e-01, 3.88916605e-03, 3.17502966e-08],\n",
       "       [5.71247786e-15, 1.00000000e+00, 4.10858779e-28],\n",
       "       [1.89382455e-17, 1.26248350e-17, 1.00000000e+00],\n",
       "       [1.04170939e-15, 3.54530405e-17, 1.00000000e+00],\n",
       "       [4.64631823e-16, 4.55951354e-22, 1.00000000e+00],\n",
       "       [1.00000000e+00, 3.97595942e-19, 1.25225680e-33],\n",
       "       [1.18693066e-09, 1.00000000e+00, 1.66612248e-13],\n",
       "       [5.77137134e-13, 1.00000000e+00, 2.24610926e-24],\n",
       "       [1.00000000e+00, 5.69497556e-18, 2.70112027e-32],\n",
       "       [4.90694953e-15, 1.26961057e-19, 1.00000000e+00],\n",
       "       [1.10358116e-07, 9.99999881e-01, 5.34530888e-16],\n",
       "       [1.00000000e+00, 4.33120276e-11, 1.48029755e-10],\n",
       "       [3.57918749e-21, 3.23972694e-27, 1.00000000e+00],\n",
       "       [9.97668803e-01, 2.33111554e-03, 4.67351262e-11],\n",
       "       [9.97082531e-01, 2.91749882e-03, 8.12478765e-11],\n",
       "       [7.28335126e-09, 1.00000000e+00, 2.78675659e-17],\n",
       "       [1.00000000e+00, 2.81239313e-28, 0.00000000e+00],\n",
       "       [9.99999166e-01, 8.13641066e-07, 2.52229212e-19],\n",
       "       [5.05914646e-13, 1.00000000e+00, 4.08019156e-21],\n",
       "       [1.40312708e-22, 1.38214039e-26, 1.00000000e+00],\n",
       "       [1.79461379e-14, 1.00000000e+00, 1.94322276e-24],\n",
       "       [7.62677267e-17, 1.77702565e-20, 1.00000000e+00],\n",
       "       [2.55260026e-08, 2.88389592e-13, 1.00000000e+00],\n",
       "       [1.98159378e-10, 1.48948649e-12, 1.00000000e+00],\n",
       "       [1.44515774e-13, 1.00000000e+00, 4.12005115e-25],\n",
       "       [5.08606682e-19, 1.69282368e-22, 1.00000000e+00],\n",
       "       [1.00000000e+00, 1.40799211e-27, 1.61520499e-37],\n",
       "       [1.47089135e-14, 3.96615836e-19, 1.00000000e+00],\n",
       "       [3.15377291e-19, 1.69101565e-23, 1.00000000e+00],\n",
       "       [1.13420251e-17, 2.05227440e-22, 1.00000000e+00],\n",
       "       [3.82312247e-24, 1.00000000e+00, 0.00000000e+00],\n",
       "       [1.00000000e+00, 3.80767912e-17, 3.57049342e-25],\n",
       "       [1.94305822e-18, 5.88632181e-25, 1.00000000e+00],\n",
       "       [8.10240416e-12, 1.67134874e-13, 1.00000000e+00],\n",
       "       [1.00000000e+00, 3.41276540e-13, 7.59213120e-20],\n",
       "       [2.14827696e-06, 9.99997854e-01, 2.93660863e-18],\n",
       "       [1.00000000e+00, 1.13960110e-26, 6.36131568e-37],\n",
       "       [9.15948903e-15, 1.00000000e+00, 2.23992010e-34],\n",
       "       [9.99999523e-01, 4.64735194e-07, 4.53297644e-15],\n",
       "       [4.52918681e-14, 1.00000000e+00, 2.99111167e-24],\n",
       "       [3.14500242e-01, 6.85498118e-01, 1.61502055e-06],\n",
       "       [2.38420225e-14, 1.00000000e+00, 2.81683817e-28],\n",
       "       [9.99996901e-01, 3.12230736e-06, 8.06683770e-15],\n",
       "       [1.76553673e-15, 2.62493558e-17, 1.00000000e+00],\n",
       "       [1.00000000e+00, 1.56728189e-11, 1.42189568e-20],\n",
       "       [1.00000000e+00, 7.67060501e-15, 7.36335687e-25],\n",
       "       [6.85614169e-01, 3.14385831e-01, 1.57903326e-08],\n",
       "       [6.06361295e-10, 3.09922506e-17, 1.00000000e+00],\n",
       "       [5.92216486e-22, 1.00000000e+00, 6.13265747e-32],\n",
       "       [2.59810576e-11, 1.00000000e+00, 5.52038288e-21],\n",
       "       [2.00200798e-08, 1.00000000e+00, 1.50667733e-18],\n",
       "       [4.06563494e-09, 1.00000000e+00, 2.14490144e-12],\n",
       "       [4.77238110e-11, 1.00000000e+00, 2.02289025e-18],\n",
       "       [8.20336410e-10, 4.08984803e-16, 1.00000000e+00],\n",
       "       [1.00000000e+00, 2.77729944e-18, 3.24057402e-23],\n",
       "       [4.60020040e-08, 1.00000000e+00, 5.71938111e-18],\n",
       "       [7.39466177e-09, 3.11013452e-16, 1.00000000e+00],\n",
       "       [9.99999523e-01, 4.65258466e-07, 2.80200485e-09],\n",
       "       [9.95827973e-01, 4.17202525e-03, 1.20732058e-09],\n",
       "       [1.00000000e+00, 5.76215475e-09, 1.91193217e-09],\n",
       "       [4.36661765e-03, 9.95633423e-01, 1.67846643e-08],\n",
       "       [2.77385837e-18, 1.00000000e+00, 1.89764427e-38],\n",
       "       [4.31948223e-21, 3.21680736e-28, 1.00000000e+00],\n",
       "       [6.30107806e-08, 9.99999881e-01, 3.26933676e-19],\n",
       "       [2.53270263e-15, 2.14504486e-23, 1.00000000e+00],\n",
       "       [1.00000000e+00, 6.69994442e-12, 7.51258357e-21],\n",
       "       [1.00000000e+00, 1.79483051e-09, 7.54474004e-16],\n",
       "       [1.75208206e-14, 1.00000000e+00, 4.87311133e-30],\n",
       "       [1.07224615e-07, 9.99999881e-01, 1.79330677e-21],\n",
       "       [3.58943615e-13, 1.00085641e-12, 1.00000000e+00],\n",
       "       [2.02384012e-10, 1.15685236e-14, 1.00000000e+00],\n",
       "       [2.08897396e-12, 1.83328246e-18, 1.00000000e+00],\n",
       "       [1.60850418e-13, 1.00000000e+00, 3.71245870e-24],\n",
       "       [9.95164037e-01, 4.83593903e-03, 3.76872769e-11],\n",
       "       [2.05308766e-08, 1.00000000e+00, 1.02575275e-19],\n",
       "       [2.51563756e-17, 4.24674811e-19, 1.00000000e+00],\n",
       "       [3.20052739e-21, 1.00000000e+00, 4.01172947e-35],\n",
       "       [3.39759071e-03, 9.96602416e-01, 2.51254907e-16],\n",
       "       [9.74950565e-10, 9.68832792e-11, 1.00000000e+00],\n",
       "       [1.11578549e-14, 1.00000000e+00, 8.04838001e-25],\n",
       "       [8.99337351e-01, 1.00662641e-01, 2.00506256e-09],\n",
       "       [9.99941587e-01, 5.83633482e-05, 7.84805665e-10],\n",
       "       [1.00000000e+00, 3.84595310e-18, 2.32745554e-31],\n",
       "       [5.32204947e-10, 1.00000000e+00, 2.55551246e-20],\n",
       "       [8.61367286e-15, 1.20477926e-19, 1.00000000e+00],\n",
       "       [5.51362678e-10, 1.20394155e-14, 1.00000000e+00],\n",
       "       [3.93404466e-13, 1.00000000e+00, 2.28303237e-22],\n",
       "       [1.00000000e+00, 4.72085659e-08, 3.02821849e-16],\n",
       "       [1.00000000e+00, 1.45370729e-11, 5.49116822e-21],\n",
       "       [1.00000000e+00, 4.71512152e-13, 1.54902995e-24],\n",
       "       [1.00000000e+00, 9.68773672e-11, 3.44852735e-19],\n",
       "       [2.72837200e-13, 1.00000000e+00, 1.19888763e-27],\n",
       "       [1.00000000e+00, 2.09139780e-12, 2.59673502e-21],\n",
       "       [1.00000000e+00, 8.88141991e-12, 7.66875010e-18],\n",
       "       [3.47815887e-09, 1.00000000e+00, 1.40135330e-19],\n",
       "       [4.59469666e-05, 6.46923127e-07, 9.99953389e-01],\n",
       "       [2.42076243e-08, 1.00000000e+00, 9.60594536e-23],\n",
       "       [6.21176141e-19, 1.00000000e+00, 1.83896487e-31],\n",
       "       [9.99993920e-01, 6.12288295e-06, 9.95762028e-10],\n",
       "       [1.00000000e+00, 3.60053809e-09, 4.47162056e-12],\n",
       "       [9.99999523e-01, 4.37961972e-07, 7.17575860e-11],\n",
       "       [9.53951418e-01, 4.60486300e-02, 7.56645857e-11],\n",
       "       [1.90937044e-09, 8.94018800e-13, 1.00000000e+00],\n",
       "       [9.99666214e-01, 3.33803444e-04, 1.70437879e-16],\n",
       "       [9.98457432e-01, 1.54251116e-03, 1.74891106e-08],\n",
       "       [1.00000000e+00, 3.12082904e-17, 6.27094808e-27],\n",
       "       [1.00000000e+00, 6.35835446e-15, 1.90231914e-23],\n",
       "       [6.62128408e-15, 9.74383703e-21, 1.00000000e+00],\n",
       "       [1.20269940e-11, 1.00000000e+00, 9.78384886e-19],\n",
       "       [1.00000000e+00, 7.45157491e-10, 3.84886689e-14],\n",
       "       [9.99928832e-01, 7.09242959e-05, 2.12457167e-07],\n",
       "       [1.11584881e-15, 1.00000000e+00, 8.49911729e-28],\n",
       "       [1.56860375e-11, 1.83908513e-15, 1.00000000e+00],\n",
       "       [1.61738652e-16, 2.40660870e-17, 1.00000000e+00],\n",
       "       [6.52138111e-18, 1.00000000e+00, 6.61326521e-35],\n",
       "       [3.97149414e-12, 1.00000000e+00, 3.56687954e-21],\n",
       "       [2.95724178e-19, 2.53765213e-24, 1.00000000e+00],\n",
       "       [4.30475767e-22, 1.00000000e+00, 0.00000000e+00],\n",
       "       [7.75872682e-12, 5.78334085e-16, 1.00000000e+00],\n",
       "       [9.99983311e-01, 1.66666396e-05, 6.88913453e-15],\n",
       "       [7.56739357e-24, 1.00000000e+00, 0.00000000e+00],\n",
       "       [9.84633863e-01, 1.53660830e-02, 1.63905156e-08],\n",
       "       [4.39627345e-14, 5.43534508e-18, 1.00000000e+00],\n",
       "       [1.03468321e-01, 8.96530211e-01, 1.46703235e-06],\n",
       "       [3.11656742e-11, 1.98206206e-18, 1.00000000e+00],\n",
       "       [4.84909223e-17, 2.86669939e-23, 1.00000000e+00],\n",
       "       [4.41988535e-09, 1.00000000e+00, 2.23301195e-17],\n",
       "       [1.60819654e-05, 7.71228503e-09, 9.99983907e-01],\n",
       "       [7.70392539e-13, 1.00000000e+00, 8.54495667e-20],\n",
       "       [9.99798000e-01, 2.02006515e-04, 1.35723505e-17],\n",
       "       [3.15977502e-08, 1.01127846e-07, 9.99999881e-01],\n",
       "       [9.99998808e-01, 2.97195243e-07, 9.83341920e-07],\n",
       "       [1.72300906e-06, 9.99998331e-01, 3.89608315e-16]], dtype=float32)"
      ]
     },
     "execution_count": 13,
     "metadata": {},
     "output_type": "execute_result"
    }
   ],
   "source": [
    "'''model.predict_generator(test_it, steps=len(test_it))'''"
   ]
  },
  {
   "cell_type": "code",
   "execution_count": 14,
   "metadata": {},
   "outputs": [
    {
     "data": {
      "text/plain": [
       "array([2, 2, 2, 2, 2, 2, 1, 2, 0, 1, 0, 1, 0, 0, 0, 2, 1, 0, 1, 0, 1, 2,\n",
       "       1, 0, 2, 1, 0, 2, 0, 0, 0, 0, 2, 2, 1, 1, 0, 2, 2, 1, 0, 0, 2, 1,\n",
       "       1, 0, 2, 1, 1, 0, 1, 1, 1, 2, 2, 1, 1, 2, 1, 2, 2, 0, 0, 1, 0, 1,\n",
       "       1, 1, 0, 0, 1, 2, 2, 2, 1, 0, 1, 1, 2, 1, 1, 1, 2, 0, 1, 1, 2, 0,\n",
       "       2, 2, 1, 0, 0, 0, 1, 0, 1, 2, 0, 1, 2, 0, 0, 1, 1, 2, 1, 1, 2, 0,\n",
       "       2, 1, 1, 0, 2, 1, 2, 1, 0, 1, 0, 0, 1, 2, 1, 2, 0, 2, 2, 0, 0, 0,\n",
       "       2, 0, 1, 2, 0, 0, 1, 0, 0, 1, 0, 0, 1, 2, 0, 1, 0, 0, 0, 1, 1, 2,\n",
       "       0, 0, 2, 0, 0, 2, 2, 2, 1, 2, 0, 1, 1, 1, 0, 2, 1, 1, 2, 1, 1, 2,\n",
       "       0, 0, 1, 0, 2, 0, 2, 2, 0, 2, 0, 0, 0, 1, 0, 2, 0, 2, 2, 2, 0, 0,\n",
       "       2, 1, 0, 0, 2, 0, 0, 0, 1, 2, 0, 1, 2, 0, 0, 0, 2, 1, 1, 0, 2, 1,\n",
       "       1, 2, 0, 1, 2, 1, 2, 2, 1, 0, 1, 2, 1, 2, 0, 1, 1, 0, 1, 0, 0, 1],\n",
       "      dtype=int64)"
      ]
     },
     "execution_count": 14,
     "metadata": {},
     "output_type": "execute_result"
    }
   ],
   "source": [
    "'''np.argmax(model.predict_generator(test_it, steps= len(test_it)), axis=1)'''"
   ]
  },
  {
   "cell_type": "code",
   "execution_count": 15,
   "metadata": {},
   "outputs": [
    {
     "data": {
      "text/plain": [
       "array([2, 2, 0, 0, 2, 0, 0, 1, 0, 0, 0, 2, 1, 0, 0, 2, 0, 0, 2, 0, 0, 2,\n",
       "       2, 2, 2, 1, 2, 1, 0, 0, 2, 0, 1, 1, 1, 0, 2, 2, 1, 0, 0, 2, 2, 2,\n",
       "       2, 2, 2, 1, 1, 0, 2, 2, 2, 1, 0, 0, 2, 2, 1, 1, 0, 1, 2, 2, 0, 1,\n",
       "       2, 0, 0, 1, 1, 2, 1, 0, 1, 1, 1, 1, 2, 2, 1, 0, 1, 0, 2, 0, 2, 1,\n",
       "       1, 2, 0, 1, 1, 2, 0, 0, 0, 2, 0, 2, 2, 1, 0, 2, 2, 1, 0, 1, 2, 0,\n",
       "       0, 1, 1, 0, 0, 1, 1, 0, 1, 2, 0, 1, 0, 0, 0, 1, 0, 0, 0, 2, 0, 1,\n",
       "       0, 1, 0, 1, 0, 2, 2, 0, 1, 0, 0, 0, 2, 0, 1, 2, 1, 1, 0, 1, 2, 0,\n",
       "       2, 2, 2, 0, 0, 2, 2, 1, 0, 1, 0, 1, 0, 1, 0, 0, 0, 2, 1, 2, 0, 1,\n",
       "       0, 2, 0, 0, 2, 0, 1, 0, 2, 1, 0, 1, 0, 1, 1, 1, 0, 1, 0, 1, 2, 1,\n",
       "       0, 0, 0, 2, 1, 0, 1, 0, 0, 0, 0, 2, 2, 2, 0, 0, 1, 0, 2, 2, 2, 2,\n",
       "       1, 2, 0, 0, 1, 2, 2, 0, 1, 0, 1, 2, 1, 1, 2, 0, 2, 1, 1, 0, 0, 1],\n",
       "      dtype=int64)"
      ]
     },
     "execution_count": 15,
     "metadata": {},
     "output_type": "execute_result"
    }
   ],
   "source": [
    "'''np.argmax(model.predict_generator(test_it, steps= len(test_it)), axis=1)'''"
   ]
  },
  {
   "cell_type": "code",
   "execution_count": 16,
   "metadata": {},
   "outputs": [
    {
     "data": {
      "text/plain": [
       "array([0, 1, 1, 2, 0, 2, 2, 1, 1, 2, 0, 0, 0, 1, 1, 0, 0, 1, 2, 1, 2, 1,\n",
       "       0, 1, 2, 1, 0, 2, 0, 1, 1, 0, 1, 0, 1, 0, 2, 0, 0, 2, 0, 2, 0, 2,\n",
       "       1, 1, 2, 1, 1, 2, 0, 2, 2, 0, 1, 1, 1, 1, 0, 1, 0, 1, 1, 1, 1, 0,\n",
       "       1, 0, 1, 0, 2, 2, 2, 2, 1, 0, 1, 1, 0, 0, 0, 0, 2, 1, 2, 2, 0, 1,\n",
       "       0, 1, 2, 2, 1, 2, 0, 0, 2, 0, 2, 1, 1, 1, 2, 1, 0, 1, 1, 1, 0, 0,\n",
       "       0, 2, 1, 2, 0, 0, 0, 0, 2, 0, 0, 2, 0, 0, 1, 0, 2, 1, 0, 0, 2, 1,\n",
       "       1, 1, 0, 2, 2, 1, 2, 0, 1, 0, 0, 0, 0, 1, 0, 2, 2, 0, 2, 0, 0, 0,\n",
       "       1, 2, 1, 1, 1, 2, 1, 0, 0, 0, 1, 0, 1, 1, 1, 1, 2, 2, 2, 2, 0, 0,\n",
       "       1, 1, 0, 2, 2, 0, 2, 1, 2, 1, 1, 2, 0, 0, 2, 2, 1, 0, 1, 2, 0, 0,\n",
       "       1, 1, 1, 0, 0, 2, 0, 0, 0, 1, 1, 0, 0, 2, 0, 0, 2, 2, 2, 1, 2, 2,\n",
       "       2, 2, 1, 2, 2, 0, 0, 2, 0, 2, 0, 0, 2, 0, 2, 1, 0, 2, 2, 2, 0, 2],\n",
       "      dtype=int64)"
      ]
     },
     "execution_count": 16,
     "metadata": {},
     "output_type": "execute_result"
    }
   ],
   "source": [
    "''' # simple re-setting does not work; need to set shuffle=False in the validation generator\n",
    "\n",
    "test_it.reset()\n",
    "np.argmax(model.predict_generator(test_it, steps= len(test_it)), axis=1)'''"
   ]
  },
  {
   "cell_type": "code",
   "execution_count": null,
   "metadata": {},
   "outputs": [],
   "source": []
  },
  {
   "cell_type": "code",
   "execution_count": 18,
   "metadata": {},
   "outputs": [
    {
     "name": "stdout",
     "output_type": "stream",
     "text": [
      "Found 242 images belonging to 3 classes.\n"
     ]
    }
   ],
   "source": [
    "# create generator with shuffle=False\n",
    "validation_generator2 = datagen.flow_from_directory('./57398/ZooScanSet/runData_RGB/test/', #color_mode='grayscale',\n",
    "                                      class_mode='categorical', batch_size=64, target_size=(224, 224), shuffle=False)\n"
   ]
  },
  {
   "cell_type": "code",
   "execution_count": 19,
   "metadata": {},
   "outputs": [
    {
     "data": {
      "text/plain": [
       "array([0, 0, 0, 0, 0, 0, 0, 0, 0, 0, 0, 0, 0, 0, 0, 0, 0, 0, 0, 0, 0, 0,\n",
       "       0, 0, 0, 0, 0, 0, 0, 0, 0, 0, 0, 0, 0, 0, 0, 0, 0, 0, 0, 0, 0, 0,\n",
       "       0, 0, 0, 0, 0, 0, 0, 0, 0, 0, 0, 0, 0, 0, 0, 0, 0, 0, 0, 0, 0, 0,\n",
       "       0, 0, 0, 0, 0, 0, 0, 0, 0, 0, 0, 0, 0, 0, 0, 0, 0, 0, 0, 0, 0, 0,\n",
       "       0, 1, 1, 1, 1, 1, 1, 1, 1, 1, 1, 1, 1, 1, 1, 1, 1, 1, 1, 1, 1, 1,\n",
       "       1, 1, 1, 1, 1, 1, 1, 1, 1, 1, 1, 1, 1, 1, 1, 1, 1, 1, 1, 1, 1, 1,\n",
       "       1, 1, 1, 1, 1, 1, 1, 1, 1, 1, 1, 1, 1, 1, 1, 1, 1, 1, 1, 1, 1, 1,\n",
       "       1, 1, 1, 1, 1, 1, 1, 1, 1, 1, 1, 1, 1, 1, 2, 2, 2, 2, 2, 2, 2, 2,\n",
       "       2, 2, 2, 2, 2, 2, 2, 2, 2, 2, 2, 2, 2, 2, 2, 2, 2, 2, 2, 2, 2, 2,\n",
       "       2, 2, 2, 2, 2, 2, 2, 2, 2, 2, 2, 2, 2, 2, 2, 2, 2, 2, 2, 2, 2, 2,\n",
       "       2, 2, 2, 2, 2, 2, 2, 2, 2, 2, 2, 2, 2, 2, 2, 2, 2, 2, 2, 2, 2, 2])"
      ]
     },
     "execution_count": 19,
     "metadata": {},
     "output_type": "execute_result"
    }
   ],
   "source": [
    "# y_test  (actual labels)\n",
    "validation_generator2.classes"
   ]
  },
  {
   "cell_type": "code",
   "execution_count": 29,
   "metadata": {},
   "outputs": [
    {
     "data": {
      "text/plain": [
       "array([2, 2, 2, 2, 2, 2, 2, 2, 2, 2, 2, 2, 2, 2, 2, 2, 2, 2, 2, 2, 2, 2,\n",
       "       2, 2, 2, 2, 2, 2, 2, 2, 2, 2, 2, 2, 2, 2, 2, 2, 2, 2, 2, 2, 2, 2,\n",
       "       2, 2, 2, 2, 2, 2, 0, 0, 0, 0, 0, 0, 0, 0, 0, 0, 0, 0, 0, 0, 0, 0,\n",
       "       0, 0, 0, 0, 0, 0, 0, 0, 0, 0, 0, 0, 0, 0, 0, 0, 0, 0, 1, 0, 0, 0,\n",
       "       0, 0, 0, 0, 0, 0, 0, 0, 0, 0, 0, 0, 0, 0, 0, 0, 0, 0, 0, 0, 0, 0,\n",
       "       0, 0, 0, 0, 0, 0, 0, 0, 0, 0, 0, 0, 0, 0, 0, 0, 0, 0, 0, 0, 0, 0,\n",
       "       0, 0, 0, 0, 0, 0, 0, 1, 1, 1, 1, 1, 1, 1, 1, 1, 1, 1, 1, 1, 1, 1,\n",
       "       1, 1, 1, 1, 0, 1, 1, 1, 1, 1, 1, 1, 1, 1, 1, 1, 1, 1, 1, 1, 1, 1,\n",
       "       1, 1, 1, 1, 1, 1, 0, 1, 1, 1, 1, 1, 1, 1, 1, 1, 1, 1, 1, 1, 1, 1,\n",
       "       1, 1, 1, 1, 1, 1, 1, 1, 1, 1, 1, 1, 1, 1, 1, 1, 1, 1, 1, 1, 2, 2,\n",
       "       2, 2, 2, 2, 2, 2, 2, 2, 2, 2, 2, 2, 2, 2, 2, 2, 2, 2, 2, 2, 2, 2],\n",
       "      dtype=int64)"
      ]
     },
     "execution_count": 29,
     "metadata": {},
     "output_type": "execute_result"
    }
   ],
   "source": [
    "'''# y_pred\n",
    "np.argmax(model.predict_generator(validation_generator2, steps= len(test_it)), axis=1)'''"
   ]
  },
  {
   "cell_type": "code",
   "execution_count": 30,
   "metadata": {},
   "outputs": [
    {
     "data": {
      "text/plain": [
       "array([1, 1, 1, 1, 0, 1, 1, 1, 1, 1, 1, 1, 1, 1, 1, 1, 1, 1, 1, 1, 1, 1,\n",
       "       1, 1, 1, 1, 1, 1, 1, 1, 1, 1, 1, 1, 1, 1, 1, 1, 1, 1, 2, 2, 2, 2,\n",
       "       2, 2, 2, 2, 2, 2, 2, 2, 2, 2, 2, 2, 2, 2, 2, 2, 2, 2, 2, 2, 2, 2,\n",
       "       2, 2, 2, 2, 2, 2, 2, 2, 2, 2, 2, 2, 2, 2, 2, 2, 2, 2, 2, 2, 2, 2,\n",
       "       2, 2, 2, 2, 2, 2, 2, 2, 2, 2, 2, 2, 2, 2, 2, 2, 2, 2, 2, 2, 2, 2,\n",
       "       2, 2, 2, 2, 0, 0, 0, 0, 0, 0, 0, 0, 0, 0, 0, 0, 0, 0, 0, 0, 0, 0,\n",
       "       0, 0, 0, 0, 0, 0, 0, 0, 0, 0, 0, 0, 0, 0, 0, 0, 1, 0, 0, 0, 0, 0,\n",
       "       0, 0, 0, 0, 0, 0, 0, 0, 0, 0, 0, 0, 0, 0, 0, 0, 0, 0, 0, 0, 0, 0,\n",
       "       0, 0, 0, 0, 0, 0, 0, 0, 0, 0, 0, 0, 0, 0, 0, 0, 0, 0, 0, 0, 0, 0,\n",
       "       0, 0, 0, 0, 0, 1, 1, 1, 1, 1, 1, 1, 1, 1, 1, 1, 1, 1, 1, 1, 1, 1,\n",
       "       1, 1, 0, 1, 1, 1, 1, 1, 1, 1, 1, 1, 1, 1, 1, 1, 1, 1, 1, 1, 1, 1],\n",
       "      dtype=int64)"
      ]
     },
     "execution_count": 30,
     "metadata": {},
     "output_type": "execute_result"
    }
   ],
   "source": [
    "'''np.argmax(model.predict_generator(validation_generator2, steps= len(validation_generator2)), axis=1)'''"
   ]
  },
  {
   "cell_type": "code",
   "execution_count": 32,
   "metadata": {},
   "outputs": [
    {
     "data": {
      "text/plain": [
       "array([0, 0, 0, 0, 0, 0, 0, 0, 0, 0, 0, 0, 0, 0, 0, 0, 0, 0, 0, 0, 0, 0,\n",
       "       0, 0, 0, 1, 1, 1, 1, 1, 1, 1, 1, 1, 1, 1, 1, 1, 1, 1, 1, 1, 1, 1,\n",
       "       0, 1, 1, 1, 1, 1, 1, 1, 1, 1, 1, 1, 1, 1, 1, 1, 1, 1, 1, 1, 1, 1,\n",
       "       1, 1, 0, 1, 1, 1, 1, 1, 1, 1, 1, 1, 1, 1, 1, 1, 1, 1, 1, 1, 1, 1,\n",
       "       1, 1, 1, 1, 1, 1, 1, 1, 1, 1, 1, 1, 1, 1, 1, 1, 2, 2, 2, 2, 2, 2,\n",
       "       2, 2, 2, 2, 2, 2, 2, 2, 2, 2, 2, 2, 2, 2, 2, 2, 2, 2, 2, 2, 2, 2,\n",
       "       2, 2, 2, 2, 2, 2, 2, 2, 2, 2, 2, 2, 2, 2, 2, 2, 2, 2, 2, 2, 2, 2,\n",
       "       2, 2, 2, 2, 2, 2, 2, 2, 2, 2, 2, 2, 2, 2, 2, 2, 2, 2, 2, 2, 2, 2,\n",
       "       2, 2, 0, 0, 0, 0, 0, 0, 0, 0, 0, 0, 0, 0, 0, 0, 0, 0, 0, 0, 0, 0,\n",
       "       0, 0, 0, 0, 0, 0, 0, 0, 0, 0, 0, 0, 0, 0, 1, 0, 0, 0, 0, 0, 0, 0,\n",
       "       0, 0, 0, 0, 0, 0, 0, 0, 0, 0, 0, 0, 0, 0, 0, 0, 0, 0, 0, 0, 0, 0],\n",
       "      dtype=int64)"
      ]
     },
     "execution_count": 32,
     "metadata": {},
     "output_type": "execute_result"
    }
   ],
   "source": [
    "'''y_pred = np.argmax(model.predict_generator(validation_generator2, steps= len(validation_generator2)), axis=1)\n",
    "y_pred'''"
   ]
  },
  {
   "cell_type": "code",
   "execution_count": 26,
   "metadata": {},
   "outputs": [
    {
     "name": "stderr",
     "output_type": "stream",
     "text": [
      "C:\\Users\\DAR9KOR\\AppData\\Local\\Continuum\\anaconda3\\envs\\deep_learn\\lib\\site-packages\\keras_preprocessing\\image\\image_data_generator.py:716: UserWarning: This ImageDataGenerator specifies `featurewise_center`, but it hasn't been fit on any training data. Fit it first by calling `.fit(numpy_data)`.\n",
      "  warnings.warn('This ImageDataGenerator specifies '\n"
     ]
    }
   ],
   "source": [
    "'''y_pred = np.argmax(model.predict_generator(validation_generator2, steps= len(test_it)), axis=1)'''"
   ]
  },
  {
   "cell_type": "code",
   "execution_count": 27,
   "metadata": {},
   "outputs": [
    {
     "name": "stdout",
     "output_type": "stream",
     "text": [
      "[[88  1  0]\n",
      " [ 2 77  0]\n",
      " [ 0  0 74]]\n"
     ]
    }
   ],
   "source": [
    "'''print(confusion_matrix(test_it.classes, y_pred))'''"
   ]
  },
  {
   "cell_type": "code",
   "execution_count": 28,
   "metadata": {},
   "outputs": [
    {
     "name": "stdout",
     "output_type": "stream",
     "text": [
      "              precision    recall  f1-score   support\n",
      "\n",
      "  Acantharea       0.98      0.99      0.98        89\n",
      "     Copilia       0.99      0.97      0.98        79\n",
      "      cypris       1.00      1.00      1.00        74\n",
      "\n",
      "    accuracy                           0.99       242\n",
      "   macro avg       0.99      0.99      0.99       242\n",
      "weighted avg       0.99      0.99      0.99       242\n",
      "\n"
     ]
    }
   ],
   "source": [
    "'''target_names = ['Acantharea', 'Copilia', 'cypris']\n",
    "print(classification_report(test_it.classes, y_pred, target_names=target_names))'''"
   ]
  },
  {
   "cell_type": "code",
   "execution_count": 33,
   "metadata": {},
   "outputs": [
    {
     "data": {
      "text/plain": [
       "array([0, 0, 0, 0, 0, 0, 0, 0, 0, 0, 0, 0, 0, 0, 0, 0, 0, 0, 0, 0, 0, 0,\n",
       "       0, 0, 0, 0, 0, 0, 0, 0, 0, 0, 0, 0, 1, 0, 0, 0, 0, 0, 0, 0, 0, 0,\n",
       "       0, 0, 0, 0, 0, 0, 0, 0, 0, 0, 0, 0, 0, 0, 0, 0, 0, 0, 0, 0, 0, 0,\n",
       "       0, 0, 0, 0, 0, 0, 0, 0, 0, 0, 0, 0, 0, 0, 0, 0, 0, 0, 0, 0, 0, 0,\n",
       "       0, 1, 1, 1, 1, 1, 1, 1, 1, 1, 1, 1, 1, 1, 1, 1, 1, 1, 1, 1, 0, 1,\n",
       "       1, 1, 1, 1, 1, 1, 1, 1, 1, 1, 1, 1, 1, 1, 1, 1, 1, 1, 1, 1, 1, 1,\n",
       "       0, 1, 1, 1, 1, 1, 1, 1, 1, 1, 1, 1, 1, 1, 1, 1, 1, 1, 1, 1, 1, 1,\n",
       "       1, 1, 1, 1, 1, 1, 1, 1, 1, 1, 1, 1, 1, 1, 2, 2, 2, 2, 2, 2, 2, 2,\n",
       "       2, 2, 2, 2, 2, 2, 2, 2, 2, 2, 2, 2, 2, 2, 2, 2, 2, 2, 2, 2, 2, 2,\n",
       "       2, 2, 2, 2, 2, 2, 2, 2, 2, 2, 2, 2, 2, 2, 2, 2, 2, 2, 2, 2, 2, 2,\n",
       "       2, 2, 2, 2, 2, 2, 2, 2, 2, 2, 2, 2, 2, 2, 2, 2, 2, 2, 2, 2, 2, 2],\n",
       "      dtype=int64)"
      ]
     },
     "execution_count": 33,
     "metadata": {},
     "output_type": "execute_result"
    }
   ],
   "source": [
    "# getting predicted labels y_pred\n",
    "validation_generator2.reset() # resetting generator\n",
    "y_pred = np.argmax(model.predict_generator(validation_generator2, steps= len(test_it)), axis=1)\n",
    "y_pred"
   ]
  },
  {
   "cell_type": "code",
   "execution_count": 34,
   "metadata": {},
   "outputs": [
    {
     "data": {
      "text/plain": [
       "array([0, 0, 0, 0, 0, 0, 0, 0, 0, 0, 0, 0, 0, 0, 0, 0, 0, 0, 0, 0, 0, 0,\n",
       "       0, 0, 0, 0, 0, 0, 0, 0, 0, 0, 0, 0, 1, 0, 0, 0, 0, 0, 0, 0, 0, 0,\n",
       "       0, 0, 0, 0, 0, 0, 0, 0, 0, 0, 0, 0, 0, 0, 0, 0, 0, 0, 0, 0, 0, 0,\n",
       "       0, 0, 0, 0, 0, 0, 0, 0, 0, 0, 0, 0, 0, 0, 0, 0, 0, 0, 0, 0, 0, 0,\n",
       "       0, 1, 1, 1, 1, 1, 1, 1, 1, 1, 1, 1, 1, 1, 1, 1, 1, 1, 1, 1, 0, 1,\n",
       "       1, 1, 1, 1, 1, 1, 1, 1, 1, 1, 1, 1, 1, 1, 1, 1, 1, 1, 1, 1, 1, 1,\n",
       "       0, 1, 1, 1, 1, 1, 1, 1, 1, 1, 1, 1, 1, 1, 1, 1, 1, 1, 1, 1, 1, 1,\n",
       "       1, 1, 1, 1, 1, 1, 1, 1, 1, 1, 1, 1, 1, 1, 2, 2, 2, 2, 2, 2, 2, 2,\n",
       "       2, 2, 2, 2, 2, 2, 2, 2, 2, 2, 2, 2, 2, 2, 2, 2, 2, 2, 2, 2, 2, 2,\n",
       "       2, 2, 2, 2, 2, 2, 2, 2, 2, 2, 2, 2, 2, 2, 2, 2, 2, 2, 2, 2, 2, 2,\n",
       "       2, 2, 2, 2, 2, 2, 2, 2, 2, 2, 2, 2, 2, 2, 2, 2, 2, 2, 2, 2, 2, 2],\n",
       "      dtype=int64)"
      ]
     },
     "execution_count": 34,
     "metadata": {},
     "output_type": "execute_result"
    }
   ],
   "source": [
    "# we need to create generator with shuffle=false & also reset it, before using predict_generator\n",
    "validation_generator2.reset() # resetting generator\n",
    "y_pred = np.argmax(model.predict_generator(validation_generator2, steps= len(test_it)), axis=1)\n",
    "y_pred"
   ]
  },
  {
   "cell_type": "code",
   "execution_count": 37,
   "metadata": {},
   "outputs": [
    {
     "data": {
      "text/plain": [
       "['Acantharea\\\\42754317.jpg',\n",
       " 'Acantharea\\\\42762293.jpg',\n",
       " 'Acantharea\\\\42829606.jpg',\n",
       " 'Acantharea\\\\43045506.jpg',\n",
       " 'Acantharea\\\\44722585.jpg',\n",
       " 'Acantharea\\\\44726541.jpg',\n",
       " 'Acantharea\\\\44726551.jpg',\n",
       " 'Acantharea\\\\44726732.jpg',\n",
       " 'Acantharea\\\\44726787.jpg',\n",
       " 'Acantharea\\\\44726845.jpg',\n",
       " 'Acantharea\\\\44727001.jpg',\n",
       " 'Acantharea\\\\44727076.jpg',\n",
       " 'Acantharea\\\\44727383.jpg',\n",
       " 'Acantharea\\\\44727551.jpg',\n",
       " 'Acantharea\\\\44733429.jpg',\n",
       " 'Acantharea\\\\44735737.jpg',\n",
       " 'Acantharea\\\\44737351.jpg',\n",
       " 'Acantharea\\\\44740649.jpg',\n",
       " 'Acantharea\\\\44740784.jpg',\n",
       " 'Acantharea\\\\44740940.jpg',\n",
       " 'Acantharea\\\\44744190.jpg',\n",
       " 'Acantharea\\\\44744366.jpg',\n",
       " 'Acantharea\\\\44746066.jpg',\n",
       " 'Acantharea\\\\44751867.jpg',\n",
       " 'Acantharea\\\\44761696.jpg',\n",
       " 'Acantharea\\\\44765985.jpg',\n",
       " 'Acantharea\\\\44766207.jpg',\n",
       " 'Acantharea\\\\44766598.jpg',\n",
       " 'Acantharea\\\\44767464.jpg',\n",
       " 'Acantharea\\\\44767483.jpg',\n",
       " 'Acantharea\\\\44767603.jpg',\n",
       " 'Acantharea\\\\44767934.jpg',\n",
       " 'Acantharea\\\\44777187.jpg',\n",
       " 'Acantharea\\\\44782889.jpg',\n",
       " 'Acantharea\\\\44792936.jpg',\n",
       " 'Acantharea\\\\44794782.jpg',\n",
       " 'Acantharea\\\\44794987.jpg',\n",
       " 'Acantharea\\\\44795963.jpg',\n",
       " 'Acantharea\\\\44801458.jpg',\n",
       " 'Acantharea\\\\44801730.jpg',\n",
       " 'Acantharea\\\\44820433.jpg',\n",
       " 'Acantharea\\\\44826306.jpg',\n",
       " 'Acantharea\\\\44832138.jpg',\n",
       " 'Acantharea\\\\44845116.jpg',\n",
       " 'Acantharea\\\\44845455.jpg',\n",
       " 'Acantharea\\\\44846240.jpg',\n",
       " 'Acantharea\\\\44846627.jpg',\n",
       " 'Acantharea\\\\44862401.jpg',\n",
       " 'Acantharea\\\\44884850.jpg',\n",
       " 'Acantharea\\\\44886561.jpg',\n",
       " 'Acantharea\\\\44920987.jpg',\n",
       " 'Acantharea\\\\44921085.jpg',\n",
       " 'Acantharea\\\\44928646.jpg',\n",
       " 'Acantharea\\\\44928658.jpg',\n",
       " 'Acantharea\\\\44928688.jpg',\n",
       " 'Acantharea\\\\44929888.jpg',\n",
       " 'Acantharea\\\\44930321.jpg',\n",
       " 'Acantharea\\\\44941709.jpg',\n",
       " 'Acantharea\\\\44953541.jpg',\n",
       " 'Acantharea\\\\44962212.jpg',\n",
       " 'Acantharea\\\\44978619.jpg',\n",
       " 'Acantharea\\\\44979689.jpg',\n",
       " 'Acantharea\\\\44994149.jpg',\n",
       " 'Acantharea\\\\44995023.jpg',\n",
       " 'Acantharea\\\\44997527.jpg',\n",
       " 'Acantharea\\\\44997730.jpg',\n",
       " 'Acantharea\\\\44997830.jpg',\n",
       " 'Acantharea\\\\44998350.jpg',\n",
       " 'Acantharea\\\\44998366.jpg',\n",
       " 'Acantharea\\\\44998569.jpg',\n",
       " 'Acantharea\\\\44998696.jpg',\n",
       " 'Acantharea\\\\44998709.jpg',\n",
       " 'Acantharea\\\\44999014.jpg',\n",
       " 'Acantharea\\\\45013368.jpg',\n",
       " 'Acantharea\\\\45023475.jpg',\n",
       " 'Acantharea\\\\45023877.jpg',\n",
       " 'Acantharea\\\\45086179.jpg',\n",
       " 'Acantharea\\\\45088795.jpg',\n",
       " 'Acantharea\\\\45088932.jpg',\n",
       " 'Acantharea\\\\45095801.jpg',\n",
       " 'Acantharea\\\\45097701.jpg',\n",
       " 'Acantharea\\\\46682056.jpg',\n",
       " 'Acantharea\\\\46754037.jpg',\n",
       " 'Acantharea\\\\46754064.jpg',\n",
       " 'Acantharea\\\\46755836.jpg',\n",
       " 'Acantharea\\\\46755861.jpg',\n",
       " 'Acantharea\\\\46755980.jpg',\n",
       " 'Acantharea\\\\46793427.jpg',\n",
       " 'Acantharea\\\\48102790.jpg',\n",
       " 'Copilia\\\\14469919.jpg',\n",
       " 'Copilia\\\\24102722.jpg',\n",
       " 'Copilia\\\\24102974.jpg',\n",
       " 'Copilia\\\\24251117.jpg',\n",
       " 'Copilia\\\\34857563.jpg',\n",
       " 'Copilia\\\\34951316.jpg',\n",
       " 'Copilia\\\\42556863.jpg',\n",
       " 'Copilia\\\\42635519.jpg',\n",
       " 'Copilia\\\\42743446.jpg',\n",
       " 'Copilia\\\\42777414.jpg',\n",
       " 'Copilia\\\\42786591.jpg',\n",
       " 'Copilia\\\\42791688.jpg',\n",
       " 'Copilia\\\\42837896.jpg',\n",
       " 'Copilia\\\\42911612.jpg',\n",
       " 'Copilia\\\\42922004.jpg',\n",
       " 'Copilia\\\\42950136.jpg',\n",
       " 'Copilia\\\\42951726.jpg',\n",
       " 'Copilia\\\\42968150.jpg',\n",
       " 'Copilia\\\\42975022.jpg',\n",
       " 'Copilia\\\\42980446.jpg',\n",
       " 'Copilia\\\\42984926.jpg',\n",
       " 'Copilia\\\\43003480.jpg',\n",
       " 'Copilia\\\\43019936.jpg',\n",
       " 'Copilia\\\\43021849.jpg',\n",
       " 'Copilia\\\\43024760.jpg',\n",
       " 'Copilia\\\\43028391.jpg',\n",
       " 'Copilia\\\\43057828.jpg',\n",
       " 'Copilia\\\\43099128.jpg',\n",
       " 'Copilia\\\\43100688.jpg',\n",
       " 'Copilia\\\\44718655.jpg',\n",
       " 'Copilia\\\\44741508.jpg',\n",
       " 'Copilia\\\\44755967.jpg',\n",
       " 'Copilia\\\\44756956.jpg',\n",
       " 'Copilia\\\\44768838.jpg',\n",
       " 'Copilia\\\\44777096.jpg',\n",
       " 'Copilia\\\\44798652.jpg',\n",
       " 'Copilia\\\\44804829.jpg',\n",
       " 'Copilia\\\\44913413.jpg',\n",
       " 'Copilia\\\\44990097.jpg',\n",
       " 'Copilia\\\\45020273.jpg',\n",
       " 'Copilia\\\\45036587.jpg',\n",
       " 'Copilia\\\\45065043.jpg',\n",
       " 'Copilia\\\\45081245.jpg',\n",
       " 'Copilia\\\\45085140.jpg',\n",
       " 'Copilia\\\\46695260.jpg',\n",
       " 'Copilia\\\\46735641.jpg',\n",
       " 'Copilia\\\\46738622.jpg',\n",
       " 'Copilia\\\\46852843.jpg',\n",
       " 'Copilia\\\\46859793.jpg',\n",
       " 'Copilia\\\\46862469.jpg',\n",
       " 'Copilia\\\\46864188.jpg',\n",
       " 'Copilia\\\\46866668.jpg',\n",
       " 'Copilia\\\\46866722.jpg',\n",
       " 'Copilia\\\\46867118.jpg',\n",
       " 'Copilia\\\\46871593.jpg',\n",
       " 'Copilia\\\\46880546.jpg',\n",
       " 'Copilia\\\\46892098.jpg',\n",
       " 'Copilia\\\\46892506.jpg',\n",
       " 'Copilia\\\\46892839.jpg',\n",
       " 'Copilia\\\\46895599.jpg',\n",
       " 'Copilia\\\\46898378.jpg',\n",
       " 'Copilia\\\\46898743.jpg',\n",
       " 'Copilia\\\\46904610.jpg',\n",
       " 'Copilia\\\\46914867.jpg',\n",
       " 'Copilia\\\\46920332.jpg',\n",
       " 'Copilia\\\\46922675.jpg',\n",
       " 'Copilia\\\\46926217.jpg',\n",
       " 'Copilia\\\\46927807.jpg',\n",
       " 'Copilia\\\\46940898.jpg',\n",
       " 'Copilia\\\\46940986.jpg',\n",
       " 'Copilia\\\\46941446.jpg',\n",
       " 'Copilia\\\\46943668.jpg',\n",
       " 'Copilia\\\\46943700.jpg',\n",
       " 'Copilia\\\\46944785.jpg',\n",
       " 'Copilia\\\\46952995.jpg',\n",
       " 'Copilia\\\\46953019.jpg',\n",
       " 'Copilia\\\\46955520.jpg',\n",
       " 'Copilia\\\\46974179.jpg',\n",
       " 'Copilia\\\\47924291.jpg',\n",
       " 'cypris\\\\44680883.jpg',\n",
       " 'cypris\\\\44682100.jpg',\n",
       " 'cypris\\\\44682305.jpg',\n",
       " 'cypris\\\\44682335.jpg',\n",
       " 'cypris\\\\44682429.jpg',\n",
       " 'cypris\\\\44682455.jpg',\n",
       " 'cypris\\\\44682469.jpg',\n",
       " 'cypris\\\\44682507.jpg',\n",
       " 'cypris\\\\44682552.jpg',\n",
       " 'cypris\\\\44682691.jpg',\n",
       " 'cypris\\\\44682806.jpg',\n",
       " 'cypris\\\\44682991.jpg',\n",
       " 'cypris\\\\44683099.jpg',\n",
       " 'cypris\\\\44683132.jpg',\n",
       " 'cypris\\\\44683235.jpg',\n",
       " 'cypris\\\\44705023.jpg',\n",
       " 'cypris\\\\44705168.jpg',\n",
       " 'cypris\\\\44705179.jpg',\n",
       " 'cypris\\\\44705225.jpg',\n",
       " 'cypris\\\\44705228.jpg',\n",
       " 'cypris\\\\44705240.jpg',\n",
       " 'cypris\\\\44705314.jpg',\n",
       " 'cypris\\\\44705613.jpg',\n",
       " 'cypris\\\\44705840.jpg',\n",
       " 'cypris\\\\44706107.jpg',\n",
       " 'cypris\\\\44706114.jpg',\n",
       " 'cypris\\\\44711966.jpg',\n",
       " 'cypris\\\\44713578.jpg',\n",
       " 'cypris\\\\44713945.jpg',\n",
       " 'cypris\\\\44918867.jpg',\n",
       " 'cypris\\\\46763635.jpg',\n",
       " 'cypris\\\\46763801.jpg',\n",
       " 'cypris\\\\48149037.jpg',\n",
       " 'cypris\\\\48174074.jpg',\n",
       " 'cypris\\\\48185880.jpg',\n",
       " 'cypris\\\\48187067.jpg',\n",
       " 'cypris\\\\48682280.jpg',\n",
       " 'cypris\\\\48704252.jpg',\n",
       " 'cypris\\\\48718918.jpg',\n",
       " 'cypris\\\\48738297.jpg',\n",
       " 'cypris\\\\48739548.jpg',\n",
       " 'cypris\\\\48746741.jpg',\n",
       " 'cypris\\\\48748560.jpg',\n",
       " 'cypris\\\\48759611.jpg',\n",
       " 'cypris\\\\48788192.jpg',\n",
       " 'cypris\\\\48873979.jpg',\n",
       " 'cypris\\\\52998485.jpg',\n",
       " 'cypris\\\\52999901.jpg',\n",
       " 'cypris\\\\53000246.jpg',\n",
       " 'cypris\\\\53000606.jpg',\n",
       " 'cypris\\\\53002115.jpg',\n",
       " 'cypris\\\\53063945.jpg',\n",
       " 'cypris\\\\53086966.jpg',\n",
       " 'cypris\\\\53090769.jpg',\n",
       " 'cypris\\\\53094233.jpg',\n",
       " 'cypris\\\\53102003.jpg',\n",
       " 'cypris\\\\53107858.jpg',\n",
       " 'cypris\\\\53133446.jpg',\n",
       " 'cypris\\\\53216372.jpg',\n",
       " 'cypris\\\\53216717.jpg',\n",
       " 'cypris\\\\53216882.jpg',\n",
       " 'cypris\\\\53217895.jpg',\n",
       " 'cypris\\\\53248016.jpg',\n",
       " 'cypris\\\\53259983.jpg',\n",
       " 'cypris\\\\53268446.jpg',\n",
       " 'cypris\\\\53289158.jpg',\n",
       " 'cypris\\\\53311863.jpg',\n",
       " 'cypris\\\\53311884.jpg',\n",
       " 'cypris\\\\53312566.jpg',\n",
       " 'cypris\\\\53312589.jpg',\n",
       " 'cypris\\\\53317383.jpg',\n",
       " 'cypris\\\\53364441.jpg',\n",
       " 'cypris\\\\53372803.jpg',\n",
       " 'cypris\\\\53378969.jpg']"
      ]
     },
     "execution_count": 37,
     "metadata": {},
     "output_type": "execute_result"
    }
   ],
   "source": [
    "validation_generator2.filenames"
   ]
  },
  {
   "cell_type": "code",
   "execution_count": 41,
   "metadata": {},
   "outputs": [
    {
     "data": {
      "text/html": [
       "<div>\n",
       "<style scoped>\n",
       "    .dataframe tbody tr th:only-of-type {\n",
       "        vertical-align: middle;\n",
       "    }\n",
       "\n",
       "    .dataframe tbody tr th {\n",
       "        vertical-align: top;\n",
       "    }\n",
       "\n",
       "    .dataframe thead th {\n",
       "        text-align: right;\n",
       "    }\n",
       "</style>\n",
       "<table border=\"1\" class=\"dataframe\">\n",
       "  <thead>\n",
       "    <tr style=\"text-align: right;\">\n",
       "      <th></th>\n",
       "      <th>name</th>\n",
       "      <th>true</th>\n",
       "      <th>pred</th>\n",
       "    </tr>\n",
       "  </thead>\n",
       "  <tbody>\n",
       "    <tr>\n",
       "      <th>0</th>\n",
       "      <td>Acantharea\\42754317.jpg</td>\n",
       "      <td>0</td>\n",
       "      <td>0</td>\n",
       "    </tr>\n",
       "    <tr>\n",
       "      <th>1</th>\n",
       "      <td>Acantharea\\42762293.jpg</td>\n",
       "      <td>0</td>\n",
       "      <td>0</td>\n",
       "    </tr>\n",
       "    <tr>\n",
       "      <th>2</th>\n",
       "      <td>Acantharea\\42829606.jpg</td>\n",
       "      <td>0</td>\n",
       "      <td>0</td>\n",
       "    </tr>\n",
       "  </tbody>\n",
       "</table>\n",
       "</div>"
      ],
      "text/plain": [
       "                      name true pred\n",
       "0  Acantharea\\42754317.jpg    0    0\n",
       "1  Acantharea\\42762293.jpg    0    0\n",
       "2  Acantharea\\42829606.jpg    0    0"
      ]
     },
     "execution_count": 41,
     "metadata": {},
     "output_type": "execute_result"
    }
   ],
   "source": [
    "#### SEEING THE PREDICTIONS ####\n",
    "# combine filename, y_test, y_pred into a df & flag mis-predictions\n",
    "\n",
    "#dataf = pd.DataFrame([validation_generator2.filenames, validation_generator2.classes, y_pred]).T\n",
    "dataf = pd.DataFrame(np.column_stack([validation_generator2.filenames, validation_generator2.classes, y_pred]),\n",
    "                     columns=['name', 'true', 'pred'])\n",
    "dataf.head(3)"
   ]
  },
  {
   "cell_type": "code",
   "execution_count": 42,
   "metadata": {},
   "outputs": [
    {
     "data": {
      "text/html": [
       "<div>\n",
       "<style scoped>\n",
       "    .dataframe tbody tr th:only-of-type {\n",
       "        vertical-align: middle;\n",
       "    }\n",
       "\n",
       "    .dataframe tbody tr th {\n",
       "        vertical-align: top;\n",
       "    }\n",
       "\n",
       "    .dataframe thead th {\n",
       "        text-align: right;\n",
       "    }\n",
       "</style>\n",
       "<table border=\"1\" class=\"dataframe\">\n",
       "  <thead>\n",
       "    <tr style=\"text-align: right;\">\n",
       "      <th></th>\n",
       "      <th>name</th>\n",
       "      <th>true</th>\n",
       "      <th>pred</th>\n",
       "    </tr>\n",
       "  </thead>\n",
       "  <tbody>\n",
       "    <tr>\n",
       "      <th>34</th>\n",
       "      <td>Acantharea\\44792936.jpg</td>\n",
       "      <td>0</td>\n",
       "      <td>1</td>\n",
       "    </tr>\n",
       "    <tr>\n",
       "      <th>108</th>\n",
       "      <td>Copilia\\42980446.jpg</td>\n",
       "      <td>1</td>\n",
       "      <td>0</td>\n",
       "    </tr>\n",
       "    <tr>\n",
       "      <th>132</th>\n",
       "      <td>Copilia\\45085140.jpg</td>\n",
       "      <td>1</td>\n",
       "      <td>0</td>\n",
       "    </tr>\n",
       "  </tbody>\n",
       "</table>\n",
       "</div>"
      ],
      "text/plain": [
       "                        name true pred\n",
       "34   Acantharea\\44792936.jpg    0    1\n",
       "108     Copilia\\42980446.jpg    1    0\n",
       "132     Copilia\\45085140.jpg    1    0"
      ]
     },
     "execution_count": 42,
     "metadata": {},
     "output_type": "execute_result"
    }
   ],
   "source": [
    "dataf[dataf.true != dataf.pred]"
   ]
  },
  {
   "cell_type": "code",
   "execution_count": 43,
   "metadata": {},
   "outputs": [
    {
     "data": {
      "image/png": "[encoded data removed]",
      "text/plain": [
       "<PIL.JpegImagePlugin.JpegImageFile image mode=RGB size=200x200 at 0x21CC107A3C8>"
      ]
     },
     "metadata": {},
     "output_type": "display_data"
    }
   ],
   "source": [
    "display(Image.open(\"./57398/ZooScanSet/runData_RGB/test/Acantharea/44792936.jpg\"))"
   ]
  },
  {
   "cell_type": "code",
   "execution_count": 44,
   "metadata": {},
   "outputs": [
    {
     "data": {
      "image/png": "[encoded data removed]",
      "text/plain": [
       "<PIL.JpegImagePlugin.JpegImageFile image mode=RGB size=200x200 at 0x21CC107A3C8>"
      ]
     },
     "metadata": {},
     "output_type": "display_data"
    }
   ],
   "source": [
    "display(Image.open(\"./57398/ZooScanSet/runData_RGB/test/Copilia/42980446.jpg\"))"
   ]
  },
  {
   "cell_type": "code",
   "execution_count": 45,
   "metadata": {},
   "outputs": [
    {
     "data": {
      "image/png": "[encoded data removed]",
      "text/plain": [
       "<PIL.JpegImagePlugin.JpegImageFile image mode=RGB size=200x200 at 0x21CC107AAC8>"
      ]
     },
     "metadata": {},
     "output_type": "display_data"
    }
   ],
   "source": [
    "display(Image.open(\"./57398/ZooScanSet/runData_RGB/test/Copilia/45085140.jpg\"))"
   ]
  },
  {
   "cell_type": "code",
   "execution_count": 48,
   "metadata": {},
   "outputs": [
    {
     "name": "stderr",
     "output_type": "stream",
     "text": [
      "C:\\Users\\DAR9KOR\\AppData\\Local\\Continuum\\anaconda3\\envs\\deep_learn\\lib\\site-packages\\keras_preprocessing\\image\\image_data_generator.py:716: UserWarning: This ImageDataGenerator specifies `featurewise_center`, but it hasn't been fit on any training data. Fit it first by calling `.fit(numpy_data)`.\n",
      "  warnings.warn('This ImageDataGenerator specifies '\n"
     ]
    },
    {
     "data": {
      "text/html": [
       "<div>\n",
       "<style scoped>\n",
       "    .dataframe tbody tr th:only-of-type {\n",
       "        vertical-align: middle;\n",
       "    }\n",
       "\n",
       "    .dataframe tbody tr th {\n",
       "        vertical-align: top;\n",
       "    }\n",
       "\n",
       "    .dataframe thead th {\n",
       "        text-align: right;\n",
       "    }\n",
       "</style>\n",
       "<table border=\"1\" class=\"dataframe\">\n",
       "  <thead>\n",
       "    <tr style=\"text-align: right;\">\n",
       "      <th></th>\n",
       "      <th>0</th>\n",
       "      <th>1</th>\n",
       "      <th>2</th>\n",
       "    </tr>\n",
       "  </thead>\n",
       "  <tbody>\n",
       "    <tr>\n",
       "      <th>0</th>\n",
       "      <td>1.0</td>\n",
       "      <td>9.687737e-11</td>\n",
       "      <td>3.448527e-19</td>\n",
       "    </tr>\n",
       "    <tr>\n",
       "      <th>1</th>\n",
       "      <td>1.0</td>\n",
       "      <td>8.712192e-13</td>\n",
       "      <td>6.307952e-17</td>\n",
       "    </tr>\n",
       "    <tr>\n",
       "      <th>2</th>\n",
       "      <td>1.0</td>\n",
       "      <td>2.812393e-28</td>\n",
       "      <td>0.000000e+00</td>\n",
       "    </tr>\n",
       "  </tbody>\n",
       "</table>\n",
       "</div>"
      ],
      "text/plain": [
       "     0             1             2\n",
       "0  1.0  9.687737e-11  3.448527e-19\n",
       "1  1.0  8.712192e-13  6.307952e-17\n",
       "2  1.0  2.812393e-28  0.000000e+00"
      ]
     },
     "execution_count": 48,
     "metadata": {},
     "output_type": "execute_result"
    }
   ],
   "source": [
    "## getting the probabilities in each predicted class, for each test image\n",
    "validation_generator2.reset() # resetting generator\n",
    "probs = pd.DataFrame(model.predict_generator(validation_generator2, steps= len(test_it)))\n",
    "probs.head(3)"
   ]
  },
  {
   "cell_type": "code",
   "execution_count": 49,
   "metadata": {},
   "outputs": [
    {
     "data": {
      "text/html": [
       "<div>\n",
       "<style scoped>\n",
       "    .dataframe tbody tr th:only-of-type {\n",
       "        vertical-align: middle;\n",
       "    }\n",
       "\n",
       "    .dataframe tbody tr th {\n",
       "        vertical-align: top;\n",
       "    }\n",
       "\n",
       "    .dataframe thead th {\n",
       "        text-align: right;\n",
       "    }\n",
       "</style>\n",
       "<table border=\"1\" class=\"dataframe\">\n",
       "  <thead>\n",
       "    <tr style=\"text-align: right;\">\n",
       "      <th></th>\n",
       "      <th>name</th>\n",
       "      <th>true</th>\n",
       "      <th>pred</th>\n",
       "      <th>0</th>\n",
       "      <th>1</th>\n",
       "      <th>2</th>\n",
       "    </tr>\n",
       "  </thead>\n",
       "  <tbody>\n",
       "    <tr>\n",
       "      <th>0</th>\n",
       "      <td>Acantharea\\42754317.jpg</td>\n",
       "      <td>0</td>\n",
       "      <td>0</td>\n",
       "      <td>1.0</td>\n",
       "      <td>9.687737e-11</td>\n",
       "      <td>3.448527e-19</td>\n",
       "    </tr>\n",
       "    <tr>\n",
       "      <th>1</th>\n",
       "      <td>Acantharea\\42762293.jpg</td>\n",
       "      <td>0</td>\n",
       "      <td>0</td>\n",
       "      <td>1.0</td>\n",
       "      <td>8.712192e-13</td>\n",
       "      <td>6.307952e-17</td>\n",
       "    </tr>\n",
       "    <tr>\n",
       "      <th>2</th>\n",
       "      <td>Acantharea\\42829606.jpg</td>\n",
       "      <td>0</td>\n",
       "      <td>0</td>\n",
       "      <td>1.0</td>\n",
       "      <td>2.812393e-28</td>\n",
       "      <td>0.000000e+00</td>\n",
       "    </tr>\n",
       "  </tbody>\n",
       "</table>\n",
       "</div>"
      ],
      "text/plain": [
       "                      name true pred    0             1             2\n",
       "0  Acantharea\\42754317.jpg    0    0  1.0  9.687737e-11  3.448527e-19\n",
       "1  Acantharea\\42762293.jpg    0    0  1.0  8.712192e-13  6.307952e-17\n",
       "2  Acantharea\\42829606.jpg    0    0  1.0  2.812393e-28  0.000000e+00"
      ]
     },
     "execution_count": 49,
     "metadata": {},
     "output_type": "execute_result"
    }
   ],
   "source": [
    "dataf = pd.concat([dataf,probs],axis=1)\n",
    "dataf.head(3)"
   ]
  },
  {
   "cell_type": "code",
   "execution_count": 50,
   "metadata": {},
   "outputs": [
    {
     "data": {
      "text/html": [
       "<div>\n",
       "<style scoped>\n",
       "    .dataframe tbody tr th:only-of-type {\n",
       "        vertical-align: middle;\n",
       "    }\n",
       "\n",
       "    .dataframe tbody tr th {\n",
       "        vertical-align: top;\n",
       "    }\n",
       "\n",
       "    .dataframe thead th {\n",
       "        text-align: right;\n",
       "    }\n",
       "</style>\n",
       "<table border=\"1\" class=\"dataframe\">\n",
       "  <thead>\n",
       "    <tr style=\"text-align: right;\">\n",
       "      <th></th>\n",
       "      <th>name</th>\n",
       "      <th>true</th>\n",
       "      <th>pred</th>\n",
       "      <th>0</th>\n",
       "      <th>1</th>\n",
       "      <th>2</th>\n",
       "    </tr>\n",
       "  </thead>\n",
       "  <tbody>\n",
       "    <tr>\n",
       "      <th>34</th>\n",
       "      <td>Acantharea\\44792936.jpg</td>\n",
       "      <td>0</td>\n",
       "      <td>1</td>\n",
       "      <td>0.314500</td>\n",
       "      <td>0.685498</td>\n",
       "      <td>1.615021e-06</td>\n",
       "    </tr>\n",
       "    <tr>\n",
       "      <th>108</th>\n",
       "      <td>Copilia\\42980446.jpg</td>\n",
       "      <td>1</td>\n",
       "      <td>0</td>\n",
       "      <td>0.685614</td>\n",
       "      <td>0.314386</td>\n",
       "      <td>1.579033e-08</td>\n",
       "    </tr>\n",
       "    <tr>\n",
       "      <th>132</th>\n",
       "      <td>Copilia\\45085140.jpg</td>\n",
       "      <td>1</td>\n",
       "      <td>0</td>\n",
       "      <td>0.697912</td>\n",
       "      <td>0.302088</td>\n",
       "      <td>3.213106e-07</td>\n",
       "    </tr>\n",
       "  </tbody>\n",
       "</table>\n",
       "</div>"
      ],
      "text/plain": [
       "                        name true pred         0         1             2\n",
       "34   Acantharea\\44792936.jpg    0    1  0.314500  0.685498  1.615021e-06\n",
       "108     Copilia\\42980446.jpg    1    0  0.685614  0.314386  1.579033e-08\n",
       "132     Copilia\\45085140.jpg    1    0  0.697912  0.302088  3.213106e-07"
      ]
     },
     "execution_count": 50,
     "metadata": {},
     "output_type": "execute_result"
    }
   ],
   "source": [
    "dataf[dataf.true != dataf.pred]"
   ]
  },
  {
   "cell_type": "code",
   "execution_count": 35,
   "metadata": {},
   "outputs": [
    {
     "name": "stdout",
     "output_type": "stream",
     "text": [
      "[[88  1  0]\n",
      " [ 2 77  0]\n",
      " [ 0  0 74]]\n"
     ]
    }
   ],
   "source": [
    "## performance metrics\n",
    "\n",
    "print(confusion_matrix(validation_generator2.classes, y_pred))"
   ]
  },
  {
   "cell_type": "code",
   "execution_count": 36,
   "metadata": {},
   "outputs": [
    {
     "name": "stdout",
     "output_type": "stream",
     "text": [
      "              precision    recall  f1-score   support\n",
      "\n",
      "  Acantharea       0.98      0.99      0.98        89\n",
      "     Copilia       0.99      0.97      0.98        79\n",
      "      cypris       1.00      1.00      1.00        74\n",
      "\n",
      "    accuracy                           0.99       242\n",
      "   macro avg       0.99      0.99      0.99       242\n",
      "weighted avg       0.99      0.99      0.99       242\n",
      "\n"
     ]
    }
   ],
   "source": [
    "target_names = ['Acantharea', 'Copilia', 'cypris']\n",
    "print(classification_report(validation_generator2.classes, y_pred, target_names=target_names))"
   ]
  },
  {
   "cell_type": "code",
   "execution_count": null,
   "metadata": {},
   "outputs": [],
   "source": []
  },
  {
   "cell_type": "code",
   "execution_count": null,
   "metadata": {},
   "outputs": [],
   "source": [
    "## predicting on new test data, without labels\n",
    "# https://datascience.stackexchange.com/questions/13894/how-to-get-predictions-with-predict-generator-on-streaming-test-data-in-keras"
   ]
  }
 ],
 "metadata": {
  "kernelspec": {
   "display_name": "Python 3",
   "language": "python",
   "name": "python3"
  },
  "language_info": {
   "codemirror_mode": {
    "name": "ipython",
    "version": 3
   },
   "file_extension": ".py",
   "mimetype": "text/x-python",
   "name": "python",
   "nbconvert_exporter": "python",
   "pygments_lexer": "ipython3",
   "version": "3.6.9"
  }
 },
 "nbformat": 4,
 "nbformat_minor": 2
}
