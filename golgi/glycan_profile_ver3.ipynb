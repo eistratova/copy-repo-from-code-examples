{
 "cells": [
  {
   "cell_type": "code",
   "execution_count": null,
   "metadata": {
    "collapsed": true
   },
   "outputs": [],
   "source": [
    "## generate glycan profile for a given distribution of enzymes\n",
    "\n",
    "## TO DO:\n",
    "## use of function to \n",
    "##      1. randomly select the distribution of enzymes in a compartment\n",
    "##      2. getting glycan profile for the selected enzyme distribution\n",
    "## add extra condition to avoid beyond 2 branches (see if this is required ?)\n",
    "## elegant way to print the tree\n",
    "## also, this generates only 1 product - modify to generate all the products\n",
    "\n",
    "\n",
    "# how to generate a graph or tree in python\n",
    "# https://www.geeksforgeeks.org/generate-graph-using-dictionary-python/\n",
    "\n",
    "# https://stackoverflow.com/questions/1602934/check-if-a-given-key-already-exists-in-a-dictionary\n",
    "# https://stackoverflow.com/questions/3199171/append-multiple-values-for-one-key-in-python-dictionary\n",
    "\n",
    "# find all possible subgraphs of a graph in python\n",
    "# find all sub-graphs starting from root node in a directed tree/graph in python"
   ]
  },
  {
   "cell_type": "code",
   "execution_count": 1,
   "metadata": {
    "collapsed": true
   },
   "outputs": [],
   "source": [
    "## step 1: generate all possible binary combinations of 8 digits (corresponding to 8 enzymes)\n",
    "#https://stackoverflow.com/questions/14931769/how-to-get-all-combination-of-n-binary-value\n",
    "\n",
    "import itertools\n",
    "num_enzymes = 7 #8\n",
    "# since the first enzyme should be present in the 1st compartment & not in later compartments,\n",
    "# we can leave this out for now\n",
    "\n",
    "lst = map(list, itertools.product([0, 1], repeat = num_enzymes))\n",
    "#lst"
   ]
  },
  {
   "cell_type": "code",
   "execution_count": null,
   "metadata": {
    "collapsed": true
   },
   "outputs": [],
   "source": [
    "#### mapping file for all enzyme reactions ####\n",
    "\n",
    "#P/0 -> A/1 (yellow sq) -> B/2 (blue sq)   -> C/3 (red tri)\n",
    "#  1                    2                3\n",
    "\n",
    "#p ->   A/1 (yellow sq) -> D/4 (yellow cr) -> B/2 (blue sq)\n",
    "#                       4                5\n",
    "                      \n",
    "#------------------------  D/4 (yellow cr) -> E/5 (brown diamond)\n",
    "#                                       6\n",
    "                                     \n",
    "#------------------------  B/2 (blue sq)   -> D/4 (yellow cr)\n",
    "#                                       7\n",
    "\n",
    "#-----  A/1 (yellow sq) -> E/5 (brown rhombus)\n",
    "#                       8"
   ]
  },
  {
   "cell_type": "code",
   "execution_count": 2,
   "metadata": {
    "collapsed": true
   },
   "outputs": [],
   "source": [
    "# create a 2D array with the sequence: enzyme no, 1st substrate, 2nd substrate\n",
    "map = []\n",
    "# map.append([1,0,1])   # leave out the first enzyme\n",
    "map.append([2,1,2])\n",
    "map.append([4,1,4])\n",
    "map.append([8,1,5])\n",
    "map.append([3,2,3])\n",
    "map.append([7,2,4]) # these 2 enzymes being present in the same compartment will give rise to cyclisation\n",
    "map.append([5,4,2]) # eliminate correponding combinations from the master_list at the very beginning ?\n",
    "map.append([6,4,5])"
   ]
  },
  {
   "cell_type": "code",
   "execution_count": 3,
   "metadata": {
    "collapsed": true
   },
   "outputs": [],
   "source": [
    "# intialise the sugar as a dictionary\n",
    "mol = {'1_1':''}  # sugarname_position; the keys are in string format"
   ]
  },
  {
   "cell_type": "code",
   "execution_count": 4,
   "metadata": {
    "collapsed": false
   },
   "outputs": [],
   "source": [
    "# foreach item in the above list (of enzyme distribution), if value=1, select the corresponding reaction index from map\n",
    "# then check if existing glycan list already contains sugars to which the new ones can be appended;\n",
    "# allow branching where possible : add extra condition to avoid beyond 2 branches\n",
    "\n",
    "def get_gly(cnt,comp_distr,mol):   # cnt,num_enzymes,map\n",
    "    \n",
    "    # select enzyme distribution\n",
    "    #comp_distr = random.choice(lst)\n",
    "    #comp_distr = [0, 0, 1, 0, 0, 1, 1]   ## comp 1\n",
    "    #comp_distr = [1, 1, 0, 0, 0, 1, 0]   ## comp 2\n",
    "    #comp_distr = [1, 1, 0, 1, 1, 0, 0]    ## comp 3\n",
    "    #print(comp_distr)\n",
    "    \n",
    "    # get glycan\n",
    "    for i in range(num_enzymes): #since, len(comp_distr) = num_enzymes\n",
    "        if comp_distr[i]==1:\n",
    "            #print('')    #print(map[i])\n",
    "            \n",
    "            # check if the left element of the selected reaction is already present in the glycan chain\n",
    "            for k in range(1,cnt):  # this indicates values from 1 to cnt-1\n",
    "                #print(k)   #print(str(map[i][1])+'_'+str(k))\n",
    "                if (str(map[i][1])+'_'+str(k)) in mol:\n",
    "                    mol[(str(map[i][1])+'_'+str(k))] = (mol[(str(map[i][1])+'_'+str(k))] + ', '+ str(map[i][2]) + '_' + str(k+1))  \n",
    "                    #mol[(str(map[i][2])+'_'+str(k+1))] = ''\n",
    "                    if(str(map[i][2])+'_'+str(k+1)) in mol:\n",
    "                        mol[str(map[i][2])+'_'+str(k+1)] = mol[str(map[i][2])+'_'+str(k+1)]\n",
    "                    else:\n",
    "                        mol[(str(map[i][2])+'_'+str(k+1))] = ''\n",
    "                    cnt = cnt+1\n",
    "                \n",
    "    return (mol,cnt)\n"
   ]
  },
  {
   "cell_type": "code",
   "execution_count": null,
   "metadata": {
    "collapsed": true
   },
   "outputs": [],
   "source": [
    "#######################################  compartment 1  #########################################################"
   ]
  },
  {
   "cell_type": "code",
   "execution_count": 5,
   "metadata": {
    "collapsed": false
   },
   "outputs": [],
   "source": [
    "#import random\n",
    "#comp_distr = random.choice(lst)\n",
    "comp_distr = [0, 0, 1, 0, 0, 1, 1]\n",
    "\n",
    "mol,Cnt = get_gly(2,comp_distr,mol)     # 2,num_enzymes,map"
   ]
  },
  {
   "cell_type": "code",
   "execution_count": 6,
   "metadata": {
    "collapsed": false
   },
   "outputs": [
    {
     "name": "stdout",
     "output_type": "stream",
     "text": [
      "5_2->\n",
      "1_1->, 5_2\n"
     ]
    }
   ],
   "source": [
    "for key in mol:\n",
    "    print(key + '->' + mol[key])"
   ]
  },
  {
   "cell_type": "code",
   "execution_count": 7,
   "metadata": {
    "collapsed": false
   },
   "outputs": [],
   "source": [
    "################# compartment 2 #####################\n",
    "#comp_distr = random.choice(lst)\n",
    "comp_distr = [1, 1, 0, 0, 0, 1, 0] \n",
    "\n",
    "mol,Cnt = get_gly(Cnt,comp_distr,mol)"
   ]
  },
  {
   "cell_type": "code",
   "execution_count": 8,
   "metadata": {
    "collapsed": false
   },
   "outputs": [
    {
     "name": "stdout",
     "output_type": "stream",
     "text": [
      "4_2->, 2_3\n",
      "5_2->\n",
      "2_2->\n",
      "2_3->\n",
      "1_1->, 5_2, 2_2, 4_2\n"
     ]
    }
   ],
   "source": [
    "for key in mol:\n",
    "    print(key + '->' + mol[key])"
   ]
  },
  {
   "cell_type": "code",
   "execution_count": 9,
   "metadata": {
    "collapsed": false
   },
   "outputs": [],
   "source": [
    "################# compartment 3 #####################\n",
    "#comp_distr = random.choice(lst)\n",
    "comp_distr = [1, 1, 0, 1, 1, 0, 0]\n",
    "\n",
    "mol,Cnt = get_gly(Cnt,comp_distr,mol)"
   ]
  },
  {
   "cell_type": "code",
   "execution_count": 10,
   "metadata": {
    "collapsed": false
   },
   "outputs": [
    {
     "name": "stdout",
     "output_type": "stream",
     "text": [
      "3_3->\n",
      "3_4->\n",
      "2_2->, 3_3, 4_3\n",
      "2_3->, 3_4, 4_4\n",
      "5_2->\n",
      "1_1->, 5_2, 2_2, 4_2, 2_2, 4_2\n",
      "4_2->, 2_3\n",
      "4_3->\n",
      "4_4->\n"
     ]
    }
   ],
   "source": [
    "for key in mol:\n",
    "    print(key + '->' + mol[key])"
   ]
  },
  {
   "cell_type": "code",
   "execution_count": null,
   "metadata": {
    "collapsed": true
   },
   "outputs": [],
   "source": [
    "##############################################################################################\n",
    "## generate the product profile at the end\n",
    "# STEPS: \n",
    "# clean-up : remove keys with no value assigned\n",
    "# consider sub-graphs which include only the key 1_1 (root node), but not those with contain only 2_2 or 2_3\n",
    "#                                    (since these cant start assembly)\n",
    "# consider all valid combinations\n",
    "\n",
    "\n",
    "# or, generate the tree using this link : https://www.geeksforgeeks.org/generate-graph-using-dictionary-python/\n",
    "# so that clean-up is not required"
   ]
  },
  {
   "cell_type": "code",
   "execution_count": 11,
   "metadata": {
    "collapsed": false
   },
   "outputs": [
    {
     "name": "stdout",
     "output_type": "stream",
     "text": [
      "4_2->, 2_3\n",
      "2_2->, 3_3, 4_3\n",
      "2_3->, 3_4, 4_4\n",
      "1_1->, 5_2, 2_2, 4_2, 2_2, 4_2\n"
     ]
    }
   ],
   "source": [
    "# clean-up : remove keys with no value assigned\n",
    "clean_mol = dict([(vkey, vdata) for vkey, vdata in mol.iteritems() if(str(vdata).strip()) ])\n",
    "\n",
    "for key in clean_mol:\n",
    "    print(key + '->' + clean_mol[key])"
   ]
  },
  {
   "cell_type": "code",
   "execution_count": 12,
   "metadata": {
    "collapsed": false
   },
   "outputs": [
    {
     "name": "stdout",
     "output_type": "stream",
     "text": [
      "4_2-> 2_3\n",
      "2_2-> 4_3 3_3\n",
      "2_3-> 3_4 4_4\n",
      "1_1-> 4_2 5_2 2_2\n"
     ]
    }
   ],
   "source": [
    "# clean-up : remove ', ' at the beginning, split by ', ', & then remove repetitions in the values\n",
    "for key in clean_mol:\n",
    "    clean_mol[key] =  ' '.join(list(set(clean_mol[key][2:].split(', ')))) # list(set(mol['1_1'][2:].split(', ')))\n",
    "\n",
    "for key in clean_mol:\n",
    "    print(key + '-> ' + clean_mol[key])"
   ]
  },
  {
   "cell_type": "code",
   "execution_count": null,
   "metadata": {
    "collapsed": true
   },
   "outputs": [],
   "source": [
    "# print valid sub-graphs starting from root note 1_1"
   ]
  }
 ],
 "metadata": {
  "anaconda-cloud": {},
  "kernelspec": {
   "display_name": "Python [default]",
   "language": "python",
   "name": "python2"
  },
  "language_info": {
   "codemirror_mode": {
    "name": "ipython",
    "version": 2
   },
   "file_extension": ".py",
   "mimetype": "text/x-python",
   "name": "python",
   "nbconvert_exporter": "python",
   "pygments_lexer": "ipython2",
   "version": "2.7.12"
  }
 },
 "nbformat": 4,
 "nbformat_minor": 1
}
